{
 "cells": [
  {
   "cell_type": "code",
   "execution_count": 1,
   "metadata": {},
   "outputs": [
    {
     "data": {
      "text/plain": [
       "1"
      ]
     },
     "execution_count": 1,
     "metadata": {},
     "output_type": "execute_result"
    }
   ],
   "source": [
    "import os, sys\n",
    "from os.path import dirname\n",
    "import random\n",
    "import pandas as pd\n",
    "import numpy as np\n",
    "import matplotlib.pyplot as plt\n",
    "from unittest.mock import MagicMock, patch\n",
    "from performance_data.data_table import PhaseData, DataTable\n",
    "from performance_data.data_model import PhaseGenerator, AbstractModel\n",
    "from sklearn.neural_network import MLPRegressor\n",
    "from sklearn.linear_model import LinearRegression, Ridge, Lasso, ElasticNet\n",
    "from sklearn.tree import DecisionTreeRegressor\n",
    "from sklearn.ensemble import RandomForestRegressor, GradientBoostingRegressor\n",
    "from sklearn.svm import SVR\n",
    "import loguru\n",
    "loguru.logger.remove()\n",
    "loguru.logger.add(sys.stderr, level=\"INFO\")"
   ]
  },
  {
   "cell_type": "code",
   "execution_count": 2,
   "metadata": {},
   "outputs": [
    {
     "name": "stderr",
     "output_type": "stream",
     "text": [
      "2023-03-09 16:28:56.872 | INFO     | performance_data.data_model:_prepare_data:194 - Preparing data...\n",
      "2023-03-09 16:28:56.874 | INFO     | performance_data.data_model:_prepare_input_data:148 - Preparing input data...\n",
      "2023-03-09 16:28:56.905 | INFO     | performance_data.data_model:__init__:132 - Loading model from /home_nfs/mimounis/iosea-wp3-recommandation-system/performance_data/defaults/models/reg_model_lfs_bw.joblib\n",
      "2023-03-09 16:28:56.908 | INFO     | performance_data.data_model:_prepare_data:194 - Preparing data...\n",
      "2023-03-09 16:28:56.909 | INFO     | performance_data.data_model:_prepare_input_data:148 - Preparing input data...\n",
      "2023-03-09 16:28:56.932 | INFO     | performance_data.data_model:__init__:135 - Creating a new model: reg_model_fs1_bw.joblib\n",
      "2023-03-09 16:28:56.933 | INFO     | performance_data.data_model:train_model:217 - Training model...\n",
      "2023-03-09 16:28:56.942 | INFO     | performance_data.data_model:train_model:220 - Model score for tier lfs_bw: 0.43873009101901217\n",
      "2023-03-09 16:28:56.942 | INFO     | performance_data.data_model:train_model:217 - Training model...\n",
      "/home_nfs/mimounis/anaconda3/envs/py38/lib/python3.8/site-packages/sklearn/neural_network/_multilayer_perceptron.py:702: ConvergenceWarning: Stochastic Optimizer: Maximum iterations (200) reached and the optimization hasn't converged yet.\n",
      "  warnings.warn(\n",
      "2023-03-09 16:28:58.077 | INFO     | performance_data.data_model:train_model:220 - Model score for tier fs1_bw: -0.13473350910765802\n",
      "2023-03-09 16:28:58.092 | INFO     | performance_data.data_model:_prepare_data:194 - Preparing data...\n",
      "2023-03-09 16:28:58.094 | INFO     | performance_data.data_model:_prepare_input_data:148 - Preparing input data...\n",
      "2023-03-09 16:28:58.141 | INFO     | performance_data.data_model:__init__:132 - Loading model from /home_nfs/mimounis/iosea-wp3-recommandation-system/performance_data/defaults/models/reg_model_lfs_bw.joblib\n",
      "2023-03-09 16:28:58.145 | INFO     | performance_data.data_model:_prepare_data:194 - Preparing data...\n",
      "2023-03-09 16:28:58.147 | INFO     | performance_data.data_model:_prepare_input_data:148 - Preparing input data...\n",
      "2023-03-09 16:28:58.187 | INFO     | performance_data.data_model:__init__:135 - Creating a new model: reg_model_fs1_bw.joblib\n",
      "2023-03-09 16:28:58.188 | INFO     | performance_data.data_model:train_model:217 - Training model...\n",
      "2023-03-09 16:28:58.195 | INFO     | performance_data.data_model:train_model:220 - Model score for tier lfs_bw: 0.44098043929898356\n",
      "2023-03-09 16:28:58.196 | INFO     | performance_data.data_model:train_model:217 - Training model...\n",
      "2023-03-09 16:28:58.203 | INFO     | performance_data.data_model:train_model:220 - Model score for tier fs1_bw: 0.06401046929234366\n",
      "2023-03-09 16:28:58.207 | INFO     | performance_data.data_model:_prepare_data:194 - Preparing data...\n",
      "2023-03-09 16:28:58.208 | INFO     | performance_data.data_model:_prepare_input_data:148 - Preparing input data...\n",
      "2023-03-09 16:28:58.229 | INFO     | performance_data.data_model:__init__:132 - Loading model from /home_nfs/mimounis/iosea-wp3-recommandation-system/performance_data/defaults/models/reg_model_lfs_bw.joblib\n",
      "2023-03-09 16:28:58.231 | INFO     | performance_data.data_model:_prepare_data:194 - Preparing data...\n",
      "2023-03-09 16:28:58.232 | INFO     | performance_data.data_model:_prepare_input_data:148 - Preparing input data...\n",
      "2023-03-09 16:28:58.253 | INFO     | performance_data.data_model:__init__:135 - Creating a new model: reg_model_fs1_bw.joblib\n",
      "2023-03-09 16:28:58.254 | INFO     | performance_data.data_model:train_model:217 - Training model...\n",
      "2023-03-09 16:28:58.261 | INFO     | performance_data.data_model:train_model:220 - Model score for tier lfs_bw: 0.4477206337525369\n",
      "2023-03-09 16:28:58.261 | INFO     | performance_data.data_model:train_model:217 - Training model...\n",
      "2023-03-09 16:28:58.267 | INFO     | performance_data.data_model:train_model:220 - Model score for tier fs1_bw: 0.06364043340136705\n",
      "2023-03-09 16:28:58.272 | INFO     | performance_data.data_model:_prepare_data:194 - Preparing data...\n",
      "2023-03-09 16:28:58.272 | INFO     | performance_data.data_model:_prepare_input_data:148 - Preparing input data...\n",
      "2023-03-09 16:28:58.293 | INFO     | performance_data.data_model:__init__:132 - Loading model from /home_nfs/mimounis/iosea-wp3-recommandation-system/performance_data/defaults/models/reg_model_lfs_bw.joblib\n",
      "2023-03-09 16:28:58.296 | INFO     | performance_data.data_model:_prepare_data:194 - Preparing data...\n",
      "2023-03-09 16:28:58.296 | INFO     | performance_data.data_model:_prepare_input_data:148 - Preparing input data...\n",
      "2023-03-09 16:28:58.318 | INFO     | performance_data.data_model:__init__:135 - Creating a new model: reg_model_fs1_bw.joblib\n",
      "2023-03-09 16:28:58.319 | INFO     | performance_data.data_model:train_model:217 - Training model...\n",
      "2023-03-09 16:28:58.326 | INFO     | performance_data.data_model:train_model:220 - Model score for tier lfs_bw: 0.45354535029846244\n",
      "2023-03-09 16:28:58.326 | INFO     | performance_data.data_model:train_model:217 - Training model...\n",
      "2023-03-09 16:28:58.332 | INFO     | performance_data.data_model:train_model:220 - Model score for tier fs1_bw: 0.06367886388756105\n",
      "2023-03-09 16:28:58.337 | INFO     | performance_data.data_model:_prepare_data:194 - Preparing data...\n",
      "2023-03-09 16:28:58.337 | INFO     | performance_data.data_model:_prepare_input_data:148 - Preparing input data...\n",
      "2023-03-09 16:28:58.359 | INFO     | performance_data.data_model:__init__:132 - Loading model from /home_nfs/mimounis/iosea-wp3-recommandation-system/performance_data/defaults/models/reg_model_lfs_bw.joblib\n",
      "2023-03-09 16:28:58.361 | INFO     | performance_data.data_model:_prepare_data:194 - Preparing data...\n",
      "2023-03-09 16:28:58.361 | INFO     | performance_data.data_model:_prepare_input_data:148 - Preparing input data...\n",
      "2023-03-09 16:28:58.383 | INFO     | performance_data.data_model:__init__:135 - Creating a new model: reg_model_fs1_bw.joblib\n",
      "2023-03-09 16:28:58.384 | INFO     | performance_data.data_model:train_model:217 - Training model...\n",
      "2023-03-09 16:28:58.392 | INFO     | performance_data.data_model:train_model:220 - Model score for tier lfs_bw: 0.4419517896709947\n",
      "2023-03-09 16:28:58.392 | INFO     | performance_data.data_model:train_model:217 - Training model...\n",
      "2023-03-09 16:28:58.398 | INFO     | performance_data.data_model:train_model:220 - Model score for tier fs1_bw: 0.028357709948853116\n",
      "2023-03-09 16:28:58.403 | INFO     | performance_data.data_model:_prepare_data:194 - Preparing data...\n",
      "2023-03-09 16:28:58.404 | INFO     | performance_data.data_model:_prepare_input_data:148 - Preparing input data...\n",
      "2023-03-09 16:28:58.426 | INFO     | performance_data.data_model:__init__:132 - Loading model from /home_nfs/mimounis/iosea-wp3-recommandation-system/performance_data/defaults/models/reg_model_lfs_bw.joblib\n",
      "2023-03-09 16:28:58.428 | INFO     | performance_data.data_model:_prepare_data:194 - Preparing data...\n",
      "2023-03-09 16:28:58.429 | INFO     | performance_data.data_model:_prepare_input_data:148 - Preparing input data...\n",
      "2023-03-09 16:28:58.450 | INFO     | performance_data.data_model:__init__:135 - Creating a new model: reg_model_fs1_bw.joblib\n",
      "2023-03-09 16:28:58.451 | INFO     | performance_data.data_model:train_model:217 - Training model...\n",
      "2023-03-09 16:28:58.458 | INFO     | performance_data.data_model:train_model:220 - Model score for tier lfs_bw: 0.4556050390139216\n",
      "2023-03-09 16:28:58.459 | INFO     | performance_data.data_model:train_model:217 - Training model...\n",
      "2023-03-09 16:28:58.467 | INFO     | performance_data.data_model:train_model:220 - Model score for tier fs1_bw: 0.9305085903600463\n",
      "2023-03-09 16:28:58.472 | INFO     | performance_data.data_model:train_model:226 - Saving Model for fs1_bw: /home_nfs/mimounis/iosea-wp3-recommandation-system/performance_data/defaults/models/reg_model_fs1_bw.joblib | saved with score: 0.9305085903600463\n",
      "2023-03-09 16:28:58.476 | INFO     | performance_data.data_model:_prepare_data:194 - Preparing data...\n",
      "2023-03-09 16:28:58.477 | INFO     | performance_data.data_model:_prepare_input_data:148 - Preparing input data...\n",
      "2023-03-09 16:28:58.499 | INFO     | performance_data.data_model:__init__:132 - Loading model from /home_nfs/mimounis/iosea-wp3-recommandation-system/performance_data/defaults/models/reg_model_lfs_bw.joblib\n",
      "2023-03-09 16:28:58.501 | INFO     | performance_data.data_model:_prepare_data:194 - Preparing data...\n",
      "2023-03-09 16:28:58.502 | INFO     | performance_data.data_model:_prepare_input_data:148 - Preparing input data...\n",
      "2023-03-09 16:28:58.523 | INFO     | performance_data.data_model:__init__:132 - Loading model from /home_nfs/mimounis/iosea-wp3-recommandation-system/performance_data/defaults/models/reg_model_fs1_bw.joblib\n",
      "2023-03-09 16:28:58.526 | INFO     | performance_data.data_model:train_model:217 - Training model...\n",
      "2023-03-09 16:28:58.533 | INFO     | performance_data.data_model:train_model:220 - Model score for tier lfs_bw: 0.4430705722725332\n",
      "2023-03-09 16:28:58.534 | INFO     | performance_data.data_model:train_model:217 - Training model...\n",
      "2023-03-09 16:28:58.541 | INFO     | performance_data.data_model:train_model:220 - Model score for tier fs1_bw: 0.9309683317861033\n",
      "2023-03-09 16:28:58.547 | INFO     | performance_data.data_model:train_model:226 - Saving Model for fs1_bw: /home_nfs/mimounis/iosea-wp3-recommandation-system/performance_data/defaults/models/reg_model_fs1_bw.joblib | saved with score: 0.9309683317861033\n",
      "2023-03-09 16:28:58.551 | INFO     | performance_data.data_model:_prepare_data:194 - Preparing data...\n",
      "2023-03-09 16:28:58.552 | INFO     | performance_data.data_model:_prepare_input_data:148 - Preparing input data...\n",
      "2023-03-09 16:28:58.574 | INFO     | performance_data.data_model:__init__:132 - Loading model from /home_nfs/mimounis/iosea-wp3-recommandation-system/performance_data/defaults/models/reg_model_lfs_bw.joblib\n",
      "2023-03-09 16:28:58.577 | INFO     | performance_data.data_model:_prepare_data:194 - Preparing data...\n",
      "2023-03-09 16:28:58.578 | INFO     | performance_data.data_model:_prepare_input_data:148 - Preparing input data...\n",
      "2023-03-09 16:28:58.600 | INFO     | performance_data.data_model:__init__:132 - Loading model from /home_nfs/mimounis/iosea-wp3-recommandation-system/performance_data/defaults/models/reg_model_fs1_bw.joblib\n",
      "2023-03-09 16:28:58.604 | INFO     | performance_data.data_model:train_model:217 - Training model...\n",
      "2023-03-09 16:28:58.611 | INFO     | performance_data.data_model:train_model:220 - Model score for tier lfs_bw: 0.7335455716061406\n",
      "2023-03-09 16:28:58.616 | INFO     | performance_data.data_model:train_model:226 - Saving Model for lfs_bw: /home_nfs/mimounis/iosea-wp3-recommandation-system/performance_data/defaults/models/reg_model_lfs_bw.joblib | saved with score: 0.7335455716061406\n",
      "2023-03-09 16:28:58.617 | INFO     | performance_data.data_model:train_model:217 - Training model...\n",
      "2023-03-09 16:28:58.624 | INFO     | performance_data.data_model:train_model:220 - Model score for tier fs1_bw: 0.9322451251844981\n",
      "2023-03-09 16:28:58.629 | INFO     | performance_data.data_model:train_model:226 - Saving Model for fs1_bw: /home_nfs/mimounis/iosea-wp3-recommandation-system/performance_data/defaults/models/reg_model_fs1_bw.joblib | saved with score: 0.9322451251844981\n",
      "2023-03-09 16:28:58.634 | INFO     | performance_data.data_model:_prepare_data:194 - Preparing data...\n",
      "2023-03-09 16:28:58.634 | INFO     | performance_data.data_model:_prepare_input_data:148 - Preparing input data...\n",
      "2023-03-09 16:28:58.658 | INFO     | performance_data.data_model:__init__:132 - Loading model from /home_nfs/mimounis/iosea-wp3-recommandation-system/performance_data/defaults/models/reg_model_lfs_bw.joblib\n",
      "2023-03-09 16:28:58.662 | INFO     | performance_data.data_model:_prepare_data:194 - Preparing data...\n",
      "2023-03-09 16:28:58.663 | INFO     | performance_data.data_model:_prepare_input_data:148 - Preparing input data...\n",
      "2023-03-09 16:28:58.685 | INFO     | performance_data.data_model:__init__:132 - Loading model from /home_nfs/mimounis/iosea-wp3-recommandation-system/performance_data/defaults/models/reg_model_fs1_bw.joblib\n",
      "2023-03-09 16:28:58.689 | INFO     | performance_data.data_model:train_model:217 - Training model...\n",
      "2023-03-09 16:28:58.696 | INFO     | performance_data.data_model:train_model:220 - Model score for tier lfs_bw: 0.44779523061121385\n",
      "2023-03-09 16:28:58.697 | INFO     | performance_data.data_model:train_model:217 - Training model...\n",
      "2023-03-09 16:28:58.704 | INFO     | performance_data.data_model:train_model:220 - Model score for tier fs1_bw: 0.9327138446782106\n",
      "2023-03-09 16:28:58.710 | INFO     | performance_data.data_model:train_model:226 - Saving Model for fs1_bw: /home_nfs/mimounis/iosea-wp3-recommandation-system/performance_data/defaults/models/reg_model_fs1_bw.joblib | saved with score: 0.9327138446782106\n"
     ]
    }
   ],
   "source": [
    "models = [MLPRegressor, LinearRegression, Ridge, Lasso, ElasticNet, \n",
    "          DecisionTreeRegressor, RandomForestRegressor, GradientBoostingRegressor, SVR]\n",
    "\n",
    "for model_type in models:\n",
    "    class RegModel(AbstractModel):\n",
    "        def _create_model(self):\n",
    "            return model_type()\n",
    "    \n",
    "    model = RegModel()\n",
    "    model.train_model()\n",
    "\n",
    "# print(model.model)\n",
    "# for tier in model.target_tiers:\n",
    "#     score = model.model[tier].evaluate_model()\n",
    "#     print(f\"Model {model.model[tier].__name__} score: {score}\")"
   ]
  },
  {
   "cell_type": "code",
   "execution_count": 12,
   "metadata": {},
   "outputs": [
    {
     "name": "stderr",
     "output_type": "stream",
     "text": [
      "2023-03-09 11:14:41.935 | INFO     | performance_data.data_model:_prepare_data:194 - Preparing data...\n",
      "2023-03-09 11:14:41.936 | INFO     | performance_data.data_model:_prepare_input_data:148 - Preparing input data...\n",
      "2023-03-09 11:14:41.958 | INFO     | performance_data.data_model:__init__:132 - Loading model from /home_nfs/mimounis/iosea-wp3-recommandation-system/performance_data/defaults/models/reg_model_lfs_bw.joblib\n",
      "2023-03-09 11:14:41.961 | INFO     | performance_data.data_model:_prepare_data:194 - Preparing data...\n",
      "2023-03-09 11:14:41.962 | INFO     | performance_data.data_model:_prepare_input_data:148 - Preparing input data...\n",
      "2023-03-09 11:14:41.983 | INFO     | performance_data.data_model:__init__:135 - Creating a new model: reg_model_nfs_bw.joblib\n",
      "2023-03-09 11:14:41.984 | INFO     | performance_data.data_model:train_model:217 - Training model...\n",
      "2023-03-09 11:14:41.989 | INFO     | performance_data.data_model:train_model:220 - Model score for tier lfs_bw: 0.8808413231483786\n",
      "2023-03-09 11:14:41.994 | INFO     | performance_data.data_model:train_model:226 - Saving Model for lfs_bw: /home_nfs/mimounis/iosea-wp3-recommandation-system/performance_data/defaults/models/reg_model_lfs_bw.joblib | saved with score: 0.8808413231483786\n",
      "2023-03-09 11:14:41.995 | INFO     | performance_data.data_model:train_model:217 - Training model...\n"
     ]
    },
    {
     "name": "stdout",
     "output_type": "stream",
     "text": [
      "=======Training and evaluating : MLPRegressor========\n"
     ]
    },
    {
     "name": "stderr",
     "output_type": "stream",
     "text": [
      "/home_nfs/mimounis/anaconda3/envs/py38/lib/python3.8/site-packages/sklearn/neural_network/_multilayer_perceptron.py:702: ConvergenceWarning: Stochastic Optimizer: Maximum iterations (200) reached and the optimization hasn't converged yet.\n",
      "  warnings.warn(\n",
      "2023-03-09 11:14:42.318 | INFO     | performance_data.data_model:train_model:220 - Model score for tier nfs_bw: -0.17494463635671953\n",
      "2023-03-09 11:14:42.323 | INFO     | performance_data.data_model:evaluate_model:237 - Model: reg_model_lfs_bw.joblib | Score on test data: 0.8808413231483786\n",
      "2023-03-09 11:14:42.328 | INFO     | performance_data.data_model:evaluate_model:237 - Model: reg_model_nfs_bw.joblib | Score on test data: -0.17494463635671953\n",
      "2023-03-09 11:14:42.337 | INFO     | performance_data.data_model:_prepare_data:194 - Preparing data...\n",
      "2023-03-09 11:14:42.338 | INFO     | performance_data.data_model:_prepare_input_data:148 - Preparing input data...\n",
      "2023-03-09 11:14:42.377 | INFO     | performance_data.data_model:__init__:132 - Loading model from /home_nfs/mimounis/iosea-wp3-recommandation-system/performance_data/defaults/models/reg_model_lfs_bw.joblib\n",
      "2023-03-09 11:14:42.382 | INFO     | performance_data.data_model:_prepare_data:194 - Preparing data...\n",
      "2023-03-09 11:14:42.383 | INFO     | performance_data.data_model:_prepare_input_data:148 - Preparing input data...\n",
      "2023-03-09 11:14:42.421 | INFO     | performance_data.data_model:__init__:135 - Creating a new model: reg_model_nfs_bw.joblib\n",
      "2023-03-09 11:14:42.423 | INFO     | performance_data.data_model:train_model:217 - Training model...\n",
      "2023-03-09 11:14:42.429 | INFO     | performance_data.data_model:train_model:220 - Model score for tier lfs_bw: 0.869317539834756\n",
      "2023-03-09 11:14:42.434 | INFO     | performance_data.data_model:train_model:226 - Saving Model for lfs_bw: /home_nfs/mimounis/iosea-wp3-recommandation-system/performance_data/defaults/models/reg_model_lfs_bw.joblib | saved with score: 0.869317539834756\n",
      "2023-03-09 11:14:42.435 | INFO     | performance_data.data_model:train_model:217 - Training model...\n",
      "2023-03-09 11:14:42.441 | INFO     | performance_data.data_model:train_model:220 - Model score for tier nfs_bw: -0.6553073153875555\n",
      "2023-03-09 11:14:42.443 | INFO     | performance_data.data_model:evaluate_model:237 - Model: reg_model_lfs_bw.joblib | Score on test data: 0.869317539834756\n",
      "2023-03-09 11:14:42.446 | INFO     | performance_data.data_model:evaluate_model:237 - Model: reg_model_nfs_bw.joblib | Score on test data: -0.6553073153875555\n",
      "2023-03-09 11:14:42.450 | INFO     | performance_data.data_model:_prepare_data:194 - Preparing data...\n",
      "2023-03-09 11:14:42.451 | INFO     | performance_data.data_model:_prepare_input_data:148 - Preparing input data...\n",
      "2023-03-09 11:14:42.470 | INFO     | performance_data.data_model:__init__:132 - Loading model from /home_nfs/mimounis/iosea-wp3-recommandation-system/performance_data/defaults/models/reg_model_lfs_bw.joblib\n",
      "2023-03-09 11:14:42.474 | INFO     | performance_data.data_model:_prepare_data:194 - Preparing data...\n",
      "2023-03-09 11:14:42.474 | INFO     | performance_data.data_model:_prepare_input_data:148 - Preparing input data...\n",
      "2023-03-09 11:14:42.494 | INFO     | performance_data.data_model:__init__:135 - Creating a new model: reg_model_nfs_bw.joblib\n",
      "2023-03-09 11:14:42.495 | INFO     | performance_data.data_model:train_model:217 - Training model...\n",
      "2023-03-09 11:14:42.500 | INFO     | performance_data.data_model:train_model:220 - Model score for tier lfs_bw: 0.9658434968476098\n",
      "2023-03-09 11:14:42.505 | INFO     | performance_data.data_model:train_model:226 - Saving Model for lfs_bw: /home_nfs/mimounis/iosea-wp3-recommandation-system/performance_data/defaults/models/reg_model_lfs_bw.joblib | saved with score: 0.9658434968476098\n",
      "2023-03-09 11:14:42.506 | INFO     | performance_data.data_model:train_model:217 - Training model...\n",
      "2023-03-09 11:14:42.511 | INFO     | performance_data.data_model:train_model:220 - Model score for tier nfs_bw: -0.6514049647808045\n",
      "2023-03-09 11:14:42.514 | INFO     | performance_data.data_model:evaluate_model:237 - Model: reg_model_lfs_bw.joblib | Score on test data: 0.9658434968476098\n",
      "2023-03-09 11:14:42.517 | INFO     | performance_data.data_model:evaluate_model:237 - Model: reg_model_nfs_bw.joblib | Score on test data: -0.6514049647808045\n",
      "2023-03-09 11:14:42.521 | INFO     | performance_data.data_model:_prepare_data:194 - Preparing data...\n",
      "2023-03-09 11:14:42.522 | INFO     | performance_data.data_model:_prepare_input_data:148 - Preparing input data...\n"
     ]
    },
    {
     "name": "stdout",
     "output_type": "stream",
     "text": [
      "{'lfs_bw': {'model_name': 'reg_model_lfs_bw.joblib', 'model_path': '/home_nfs/mimounis/iosea-wp3-recommandation-system/performance_data/defaults/models/reg_model_lfs_bw.joblib', 'model': DecisionTreeRegressor(), 'score': 0.8808413231483786}, 'nfs_bw': {'model_name': 'reg_model_nfs_bw.joblib', 'model_path': '/home_nfs/mimounis/iosea-wp3-recommandation-system/performance_data/defaults/models/reg_model_nfs_bw.joblib', 'model': MLPRegressor(), 'score': -0.17494463635671953}}\n",
      "Model: reg_model_lfs_bw.joblib | score: 0.8808413231483786\n",
      "Model: reg_model_nfs_bw.joblib | score: -0.17494463635671953\n",
      "=======Training and evaluating : LinearRegression========\n",
      "{'lfs_bw': {'model_name': 'reg_model_lfs_bw.joblib', 'model_path': '/home_nfs/mimounis/iosea-wp3-recommandation-system/performance_data/defaults/models/reg_model_lfs_bw.joblib', 'model': DecisionTreeRegressor(), 'score': 0.869317539834756}, 'nfs_bw': {'model_name': 'reg_model_nfs_bw.joblib', 'model_path': '/home_nfs/mimounis/iosea-wp3-recommandation-system/performance_data/defaults/models/reg_model_nfs_bw.joblib', 'model': LinearRegression(), 'score': -0.6553073153875555}}\n",
      "Model: reg_model_lfs_bw.joblib | score: 0.869317539834756\n",
      "Model: reg_model_nfs_bw.joblib | score: -0.6553073153875555\n",
      "=======Training and evaluating : Ridge========\n",
      "{'lfs_bw': {'model_name': 'reg_model_lfs_bw.joblib', 'model_path': '/home_nfs/mimounis/iosea-wp3-recommandation-system/performance_data/defaults/models/reg_model_lfs_bw.joblib', 'model': DecisionTreeRegressor(), 'score': 0.9658434968476098}, 'nfs_bw': {'model_name': 'reg_model_nfs_bw.joblib', 'model_path': '/home_nfs/mimounis/iosea-wp3-recommandation-system/performance_data/defaults/models/reg_model_nfs_bw.joblib', 'model': Ridge(), 'score': -0.6514049647808045}}\n",
      "Model: reg_model_lfs_bw.joblib | score: 0.9658434968476098\n",
      "Model: reg_model_nfs_bw.joblib | score: -0.6514049647808045\n",
      "=======Training and evaluating : Lasso========\n"
     ]
    },
    {
     "name": "stderr",
     "output_type": "stream",
     "text": [
      "2023-03-09 11:14:42.543 | INFO     | performance_data.data_model:__init__:132 - Loading model from /home_nfs/mimounis/iosea-wp3-recommandation-system/performance_data/defaults/models/reg_model_lfs_bw.joblib\n",
      "2023-03-09 11:14:42.547 | INFO     | performance_data.data_model:_prepare_data:194 - Preparing data...\n",
      "2023-03-09 11:14:42.548 | INFO     | performance_data.data_model:_prepare_input_data:148 - Preparing input data...\n",
      "2023-03-09 11:14:42.568 | INFO     | performance_data.data_model:__init__:135 - Creating a new model: reg_model_nfs_bw.joblib\n",
      "2023-03-09 11:14:42.569 | INFO     | performance_data.data_model:train_model:217 - Training model...\n",
      "2023-03-09 11:14:42.575 | INFO     | performance_data.data_model:train_model:220 - Model score for tier lfs_bw: 0.9754050314529593\n",
      "2023-03-09 11:14:42.580 | INFO     | performance_data.data_model:train_model:226 - Saving Model for lfs_bw: /home_nfs/mimounis/iosea-wp3-recommandation-system/performance_data/defaults/models/reg_model_lfs_bw.joblib | saved with score: 0.9754050314529593\n",
      "2023-03-09 11:14:42.581 | INFO     | performance_data.data_model:train_model:217 - Training model...\n",
      "/home_nfs/mimounis/anaconda3/envs/py38/lib/python3.8/site-packages/sklearn/linear_model/_coordinate_descent.py:648: ConvergenceWarning: Objective did not converge. You might want to increase the number of iterations, check the scale of the features or consider increasing regularisation. Duality gap: 5.610e+21, tolerance: 7.823e+18\n",
      "  model = cd_fast.enet_coordinate_descent(\n",
      "2023-03-09 11:14:42.589 | INFO     | performance_data.data_model:train_model:220 - Model score for tier nfs_bw: -0.7069117786638976\n",
      "2023-03-09 11:14:42.592 | INFO     | performance_data.data_model:evaluate_model:237 - Model: reg_model_lfs_bw.joblib | Score on test data: 0.9754050314529593\n",
      "2023-03-09 11:14:42.594 | INFO     | performance_data.data_model:evaluate_model:237 - Model: reg_model_nfs_bw.joblib | Score on test data: -0.7069117786638976\n",
      "2023-03-09 11:14:42.599 | INFO     | performance_data.data_model:_prepare_data:194 - Preparing data...\n",
      "2023-03-09 11:14:42.600 | INFO     | performance_data.data_model:_prepare_input_data:148 - Preparing input data...\n",
      "2023-03-09 11:14:42.620 | INFO     | performance_data.data_model:__init__:132 - Loading model from /home_nfs/mimounis/iosea-wp3-recommandation-system/performance_data/defaults/models/reg_model_lfs_bw.joblib\n",
      "2023-03-09 11:14:42.623 | INFO     | performance_data.data_model:_prepare_data:194 - Preparing data...\n",
      "2023-03-09 11:14:42.624 | INFO     | performance_data.data_model:_prepare_input_data:148 - Preparing input data...\n",
      "2023-03-09 11:14:42.644 | INFO     | performance_data.data_model:__init__:135 - Creating a new model: reg_model_nfs_bw.joblib\n",
      "2023-03-09 11:14:42.644 | INFO     | performance_data.data_model:train_model:217 - Training model...\n",
      "2023-03-09 11:14:42.650 | INFO     | performance_data.data_model:train_model:220 - Model score for tier lfs_bw: 0.9526931990310227\n",
      "2023-03-09 11:14:42.655 | INFO     | performance_data.data_model:train_model:226 - Saving Model for lfs_bw: /home_nfs/mimounis/iosea-wp3-recommandation-system/performance_data/defaults/models/reg_model_lfs_bw.joblib | saved with score: 0.9526931990310227\n",
      "2023-03-09 11:14:42.656 | INFO     | performance_data.data_model:train_model:217 - Training model...\n",
      "2023-03-09 11:14:42.661 | INFO     | performance_data.data_model:train_model:220 - Model score for tier nfs_bw: -0.08819424994242264\n",
      "2023-03-09 11:14:42.663 | INFO     | performance_data.data_model:evaluate_model:237 - Model: reg_model_lfs_bw.joblib | Score on test data: 0.9526931990310227\n",
      "2023-03-09 11:14:42.666 | INFO     | performance_data.data_model:evaluate_model:237 - Model: reg_model_nfs_bw.joblib | Score on test data: -0.08819424994242264\n",
      "2023-03-09 11:14:42.671 | INFO     | performance_data.data_model:_prepare_data:194 - Preparing data...\n",
      "2023-03-09 11:14:42.671 | INFO     | performance_data.data_model:_prepare_input_data:148 - Preparing input data...\n",
      "2023-03-09 11:14:42.691 | INFO     | performance_data.data_model:__init__:132 - Loading model from /home_nfs/mimounis/iosea-wp3-recommandation-system/performance_data/defaults/models/reg_model_lfs_bw.joblib\n",
      "2023-03-09 11:14:42.694 | INFO     | performance_data.data_model:_prepare_data:194 - Preparing data...\n",
      "2023-03-09 11:14:42.695 | INFO     | performance_data.data_model:_prepare_input_data:148 - Preparing input data...\n",
      "2023-03-09 11:14:42.715 | INFO     | performance_data.data_model:__init__:135 - Creating a new model: reg_model_nfs_bw.joblib\n",
      "2023-03-09 11:14:42.716 | INFO     | performance_data.data_model:train_model:217 - Training model...\n",
      "2023-03-09 11:14:42.721 | INFO     | performance_data.data_model:train_model:220 - Model score for tier lfs_bw: 0.8807139460872\n",
      "2023-03-09 11:14:42.727 | INFO     | performance_data.data_model:train_model:226 - Saving Model for lfs_bw: /home_nfs/mimounis/iosea-wp3-recommandation-system/performance_data/defaults/models/reg_model_lfs_bw.joblib | saved with score: 0.8807139460872\n",
      "2023-03-09 11:14:42.728 | INFO     | performance_data.data_model:train_model:217 - Training model...\n",
      "2023-03-09 11:14:42.733 | INFO     | performance_data.data_model:train_model:220 - Model score for tier nfs_bw: -0.715201933753316\n",
      "2023-03-09 11:14:42.735 | INFO     | performance_data.data_model:evaluate_model:237 - Model: reg_model_lfs_bw.joblib | Score on test data: 0.8807139460872\n",
      "2023-03-09 11:14:42.738 | INFO     | performance_data.data_model:evaluate_model:237 - Model: reg_model_nfs_bw.joblib | Score on test data: -0.715201933753316\n",
      "2023-03-09 11:14:42.742 | INFO     | performance_data.data_model:_prepare_data:194 - Preparing data...\n",
      "2023-03-09 11:14:42.743 | INFO     | performance_data.data_model:_prepare_input_data:148 - Preparing input data...\n",
      "2023-03-09 11:14:42.762 | INFO     | performance_data.data_model:__init__:132 - Loading model from /home_nfs/mimounis/iosea-wp3-recommandation-system/performance_data/defaults/models/reg_model_lfs_bw.joblib\n",
      "2023-03-09 11:14:42.766 | INFO     | performance_data.data_model:_prepare_data:194 - Preparing data...\n",
      "2023-03-09 11:14:42.766 | INFO     | performance_data.data_model:_prepare_input_data:148 - Preparing input data...\n",
      "2023-03-09 11:14:42.786 | INFO     | performance_data.data_model:__init__:135 - Creating a new model: reg_model_nfs_bw.joblib\n",
      "2023-03-09 11:14:42.787 | INFO     | performance_data.data_model:train_model:217 - Training model...\n",
      "2023-03-09 11:14:42.792 | INFO     | performance_data.data_model:train_model:220 - Model score for tier lfs_bw: 0.9638928550195496\n"
     ]
    },
    {
     "name": "stdout",
     "output_type": "stream",
     "text": [
      "{'lfs_bw': {'model_name': 'reg_model_lfs_bw.joblib', 'model_path': '/home_nfs/mimounis/iosea-wp3-recommandation-system/performance_data/defaults/models/reg_model_lfs_bw.joblib', 'model': DecisionTreeRegressor(), 'score': 0.9754050314529593}, 'nfs_bw': {'model_name': 'reg_model_nfs_bw.joblib', 'model_path': '/home_nfs/mimounis/iosea-wp3-recommandation-system/performance_data/defaults/models/reg_model_nfs_bw.joblib', 'model': Lasso(), 'score': -0.7069117786638976}}\n",
      "Model: reg_model_lfs_bw.joblib | score: 0.9754050314529593\n",
      "Model: reg_model_nfs_bw.joblib | score: -0.7069117786638976\n",
      "=======Training and evaluating : ElasticNet========\n",
      "{'lfs_bw': {'model_name': 'reg_model_lfs_bw.joblib', 'model_path': '/home_nfs/mimounis/iosea-wp3-recommandation-system/performance_data/defaults/models/reg_model_lfs_bw.joblib', 'model': DecisionTreeRegressor(), 'score': 0.9526931990310227}, 'nfs_bw': {'model_name': 'reg_model_nfs_bw.joblib', 'model_path': '/home_nfs/mimounis/iosea-wp3-recommandation-system/performance_data/defaults/models/reg_model_nfs_bw.joblib', 'model': ElasticNet(), 'score': -0.08819424994242264}}\n",
      "Model: reg_model_lfs_bw.joblib | score: 0.9526931990310227\n",
      "Model: reg_model_nfs_bw.joblib | score: -0.08819424994242264\n",
      "=======Training and evaluating : DecisionTreeRegressor========\n",
      "{'lfs_bw': {'model_name': 'reg_model_lfs_bw.joblib', 'model_path': '/home_nfs/mimounis/iosea-wp3-recommandation-system/performance_data/defaults/models/reg_model_lfs_bw.joblib', 'model': DecisionTreeRegressor(), 'score': 0.8807139460872}, 'nfs_bw': {'model_name': 'reg_model_nfs_bw.joblib', 'model_path': '/home_nfs/mimounis/iosea-wp3-recommandation-system/performance_data/defaults/models/reg_model_nfs_bw.joblib', 'model': DecisionTreeRegressor(), 'score': -0.715201933753316}}\n",
      "Model: reg_model_lfs_bw.joblib | score: 0.8807139460872\n",
      "Model: reg_model_nfs_bw.joblib | score: -0.715201933753316\n",
      "=======Training and evaluating : RandomForestRegressor========\n"
     ]
    },
    {
     "name": "stderr",
     "output_type": "stream",
     "text": [
      "2023-03-09 11:14:42.797 | INFO     | performance_data.data_model:train_model:226 - Saving Model for lfs_bw: /home_nfs/mimounis/iosea-wp3-recommandation-system/performance_data/defaults/models/reg_model_lfs_bw.joblib | saved with score: 0.9638928550195496\n",
      "2023-03-09 11:14:42.798 | INFO     | performance_data.data_model:train_model:217 - Training model...\n",
      "2023-03-09 11:14:42.984 | INFO     | performance_data.data_model:train_model:220 - Model score for tier nfs_bw: 0.1252101461474382\n",
      "2023-03-09 11:14:42.987 | INFO     | performance_data.data_model:evaluate_model:237 - Model: reg_model_lfs_bw.joblib | Score on test data: 0.9638928550195496\n",
      "2023-03-09 11:14:43.003 | INFO     | performance_data.data_model:evaluate_model:237 - Model: reg_model_nfs_bw.joblib | Score on test data: 0.1252101461474382\n",
      "2023-03-09 11:14:43.009 | INFO     | performance_data.data_model:_prepare_data:194 - Preparing data...\n",
      "2023-03-09 11:14:43.010 | INFO     | performance_data.data_model:_prepare_input_data:148 - Preparing input data...\n",
      "2023-03-09 11:14:43.031 | INFO     | performance_data.data_model:__init__:132 - Loading model from /home_nfs/mimounis/iosea-wp3-recommandation-system/performance_data/defaults/models/reg_model_lfs_bw.joblib\n",
      "2023-03-09 11:14:43.035 | INFO     | performance_data.data_model:_prepare_data:194 - Preparing data...\n",
      "2023-03-09 11:14:43.036 | INFO     | performance_data.data_model:_prepare_input_data:148 - Preparing input data...\n",
      "2023-03-09 11:14:43.056 | INFO     | performance_data.data_model:__init__:135 - Creating a new model: reg_model_nfs_bw.joblib\n",
      "2023-03-09 11:14:43.056 | INFO     | performance_data.data_model:train_model:217 - Training model...\n",
      "2023-03-09 11:14:43.062 | INFO     | performance_data.data_model:train_model:220 - Model score for tier lfs_bw: 0.9526734236342459\n",
      "2023-03-09 11:14:43.067 | INFO     | performance_data.data_model:train_model:226 - Saving Model for lfs_bw: /home_nfs/mimounis/iosea-wp3-recommandation-system/performance_data/defaults/models/reg_model_lfs_bw.joblib | saved with score: 0.9526734236342459\n",
      "2023-03-09 11:14:43.068 | INFO     | performance_data.data_model:train_model:217 - Training model...\n",
      "2023-03-09 11:14:43.123 | INFO     | performance_data.data_model:train_model:220 - Model score for tier nfs_bw: 0.19582419546163088\n",
      "2023-03-09 11:14:43.125 | INFO     | performance_data.data_model:evaluate_model:237 - Model: reg_model_lfs_bw.joblib | Score on test data: 0.9526734236342459\n",
      "2023-03-09 11:14:43.128 | INFO     | performance_data.data_model:evaluate_model:237 - Model: reg_model_nfs_bw.joblib | Score on test data: 0.19582419546163088\n",
      "2023-03-09 11:14:43.133 | INFO     | performance_data.data_model:_prepare_data:194 - Preparing data...\n",
      "2023-03-09 11:14:43.133 | INFO     | performance_data.data_model:_prepare_input_data:148 - Preparing input data...\n",
      "2023-03-09 11:14:43.152 | INFO     | performance_data.data_model:__init__:132 - Loading model from /home_nfs/mimounis/iosea-wp3-recommandation-system/performance_data/defaults/models/reg_model_lfs_bw.joblib\n",
      "2023-03-09 11:14:43.156 | INFO     | performance_data.data_model:_prepare_data:194 - Preparing data...\n",
      "2023-03-09 11:14:43.157 | INFO     | performance_data.data_model:_prepare_input_data:148 - Preparing input data...\n",
      "2023-03-09 11:14:43.177 | INFO     | performance_data.data_model:__init__:135 - Creating a new model: reg_model_nfs_bw.joblib\n",
      "2023-03-09 11:14:43.177 | INFO     | performance_data.data_model:train_model:217 - Training model...\n",
      "2023-03-09 11:14:43.183 | INFO     | performance_data.data_model:train_model:220 - Model score for tier lfs_bw: 0.9640039471311734\n",
      "2023-03-09 11:14:43.188 | INFO     | performance_data.data_model:train_model:226 - Saving Model for lfs_bw: /home_nfs/mimounis/iosea-wp3-recommandation-system/performance_data/defaults/models/reg_model_lfs_bw.joblib | saved with score: 0.9640039471311734\n",
      "2023-03-09 11:14:43.189 | INFO     | performance_data.data_model:train_model:217 - Training model...\n",
      "2023-03-09 11:14:43.196 | INFO     | performance_data.data_model:train_model:220 - Model score for tier nfs_bw: -0.13131236790055878\n",
      "2023-03-09 11:14:43.198 | INFO     | performance_data.data_model:evaluate_model:237 - Model: reg_model_lfs_bw.joblib | Score on test data: 0.9640039471311734\n",
      "2023-03-09 11:14:43.201 | INFO     | performance_data.data_model:evaluate_model:237 - Model: reg_model_nfs_bw.joblib | Score on test data: -0.13131236790055878\n"
     ]
    },
    {
     "name": "stdout",
     "output_type": "stream",
     "text": [
      "{'lfs_bw': {'model_name': 'reg_model_lfs_bw.joblib', 'model_path': '/home_nfs/mimounis/iosea-wp3-recommandation-system/performance_data/defaults/models/reg_model_lfs_bw.joblib', 'model': DecisionTreeRegressor(), 'score': 0.9638928550195496}, 'nfs_bw': {'model_name': 'reg_model_nfs_bw.joblib', 'model_path': '/home_nfs/mimounis/iosea-wp3-recommandation-system/performance_data/defaults/models/reg_model_nfs_bw.joblib', 'model': RandomForestRegressor(), 'score': 0.1252101461474382}}\n",
      "Model: reg_model_lfs_bw.joblib | score: 0.9638928550195496\n",
      "Model: reg_model_nfs_bw.joblib | score: 0.1252101461474382\n",
      "=======Training and evaluating : GradientBoostingRegressor========\n",
      "{'lfs_bw': {'model_name': 'reg_model_lfs_bw.joblib', 'model_path': '/home_nfs/mimounis/iosea-wp3-recommandation-system/performance_data/defaults/models/reg_model_lfs_bw.joblib', 'model': DecisionTreeRegressor(), 'score': 0.9526734236342459}, 'nfs_bw': {'model_name': 'reg_model_nfs_bw.joblib', 'model_path': '/home_nfs/mimounis/iosea-wp3-recommandation-system/performance_data/defaults/models/reg_model_nfs_bw.joblib', 'model': GradientBoostingRegressor(), 'score': 0.19582419546163088}}\n",
      "Model: reg_model_lfs_bw.joblib | score: 0.9526734236342459\n",
      "Model: reg_model_nfs_bw.joblib | score: 0.19582419546163088\n",
      "=======Training and evaluating : SVR========\n",
      "{'lfs_bw': {'model_name': 'reg_model_lfs_bw.joblib', 'model_path': '/home_nfs/mimounis/iosea-wp3-recommandation-system/performance_data/defaults/models/reg_model_lfs_bw.joblib', 'model': DecisionTreeRegressor(), 'score': 0.9640039471311734}, 'nfs_bw': {'model_name': 'reg_model_nfs_bw.joblib', 'model_path': '/home_nfs/mimounis/iosea-wp3-recommandation-system/performance_data/defaults/models/reg_model_nfs_bw.joblib', 'model': SVR(), 'score': -0.13131236790055878}}\n",
      "Model: reg_model_lfs_bw.joblib | score: 0.9640039471311734\n",
      "Model: reg_model_nfs_bw.joblib | score: -0.13131236790055878\n"
     ]
    }
   ],
   "source": [
    "def plot_fit(model):\n",
    "    \"\"\"\n",
    "    Plots the fit of the model on the training data.\n",
    "    \"\"\"\n",
    "    # Make predictions on the training data\n",
    "    y_test_pred = model.predict(model.X_test)\n",
    "\n",
    "    # Plot the fit of the model on the training data\n",
    "    plt.scatter(model.y_test, y_test_pred, color='blue')\n",
    "    plt.ylabel(\"Predictions\")\n",
    "    plt.xlabel(\"True Values\")\n",
    "    plt.title(\"Fit of the Model on the Training Data\")\n",
    "    plt.show()\n",
    "    \n",
    "for Model in [MLPRegressor, LinearRegression, Ridge, Lasso, ElasticNet, \n",
    "              DecisionTreeRegressor, RandomForestRegressor, GradientBoostingRegressor, SVR]:\n",
    "    \n",
    "    class RegModel(AbstractModel):\n",
    "        def _create_model(self):\n",
    "            return Model()\n",
    "    print(f\"=======Training and evaluating : {Model.__name__}========\")\n",
    "    model = RegModel()\n",
    "    model.train_model()\n",
    "    model.evaluate_model()\n",
    "    print(model.model)\n",
    "    for tier in model.target_tiers:\n",
    "        print(f\"Model: {model.model[tier]['model_name']} | score: {model.model[tier]['score']}\")\n",
    "    #plot_fit(model)\n",
    "\n"
   ]
  },
  {
   "cell_type": "code",
   "execution_count": 3,
   "metadata": {},
   "outputs": [
    {
     "name": "stderr",
     "output_type": "stream",
     "text": [
      "2023-03-09 16:31:59.843 | INFO     | performance_data.data_model:_prepare_data:194 - Preparing data...\n",
      "2023-03-09 16:31:59.844 | INFO     | performance_data.data_model:_prepare_input_data:148 - Preparing input data...\n",
      "2023-03-09 16:31:59.866 | INFO     | performance_data.data_model:__init__:132 - Loading model from /home_nfs/mimounis/iosea-wp3-recommandation-system/performance_data/defaults/models/r_f_r_model_lfs_bw.joblib\n",
      "2023-03-09 16:31:59.915 | INFO     | performance_data.data_model:_prepare_data:194 - Preparing data...\n",
      "2023-03-09 16:31:59.916 | INFO     | performance_data.data_model:_prepare_input_data:148 - Preparing input data...\n",
      "2023-03-09 16:31:59.939 | INFO     | performance_data.data_model:__init__:135 - Creating a new model: r_f_r_model_fs1_bw.joblib\n",
      "2023-03-09 16:31:59.940 | INFO     | performance_data.data_model:train_model:217 - Training model...\n",
      "2023-03-09 16:32:00.212 | INFO     | performance_data.data_model:train_model:220 - Model score for tier lfs_bw: 0.727612488565549\n",
      "2023-03-09 16:32:00.283 | INFO     | performance_data.data_model:train_model:226 - Saving Model for lfs_bw: /home_nfs/mimounis/iosea-wp3-recommandation-system/performance_data/defaults/models/r_f_r_model_lfs_bw.joblib | saved with score: 0.727612488565549\n",
      "2023-03-09 16:32:00.284 | INFO     | performance_data.data_model:train_model:217 - Training model...\n",
      "2023-03-09 16:32:00.561 | INFO     | performance_data.data_model:train_model:220 - Model score for tier fs1_bw: 0.92355527088982\n",
      "2023-03-09 16:32:00.630 | INFO     | performance_data.data_model:train_model:226 - Saving Model for fs1_bw: /home_nfs/mimounis/iosea-wp3-recommandation-system/performance_data/defaults/models/r_f_r_model_fs1_bw.joblib | saved with score: 0.92355527088982\n"
     ]
    },
    {
     "data": {
      "image/png": "[encoded data removed]",
      "text/plain": [
       "<Figure size 432x288 with 1 Axes>"
      ]
     },
     "metadata": {
      "needs_background": "light"
     },
     "output_type": "display_data"
    },
    {
     "data": {
      "image/png": "[encoded data removed]",
      "text/plain": [
       "<Figure size 432x288 with 1 Axes>"
      ]
     },
     "metadata": {
      "needs_background": "light"
     },
     "output_type": "display_data"
    }
   ],
   "source": [
    "# evaluate the model\n",
    "def plot_fit(model):\n",
    "        \"\"\"\n",
    "        Plots the fit of the model on the training data.\n",
    "        \"\"\"\n",
    "        # Make predictions on the training data\n",
    "        \n",
    "\n",
    "        # Plot the fit of the model on the training data\n",
    "        for tier in model.target_tiers:           \n",
    "            y_test_pred = model.predict(model.data[\"X_test\"], process_input=False)     \n",
    "            plt.scatter(model.data[tier][\"y_test\"], y_test_pred[tier], color='blue')\n",
    "            plt.xlabel(\"True values\")\n",
    "            plt.ylabel(\"Predictions\")\n",
    "            plt.title(f\"Fit for {tier}: R² = {model.model[tier]['score']} on the Test Data\")\n",
    "            plt.show()\n",
    "\n",
    "class RFRModel(AbstractModel):\n",
    "        def _create_model(self):\n",
    "            return RandomForestRegressor()\n",
    "model = RFRModel()\n",
    "model.train_model()\n",
    "# print(model.evaluate_model())\n",
    "\n",
    "# print(model.data[\"X_train\"])   \n",
    "# print(model.data[\"lfs_bw\"][\"y_test\"])     \n",
    "plot_fit(model)\n"
   ]
  }
 ],
 "metadata": {
  "kernelspec": {
   "display_name": "py38",
   "language": "python",
   "name": "python3"
  },
  "language_info": {
   "codemirror_mode": {
    "name": "ipython",
    "version": 3
   },
   "file_extension": ".py",
   "mimetype": "text/x-python",
   "name": "python",
   "nbconvert_exporter": "python",
   "pygments_lexer": "ipython3",
   "version": "3.8.10"
  },
  "orig_nbformat": 4,
  "vscode": {
   "interpreter": {
    "hash": "67356b80ae16e0e40687386dbd074ace3ba90441f54bfe58917536db46d8a36b"
   }
  }
 },
 "nbformat": 4,
 "nbformat_minor": 2
}
