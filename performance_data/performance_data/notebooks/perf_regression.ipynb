{
 "cells": [
  {
   "cell_type": "code",
   "execution_count": 24,
   "metadata": {},
   "outputs": [
    {
     "data": {
      "text/plain": [
       "3"
      ]
     },
     "execution_count": 24,
     "metadata": {},
     "output_type": "execute_result"
    }
   ],
   "source": [
    "import os, sys\n",
    "from os.path import dirname\n",
    "import random\n",
    "import pandas as pd\n",
    "import numpy as np\n",
    "import matplotlib.pyplot as plt\n",
    "from unittest.mock import MagicMock, patch\n",
    "from performance_data.data_table import PhaseData, DataTable\n",
    "from performance_data.data_model import PhaseGenerator, TierModel, DataModel, load_and_predict\n",
    "from performance_data.data_model import DeepNNModel\n",
    "from sklearn.neural_network import MLPRegressor\n",
    "from sklearn.linear_model import LinearRegression, Ridge, Lasso, ElasticNet\n",
    "from sklearn.tree import DecisionTreeRegressor\n",
    "from sklearn.ensemble import RandomForestRegressor, GradientBoostingRegressor\n",
    "from sklearn.svm import SVR\n",
    "from functools import partial\n",
    "import plotly.graph_objs as go\n",
    "import plotly.subplots as sp\n",
    "import plotly.io as pio\n",
    "import loguru\n",
    "from pprint import pprint\n",
    "loguru.logger.remove()\n",
    "loguru.logger.add(sys.stderr, level=\"INFO\")"
   ]
  },
  {
   "cell_type": "code",
   "execution_count": 2,
   "metadata": {},
   "outputs": [],
   "source": [
    "def plot_fit(model):\n",
    "    \"\"\"\n",
    "    Plots the fit of the model on the training data.\n",
    "    \"\"\"\n",
    "    # Make predictions on the training data\n",
    "    y_test_pred = model.predict(model.X_test)\n",
    "\n",
    "    # Plot the fit of the model on the training data\n",
    "    plt.scatter(model.y_test, y_test_pred, color='blue')\n",
    "    plt.ylabel(\"Predictions\")\n",
    "    plt.xlabel(\"True Values\")\n",
    "    plt.title(\"Fit of the Model on the Training Data\")\n",
    "    plt.show()"
   ]
  },
  {
   "cell_type": "code",
   "execution_count": 23,
   "metadata": {},
   "outputs": [
    {
     "name": "stderr",
     "output_type": "stream",
     "text": [
      "2023-03-23 14:12:54.064 | INFO     | performance_data.data_model:__init__:241 - Initializing DataModel object.\n",
      "2023-03-23 14:12:54.066 | INFO     | performance_data.data_model:load_data:288 - Ingesting input data.\n",
      "2023-03-23 14:12:54.071 | INFO     | performance_data.data_model:load_data:291 - Target tiers: ['lfs_bw', 'fs1_bw']\n",
      "2023-03-23 14:12:54.072 | INFO     | performance_data.data_model:_prepare_data:390 - Preparing data...\n",
      "2023-03-23 14:12:54.081 | INFO     | performance_data.data_model:_prepare_input_data:308 - Preparing input data with columns: ['nodes', 'read_volume', 'write_volume', 'read_io_pattern', 'write_io_pattern', 'read_io_size', 'write_io_size', 'lfs_bw', 'fs1_bw']\n",
      "2023-03-23 14:12:54.096 | INFO     | performance_data.data_model:__init__:252 - Initializing models.\n",
      "2023-03-23 14:12:54.128 | INFO     | performance_data.data_model:train_model:448 - Model DecisionTreeRegressor() for Tier: lfs_bw trained with score:0.804\n",
      "2023-03-23 14:12:54.159 | INFO     | performance_data.data_model:train_model:448 - Model DecisionTreeRegressor() for Tier: fs1_bw trained with score:0.647\n"
     ]
    }
   ],
   "source": [
    "save_dir = \"/home_nfs/mimounis/iosea-wp3-recommandation-system/performance_data/performance_data/notebooks\"\n",
    "# DecisionTreeRegressor\n",
    "# for model in [MLPRegressor, LinearRegression, Ridge, Lasso, ElasticNet, \n",
    "#               RandomForestRegressor, GradientBoostingRegressor, SVR]:\n",
    "\n",
    "for model in [DecisionTreeRegressor]:\n",
    "\n",
    "#dmodel = DeepNNModel#(depth=3, width=32, input_dim=14)\n",
    "#dmodel = partial(DeepNNModel, depth=15, width=32)\n",
    "\n",
    "  \n",
    "    model_1 = TierModel(regressor=model())\n",
    "    model_2 = TierModel(regressor=model())\n",
    "    models_list = [model_1, model_2]\n",
    "    data_model = DataModel(models=models_list)\n",
    "    trained_models = data_model.train_model(save_dir=save_dir)\n",
    "    for col in data_model.y.columns:\n",
    "        X_test = data_model.X_test\n",
    "        y_test = data_model.y_test[col]\n",
    "        y_test_pred = data_model.models[col].predict(data_model.X_test)\n",
    "        y_train_pred = data_model.models[col].predict(data_model.X_train)\n",
    "        train_score = data_model.models[col].score(data_model.X_train, data_model.y_train[col])\n",
    "        score = data_model.models[col].score(X_test, y_test)\n",
    "        \n",
    "        # plt.scatter(y_test, y_test_pred, color='blue')\n",
    "        # plt.scatter(data_model.y_train[col], y_train_pred, color='red')\n",
    "        # plt.ylabel(\"Predictions\")\n",
    "        # plt.xlabel(\"True Values\")\n",
    "        # plt.title(f\"Fit of {data_model.model_name(col)} - score={score:.3} / train_score={train_score:.3}\")\n",
    "        # plt.rcParams[\"figure.figsize\"] = (7,7)\n",
    "        # plt.grid()\n",
    "        # plt.show()\n",
    "        # Create a scatter plot for the test data\n",
    "        marker_opacity = 0.5\n",
    "        marker_size = 10\n",
    "\n",
    "        # Define the scaling factors for the x-axis and y-axis\n",
    "        x_scale_factor = 1e-6\n",
    "        y_scale_factor = 1e-6\n",
    "\n",
    "        # Apply the scaling factors to the data\n",
    "        scaled_y_test = y_test * x_scale_factor\n",
    "        scaled_y_train = data_model.y_train[col] * x_scale_factor\n",
    "        scaled_y_test_pred = y_test_pred * y_scale_factor\n",
    "        scaled_y_train_pred = y_train_pred * y_scale_factor\n",
    "\n",
    "        scatter_test = go.Scatter(\n",
    "            x=scaled_y_test,\n",
    "            y=scaled_y_test_pred,\n",
    "            mode='markers',\n",
    "            marker=dict(color='blue', size=marker_size),\n",
    "            name='Test Data'\n",
    "        )\n",
    "\n",
    "        scatter_train = go.Scatter(\n",
    "            x=scaled_y_train,\n",
    "            y=scaled_y_train_pred,\n",
    "            mode='markers',\n",
    "            marker=dict(color='gray', opacity=marker_opacity, size=marker_size),\n",
    "            name='Train Data'\n",
    "        )\n",
    "\n",
    "        # Determine the scaled axis extents\n",
    "        x_data = np.concatenate((scaled_y_test, scaled_y_train))\n",
    "        y_data = np.concatenate((scaled_y_test_pred, scaled_y_train_pred))\n",
    "        x_min, x_max = x_data.min(), x_data.max()\n",
    "        y_min, y_max = y_data.min(), y_data.max()\n",
    "\n",
    "        # Add the y=x line\n",
    "        line_y_equals_x = go.Scatter(\n",
    "            x=[x_min, x_max],\n",
    "            y=[x_min * y_scale_factor / x_scale_factor, x_max * y_scale_factor / x_scale_factor],\n",
    "            mode='lines',\n",
    "            line=dict(color='black', dash='dash'),\n",
    "            name='y=x'\n",
    "        )\n",
    "        layout = go.Layout(\n",
    "            title=f\"Fit of {data_model.model_name(col)} <br> R²(test)={score:.3} | R²(train)={train_score:.3}\",\n",
    "            xaxis=dict(title=\"Measured BW Values\", gridcolor='rgb(219, 219, 219)', range=[x_min, x_max]),\n",
    "            yaxis=dict(title=\"Predicted BW Values\", gridcolor='rgb(219, 219, 219)', range=[y_min, y_max]),\n",
    "            plot_bgcolor='rgb(255, 255, 255)',\n",
    "            width=600,\n",
    "            height=600,\n",
    "            legend=dict(x=1, y=1),\n",
    "            font=dict(size=12),\n",
    "            shapes=[\n",
    "                # Add border shapes\n",
    "                dict(type='rect', xref='x', yref='y', x0=x_min, x1=x_max, y0=y_min, y1=y_max, line=dict(color='black')),\n",
    "                # y=x line\n",
    "                dict(type='line', x0=x_min, x1=x_max, y0=x_min * y_scale_factor / x_scale_factor, y1=x_max * y_scale_factor / x_scale_factor, line=dict(color='black', dash='dash'))\n",
    "            ]\n",
    "        )\n",
    "\n",
    "        fig = go.Figure(data=[scatter_test, scatter_train, line_y_equals_x], layout=layout)\n",
    "        #fig.show()\n",
    "        image_file = f\"/home_nfs/mimounis/iosea-wp3-recommandation-system/performance_data/performance_data/notebooks/images/fit_of_{data_model.model_name(col)}_R²_test={score:.3}_R²_train_={train_score:.3}.png\"\n",
    "        pio.write_image(fig, image_file, width=600, height=600)\n",
    "\n",
    "        # # Set up the layout for the plot\n",
    "        # layout = go.Layout(\n",
    "        #     title=f\"Fit of {data_model.model_name(col)} - score={score:.3} / train_score={train_score:.3}\",\n",
    "        #     xaxis=dict(title=\"True Values\", gridcolor='rgb(219, 219, 219)'),\n",
    "        #     yaxis=dict(title=\"Predictions\", gridcolor='rgb(219, 219, 219)'),\n",
    "        #     plot_bgcolor='rgb(255, 255, 255)',\n",
    "        #     width=700,\n",
    "        #     height=700,\n",
    "        #     legend=dict(x=1, y=1),\n",
    "        #     font=dict(size=12),\n",
    "        # )\n",
    "\n",
    "        # # Create a Figure object\n",
    "        # fig = go.Figure(data=[scatter_test, scatter_train], layout=layout)\n",
    "\n",
    "        # # Show the plot\n",
    "        # fig.show()"
   ]
  },
  {
   "cell_type": "code",
   "execution_count": 5,
   "metadata": {},
   "outputs": [
    {
     "name": "stderr",
     "output_type": "stream",
     "text": [
      "2023-03-23 12:19:25.235 | INFO     | performance_data.data_model:_prepare_input_data:308 - Preparing input data with columns: ['nodes', 'read_volume', 'write_volume', 'read_io_pattern', 'write_io_pattern', 'read_io_size', 'write_io_size']\n"
     ]
    },
    {
     "name": "stdout",
     "output_type": "stream",
     "text": [
      "[5.03018109e+08 9.61155285e+08]\n"
     ]
    }
   ],
   "source": [
    "model_path = \"/home_nfs/mimounis/iosea-wp3-recommandation-system/performance_data/performance_data/notebooks/decision_tree_regressor_lfs_bw.joblib\"\n",
    "\n",
    "new_data = pd.DataFrame({\n",
    "            'nodes': [1, 1],\n",
    "            'read_io_size': [8e6, 4e3],\n",
    "            'write_io_size': [8e6, 2e6],\n",
    "            'read_volume': [169e6, 7.6e6],\n",
    "            'write_volume': [330e6, 492e6],\n",
    "            'read_io_pattern': ['stride', 'rand'],\n",
    "            'write_io_pattern': ['stride', 'uncl'],\n",
    "        })\n",
    "\n",
    "predictions = load_and_predict(model_path, new_data, iops=True)\n",
    "print(predictions.values.flatten())\n"
   ]
  },
  {
   "attachments": {},
   "cell_type": "markdown",
   "metadata": {},
   "source": [
    "#### Imports for cluster_simulator and app_decomposer"
   ]
  },
  {
   "cell_type": "code",
   "execution_count": 11,
   "metadata": {},
   "outputs": [],
   "source": [
    "import os\n",
    "import unittest\n",
    "import requests\n",
    "import urllib3\n",
    "from app_decomposer.utils_demo import *\n",
    "from loguru import logger\n",
    "from unittest.mock import patch\n",
    "from pprint import pprint\n",
    "from os.path import dirname, abspath\n",
    "import warnings\n",
    "warnings.filterwarnings('ignore')\n",
    "from performance_data.data_table import PhaseData, DataTable\n",
    "from performance_data import DATASET_FILE\n",
    "from app_decomposer import DEFAULT_CONFIGURATION, KIWI_CONFIG, CURRENT_DIR, API_DICT_TS, IOI_SAMPLING_PERIOD, DATASET_SOURCE\n",
    "from app_decomposer.api_connector import request_delegator\n",
    "from app_decomposer.config_parser import Configuration\n",
    "from app_decomposer.api_connector import TimeSeries\n",
    "from cluster_simulator.analytics import *\n",
    "from loguru import logger\n",
    "import simpy\n",
    "from loguru import logger\n",
    "import time\n",
    "import numpy as np\n",
    "import pandas as pd\n",
    "from cluster_simulator.utils import convex_hull\n",
    "from cluster_simulator.cluster import Cluster, Tier, EphemeralTier, bandwidth_share_model, compute_share_model, get_tier, convert_size\n",
    "from cluster_simulator.phase import DelayPhase, ComputePhase, IOPhase\n",
    "from cluster_simulator.application import Application\n",
    "from cluster_simulator.analytics import display_run, display_apps_dataflow\n",
    "from cluster_simulator.ephemeral_placement import ClusterBlackBox"
   ]
  },
  {
   "attachments": {},
   "cell_type": "markdown",
   "metadata": {},
   "source": [
    "#### Old fashion simulation"
   ]
  },
  {
   "cell_type": "code",
   "execution_count": 12,
   "metadata": {},
   "outputs": [
    {
     "name": "stdout",
     "output_type": "stream",
     "text": [
      "application duration = 222.5\n"
     ]
    },
    {
     "data": {
      "image/png": "[encoded data removed]",
      "text/plain": [
       "<Figure size 720x432 with 1 Axes>"
      ]
     },
     "metadata": {
      "needs_background": "light"
     },
     "output_type": "display_data"
    }
   ],
   "source": [
    "# sim env an data\n",
    "env = simpy.Environment()\n",
    "data = simpy.Store(env)\n",
    "# tier perfs\n",
    "nvram_bandwidth = {'read':  {'seq': 800, 'rand': 600},\n",
    "                        'write': {'seq': 400, 'rand': 400}}\n",
    "ssd_bandwidth = {'read':  {'seq': 240, 'rand': 180},\n",
    "                    'write': {'seq': 100, 'rand': 100}}\n",
    "hdd_bandwidth = {'read':  {'seq': 80, 'rand': 80},\n",
    "                    'write': {'seq': 40, 'rand': 40}}\n",
    "\n",
    "# registering Tiers\n",
    "hdd_tier = Tier(env, 'HDD', max_bandwidth=hdd_bandwidth, capacity=1e12)\n",
    "ssd_tier = Tier(env, 'SSD', max_bandwidth=ssd_bandwidth, capacity=200e9)\n",
    "nvram_tier = Tier(env, 'NVRAM', max_bandwidth=nvram_bandwidth,\n",
    "                        capacity=10e9)\n",
    "# registering Ephemeral Tier\n",
    "bb = EphemeralTier(env, name=\"BB\", persistent_tier=hdd_tier,\n",
    "                        max_bandwidth=nvram_bandwidth, capacity=10e9)\n",
    "\n",
    "# Define the cluster with 1 persistent and 1 ephemeral\n",
    "cluster = Cluster(env, tiers=[hdd_tier], ephemeral_tier=bb)\n",
    "jobid=0\n",
    "# logger\n",
    "#env = simpy.Environment()\n",
    "logger.remove()\n",
    "# Simple app: read 1GB -> compute 10s -> write 5GB\n",
    "# placement\n",
    "placement = [0, 0]\n",
    "use_bb = [False, False]\n",
    "compute=[0, 10]\n",
    "read=[1e9, 0]\n",
    "write=[3e9, 5e9]\n",
    "# simulate the app execution\n",
    "app1 = Application(env, compute=compute, read=read, write=write, data=data)\n",
    "#app2 = Application(env, compute=[0, 5],  read=[2e9, 0], write=[7e9, 0], data=data)\n",
    "env.process(app1.run(cluster, placement=placement, use_bb=use_bb))\n",
    "#env.process(app2.run(cluster, placement=placement, use_bb=use_bb))\n",
    "env.run()\n",
    "print(f\"application duration = {app1.get_fitness()}\")\n",
    "\n",
    "output = get_execution_signal_3(data)\n",
    "\n",
    "sim_time = np.array(output[app1.name][\"time\"])\n",
    "sim_read_bw = np.array(output[app1.name][\"read_bw\"])\n",
    "sim_write_bw = np.array(output[app1.name][\"write_bw\"])\n",
    "\n",
    "fig = plt.figure(figsize=(10, 6))\n",
    "plt.plot(sim_time, sim_read_bw, label=\"read signal\")\n",
    "plt.plot(sim_time, sim_write_bw, label=\"write signal\")\n",
    "plt.grid(True)\n",
    "plt.legend()\n",
    "plt.title(f\"Simulated timeseries for compute = {compute}, read = {list(map(convert_size, read))}, write = {list(map(convert_size, write))}\")\n",
    "plt.show()"
   ]
  },
  {
   "attachments": {},
   "cell_type": "markdown",
   "metadata": {},
   "source": [
    "#### New way to simulate"
   ]
  },
  {
   "cell_type": "code",
   "execution_count": 13,
   "metadata": {},
   "outputs": [
    {
     "name": "stdout",
     "output_type": "stream",
     "text": [
      "gradient_boosting_regressor_lfs_bw.joblib\n",
      "====================\n",
      "Cluster with 1 compute nodes \n",
      "Each having 2 cores in total \n",
      "\n",
      "-------------------\n",
      "Tier:(Tier) tier1 with capacity = 100.0 GB\n",
      "Operation    Pattern      Bandwidth MB/s\n",
      "read         seq          200         \n",
      "read         rand         100         \n",
      "write        seq          100         \n",
      "write        rand         50          \n",
      "\n",
      "-------------------\n",
      "Tier:(Tier) tier2 with capacity = 500.0 GB\n",
      "Operation    Pattern      Bandwidth MB/s\n",
      "read         seq          500         \n",
      "read         rand         300         \n",
      "write        seq          200         \n",
      "write        rand         150         \n",
      "\n",
      "-------------------\n",
      "Tier:(Tier) lfs with capacity = 500.0 GB\n",
      "Operation    Pattern      Bandwidth MB/s\n",
      "Bandwidth model path: gradient_boosting_regressor_lfs_bw.joblib\n",
      "\n",
      "-------------------\n",
      "Tier:(EphemeralTier) ephemeral with capacity = 1.0 GB\n",
      "Operation    Pattern      Bandwidth MB/s\n",
      "read         seq          500         \n",
      "read         rand         300         \n",
      "write        seq          200         \n",
      "write        rand         150         \n",
      "\n"
     ]
    }
   ],
   "source": [
    "import yaml, simpy\n",
    "# sim env an data\n",
    "env = simpy.Environment()\n",
    "data = simpy.Store(env)\n",
    "# tier perfs\n",
    "cluster_config = \"\"\"\n",
    "defaults:\n",
    "  compute_nodes: 1\n",
    "  cores_per_node: 2\n",
    "\n",
    "tiers:\n",
    "  - name: tier1\n",
    "    capacity: 100.e+9\n",
    "    max_bandwidth:\n",
    "      read:\n",
    "        seq: 200\n",
    "        rand: 100\n",
    "      write:\n",
    "        seq: 100\n",
    "        rand: 50\n",
    "\n",
    "  - name: tier2\n",
    "    capacity: 500.e+9\n",
    "    max_bandwidth:\n",
    "      read:\n",
    "        seq: 500\n",
    "        rand: 300\n",
    "      write:\n",
    "        seq: 200\n",
    "        rand: 150\n",
    "\n",
    "  - name: lfs\n",
    "    capacity: 500.e+9\n",
    "    bandwidth_model_path: gradient_boosting_regressor_lfs_bw.joblib\n",
    "\n",
    "ephemeral_tier:\n",
    "  name: ephemeral\n",
    "  persistent_tier: tier1\n",
    "  capacity: 1.e+9\n",
    "  max_bandwidth:\n",
    "    read:\n",
    "      seq: 500\n",
    "      rand: 300\n",
    "    write:\n",
    "      seq: 200\n",
    "      rand: 150\n",
    "\"\"\"\n",
    "\n",
    "cluster = Cluster(env, config_path=cluster_config)\n",
    "#print(cluster)\n",
    "print(cluster.tiers[2].bandwidth_model_path)\n",
    "print(cluster)"
   ]
  },
  {
   "cell_type": "code",
   "execution_count": 14,
   "metadata": {},
   "outputs": [
    {
     "name": "stdout",
     "output_type": "stream",
     "text": [
      "[1.44045460e+09 2.78949499e+09]\n"
     ]
    }
   ],
   "source": [
    "new_data = pd.DataFrame({\n",
    "            'nodes': [1, 1],\n",
    "            'read_io_size': [8e6, 6e6],\n",
    "            'write_io_size': [8e6, 6e6],\n",
    "            'read_volume': [169e6, 200e6],\n",
    "            'write_volume': [330e6, 200e6],\n",
    "            'read_io_pattern': ['stride', 'seq'],\n",
    "            'write_io_pattern': ['stride', 'seq'],\n",
    "        })\n",
    "bw = cluster.tiers[2].get_max_bandwidth(new_data=new_data)\n",
    "# expects 503 MB/s (lfs) and 1GB/s (fs1)\n",
    "print(bw)"
   ]
  },
  {
   "attachments": {},
   "cell_type": "markdown",
   "metadata": {},
   "source": [
    "#### Real IOI Job, getting representation and phase features"
   ]
  },
  {
   "cell_type": "code",
   "execution_count": 26,
   "metadata": {},
   "outputs": [
    {
     "name": "stdout",
     "output_type": "stream",
     "text": [
      "{'events': [0, 1, 8, 12, 44, 50, 54, 56],\n",
      " 'node_count': 1,\n",
      " 'read_bw': [0,\n",
      "             1730808132.0,\n",
      "             794387563.0,\n",
      "             1584492138.5,\n",
      "             3023280.0,\n",
      "             3527160.0,\n",
      "             2519400.0,\n",
      "             0],\n",
      " 'read_operations': [0, 812, 1305, 909, 601, 1400, 500, 0],\n",
      " 'read_pattern': ['Uncl', 'Seq', 'Seq', 'Seq', 'Seq', 'Seq', 'Seq', 'Uncl'],\n",
      " 'read_volumes': [0,\n",
      "                  1730808132,\n",
      "                  1588775126,\n",
      "                  3168984277,\n",
      "                  3023280,\n",
      "                  7054320,\n",
      "                  2519400,\n",
      "                  0],\n",
      " 'write_bw': [0,\n",
      "              0,\n",
      "              1019392798.5,\n",
      "              1379672406.0,\n",
      "              1333699712.25,\n",
      "              1326288590.25,\n",
      "              1066959769.8,\n",
      "              0],\n",
      " 'write_operations': [0, 0, 986, 2000, 1000, 995, 1000, 0],\n",
      " 'write_pattern': ['Uncl', 'Uncl', 'Seq', 'Seq', 'Seq', 'Seq', 'Seq', 'Uncl'],\n",
      " 'write_volumes': [0,\n",
      "                   0,\n",
      "                   2038785597,\n",
      "                   4139017218,\n",
      "                   5334798849,\n",
      "                   5305154361,\n",
      "                   5334798849,\n",
      "                   0]}\n",
      "    job_id  nodes  read_volume  write_volume read_io_pattern write_io_pattern  \\\n",
      "0  unknown      1            0             0            uncl             uncl   \n",
      "1  unknown      1   1730808132             0             seq             uncl   \n",
      "2  unknown      1   1588775126    2038785597             seq              seq   \n",
      "3  unknown      1   3168984277    4139017218             seq              seq   \n",
      "4  unknown      1      3023280    5334798849             seq              seq   \n",
      "5  unknown      1      7054320    5305154361             seq              seq   \n",
      "6  unknown      1      2519400    5334798849             seq              seq   \n",
      "7  unknown      1            0             0            uncl             uncl   \n",
      "\n",
      "   read_io_size  write_io_size        ioi_bw  \n",
      "0  0.000000e+00   0.000000e+00  0.000000e+00  \n",
      "1  2.131537e+06   0.000000e+00  3.461616e+08  \n",
      "2  1.217452e+06   2.067734e+06  3.627561e+08  \n",
      "3  3.486231e+06   2.069509e+06  5.928329e+08  \n",
      "4  5.030416e+03   5.334799e+06  2.673446e+08  \n",
      "5  5.038800e+03   5.331813e+06  2.659632e+08  \n",
      "6  5.038800e+03   5.334799e+06  2.138958e+08  \n",
      "7  0.000000e+00   0.000000e+00  0.000000e+00  \n",
      "CPU times: user 349 ms, sys: 16.9 ms, total: 366 ms\n",
      "Wall time: 22.9 ms\n",
      "<class 'numpy.ndarray'>\n",
      "array([0.00000000e+00, 2.71094462e+09, 1.16163778e+09, 1.35784356e+09,\n",
      "       6.50843845e+08, 6.49984436e+08, 6.50905232e+08, 0.00000000e+00])\n"
     ]
    }
   ],
   "source": [
    "jobid=3918\n",
    "dataset_path = os.path.join(dirname(dirname(os.getcwd())), \"performance_data\", \"performance_data\", \"dataset\")\n",
    "#%%capture\n",
    "logger.remove()\n",
    "def decompose_ioi_job(jobid):\n",
    "    with patch.object(ComplexDecomposer, 'get_job_timeseries') as mock_get_timeseries:\n",
    "        with patch.object(Configuration, 'get_kc_token') as mock_get_kc_token:\n",
    "            with patch.object(ComplexDecomposer, 'get_job_node_count') as mock_get_node_count:\n",
    "                mock_get_timeseries.return_value = get_job_timeseries_from_file(job_id=jobid)\n",
    "                mock_get_kc_token.return_value = 'token'\n",
    "                mock_get_node_count.return_value = 1\n",
    "                # init the job decomposer\n",
    "                #cd = ComplexDecomposer(v0_threshold=0.02)\n",
    "                cd = ComplexDecomposer(v0_threshold=0.01)\n",
    "                return cd\n",
    "# Launch decomposition on the signal\n",
    "cd = decompose_ioi_job(jobid=jobid)\n",
    "# Showing representation\n",
    "representation = cd.get_job_representation(merge_clusters=True)\n",
    "pprint(representation)\n",
    "phases_features = pd.DataFrame(cd.get_phases_features(representation))\n",
    "pprint(phases_features)\n",
    "\n",
    "%time bw = cluster.tiers[2].get_max_bandwidth(new_data=pd.DataFrame(phases_features))\n",
    "pprint(type(bw))\n",
    "pprint(bw)"
   ]
  },
  {
   "cell_type": "code",
   "execution_count": 18,
   "metadata": {},
   "outputs": [
    {
     "name": "stdout",
     "output_type": "stream",
     "text": [
      "              0\n",
      "0  0.000000e+00\n",
      "1  1.355801e+09\n",
      "2  7.943758e+08\n",
      "3  8.586494e+08\n",
      "4  5.978254e+08\n",
      "5  5.970360e+08\n",
      "6  5.978818e+08\n",
      "7  0.000000e+00\n",
      "CPU times: user 73.2 ms, sys: 3.07 ms, total: 76.3 ms\n",
      "Wall time: 75.3 ms\n",
      "              0\n",
      "0  0.000000e+00\n",
      "1  1.770380e+09\n",
      "2  3.529003e+08\n",
      "3  1.158074e+09\n",
      "4  7.539967e+08\n",
      "5  7.530011e+08\n",
      "6  7.540678e+08\n",
      "7  0.000000e+00\n",
      "CPU times: user 15.3 ms, sys: 99 µs, total: 15.4 ms\n",
      "Wall time: 15.5 ms\n"
     ]
    }
   ],
   "source": [
    "%time print(load_and_predict(\"/home_nfs/mimounis/iosea-wp3-recommandation-system/performance_data/performance_data/notebooks/random_forest_regressor_fs1_bw.joblib\", new_data=pd.DataFrame(phases_features), iops=True))\n",
    "\n",
    "%time print(load_and_predict(\"/home_nfs/mimounis/iosea-wp3-recommandation-system/performance_data/performance_data/notebooks/decision_tree_regressor_lfs_bw.joblib\", new_data=pd.DataFrame(phases_features), iops=True))"
   ]
  },
  {
   "attachments": {},
   "cell_type": "markdown",
   "metadata": {},
   "source": [
    "#### Replaying the job"
   ]
  },
  {
   "cell_type": "code",
   "execution_count": 11,
   "metadata": {},
   "outputs": [],
   "source": [
    "\n",
    "# tier perfs\n",
    "cluster_config = \"\"\"\n",
    "defaults:\n",
    "  compute_nodes: 1\n",
    "  cores_per_node: 2\n",
    "\n",
    "tiers:\n",
    "  - name: tier1\n",
    "    capacity: 100.e+9\n",
    "    max_bandwidth:\n",
    "      read:\n",
    "        seq: 200\n",
    "        rand: 100\n",
    "      write:\n",
    "        seq: 100\n",
    "        rand: 50\n",
    "\n",
    "  - name: tier2\n",
    "    capacity: 500.e+9\n",
    "    max_bandwidth:\n",
    "      read:\n",
    "        seq: 500\n",
    "        rand: 300\n",
    "      write:\n",
    "        seq: 200\n",
    "        rand: 150\n",
    "\n",
    "  - name: lfs\n",
    "    capacity: 500.e+9\n",
    "    bandwidth_model_path: gradient_boosting_regressor_lfs_bw.joblib\n",
    "\n",
    "ephemeral_tier:\n",
    "  name: ephemeral\n",
    "  persistent_tier: tier1\n",
    "  capacity: 1.e+9\n",
    "  max_bandwidth:\n",
    "    read:\n",
    "      seq: 500\n",
    "      rand: 300\n",
    "    write:\n",
    "      seq: 200\n",
    "      rand: 150\n",
    "\"\"\"\n",
    "env = simpy.Environment()\n",
    "data = simpy.Store(env)\n",
    "cluster = Cluster(env, config_path=cluster_config)"
   ]
  },
  {
   "cell_type": "code",
   "execution_count": 12,
   "metadata": {},
   "outputs": [
    {
     "data": {
      "application/vnd.plotly.v1+json": {
       "config": {
        "plotlyServerURL": "https://plot.ly"
       },
       "data": [
        {
         "line": {
          "shape": "linear"
         },
         "name": "app#PerfTier#3918#read",
         "text": [
          "COMPUTE|volume=0B",
          "COMPUTE|volume=0B",
          "READ|on:tier1|volume=1.73 GB",
          "READ|on:tier1|volume=1.73 GB",
          "COMPUTE|volume=0B",
          "COMPUTE|volume=0B",
          "READ|on:tier1|volume=1.59 GB",
          "READ|on:tier1|volume=1.59 GB",
          "WRITE|on:tier1|volume=1.59 GB",
          "WRITE|on:tier1|volume=1.59 GB",
          "WRITE|on:tier1|volume=450.01 MB",
          "WRITE|on:tier1|volume=450.01 MB",
          "COMPUTE|volume=0B",
          "COMPUTE|volume=0B",
          "READ|on:tier1|volume=3.17 GB",
          "READ|on:tier1|volume=3.17 GB",
          "WRITE|on:tier1|volume=3.17 GB",
          "WRITE|on:tier1|volume=3.17 GB",
          "WRITE|on:tier1|volume=970.03 MB",
          "WRITE|on:tier1|volume=970.03 MB",
          "COMPUTE|volume=0B",
          "COMPUTE|volume=0B",
          "READ|on:tier1|volume=3.02 MB",
          "READ|on:tier1|volume=3.02 MB",
          "WRITE|on:tier1|volume=3.02 MB",
          "WRITE|on:tier1|volume=3.02 MB",
          "WRITE|on:tier1|volume=4.18 GB",
          "WRITE|on:tier1|volume=4.18 GB",
          "WRITE|on:tier1|volume=1.15 GB",
          "WRITE|on:tier1|volume=1.15 GB",
          "COMPUTE|volume=0B",
          "COMPUTE|volume=0B",
          "READ|on:tier1|volume=7.05 MB",
          "READ|on:tier1|volume=7.05 MB",
          "WRITE|on:tier1|volume=7.05 MB",
          "WRITE|on:tier1|volume=7.05 MB",
          "WRITE|on:tier1|volume=4.27 GB",
          "WRITE|on:tier1|volume=4.27 GB",
          "WRITE|on:tier1|volume=1.03 GB",
          "WRITE|on:tier1|volume=1.03 GB",
          "COMPUTE|volume=0B",
          "COMPUTE|volume=0B",
          "READ|on:tier1|volume=2.52 MB",
          "READ|on:tier1|volume=2.52 MB",
          "WRITE|on:tier1|volume=2.52 MB",
          "WRITE|on:tier1|volume=2.52 MB",
          "WRITE|on:tier1|volume=5.33 GB",
          "WRITE|on:tier1|volume=5.33 GB",
          "COMPUTE|volume=0B",
          "COMPUTE|volume=0B"
         ],
         "textposition": "top center",
         "type": "scatter",
         "x": [
          0,
          1.0117230330689355,
          2.023446066137871,
          3.0351690992068066,
          4.046892132275742,
          5.058615165344678,
          6.070338198413613,
          7.082061231482548,
          8.093784264551484,
          9.10550729762042,
          10.117230330689356,
          11.12895336375829,
          12.140676396827226,
          13.152399429896162,
          14.164122462965096,
          15.175845496034032,
          16.18756852910297,
          17.199291562171904,
          18.21101459524084,
          19.222737628309776,
          20.234460661378712,
          21.246183694447645,
          22.25790672751658,
          23.269629760585516,
          24.281352793654452,
          25.29307582672339,
          26.304798859792324,
          27.31652189286126,
          28.328244925930193,
          29.33996795899913,
          30.351690992068065,
          31.363414025137,
          32.37513705820594,
          33.38686009127487,
          34.39858312434381,
          35.41030615741274,
          36.42202919048168,
          37.43375222355061,
          38.44547525661955,
          39.457198289688485,
          40.468921322757424,
          41.48064435582636,
          42.49236738889529,
          43.50409042196423,
          44.51581345503316,
          45.5275364881021,
          46.53925952117103,
          47.55098255423997,
          48.562705587308905,
          49.57442862037784,
          50.58615165344678,
          51.59787468651571,
          52.60959771958465,
          53.62132075265358,
          54.63304378572252,
          55.64476681879145,
          56.656489851860385,
          57.668212884929325,
          58.67993591799826,
          59.6916589510672,
          60.70338198413613,
          61.71510501720507,
          62.726828050274,
          63.73855108334294,
          64.75027411641187,
          65.7619971494808,
          66.77372018254974,
          67.78544321561868,
          68.79716624868762,
          69.80888928175655,
          70.82061231482548,
          71.83233534789443,
          72.84405838096336,
          73.8557814140323,
          74.86750444710123,
          75.87922748017016,
          76.8909505132391,
          77.90267354630804,
          78.91439657937697,
          79.9261196124459,
          80.93784264551485,
          81.94956567858378,
          82.96128871165271,
          83.97301174472165,
          84.98473477779058,
          85.99645781085952
         ],
         "xaxis": "x",
         "y": [
          0,
          2710.9446178043813,
          0,
          0,
          0,
          0,
          0,
          0,
          0,
          1161.6377796723486,
          0,
          0,
          0,
          0,
          0,
          1357.8435645938305,
          1357.8435645938305,
          0,
          0,
          0,
          0,
          0,
          0,
          0,
          0,
          0,
          0,
          0,
          0,
          0,
          0,
          0,
          0,
          0,
          0,
          0,
          0,
          0,
          0,
          0,
          0,
          0,
          0,
          0,
          0,
          0,
          0,
          0,
          0,
          0,
          0,
          0,
          0,
          0,
          0,
          0,
          0,
          0,
          0,
          0,
          0,
          0,
          0,
          0,
          0,
          0,
          0,
          0,
          0,
          0,
          0,
          0,
          0,
          0,
          0,
          0,
          0,
          0,
          0,
          0,
          0,
          0,
          0,
          0,
          0,
          0
         ],
         "yaxis": "y"
        },
        {
         "line": {
          "shape": "linear"
         },
         "name": "app#PerfTier#3918#write",
         "text": [
          "COMPUTE|volume=0B",
          "COMPUTE|volume=0B",
          "READ|on:tier1|volume=1.73 GB",
          "READ|on:tier1|volume=1.73 GB",
          "COMPUTE|volume=0B",
          "COMPUTE|volume=0B",
          "READ|on:tier1|volume=1.59 GB",
          "READ|on:tier1|volume=1.59 GB",
          "WRITE|on:tier1|volume=1.59 GB",
          "WRITE|on:tier1|volume=1.59 GB",
          "WRITE|on:tier1|volume=450.01 MB",
          "WRITE|on:tier1|volume=450.01 MB",
          "COMPUTE|volume=0B",
          "COMPUTE|volume=0B",
          "READ|on:tier1|volume=3.17 GB",
          "READ|on:tier1|volume=3.17 GB",
          "WRITE|on:tier1|volume=3.17 GB",
          "WRITE|on:tier1|volume=3.17 GB",
          "WRITE|on:tier1|volume=970.03 MB",
          "WRITE|on:tier1|volume=970.03 MB",
          "COMPUTE|volume=0B",
          "COMPUTE|volume=0B",
          "READ|on:tier1|volume=3.02 MB",
          "READ|on:tier1|volume=3.02 MB",
          "WRITE|on:tier1|volume=3.02 MB",
          "WRITE|on:tier1|volume=3.02 MB",
          "WRITE|on:tier1|volume=4.18 GB",
          "WRITE|on:tier1|volume=4.18 GB",
          "WRITE|on:tier1|volume=1.15 GB",
          "WRITE|on:tier1|volume=1.15 GB",
          "COMPUTE|volume=0B",
          "COMPUTE|volume=0B",
          "READ|on:tier1|volume=7.05 MB",
          "READ|on:tier1|volume=7.05 MB",
          "WRITE|on:tier1|volume=7.05 MB",
          "WRITE|on:tier1|volume=7.05 MB",
          "WRITE|on:tier1|volume=4.27 GB",
          "WRITE|on:tier1|volume=4.27 GB",
          "WRITE|on:tier1|volume=1.03 GB",
          "WRITE|on:tier1|volume=1.03 GB",
          "COMPUTE|volume=0B",
          "COMPUTE|volume=0B",
          "READ|on:tier1|volume=2.52 MB",
          "READ|on:tier1|volume=2.52 MB",
          "WRITE|on:tier1|volume=2.52 MB",
          "WRITE|on:tier1|volume=2.52 MB",
          "WRITE|on:tier1|volume=5.33 GB",
          "WRITE|on:tier1|volume=5.33 GB",
          "COMPUTE|volume=0B",
          "COMPUTE|volume=0B"
         ],
         "textposition": "top center",
         "type": "scatter",
         "x": [
          0,
          1.0117230330689355,
          2.023446066137871,
          3.0351690992068066,
          4.046892132275742,
          5.058615165344678,
          6.070338198413613,
          7.082061231482548,
          8.093784264551484,
          9.10550729762042,
          10.117230330689356,
          11.12895336375829,
          12.140676396827226,
          13.152399429896162,
          14.164122462965096,
          15.175845496034032,
          16.18756852910297,
          17.199291562171904,
          18.21101459524084,
          19.222737628309776,
          20.234460661378712,
          21.246183694447645,
          22.25790672751658,
          23.269629760585516,
          24.281352793654452,
          25.29307582672339,
          26.304798859792324,
          27.31652189286126,
          28.328244925930193,
          29.33996795899913,
          30.351690992068065,
          31.363414025137,
          32.37513705820594,
          33.38686009127487,
          34.39858312434381,
          35.41030615741274,
          36.42202919048168,
          37.43375222355061,
          38.44547525661955,
          39.457198289688485,
          40.468921322757424,
          41.48064435582636,
          42.49236738889529,
          43.50409042196423,
          44.51581345503316,
          45.5275364881021,
          46.53925952117103,
          47.55098255423997,
          48.562705587308905,
          49.57442862037784,
          50.58615165344678,
          51.59787468651571,
          52.60959771958465,
          53.62132075265358,
          54.63304378572252,
          55.64476681879145,
          56.656489851860385,
          57.668212884929325,
          58.67993591799826,
          59.6916589510672,
          60.70338198413613,
          61.71510501720507,
          62.726828050274,
          63.73855108334294,
          64.75027411641187,
          65.7619971494808,
          66.77372018254974,
          67.78544321561868,
          68.79716624868762,
          69.80888928175655,
          70.82061231482548,
          71.83233534789443,
          72.84405838096336,
          73.8557814140323,
          74.86750444710123,
          75.87922748017016,
          76.8909505132391,
          77.90267354630804,
          78.91439657937697,
          79.9261196124459,
          80.93784264551485,
          81.94956567858378,
          82.96128871165271,
          83.97301174472165,
          84.98473477779058,
          85.99645781085952
         ],
         "xaxis": "x",
         "y": [
          0,
          0,
          0,
          0,
          0,
          0,
          0,
          0,
          0,
          1161.6377796723486,
          1161.6377796723486,
          0,
          0,
          0,
          0,
          1357.8435645938305,
          1357.8435645938305,
          1357.8435645938305,
          0,
          0,
          0,
          0,
          0,
          0,
          0,
          0,
          0,
          0,
          0,
          0,
          0,
          0,
          0,
          0,
          0,
          0,
          0,
          0,
          0,
          0,
          0,
          0,
          0,
          0,
          0,
          0,
          0,
          0,
          0,
          650.8438449520007,
          650.8438449520007,
          650.8438449520007,
          650.8438449520007,
          650.8438449520007,
          650.8438449520007,
          650.8438449520007,
          650.8438449520007,
          0,
          0,
          0,
          0,
          0,
          0,
          649.9844362341689,
          649.9844362341689,
          649.9844362341689,
          649.9844362341689,
          649.9844362341689,
          649.9844362341689,
          649.9844362341689,
          649.9844362341689,
          0,
          0,
          0,
          0,
          650.90523165387,
          650.90523165387,
          650.90523165387,
          650.90523165387,
          650.90523165387,
          650.90523165387,
          650.90523165387,
          650.90523165387,
          650.90523165387,
          0,
          0
         ],
         "yaxis": "y"
        },
        {
         "line": {
          "dash": "dot",
          "shape": "linear"
         },
         "name": "PerfTier#3918 mvt",
         "text": [],
         "textposition": "top center",
         "type": "scatter",
         "x": [],
         "xaxis": "x",
         "y": [],
         "yaxis": "y"
        },
        {
         "line": {
          "shape": "linear"
         },
         "name": "app#StaticTier#3918#read",
         "text": [
          "COMPUTE|volume=0B",
          "COMPUTE|volume=0B",
          "READ|on:tier2|volume=319.23 MB",
          "READ|on:tier2|volume=319.23 MB",
          "READ|on:tier2|volume=1.41 GB",
          "READ|on:tier2|volume=1.41 GB",
          "COMPUTE|volume=0B",
          "COMPUTE|volume=0B",
          "WRITE|on:tier2|volume=293.19 MB",
          "WRITE|on:tier2|volume=293.19 MB",
          "READ|on:tier2|volume=732.98 MB",
          "READ|on:tier2|volume=732.98 MB",
          "WRITE|on:tier2|volume=233.38 MB",
          "WRITE|on:tier2|volume=233.38 MB",
          "READ|on:tier2|volume=583.46 MB",
          "READ|on:tier2|volume=583.46 MB",
          "READ|on:tier2|volume=178.6 MB",
          "READ|on:tier2|volume=178.6 MB",
          "WRITE|on:tier2|volume=71.44 MB",
          "WRITE|on:tier2|volume=71.44 MB",
          "READ|on:tier2|volume=93.74 MB",
          "READ|on:tier2|volume=93.74 MB",
          "WRITE|on:tier2|volume=37.49 MB",
          "WRITE|on:tier2|volume=37.49 MB",
          "WRITE|on:tier2|volume=1.4 GB",
          "WRITE|on:tier2|volume=1.4 GB",
          "COMPUTE|volume=0B",
          "COMPUTE|volume=0B",
          "WRITE|on:tier2|volume=301.64 MB",
          "WRITE|on:tier2|volume=301.64 MB",
          "READ|on:tier2|volume=754.09 MB",
          "READ|on:tier2|volume=754.09 MB",
          "WRITE|on:tier2|volume=355.27 EB",
          "WRITE|on:tier2|volume=355.27 EB",
          "READ|on:tier2|volume=888.18 EB",
          "READ|on:tier2|volume=888.18 EB",
          "READ|on:tier2|volume=2.41 GB",
          "READ|on:tier2|volume=2.41 GB",
          "WRITE|on:tier2|volume=965.96 MB",
          "WRITE|on:tier2|volume=965.96 MB",
          "WRITE|on:tier2|volume=1.59 GB",
          "WRITE|on:tier2|volume=1.59 GB",
          "WRITE|on:tier2|volume=929.03 KB",
          "WRITE|on:tier2|volume=929.03 KB",
          "WRITE|on:tier2|volume=1.28 GB",
          "WRITE|on:tier2|volume=1.28 GB",
          "WRITE|on:tier2|volume=476.84 EB",
          "WRITE|on:tier2|volume=476.84 EB",
          "COMPUTE|volume=0B",
          "COMPUTE|volume=0B",
          "READ|on:tier2|volume=3.02 MB",
          "READ|on:tier2|volume=3.02 MB",
          "WRITE|on:tier2|volume=1.21 MB",
          "WRITE|on:tier2|volume=1.21 MB",
          "WRITE|on:tier2|volume=5.33 GB",
          "WRITE|on:tier2|volume=5.33 GB",
          "COMPUTE|volume=0B",
          "COMPUTE|volume=0B",
          "READ|on:tier2|volume=7.05 MB",
          "READ|on:tier2|volume=7.05 MB",
          "WRITE|on:tier2|volume=2.82 MB",
          "WRITE|on:tier2|volume=2.82 MB",
          "WRITE|on:tier2|volume=5.3 GB",
          "WRITE|on:tier2|volume=5.3 GB",
          "COMPUTE|volume=0B",
          "COMPUTE|volume=0B",
          "READ|on:tier2|volume=2.52 MB",
          "READ|on:tier2|volume=2.52 MB",
          "WRITE|on:tier2|volume=1.01 MB",
          "WRITE|on:tier2|volume=1.01 MB",
          "WRITE|on:tier2|volume=5.33 GB",
          "WRITE|on:tier2|volume=5.33 GB",
          "COMPUTE|volume=0B",
          "COMPUTE|volume=0B"
         ],
         "textposition": "top center",
         "type": "scatter",
         "x": [
          0,
          1.0042743208938547,
          2.0085486417877094,
          3.012822962681564,
          4.017097283575419,
          5.021371604469273,
          6.025645925363128,
          7.029920246256983,
          8.034194567150838,
          9.038468888044692,
          10.042743208938546,
          11.047017529832402,
          12.051291850726257,
          13.05556617162011,
          14.059840492513967,
          15.064114813407821,
          16.068389134301675,
          17.07266345519553,
          18.076937776089384,
          19.08121209698324,
          20.085486417877092,
          21.08976073877095,
          22.094035059664805,
          23.098309380558657,
          24.102583701452513,
          25.10685802234637,
          26.11113234324022,
          27.115406664134078,
          28.119680985027934,
          29.123955305921786,
          30.128229626815642,
          31.132503947709495,
          32.13677826860335,
          33.14105258949721,
          34.14532691039106,
          35.14960123128491,
          36.15387555217877,
          37.158149873072624,
          38.16242419396648,
          39.166698514860336,
          40.170972835754185,
          41.17524715664804,
          42.1795214775419,
          43.18379579843575,
          44.18807011932961,
          45.192344440223465,
          46.196618761117314,
          47.20089308201117,
          48.205167402905026,
          49.20944172379888,
          50.21371604469274,
          51.21799036558659,
          52.22226468648044,
          53.2265390073743,
          54.230813328268155,
          55.23508764916201,
          56.23936197005587,
          57.243636290949716,
          58.24791061184357,
          59.25218493273743,
          60.256459253631284,
          61.26073357452514,
          62.26500789541899,
          63.269282216312845,
          64.2735565372067,
          65.27783085810056,
          66.28210517899441,
          67.28637949988827,
          68.29065382078213,
          69.29492814167598,
          70.29920246256982,
          71.30347678346368,
          72.30775110435754,
          73.31202542525139,
          74.31629974614525,
          75.3205740670391,
          76.32484838793296,
          77.32912270882682,
          78.33339702972067,
          79.33767135061453,
          80.34194567150837,
          81.34621999240223,
          82.35049431329608,
          83.35476863418994,
          84.3590429550838,
          85.36331727597765,
          86.3675915968715,
          87.37186591776536,
          88.37614023865922,
          89.38041455955307,
          90.38468888044693,
          91.38896320134077,
          92.39323752223463,
          93.39751184312848,
          94.40178616402234,
          95.4060604849162,
          96.41033480581005,
          97.41460912670391,
          98.41888344759776,
          99.42315776849162,
          100.42743208938548,
          101.43170641027933,
          102.43598073117317,
          103.44025505206703,
          104.44452937296089,
          105.44880369385474,
          106.4530780147486,
          107.45735233564245,
          108.46162665653631,
          109.46590097743017,
          110.47017529832402,
          111.47444961921788,
          112.47872394011173,
          113.48299826100558,
          114.48727258189943,
          115.49154690279329,
          116.49582122368714,
          117.500095544581,
          118.50436986547486,
          119.50864418636871,
          120.51291850726257,
          121.51719282815642,
          122.52146714905028,
          123.52574146994412,
          124.53001579083798,
          125.53429011173183,
          126.53856443262569,
          127.54283875351955,
          128.5471130744134,
          129.55138739530724,
          130.55566171620112,
          131.55993603709496,
          132.56421035798883,
          133.56848467888267,
          134.57275899977654,
          135.57703332067038,
          136.58130764156425,
          137.5855819624581,
          138.58985628335196,
          139.5941306042458,
          140.59840492513965,
          141.60267924603352,
          142.60695356692736,
          143.61122788782123,
          144.61550220871507,
          145.61977652960894,
          146.62405085050278,
          147.62832517139665,
          148.6325994922905,
          149.63687381318437,
          150.6411481340782,
          151.64542245497205,
          152.64969677586592,
          153.65397109675976,
          154.65824541765363,
          155.66251973854747,
          156.66679405944134,
          157.67106838033519,
          158.67534270122906,
          159.6796170221229,
          160.68389134301674,
          161.6881656639106,
          162.69243998480445,
          163.69671430569832,
          164.70098862659216,
          165.70526294748603,
          166.70953726837988,
          167.71381158927375,
          168.7180859101676,
          169.72236023106146,
          170.7266345519553,
          171.73090887284914,
          172.735183193743,
          173.73945751463685,
          174.74373183553072,
          175.74800615642457,
          176.75228047731844,
          177.75655479821228,
          178.76082911910615,
          179.76510344
         ],
         "xaxis": "x2",
         "y": [
          0,
          500,
          500,
          500,
          500,
          0,
          0,
          0,
          0,
          0,
          0,
          0,
          250,
          250,
          250,
          250,
          250,
          250,
          0,
          0,
          0,
          0,
          0,
          0,
          0,
          0,
          0,
          0,
          0,
          250,
          250,
          250,
          250,
          250,
          250,
          250,
          250,
          250,
          250,
          250,
          250,
          250,
          0,
          0,
          0,
          0,
          0,
          0,
          0,
          0,
          0,
          0,
          0,
          0,
          0,
          0,
          0,
          0,
          0,
          0,
          0,
          0,
          0,
          0,
          0,
          0,
          0,
          0,
          0,
          0,
          0,
          0,
          0,
          0,
          0,
          0,
          0,
          0,
          0,
          0,
          0,
          0,
          0,
          0,
          0,
          0,
          0,
          0,
          0,
          0,
          0,
          0,
          0,
          0,
          0,
          0,
          0,
          0,
          0,
          0,
          0,
          0,
          0,
          0,
          0,
          0,
          0,
          0,
          0,
          0,
          0,
          0,
          0,
          0,
          0,
          0,
          0,
          0,
          0,
          0,
          0,
          0,
          0,
          0,
          0,
          0,
          0,
          0,
          0,
          0,
          0,
          0,
          0,
          0,
          0,
          0,
          0,
          0,
          0,
          0,
          0,
          0,
          0,
          0,
          0,
          0,
          0,
          0,
          0,
          0,
          0,
          0,
          0,
          0,
          0,
          0,
          0,
          0,
          0,
          0,
          0,
          0,
          0,
          0,
          0,
          0,
          0,
          0,
          0,
          0,
          0,
          0,
          0,
          0,
          0,
          0,
          0,
          0,
          0,
          0
         ],
         "yaxis": "y2"
        },
        {
         "line": {
          "shape": "linear"
         },
         "name": "app#StaticTier#3918#write",
         "text": [
          "COMPUTE|volume=0B",
          "COMPUTE|volume=0B",
          "READ|on:tier2|volume=319.23 MB",
          "READ|on:tier2|volume=319.23 MB",
          "READ|on:tier2|volume=1.41 GB",
          "READ|on:tier2|volume=1.41 GB",
          "COMPUTE|volume=0B",
          "COMPUTE|volume=0B",
          "WRITE|on:tier2|volume=293.19 MB",
          "WRITE|on:tier2|volume=293.19 MB",
          "READ|on:tier2|volume=732.98 MB",
          "READ|on:tier2|volume=732.98 MB",
          "WRITE|on:tier2|volume=233.38 MB",
          "WRITE|on:tier2|volume=233.38 MB",
          "READ|on:tier2|volume=583.46 MB",
          "READ|on:tier2|volume=583.46 MB",
          "READ|on:tier2|volume=178.6 MB",
          "READ|on:tier2|volume=178.6 MB",
          "WRITE|on:tier2|volume=71.44 MB",
          "WRITE|on:tier2|volume=71.44 MB",
          "READ|on:tier2|volume=93.74 MB",
          "READ|on:tier2|volume=93.74 MB",
          "WRITE|on:tier2|volume=37.49 MB",
          "WRITE|on:tier2|volume=37.49 MB",
          "WRITE|on:tier2|volume=1.4 GB",
          "WRITE|on:tier2|volume=1.4 GB",
          "COMPUTE|volume=0B",
          "COMPUTE|volume=0B",
          "WRITE|on:tier2|volume=301.64 MB",
          "WRITE|on:tier2|volume=301.64 MB",
          "READ|on:tier2|volume=754.09 MB",
          "READ|on:tier2|volume=754.09 MB",
          "WRITE|on:tier2|volume=355.27 EB",
          "WRITE|on:tier2|volume=355.27 EB",
          "READ|on:tier2|volume=888.18 EB",
          "READ|on:tier2|volume=888.18 EB",
          "READ|on:tier2|volume=2.41 GB",
          "READ|on:tier2|volume=2.41 GB",
          "WRITE|on:tier2|volume=965.96 MB",
          "WRITE|on:tier2|volume=965.96 MB",
          "WRITE|on:tier2|volume=1.59 GB",
          "WRITE|on:tier2|volume=1.59 GB",
          "WRITE|on:tier2|volume=929.03 KB",
          "WRITE|on:tier2|volume=929.03 KB",
          "WRITE|on:tier2|volume=1.28 GB",
          "WRITE|on:tier2|volume=1.28 GB",
          "WRITE|on:tier2|volume=476.84 EB",
          "WRITE|on:tier2|volume=476.84 EB",
          "COMPUTE|volume=0B",
          "COMPUTE|volume=0B",
          "READ|on:tier2|volume=3.02 MB",
          "READ|on:tier2|volume=3.02 MB",
          "WRITE|on:tier2|volume=1.21 MB",
          "WRITE|on:tier2|volume=1.21 MB",
          "WRITE|on:tier2|volume=5.33 GB",
          "WRITE|on:tier2|volume=5.33 GB",
          "COMPUTE|volume=0B",
          "COMPUTE|volume=0B",
          "READ|on:tier2|volume=7.05 MB",
          "READ|on:tier2|volume=7.05 MB",
          "WRITE|on:tier2|volume=2.82 MB",
          "WRITE|on:tier2|volume=2.82 MB",
          "WRITE|on:tier2|volume=5.3 GB",
          "WRITE|on:tier2|volume=5.3 GB",
          "COMPUTE|volume=0B",
          "COMPUTE|volume=0B",
          "READ|on:tier2|volume=2.52 MB",
          "READ|on:tier2|volume=2.52 MB",
          "WRITE|on:tier2|volume=1.01 MB",
          "WRITE|on:tier2|volume=1.01 MB",
          "WRITE|on:tier2|volume=5.33 GB",
          "WRITE|on:tier2|volume=5.33 GB",
          "COMPUTE|volume=0B",
          "COMPUTE|volume=0B"
         ],
         "textposition": "top center",
         "type": "scatter",
         "x": [
          0,
          1.0042743208938547,
          2.0085486417877094,
          3.012822962681564,
          4.017097283575419,
          5.021371604469273,
          6.025645925363128,
          7.029920246256983,
          8.034194567150838,
          9.038468888044692,
          10.042743208938546,
          11.047017529832402,
          12.051291850726257,
          13.05556617162011,
          14.059840492513967,
          15.064114813407821,
          16.068389134301675,
          17.07266345519553,
          18.076937776089384,
          19.08121209698324,
          20.085486417877092,
          21.08976073877095,
          22.094035059664805,
          23.098309380558657,
          24.102583701452513,
          25.10685802234637,
          26.11113234324022,
          27.115406664134078,
          28.119680985027934,
          29.123955305921786,
          30.128229626815642,
          31.132503947709495,
          32.13677826860335,
          33.14105258949721,
          34.14532691039106,
          35.14960123128491,
          36.15387555217877,
          37.158149873072624,
          38.16242419396648,
          39.166698514860336,
          40.170972835754185,
          41.17524715664804,
          42.1795214775419,
          43.18379579843575,
          44.18807011932961,
          45.192344440223465,
          46.196618761117314,
          47.20089308201117,
          48.205167402905026,
          49.20944172379888,
          50.21371604469274,
          51.21799036558659,
          52.22226468648044,
          53.2265390073743,
          54.230813328268155,
          55.23508764916201,
          56.23936197005587,
          57.243636290949716,
          58.24791061184357,
          59.25218493273743,
          60.256459253631284,
          61.26073357452514,
          62.26500789541899,
          63.269282216312845,
          64.2735565372067,
          65.27783085810056,
          66.28210517899441,
          67.28637949988827,
          68.29065382078213,
          69.29492814167598,
          70.29920246256982,
          71.30347678346368,
          72.30775110435754,
          73.31202542525139,
          74.31629974614525,
          75.3205740670391,
          76.32484838793296,
          77.32912270882682,
          78.33339702972067,
          79.33767135061453,
          80.34194567150837,
          81.34621999240223,
          82.35049431329608,
          83.35476863418994,
          84.3590429550838,
          85.36331727597765,
          86.3675915968715,
          87.37186591776536,
          88.37614023865922,
          89.38041455955307,
          90.38468888044693,
          91.38896320134077,
          92.39323752223463,
          93.39751184312848,
          94.40178616402234,
          95.4060604849162,
          96.41033480581005,
          97.41460912670391,
          98.41888344759776,
          99.42315776849162,
          100.42743208938548,
          101.43170641027933,
          102.43598073117317,
          103.44025505206703,
          104.44452937296089,
          105.44880369385474,
          106.4530780147486,
          107.45735233564245,
          108.46162665653631,
          109.46590097743017,
          110.47017529832402,
          111.47444961921788,
          112.47872394011173,
          113.48299826100558,
          114.48727258189943,
          115.49154690279329,
          116.49582122368714,
          117.500095544581,
          118.50436986547486,
          119.50864418636871,
          120.51291850726257,
          121.51719282815642,
          122.52146714905028,
          123.52574146994412,
          124.53001579083798,
          125.53429011173183,
          126.53856443262569,
          127.54283875351955,
          128.5471130744134,
          129.55138739530724,
          130.55566171620112,
          131.55993603709496,
          132.56421035798883,
          133.56848467888267,
          134.57275899977654,
          135.57703332067038,
          136.58130764156425,
          137.5855819624581,
          138.58985628335196,
          139.5941306042458,
          140.59840492513965,
          141.60267924603352,
          142.60695356692736,
          143.61122788782123,
          144.61550220871507,
          145.61977652960894,
          146.62405085050278,
          147.62832517139665,
          148.6325994922905,
          149.63687381318437,
          150.6411481340782,
          151.64542245497205,
          152.64969677586592,
          153.65397109675976,
          154.65824541765363,
          155.66251973854747,
          156.66679405944134,
          157.67106838033519,
          158.67534270122906,
          159.6796170221229,
          160.68389134301674,
          161.6881656639106,
          162.69243998480445,
          163.69671430569832,
          164.70098862659216,
          165.70526294748603,
          166.70953726837988,
          167.71381158927375,
          168.7180859101676,
          169.72236023106146,
          170.7266345519553,
          171.73090887284914,
          172.735183193743,
          173.73945751463685,
          174.74373183553072,
          175.74800615642457,
          176.75228047731844,
          177.75655479821228,
          178.76082911910615,
          179.76510344
         ],
         "xaxis": "x2",
         "y": [
          0,
          0,
          0,
          0,
          0,
          0,
          0,
          0,
          0,
          0,
          0,
          0,
          100,
          100,
          100,
          100,
          100,
          100,
          200,
          200,
          200,
          200,
          200,
          200,
          200,
          0,
          0,
          0,
          0,
          100,
          100,
          100,
          100,
          100,
          100,
          100,
          100,
          100,
          100,
          100,
          100,
          100,
          200,
          200,
          200,
          200,
          200,
          200,
          200,
          200,
          200,
          200,
          200,
          200,
          200,
          200,
          0,
          0,
          0,
          0,
          0,
          0,
          0,
          0,
          0,
          0,
          0,
          0,
          0,
          0,
          0,
          0,
          0,
          0,
          0,
          0,
          0,
          0,
          0,
          0,
          0,
          0,
          0,
          0,
          0,
          0,
          0,
          0,
          200,
          200,
          200,
          200,
          200,
          200,
          200,
          200,
          200,
          200,
          200,
          200,
          200,
          200,
          200,
          200,
          200,
          200,
          200,
          200,
          200,
          200,
          200,
          200,
          200,
          200,
          200,
          0,
          0,
          0,
          0,
          0,
          0,
          200,
          200,
          200,
          200,
          200,
          200,
          200,
          200,
          200,
          200,
          200,
          200,
          200,
          200,
          200,
          200,
          200,
          200,
          200,
          200,
          200,
          200,
          200,
          200,
          200,
          200,
          0,
          0,
          0,
          0,
          200,
          200,
          200,
          200,
          200,
          200,
          200,
          200,
          200,
          200,
          200,
          200,
          200,
          200,
          200,
          200,
          200,
          200,
          200,
          200,
          200,
          200,
          200,
          200,
          200,
          200,
          200,
          0,
          0
         ],
         "yaxis": "y2"
        },
        {
         "line": {
          "dash": "dot",
          "shape": "linear"
         },
         "name": "StaticTier#3918 mvt",
         "text": [],
         "textposition": "top center",
         "type": "scatter",
         "x": [],
         "xaxis": "x2",
         "y": [],
         "yaxis": "y2"
        }
       ],
       "layout": {
        "annotations": [
         {
          "font": {
           "size": 16
          },
          "showarrow": false,
          "text": "app#PerfTier#3918",
          "x": 0.5,
          "xanchor": "center",
          "xref": "paper",
          "y": 1,
          "yanchor": "bottom",
          "yref": "paper"
         },
         {
          "font": {
           "size": 16
          },
          "showarrow": false,
          "text": "app#StaticTier#3918",
          "x": 0.5,
          "xanchor": "center",
          "xref": "paper",
          "y": 0.375,
          "yanchor": "bottom",
          "yref": "paper"
         }
        ],
        "height": 600,
        "template": {
         "data": {
          "bar": [
           {
            "error_x": {
             "color": "#2a3f5f"
            },
            "error_y": {
             "color": "#2a3f5f"
            },
            "marker": {
             "line": {
              "color": "#E5ECF6",
              "width": 0.5
             },
             "pattern": {
              "fillmode": "overlay",
              "size": 10,
              "solidity": 0.2
             }
            },
            "type": "bar"
           }
          ],
          "barpolar": [
           {
            "marker": {
             "line": {
              "color": "#E5ECF6",
              "width": 0.5
             },
             "pattern": {
              "fillmode": "overlay",
              "size": 10,
              "solidity": 0.2
             }
            },
            "type": "barpolar"
           }
          ],
          "carpet": [
           {
            "aaxis": {
             "endlinecolor": "#2a3f5f",
             "gridcolor": "white",
             "linecolor": "white",
             "minorgridcolor": "white",
             "startlinecolor": "#2a3f5f"
            },
            "baxis": {
             "endlinecolor": "#2a3f5f",
             "gridcolor": "white",
             "linecolor": "white",
             "minorgridcolor": "white",
             "startlinecolor": "#2a3f5f"
            },
            "type": "carpet"
           }
          ],
          "choropleth": [
           {
            "colorbar": {
             "outlinewidth": 0,
             "ticks": ""
            },
            "type": "choropleth"
           }
          ],
          "contour": [
           {
            "colorbar": {
             "outlinewidth": 0,
             "ticks": ""
            },
            "colorscale": [
             [
              0,
              "#0d0887"
             ],
             [
              0.1111111111111111,
              "#46039f"
             ],
             [
              0.2222222222222222,
              "#7201a8"
             ],
             [
              0.3333333333333333,
              "#9c179e"
             ],
             [
              0.4444444444444444,
              "#bd3786"
             ],
             [
              0.5555555555555556,
              "#d8576b"
             ],
             [
              0.6666666666666666,
              "#ed7953"
             ],
             [
              0.7777777777777778,
              "#fb9f3a"
             ],
             [
              0.8888888888888888,
              "#fdca26"
             ],
             [
              1,
              "#f0f921"
             ]
            ],
            "type": "contour"
           }
          ],
          "contourcarpet": [
           {
            "colorbar": {
             "outlinewidth": 0,
             "ticks": ""
            },
            "type": "contourcarpet"
           }
          ],
          "heatmap": [
           {
            "colorbar": {
             "outlinewidth": 0,
             "ticks": ""
            },
            "colorscale": [
             [
              0,
              "#0d0887"
             ],
             [
              0.1111111111111111,
              "#46039f"
             ],
             [
              0.2222222222222222,
              "#7201a8"
             ],
             [
              0.3333333333333333,
              "#9c179e"
             ],
             [
              0.4444444444444444,
              "#bd3786"
             ],
             [
              0.5555555555555556,
              "#d8576b"
             ],
             [
              0.6666666666666666,
              "#ed7953"
             ],
             [
              0.7777777777777778,
              "#fb9f3a"
             ],
             [
              0.8888888888888888,
              "#fdca26"
             ],
             [
              1,
              "#f0f921"
             ]
            ],
            "type": "heatmap"
           }
          ],
          "heatmapgl": [
           {
            "colorbar": {
             "outlinewidth": 0,
             "ticks": ""
            },
            "colorscale": [
             [
              0,
              "#0d0887"
             ],
             [
              0.1111111111111111,
              "#46039f"
             ],
             [
              0.2222222222222222,
              "#7201a8"
             ],
             [
              0.3333333333333333,
              "#9c179e"
             ],
             [
              0.4444444444444444,
              "#bd3786"
             ],
             [
              0.5555555555555556,
              "#d8576b"
             ],
             [
              0.6666666666666666,
              "#ed7953"
             ],
             [
              0.7777777777777778,
              "#fb9f3a"
             ],
             [
              0.8888888888888888,
              "#fdca26"
             ],
             [
              1,
              "#f0f921"
             ]
            ],
            "type": "heatmapgl"
           }
          ],
          "histogram": [
           {
            "marker": {
             "pattern": {
              "fillmode": "overlay",
              "size": 10,
              "solidity": 0.2
             }
            },
            "type": "histogram"
           }
          ],
          "histogram2d": [
           {
            "colorbar": {
             "outlinewidth": 0,
             "ticks": ""
            },
            "colorscale": [
             [
              0,
              "#0d0887"
             ],
             [
              0.1111111111111111,
              "#46039f"
             ],
             [
              0.2222222222222222,
              "#7201a8"
             ],
             [
              0.3333333333333333,
              "#9c179e"
             ],
             [
              0.4444444444444444,
              "#bd3786"
             ],
             [
              0.5555555555555556,
              "#d8576b"
             ],
             [
              0.6666666666666666,
              "#ed7953"
             ],
             [
              0.7777777777777778,
              "#fb9f3a"
             ],
             [
              0.8888888888888888,
              "#fdca26"
             ],
             [
              1,
              "#f0f921"
             ]
            ],
            "type": "histogram2d"
           }
          ],
          "histogram2dcontour": [
           {
            "colorbar": {
             "outlinewidth": 0,
             "ticks": ""
            },
            "colorscale": [
             [
              0,
              "#0d0887"
             ],
             [
              0.1111111111111111,
              "#46039f"
             ],
             [
              0.2222222222222222,
              "#7201a8"
             ],
             [
              0.3333333333333333,
              "#9c179e"
             ],
             [
              0.4444444444444444,
              "#bd3786"
             ],
             [
              0.5555555555555556,
              "#d8576b"
             ],
             [
              0.6666666666666666,
              "#ed7953"
             ],
             [
              0.7777777777777778,
              "#fb9f3a"
             ],
             [
              0.8888888888888888,
              "#fdca26"
             ],
             [
              1,
              "#f0f921"
             ]
            ],
            "type": "histogram2dcontour"
           }
          ],
          "mesh3d": [
           {
            "colorbar": {
             "outlinewidth": 0,
             "ticks": ""
            },
            "type": "mesh3d"
           }
          ],
          "parcoords": [
           {
            "line": {
             "colorbar": {
              "outlinewidth": 0,
              "ticks": ""
             }
            },
            "type": "parcoords"
           }
          ],
          "pie": [
           {
            "automargin": true,
            "type": "pie"
           }
          ],
          "scatter": [
           {
            "fillpattern": {
             "fillmode": "overlay",
             "size": 10,
             "solidity": 0.2
            },
            "type": "scatter"
           }
          ],
          "scatter3d": [
           {
            "line": {
             "colorbar": {
              "outlinewidth": 0,
              "ticks": ""
             }
            },
            "marker": {
             "colorbar": {
              "outlinewidth": 0,
              "ticks": ""
             }
            },
            "type": "scatter3d"
           }
          ],
          "scattercarpet": [
           {
            "marker": {
             "colorbar": {
              "outlinewidth": 0,
              "ticks": ""
             }
            },
            "type": "scattercarpet"
           }
          ],
          "scattergeo": [
           {
            "marker": {
             "colorbar": {
              "outlinewidth": 0,
              "ticks": ""
             }
            },
            "type": "scattergeo"
           }
          ],
          "scattergl": [
           {
            "marker": {
             "colorbar": {
              "outlinewidth": 0,
              "ticks": ""
             }
            },
            "type": "scattergl"
           }
          ],
          "scattermapbox": [
           {
            "marker": {
             "colorbar": {
              "outlinewidth": 0,
              "ticks": ""
             }
            },
            "type": "scattermapbox"
           }
          ],
          "scatterpolar": [
           {
            "marker": {
             "colorbar": {
              "outlinewidth": 0,
              "ticks": ""
             }
            },
            "type": "scatterpolar"
           }
          ],
          "scatterpolargl": [
           {
            "marker": {
             "colorbar": {
              "outlinewidth": 0,
              "ticks": ""
             }
            },
            "type": "scatterpolargl"
           }
          ],
          "scatterternary": [
           {
            "marker": {
             "colorbar": {
              "outlinewidth": 0,
              "ticks": ""
             }
            },
            "type": "scatterternary"
           }
          ],
          "surface": [
           {
            "colorbar": {
             "outlinewidth": 0,
             "ticks": ""
            },
            "colorscale": [
             [
              0,
              "#0d0887"
             ],
             [
              0.1111111111111111,
              "#46039f"
             ],
             [
              0.2222222222222222,
              "#7201a8"
             ],
             [
              0.3333333333333333,
              "#9c179e"
             ],
             [
              0.4444444444444444,
              "#bd3786"
             ],
             [
              0.5555555555555556,
              "#d8576b"
             ],
             [
              0.6666666666666666,
              "#ed7953"
             ],
             [
              0.7777777777777778,
              "#fb9f3a"
             ],
             [
              0.8888888888888888,
              "#fdca26"
             ],
             [
              1,
              "#f0f921"
             ]
            ],
            "type": "surface"
           }
          ],
          "table": [
           {
            "cells": {
             "fill": {
              "color": "#EBF0F8"
             },
             "line": {
              "color": "white"
             }
            },
            "header": {
             "fill": {
              "color": "#C8D4E3"
             },
             "line": {
              "color": "white"
             }
            },
            "type": "table"
           }
          ]
         },
         "layout": {
          "annotationdefaults": {
           "arrowcolor": "#2a3f5f",
           "arrowhead": 0,
           "arrowwidth": 1
          },
          "autotypenumbers": "strict",
          "coloraxis": {
           "colorbar": {
            "outlinewidth": 0,
            "ticks": ""
           }
          },
          "colorscale": {
           "diverging": [
            [
             0,
             "#8e0152"
            ],
            [
             0.1,
             "#c51b7d"
            ],
            [
             0.2,
             "#de77ae"
            ],
            [
             0.3,
             "#f1b6da"
            ],
            [
             0.4,
             "#fde0ef"
            ],
            [
             0.5,
             "#f7f7f7"
            ],
            [
             0.6,
             "#e6f5d0"
            ],
            [
             0.7,
             "#b8e186"
            ],
            [
             0.8,
             "#7fbc41"
            ],
            [
             0.9,
             "#4d9221"
            ],
            [
             1,
             "#276419"
            ]
           ],
           "sequential": [
            [
             0,
             "#0d0887"
            ],
            [
             0.1111111111111111,
             "#46039f"
            ],
            [
             0.2222222222222222,
             "#7201a8"
            ],
            [
             0.3333333333333333,
             "#9c179e"
            ],
            [
             0.4444444444444444,
             "#bd3786"
            ],
            [
             0.5555555555555556,
             "#d8576b"
            ],
            [
             0.6666666666666666,
             "#ed7953"
            ],
            [
             0.7777777777777778,
             "#fb9f3a"
            ],
            [
             0.8888888888888888,
             "#fdca26"
            ],
            [
             1,
             "#f0f921"
            ]
           ],
           "sequentialminus": [
            [
             0,
             "#0d0887"
            ],
            [
             0.1111111111111111,
             "#46039f"
            ],
            [
             0.2222222222222222,
             "#7201a8"
            ],
            [
             0.3333333333333333,
             "#9c179e"
            ],
            [
             0.4444444444444444,
             "#bd3786"
            ],
            [
             0.5555555555555556,
             "#d8576b"
            ],
            [
             0.6666666666666666,
             "#ed7953"
            ],
            [
             0.7777777777777778,
             "#fb9f3a"
            ],
            [
             0.8888888888888888,
             "#fdca26"
            ],
            [
             1,
             "#f0f921"
            ]
           ]
          },
          "colorway": [
           "#636efa",
           "#EF553B",
           "#00cc96",
           "#ab63fa",
           "#FFA15A",
           "#19d3f3",
           "#FF6692",
           "#B6E880",
           "#FF97FF",
           "#FECB52"
          ],
          "font": {
           "color": "#2a3f5f"
          },
          "geo": {
           "bgcolor": "white",
           "lakecolor": "white",
           "landcolor": "#E5ECF6",
           "showlakes": true,
           "showland": true,
           "subunitcolor": "white"
          },
          "hoverlabel": {
           "align": "left"
          },
          "hovermode": "closest",
          "mapbox": {
           "style": "light"
          },
          "paper_bgcolor": "white",
          "plot_bgcolor": "#E5ECF6",
          "polar": {
           "angularaxis": {
            "gridcolor": "white",
            "linecolor": "white",
            "ticks": ""
           },
           "bgcolor": "#E5ECF6",
           "radialaxis": {
            "gridcolor": "white",
            "linecolor": "white",
            "ticks": ""
           }
          },
          "scene": {
           "xaxis": {
            "backgroundcolor": "#E5ECF6",
            "gridcolor": "white",
            "gridwidth": 2,
            "linecolor": "white",
            "showbackground": true,
            "ticks": "",
            "zerolinecolor": "white"
           },
           "yaxis": {
            "backgroundcolor": "#E5ECF6",
            "gridcolor": "white",
            "gridwidth": 2,
            "linecolor": "white",
            "showbackground": true,
            "ticks": "",
            "zerolinecolor": "white"
           },
           "zaxis": {
            "backgroundcolor": "#E5ECF6",
            "gridcolor": "white",
            "gridwidth": 2,
            "linecolor": "white",
            "showbackground": true,
            "ticks": "",
            "zerolinecolor": "white"
           }
          },
          "shapedefaults": {
           "line": {
            "color": "#2a3f5f"
           }
          },
          "ternary": {
           "aaxis": {
            "gridcolor": "white",
            "linecolor": "white",
            "ticks": ""
           },
           "baxis": {
            "gridcolor": "white",
            "linecolor": "white",
            "ticks": ""
           },
           "bgcolor": "#E5ECF6",
           "caxis": {
            "gridcolor": "white",
            "linecolor": "white",
            "ticks": ""
           }
          },
          "title": {
           "x": 0.05
          },
          "xaxis": {
           "automargin": true,
           "gridcolor": "white",
           "linecolor": "white",
           "ticks": "",
           "title": {
            "standoff": 15
           },
           "zerolinecolor": "white",
           "zerolinewidth": 2
          },
          "yaxis": {
           "automargin": true,
           "gridcolor": "white",
           "linecolor": "white",
           "ticks": "",
           "title": {
            "standoff": 15
           },
           "zerolinecolor": "white",
           "zerolinewidth": 2
          }
         }
        },
        "title": {
         "text": "Application Dataflow"
        },
        "width": 800,
        "xaxis": {
         "anchor": "y",
         "domain": [
          0,
          1
         ],
         "matches": "x2",
         "showticklabels": false,
         "title": {
          "text": "time in s"
         }
        },
        "xaxis2": {
         "anchor": "y2",
         "domain": [
          0,
          1
         ],
         "title": {
          "text": "time in s"
         }
        },
        "yaxis": {
         "anchor": "x",
         "domain": [
          0.625,
          1
         ],
         "title": {
          "text": "dataflow in MB/s"
         }
        },
        "yaxis2": {
         "anchor": "x2",
         "domain": [
          0,
          0.375
         ],
         "title": {
          "text": "dataflow in MB/s"
         }
        }
       }
      },
      "text/html": [
       "<div>                            <div id=\"3b907aa0-f3f0-4f9f-bcbe-9cb99e0aab30\" class=\"plotly-graph-div\" style=\"height:600px; width:800px;\"></div>            <script type=\"text/javascript\">                require([\"plotly\"], function(Plotly) {                    window.PLOTLYENV=window.PLOTLYENV || {};                                    if (document.getElementById(\"3b907aa0-f3f0-4f9f-bcbe-9cb99e0aab30\")) {                    Plotly.newPlot(                        \"3b907aa0-f3f0-4f9f-bcbe-9cb99e0aab30\",                        [{\"line\":{\"shape\":\"linear\"},\"name\":\"app#PerfTier#3918#read\",\"text\":[\"COMPUTE|volume=0B\",\"COMPUTE|volume=0B\",\"READ|on:tier1|volume=1.73 GB\",\"READ|on:tier1|volume=1.73 GB\",\"COMPUTE|volume=0B\",\"COMPUTE|volume=0B\",\"READ|on:tier1|volume=1.59 GB\",\"READ|on:tier1|volume=1.59 GB\",\"WRITE|on:tier1|volume=1.59 GB\",\"WRITE|on:tier1|volume=1.59 GB\",\"WRITE|on:tier1|volume=450.01 MB\",\"WRITE|on:tier1|volume=450.01 MB\",\"COMPUTE|volume=0B\",\"COMPUTE|volume=0B\",\"READ|on:tier1|volume=3.17 GB\",\"READ|on:tier1|volume=3.17 GB\",\"WRITE|on:tier1|volume=3.17 GB\",\"WRITE|on:tier1|volume=3.17 GB\",\"WRITE|on:tier1|volume=970.03 MB\",\"WRITE|on:tier1|volume=970.03 MB\",\"COMPUTE|volume=0B\",\"COMPUTE|volume=0B\",\"READ|on:tier1|volume=3.02 MB\",\"READ|on:tier1|volume=3.02 MB\",\"WRITE|on:tier1|volume=3.02 MB\",\"WRITE|on:tier1|volume=3.02 MB\",\"WRITE|on:tier1|volume=4.18 GB\",\"WRITE|on:tier1|volume=4.18 GB\",\"WRITE|on:tier1|volume=1.15 GB\",\"WRITE|on:tier1|volume=1.15 GB\",\"COMPUTE|volume=0B\",\"COMPUTE|volume=0B\",\"READ|on:tier1|volume=7.05 MB\",\"READ|on:tier1|volume=7.05 MB\",\"WRITE|on:tier1|volume=7.05 MB\",\"WRITE|on:tier1|volume=7.05 MB\",\"WRITE|on:tier1|volume=4.27 GB\",\"WRITE|on:tier1|volume=4.27 GB\",\"WRITE|on:tier1|volume=1.03 GB\",\"WRITE|on:tier1|volume=1.03 GB\",\"COMPUTE|volume=0B\",\"COMPUTE|volume=0B\",\"READ|on:tier1|volume=2.52 MB\",\"READ|on:tier1|volume=2.52 MB\",\"WRITE|on:tier1|volume=2.52 MB\",\"WRITE|on:tier1|volume=2.52 MB\",\"WRITE|on:tier1|volume=5.33 GB\",\"WRITE|on:tier1|volume=5.33 GB\",\"COMPUTE|volume=0B\",\"COMPUTE|volume=0B\"],\"textposition\":\"top center\",\"x\":[0.0,1.0117230330689355,2.023446066137871,3.0351690992068066,4.046892132275742,5.058615165344678,6.070338198413613,7.082061231482548,8.093784264551484,9.10550729762042,10.117230330689356,11.12895336375829,12.140676396827226,13.152399429896162,14.164122462965096,15.175845496034032,16.18756852910297,17.199291562171904,18.21101459524084,19.222737628309776,20.234460661378712,21.246183694447645,22.25790672751658,23.269629760585516,24.281352793654452,25.29307582672339,26.304798859792324,27.31652189286126,28.328244925930193,29.33996795899913,30.351690992068065,31.363414025137,32.37513705820594,33.38686009127487,34.39858312434381,35.41030615741274,36.42202919048168,37.43375222355061,38.44547525661955,39.457198289688485,40.468921322757424,41.48064435582636,42.49236738889529,43.50409042196423,44.51581345503316,45.5275364881021,46.53925952117103,47.55098255423997,48.562705587308905,49.57442862037784,50.58615165344678,51.59787468651571,52.60959771958465,53.62132075265358,54.63304378572252,55.64476681879145,56.656489851860385,57.668212884929325,58.67993591799826,59.6916589510672,60.70338198413613,61.71510501720507,62.726828050274,63.73855108334294,64.75027411641187,65.7619971494808,66.77372018254974,67.78544321561868,68.79716624868762,69.80888928175655,70.82061231482548,71.83233534789443,72.84405838096336,73.8557814140323,74.86750444710123,75.87922748017016,76.8909505132391,77.90267354630804,78.91439657937697,79.9261196124459,80.93784264551485,81.94956567858378,82.96128871165271,83.97301174472165,84.98473477779058,85.99645781085952],\"y\":[0.0,2710.9446178043813,0.0,0.0,0.0,0.0,0.0,0.0,0.0,1161.6377796723486,0.0,0.0,0.0,0.0,0.0,1357.8435645938305,1357.8435645938305,0.0,0.0,0.0,0.0,0.0,0.0,0.0,0.0,0.0,0.0,0.0,0.0,0.0,0.0,0.0,0.0,0.0,0.0,0.0,0.0,0.0,0.0,0.0,0.0,0.0,0.0,0.0,0.0,0.0,0.0,0.0,0.0,0.0,0.0,0.0,0.0,0.0,0.0,0.0,0.0,0.0,0.0,0.0,0.0,0.0,0.0,0.0,0.0,0.0,0.0,0.0,0.0,0.0,0.0,0.0,0.0,0.0,0.0,0.0,0.0,0.0,0.0,0.0,0.0,0.0,0.0,0.0,0.0,0.0],\"type\":\"scatter\",\"xaxis\":\"x\",\"yaxis\":\"y\"},{\"line\":{\"shape\":\"linear\"},\"name\":\"app#PerfTier#3918#write\",\"text\":[\"COMPUTE|volume=0B\",\"COMPUTE|volume=0B\",\"READ|on:tier1|volume=1.73 GB\",\"READ|on:tier1|volume=1.73 GB\",\"COMPUTE|volume=0B\",\"COMPUTE|volume=0B\",\"READ|on:tier1|volume=1.59 GB\",\"READ|on:tier1|volume=1.59 GB\",\"WRITE|on:tier1|volume=1.59 GB\",\"WRITE|on:tier1|volume=1.59 GB\",\"WRITE|on:tier1|volume=450.01 MB\",\"WRITE|on:tier1|volume=450.01 MB\",\"COMPUTE|volume=0B\",\"COMPUTE|volume=0B\",\"READ|on:tier1|volume=3.17 GB\",\"READ|on:tier1|volume=3.17 GB\",\"WRITE|on:tier1|volume=3.17 GB\",\"WRITE|on:tier1|volume=3.17 GB\",\"WRITE|on:tier1|volume=970.03 MB\",\"WRITE|on:tier1|volume=970.03 MB\",\"COMPUTE|volume=0B\",\"COMPUTE|volume=0B\",\"READ|on:tier1|volume=3.02 MB\",\"READ|on:tier1|volume=3.02 MB\",\"WRITE|on:tier1|volume=3.02 MB\",\"WRITE|on:tier1|volume=3.02 MB\",\"WRITE|on:tier1|volume=4.18 GB\",\"WRITE|on:tier1|volume=4.18 GB\",\"WRITE|on:tier1|volume=1.15 GB\",\"WRITE|on:tier1|volume=1.15 GB\",\"COMPUTE|volume=0B\",\"COMPUTE|volume=0B\",\"READ|on:tier1|volume=7.05 MB\",\"READ|on:tier1|volume=7.05 MB\",\"WRITE|on:tier1|volume=7.05 MB\",\"WRITE|on:tier1|volume=7.05 MB\",\"WRITE|on:tier1|volume=4.27 GB\",\"WRITE|on:tier1|volume=4.27 GB\",\"WRITE|on:tier1|volume=1.03 GB\",\"WRITE|on:tier1|volume=1.03 GB\",\"COMPUTE|volume=0B\",\"COMPUTE|volume=0B\",\"READ|on:tier1|volume=2.52 MB\",\"READ|on:tier1|volume=2.52 MB\",\"WRITE|on:tier1|volume=2.52 MB\",\"WRITE|on:tier1|volume=2.52 MB\",\"WRITE|on:tier1|volume=5.33 GB\",\"WRITE|on:tier1|volume=5.33 GB\",\"COMPUTE|volume=0B\",\"COMPUTE|volume=0B\"],\"textposition\":\"top center\",\"x\":[0.0,1.0117230330689355,2.023446066137871,3.0351690992068066,4.046892132275742,5.058615165344678,6.070338198413613,7.082061231482548,8.093784264551484,9.10550729762042,10.117230330689356,11.12895336375829,12.140676396827226,13.152399429896162,14.164122462965096,15.175845496034032,16.18756852910297,17.199291562171904,18.21101459524084,19.222737628309776,20.234460661378712,21.246183694447645,22.25790672751658,23.269629760585516,24.281352793654452,25.29307582672339,26.304798859792324,27.31652189286126,28.328244925930193,29.33996795899913,30.351690992068065,31.363414025137,32.37513705820594,33.38686009127487,34.39858312434381,35.41030615741274,36.42202919048168,37.43375222355061,38.44547525661955,39.457198289688485,40.468921322757424,41.48064435582636,42.49236738889529,43.50409042196423,44.51581345503316,45.5275364881021,46.53925952117103,47.55098255423997,48.562705587308905,49.57442862037784,50.58615165344678,51.59787468651571,52.60959771958465,53.62132075265358,54.63304378572252,55.64476681879145,56.656489851860385,57.668212884929325,58.67993591799826,59.6916589510672,60.70338198413613,61.71510501720507,62.726828050274,63.73855108334294,64.75027411641187,65.7619971494808,66.77372018254974,67.78544321561868,68.79716624868762,69.80888928175655,70.82061231482548,71.83233534789443,72.84405838096336,73.8557814140323,74.86750444710123,75.87922748017016,76.8909505132391,77.90267354630804,78.91439657937697,79.9261196124459,80.93784264551485,81.94956567858378,82.96128871165271,83.97301174472165,84.98473477779058,85.99645781085952],\"y\":[0.0,0.0,0.0,0.0,0.0,0.0,0.0,0.0,0.0,1161.6377796723486,1161.6377796723486,0.0,0.0,0.0,0.0,1357.8435645938305,1357.8435645938305,1357.8435645938305,0.0,0.0,0.0,0.0,0.0,0.0,0.0,0.0,0.0,0.0,0.0,0.0,0.0,0.0,0.0,0.0,0.0,0.0,0.0,0.0,0.0,0.0,0.0,0.0,0.0,0.0,0.0,0.0,0.0,0.0,0.0,650.8438449520007,650.8438449520007,650.8438449520007,650.8438449520007,650.8438449520007,650.8438449520007,650.8438449520007,650.8438449520007,0.0,0.0,0.0,0.0,0.0,0.0,649.9844362341689,649.9844362341689,649.9844362341689,649.9844362341689,649.9844362341689,649.9844362341689,649.9844362341689,649.9844362341689,0.0,0.0,0.0,0.0,650.90523165387,650.90523165387,650.90523165387,650.90523165387,650.90523165387,650.90523165387,650.90523165387,650.90523165387,650.90523165387,0.0,0.0],\"type\":\"scatter\",\"xaxis\":\"x\",\"yaxis\":\"y\"},{\"line\":{\"dash\":\"dot\",\"shape\":\"linear\"},\"name\":\"PerfTier#3918 mvt\",\"text\":[],\"textposition\":\"top center\",\"x\":[],\"y\":[],\"type\":\"scatter\",\"xaxis\":\"x\",\"yaxis\":\"y\"},{\"line\":{\"shape\":\"linear\"},\"name\":\"app#StaticTier#3918#read\",\"text\":[\"COMPUTE|volume=0B\",\"COMPUTE|volume=0B\",\"READ|on:tier2|volume=319.23 MB\",\"READ|on:tier2|volume=319.23 MB\",\"READ|on:tier2|volume=1.41 GB\",\"READ|on:tier2|volume=1.41 GB\",\"COMPUTE|volume=0B\",\"COMPUTE|volume=0B\",\"WRITE|on:tier2|volume=293.19 MB\",\"WRITE|on:tier2|volume=293.19 MB\",\"READ|on:tier2|volume=732.98 MB\",\"READ|on:tier2|volume=732.98 MB\",\"WRITE|on:tier2|volume=233.38 MB\",\"WRITE|on:tier2|volume=233.38 MB\",\"READ|on:tier2|volume=583.46 MB\",\"READ|on:tier2|volume=583.46 MB\",\"READ|on:tier2|volume=178.6 MB\",\"READ|on:tier2|volume=178.6 MB\",\"WRITE|on:tier2|volume=71.44 MB\",\"WRITE|on:tier2|volume=71.44 MB\",\"READ|on:tier2|volume=93.74 MB\",\"READ|on:tier2|volume=93.74 MB\",\"WRITE|on:tier2|volume=37.49 MB\",\"WRITE|on:tier2|volume=37.49 MB\",\"WRITE|on:tier2|volume=1.4 GB\",\"WRITE|on:tier2|volume=1.4 GB\",\"COMPUTE|volume=0B\",\"COMPUTE|volume=0B\",\"WRITE|on:tier2|volume=301.64 MB\",\"WRITE|on:tier2|volume=301.64 MB\",\"READ|on:tier2|volume=754.09 MB\",\"READ|on:tier2|volume=754.09 MB\",\"WRITE|on:tier2|volume=355.27 EB\",\"WRITE|on:tier2|volume=355.27 EB\",\"READ|on:tier2|volume=888.18 EB\",\"READ|on:tier2|volume=888.18 EB\",\"READ|on:tier2|volume=2.41 GB\",\"READ|on:tier2|volume=2.41 GB\",\"WRITE|on:tier2|volume=965.96 MB\",\"WRITE|on:tier2|volume=965.96 MB\",\"WRITE|on:tier2|volume=1.59 GB\",\"WRITE|on:tier2|volume=1.59 GB\",\"WRITE|on:tier2|volume=929.03 KB\",\"WRITE|on:tier2|volume=929.03 KB\",\"WRITE|on:tier2|volume=1.28 GB\",\"WRITE|on:tier2|volume=1.28 GB\",\"WRITE|on:tier2|volume=476.84 EB\",\"WRITE|on:tier2|volume=476.84 EB\",\"COMPUTE|volume=0B\",\"COMPUTE|volume=0B\",\"READ|on:tier2|volume=3.02 MB\",\"READ|on:tier2|volume=3.02 MB\",\"WRITE|on:tier2|volume=1.21 MB\",\"WRITE|on:tier2|volume=1.21 MB\",\"WRITE|on:tier2|volume=5.33 GB\",\"WRITE|on:tier2|volume=5.33 GB\",\"COMPUTE|volume=0B\",\"COMPUTE|volume=0B\",\"READ|on:tier2|volume=7.05 MB\",\"READ|on:tier2|volume=7.05 MB\",\"WRITE|on:tier2|volume=2.82 MB\",\"WRITE|on:tier2|volume=2.82 MB\",\"WRITE|on:tier2|volume=5.3 GB\",\"WRITE|on:tier2|volume=5.3 GB\",\"COMPUTE|volume=0B\",\"COMPUTE|volume=0B\",\"READ|on:tier2|volume=2.52 MB\",\"READ|on:tier2|volume=2.52 MB\",\"WRITE|on:tier2|volume=1.01 MB\",\"WRITE|on:tier2|volume=1.01 MB\",\"WRITE|on:tier2|volume=5.33 GB\",\"WRITE|on:tier2|volume=5.33 GB\",\"COMPUTE|volume=0B\",\"COMPUTE|volume=0B\"],\"textposition\":\"top center\",\"x\":[0.0,1.0042743208938547,2.0085486417877094,3.012822962681564,4.017097283575419,5.021371604469273,6.025645925363128,7.029920246256983,8.034194567150838,9.038468888044692,10.042743208938546,11.047017529832402,12.051291850726257,13.05556617162011,14.059840492513967,15.064114813407821,16.068389134301675,17.07266345519553,18.076937776089384,19.08121209698324,20.085486417877092,21.08976073877095,22.094035059664805,23.098309380558657,24.102583701452513,25.10685802234637,26.11113234324022,27.115406664134078,28.119680985027934,29.123955305921786,30.128229626815642,31.132503947709495,32.13677826860335,33.14105258949721,34.14532691039106,35.14960123128491,36.15387555217877,37.158149873072624,38.16242419396648,39.166698514860336,40.170972835754185,41.17524715664804,42.1795214775419,43.18379579843575,44.18807011932961,45.192344440223465,46.196618761117314,47.20089308201117,48.205167402905026,49.20944172379888,50.21371604469274,51.21799036558659,52.22226468648044,53.2265390073743,54.230813328268155,55.23508764916201,56.23936197005587,57.243636290949716,58.24791061184357,59.25218493273743,60.256459253631284,61.26073357452514,62.26500789541899,63.269282216312845,64.2735565372067,65.27783085810056,66.28210517899441,67.28637949988827,68.29065382078213,69.29492814167598,70.29920246256982,71.30347678346368,72.30775110435754,73.31202542525139,74.31629974614525,75.3205740670391,76.32484838793296,77.32912270882682,78.33339702972067,79.33767135061453,80.34194567150837,81.34621999240223,82.35049431329608,83.35476863418994,84.3590429550838,85.36331727597765,86.3675915968715,87.37186591776536,88.37614023865922,89.38041455955307,90.38468888044693,91.38896320134077,92.39323752223463,93.39751184312848,94.40178616402234,95.4060604849162,96.41033480581005,97.41460912670391,98.41888344759776,99.42315776849162,100.42743208938548,101.43170641027933,102.43598073117317,103.44025505206703,104.44452937296089,105.44880369385474,106.4530780147486,107.45735233564245,108.46162665653631,109.46590097743017,110.47017529832402,111.47444961921788,112.47872394011173,113.48299826100558,114.48727258189943,115.49154690279329,116.49582122368714,117.500095544581,118.50436986547486,119.50864418636871,120.51291850726257,121.51719282815642,122.52146714905028,123.52574146994412,124.53001579083798,125.53429011173183,126.53856443262569,127.54283875351955,128.5471130744134,129.55138739530724,130.55566171620112,131.55993603709496,132.56421035798883,133.56848467888267,134.57275899977654,135.57703332067038,136.58130764156425,137.5855819624581,138.58985628335196,139.5941306042458,140.59840492513965,141.60267924603352,142.60695356692736,143.61122788782123,144.61550220871507,145.61977652960894,146.62405085050278,147.62832517139665,148.6325994922905,149.63687381318437,150.6411481340782,151.64542245497205,152.64969677586592,153.65397109675976,154.65824541765363,155.66251973854747,156.66679405944134,157.67106838033519,158.67534270122906,159.6796170221229,160.68389134301674,161.6881656639106,162.69243998480445,163.69671430569832,164.70098862659216,165.70526294748603,166.70953726837988,167.71381158927375,168.7180859101676,169.72236023106146,170.7266345519553,171.73090887284914,172.735183193743,173.73945751463685,174.74373183553072,175.74800615642457,176.75228047731844,177.75655479821228,178.76082911910615,179.76510344],\"y\":[0.0,500.0,500.0,500.0,500.0,0.0,0.0,0.0,0.0,0.0,0.0,0.0,250.0,250.0,250.0,250.0,250.0,250.0,0.0,0.0,0.0,0.0,0.0,0.0,0.0,0.0,0.0,0.0,0.0,250.0,250.0,250.0,250.0,250.0,250.0,250.0,250.0,250.0,250.0,250.0,250.0,250.0,0.0,0.0,0.0,0.0,0.0,0.0,0.0,0.0,0.0,0.0,0.0,0.0,0.0,0.0,0.0,0.0,0.0,0.0,0.0,0.0,0.0,0.0,0.0,0.0,0.0,0.0,0.0,0.0,0.0,0.0,0.0,0.0,0.0,0.0,0.0,0.0,0.0,0.0,0.0,0.0,0.0,0.0,0.0,0.0,0.0,0.0,0.0,0.0,0.0,0.0,0.0,0.0,0.0,0.0,0.0,0.0,0.0,0.0,0.0,0.0,0.0,0.0,0.0,0.0,0.0,0.0,0.0,0.0,0.0,0.0,0.0,0.0,0.0,0.0,0.0,0.0,0.0,0.0,0.0,0.0,0.0,0.0,0.0,0.0,0.0,0.0,0.0,0.0,0.0,0.0,0.0,0.0,0.0,0.0,0.0,0.0,0.0,0.0,0.0,0.0,0.0,0.0,0.0,0.0,0.0,0.0,0.0,0.0,0.0,0.0,0.0,0.0,0.0,0.0,0.0,0.0,0.0,0.0,0.0,0.0,0.0,0.0,0.0,0.0,0.0,0.0,0.0,0.0,0.0,0.0,0.0,0.0,0.0,0.0,0.0,0.0,0.0,0.0],\"type\":\"scatter\",\"xaxis\":\"x2\",\"yaxis\":\"y2\"},{\"line\":{\"shape\":\"linear\"},\"name\":\"app#StaticTier#3918#write\",\"text\":[\"COMPUTE|volume=0B\",\"COMPUTE|volume=0B\",\"READ|on:tier2|volume=319.23 MB\",\"READ|on:tier2|volume=319.23 MB\",\"READ|on:tier2|volume=1.41 GB\",\"READ|on:tier2|volume=1.41 GB\",\"COMPUTE|volume=0B\",\"COMPUTE|volume=0B\",\"WRITE|on:tier2|volume=293.19 MB\",\"WRITE|on:tier2|volume=293.19 MB\",\"READ|on:tier2|volume=732.98 MB\",\"READ|on:tier2|volume=732.98 MB\",\"WRITE|on:tier2|volume=233.38 MB\",\"WRITE|on:tier2|volume=233.38 MB\",\"READ|on:tier2|volume=583.46 MB\",\"READ|on:tier2|volume=583.46 MB\",\"READ|on:tier2|volume=178.6 MB\",\"READ|on:tier2|volume=178.6 MB\",\"WRITE|on:tier2|volume=71.44 MB\",\"WRITE|on:tier2|volume=71.44 MB\",\"READ|on:tier2|volume=93.74 MB\",\"READ|on:tier2|volume=93.74 MB\",\"WRITE|on:tier2|volume=37.49 MB\",\"WRITE|on:tier2|volume=37.49 MB\",\"WRITE|on:tier2|volume=1.4 GB\",\"WRITE|on:tier2|volume=1.4 GB\",\"COMPUTE|volume=0B\",\"COMPUTE|volume=0B\",\"WRITE|on:tier2|volume=301.64 MB\",\"WRITE|on:tier2|volume=301.64 MB\",\"READ|on:tier2|volume=754.09 MB\",\"READ|on:tier2|volume=754.09 MB\",\"WRITE|on:tier2|volume=355.27 EB\",\"WRITE|on:tier2|volume=355.27 EB\",\"READ|on:tier2|volume=888.18 EB\",\"READ|on:tier2|volume=888.18 EB\",\"READ|on:tier2|volume=2.41 GB\",\"READ|on:tier2|volume=2.41 GB\",\"WRITE|on:tier2|volume=965.96 MB\",\"WRITE|on:tier2|volume=965.96 MB\",\"WRITE|on:tier2|volume=1.59 GB\",\"WRITE|on:tier2|volume=1.59 GB\",\"WRITE|on:tier2|volume=929.03 KB\",\"WRITE|on:tier2|volume=929.03 KB\",\"WRITE|on:tier2|volume=1.28 GB\",\"WRITE|on:tier2|volume=1.28 GB\",\"WRITE|on:tier2|volume=476.84 EB\",\"WRITE|on:tier2|volume=476.84 EB\",\"COMPUTE|volume=0B\",\"COMPUTE|volume=0B\",\"READ|on:tier2|volume=3.02 MB\",\"READ|on:tier2|volume=3.02 MB\",\"WRITE|on:tier2|volume=1.21 MB\",\"WRITE|on:tier2|volume=1.21 MB\",\"WRITE|on:tier2|volume=5.33 GB\",\"WRITE|on:tier2|volume=5.33 GB\",\"COMPUTE|volume=0B\",\"COMPUTE|volume=0B\",\"READ|on:tier2|volume=7.05 MB\",\"READ|on:tier2|volume=7.05 MB\",\"WRITE|on:tier2|volume=2.82 MB\",\"WRITE|on:tier2|volume=2.82 MB\",\"WRITE|on:tier2|volume=5.3 GB\",\"WRITE|on:tier2|volume=5.3 GB\",\"COMPUTE|volume=0B\",\"COMPUTE|volume=0B\",\"READ|on:tier2|volume=2.52 MB\",\"READ|on:tier2|volume=2.52 MB\",\"WRITE|on:tier2|volume=1.01 MB\",\"WRITE|on:tier2|volume=1.01 MB\",\"WRITE|on:tier2|volume=5.33 GB\",\"WRITE|on:tier2|volume=5.33 GB\",\"COMPUTE|volume=0B\",\"COMPUTE|volume=0B\"],\"textposition\":\"top center\",\"x\":[0.0,1.0042743208938547,2.0085486417877094,3.012822962681564,4.017097283575419,5.021371604469273,6.025645925363128,7.029920246256983,8.034194567150838,9.038468888044692,10.042743208938546,11.047017529832402,12.051291850726257,13.05556617162011,14.059840492513967,15.064114813407821,16.068389134301675,17.07266345519553,18.076937776089384,19.08121209698324,20.085486417877092,21.08976073877095,22.094035059664805,23.098309380558657,24.102583701452513,25.10685802234637,26.11113234324022,27.115406664134078,28.119680985027934,29.123955305921786,30.128229626815642,31.132503947709495,32.13677826860335,33.14105258949721,34.14532691039106,35.14960123128491,36.15387555217877,37.158149873072624,38.16242419396648,39.166698514860336,40.170972835754185,41.17524715664804,42.1795214775419,43.18379579843575,44.18807011932961,45.192344440223465,46.196618761117314,47.20089308201117,48.205167402905026,49.20944172379888,50.21371604469274,51.21799036558659,52.22226468648044,53.2265390073743,54.230813328268155,55.23508764916201,56.23936197005587,57.243636290949716,58.24791061184357,59.25218493273743,60.256459253631284,61.26073357452514,62.26500789541899,63.269282216312845,64.2735565372067,65.27783085810056,66.28210517899441,67.28637949988827,68.29065382078213,69.29492814167598,70.29920246256982,71.30347678346368,72.30775110435754,73.31202542525139,74.31629974614525,75.3205740670391,76.32484838793296,77.32912270882682,78.33339702972067,79.33767135061453,80.34194567150837,81.34621999240223,82.35049431329608,83.35476863418994,84.3590429550838,85.36331727597765,86.3675915968715,87.37186591776536,88.37614023865922,89.38041455955307,90.38468888044693,91.38896320134077,92.39323752223463,93.39751184312848,94.40178616402234,95.4060604849162,96.41033480581005,97.41460912670391,98.41888344759776,99.42315776849162,100.42743208938548,101.43170641027933,102.43598073117317,103.44025505206703,104.44452937296089,105.44880369385474,106.4530780147486,107.45735233564245,108.46162665653631,109.46590097743017,110.47017529832402,111.47444961921788,112.47872394011173,113.48299826100558,114.48727258189943,115.49154690279329,116.49582122368714,117.500095544581,118.50436986547486,119.50864418636871,120.51291850726257,121.51719282815642,122.52146714905028,123.52574146994412,124.53001579083798,125.53429011173183,126.53856443262569,127.54283875351955,128.5471130744134,129.55138739530724,130.55566171620112,131.55993603709496,132.56421035798883,133.56848467888267,134.57275899977654,135.57703332067038,136.58130764156425,137.5855819624581,138.58985628335196,139.5941306042458,140.59840492513965,141.60267924603352,142.60695356692736,143.61122788782123,144.61550220871507,145.61977652960894,146.62405085050278,147.62832517139665,148.6325994922905,149.63687381318437,150.6411481340782,151.64542245497205,152.64969677586592,153.65397109675976,154.65824541765363,155.66251973854747,156.66679405944134,157.67106838033519,158.67534270122906,159.6796170221229,160.68389134301674,161.6881656639106,162.69243998480445,163.69671430569832,164.70098862659216,165.70526294748603,166.70953726837988,167.71381158927375,168.7180859101676,169.72236023106146,170.7266345519553,171.73090887284914,172.735183193743,173.73945751463685,174.74373183553072,175.74800615642457,176.75228047731844,177.75655479821228,178.76082911910615,179.76510344],\"y\":[0.0,0.0,0.0,0.0,0.0,0.0,0.0,0.0,0.0,0.0,0.0,0.0,100.0,100.0,100.0,100.0,100.0,100.0,200.0,200.0,200.0,200.0,200.0,200.0,200.0,0.0,0.0,0.0,0.0,100.0,100.0,100.0,100.0,100.0,100.0,100.0,100.0,100.0,100.0,100.0,100.0,100.0,200.0,200.0,200.0,200.0,200.0,200.0,200.0,200.0,200.0,200.0,200.0,200.0,200.0,200.0,0.0,0.0,0.0,0.0,0.0,0.0,0.0,0.0,0.0,0.0,0.0,0.0,0.0,0.0,0.0,0.0,0.0,0.0,0.0,0.0,0.0,0.0,0.0,0.0,0.0,0.0,0.0,0.0,0.0,0.0,0.0,0.0,200.0,200.0,200.0,200.0,200.0,200.0,200.0,200.0,200.0,200.0,200.0,200.0,200.0,200.0,200.0,200.0,200.0,200.0,200.0,200.0,200.0,200.0,200.0,200.0,200.0,200.0,200.0,0.0,0.0,0.0,0.0,0.0,0.0,200.0,200.0,200.0,200.0,200.0,200.0,200.0,200.0,200.0,200.0,200.0,200.0,200.0,200.0,200.0,200.0,200.0,200.0,200.0,200.0,200.0,200.0,200.0,200.0,200.0,200.0,0.0,0.0,0.0,0.0,200.0,200.0,200.0,200.0,200.0,200.0,200.0,200.0,200.0,200.0,200.0,200.0,200.0,200.0,200.0,200.0,200.0,200.0,200.0,200.0,200.0,200.0,200.0,200.0,200.0,200.0,200.0,0.0,0.0],\"type\":\"scatter\",\"xaxis\":\"x2\",\"yaxis\":\"y2\"},{\"line\":{\"dash\":\"dot\",\"shape\":\"linear\"},\"name\":\"StaticTier#3918 mvt\",\"text\":[],\"textposition\":\"top center\",\"x\":[],\"y\":[],\"type\":\"scatter\",\"xaxis\":\"x2\",\"yaxis\":\"y2\"}],                        {\"template\":{\"data\":{\"histogram2dcontour\":[{\"type\":\"histogram2dcontour\",\"colorbar\":{\"outlinewidth\":0,\"ticks\":\"\"},\"colorscale\":[[0.0,\"#0d0887\"],[0.1111111111111111,\"#46039f\"],[0.2222222222222222,\"#7201a8\"],[0.3333333333333333,\"#9c179e\"],[0.4444444444444444,\"#bd3786\"],[0.5555555555555556,\"#d8576b\"],[0.6666666666666666,\"#ed7953\"],[0.7777777777777778,\"#fb9f3a\"],[0.8888888888888888,\"#fdca26\"],[1.0,\"#f0f921\"]]}],\"choropleth\":[{\"type\":\"choropleth\",\"colorbar\":{\"outlinewidth\":0,\"ticks\":\"\"}}],\"histogram2d\":[{\"type\":\"histogram2d\",\"colorbar\":{\"outlinewidth\":0,\"ticks\":\"\"},\"colorscale\":[[0.0,\"#0d0887\"],[0.1111111111111111,\"#46039f\"],[0.2222222222222222,\"#7201a8\"],[0.3333333333333333,\"#9c179e\"],[0.4444444444444444,\"#bd3786\"],[0.5555555555555556,\"#d8576b\"],[0.6666666666666666,\"#ed7953\"],[0.7777777777777778,\"#fb9f3a\"],[0.8888888888888888,\"#fdca26\"],[1.0,\"#f0f921\"]]}],\"heatmap\":[{\"type\":\"heatmap\",\"colorbar\":{\"outlinewidth\":0,\"ticks\":\"\"},\"colorscale\":[[0.0,\"#0d0887\"],[0.1111111111111111,\"#46039f\"],[0.2222222222222222,\"#7201a8\"],[0.3333333333333333,\"#9c179e\"],[0.4444444444444444,\"#bd3786\"],[0.5555555555555556,\"#d8576b\"],[0.6666666666666666,\"#ed7953\"],[0.7777777777777778,\"#fb9f3a\"],[0.8888888888888888,\"#fdca26\"],[1.0,\"#f0f921\"]]}],\"heatmapgl\":[{\"type\":\"heatmapgl\",\"colorbar\":{\"outlinewidth\":0,\"ticks\":\"\"},\"colorscale\":[[0.0,\"#0d0887\"],[0.1111111111111111,\"#46039f\"],[0.2222222222222222,\"#7201a8\"],[0.3333333333333333,\"#9c179e\"],[0.4444444444444444,\"#bd3786\"],[0.5555555555555556,\"#d8576b\"],[0.6666666666666666,\"#ed7953\"],[0.7777777777777778,\"#fb9f3a\"],[0.8888888888888888,\"#fdca26\"],[1.0,\"#f0f921\"]]}],\"contourcarpet\":[{\"type\":\"contourcarpet\",\"colorbar\":{\"outlinewidth\":0,\"ticks\":\"\"}}],\"contour\":[{\"type\":\"contour\",\"colorbar\":{\"outlinewidth\":0,\"ticks\":\"\"},\"colorscale\":[[0.0,\"#0d0887\"],[0.1111111111111111,\"#46039f\"],[0.2222222222222222,\"#7201a8\"],[0.3333333333333333,\"#9c179e\"],[0.4444444444444444,\"#bd3786\"],[0.5555555555555556,\"#d8576b\"],[0.6666666666666666,\"#ed7953\"],[0.7777777777777778,\"#fb9f3a\"],[0.8888888888888888,\"#fdca26\"],[1.0,\"#f0f921\"]]}],\"surface\":[{\"type\":\"surface\",\"colorbar\":{\"outlinewidth\":0,\"ticks\":\"\"},\"colorscale\":[[0.0,\"#0d0887\"],[0.1111111111111111,\"#46039f\"],[0.2222222222222222,\"#7201a8\"],[0.3333333333333333,\"#9c179e\"],[0.4444444444444444,\"#bd3786\"],[0.5555555555555556,\"#d8576b\"],[0.6666666666666666,\"#ed7953\"],[0.7777777777777778,\"#fb9f3a\"],[0.8888888888888888,\"#fdca26\"],[1.0,\"#f0f921\"]]}],\"mesh3d\":[{\"type\":\"mesh3d\",\"colorbar\":{\"outlinewidth\":0,\"ticks\":\"\"}}],\"scatter\":[{\"fillpattern\":{\"fillmode\":\"overlay\",\"size\":10,\"solidity\":0.2},\"type\":\"scatter\"}],\"parcoords\":[{\"type\":\"parcoords\",\"line\":{\"colorbar\":{\"outlinewidth\":0,\"ticks\":\"\"}}}],\"scatterpolargl\":[{\"type\":\"scatterpolargl\",\"marker\":{\"colorbar\":{\"outlinewidth\":0,\"ticks\":\"\"}}}],\"bar\":[{\"error_x\":{\"color\":\"#2a3f5f\"},\"error_y\":{\"color\":\"#2a3f5f\"},\"marker\":{\"line\":{\"color\":\"#E5ECF6\",\"width\":0.5},\"pattern\":{\"fillmode\":\"overlay\",\"size\":10,\"solidity\":0.2}},\"type\":\"bar\"}],\"scattergeo\":[{\"type\":\"scattergeo\",\"marker\":{\"colorbar\":{\"outlinewidth\":0,\"ticks\":\"\"}}}],\"scatterpolar\":[{\"type\":\"scatterpolar\",\"marker\":{\"colorbar\":{\"outlinewidth\":0,\"ticks\":\"\"}}}],\"histogram\":[{\"marker\":{\"pattern\":{\"fillmode\":\"overlay\",\"size\":10,\"solidity\":0.2}},\"type\":\"histogram\"}],\"scattergl\":[{\"type\":\"scattergl\",\"marker\":{\"colorbar\":{\"outlinewidth\":0,\"ticks\":\"\"}}}],\"scatter3d\":[{\"type\":\"scatter3d\",\"line\":{\"colorbar\":{\"outlinewidth\":0,\"ticks\":\"\"}},\"marker\":{\"colorbar\":{\"outlinewidth\":0,\"ticks\":\"\"}}}],\"scattermapbox\":[{\"type\":\"scattermapbox\",\"marker\":{\"colorbar\":{\"outlinewidth\":0,\"ticks\":\"\"}}}],\"scatterternary\":[{\"type\":\"scatterternary\",\"marker\":{\"colorbar\":{\"outlinewidth\":0,\"ticks\":\"\"}}}],\"scattercarpet\":[{\"type\":\"scattercarpet\",\"marker\":{\"colorbar\":{\"outlinewidth\":0,\"ticks\":\"\"}}}],\"carpet\":[{\"aaxis\":{\"endlinecolor\":\"#2a3f5f\",\"gridcolor\":\"white\",\"linecolor\":\"white\",\"minorgridcolor\":\"white\",\"startlinecolor\":\"#2a3f5f\"},\"baxis\":{\"endlinecolor\":\"#2a3f5f\",\"gridcolor\":\"white\",\"linecolor\":\"white\",\"minorgridcolor\":\"white\",\"startlinecolor\":\"#2a3f5f\"},\"type\":\"carpet\"}],\"table\":[{\"cells\":{\"fill\":{\"color\":\"#EBF0F8\"},\"line\":{\"color\":\"white\"}},\"header\":{\"fill\":{\"color\":\"#C8D4E3\"},\"line\":{\"color\":\"white\"}},\"type\":\"table\"}],\"barpolar\":[{\"marker\":{\"line\":{\"color\":\"#E5ECF6\",\"width\":0.5},\"pattern\":{\"fillmode\":\"overlay\",\"size\":10,\"solidity\":0.2}},\"type\":\"barpolar\"}],\"pie\":[{\"automargin\":true,\"type\":\"pie\"}]},\"layout\":{\"autotypenumbers\":\"strict\",\"colorway\":[\"#636efa\",\"#EF553B\",\"#00cc96\",\"#ab63fa\",\"#FFA15A\",\"#19d3f3\",\"#FF6692\",\"#B6E880\",\"#FF97FF\",\"#FECB52\"],\"font\":{\"color\":\"#2a3f5f\"},\"hovermode\":\"closest\",\"hoverlabel\":{\"align\":\"left\"},\"paper_bgcolor\":\"white\",\"plot_bgcolor\":\"#E5ECF6\",\"polar\":{\"bgcolor\":\"#E5ECF6\",\"angularaxis\":{\"gridcolor\":\"white\",\"linecolor\":\"white\",\"ticks\":\"\"},\"radialaxis\":{\"gridcolor\":\"white\",\"linecolor\":\"white\",\"ticks\":\"\"}},\"ternary\":{\"bgcolor\":\"#E5ECF6\",\"aaxis\":{\"gridcolor\":\"white\",\"linecolor\":\"white\",\"ticks\":\"\"},\"baxis\":{\"gridcolor\":\"white\",\"linecolor\":\"white\",\"ticks\":\"\"},\"caxis\":{\"gridcolor\":\"white\",\"linecolor\":\"white\",\"ticks\":\"\"}},\"coloraxis\":{\"colorbar\":{\"outlinewidth\":0,\"ticks\":\"\"}},\"colorscale\":{\"sequential\":[[0.0,\"#0d0887\"],[0.1111111111111111,\"#46039f\"],[0.2222222222222222,\"#7201a8\"],[0.3333333333333333,\"#9c179e\"],[0.4444444444444444,\"#bd3786\"],[0.5555555555555556,\"#d8576b\"],[0.6666666666666666,\"#ed7953\"],[0.7777777777777778,\"#fb9f3a\"],[0.8888888888888888,\"#fdca26\"],[1.0,\"#f0f921\"]],\"sequentialminus\":[[0.0,\"#0d0887\"],[0.1111111111111111,\"#46039f\"],[0.2222222222222222,\"#7201a8\"],[0.3333333333333333,\"#9c179e\"],[0.4444444444444444,\"#bd3786\"],[0.5555555555555556,\"#d8576b\"],[0.6666666666666666,\"#ed7953\"],[0.7777777777777778,\"#fb9f3a\"],[0.8888888888888888,\"#fdca26\"],[1.0,\"#f0f921\"]],\"diverging\":[[0,\"#8e0152\"],[0.1,\"#c51b7d\"],[0.2,\"#de77ae\"],[0.3,\"#f1b6da\"],[0.4,\"#fde0ef\"],[0.5,\"#f7f7f7\"],[0.6,\"#e6f5d0\"],[0.7,\"#b8e186\"],[0.8,\"#7fbc41\"],[0.9,\"#4d9221\"],[1,\"#276419\"]]},\"xaxis\":{\"gridcolor\":\"white\",\"linecolor\":\"white\",\"ticks\":\"\",\"title\":{\"standoff\":15},\"zerolinecolor\":\"white\",\"automargin\":true,\"zerolinewidth\":2},\"yaxis\":{\"gridcolor\":\"white\",\"linecolor\":\"white\",\"ticks\":\"\",\"title\":{\"standoff\":15},\"zerolinecolor\":\"white\",\"automargin\":true,\"zerolinewidth\":2},\"scene\":{\"xaxis\":{\"backgroundcolor\":\"#E5ECF6\",\"gridcolor\":\"white\",\"linecolor\":\"white\",\"showbackground\":true,\"ticks\":\"\",\"zerolinecolor\":\"white\",\"gridwidth\":2},\"yaxis\":{\"backgroundcolor\":\"#E5ECF6\",\"gridcolor\":\"white\",\"linecolor\":\"white\",\"showbackground\":true,\"ticks\":\"\",\"zerolinecolor\":\"white\",\"gridwidth\":2},\"zaxis\":{\"backgroundcolor\":\"#E5ECF6\",\"gridcolor\":\"white\",\"linecolor\":\"white\",\"showbackground\":true,\"ticks\":\"\",\"zerolinecolor\":\"white\",\"gridwidth\":2}},\"shapedefaults\":{\"line\":{\"color\":\"#2a3f5f\"}},\"annotationdefaults\":{\"arrowcolor\":\"#2a3f5f\",\"arrowhead\":0,\"arrowwidth\":1},\"geo\":{\"bgcolor\":\"white\",\"landcolor\":\"#E5ECF6\",\"subunitcolor\":\"white\",\"showland\":true,\"showlakes\":true,\"lakecolor\":\"white\"},\"title\":{\"x\":0.05},\"mapbox\":{\"style\":\"light\"}}},\"xaxis\":{\"anchor\":\"y\",\"domain\":[0.0,1.0],\"matches\":\"x2\",\"showticklabels\":false,\"title\":{\"text\":\"time in s\"}},\"yaxis\":{\"anchor\":\"x\",\"domain\":[0.625,1.0],\"title\":{\"text\":\"dataflow in MB/s\"}},\"xaxis2\":{\"anchor\":\"y2\",\"domain\":[0.0,1.0],\"title\":{\"text\":\"time in s\"}},\"yaxis2\":{\"anchor\":\"x2\",\"domain\":[0.0,0.375],\"title\":{\"text\":\"dataflow in MB/s\"}},\"annotations\":[{\"font\":{\"size\":16},\"showarrow\":false,\"text\":\"app#PerfTier#3918\",\"x\":0.5,\"xanchor\":\"center\",\"xref\":\"paper\",\"y\":1.0,\"yanchor\":\"bottom\",\"yref\":\"paper\"},{\"font\":{\"size\":16},\"showarrow\":false,\"text\":\"app#StaticTier#3918\",\"x\":0.5,\"xanchor\":\"center\",\"xref\":\"paper\",\"y\":0.375,\"yanchor\":\"bottom\",\"yref\":\"paper\"}],\"title\":{\"text\":\"Application Dataflow\"},\"width\":800,\"height\":600},                        {\"responsive\": true}                    ).then(function(){\n",
       "                            \n",
       "var gd = document.getElementById('3b907aa0-f3f0-4f9f-bcbe-9cb99e0aab30');\n",
       "var x = new MutationObserver(function (mutations, observer) {{\n",
       "        var display = window.getComputedStyle(gd).display;\n",
       "        if (!display || display === 'none') {{\n",
       "            console.log([gd, 'removed!']);\n",
       "            Plotly.purge(gd);\n",
       "            observer.disconnect();\n",
       "        }}\n",
       "}});\n",
       "\n",
       "// Listen for the removal of the full notebook cells\n",
       "var notebookContainer = gd.closest('#notebook-container');\n",
       "if (notebookContainer) {{\n",
       "    x.observe(notebookContainer, {childList: true});\n",
       "}}\n",
       "\n",
       "// Listen for the clearing of the current output cell\n",
       "var outputEl = gd.closest('.output');\n",
       "if (outputEl) {{\n",
       "    x.observe(outputEl, {childList: true});\n",
       "}}\n",
       "\n",
       "                        })                };                });            </script>        </div>"
      ]
     },
     "metadata": {},
     "output_type": "display_data"
    }
   ],
   "source": [
    "bw_normed = (bw/1e6).tolist()\n",
    "app1 = Application(env, name=f\"StaticTier#{jobid}\",                  \n",
    "                    compute=representation[\"events\"],\n",
    "                    read=representation[\"read_volumes\"],\n",
    "                    write=representation[\"write_volumes\"],\n",
    "                    #read_bw=bw_normed, write_bw=bw_normed, \n",
    "                    data=data)\n",
    "\n",
    "app2 = Application(env, name=f\"PerfTier#{jobid}\",                  \n",
    "                    compute=representation[\"events\"],\n",
    "                    read=representation[\"read_volumes\"],\n",
    "                    write=representation[\"write_volumes\"],\n",
    "                    read_bw=bw_normed, write_bw=bw_normed, \n",
    "                    data=data)\n",
    "env.process(app1.run(cluster, placement=[1]*(len(representation[\"events\"]))))\n",
    "env.process(app2.run(cluster, placement=[0]*(len(representation[\"events\"]))))\n",
    "env.run()\n",
    "fig = display_apps_dataflow(data, cluster, width=800, height=600)\n",
    "fig.show()"
   ]
  },
  {
   "cell_type": "code",
   "execution_count": 13,
   "metadata": {},
   "outputs": [
    {
     "data": {
      "application/vnd.plotly.v1+json": {
       "config": {
        "plotlyServerURL": "https://plot.ly"
       },
       "data": [
        {
         "line": {
          "shape": "linear"
         },
         "name": "app#PerfTier#3918#read",
         "text": [
          "COMPUTE|volume=0B",
          "COMPUTE|volume=0B",
          "READ|on:tier1|volume=1.73 GB",
          "READ|on:tier1|volume=1.73 GB",
          "COMPUTE|volume=0B",
          "COMPUTE|volume=0B",
          "READ|on:tier1|volume=1.59 GB",
          "READ|on:tier1|volume=1.59 GB",
          "WRITE|on:tier1|volume=1.59 GB",
          "WRITE|on:tier1|volume=1.59 GB",
          "WRITE|on:tier1|volume=450.01 MB",
          "WRITE|on:tier1|volume=450.01 MB",
          "COMPUTE|volume=0B",
          "COMPUTE|volume=0B",
          "READ|on:tier1|volume=3.17 GB",
          "READ|on:tier1|volume=3.17 GB",
          "WRITE|on:tier1|volume=3.17 GB",
          "WRITE|on:tier1|volume=3.17 GB",
          "WRITE|on:tier1|volume=970.03 MB",
          "WRITE|on:tier1|volume=970.03 MB",
          "COMPUTE|volume=0B",
          "COMPUTE|volume=0B",
          "READ|on:tier1|volume=3.02 MB",
          "READ|on:tier1|volume=3.02 MB",
          "WRITE|on:tier1|volume=3.02 MB",
          "WRITE|on:tier1|volume=3.02 MB",
          "WRITE|on:tier1|volume=4.18 GB",
          "WRITE|on:tier1|volume=4.18 GB",
          "WRITE|on:tier1|volume=1.15 GB",
          "WRITE|on:tier1|volume=1.15 GB",
          "COMPUTE|volume=0B",
          "COMPUTE|volume=0B",
          "READ|on:tier1|volume=7.05 MB",
          "READ|on:tier1|volume=7.05 MB",
          "WRITE|on:tier1|volume=7.05 MB",
          "WRITE|on:tier1|volume=7.05 MB",
          "WRITE|on:tier1|volume=4.27 GB",
          "WRITE|on:tier1|volume=4.27 GB",
          "WRITE|on:tier1|volume=1.03 GB",
          "WRITE|on:tier1|volume=1.03 GB",
          "COMPUTE|volume=0B",
          "COMPUTE|volume=0B",
          "READ|on:tier1|volume=2.52 MB",
          "READ|on:tier1|volume=2.52 MB",
          "WRITE|on:tier1|volume=2.52 MB",
          "WRITE|on:tier1|volume=2.52 MB",
          "WRITE|on:tier1|volume=5.33 GB",
          "WRITE|on:tier1|volume=5.33 GB",
          "COMPUTE|volume=0B",
          "COMPUTE|volume=0B"
         ],
         "textposition": "top center",
         "type": "scatter",
         "x": [
          0,
          1.0117230330689355,
          2.023446066137871,
          3.0351690992068066,
          4.046892132275742,
          5.058615165344678,
          6.070338198413613,
          7.082061231482548,
          8.093784264551484,
          9.10550729762042,
          10.117230330689356,
          11.12895336375829,
          12.140676396827226,
          13.152399429896162,
          14.164122462965096,
          15.175845496034032,
          16.18756852910297,
          17.199291562171904,
          18.21101459524084,
          19.222737628309776,
          20.234460661378712,
          21.246183694447645,
          22.25790672751658,
          23.269629760585516,
          24.281352793654452,
          25.29307582672339,
          26.304798859792324,
          27.31652189286126,
          28.328244925930193,
          29.33996795899913,
          30.351690992068065,
          31.363414025137,
          32.37513705820594,
          33.38686009127487,
          34.39858312434381,
          35.41030615741274,
          36.42202919048168,
          37.43375222355061,
          38.44547525661955,
          39.457198289688485,
          40.468921322757424,
          41.48064435582636,
          42.49236738889529,
          43.50409042196423,
          44.51581345503316,
          45.5275364881021,
          46.53925952117103,
          47.55098255423997,
          48.562705587308905,
          49.57442862037784,
          50.58615165344678,
          51.59787468651571,
          52.60959771958465,
          53.62132075265358,
          54.63304378572252,
          55.64476681879145,
          56.656489851860385,
          57.668212884929325,
          58.67993591799826,
          59.6916589510672,
          60.70338198413613,
          61.71510501720507,
          62.726828050274,
          63.73855108334294,
          64.75027411641187,
          65.7619971494808,
          66.77372018254974,
          67.78544321561868,
          68.79716624868762,
          69.80888928175655,
          70.82061231482548,
          71.83233534789443,
          72.84405838096336,
          73.8557814140323,
          74.86750444710123,
          75.87922748017016,
          76.8909505132391,
          77.90267354630804,
          78.91439657937697,
          79.9261196124459,
          80.93784264551485,
          81.94956567858378,
          82.96128871165271,
          83.97301174472165,
          84.98473477779058,
          85.99645781085952
         ],
         "xaxis": "x",
         "y": [
          0,
          2710.9446178043813,
          0,
          0,
          0,
          0,
          0,
          0,
          0,
          1161.6377796723486,
          0,
          0,
          0,
          0,
          0,
          1357.8435645938305,
          1357.8435645938305,
          0,
          0,
          0,
          0,
          0,
          0,
          0,
          0,
          0,
          0,
          0,
          0,
          0,
          0,
          0,
          0,
          0,
          0,
          0,
          0,
          0,
          0,
          0,
          0,
          0,
          0,
          0,
          0,
          0,
          0,
          0,
          0,
          0,
          0,
          0,
          0,
          0,
          0,
          0,
          0,
          0,
          0,
          0,
          0,
          0,
          0,
          0,
          0,
          0,
          0,
          0,
          0,
          0,
          0,
          0,
          0,
          0,
          0,
          0,
          0,
          0,
          0,
          0,
          0,
          0,
          0,
          0,
          0,
          0
         ],
         "yaxis": "y"
        },
        {
         "line": {
          "shape": "linear"
         },
         "name": "app#PerfTier#3918#write",
         "text": [
          "COMPUTE|volume=0B",
          "COMPUTE|volume=0B",
          "READ|on:tier1|volume=1.73 GB",
          "READ|on:tier1|volume=1.73 GB",
          "COMPUTE|volume=0B",
          "COMPUTE|volume=0B",
          "READ|on:tier1|volume=1.59 GB",
          "READ|on:tier1|volume=1.59 GB",
          "WRITE|on:tier1|volume=1.59 GB",
          "WRITE|on:tier1|volume=1.59 GB",
          "WRITE|on:tier1|volume=450.01 MB",
          "WRITE|on:tier1|volume=450.01 MB",
          "COMPUTE|volume=0B",
          "COMPUTE|volume=0B",
          "READ|on:tier1|volume=3.17 GB",
          "READ|on:tier1|volume=3.17 GB",
          "WRITE|on:tier1|volume=3.17 GB",
          "WRITE|on:tier1|volume=3.17 GB",
          "WRITE|on:tier1|volume=970.03 MB",
          "WRITE|on:tier1|volume=970.03 MB",
          "COMPUTE|volume=0B",
          "COMPUTE|volume=0B",
          "READ|on:tier1|volume=3.02 MB",
          "READ|on:tier1|volume=3.02 MB",
          "WRITE|on:tier1|volume=3.02 MB",
          "WRITE|on:tier1|volume=3.02 MB",
          "WRITE|on:tier1|volume=4.18 GB",
          "WRITE|on:tier1|volume=4.18 GB",
          "WRITE|on:tier1|volume=1.15 GB",
          "WRITE|on:tier1|volume=1.15 GB",
          "COMPUTE|volume=0B",
          "COMPUTE|volume=0B",
          "READ|on:tier1|volume=7.05 MB",
          "READ|on:tier1|volume=7.05 MB",
          "WRITE|on:tier1|volume=7.05 MB",
          "WRITE|on:tier1|volume=7.05 MB",
          "WRITE|on:tier1|volume=4.27 GB",
          "WRITE|on:tier1|volume=4.27 GB",
          "WRITE|on:tier1|volume=1.03 GB",
          "WRITE|on:tier1|volume=1.03 GB",
          "COMPUTE|volume=0B",
          "COMPUTE|volume=0B",
          "READ|on:tier1|volume=2.52 MB",
          "READ|on:tier1|volume=2.52 MB",
          "WRITE|on:tier1|volume=2.52 MB",
          "WRITE|on:tier1|volume=2.52 MB",
          "WRITE|on:tier1|volume=5.33 GB",
          "WRITE|on:tier1|volume=5.33 GB",
          "COMPUTE|volume=0B",
          "COMPUTE|volume=0B"
         ],
         "textposition": "top center",
         "type": "scatter",
         "x": [
          0,
          1.0117230330689355,
          2.023446066137871,
          3.0351690992068066,
          4.046892132275742,
          5.058615165344678,
          6.070338198413613,
          7.082061231482548,
          8.093784264551484,
          9.10550729762042,
          10.117230330689356,
          11.12895336375829,
          12.140676396827226,
          13.152399429896162,
          14.164122462965096,
          15.175845496034032,
          16.18756852910297,
          17.199291562171904,
          18.21101459524084,
          19.222737628309776,
          20.234460661378712,
          21.246183694447645,
          22.25790672751658,
          23.269629760585516,
          24.281352793654452,
          25.29307582672339,
          26.304798859792324,
          27.31652189286126,
          28.328244925930193,
          29.33996795899913,
          30.351690992068065,
          31.363414025137,
          32.37513705820594,
          33.38686009127487,
          34.39858312434381,
          35.41030615741274,
          36.42202919048168,
          37.43375222355061,
          38.44547525661955,
          39.457198289688485,
          40.468921322757424,
          41.48064435582636,
          42.49236738889529,
          43.50409042196423,
          44.51581345503316,
          45.5275364881021,
          46.53925952117103,
          47.55098255423997,
          48.562705587308905,
          49.57442862037784,
          50.58615165344678,
          51.59787468651571,
          52.60959771958465,
          53.62132075265358,
          54.63304378572252,
          55.64476681879145,
          56.656489851860385,
          57.668212884929325,
          58.67993591799826,
          59.6916589510672,
          60.70338198413613,
          61.71510501720507,
          62.726828050274,
          63.73855108334294,
          64.75027411641187,
          65.7619971494808,
          66.77372018254974,
          67.78544321561868,
          68.79716624868762,
          69.80888928175655,
          70.82061231482548,
          71.83233534789443,
          72.84405838096336,
          73.8557814140323,
          74.86750444710123,
          75.87922748017016,
          76.8909505132391,
          77.90267354630804,
          78.91439657937697,
          79.9261196124459,
          80.93784264551485,
          81.94956567858378,
          82.96128871165271,
          83.97301174472165,
          84.98473477779058,
          85.99645781085952
         ],
         "xaxis": "x",
         "y": [
          0,
          0,
          0,
          0,
          0,
          0,
          0,
          0,
          0,
          1161.6377796723486,
          1161.6377796723486,
          0,
          0,
          0,
          0,
          1357.8435645938305,
          1357.8435645938305,
          1357.8435645938305,
          0,
          0,
          0,
          0,
          0,
          0,
          0,
          0,
          0,
          0,
          0,
          0,
          0,
          0,
          0,
          0,
          0,
          0,
          0,
          0,
          0,
          0,
          0,
          0,
          0,
          0,
          0,
          0,
          0,
          0,
          0,
          650.8438449520007,
          650.8438449520007,
          650.8438449520007,
          650.8438449520007,
          650.8438449520007,
          650.8438449520007,
          650.8438449520007,
          650.8438449520007,
          0,
          0,
          0,
          0,
          0,
          0,
          649.9844362341689,
          649.9844362341689,
          649.9844362341689,
          649.9844362341689,
          649.9844362341689,
          649.9844362341689,
          649.9844362341689,
          649.9844362341689,
          0,
          0,
          0,
          0,
          650.90523165387,
          650.90523165387,
          650.90523165387,
          650.90523165387,
          650.90523165387,
          650.90523165387,
          650.90523165387,
          650.90523165387,
          650.90523165387,
          0,
          0
         ],
         "yaxis": "y"
        },
        {
         "line": {
          "dash": "dot",
          "shape": "linear"
         },
         "name": "PerfTier#3918 mvt",
         "text": [],
         "textposition": "top center",
         "type": "scatter",
         "x": [],
         "xaxis": "x",
         "y": [],
         "yaxis": "y"
        },
        {
         "line": {
          "shape": "linear"
         },
         "name": "app#StaticTier#3918#read",
         "text": [
          "COMPUTE|volume=0B",
          "COMPUTE|volume=0B",
          "READ|on:tier2|volume=319.23 MB",
          "READ|on:tier2|volume=319.23 MB",
          "READ|on:tier2|volume=1.41 GB",
          "READ|on:tier2|volume=1.41 GB",
          "COMPUTE|volume=0B",
          "COMPUTE|volume=0B",
          "WRITE|on:tier2|volume=293.19 MB",
          "WRITE|on:tier2|volume=293.19 MB",
          "READ|on:tier2|volume=732.98 MB",
          "READ|on:tier2|volume=732.98 MB",
          "WRITE|on:tier2|volume=233.38 MB",
          "WRITE|on:tier2|volume=233.38 MB",
          "READ|on:tier2|volume=583.46 MB",
          "READ|on:tier2|volume=583.46 MB",
          "READ|on:tier2|volume=178.6 MB",
          "READ|on:tier2|volume=178.6 MB",
          "WRITE|on:tier2|volume=71.44 MB",
          "WRITE|on:tier2|volume=71.44 MB",
          "READ|on:tier2|volume=93.74 MB",
          "READ|on:tier2|volume=93.74 MB",
          "WRITE|on:tier2|volume=37.49 MB",
          "WRITE|on:tier2|volume=37.49 MB",
          "WRITE|on:tier2|volume=1.4 GB",
          "WRITE|on:tier2|volume=1.4 GB",
          "COMPUTE|volume=0B",
          "COMPUTE|volume=0B",
          "WRITE|on:tier2|volume=301.64 MB",
          "WRITE|on:tier2|volume=301.64 MB",
          "READ|on:tier2|volume=754.09 MB",
          "READ|on:tier2|volume=754.09 MB",
          "WRITE|on:tier2|volume=355.27 EB",
          "WRITE|on:tier2|volume=355.27 EB",
          "READ|on:tier2|volume=888.18 EB",
          "READ|on:tier2|volume=888.18 EB",
          "READ|on:tier2|volume=2.41 GB",
          "READ|on:tier2|volume=2.41 GB",
          "WRITE|on:tier2|volume=965.96 MB",
          "WRITE|on:tier2|volume=965.96 MB",
          "WRITE|on:tier2|volume=1.59 GB",
          "WRITE|on:tier2|volume=1.59 GB",
          "WRITE|on:tier2|volume=929.03 KB",
          "WRITE|on:tier2|volume=929.03 KB",
          "WRITE|on:tier2|volume=1.28 GB",
          "WRITE|on:tier2|volume=1.28 GB",
          "WRITE|on:tier2|volume=476.84 EB",
          "WRITE|on:tier2|volume=476.84 EB",
          "COMPUTE|volume=0B",
          "COMPUTE|volume=0B",
          "READ|on:tier2|volume=3.02 MB",
          "READ|on:tier2|volume=3.02 MB",
          "WRITE|on:tier2|volume=1.21 MB",
          "WRITE|on:tier2|volume=1.21 MB",
          "WRITE|on:tier2|volume=5.33 GB",
          "WRITE|on:tier2|volume=5.33 GB",
          "COMPUTE|volume=0B",
          "COMPUTE|volume=0B",
          "READ|on:tier2|volume=7.05 MB",
          "READ|on:tier2|volume=7.05 MB",
          "WRITE|on:tier2|volume=2.82 MB",
          "WRITE|on:tier2|volume=2.82 MB",
          "WRITE|on:tier2|volume=5.3 GB",
          "WRITE|on:tier2|volume=5.3 GB",
          "COMPUTE|volume=0B",
          "COMPUTE|volume=0B",
          "READ|on:tier2|volume=2.52 MB",
          "READ|on:tier2|volume=2.52 MB",
          "WRITE|on:tier2|volume=1.01 MB",
          "WRITE|on:tier2|volume=1.01 MB",
          "WRITE|on:tier2|volume=5.33 GB",
          "WRITE|on:tier2|volume=5.33 GB",
          "COMPUTE|volume=0B",
          "COMPUTE|volume=0B"
         ],
         "textposition": "top center",
         "type": "scatter",
         "x": [
          0,
          1.0042743208938547,
          2.0085486417877094,
          3.012822962681564,
          4.017097283575419,
          5.021371604469273,
          6.025645925363128,
          7.029920246256983,
          8.034194567150838,
          9.038468888044692,
          10.042743208938546,
          11.047017529832402,
          12.051291850726257,
          13.05556617162011,
          14.059840492513967,
          15.064114813407821,
          16.068389134301675,
          17.07266345519553,
          18.076937776089384,
          19.08121209698324,
          20.085486417877092,
          21.08976073877095,
          22.094035059664805,
          23.098309380558657,
          24.102583701452513,
          25.10685802234637,
          26.11113234324022,
          27.115406664134078,
          28.119680985027934,
          29.123955305921786,
          30.128229626815642,
          31.132503947709495,
          32.13677826860335,
          33.14105258949721,
          34.14532691039106,
          35.14960123128491,
          36.15387555217877,
          37.158149873072624,
          38.16242419396648,
          39.166698514860336,
          40.170972835754185,
          41.17524715664804,
          42.1795214775419,
          43.18379579843575,
          44.18807011932961,
          45.192344440223465,
          46.196618761117314,
          47.20089308201117,
          48.205167402905026,
          49.20944172379888,
          50.21371604469274,
          51.21799036558659,
          52.22226468648044,
          53.2265390073743,
          54.230813328268155,
          55.23508764916201,
          56.23936197005587,
          57.243636290949716,
          58.24791061184357,
          59.25218493273743,
          60.256459253631284,
          61.26073357452514,
          62.26500789541899,
          63.269282216312845,
          64.2735565372067,
          65.27783085810056,
          66.28210517899441,
          67.28637949988827,
          68.29065382078213,
          69.29492814167598,
          70.29920246256982,
          71.30347678346368,
          72.30775110435754,
          73.31202542525139,
          74.31629974614525,
          75.3205740670391,
          76.32484838793296,
          77.32912270882682,
          78.33339702972067,
          79.33767135061453,
          80.34194567150837,
          81.34621999240223,
          82.35049431329608,
          83.35476863418994,
          84.3590429550838,
          85.36331727597765,
          86.3675915968715,
          87.37186591776536,
          88.37614023865922,
          89.38041455955307,
          90.38468888044693,
          91.38896320134077,
          92.39323752223463,
          93.39751184312848,
          94.40178616402234,
          95.4060604849162,
          96.41033480581005,
          97.41460912670391,
          98.41888344759776,
          99.42315776849162,
          100.42743208938548,
          101.43170641027933,
          102.43598073117317,
          103.44025505206703,
          104.44452937296089,
          105.44880369385474,
          106.4530780147486,
          107.45735233564245,
          108.46162665653631,
          109.46590097743017,
          110.47017529832402,
          111.47444961921788,
          112.47872394011173,
          113.48299826100558,
          114.48727258189943,
          115.49154690279329,
          116.49582122368714,
          117.500095544581,
          118.50436986547486,
          119.50864418636871,
          120.51291850726257,
          121.51719282815642,
          122.52146714905028,
          123.52574146994412,
          124.53001579083798,
          125.53429011173183,
          126.53856443262569,
          127.54283875351955,
          128.5471130744134,
          129.55138739530724,
          130.55566171620112,
          131.55993603709496,
          132.56421035798883,
          133.56848467888267,
          134.57275899977654,
          135.57703332067038,
          136.58130764156425,
          137.5855819624581,
          138.58985628335196,
          139.5941306042458,
          140.59840492513965,
          141.60267924603352,
          142.60695356692736,
          143.61122788782123,
          144.61550220871507,
          145.61977652960894,
          146.62405085050278,
          147.62832517139665,
          148.6325994922905,
          149.63687381318437,
          150.6411481340782,
          151.64542245497205,
          152.64969677586592,
          153.65397109675976,
          154.65824541765363,
          155.66251973854747,
          156.66679405944134,
          157.67106838033519,
          158.67534270122906,
          159.6796170221229,
          160.68389134301674,
          161.6881656639106,
          162.69243998480445,
          163.69671430569832,
          164.70098862659216,
          165.70526294748603,
          166.70953726837988,
          167.71381158927375,
          168.7180859101676,
          169.72236023106146,
          170.7266345519553,
          171.73090887284914,
          172.735183193743,
          173.73945751463685,
          174.74373183553072,
          175.74800615642457,
          176.75228047731844,
          177.75655479821228,
          178.76082911910615,
          179.76510344
         ],
         "xaxis": "x2",
         "y": [
          0,
          500,
          500,
          500,
          500,
          0,
          0,
          0,
          0,
          0,
          0,
          0,
          250,
          250,
          250,
          250,
          250,
          250,
          0,
          0,
          0,
          0,
          0,
          0,
          0,
          0,
          0,
          0,
          0,
          250,
          250,
          250,
          250,
          250,
          250,
          250,
          250,
          250,
          250,
          250,
          250,
          250,
          0,
          0,
          0,
          0,
          0,
          0,
          0,
          0,
          0,
          0,
          0,
          0,
          0,
          0,
          0,
          0,
          0,
          0,
          0,
          0,
          0,
          0,
          0,
          0,
          0,
          0,
          0,
          0,
          0,
          0,
          0,
          0,
          0,
          0,
          0,
          0,
          0,
          0,
          0,
          0,
          0,
          0,
          0,
          0,
          0,
          0,
          0,
          0,
          0,
          0,
          0,
          0,
          0,
          0,
          0,
          0,
          0,
          0,
          0,
          0,
          0,
          0,
          0,
          0,
          0,
          0,
          0,
          0,
          0,
          0,
          0,
          0,
          0,
          0,
          0,
          0,
          0,
          0,
          0,
          0,
          0,
          0,
          0,
          0,
          0,
          0,
          0,
          0,
          0,
          0,
          0,
          0,
          0,
          0,
          0,
          0,
          0,
          0,
          0,
          0,
          0,
          0,
          0,
          0,
          0,
          0,
          0,
          0,
          0,
          0,
          0,
          0,
          0,
          0,
          0,
          0,
          0,
          0,
          0,
          0,
          0,
          0,
          0,
          0,
          0,
          0,
          0,
          0,
          0,
          0,
          0,
          0,
          0,
          0,
          0,
          0,
          0,
          0
         ],
         "yaxis": "y2"
        },
        {
         "line": {
          "shape": "linear"
         },
         "name": "app#StaticTier#3918#write",
         "text": [
          "COMPUTE|volume=0B",
          "COMPUTE|volume=0B",
          "READ|on:tier2|volume=319.23 MB",
          "READ|on:tier2|volume=319.23 MB",
          "READ|on:tier2|volume=1.41 GB",
          "READ|on:tier2|volume=1.41 GB",
          "COMPUTE|volume=0B",
          "COMPUTE|volume=0B",
          "WRITE|on:tier2|volume=293.19 MB",
          "WRITE|on:tier2|volume=293.19 MB",
          "READ|on:tier2|volume=732.98 MB",
          "READ|on:tier2|volume=732.98 MB",
          "WRITE|on:tier2|volume=233.38 MB",
          "WRITE|on:tier2|volume=233.38 MB",
          "READ|on:tier2|volume=583.46 MB",
          "READ|on:tier2|volume=583.46 MB",
          "READ|on:tier2|volume=178.6 MB",
          "READ|on:tier2|volume=178.6 MB",
          "WRITE|on:tier2|volume=71.44 MB",
          "WRITE|on:tier2|volume=71.44 MB",
          "READ|on:tier2|volume=93.74 MB",
          "READ|on:tier2|volume=93.74 MB",
          "WRITE|on:tier2|volume=37.49 MB",
          "WRITE|on:tier2|volume=37.49 MB",
          "WRITE|on:tier2|volume=1.4 GB",
          "WRITE|on:tier2|volume=1.4 GB",
          "COMPUTE|volume=0B",
          "COMPUTE|volume=0B",
          "WRITE|on:tier2|volume=301.64 MB",
          "WRITE|on:tier2|volume=301.64 MB",
          "READ|on:tier2|volume=754.09 MB",
          "READ|on:tier2|volume=754.09 MB",
          "WRITE|on:tier2|volume=355.27 EB",
          "WRITE|on:tier2|volume=355.27 EB",
          "READ|on:tier2|volume=888.18 EB",
          "READ|on:tier2|volume=888.18 EB",
          "READ|on:tier2|volume=2.41 GB",
          "READ|on:tier2|volume=2.41 GB",
          "WRITE|on:tier2|volume=965.96 MB",
          "WRITE|on:tier2|volume=965.96 MB",
          "WRITE|on:tier2|volume=1.59 GB",
          "WRITE|on:tier2|volume=1.59 GB",
          "WRITE|on:tier2|volume=929.03 KB",
          "WRITE|on:tier2|volume=929.03 KB",
          "WRITE|on:tier2|volume=1.28 GB",
          "WRITE|on:tier2|volume=1.28 GB",
          "WRITE|on:tier2|volume=476.84 EB",
          "WRITE|on:tier2|volume=476.84 EB",
          "COMPUTE|volume=0B",
          "COMPUTE|volume=0B",
          "READ|on:tier2|volume=3.02 MB",
          "READ|on:tier2|volume=3.02 MB",
          "WRITE|on:tier2|volume=1.21 MB",
          "WRITE|on:tier2|volume=1.21 MB",
          "WRITE|on:tier2|volume=5.33 GB",
          "WRITE|on:tier2|volume=5.33 GB",
          "COMPUTE|volume=0B",
          "COMPUTE|volume=0B",
          "READ|on:tier2|volume=7.05 MB",
          "READ|on:tier2|volume=7.05 MB",
          "WRITE|on:tier2|volume=2.82 MB",
          "WRITE|on:tier2|volume=2.82 MB",
          "WRITE|on:tier2|volume=5.3 GB",
          "WRITE|on:tier2|volume=5.3 GB",
          "COMPUTE|volume=0B",
          "COMPUTE|volume=0B",
          "READ|on:tier2|volume=2.52 MB",
          "READ|on:tier2|volume=2.52 MB",
          "WRITE|on:tier2|volume=1.01 MB",
          "WRITE|on:tier2|volume=1.01 MB",
          "WRITE|on:tier2|volume=5.33 GB",
          "WRITE|on:tier2|volume=5.33 GB",
          "COMPUTE|volume=0B",
          "COMPUTE|volume=0B"
         ],
         "textposition": "top center",
         "type": "scatter",
         "x": [
          0,
          1.0042743208938547,
          2.0085486417877094,
          3.012822962681564,
          4.017097283575419,
          5.021371604469273,
          6.025645925363128,
          7.029920246256983,
          8.034194567150838,
          9.038468888044692,
          10.042743208938546,
          11.047017529832402,
          12.051291850726257,
          13.05556617162011,
          14.059840492513967,
          15.064114813407821,
          16.068389134301675,
          17.07266345519553,
          18.076937776089384,
          19.08121209698324,
          20.085486417877092,
          21.08976073877095,
          22.094035059664805,
          23.098309380558657,
          24.102583701452513,
          25.10685802234637,
          26.11113234324022,
          27.115406664134078,
          28.119680985027934,
          29.123955305921786,
          30.128229626815642,
          31.132503947709495,
          32.13677826860335,
          33.14105258949721,
          34.14532691039106,
          35.14960123128491,
          36.15387555217877,
          37.158149873072624,
          38.16242419396648,
          39.166698514860336,
          40.170972835754185,
          41.17524715664804,
          42.1795214775419,
          43.18379579843575,
          44.18807011932961,
          45.192344440223465,
          46.196618761117314,
          47.20089308201117,
          48.205167402905026,
          49.20944172379888,
          50.21371604469274,
          51.21799036558659,
          52.22226468648044,
          53.2265390073743,
          54.230813328268155,
          55.23508764916201,
          56.23936197005587,
          57.243636290949716,
          58.24791061184357,
          59.25218493273743,
          60.256459253631284,
          61.26073357452514,
          62.26500789541899,
          63.269282216312845,
          64.2735565372067,
          65.27783085810056,
          66.28210517899441,
          67.28637949988827,
          68.29065382078213,
          69.29492814167598,
          70.29920246256982,
          71.30347678346368,
          72.30775110435754,
          73.31202542525139,
          74.31629974614525,
          75.3205740670391,
          76.32484838793296,
          77.32912270882682,
          78.33339702972067,
          79.33767135061453,
          80.34194567150837,
          81.34621999240223,
          82.35049431329608,
          83.35476863418994,
          84.3590429550838,
          85.36331727597765,
          86.3675915968715,
          87.37186591776536,
          88.37614023865922,
          89.38041455955307,
          90.38468888044693,
          91.38896320134077,
          92.39323752223463,
          93.39751184312848,
          94.40178616402234,
          95.4060604849162,
          96.41033480581005,
          97.41460912670391,
          98.41888344759776,
          99.42315776849162,
          100.42743208938548,
          101.43170641027933,
          102.43598073117317,
          103.44025505206703,
          104.44452937296089,
          105.44880369385474,
          106.4530780147486,
          107.45735233564245,
          108.46162665653631,
          109.46590097743017,
          110.47017529832402,
          111.47444961921788,
          112.47872394011173,
          113.48299826100558,
          114.48727258189943,
          115.49154690279329,
          116.49582122368714,
          117.500095544581,
          118.50436986547486,
          119.50864418636871,
          120.51291850726257,
          121.51719282815642,
          122.52146714905028,
          123.52574146994412,
          124.53001579083798,
          125.53429011173183,
          126.53856443262569,
          127.54283875351955,
          128.5471130744134,
          129.55138739530724,
          130.55566171620112,
          131.55993603709496,
          132.56421035798883,
          133.56848467888267,
          134.57275899977654,
          135.57703332067038,
          136.58130764156425,
          137.5855819624581,
          138.58985628335196,
          139.5941306042458,
          140.59840492513965,
          141.60267924603352,
          142.60695356692736,
          143.61122788782123,
          144.61550220871507,
          145.61977652960894,
          146.62405085050278,
          147.62832517139665,
          148.6325994922905,
          149.63687381318437,
          150.6411481340782,
          151.64542245497205,
          152.64969677586592,
          153.65397109675976,
          154.65824541765363,
          155.66251973854747,
          156.66679405944134,
          157.67106838033519,
          158.67534270122906,
          159.6796170221229,
          160.68389134301674,
          161.6881656639106,
          162.69243998480445,
          163.69671430569832,
          164.70098862659216,
          165.70526294748603,
          166.70953726837988,
          167.71381158927375,
          168.7180859101676,
          169.72236023106146,
          170.7266345519553,
          171.73090887284914,
          172.735183193743,
          173.73945751463685,
          174.74373183553072,
          175.74800615642457,
          176.75228047731844,
          177.75655479821228,
          178.76082911910615,
          179.76510344
         ],
         "xaxis": "x2",
         "y": [
          0,
          0,
          0,
          0,
          0,
          0,
          0,
          0,
          0,
          0,
          0,
          0,
          100,
          100,
          100,
          100,
          100,
          100,
          200,
          200,
          200,
          200,
          200,
          200,
          200,
          0,
          0,
          0,
          0,
          100,
          100,
          100,
          100,
          100,
          100,
          100,
          100,
          100,
          100,
          100,
          100,
          100,
          200,
          200,
          200,
          200,
          200,
          200,
          200,
          200,
          200,
          200,
          200,
          200,
          200,
          200,
          0,
          0,
          0,
          0,
          0,
          0,
          0,
          0,
          0,
          0,
          0,
          0,
          0,
          0,
          0,
          0,
          0,
          0,
          0,
          0,
          0,
          0,
          0,
          0,
          0,
          0,
          0,
          0,
          0,
          0,
          0,
          0,
          200,
          200,
          200,
          200,
          200,
          200,
          200,
          200,
          200,
          200,
          200,
          200,
          200,
          200,
          200,
          200,
          200,
          200,
          200,
          200,
          200,
          200,
          200,
          200,
          200,
          200,
          200,
          0,
          0,
          0,
          0,
          0,
          0,
          200,
          200,
          200,
          200,
          200,
          200,
          200,
          200,
          200,
          200,
          200,
          200,
          200,
          200,
          200,
          200,
          200,
          200,
          200,
          200,
          200,
          200,
          200,
          200,
          200,
          200,
          0,
          0,
          0,
          0,
          200,
          200,
          200,
          200,
          200,
          200,
          200,
          200,
          200,
          200,
          200,
          200,
          200,
          200,
          200,
          200,
          200,
          200,
          200,
          200,
          200,
          200,
          200,
          200,
          200,
          200,
          200,
          0,
          0
         ],
         "yaxis": "y2"
        },
        {
         "line": {
          "dash": "dot",
          "shape": "linear"
         },
         "name": "StaticTier#3918 mvt",
         "text": [],
         "textposition": "top center",
         "type": "scatter",
         "x": [],
         "xaxis": "x2",
         "y": [],
         "yaxis": "y2"
        },
        {
         "line": {
          "shape": "linear"
         },
         "name": "ephemeral",
         "showlegend": false,
         "text": [
          "StaticTier#3918|Compute | +volume=0B",
          "PerfTier#3918|Compute | +volume=0B",
          "PerfTier#3918|Read|tier1 | +volume=1.73 GB",
          "StaticTier#3918|Read|tier2 | +volume=319.23 MB",
          "StaticTier#3918|Read|tier2 | +volume=1.41 GB",
          "PerfTier#3918|Compute | +volume=0B",
          "PerfTier#3918|Read|tier1 | +volume=1.59 GB",
          "PerfTier#3918|Write|tier1 | +volume=1.59 GB",
          "PerfTier#3918|Write|tier1 | +volume=450.01 MB",
          "StaticTier#3918|Compute | +volume=0B",
          "PerfTier#3918|Compute | +volume=0B",
          "StaticTier#3918|Write|tier2 | +volume=293.19 MB",
          "StaticTier#3918|Read|tier2 | +volume=732.98 MB",
          "PerfTier#3918|Read|tier1 | +volume=3.17 GB",
          "StaticTier#3918|Write|tier2 | +volume=233.38 MB",
          "PerfTier#3918|Write|tier1 | +volume=3.17 GB",
          "StaticTier#3918|Read|tier2 | +volume=583.46 MB",
          "PerfTier#3918|Write|tier1 | +volume=970.03 MB",
          "StaticTier#3918|Read|tier2 | +volume=178.6 MB",
          "StaticTier#3918|Write|tier2 | +volume=71.44 MB",
          "StaticTier#3918|Read|tier2 | +volume=93.74 MB",
          "StaticTier#3918|Write|tier2 | +volume=37.49 MB",
          "StaticTier#3918|Write|tier2 | +volume=1.4 GB",
          "StaticTier#3918|Compute | +volume=0B",
          "StaticTier#3918|Write|tier2 | +volume=301.64 MB",
          "StaticTier#3918|Read|tier2 | +volume=754.09 MB",
          "StaticTier#3918|Write|tier2 | +volume=355.27 EB",
          "StaticTier#3918|Read|tier2 | +volume=888.18 EB",
          "StaticTier#3918|Read|tier2 | +volume=2.41 GB",
          "StaticTier#3918|Write|tier2 | +volume=965.96 MB",
          "PerfTier#3918|Compute | +volume=0B",
          "StaticTier#3918|Write|tier2 | +volume=1.59 GB",
          "PerfTier#3918|Read|tier1 | +volume=3.02 MB",
          "PerfTier#3918|Write|tier1 | +volume=3.02 MB",
          "StaticTier#3918|Write|tier2 | +volume=929.03 KB",
          "StaticTier#3918|Write|tier2 | +volume=1.28 GB",
          "PerfTier#3918|Write|tier1 | +volume=4.18 GB",
          "StaticTier#3918|Write|tier2 | +volume=476.84 EB",
          "PerfTier#3918|Write|tier1 | +volume=1.15 GB",
          "PerfTier#3918|Compute | +volume=0B",
          "PerfTier#3918|Read|tier1 | +volume=7.05 MB",
          "PerfTier#3918|Write|tier1 | +volume=7.05 MB",
          "PerfTier#3918|Write|tier1 | +volume=4.27 GB",
          "PerfTier#3918|Write|tier1 | +volume=1.03 GB",
          "PerfTier#3918|Compute | +volume=0B",
          "PerfTier#3918|Read|tier1 | +volume=2.52 MB",
          "PerfTier#3918|Write|tier1 | +volume=2.52 MB",
          "PerfTier#3918|Write|tier1 | +volume=5.33 GB",
          "PerfTier#3918|Compute | +volume=0B",
          "StaticTier#3918|Compute | +volume=0B",
          "StaticTier#3918|Read|tier2 | +volume=3.02 MB",
          "StaticTier#3918|Write|tier2 | +volume=1.21 MB",
          "StaticTier#3918|Write|tier2 | +volume=5.33 GB",
          "StaticTier#3918|Compute | +volume=0B",
          "StaticTier#3918|Read|tier2 | +volume=7.05 MB",
          "StaticTier#3918|Write|tier2 | +volume=2.82 MB",
          "StaticTier#3918|Write|tier2 | +volume=5.3 GB",
          "StaticTier#3918|Compute | +volume=0B",
          "StaticTier#3918|Read|tier2 | +volume=2.52 MB",
          "StaticTier#3918|Write|tier2 | +volume=1.01 MB",
          "StaticTier#3918|Write|tier2 | +volume=5.33 GB",
          "StaticTier#3918|Compute | +volume=0B"
         ],
         "textposition": "top center",
         "type": "scatter",
         "x": [
          1,
          1.6384520438494967,
          4.461616264,
          8.638452043849497,
          10.00615474240337,
          10.39354785140412,
          11.461616264,
          14.39354785140412,
          16.727383912959514,
          17.441776178971512,
          17.816716768,
          24.833094500999998,
          28.833094500999998,
          31.849472234,
          31.849472234000004,
          41.509031609,
          49.44177617897151,
          49.44642134850557,
          55.866149144999994,
          57.63851782503169,
          63.63851782503169,
          63.64937088490012,
          70.223266681,
          71.80048919735655,
          75.80048919735655,
          75.80435980689766,
          83.99645781085952,
          87.866149145,
          87.878242265,
          114.54618995,
          120.54618995,
          120.57440723,
          147.086070395,
          151.086070395,
          151.096147995,
          177.76510344
         ],
         "xaxis": "x3",
         "y": [
          0,
          0,
          0,
          0,
          0,
          0,
          0,
          0,
          0,
          0,
          0,
          0,
          0,
          0,
          0,
          0,
          0,
          0,
          0,
          0,
          0,
          0,
          0,
          0,
          0,
          0,
          0,
          0,
          0,
          0,
          0,
          0,
          0,
          0,
          0,
          0
         ],
         "yaxis": "y3"
        },
        {
         "line": {
          "shape": "linear"
         },
         "name": "tier1",
         "showlegend": false,
         "text": [
          "StaticTier#3918|Compute | +volume=0B",
          "PerfTier#3918|Compute | +volume=0B",
          "PerfTier#3918|Read|tier1 | +volume=1.73 GB",
          "StaticTier#3918|Read|tier2 | +volume=319.23 MB",
          "StaticTier#3918|Read|tier2 | +volume=1.41 GB",
          "PerfTier#3918|Compute | +volume=0B",
          "PerfTier#3918|Read|tier1 | +volume=1.59 GB",
          "PerfTier#3918|Write|tier1 | +volume=1.59 GB",
          "PerfTier#3918|Write|tier1 | +volume=450.01 MB",
          "StaticTier#3918|Compute | +volume=0B",
          "PerfTier#3918|Compute | +volume=0B",
          "StaticTier#3918|Write|tier2 | +volume=293.19 MB",
          "StaticTier#3918|Read|tier2 | +volume=732.98 MB",
          "PerfTier#3918|Read|tier1 | +volume=3.17 GB",
          "StaticTier#3918|Write|tier2 | +volume=233.38 MB",
          "PerfTier#3918|Write|tier1 | +volume=3.17 GB",
          "StaticTier#3918|Read|tier2 | +volume=583.46 MB",
          "PerfTier#3918|Write|tier1 | +volume=970.03 MB",
          "StaticTier#3918|Read|tier2 | +volume=178.6 MB",
          "StaticTier#3918|Write|tier2 | +volume=71.44 MB",
          "StaticTier#3918|Read|tier2 | +volume=93.74 MB",
          "StaticTier#3918|Write|tier2 | +volume=37.49 MB",
          "StaticTier#3918|Write|tier2 | +volume=1.4 GB",
          "StaticTier#3918|Compute | +volume=0B",
          "StaticTier#3918|Write|tier2 | +volume=301.64 MB",
          "StaticTier#3918|Read|tier2 | +volume=754.09 MB",
          "StaticTier#3918|Write|tier2 | +volume=355.27 EB",
          "StaticTier#3918|Read|tier2 | +volume=888.18 EB",
          "StaticTier#3918|Read|tier2 | +volume=2.41 GB",
          "StaticTier#3918|Write|tier2 | +volume=965.96 MB",
          "PerfTier#3918|Compute | +volume=0B",
          "StaticTier#3918|Write|tier2 | +volume=1.59 GB",
          "PerfTier#3918|Read|tier1 | +volume=3.02 MB",
          "PerfTier#3918|Write|tier1 | +volume=3.02 MB",
          "StaticTier#3918|Write|tier2 | +volume=929.03 KB",
          "StaticTier#3918|Write|tier2 | +volume=1.28 GB",
          "PerfTier#3918|Write|tier1 | +volume=4.18 GB",
          "StaticTier#3918|Write|tier2 | +volume=476.84 EB",
          "PerfTier#3918|Write|tier1 | +volume=1.15 GB",
          "PerfTier#3918|Compute | +volume=0B",
          "PerfTier#3918|Read|tier1 | +volume=7.05 MB",
          "PerfTier#3918|Write|tier1 | +volume=7.05 MB",
          "PerfTier#3918|Write|tier1 | +volume=4.27 GB",
          "PerfTier#3918|Write|tier1 | +volume=1.03 GB",
          "PerfTier#3918|Compute | +volume=0B",
          "PerfTier#3918|Read|tier1 | +volume=2.52 MB",
          "PerfTier#3918|Write|tier1 | +volume=2.52 MB",
          "PerfTier#3918|Write|tier1 | +volume=5.33 GB",
          "PerfTier#3918|Compute | +volume=0B",
          "StaticTier#3918|Compute | +volume=0B",
          "StaticTier#3918|Read|tier2 | +volume=3.02 MB",
          "StaticTier#3918|Write|tier2 | +volume=1.21 MB",
          "StaticTier#3918|Write|tier2 | +volume=5.33 GB",
          "StaticTier#3918|Compute | +volume=0B",
          "StaticTier#3918|Read|tier2 | +volume=7.05 MB",
          "StaticTier#3918|Write|tier2 | +volume=2.82 MB",
          "StaticTier#3918|Write|tier2 | +volume=5.3 GB",
          "StaticTier#3918|Compute | +volume=0B",
          "StaticTier#3918|Read|tier2 | +volume=2.52 MB",
          "StaticTier#3918|Write|tier2 | +volume=1.01 MB",
          "StaticTier#3918|Write|tier2 | +volume=5.33 GB",
          "StaticTier#3918|Compute | +volume=0B"
         ],
         "textposition": "top center",
         "type": "scatter",
         "x": [
          0,
          1,
          1.6384520438494967,
          4.461616264,
          8.638452043849497,
          10.00615474240337,
          10.39354785140412,
          11.461616264,
          14.39354785140412,
          16.727383912959514,
          17.441776178971512,
          17.816716768,
          24.833094500999998,
          28.833094500999998,
          31.849472234,
          31.849472234000004,
          41.509031609,
          49.44177617897151,
          49.44642134850557,
          55.866149144999994,
          57.63851782503169,
          63.63851782503169,
          63.64937088490012,
          70.223266681,
          71.80048919735655,
          75.80048919735655,
          75.80435980689766,
          83.99645781085952,
          85.99645781085952,
          87.866149145,
          87.878242265,
          114.54618995,
          120.54618995,
          120.57440723,
          147.086070395,
          151.086070395,
          151.096147995,
          177.76510344,
          179.76510344
         ],
         "xaxis": "x4",
         "y": [
          0,
          0,
          1730808132,
          1730808132,
          1730808132,
          3319583257.9999995,
          3769593729,
          3769593729,
          3769593729,
          6938578006.000001,
          7908610947.000001,
          7908610947.000001,
          7908610947.000001,
          7908610947.000001,
          7908610947.000001,
          7908610947.000001,
          7908610947.000001,
          7908610947.000001,
          7911634227,
          12089874549.61567,
          13243409796,
          13243409796,
          13250464115.999998,
          17523394068.89015,
          18548564157,
          18548564157,
          18551083556.999996,
          23883363006,
          23883363006,
          23883363006,
          23883363006,
          23883363006,
          23883363006,
          23883363006,
          23883363006,
          23883363006,
          23883363006,
          23883363006,
          23883363006
         ],
         "yaxis": "y4"
        },
        {
         "line": {
          "shape": "linear"
         },
         "name": "tier2",
         "showlegend": false,
         "text": [
          "StaticTier#3918|Compute | +volume=0B",
          "PerfTier#3918|Compute | +volume=0B",
          "PerfTier#3918|Read|tier1 | +volume=1.73 GB",
          "StaticTier#3918|Read|tier2 | +volume=319.23 MB",
          "StaticTier#3918|Read|tier2 | +volume=1.41 GB",
          "PerfTier#3918|Compute | +volume=0B",
          "PerfTier#3918|Read|tier1 | +volume=1.59 GB",
          "PerfTier#3918|Write|tier1 | +volume=1.59 GB",
          "PerfTier#3918|Write|tier1 | +volume=450.01 MB",
          "StaticTier#3918|Compute | +volume=0B",
          "PerfTier#3918|Compute | +volume=0B",
          "StaticTier#3918|Write|tier2 | +volume=293.19 MB",
          "StaticTier#3918|Read|tier2 | +volume=732.98 MB",
          "PerfTier#3918|Read|tier1 | +volume=3.17 GB",
          "StaticTier#3918|Write|tier2 | +volume=233.38 MB",
          "PerfTier#3918|Write|tier1 | +volume=3.17 GB",
          "StaticTier#3918|Read|tier2 | +volume=583.46 MB",
          "PerfTier#3918|Write|tier1 | +volume=970.03 MB",
          "StaticTier#3918|Read|tier2 | +volume=178.6 MB",
          "StaticTier#3918|Write|tier2 | +volume=71.44 MB",
          "StaticTier#3918|Read|tier2 | +volume=93.74 MB",
          "StaticTier#3918|Write|tier2 | +volume=37.49 MB",
          "StaticTier#3918|Write|tier2 | +volume=1.4 GB",
          "StaticTier#3918|Compute | +volume=0B",
          "StaticTier#3918|Write|tier2 | +volume=301.64 MB",
          "StaticTier#3918|Read|tier2 | +volume=754.09 MB",
          "StaticTier#3918|Write|tier2 | +volume=355.27 EB",
          "StaticTier#3918|Read|tier2 | +volume=888.18 EB",
          "StaticTier#3918|Read|tier2 | +volume=2.41 GB",
          "StaticTier#3918|Write|tier2 | +volume=965.96 MB",
          "PerfTier#3918|Compute | +volume=0B",
          "StaticTier#3918|Write|tier2 | +volume=1.59 GB",
          "PerfTier#3918|Read|tier1 | +volume=3.02 MB",
          "PerfTier#3918|Write|tier1 | +volume=3.02 MB",
          "StaticTier#3918|Write|tier2 | +volume=929.03 KB",
          "StaticTier#3918|Write|tier2 | +volume=1.28 GB",
          "PerfTier#3918|Write|tier1 | +volume=4.18 GB",
          "StaticTier#3918|Write|tier2 | +volume=476.84 EB",
          "PerfTier#3918|Write|tier1 | +volume=1.15 GB",
          "PerfTier#3918|Compute | +volume=0B",
          "PerfTier#3918|Read|tier1 | +volume=7.05 MB",
          "PerfTier#3918|Write|tier1 | +volume=7.05 MB",
          "PerfTier#3918|Write|tier1 | +volume=4.27 GB",
          "PerfTier#3918|Write|tier1 | +volume=1.03 GB",
          "PerfTier#3918|Compute | +volume=0B",
          "PerfTier#3918|Read|tier1 | +volume=2.52 MB",
          "PerfTier#3918|Write|tier1 | +volume=2.52 MB",
          "PerfTier#3918|Write|tier1 | +volume=5.33 GB",
          "PerfTier#3918|Compute | +volume=0B",
          "StaticTier#3918|Compute | +volume=0B",
          "StaticTier#3918|Read|tier2 | +volume=3.02 MB",
          "StaticTier#3918|Write|tier2 | +volume=1.21 MB",
          "StaticTier#3918|Write|tier2 | +volume=5.33 GB",
          "StaticTier#3918|Compute | +volume=0B",
          "StaticTier#3918|Read|tier2 | +volume=7.05 MB",
          "StaticTier#3918|Write|tier2 | +volume=2.82 MB",
          "StaticTier#3918|Write|tier2 | +volume=5.3 GB",
          "StaticTier#3918|Compute | +volume=0B",
          "StaticTier#3918|Read|tier2 | +volume=2.52 MB",
          "StaticTier#3918|Write|tier2 | +volume=1.01 MB",
          "StaticTier#3918|Write|tier2 | +volume=5.33 GB",
          "StaticTier#3918|Compute | +volume=0B"
         ],
         "textposition": "top center",
         "type": "scatter",
         "x": [
          0,
          1,
          1.6384520438494967,
          4.461616264,
          8.638452043849497,
          10.00615474240337,
          10.39354785140412,
          11.461616264,
          14.39354785140412,
          16.727383912959514,
          17.441776178971512,
          17.816716768,
          24.833094500999998,
          28.833094500999998,
          31.849472234,
          31.849472234000004,
          41.509031609,
          49.44177617897151,
          49.44642134850557,
          55.866149144999994,
          57.63851782503169,
          63.63851782503169,
          63.64937088490012,
          70.223266681,
          71.80048919735655,
          75.80048919735655,
          75.80435980689766,
          83.99645781085952,
          85.99645781085952,
          87.866149145,
          87.878242265,
          114.54618995,
          120.54618995,
          120.57440723,
          147.086070395,
          151.086070395,
          151.096147995,
          177.76510344,
          179.76510344
         ],
         "xaxis": "x5",
         "y": [
          0,
          0,
          1730808132,
          1730808132,
          1730808132,
          1730808132,
          1730808132,
          1730808132,
          2024001290.740412,
          2257384896.8959513,
          2328824123.497151,
          2366318182.3999996,
          3769593729,
          3769593729,
          4071231502.3000007,
          4071231502.300001,
          5037187439.8,
          6623736353.794302,
          6624665387.701115,
          7908610947,
          7908610947,
          7908610947,
          7908610947,
          7908610947,
          7908610947,
          7908610947,
          7908610947,
          7908610947,
          7908610947,
          7908610947,
          7909820259,
          13243409796,
          13243409796,
          13246231523.999998,
          18548564157,
          18548564157,
          18549571917,
          23883363006,
          23883363006
         ],
         "yaxis": "y5"
        },
        {
         "line": {
          "shape": "linear"
         },
         "name": "lfs",
         "showlegend": false,
         "text": [
          "StaticTier#3918|Compute | +volume=0B",
          "PerfTier#3918|Compute | +volume=0B",
          "PerfTier#3918|Read|tier1 | +volume=1.73 GB",
          "StaticTier#3918|Read|tier2 | +volume=319.23 MB",
          "StaticTier#3918|Read|tier2 | +volume=1.41 GB",
          "PerfTier#3918|Compute | +volume=0B",
          "PerfTier#3918|Read|tier1 | +volume=1.59 GB",
          "PerfTier#3918|Write|tier1 | +volume=1.59 GB",
          "PerfTier#3918|Write|tier1 | +volume=450.01 MB",
          "StaticTier#3918|Compute | +volume=0B",
          "PerfTier#3918|Compute | +volume=0B",
          "StaticTier#3918|Write|tier2 | +volume=293.19 MB",
          "StaticTier#3918|Read|tier2 | +volume=732.98 MB",
          "PerfTier#3918|Read|tier1 | +volume=3.17 GB",
          "StaticTier#3918|Write|tier2 | +volume=233.38 MB",
          "PerfTier#3918|Write|tier1 | +volume=3.17 GB",
          "StaticTier#3918|Read|tier2 | +volume=583.46 MB",
          "PerfTier#3918|Write|tier1 | +volume=970.03 MB",
          "StaticTier#3918|Read|tier2 | +volume=178.6 MB",
          "StaticTier#3918|Write|tier2 | +volume=71.44 MB",
          "StaticTier#3918|Read|tier2 | +volume=93.74 MB",
          "StaticTier#3918|Write|tier2 | +volume=37.49 MB",
          "StaticTier#3918|Write|tier2 | +volume=1.4 GB",
          "StaticTier#3918|Compute | +volume=0B",
          "StaticTier#3918|Write|tier2 | +volume=301.64 MB",
          "StaticTier#3918|Read|tier2 | +volume=754.09 MB",
          "StaticTier#3918|Write|tier2 | +volume=355.27 EB",
          "StaticTier#3918|Read|tier2 | +volume=888.18 EB",
          "StaticTier#3918|Read|tier2 | +volume=2.41 GB",
          "StaticTier#3918|Write|tier2 | +volume=965.96 MB",
          "PerfTier#3918|Compute | +volume=0B",
          "StaticTier#3918|Write|tier2 | +volume=1.59 GB",
          "PerfTier#3918|Read|tier1 | +volume=3.02 MB",
          "PerfTier#3918|Write|tier1 | +volume=3.02 MB",
          "StaticTier#3918|Write|tier2 | +volume=929.03 KB",
          "StaticTier#3918|Write|tier2 | +volume=1.28 GB",
          "PerfTier#3918|Write|tier1 | +volume=4.18 GB",
          "StaticTier#3918|Write|tier2 | +volume=476.84 EB",
          "PerfTier#3918|Write|tier1 | +volume=1.15 GB",
          "PerfTier#3918|Compute | +volume=0B",
          "PerfTier#3918|Read|tier1 | +volume=7.05 MB",
          "PerfTier#3918|Write|tier1 | +volume=7.05 MB",
          "PerfTier#3918|Write|tier1 | +volume=4.27 GB",
          "PerfTier#3918|Write|tier1 | +volume=1.03 GB",
          "PerfTier#3918|Compute | +volume=0B",
          "PerfTier#3918|Read|tier1 | +volume=2.52 MB",
          "PerfTier#3918|Write|tier1 | +volume=2.52 MB",
          "PerfTier#3918|Write|tier1 | +volume=5.33 GB",
          "PerfTier#3918|Compute | +volume=0B",
          "StaticTier#3918|Compute | +volume=0B",
          "StaticTier#3918|Read|tier2 | +volume=3.02 MB",
          "StaticTier#3918|Write|tier2 | +volume=1.21 MB",
          "StaticTier#3918|Write|tier2 | +volume=5.33 GB",
          "StaticTier#3918|Compute | +volume=0B",
          "StaticTier#3918|Read|tier2 | +volume=7.05 MB",
          "StaticTier#3918|Write|tier2 | +volume=2.82 MB",
          "StaticTier#3918|Write|tier2 | +volume=5.3 GB",
          "StaticTier#3918|Compute | +volume=0B",
          "StaticTier#3918|Read|tier2 | +volume=2.52 MB",
          "StaticTier#3918|Write|tier2 | +volume=1.01 MB",
          "StaticTier#3918|Write|tier2 | +volume=5.33 GB",
          "StaticTier#3918|Compute | +volume=0B"
         ],
         "textposition": "top center",
         "type": "scatter",
         "x": [
          0,
          1,
          1.6384520438494967,
          4.461616264,
          8.638452043849497,
          10.00615474240337,
          10.39354785140412,
          11.461616264,
          14.39354785140412,
          16.727383912959514,
          17.441776178971512,
          17.816716768,
          24.833094500999998,
          28.833094500999998,
          31.849472234,
          31.849472234000004,
          41.509031609,
          49.44177617897151,
          49.44642134850557,
          55.866149144999994,
          57.63851782503169,
          63.63851782503169,
          63.64937088490012,
          70.223266681,
          71.80048919735655,
          75.80048919735655,
          75.80435980689766,
          83.99645781085952,
          85.99645781085952,
          87.866149145,
          87.878242265,
          114.54618995,
          120.54618995,
          120.57440723,
          147.086070395,
          151.086070395,
          151.096147995,
          177.76510344,
          179.76510344
         ],
         "xaxis": "x6",
         "y": [
          0,
          0,
          0,
          0,
          0,
          0,
          0,
          0,
          0,
          0,
          0,
          0,
          0,
          0,
          0,
          0,
          0,
          0,
          0,
          0,
          0,
          0,
          0,
          0,
          0,
          0,
          0,
          0,
          0,
          0,
          0,
          0,
          0,
          0,
          0,
          0,
          0,
          0,
          0
         ],
         "yaxis": "y6"
        },
        {
         "line": {
          "shape": "hv"
         },
         "showlegend": false,
         "type": "scatter",
         "x": [
          0,
          1,
          1.6384520438494967,
          4.461616264,
          8.638452043849497,
          10.00615474240337,
          10.39354785140412,
          11.461616264,
          14.39354785140412,
          16.727383912959514,
          17.441776178971512,
          17.816716768,
          24.833094500999998,
          28.833094500999998,
          31.849472234,
          31.849472234000004,
          41.509031609,
          49.44177617897151,
          49.44642134850557,
          55.866149144999994,
          57.63851782503169,
          63.63851782503169,
          63.64937088490012,
          70.223266681,
          71.80048919735655,
          75.80048919735655,
          75.80435980689766,
          83.99645781085952,
          85.99645781085952,
          87.866149145,
          87.878242265,
          114.54618995,
          120.54618995,
          120.57440723,
          147.086070395,
          151.086070395,
          151.096147995,
          177.76510344,
          179.76510344
         ],
         "xaxis": "x7",
         "y": [
          2,
          2,
          2,
          2,
          3,
          2,
          2,
          3,
          4,
          3,
          3,
          2,
          2,
          3,
          3,
          3,
          2,
          3,
          2,
          2,
          2,
          3,
          2,
          2,
          2,
          3,
          2,
          2,
          1,
          2,
          1,
          1,
          2,
          1,
          1,
          2,
          1,
          1,
          0
         ],
         "yaxis": "y7"
        },
        {
         "line": {
          "color": "red",
          "dash": "dot",
          "shape": "hv",
          "width": 3
         },
         "showlegend": false,
         "text": [
          "Maximum available cores in cluster=2",
          "Maximum available cores in cluster=2"
         ],
         "type": "scatter",
         "x": [
          0,
          179.76510344
         ],
         "xaxis": "x7",
         "y": [
          2,
          2
         ],
         "yaxis": "y7"
        }
       ],
       "layout": {
        "annotations": [
         {
          "font": {
           "size": 16
          },
          "showarrow": false,
          "text": "app#PerfTier#3918",
          "x": 0.5,
          "xanchor": "center",
          "xref": "paper",
          "y": 0.9999999999999999,
          "yanchor": "bottom",
          "yref": "paper"
         },
         {
          "font": {
           "size": 16
          },
          "showarrow": false,
          "text": "app#StaticTier#3918",
          "x": 0.5,
          "xanchor": "center",
          "xref": "paper",
          "y": 0.8469387755102039,
          "yanchor": "bottom",
          "yref": "paper"
         },
         {
          "font": {
           "size": 16
          },
          "showarrow": false,
          "text": "ephemeral (1.0 GB)",
          "x": 0.5,
          "xanchor": "center",
          "xref": "paper",
          "y": 0.6938775510204082,
          "yanchor": "bottom",
          "yref": "paper"
         },
         {
          "font": {
           "size": 16
          },
          "showarrow": false,
          "text": "tier1 (100.0 GB)",
          "x": 0.5,
          "xanchor": "center",
          "xref": "paper",
          "y": 0.5408163265306122,
          "yanchor": "bottom",
          "yref": "paper"
         },
         {
          "font": {
           "size": 16
          },
          "showarrow": false,
          "text": "tier2 (500.0 GB)",
          "x": 0.5,
          "xanchor": "center",
          "xref": "paper",
          "y": 0.3877551020408163,
          "yanchor": "bottom",
          "yref": "paper"
         },
         {
          "font": {
           "size": 16
          },
          "showarrow": false,
          "text": "lfs (500.0 GB)",
          "x": 0.5,
          "xanchor": "center",
          "xref": "paper",
          "y": 0.2346938775510204,
          "yanchor": "bottom",
          "yref": "paper"
         },
         {
          "font": {
           "size": 16
          },
          "showarrow": false,
          "text": "CPU Cores",
          "x": 0.5,
          "xanchor": "center",
          "xref": "paper",
          "y": 0.08163265306122448,
          "yanchor": "bottom",
          "yref": "paper"
         }
        ],
        "height": 900,
        "template": {
         "data": {
          "bar": [
           {
            "error_x": {
             "color": "#2a3f5f"
            },
            "error_y": {
             "color": "#2a3f5f"
            },
            "marker": {
             "line": {
              "color": "#E5ECF6",
              "width": 0.5
             },
             "pattern": {
              "fillmode": "overlay",
              "size": 10,
              "solidity": 0.2
             }
            },
            "type": "bar"
           }
          ],
          "barpolar": [
           {
            "marker": {
             "line": {
              "color": "#E5ECF6",
              "width": 0.5
             },
             "pattern": {
              "fillmode": "overlay",
              "size": 10,
              "solidity": 0.2
             }
            },
            "type": "barpolar"
           }
          ],
          "carpet": [
           {
            "aaxis": {
             "endlinecolor": "#2a3f5f",
             "gridcolor": "white",
             "linecolor": "white",
             "minorgridcolor": "white",
             "startlinecolor": "#2a3f5f"
            },
            "baxis": {
             "endlinecolor": "#2a3f5f",
             "gridcolor": "white",
             "linecolor": "white",
             "minorgridcolor": "white",
             "startlinecolor": "#2a3f5f"
            },
            "type": "carpet"
           }
          ],
          "choropleth": [
           {
            "colorbar": {
             "outlinewidth": 0,
             "ticks": ""
            },
            "type": "choropleth"
           }
          ],
          "contour": [
           {
            "colorbar": {
             "outlinewidth": 0,
             "ticks": ""
            },
            "colorscale": [
             [
              0,
              "#0d0887"
             ],
             [
              0.1111111111111111,
              "#46039f"
             ],
             [
              0.2222222222222222,
              "#7201a8"
             ],
             [
              0.3333333333333333,
              "#9c179e"
             ],
             [
              0.4444444444444444,
              "#bd3786"
             ],
             [
              0.5555555555555556,
              "#d8576b"
             ],
             [
              0.6666666666666666,
              "#ed7953"
             ],
             [
              0.7777777777777778,
              "#fb9f3a"
             ],
             [
              0.8888888888888888,
              "#fdca26"
             ],
             [
              1,
              "#f0f921"
             ]
            ],
            "type": "contour"
           }
          ],
          "contourcarpet": [
           {
            "colorbar": {
             "outlinewidth": 0,
             "ticks": ""
            },
            "type": "contourcarpet"
           }
          ],
          "heatmap": [
           {
            "colorbar": {
             "outlinewidth": 0,
             "ticks": ""
            },
            "colorscale": [
             [
              0,
              "#0d0887"
             ],
             [
              0.1111111111111111,
              "#46039f"
             ],
             [
              0.2222222222222222,
              "#7201a8"
             ],
             [
              0.3333333333333333,
              "#9c179e"
             ],
             [
              0.4444444444444444,
              "#bd3786"
             ],
             [
              0.5555555555555556,
              "#d8576b"
             ],
             [
              0.6666666666666666,
              "#ed7953"
             ],
             [
              0.7777777777777778,
              "#fb9f3a"
             ],
             [
              0.8888888888888888,
              "#fdca26"
             ],
             [
              1,
              "#f0f921"
             ]
            ],
            "type": "heatmap"
           }
          ],
          "heatmapgl": [
           {
            "colorbar": {
             "outlinewidth": 0,
             "ticks": ""
            },
            "colorscale": [
             [
              0,
              "#0d0887"
             ],
             [
              0.1111111111111111,
              "#46039f"
             ],
             [
              0.2222222222222222,
              "#7201a8"
             ],
             [
              0.3333333333333333,
              "#9c179e"
             ],
             [
              0.4444444444444444,
              "#bd3786"
             ],
             [
              0.5555555555555556,
              "#d8576b"
             ],
             [
              0.6666666666666666,
              "#ed7953"
             ],
             [
              0.7777777777777778,
              "#fb9f3a"
             ],
             [
              0.8888888888888888,
              "#fdca26"
             ],
             [
              1,
              "#f0f921"
             ]
            ],
            "type": "heatmapgl"
           }
          ],
          "histogram": [
           {
            "marker": {
             "pattern": {
              "fillmode": "overlay",
              "size": 10,
              "solidity": 0.2
             }
            },
            "type": "histogram"
           }
          ],
          "histogram2d": [
           {
            "colorbar": {
             "outlinewidth": 0,
             "ticks": ""
            },
            "colorscale": [
             [
              0,
              "#0d0887"
             ],
             [
              0.1111111111111111,
              "#46039f"
             ],
             [
              0.2222222222222222,
              "#7201a8"
             ],
             [
              0.3333333333333333,
              "#9c179e"
             ],
             [
              0.4444444444444444,
              "#bd3786"
             ],
             [
              0.5555555555555556,
              "#d8576b"
             ],
             [
              0.6666666666666666,
              "#ed7953"
             ],
             [
              0.7777777777777778,
              "#fb9f3a"
             ],
             [
              0.8888888888888888,
              "#fdca26"
             ],
             [
              1,
              "#f0f921"
             ]
            ],
            "type": "histogram2d"
           }
          ],
          "histogram2dcontour": [
           {
            "colorbar": {
             "outlinewidth": 0,
             "ticks": ""
            },
            "colorscale": [
             [
              0,
              "#0d0887"
             ],
             [
              0.1111111111111111,
              "#46039f"
             ],
             [
              0.2222222222222222,
              "#7201a8"
             ],
             [
              0.3333333333333333,
              "#9c179e"
             ],
             [
              0.4444444444444444,
              "#bd3786"
             ],
             [
              0.5555555555555556,
              "#d8576b"
             ],
             [
              0.6666666666666666,
              "#ed7953"
             ],
             [
              0.7777777777777778,
              "#fb9f3a"
             ],
             [
              0.8888888888888888,
              "#fdca26"
             ],
             [
              1,
              "#f0f921"
             ]
            ],
            "type": "histogram2dcontour"
           }
          ],
          "mesh3d": [
           {
            "colorbar": {
             "outlinewidth": 0,
             "ticks": ""
            },
            "type": "mesh3d"
           }
          ],
          "parcoords": [
           {
            "line": {
             "colorbar": {
              "outlinewidth": 0,
              "ticks": ""
             }
            },
            "type": "parcoords"
           }
          ],
          "pie": [
           {
            "automargin": true,
            "type": "pie"
           }
          ],
          "scatter": [
           {
            "fillpattern": {
             "fillmode": "overlay",
             "size": 10,
             "solidity": 0.2
            },
            "type": "scatter"
           }
          ],
          "scatter3d": [
           {
            "line": {
             "colorbar": {
              "outlinewidth": 0,
              "ticks": ""
             }
            },
            "marker": {
             "colorbar": {
              "outlinewidth": 0,
              "ticks": ""
             }
            },
            "type": "scatter3d"
           }
          ],
          "scattercarpet": [
           {
            "marker": {
             "colorbar": {
              "outlinewidth": 0,
              "ticks": ""
             }
            },
            "type": "scattercarpet"
           }
          ],
          "scattergeo": [
           {
            "marker": {
             "colorbar": {
              "outlinewidth": 0,
              "ticks": ""
             }
            },
            "type": "scattergeo"
           }
          ],
          "scattergl": [
           {
            "marker": {
             "colorbar": {
              "outlinewidth": 0,
              "ticks": ""
             }
            },
            "type": "scattergl"
           }
          ],
          "scattermapbox": [
           {
            "marker": {
             "colorbar": {
              "outlinewidth": 0,
              "ticks": ""
             }
            },
            "type": "scattermapbox"
           }
          ],
          "scatterpolar": [
           {
            "marker": {
             "colorbar": {
              "outlinewidth": 0,
              "ticks": ""
             }
            },
            "type": "scatterpolar"
           }
          ],
          "scatterpolargl": [
           {
            "marker": {
             "colorbar": {
              "outlinewidth": 0,
              "ticks": ""
             }
            },
            "type": "scatterpolargl"
           }
          ],
          "scatterternary": [
           {
            "marker": {
             "colorbar": {
              "outlinewidth": 0,
              "ticks": ""
             }
            },
            "type": "scatterternary"
           }
          ],
          "surface": [
           {
            "colorbar": {
             "outlinewidth": 0,
             "ticks": ""
            },
            "colorscale": [
             [
              0,
              "#0d0887"
             ],
             [
              0.1111111111111111,
              "#46039f"
             ],
             [
              0.2222222222222222,
              "#7201a8"
             ],
             [
              0.3333333333333333,
              "#9c179e"
             ],
             [
              0.4444444444444444,
              "#bd3786"
             ],
             [
              0.5555555555555556,
              "#d8576b"
             ],
             [
              0.6666666666666666,
              "#ed7953"
             ],
             [
              0.7777777777777778,
              "#fb9f3a"
             ],
             [
              0.8888888888888888,
              "#fdca26"
             ],
             [
              1,
              "#f0f921"
             ]
            ],
            "type": "surface"
           }
          ],
          "table": [
           {
            "cells": {
             "fill": {
              "color": "#EBF0F8"
             },
             "line": {
              "color": "white"
             }
            },
            "header": {
             "fill": {
              "color": "#C8D4E3"
             },
             "line": {
              "color": "white"
             }
            },
            "type": "table"
           }
          ]
         },
         "layout": {
          "annotationdefaults": {
           "arrowcolor": "#2a3f5f",
           "arrowhead": 0,
           "arrowwidth": 1
          },
          "autotypenumbers": "strict",
          "coloraxis": {
           "colorbar": {
            "outlinewidth": 0,
            "ticks": ""
           }
          },
          "colorscale": {
           "diverging": [
            [
             0,
             "#8e0152"
            ],
            [
             0.1,
             "#c51b7d"
            ],
            [
             0.2,
             "#de77ae"
            ],
            [
             0.3,
             "#f1b6da"
            ],
            [
             0.4,
             "#fde0ef"
            ],
            [
             0.5,
             "#f7f7f7"
            ],
            [
             0.6,
             "#e6f5d0"
            ],
            [
             0.7,
             "#b8e186"
            ],
            [
             0.8,
             "#7fbc41"
            ],
            [
             0.9,
             "#4d9221"
            ],
            [
             1,
             "#276419"
            ]
           ],
           "sequential": [
            [
             0,
             "#0d0887"
            ],
            [
             0.1111111111111111,
             "#46039f"
            ],
            [
             0.2222222222222222,
             "#7201a8"
            ],
            [
             0.3333333333333333,
             "#9c179e"
            ],
            [
             0.4444444444444444,
             "#bd3786"
            ],
            [
             0.5555555555555556,
             "#d8576b"
            ],
            [
             0.6666666666666666,
             "#ed7953"
            ],
            [
             0.7777777777777778,
             "#fb9f3a"
            ],
            [
             0.8888888888888888,
             "#fdca26"
            ],
            [
             1,
             "#f0f921"
            ]
           ],
           "sequentialminus": [
            [
             0,
             "#0d0887"
            ],
            [
             0.1111111111111111,
             "#46039f"
            ],
            [
             0.2222222222222222,
             "#7201a8"
            ],
            [
             0.3333333333333333,
             "#9c179e"
            ],
            [
             0.4444444444444444,
             "#bd3786"
            ],
            [
             0.5555555555555556,
             "#d8576b"
            ],
            [
             0.6666666666666666,
             "#ed7953"
            ],
            [
             0.7777777777777778,
             "#fb9f3a"
            ],
            [
             0.8888888888888888,
             "#fdca26"
            ],
            [
             1,
             "#f0f921"
            ]
           ]
          },
          "colorway": [
           "#636efa",
           "#EF553B",
           "#00cc96",
           "#ab63fa",
           "#FFA15A",
           "#19d3f3",
           "#FF6692",
           "#B6E880",
           "#FF97FF",
           "#FECB52"
          ],
          "font": {
           "color": "#2a3f5f"
          },
          "geo": {
           "bgcolor": "white",
           "lakecolor": "white",
           "landcolor": "#E5ECF6",
           "showlakes": true,
           "showland": true,
           "subunitcolor": "white"
          },
          "hoverlabel": {
           "align": "left"
          },
          "hovermode": "closest",
          "mapbox": {
           "style": "light"
          },
          "paper_bgcolor": "white",
          "plot_bgcolor": "#E5ECF6",
          "polar": {
           "angularaxis": {
            "gridcolor": "white",
            "linecolor": "white",
            "ticks": ""
           },
           "bgcolor": "#E5ECF6",
           "radialaxis": {
            "gridcolor": "white",
            "linecolor": "white",
            "ticks": ""
           }
          },
          "scene": {
           "xaxis": {
            "backgroundcolor": "#E5ECF6",
            "gridcolor": "white",
            "gridwidth": 2,
            "linecolor": "white",
            "showbackground": true,
            "ticks": "",
            "zerolinecolor": "white"
           },
           "yaxis": {
            "backgroundcolor": "#E5ECF6",
            "gridcolor": "white",
            "gridwidth": 2,
            "linecolor": "white",
            "showbackground": true,
            "ticks": "",
            "zerolinecolor": "white"
           },
           "zaxis": {
            "backgroundcolor": "#E5ECF6",
            "gridcolor": "white",
            "gridwidth": 2,
            "linecolor": "white",
            "showbackground": true,
            "ticks": "",
            "zerolinecolor": "white"
           }
          },
          "shapedefaults": {
           "line": {
            "color": "#2a3f5f"
           }
          },
          "ternary": {
           "aaxis": {
            "gridcolor": "white",
            "linecolor": "white",
            "ticks": ""
           },
           "baxis": {
            "gridcolor": "white",
            "linecolor": "white",
            "ticks": ""
           },
           "bgcolor": "#E5ECF6",
           "caxis": {
            "gridcolor": "white",
            "linecolor": "white",
            "ticks": ""
           }
          },
          "title": {
           "x": 0.05
          },
          "xaxis": {
           "automargin": true,
           "gridcolor": "white",
           "linecolor": "white",
           "ticks": "",
           "title": {
            "standoff": 15
           },
           "zerolinecolor": "white",
           "zerolinewidth": 2
          },
          "yaxis": {
           "automargin": true,
           "gridcolor": "white",
           "linecolor": "white",
           "ticks": "",
           "title": {
            "standoff": 15
           },
           "zerolinecolor": "white",
           "zerolinewidth": 2
          }
         }
        },
        "title": {
         "text": "State of the Cluster"
        },
        "width": 800,
        "xaxis": {
         "anchor": "y",
         "domain": [
          0,
          1
         ],
         "matches": "x7",
         "showticklabels": false,
         "title": {
          "text": "time in s"
         }
        },
        "xaxis2": {
         "anchor": "y2",
         "domain": [
          0,
          1
         ],
         "matches": "x7",
         "showticklabels": false,
         "title": {
          "text": "time in s"
         }
        },
        "xaxis3": {
         "anchor": "y3",
         "domain": [
          0,
          1
         ],
         "matches": "x7",
         "showticklabels": false,
         "title": {
          "text": "time in s"
         }
        },
        "xaxis4": {
         "anchor": "y4",
         "domain": [
          0,
          1
         ],
         "matches": "x7",
         "showticklabels": false,
         "title": {
          "text": "time in s"
         }
        },
        "xaxis5": {
         "anchor": "y5",
         "domain": [
          0,
          1
         ],
         "matches": "x7",
         "showticklabels": false,
         "title": {
          "text": "time in s"
         }
        },
        "xaxis6": {
         "anchor": "y6",
         "domain": [
          0,
          1
         ],
         "matches": "x7",
         "showticklabels": false,
         "title": {
          "text": "time in s"
         }
        },
        "xaxis7": {
         "anchor": "y7",
         "domain": [
          0,
          1
         ],
         "title": {
          "text": "time in s"
         }
        },
        "yaxis": {
         "anchor": "x",
         "domain": [
          0.9183673469387754,
          0.9999999999999999
         ],
         "title": {
          "text": "dataflow in MB/s"
         }
        },
        "yaxis2": {
         "anchor": "x2",
         "domain": [
          0.7653061224489794,
          0.8469387755102039
         ],
         "title": {
          "text": "dataflow in MB/s"
         }
        },
        "yaxis3": {
         "anchor": "x3",
         "domain": [
          0.6122448979591837,
          0.6938775510204082
         ],
         "title": {
          "text": "ephemeral usage in Bytes"
         }
        },
        "yaxis4": {
         "anchor": "x4",
         "domain": [
          0.4591836734693877,
          0.5408163265306122
         ],
         "title": {
          "text": "tier1 usage in Bytes"
         }
        },
        "yaxis5": {
         "anchor": "x5",
         "domain": [
          0.30612244897959184,
          0.3877551020408163
         ],
         "title": {
          "text": "tier2 usage in Bytes"
         }
        },
        "yaxis6": {
         "anchor": "x6",
         "domain": [
          0.15306122448979592,
          0.2346938775510204
         ],
         "title": {
          "text": "lfs usage in Bytes"
         }
        },
        "yaxis7": {
         "anchor": "x7",
         "domain": [
          0,
          0.08163265306122448
         ],
         "title": {
          "text": "CPU usage"
         }
        }
       }
      },
      "text/html": [
       "<div>                            <div id=\"d8c1851a-690b-472a-a347-004d54c50c21\" class=\"plotly-graph-div\" style=\"height:900px; width:800px;\"></div>            <script type=\"text/javascript\">                require([\"plotly\"], function(Plotly) {                    window.PLOTLYENV=window.PLOTLYENV || {};                                    if (document.getElementById(\"d8c1851a-690b-472a-a347-004d54c50c21\")) {                    Plotly.newPlot(                        \"d8c1851a-690b-472a-a347-004d54c50c21\",                        [{\"line\":{\"shape\":\"linear\"},\"name\":\"app#PerfTier#3918#read\",\"text\":[\"COMPUTE|volume=0B\",\"COMPUTE|volume=0B\",\"READ|on:tier1|volume=1.73 GB\",\"READ|on:tier1|volume=1.73 GB\",\"COMPUTE|volume=0B\",\"COMPUTE|volume=0B\",\"READ|on:tier1|volume=1.59 GB\",\"READ|on:tier1|volume=1.59 GB\",\"WRITE|on:tier1|volume=1.59 GB\",\"WRITE|on:tier1|volume=1.59 GB\",\"WRITE|on:tier1|volume=450.01 MB\",\"WRITE|on:tier1|volume=450.01 MB\",\"COMPUTE|volume=0B\",\"COMPUTE|volume=0B\",\"READ|on:tier1|volume=3.17 GB\",\"READ|on:tier1|volume=3.17 GB\",\"WRITE|on:tier1|volume=3.17 GB\",\"WRITE|on:tier1|volume=3.17 GB\",\"WRITE|on:tier1|volume=970.03 MB\",\"WRITE|on:tier1|volume=970.03 MB\",\"COMPUTE|volume=0B\",\"COMPUTE|volume=0B\",\"READ|on:tier1|volume=3.02 MB\",\"READ|on:tier1|volume=3.02 MB\",\"WRITE|on:tier1|volume=3.02 MB\",\"WRITE|on:tier1|volume=3.02 MB\",\"WRITE|on:tier1|volume=4.18 GB\",\"WRITE|on:tier1|volume=4.18 GB\",\"WRITE|on:tier1|volume=1.15 GB\",\"WRITE|on:tier1|volume=1.15 GB\",\"COMPUTE|volume=0B\",\"COMPUTE|volume=0B\",\"READ|on:tier1|volume=7.05 MB\",\"READ|on:tier1|volume=7.05 MB\",\"WRITE|on:tier1|volume=7.05 MB\",\"WRITE|on:tier1|volume=7.05 MB\",\"WRITE|on:tier1|volume=4.27 GB\",\"WRITE|on:tier1|volume=4.27 GB\",\"WRITE|on:tier1|volume=1.03 GB\",\"WRITE|on:tier1|volume=1.03 GB\",\"COMPUTE|volume=0B\",\"COMPUTE|volume=0B\",\"READ|on:tier1|volume=2.52 MB\",\"READ|on:tier1|volume=2.52 MB\",\"WRITE|on:tier1|volume=2.52 MB\",\"WRITE|on:tier1|volume=2.52 MB\",\"WRITE|on:tier1|volume=5.33 GB\",\"WRITE|on:tier1|volume=5.33 GB\",\"COMPUTE|volume=0B\",\"COMPUTE|volume=0B\"],\"textposition\":\"top center\",\"x\":[0.0,1.0117230330689355,2.023446066137871,3.0351690992068066,4.046892132275742,5.058615165344678,6.070338198413613,7.082061231482548,8.093784264551484,9.10550729762042,10.117230330689356,11.12895336375829,12.140676396827226,13.152399429896162,14.164122462965096,15.175845496034032,16.18756852910297,17.199291562171904,18.21101459524084,19.222737628309776,20.234460661378712,21.246183694447645,22.25790672751658,23.269629760585516,24.281352793654452,25.29307582672339,26.304798859792324,27.31652189286126,28.328244925930193,29.33996795899913,30.351690992068065,31.363414025137,32.37513705820594,33.38686009127487,34.39858312434381,35.41030615741274,36.42202919048168,37.43375222355061,38.44547525661955,39.457198289688485,40.468921322757424,41.48064435582636,42.49236738889529,43.50409042196423,44.51581345503316,45.5275364881021,46.53925952117103,47.55098255423997,48.562705587308905,49.57442862037784,50.58615165344678,51.59787468651571,52.60959771958465,53.62132075265358,54.63304378572252,55.64476681879145,56.656489851860385,57.668212884929325,58.67993591799826,59.6916589510672,60.70338198413613,61.71510501720507,62.726828050274,63.73855108334294,64.75027411641187,65.7619971494808,66.77372018254974,67.78544321561868,68.79716624868762,69.80888928175655,70.82061231482548,71.83233534789443,72.84405838096336,73.8557814140323,74.86750444710123,75.87922748017016,76.8909505132391,77.90267354630804,78.91439657937697,79.9261196124459,80.93784264551485,81.94956567858378,82.96128871165271,83.97301174472165,84.98473477779058,85.99645781085952],\"y\":[0.0,2710.9446178043813,0.0,0.0,0.0,0.0,0.0,0.0,0.0,1161.6377796723486,0.0,0.0,0.0,0.0,0.0,1357.8435645938305,1357.8435645938305,0.0,0.0,0.0,0.0,0.0,0.0,0.0,0.0,0.0,0.0,0.0,0.0,0.0,0.0,0.0,0.0,0.0,0.0,0.0,0.0,0.0,0.0,0.0,0.0,0.0,0.0,0.0,0.0,0.0,0.0,0.0,0.0,0.0,0.0,0.0,0.0,0.0,0.0,0.0,0.0,0.0,0.0,0.0,0.0,0.0,0.0,0.0,0.0,0.0,0.0,0.0,0.0,0.0,0.0,0.0,0.0,0.0,0.0,0.0,0.0,0.0,0.0,0.0,0.0,0.0,0.0,0.0,0.0,0.0],\"type\":\"scatter\",\"xaxis\":\"x\",\"yaxis\":\"y\"},{\"line\":{\"shape\":\"linear\"},\"name\":\"app#PerfTier#3918#write\",\"text\":[\"COMPUTE|volume=0B\",\"COMPUTE|volume=0B\",\"READ|on:tier1|volume=1.73 GB\",\"READ|on:tier1|volume=1.73 GB\",\"COMPUTE|volume=0B\",\"COMPUTE|volume=0B\",\"READ|on:tier1|volume=1.59 GB\",\"READ|on:tier1|volume=1.59 GB\",\"WRITE|on:tier1|volume=1.59 GB\",\"WRITE|on:tier1|volume=1.59 GB\",\"WRITE|on:tier1|volume=450.01 MB\",\"WRITE|on:tier1|volume=450.01 MB\",\"COMPUTE|volume=0B\",\"COMPUTE|volume=0B\",\"READ|on:tier1|volume=3.17 GB\",\"READ|on:tier1|volume=3.17 GB\",\"WRITE|on:tier1|volume=3.17 GB\",\"WRITE|on:tier1|volume=3.17 GB\",\"WRITE|on:tier1|volume=970.03 MB\",\"WRITE|on:tier1|volume=970.03 MB\",\"COMPUTE|volume=0B\",\"COMPUTE|volume=0B\",\"READ|on:tier1|volume=3.02 MB\",\"READ|on:tier1|volume=3.02 MB\",\"WRITE|on:tier1|volume=3.02 MB\",\"WRITE|on:tier1|volume=3.02 MB\",\"WRITE|on:tier1|volume=4.18 GB\",\"WRITE|on:tier1|volume=4.18 GB\",\"WRITE|on:tier1|volume=1.15 GB\",\"WRITE|on:tier1|volume=1.15 GB\",\"COMPUTE|volume=0B\",\"COMPUTE|volume=0B\",\"READ|on:tier1|volume=7.05 MB\",\"READ|on:tier1|volume=7.05 MB\",\"WRITE|on:tier1|volume=7.05 MB\",\"WRITE|on:tier1|volume=7.05 MB\",\"WRITE|on:tier1|volume=4.27 GB\",\"WRITE|on:tier1|volume=4.27 GB\",\"WRITE|on:tier1|volume=1.03 GB\",\"WRITE|on:tier1|volume=1.03 GB\",\"COMPUTE|volume=0B\",\"COMPUTE|volume=0B\",\"READ|on:tier1|volume=2.52 MB\",\"READ|on:tier1|volume=2.52 MB\",\"WRITE|on:tier1|volume=2.52 MB\",\"WRITE|on:tier1|volume=2.52 MB\",\"WRITE|on:tier1|volume=5.33 GB\",\"WRITE|on:tier1|volume=5.33 GB\",\"COMPUTE|volume=0B\",\"COMPUTE|volume=0B\"],\"textposition\":\"top center\",\"x\":[0.0,1.0117230330689355,2.023446066137871,3.0351690992068066,4.046892132275742,5.058615165344678,6.070338198413613,7.082061231482548,8.093784264551484,9.10550729762042,10.117230330689356,11.12895336375829,12.140676396827226,13.152399429896162,14.164122462965096,15.175845496034032,16.18756852910297,17.199291562171904,18.21101459524084,19.222737628309776,20.234460661378712,21.246183694447645,22.25790672751658,23.269629760585516,24.281352793654452,25.29307582672339,26.304798859792324,27.31652189286126,28.328244925930193,29.33996795899913,30.351690992068065,31.363414025137,32.37513705820594,33.38686009127487,34.39858312434381,35.41030615741274,36.42202919048168,37.43375222355061,38.44547525661955,39.457198289688485,40.468921322757424,41.48064435582636,42.49236738889529,43.50409042196423,44.51581345503316,45.5275364881021,46.53925952117103,47.55098255423997,48.562705587308905,49.57442862037784,50.58615165344678,51.59787468651571,52.60959771958465,53.62132075265358,54.63304378572252,55.64476681879145,56.656489851860385,57.668212884929325,58.67993591799826,59.6916589510672,60.70338198413613,61.71510501720507,62.726828050274,63.73855108334294,64.75027411641187,65.7619971494808,66.77372018254974,67.78544321561868,68.79716624868762,69.80888928175655,70.82061231482548,71.83233534789443,72.84405838096336,73.8557814140323,74.86750444710123,75.87922748017016,76.8909505132391,77.90267354630804,78.91439657937697,79.9261196124459,80.93784264551485,81.94956567858378,82.96128871165271,83.97301174472165,84.98473477779058,85.99645781085952],\"y\":[0.0,0.0,0.0,0.0,0.0,0.0,0.0,0.0,0.0,1161.6377796723486,1161.6377796723486,0.0,0.0,0.0,0.0,1357.8435645938305,1357.8435645938305,1357.8435645938305,0.0,0.0,0.0,0.0,0.0,0.0,0.0,0.0,0.0,0.0,0.0,0.0,0.0,0.0,0.0,0.0,0.0,0.0,0.0,0.0,0.0,0.0,0.0,0.0,0.0,0.0,0.0,0.0,0.0,0.0,0.0,650.8438449520007,650.8438449520007,650.8438449520007,650.8438449520007,650.8438449520007,650.8438449520007,650.8438449520007,650.8438449520007,0.0,0.0,0.0,0.0,0.0,0.0,649.9844362341689,649.9844362341689,649.9844362341689,649.9844362341689,649.9844362341689,649.9844362341689,649.9844362341689,649.9844362341689,0.0,0.0,0.0,0.0,650.90523165387,650.90523165387,650.90523165387,650.90523165387,650.90523165387,650.90523165387,650.90523165387,650.90523165387,650.90523165387,0.0,0.0],\"type\":\"scatter\",\"xaxis\":\"x\",\"yaxis\":\"y\"},{\"line\":{\"dash\":\"dot\",\"shape\":\"linear\"},\"name\":\"PerfTier#3918 mvt\",\"text\":[],\"textposition\":\"top center\",\"x\":[],\"y\":[],\"type\":\"scatter\",\"xaxis\":\"x\",\"yaxis\":\"y\"},{\"line\":{\"shape\":\"linear\"},\"name\":\"app#StaticTier#3918#read\",\"text\":[\"COMPUTE|volume=0B\",\"COMPUTE|volume=0B\",\"READ|on:tier2|volume=319.23 MB\",\"READ|on:tier2|volume=319.23 MB\",\"READ|on:tier2|volume=1.41 GB\",\"READ|on:tier2|volume=1.41 GB\",\"COMPUTE|volume=0B\",\"COMPUTE|volume=0B\",\"WRITE|on:tier2|volume=293.19 MB\",\"WRITE|on:tier2|volume=293.19 MB\",\"READ|on:tier2|volume=732.98 MB\",\"READ|on:tier2|volume=732.98 MB\",\"WRITE|on:tier2|volume=233.38 MB\",\"WRITE|on:tier2|volume=233.38 MB\",\"READ|on:tier2|volume=583.46 MB\",\"READ|on:tier2|volume=583.46 MB\",\"READ|on:tier2|volume=178.6 MB\",\"READ|on:tier2|volume=178.6 MB\",\"WRITE|on:tier2|volume=71.44 MB\",\"WRITE|on:tier2|volume=71.44 MB\",\"READ|on:tier2|volume=93.74 MB\",\"READ|on:tier2|volume=93.74 MB\",\"WRITE|on:tier2|volume=37.49 MB\",\"WRITE|on:tier2|volume=37.49 MB\",\"WRITE|on:tier2|volume=1.4 GB\",\"WRITE|on:tier2|volume=1.4 GB\",\"COMPUTE|volume=0B\",\"COMPUTE|volume=0B\",\"WRITE|on:tier2|volume=301.64 MB\",\"WRITE|on:tier2|volume=301.64 MB\",\"READ|on:tier2|volume=754.09 MB\",\"READ|on:tier2|volume=754.09 MB\",\"WRITE|on:tier2|volume=355.27 EB\",\"WRITE|on:tier2|volume=355.27 EB\",\"READ|on:tier2|volume=888.18 EB\",\"READ|on:tier2|volume=888.18 EB\",\"READ|on:tier2|volume=2.41 GB\",\"READ|on:tier2|volume=2.41 GB\",\"WRITE|on:tier2|volume=965.96 MB\",\"WRITE|on:tier2|volume=965.96 MB\",\"WRITE|on:tier2|volume=1.59 GB\",\"WRITE|on:tier2|volume=1.59 GB\",\"WRITE|on:tier2|volume=929.03 KB\",\"WRITE|on:tier2|volume=929.03 KB\",\"WRITE|on:tier2|volume=1.28 GB\",\"WRITE|on:tier2|volume=1.28 GB\",\"WRITE|on:tier2|volume=476.84 EB\",\"WRITE|on:tier2|volume=476.84 EB\",\"COMPUTE|volume=0B\",\"COMPUTE|volume=0B\",\"READ|on:tier2|volume=3.02 MB\",\"READ|on:tier2|volume=3.02 MB\",\"WRITE|on:tier2|volume=1.21 MB\",\"WRITE|on:tier2|volume=1.21 MB\",\"WRITE|on:tier2|volume=5.33 GB\",\"WRITE|on:tier2|volume=5.33 GB\",\"COMPUTE|volume=0B\",\"COMPUTE|volume=0B\",\"READ|on:tier2|volume=7.05 MB\",\"READ|on:tier2|volume=7.05 MB\",\"WRITE|on:tier2|volume=2.82 MB\",\"WRITE|on:tier2|volume=2.82 MB\",\"WRITE|on:tier2|volume=5.3 GB\",\"WRITE|on:tier2|volume=5.3 GB\",\"COMPUTE|volume=0B\",\"COMPUTE|volume=0B\",\"READ|on:tier2|volume=2.52 MB\",\"READ|on:tier2|volume=2.52 MB\",\"WRITE|on:tier2|volume=1.01 MB\",\"WRITE|on:tier2|volume=1.01 MB\",\"WRITE|on:tier2|volume=5.33 GB\",\"WRITE|on:tier2|volume=5.33 GB\",\"COMPUTE|volume=0B\",\"COMPUTE|volume=0B\"],\"textposition\":\"top center\",\"x\":[0.0,1.0042743208938547,2.0085486417877094,3.012822962681564,4.017097283575419,5.021371604469273,6.025645925363128,7.029920246256983,8.034194567150838,9.038468888044692,10.042743208938546,11.047017529832402,12.051291850726257,13.05556617162011,14.059840492513967,15.064114813407821,16.068389134301675,17.07266345519553,18.076937776089384,19.08121209698324,20.085486417877092,21.08976073877095,22.094035059664805,23.098309380558657,24.102583701452513,25.10685802234637,26.11113234324022,27.115406664134078,28.119680985027934,29.123955305921786,30.128229626815642,31.132503947709495,32.13677826860335,33.14105258949721,34.14532691039106,35.14960123128491,36.15387555217877,37.158149873072624,38.16242419396648,39.166698514860336,40.170972835754185,41.17524715664804,42.1795214775419,43.18379579843575,44.18807011932961,45.192344440223465,46.196618761117314,47.20089308201117,48.205167402905026,49.20944172379888,50.21371604469274,51.21799036558659,52.22226468648044,53.2265390073743,54.230813328268155,55.23508764916201,56.23936197005587,57.243636290949716,58.24791061184357,59.25218493273743,60.256459253631284,61.26073357452514,62.26500789541899,63.269282216312845,64.2735565372067,65.27783085810056,66.28210517899441,67.28637949988827,68.29065382078213,69.29492814167598,70.29920246256982,71.30347678346368,72.30775110435754,73.31202542525139,74.31629974614525,75.3205740670391,76.32484838793296,77.32912270882682,78.33339702972067,79.33767135061453,80.34194567150837,81.34621999240223,82.35049431329608,83.35476863418994,84.3590429550838,85.36331727597765,86.3675915968715,87.37186591776536,88.37614023865922,89.38041455955307,90.38468888044693,91.38896320134077,92.39323752223463,93.39751184312848,94.40178616402234,95.4060604849162,96.41033480581005,97.41460912670391,98.41888344759776,99.42315776849162,100.42743208938548,101.43170641027933,102.43598073117317,103.44025505206703,104.44452937296089,105.44880369385474,106.4530780147486,107.45735233564245,108.46162665653631,109.46590097743017,110.47017529832402,111.47444961921788,112.47872394011173,113.48299826100558,114.48727258189943,115.49154690279329,116.49582122368714,117.500095544581,118.50436986547486,119.50864418636871,120.51291850726257,121.51719282815642,122.52146714905028,123.52574146994412,124.53001579083798,125.53429011173183,126.53856443262569,127.54283875351955,128.5471130744134,129.55138739530724,130.55566171620112,131.55993603709496,132.56421035798883,133.56848467888267,134.57275899977654,135.57703332067038,136.58130764156425,137.5855819624581,138.58985628335196,139.5941306042458,140.59840492513965,141.60267924603352,142.60695356692736,143.61122788782123,144.61550220871507,145.61977652960894,146.62405085050278,147.62832517139665,148.6325994922905,149.63687381318437,150.6411481340782,151.64542245497205,152.64969677586592,153.65397109675976,154.65824541765363,155.66251973854747,156.66679405944134,157.67106838033519,158.67534270122906,159.6796170221229,160.68389134301674,161.6881656639106,162.69243998480445,163.69671430569832,164.70098862659216,165.70526294748603,166.70953726837988,167.71381158927375,168.7180859101676,169.72236023106146,170.7266345519553,171.73090887284914,172.735183193743,173.73945751463685,174.74373183553072,175.74800615642457,176.75228047731844,177.75655479821228,178.76082911910615,179.76510344],\"y\":[0.0,500.0,500.0,500.0,500.0,0.0,0.0,0.0,0.0,0.0,0.0,0.0,250.0,250.0,250.0,250.0,250.0,250.0,0.0,0.0,0.0,0.0,0.0,0.0,0.0,0.0,0.0,0.0,0.0,250.0,250.0,250.0,250.0,250.0,250.0,250.0,250.0,250.0,250.0,250.0,250.0,250.0,0.0,0.0,0.0,0.0,0.0,0.0,0.0,0.0,0.0,0.0,0.0,0.0,0.0,0.0,0.0,0.0,0.0,0.0,0.0,0.0,0.0,0.0,0.0,0.0,0.0,0.0,0.0,0.0,0.0,0.0,0.0,0.0,0.0,0.0,0.0,0.0,0.0,0.0,0.0,0.0,0.0,0.0,0.0,0.0,0.0,0.0,0.0,0.0,0.0,0.0,0.0,0.0,0.0,0.0,0.0,0.0,0.0,0.0,0.0,0.0,0.0,0.0,0.0,0.0,0.0,0.0,0.0,0.0,0.0,0.0,0.0,0.0,0.0,0.0,0.0,0.0,0.0,0.0,0.0,0.0,0.0,0.0,0.0,0.0,0.0,0.0,0.0,0.0,0.0,0.0,0.0,0.0,0.0,0.0,0.0,0.0,0.0,0.0,0.0,0.0,0.0,0.0,0.0,0.0,0.0,0.0,0.0,0.0,0.0,0.0,0.0,0.0,0.0,0.0,0.0,0.0,0.0,0.0,0.0,0.0,0.0,0.0,0.0,0.0,0.0,0.0,0.0,0.0,0.0,0.0,0.0,0.0,0.0,0.0,0.0,0.0,0.0,0.0],\"type\":\"scatter\",\"xaxis\":\"x2\",\"yaxis\":\"y2\"},{\"line\":{\"shape\":\"linear\"},\"name\":\"app#StaticTier#3918#write\",\"text\":[\"COMPUTE|volume=0B\",\"COMPUTE|volume=0B\",\"READ|on:tier2|volume=319.23 MB\",\"READ|on:tier2|volume=319.23 MB\",\"READ|on:tier2|volume=1.41 GB\",\"READ|on:tier2|volume=1.41 GB\",\"COMPUTE|volume=0B\",\"COMPUTE|volume=0B\",\"WRITE|on:tier2|volume=293.19 MB\",\"WRITE|on:tier2|volume=293.19 MB\",\"READ|on:tier2|volume=732.98 MB\",\"READ|on:tier2|volume=732.98 MB\",\"WRITE|on:tier2|volume=233.38 MB\",\"WRITE|on:tier2|volume=233.38 MB\",\"READ|on:tier2|volume=583.46 MB\",\"READ|on:tier2|volume=583.46 MB\",\"READ|on:tier2|volume=178.6 MB\",\"READ|on:tier2|volume=178.6 MB\",\"WRITE|on:tier2|volume=71.44 MB\",\"WRITE|on:tier2|volume=71.44 MB\",\"READ|on:tier2|volume=93.74 MB\",\"READ|on:tier2|volume=93.74 MB\",\"WRITE|on:tier2|volume=37.49 MB\",\"WRITE|on:tier2|volume=37.49 MB\",\"WRITE|on:tier2|volume=1.4 GB\",\"WRITE|on:tier2|volume=1.4 GB\",\"COMPUTE|volume=0B\",\"COMPUTE|volume=0B\",\"WRITE|on:tier2|volume=301.64 MB\",\"WRITE|on:tier2|volume=301.64 MB\",\"READ|on:tier2|volume=754.09 MB\",\"READ|on:tier2|volume=754.09 MB\",\"WRITE|on:tier2|volume=355.27 EB\",\"WRITE|on:tier2|volume=355.27 EB\",\"READ|on:tier2|volume=888.18 EB\",\"READ|on:tier2|volume=888.18 EB\",\"READ|on:tier2|volume=2.41 GB\",\"READ|on:tier2|volume=2.41 GB\",\"WRITE|on:tier2|volume=965.96 MB\",\"WRITE|on:tier2|volume=965.96 MB\",\"WRITE|on:tier2|volume=1.59 GB\",\"WRITE|on:tier2|volume=1.59 GB\",\"WRITE|on:tier2|volume=929.03 KB\",\"WRITE|on:tier2|volume=929.03 KB\",\"WRITE|on:tier2|volume=1.28 GB\",\"WRITE|on:tier2|volume=1.28 GB\",\"WRITE|on:tier2|volume=476.84 EB\",\"WRITE|on:tier2|volume=476.84 EB\",\"COMPUTE|volume=0B\",\"COMPUTE|volume=0B\",\"READ|on:tier2|volume=3.02 MB\",\"READ|on:tier2|volume=3.02 MB\",\"WRITE|on:tier2|volume=1.21 MB\",\"WRITE|on:tier2|volume=1.21 MB\",\"WRITE|on:tier2|volume=5.33 GB\",\"WRITE|on:tier2|volume=5.33 GB\",\"COMPUTE|volume=0B\",\"COMPUTE|volume=0B\",\"READ|on:tier2|volume=7.05 MB\",\"READ|on:tier2|volume=7.05 MB\",\"WRITE|on:tier2|volume=2.82 MB\",\"WRITE|on:tier2|volume=2.82 MB\",\"WRITE|on:tier2|volume=5.3 GB\",\"WRITE|on:tier2|volume=5.3 GB\",\"COMPUTE|volume=0B\",\"COMPUTE|volume=0B\",\"READ|on:tier2|volume=2.52 MB\",\"READ|on:tier2|volume=2.52 MB\",\"WRITE|on:tier2|volume=1.01 MB\",\"WRITE|on:tier2|volume=1.01 MB\",\"WRITE|on:tier2|volume=5.33 GB\",\"WRITE|on:tier2|volume=5.33 GB\",\"COMPUTE|volume=0B\",\"COMPUTE|volume=0B\"],\"textposition\":\"top center\",\"x\":[0.0,1.0042743208938547,2.0085486417877094,3.012822962681564,4.017097283575419,5.021371604469273,6.025645925363128,7.029920246256983,8.034194567150838,9.038468888044692,10.042743208938546,11.047017529832402,12.051291850726257,13.05556617162011,14.059840492513967,15.064114813407821,16.068389134301675,17.07266345519553,18.076937776089384,19.08121209698324,20.085486417877092,21.08976073877095,22.094035059664805,23.098309380558657,24.102583701452513,25.10685802234637,26.11113234324022,27.115406664134078,28.119680985027934,29.123955305921786,30.128229626815642,31.132503947709495,32.13677826860335,33.14105258949721,34.14532691039106,35.14960123128491,36.15387555217877,37.158149873072624,38.16242419396648,39.166698514860336,40.170972835754185,41.17524715664804,42.1795214775419,43.18379579843575,44.18807011932961,45.192344440223465,46.196618761117314,47.20089308201117,48.205167402905026,49.20944172379888,50.21371604469274,51.21799036558659,52.22226468648044,53.2265390073743,54.230813328268155,55.23508764916201,56.23936197005587,57.243636290949716,58.24791061184357,59.25218493273743,60.256459253631284,61.26073357452514,62.26500789541899,63.269282216312845,64.2735565372067,65.27783085810056,66.28210517899441,67.28637949988827,68.29065382078213,69.29492814167598,70.29920246256982,71.30347678346368,72.30775110435754,73.31202542525139,74.31629974614525,75.3205740670391,76.32484838793296,77.32912270882682,78.33339702972067,79.33767135061453,80.34194567150837,81.34621999240223,82.35049431329608,83.35476863418994,84.3590429550838,85.36331727597765,86.3675915968715,87.37186591776536,88.37614023865922,89.38041455955307,90.38468888044693,91.38896320134077,92.39323752223463,93.39751184312848,94.40178616402234,95.4060604849162,96.41033480581005,97.41460912670391,98.41888344759776,99.42315776849162,100.42743208938548,101.43170641027933,102.43598073117317,103.44025505206703,104.44452937296089,105.44880369385474,106.4530780147486,107.45735233564245,108.46162665653631,109.46590097743017,110.47017529832402,111.47444961921788,112.47872394011173,113.48299826100558,114.48727258189943,115.49154690279329,116.49582122368714,117.500095544581,118.50436986547486,119.50864418636871,120.51291850726257,121.51719282815642,122.52146714905028,123.52574146994412,124.53001579083798,125.53429011173183,126.53856443262569,127.54283875351955,128.5471130744134,129.55138739530724,130.55566171620112,131.55993603709496,132.56421035798883,133.56848467888267,134.57275899977654,135.57703332067038,136.58130764156425,137.5855819624581,138.58985628335196,139.5941306042458,140.59840492513965,141.60267924603352,142.60695356692736,143.61122788782123,144.61550220871507,145.61977652960894,146.62405085050278,147.62832517139665,148.6325994922905,149.63687381318437,150.6411481340782,151.64542245497205,152.64969677586592,153.65397109675976,154.65824541765363,155.66251973854747,156.66679405944134,157.67106838033519,158.67534270122906,159.6796170221229,160.68389134301674,161.6881656639106,162.69243998480445,163.69671430569832,164.70098862659216,165.70526294748603,166.70953726837988,167.71381158927375,168.7180859101676,169.72236023106146,170.7266345519553,171.73090887284914,172.735183193743,173.73945751463685,174.74373183553072,175.74800615642457,176.75228047731844,177.75655479821228,178.76082911910615,179.76510344],\"y\":[0.0,0.0,0.0,0.0,0.0,0.0,0.0,0.0,0.0,0.0,0.0,0.0,100.0,100.0,100.0,100.0,100.0,100.0,200.0,200.0,200.0,200.0,200.0,200.0,200.0,0.0,0.0,0.0,0.0,100.0,100.0,100.0,100.0,100.0,100.0,100.0,100.0,100.0,100.0,100.0,100.0,100.0,200.0,200.0,200.0,200.0,200.0,200.0,200.0,200.0,200.0,200.0,200.0,200.0,200.0,200.0,0.0,0.0,0.0,0.0,0.0,0.0,0.0,0.0,0.0,0.0,0.0,0.0,0.0,0.0,0.0,0.0,0.0,0.0,0.0,0.0,0.0,0.0,0.0,0.0,0.0,0.0,0.0,0.0,0.0,0.0,0.0,0.0,200.0,200.0,200.0,200.0,200.0,200.0,200.0,200.0,200.0,200.0,200.0,200.0,200.0,200.0,200.0,200.0,200.0,200.0,200.0,200.0,200.0,200.0,200.0,200.0,200.0,200.0,200.0,0.0,0.0,0.0,0.0,0.0,0.0,200.0,200.0,200.0,200.0,200.0,200.0,200.0,200.0,200.0,200.0,200.0,200.0,200.0,200.0,200.0,200.0,200.0,200.0,200.0,200.0,200.0,200.0,200.0,200.0,200.0,200.0,0.0,0.0,0.0,0.0,200.0,200.0,200.0,200.0,200.0,200.0,200.0,200.0,200.0,200.0,200.0,200.0,200.0,200.0,200.0,200.0,200.0,200.0,200.0,200.0,200.0,200.0,200.0,200.0,200.0,200.0,200.0,0.0,0.0],\"type\":\"scatter\",\"xaxis\":\"x2\",\"yaxis\":\"y2\"},{\"line\":{\"dash\":\"dot\",\"shape\":\"linear\"},\"name\":\"StaticTier#3918 mvt\",\"text\":[],\"textposition\":\"top center\",\"x\":[],\"y\":[],\"type\":\"scatter\",\"xaxis\":\"x2\",\"yaxis\":\"y2\"},{\"line\":{\"shape\":\"linear\"},\"name\":\"ephemeral\",\"showlegend\":false,\"text\":[\"StaticTier#3918|Compute | +volume=0B\",\"PerfTier#3918|Compute | +volume=0B\",\"PerfTier#3918|Read|tier1 | +volume=1.73 GB\",\"StaticTier#3918|Read|tier2 | +volume=319.23 MB\",\"StaticTier#3918|Read|tier2 | +volume=1.41 GB\",\"PerfTier#3918|Compute | +volume=0B\",\"PerfTier#3918|Read|tier1 | +volume=1.59 GB\",\"PerfTier#3918|Write|tier1 | +volume=1.59 GB\",\"PerfTier#3918|Write|tier1 | +volume=450.01 MB\",\"StaticTier#3918|Compute | +volume=0B\",\"PerfTier#3918|Compute | +volume=0B\",\"StaticTier#3918|Write|tier2 | +volume=293.19 MB\",\"StaticTier#3918|Read|tier2 | +volume=732.98 MB\",\"PerfTier#3918|Read|tier1 | +volume=3.17 GB\",\"StaticTier#3918|Write|tier2 | +volume=233.38 MB\",\"PerfTier#3918|Write|tier1 | +volume=3.17 GB\",\"StaticTier#3918|Read|tier2 | +volume=583.46 MB\",\"PerfTier#3918|Write|tier1 | +volume=970.03 MB\",\"StaticTier#3918|Read|tier2 | +volume=178.6 MB\",\"StaticTier#3918|Write|tier2 | +volume=71.44 MB\",\"StaticTier#3918|Read|tier2 | +volume=93.74 MB\",\"StaticTier#3918|Write|tier2 | +volume=37.49 MB\",\"StaticTier#3918|Write|tier2 | +volume=1.4 GB\",\"StaticTier#3918|Compute | +volume=0B\",\"StaticTier#3918|Write|tier2 | +volume=301.64 MB\",\"StaticTier#3918|Read|tier2 | +volume=754.09 MB\",\"StaticTier#3918|Write|tier2 | +volume=355.27 EB\",\"StaticTier#3918|Read|tier2 | +volume=888.18 EB\",\"StaticTier#3918|Read|tier2 | +volume=2.41 GB\",\"StaticTier#3918|Write|tier2 | +volume=965.96 MB\",\"PerfTier#3918|Compute | +volume=0B\",\"StaticTier#3918|Write|tier2 | +volume=1.59 GB\",\"PerfTier#3918|Read|tier1 | +volume=3.02 MB\",\"PerfTier#3918|Write|tier1 | +volume=3.02 MB\",\"StaticTier#3918|Write|tier2 | +volume=929.03 KB\",\"StaticTier#3918|Write|tier2 | +volume=1.28 GB\",\"PerfTier#3918|Write|tier1 | +volume=4.18 GB\",\"StaticTier#3918|Write|tier2 | +volume=476.84 EB\",\"PerfTier#3918|Write|tier1 | +volume=1.15 GB\",\"PerfTier#3918|Compute | +volume=0B\",\"PerfTier#3918|Read|tier1 | +volume=7.05 MB\",\"PerfTier#3918|Write|tier1 | +volume=7.05 MB\",\"PerfTier#3918|Write|tier1 | +volume=4.27 GB\",\"PerfTier#3918|Write|tier1 | +volume=1.03 GB\",\"PerfTier#3918|Compute | +volume=0B\",\"PerfTier#3918|Read|tier1 | +volume=2.52 MB\",\"PerfTier#3918|Write|tier1 | +volume=2.52 MB\",\"PerfTier#3918|Write|tier1 | +volume=5.33 GB\",\"PerfTier#3918|Compute | +volume=0B\",\"StaticTier#3918|Compute | +volume=0B\",\"StaticTier#3918|Read|tier2 | +volume=3.02 MB\",\"StaticTier#3918|Write|tier2 | +volume=1.21 MB\",\"StaticTier#3918|Write|tier2 | +volume=5.33 GB\",\"StaticTier#3918|Compute | +volume=0B\",\"StaticTier#3918|Read|tier2 | +volume=7.05 MB\",\"StaticTier#3918|Write|tier2 | +volume=2.82 MB\",\"StaticTier#3918|Write|tier2 | +volume=5.3 GB\",\"StaticTier#3918|Compute | +volume=0B\",\"StaticTier#3918|Read|tier2 | +volume=2.52 MB\",\"StaticTier#3918|Write|tier2 | +volume=1.01 MB\",\"StaticTier#3918|Write|tier2 | +volume=5.33 GB\",\"StaticTier#3918|Compute | +volume=0B\"],\"textposition\":\"top center\",\"x\":[1.0,1.6384520438494967,4.461616264,8.638452043849497,10.00615474240337,10.39354785140412,11.461616264,14.39354785140412,16.727383912959514,17.441776178971512,17.816716768,24.833094500999998,28.833094500999998,31.849472234,31.849472234000004,41.509031609,49.44177617897151,49.44642134850557,55.866149144999994,57.63851782503169,63.63851782503169,63.64937088490012,70.223266681,71.80048919735655,75.80048919735655,75.80435980689766,83.99645781085952,87.866149145,87.878242265,114.54618995,120.54618995,120.57440723,147.086070395,151.086070395,151.096147995,177.76510344],\"y\":[0.0,0.0,0.0,0.0,0.0,0.0,0.0,0.0,0.0,0.0,0.0,0.0,0.0,0.0,0.0,0.0,0.0,0.0,0.0,0.0,0.0,0.0,0.0,0.0,0.0,0.0,0.0,0.0,0.0,0.0,0.0,0.0,0.0,0.0,0.0,0.0],\"type\":\"scatter\",\"xaxis\":\"x3\",\"yaxis\":\"y3\"},{\"line\":{\"shape\":\"linear\"},\"name\":\"tier1\",\"showlegend\":false,\"text\":[\"StaticTier#3918|Compute | +volume=0B\",\"PerfTier#3918|Compute | +volume=0B\",\"PerfTier#3918|Read|tier1 | +volume=1.73 GB\",\"StaticTier#3918|Read|tier2 | +volume=319.23 MB\",\"StaticTier#3918|Read|tier2 | +volume=1.41 GB\",\"PerfTier#3918|Compute | +volume=0B\",\"PerfTier#3918|Read|tier1 | +volume=1.59 GB\",\"PerfTier#3918|Write|tier1 | +volume=1.59 GB\",\"PerfTier#3918|Write|tier1 | +volume=450.01 MB\",\"StaticTier#3918|Compute | +volume=0B\",\"PerfTier#3918|Compute | +volume=0B\",\"StaticTier#3918|Write|tier2 | +volume=293.19 MB\",\"StaticTier#3918|Read|tier2 | +volume=732.98 MB\",\"PerfTier#3918|Read|tier1 | +volume=3.17 GB\",\"StaticTier#3918|Write|tier2 | +volume=233.38 MB\",\"PerfTier#3918|Write|tier1 | +volume=3.17 GB\",\"StaticTier#3918|Read|tier2 | +volume=583.46 MB\",\"PerfTier#3918|Write|tier1 | +volume=970.03 MB\",\"StaticTier#3918|Read|tier2 | +volume=178.6 MB\",\"StaticTier#3918|Write|tier2 | +volume=71.44 MB\",\"StaticTier#3918|Read|tier2 | +volume=93.74 MB\",\"StaticTier#3918|Write|tier2 | +volume=37.49 MB\",\"StaticTier#3918|Write|tier2 | +volume=1.4 GB\",\"StaticTier#3918|Compute | +volume=0B\",\"StaticTier#3918|Write|tier2 | +volume=301.64 MB\",\"StaticTier#3918|Read|tier2 | +volume=754.09 MB\",\"StaticTier#3918|Write|tier2 | +volume=355.27 EB\",\"StaticTier#3918|Read|tier2 | +volume=888.18 EB\",\"StaticTier#3918|Read|tier2 | +volume=2.41 GB\",\"StaticTier#3918|Write|tier2 | +volume=965.96 MB\",\"PerfTier#3918|Compute | +volume=0B\",\"StaticTier#3918|Write|tier2 | +volume=1.59 GB\",\"PerfTier#3918|Read|tier1 | +volume=3.02 MB\",\"PerfTier#3918|Write|tier1 | +volume=3.02 MB\",\"StaticTier#3918|Write|tier2 | +volume=929.03 KB\",\"StaticTier#3918|Write|tier2 | +volume=1.28 GB\",\"PerfTier#3918|Write|tier1 | +volume=4.18 GB\",\"StaticTier#3918|Write|tier2 | +volume=476.84 EB\",\"PerfTier#3918|Write|tier1 | +volume=1.15 GB\",\"PerfTier#3918|Compute | +volume=0B\",\"PerfTier#3918|Read|tier1 | +volume=7.05 MB\",\"PerfTier#3918|Write|tier1 | +volume=7.05 MB\",\"PerfTier#3918|Write|tier1 | +volume=4.27 GB\",\"PerfTier#3918|Write|tier1 | +volume=1.03 GB\",\"PerfTier#3918|Compute | +volume=0B\",\"PerfTier#3918|Read|tier1 | +volume=2.52 MB\",\"PerfTier#3918|Write|tier1 | +volume=2.52 MB\",\"PerfTier#3918|Write|tier1 | +volume=5.33 GB\",\"PerfTier#3918|Compute | +volume=0B\",\"StaticTier#3918|Compute | +volume=0B\",\"StaticTier#3918|Read|tier2 | +volume=3.02 MB\",\"StaticTier#3918|Write|tier2 | +volume=1.21 MB\",\"StaticTier#3918|Write|tier2 | +volume=5.33 GB\",\"StaticTier#3918|Compute | +volume=0B\",\"StaticTier#3918|Read|tier2 | +volume=7.05 MB\",\"StaticTier#3918|Write|tier2 | +volume=2.82 MB\",\"StaticTier#3918|Write|tier2 | +volume=5.3 GB\",\"StaticTier#3918|Compute | +volume=0B\",\"StaticTier#3918|Read|tier2 | +volume=2.52 MB\",\"StaticTier#3918|Write|tier2 | +volume=1.01 MB\",\"StaticTier#3918|Write|tier2 | +volume=5.33 GB\",\"StaticTier#3918|Compute | +volume=0B\"],\"textposition\":\"top center\",\"x\":[0.0,1.0,1.6384520438494967,4.461616264,8.638452043849497,10.00615474240337,10.39354785140412,11.461616264,14.39354785140412,16.727383912959514,17.441776178971512,17.816716768,24.833094500999998,28.833094500999998,31.849472234,31.849472234000004,41.509031609,49.44177617897151,49.44642134850557,55.866149144999994,57.63851782503169,63.63851782503169,63.64937088490012,70.223266681,71.80048919735655,75.80048919735655,75.80435980689766,83.99645781085952,85.99645781085952,87.866149145,87.878242265,114.54618995,120.54618995,120.57440723,147.086070395,151.086070395,151.096147995,177.76510344,179.76510344],\"y\":[0.0,0.0,1730808132.0,1730808132.0,1730808132.0,3319583257.9999995,3769593729.0,3769593729.0,3769593729.0,6938578006.000001,7908610947.000001,7908610947.000001,7908610947.000001,7908610947.000001,7908610947.000001,7908610947.000001,7908610947.000001,7908610947.000001,7911634227.0,12089874549.61567,13243409796.0,13243409796.0,13250464115.999998,17523394068.89015,18548564157.0,18548564157.0,18551083556.999996,23883363006.0,23883363006.0,23883363006.0,23883363006.0,23883363006.0,23883363006.0,23883363006.0,23883363006.0,23883363006.0,23883363006.0,23883363006.0,23883363006.0],\"type\":\"scatter\",\"xaxis\":\"x4\",\"yaxis\":\"y4\"},{\"line\":{\"shape\":\"linear\"},\"name\":\"tier2\",\"showlegend\":false,\"text\":[\"StaticTier#3918|Compute | +volume=0B\",\"PerfTier#3918|Compute | +volume=0B\",\"PerfTier#3918|Read|tier1 | +volume=1.73 GB\",\"StaticTier#3918|Read|tier2 | +volume=319.23 MB\",\"StaticTier#3918|Read|tier2 | +volume=1.41 GB\",\"PerfTier#3918|Compute | +volume=0B\",\"PerfTier#3918|Read|tier1 | +volume=1.59 GB\",\"PerfTier#3918|Write|tier1 | +volume=1.59 GB\",\"PerfTier#3918|Write|tier1 | +volume=450.01 MB\",\"StaticTier#3918|Compute | +volume=0B\",\"PerfTier#3918|Compute | +volume=0B\",\"StaticTier#3918|Write|tier2 | +volume=293.19 MB\",\"StaticTier#3918|Read|tier2 | +volume=732.98 MB\",\"PerfTier#3918|Read|tier1 | +volume=3.17 GB\",\"StaticTier#3918|Write|tier2 | +volume=233.38 MB\",\"PerfTier#3918|Write|tier1 | +volume=3.17 GB\",\"StaticTier#3918|Read|tier2 | +volume=583.46 MB\",\"PerfTier#3918|Write|tier1 | +volume=970.03 MB\",\"StaticTier#3918|Read|tier2 | +volume=178.6 MB\",\"StaticTier#3918|Write|tier2 | +volume=71.44 MB\",\"StaticTier#3918|Read|tier2 | +volume=93.74 MB\",\"StaticTier#3918|Write|tier2 | +volume=37.49 MB\",\"StaticTier#3918|Write|tier2 | +volume=1.4 GB\",\"StaticTier#3918|Compute | +volume=0B\",\"StaticTier#3918|Write|tier2 | +volume=301.64 MB\",\"StaticTier#3918|Read|tier2 | +volume=754.09 MB\",\"StaticTier#3918|Write|tier2 | +volume=355.27 EB\",\"StaticTier#3918|Read|tier2 | +volume=888.18 EB\",\"StaticTier#3918|Read|tier2 | +volume=2.41 GB\",\"StaticTier#3918|Write|tier2 | +volume=965.96 MB\",\"PerfTier#3918|Compute | +volume=0B\",\"StaticTier#3918|Write|tier2 | +volume=1.59 GB\",\"PerfTier#3918|Read|tier1 | +volume=3.02 MB\",\"PerfTier#3918|Write|tier1 | +volume=3.02 MB\",\"StaticTier#3918|Write|tier2 | +volume=929.03 KB\",\"StaticTier#3918|Write|tier2 | +volume=1.28 GB\",\"PerfTier#3918|Write|tier1 | +volume=4.18 GB\",\"StaticTier#3918|Write|tier2 | +volume=476.84 EB\",\"PerfTier#3918|Write|tier1 | +volume=1.15 GB\",\"PerfTier#3918|Compute | +volume=0B\",\"PerfTier#3918|Read|tier1 | +volume=7.05 MB\",\"PerfTier#3918|Write|tier1 | +volume=7.05 MB\",\"PerfTier#3918|Write|tier1 | +volume=4.27 GB\",\"PerfTier#3918|Write|tier1 | +volume=1.03 GB\",\"PerfTier#3918|Compute | +volume=0B\",\"PerfTier#3918|Read|tier1 | +volume=2.52 MB\",\"PerfTier#3918|Write|tier1 | +volume=2.52 MB\",\"PerfTier#3918|Write|tier1 | +volume=5.33 GB\",\"PerfTier#3918|Compute | +volume=0B\",\"StaticTier#3918|Compute | +volume=0B\",\"StaticTier#3918|Read|tier2 | +volume=3.02 MB\",\"StaticTier#3918|Write|tier2 | +volume=1.21 MB\",\"StaticTier#3918|Write|tier2 | +volume=5.33 GB\",\"StaticTier#3918|Compute | +volume=0B\",\"StaticTier#3918|Read|tier2 | +volume=7.05 MB\",\"StaticTier#3918|Write|tier2 | +volume=2.82 MB\",\"StaticTier#3918|Write|tier2 | +volume=5.3 GB\",\"StaticTier#3918|Compute | +volume=0B\",\"StaticTier#3918|Read|tier2 | +volume=2.52 MB\",\"StaticTier#3918|Write|tier2 | +volume=1.01 MB\",\"StaticTier#3918|Write|tier2 | +volume=5.33 GB\",\"StaticTier#3918|Compute | +volume=0B\"],\"textposition\":\"top center\",\"x\":[0.0,1.0,1.6384520438494967,4.461616264,8.638452043849497,10.00615474240337,10.39354785140412,11.461616264,14.39354785140412,16.727383912959514,17.441776178971512,17.816716768,24.833094500999998,28.833094500999998,31.849472234,31.849472234000004,41.509031609,49.44177617897151,49.44642134850557,55.866149144999994,57.63851782503169,63.63851782503169,63.64937088490012,70.223266681,71.80048919735655,75.80048919735655,75.80435980689766,83.99645781085952,85.99645781085952,87.866149145,87.878242265,114.54618995,120.54618995,120.57440723,147.086070395,151.086070395,151.096147995,177.76510344,179.76510344],\"y\":[0.0,0.0,1730808132.0,1730808132.0,1730808132.0,1730808132.0,1730808132.0,1730808132.0,2024001290.740412,2257384896.8959513,2328824123.497151,2366318182.3999996,3769593729.0,3769593729.0,4071231502.3000007,4071231502.300001,5037187439.8,6623736353.794302,6624665387.701115,7908610947.0,7908610947.0,7908610947.0,7908610947.0,7908610947.0,7908610947.0,7908610947.0,7908610947.0,7908610947.0,7908610947.0,7908610947.0,7909820259.0,13243409796.0,13243409796.0,13246231523.999998,18548564157.0,18548564157.0,18549571917.0,23883363006.0,23883363006.0],\"type\":\"scatter\",\"xaxis\":\"x5\",\"yaxis\":\"y5\"},{\"line\":{\"shape\":\"linear\"},\"name\":\"lfs\",\"showlegend\":false,\"text\":[\"StaticTier#3918|Compute | +volume=0B\",\"PerfTier#3918|Compute | +volume=0B\",\"PerfTier#3918|Read|tier1 | +volume=1.73 GB\",\"StaticTier#3918|Read|tier2 | +volume=319.23 MB\",\"StaticTier#3918|Read|tier2 | +volume=1.41 GB\",\"PerfTier#3918|Compute | +volume=0B\",\"PerfTier#3918|Read|tier1 | +volume=1.59 GB\",\"PerfTier#3918|Write|tier1 | +volume=1.59 GB\",\"PerfTier#3918|Write|tier1 | +volume=450.01 MB\",\"StaticTier#3918|Compute | +volume=0B\",\"PerfTier#3918|Compute | +volume=0B\",\"StaticTier#3918|Write|tier2 | +volume=293.19 MB\",\"StaticTier#3918|Read|tier2 | +volume=732.98 MB\",\"PerfTier#3918|Read|tier1 | +volume=3.17 GB\",\"StaticTier#3918|Write|tier2 | +volume=233.38 MB\",\"PerfTier#3918|Write|tier1 | +volume=3.17 GB\",\"StaticTier#3918|Read|tier2 | +volume=583.46 MB\",\"PerfTier#3918|Write|tier1 | +volume=970.03 MB\",\"StaticTier#3918|Read|tier2 | +volume=178.6 MB\",\"StaticTier#3918|Write|tier2 | +volume=71.44 MB\",\"StaticTier#3918|Read|tier2 | +volume=93.74 MB\",\"StaticTier#3918|Write|tier2 | +volume=37.49 MB\",\"StaticTier#3918|Write|tier2 | +volume=1.4 GB\",\"StaticTier#3918|Compute | +volume=0B\",\"StaticTier#3918|Write|tier2 | +volume=301.64 MB\",\"StaticTier#3918|Read|tier2 | +volume=754.09 MB\",\"StaticTier#3918|Write|tier2 | +volume=355.27 EB\",\"StaticTier#3918|Read|tier2 | +volume=888.18 EB\",\"StaticTier#3918|Read|tier2 | +volume=2.41 GB\",\"StaticTier#3918|Write|tier2 | +volume=965.96 MB\",\"PerfTier#3918|Compute | +volume=0B\",\"StaticTier#3918|Write|tier2 | +volume=1.59 GB\",\"PerfTier#3918|Read|tier1 | +volume=3.02 MB\",\"PerfTier#3918|Write|tier1 | +volume=3.02 MB\",\"StaticTier#3918|Write|tier2 | +volume=929.03 KB\",\"StaticTier#3918|Write|tier2 | +volume=1.28 GB\",\"PerfTier#3918|Write|tier1 | +volume=4.18 GB\",\"StaticTier#3918|Write|tier2 | +volume=476.84 EB\",\"PerfTier#3918|Write|tier1 | +volume=1.15 GB\",\"PerfTier#3918|Compute | +volume=0B\",\"PerfTier#3918|Read|tier1 | +volume=7.05 MB\",\"PerfTier#3918|Write|tier1 | +volume=7.05 MB\",\"PerfTier#3918|Write|tier1 | +volume=4.27 GB\",\"PerfTier#3918|Write|tier1 | +volume=1.03 GB\",\"PerfTier#3918|Compute | +volume=0B\",\"PerfTier#3918|Read|tier1 | +volume=2.52 MB\",\"PerfTier#3918|Write|tier1 | +volume=2.52 MB\",\"PerfTier#3918|Write|tier1 | +volume=5.33 GB\",\"PerfTier#3918|Compute | +volume=0B\",\"StaticTier#3918|Compute | +volume=0B\",\"StaticTier#3918|Read|tier2 | +volume=3.02 MB\",\"StaticTier#3918|Write|tier2 | +volume=1.21 MB\",\"StaticTier#3918|Write|tier2 | +volume=5.33 GB\",\"StaticTier#3918|Compute | +volume=0B\",\"StaticTier#3918|Read|tier2 | +volume=7.05 MB\",\"StaticTier#3918|Write|tier2 | +volume=2.82 MB\",\"StaticTier#3918|Write|tier2 | +volume=5.3 GB\",\"StaticTier#3918|Compute | +volume=0B\",\"StaticTier#3918|Read|tier2 | +volume=2.52 MB\",\"StaticTier#3918|Write|tier2 | +volume=1.01 MB\",\"StaticTier#3918|Write|tier2 | +volume=5.33 GB\",\"StaticTier#3918|Compute | +volume=0B\"],\"textposition\":\"top center\",\"x\":[0.0,1.0,1.6384520438494967,4.461616264,8.638452043849497,10.00615474240337,10.39354785140412,11.461616264,14.39354785140412,16.727383912959514,17.441776178971512,17.816716768,24.833094500999998,28.833094500999998,31.849472234,31.849472234000004,41.509031609,49.44177617897151,49.44642134850557,55.866149144999994,57.63851782503169,63.63851782503169,63.64937088490012,70.223266681,71.80048919735655,75.80048919735655,75.80435980689766,83.99645781085952,85.99645781085952,87.866149145,87.878242265,114.54618995,120.54618995,120.57440723,147.086070395,151.086070395,151.096147995,177.76510344,179.76510344],\"y\":[0.0,0.0,0.0,0.0,0.0,0.0,0.0,0.0,0.0,0.0,0.0,0.0,0.0,0.0,0.0,0.0,0.0,0.0,0.0,0.0,0.0,0.0,0.0,0.0,0.0,0.0,0.0,0.0,0.0,0.0,0.0,0.0,0.0,0.0,0.0,0.0,0.0,0.0,0.0],\"type\":\"scatter\",\"xaxis\":\"x6\",\"yaxis\":\"y6\"},{\"line\":{\"shape\":\"hv\"},\"showlegend\":false,\"x\":[0.0,1.0,1.6384520438494967,4.461616264,8.638452043849497,10.00615474240337,10.39354785140412,11.461616264,14.39354785140412,16.727383912959514,17.441776178971512,17.816716768,24.833094500999998,28.833094500999998,31.849472234,31.849472234000004,41.509031609,49.44177617897151,49.44642134850557,55.866149144999994,57.63851782503169,63.63851782503169,63.64937088490012,70.223266681,71.80048919735655,75.80048919735655,75.80435980689766,83.99645781085952,85.99645781085952,87.866149145,87.878242265,114.54618995,120.54618995,120.57440723,147.086070395,151.086070395,151.096147995,177.76510344,179.76510344],\"y\":[2,2,2,2,3,2,2,3,4,3,3,2,2,3,3,3,2,3,2,2,2,3,2,2,2,3,2,2,1,2,1,1,2,1,1,2,1,1,0],\"type\":\"scatter\",\"xaxis\":\"x7\",\"yaxis\":\"y7\"},{\"line\":{\"color\":\"red\",\"dash\":\"dot\",\"shape\":\"hv\",\"width\":3},\"showlegend\":false,\"text\":[\"Maximum available cores in cluster=2\",\"Maximum available cores in cluster=2\"],\"x\":[0.0,179.76510344],\"y\":[2,2],\"type\":\"scatter\",\"xaxis\":\"x7\",\"yaxis\":\"y7\"}],                        {\"template\":{\"data\":{\"histogram2dcontour\":[{\"type\":\"histogram2dcontour\",\"colorbar\":{\"outlinewidth\":0,\"ticks\":\"\"},\"colorscale\":[[0.0,\"#0d0887\"],[0.1111111111111111,\"#46039f\"],[0.2222222222222222,\"#7201a8\"],[0.3333333333333333,\"#9c179e\"],[0.4444444444444444,\"#bd3786\"],[0.5555555555555556,\"#d8576b\"],[0.6666666666666666,\"#ed7953\"],[0.7777777777777778,\"#fb9f3a\"],[0.8888888888888888,\"#fdca26\"],[1.0,\"#f0f921\"]]}],\"choropleth\":[{\"type\":\"choropleth\",\"colorbar\":{\"outlinewidth\":0,\"ticks\":\"\"}}],\"histogram2d\":[{\"type\":\"histogram2d\",\"colorbar\":{\"outlinewidth\":0,\"ticks\":\"\"},\"colorscale\":[[0.0,\"#0d0887\"],[0.1111111111111111,\"#46039f\"],[0.2222222222222222,\"#7201a8\"],[0.3333333333333333,\"#9c179e\"],[0.4444444444444444,\"#bd3786\"],[0.5555555555555556,\"#d8576b\"],[0.6666666666666666,\"#ed7953\"],[0.7777777777777778,\"#fb9f3a\"],[0.8888888888888888,\"#fdca26\"],[1.0,\"#f0f921\"]]}],\"heatmap\":[{\"type\":\"heatmap\",\"colorbar\":{\"outlinewidth\":0,\"ticks\":\"\"},\"colorscale\":[[0.0,\"#0d0887\"],[0.1111111111111111,\"#46039f\"],[0.2222222222222222,\"#7201a8\"],[0.3333333333333333,\"#9c179e\"],[0.4444444444444444,\"#bd3786\"],[0.5555555555555556,\"#d8576b\"],[0.6666666666666666,\"#ed7953\"],[0.7777777777777778,\"#fb9f3a\"],[0.8888888888888888,\"#fdca26\"],[1.0,\"#f0f921\"]]}],\"heatmapgl\":[{\"type\":\"heatmapgl\",\"colorbar\":{\"outlinewidth\":0,\"ticks\":\"\"},\"colorscale\":[[0.0,\"#0d0887\"],[0.1111111111111111,\"#46039f\"],[0.2222222222222222,\"#7201a8\"],[0.3333333333333333,\"#9c179e\"],[0.4444444444444444,\"#bd3786\"],[0.5555555555555556,\"#d8576b\"],[0.6666666666666666,\"#ed7953\"],[0.7777777777777778,\"#fb9f3a\"],[0.8888888888888888,\"#fdca26\"],[1.0,\"#f0f921\"]]}],\"contourcarpet\":[{\"type\":\"contourcarpet\",\"colorbar\":{\"outlinewidth\":0,\"ticks\":\"\"}}],\"contour\":[{\"type\":\"contour\",\"colorbar\":{\"outlinewidth\":0,\"ticks\":\"\"},\"colorscale\":[[0.0,\"#0d0887\"],[0.1111111111111111,\"#46039f\"],[0.2222222222222222,\"#7201a8\"],[0.3333333333333333,\"#9c179e\"],[0.4444444444444444,\"#bd3786\"],[0.5555555555555556,\"#d8576b\"],[0.6666666666666666,\"#ed7953\"],[0.7777777777777778,\"#fb9f3a\"],[0.8888888888888888,\"#fdca26\"],[1.0,\"#f0f921\"]]}],\"surface\":[{\"type\":\"surface\",\"colorbar\":{\"outlinewidth\":0,\"ticks\":\"\"},\"colorscale\":[[0.0,\"#0d0887\"],[0.1111111111111111,\"#46039f\"],[0.2222222222222222,\"#7201a8\"],[0.3333333333333333,\"#9c179e\"],[0.4444444444444444,\"#bd3786\"],[0.5555555555555556,\"#d8576b\"],[0.6666666666666666,\"#ed7953\"],[0.7777777777777778,\"#fb9f3a\"],[0.8888888888888888,\"#fdca26\"],[1.0,\"#f0f921\"]]}],\"mesh3d\":[{\"type\":\"mesh3d\",\"colorbar\":{\"outlinewidth\":0,\"ticks\":\"\"}}],\"scatter\":[{\"fillpattern\":{\"fillmode\":\"overlay\",\"size\":10,\"solidity\":0.2},\"type\":\"scatter\"}],\"parcoords\":[{\"type\":\"parcoords\",\"line\":{\"colorbar\":{\"outlinewidth\":0,\"ticks\":\"\"}}}],\"scatterpolargl\":[{\"type\":\"scatterpolargl\",\"marker\":{\"colorbar\":{\"outlinewidth\":0,\"ticks\":\"\"}}}],\"bar\":[{\"error_x\":{\"color\":\"#2a3f5f\"},\"error_y\":{\"color\":\"#2a3f5f\"},\"marker\":{\"line\":{\"color\":\"#E5ECF6\",\"width\":0.5},\"pattern\":{\"fillmode\":\"overlay\",\"size\":10,\"solidity\":0.2}},\"type\":\"bar\"}],\"scattergeo\":[{\"type\":\"scattergeo\",\"marker\":{\"colorbar\":{\"outlinewidth\":0,\"ticks\":\"\"}}}],\"scatterpolar\":[{\"type\":\"scatterpolar\",\"marker\":{\"colorbar\":{\"outlinewidth\":0,\"ticks\":\"\"}}}],\"histogram\":[{\"marker\":{\"pattern\":{\"fillmode\":\"overlay\",\"size\":10,\"solidity\":0.2}},\"type\":\"histogram\"}],\"scattergl\":[{\"type\":\"scattergl\",\"marker\":{\"colorbar\":{\"outlinewidth\":0,\"ticks\":\"\"}}}],\"scatter3d\":[{\"type\":\"scatter3d\",\"line\":{\"colorbar\":{\"outlinewidth\":0,\"ticks\":\"\"}},\"marker\":{\"colorbar\":{\"outlinewidth\":0,\"ticks\":\"\"}}}],\"scattermapbox\":[{\"type\":\"scattermapbox\",\"marker\":{\"colorbar\":{\"outlinewidth\":0,\"ticks\":\"\"}}}],\"scatterternary\":[{\"type\":\"scatterternary\",\"marker\":{\"colorbar\":{\"outlinewidth\":0,\"ticks\":\"\"}}}],\"scattercarpet\":[{\"type\":\"scattercarpet\",\"marker\":{\"colorbar\":{\"outlinewidth\":0,\"ticks\":\"\"}}}],\"carpet\":[{\"aaxis\":{\"endlinecolor\":\"#2a3f5f\",\"gridcolor\":\"white\",\"linecolor\":\"white\",\"minorgridcolor\":\"white\",\"startlinecolor\":\"#2a3f5f\"},\"baxis\":{\"endlinecolor\":\"#2a3f5f\",\"gridcolor\":\"white\",\"linecolor\":\"white\",\"minorgridcolor\":\"white\",\"startlinecolor\":\"#2a3f5f\"},\"type\":\"carpet\"}],\"table\":[{\"cells\":{\"fill\":{\"color\":\"#EBF0F8\"},\"line\":{\"color\":\"white\"}},\"header\":{\"fill\":{\"color\":\"#C8D4E3\"},\"line\":{\"color\":\"white\"}},\"type\":\"table\"}],\"barpolar\":[{\"marker\":{\"line\":{\"color\":\"#E5ECF6\",\"width\":0.5},\"pattern\":{\"fillmode\":\"overlay\",\"size\":10,\"solidity\":0.2}},\"type\":\"barpolar\"}],\"pie\":[{\"automargin\":true,\"type\":\"pie\"}]},\"layout\":{\"autotypenumbers\":\"strict\",\"colorway\":[\"#636efa\",\"#EF553B\",\"#00cc96\",\"#ab63fa\",\"#FFA15A\",\"#19d3f3\",\"#FF6692\",\"#B6E880\",\"#FF97FF\",\"#FECB52\"],\"font\":{\"color\":\"#2a3f5f\"},\"hovermode\":\"closest\",\"hoverlabel\":{\"align\":\"left\"},\"paper_bgcolor\":\"white\",\"plot_bgcolor\":\"#E5ECF6\",\"polar\":{\"bgcolor\":\"#E5ECF6\",\"angularaxis\":{\"gridcolor\":\"white\",\"linecolor\":\"white\",\"ticks\":\"\"},\"radialaxis\":{\"gridcolor\":\"white\",\"linecolor\":\"white\",\"ticks\":\"\"}},\"ternary\":{\"bgcolor\":\"#E5ECF6\",\"aaxis\":{\"gridcolor\":\"white\",\"linecolor\":\"white\",\"ticks\":\"\"},\"baxis\":{\"gridcolor\":\"white\",\"linecolor\":\"white\",\"ticks\":\"\"},\"caxis\":{\"gridcolor\":\"white\",\"linecolor\":\"white\",\"ticks\":\"\"}},\"coloraxis\":{\"colorbar\":{\"outlinewidth\":0,\"ticks\":\"\"}},\"colorscale\":{\"sequential\":[[0.0,\"#0d0887\"],[0.1111111111111111,\"#46039f\"],[0.2222222222222222,\"#7201a8\"],[0.3333333333333333,\"#9c179e\"],[0.4444444444444444,\"#bd3786\"],[0.5555555555555556,\"#d8576b\"],[0.6666666666666666,\"#ed7953\"],[0.7777777777777778,\"#fb9f3a\"],[0.8888888888888888,\"#fdca26\"],[1.0,\"#f0f921\"]],\"sequentialminus\":[[0.0,\"#0d0887\"],[0.1111111111111111,\"#46039f\"],[0.2222222222222222,\"#7201a8\"],[0.3333333333333333,\"#9c179e\"],[0.4444444444444444,\"#bd3786\"],[0.5555555555555556,\"#d8576b\"],[0.6666666666666666,\"#ed7953\"],[0.7777777777777778,\"#fb9f3a\"],[0.8888888888888888,\"#fdca26\"],[1.0,\"#f0f921\"]],\"diverging\":[[0,\"#8e0152\"],[0.1,\"#c51b7d\"],[0.2,\"#de77ae\"],[0.3,\"#f1b6da\"],[0.4,\"#fde0ef\"],[0.5,\"#f7f7f7\"],[0.6,\"#e6f5d0\"],[0.7,\"#b8e186\"],[0.8,\"#7fbc41\"],[0.9,\"#4d9221\"],[1,\"#276419\"]]},\"xaxis\":{\"gridcolor\":\"white\",\"linecolor\":\"white\",\"ticks\":\"\",\"title\":{\"standoff\":15},\"zerolinecolor\":\"white\",\"automargin\":true,\"zerolinewidth\":2},\"yaxis\":{\"gridcolor\":\"white\",\"linecolor\":\"white\",\"ticks\":\"\",\"title\":{\"standoff\":15},\"zerolinecolor\":\"white\",\"automargin\":true,\"zerolinewidth\":2},\"scene\":{\"xaxis\":{\"backgroundcolor\":\"#E5ECF6\",\"gridcolor\":\"white\",\"linecolor\":\"white\",\"showbackground\":true,\"ticks\":\"\",\"zerolinecolor\":\"white\",\"gridwidth\":2},\"yaxis\":{\"backgroundcolor\":\"#E5ECF6\",\"gridcolor\":\"white\",\"linecolor\":\"white\",\"showbackground\":true,\"ticks\":\"\",\"zerolinecolor\":\"white\",\"gridwidth\":2},\"zaxis\":{\"backgroundcolor\":\"#E5ECF6\",\"gridcolor\":\"white\",\"linecolor\":\"white\",\"showbackground\":true,\"ticks\":\"\",\"zerolinecolor\":\"white\",\"gridwidth\":2}},\"shapedefaults\":{\"line\":{\"color\":\"#2a3f5f\"}},\"annotationdefaults\":{\"arrowcolor\":\"#2a3f5f\",\"arrowhead\":0,\"arrowwidth\":1},\"geo\":{\"bgcolor\":\"white\",\"landcolor\":\"#E5ECF6\",\"subunitcolor\":\"white\",\"showland\":true,\"showlakes\":true,\"lakecolor\":\"white\"},\"title\":{\"x\":0.05},\"mapbox\":{\"style\":\"light\"}}},\"xaxis\":{\"anchor\":\"y\",\"domain\":[0.0,1.0],\"matches\":\"x7\",\"showticklabels\":false,\"title\":{\"text\":\"time in s\"}},\"yaxis\":{\"anchor\":\"x\",\"domain\":[0.9183673469387754,0.9999999999999999],\"title\":{\"text\":\"dataflow in MB/s\"}},\"xaxis2\":{\"anchor\":\"y2\",\"domain\":[0.0,1.0],\"matches\":\"x7\",\"showticklabels\":false,\"title\":{\"text\":\"time in s\"}},\"yaxis2\":{\"anchor\":\"x2\",\"domain\":[0.7653061224489794,0.8469387755102039],\"title\":{\"text\":\"dataflow in MB/s\"}},\"xaxis3\":{\"anchor\":\"y3\",\"domain\":[0.0,1.0],\"matches\":\"x7\",\"showticklabels\":false,\"title\":{\"text\":\"time in s\"}},\"yaxis3\":{\"anchor\":\"x3\",\"domain\":[0.6122448979591837,0.6938775510204082],\"title\":{\"text\":\"ephemeral usage in Bytes\"}},\"xaxis4\":{\"anchor\":\"y4\",\"domain\":[0.0,1.0],\"matches\":\"x7\",\"showticklabels\":false,\"title\":{\"text\":\"time in s\"}},\"yaxis4\":{\"anchor\":\"x4\",\"domain\":[0.4591836734693877,0.5408163265306122],\"title\":{\"text\":\"tier1 usage in Bytes\"}},\"xaxis5\":{\"anchor\":\"y5\",\"domain\":[0.0,1.0],\"matches\":\"x7\",\"showticklabels\":false,\"title\":{\"text\":\"time in s\"}},\"yaxis5\":{\"anchor\":\"x5\",\"domain\":[0.30612244897959184,0.3877551020408163],\"title\":{\"text\":\"tier2 usage in Bytes\"}},\"xaxis6\":{\"anchor\":\"y6\",\"domain\":[0.0,1.0],\"matches\":\"x7\",\"showticklabels\":false,\"title\":{\"text\":\"time in s\"}},\"yaxis6\":{\"anchor\":\"x6\",\"domain\":[0.15306122448979592,0.2346938775510204],\"title\":{\"text\":\"lfs usage in Bytes\"}},\"xaxis7\":{\"anchor\":\"y7\",\"domain\":[0.0,1.0],\"title\":{\"text\":\"time in s\"}},\"yaxis7\":{\"anchor\":\"x7\",\"domain\":[0.0,0.08163265306122448],\"title\":{\"text\":\"CPU usage\"}},\"annotations\":[{\"font\":{\"size\":16},\"showarrow\":false,\"text\":\"app#PerfTier#3918\",\"x\":0.5,\"xanchor\":\"center\",\"xref\":\"paper\",\"y\":0.9999999999999999,\"yanchor\":\"bottom\",\"yref\":\"paper\"},{\"font\":{\"size\":16},\"showarrow\":false,\"text\":\"app#StaticTier#3918\",\"x\":0.5,\"xanchor\":\"center\",\"xref\":\"paper\",\"y\":0.8469387755102039,\"yanchor\":\"bottom\",\"yref\":\"paper\"},{\"font\":{\"size\":16},\"showarrow\":false,\"text\":\"ephemeral (1.0 GB)\",\"x\":0.5,\"xanchor\":\"center\",\"xref\":\"paper\",\"y\":0.6938775510204082,\"yanchor\":\"bottom\",\"yref\":\"paper\"},{\"font\":{\"size\":16},\"showarrow\":false,\"text\":\"tier1 (100.0 GB)\",\"x\":0.5,\"xanchor\":\"center\",\"xref\":\"paper\",\"y\":0.5408163265306122,\"yanchor\":\"bottom\",\"yref\":\"paper\"},{\"font\":{\"size\":16},\"showarrow\":false,\"text\":\"tier2 (500.0 GB)\",\"x\":0.5,\"xanchor\":\"center\",\"xref\":\"paper\",\"y\":0.3877551020408163,\"yanchor\":\"bottom\",\"yref\":\"paper\"},{\"font\":{\"size\":16},\"showarrow\":false,\"text\":\"lfs (500.0 GB)\",\"x\":0.5,\"xanchor\":\"center\",\"xref\":\"paper\",\"y\":0.2346938775510204,\"yanchor\":\"bottom\",\"yref\":\"paper\"},{\"font\":{\"size\":16},\"showarrow\":false,\"text\":\"CPU Cores\",\"x\":0.5,\"xanchor\":\"center\",\"xref\":\"paper\",\"y\":0.08163265306122448,\"yanchor\":\"bottom\",\"yref\":\"paper\"}],\"title\":{\"text\":\"State of the Cluster\"},\"width\":800,\"height\":900},                        {\"responsive\": true}                    ).then(function(){\n",
       "                            \n",
       "var gd = document.getElementById('d8c1851a-690b-472a-a347-004d54c50c21');\n",
       "var x = new MutationObserver(function (mutations, observer) {{\n",
       "        var display = window.getComputedStyle(gd).display;\n",
       "        if (!display || display === 'none') {{\n",
       "            console.log([gd, 'removed!']);\n",
       "            Plotly.purge(gd);\n",
       "            observer.disconnect();\n",
       "        }}\n",
       "}});\n",
       "\n",
       "// Listen for the removal of the full notebook cells\n",
       "var notebookContainer = gd.closest('#notebook-container');\n",
       "if (notebookContainer) {{\n",
       "    x.observe(notebookContainer, {childList: true});\n",
       "}}\n",
       "\n",
       "// Listen for the clearing of the current output cell\n",
       "var outputEl = gd.closest('.output');\n",
       "if (outputEl) {{\n",
       "    x.observe(outputEl, {childList: true});\n",
       "}}\n",
       "\n",
       "                        })                };                });            </script>        </div>"
      ]
     },
     "metadata": {},
     "output_type": "display_data"
    },
    {
     "ename": "NameError",
     "evalue": "name 'app' is not defined",
     "output_type": "error",
     "traceback": [
      "\u001b[0;31m---------------------------------------------------------------------------\u001b[0m",
      "\u001b[0;31mNameError\u001b[0m                                 Traceback (most recent call last)",
      "\u001b[1;32m/home_nfs/mimounis/iosea-wp3-recommandation-system/performance_data/performance_data/notebooks/perf_regression.ipynb Cell 17\u001b[0m in \u001b[0;36m<cell line: 4>\u001b[0;34m()\u001b[0m\n\u001b[1;32m      <a href='vscode-notebook-cell://ssh-remote%2Bkea2/home_nfs/mimounis/iosea-wp3-recommandation-system/performance_data/performance_data/notebooks/perf_regression.ipynb#X22sdnNjb2RlLXJlbW90ZQ%3D%3D?line=1'>2</a>\u001b[0m fig\u001b[39m.\u001b[39mshow()\n\u001b[1;32m      <a href='vscode-notebook-cell://ssh-remote%2Bkea2/home_nfs/mimounis/iosea-wp3-recommandation-system/performance_data/performance_data/notebooks/perf_regression.ipynb#X22sdnNjb2RlLXJlbW90ZQ%3D%3D?line=2'>3</a>\u001b[0m output \u001b[39m=\u001b[39m get_execution_signal_3(data, nbr_points\u001b[39m=\u001b[39m\u001b[39mlen\u001b[39m(cd\u001b[39m.\u001b[39mtimestamps))\n\u001b[0;32m----> <a href='vscode-notebook-cell://ssh-remote%2Bkea2/home_nfs/mimounis/iosea-wp3-recommandation-system/performance_data/performance_data/notebooks/perf_regression.ipynb#X22sdnNjb2RlLXJlbW90ZQ%3D%3D?line=3'>4</a>\u001b[0m sim_time \u001b[39m=\u001b[39m np\u001b[39m.\u001b[39marray(output[app\u001b[39m.\u001b[39mname][\u001b[39m\"\u001b[39m\u001b[39mtime\u001b[39m\u001b[39m\"\u001b[39m])\n\u001b[1;32m      <a href='vscode-notebook-cell://ssh-remote%2Bkea2/home_nfs/mimounis/iosea-wp3-recommandation-system/performance_data/performance_data/notebooks/perf_regression.ipynb#X22sdnNjb2RlLXJlbW90ZQ%3D%3D?line=4'>5</a>\u001b[0m sim_read_bw \u001b[39m=\u001b[39m np\u001b[39m.\u001b[39marray(output[app\u001b[39m.\u001b[39mname][\u001b[39m\"\u001b[39m\u001b[39mread_bw\u001b[39m\u001b[39m\"\u001b[39m])\n\u001b[1;32m      <a href='vscode-notebook-cell://ssh-remote%2Bkea2/home_nfs/mimounis/iosea-wp3-recommandation-system/performance_data/performance_data/notebooks/perf_regression.ipynb#X22sdnNjb2RlLXJlbW90ZQ%3D%3D?line=5'>6</a>\u001b[0m sim_write_bw \u001b[39m=\u001b[39m np\u001b[39m.\u001b[39marray(output[app\u001b[39m.\u001b[39mname][\u001b[39m\"\u001b[39m\u001b[39mwrite_bw\u001b[39m\u001b[39m\"\u001b[39m])\n",
      "\u001b[0;31mNameError\u001b[0m: name 'app' is not defined"
     ]
    }
   ],
   "source": [
    "fig = display_run(data, cluster, width=800, height=900)\n",
    "fig.show()\n",
    "output = get_execution_signal_3(data, nbr_points=len(cd.timestamps))\n",
    "sim_time = np.array(output[app.name][\"time\"])\n",
    "sim_read_bw = np.array(output[app.name][\"read_bw\"])\n",
    "sim_write_bw = np.array(output[app.name][\"write_bw\"])\n"
   ]
  },
  {
   "cell_type": "code",
   "execution_count": 30,
   "metadata": {},
   "outputs": [
    {
     "data": {
      "application/vnd.plotly.v1+json": {
       "config": {
        "plotlyServerURL": "https://plot.ly"
       },
       "data": [
        {
         "line": {
          "shape": "linear"
         },
         "name": "app#PerfTier#3918#read",
         "text": [
          "COMPUTE|volume=0B",
          "COMPUTE|volume=0B",
          "READ|on:tier2|volume=1.73 GB",
          "READ|on:tier2|volume=1.73 GB",
          "COMPUTE|volume=0B",
          "COMPUTE|volume=0B",
          "READ|on:tier2|volume=1.59 GB",
          "READ|on:tier2|volume=1.59 GB",
          "WRITE|on:tier2|volume=1.59 GB",
          "WRITE|on:tier2|volume=1.59 GB",
          "WRITE|on:tier2|volume=450.01 MB",
          "WRITE|on:tier2|volume=450.01 MB",
          "COMPUTE|volume=0B",
          "COMPUTE|volume=0B",
          "READ|on:tier2|volume=3.17 GB",
          "READ|on:tier2|volume=3.17 GB",
          "WRITE|on:tier2|volume=3.17 GB",
          "WRITE|on:tier2|volume=3.17 GB",
          "WRITE|on:tier2|volume=970.03 MB",
          "WRITE|on:tier2|volume=970.03 MB",
          "COMPUTE|volume=0B",
          "COMPUTE|volume=0B",
          "READ|on:tier2|volume=3.02 MB",
          "READ|on:tier2|volume=3.02 MB",
          "WRITE|on:tier2|volume=3.02 MB",
          "WRITE|on:tier2|volume=3.02 MB",
          "WRITE|on:tier2|volume=5.33 GB",
          "WRITE|on:tier2|volume=5.33 GB",
          "WRITE|on:tier2|volume=953.67 EB",
          "WRITE|on:tier2|volume=953.67 EB",
          "COMPUTE|volume=0B",
          "COMPUTE|volume=0B",
          "READ|on:tier2|volume=7.05 MB",
          "READ|on:tier2|volume=7.05 MB",
          "WRITE|on:tier2|volume=7.05 MB",
          "WRITE|on:tier2|volume=7.05 MB",
          "WRITE|on:tier2|volume=5.3 GB",
          "WRITE|on:tier2|volume=5.3 GB",
          "COMPUTE|volume=0B",
          "COMPUTE|volume=0B",
          "READ|on:tier2|volume=2.52 MB",
          "READ|on:tier2|volume=2.52 MB",
          "WRITE|on:tier2|volume=2.52 MB",
          "WRITE|on:tier2|volume=2.52 MB",
          "WRITE|on:tier2|volume=5.33 GB",
          "WRITE|on:tier2|volume=5.33 GB",
          "COMPUTE|volume=0B",
          "COMPUTE|volume=0B"
         ],
         "textposition": "top center",
         "type": "scatter",
         "x": [
          0,
          1.0117230330689355,
          2.023446066137871,
          3.0351690992068066,
          4.046892132275742,
          5.058615165344678,
          6.070338198413613,
          7.082061231482548,
          8.093784264551484,
          9.10550729762042,
          10.117230330689356,
          11.12895336375829,
          12.140676396827226,
          13.152399429896162,
          14.164122462965096,
          15.175845496034032,
          16.18756852910297,
          17.199291562171904,
          18.21101459524084,
          19.222737628309776,
          20.234460661378712,
          21.246183694447645,
          22.25790672751658,
          23.269629760585516,
          24.281352793654452,
          25.29307582672339,
          26.304798859792324,
          27.31652189286126,
          28.328244925930193,
          29.33996795899913,
          30.351690992068065,
          31.363414025137,
          32.37513705820594,
          33.38686009127487,
          34.39858312434381,
          35.41030615741274,
          36.42202919048168,
          37.43375222355061,
          38.44547525661955,
          39.457198289688485,
          40.468921322757424,
          41.48064435582636,
          42.49236738889529,
          43.50409042196423,
          44.51581345503316,
          45.5275364881021,
          46.53925952117103,
          47.55098255423997,
          48.562705587308905,
          49.57442862037784,
          50.58615165344678,
          51.59787468651571,
          52.60959771958465,
          53.62132075265358,
          54.63304378572252,
          55.64476681879145,
          56.656489851860385,
          57.668212884929325,
          58.67993591799826,
          59.6916589510672,
          60.70338198413613,
          61.71510501720507,
          62.726828050274,
          63.73855108334294,
          64.75027411641187,
          65.7619971494808,
          66.77372018254974,
          67.78544321561868,
          68.79716624868762,
          69.80888928175655,
          70.82061231482548,
          71.83233534789443,
          72.84405838096336,
          73.8557814140323,
          74.86750444710123,
          75.87922748017016,
          76.8909505132391,
          77.90267354630804,
          78.91439657937697,
          79.9261196124459,
          80.93784264551485,
          81.94956567858378,
          82.96128871165271,
          83.97301174472165,
          84.98473477779058,
          85.99645781085952
         ],
         "xaxis": "x",
         "y": [
          0,
          2710.9446178043813,
          0,
          0,
          0,
          0,
          0,
          0,
          0,
          1161.6377796723486,
          0,
          0,
          0,
          0,
          0,
          1357.8435645938305,
          1357.8435645938305,
          0,
          0,
          0,
          0,
          0,
          0,
          0,
          0,
          0,
          0,
          0,
          0,
          0,
          0,
          0,
          0,
          0,
          0,
          0,
          0,
          0,
          0,
          0,
          0,
          0,
          0,
          0,
          0,
          0,
          0,
          0,
          0,
          0,
          0,
          0,
          0,
          0,
          0,
          0,
          0,
          0,
          0,
          0,
          0,
          0,
          0,
          0,
          0,
          0,
          0,
          0,
          0,
          0,
          0,
          0,
          0,
          0,
          0,
          0,
          0,
          0,
          0,
          0,
          0,
          0,
          0,
          0,
          0,
          0
         ],
         "yaxis": "y"
        },
        {
         "line": {
          "shape": "linear"
         },
         "name": "app#PerfTier#3918#write",
         "text": [
          "COMPUTE|volume=0B",
          "COMPUTE|volume=0B",
          "READ|on:tier2|volume=1.73 GB",
          "READ|on:tier2|volume=1.73 GB",
          "COMPUTE|volume=0B",
          "COMPUTE|volume=0B",
          "READ|on:tier2|volume=1.59 GB",
          "READ|on:tier2|volume=1.59 GB",
          "WRITE|on:tier2|volume=1.59 GB",
          "WRITE|on:tier2|volume=1.59 GB",
          "WRITE|on:tier2|volume=450.01 MB",
          "WRITE|on:tier2|volume=450.01 MB",
          "COMPUTE|volume=0B",
          "COMPUTE|volume=0B",
          "READ|on:tier2|volume=3.17 GB",
          "READ|on:tier2|volume=3.17 GB",
          "WRITE|on:tier2|volume=3.17 GB",
          "WRITE|on:tier2|volume=3.17 GB",
          "WRITE|on:tier2|volume=970.03 MB",
          "WRITE|on:tier2|volume=970.03 MB",
          "COMPUTE|volume=0B",
          "COMPUTE|volume=0B",
          "READ|on:tier2|volume=3.02 MB",
          "READ|on:tier2|volume=3.02 MB",
          "WRITE|on:tier2|volume=3.02 MB",
          "WRITE|on:tier2|volume=3.02 MB",
          "WRITE|on:tier2|volume=5.33 GB",
          "WRITE|on:tier2|volume=5.33 GB",
          "WRITE|on:tier2|volume=953.67 EB",
          "WRITE|on:tier2|volume=953.67 EB",
          "COMPUTE|volume=0B",
          "COMPUTE|volume=0B",
          "READ|on:tier2|volume=7.05 MB",
          "READ|on:tier2|volume=7.05 MB",
          "WRITE|on:tier2|volume=7.05 MB",
          "WRITE|on:tier2|volume=7.05 MB",
          "WRITE|on:tier2|volume=5.3 GB",
          "WRITE|on:tier2|volume=5.3 GB",
          "COMPUTE|volume=0B",
          "COMPUTE|volume=0B",
          "READ|on:tier2|volume=2.52 MB",
          "READ|on:tier2|volume=2.52 MB",
          "WRITE|on:tier2|volume=2.52 MB",
          "WRITE|on:tier2|volume=2.52 MB",
          "WRITE|on:tier2|volume=5.33 GB",
          "WRITE|on:tier2|volume=5.33 GB",
          "COMPUTE|volume=0B",
          "COMPUTE|volume=0B"
         ],
         "textposition": "top center",
         "type": "scatter",
         "x": [
          0,
          1.0117230330689355,
          2.023446066137871,
          3.0351690992068066,
          4.046892132275742,
          5.058615165344678,
          6.070338198413613,
          7.082061231482548,
          8.093784264551484,
          9.10550729762042,
          10.117230330689356,
          11.12895336375829,
          12.140676396827226,
          13.152399429896162,
          14.164122462965096,
          15.175845496034032,
          16.18756852910297,
          17.199291562171904,
          18.21101459524084,
          19.222737628309776,
          20.234460661378712,
          21.246183694447645,
          22.25790672751658,
          23.269629760585516,
          24.281352793654452,
          25.29307582672339,
          26.304798859792324,
          27.31652189286126,
          28.328244925930193,
          29.33996795899913,
          30.351690992068065,
          31.363414025137,
          32.37513705820594,
          33.38686009127487,
          34.39858312434381,
          35.41030615741274,
          36.42202919048168,
          37.43375222355061,
          38.44547525661955,
          39.457198289688485,
          40.468921322757424,
          41.48064435582636,
          42.49236738889529,
          43.50409042196423,
          44.51581345503316,
          45.5275364881021,
          46.53925952117103,
          47.55098255423997,
          48.562705587308905,
          49.57442862037784,
          50.58615165344678,
          51.59787468651571,
          52.60959771958465,
          53.62132075265358,
          54.63304378572252,
          55.64476681879145,
          56.656489851860385,
          57.668212884929325,
          58.67993591799826,
          59.6916589510672,
          60.70338198413613,
          61.71510501720507,
          62.726828050274,
          63.73855108334294,
          64.75027411641187,
          65.7619971494808,
          66.77372018254974,
          67.78544321561868,
          68.79716624868762,
          69.80888928175655,
          70.82061231482548,
          71.83233534789443,
          72.84405838096336,
          73.8557814140323,
          74.86750444710123,
          75.87922748017016,
          76.8909505132391,
          77.90267354630804,
          78.91439657937697,
          79.9261196124459,
          80.93784264551485,
          81.94956567858378,
          82.96128871165271,
          83.97301174472165,
          84.98473477779058,
          85.99645781085952
         ],
         "xaxis": "x",
         "y": [
          0,
          0,
          0,
          0,
          0,
          0,
          0,
          0,
          0,
          1161.6377796723486,
          1161.6377796723486,
          0,
          0,
          0,
          0,
          1357.8435645938305,
          1357.8435645938305,
          1357.8435645938305,
          0,
          0,
          0,
          0,
          0,
          0,
          0,
          0,
          0,
          0,
          0,
          0,
          0,
          0,
          0,
          0,
          0,
          0,
          0,
          0,
          0,
          0,
          0,
          0,
          0,
          0,
          0,
          0,
          0,
          0,
          0,
          650.8438449520007,
          650.8438449520007,
          650.8438449520007,
          650.8438449520007,
          650.8438449520007,
          650.8438449520007,
          650.8438449520007,
          650.8438449520007,
          0,
          0,
          0,
          0,
          0,
          0,
          649.9844362341689,
          649.9844362341689,
          649.9844362341689,
          649.9844362341689,
          649.9844362341689,
          649.9844362341689,
          649.9844362341689,
          649.9844362341689,
          0,
          0,
          0,
          0,
          650.90523165387,
          650.90523165387,
          650.90523165387,
          650.90523165387,
          650.90523165387,
          650.90523165387,
          650.90523165387,
          650.90523165387,
          650.90523165387,
          0,
          0
         ],
         "yaxis": "y"
        },
        {
         "line": {
          "dash": "dot",
          "shape": "linear"
         },
         "name": "PerfTier#3918 mvt",
         "text": [],
         "textposition": "top center",
         "type": "scatter",
         "x": [],
         "xaxis": "x",
         "y": [],
         "yaxis": "y"
        }
       ],
       "layout": {
        "annotations": [
         {
          "font": {
           "size": 16
          },
          "showarrow": false,
          "text": "app#PerfTier#3918",
          "x": 0.5,
          "xanchor": "center",
          "xref": "paper",
          "y": 1,
          "yanchor": "bottom",
          "yref": "paper"
         }
        ],
        "height": 600,
        "template": {
         "data": {
          "bar": [
           {
            "error_x": {
             "color": "#2a3f5f"
            },
            "error_y": {
             "color": "#2a3f5f"
            },
            "marker": {
             "line": {
              "color": "#E5ECF6",
              "width": 0.5
             },
             "pattern": {
              "fillmode": "overlay",
              "size": 10,
              "solidity": 0.2
             }
            },
            "type": "bar"
           }
          ],
          "barpolar": [
           {
            "marker": {
             "line": {
              "color": "#E5ECF6",
              "width": 0.5
             },
             "pattern": {
              "fillmode": "overlay",
              "size": 10,
              "solidity": 0.2
             }
            },
            "type": "barpolar"
           }
          ],
          "carpet": [
           {
            "aaxis": {
             "endlinecolor": "#2a3f5f",
             "gridcolor": "white",
             "linecolor": "white",
             "minorgridcolor": "white",
             "startlinecolor": "#2a3f5f"
            },
            "baxis": {
             "endlinecolor": "#2a3f5f",
             "gridcolor": "white",
             "linecolor": "white",
             "minorgridcolor": "white",
             "startlinecolor": "#2a3f5f"
            },
            "type": "carpet"
           }
          ],
          "choropleth": [
           {
            "colorbar": {
             "outlinewidth": 0,
             "ticks": ""
            },
            "type": "choropleth"
           }
          ],
          "contour": [
           {
            "colorbar": {
             "outlinewidth": 0,
             "ticks": ""
            },
            "colorscale": [
             [
              0,
              "#0d0887"
             ],
             [
              0.1111111111111111,
              "#46039f"
             ],
             [
              0.2222222222222222,
              "#7201a8"
             ],
             [
              0.3333333333333333,
              "#9c179e"
             ],
             [
              0.4444444444444444,
              "#bd3786"
             ],
             [
              0.5555555555555556,
              "#d8576b"
             ],
             [
              0.6666666666666666,
              "#ed7953"
             ],
             [
              0.7777777777777778,
              "#fb9f3a"
             ],
             [
              0.8888888888888888,
              "#fdca26"
             ],
             [
              1,
              "#f0f921"
             ]
            ],
            "type": "contour"
           }
          ],
          "contourcarpet": [
           {
            "colorbar": {
             "outlinewidth": 0,
             "ticks": ""
            },
            "type": "contourcarpet"
           }
          ],
          "heatmap": [
           {
            "colorbar": {
             "outlinewidth": 0,
             "ticks": ""
            },
            "colorscale": [
             [
              0,
              "#0d0887"
             ],
             [
              0.1111111111111111,
              "#46039f"
             ],
             [
              0.2222222222222222,
              "#7201a8"
             ],
             [
              0.3333333333333333,
              "#9c179e"
             ],
             [
              0.4444444444444444,
              "#bd3786"
             ],
             [
              0.5555555555555556,
              "#d8576b"
             ],
             [
              0.6666666666666666,
              "#ed7953"
             ],
             [
              0.7777777777777778,
              "#fb9f3a"
             ],
             [
              0.8888888888888888,
              "#fdca26"
             ],
             [
              1,
              "#f0f921"
             ]
            ],
            "type": "heatmap"
           }
          ],
          "heatmapgl": [
           {
            "colorbar": {
             "outlinewidth": 0,
             "ticks": ""
            },
            "colorscale": [
             [
              0,
              "#0d0887"
             ],
             [
              0.1111111111111111,
              "#46039f"
             ],
             [
              0.2222222222222222,
              "#7201a8"
             ],
             [
              0.3333333333333333,
              "#9c179e"
             ],
             [
              0.4444444444444444,
              "#bd3786"
             ],
             [
              0.5555555555555556,
              "#d8576b"
             ],
             [
              0.6666666666666666,
              "#ed7953"
             ],
             [
              0.7777777777777778,
              "#fb9f3a"
             ],
             [
              0.8888888888888888,
              "#fdca26"
             ],
             [
              1,
              "#f0f921"
             ]
            ],
            "type": "heatmapgl"
           }
          ],
          "histogram": [
           {
            "marker": {
             "pattern": {
              "fillmode": "overlay",
              "size": 10,
              "solidity": 0.2
             }
            },
            "type": "histogram"
           }
          ],
          "histogram2d": [
           {
            "colorbar": {
             "outlinewidth": 0,
             "ticks": ""
            },
            "colorscale": [
             [
              0,
              "#0d0887"
             ],
             [
              0.1111111111111111,
              "#46039f"
             ],
             [
              0.2222222222222222,
              "#7201a8"
             ],
             [
              0.3333333333333333,
              "#9c179e"
             ],
             [
              0.4444444444444444,
              "#bd3786"
             ],
             [
              0.5555555555555556,
              "#d8576b"
             ],
             [
              0.6666666666666666,
              "#ed7953"
             ],
             [
              0.7777777777777778,
              "#fb9f3a"
             ],
             [
              0.8888888888888888,
              "#fdca26"
             ],
             [
              1,
              "#f0f921"
             ]
            ],
            "type": "histogram2d"
           }
          ],
          "histogram2dcontour": [
           {
            "colorbar": {
             "outlinewidth": 0,
             "ticks": ""
            },
            "colorscale": [
             [
              0,
              "#0d0887"
             ],
             [
              0.1111111111111111,
              "#46039f"
             ],
             [
              0.2222222222222222,
              "#7201a8"
             ],
             [
              0.3333333333333333,
              "#9c179e"
             ],
             [
              0.4444444444444444,
              "#bd3786"
             ],
             [
              0.5555555555555556,
              "#d8576b"
             ],
             [
              0.6666666666666666,
              "#ed7953"
             ],
             [
              0.7777777777777778,
              "#fb9f3a"
             ],
             [
              0.8888888888888888,
              "#fdca26"
             ],
             [
              1,
              "#f0f921"
             ]
            ],
            "type": "histogram2dcontour"
           }
          ],
          "mesh3d": [
           {
            "colorbar": {
             "outlinewidth": 0,
             "ticks": ""
            },
            "type": "mesh3d"
           }
          ],
          "parcoords": [
           {
            "line": {
             "colorbar": {
              "outlinewidth": 0,
              "ticks": ""
             }
            },
            "type": "parcoords"
           }
          ],
          "pie": [
           {
            "automargin": true,
            "type": "pie"
           }
          ],
          "scatter": [
           {
            "fillpattern": {
             "fillmode": "overlay",
             "size": 10,
             "solidity": 0.2
            },
            "type": "scatter"
           }
          ],
          "scatter3d": [
           {
            "line": {
             "colorbar": {
              "outlinewidth": 0,
              "ticks": ""
             }
            },
            "marker": {
             "colorbar": {
              "outlinewidth": 0,
              "ticks": ""
             }
            },
            "type": "scatter3d"
           }
          ],
          "scattercarpet": [
           {
            "marker": {
             "colorbar": {
              "outlinewidth": 0,
              "ticks": ""
             }
            },
            "type": "scattercarpet"
           }
          ],
          "scattergeo": [
           {
            "marker": {
             "colorbar": {
              "outlinewidth": 0,
              "ticks": ""
             }
            },
            "type": "scattergeo"
           }
          ],
          "scattergl": [
           {
            "marker": {
             "colorbar": {
              "outlinewidth": 0,
              "ticks": ""
             }
            },
            "type": "scattergl"
           }
          ],
          "scattermapbox": [
           {
            "marker": {
             "colorbar": {
              "outlinewidth": 0,
              "ticks": ""
             }
            },
            "type": "scattermapbox"
           }
          ],
          "scatterpolar": [
           {
            "marker": {
             "colorbar": {
              "outlinewidth": 0,
              "ticks": ""
             }
            },
            "type": "scatterpolar"
           }
          ],
          "scatterpolargl": [
           {
            "marker": {
             "colorbar": {
              "outlinewidth": 0,
              "ticks": ""
             }
            },
            "type": "scatterpolargl"
           }
          ],
          "scatterternary": [
           {
            "marker": {
             "colorbar": {
              "outlinewidth": 0,
              "ticks": ""
             }
            },
            "type": "scatterternary"
           }
          ],
          "surface": [
           {
            "colorbar": {
             "outlinewidth": 0,
             "ticks": ""
            },
            "colorscale": [
             [
              0,
              "#0d0887"
             ],
             [
              0.1111111111111111,
              "#46039f"
             ],
             [
              0.2222222222222222,
              "#7201a8"
             ],
             [
              0.3333333333333333,
              "#9c179e"
             ],
             [
              0.4444444444444444,
              "#bd3786"
             ],
             [
              0.5555555555555556,
              "#d8576b"
             ],
             [
              0.6666666666666666,
              "#ed7953"
             ],
             [
              0.7777777777777778,
              "#fb9f3a"
             ],
             [
              0.8888888888888888,
              "#fdca26"
             ],
             [
              1,
              "#f0f921"
             ]
            ],
            "type": "surface"
           }
          ],
          "table": [
           {
            "cells": {
             "fill": {
              "color": "#EBF0F8"
             },
             "line": {
              "color": "white"
             }
            },
            "header": {
             "fill": {
              "color": "#C8D4E3"
             },
             "line": {
              "color": "white"
             }
            },
            "type": "table"
           }
          ]
         },
         "layout": {
          "annotationdefaults": {
           "arrowcolor": "#2a3f5f",
           "arrowhead": 0,
           "arrowwidth": 1
          },
          "autotypenumbers": "strict",
          "coloraxis": {
           "colorbar": {
            "outlinewidth": 0,
            "ticks": ""
           }
          },
          "colorscale": {
           "diverging": [
            [
             0,
             "#8e0152"
            ],
            [
             0.1,
             "#c51b7d"
            ],
            [
             0.2,
             "#de77ae"
            ],
            [
             0.3,
             "#f1b6da"
            ],
            [
             0.4,
             "#fde0ef"
            ],
            [
             0.5,
             "#f7f7f7"
            ],
            [
             0.6,
             "#e6f5d0"
            ],
            [
             0.7,
             "#b8e186"
            ],
            [
             0.8,
             "#7fbc41"
            ],
            [
             0.9,
             "#4d9221"
            ],
            [
             1,
             "#276419"
            ]
           ],
           "sequential": [
            [
             0,
             "#0d0887"
            ],
            [
             0.1111111111111111,
             "#46039f"
            ],
            [
             0.2222222222222222,
             "#7201a8"
            ],
            [
             0.3333333333333333,
             "#9c179e"
            ],
            [
             0.4444444444444444,
             "#bd3786"
            ],
            [
             0.5555555555555556,
             "#d8576b"
            ],
            [
             0.6666666666666666,
             "#ed7953"
            ],
            [
             0.7777777777777778,
             "#fb9f3a"
            ],
            [
             0.8888888888888888,
             "#fdca26"
            ],
            [
             1,
             "#f0f921"
            ]
           ],
           "sequentialminus": [
            [
             0,
             "#0d0887"
            ],
            [
             0.1111111111111111,
             "#46039f"
            ],
            [
             0.2222222222222222,
             "#7201a8"
            ],
            [
             0.3333333333333333,
             "#9c179e"
            ],
            [
             0.4444444444444444,
             "#bd3786"
            ],
            [
             0.5555555555555556,
             "#d8576b"
            ],
            [
             0.6666666666666666,
             "#ed7953"
            ],
            [
             0.7777777777777778,
             "#fb9f3a"
            ],
            [
             0.8888888888888888,
             "#fdca26"
            ],
            [
             1,
             "#f0f921"
            ]
           ]
          },
          "colorway": [
           "#636efa",
           "#EF553B",
           "#00cc96",
           "#ab63fa",
           "#FFA15A",
           "#19d3f3",
           "#FF6692",
           "#B6E880",
           "#FF97FF",
           "#FECB52"
          ],
          "font": {
           "color": "#2a3f5f"
          },
          "geo": {
           "bgcolor": "white",
           "lakecolor": "white",
           "landcolor": "#E5ECF6",
           "showlakes": true,
           "showland": true,
           "subunitcolor": "white"
          },
          "hoverlabel": {
           "align": "left"
          },
          "hovermode": "closest",
          "mapbox": {
           "style": "light"
          },
          "paper_bgcolor": "white",
          "plot_bgcolor": "#E5ECF6",
          "polar": {
           "angularaxis": {
            "gridcolor": "white",
            "linecolor": "white",
            "ticks": ""
           },
           "bgcolor": "#E5ECF6",
           "radialaxis": {
            "gridcolor": "white",
            "linecolor": "white",
            "ticks": ""
           }
          },
          "scene": {
           "xaxis": {
            "backgroundcolor": "#E5ECF6",
            "gridcolor": "white",
            "gridwidth": 2,
            "linecolor": "white",
            "showbackground": true,
            "ticks": "",
            "zerolinecolor": "white"
           },
           "yaxis": {
            "backgroundcolor": "#E5ECF6",
            "gridcolor": "white",
            "gridwidth": 2,
            "linecolor": "white",
            "showbackground": true,
            "ticks": "",
            "zerolinecolor": "white"
           },
           "zaxis": {
            "backgroundcolor": "#E5ECF6",
            "gridcolor": "white",
            "gridwidth": 2,
            "linecolor": "white",
            "showbackground": true,
            "ticks": "",
            "zerolinecolor": "white"
           }
          },
          "shapedefaults": {
           "line": {
            "color": "#2a3f5f"
           }
          },
          "ternary": {
           "aaxis": {
            "gridcolor": "white",
            "linecolor": "white",
            "ticks": ""
           },
           "baxis": {
            "gridcolor": "white",
            "linecolor": "white",
            "ticks": ""
           },
           "bgcolor": "#E5ECF6",
           "caxis": {
            "gridcolor": "white",
            "linecolor": "white",
            "ticks": ""
           }
          },
          "title": {
           "x": 0.05
          },
          "xaxis": {
           "automargin": true,
           "gridcolor": "white",
           "linecolor": "white",
           "ticks": "",
           "title": {
            "standoff": 15
           },
           "zerolinecolor": "white",
           "zerolinewidth": 2
          },
          "yaxis": {
           "automargin": true,
           "gridcolor": "white",
           "linecolor": "white",
           "ticks": "",
           "title": {
            "standoff": 15
           },
           "zerolinecolor": "white",
           "zerolinewidth": 2
          }
         }
        },
        "title": {
         "text": "Application Dataflow"
        },
        "width": 800,
        "xaxis": {
         "anchor": "y",
         "domain": [
          0,
          1
         ],
         "title": {
          "text": "time in s"
         }
        },
        "yaxis": {
         "anchor": "x",
         "domain": [
          0,
          1
         ],
         "title": {
          "text": "dataflow in MB/s"
         }
        }
       }
      },
      "text/html": [
       "<div>                            <div id=\"f3079fae-eca5-42a1-bc59-b5f573a89db7\" class=\"plotly-graph-div\" style=\"height:600px; width:800px;\"></div>            <script type=\"text/javascript\">                require([\"plotly\"], function(Plotly) {                    window.PLOTLYENV=window.PLOTLYENV || {};                                    if (document.getElementById(\"f3079fae-eca5-42a1-bc59-b5f573a89db7\")) {                    Plotly.newPlot(                        \"f3079fae-eca5-42a1-bc59-b5f573a89db7\",                        [{\"line\":{\"shape\":\"linear\"},\"name\":\"app#PerfTier#3918#read\",\"text\":[\"COMPUTE|volume=0B\",\"COMPUTE|volume=0B\",\"READ|on:tier2|volume=1.73 GB\",\"READ|on:tier2|volume=1.73 GB\",\"COMPUTE|volume=0B\",\"COMPUTE|volume=0B\",\"READ|on:tier2|volume=1.59 GB\",\"READ|on:tier2|volume=1.59 GB\",\"WRITE|on:tier2|volume=1.59 GB\",\"WRITE|on:tier2|volume=1.59 GB\",\"WRITE|on:tier2|volume=450.01 MB\",\"WRITE|on:tier2|volume=450.01 MB\",\"COMPUTE|volume=0B\",\"COMPUTE|volume=0B\",\"READ|on:tier2|volume=3.17 GB\",\"READ|on:tier2|volume=3.17 GB\",\"WRITE|on:tier2|volume=3.17 GB\",\"WRITE|on:tier2|volume=3.17 GB\",\"WRITE|on:tier2|volume=970.03 MB\",\"WRITE|on:tier2|volume=970.03 MB\",\"COMPUTE|volume=0B\",\"COMPUTE|volume=0B\",\"READ|on:tier2|volume=3.02 MB\",\"READ|on:tier2|volume=3.02 MB\",\"WRITE|on:tier2|volume=3.02 MB\",\"WRITE|on:tier2|volume=3.02 MB\",\"WRITE|on:tier2|volume=5.33 GB\",\"WRITE|on:tier2|volume=5.33 GB\",\"WRITE|on:tier2|volume=953.67 EB\",\"WRITE|on:tier2|volume=953.67 EB\",\"COMPUTE|volume=0B\",\"COMPUTE|volume=0B\",\"READ|on:tier2|volume=7.05 MB\",\"READ|on:tier2|volume=7.05 MB\",\"WRITE|on:tier2|volume=7.05 MB\",\"WRITE|on:tier2|volume=7.05 MB\",\"WRITE|on:tier2|volume=5.3 GB\",\"WRITE|on:tier2|volume=5.3 GB\",\"COMPUTE|volume=0B\",\"COMPUTE|volume=0B\",\"READ|on:tier2|volume=2.52 MB\",\"READ|on:tier2|volume=2.52 MB\",\"WRITE|on:tier2|volume=2.52 MB\",\"WRITE|on:tier2|volume=2.52 MB\",\"WRITE|on:tier2|volume=5.33 GB\",\"WRITE|on:tier2|volume=5.33 GB\",\"COMPUTE|volume=0B\",\"COMPUTE|volume=0B\"],\"textposition\":\"top center\",\"x\":[0.0,1.0117230330689355,2.023446066137871,3.0351690992068066,4.046892132275742,5.058615165344678,6.070338198413613,7.082061231482548,8.093784264551484,9.10550729762042,10.117230330689356,11.12895336375829,12.140676396827226,13.152399429896162,14.164122462965096,15.175845496034032,16.18756852910297,17.199291562171904,18.21101459524084,19.222737628309776,20.234460661378712,21.246183694447645,22.25790672751658,23.269629760585516,24.281352793654452,25.29307582672339,26.304798859792324,27.31652189286126,28.328244925930193,29.33996795899913,30.351690992068065,31.363414025137,32.37513705820594,33.38686009127487,34.39858312434381,35.41030615741274,36.42202919048168,37.43375222355061,38.44547525661955,39.457198289688485,40.468921322757424,41.48064435582636,42.49236738889529,43.50409042196423,44.51581345503316,45.5275364881021,46.53925952117103,47.55098255423997,48.562705587308905,49.57442862037784,50.58615165344678,51.59787468651571,52.60959771958465,53.62132075265358,54.63304378572252,55.64476681879145,56.656489851860385,57.668212884929325,58.67993591799826,59.6916589510672,60.70338198413613,61.71510501720507,62.726828050274,63.73855108334294,64.75027411641187,65.7619971494808,66.77372018254974,67.78544321561868,68.79716624868762,69.80888928175655,70.82061231482548,71.83233534789443,72.84405838096336,73.8557814140323,74.86750444710123,75.87922748017016,76.8909505132391,77.90267354630804,78.91439657937697,79.9261196124459,80.93784264551485,81.94956567858378,82.96128871165271,83.97301174472165,84.98473477779058,85.99645781085952],\"y\":[0.0,2710.9446178043813,0.0,0.0,0.0,0.0,0.0,0.0,0.0,1161.6377796723486,0.0,0.0,0.0,0.0,0.0,1357.8435645938305,1357.8435645938305,0.0,0.0,0.0,0.0,0.0,0.0,0.0,0.0,0.0,0.0,0.0,0.0,0.0,0.0,0.0,0.0,0.0,0.0,0.0,0.0,0.0,0.0,0.0,0.0,0.0,0.0,0.0,0.0,0.0,0.0,0.0,0.0,0.0,0.0,0.0,0.0,0.0,0.0,0.0,0.0,0.0,0.0,0.0,0.0,0.0,0.0,0.0,0.0,0.0,0.0,0.0,0.0,0.0,0.0,0.0,0.0,0.0,0.0,0.0,0.0,0.0,0.0,0.0,0.0,0.0,0.0,0.0,0.0,0.0],\"type\":\"scatter\",\"xaxis\":\"x\",\"yaxis\":\"y\"},{\"line\":{\"shape\":\"linear\"},\"name\":\"app#PerfTier#3918#write\",\"text\":[\"COMPUTE|volume=0B\",\"COMPUTE|volume=0B\",\"READ|on:tier2|volume=1.73 GB\",\"READ|on:tier2|volume=1.73 GB\",\"COMPUTE|volume=0B\",\"COMPUTE|volume=0B\",\"READ|on:tier2|volume=1.59 GB\",\"READ|on:tier2|volume=1.59 GB\",\"WRITE|on:tier2|volume=1.59 GB\",\"WRITE|on:tier2|volume=1.59 GB\",\"WRITE|on:tier2|volume=450.01 MB\",\"WRITE|on:tier2|volume=450.01 MB\",\"COMPUTE|volume=0B\",\"COMPUTE|volume=0B\",\"READ|on:tier2|volume=3.17 GB\",\"READ|on:tier2|volume=3.17 GB\",\"WRITE|on:tier2|volume=3.17 GB\",\"WRITE|on:tier2|volume=3.17 GB\",\"WRITE|on:tier2|volume=970.03 MB\",\"WRITE|on:tier2|volume=970.03 MB\",\"COMPUTE|volume=0B\",\"COMPUTE|volume=0B\",\"READ|on:tier2|volume=3.02 MB\",\"READ|on:tier2|volume=3.02 MB\",\"WRITE|on:tier2|volume=3.02 MB\",\"WRITE|on:tier2|volume=3.02 MB\",\"WRITE|on:tier2|volume=5.33 GB\",\"WRITE|on:tier2|volume=5.33 GB\",\"WRITE|on:tier2|volume=953.67 EB\",\"WRITE|on:tier2|volume=953.67 EB\",\"COMPUTE|volume=0B\",\"COMPUTE|volume=0B\",\"READ|on:tier2|volume=7.05 MB\",\"READ|on:tier2|volume=7.05 MB\",\"WRITE|on:tier2|volume=7.05 MB\",\"WRITE|on:tier2|volume=7.05 MB\",\"WRITE|on:tier2|volume=5.3 GB\",\"WRITE|on:tier2|volume=5.3 GB\",\"COMPUTE|volume=0B\",\"COMPUTE|volume=0B\",\"READ|on:tier2|volume=2.52 MB\",\"READ|on:tier2|volume=2.52 MB\",\"WRITE|on:tier2|volume=2.52 MB\",\"WRITE|on:tier2|volume=2.52 MB\",\"WRITE|on:tier2|volume=5.33 GB\",\"WRITE|on:tier2|volume=5.33 GB\",\"COMPUTE|volume=0B\",\"COMPUTE|volume=0B\"],\"textposition\":\"top center\",\"x\":[0.0,1.0117230330689355,2.023446066137871,3.0351690992068066,4.046892132275742,5.058615165344678,6.070338198413613,7.082061231482548,8.093784264551484,9.10550729762042,10.117230330689356,11.12895336375829,12.140676396827226,13.152399429896162,14.164122462965096,15.175845496034032,16.18756852910297,17.199291562171904,18.21101459524084,19.222737628309776,20.234460661378712,21.246183694447645,22.25790672751658,23.269629760585516,24.281352793654452,25.29307582672339,26.304798859792324,27.31652189286126,28.328244925930193,29.33996795899913,30.351690992068065,31.363414025137,32.37513705820594,33.38686009127487,34.39858312434381,35.41030615741274,36.42202919048168,37.43375222355061,38.44547525661955,39.457198289688485,40.468921322757424,41.48064435582636,42.49236738889529,43.50409042196423,44.51581345503316,45.5275364881021,46.53925952117103,47.55098255423997,48.562705587308905,49.57442862037784,50.58615165344678,51.59787468651571,52.60959771958465,53.62132075265358,54.63304378572252,55.64476681879145,56.656489851860385,57.668212884929325,58.67993591799826,59.6916589510672,60.70338198413613,61.71510501720507,62.726828050274,63.73855108334294,64.75027411641187,65.7619971494808,66.77372018254974,67.78544321561868,68.79716624868762,69.80888928175655,70.82061231482548,71.83233534789443,72.84405838096336,73.8557814140323,74.86750444710123,75.87922748017016,76.8909505132391,77.90267354630804,78.91439657937697,79.9261196124459,80.93784264551485,81.94956567858378,82.96128871165271,83.97301174472165,84.98473477779058,85.99645781085952],\"y\":[0.0,0.0,0.0,0.0,0.0,0.0,0.0,0.0,0.0,1161.6377796723486,1161.6377796723486,0.0,0.0,0.0,0.0,1357.8435645938305,1357.8435645938305,1357.8435645938305,0.0,0.0,0.0,0.0,0.0,0.0,0.0,0.0,0.0,0.0,0.0,0.0,0.0,0.0,0.0,0.0,0.0,0.0,0.0,0.0,0.0,0.0,0.0,0.0,0.0,0.0,0.0,0.0,0.0,0.0,0.0,650.8438449520007,650.8438449520007,650.8438449520007,650.8438449520007,650.8438449520007,650.8438449520007,650.8438449520007,650.8438449520007,0.0,0.0,0.0,0.0,0.0,0.0,649.9844362341689,649.9844362341689,649.9844362341689,649.9844362341689,649.9844362341689,649.9844362341689,649.9844362341689,649.9844362341689,0.0,0.0,0.0,0.0,650.90523165387,650.90523165387,650.90523165387,650.90523165387,650.90523165387,650.90523165387,650.90523165387,650.90523165387,650.90523165387,0.0,0.0],\"type\":\"scatter\",\"xaxis\":\"x\",\"yaxis\":\"y\"},{\"line\":{\"dash\":\"dot\",\"shape\":\"linear\"},\"name\":\"PerfTier#3918 mvt\",\"text\":[],\"textposition\":\"top center\",\"x\":[],\"y\":[],\"type\":\"scatter\",\"xaxis\":\"x\",\"yaxis\":\"y\"}],                        {\"template\":{\"data\":{\"histogram2dcontour\":[{\"type\":\"histogram2dcontour\",\"colorbar\":{\"outlinewidth\":0,\"ticks\":\"\"},\"colorscale\":[[0.0,\"#0d0887\"],[0.1111111111111111,\"#46039f\"],[0.2222222222222222,\"#7201a8\"],[0.3333333333333333,\"#9c179e\"],[0.4444444444444444,\"#bd3786\"],[0.5555555555555556,\"#d8576b\"],[0.6666666666666666,\"#ed7953\"],[0.7777777777777778,\"#fb9f3a\"],[0.8888888888888888,\"#fdca26\"],[1.0,\"#f0f921\"]]}],\"choropleth\":[{\"type\":\"choropleth\",\"colorbar\":{\"outlinewidth\":0,\"ticks\":\"\"}}],\"histogram2d\":[{\"type\":\"histogram2d\",\"colorbar\":{\"outlinewidth\":0,\"ticks\":\"\"},\"colorscale\":[[0.0,\"#0d0887\"],[0.1111111111111111,\"#46039f\"],[0.2222222222222222,\"#7201a8\"],[0.3333333333333333,\"#9c179e\"],[0.4444444444444444,\"#bd3786\"],[0.5555555555555556,\"#d8576b\"],[0.6666666666666666,\"#ed7953\"],[0.7777777777777778,\"#fb9f3a\"],[0.8888888888888888,\"#fdca26\"],[1.0,\"#f0f921\"]]}],\"heatmap\":[{\"type\":\"heatmap\",\"colorbar\":{\"outlinewidth\":0,\"ticks\":\"\"},\"colorscale\":[[0.0,\"#0d0887\"],[0.1111111111111111,\"#46039f\"],[0.2222222222222222,\"#7201a8\"],[0.3333333333333333,\"#9c179e\"],[0.4444444444444444,\"#bd3786\"],[0.5555555555555556,\"#d8576b\"],[0.6666666666666666,\"#ed7953\"],[0.7777777777777778,\"#fb9f3a\"],[0.8888888888888888,\"#fdca26\"],[1.0,\"#f0f921\"]]}],\"heatmapgl\":[{\"type\":\"heatmapgl\",\"colorbar\":{\"outlinewidth\":0,\"ticks\":\"\"},\"colorscale\":[[0.0,\"#0d0887\"],[0.1111111111111111,\"#46039f\"],[0.2222222222222222,\"#7201a8\"],[0.3333333333333333,\"#9c179e\"],[0.4444444444444444,\"#bd3786\"],[0.5555555555555556,\"#d8576b\"],[0.6666666666666666,\"#ed7953\"],[0.7777777777777778,\"#fb9f3a\"],[0.8888888888888888,\"#fdca26\"],[1.0,\"#f0f921\"]]}],\"contourcarpet\":[{\"type\":\"contourcarpet\",\"colorbar\":{\"outlinewidth\":0,\"ticks\":\"\"}}],\"contour\":[{\"type\":\"contour\",\"colorbar\":{\"outlinewidth\":0,\"ticks\":\"\"},\"colorscale\":[[0.0,\"#0d0887\"],[0.1111111111111111,\"#46039f\"],[0.2222222222222222,\"#7201a8\"],[0.3333333333333333,\"#9c179e\"],[0.4444444444444444,\"#bd3786\"],[0.5555555555555556,\"#d8576b\"],[0.6666666666666666,\"#ed7953\"],[0.7777777777777778,\"#fb9f3a\"],[0.8888888888888888,\"#fdca26\"],[1.0,\"#f0f921\"]]}],\"surface\":[{\"type\":\"surface\",\"colorbar\":{\"outlinewidth\":0,\"ticks\":\"\"},\"colorscale\":[[0.0,\"#0d0887\"],[0.1111111111111111,\"#46039f\"],[0.2222222222222222,\"#7201a8\"],[0.3333333333333333,\"#9c179e\"],[0.4444444444444444,\"#bd3786\"],[0.5555555555555556,\"#d8576b\"],[0.6666666666666666,\"#ed7953\"],[0.7777777777777778,\"#fb9f3a\"],[0.8888888888888888,\"#fdca26\"],[1.0,\"#f0f921\"]]}],\"mesh3d\":[{\"type\":\"mesh3d\",\"colorbar\":{\"outlinewidth\":0,\"ticks\":\"\"}}],\"scatter\":[{\"fillpattern\":{\"fillmode\":\"overlay\",\"size\":10,\"solidity\":0.2},\"type\":\"scatter\"}],\"parcoords\":[{\"type\":\"parcoords\",\"line\":{\"colorbar\":{\"outlinewidth\":0,\"ticks\":\"\"}}}],\"scatterpolargl\":[{\"type\":\"scatterpolargl\",\"marker\":{\"colorbar\":{\"outlinewidth\":0,\"ticks\":\"\"}}}],\"bar\":[{\"error_x\":{\"color\":\"#2a3f5f\"},\"error_y\":{\"color\":\"#2a3f5f\"},\"marker\":{\"line\":{\"color\":\"#E5ECF6\",\"width\":0.5},\"pattern\":{\"fillmode\":\"overlay\",\"size\":10,\"solidity\":0.2}},\"type\":\"bar\"}],\"scattergeo\":[{\"type\":\"scattergeo\",\"marker\":{\"colorbar\":{\"outlinewidth\":0,\"ticks\":\"\"}}}],\"scatterpolar\":[{\"type\":\"scatterpolar\",\"marker\":{\"colorbar\":{\"outlinewidth\":0,\"ticks\":\"\"}}}],\"histogram\":[{\"marker\":{\"pattern\":{\"fillmode\":\"overlay\",\"size\":10,\"solidity\":0.2}},\"type\":\"histogram\"}],\"scattergl\":[{\"type\":\"scattergl\",\"marker\":{\"colorbar\":{\"outlinewidth\":0,\"ticks\":\"\"}}}],\"scatter3d\":[{\"type\":\"scatter3d\",\"line\":{\"colorbar\":{\"outlinewidth\":0,\"ticks\":\"\"}},\"marker\":{\"colorbar\":{\"outlinewidth\":0,\"ticks\":\"\"}}}],\"scattermapbox\":[{\"type\":\"scattermapbox\",\"marker\":{\"colorbar\":{\"outlinewidth\":0,\"ticks\":\"\"}}}],\"scatterternary\":[{\"type\":\"scatterternary\",\"marker\":{\"colorbar\":{\"outlinewidth\":0,\"ticks\":\"\"}}}],\"scattercarpet\":[{\"type\":\"scattercarpet\",\"marker\":{\"colorbar\":{\"outlinewidth\":0,\"ticks\":\"\"}}}],\"carpet\":[{\"aaxis\":{\"endlinecolor\":\"#2a3f5f\",\"gridcolor\":\"white\",\"linecolor\":\"white\",\"minorgridcolor\":\"white\",\"startlinecolor\":\"#2a3f5f\"},\"baxis\":{\"endlinecolor\":\"#2a3f5f\",\"gridcolor\":\"white\",\"linecolor\":\"white\",\"minorgridcolor\":\"white\",\"startlinecolor\":\"#2a3f5f\"},\"type\":\"carpet\"}],\"table\":[{\"cells\":{\"fill\":{\"color\":\"#EBF0F8\"},\"line\":{\"color\":\"white\"}},\"header\":{\"fill\":{\"color\":\"#C8D4E3\"},\"line\":{\"color\":\"white\"}},\"type\":\"table\"}],\"barpolar\":[{\"marker\":{\"line\":{\"color\":\"#E5ECF6\",\"width\":0.5},\"pattern\":{\"fillmode\":\"overlay\",\"size\":10,\"solidity\":0.2}},\"type\":\"barpolar\"}],\"pie\":[{\"automargin\":true,\"type\":\"pie\"}]},\"layout\":{\"autotypenumbers\":\"strict\",\"colorway\":[\"#636efa\",\"#EF553B\",\"#00cc96\",\"#ab63fa\",\"#FFA15A\",\"#19d3f3\",\"#FF6692\",\"#B6E880\",\"#FF97FF\",\"#FECB52\"],\"font\":{\"color\":\"#2a3f5f\"},\"hovermode\":\"closest\",\"hoverlabel\":{\"align\":\"left\"},\"paper_bgcolor\":\"white\",\"plot_bgcolor\":\"#E5ECF6\",\"polar\":{\"bgcolor\":\"#E5ECF6\",\"angularaxis\":{\"gridcolor\":\"white\",\"linecolor\":\"white\",\"ticks\":\"\"},\"radialaxis\":{\"gridcolor\":\"white\",\"linecolor\":\"white\",\"ticks\":\"\"}},\"ternary\":{\"bgcolor\":\"#E5ECF6\",\"aaxis\":{\"gridcolor\":\"white\",\"linecolor\":\"white\",\"ticks\":\"\"},\"baxis\":{\"gridcolor\":\"white\",\"linecolor\":\"white\",\"ticks\":\"\"},\"caxis\":{\"gridcolor\":\"white\",\"linecolor\":\"white\",\"ticks\":\"\"}},\"coloraxis\":{\"colorbar\":{\"outlinewidth\":0,\"ticks\":\"\"}},\"colorscale\":{\"sequential\":[[0.0,\"#0d0887\"],[0.1111111111111111,\"#46039f\"],[0.2222222222222222,\"#7201a8\"],[0.3333333333333333,\"#9c179e\"],[0.4444444444444444,\"#bd3786\"],[0.5555555555555556,\"#d8576b\"],[0.6666666666666666,\"#ed7953\"],[0.7777777777777778,\"#fb9f3a\"],[0.8888888888888888,\"#fdca26\"],[1.0,\"#f0f921\"]],\"sequentialminus\":[[0.0,\"#0d0887\"],[0.1111111111111111,\"#46039f\"],[0.2222222222222222,\"#7201a8\"],[0.3333333333333333,\"#9c179e\"],[0.4444444444444444,\"#bd3786\"],[0.5555555555555556,\"#d8576b\"],[0.6666666666666666,\"#ed7953\"],[0.7777777777777778,\"#fb9f3a\"],[0.8888888888888888,\"#fdca26\"],[1.0,\"#f0f921\"]],\"diverging\":[[0,\"#8e0152\"],[0.1,\"#c51b7d\"],[0.2,\"#de77ae\"],[0.3,\"#f1b6da\"],[0.4,\"#fde0ef\"],[0.5,\"#f7f7f7\"],[0.6,\"#e6f5d0\"],[0.7,\"#b8e186\"],[0.8,\"#7fbc41\"],[0.9,\"#4d9221\"],[1,\"#276419\"]]},\"xaxis\":{\"gridcolor\":\"white\",\"linecolor\":\"white\",\"ticks\":\"\",\"title\":{\"standoff\":15},\"zerolinecolor\":\"white\",\"automargin\":true,\"zerolinewidth\":2},\"yaxis\":{\"gridcolor\":\"white\",\"linecolor\":\"white\",\"ticks\":\"\",\"title\":{\"standoff\":15},\"zerolinecolor\":\"white\",\"automargin\":true,\"zerolinewidth\":2},\"scene\":{\"xaxis\":{\"backgroundcolor\":\"#E5ECF6\",\"gridcolor\":\"white\",\"linecolor\":\"white\",\"showbackground\":true,\"ticks\":\"\",\"zerolinecolor\":\"white\",\"gridwidth\":2},\"yaxis\":{\"backgroundcolor\":\"#E5ECF6\",\"gridcolor\":\"white\",\"linecolor\":\"white\",\"showbackground\":true,\"ticks\":\"\",\"zerolinecolor\":\"white\",\"gridwidth\":2},\"zaxis\":{\"backgroundcolor\":\"#E5ECF6\",\"gridcolor\":\"white\",\"linecolor\":\"white\",\"showbackground\":true,\"ticks\":\"\",\"zerolinecolor\":\"white\",\"gridwidth\":2}},\"shapedefaults\":{\"line\":{\"color\":\"#2a3f5f\"}},\"annotationdefaults\":{\"arrowcolor\":\"#2a3f5f\",\"arrowhead\":0,\"arrowwidth\":1},\"geo\":{\"bgcolor\":\"white\",\"landcolor\":\"#E5ECF6\",\"subunitcolor\":\"white\",\"showland\":true,\"showlakes\":true,\"lakecolor\":\"white\"},\"title\":{\"x\":0.05},\"mapbox\":{\"style\":\"light\"}}},\"xaxis\":{\"anchor\":\"y\",\"domain\":[0.0,1.0],\"title\":{\"text\":\"time in s\"}},\"yaxis\":{\"anchor\":\"x\",\"domain\":[0.0,1.0],\"title\":{\"text\":\"dataflow in MB/s\"}},\"annotations\":[{\"font\":{\"size\":16},\"showarrow\":false,\"text\":\"app#PerfTier#3918\",\"x\":0.5,\"xanchor\":\"center\",\"xref\":\"paper\",\"y\":1.0,\"yanchor\":\"bottom\",\"yref\":\"paper\"}],\"title\":{\"text\":\"Application Dataflow\"},\"width\":800,\"height\":600},                        {\"responsive\": true}                    ).then(function(){\n",
       "                            \n",
       "var gd = document.getElementById('f3079fae-eca5-42a1-bc59-b5f573a89db7');\n",
       "var x = new MutationObserver(function (mutations, observer) {{\n",
       "        var display = window.getComputedStyle(gd).display;\n",
       "        if (!display || display === 'none') {{\n",
       "            console.log([gd, 'removed!']);\n",
       "            Plotly.purge(gd);\n",
       "            observer.disconnect();\n",
       "        }}\n",
       "}});\n",
       "\n",
       "// Listen for the removal of the full notebook cells\n",
       "var notebookContainer = gd.closest('#notebook-container');\n",
       "if (notebookContainer) {{\n",
       "    x.observe(notebookContainer, {childList: true});\n",
       "}}\n",
       "\n",
       "// Listen for the clearing of the current output cell\n",
       "var outputEl = gd.closest('.output');\n",
       "if (outputEl) {{\n",
       "    x.observe(outputEl, {childList: true});\n",
       "}}\n",
       "\n",
       "                        })                };                });            </script>        </div>"
      ]
     },
     "metadata": {},
     "output_type": "display_data"
    },
    {
     "name": "stdout",
     "output_type": "stream",
     "text": [
      "[0, 1, 8, 12, 44, 50, 54, 56]\n"
     ]
    },
    {
     "data": {
      "application/vnd.plotly.v1+json": {
       "config": {
        "plotlyServerURL": "https://plot.ly"
       },
       "data": [
        {
         "line": {
          "width": 1.5
         },
         "mode": "lines+markers",
         "name": "original bytesRead signal from IOI",
         "text": [
          "class=0",
          "class=1",
          "class=0",
          "class=0",
          "class=0",
          "class=0",
          "class=0",
          "class=1",
          "class=1",
          "class=0",
          "class=0",
          "class=0",
          "class=1",
          "class=1",
          "class=0",
          "class=0",
          "class=0",
          "class=0",
          "class=0",
          "class=0",
          "class=0",
          "class=0",
          "class=0",
          "class=0",
          "class=0",
          "class=0",
          "class=0",
          "class=0",
          "class=0",
          "class=0",
          "class=0",
          "class=0",
          "class=0",
          "class=0",
          "class=0",
          "class=0",
          "class=0",
          "class=0",
          "class=0",
          "class=0",
          "class=0",
          "class=0",
          "class=0",
          "class=0",
          "class=0",
          "class=0",
          "class=0",
          "class=0",
          "class=0",
          "class=0",
          "class=0",
          "class=0",
          "class=0",
          "class=0",
          "class=0",
          "class=0",
          "class=0",
          "class=0",
          "class=0",
          "class=0",
          "class=0",
          "class=0",
          "class=0",
          "class=0",
          "class=0",
          "class=0",
          "class=0",
          "class=0",
          "class=0",
          "class=0"
         ],
         "type": "scatter",
         "x": [
          0,
          1,
          2,
          3,
          4,
          5,
          6,
          7,
          8,
          9,
          10,
          11,
          12,
          13,
          14,
          15,
          16,
          17,
          18,
          19,
          20,
          21,
          22,
          23,
          24,
          25,
          26,
          27,
          28,
          29,
          30,
          31,
          32,
          33,
          34,
          35,
          36,
          37,
          38,
          39,
          40,
          41,
          42,
          43,
          44,
          45,
          46,
          47,
          48,
          49,
          50,
          51,
          52,
          53,
          54,
          55,
          56,
          57,
          58,
          59,
          60,
          61,
          62,
          63,
          64,
          65,
          66,
          67,
          68,
          69
         ],
         "y": [
          0,
          2710.9446178043813,
          0,
          0,
          0,
          0,
          0,
          1161.6377796723486,
          1161.6377796723486,
          0,
          0,
          0,
          1357.8435645938305,
          1357.8435645938305,
          0,
          0,
          0,
          0,
          0,
          0,
          0,
          0,
          0,
          0,
          0,
          0,
          0,
          0,
          0,
          0,
          0,
          0,
          0,
          0,
          0,
          0,
          0,
          0,
          0,
          0,
          0,
          0,
          0,
          0,
          0,
          0,
          0,
          0,
          0,
          0,
          0,
          0,
          0,
          0,
          0,
          0,
          0,
          0,
          0,
          0,
          0,
          0,
          0,
          0,
          0,
          0,
          0,
          0,
          0,
          0
         ]
        },
        {
         "line": {
          "width": 1.5
         },
         "mode": "lines+markers",
         "name": "original bytesWritten signal from IOI",
         "text": [
          "class=0",
          "class=0",
          "class=0",
          "class=0",
          "class=0",
          "class=0",
          "class=0",
          "class=1",
          "class=1",
          "class=0",
          "class=0",
          "class=0",
          "class=1",
          "class=1",
          "class=0",
          "class=0",
          "class=0",
          "class=0",
          "class=0",
          "class=0",
          "class=0",
          "class=0",
          "class=0",
          "class=0",
          "class=0",
          "class=0",
          "class=0",
          "class=0",
          "class=0",
          "class=0",
          "class=0",
          "class=0",
          "class=0",
          "class=0",
          "class=0",
          "class=0",
          "class=0",
          "class=0",
          "class=0",
          "class=0",
          "class=1",
          "class=1",
          "class=1",
          "class=1",
          "class=1",
          "class=1",
          "class=1",
          "class=0",
          "class=0",
          "class=0",
          "class=0",
          "class=0",
          "class=1",
          "class=1",
          "class=1",
          "class=1",
          "class=1",
          "class=1",
          "class=0",
          "class=0",
          "class=0",
          "class=1",
          "class=1",
          "class=1",
          "class=1",
          "class=1",
          "class=1",
          "class=1",
          "class=0",
          "class=0"
         ],
         "type": "scatter",
         "x": [
          0,
          1,
          2,
          3,
          4,
          5,
          6,
          7,
          8,
          9,
          10,
          11,
          12,
          13,
          14,
          15,
          16,
          17,
          18,
          19,
          20,
          21,
          22,
          23,
          24,
          25,
          26,
          27,
          28,
          29,
          30,
          31,
          32,
          33,
          34,
          35,
          36,
          37,
          38,
          39,
          40,
          41,
          42,
          43,
          44,
          45,
          46,
          47,
          48,
          49,
          50,
          51,
          52,
          53,
          54,
          55,
          56,
          57,
          58,
          59,
          60,
          61,
          62,
          63,
          64,
          65,
          66,
          67,
          68,
          69
         ],
         "y": [
          0,
          0,
          0,
          0,
          0,
          0,
          0,
          1161.6377796723486,
          1161.6377796723486,
          0,
          0,
          0,
          1357.8435645938305,
          1357.8435645938305,
          0,
          0,
          0,
          0,
          0,
          0,
          0,
          0,
          0,
          0,
          0,
          0,
          0,
          0,
          0,
          0,
          0,
          0,
          0,
          0,
          0,
          0,
          0,
          0,
          0,
          0,
          650.8438449520007,
          650.8438449520007,
          650.8438449520007,
          650.8438449520007,
          650.8438449520007,
          650.8438449520007,
          650.8438449520007,
          0,
          0,
          0,
          0,
          0,
          649.9844362341689,
          649.9844362341689,
          649.9844362341689,
          649.9844362341689,
          649.9844362341689,
          649.9844362341689,
          0,
          0,
          0,
          650.90523165387,
          650.90523165387,
          650.90523165387,
          650.90523165387,
          650.90523165387,
          650.90523165387,
          650.90523165387,
          0,
          0
         ]
        },
        {
         "line": {
          "width": 2
         },
         "mode": "lines",
         "name": "read signal slices with constant bw",
         "type": "scatter",
         "x": [
          0,
          1,
          2,
          3,
          4,
          5,
          6,
          7,
          8,
          9,
          10,
          11,
          12,
          13,
          14,
          15,
          16,
          17,
          18,
          19,
          20,
          21,
          22,
          23,
          24,
          25,
          26,
          27,
          28,
          29,
          30,
          31,
          32,
          33,
          34,
          35,
          36,
          37,
          38,
          39,
          40,
          41,
          42,
          43,
          44,
          45,
          46,
          47,
          48,
          49,
          50,
          51,
          52,
          53,
          54,
          55,
          56,
          57,
          58,
          59,
          60,
          61,
          62,
          63,
          64,
          65,
          66,
          67,
          68,
          69
         ],
         "y": [
          -1.7841273198865795e-12,
          2710.944617804382,
          -4.547473508864641e-12,
          -4.547473508864641e-12,
          -4.547473508864641e-12,
          -4.547473508864641e-12,
          -4.547473508864641e-12,
          1161.6377796723455,
          1161.6377796723455,
          -4.092726157978177e-12,
          -4.092726157978177e-12,
          -4.092726157978177e-12,
          1357.843564593822,
          1357.843564593822,
          -3.183231456205249e-12,
          -3.183231456205249e-12,
          -3.183231456205249e-12,
          -3.183231456205249e-12,
          -3.183231456205249e-12,
          -3.183231456205249e-12,
          -3.183231456205249e-12,
          -3.183231456205249e-12,
          -3.183231456205249e-12,
          -3.183231456205249e-12,
          -3.183231456205249e-12,
          -3.183231456205249e-12,
          -3.183231456205249e-12,
          -3.183231456205249e-12,
          -3.183231456205249e-12,
          -3.183231456205249e-12,
          -3.183231456205249e-12,
          -3.183231456205249e-12,
          -3.183231456205249e-12,
          -3.183231456205249e-12,
          -3.183231456205249e-12,
          -3.183231456205249e-12,
          -3.183231456205249e-12,
          -3.183231456205249e-12,
          -3.183231456205249e-12,
          -3.183231456205249e-12,
          -3.183231456205249e-12,
          -3.183231456205249e-12,
          -3.183231456205249e-12,
          -3.183231456205249e-12,
          -3.183231456205249e-12,
          -3.183231456205249e-12,
          -3.183231456205249e-12,
          -3.183231456205249e-12,
          -3.183231456205249e-12,
          -3.183231456205249e-12,
          -3.183231456205249e-12,
          -3.183231456205249e-12,
          -3.183231456205249e-12,
          -3.183231456205249e-12,
          -3.183231456205249e-12,
          -3.183231456205249e-12,
          -3.183231456205249e-12,
          -3.183231456205249e-12,
          -3.183231456205249e-12,
          -3.183231456205249e-12,
          -3.183231456205249e-12,
          -3.183231456205249e-12,
          -3.183231456205249e-12,
          -3.183231456205249e-12,
          -3.183231456205249e-12,
          -3.183231456205249e-12,
          -3.183231456205249e-12,
          -3.183231456205249e-12,
          -3.183231456205249e-12,
          -3.183231456205249e-12
         ]
        },
        {
         "line": {
          "width": 2
         },
         "mode": "lines",
         "name": "write signal slices with constant bw",
         "type": "scatter",
         "x": [
          0,
          1,
          2,
          3,
          4,
          5,
          6,
          7,
          8,
          9,
          10,
          11,
          12,
          13,
          14,
          15,
          16,
          17,
          18,
          19,
          20,
          21,
          22,
          23,
          24,
          25,
          26,
          27,
          28,
          29,
          30,
          31,
          32,
          33,
          34,
          35,
          36,
          37,
          38,
          39,
          40,
          41,
          42,
          43,
          44,
          45,
          46,
          47,
          48,
          49,
          50,
          51,
          52,
          53,
          54,
          55,
          56,
          57,
          58,
          59,
          60,
          61,
          62,
          63,
          64,
          65,
          66,
          67,
          68,
          69
         ],
         "y": [
          -6.05846159209313e-13,
          -6.05846159209313e-13,
          -6.05846159209313e-13,
          -6.05846159209313e-13,
          -6.05846159209313e-13,
          -6.05846159209313e-13,
          -6.05846159209313e-13,
          1161.6377796723507,
          1161.6377796723507,
          1.3642420526593924e-12,
          1.3642420526593924e-12,
          1.3642420526593924e-12,
          1357.8435645938287,
          1357.8435645938287,
          1.1368683772161603e-12,
          1.1368683772161603e-12,
          1.1368683772161603e-12,
          1.1368683772161603e-12,
          1.1368683772161603e-12,
          1.1368683772161603e-12,
          1.1368683772161603e-12,
          1.1368683772161603e-12,
          1.1368683772161603e-12,
          1.1368683772161603e-12,
          1.1368683772161603e-12,
          1.1368683772161603e-12,
          1.1368683772161603e-12,
          1.1368683772161603e-12,
          1.1368683772161603e-12,
          1.1368683772161603e-12,
          1.1368683772161603e-12,
          1.1368683772161603e-12,
          1.1368683772161603e-12,
          1.1368683772161603e-12,
          1.1368683772161603e-12,
          1.1368683772161603e-12,
          1.1368683772161603e-12,
          1.1368683772161603e-12,
          1.1368683772161603e-12,
          1.1368683772161603e-12,
          650.843844952003,
          650.843844952003,
          650.843844952003,
          650.843844952003,
          650.843844952003,
          650.843844952003,
          650.843844952003,
          1.9326762412674725e-12,
          1.9326762412674725e-12,
          1.9326762412674725e-12,
          1.9326762412674725e-12,
          1.9326762412674725e-12,
          649.9844362341713,
          649.9844362341713,
          649.9844362341713,
          649.9844362341713,
          649.9844362341713,
          649.9844362341713,
          2.3874235921539366e-12,
          2.3874235921539366e-12,
          2.3874235921539366e-12,
          650.9052316538725,
          650.9052316538725,
          650.9052316538725,
          650.9052316538725,
          650.9052316538725,
          650.9052316538725,
          650.9052316538725,
          2.5011104298755527e-12,
          2.5011104298755527e-12
         ]
        }
       ],
       "layout": {
        "height": 400,
        "legend": {
         "orientation": "h",
         "title": {
          "text": "Signals"
         },
         "yanchor": "top"
        },
        "template": {
         "data": {
          "bar": [
           {
            "error_x": {
             "color": "#2a3f5f"
            },
            "error_y": {
             "color": "#2a3f5f"
            },
            "marker": {
             "line": {
              "color": "#E5ECF6",
              "width": 0.5
             },
             "pattern": {
              "fillmode": "overlay",
              "size": 10,
              "solidity": 0.2
             }
            },
            "type": "bar"
           }
          ],
          "barpolar": [
           {
            "marker": {
             "line": {
              "color": "#E5ECF6",
              "width": 0.5
             },
             "pattern": {
              "fillmode": "overlay",
              "size": 10,
              "solidity": 0.2
             }
            },
            "type": "barpolar"
           }
          ],
          "carpet": [
           {
            "aaxis": {
             "endlinecolor": "#2a3f5f",
             "gridcolor": "white",
             "linecolor": "white",
             "minorgridcolor": "white",
             "startlinecolor": "#2a3f5f"
            },
            "baxis": {
             "endlinecolor": "#2a3f5f",
             "gridcolor": "white",
             "linecolor": "white",
             "minorgridcolor": "white",
             "startlinecolor": "#2a3f5f"
            },
            "type": "carpet"
           }
          ],
          "choropleth": [
           {
            "colorbar": {
             "outlinewidth": 0,
             "ticks": ""
            },
            "type": "choropleth"
           }
          ],
          "contour": [
           {
            "colorbar": {
             "outlinewidth": 0,
             "ticks": ""
            },
            "colorscale": [
             [
              0,
              "#0d0887"
             ],
             [
              0.1111111111111111,
              "#46039f"
             ],
             [
              0.2222222222222222,
              "#7201a8"
             ],
             [
              0.3333333333333333,
              "#9c179e"
             ],
             [
              0.4444444444444444,
              "#bd3786"
             ],
             [
              0.5555555555555556,
              "#d8576b"
             ],
             [
              0.6666666666666666,
              "#ed7953"
             ],
             [
              0.7777777777777778,
              "#fb9f3a"
             ],
             [
              0.8888888888888888,
              "#fdca26"
             ],
             [
              1,
              "#f0f921"
             ]
            ],
            "type": "contour"
           }
          ],
          "contourcarpet": [
           {
            "colorbar": {
             "outlinewidth": 0,
             "ticks": ""
            },
            "type": "contourcarpet"
           }
          ],
          "heatmap": [
           {
            "colorbar": {
             "outlinewidth": 0,
             "ticks": ""
            },
            "colorscale": [
             [
              0,
              "#0d0887"
             ],
             [
              0.1111111111111111,
              "#46039f"
             ],
             [
              0.2222222222222222,
              "#7201a8"
             ],
             [
              0.3333333333333333,
              "#9c179e"
             ],
             [
              0.4444444444444444,
              "#bd3786"
             ],
             [
              0.5555555555555556,
              "#d8576b"
             ],
             [
              0.6666666666666666,
              "#ed7953"
             ],
             [
              0.7777777777777778,
              "#fb9f3a"
             ],
             [
              0.8888888888888888,
              "#fdca26"
             ],
             [
              1,
              "#f0f921"
             ]
            ],
            "type": "heatmap"
           }
          ],
          "heatmapgl": [
           {
            "colorbar": {
             "outlinewidth": 0,
             "ticks": ""
            },
            "colorscale": [
             [
              0,
              "#0d0887"
             ],
             [
              0.1111111111111111,
              "#46039f"
             ],
             [
              0.2222222222222222,
              "#7201a8"
             ],
             [
              0.3333333333333333,
              "#9c179e"
             ],
             [
              0.4444444444444444,
              "#bd3786"
             ],
             [
              0.5555555555555556,
              "#d8576b"
             ],
             [
              0.6666666666666666,
              "#ed7953"
             ],
             [
              0.7777777777777778,
              "#fb9f3a"
             ],
             [
              0.8888888888888888,
              "#fdca26"
             ],
             [
              1,
              "#f0f921"
             ]
            ],
            "type": "heatmapgl"
           }
          ],
          "histogram": [
           {
            "marker": {
             "pattern": {
              "fillmode": "overlay",
              "size": 10,
              "solidity": 0.2
             }
            },
            "type": "histogram"
           }
          ],
          "histogram2d": [
           {
            "colorbar": {
             "outlinewidth": 0,
             "ticks": ""
            },
            "colorscale": [
             [
              0,
              "#0d0887"
             ],
             [
              0.1111111111111111,
              "#46039f"
             ],
             [
              0.2222222222222222,
              "#7201a8"
             ],
             [
              0.3333333333333333,
              "#9c179e"
             ],
             [
              0.4444444444444444,
              "#bd3786"
             ],
             [
              0.5555555555555556,
              "#d8576b"
             ],
             [
              0.6666666666666666,
              "#ed7953"
             ],
             [
              0.7777777777777778,
              "#fb9f3a"
             ],
             [
              0.8888888888888888,
              "#fdca26"
             ],
             [
              1,
              "#f0f921"
             ]
            ],
            "type": "histogram2d"
           }
          ],
          "histogram2dcontour": [
           {
            "colorbar": {
             "outlinewidth": 0,
             "ticks": ""
            },
            "colorscale": [
             [
              0,
              "#0d0887"
             ],
             [
              0.1111111111111111,
              "#46039f"
             ],
             [
              0.2222222222222222,
              "#7201a8"
             ],
             [
              0.3333333333333333,
              "#9c179e"
             ],
             [
              0.4444444444444444,
              "#bd3786"
             ],
             [
              0.5555555555555556,
              "#d8576b"
             ],
             [
              0.6666666666666666,
              "#ed7953"
             ],
             [
              0.7777777777777778,
              "#fb9f3a"
             ],
             [
              0.8888888888888888,
              "#fdca26"
             ],
             [
              1,
              "#f0f921"
             ]
            ],
            "type": "histogram2dcontour"
           }
          ],
          "mesh3d": [
           {
            "colorbar": {
             "outlinewidth": 0,
             "ticks": ""
            },
            "type": "mesh3d"
           }
          ],
          "parcoords": [
           {
            "line": {
             "colorbar": {
              "outlinewidth": 0,
              "ticks": ""
             }
            },
            "type": "parcoords"
           }
          ],
          "pie": [
           {
            "automargin": true,
            "type": "pie"
           }
          ],
          "scatter": [
           {
            "fillpattern": {
             "fillmode": "overlay",
             "size": 10,
             "solidity": 0.2
            },
            "type": "scatter"
           }
          ],
          "scatter3d": [
           {
            "line": {
             "colorbar": {
              "outlinewidth": 0,
              "ticks": ""
             }
            },
            "marker": {
             "colorbar": {
              "outlinewidth": 0,
              "ticks": ""
             }
            },
            "type": "scatter3d"
           }
          ],
          "scattercarpet": [
           {
            "marker": {
             "colorbar": {
              "outlinewidth": 0,
              "ticks": ""
             }
            },
            "type": "scattercarpet"
           }
          ],
          "scattergeo": [
           {
            "marker": {
             "colorbar": {
              "outlinewidth": 0,
              "ticks": ""
             }
            },
            "type": "scattergeo"
           }
          ],
          "scattergl": [
           {
            "marker": {
             "colorbar": {
              "outlinewidth": 0,
              "ticks": ""
             }
            },
            "type": "scattergl"
           }
          ],
          "scattermapbox": [
           {
            "marker": {
             "colorbar": {
              "outlinewidth": 0,
              "ticks": ""
             }
            },
            "type": "scattermapbox"
           }
          ],
          "scatterpolar": [
           {
            "marker": {
             "colorbar": {
              "outlinewidth": 0,
              "ticks": ""
             }
            },
            "type": "scatterpolar"
           }
          ],
          "scatterpolargl": [
           {
            "marker": {
             "colorbar": {
              "outlinewidth": 0,
              "ticks": ""
             }
            },
            "type": "scatterpolargl"
           }
          ],
          "scatterternary": [
           {
            "marker": {
             "colorbar": {
              "outlinewidth": 0,
              "ticks": ""
             }
            },
            "type": "scatterternary"
           }
          ],
          "surface": [
           {
            "colorbar": {
             "outlinewidth": 0,
             "ticks": ""
            },
            "colorscale": [
             [
              0,
              "#0d0887"
             ],
             [
              0.1111111111111111,
              "#46039f"
             ],
             [
              0.2222222222222222,
              "#7201a8"
             ],
             [
              0.3333333333333333,
              "#9c179e"
             ],
             [
              0.4444444444444444,
              "#bd3786"
             ],
             [
              0.5555555555555556,
              "#d8576b"
             ],
             [
              0.6666666666666666,
              "#ed7953"
             ],
             [
              0.7777777777777778,
              "#fb9f3a"
             ],
             [
              0.8888888888888888,
              "#fdca26"
             ],
             [
              1,
              "#f0f921"
             ]
            ],
            "type": "surface"
           }
          ],
          "table": [
           {
            "cells": {
             "fill": {
              "color": "#EBF0F8"
             },
             "line": {
              "color": "white"
             }
            },
            "header": {
             "fill": {
              "color": "#C8D4E3"
             },
             "line": {
              "color": "white"
             }
            },
            "type": "table"
           }
          ]
         },
         "layout": {
          "annotationdefaults": {
           "arrowcolor": "#2a3f5f",
           "arrowhead": 0,
           "arrowwidth": 1
          },
          "autotypenumbers": "strict",
          "coloraxis": {
           "colorbar": {
            "outlinewidth": 0,
            "ticks": ""
           }
          },
          "colorscale": {
           "diverging": [
            [
             0,
             "#8e0152"
            ],
            [
             0.1,
             "#c51b7d"
            ],
            [
             0.2,
             "#de77ae"
            ],
            [
             0.3,
             "#f1b6da"
            ],
            [
             0.4,
             "#fde0ef"
            ],
            [
             0.5,
             "#f7f7f7"
            ],
            [
             0.6,
             "#e6f5d0"
            ],
            [
             0.7,
             "#b8e186"
            ],
            [
             0.8,
             "#7fbc41"
            ],
            [
             0.9,
             "#4d9221"
            ],
            [
             1,
             "#276419"
            ]
           ],
           "sequential": [
            [
             0,
             "#0d0887"
            ],
            [
             0.1111111111111111,
             "#46039f"
            ],
            [
             0.2222222222222222,
             "#7201a8"
            ],
            [
             0.3333333333333333,
             "#9c179e"
            ],
            [
             0.4444444444444444,
             "#bd3786"
            ],
            [
             0.5555555555555556,
             "#d8576b"
            ],
            [
             0.6666666666666666,
             "#ed7953"
            ],
            [
             0.7777777777777778,
             "#fb9f3a"
            ],
            [
             0.8888888888888888,
             "#fdca26"
            ],
            [
             1,
             "#f0f921"
            ]
           ],
           "sequentialminus": [
            [
             0,
             "#0d0887"
            ],
            [
             0.1111111111111111,
             "#46039f"
            ],
            [
             0.2222222222222222,
             "#7201a8"
            ],
            [
             0.3333333333333333,
             "#9c179e"
            ],
            [
             0.4444444444444444,
             "#bd3786"
            ],
            [
             0.5555555555555556,
             "#d8576b"
            ],
            [
             0.6666666666666666,
             "#ed7953"
            ],
            [
             0.7777777777777778,
             "#fb9f3a"
            ],
            [
             0.8888888888888888,
             "#fdca26"
            ],
            [
             1,
             "#f0f921"
            ]
           ]
          },
          "colorway": [
           "#636efa",
           "#EF553B",
           "#00cc96",
           "#ab63fa",
           "#FFA15A",
           "#19d3f3",
           "#FF6692",
           "#B6E880",
           "#FF97FF",
           "#FECB52"
          ],
          "font": {
           "color": "#2a3f5f"
          },
          "geo": {
           "bgcolor": "white",
           "lakecolor": "white",
           "landcolor": "#E5ECF6",
           "showlakes": true,
           "showland": true,
           "subunitcolor": "white"
          },
          "hoverlabel": {
           "align": "left"
          },
          "hovermode": "closest",
          "mapbox": {
           "style": "light"
          },
          "paper_bgcolor": "white",
          "plot_bgcolor": "#E5ECF6",
          "polar": {
           "angularaxis": {
            "gridcolor": "white",
            "linecolor": "white",
            "ticks": ""
           },
           "bgcolor": "#E5ECF6",
           "radialaxis": {
            "gridcolor": "white",
            "linecolor": "white",
            "ticks": ""
           }
          },
          "scene": {
           "xaxis": {
            "backgroundcolor": "#E5ECF6",
            "gridcolor": "white",
            "gridwidth": 2,
            "linecolor": "white",
            "showbackground": true,
            "ticks": "",
            "zerolinecolor": "white"
           },
           "yaxis": {
            "backgroundcolor": "#E5ECF6",
            "gridcolor": "white",
            "gridwidth": 2,
            "linecolor": "white",
            "showbackground": true,
            "ticks": "",
            "zerolinecolor": "white"
           },
           "zaxis": {
            "backgroundcolor": "#E5ECF6",
            "gridcolor": "white",
            "gridwidth": 2,
            "linecolor": "white",
            "showbackground": true,
            "ticks": "",
            "zerolinecolor": "white"
           }
          },
          "shapedefaults": {
           "line": {
            "color": "#2a3f5f"
           }
          },
          "ternary": {
           "aaxis": {
            "gridcolor": "white",
            "linecolor": "white",
            "ticks": ""
           },
           "baxis": {
            "gridcolor": "white",
            "linecolor": "white",
            "ticks": ""
           },
           "bgcolor": "#E5ECF6",
           "caxis": {
            "gridcolor": "white",
            "linecolor": "white",
            "ticks": ""
           }
          },
          "title": {
           "x": 0.05
          },
          "xaxis": {
           "automargin": true,
           "gridcolor": "white",
           "linecolor": "white",
           "ticks": "",
           "title": {
            "standoff": 15
           },
           "zerolinecolor": "white",
           "zerolinewidth": 2
          },
          "yaxis": {
           "automargin": true,
           "gridcolor": "white",
           "linecolor": "white",
           "ticks": "",
           "title": {
            "standoff": 15
           },
           "zerolinecolor": "white",
           "zerolinewidth": 2
          }
         }
        },
        "title": {
         "text": "IOI Signal decomposition"
        },
        "width": 800,
        "yaxis": {
         "title": {
          "text": "volume conveyed by the application"
         }
        }
       }
      },
      "text/html": [
       "<div>                            <div id=\"19b6cacf-795e-49bc-8366-972663cfe964\" class=\"plotly-graph-div\" style=\"height:400px; width:800px;\"></div>            <script type=\"text/javascript\">                require([\"plotly\"], function(Plotly) {                    window.PLOTLYENV=window.PLOTLYENV || {};                                    if (document.getElementById(\"19b6cacf-795e-49bc-8366-972663cfe964\")) {                    Plotly.newPlot(                        \"19b6cacf-795e-49bc-8366-972663cfe964\",                        [{\"line\":{\"width\":1.5},\"mode\":\"lines+markers\",\"name\":\"original bytesRead signal from IOI\",\"text\":[\"class=0\",\"class=1\",\"class=0\",\"class=0\",\"class=0\",\"class=0\",\"class=0\",\"class=1\",\"class=1\",\"class=0\",\"class=0\",\"class=0\",\"class=1\",\"class=1\",\"class=0\",\"class=0\",\"class=0\",\"class=0\",\"class=0\",\"class=0\",\"class=0\",\"class=0\",\"class=0\",\"class=0\",\"class=0\",\"class=0\",\"class=0\",\"class=0\",\"class=0\",\"class=0\",\"class=0\",\"class=0\",\"class=0\",\"class=0\",\"class=0\",\"class=0\",\"class=0\",\"class=0\",\"class=0\",\"class=0\",\"class=0\",\"class=0\",\"class=0\",\"class=0\",\"class=0\",\"class=0\",\"class=0\",\"class=0\",\"class=0\",\"class=0\",\"class=0\",\"class=0\",\"class=0\",\"class=0\",\"class=0\",\"class=0\",\"class=0\",\"class=0\",\"class=0\",\"class=0\",\"class=0\",\"class=0\",\"class=0\",\"class=0\",\"class=0\",\"class=0\",\"class=0\",\"class=0\",\"class=0\",\"class=0\"],\"x\":[0,1,2,3,4,5,6,7,8,9,10,11,12,13,14,15,16,17,18,19,20,21,22,23,24,25,26,27,28,29,30,31,32,33,34,35,36,37,38,39,40,41,42,43,44,45,46,47,48,49,50,51,52,53,54,55,56,57,58,59,60,61,62,63,64,65,66,67,68,69],\"y\":[0.0,2710.9446178043813,0.0,0.0,0.0,0.0,0.0,1161.6377796723486,1161.6377796723486,0.0,0.0,0.0,1357.8435645938305,1357.8435645938305,0.0,0.0,0.0,0.0,0.0,0.0,0.0,0.0,0.0,0.0,0.0,0.0,0.0,0.0,0.0,0.0,0.0,0.0,0.0,0.0,0.0,0.0,0.0,0.0,0.0,0.0,0.0,0.0,0.0,0.0,0.0,0.0,0.0,0.0,0.0,0.0,0.0,0.0,0.0,0.0,0.0,0.0,0.0,0.0,0.0,0.0,0.0,0.0,0.0,0.0,0.0,0.0,0.0,0.0,0.0,0.0],\"type\":\"scatter\"},{\"line\":{\"width\":1.5},\"mode\":\"lines+markers\",\"name\":\"original bytesWritten signal from IOI\",\"text\":[\"class=0\",\"class=0\",\"class=0\",\"class=0\",\"class=0\",\"class=0\",\"class=0\",\"class=1\",\"class=1\",\"class=0\",\"class=0\",\"class=0\",\"class=1\",\"class=1\",\"class=0\",\"class=0\",\"class=0\",\"class=0\",\"class=0\",\"class=0\",\"class=0\",\"class=0\",\"class=0\",\"class=0\",\"class=0\",\"class=0\",\"class=0\",\"class=0\",\"class=0\",\"class=0\",\"class=0\",\"class=0\",\"class=0\",\"class=0\",\"class=0\",\"class=0\",\"class=0\",\"class=0\",\"class=0\",\"class=0\",\"class=1\",\"class=1\",\"class=1\",\"class=1\",\"class=1\",\"class=1\",\"class=1\",\"class=0\",\"class=0\",\"class=0\",\"class=0\",\"class=0\",\"class=1\",\"class=1\",\"class=1\",\"class=1\",\"class=1\",\"class=1\",\"class=0\",\"class=0\",\"class=0\",\"class=1\",\"class=1\",\"class=1\",\"class=1\",\"class=1\",\"class=1\",\"class=1\",\"class=0\",\"class=0\"],\"x\":[0,1,2,3,4,5,6,7,8,9,10,11,12,13,14,15,16,17,18,19,20,21,22,23,24,25,26,27,28,29,30,31,32,33,34,35,36,37,38,39,40,41,42,43,44,45,46,47,48,49,50,51,52,53,54,55,56,57,58,59,60,61,62,63,64,65,66,67,68,69],\"y\":[0.0,0.0,0.0,0.0,0.0,0.0,0.0,1161.6377796723486,1161.6377796723486,0.0,0.0,0.0,1357.8435645938305,1357.8435645938305,0.0,0.0,0.0,0.0,0.0,0.0,0.0,0.0,0.0,0.0,0.0,0.0,0.0,0.0,0.0,0.0,0.0,0.0,0.0,0.0,0.0,0.0,0.0,0.0,0.0,0.0,650.8438449520007,650.8438449520007,650.8438449520007,650.8438449520007,650.8438449520007,650.8438449520007,650.8438449520007,0.0,0.0,0.0,0.0,0.0,649.9844362341689,649.9844362341689,649.9844362341689,649.9844362341689,649.9844362341689,649.9844362341689,0.0,0.0,0.0,650.90523165387,650.90523165387,650.90523165387,650.90523165387,650.90523165387,650.90523165387,650.90523165387,0.0,0.0],\"type\":\"scatter\"},{\"line\":{\"width\":2},\"mode\":\"lines\",\"name\":\"read signal slices with constant bw\",\"x\":[0,1,2,3,4,5,6,7,8,9,10,11,12,13,14,15,16,17,18,19,20,21,22,23,24,25,26,27,28,29,30,31,32,33,34,35,36,37,38,39,40,41,42,43,44,45,46,47,48,49,50,51,52,53,54,55,56,57,58,59,60,61,62,63,64,65,66,67,68,69],\"y\":[-1.7841273198865795e-12,2710.944617804382,-4.547473508864641e-12,-4.547473508864641e-12,-4.547473508864641e-12,-4.547473508864641e-12,-4.547473508864641e-12,1161.6377796723455,1161.6377796723455,-4.092726157978177e-12,-4.092726157978177e-12,-4.092726157978177e-12,1357.843564593822,1357.843564593822,-3.183231456205249e-12,-3.183231456205249e-12,-3.183231456205249e-12,-3.183231456205249e-12,-3.183231456205249e-12,-3.183231456205249e-12,-3.183231456205249e-12,-3.183231456205249e-12,-3.183231456205249e-12,-3.183231456205249e-12,-3.183231456205249e-12,-3.183231456205249e-12,-3.183231456205249e-12,-3.183231456205249e-12,-3.183231456205249e-12,-3.183231456205249e-12,-3.183231456205249e-12,-3.183231456205249e-12,-3.183231456205249e-12,-3.183231456205249e-12,-3.183231456205249e-12,-3.183231456205249e-12,-3.183231456205249e-12,-3.183231456205249e-12,-3.183231456205249e-12,-3.183231456205249e-12,-3.183231456205249e-12,-3.183231456205249e-12,-3.183231456205249e-12,-3.183231456205249e-12,-3.183231456205249e-12,-3.183231456205249e-12,-3.183231456205249e-12,-3.183231456205249e-12,-3.183231456205249e-12,-3.183231456205249e-12,-3.183231456205249e-12,-3.183231456205249e-12,-3.183231456205249e-12,-3.183231456205249e-12,-3.183231456205249e-12,-3.183231456205249e-12,-3.183231456205249e-12,-3.183231456205249e-12,-3.183231456205249e-12,-3.183231456205249e-12,-3.183231456205249e-12,-3.183231456205249e-12,-3.183231456205249e-12,-3.183231456205249e-12,-3.183231456205249e-12,-3.183231456205249e-12,-3.183231456205249e-12,-3.183231456205249e-12,-3.183231456205249e-12,-3.183231456205249e-12],\"type\":\"scatter\"},{\"line\":{\"width\":2},\"mode\":\"lines\",\"name\":\"write signal slices with constant bw\",\"x\":[0,1,2,3,4,5,6,7,8,9,10,11,12,13,14,15,16,17,18,19,20,21,22,23,24,25,26,27,28,29,30,31,32,33,34,35,36,37,38,39,40,41,42,43,44,45,46,47,48,49,50,51,52,53,54,55,56,57,58,59,60,61,62,63,64,65,66,67,68,69],\"y\":[-6.05846159209313e-13,-6.05846159209313e-13,-6.05846159209313e-13,-6.05846159209313e-13,-6.05846159209313e-13,-6.05846159209313e-13,-6.05846159209313e-13,1161.6377796723507,1161.6377796723507,1.3642420526593924e-12,1.3642420526593924e-12,1.3642420526593924e-12,1357.8435645938287,1357.8435645938287,1.1368683772161603e-12,1.1368683772161603e-12,1.1368683772161603e-12,1.1368683772161603e-12,1.1368683772161603e-12,1.1368683772161603e-12,1.1368683772161603e-12,1.1368683772161603e-12,1.1368683772161603e-12,1.1368683772161603e-12,1.1368683772161603e-12,1.1368683772161603e-12,1.1368683772161603e-12,1.1368683772161603e-12,1.1368683772161603e-12,1.1368683772161603e-12,1.1368683772161603e-12,1.1368683772161603e-12,1.1368683772161603e-12,1.1368683772161603e-12,1.1368683772161603e-12,1.1368683772161603e-12,1.1368683772161603e-12,1.1368683772161603e-12,1.1368683772161603e-12,1.1368683772161603e-12,650.843844952003,650.843844952003,650.843844952003,650.843844952003,650.843844952003,650.843844952003,650.843844952003,1.9326762412674725e-12,1.9326762412674725e-12,1.9326762412674725e-12,1.9326762412674725e-12,1.9326762412674725e-12,649.9844362341713,649.9844362341713,649.9844362341713,649.9844362341713,649.9844362341713,649.9844362341713,2.3874235921539366e-12,2.3874235921539366e-12,2.3874235921539366e-12,650.9052316538725,650.9052316538725,650.9052316538725,650.9052316538725,650.9052316538725,650.9052316538725,650.9052316538725,2.5011104298755527e-12,2.5011104298755527e-12],\"type\":\"scatter\"}],                        {\"template\":{\"data\":{\"histogram2dcontour\":[{\"type\":\"histogram2dcontour\",\"colorbar\":{\"outlinewidth\":0,\"ticks\":\"\"},\"colorscale\":[[0.0,\"#0d0887\"],[0.1111111111111111,\"#46039f\"],[0.2222222222222222,\"#7201a8\"],[0.3333333333333333,\"#9c179e\"],[0.4444444444444444,\"#bd3786\"],[0.5555555555555556,\"#d8576b\"],[0.6666666666666666,\"#ed7953\"],[0.7777777777777778,\"#fb9f3a\"],[0.8888888888888888,\"#fdca26\"],[1.0,\"#f0f921\"]]}],\"choropleth\":[{\"type\":\"choropleth\",\"colorbar\":{\"outlinewidth\":0,\"ticks\":\"\"}}],\"histogram2d\":[{\"type\":\"histogram2d\",\"colorbar\":{\"outlinewidth\":0,\"ticks\":\"\"},\"colorscale\":[[0.0,\"#0d0887\"],[0.1111111111111111,\"#46039f\"],[0.2222222222222222,\"#7201a8\"],[0.3333333333333333,\"#9c179e\"],[0.4444444444444444,\"#bd3786\"],[0.5555555555555556,\"#d8576b\"],[0.6666666666666666,\"#ed7953\"],[0.7777777777777778,\"#fb9f3a\"],[0.8888888888888888,\"#fdca26\"],[1.0,\"#f0f921\"]]}],\"heatmap\":[{\"type\":\"heatmap\",\"colorbar\":{\"outlinewidth\":0,\"ticks\":\"\"},\"colorscale\":[[0.0,\"#0d0887\"],[0.1111111111111111,\"#46039f\"],[0.2222222222222222,\"#7201a8\"],[0.3333333333333333,\"#9c179e\"],[0.4444444444444444,\"#bd3786\"],[0.5555555555555556,\"#d8576b\"],[0.6666666666666666,\"#ed7953\"],[0.7777777777777778,\"#fb9f3a\"],[0.8888888888888888,\"#fdca26\"],[1.0,\"#f0f921\"]]}],\"heatmapgl\":[{\"type\":\"heatmapgl\",\"colorbar\":{\"outlinewidth\":0,\"ticks\":\"\"},\"colorscale\":[[0.0,\"#0d0887\"],[0.1111111111111111,\"#46039f\"],[0.2222222222222222,\"#7201a8\"],[0.3333333333333333,\"#9c179e\"],[0.4444444444444444,\"#bd3786\"],[0.5555555555555556,\"#d8576b\"],[0.6666666666666666,\"#ed7953\"],[0.7777777777777778,\"#fb9f3a\"],[0.8888888888888888,\"#fdca26\"],[1.0,\"#f0f921\"]]}],\"contourcarpet\":[{\"type\":\"contourcarpet\",\"colorbar\":{\"outlinewidth\":0,\"ticks\":\"\"}}],\"contour\":[{\"type\":\"contour\",\"colorbar\":{\"outlinewidth\":0,\"ticks\":\"\"},\"colorscale\":[[0.0,\"#0d0887\"],[0.1111111111111111,\"#46039f\"],[0.2222222222222222,\"#7201a8\"],[0.3333333333333333,\"#9c179e\"],[0.4444444444444444,\"#bd3786\"],[0.5555555555555556,\"#d8576b\"],[0.6666666666666666,\"#ed7953\"],[0.7777777777777778,\"#fb9f3a\"],[0.8888888888888888,\"#fdca26\"],[1.0,\"#f0f921\"]]}],\"surface\":[{\"type\":\"surface\",\"colorbar\":{\"outlinewidth\":0,\"ticks\":\"\"},\"colorscale\":[[0.0,\"#0d0887\"],[0.1111111111111111,\"#46039f\"],[0.2222222222222222,\"#7201a8\"],[0.3333333333333333,\"#9c179e\"],[0.4444444444444444,\"#bd3786\"],[0.5555555555555556,\"#d8576b\"],[0.6666666666666666,\"#ed7953\"],[0.7777777777777778,\"#fb9f3a\"],[0.8888888888888888,\"#fdca26\"],[1.0,\"#f0f921\"]]}],\"mesh3d\":[{\"type\":\"mesh3d\",\"colorbar\":{\"outlinewidth\":0,\"ticks\":\"\"}}],\"scatter\":[{\"fillpattern\":{\"fillmode\":\"overlay\",\"size\":10,\"solidity\":0.2},\"type\":\"scatter\"}],\"parcoords\":[{\"type\":\"parcoords\",\"line\":{\"colorbar\":{\"outlinewidth\":0,\"ticks\":\"\"}}}],\"scatterpolargl\":[{\"type\":\"scatterpolargl\",\"marker\":{\"colorbar\":{\"outlinewidth\":0,\"ticks\":\"\"}}}],\"bar\":[{\"error_x\":{\"color\":\"#2a3f5f\"},\"error_y\":{\"color\":\"#2a3f5f\"},\"marker\":{\"line\":{\"color\":\"#E5ECF6\",\"width\":0.5},\"pattern\":{\"fillmode\":\"overlay\",\"size\":10,\"solidity\":0.2}},\"type\":\"bar\"}],\"scattergeo\":[{\"type\":\"scattergeo\",\"marker\":{\"colorbar\":{\"outlinewidth\":0,\"ticks\":\"\"}}}],\"scatterpolar\":[{\"type\":\"scatterpolar\",\"marker\":{\"colorbar\":{\"outlinewidth\":0,\"ticks\":\"\"}}}],\"histogram\":[{\"marker\":{\"pattern\":{\"fillmode\":\"overlay\",\"size\":10,\"solidity\":0.2}},\"type\":\"histogram\"}],\"scattergl\":[{\"type\":\"scattergl\",\"marker\":{\"colorbar\":{\"outlinewidth\":0,\"ticks\":\"\"}}}],\"scatter3d\":[{\"type\":\"scatter3d\",\"line\":{\"colorbar\":{\"outlinewidth\":0,\"ticks\":\"\"}},\"marker\":{\"colorbar\":{\"outlinewidth\":0,\"ticks\":\"\"}}}],\"scattermapbox\":[{\"type\":\"scattermapbox\",\"marker\":{\"colorbar\":{\"outlinewidth\":0,\"ticks\":\"\"}}}],\"scatterternary\":[{\"type\":\"scatterternary\",\"marker\":{\"colorbar\":{\"outlinewidth\":0,\"ticks\":\"\"}}}],\"scattercarpet\":[{\"type\":\"scattercarpet\",\"marker\":{\"colorbar\":{\"outlinewidth\":0,\"ticks\":\"\"}}}],\"carpet\":[{\"aaxis\":{\"endlinecolor\":\"#2a3f5f\",\"gridcolor\":\"white\",\"linecolor\":\"white\",\"minorgridcolor\":\"white\",\"startlinecolor\":\"#2a3f5f\"},\"baxis\":{\"endlinecolor\":\"#2a3f5f\",\"gridcolor\":\"white\",\"linecolor\":\"white\",\"minorgridcolor\":\"white\",\"startlinecolor\":\"#2a3f5f\"},\"type\":\"carpet\"}],\"table\":[{\"cells\":{\"fill\":{\"color\":\"#EBF0F8\"},\"line\":{\"color\":\"white\"}},\"header\":{\"fill\":{\"color\":\"#C8D4E3\"},\"line\":{\"color\":\"white\"}},\"type\":\"table\"}],\"barpolar\":[{\"marker\":{\"line\":{\"color\":\"#E5ECF6\",\"width\":0.5},\"pattern\":{\"fillmode\":\"overlay\",\"size\":10,\"solidity\":0.2}},\"type\":\"barpolar\"}],\"pie\":[{\"automargin\":true,\"type\":\"pie\"}]},\"layout\":{\"autotypenumbers\":\"strict\",\"colorway\":[\"#636efa\",\"#EF553B\",\"#00cc96\",\"#ab63fa\",\"#FFA15A\",\"#19d3f3\",\"#FF6692\",\"#B6E880\",\"#FF97FF\",\"#FECB52\"],\"font\":{\"color\":\"#2a3f5f\"},\"hovermode\":\"closest\",\"hoverlabel\":{\"align\":\"left\"},\"paper_bgcolor\":\"white\",\"plot_bgcolor\":\"#E5ECF6\",\"polar\":{\"bgcolor\":\"#E5ECF6\",\"angularaxis\":{\"gridcolor\":\"white\",\"linecolor\":\"white\",\"ticks\":\"\"},\"radialaxis\":{\"gridcolor\":\"white\",\"linecolor\":\"white\",\"ticks\":\"\"}},\"ternary\":{\"bgcolor\":\"#E5ECF6\",\"aaxis\":{\"gridcolor\":\"white\",\"linecolor\":\"white\",\"ticks\":\"\"},\"baxis\":{\"gridcolor\":\"white\",\"linecolor\":\"white\",\"ticks\":\"\"},\"caxis\":{\"gridcolor\":\"white\",\"linecolor\":\"white\",\"ticks\":\"\"}},\"coloraxis\":{\"colorbar\":{\"outlinewidth\":0,\"ticks\":\"\"}},\"colorscale\":{\"sequential\":[[0.0,\"#0d0887\"],[0.1111111111111111,\"#46039f\"],[0.2222222222222222,\"#7201a8\"],[0.3333333333333333,\"#9c179e\"],[0.4444444444444444,\"#bd3786\"],[0.5555555555555556,\"#d8576b\"],[0.6666666666666666,\"#ed7953\"],[0.7777777777777778,\"#fb9f3a\"],[0.8888888888888888,\"#fdca26\"],[1.0,\"#f0f921\"]],\"sequentialminus\":[[0.0,\"#0d0887\"],[0.1111111111111111,\"#46039f\"],[0.2222222222222222,\"#7201a8\"],[0.3333333333333333,\"#9c179e\"],[0.4444444444444444,\"#bd3786\"],[0.5555555555555556,\"#d8576b\"],[0.6666666666666666,\"#ed7953\"],[0.7777777777777778,\"#fb9f3a\"],[0.8888888888888888,\"#fdca26\"],[1.0,\"#f0f921\"]],\"diverging\":[[0,\"#8e0152\"],[0.1,\"#c51b7d\"],[0.2,\"#de77ae\"],[0.3,\"#f1b6da\"],[0.4,\"#fde0ef\"],[0.5,\"#f7f7f7\"],[0.6,\"#e6f5d0\"],[0.7,\"#b8e186\"],[0.8,\"#7fbc41\"],[0.9,\"#4d9221\"],[1,\"#276419\"]]},\"xaxis\":{\"gridcolor\":\"white\",\"linecolor\":\"white\",\"ticks\":\"\",\"title\":{\"standoff\":15},\"zerolinecolor\":\"white\",\"automargin\":true,\"zerolinewidth\":2},\"yaxis\":{\"gridcolor\":\"white\",\"linecolor\":\"white\",\"ticks\":\"\",\"title\":{\"standoff\":15},\"zerolinecolor\":\"white\",\"automargin\":true,\"zerolinewidth\":2},\"scene\":{\"xaxis\":{\"backgroundcolor\":\"#E5ECF6\",\"gridcolor\":\"white\",\"linecolor\":\"white\",\"showbackground\":true,\"ticks\":\"\",\"zerolinecolor\":\"white\",\"gridwidth\":2},\"yaxis\":{\"backgroundcolor\":\"#E5ECF6\",\"gridcolor\":\"white\",\"linecolor\":\"white\",\"showbackground\":true,\"ticks\":\"\",\"zerolinecolor\":\"white\",\"gridwidth\":2},\"zaxis\":{\"backgroundcolor\":\"#E5ECF6\",\"gridcolor\":\"white\",\"linecolor\":\"white\",\"showbackground\":true,\"ticks\":\"\",\"zerolinecolor\":\"white\",\"gridwidth\":2}},\"shapedefaults\":{\"line\":{\"color\":\"#2a3f5f\"}},\"annotationdefaults\":{\"arrowcolor\":\"#2a3f5f\",\"arrowhead\":0,\"arrowwidth\":1},\"geo\":{\"bgcolor\":\"white\",\"landcolor\":\"#E5ECF6\",\"subunitcolor\":\"white\",\"showland\":true,\"showlakes\":true,\"lakecolor\":\"white\"},\"title\":{\"x\":0.05},\"mapbox\":{\"style\":\"light\"}}},\"legend\":{\"orientation\":\"h\",\"yanchor\":\"top\",\"title\":{\"text\":\"Signals\"}},\"width\":800,\"height\":400,\"title\":{\"text\":\"IOI Signal decomposition\"},\"yaxis\":{\"title\":{\"text\":\"volume conveyed by the application\"}}},                        {\"responsive\": true}                    ).then(function(){\n",
       "                            \n",
       "var gd = document.getElementById('19b6cacf-795e-49bc-8366-972663cfe964');\n",
       "var x = new MutationObserver(function (mutations, observer) {{\n",
       "        var display = window.getComputedStyle(gd).display;\n",
       "        if (!display || display === 'none') {{\n",
       "            console.log([gd, 'removed!']);\n",
       "            Plotly.purge(gd);\n",
       "            observer.disconnect();\n",
       "        }}\n",
       "}});\n",
       "\n",
       "// Listen for the removal of the full notebook cells\n",
       "var notebookContainer = gd.closest('#notebook-container');\n",
       "if (notebookContainer) {{\n",
       "    x.observe(notebookContainer, {childList: true});\n",
       "}}\n",
       "\n",
       "// Listen for the clearing of the current output cell\n",
       "var outputEl = gd.closest('.output');\n",
       "if (outputEl) {{\n",
       "    x.observe(outputEl, {childList: true});\n",
       "}}\n",
       "\n",
       "                        })                };                });            </script>        </div>"
      ]
     },
     "metadata": {},
     "output_type": "display_data"
    }
   ],
   "source": [
    "env = simpy.Environment()\n",
    "data = simpy.Store(env)\n",
    "cluster = Cluster(env, config_path=cluster_config)\n",
    "bw_normed = (bw/1e6).tolist()\n",
    "app = Application(env, name=f\"PerfTier#{jobid}\",                  \n",
    "                    compute=representation[\"events\"],\n",
    "                    read=representation[\"read_volumes\"],\n",
    "                    write=representation[\"write_volumes\"],\n",
    "                    read_bw=bw_normed, write_bw=bw_normed, \n",
    "                    data=data)\n",
    "env.process(app.run(cluster, placement=[1]*(len(representation[\"events\"]))))\n",
    "env.run()\n",
    "fig = display_apps_dataflow(data, cluster, width=800, height=400)\n",
    "fig.show()\n",
    "print(representation[\"events\"])\n",
    "output = get_execution_signal_3(data, nbr_points=len(cd.timestamps))\n",
    "sim_time = np.array(output[app.name][\"time\"])\n",
    "sim_read_bw = np.array(output[app.name][\"read_bw\"])\n",
    "sim_write_bw = np.array(output[app.name][\"write_bw\"])\n",
    "plot_detected_phases(jobid, merge=True, show_phases=False, \n",
    "                     ts=(sim_time, sim_read_bw, sim_write_bw), \n",
    "                     width=800, height=400)"
   ]
  }
 ],
 "metadata": {
  "kernelspec": {
   "display_name": "py38",
   "language": "python",
   "name": "python3"
  },
  "language_info": {
   "codemirror_mode": {
    "name": "ipython",
    "version": 3
   },
   "file_extension": ".py",
   "mimetype": "text/x-python",
   "name": "python",
   "nbconvert_exporter": "python",
   "pygments_lexer": "ipython3",
   "version": "3.8.10"
  },
  "orig_nbformat": 4,
  "vscode": {
   "interpreter": {
    "hash": "67356b80ae16e0e40687386dbd074ace3ba90441f54bfe58917536db46d8a36b"
   }
  }
 },
 "nbformat": 4,
 "nbformat_minor": 2
}
