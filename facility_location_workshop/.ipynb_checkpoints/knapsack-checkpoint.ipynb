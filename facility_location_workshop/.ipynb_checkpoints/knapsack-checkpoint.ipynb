{
 "cells": [
  {
   "cell_type": "code",
   "execution_count": 1,
   "id": "818f6f36-44ba-4ed2-af0d-2ea4ba4725ef",
   "metadata": {},
   "outputs": [],
   "source": [
    "import or_gym\n",
    "import numpy as np\n",
    "env = or_gym.make('Knapsack-v0')"
   ]
  },
  {
   "cell_type": "code",
   "execution_count": 2,
   "id": "ed1b29e7-65d1-44d4-a80c-a329c812084b",
   "metadata": {},
   "outputs": [
    {
     "name": "stdout",
     "output_type": "stream",
     "text": [
      "Max weight capacity:\t200kg\n",
      "Number of items:\t200\n"
     ]
    }
   ],
   "source": [
    "print(\"Max weight capacity:\\t{}kg\".format(env.max_weight))\n",
    "print(\"Number of items:\\t{}\".format(env.N))"
   ]
  },
  {
   "cell_type": "code",
   "execution_count": 3,
   "id": "c1a1592d-4975-4b62-9217-21f77e16d8d1",
   "metadata": {},
   "outputs": [
    {
     "name": "stdout",
     "output_type": "stream",
     "text": [
      "Max weight capacity:\t15kg\n",
      "Number of items:\t5\n"
     ]
    }
   ],
   "source": [
    "env_config = {'N': 5,\n",
    "             'max_weight': 15,\n",
    "             'item_weights': np.array([1, 12, 2, 1, 4]),\n",
    "             'item_values': np.array([2, 4, 2, 1, 10]),\n",
    "             'mask': True}\n",
    "\n",
    "env = or_gym.make('Knapsack-v0', env_config=env_config)\n",
    "print(\"Max weight capacity:\\t{}kg\".format(env.max_weight))\n",
    "print(\"Number of items:\\t{}\".format(env.N))"
   ]
  },
  {
   "cell_type": "code",
   "execution_count": 4,
   "id": "de354885-c738-4116-8b5c-b522d773ace1",
   "metadata": {},
   "outputs": [
    {
     "data": {
      "text/plain": [
       "{'action_mask': array([1, 1, 1, 1, 1]),\n",
       " 'avail_actions': array([1., 1., 1., 1., 1.]),\n",
       " 'state': array([ 1, 12,  2,  1,  4,  2,  4,  2,  1, 10,  0])}"
      ]
     },
     "execution_count": 4,
     "metadata": {},
     "output_type": "execute_result"
    }
   ],
   "source": [
    "env.state # weights -> values -> last number is total weight?"
   ]
  },
  {
   "cell_type": "code",
   "execution_count": 5,
   "id": "670aac76-d5d1-4a95-bc17-a5800dfacf4b",
   "metadata": {},
   "outputs": [
    {
     "name": "stdout",
     "output_type": "stream",
     "text": [
      "{'action_mask': array([1, 0, 1, 1, 0]), 'avail_actions': array([1., 1., 1., 1., 1.]), 'state': array([ 1, 12,  2,  1,  4,  2,  4,  2,  1, 10, 12])}\n"
     ]
    }
   ],
   "source": [
    "state, reward, done, _ = env.step(1)\n",
    "print(state)"
   ]
  },
  {
   "cell_type": "code",
   "execution_count": 17,
   "id": "b271f1a1-69c4-4506-8958-891fc9f5af6d",
   "metadata": {},
   "outputs": [],
   "source": [
    "import ray\n",
    "from ray.rllib import agents\n",
    "from ray import tune\n",
    "from ray.rllib.models import ModelCatalog\n",
    "from ray.rllib.models.tf.tf_modelv2 import TFModelV2\n",
    "from ray.rllib.models.tf.fcnet import FullyConnectedNetwork\n",
    "from ray.rllib.utils import try_import_tf\n",
    "from gym import spaces\n",
    "from or_gym.utils import create_env\n",
    "import tensorflow as tf \n",
    "#tf = try_import_tf()"
   ]
  },
  {
   "cell_type": "code",
   "execution_count": 18,
   "id": "fb34d41b-a313-490d-a059-8bd1283c6e75",
   "metadata": {},
   "outputs": [
    {
     "name": "stdout",
     "output_type": "stream",
     "text": [
      "<class 'function'>\n"
     ]
    }
   ],
   "source": []
  },
  {
   "cell_type": "code",
   "execution_count": 19,
   "id": "122492d1-89c0-4ce1-b947-e5e6b455361e",
   "metadata": {},
   "outputs": [],
   "source": [
    "class KP0ActionMaskModel(TFModelV2):\n",
    "     \n",
    "    def __init__(self, obs_space, action_space, num_outputs,\n",
    "        model_config, name, true_obs_shape=(11,),\n",
    "        action_embed_size=5, *args, **kwargs):\n",
    "         \n",
    "        super(KP0ActionMaskModel, self).__init__(obs_space,\n",
    "            action_space, num_outputs, model_config, name, \n",
    "            *args, **kwargs)\n",
    "         \n",
    "        self.action_embed_model = FullyConnectedNetwork(\n",
    "            spaces.Box(0, 1, shape=true_obs_shape), \n",
    "                action_space, action_embed_size,\n",
    "            model_config, name + \"_action_embedding\")\n",
    "        self.register_variables(self.action_embed_model.variables())\n",
    " \n",
    "    def forward(self, input_dict, state, seq_lens):\n",
    "        avail_actions = input_dict[\"obs\"][\"avail_actions\"]\n",
    "        action_mask = input_dict[\"obs\"][\"action_mask\"]\n",
    "        action_embedding, _ = self.action_embed_model({\n",
    "            \"obs\": input_dict[\"obs\"][\"state\"]})\n",
    "        intent_vector = tf.expand_dims(action_embedding, 1)\n",
    "        action_logits = tf.reduce_sum(avail_actions * intent_vector,\n",
    "            axis=1)\n",
    "        inf_mask = tf.maximum(tf.log(action_mask), tf.float32.min)\n",
    "        return action_logits + inf_mask, state\n",
    " \n",
    "    def value_function(self):\n",
    "        return self.action_embed_model.value_function()"
   ]
  },
  {
   "cell_type": "code",
   "execution_count": 21,
   "id": "d42ccf4a-cdeb-4545-a5ba-0d4203430147",
   "metadata": {},
   "outputs": [],
   "source": [
    "ModelCatalog.register_custom_model('kp_mask', KP0ActionMaskModel)"
   ]
  },
  {
   "cell_type": "code",
   "execution_count": 22,
   "id": "7527d5de-7ab5-425a-b211-eccb5887c229",
   "metadata": {},
   "outputs": [],
   "source": [
    "def register_env(env_name, env_config={}):\n",
    "    env = create_env(env_name)\n",
    "    tune.register_env(env_name, lambda env_name: env(env_name, env_config=env_config))\n",
    "     \n",
    "register_env('Knapsack-v0', env_config=env_config)"
   ]
  },
  {
   "cell_type": "code",
   "execution_count": 23,
   "id": "a3c1cbf4-ed63-4769-bc7f-abf3aa4451b5",
   "metadata": {},
   "outputs": [
    {
     "name": "stderr",
     "output_type": "stream",
     "text": [
      "2021-05-28 18:20:32,699\tINFO worker.py:651 -- Calling ray.init() again after it has already been called.\n",
      "\u001b[2m\u001b[36m(pid=110888)\u001b[0m WARNING:tensorflow:From /home_nfs/mimounis/anaconda3/lib/python3.7/site-packages/tensorflow/python/compat/v2_compat.py:96: disable_resource_variables (from tensorflow.python.ops.variable_scope) is deprecated and will be removed in a future version.\n",
      "\u001b[2m\u001b[36m(pid=110888)\u001b[0m Instructions for updating:\n",
      "\u001b[2m\u001b[36m(pid=110888)\u001b[0m non-resource variables are not supported in the long term\n",
      "\u001b[2m\u001b[36m(pid=110883)\u001b[0m WARNING:tensorflow:From /home_nfs/mimounis/anaconda3/lib/python3.7/site-packages/tensorflow/python/compat/v2_compat.py:96: disable_resource_variables (from tensorflow.python.ops.variable_scope) is deprecated and will be removed in a future version.\n",
      "\u001b[2m\u001b[36m(pid=110883)\u001b[0m Instructions for updating:\n",
      "\u001b[2m\u001b[36m(pid=110883)\u001b[0m non-resource variables are not supported in the long term\n",
      "\u001b[2m\u001b[36m(pid=110888)\u001b[0m WARNING:tensorflow:From /home_nfs/mimounis/anaconda3/lib/python3.7/site-packages/tensorflow/python/ops/resource_variable_ops.py:1666: calling BaseResourceVariable.__init__ (from tensorflow.python.ops.resource_variable_ops) with constraint is deprecated and will be removed in a future version.\n",
      "\u001b[2m\u001b[36m(pid=110888)\u001b[0m Instructions for updating:\n",
      "\u001b[2m\u001b[36m(pid=110888)\u001b[0m If using Keras pass *_constraint arguments to layers.\n",
      "\u001b[2m\u001b[36m(pid=110883)\u001b[0m WARNING:tensorflow:From /home_nfs/mimounis/anaconda3/lib/python3.7/site-packages/tensorflow/python/ops/resource_variable_ops.py:1666: calling BaseResourceVariable.__init__ (from tensorflow.python.ops.resource_variable_ops) with constraint is deprecated and will be removed in a future version.\n",
      "\u001b[2m\u001b[36m(pid=110883)\u001b[0m Instructions for updating:\n",
      "\u001b[2m\u001b[36m(pid=110883)\u001b[0m If using Keras pass *_constraint arguments to layers.\n",
      "\u001b[2m\u001b[36m(pid=110883)\u001b[0m 2021-05-28 18:20:43,507\tWARNING deprecation.py:34 -- DeprecationWarning: `TFModelV2.register_variables` has been deprecated. This will raise an error in the future!\n",
      "\u001b[2m\u001b[36m(pid=110888)\u001b[0m 2021-05-28 18:20:43,597\tERROR worker.py:382 -- Exception raised in creation task: The actor died because of an error raised in its creation task, \u001b[36mray::RolloutWorker.__init__()\u001b[39m (pid=110888, ip=10.0.3.55)\n",
      "\u001b[2m\u001b[36m(pid=110888)\u001b[0m   File \"python/ray/_raylet.pyx\", line 505, in ray._raylet.execute_task\n",
      "\u001b[2m\u001b[36m(pid=110888)\u001b[0m   File \"python/ray/_raylet.pyx\", line 449, in ray._raylet.execute_task.function_executor\n",
      "\u001b[2m\u001b[36m(pid=110888)\u001b[0m   File \"/home_nfs/mimounis/anaconda3/lib/python3.7/site-packages/ray/_private/function_manager.py\", line 556, in actor_method_executor\n",
      "\u001b[2m\u001b[36m(pid=110888)\u001b[0m     return method(__ray_actor, *args, **kwargs)\n",
      "\u001b[2m\u001b[36m(pid=110888)\u001b[0m   File \"/home_nfs/mimounis/anaconda3/lib/python3.7/site-packages/ray/rllib/evaluation/rollout_worker.py\", line 514, in __init__"
     ]
    },
    {
     "ename": "RayActorError",
     "evalue": "The actor died because of an error raised in its creation task, \u001b[36mray::RolloutWorker.__init__()\u001b[39m (pid=110883, ip=10.0.3.55)\n  File \"python/ray/_raylet.pyx\", line 505, in ray._raylet.execute_task\n  File \"python/ray/_raylet.pyx\", line 449, in ray._raylet.execute_task.function_executor\n  File \"/home_nfs/mimounis/anaconda3/lib/python3.7/site-packages/ray/_private/function_manager.py\", line 556, in actor_method_executor\n    return method(__ray_actor, *args, **kwargs)\n  File \"/home_nfs/mimounis/anaconda3/lib/python3.7/site-packages/ray/rllib/evaluation/rollout_worker.py\", line 514, in __init__\n    self._build_policy_map(policy_dict, policy_config)\n  File \"/home_nfs/mimounis/anaconda3/lib/python3.7/site-packages/ray/rllib/evaluation/rollout_worker.py\", line 1155, in _build_policy_map\n    policy_map[name] = cls(obs_space, act_space, merged_conf)\n  File \"/home_nfs/mimounis/anaconda3/lib/python3.7/site-packages/ray/rllib/policy/tf_policy_template.py\", line 237, in __init__\n    get_batch_divisibility_req=get_batch_divisibility_req,\n  File \"/home_nfs/mimounis/anaconda3/lib/python3.7/site-packages/ray/rllib/policy/dynamic_tf_policy.py\", line 294, in __init__\n    self._input_dict, self._state_inputs, self._seq_lens)\n  File \"/home_nfs/mimounis/anaconda3/lib/python3.7/site-packages/ray/rllib/models/modelv2.py\", line 234, in __call__\n    res = self.forward(restored, state or [], seq_lens)\n  File \"<ipython-input-19-914fe3846d4a>\", line 25, in forward\nAttributeError: module 'tensorflow' has no attribute 'log'",
     "output_type": "error",
     "traceback": [
      "\u001b[0;31m---------------------------------------------------------------------------\u001b[0m",
      "\u001b[0;31mRayActorError\u001b[0m                             Traceback (most recent call last)",
      "\u001b[0;32m<ipython-input-23-cd5d728692f7>\u001b[0m in \u001b[0;36m<module>\u001b[0;34m\u001b[0m\n\u001b[1;32m      8\u001b[0m     \u001b[0;34m\"env_config\"\u001b[0m\u001b[0;34m:\u001b[0m \u001b[0menv_config\u001b[0m\u001b[0;34m\u001b[0m\u001b[0;34m\u001b[0m\u001b[0m\n\u001b[1;32m      9\u001b[0m      }\n\u001b[0;32m---> 10\u001b[0;31m \u001b[0mtrainer\u001b[0m \u001b[0;34m=\u001b[0m \u001b[0magents\u001b[0m\u001b[0;34m.\u001b[0m\u001b[0mppo\u001b[0m\u001b[0;34m.\u001b[0m\u001b[0mPPOTrainer\u001b[0m\u001b[0;34m(\u001b[0m\u001b[0menv\u001b[0m\u001b[0;34m=\u001b[0m\u001b[0;34m'Knapsack-v0'\u001b[0m\u001b[0;34m,\u001b[0m \u001b[0mconfig\u001b[0m\u001b[0;34m=\u001b[0m\u001b[0mtrainer_config\u001b[0m\u001b[0;34m)\u001b[0m\u001b[0;34m\u001b[0m\u001b[0;34m\u001b[0m\u001b[0m\n\u001b[0m",
      "\u001b[0;32m~/anaconda3/lib/python3.7/site-packages/ray/rllib/agents/trainer_template.py\u001b[0m in \u001b[0;36m__init__\u001b[0;34m(self, config, env, logger_creator)\u001b[0m\n\u001b[1;32m    119\u001b[0m \u001b[0;34m\u001b[0m\u001b[0m\n\u001b[1;32m    120\u001b[0m         \u001b[0;32mdef\u001b[0m \u001b[0m__init__\u001b[0m\u001b[0;34m(\u001b[0m\u001b[0mself\u001b[0m\u001b[0;34m,\u001b[0m \u001b[0mconfig\u001b[0m\u001b[0;34m=\u001b[0m\u001b[0;32mNone\u001b[0m\u001b[0;34m,\u001b[0m \u001b[0menv\u001b[0m\u001b[0;34m=\u001b[0m\u001b[0;32mNone\u001b[0m\u001b[0;34m,\u001b[0m \u001b[0mlogger_creator\u001b[0m\u001b[0;34m=\u001b[0m\u001b[0;32mNone\u001b[0m\u001b[0;34m)\u001b[0m\u001b[0;34m:\u001b[0m\u001b[0;34m\u001b[0m\u001b[0;34m\u001b[0m\u001b[0m\n\u001b[0;32m--> 121\u001b[0;31m             \u001b[0mTrainer\u001b[0m\u001b[0;34m.\u001b[0m\u001b[0m__init__\u001b[0m\u001b[0;34m(\u001b[0m\u001b[0mself\u001b[0m\u001b[0;34m,\u001b[0m \u001b[0mconfig\u001b[0m\u001b[0;34m,\u001b[0m \u001b[0menv\u001b[0m\u001b[0;34m,\u001b[0m \u001b[0mlogger_creator\u001b[0m\u001b[0;34m)\u001b[0m\u001b[0;34m\u001b[0m\u001b[0;34m\u001b[0m\u001b[0m\n\u001b[0m\u001b[1;32m    122\u001b[0m \u001b[0;34m\u001b[0m\u001b[0m\n\u001b[1;32m    123\u001b[0m         def _init(self, config: TrainerConfigDict,\n",
      "\u001b[0;32m~/anaconda3/lib/python3.7/site-packages/ray/rllib/agents/trainer.py\u001b[0m in \u001b[0;36m__init__\u001b[0;34m(self, config, env, logger_creator)\u001b[0m\n\u001b[1;32m    514\u001b[0m             \u001b[0mlogger_creator\u001b[0m \u001b[0;34m=\u001b[0m \u001b[0mdefault_logger_creator\u001b[0m\u001b[0;34m\u001b[0m\u001b[0;34m\u001b[0m\u001b[0m\n\u001b[1;32m    515\u001b[0m \u001b[0;34m\u001b[0m\u001b[0m\n\u001b[0;32m--> 516\u001b[0;31m         \u001b[0msuper\u001b[0m\u001b[0;34m(\u001b[0m\u001b[0;34m)\u001b[0m\u001b[0;34m.\u001b[0m\u001b[0m__init__\u001b[0m\u001b[0;34m(\u001b[0m\u001b[0mconfig\u001b[0m\u001b[0;34m,\u001b[0m \u001b[0mlogger_creator\u001b[0m\u001b[0;34m)\u001b[0m\u001b[0;34m\u001b[0m\u001b[0;34m\u001b[0m\u001b[0m\n\u001b[0m\u001b[1;32m    517\u001b[0m \u001b[0;34m\u001b[0m\u001b[0m\n\u001b[1;32m    518\u001b[0m     \u001b[0;34m@\u001b[0m\u001b[0mclassmethod\u001b[0m\u001b[0;34m\u001b[0m\u001b[0;34m\u001b[0m\u001b[0m\n",
      "\u001b[0;32m~/anaconda3/lib/python3.7/site-packages/ray/tune/trainable.py\u001b[0m in \u001b[0;36m__init__\u001b[0;34m(self, config, logger_creator)\u001b[0m\n\u001b[1;32m     96\u001b[0m \u001b[0;34m\u001b[0m\u001b[0m\n\u001b[1;32m     97\u001b[0m         \u001b[0mstart_time\u001b[0m \u001b[0;34m=\u001b[0m \u001b[0mtime\u001b[0m\u001b[0;34m.\u001b[0m\u001b[0mtime\u001b[0m\u001b[0;34m(\u001b[0m\u001b[0;34m)\u001b[0m\u001b[0;34m\u001b[0m\u001b[0;34m\u001b[0m\u001b[0m\n\u001b[0;32m---> 98\u001b[0;31m         \u001b[0mself\u001b[0m\u001b[0;34m.\u001b[0m\u001b[0msetup\u001b[0m\u001b[0;34m(\u001b[0m\u001b[0mcopy\u001b[0m\u001b[0;34m.\u001b[0m\u001b[0mdeepcopy\u001b[0m\u001b[0;34m(\u001b[0m\u001b[0mself\u001b[0m\u001b[0;34m.\u001b[0m\u001b[0mconfig\u001b[0m\u001b[0;34m)\u001b[0m\u001b[0;34m)\u001b[0m\u001b[0;34m\u001b[0m\u001b[0;34m\u001b[0m\u001b[0m\n\u001b[0m\u001b[1;32m     99\u001b[0m         \u001b[0msetup_time\u001b[0m \u001b[0;34m=\u001b[0m \u001b[0mtime\u001b[0m\u001b[0;34m.\u001b[0m\u001b[0mtime\u001b[0m\u001b[0;34m(\u001b[0m\u001b[0;34m)\u001b[0m \u001b[0;34m-\u001b[0m \u001b[0mstart_time\u001b[0m\u001b[0;34m\u001b[0m\u001b[0;34m\u001b[0m\u001b[0m\n\u001b[1;32m    100\u001b[0m         \u001b[0;32mif\u001b[0m \u001b[0msetup_time\u001b[0m \u001b[0;34m>\u001b[0m \u001b[0mSETUP_TIME_THRESHOLD\u001b[0m\u001b[0;34m:\u001b[0m\u001b[0;34m\u001b[0m\u001b[0;34m\u001b[0m\u001b[0m\n",
      "\u001b[0;32m~/anaconda3/lib/python3.7/site-packages/ray/rllib/agents/trainer.py\u001b[0m in \u001b[0;36msetup\u001b[0;34m(self, config)\u001b[0m\n\u001b[1;32m    705\u001b[0m \u001b[0;34m\u001b[0m\u001b[0m\n\u001b[1;32m    706\u001b[0m         \u001b[0;32mwith\u001b[0m \u001b[0mget_scope\u001b[0m\u001b[0;34m(\u001b[0m\u001b[0;34m)\u001b[0m\u001b[0;34m:\u001b[0m\u001b[0;34m\u001b[0m\u001b[0;34m\u001b[0m\u001b[0m\n\u001b[0;32m--> 707\u001b[0;31m             \u001b[0mself\u001b[0m\u001b[0;34m.\u001b[0m\u001b[0m_init\u001b[0m\u001b[0;34m(\u001b[0m\u001b[0mself\u001b[0m\u001b[0;34m.\u001b[0m\u001b[0mconfig\u001b[0m\u001b[0;34m,\u001b[0m \u001b[0mself\u001b[0m\u001b[0;34m.\u001b[0m\u001b[0menv_creator\u001b[0m\u001b[0;34m)\u001b[0m\u001b[0;34m\u001b[0m\u001b[0;34m\u001b[0m\u001b[0m\n\u001b[0m\u001b[1;32m    708\u001b[0m \u001b[0;34m\u001b[0m\u001b[0m\n\u001b[1;32m    709\u001b[0m             \u001b[0;31m# Evaluation setup.\u001b[0m\u001b[0;34m\u001b[0m\u001b[0;34m\u001b[0m\u001b[0;34m\u001b[0m\u001b[0m\n",
      "\u001b[0;32m~/anaconda3/lib/python3.7/site-packages/ray/rllib/agents/trainer_template.py\u001b[0m in \u001b[0;36m_init\u001b[0;34m(self, config, env_creator)\u001b[0m\n\u001b[1;32m    151\u001b[0m                 \u001b[0mpolicy_class\u001b[0m\u001b[0;34m=\u001b[0m\u001b[0mself\u001b[0m\u001b[0;34m.\u001b[0m\u001b[0m_policy_class\u001b[0m\u001b[0;34m,\u001b[0m\u001b[0;34m\u001b[0m\u001b[0;34m\u001b[0m\u001b[0m\n\u001b[1;32m    152\u001b[0m                 \u001b[0mconfig\u001b[0m\u001b[0;34m=\u001b[0m\u001b[0mconfig\u001b[0m\u001b[0;34m,\u001b[0m\u001b[0;34m\u001b[0m\u001b[0;34m\u001b[0m\u001b[0m\n\u001b[0;32m--> 153\u001b[0;31m                 num_workers=self.config[\"num_workers\"])\n\u001b[0m\u001b[1;32m    154\u001b[0m             \u001b[0mself\u001b[0m\u001b[0;34m.\u001b[0m\u001b[0mexecution_plan\u001b[0m \u001b[0;34m=\u001b[0m \u001b[0mexecution_plan\u001b[0m\u001b[0;34m\u001b[0m\u001b[0;34m\u001b[0m\u001b[0m\n\u001b[1;32m    155\u001b[0m             \u001b[0mself\u001b[0m\u001b[0;34m.\u001b[0m\u001b[0mtrain_exec_impl\u001b[0m \u001b[0;34m=\u001b[0m \u001b[0mexecution_plan\u001b[0m\u001b[0;34m(\u001b[0m\u001b[0mself\u001b[0m\u001b[0;34m.\u001b[0m\u001b[0mworkers\u001b[0m\u001b[0;34m,\u001b[0m \u001b[0mconfig\u001b[0m\u001b[0;34m)\u001b[0m\u001b[0;34m\u001b[0m\u001b[0;34m\u001b[0m\u001b[0m\n",
      "\u001b[0;32m~/anaconda3/lib/python3.7/site-packages/ray/rllib/agents/trainer.py\u001b[0m in \u001b[0;36m_make_workers\u001b[0;34m(self, env_creator, validate_env, policy_class, config, num_workers)\u001b[0m\n\u001b[1;32m    787\u001b[0m             \u001b[0mtrainer_config\u001b[0m\u001b[0;34m=\u001b[0m\u001b[0mconfig\u001b[0m\u001b[0;34m,\u001b[0m\u001b[0;34m\u001b[0m\u001b[0;34m\u001b[0m\u001b[0m\n\u001b[1;32m    788\u001b[0m             \u001b[0mnum_workers\u001b[0m\u001b[0;34m=\u001b[0m\u001b[0mnum_workers\u001b[0m\u001b[0;34m,\u001b[0m\u001b[0;34m\u001b[0m\u001b[0;34m\u001b[0m\u001b[0m\n\u001b[0;32m--> 789\u001b[0;31m             logdir=self.logdir)\n\u001b[0m\u001b[1;32m    790\u001b[0m \u001b[0;34m\u001b[0m\u001b[0m\n\u001b[1;32m    791\u001b[0m     \u001b[0;34m@\u001b[0m\u001b[0mDeveloperAPI\u001b[0m\u001b[0;34m\u001b[0m\u001b[0;34m\u001b[0m\u001b[0m\n",
      "\u001b[0;32m~/anaconda3/lib/python3.7/site-packages/ray/rllib/evaluation/worker_set.py\u001b[0m in \u001b[0;36m__init__\u001b[0;34m(self, env_creator, validate_env, policy_class, trainer_config, num_workers, logdir, _setup)\u001b[0m\n\u001b[1;32m     79\u001b[0m                 remote_spaces = ray.get(self.remote_workers(\n\u001b[1;32m     80\u001b[0m                 \u001b[0;34m)\u001b[0m\u001b[0;34m[\u001b[0m\u001b[0;36m0\u001b[0m\u001b[0;34m]\u001b[0m\u001b[0;34m.\u001b[0m\u001b[0mforeach_policy\u001b[0m\u001b[0;34m.\u001b[0m\u001b[0mremote\u001b[0m\u001b[0;34m(\u001b[0m\u001b[0;34m\u001b[0m\u001b[0;34m\u001b[0m\u001b[0m\n\u001b[0;32m---> 81\u001b[0;31m                     lambda p, pid: (pid, p.observation_space, p.action_space)))\n\u001b[0m\u001b[1;32m     82\u001b[0m                 spaces = {\n\u001b[1;32m     83\u001b[0m                     \u001b[0me\u001b[0m\u001b[0;34m[\u001b[0m\u001b[0;36m0\u001b[0m\u001b[0;34m]\u001b[0m\u001b[0;34m:\u001b[0m \u001b[0;34m(\u001b[0m\u001b[0mgetattr\u001b[0m\u001b[0;34m(\u001b[0m\u001b[0me\u001b[0m\u001b[0;34m[\u001b[0m\u001b[0;36m1\u001b[0m\u001b[0;34m]\u001b[0m\u001b[0;34m,\u001b[0m \u001b[0;34m\"original_space\"\u001b[0m\u001b[0;34m,\u001b[0m \u001b[0me\u001b[0m\u001b[0;34m[\u001b[0m\u001b[0;36m1\u001b[0m\u001b[0;34m]\u001b[0m\u001b[0;34m)\u001b[0m\u001b[0;34m,\u001b[0m \u001b[0me\u001b[0m\u001b[0;34m[\u001b[0m\u001b[0;36m2\u001b[0m\u001b[0;34m]\u001b[0m\u001b[0;34m)\u001b[0m\u001b[0;34m\u001b[0m\u001b[0;34m\u001b[0m\u001b[0m\n",
      "\u001b[0;32m~/anaconda3/lib/python3.7/site-packages/ray/_private/client_mode_hook.py\u001b[0m in \u001b[0;36mwrapper\u001b[0;34m(*args, **kwargs)\u001b[0m\n\u001b[1;32m     45\u001b[0m         \u001b[0;32mif\u001b[0m \u001b[0mclient_mode_should_convert\u001b[0m\u001b[0;34m(\u001b[0m\u001b[0;34m)\u001b[0m\u001b[0;34m:\u001b[0m\u001b[0;34m\u001b[0m\u001b[0;34m\u001b[0m\u001b[0m\n\u001b[1;32m     46\u001b[0m             \u001b[0;32mreturn\u001b[0m \u001b[0mgetattr\u001b[0m\u001b[0;34m(\u001b[0m\u001b[0mray\u001b[0m\u001b[0;34m,\u001b[0m \u001b[0mfunc\u001b[0m\u001b[0;34m.\u001b[0m\u001b[0m__name__\u001b[0m\u001b[0;34m)\u001b[0m\u001b[0;34m(\u001b[0m\u001b[0;34m*\u001b[0m\u001b[0margs\u001b[0m\u001b[0;34m,\u001b[0m \u001b[0;34m**\u001b[0m\u001b[0mkwargs\u001b[0m\u001b[0;34m)\u001b[0m\u001b[0;34m\u001b[0m\u001b[0;34m\u001b[0m\u001b[0m\n\u001b[0;32m---> 47\u001b[0;31m         \u001b[0;32mreturn\u001b[0m \u001b[0mfunc\u001b[0m\u001b[0;34m(\u001b[0m\u001b[0;34m*\u001b[0m\u001b[0margs\u001b[0m\u001b[0;34m,\u001b[0m \u001b[0;34m**\u001b[0m\u001b[0mkwargs\u001b[0m\u001b[0;34m)\u001b[0m\u001b[0;34m\u001b[0m\u001b[0;34m\u001b[0m\u001b[0m\n\u001b[0m\u001b[1;32m     48\u001b[0m \u001b[0;34m\u001b[0m\u001b[0m\n\u001b[1;32m     49\u001b[0m     \u001b[0;32mreturn\u001b[0m \u001b[0mwrapper\u001b[0m\u001b[0;34m\u001b[0m\u001b[0;34m\u001b[0m\u001b[0m\n",
      "\u001b[0;32m~/anaconda3/lib/python3.7/site-packages/ray/worker.py\u001b[0m in \u001b[0;36mget\u001b[0;34m(object_refs, timeout)\u001b[0m\n\u001b[1;32m   1481\u001b[0m                     \u001b[0;32mraise\u001b[0m \u001b[0mvalue\u001b[0m\u001b[0;34m.\u001b[0m\u001b[0mas_instanceof_cause\u001b[0m\u001b[0;34m(\u001b[0m\u001b[0;34m)\u001b[0m\u001b[0;34m\u001b[0m\u001b[0;34m\u001b[0m\u001b[0m\n\u001b[1;32m   1482\u001b[0m                 \u001b[0;32melse\u001b[0m\u001b[0;34m:\u001b[0m\u001b[0;34m\u001b[0m\u001b[0;34m\u001b[0m\u001b[0m\n\u001b[0;32m-> 1483\u001b[0;31m                     \u001b[0;32mraise\u001b[0m \u001b[0mvalue\u001b[0m\u001b[0;34m\u001b[0m\u001b[0;34m\u001b[0m\u001b[0m\n\u001b[0m\u001b[1;32m   1484\u001b[0m \u001b[0;34m\u001b[0m\u001b[0m\n\u001b[1;32m   1485\u001b[0m         \u001b[0;32mif\u001b[0m \u001b[0mis_individual_id\u001b[0m\u001b[0;34m:\u001b[0m\u001b[0;34m\u001b[0m\u001b[0;34m\u001b[0m\u001b[0m\n",
      "\u001b[0;31mRayActorError\u001b[0m: The actor died because of an error raised in its creation task, \u001b[36mray::RolloutWorker.__init__()\u001b[39m (pid=110883, ip=10.0.3.55)\n  File \"python/ray/_raylet.pyx\", line 505, in ray._raylet.execute_task\n  File \"python/ray/_raylet.pyx\", line 449, in ray._raylet.execute_task.function_executor\n  File \"/home_nfs/mimounis/anaconda3/lib/python3.7/site-packages/ray/_private/function_manager.py\", line 556, in actor_method_executor\n    return method(__ray_actor, *args, **kwargs)\n  File \"/home_nfs/mimounis/anaconda3/lib/python3.7/site-packages/ray/rllib/evaluation/rollout_worker.py\", line 514, in __init__\n    self._build_policy_map(policy_dict, policy_config)\n  File \"/home_nfs/mimounis/anaconda3/lib/python3.7/site-packages/ray/rllib/evaluation/rollout_worker.py\", line 1155, in _build_policy_map\n    policy_map[name] = cls(obs_space, act_space, merged_conf)\n  File \"/home_nfs/mimounis/anaconda3/lib/python3.7/site-packages/ray/rllib/policy/tf_policy_template.py\", line 237, in __init__\n    get_batch_divisibility_req=get_batch_divisibility_req,\n  File \"/home_nfs/mimounis/anaconda3/lib/python3.7/site-packages/ray/rllib/policy/dynamic_tf_policy.py\", line 294, in __init__\n    self._input_dict, self._state_inputs, self._seq_lens)\n  File \"/home_nfs/mimounis/anaconda3/lib/python3.7/site-packages/ray/rllib/models/modelv2.py\", line 234, in __call__\n    res = self.forward(restored, state or [], seq_lens)\n  File \"<ipython-input-19-914fe3846d4a>\", line 25, in forward\nAttributeError: module 'tensorflow' has no attribute 'log'"
     ]
    },
    {
     "name": "stderr",
     "output_type": "stream",
     "text": [
      "\n",
      "\u001b[2m\u001b[36m(pid=110888)\u001b[0m     self._build_policy_map(policy_dict, policy_config)\n",
      "\u001b[2m\u001b[36m(pid=110888)\u001b[0m   File \"/home_nfs/mimounis/anaconda3/lib/python3.7/site-packages/ray/rllib/evaluation/rollout_worker.py\", line 1155, in _build_policy_map\n",
      "\u001b[2m\u001b[36m(pid=110888)\u001b[0m     policy_map[name] = cls(obs_space, act_space, merged_conf)\n",
      "\u001b[2m\u001b[36m(pid=110888)\u001b[0m   File \"/home_nfs/mimounis/anaconda3/lib/python3.7/site-packages/ray/rllib/policy/tf_policy_template.py\", line 237, in __init__\n",
      "\u001b[2m\u001b[36m(pid=110888)\u001b[0m     get_batch_divisibility_req=get_batch_divisibility_req,\n",
      "\u001b[2m\u001b[36m(pid=110888)\u001b[0m   File \"/home_nfs/mimounis/anaconda3/lib/python3.7/site-packages/ray/rllib/policy/dynamic_tf_policy.py\", line 294, in __init__\n",
      "\u001b[2m\u001b[36m(pid=110888)\u001b[0m     self._input_dict, self._state_inputs, self._seq_lens)\n",
      "\u001b[2m\u001b[36m(pid=110888)\u001b[0m   File \"/home_nfs/mimounis/anaconda3/lib/python3.7/site-packages/ray/rllib/models/modelv2.py\", line 234, in __call__\n",
      "\u001b[2m\u001b[36m(pid=110888)\u001b[0m     res = self.forward(restored, state or [], seq_lens)\n",
      "\u001b[2m\u001b[36m(pid=110888)\u001b[0m   File \"<ipython-input-19-914fe3846d4a>\", line 25, in forward\n",
      "\u001b[2m\u001b[36m(pid=110888)\u001b[0m AttributeError: module 'tensorflow' has no attribute 'log'\n",
      "\u001b[2m\u001b[36m(pid=110883)\u001b[0m 2021-05-28 18:20:43,597\tERROR worker.py:382 -- Exception raised in creation task: The actor died because of an error raised in its creation task, \u001b[36mray::RolloutWorker.__init__()\u001b[39m (pid=110883, ip=10.0.3.55)\n",
      "\u001b[2m\u001b[36m(pid=110883)\u001b[0m   File \"python/ray/_raylet.pyx\", line 505, in ray._raylet.execute_task\n",
      "\u001b[2m\u001b[36m(pid=110883)\u001b[0m   File \"python/ray/_raylet.pyx\", line 449, in ray._raylet.execute_task.function_executor\n",
      "\u001b[2m\u001b[36m(pid=110883)\u001b[0m   File \"/home_nfs/mimounis/anaconda3/lib/python3.7/site-packages/ray/_private/function_manager.py\", line 556, in actor_method_executor\n",
      "\u001b[2m\u001b[36m(pid=110883)\u001b[0m     return method(__ray_actor, *args, **kwargs)\n",
      "\u001b[2m\u001b[36m(pid=110883)\u001b[0m   File \"/home_nfs/mimounis/anaconda3/lib/python3.7/site-packages/ray/rllib/evaluation/rollout_worker.py\", line 514, in __init__\n",
      "\u001b[2m\u001b[36m(pid=110883)\u001b[0m     self._build_policy_map(policy_dict, policy_config)\n",
      "\u001b[2m\u001b[36m(pid=110883)\u001b[0m   File \"/home_nfs/mimounis/anaconda3/lib/python3.7/site-packages/ray/rllib/evaluation/rollout_worker.py\", line 1155, in _build_policy_map\n",
      "\u001b[2m\u001b[36m(pid=110883)\u001b[0m     policy_map[name] = cls(obs_space, act_space, merged_conf)\n",
      "\u001b[2m\u001b[36m(pid=110883)\u001b[0m   File \"/home_nfs/mimounis/anaconda3/lib/python3.7/site-packages/ray/rllib/policy/tf_policy_template.py\", line 237, in __init__\n",
      "\u001b[2m\u001b[36m(pid=110883)\u001b[0m     get_batch_divisibility_req=get_batch_divisibility_req,\n",
      "\u001b[2m\u001b[36m(pid=110883)\u001b[0m   File \"/home_nfs/mimounis/anaconda3/lib/python3.7/site-packages/ray/rllib/policy/dynamic_tf_policy.py\", line 294, in __init__\n",
      "\u001b[2m\u001b[36m(pid=110883)\u001b[0m     self._input_dict, self._state_inputs, self._seq_lens)\n",
      "\u001b[2m\u001b[36m(pid=110883)\u001b[0m   File \"/home_nfs/mimounis/anaconda3/lib/python3.7/site-packages/ray/rllib/models/modelv2.py\", line 234, in __call__\n",
      "\u001b[2m\u001b[36m(pid=110883)\u001b[0m     res = self.forward(restored, state or [], seq_lens)\n",
      "\u001b[2m\u001b[36m(pid=110883)\u001b[0m   File \"<ipython-input-19-914fe3846d4a>\", line 25, in forward\n",
      "\u001b[2m\u001b[36m(pid=110883)\u001b[0m AttributeError: module 'tensorflow' has no attribute 'log'\n"
     ]
    }
   ],
   "source": [
    "ray.init(ignore_reinit_error=True)\n",
    " \n",
    "trainer_config = {\n",
    "    \"model\": {\n",
    "        \"custom_model\": \"kp_mask\"\n",
    "        },\n",
    "    \"env_config\": env_config\n",
    "     }\n",
    "trainer = agents.ppo.PPOTrainer(env='Knapsack-v0', config=trainer_config)"
   ]
  },
  {
   "cell_type": "code",
   "execution_count": 14,
   "id": "560af6aa-ddfb-4607-b403-2db80b8681f8",
   "metadata": {},
   "outputs": [
    {
     "name": "stderr",
     "output_type": "stream",
     "text": [
      "\u001b[2m\u001b[36m(pid=110884)\u001b[0m WARNING:tensorflow:From /home_nfs/mimounis/anaconda3/lib/python3.7/site-packages/tensorflow/python/compat/v2_compat.py:96: disable_resource_variables (from tensorflow.python.ops.variable_scope) is deprecated and will be removed in a future version.\n",
      "\u001b[2m\u001b[36m(pid=110884)\u001b[0m Instructions for updating:\n",
      "\u001b[2m\u001b[36m(pid=110884)\u001b[0m non-resource variables are not supported in the long term\n",
      "\u001b[2m\u001b[36m(pid=110894)\u001b[0m WARNING:tensorflow:From /home_nfs/mimounis/anaconda3/lib/python3.7/site-packages/tensorflow/python/compat/v2_compat.py:96: disable_resource_variables (from tensorflow.python.ops.variable_scope) is deprecated and will be removed in a future version.\n",
      "\u001b[2m\u001b[36m(pid=110894)\u001b[0m Instructions for updating:\n",
      "\u001b[2m\u001b[36m(pid=110894)\u001b[0m non-resource variables are not supported in the long term\n",
      "\u001b[2m\u001b[36m(pid=110884)\u001b[0m WARNING:tensorflow:From /home_nfs/mimounis/anaconda3/lib/python3.7/site-packages/tensorflow/python/ops/resource_variable_ops.py:1666: calling BaseResourceVariable.__init__ (from tensorflow.python.ops.resource_variable_ops) with constraint is deprecated and will be removed in a future version.\n",
      "\u001b[2m\u001b[36m(pid=110884)\u001b[0m Instructions for updating:\n",
      "\u001b[2m\u001b[36m(pid=110884)\u001b[0m If using Keras pass *_constraint arguments to layers.\n",
      "\u001b[2m\u001b[36m(pid=110894)\u001b[0m WARNING:tensorflow:From /home_nfs/mimounis/anaconda3/lib/python3.7/site-packages/tensorflow/python/ops/resource_variable_ops.py:1666: calling BaseResourceVariable.__init__ (from tensorflow.python.ops.resource_variable_ops) with constraint is deprecated and will be removed in a future version.\n",
      "\u001b[2m\u001b[36m(pid=110894)\u001b[0m Instructions for updating:\n",
      "\u001b[2m\u001b[36m(pid=110894)\u001b[0m If using Keras pass *_constraint arguments to layers.\n",
      "\u001b[2m\u001b[36m(pid=110884)\u001b[0m 2021-05-28 18:17:05,042\tWARNING deprecation.py:34 -- DeprecationWarning: `TFModelV2.register_variables` has been deprecated. This will raise an error in the future!\n",
      "\u001b[2m\u001b[36m(pid=110884)\u001b[0m 2021-05-28 18:17:05,131\tERROR worker.py:382 -- Exception raised in creation task: The actor died because of an error raised in its creation task, \u001b[36mray::RolloutWorker.__init__()\u001b[39m (pid=110884, ip=10.0.3.55)\n",
      "\u001b[2m\u001b[36m(pid=110884)\u001b[0m   File \"python/ray/_raylet.pyx\", line 505, in ray._raylet.execute_task\n",
      "\u001b[2m\u001b[36m(pid=110884)\u001b[0m   File \"python/ray/_raylet.pyx\", line 449, in ray._raylet.execute_task.function_executor\n",
      "\u001b[2m\u001b[36m(pid=110884)\u001b[0m   File \"/home_nfs/mimounis/anaconda3/lib/python3.7/site-packages/ray/_private/function_manager.py\", line 556, in actor_method_executor\n",
      "\u001b[2m\u001b[36m(pid=110884)\u001b[0m     return method(__ray_actor, *args, **kwargs)\n",
      "\u001b[2m\u001b[36m(pid=110884)\u001b[0m   File \"/home_nfs/mimounis/anaconda3/lib/python3.7/site-packages/ray/rllib/evaluation/rollout_worker.py\", line 514, in __init__\n",
      "\u001b[2m\u001b[36m(pid=110884)\u001b[0m     self._build_policy_map(policy_dict, policy_config)\n",
      "\u001b[2m\u001b[36m(pid=110884)\u001b[0m   File \"/home_nfs/mimounis/anaconda3/lib/python3.7/site-packages/ray/rllib/evaluation/rollout_worker.py\", line 1155, in _build_policy_map\n",
      "\u001b[2m\u001b[36m(pid=110884)\u001b[0m     policy_map[name] = cls(obs_space, act_space, merged_conf)\n",
      "\u001b[2m\u001b[36m(pid=110884)\u001b[0m   File \"/home_nfs/mimounis/anaconda3/lib/python3.7/site-packages/ray/rllib/policy/tf_policy_template.py\", line 237, in __init__\n",
      "\u001b[2m\u001b[36m(pid=110884)\u001b[0m     get_batch_divisibility_req=get_batch_divisibility_req,\n",
      "\u001b[2m\u001b[36m(pid=110884)\u001b[0m   File \"/home_nfs/mimounis/anaconda3/lib/python3.7/site-packages/ray/rllib/policy/dynamic_tf_policy.py\", line 294, in __init__\n",
      "\u001b[2m\u001b[36m(pid=110884)\u001b[0m     self._input_dict, self._state_inputs, self._seq_lens)\n",
      "\u001b[2m\u001b[36m(pid=110884)\u001b[0m   File \"/home_nfs/mimounis/anaconda3/lib/python3.7/site-packages/ray/rllib/models/modelv2.py\", line 234, in __call__\n",
      "\u001b[2m\u001b[36m(pid=110884)\u001b[0m     res = self.forward(restored, state or [], seq_lens)\n",
      "\u001b[2m\u001b[36m(pid=110884)\u001b[0m   File \"<ipython-input-7-914fe3846d4a>\", line 22, in forward\n",
      "\u001b[2m\u001b[36m(pid=110884)\u001b[0m AttributeError: 'tuple' object has no attribute 'expand_dims'\n",
      "\u001b[2m\u001b[36m(pid=110894)\u001b[0m 2021-05-28 18:17:05,131\tERROR worker.py:382 -- Exception raised in creation task: The actor died because of an error raised in its creation task, \u001b[36mray::RolloutWorker.__init__()\u001b[39m (pid=110894, ip=10.0.3.55)\n",
      "\u001b[2m\u001b[36m(pid=110894)\u001b[0m   File \"python/ray/_raylet.pyx\", line 505, in ray._raylet.execute_task\n",
      "\u001b[2m\u001b[36m(pid=110894)\u001b[0m   File \"python/ray/_raylet.pyx\", line 449, in ray._raylet.execute_task.function_executor\n",
      "\u001b[2m\u001b[36m(pid=110894)\u001b[0m   File \"/home_nfs/mimounis/anaconda3/lib/python3.7/site-packages/ray/_private/function_manager.py\", line 556, in actor_method_executor\n",
      "\u001b[2m\u001b[36m(pid=110894)\u001b[0m     return method(__ray_actor, *args, **kwargs)\n",
      "\u001b[2m\u001b[36m(pid=110894)\u001b[0m   File \"/home_nfs/mimounis/anaconda3/lib/python3.7/site-packages/ray/rllib/evaluation/rollout_worker.py\", line 514, in __init__\n",
      "\u001b[2m\u001b[36m(pid=110894)\u001b[0m     self._build_policy_map(policy_dict, policy_config)\n",
      "\u001b[2m\u001b[36m(pid=110894)\u001b[0m   File \"/home_nfs/mimounis/anaconda3/lib/python3.7/site-packages/ray/rllib/evaluation/rollout_worker.py\", line 1155, in _build_policy_map\n",
      "\u001b[2m\u001b[36m(pid=110894)\u001b[0m     policy_map[name] = cls(obs_space, act_space, merged_conf)\n",
      "\u001b[2m\u001b[36m(pid=110894)\u001b[0m   File \"/home_nfs/mimounis/anaconda3/lib/python3.7/site-packages/ray/rllib/policy/tf_policy_template.py\", line 237, in __init__\n",
      "\u001b[2m\u001b[36m(pid=110894)\u001b[0m     get_batch_divisibility_req=get_batch_divisibility_req,\n",
      "\u001b[2m\u001b[36m(pid=110894)\u001b[0m   File \"/home_nfs/mimounis/anaconda3/lib/python3.7/site-packages/ray/rllib/policy/dynamic_tf_policy.py\", line 294, in __init__\n",
      "\u001b[2m\u001b[36m(pid=110894)\u001b[0m     self._input_dict, self._state_inputs, self._seq_lens)\n",
      "\u001b[2m\u001b[36m(pid=110894)\u001b[0m   File \"/home_nfs/mimounis/anaconda3/lib/python3.7/site-packages/ray/rllib/models/modelv2.py\", line 234, in __call__\n",
      "\u001b[2m\u001b[36m(pid=110894)\u001b[0m     res = self.forward(restored, state or [], seq_lens)\n",
      "\u001b[2m\u001b[36m(pid=110894)\u001b[0m   File \"<ipython-input-7-914fe3846d4a>\", line 22, in forward\n",
      "\u001b[2m\u001b[36m(pid=110894)\u001b[0m AttributeError: 'tuple' object has no attribute 'expand_dims'\n"
     ]
    },
    {
     "ename": "RayActorError",
     "evalue": "The actor died because of an error raised in its creation task, \u001b[36mray::RolloutWorker.__init__()\u001b[39m (pid=110884, ip=10.0.3.55)\n  File \"python/ray/_raylet.pyx\", line 505, in ray._raylet.execute_task\n  File \"python/ray/_raylet.pyx\", line 449, in ray._raylet.execute_task.function_executor\n  File \"/home_nfs/mimounis/anaconda3/lib/python3.7/site-packages/ray/_private/function_manager.py\", line 556, in actor_method_executor\n    return method(__ray_actor, *args, **kwargs)\n  File \"/home_nfs/mimounis/anaconda3/lib/python3.7/site-packages/ray/rllib/evaluation/rollout_worker.py\", line 514, in __init__\n    self._build_policy_map(policy_dict, policy_config)\n  File \"/home_nfs/mimounis/anaconda3/lib/python3.7/site-packages/ray/rllib/evaluation/rollout_worker.py\", line 1155, in _build_policy_map\n    policy_map[name] = cls(obs_space, act_space, merged_conf)\n  File \"/home_nfs/mimounis/anaconda3/lib/python3.7/site-packages/ray/rllib/policy/tf_policy_template.py\", line 237, in __init__\n    get_batch_divisibility_req=get_batch_divisibility_req,\n  File \"/home_nfs/mimounis/anaconda3/lib/python3.7/site-packages/ray/rllib/policy/dynamic_tf_policy.py\", line 294, in __init__\n    self._input_dict, self._state_inputs, self._seq_lens)\n  File \"/home_nfs/mimounis/anaconda3/lib/python3.7/site-packages/ray/rllib/models/modelv2.py\", line 234, in __call__\n    res = self.forward(restored, state or [], seq_lens)\n  File \"<ipython-input-7-914fe3846d4a>\", line 22, in forward\nAttributeError: 'tuple' object has no attribute 'expand_dims'",
     "output_type": "error",
     "traceback": [
      "\u001b[0;31m---------------------------------------------------------------------------\u001b[0m",
      "\u001b[0;31mRayActorError\u001b[0m                             Traceback (most recent call last)",
      "\u001b[0;32m<ipython-input-14-b565d0d1d461>\u001b[0m in \u001b[0;36m<module>\u001b[0;34m\u001b[0m\n\u001b[0;32m----> 1\u001b[0;31m \u001b[0mtrainer\u001b[0m \u001b[0;34m=\u001b[0m \u001b[0magents\u001b[0m\u001b[0;34m.\u001b[0m\u001b[0mppo\u001b[0m\u001b[0;34m.\u001b[0m\u001b[0mPPOTrainer\u001b[0m\u001b[0;34m(\u001b[0m\u001b[0menv\u001b[0m\u001b[0;34m=\u001b[0m\u001b[0;34m'Knapsack-v0'\u001b[0m\u001b[0;34m,\u001b[0m \u001b[0mconfig\u001b[0m\u001b[0;34m=\u001b[0m\u001b[0mtrainer_config\u001b[0m\u001b[0;34m)\u001b[0m\u001b[0;34m\u001b[0m\u001b[0;34m\u001b[0m\u001b[0m\n\u001b[0m",
      "\u001b[0;32m~/anaconda3/lib/python3.7/site-packages/ray/rllib/agents/trainer_template.py\u001b[0m in \u001b[0;36m__init__\u001b[0;34m(self, config, env, logger_creator)\u001b[0m\n\u001b[1;32m    119\u001b[0m \u001b[0;34m\u001b[0m\u001b[0m\n\u001b[1;32m    120\u001b[0m         \u001b[0;32mdef\u001b[0m \u001b[0m__init__\u001b[0m\u001b[0;34m(\u001b[0m\u001b[0mself\u001b[0m\u001b[0;34m,\u001b[0m \u001b[0mconfig\u001b[0m\u001b[0;34m=\u001b[0m\u001b[0;32mNone\u001b[0m\u001b[0;34m,\u001b[0m \u001b[0menv\u001b[0m\u001b[0;34m=\u001b[0m\u001b[0;32mNone\u001b[0m\u001b[0;34m,\u001b[0m \u001b[0mlogger_creator\u001b[0m\u001b[0;34m=\u001b[0m\u001b[0;32mNone\u001b[0m\u001b[0;34m)\u001b[0m\u001b[0;34m:\u001b[0m\u001b[0;34m\u001b[0m\u001b[0;34m\u001b[0m\u001b[0m\n\u001b[0;32m--> 121\u001b[0;31m             \u001b[0mTrainer\u001b[0m\u001b[0;34m.\u001b[0m\u001b[0m__init__\u001b[0m\u001b[0;34m(\u001b[0m\u001b[0mself\u001b[0m\u001b[0;34m,\u001b[0m \u001b[0mconfig\u001b[0m\u001b[0;34m,\u001b[0m \u001b[0menv\u001b[0m\u001b[0;34m,\u001b[0m \u001b[0mlogger_creator\u001b[0m\u001b[0;34m)\u001b[0m\u001b[0;34m\u001b[0m\u001b[0;34m\u001b[0m\u001b[0m\n\u001b[0m\u001b[1;32m    122\u001b[0m \u001b[0;34m\u001b[0m\u001b[0m\n\u001b[1;32m    123\u001b[0m         def _init(self, config: TrainerConfigDict,\n",
      "\u001b[0;32m~/anaconda3/lib/python3.7/site-packages/ray/rllib/agents/trainer.py\u001b[0m in \u001b[0;36m__init__\u001b[0;34m(self, config, env, logger_creator)\u001b[0m\n\u001b[1;32m    514\u001b[0m             \u001b[0mlogger_creator\u001b[0m \u001b[0;34m=\u001b[0m \u001b[0mdefault_logger_creator\u001b[0m\u001b[0;34m\u001b[0m\u001b[0;34m\u001b[0m\u001b[0m\n\u001b[1;32m    515\u001b[0m \u001b[0;34m\u001b[0m\u001b[0m\n\u001b[0;32m--> 516\u001b[0;31m         \u001b[0msuper\u001b[0m\u001b[0;34m(\u001b[0m\u001b[0;34m)\u001b[0m\u001b[0;34m.\u001b[0m\u001b[0m__init__\u001b[0m\u001b[0;34m(\u001b[0m\u001b[0mconfig\u001b[0m\u001b[0;34m,\u001b[0m \u001b[0mlogger_creator\u001b[0m\u001b[0;34m)\u001b[0m\u001b[0;34m\u001b[0m\u001b[0;34m\u001b[0m\u001b[0m\n\u001b[0m\u001b[1;32m    517\u001b[0m \u001b[0;34m\u001b[0m\u001b[0m\n\u001b[1;32m    518\u001b[0m     \u001b[0;34m@\u001b[0m\u001b[0mclassmethod\u001b[0m\u001b[0;34m\u001b[0m\u001b[0;34m\u001b[0m\u001b[0m\n",
      "\u001b[0;32m~/anaconda3/lib/python3.7/site-packages/ray/tune/trainable.py\u001b[0m in \u001b[0;36m__init__\u001b[0;34m(self, config, logger_creator)\u001b[0m\n\u001b[1;32m     96\u001b[0m \u001b[0;34m\u001b[0m\u001b[0m\n\u001b[1;32m     97\u001b[0m         \u001b[0mstart_time\u001b[0m \u001b[0;34m=\u001b[0m \u001b[0mtime\u001b[0m\u001b[0;34m.\u001b[0m\u001b[0mtime\u001b[0m\u001b[0;34m(\u001b[0m\u001b[0;34m)\u001b[0m\u001b[0;34m\u001b[0m\u001b[0;34m\u001b[0m\u001b[0m\n\u001b[0;32m---> 98\u001b[0;31m         \u001b[0mself\u001b[0m\u001b[0;34m.\u001b[0m\u001b[0msetup\u001b[0m\u001b[0;34m(\u001b[0m\u001b[0mcopy\u001b[0m\u001b[0;34m.\u001b[0m\u001b[0mdeepcopy\u001b[0m\u001b[0;34m(\u001b[0m\u001b[0mself\u001b[0m\u001b[0;34m.\u001b[0m\u001b[0mconfig\u001b[0m\u001b[0;34m)\u001b[0m\u001b[0;34m)\u001b[0m\u001b[0;34m\u001b[0m\u001b[0;34m\u001b[0m\u001b[0m\n\u001b[0m\u001b[1;32m     99\u001b[0m         \u001b[0msetup_time\u001b[0m \u001b[0;34m=\u001b[0m \u001b[0mtime\u001b[0m\u001b[0;34m.\u001b[0m\u001b[0mtime\u001b[0m\u001b[0;34m(\u001b[0m\u001b[0;34m)\u001b[0m \u001b[0;34m-\u001b[0m \u001b[0mstart_time\u001b[0m\u001b[0;34m\u001b[0m\u001b[0;34m\u001b[0m\u001b[0m\n\u001b[1;32m    100\u001b[0m         \u001b[0;32mif\u001b[0m \u001b[0msetup_time\u001b[0m \u001b[0;34m>\u001b[0m \u001b[0mSETUP_TIME_THRESHOLD\u001b[0m\u001b[0;34m:\u001b[0m\u001b[0;34m\u001b[0m\u001b[0;34m\u001b[0m\u001b[0m\n",
      "\u001b[0;32m~/anaconda3/lib/python3.7/site-packages/ray/rllib/agents/trainer.py\u001b[0m in \u001b[0;36msetup\u001b[0;34m(self, config)\u001b[0m\n\u001b[1;32m    705\u001b[0m \u001b[0;34m\u001b[0m\u001b[0m\n\u001b[1;32m    706\u001b[0m         \u001b[0;32mwith\u001b[0m \u001b[0mget_scope\u001b[0m\u001b[0;34m(\u001b[0m\u001b[0;34m)\u001b[0m\u001b[0;34m:\u001b[0m\u001b[0;34m\u001b[0m\u001b[0;34m\u001b[0m\u001b[0m\n\u001b[0;32m--> 707\u001b[0;31m             \u001b[0mself\u001b[0m\u001b[0;34m.\u001b[0m\u001b[0m_init\u001b[0m\u001b[0;34m(\u001b[0m\u001b[0mself\u001b[0m\u001b[0;34m.\u001b[0m\u001b[0mconfig\u001b[0m\u001b[0;34m,\u001b[0m \u001b[0mself\u001b[0m\u001b[0;34m.\u001b[0m\u001b[0menv_creator\u001b[0m\u001b[0;34m)\u001b[0m\u001b[0;34m\u001b[0m\u001b[0;34m\u001b[0m\u001b[0m\n\u001b[0m\u001b[1;32m    708\u001b[0m \u001b[0;34m\u001b[0m\u001b[0m\n\u001b[1;32m    709\u001b[0m             \u001b[0;31m# Evaluation setup.\u001b[0m\u001b[0;34m\u001b[0m\u001b[0;34m\u001b[0m\u001b[0;34m\u001b[0m\u001b[0m\n",
      "\u001b[0;32m~/anaconda3/lib/python3.7/site-packages/ray/rllib/agents/trainer_template.py\u001b[0m in \u001b[0;36m_init\u001b[0;34m(self, config, env_creator)\u001b[0m\n\u001b[1;32m    151\u001b[0m                 \u001b[0mpolicy_class\u001b[0m\u001b[0;34m=\u001b[0m\u001b[0mself\u001b[0m\u001b[0;34m.\u001b[0m\u001b[0m_policy_class\u001b[0m\u001b[0;34m,\u001b[0m\u001b[0;34m\u001b[0m\u001b[0;34m\u001b[0m\u001b[0m\n\u001b[1;32m    152\u001b[0m                 \u001b[0mconfig\u001b[0m\u001b[0;34m=\u001b[0m\u001b[0mconfig\u001b[0m\u001b[0;34m,\u001b[0m\u001b[0;34m\u001b[0m\u001b[0;34m\u001b[0m\u001b[0m\n\u001b[0;32m--> 153\u001b[0;31m                 num_workers=self.config[\"num_workers\"])\n\u001b[0m\u001b[1;32m    154\u001b[0m             \u001b[0mself\u001b[0m\u001b[0;34m.\u001b[0m\u001b[0mexecution_plan\u001b[0m \u001b[0;34m=\u001b[0m \u001b[0mexecution_plan\u001b[0m\u001b[0;34m\u001b[0m\u001b[0;34m\u001b[0m\u001b[0m\n\u001b[1;32m    155\u001b[0m             \u001b[0mself\u001b[0m\u001b[0;34m.\u001b[0m\u001b[0mtrain_exec_impl\u001b[0m \u001b[0;34m=\u001b[0m \u001b[0mexecution_plan\u001b[0m\u001b[0;34m(\u001b[0m\u001b[0mself\u001b[0m\u001b[0;34m.\u001b[0m\u001b[0mworkers\u001b[0m\u001b[0;34m,\u001b[0m \u001b[0mconfig\u001b[0m\u001b[0;34m)\u001b[0m\u001b[0;34m\u001b[0m\u001b[0;34m\u001b[0m\u001b[0m\n",
      "\u001b[0;32m~/anaconda3/lib/python3.7/site-packages/ray/rllib/agents/trainer.py\u001b[0m in \u001b[0;36m_make_workers\u001b[0;34m(self, env_creator, validate_env, policy_class, config, num_workers)\u001b[0m\n\u001b[1;32m    787\u001b[0m             \u001b[0mtrainer_config\u001b[0m\u001b[0;34m=\u001b[0m\u001b[0mconfig\u001b[0m\u001b[0;34m,\u001b[0m\u001b[0;34m\u001b[0m\u001b[0;34m\u001b[0m\u001b[0m\n\u001b[1;32m    788\u001b[0m             \u001b[0mnum_workers\u001b[0m\u001b[0;34m=\u001b[0m\u001b[0mnum_workers\u001b[0m\u001b[0;34m,\u001b[0m\u001b[0;34m\u001b[0m\u001b[0;34m\u001b[0m\u001b[0m\n\u001b[0;32m--> 789\u001b[0;31m             logdir=self.logdir)\n\u001b[0m\u001b[1;32m    790\u001b[0m \u001b[0;34m\u001b[0m\u001b[0m\n\u001b[1;32m    791\u001b[0m     \u001b[0;34m@\u001b[0m\u001b[0mDeveloperAPI\u001b[0m\u001b[0;34m\u001b[0m\u001b[0;34m\u001b[0m\u001b[0m\n",
      "\u001b[0;32m~/anaconda3/lib/python3.7/site-packages/ray/rllib/evaluation/worker_set.py\u001b[0m in \u001b[0;36m__init__\u001b[0;34m(self, env_creator, validate_env, policy_class, trainer_config, num_workers, logdir, _setup)\u001b[0m\n\u001b[1;32m     79\u001b[0m                 remote_spaces = ray.get(self.remote_workers(\n\u001b[1;32m     80\u001b[0m                 \u001b[0;34m)\u001b[0m\u001b[0;34m[\u001b[0m\u001b[0;36m0\u001b[0m\u001b[0;34m]\u001b[0m\u001b[0;34m.\u001b[0m\u001b[0mforeach_policy\u001b[0m\u001b[0;34m.\u001b[0m\u001b[0mremote\u001b[0m\u001b[0;34m(\u001b[0m\u001b[0;34m\u001b[0m\u001b[0;34m\u001b[0m\u001b[0m\n\u001b[0;32m---> 81\u001b[0;31m                     lambda p, pid: (pid, p.observation_space, p.action_space)))\n\u001b[0m\u001b[1;32m     82\u001b[0m                 spaces = {\n\u001b[1;32m     83\u001b[0m                     \u001b[0me\u001b[0m\u001b[0;34m[\u001b[0m\u001b[0;36m0\u001b[0m\u001b[0;34m]\u001b[0m\u001b[0;34m:\u001b[0m \u001b[0;34m(\u001b[0m\u001b[0mgetattr\u001b[0m\u001b[0;34m(\u001b[0m\u001b[0me\u001b[0m\u001b[0;34m[\u001b[0m\u001b[0;36m1\u001b[0m\u001b[0;34m]\u001b[0m\u001b[0;34m,\u001b[0m \u001b[0;34m\"original_space\"\u001b[0m\u001b[0;34m,\u001b[0m \u001b[0me\u001b[0m\u001b[0;34m[\u001b[0m\u001b[0;36m1\u001b[0m\u001b[0;34m]\u001b[0m\u001b[0;34m)\u001b[0m\u001b[0;34m,\u001b[0m \u001b[0me\u001b[0m\u001b[0;34m[\u001b[0m\u001b[0;36m2\u001b[0m\u001b[0;34m]\u001b[0m\u001b[0;34m)\u001b[0m\u001b[0;34m\u001b[0m\u001b[0;34m\u001b[0m\u001b[0m\n",
      "\u001b[0;32m~/anaconda3/lib/python3.7/site-packages/ray/_private/client_mode_hook.py\u001b[0m in \u001b[0;36mwrapper\u001b[0;34m(*args, **kwargs)\u001b[0m\n\u001b[1;32m     45\u001b[0m         \u001b[0;32mif\u001b[0m \u001b[0mclient_mode_should_convert\u001b[0m\u001b[0;34m(\u001b[0m\u001b[0;34m)\u001b[0m\u001b[0;34m:\u001b[0m\u001b[0;34m\u001b[0m\u001b[0;34m\u001b[0m\u001b[0m\n\u001b[1;32m     46\u001b[0m             \u001b[0;32mreturn\u001b[0m \u001b[0mgetattr\u001b[0m\u001b[0;34m(\u001b[0m\u001b[0mray\u001b[0m\u001b[0;34m,\u001b[0m \u001b[0mfunc\u001b[0m\u001b[0;34m.\u001b[0m\u001b[0m__name__\u001b[0m\u001b[0;34m)\u001b[0m\u001b[0;34m(\u001b[0m\u001b[0;34m*\u001b[0m\u001b[0margs\u001b[0m\u001b[0;34m,\u001b[0m \u001b[0;34m**\u001b[0m\u001b[0mkwargs\u001b[0m\u001b[0;34m)\u001b[0m\u001b[0;34m\u001b[0m\u001b[0;34m\u001b[0m\u001b[0m\n\u001b[0;32m---> 47\u001b[0;31m         \u001b[0;32mreturn\u001b[0m \u001b[0mfunc\u001b[0m\u001b[0;34m(\u001b[0m\u001b[0;34m*\u001b[0m\u001b[0margs\u001b[0m\u001b[0;34m,\u001b[0m \u001b[0;34m**\u001b[0m\u001b[0mkwargs\u001b[0m\u001b[0;34m)\u001b[0m\u001b[0;34m\u001b[0m\u001b[0;34m\u001b[0m\u001b[0m\n\u001b[0m\u001b[1;32m     48\u001b[0m \u001b[0;34m\u001b[0m\u001b[0m\n\u001b[1;32m     49\u001b[0m     \u001b[0;32mreturn\u001b[0m \u001b[0mwrapper\u001b[0m\u001b[0;34m\u001b[0m\u001b[0;34m\u001b[0m\u001b[0m\n",
      "\u001b[0;32m~/anaconda3/lib/python3.7/site-packages/ray/worker.py\u001b[0m in \u001b[0;36mget\u001b[0;34m(object_refs, timeout)\u001b[0m\n\u001b[1;32m   1481\u001b[0m                     \u001b[0;32mraise\u001b[0m \u001b[0mvalue\u001b[0m\u001b[0;34m.\u001b[0m\u001b[0mas_instanceof_cause\u001b[0m\u001b[0;34m(\u001b[0m\u001b[0;34m)\u001b[0m\u001b[0;34m\u001b[0m\u001b[0;34m\u001b[0m\u001b[0m\n\u001b[1;32m   1482\u001b[0m                 \u001b[0;32melse\u001b[0m\u001b[0;34m:\u001b[0m\u001b[0;34m\u001b[0m\u001b[0;34m\u001b[0m\u001b[0m\n\u001b[0;32m-> 1483\u001b[0;31m                     \u001b[0;32mraise\u001b[0m \u001b[0mvalue\u001b[0m\u001b[0;34m\u001b[0m\u001b[0;34m\u001b[0m\u001b[0m\n\u001b[0m\u001b[1;32m   1484\u001b[0m \u001b[0;34m\u001b[0m\u001b[0m\n\u001b[1;32m   1485\u001b[0m         \u001b[0;32mif\u001b[0m \u001b[0mis_individual_id\u001b[0m\u001b[0;34m:\u001b[0m\u001b[0;34m\u001b[0m\u001b[0;34m\u001b[0m\u001b[0m\n",
      "\u001b[0;31mRayActorError\u001b[0m: The actor died because of an error raised in its creation task, \u001b[36mray::RolloutWorker.__init__()\u001b[39m (pid=110884, ip=10.0.3.55)\n  File \"python/ray/_raylet.pyx\", line 505, in ray._raylet.execute_task\n  File \"python/ray/_raylet.pyx\", line 449, in ray._raylet.execute_task.function_executor\n  File \"/home_nfs/mimounis/anaconda3/lib/python3.7/site-packages/ray/_private/function_manager.py\", line 556, in actor_method_executor\n    return method(__ray_actor, *args, **kwargs)\n  File \"/home_nfs/mimounis/anaconda3/lib/python3.7/site-packages/ray/rllib/evaluation/rollout_worker.py\", line 514, in __init__\n    self._build_policy_map(policy_dict, policy_config)\n  File \"/home_nfs/mimounis/anaconda3/lib/python3.7/site-packages/ray/rllib/evaluation/rollout_worker.py\", line 1155, in _build_policy_map\n    policy_map[name] = cls(obs_space, act_space, merged_conf)\n  File \"/home_nfs/mimounis/anaconda3/lib/python3.7/site-packages/ray/rllib/policy/tf_policy_template.py\", line 237, in __init__\n    get_batch_divisibility_req=get_batch_divisibility_req,\n  File \"/home_nfs/mimounis/anaconda3/lib/python3.7/site-packages/ray/rllib/policy/dynamic_tf_policy.py\", line 294, in __init__\n    self._input_dict, self._state_inputs, self._seq_lens)\n  File \"/home_nfs/mimounis/anaconda3/lib/python3.7/site-packages/ray/rllib/models/modelv2.py\", line 234, in __call__\n    res = self.forward(restored, state or [], seq_lens)\n  File \"<ipython-input-7-914fe3846d4a>\", line 22, in forward\nAttributeError: 'tuple' object has no attribute 'expand_dims'"
     ]
    }
   ],
   "source": []
  },
  {
   "cell_type": "code",
   "execution_count": 15,
   "id": "1771d44d-2b86-453e-aaa7-fda5b3044200",
   "metadata": {},
   "outputs": [
    {
     "ename": "NameError",
     "evalue": "name 'trainer' is not defined",
     "output_type": "error",
     "traceback": [
      "\u001b[0;31m---------------------------------------------------------------------------\u001b[0m",
      "\u001b[0;31mNameError\u001b[0m                                 Traceback (most recent call last)",
      "\u001b[0;32m<ipython-input-15-9a6b90f991aa>\u001b[0m in \u001b[0;36m<module>\u001b[0;34m\u001b[0m\n\u001b[0;32m----> 1\u001b[0;31m \u001b[0menv\u001b[0m \u001b[0;34m=\u001b[0m \u001b[0mtrainer\u001b[0m\u001b[0;34m.\u001b[0m\u001b[0menv_creator\u001b[0m\u001b[0;34m(\u001b[0m\u001b[0;34m'Knapsack-v0'\u001b[0m\u001b[0;34m)\u001b[0m\u001b[0;34m\u001b[0m\u001b[0;34m\u001b[0m\u001b[0m\n\u001b[0m\u001b[1;32m      2\u001b[0m \u001b[0mstate\u001b[0m \u001b[0;34m=\u001b[0m \u001b[0menv\u001b[0m\u001b[0;34m.\u001b[0m\u001b[0mstate\u001b[0m\u001b[0;34m\u001b[0m\u001b[0;34m\u001b[0m\u001b[0m\n\u001b[1;32m      3\u001b[0m \u001b[0mstate\u001b[0m\u001b[0;34m[\u001b[0m\u001b[0;34m'action_mask'\u001b[0m\u001b[0;34m]\u001b[0m\u001b[0;34m[\u001b[0m\u001b[0;36m0\u001b[0m\u001b[0;34m]\u001b[0m \u001b[0;34m=\u001b[0m \u001b[0;36m0\u001b[0m\u001b[0;34m\u001b[0m\u001b[0;34m\u001b[0m\u001b[0m\n",
      "\u001b[0;31mNameError\u001b[0m: name 'trainer' is not defined"
     ]
    }
   ],
   "source": [
    "env = trainer.env_creator('Knapsack-v0')\n",
    "state = env.state\n",
    "state['action_mask'][0] = 0"
   ]
  }
 ],
 "metadata": {
  "kernelspec": {
   "display_name": "Python 3.7.4 64-bit ('base': conda)",
   "language": "python",
   "name": "python37464bitbaseconda148081fa46834969a3b218adc4b68ee7"
  },
  "language_info": {
   "codemirror_mode": {
    "name": "ipython",
    "version": 3
   },
   "file_extension": ".py",
   "mimetype": "text/x-python",
   "name": "python",
   "nbconvert_exporter": "python",
   "pygments_lexer": "ipython3",
   "version": "3.7.10"
  }
 },
 "nbformat": 4,
 "nbformat_minor": 5
}
