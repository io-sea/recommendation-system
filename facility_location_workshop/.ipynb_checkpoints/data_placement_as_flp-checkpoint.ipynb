{
 "cells": [
  {
   "cell_type": "markdown",
   "id": "2df1016b-ab6e-49e5-962a-bcf886b87783",
   "metadata": {},
   "source": [
    "Reminder of Task 3.4 objectives:\n",
    "\n",
    "This task will develop AI-based analytics tools to classify applications upon their IO behaviour in order to \n",
    "estimate their reproducibility. Once a family of reproducible applications is identified, its average behaviour \n",
    "is evaluated and will be used to perform: \n",
    "- optimizations on Ephemeral IO services resource allocation \n",
    "- optimizations on data placement \n",
    "- optimizations for energy efficiency \n",
    "\n"
   ]
  },
  {
   "cell_type": "markdown",
   "id": "6fe2689c-1adc-46fe-aef3-3ecc63d32054",
   "metadata": {},
   "source": [
    "Objectives are for M12-M36, but we need to provide inputs for:\n",
    "- Task 3.1 – Instrumentation and Monitoring Design\n",
    "- Task 3.2 – Application IO Instrumentation\n",
    "- Task 3.3 – Infrastructure Monitoring and health check"
   ]
  },
  {
   "cell_type": "code",
   "execution_count": null,
   "id": "6432b046-0344-47ef-9b97-a16c2295e1dd",
   "metadata": {},
   "outputs": [],
   "source": []
  },
  {
   "cell_type": "markdown",
   "id": "d18afe4f-de28-4d05-8cf4-c8c93b4266a7",
   "metadata": {},
   "source": [
    "Data Placement Problem belongs to a familiy of problems (similar to logistics, supply chain, asset allocation, scheduling) that can be solved using:\n",
    "1. OR (Operational Research) heuristics [https://arxiv.org/pdf/2008.06319.pdf]\n",
    "2. RL methods\n",
    "    "
   ]
  },
  {
   "cell_type": "markdown",
   "id": "f449db04-d7dd-44fb-8456-0471d5f2fd35",
   "metadata": {},
   "source": [
    "Let's compare some results for known/similar problems when solved using RL, MILP (mixed-integer linear programming) and heuristic (best state of the art algorithmic solutions).\n",
    "Keep in mind that problem variations can not always be tackled by MILP and heuristics, but it is a good way to start with."
   ]
  },
  {
   "cell_type": "markdown",
   "id": "3b737c20-34fc-4d1f-a3da-8d7f9d8464b8",
   "metadata": {},
   "source": [
    "<p float=\"center\">\n",
    "    <img src=\"knapsack_results.png\" width=\"1200\"/>\n",
    "    <img src=\"asset_allocation_results.png\" width=\"800\"/>\n",
    "</p>"
   ]
  },
  {
   "cell_type": "code",
   "execution_count": 16,
   "id": "79ee5206-d47b-4c08-a236-c840b008ba8c",
   "metadata": {},
   "outputs": [
    {
     "name": "stdout",
     "output_type": "stream",
     "text": [
      "\u001b[33mWARNING: Ignoring invalid distribution -umpy (/home_nfs/mimounis/anaconda3/lib/python3.7/site-packages)\u001b[0m\n",
      "\u001b[33mWARNING: Ignoring invalid distribution -cipy (/home_nfs/mimounis/anaconda3/lib/python3.7/site-packages)\u001b[0m\n",
      "\u001b[33mWARNING: Ignoring invalid distribution -umpy (/home_nfs/mimounis/anaconda3/lib/python3.7/site-packages)\u001b[0m\n",
      "\u001b[33mWARNING: Ignoring invalid distribution -cipy (/home_nfs/mimounis/anaconda3/lib/python3.7/site-packages)\u001b[0m\n",
      "Requirement already satisfied: pulp in /home_nfs/mimounis/anaconda3/lib/python3.7/site-packages (2.4)\n",
      "Requirement already satisfied: amply>=0.1.2 in /home_nfs/mimounis/anaconda3/lib/python3.7/site-packages (from pulp) (0.1.4)\n",
      "Requirement already satisfied: docutils>=0.3 in /home_nfs/mimounis/anaconda3/lib/python3.7/site-packages (from amply>=0.1.2->pulp) (0.17.1)\n",
      "Requirement already satisfied: pyparsing in /home_nfs/mimounis/anaconda3/lib/python3.7/site-packages (from amply>=0.1.2->pulp) (2.4.7)\n",
      "\u001b[33mWARNING: Ignoring invalid distribution -umpy (/home_nfs/mimounis/anaconda3/lib/python3.7/site-packages)\u001b[0m\n",
      "\u001b[33mWARNING: Ignoring invalid distribution -cipy (/home_nfs/mimounis/anaconda3/lib/python3.7/site-packages)\u001b[0m\n",
      "\u001b[33mWARNING: Ignoring invalid distribution -umpy (/home_nfs/mimounis/anaconda3/lib/python3.7/site-packages)\u001b[0m\n",
      "\u001b[33mWARNING: Ignoring invalid distribution -cipy (/home_nfs/mimounis/anaconda3/lib/python3.7/site-packages)\u001b[0m\n",
      "\u001b[33mWARNING: Ignoring invalid distribution -umpy (/home_nfs/mimounis/anaconda3/lib/python3.7/site-packages)\u001b[0m\n",
      "\u001b[33mWARNING: Ignoring invalid distribution -cipy (/home_nfs/mimounis/anaconda3/lib/python3.7/site-packages)\u001b[0m\n",
      "\u001b[33mWARNING: Ignoring invalid distribution -umpy (/home_nfs/mimounis/anaconda3/lib/python3.7/site-packages)\u001b[0m\n",
      "\u001b[33mWARNING: Ignoring invalid distribution -cipy (/home_nfs/mimounis/anaconda3/lib/python3.7/site-packages)\u001b[0m\n"
     ]
    }
   ],
   "source": [
    "!export https_proxy=http://129.183.4.13:8080\n",
    "!export http_proxy=http://129.183.4.13:8080\n",
    "!pip install pulp"
   ]
  },
  {
   "cell_type": "markdown",
   "id": "d8ec62b4-dda8-4283-b180-639652bc2173",
   "metadata": {},
   "source": [
    "Facility location problems are often solved as integer programs but are subject to many variations. \n",
    "\n",
    "In this context, facility location problems are often posed as follows: suppose there are $n$ facilities and $m$ customers. We wish to choose (1) which of the $n$ facilities to open, and (2) which (open) facilities to use to supply the $m$ customers, in order to satisfy some fixed demand at minimum cost. We introduce the following notation: let $f_{i}$ denote the (fixed) cost of opening facility $i$, $i=1,\\dots ,n$. \n",
    "\n",
    "Let $c_{ij}$ denote the cost to ship a product from facility $i$ to customer $j$ for $i=1,\\dots ,n $ and $j=1,\\dots ,m$. \n",
    "\n",
    "Let $d_{j}$ denote the demand of customer $j$ for $j=1,\\dots ,m$. \n",
    "\n",
    "Further suppose that each facility has a maximum output. Let $u_{i}$ denote the maximum amount of product that can be produced by facility $i$, that is, let $u_{i}$ denote the capacity of facility $i$."
   ]
  },
  {
   "cell_type": "markdown",
   "id": "3de9856e-903c-4dfd-abb0-6f9034f042d0",
   "metadata": {},
   "source": [
    "\\begin{array}{rl}\n",
    "\\min & \\displaystyle\\sum_{i=1}^n\\sum_{j=1}^mc_{ij} d_j y_{ij}+\\sum_{i=1}^nf_ix_i \\\\\n",
    "\\text{s.t.} & \\displaystyle\\sum_{i=1}^ny_{ij}=1 \\text{ for all }j=1,\\dots,m \\\\\n",
    "& \\displaystyle \\sum_{j=1}^md_jy_{ij}\\leqslant u_ix_i\\text{ for all }i=1\\dots,n \\\\\n",
    "&y_{ij}\\geqslant0\\text{ for all }i=1,\\dots,n \\text{ and }j=1,\\dots,m\\\\\n",
    "&x_i\\in\\{0,1\\}\\text{ for all } i=1,\\dots,n\n",
    "\\end{array}"
   ]
  },
  {
   "cell_type": "markdown",
   "id": "5a433fda-9376-441a-b372-55e3899d38a6",
   "metadata": {},
   "source": [
    "<p float=\"center\">\n",
    "    <img src=\"https://scipbook.readthedocs.io/en/latest/_images/flp.png\" width=\"500\"/>\n",
    "    <img src=\"data_placement_problem.png\" width=\"500\"/>\n",
    "</p>"
   ]
  },
  {
   "cell_type": "code",
   "execution_count": 17,
   "id": "bb5c331f-ea2d-41d8-a339-db61cd4c25f3",
   "metadata": {},
   "outputs": [],
   "source": [
    "from pulp import *\n",
    "\n",
    "#SETS\n",
    "nodes = [1, 2, 3, 4, 5]  # customers are nodes, they express demand\n",
    "disks = ['T1', 'T2', 'T3'] # disks are facility, they offer service with limited capacity"
   ]
  },
  {
   "cell_type": "code",
   "execution_count": 18,
   "id": "de1c10fc-6cf0-4649-91c5-e14274227dbb",
   "metadata": {},
   "outputs": [],
   "source": [
    "# Volumes requested by each node in GB  \n",
    "# Could detail files/objects to be read/written\n",
    "demand = {1:80, 2: 270, 3:250, 4: 160, 5: 180} #GB\n",
    "\n",
    "# For instance (with lifecycle):\n",
    "#demand = {1: ['obj8', 'obj13'],\n",
    "#         2: ['obj12', 'obj13'],...}\n",
    "# For instance:\n",
    "#demand = {1: [60, 20],   # node 1 will request to read 60 GB read and to write 20GB of data \n",
    "#         2: [170, 100], ...} # # node 2 will request to read 60 GB read and to write 20GB of data "
   ]
  },
  {
   "cell_type": "code",
   "execution_count": 19,
   "id": "807132f3-049a-4737-ab3f-7f2c20481f27",
   "metadata": {},
   "outputs": [],
   "source": [
    "# Here we convert initial cost of opening a facility to access latency for a specific Tier\n",
    "# this duration as expressed here run once (as it was an assignment cost, cost of plugging a Tier to a Node)\n",
    "# it should be affected at each access if needed\n",
    "# it should be useful later for modeling seek/access, for hdd/tape may be statistical distrib\n",
    "latency = {'T1': 10e-3, 'T2': 100e-3, 'T3': 1000e-3} # latencies in s  "
   ]
  },
  {
   "cell_type": "code",
   "execution_count": 20,
   "id": "c8de51be-74f2-450d-848b-fd1516a35c33",
   "metadata": {},
   "outputs": [],
   "source": [
    "# Here we give capacity for each Tier\n",
    "# How to update this ?\n",
    "capacity = {\"T1\": 300, \"T2\": 500, \"T3\": 1e3} # in GB"
   ]
  },
  {
   "cell_type": "code",
   "execution_count": 21,
   "id": "a7524d4f-733d-4828-b48e-cf2162348104",
   "metadata": {},
   "outputs": [],
   "source": [
    "# Instead of expressing directly a cost function, we would like to minimize IO durations\n",
    "# So we will use bandwidth as Tier properties in GB/s\n",
    "bandwidth = {\"T1\": 10, \"T2\": 2, \"T3\": 1} # in GB/s \n",
    "# Here bandwidth is a sort of constant hardware spec\n",
    "# It get not diminished when simultaneous transfer\n",
    "# Is considered constant while it could vary with access mode R/W Seq/Stride/Rand req_size \n",
    "# We could imagine later minimizing energy consumption for instance\n",
    "# But we'll need to be able to predict energy_consumption(file/object, node, Tier)\n",
    "# bandwidth = {\"T1\": t1_energy_consumption, \"T2\": t2_energy_consumption, \"T3\": t3_energy_consumption}"
   ]
  },
  {
   "cell_type": "code",
   "execution_count": 22,
   "id": "42ce013d-2d0c-4c65-a349-4a2d83f16b02",
   "metadata": {},
   "outputs": [],
   "source": [
    "# So we define a linear program problem (objective function is linear on variables)\n",
    "# We choose to minimize total IO time for placing workflow data\n",
    "prob = LpProblem(\"DataPlacementTimeMin\", LpMinimize)"
   ]
  },
  {
   "cell_type": "code",
   "execution_count": 23,
   "id": "7bde2644-8b7c-4bc1-acf3-f63a22e52c96",
   "metadata": {},
   "outputs": [],
   "source": [
    "# First varuable assignement y: \n",
    "# y_i_j or y(i, j) \n",
    "# y_T1_node1 = 1 means that you place 100% of data requested by node 1 in T1.\n",
    "y = LpVariable.dicts(\"Placement\",\n",
    "                         [(i, j) for i in disks for j in nodes], lowBound=0, cat='Binary') #lower band, >=0 #y(i, j)\n",
    "# please notice that could be switched  later to cat='Continuous'"
   ]
  },
  {
   "cell_type": "markdown",
   "id": "81d54375-5c1f-4b6d-bd53-8499a670789d",
   "metadata": {},
   "source": [
    "- [ ] switch to continuous for y"
   ]
  },
  {
   "cell_type": "code",
   "execution_count": 24,
   "id": "17f0f04c-136f-4201-bc3d-5b8983fbb2f7",
   "metadata": {},
   "outputs": [],
   "source": [
    "# We introduce here a second variable (legacy from CLF problem)\n",
    "# x_T1 = 1 means that T1 will be used\n",
    "# it is useful for assignment cost of assigning T1 to a job/workflow\n",
    "x = LpVariable.dicts(\"DiskUse\", disks, 0, 1, LpBinary) #x(i) indicates if disk i is accessed or not\n",
    "# during this session/workflow\n",
    "# it should be replaced by the number of times a disk is accessed (to infer latency)\n",
    "# it could be more complex: x_T1 = list timestamps at wich T1 is accessed\n",
    "# can allow to schedule access to T1 to avoid contention and manage finite bandwidth consumption\n",
    "# it could force us to shift to ML/RL solution\n",
    "# We'll we have to manage such dataflow scheduling?"
   ]
  },
  {
   "cell_type": "code",
   "execution_count": 25,
   "id": "5ec0962b-377e-4052-9aea-9b01e69c28e3",
   "metadata": {},
   "outputs": [],
   "source": [
    "# Here we introduce the objective function we want to minimize\n",
    "# first member is the one-time latencies\n",
    "# second member: demand[j]*y[(i, j)] = total volume to be placed in Tier T_i (over all nodes j) divided by the max bandwidth of T_i.\n",
    "# second member = transfer time of data\n",
    "prob += lpSum(latency[i]*x[i] for i in disks) + lpSum(demand[j]*y[(i, j)]/bandwidth[i] for i in disks for j in nodes) \n",
    "\n",
    "#prob += lpSum(demand[j]*y[(i, j)]/bandwidth[i] for i in disks for j in nodes) \n",
    "        # latency cost when using disk i       + transfer time \n"
   ]
  },
  {
   "cell_type": "markdown",
   "id": "f505799c-df00-4a5e-9333-209f6a2c0218",
   "metadata": {},
   "source": [
    "- [ ] remove latencies"
   ]
  },
  {
   "cell_type": "code",
   "execution_count": 26,
   "id": "e671aa26-e841-4251-816a-e10be3d73466",
   "metadata": {},
   "outputs": [],
   "source": [
    "# CONSTRAINTS\n",
    "#\n",
    "for j in nodes:\n",
    "    # data served on disks equals 100% from node j, no duplicates!\n",
    "    prob += lpSum(y[(i, j)] for i in disks) == 1"
   ]
  },
  {
   "cell_type": "markdown",
   "id": "53e61862-5ae7-4992-b9bf-c558a89f651f",
   "metadata": {},
   "source": [
    "- [ ] how to allow data duplication ?\n",
    "it is relevant if the bandwidth is limited i think."
   ]
  },
  {
   "cell_type": "code",
   "execution_count": 27,
   "id": "74ebf839-ab46-4af3-b994-bc69b6cc9f18",
   "metadata": {},
   "outputs": [],
   "source": [
    "for i in disks:\n",
    "    # data put on disk i from all nodes should be lower than its capacity\n",
    "    prob += lpSum(y[(i, j)]*demand[j] for j in nodes) <= capacity[i]*x[i]\n",
    "    \n",
    "# if duplication is allowed, y >= 1.0 and this constraint holds."
   ]
  },
  {
   "cell_type": "code",
   "execution_count": 28,
   "id": "a1033181-07a2-4cae-8fc9-ffe8f2862534",
   "metadata": {},
   "outputs": [],
   "source": [
    "# this constraint is a legacy for CLF problem\n",
    "for j in nodes:\n",
    "    for i in disks:\n",
    "        # fraction of data served from node j to disk i is lower that demand of node j if disk i is activated\n",
    "        prob += y[(i, j)] <= demand[j]*x[i] \n",
    "# well 0 <= y <= 1 and always <= to demand\n",
    "# should be kept with y = volume not portion\n",
    "# here we should remove demand\n",
    "# finally the demand factor should be removed, this constraint states that y is 0 if disk is not activated."
   ]
  },
  {
   "cell_type": "code",
   "execution_count": 29,
   "id": "98c1655b-68e2-435f-9f79-93c989e49529",
   "metadata": {},
   "outputs": [
    {
     "name": "stdout",
     "output_type": "stream",
     "text": [
      "Status: Optimal\n"
     ]
    }
   ],
   "source": [
    "#SOLVE\n",
    "prob.solve()\n",
    "print(\"Status:\", LpStatus[prob.status])"
   ]
  },
  {
   "cell_type": "code",
   "execution_count": 30,
   "id": "c7eac384-7c47-44bf-881b-eba6f7268058",
   "metadata": {},
   "outputs": [
    {
     "name": "stdout",
     "output_type": "stream",
     "text": [
      "--- Params ---\n",
      "nodes = [1, 2, 3, 4, 5]\n",
      "demand = {1: 80, 2: 270, 3: 250, 4: 160, 5: 180}\n",
      "disks capacity = {'T1': 300, 'T2': 500, 'T3': 1000.0}\n",
      "bandwidths = {'T1': 10, 'T2': 2, 'T3': 1}\n",
      "\n",
      "--- Solution ---\n",
      "Establish connection with disk  T1\n",
      "Establish connection with disk  T2\n",
      "Establish connection with disk  T3\n",
      "DiskUse_T1 = 1.0\n",
      "DiskUse_T2 = 1.0\n",
      "DiskUse_T3 = 1.0\n",
      "Placement_('T1',_1) = 0.0\n",
      "Placement_('T1',_2) = 1.0\n",
      "Placement_('T1',_3) = 0.0\n",
      "Placement_('T1',_4) = 0.0\n",
      "Placement_('T1',_5) = 0.0\n",
      "Placement_('T2',_1) = 1.0\n",
      "Placement_('T2',_2) = 0.0\n",
      "Placement_('T2',_3) = 1.0\n",
      "Placement_('T2',_4) = 1.0\n",
      "Placement_('T2',_5) = 0.0\n",
      "Placement_('T3',_1) = 0.0\n",
      "Placement_('T3',_2) = 0.0\n",
      "Placement_('T3',_3) = 0.0\n",
      "Placement_('T3',_4) = 0.0\n",
      "Placement_('T3',_5) = 1.0\n",
      "The cost of this placement is  = 453.11 seconds\n"
     ]
    }
   ],
   "source": [
    "# PRINT DECISION VARIABLES\n",
    "print('--- Params ---')\n",
    "print(f\"nodes = {nodes}\")\n",
    "print(f\"demand = {demand}\")\n",
    "print(f\"disks capacity = {capacity}\")\n",
    "print(f\"bandwidths = {bandwidth}\")\n",
    "print('\\n--- Solution ---')\n",
    "TOL = 1e-6\n",
    "for i in disks:\n",
    "    if x[i].value() > TOL:\n",
    "        print(\"Establish connection with disk \", i)\n",
    "\n",
    "for v in prob.variables():\n",
    "    print(f\"{v.name} = {v.varValue}\")\n",
    "    \n",
    "# OPTIMAL SOLUTION\n",
    "print(f\"The cost of this placement is  = {value(prob.objective)} seconds\")"
   ]
  },
  {
   "cell_type": "markdown",
   "id": "260f552f-13d4-49ba-813a-387164b4f929",
   "metadata": {},
   "source": [
    "Outcomes:\n",
    "- Which system to optimize on ?\n",
    "    - known workflows ?\n",
    "        some workflows could have higher priority (#1)\n",
    "        we have information only from known workflows\n",
    "        predicting wf behaviour is difficult\n",
    "    - whole cluster ? \n",
    "        specific optimization imply relaxation on global optimization\n",
    "        some workflows may \"fail\"\n",
    "- How to get/feed/update parameters for data placement ? from  instrumentation/health checking ?\n",
    "    - demand (node j)\n",
    "    - bandwidths (disk i, node j)\n",
    "    - lantencies (or IOPS) (disk i, node j)\n",
    "    - energy_consumption functions for (disk i, node j)\n",
    "    - health_check (disk i, node j)\n",
    "    \n",
    "- (specific to task 3.4) gym-like environment to benchmark data placement algorithms :\n",
    "    - or-gym : didn't find facility location problem\n",
    "    - Iroko: The Data Center RL Gym\n",
    "    - ecole : wide range for combinatorial optimization problems (gym-compatible)"
   ]
  }
 ],
 "metadata": {
  "kernelspec": {
   "display_name": "Python 3.7.4 64-bit ('base': conda)",
   "language": "python",
   "name": "python37464bitbaseconda148081fa46834969a3b218adc4b68ee7"
  },
  "language_info": {
   "codemirror_mode": {
    "name": "ipython",
    "version": 3
   },
   "file_extension": ".py",
   "mimetype": "text/x-python",
   "name": "python",
   "nbconvert_exporter": "python",
   "pygments_lexer": "ipython3",
   "version": "3.7.10"
  }
 },
 "nbformat": 4,
 "nbformat_minor": 5
}
