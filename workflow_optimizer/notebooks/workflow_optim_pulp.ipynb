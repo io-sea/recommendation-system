{
 "cells": [
  {
   "cell_type": "code",
   "execution_count": 19,
   "metadata": {},
   "outputs": [
    {
     "name": "stdout",
     "output_type": "stream",
     "text": [
      "Welcome to the CBC MILP Solver \n",
      "Version: 2.10.3 \n",
      "Build Date: Dec 15 2019 \n",
      "\n",
      "command line - /home_nfs/mimounis/iosea-venv/lib/python3.8/site-packages/pulp/solverdir/cbc/linux/64/cbc /tmp/0519924fc6574ae284d995c2f39a3d3b-pulp.mps timeMode elapsed branch printingOptions all solution /tmp/0519924fc6574ae284d995c2f39a3d3b-pulp.sol (default strategy 1)\n",
      "At line 2 NAME          MODEL\n",
      "At line 3 ROWS\n",
      "At line 19 COLUMNS\n",
      "At line 73 RHS\n",
      "At line 88 BOUNDS\n",
      "At line 99 ENDATA\n",
      "Problem MODEL has 14 rows, 20 columns and 28 elements\n",
      "Coin0008I MODEL read with 0 errors\n",
      "Option for timeMode changed from cpu to elapsed\n",
      "Continuous objective value is 451.05 - 0.00 seconds\n",
      "Cgl0004I processed model has 0 rows, 0 columns (0 integer (0 of which binary)) and 0 elements\n",
      "Cbc3007W No integer variables - nothing to do\n",
      "Cuts at root node changed objective from 451.05 to -1.79769e+308\n",
      "Probing was tried 0 times and created 0 cuts of which 0 were active after adding rounds of cuts (0.000 seconds)\n",
      "Gomory was tried 0 times and created 0 cuts of which 0 were active after adding rounds of cuts (0.000 seconds)\n",
      "Knapsack was tried 0 times and created 0 cuts of which 0 were active after adding rounds of cuts (0.000 seconds)\n",
      "Clique was tried 0 times and created 0 cuts of which 0 were active after adding rounds of cuts (0.000 seconds)\n",
      "MixedIntegerRounding2 was tried 0 times and created 0 cuts of which 0 were active after adding rounds of cuts (0.000 seconds)\n",
      "FlowCover was tried 0 times and created 0 cuts of which 0 were active after adding rounds of cuts (0.000 seconds)\n",
      "TwoMirCuts was tried 0 times and created 0 cuts of which 0 were active after adding rounds of cuts (0.000 seconds)\n",
      "ZeroHalf was tried 0 times and created 0 cuts of which 0 were active after adding rounds of cuts (0.000 seconds)\n",
      "\n",
      "Result - Optimal solution found\n",
      "\n",
      "Objective value:                451.04986512\n",
      "Enumerated nodes:               0\n",
      "Total iterations:               0\n",
      "Time (CPU seconds):             0.00\n",
      "Time (Wallclock seconds):       0.00\n",
      "\n",
      "Option for printingOptions changed from normal to all\n",
      "Total time (CPU seconds):       0.00   (Wallclock seconds):       0.00\n",
      "\n",
      "{'job1': [(0.0, 0.00883728), (0.00883728, 90.122388), (90.122388, 90.122388)], 'job2': [(90.122388, 90.130884), (90.130884, 180.66537)]}\n",
      "job1_Phase_0: 0.0 - 0.00883728\n",
      "job1_Phase_1: 0.00883728 - 90.122388\n",
      "job1_Phase_2: 90.122388 - 90.122388\n",
      "job2_Phase_0: 90.122388 - 90.130884\n",
      "job2_Phase_1: 90.130884 - 180.66537\n"
     ]
    },
    {
     "data": {
      "application/vnd.plotly.v1+json": {
       "config": {
        "plotlyServerURL": "https://plot.ly"
       },
       "data": [
        {
         "marker": {
          "color": "rgba(0.0, 255.0, 255, 0.6)",
          "line": {
           "color": "rgba(58, 71, 80, 1.0)",
           "width": 1
          }
         },
         "name": "job1_Phase_0",
         "orientation": "h",
         "type": "bar",
         "x": [
          0,
          0.00883728
         ],
         "y": [
          "job1_Phase_0"
         ]
        },
        {
         "marker": {
          "color": "rgba(255.0, 0.0, 255, 0.6)",
          "line": {
           "color": "rgba(58, 71, 80, 1.0)",
           "width": 1
          }
         },
         "name": "job1_Phase_1",
         "orientation": "h",
         "type": "bar",
         "x": [
          0.00883728,
          90.122388
         ],
         "y": [
          "job1_Phase_1"
         ]
        },
        {
         "marker": {
          "color": "rgba(0, 0, 255, 0.6)",
          "line": {
           "color": "rgba(58, 71, 80, 1.0)",
           "width": 1
          }
         },
         "name": "job1_Phase_2",
         "orientation": "h",
         "type": "bar",
         "x": [
          90.122388,
          90.122388
         ],
         "y": [
          "job1_Phase_2"
         ]
        },
        {
         "marker": {
          "color": "rgba(0.0, 255.0, 255, 0.6)",
          "line": {
           "color": "rgba(58, 71, 80, 1.0)",
           "width": 1
          }
         },
         "name": "job2_Phase_0",
         "orientation": "h",
         "type": "bar",
         "x": [
          90.122388,
          90.130884
         ],
         "y": [
          "job2_Phase_0"
         ]
        },
        {
         "marker": {
          "color": "rgba(254.99945892992434, 0.000541070075665467, 255, 0.6)",
          "line": {
           "color": "rgba(58, 71, 80, 1.0)",
           "width": 1
          }
         },
         "name": "job2_Phase_1",
         "orientation": "h",
         "type": "bar",
         "x": [
          90.130884,
          180.66537
         ],
         "y": [
          "job2_Phase_1"
         ]
        }
       ],
       "layout": {
        "barmode": "stack",
        "showlegend": true,
        "template": {
         "data": {
          "bar": [
           {
            "error_x": {
             "color": "#2a3f5f"
            },
            "error_y": {
             "color": "#2a3f5f"
            },
            "marker": {
             "line": {
              "color": "#E5ECF6",
              "width": 0.5
             },
             "pattern": {
              "fillmode": "overlay",
              "size": 10,
              "solidity": 0.2
             }
            },
            "type": "bar"
           }
          ],
          "barpolar": [
           {
            "marker": {
             "line": {
              "color": "#E5ECF6",
              "width": 0.5
             },
             "pattern": {
              "fillmode": "overlay",
              "size": 10,
              "solidity": 0.2
             }
            },
            "type": "barpolar"
           }
          ],
          "carpet": [
           {
            "aaxis": {
             "endlinecolor": "#2a3f5f",
             "gridcolor": "white",
             "linecolor": "white",
             "minorgridcolor": "white",
             "startlinecolor": "#2a3f5f"
            },
            "baxis": {
             "endlinecolor": "#2a3f5f",
             "gridcolor": "white",
             "linecolor": "white",
             "minorgridcolor": "white",
             "startlinecolor": "#2a3f5f"
            },
            "type": "carpet"
           }
          ],
          "choropleth": [
           {
            "colorbar": {
             "outlinewidth": 0,
             "ticks": ""
            },
            "type": "choropleth"
           }
          ],
          "contour": [
           {
            "colorbar": {
             "outlinewidth": 0,
             "ticks": ""
            },
            "colorscale": [
             [
              0,
              "#0d0887"
             ],
             [
              0.1111111111111111,
              "#46039f"
             ],
             [
              0.2222222222222222,
              "#7201a8"
             ],
             [
              0.3333333333333333,
              "#9c179e"
             ],
             [
              0.4444444444444444,
              "#bd3786"
             ],
             [
              0.5555555555555556,
              "#d8576b"
             ],
             [
              0.6666666666666666,
              "#ed7953"
             ],
             [
              0.7777777777777778,
              "#fb9f3a"
             ],
             [
              0.8888888888888888,
              "#fdca26"
             ],
             [
              1,
              "#f0f921"
             ]
            ],
            "type": "contour"
           }
          ],
          "contourcarpet": [
           {
            "colorbar": {
             "outlinewidth": 0,
             "ticks": ""
            },
            "type": "contourcarpet"
           }
          ],
          "heatmap": [
           {
            "colorbar": {
             "outlinewidth": 0,
             "ticks": ""
            },
            "colorscale": [
             [
              0,
              "#0d0887"
             ],
             [
              0.1111111111111111,
              "#46039f"
             ],
             [
              0.2222222222222222,
              "#7201a8"
             ],
             [
              0.3333333333333333,
              "#9c179e"
             ],
             [
              0.4444444444444444,
              "#bd3786"
             ],
             [
              0.5555555555555556,
              "#d8576b"
             ],
             [
              0.6666666666666666,
              "#ed7953"
             ],
             [
              0.7777777777777778,
              "#fb9f3a"
             ],
             [
              0.8888888888888888,
              "#fdca26"
             ],
             [
              1,
              "#f0f921"
             ]
            ],
            "type": "heatmap"
           }
          ],
          "heatmapgl": [
           {
            "colorbar": {
             "outlinewidth": 0,
             "ticks": ""
            },
            "colorscale": [
             [
              0,
              "#0d0887"
             ],
             [
              0.1111111111111111,
              "#46039f"
             ],
             [
              0.2222222222222222,
              "#7201a8"
             ],
             [
              0.3333333333333333,
              "#9c179e"
             ],
             [
              0.4444444444444444,
              "#bd3786"
             ],
             [
              0.5555555555555556,
              "#d8576b"
             ],
             [
              0.6666666666666666,
              "#ed7953"
             ],
             [
              0.7777777777777778,
              "#fb9f3a"
             ],
             [
              0.8888888888888888,
              "#fdca26"
             ],
             [
              1,
              "#f0f921"
             ]
            ],
            "type": "heatmapgl"
           }
          ],
          "histogram": [
           {
            "marker": {
             "pattern": {
              "fillmode": "overlay",
              "size": 10,
              "solidity": 0.2
             }
            },
            "type": "histogram"
           }
          ],
          "histogram2d": [
           {
            "colorbar": {
             "outlinewidth": 0,
             "ticks": ""
            },
            "colorscale": [
             [
              0,
              "#0d0887"
             ],
             [
              0.1111111111111111,
              "#46039f"
             ],
             [
              0.2222222222222222,
              "#7201a8"
             ],
             [
              0.3333333333333333,
              "#9c179e"
             ],
             [
              0.4444444444444444,
              "#bd3786"
             ],
             [
              0.5555555555555556,
              "#d8576b"
             ],
             [
              0.6666666666666666,
              "#ed7953"
             ],
             [
              0.7777777777777778,
              "#fb9f3a"
             ],
             [
              0.8888888888888888,
              "#fdca26"
             ],
             [
              1,
              "#f0f921"
             ]
            ],
            "type": "histogram2d"
           }
          ],
          "histogram2dcontour": [
           {
            "colorbar": {
             "outlinewidth": 0,
             "ticks": ""
            },
            "colorscale": [
             [
              0,
              "#0d0887"
             ],
             [
              0.1111111111111111,
              "#46039f"
             ],
             [
              0.2222222222222222,
              "#7201a8"
             ],
             [
              0.3333333333333333,
              "#9c179e"
             ],
             [
              0.4444444444444444,
              "#bd3786"
             ],
             [
              0.5555555555555556,
              "#d8576b"
             ],
             [
              0.6666666666666666,
              "#ed7953"
             ],
             [
              0.7777777777777778,
              "#fb9f3a"
             ],
             [
              0.8888888888888888,
              "#fdca26"
             ],
             [
              1,
              "#f0f921"
             ]
            ],
            "type": "histogram2dcontour"
           }
          ],
          "mesh3d": [
           {
            "colorbar": {
             "outlinewidth": 0,
             "ticks": ""
            },
            "type": "mesh3d"
           }
          ],
          "parcoords": [
           {
            "line": {
             "colorbar": {
              "outlinewidth": 0,
              "ticks": ""
             }
            },
            "type": "parcoords"
           }
          ],
          "pie": [
           {
            "automargin": true,
            "type": "pie"
           }
          ],
          "scatter": [
           {
            "fillpattern": {
             "fillmode": "overlay",
             "size": 10,
             "solidity": 0.2
            },
            "type": "scatter"
           }
          ],
          "scatter3d": [
           {
            "line": {
             "colorbar": {
              "outlinewidth": 0,
              "ticks": ""
             }
            },
            "marker": {
             "colorbar": {
              "outlinewidth": 0,
              "ticks": ""
             }
            },
            "type": "scatter3d"
           }
          ],
          "scattercarpet": [
           {
            "marker": {
             "colorbar": {
              "outlinewidth": 0,
              "ticks": ""
             }
            },
            "type": "scattercarpet"
           }
          ],
          "scattergeo": [
           {
            "marker": {
             "colorbar": {
              "outlinewidth": 0,
              "ticks": ""
             }
            },
            "type": "scattergeo"
           }
          ],
          "scattergl": [
           {
            "marker": {
             "colorbar": {
              "outlinewidth": 0,
              "ticks": ""
             }
            },
            "type": "scattergl"
           }
          ],
          "scattermapbox": [
           {
            "marker": {
             "colorbar": {
              "outlinewidth": 0,
              "ticks": ""
             }
            },
            "type": "scattermapbox"
           }
          ],
          "scatterpolar": [
           {
            "marker": {
             "colorbar": {
              "outlinewidth": 0,
              "ticks": ""
             }
            },
            "type": "scatterpolar"
           }
          ],
          "scatterpolargl": [
           {
            "marker": {
             "colorbar": {
              "outlinewidth": 0,
              "ticks": ""
             }
            },
            "type": "scatterpolargl"
           }
          ],
          "scatterternary": [
           {
            "marker": {
             "colorbar": {
              "outlinewidth": 0,
              "ticks": ""
             }
            },
            "type": "scatterternary"
           }
          ],
          "surface": [
           {
            "colorbar": {
             "outlinewidth": 0,
             "ticks": ""
            },
            "colorscale": [
             [
              0,
              "#0d0887"
             ],
             [
              0.1111111111111111,
              "#46039f"
             ],
             [
              0.2222222222222222,
              "#7201a8"
             ],
             [
              0.3333333333333333,
              "#9c179e"
             ],
             [
              0.4444444444444444,
              "#bd3786"
             ],
             [
              0.5555555555555556,
              "#d8576b"
             ],
             [
              0.6666666666666666,
              "#ed7953"
             ],
             [
              0.7777777777777778,
              "#fb9f3a"
             ],
             [
              0.8888888888888888,
              "#fdca26"
             ],
             [
              1,
              "#f0f921"
             ]
            ],
            "type": "surface"
           }
          ],
          "table": [
           {
            "cells": {
             "fill": {
              "color": "#EBF0F8"
             },
             "line": {
              "color": "white"
             }
            },
            "header": {
             "fill": {
              "color": "#C8D4E3"
             },
             "line": {
              "color": "white"
             }
            },
            "type": "table"
           }
          ]
         },
         "layout": {
          "annotationdefaults": {
           "arrowcolor": "#2a3f5f",
           "arrowhead": 0,
           "arrowwidth": 1
          },
          "autotypenumbers": "strict",
          "coloraxis": {
           "colorbar": {
            "outlinewidth": 0,
            "ticks": ""
           }
          },
          "colorscale": {
           "diverging": [
            [
             0,
             "#8e0152"
            ],
            [
             0.1,
             "#c51b7d"
            ],
            [
             0.2,
             "#de77ae"
            ],
            [
             0.3,
             "#f1b6da"
            ],
            [
             0.4,
             "#fde0ef"
            ],
            [
             0.5,
             "#f7f7f7"
            ],
            [
             0.6,
             "#e6f5d0"
            ],
            [
             0.7,
             "#b8e186"
            ],
            [
             0.8,
             "#7fbc41"
            ],
            [
             0.9,
             "#4d9221"
            ],
            [
             1,
             "#276419"
            ]
           ],
           "sequential": [
            [
             0,
             "#0d0887"
            ],
            [
             0.1111111111111111,
             "#46039f"
            ],
            [
             0.2222222222222222,
             "#7201a8"
            ],
            [
             0.3333333333333333,
             "#9c179e"
            ],
            [
             0.4444444444444444,
             "#bd3786"
            ],
            [
             0.5555555555555556,
             "#d8576b"
            ],
            [
             0.6666666666666666,
             "#ed7953"
            ],
            [
             0.7777777777777778,
             "#fb9f3a"
            ],
            [
             0.8888888888888888,
             "#fdca26"
            ],
            [
             1,
             "#f0f921"
            ]
           ],
           "sequentialminus": [
            [
             0,
             "#0d0887"
            ],
            [
             0.1111111111111111,
             "#46039f"
            ],
            [
             0.2222222222222222,
             "#7201a8"
            ],
            [
             0.3333333333333333,
             "#9c179e"
            ],
            [
             0.4444444444444444,
             "#bd3786"
            ],
            [
             0.5555555555555556,
             "#d8576b"
            ],
            [
             0.6666666666666666,
             "#ed7953"
            ],
            [
             0.7777777777777778,
             "#fb9f3a"
            ],
            [
             0.8888888888888888,
             "#fdca26"
            ],
            [
             1,
             "#f0f921"
            ]
           ]
          },
          "colorway": [
           "#636efa",
           "#EF553B",
           "#00cc96",
           "#ab63fa",
           "#FFA15A",
           "#19d3f3",
           "#FF6692",
           "#B6E880",
           "#FF97FF",
           "#FECB52"
          ],
          "font": {
           "color": "#2a3f5f"
          },
          "geo": {
           "bgcolor": "white",
           "lakecolor": "white",
           "landcolor": "#E5ECF6",
           "showlakes": true,
           "showland": true,
           "subunitcolor": "white"
          },
          "hoverlabel": {
           "align": "left"
          },
          "hovermode": "closest",
          "mapbox": {
           "style": "light"
          },
          "paper_bgcolor": "white",
          "plot_bgcolor": "#E5ECF6",
          "polar": {
           "angularaxis": {
            "gridcolor": "white",
            "linecolor": "white",
            "ticks": ""
           },
           "bgcolor": "#E5ECF6",
           "radialaxis": {
            "gridcolor": "white",
            "linecolor": "white",
            "ticks": ""
           }
          },
          "scene": {
           "xaxis": {
            "backgroundcolor": "#E5ECF6",
            "gridcolor": "white",
            "gridwidth": 2,
            "linecolor": "white",
            "showbackground": true,
            "ticks": "",
            "zerolinecolor": "white"
           },
           "yaxis": {
            "backgroundcolor": "#E5ECF6",
            "gridcolor": "white",
            "gridwidth": 2,
            "linecolor": "white",
            "showbackground": true,
            "ticks": "",
            "zerolinecolor": "white"
           },
           "zaxis": {
            "backgroundcolor": "#E5ECF6",
            "gridcolor": "white",
            "gridwidth": 2,
            "linecolor": "white",
            "showbackground": true,
            "ticks": "",
            "zerolinecolor": "white"
           }
          },
          "shapedefaults": {
           "line": {
            "color": "#2a3f5f"
           }
          },
          "ternary": {
           "aaxis": {
            "gridcolor": "white",
            "linecolor": "white",
            "ticks": ""
           },
           "baxis": {
            "gridcolor": "white",
            "linecolor": "white",
            "ticks": ""
           },
           "bgcolor": "#E5ECF6",
           "caxis": {
            "gridcolor": "white",
            "linecolor": "white",
            "ticks": ""
           }
          },
          "title": {
           "x": 0.05
          },
          "xaxis": {
           "automargin": true,
           "gridcolor": "white",
           "linecolor": "white",
           "ticks": "",
           "title": {
            "standoff": 15
           },
           "zerolinecolor": "white",
           "zerolinewidth": 2
          },
          "yaxis": {
           "automargin": true,
           "gridcolor": "white",
           "linecolor": "white",
           "ticks": "",
           "title": {
            "standoff": 15
           },
           "zerolinecolor": "white",
           "zerolinewidth": 2
          }
         }
        },
        "title": {
         "text": "Job Execution Gantt Chart"
        },
        "xaxis": {
         "title": {
          "text": "Time (s)"
         }
        },
        "yaxis": {
         "title": {
          "text": "Phases"
         }
        }
       }
      },
      "text/html": [
       "<div>                            <div id=\"8c6aad33-15f4-4378-80b3-9f1e9bc543a6\" class=\"plotly-graph-div\" style=\"height:525px; width:100%;\"></div>            <script type=\"text/javascript\">                require([\"plotly\"], function(Plotly) {                    window.PLOTLYENV=window.PLOTLYENV || {};                                    if (document.getElementById(\"8c6aad33-15f4-4378-80b3-9f1e9bc543a6\")) {                    Plotly.newPlot(                        \"8c6aad33-15f4-4378-80b3-9f1e9bc543a6\",                        [{\"marker\":{\"color\":\"rgba(0.0, 255.0, 255, 0.6)\",\"line\":{\"color\":\"rgba(58, 71, 80, 1.0)\",\"width\":1}},\"name\":\"job1_Phase_0\",\"orientation\":\"h\",\"x\":[0.0,0.00883728],\"y\":[\"job1_Phase_0\"],\"type\":\"bar\"},{\"marker\":{\"color\":\"rgba(255.0, 0.0, 255, 0.6)\",\"line\":{\"color\":\"rgba(58, 71, 80, 1.0)\",\"width\":1}},\"name\":\"job1_Phase_1\",\"orientation\":\"h\",\"x\":[0.00883728,90.122388],\"y\":[\"job1_Phase_1\"],\"type\":\"bar\"},{\"marker\":{\"color\":\"rgba(0, 0, 255, 0.6)\",\"line\":{\"color\":\"rgba(58, 71, 80, 1.0)\",\"width\":1}},\"name\":\"job1_Phase_2\",\"orientation\":\"h\",\"x\":[90.122388,90.122388],\"y\":[\"job1_Phase_2\"],\"type\":\"bar\"},{\"marker\":{\"color\":\"rgba(0.0, 255.0, 255, 0.6)\",\"line\":{\"color\":\"rgba(58, 71, 80, 1.0)\",\"width\":1}},\"name\":\"job2_Phase_0\",\"orientation\":\"h\",\"x\":[90.122388,90.130884],\"y\":[\"job2_Phase_0\"],\"type\":\"bar\"},{\"marker\":{\"color\":\"rgba(254.99945892992434, 0.000541070075665467, 255, 0.6)\",\"line\":{\"color\":\"rgba(58, 71, 80, 1.0)\",\"width\":1}},\"name\":\"job2_Phase_1\",\"orientation\":\"h\",\"x\":[90.130884,180.66537],\"y\":[\"job2_Phase_1\"],\"type\":\"bar\"}],                        {\"template\":{\"data\":{\"histogram2dcontour\":[{\"type\":\"histogram2dcontour\",\"colorbar\":{\"outlinewidth\":0,\"ticks\":\"\"},\"colorscale\":[[0.0,\"#0d0887\"],[0.1111111111111111,\"#46039f\"],[0.2222222222222222,\"#7201a8\"],[0.3333333333333333,\"#9c179e\"],[0.4444444444444444,\"#bd3786\"],[0.5555555555555556,\"#d8576b\"],[0.6666666666666666,\"#ed7953\"],[0.7777777777777778,\"#fb9f3a\"],[0.8888888888888888,\"#fdca26\"],[1.0,\"#f0f921\"]]}],\"choropleth\":[{\"type\":\"choropleth\",\"colorbar\":{\"outlinewidth\":0,\"ticks\":\"\"}}],\"histogram2d\":[{\"type\":\"histogram2d\",\"colorbar\":{\"outlinewidth\":0,\"ticks\":\"\"},\"colorscale\":[[0.0,\"#0d0887\"],[0.1111111111111111,\"#46039f\"],[0.2222222222222222,\"#7201a8\"],[0.3333333333333333,\"#9c179e\"],[0.4444444444444444,\"#bd3786\"],[0.5555555555555556,\"#d8576b\"],[0.6666666666666666,\"#ed7953\"],[0.7777777777777778,\"#fb9f3a\"],[0.8888888888888888,\"#fdca26\"],[1.0,\"#f0f921\"]]}],\"heatmap\":[{\"type\":\"heatmap\",\"colorbar\":{\"outlinewidth\":0,\"ticks\":\"\"},\"colorscale\":[[0.0,\"#0d0887\"],[0.1111111111111111,\"#46039f\"],[0.2222222222222222,\"#7201a8\"],[0.3333333333333333,\"#9c179e\"],[0.4444444444444444,\"#bd3786\"],[0.5555555555555556,\"#d8576b\"],[0.6666666666666666,\"#ed7953\"],[0.7777777777777778,\"#fb9f3a\"],[0.8888888888888888,\"#fdca26\"],[1.0,\"#f0f921\"]]}],\"heatmapgl\":[{\"type\":\"heatmapgl\",\"colorbar\":{\"outlinewidth\":0,\"ticks\":\"\"},\"colorscale\":[[0.0,\"#0d0887\"],[0.1111111111111111,\"#46039f\"],[0.2222222222222222,\"#7201a8\"],[0.3333333333333333,\"#9c179e\"],[0.4444444444444444,\"#bd3786\"],[0.5555555555555556,\"#d8576b\"],[0.6666666666666666,\"#ed7953\"],[0.7777777777777778,\"#fb9f3a\"],[0.8888888888888888,\"#fdca26\"],[1.0,\"#f0f921\"]]}],\"contourcarpet\":[{\"type\":\"contourcarpet\",\"colorbar\":{\"outlinewidth\":0,\"ticks\":\"\"}}],\"contour\":[{\"type\":\"contour\",\"colorbar\":{\"outlinewidth\":0,\"ticks\":\"\"},\"colorscale\":[[0.0,\"#0d0887\"],[0.1111111111111111,\"#46039f\"],[0.2222222222222222,\"#7201a8\"],[0.3333333333333333,\"#9c179e\"],[0.4444444444444444,\"#bd3786\"],[0.5555555555555556,\"#d8576b\"],[0.6666666666666666,\"#ed7953\"],[0.7777777777777778,\"#fb9f3a\"],[0.8888888888888888,\"#fdca26\"],[1.0,\"#f0f921\"]]}],\"surface\":[{\"type\":\"surface\",\"colorbar\":{\"outlinewidth\":0,\"ticks\":\"\"},\"colorscale\":[[0.0,\"#0d0887\"],[0.1111111111111111,\"#46039f\"],[0.2222222222222222,\"#7201a8\"],[0.3333333333333333,\"#9c179e\"],[0.4444444444444444,\"#bd3786\"],[0.5555555555555556,\"#d8576b\"],[0.6666666666666666,\"#ed7953\"],[0.7777777777777778,\"#fb9f3a\"],[0.8888888888888888,\"#fdca26\"],[1.0,\"#f0f921\"]]}],\"mesh3d\":[{\"type\":\"mesh3d\",\"colorbar\":{\"outlinewidth\":0,\"ticks\":\"\"}}],\"scatter\":[{\"fillpattern\":{\"fillmode\":\"overlay\",\"size\":10,\"solidity\":0.2},\"type\":\"scatter\"}],\"parcoords\":[{\"type\":\"parcoords\",\"line\":{\"colorbar\":{\"outlinewidth\":0,\"ticks\":\"\"}}}],\"scatterpolargl\":[{\"type\":\"scatterpolargl\",\"marker\":{\"colorbar\":{\"outlinewidth\":0,\"ticks\":\"\"}}}],\"bar\":[{\"error_x\":{\"color\":\"#2a3f5f\"},\"error_y\":{\"color\":\"#2a3f5f\"},\"marker\":{\"line\":{\"color\":\"#E5ECF6\",\"width\":0.5},\"pattern\":{\"fillmode\":\"overlay\",\"size\":10,\"solidity\":0.2}},\"type\":\"bar\"}],\"scattergeo\":[{\"type\":\"scattergeo\",\"marker\":{\"colorbar\":{\"outlinewidth\":0,\"ticks\":\"\"}}}],\"scatterpolar\":[{\"type\":\"scatterpolar\",\"marker\":{\"colorbar\":{\"outlinewidth\":0,\"ticks\":\"\"}}}],\"histogram\":[{\"marker\":{\"pattern\":{\"fillmode\":\"overlay\",\"size\":10,\"solidity\":0.2}},\"type\":\"histogram\"}],\"scattergl\":[{\"type\":\"scattergl\",\"marker\":{\"colorbar\":{\"outlinewidth\":0,\"ticks\":\"\"}}}],\"scatter3d\":[{\"type\":\"scatter3d\",\"line\":{\"colorbar\":{\"outlinewidth\":0,\"ticks\":\"\"}},\"marker\":{\"colorbar\":{\"outlinewidth\":0,\"ticks\":\"\"}}}],\"scattermapbox\":[{\"type\":\"scattermapbox\",\"marker\":{\"colorbar\":{\"outlinewidth\":0,\"ticks\":\"\"}}}],\"scatterternary\":[{\"type\":\"scatterternary\",\"marker\":{\"colorbar\":{\"outlinewidth\":0,\"ticks\":\"\"}}}],\"scattercarpet\":[{\"type\":\"scattercarpet\",\"marker\":{\"colorbar\":{\"outlinewidth\":0,\"ticks\":\"\"}}}],\"carpet\":[{\"aaxis\":{\"endlinecolor\":\"#2a3f5f\",\"gridcolor\":\"white\",\"linecolor\":\"white\",\"minorgridcolor\":\"white\",\"startlinecolor\":\"#2a3f5f\"},\"baxis\":{\"endlinecolor\":\"#2a3f5f\",\"gridcolor\":\"white\",\"linecolor\":\"white\",\"minorgridcolor\":\"white\",\"startlinecolor\":\"#2a3f5f\"},\"type\":\"carpet\"}],\"table\":[{\"cells\":{\"fill\":{\"color\":\"#EBF0F8\"},\"line\":{\"color\":\"white\"}},\"header\":{\"fill\":{\"color\":\"#C8D4E3\"},\"line\":{\"color\":\"white\"}},\"type\":\"table\"}],\"barpolar\":[{\"marker\":{\"line\":{\"color\":\"#E5ECF6\",\"width\":0.5},\"pattern\":{\"fillmode\":\"overlay\",\"size\":10,\"solidity\":0.2}},\"type\":\"barpolar\"}],\"pie\":[{\"automargin\":true,\"type\":\"pie\"}]},\"layout\":{\"autotypenumbers\":\"strict\",\"colorway\":[\"#636efa\",\"#EF553B\",\"#00cc96\",\"#ab63fa\",\"#FFA15A\",\"#19d3f3\",\"#FF6692\",\"#B6E880\",\"#FF97FF\",\"#FECB52\"],\"font\":{\"color\":\"#2a3f5f\"},\"hovermode\":\"closest\",\"hoverlabel\":{\"align\":\"left\"},\"paper_bgcolor\":\"white\",\"plot_bgcolor\":\"#E5ECF6\",\"polar\":{\"bgcolor\":\"#E5ECF6\",\"angularaxis\":{\"gridcolor\":\"white\",\"linecolor\":\"white\",\"ticks\":\"\"},\"radialaxis\":{\"gridcolor\":\"white\",\"linecolor\":\"white\",\"ticks\":\"\"}},\"ternary\":{\"bgcolor\":\"#E5ECF6\",\"aaxis\":{\"gridcolor\":\"white\",\"linecolor\":\"white\",\"ticks\":\"\"},\"baxis\":{\"gridcolor\":\"white\",\"linecolor\":\"white\",\"ticks\":\"\"},\"caxis\":{\"gridcolor\":\"white\",\"linecolor\":\"white\",\"ticks\":\"\"}},\"coloraxis\":{\"colorbar\":{\"outlinewidth\":0,\"ticks\":\"\"}},\"colorscale\":{\"sequential\":[[0.0,\"#0d0887\"],[0.1111111111111111,\"#46039f\"],[0.2222222222222222,\"#7201a8\"],[0.3333333333333333,\"#9c179e\"],[0.4444444444444444,\"#bd3786\"],[0.5555555555555556,\"#d8576b\"],[0.6666666666666666,\"#ed7953\"],[0.7777777777777778,\"#fb9f3a\"],[0.8888888888888888,\"#fdca26\"],[1.0,\"#f0f921\"]],\"sequentialminus\":[[0.0,\"#0d0887\"],[0.1111111111111111,\"#46039f\"],[0.2222222222222222,\"#7201a8\"],[0.3333333333333333,\"#9c179e\"],[0.4444444444444444,\"#bd3786\"],[0.5555555555555556,\"#d8576b\"],[0.6666666666666666,\"#ed7953\"],[0.7777777777777778,\"#fb9f3a\"],[0.8888888888888888,\"#fdca26\"],[1.0,\"#f0f921\"]],\"diverging\":[[0,\"#8e0152\"],[0.1,\"#c51b7d\"],[0.2,\"#de77ae\"],[0.3,\"#f1b6da\"],[0.4,\"#fde0ef\"],[0.5,\"#f7f7f7\"],[0.6,\"#e6f5d0\"],[0.7,\"#b8e186\"],[0.8,\"#7fbc41\"],[0.9,\"#4d9221\"],[1,\"#276419\"]]},\"xaxis\":{\"gridcolor\":\"white\",\"linecolor\":\"white\",\"ticks\":\"\",\"title\":{\"standoff\":15},\"zerolinecolor\":\"white\",\"automargin\":true,\"zerolinewidth\":2},\"yaxis\":{\"gridcolor\":\"white\",\"linecolor\":\"white\",\"ticks\":\"\",\"title\":{\"standoff\":15},\"zerolinecolor\":\"white\",\"automargin\":true,\"zerolinewidth\":2},\"scene\":{\"xaxis\":{\"backgroundcolor\":\"#E5ECF6\",\"gridcolor\":\"white\",\"linecolor\":\"white\",\"showbackground\":true,\"ticks\":\"\",\"zerolinecolor\":\"white\",\"gridwidth\":2},\"yaxis\":{\"backgroundcolor\":\"#E5ECF6\",\"gridcolor\":\"white\",\"linecolor\":\"white\",\"showbackground\":true,\"ticks\":\"\",\"zerolinecolor\":\"white\",\"gridwidth\":2},\"zaxis\":{\"backgroundcolor\":\"#E5ECF6\",\"gridcolor\":\"white\",\"linecolor\":\"white\",\"showbackground\":true,\"ticks\":\"\",\"zerolinecolor\":\"white\",\"gridwidth\":2}},\"shapedefaults\":{\"line\":{\"color\":\"#2a3f5f\"}},\"annotationdefaults\":{\"arrowcolor\":\"#2a3f5f\",\"arrowhead\":0,\"arrowwidth\":1},\"geo\":{\"bgcolor\":\"white\",\"landcolor\":\"#E5ECF6\",\"subunitcolor\":\"white\",\"showland\":true,\"showlakes\":true,\"lakecolor\":\"white\"},\"title\":{\"x\":0.05},\"mapbox\":{\"style\":\"light\"}}},\"barmode\":\"stack\",\"title\":{\"text\":\"Job Execution Gantt Chart\"},\"xaxis\":{\"title\":{\"text\":\"Time (s)\"}},\"yaxis\":{\"title\":{\"text\":\"Phases\"}},\"showlegend\":true},                        {\"responsive\": true}                    ).then(function(){\n",
       "                            \n",
       "var gd = document.getElementById('8c6aad33-15f4-4378-80b3-9f1e9bc543a6');\n",
       "var x = new MutationObserver(function (mutations, observer) {{\n",
       "        var display = window.getComputedStyle(gd).display;\n",
       "        if (!display || display === 'none') {{\n",
       "            console.log([gd, 'removed!']);\n",
       "            Plotly.purge(gd);\n",
       "            observer.disconnect();\n",
       "        }}\n",
       "}});\n",
       "\n",
       "// Listen for the removal of the full notebook cells\n",
       "var notebookContainer = gd.closest('#notebook-container');\n",
       "if (notebookContainer) {{\n",
       "    x.observe(notebookContainer, {childList: true});\n",
       "}}\n",
       "\n",
       "// Listen for the clearing of the current output cell\n",
       "var outputEl = gd.closest('.output');\n",
       "if (outputEl) {{\n",
       "    x.observe(outputEl, {childList: true});\n",
       "}}\n",
       "\n",
       "                        })                };                });            </script>        </div>"
      ]
     },
     "metadata": {},
     "output_type": "display_data"
    }
   ],
   "source": [
    "from pulp import LpMaximize, LpProblem, LpVariable, lpSum, LpStatus, LpMinimize\n",
    "\n",
    "# Sample regression models for tier0 and tier1. Here, we are simply returning fixed bandwidths for simplicity.\n",
    "def tier0_model(phase):\n",
    "    return 100e6\n",
    "\n",
    "def tier1_model(phase):\n",
    "    return 200e6\n",
    "\n",
    "# Job and phase data in Python dictionaries\n",
    "job1_representation = {\n",
    "    \"node_count\": 1, \"events\": [0, 1, 2], \"read_volumes\": [883728, 0, 0],\n",
    "    \"read_bw\": [441864.0, 0, 0], \"write_volumes\": [0, 9011355062, 0], \"write_bw\": [0, 819214096.5454545, 0],\n",
    "    \"read_pattern\": [\"Uncl\", \"Uncl\", \"Uncl\"], \"write_pattern\": [\"Uncl\", \"Str\", \"Uncl\"],\n",
    "    \"read_operations\": [22, 0, 0], \"write_operations\": [0, 1016, 0]\n",
    "}\n",
    "\n",
    "job1_phase_features = [\n",
    "    {\"job_id\": \"371903\", \"nodes\": 1, \"read_volume\": 883728, \"write_volume\": 0, \"read_io_pattern\": \"uncl\",\n",
    "     \"write_io_pattern\": \"uncl\", \"read_io_size\": 40169.454545454544, \"write_io_size\": 0, \"ioi_bw\": 88372.8},\n",
    "    {\"job_id\": \"371903\", \"nodes\": 1, \"read_volume\": 0, \"write_volume\": 9011355062, \"read_io_pattern\": \"uncl\",\n",
    "     \"write_io_pattern\": \"str\", \"read_io_size\": 0, \"write_io_size\": 8869443.958661417, \"ioi_bw\": 163842819.3090909},\n",
    "    {\"job_id\": \"371903\", \"nodes\": 1, \"read_volume\": 0, \"write_volume\": 0, \"read_io_pattern\": \"uncl\",\n",
    "     \"write_io_pattern\": \"uncl\", \"read_io_size\": 0, \"write_io_size\": 0, \"ioi_bw\": 0.0}\n",
    "]\n",
    "\n",
    "job2_representation = {\n",
    "    \"node_count\": 1, \"events\": [0, 1], \"read_volumes\": [849622, 19210],\n",
    "    \"read_bw\": [424811.0, 19210.0], \"write_volumes\": [0, 9053429170], \"write_bw\": [0, 754452430.8333334],\n",
    "    \"read_pattern\": [\"Uncl\", \"Uncl\"], \"write_pattern\": [\"Uncl\", \"Str\"], \"read_operations\": [13, 11], \"write_operations\": [0, 1022]\n",
    "}\n",
    "\n",
    "job2_phase_features = [\n",
    "    {\"job_id\": \"371904\", \"nodes\": 1, \"read_volume\": 849622, \"write_volume\": 0, \"read_io_pattern\": \"uncl\",\n",
    "     \"write_io_pattern\": \"uncl\", \"read_io_size\": 65355.53846153846, \"write_io_size\": 0, \"ioi_bw\": 84962.2},\n",
    "    {\"job_id\": \"371904\", \"nodes\": 1, \"read_volume\": 19210, \"write_volume\": 9053429170, \"read_io_pattern\": \"uncl\",\n",
    "     \"write_io_pattern\": \"str\", \"read_io_size\": 1746.3636363636363, \"write_io_size\": 8858541.26223092, \"ioi_bw\": 150894328.1666667}\n",
    "]\n",
    "\n",
    "from pulp import LpMinimize, LpProblem, LpVariable, lpSum\n",
    "\n",
    "# Define regression models for tier0 and tier1. For simplicity, we use fixed bandwidths.\n",
    "def tier0_model(phase):\n",
    "    return 100e6\n",
    "\n",
    "def tier1_model(phase):\n",
    "    return 200e6\n",
    "\n",
    "# Define the pulp problem\n",
    "prob = LpProblem(\"Job_Scheduling\", LpMinimize)\n",
    "\n",
    "# Define jobs and phases in Python dictionaries\n",
    "jobs = {'job1': job1_representation, 'job2': job2_representation}\n",
    "phases = {'job1': job1_phase_features, 'job2': job2_phase_features}\n",
    "\n",
    "# Define decision variables\n",
    "x = {(job, i): LpVariable(f\"x_{job}_{i}\", 0) for job, phase_list in phases.items() for i in range(len(phase_list))}\n",
    "y = {(job, i): LpVariable(f\"y_{job}_{i}\", 0) for job, phase_list in phases.items() for i in range(len(phase_list))}\n",
    "z = {(job, i, k): LpVariable(f\"z_{job}_{i}_{k}\", 0, 1, cat='Binary') for job, phase_list in phases.items() for i in range(len(phase_list)) for k in [0, 1]}\n",
    "\n",
    "# Objective function: Minimize the maximum end time among all jobs and phases\n",
    "prob += lpSum(y.values()), \"Minimize_Max_EndTime\"\n",
    "\n",
    "sequential  = True\n",
    "# Define constraints\n",
    "for job, phase_list in phases.items():\n",
    "    for i, phase in enumerate(phase_list):\n",
    "        # Constraint: Each phase should start after the end of the previous phase\n",
    "        if i > 0:\n",
    "            prob += x[job, i] >= y[job, i - 1], f\"StartAfterPrev_{job}_{i}\"\n",
    "        \n",
    "        # Constraint: End time is the start time plus the duration, which is calculated based on the sum of read and write volumes and bandwidth\n",
    "        total_volume = phase['read_volume'] + phase['write_volume']\n",
    "        bandwidth = tier0_model(phase) if z[job, i, 0] == 1 else tier1_model(phase)\n",
    "        prob += y[job, i] == x[job, i] + total_volume / bandwidth, f\"EndTime_{job}_{i}\"\n",
    "\n",
    "        # Constraint: Only one tier should be selected for each phase\n",
    "        prob += z[job, i, 0] + z[job, i, 1] == 1, f\"SingleTier_{job}_{i}\"\n",
    "        \n",
    "        # Additional Constraint for Sequential Execution\n",
    "        if sequential and job == 'job2' and i == 0:\n",
    "            last_phase_job1 = len(phases['job1']) - 1\n",
    "            prob += x['job2', 0] >= y['job1', last_phase_job1], \"Sequential_Execution\"\n",
    "\n",
    "# Solve the problem\n",
    "prob.solve()\n",
    "\n",
    "# Display the results\n",
    "scheduling_results = {}\n",
    "for job, phase_list in phases.items():\n",
    "    scheduling_results[job] = []\n",
    "    for i in range(len(phase_list)):\n",
    "        scheduling_results[job].append((x[job, i].varValue, y[job, i].varValue))\n",
    "\n",
    "print(scheduling_results)\n",
    "plot_gantt(None, phases, scheduling_results)\n"
   ]
  },
  {
   "cell_type": "code",
   "execution_count": 23,
   "metadata": {},
   "outputs": [
    {
     "data": {
      "application/vnd.plotly.v1+json": {
       "config": {
        "plotlyServerURL": "https://plot.ly"
       },
       "data": [],
       "layout": {
        "annotations": [
         {
          "font": {
           "size": 10
          },
          "showarrow": false,
          "text": "job1_Phase_0",
          "x": 0,
          "y": 0
         },
         {
          "font": {
           "size": 10
          },
          "showarrow": false,
          "text": "job1_Phase_1",
          "x": 0.00883728,
          "y": 0
         },
         {
          "font": {
           "size": 10
          },
          "showarrow": false,
          "text": "job1_Phase_2",
          "x": 90.122388,
          "y": 0
         },
         {
          "font": {
           "size": 10
          },
          "showarrow": false,
          "text": "job2_Phase_0",
          "x": 90.122388,
          "y": 1
         },
         {
          "font": {
           "size": 10
          },
          "showarrow": false,
          "text": "job2_Phase_1",
          "x": 90.130884,
          "y": 1
         }
        ],
        "shapes": [
         {
          "fillcolor": "rgba(0, 255, 255, 0.6)",
          "line": {
           "color": "rgba(0, 255, 255, 0.6)"
          },
          "name": "job1_Phase_0",
          "type": "rect",
          "x0": 0,
          "x1": 0.00883728,
          "y0": -50000000,
          "y1": 50000000
         },
         {
          "fillcolor": "rgba(255, 0, 255, 0.6)",
          "line": {
           "color": "rgba(255, 0, 255, 0.6)"
          },
          "name": "job1_Phase_1",
          "type": "rect",
          "x0": 0.00883728,
          "x1": 90.122388,
          "y0": -49999999.944514446,
          "y1": 49999999.944514446
         },
         {
          "fillcolor": "rgba(0, 0, 255, 0.6)",
          "line": {
           "color": "rgba(0, 0, 255, 0.6)"
          },
          "name": "job1_Phase_2",
          "type": "rect",
          "x0": 90.122388,
          "x1": 90.122388,
          "y0": -49999999.944514446,
          "y1": 49999999.944514446
         },
         {
          "fillcolor": "rgba(0, 255, 255, 0.6)",
          "line": {
           "color": "rgba(0, 255, 255, 0.6)"
          },
          "name": "job2_Phase_0",
          "type": "rect",
          "x0": 90.122388,
          "x1": 90.130884,
          "y0": -50001293.72696656,
          "y1": 50001295.72696656
         },
         {
          "fillcolor": "rgba(254, 0, 255, 0.6)",
          "line": {
           "color": "rgba(254, 0, 255, 0.6)"
          },
          "name": "job2_Phase_1",
          "type": "rect",
          "x0": 90.130884,
          "x1": 180.66537,
          "y0": -49999997.78499338,
          "y1": 49999999.78499338
         }
        ],
        "showlegend": false,
        "template": {
         "data": {
          "bar": [
           {
            "error_x": {
             "color": "#2a3f5f"
            },
            "error_y": {
             "color": "#2a3f5f"
            },
            "marker": {
             "line": {
              "color": "#E5ECF6",
              "width": 0.5
             },
             "pattern": {
              "fillmode": "overlay",
              "size": 10,
              "solidity": 0.2
             }
            },
            "type": "bar"
           }
          ],
          "barpolar": [
           {
            "marker": {
             "line": {
              "color": "#E5ECF6",
              "width": 0.5
             },
             "pattern": {
              "fillmode": "overlay",
              "size": 10,
              "solidity": 0.2
             }
            },
            "type": "barpolar"
           }
          ],
          "carpet": [
           {
            "aaxis": {
             "endlinecolor": "#2a3f5f",
             "gridcolor": "white",
             "linecolor": "white",
             "minorgridcolor": "white",
             "startlinecolor": "#2a3f5f"
            },
            "baxis": {
             "endlinecolor": "#2a3f5f",
             "gridcolor": "white",
             "linecolor": "white",
             "minorgridcolor": "white",
             "startlinecolor": "#2a3f5f"
            },
            "type": "carpet"
           }
          ],
          "choropleth": [
           {
            "colorbar": {
             "outlinewidth": 0,
             "ticks": ""
            },
            "type": "choropleth"
           }
          ],
          "contour": [
           {
            "colorbar": {
             "outlinewidth": 0,
             "ticks": ""
            },
            "colorscale": [
             [
              0,
              "#0d0887"
             ],
             [
              0.1111111111111111,
              "#46039f"
             ],
             [
              0.2222222222222222,
              "#7201a8"
             ],
             [
              0.3333333333333333,
              "#9c179e"
             ],
             [
              0.4444444444444444,
              "#bd3786"
             ],
             [
              0.5555555555555556,
              "#d8576b"
             ],
             [
              0.6666666666666666,
              "#ed7953"
             ],
             [
              0.7777777777777778,
              "#fb9f3a"
             ],
             [
              0.8888888888888888,
              "#fdca26"
             ],
             [
              1,
              "#f0f921"
             ]
            ],
            "type": "contour"
           }
          ],
          "contourcarpet": [
           {
            "colorbar": {
             "outlinewidth": 0,
             "ticks": ""
            },
            "type": "contourcarpet"
           }
          ],
          "heatmap": [
           {
            "colorbar": {
             "outlinewidth": 0,
             "ticks": ""
            },
            "colorscale": [
             [
              0,
              "#0d0887"
             ],
             [
              0.1111111111111111,
              "#46039f"
             ],
             [
              0.2222222222222222,
              "#7201a8"
             ],
             [
              0.3333333333333333,
              "#9c179e"
             ],
             [
              0.4444444444444444,
              "#bd3786"
             ],
             [
              0.5555555555555556,
              "#d8576b"
             ],
             [
              0.6666666666666666,
              "#ed7953"
             ],
             [
              0.7777777777777778,
              "#fb9f3a"
             ],
             [
              0.8888888888888888,
              "#fdca26"
             ],
             [
              1,
              "#f0f921"
             ]
            ],
            "type": "heatmap"
           }
          ],
          "heatmapgl": [
           {
            "colorbar": {
             "outlinewidth": 0,
             "ticks": ""
            },
            "colorscale": [
             [
              0,
              "#0d0887"
             ],
             [
              0.1111111111111111,
              "#46039f"
             ],
             [
              0.2222222222222222,
              "#7201a8"
             ],
             [
              0.3333333333333333,
              "#9c179e"
             ],
             [
              0.4444444444444444,
              "#bd3786"
             ],
             [
              0.5555555555555556,
              "#d8576b"
             ],
             [
              0.6666666666666666,
              "#ed7953"
             ],
             [
              0.7777777777777778,
              "#fb9f3a"
             ],
             [
              0.8888888888888888,
              "#fdca26"
             ],
             [
              1,
              "#f0f921"
             ]
            ],
            "type": "heatmapgl"
           }
          ],
          "histogram": [
           {
            "marker": {
             "pattern": {
              "fillmode": "overlay",
              "size": 10,
              "solidity": 0.2
             }
            },
            "type": "histogram"
           }
          ],
          "histogram2d": [
           {
            "colorbar": {
             "outlinewidth": 0,
             "ticks": ""
            },
            "colorscale": [
             [
              0,
              "#0d0887"
             ],
             [
              0.1111111111111111,
              "#46039f"
             ],
             [
              0.2222222222222222,
              "#7201a8"
             ],
             [
              0.3333333333333333,
              "#9c179e"
             ],
             [
              0.4444444444444444,
              "#bd3786"
             ],
             [
              0.5555555555555556,
              "#d8576b"
             ],
             [
              0.6666666666666666,
              "#ed7953"
             ],
             [
              0.7777777777777778,
              "#fb9f3a"
             ],
             [
              0.8888888888888888,
              "#fdca26"
             ],
             [
              1,
              "#f0f921"
             ]
            ],
            "type": "histogram2d"
           }
          ],
          "histogram2dcontour": [
           {
            "colorbar": {
             "outlinewidth": 0,
             "ticks": ""
            },
            "colorscale": [
             [
              0,
              "#0d0887"
             ],
             [
              0.1111111111111111,
              "#46039f"
             ],
             [
              0.2222222222222222,
              "#7201a8"
             ],
             [
              0.3333333333333333,
              "#9c179e"
             ],
             [
              0.4444444444444444,
              "#bd3786"
             ],
             [
              0.5555555555555556,
              "#d8576b"
             ],
             [
              0.6666666666666666,
              "#ed7953"
             ],
             [
              0.7777777777777778,
              "#fb9f3a"
             ],
             [
              0.8888888888888888,
              "#fdca26"
             ],
             [
              1,
              "#f0f921"
             ]
            ],
            "type": "histogram2dcontour"
           }
          ],
          "mesh3d": [
           {
            "colorbar": {
             "outlinewidth": 0,
             "ticks": ""
            },
            "type": "mesh3d"
           }
          ],
          "parcoords": [
           {
            "line": {
             "colorbar": {
              "outlinewidth": 0,
              "ticks": ""
             }
            },
            "type": "parcoords"
           }
          ],
          "pie": [
           {
            "automargin": true,
            "type": "pie"
           }
          ],
          "scatter": [
           {
            "fillpattern": {
             "fillmode": "overlay",
             "size": 10,
             "solidity": 0.2
            },
            "type": "scatter"
           }
          ],
          "scatter3d": [
           {
            "line": {
             "colorbar": {
              "outlinewidth": 0,
              "ticks": ""
             }
            },
            "marker": {
             "colorbar": {
              "outlinewidth": 0,
              "ticks": ""
             }
            },
            "type": "scatter3d"
           }
          ],
          "scattercarpet": [
           {
            "marker": {
             "colorbar": {
              "outlinewidth": 0,
              "ticks": ""
             }
            },
            "type": "scattercarpet"
           }
          ],
          "scattergeo": [
           {
            "marker": {
             "colorbar": {
              "outlinewidth": 0,
              "ticks": ""
             }
            },
            "type": "scattergeo"
           }
          ],
          "scattergl": [
           {
            "marker": {
             "colorbar": {
              "outlinewidth": 0,
              "ticks": ""
             }
            },
            "type": "scattergl"
           }
          ],
          "scattermapbox": [
           {
            "marker": {
             "colorbar": {
              "outlinewidth": 0,
              "ticks": ""
             }
            },
            "type": "scattermapbox"
           }
          ],
          "scatterpolar": [
           {
            "marker": {
             "colorbar": {
              "outlinewidth": 0,
              "ticks": ""
             }
            },
            "type": "scatterpolar"
           }
          ],
          "scatterpolargl": [
           {
            "marker": {
             "colorbar": {
              "outlinewidth": 0,
              "ticks": ""
             }
            },
            "type": "scatterpolargl"
           }
          ],
          "scatterternary": [
           {
            "marker": {
             "colorbar": {
              "outlinewidth": 0,
              "ticks": ""
             }
            },
            "type": "scatterternary"
           }
          ],
          "surface": [
           {
            "colorbar": {
             "outlinewidth": 0,
             "ticks": ""
            },
            "colorscale": [
             [
              0,
              "#0d0887"
             ],
             [
              0.1111111111111111,
              "#46039f"
             ],
             [
              0.2222222222222222,
              "#7201a8"
             ],
             [
              0.3333333333333333,
              "#9c179e"
             ],
             [
              0.4444444444444444,
              "#bd3786"
             ],
             [
              0.5555555555555556,
              "#d8576b"
             ],
             [
              0.6666666666666666,
              "#ed7953"
             ],
             [
              0.7777777777777778,
              "#fb9f3a"
             ],
             [
              0.8888888888888888,
              "#fdca26"
             ],
             [
              1,
              "#f0f921"
             ]
            ],
            "type": "surface"
           }
          ],
          "table": [
           {
            "cells": {
             "fill": {
              "color": "#EBF0F8"
             },
             "line": {
              "color": "white"
             }
            },
            "header": {
             "fill": {
              "color": "#C8D4E3"
             },
             "line": {
              "color": "white"
             }
            },
            "type": "table"
           }
          ]
         },
         "layout": {
          "annotationdefaults": {
           "arrowcolor": "#2a3f5f",
           "arrowhead": 0,
           "arrowwidth": 1
          },
          "autotypenumbers": "strict",
          "coloraxis": {
           "colorbar": {
            "outlinewidth": 0,
            "ticks": ""
           }
          },
          "colorscale": {
           "diverging": [
            [
             0,
             "#8e0152"
            ],
            [
             0.1,
             "#c51b7d"
            ],
            [
             0.2,
             "#de77ae"
            ],
            [
             0.3,
             "#f1b6da"
            ],
            [
             0.4,
             "#fde0ef"
            ],
            [
             0.5,
             "#f7f7f7"
            ],
            [
             0.6,
             "#e6f5d0"
            ],
            [
             0.7,
             "#b8e186"
            ],
            [
             0.8,
             "#7fbc41"
            ],
            [
             0.9,
             "#4d9221"
            ],
            [
             1,
             "#276419"
            ]
           ],
           "sequential": [
            [
             0,
             "#0d0887"
            ],
            [
             0.1111111111111111,
             "#46039f"
            ],
            [
             0.2222222222222222,
             "#7201a8"
            ],
            [
             0.3333333333333333,
             "#9c179e"
            ],
            [
             0.4444444444444444,
             "#bd3786"
            ],
            [
             0.5555555555555556,
             "#d8576b"
            ],
            [
             0.6666666666666666,
             "#ed7953"
            ],
            [
             0.7777777777777778,
             "#fb9f3a"
            ],
            [
             0.8888888888888888,
             "#fdca26"
            ],
            [
             1,
             "#f0f921"
            ]
           ],
           "sequentialminus": [
            [
             0,
             "#0d0887"
            ],
            [
             0.1111111111111111,
             "#46039f"
            ],
            [
             0.2222222222222222,
             "#7201a8"
            ],
            [
             0.3333333333333333,
             "#9c179e"
            ],
            [
             0.4444444444444444,
             "#bd3786"
            ],
            [
             0.5555555555555556,
             "#d8576b"
            ],
            [
             0.6666666666666666,
             "#ed7953"
            ],
            [
             0.7777777777777778,
             "#fb9f3a"
            ],
            [
             0.8888888888888888,
             "#fdca26"
            ],
            [
             1,
             "#f0f921"
            ]
           ]
          },
          "colorway": [
           "#636efa",
           "#EF553B",
           "#00cc96",
           "#ab63fa",
           "#FFA15A",
           "#19d3f3",
           "#FF6692",
           "#B6E880",
           "#FF97FF",
           "#FECB52"
          ],
          "font": {
           "color": "#2a3f5f"
          },
          "geo": {
           "bgcolor": "white",
           "lakecolor": "white",
           "landcolor": "#E5ECF6",
           "showlakes": true,
           "showland": true,
           "subunitcolor": "white"
          },
          "hoverlabel": {
           "align": "left"
          },
          "hovermode": "closest",
          "mapbox": {
           "style": "light"
          },
          "paper_bgcolor": "white",
          "plot_bgcolor": "#E5ECF6",
          "polar": {
           "angularaxis": {
            "gridcolor": "white",
            "linecolor": "white",
            "ticks": ""
           },
           "bgcolor": "#E5ECF6",
           "radialaxis": {
            "gridcolor": "white",
            "linecolor": "white",
            "ticks": ""
           }
          },
          "scene": {
           "xaxis": {
            "backgroundcolor": "#E5ECF6",
            "gridcolor": "white",
            "gridwidth": 2,
            "linecolor": "white",
            "showbackground": true,
            "ticks": "",
            "zerolinecolor": "white"
           },
           "yaxis": {
            "backgroundcolor": "#E5ECF6",
            "gridcolor": "white",
            "gridwidth": 2,
            "linecolor": "white",
            "showbackground": true,
            "ticks": "",
            "zerolinecolor": "white"
           },
           "zaxis": {
            "backgroundcolor": "#E5ECF6",
            "gridcolor": "white",
            "gridwidth": 2,
            "linecolor": "white",
            "showbackground": true,
            "ticks": "",
            "zerolinecolor": "white"
           }
          },
          "shapedefaults": {
           "line": {
            "color": "#2a3f5f"
           }
          },
          "ternary": {
           "aaxis": {
            "gridcolor": "white",
            "linecolor": "white",
            "ticks": ""
           },
           "baxis": {
            "gridcolor": "white",
            "linecolor": "white",
            "ticks": ""
           },
           "bgcolor": "#E5ECF6",
           "caxis": {
            "gridcolor": "white",
            "linecolor": "white",
            "ticks": ""
           }
          },
          "title": {
           "x": 0.05
          },
          "xaxis": {
           "automargin": true,
           "gridcolor": "white",
           "linecolor": "white",
           "ticks": "",
           "title": {
            "standoff": 15
           },
           "zerolinecolor": "white",
           "zerolinewidth": 2
          },
          "yaxis": {
           "automargin": true,
           "gridcolor": "white",
           "linecolor": "white",
           "ticks": "",
           "title": {
            "standoff": 15
           },
           "zerolinecolor": "white",
           "zerolinewidth": 2
          }
         }
        },
        "title": {
         "text": "Job Execution Gantt Chart"
        },
        "xaxis": {
         "title": {
          "text": "Time (s)"
         }
        },
        "yaxis": {
         "title": {
          "text": "Jobs"
         }
        }
       }
      },
      "text/html": [
       "<div>                            <div id=\"94816b32-4f60-45c8-923d-559ef7c8cfa1\" class=\"plotly-graph-div\" style=\"height:525px; width:100%;\"></div>            <script type=\"text/javascript\">                require([\"plotly\"], function(Plotly) {                    window.PLOTLYENV=window.PLOTLYENV || {};                                    if (document.getElementById(\"94816b32-4f60-45c8-923d-559ef7c8cfa1\")) {                    Plotly.newPlot(                        \"94816b32-4f60-45c8-923d-559ef7c8cfa1\",                        [],                        {\"template\":{\"data\":{\"histogram2dcontour\":[{\"type\":\"histogram2dcontour\",\"colorbar\":{\"outlinewidth\":0,\"ticks\":\"\"},\"colorscale\":[[0.0,\"#0d0887\"],[0.1111111111111111,\"#46039f\"],[0.2222222222222222,\"#7201a8\"],[0.3333333333333333,\"#9c179e\"],[0.4444444444444444,\"#bd3786\"],[0.5555555555555556,\"#d8576b\"],[0.6666666666666666,\"#ed7953\"],[0.7777777777777778,\"#fb9f3a\"],[0.8888888888888888,\"#fdca26\"],[1.0,\"#f0f921\"]]}],\"choropleth\":[{\"type\":\"choropleth\",\"colorbar\":{\"outlinewidth\":0,\"ticks\":\"\"}}],\"histogram2d\":[{\"type\":\"histogram2d\",\"colorbar\":{\"outlinewidth\":0,\"ticks\":\"\"},\"colorscale\":[[0.0,\"#0d0887\"],[0.1111111111111111,\"#46039f\"],[0.2222222222222222,\"#7201a8\"],[0.3333333333333333,\"#9c179e\"],[0.4444444444444444,\"#bd3786\"],[0.5555555555555556,\"#d8576b\"],[0.6666666666666666,\"#ed7953\"],[0.7777777777777778,\"#fb9f3a\"],[0.8888888888888888,\"#fdca26\"],[1.0,\"#f0f921\"]]}],\"heatmap\":[{\"type\":\"heatmap\",\"colorbar\":{\"outlinewidth\":0,\"ticks\":\"\"},\"colorscale\":[[0.0,\"#0d0887\"],[0.1111111111111111,\"#46039f\"],[0.2222222222222222,\"#7201a8\"],[0.3333333333333333,\"#9c179e\"],[0.4444444444444444,\"#bd3786\"],[0.5555555555555556,\"#d8576b\"],[0.6666666666666666,\"#ed7953\"],[0.7777777777777778,\"#fb9f3a\"],[0.8888888888888888,\"#fdca26\"],[1.0,\"#f0f921\"]]}],\"heatmapgl\":[{\"type\":\"heatmapgl\",\"colorbar\":{\"outlinewidth\":0,\"ticks\":\"\"},\"colorscale\":[[0.0,\"#0d0887\"],[0.1111111111111111,\"#46039f\"],[0.2222222222222222,\"#7201a8\"],[0.3333333333333333,\"#9c179e\"],[0.4444444444444444,\"#bd3786\"],[0.5555555555555556,\"#d8576b\"],[0.6666666666666666,\"#ed7953\"],[0.7777777777777778,\"#fb9f3a\"],[0.8888888888888888,\"#fdca26\"],[1.0,\"#f0f921\"]]}],\"contourcarpet\":[{\"type\":\"contourcarpet\",\"colorbar\":{\"outlinewidth\":0,\"ticks\":\"\"}}],\"contour\":[{\"type\":\"contour\",\"colorbar\":{\"outlinewidth\":0,\"ticks\":\"\"},\"colorscale\":[[0.0,\"#0d0887\"],[0.1111111111111111,\"#46039f\"],[0.2222222222222222,\"#7201a8\"],[0.3333333333333333,\"#9c179e\"],[0.4444444444444444,\"#bd3786\"],[0.5555555555555556,\"#d8576b\"],[0.6666666666666666,\"#ed7953\"],[0.7777777777777778,\"#fb9f3a\"],[0.8888888888888888,\"#fdca26\"],[1.0,\"#f0f921\"]]}],\"surface\":[{\"type\":\"surface\",\"colorbar\":{\"outlinewidth\":0,\"ticks\":\"\"},\"colorscale\":[[0.0,\"#0d0887\"],[0.1111111111111111,\"#46039f\"],[0.2222222222222222,\"#7201a8\"],[0.3333333333333333,\"#9c179e\"],[0.4444444444444444,\"#bd3786\"],[0.5555555555555556,\"#d8576b\"],[0.6666666666666666,\"#ed7953\"],[0.7777777777777778,\"#fb9f3a\"],[0.8888888888888888,\"#fdca26\"],[1.0,\"#f0f921\"]]}],\"mesh3d\":[{\"type\":\"mesh3d\",\"colorbar\":{\"outlinewidth\":0,\"ticks\":\"\"}}],\"scatter\":[{\"fillpattern\":{\"fillmode\":\"overlay\",\"size\":10,\"solidity\":0.2},\"type\":\"scatter\"}],\"parcoords\":[{\"type\":\"parcoords\",\"line\":{\"colorbar\":{\"outlinewidth\":0,\"ticks\":\"\"}}}],\"scatterpolargl\":[{\"type\":\"scatterpolargl\",\"marker\":{\"colorbar\":{\"outlinewidth\":0,\"ticks\":\"\"}}}],\"bar\":[{\"error_x\":{\"color\":\"#2a3f5f\"},\"error_y\":{\"color\":\"#2a3f5f\"},\"marker\":{\"line\":{\"color\":\"#E5ECF6\",\"width\":0.5},\"pattern\":{\"fillmode\":\"overlay\",\"size\":10,\"solidity\":0.2}},\"type\":\"bar\"}],\"scattergeo\":[{\"type\":\"scattergeo\",\"marker\":{\"colorbar\":{\"outlinewidth\":0,\"ticks\":\"\"}}}],\"scatterpolar\":[{\"type\":\"scatterpolar\",\"marker\":{\"colorbar\":{\"outlinewidth\":0,\"ticks\":\"\"}}}],\"histogram\":[{\"marker\":{\"pattern\":{\"fillmode\":\"overlay\",\"size\":10,\"solidity\":0.2}},\"type\":\"histogram\"}],\"scattergl\":[{\"type\":\"scattergl\",\"marker\":{\"colorbar\":{\"outlinewidth\":0,\"ticks\":\"\"}}}],\"scatter3d\":[{\"type\":\"scatter3d\",\"line\":{\"colorbar\":{\"outlinewidth\":0,\"ticks\":\"\"}},\"marker\":{\"colorbar\":{\"outlinewidth\":0,\"ticks\":\"\"}}}],\"scattermapbox\":[{\"type\":\"scattermapbox\",\"marker\":{\"colorbar\":{\"outlinewidth\":0,\"ticks\":\"\"}}}],\"scatterternary\":[{\"type\":\"scatterternary\",\"marker\":{\"colorbar\":{\"outlinewidth\":0,\"ticks\":\"\"}}}],\"scattercarpet\":[{\"type\":\"scattercarpet\",\"marker\":{\"colorbar\":{\"outlinewidth\":0,\"ticks\":\"\"}}}],\"carpet\":[{\"aaxis\":{\"endlinecolor\":\"#2a3f5f\",\"gridcolor\":\"white\",\"linecolor\":\"white\",\"minorgridcolor\":\"white\",\"startlinecolor\":\"#2a3f5f\"},\"baxis\":{\"endlinecolor\":\"#2a3f5f\",\"gridcolor\":\"white\",\"linecolor\":\"white\",\"minorgridcolor\":\"white\",\"startlinecolor\":\"#2a3f5f\"},\"type\":\"carpet\"}],\"table\":[{\"cells\":{\"fill\":{\"color\":\"#EBF0F8\"},\"line\":{\"color\":\"white\"}},\"header\":{\"fill\":{\"color\":\"#C8D4E3\"},\"line\":{\"color\":\"white\"}},\"type\":\"table\"}],\"barpolar\":[{\"marker\":{\"line\":{\"color\":\"#E5ECF6\",\"width\":0.5},\"pattern\":{\"fillmode\":\"overlay\",\"size\":10,\"solidity\":0.2}},\"type\":\"barpolar\"}],\"pie\":[{\"automargin\":true,\"type\":\"pie\"}]},\"layout\":{\"autotypenumbers\":\"strict\",\"colorway\":[\"#636efa\",\"#EF553B\",\"#00cc96\",\"#ab63fa\",\"#FFA15A\",\"#19d3f3\",\"#FF6692\",\"#B6E880\",\"#FF97FF\",\"#FECB52\"],\"font\":{\"color\":\"#2a3f5f\"},\"hovermode\":\"closest\",\"hoverlabel\":{\"align\":\"left\"},\"paper_bgcolor\":\"white\",\"plot_bgcolor\":\"#E5ECF6\",\"polar\":{\"bgcolor\":\"#E5ECF6\",\"angularaxis\":{\"gridcolor\":\"white\",\"linecolor\":\"white\",\"ticks\":\"\"},\"radialaxis\":{\"gridcolor\":\"white\",\"linecolor\":\"white\",\"ticks\":\"\"}},\"ternary\":{\"bgcolor\":\"#E5ECF6\",\"aaxis\":{\"gridcolor\":\"white\",\"linecolor\":\"white\",\"ticks\":\"\"},\"baxis\":{\"gridcolor\":\"white\",\"linecolor\":\"white\",\"ticks\":\"\"},\"caxis\":{\"gridcolor\":\"white\",\"linecolor\":\"white\",\"ticks\":\"\"}},\"coloraxis\":{\"colorbar\":{\"outlinewidth\":0,\"ticks\":\"\"}},\"colorscale\":{\"sequential\":[[0.0,\"#0d0887\"],[0.1111111111111111,\"#46039f\"],[0.2222222222222222,\"#7201a8\"],[0.3333333333333333,\"#9c179e\"],[0.4444444444444444,\"#bd3786\"],[0.5555555555555556,\"#d8576b\"],[0.6666666666666666,\"#ed7953\"],[0.7777777777777778,\"#fb9f3a\"],[0.8888888888888888,\"#fdca26\"],[1.0,\"#f0f921\"]],\"sequentialminus\":[[0.0,\"#0d0887\"],[0.1111111111111111,\"#46039f\"],[0.2222222222222222,\"#7201a8\"],[0.3333333333333333,\"#9c179e\"],[0.4444444444444444,\"#bd3786\"],[0.5555555555555556,\"#d8576b\"],[0.6666666666666666,\"#ed7953\"],[0.7777777777777778,\"#fb9f3a\"],[0.8888888888888888,\"#fdca26\"],[1.0,\"#f0f921\"]],\"diverging\":[[0,\"#8e0152\"],[0.1,\"#c51b7d\"],[0.2,\"#de77ae\"],[0.3,\"#f1b6da\"],[0.4,\"#fde0ef\"],[0.5,\"#f7f7f7\"],[0.6,\"#e6f5d0\"],[0.7,\"#b8e186\"],[0.8,\"#7fbc41\"],[0.9,\"#4d9221\"],[1,\"#276419\"]]},\"xaxis\":{\"gridcolor\":\"white\",\"linecolor\":\"white\",\"ticks\":\"\",\"title\":{\"standoff\":15},\"zerolinecolor\":\"white\",\"automargin\":true,\"zerolinewidth\":2},\"yaxis\":{\"gridcolor\":\"white\",\"linecolor\":\"white\",\"ticks\":\"\",\"title\":{\"standoff\":15},\"zerolinecolor\":\"white\",\"automargin\":true,\"zerolinewidth\":2},\"scene\":{\"xaxis\":{\"backgroundcolor\":\"#E5ECF6\",\"gridcolor\":\"white\",\"linecolor\":\"white\",\"showbackground\":true,\"ticks\":\"\",\"zerolinecolor\":\"white\",\"gridwidth\":2},\"yaxis\":{\"backgroundcolor\":\"#E5ECF6\",\"gridcolor\":\"white\",\"linecolor\":\"white\",\"showbackground\":true,\"ticks\":\"\",\"zerolinecolor\":\"white\",\"gridwidth\":2},\"zaxis\":{\"backgroundcolor\":\"#E5ECF6\",\"gridcolor\":\"white\",\"linecolor\":\"white\",\"showbackground\":true,\"ticks\":\"\",\"zerolinecolor\":\"white\",\"gridwidth\":2}},\"shapedefaults\":{\"line\":{\"color\":\"#2a3f5f\"}},\"annotationdefaults\":{\"arrowcolor\":\"#2a3f5f\",\"arrowhead\":0,\"arrowwidth\":1},\"geo\":{\"bgcolor\":\"white\",\"landcolor\":\"#E5ECF6\",\"subunitcolor\":\"white\",\"showland\":true,\"showlakes\":true,\"lakecolor\":\"white\"},\"title\":{\"x\":0.05},\"mapbox\":{\"style\":\"light\"}}},\"shapes\":[{\"fillcolor\":\"rgba(0, 255, 255, 0.6)\",\"line\":{\"color\":\"rgba(0, 255, 255, 0.6)\"},\"name\":\"job1_Phase_0\",\"type\":\"rect\",\"x0\":0.0,\"x1\":0.00883728,\"y0\":-50000000.0,\"y1\":50000000.0},{\"fillcolor\":\"rgba(255, 0, 255, 0.6)\",\"line\":{\"color\":\"rgba(255, 0, 255, 0.6)\"},\"name\":\"job1_Phase_1\",\"type\":\"rect\",\"x0\":0.00883728,\"x1\":90.122388,\"y0\":-49999999.944514446,\"y1\":49999999.944514446},{\"fillcolor\":\"rgba(0, 0, 255, 0.6)\",\"line\":{\"color\":\"rgba(0, 0, 255, 0.6)\"},\"name\":\"job1_Phase_2\",\"type\":\"rect\",\"x0\":90.122388,\"x1\":90.122388,\"y0\":-49999999.944514446,\"y1\":49999999.944514446},{\"fillcolor\":\"rgba(0, 255, 255, 0.6)\",\"line\":{\"color\":\"rgba(0, 255, 255, 0.6)\"},\"name\":\"job2_Phase_0\",\"type\":\"rect\",\"x0\":90.122388,\"x1\":90.130884,\"y0\":-50001293.72696656,\"y1\":50001295.72696656},{\"fillcolor\":\"rgba(254, 0, 255, 0.6)\",\"line\":{\"color\":\"rgba(254, 0, 255, 0.6)\"},\"name\":\"job2_Phase_1\",\"type\":\"rect\",\"x0\":90.130884,\"x1\":180.66537,\"y0\":-49999997.78499338,\"y1\":49999999.78499338}],\"annotations\":[{\"font\":{\"size\":10},\"showarrow\":false,\"text\":\"job1_Phase_0\",\"x\":0.0,\"y\":0},{\"font\":{\"size\":10},\"showarrow\":false,\"text\":\"job1_Phase_1\",\"x\":0.00883728,\"y\":0},{\"font\":{\"size\":10},\"showarrow\":false,\"text\":\"job1_Phase_2\",\"x\":90.122388,\"y\":0},{\"font\":{\"size\":10},\"showarrow\":false,\"text\":\"job2_Phase_0\",\"x\":90.122388,\"y\":1},{\"font\":{\"size\":10},\"showarrow\":false,\"text\":\"job2_Phase_1\",\"x\":90.130884,\"y\":1}],\"title\":{\"text\":\"Job Execution Gantt Chart\"},\"xaxis\":{\"title\":{\"text\":\"Time (s)\"}},\"yaxis\":{\"title\":{\"text\":\"Jobs\"}},\"showlegend\":false},                        {\"responsive\": true}                    ).then(function(){\n",
       "                            \n",
       "var gd = document.getElementById('94816b32-4f60-45c8-923d-559ef7c8cfa1');\n",
       "var x = new MutationObserver(function (mutations, observer) {{\n",
       "        var display = window.getComputedStyle(gd).display;\n",
       "        if (!display || display === 'none') {{\n",
       "            console.log([gd, 'removed!']);\n",
       "            Plotly.purge(gd);\n",
       "            observer.disconnect();\n",
       "        }}\n",
       "}});\n",
       "\n",
       "// Listen for the removal of the full notebook cells\n",
       "var notebookContainer = gd.closest('#notebook-container');\n",
       "if (notebookContainer) {{\n",
       "    x.observe(notebookContainer, {childList: true});\n",
       "}}\n",
       "\n",
       "// Listen for the clearing of the current output cell\n",
       "var outputEl = gd.closest('.output');\n",
       "if (outputEl) {{\n",
       "    x.observe(outputEl, {childList: true});\n",
       "}}\n",
       "\n",
       "                        })                };                });            </script>        </div>"
      ]
     },
     "metadata": {},
     "output_type": "display_data"
    }
   ],
   "source": [
    "import plotly.graph_objects as go\n",
    "\n",
    "def plot_gantt(start_end_times, phases_details):\n",
    "    fig = go.Figure()\n",
    "\n",
    "    for i, (job_name, phases) in enumerate(start_end_times.items()):\n",
    "        for j, (start_time, end_time) in enumerate(phases):\n",
    "            phase = phases_details[job_name][j]\n",
    "            total_volume = phase['read_volume'] + phase['write_volume']\n",
    "            if (end_time - start_time) > 0:\n",
    "                height = total_volume / (end_time - start_time)  # Normalizing for better visualization\n",
    "            read_ratio = phase['read_volume'] / total_volume if total_volume > 0 else 0\n",
    "            write_ratio = phase['write_volume'] / total_volume if total_volume > 0 else 0\n",
    "            color = f'rgba({int(255 * write_ratio)}, {int(255 * read_ratio)}, 255, 0.6)'\n",
    "\n",
    "            fig.add_shape(type=\"rect\",\n",
    "                          x0=start_time,\n",
    "                          x1=end_time,\n",
    "                          y0=i - height / 2,\n",
    "                          y1=i + height / 2,\n",
    "                          line=dict(color=color),\n",
    "                          fillcolor=color,\n",
    "                          name=f\"{job_name}_Phase_{j}\")\n",
    "\n",
    "            fig.add_annotation(\n",
    "                x=start_time,\n",
    "                y=i,\n",
    "                text=f\"{job_name}_Phase_{j}\",\n",
    "                showarrow=False,\n",
    "                font=dict(size=10)\n",
    "            )\n",
    "\n",
    "    fig.update_layout(\n",
    "        title='Job Execution Gantt Chart',\n",
    "        xaxis=dict(title='Time (s)'),\n",
    "        yaxis=dict(title='Jobs'),\n",
    "        showlegend=False\n",
    "    )\n",
    "\n",
    "    fig.show()\n",
    "\n",
    "# Sample start and end times calculated from the MILP model\n",
    "start_end_times = {\n",
    "    'job1': [(0.0, 0.00883728), (0.00883728, 90.122388), (90.122388, 90.122388)],\n",
    "    'job2': [(90.122388, 90.130884), (90.130884, 180.66537)]\n",
    "}\n",
    "\n",
    "# Your job and phase details go here\n",
    "job1_phase_features = [\n",
    "    {\"read_volume\": 883728, \"write_volume\": 0},\n",
    "    {\"read_volume\": 0, \"write_volume\": 9011355062},\n",
    "    {\"read_volume\": 0, \"write_volume\": 0}\n",
    "]\n",
    "\n",
    "job2_phase_features = [\n",
    "    {\"read_volume\": 849622, \"write_volume\": 0},\n",
    "    {\"read_volume\": 19210, \"write_volume\": 9053429170}\n",
    "]\n",
    "\n",
    "phases_details = {'job1': job1_phase_features, 'job2': job2_phase_features}\n",
    "\n",
    "# Plot the Gantt chart\n",
    "plot_gantt(start_end_times, phases_details)\n"
   ]
  },
  {
   "cell_type": "code",
   "execution_count": 6,
   "metadata": {},
   "outputs": [
    {
     "name": "stdout",
     "output_type": "stream",
     "text": [
      "Welcome to the CBC MILP Solver \n",
      "Version: 2.10.3 \n",
      "Build Date: Dec 15 2019 \n",
      "\n",
      "command line - /home_nfs/mimounis/iosea-venv/lib/python3.8/site-packages/pulp/solverdir/cbc/linux/64/cbc /tmp/1f10c27c397d415a8837fc6387398d6b-pulp.mps timeMode elapsed branch printingOptions all solution /tmp/1f10c27c397d415a8837fc6387398d6b-pulp.sol (default strategy 1)\n",
      "At line 2 NAME          MODEL\n",
      "At line 3 ROWS\n",
      "At line 13 COLUMNS\n",
      "At line 35 RHS\n",
      "At line 44 BOUNDS\n",
      "At line 45 ENDATA\n",
      "Problem MODEL has 8 rows, 10 columns and 16 elements\n",
      "Coin0008I MODEL read with 0 errors\n",
      "Option for timeMode changed from cpu to elapsed\n",
      "Presolve 0 (-8) rows, 0 (-10) columns and 0 (-16) elements\n",
      "Empty problem - 0 rows, 0 columns and 0 elements\n",
      "Optimal - objective value 4.7901501e+08\n",
      "After Postsolve, objective 4.7901501e+08, infeasibilities - dual 0 (0), primal 0 (0)\n",
      "Optimal objective 479015009.6 - 0 iterations time 0.002, Presolve 0.00\n",
      "Option for printingOptions changed from normal to all\n",
      "Total time (CPU seconds):       0.00   (Wallclock seconds):       0.00\n",
      "\n",
      "Scheduling for job1:\n",
      "  Phase 0: Start at 0.0, End at 88372.8\n",
      "  Phase 1: Start at 88372.8, End at 163931190.0\n",
      "  Phase 2: Start at 163931190.0, End at 163931190.0\n",
      "Scheduling for job2:\n",
      "  Phase 0: Start at 0.0, End at 84962.2\n",
      "  Phase 1: Start at 84962.2, End at 150979290.0\n"
     ]
    }
   ],
   "source": [
    "from pulp import LpMinimize, LpProblem, LpVariable, lpSum\n",
    "\n",
    "# Sample regression models for tier0 and tier1. Here, we are simply returning fixed bandwidths for simplicity.\n",
    "def tier0_model(phase):\n",
    "    return 100e6\n",
    "\n",
    "def tier1_model(phase):\n",
    "    return 200e6\n",
    "\n",
    "# Job and phase data in Python dictionaries\n",
    "job1_representation = {\n",
    "    \"node_count\": 1, \"events\": [0, 1, 2], \"read_volumes\": [883728, 0, 0],\n",
    "    \"read_bw\": [441864.0, 0, 0], \"write_volumes\": [0, 9011355062, 0], \"write_bw\": [0, 819214096.5454545, 0],\n",
    "    \"read_pattern\": [\"Uncl\", \"Uncl\", \"Uncl\"], \"write_pattern\": [\"Uncl\", \"Str\", \"Uncl\"],\n",
    "    \"read_operations\": [22, 0, 0], \"write_operations\": [0, 1016, 0]\n",
    "}\n",
    "\n",
    "job1_phase_features = [\n",
    "    {\"job_id\": \"371903\", \"nodes\": 1, \"read_volume\": 883728, \"write_volume\": 0, \"read_io_pattern\": \"uncl\",\n",
    "     \"write_io_pattern\": \"uncl\", \"read_io_size\": 40169.454545454544, \"write_io_size\": 0, \"ioi_bw\": 88372.8},\n",
    "    {\"job_id\": \"371903\", \"nodes\": 1, \"read_volume\": 0, \"write_volume\": 9011355062, \"read_io_pattern\": \"uncl\",\n",
    "     \"write_io_pattern\": \"str\", \"read_io_size\": 0, \"write_io_size\": 8869443.958661417, \"ioi_bw\": 163842819.3090909},\n",
    "    {\"job_id\": \"371903\", \"nodes\": 1, \"read_volume\": 0, \"write_volume\": 0, \"read_io_pattern\": \"uncl\",\n",
    "     \"write_io_pattern\": \"uncl\", \"read_io_size\": 0, \"write_io_size\": 0, \"ioi_bw\": 0.0}\n",
    "]\n",
    "\n",
    "job2_representation = {\n",
    "    \"node_count\": 1, \"events\": [0, 1], \"read_volumes\": [849622, 19210],\n",
    "    \"read_bw\": [424811.0, 19210.0], \"write_volumes\": [0, 9053429170], \"write_bw\": [0, 754452430.8333334],\n",
    "    \"read_pattern\": [\"Uncl\", \"Uncl\"], \"write_pattern\": [\"Uncl\", \"Str\"], \"read_operations\": [13, 11], \"write_operations\": [0, 1022]\n",
    "}\n",
    "\n",
    "job2_phase_features = [\n",
    "    {\"job_id\": \"371904\", \"nodes\": 1, \"read_volume\": 849622, \"write_volume\": 0, \"read_io_pattern\": \"uncl\",\n",
    "     \"write_io_pattern\": \"uncl\", \"read_io_size\": 65355.53846153846, \"write_io_size\": 0, \"ioi_bw\": 84962.2},\n",
    "    {\"job_id\": \"371904\", \"nodes\": 1, \"read_volume\": 19210, \"write_volume\": 9053429170, \"read_io_pattern\": \"uncl\",\n",
    "     \"write_io_pattern\": \"str\", \"read_io_size\": 1746.3636363636363, \"write_io_size\": 8858541.26223092, \"ioi_bw\": 150894328.1666667}\n",
    "]\n",
    "from pulp import LpMinimize, LpProblem, LpVariable, lpSum\n",
    "\n",
    "# Define the pulp problem\n",
    "prob = LpProblem(\"Job_Scheduling\", LpMinimize)\n",
    "\n",
    "# Define the jobs and phases\n",
    "jobs = {'job1': job1_representation, 'job2': job2_representation}\n",
    "phases = {'job1': job1_phase_features, 'job2': job2_phase_features}\n",
    "\n",
    "# Define the decision variables\n",
    "# Start time of each phase for each job\n",
    "x = {(job, i): LpVariable(f\"x_{job}_{i}\", 0) for job, phase_list in phases.items() for i in range(len(phase_list))}\n",
    "# End time of each phase for each job\n",
    "y = {(job, i): LpVariable(f\"y_{job}_{i}\", 0) for job, phase_list in phases.items() for i in range(len(phase_list))}\n",
    "\n",
    "# Objective function: Minimize the maximum end time among all jobs and phases\n",
    "prob += lpSum(y.values()), \"Minimize_Max_EndTime\"\n",
    "\n",
    "# Constraints for each job\n",
    "for job, phase_list in phases.items():\n",
    "    for i in range(len(phase_list)):\n",
    "        # Each phase should start after the end of the previous phase\n",
    "        if i > 0:\n",
    "            prob += x[job, i] >= y[job, i - 1], f\"StartAfterPrev_{job}_{i}\"\n",
    "        \n",
    "        # End time is the start time plus the calculated duration (Let's use 'ioi_bw' for demonstration)\n",
    "        # For a more accurate model, you should use a regression model to estimate the duration\n",
    "        prob += y[job, i] == x[job, i] + phase_list[i]['ioi_bw'], f\"EndTime_{job}_{i}\"\n",
    "\n",
    "# Solve the problem\n",
    "prob.solve()\n",
    "\n",
    "# Print the results\n",
    "for job, phase_list in phases.items():\n",
    "    print(f\"Scheduling for {job}:\")\n",
    "    for i in range(len(phase_list)):\n",
    "        print(f\"  Phase {i}: Start at {x[job, i].varValue}, End at {y[job, i].varValue}\")\n"
   ]
  },
  {
   "cell_type": "code",
   "execution_count": 7,
   "metadata": {},
   "outputs": [
    {
     "data": {
      "image/png": "[encoded data removed]",
      "text/plain": [
       "<Figure size 864x576 with 1 Axes>"
      ]
     },
     "metadata": {
      "needs_background": "light"
     },
     "output_type": "display_data"
    }
   ],
   "source": [
    "# Initialize Gantt chart for job scheduling visualization\n",
    "fig, ax = plt.subplots(figsize=(12, 8))\n",
    "\n",
    "# Initialize the vertical position and height for the bars in the Gantt chart\n",
    "y_pos = 0\n",
    "height = 5\n",
    "\n",
    "# Loop through each job and phase to plot the Gantt chart\n",
    "for job, phase_list in phases.items():\n",
    "    for i in range(len(phase_list)):\n",
    "        # Get the start and end time from the pulp variables\n",
    "        start_time = x[job, i].varValue\n",
    "        end_time = y[job, i].varValue\n",
    "\n",
    "        # Create a bar for the phase with the corresponding start and end time\n",
    "        ax.broken_barh([(start_time, end_time - start_time)], (y_pos, height), facecolors='blue')\n",
    "\n",
    "        # Annotate the bar with the phase information\n",
    "        ax.text(start_time + (end_time - start_time) / 2, y_pos + height / 2, f\"{job}_phase{i}\", \n",
    "                horizontalalignment='center', verticalalignment='center', fontsize=10, color='white')\n",
    "\n",
    "        # Increment the vertical position for the next bar\n",
    "        y_pos += height + 2\n",
    "\n",
    "# Set labels and title\n",
    "ax.set_xlabel('Time')\n",
    "ax.set_ylabel('Job and Phase')\n",
    "ax.set_title('Gantt Chart for Job Scheduling')\n",
    "\n",
    "plt.show()\n"
   ]
  },
  {
   "cell_type": "code",
   "execution_count": null,
   "metadata": {},
   "outputs": [],
   "source": [
    "from pulp import LpMinimize, LpProblem, LpVariable, lpSum, LpBinary\n",
    "\n",
    "# Fonctions modèles pour estimer la bande passante maximale des tiers\n",
    "def tier0_model(phase):\n",
    "    return 100e6  # Exemple simple, à remplacer par un modèle plus complexe si nécessaire\n",
    "\n",
    "def tier1_model(phase):\n",
    "    return 200e6  # Exemple simple, à remplacer par un modèle plus complexe si nécessaire\n",
    "\n",
    "# Données en entrée (représentation et phase_features)\n",
    "# ... (Utiliser les données fournies précédemment)\n",
    "\n",
    "# Initialisation du problème\n",
    "prob = LpProblem(\"Job_Scheduling\", LpMinimize)\n",
    "\n",
    "# Variables de décision\n",
    "x = {}  # Temps de début des phases\n",
    "y = {}  # Temps de fin des phases\n",
    "z = {}  # Choix du tier pour chaque phase\n",
    "w = {}  # Bande passante attribuée à chaque phase\n",
    "u = {}  # Utilisation du tier à un moment donné\n",
    "n = {}  # Nombre de phases utilisant le même tier à un moment donné\n",
    "\n",
    "# Boucle sur les jobs et les phases pour initialiser les variables\n",
    "for job, phase_list in phases.items():\n",
    "    for i, phase in enumerate(phase_list):\n",
    "        x[job, i] = LpVariable(f\"x_{job}_{i}\", 0)\n",
    "        y[job, i] = LpVariable(f\"y_{job}_{i}\", 0)\n",
    "        for k in [0, 1]:  # Supposons qu'il y a deux tiers, 0 et 1\n",
    "            z[job, i, k] = LpVariable(f\"z_{job}_{i}_{k}\", 0, 1, LpBinary)\n",
    "            w[job, i, k] = LpVariable(f\"w_{job}_{i}_{k}\", 0)\n",
    "            u[job, i, k] = LpVariable(f\"u_{job}_{i}_{k}\", 0, 1, LpBinary)\n",
    "\n",
    "# Fonction objectif\n",
    "prob += lpSum(y.values()), \"Minimize_Max_EndTime\"\n",
    "\n",
    "# Ajout des contraintes\n",
    "for job, phase_list in phases.items():\n",
    "    for i, phase in enumerate(phase_list):\n",
    "        # Contrainte: Chaque phase devrait commencer après la fin de la phase précédente\n",
    "        if i > 0:\n",
    "            prob += x[job, i] >= y[job, i - 1], f\"StartAfterPrev_{job}_{i}\"\n",
    "\n",
    "        # Contrainte: Fin de la phase en fonction de la bande passante et du volume total\n",
    "        total_volume = phase['read_volume'] + phase['write_volume']\n",
    "        for k in [0, 1]:\n",
    "            max_bandwidth = tier0_model(phase) if k == 0 else tier1_model(phase)\n",
    "            prob += y[job, i] == x[job, i] + (total_volume / w[job, i, k]), f\"EndTime_{job}_{i}_{k}\"\n",
    "\n",
    "        # Contrainte: Choix du tier\n",
    "        prob += lpSum([z[job, i, k] for k in [0, 1]]) == 1, f\"SingleTier_{job}_{i}\"\n",
    "\n",
    "        # Contrainte: Bande passante partagée si plusieurs phases utilisent le même tier\n",
    "        for k in [0, 1]:\n",
    "            max_bandwidth = tier0_model(phase) if k == 0 else tier1_model(phase)\n",
    "            n[k] = lpSum([u[j, i, k] for j, phase_list in phases.items() for i in range(len(phase_list))])\n",
    "            prob += w[job, i, k] == max_bandwidth / (n[k] + 1e-5), f\"SharedBandwidth_{job}_{i}_{k}\"\n",
    "\n",
    "# Résolution du problème\n",
    "prob.solve()\n",
    "\n",
    "# Extraction et affichage des résultats\n",
    "for job, phase_list in phases.items():\n",
    "    print(f\"Scheduling for {job}:\")\n",
    "    for i in range(len(phase_list)):\n",
    "        print(f\"  Phase {i}: Start at {x[job, i].varValue}, End at {y[job, i].varValue}\")\n"
   ]
  },
  {
   "cell_type": "code",
   "execution_count": 8,
   "metadata": {},
   "outputs": [
    {
     "data": {
      "image/png": "[encoded data removed]",
      "text/plain": [
       "<Figure size 432x288 with 1 Axes>"
      ]
     },
     "metadata": {
      "needs_background": "light"
     },
     "output_type": "display_data"
    }
   ],
   "source": [
    "# It appears there is an issue with plotting the graph. Let's try again.\n",
    "fig, ax = plt.subplots()\n",
    "\n",
    "# Initialize the vertical position for the Gantt bars\n",
    "y_position = 0\n",
    "\n",
    "# Loop through each job and its phases to populate the Gantt chart\n",
    "for job_key, phase_list in phases.items():\n",
    "    for i in range(len(phase_list)):\n",
    "        # Extract the start and end times for each phase from the optimization results\n",
    "        start_time = x[job_key, i].varValue\n",
    "        end_time = y[job_key, i].varValue\n",
    "\n",
    "        # Draw a bar for each phase with the start and end times\n",
    "        ax.broken_barh([(start_time, end_time - start_time)], (y_position, 9), facecolors=('tab:blue'))\n",
    "\n",
    "        # Add text annotation for bandwidth (here, we are directly using the ioi_bw from the phase features for demonstration)\n",
    "        bandwidth = phase_list[i]['ioi_bw']\n",
    "        plt.annotate(f'BW: {bandwidth}', (start_time + (end_time - start_time) / 2, y_position + 4), \n",
    "                     color='white', ha='center')\n",
    "\n",
    "        # Increment the y_position for the next bar\n",
    "        y_position += 10\n",
    "\n",
    "# Add some labels and title for better readability\n",
    "ax.set_xlabel('Time')\n",
    "ax.set_title('Gantt Chart for Job Scheduling')\n",
    "plt.show()\n"
   ]
  },
  {
   "cell_type": "code",
   "execution_count": 5,
   "metadata": {},
   "outputs": [
    {
     "data": {
      "image/png": "[encoded data removed]",
      "text/plain": [
       "<Figure size 432x288 with 1 Axes>"
      ]
     },
     "metadata": {
      "needs_background": "light"
     },
     "output_type": "display_data"
    }
   ],
   "source": [
    "import matplotlib.pyplot as plt\n",
    "import numpy as np\n",
    "\n",
    "# Data from Pulp output\n",
    "job1_phases = {\n",
    "    'Phase1': {'start': 0, 'end': x1_1.varValue},\n",
    "    'Phase2': {'start': x1_1.varValue, 'end': y1_1.varValue},\n",
    "    'Phase3': {'start': y1_1.varValue, 'end': y1_2.varValue}\n",
    "}\n",
    "\n",
    "job2_phases = {\n",
    "    'Phase1': {'start': 0, 'end': x2_1.varValue},\n",
    "    'Phase2': {'start': x2_1.varValue, 'end': y2_1.varValue},\n",
    "}\n",
    "\n",
    "# Prepare plot\n",
    "fig, ax = plt.subplots()\n",
    "y_labels = []\n",
    "y_ticks = []\n",
    "\n",
    "# Plot for job 1\n",
    "y = 0\n",
    "for phase, timing in job1_phases.items():\n",
    "    ax.broken_barh([(timing['start'], timing['end'] - timing['start'])], (y-0.4, 0.8), facecolors='blue', edgecolor='black')\n",
    "    y_labels.append(f\"Job1-{phase}\")\n",
    "    y_ticks.append(y)\n",
    "    y -= 1\n",
    "\n",
    "# Plot for job 2\n",
    "for phase, timing in job2_phases.items():\n",
    "    ax.broken_barh([(timing['start'], timing['end'] - timing['start'])], (y-0.4, 0.8), facecolors='red', edgecolor='black')\n",
    "    y_labels.append(f\"Job2-{phase}\")\n",
    "    y_ticks.append(y)\n",
    "    y -= 1\n",
    "\n",
    "# Formatting plot\n",
    "ax.set_yticks(y_ticks)\n",
    "ax.set_yticklabels(reversed(y_labels))\n",
    "ax.set_xlabel(\"Time Units\")\n",
    "plt.title(\"Gantt Chart for Job Scheduling\")\n",
    "plt.grid(True)\n",
    "plt.show()\n"
   ]
  }
 ],
 "metadata": {
  "kernelspec": {
   "display_name": "iosea-venv",
   "language": "python",
   "name": "python3"
  },
  "language_info": {
   "codemirror_mode": {
    "name": "ipython",
    "version": 3
   },
   "file_extension": ".py",
   "mimetype": "text/x-python",
   "name": "python",
   "nbconvert_exporter": "python",
   "pygments_lexer": "ipython3",
   "version": "3.8.7"
  }
 },
 "nbformat": 4,
 "nbformat_minor": 2
}
