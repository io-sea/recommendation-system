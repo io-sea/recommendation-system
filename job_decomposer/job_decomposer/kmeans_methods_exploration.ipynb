{
 "cells": [
  {
   "cell_type": "markdown",
   "metadata": {},
   "source": [
    "Comparing kmeans with 2 different heuristics"
   ]
  },
  {
   "cell_type": "code",
   "execution_count": 2,
   "metadata": {},
   "outputs": [
    {
     "name": "stdout",
     "output_type": "stream",
     "text": [
      "retrieving C:\\Users\\a770398\\IO-SEA\\io-sea-3.4-analytics\\dataset_generation\\dataset_generation\\dataset_gysela\\job_109567.csv\n",
      "(3242, 5)\n"
     ]
    },
    {
     "data": {
      "text/plain": [
       "<AxesSubplot:>"
      ]
     },
     "execution_count": 2,
     "metadata": {},
     "output_type": "execute_result"
    }
   ],
   "source": [
    "from utils import *\n",
    "import pwlf\n",
    "import ruptures as rpt\n",
    "\n",
    "df = get_df_by_job_id(job_id=109567)\n",
    "#df = get_df_by_job_id(job_id=93537)\n",
    "print(df.shape)\n",
    "df.plot(y=[\"bytesWritten\", \"bytesRead\"], figsize=(16,4), sharex=True, grid=True, use_index=True)\n",
    "\n",
    "# df.plot(y=[\"bytesWritten\", \"bytesRead\"], figsize=(16,4), sharex=True, grid=True, use_index=True, logy=True)\n"
   ]
  },
  {
   "cell_type": "markdown",
   "metadata": {},
   "source": [
    "breakpoints plotting\n"
   ]
  },
  {
   "cell_type": "code",
   "execution_count": 1,
   "metadata": {},
   "outputs": [
    {
     "ename": "NameError",
     "evalue": "name 'df' is not defined",
     "output_type": "error",
     "traceback": [
      "\u001b[1;31m---------------------------------------------------------------------------\u001b[0m",
      "\u001b[1;31mNameError\u001b[0m                                 Traceback (most recent call last)",
      "\u001b[1;32mc:\\Users\\a770398\\IO-SEA\\io-sea-3.4-analytics\\job_decomposer\\job_decomposer\\kmeans_methods_exploration.ipynb Cell 4\u001b[0m in \u001b[0;36m<cell line: 3>\u001b[1;34m()\u001b[0m\n\u001b[0;32m      <a href='vscode-notebook-cell:/c%3A/Users/a770398/IO-SEA/io-sea-3.4-analytics/job_decomposer/job_decomposer/kmeans_methods_exploration.ipynb#ch0000003?line=0'>1</a>\u001b[0m get_ipython()\u001b[39m.\u001b[39mrun_line_magic(\u001b[39m'\u001b[39m\u001b[39mmatplotlib\u001b[39m\u001b[39m'\u001b[39m, \u001b[39m'\u001b[39m\u001b[39mtk\u001b[39m\u001b[39m'\u001b[39m)\n\u001b[1;32m----> <a href='vscode-notebook-cell:/c%3A/Users/a770398/IO-SEA/io-sea-3.4-analytics/job_decomposer/job_decomposer/kmeans_methods_exploration.ipynb#ch0000003?line=2'>3</a>\u001b[0m signal \u001b[39m=\u001b[39m (df[[\u001b[39m\"\u001b[39m\u001b[39mbytesWritten\u001b[39m\u001b[39m\"\u001b[39m]])\u001b[39m.\u001b[39mto_numpy()\n\u001b[0;32m      <a href='vscode-notebook-cell:/c%3A/Users/a770398/IO-SEA/io-sea-3.4-analytics/job_decomposer/job_decomposer/kmeans_methods_exploration.ipynb#ch0000003?line=3'>4</a>\u001b[0m breakpoints, labels \u001b[39m=\u001b[39m get_kmeans_breakpoints(signal, v0_threshold \u001b[39m=\u001b[39m \u001b[39m0.03\u001b[39m, merge\u001b[39m=\u001b[39m\u001b[39mTrue\u001b[39;00m)\n\u001b[0;32m      <a href='vscode-notebook-cell:/c%3A/Users/a770398/IO-SEA/io-sea-3.4-analytics/job_decomposer/job_decomposer/kmeans_methods_exploration.ipynb#ch0000003?line=4'>5</a>\u001b[0m breakpoints2, labels2 \u001b[39m=\u001b[39m get_kmeans_original_breakpoints(signal)\n",
      "\u001b[1;31mNameError\u001b[0m: name 'df' is not defined"
     ]
    }
   ],
   "source": [
    "%matplotlib tk\n",
    "\n",
    "signal = (df[[\"bytesWritten\"]]).to_numpy()\n",
    "print(signal.shape)\n",
    "breakpoints, labels = get_kmeans_breakpoints(signal, v0_threshold = 0.03, merge=True)\n",
    "breakpoints2, labels2 = get_kmeans_original_breakpoints(signal)\n",
    "#rpt.display(signal, breakpoints2, breakpoints)\n",
    "#show_breakpoints(signal, breakpoints)\n",
    "show_breakpoints(signal, breakpoints, breakpoints2=breakpoints2, labels=labels, labels2=labels2)\n",
    "# p_signal = reconstruct_pwlf(signal, breakpoints)\n",
    "# show_reconstruction(signal, p_signal)"
   ]
  },
  {
   "cell_type": "markdown",
   "metadata": {},
   "source": [
    "Random jobs"
   ]
  },
  {
   "cell_type": "code",
   "execution_count": 6,
   "metadata": {},
   "outputs": [
    {
     "name": "stdout",
     "output_type": "stream",
     "text": [
      "181\n",
      "3242\n"
     ]
    }
   ],
   "source": [
    "print(len(breakpoints2))\n",
    "print(len(signal))"
   ]
  },
  {
   "cell_type": "code",
   "execution_count": 17,
   "metadata": {},
   "outputs": [
    {
     "name": "stdout",
     "output_type": "stream",
     "text": [
      "C:\\Users\\a770398\\IO-SEA\\io-sea-3.4-analytics\\dataset_generation\\dataset_generation\\dataset_namd\\job_4952.csv\n",
      "n_clusters = 6\n",
      "v0_weight = 0.012019046534831082\n",
      "labels = [0 0 0 0 0 0 0 0 0 0 0 2 2 0 0 2 4 0 3 3 1 0 0 1 1 3 3 1]\n",
      "n_clusters = 3\n",
      "labels = [0 0 0 0 0 0 0 0 0 0 0 2 2 0 0 2 2 0 0 0 1 0 0 1 1 0 0 1]\n"
     ]
    }
   ],
   "source": [
    "# reconstruction\n",
    "\n",
    "from utils import get_kmeans_breakpoints, get_kmeans_original_breakpoints, choose_random_job\n",
    "#breakpoints = get_kmeans_breakpoints(signal, v0_threshold=0.05)\n",
    "csv_file = choose_random_job()\n",
    "print(csv_file)\n",
    "df = pd.read_csv(csv_file, index_col=0)\n",
    "signal = (df[[\"bytesWritten\"]]).to_numpy()\n",
    "\n",
    "breakpoints, labels = get_kmeans_breakpoints(signal, v0_threshold = 0.02, merge=False)\n",
    "breakpoints2, labels2 = get_kmeans_original_breakpoints(signal)\n",
    "#rpt.display(signal, breakpoints2, breakpoints)\n",
    "#show_breakpoints(signal, breakpoints)\n",
    "show_breakpoints(signal, breakpoints, breakpoints2=breakpoints2, labels=labels, labels2=labels2)"
   ]
  },
  {
   "cell_type": "code",
   "execution_count": 16,
   "metadata": {},
   "outputs": [
    {
     "name": "stdout",
     "output_type": "stream",
     "text": [
      "n_clusters = 14\n",
      "v0_weight = 0.04266441221119654\n",
      "[ 2  5  1  3  2  2  6  3  3 10  7  8  7 11  9  6  9  4  8  8 12  0  3  9\n",
      "  0  7  1  5  6]\n",
      "<class 'numpy.ndarray'>\n",
      "[1 1 1 1 1 1 1 1 1 1 1 1 1 1 1 1 1 1 1 1 1 0 1 1 0 1 1 1 1]\n",
      "<class 'numpy.ndarray'>\n"
     ]
    }
   ],
   "source": [
    "v0_threshold = 0.05\n",
    "v0_weight = 1\n",
    "n_clusters = 2\n",
    "while v0_weight > v0_threshold:\n",
    "    kmeans = KMeans(n_clusters=n_clusters, random_state=0).fit(signal)\n",
    "    v0_indexes = np.where(kmeans.labels_==0, True, False)\n",
    "    v0_weight = signal[v0_indexes].sum() / signal.sum()\n",
    "    n_clusters += 1\n",
    "    if n_clusters >= len(signal):\n",
    "        # if n_clusters equals signal points, exit the loop\n",
    "        break\n",
    "    \n",
    "ab = np.arange(len(signal))\n",
    "print(f\"{n_clusters = }\")\n",
    "print(f\"{v0_weight = }\")\n",
    "# changes=x[np.insert(np.where(np.diff(kmeans.labels_)!=0, True, False), 0, False)]\n",
    "# merge v1+ clusters together\n",
    "print(kmeans.labels_)\n",
    "print(type(kmeans.labels_))\n",
    "labels = np.where(kmeans.labels_ > 0, 1, 0)\n",
    "print(labels)\n",
    "print(type(labels))"
   ]
  },
  {
   "cell_type": "markdown",
   "metadata": {},
   "source": [
    "Specific job"
   ]
  },
  {
   "cell_type": "code",
   "execution_count": 14,
   "metadata": {},
   "outputs": [
    {
     "name": "stdout",
     "output_type": "stream",
     "text": [
      "retrieving C:\\Users\\a770398\\IO-SEA\\io-sea-3.4-analytics\\dataset_generation\\dataset_generation\\dataset_gysela\\job_108010.csv\n",
      "n_clusters = 62\n",
      "v0_weight = 1.0711617999265065e-07\n",
      "labels = [ 0  0  0 ... 26 26  0]\n",
      "n_clusters = 2\n",
      "labels = [0 0 0 ... 0 0 0]\n"
     ]
    }
   ],
   "source": [
    "from utils import get_df_by_job_id\n",
    "df = get_df_by_job_id(job_id=108010)\n",
    "signal = (df[[\"bytesWritten\"]]).to_numpy()\n",
    "\n",
    "breakpoints, labels = get_kmeans_breakpoints(signal, v0_threshold = 0.02, merge=False)\n",
    "breakpoints2, labels2 = get_kmeans_original_breakpoints(signal)\n",
    "#rpt.display(signal, breakpoints2, breakpoints)\n",
    "#show_breakpoints(signal, breakpoints)\n",
    "show_breakpoints(signal, breakpoints, breakpoints2=breakpoints2, labels=labels, labels2=labels2)"
   ]
  },
  {
   "cell_type": "code",
   "execution_count": 10,
   "metadata": {},
   "outputs": [
    {
     "name": "stdout",
     "output_type": "stream",
     "text": [
      "retrieving C:\\Users\\a770398\\IO-SEA\\io-sea-3.4-analytics\\dataset_generation\\dataset_generation\\dataset_namd\\job_4913.csv\n",
      "n_clusters = 10\n",
      "v0_weight = 0.027902384277103592\n",
      "[12, 13]\n",
      "[11, 12, 14, 15, 18, 19, 21, 22, 23]\n"
     ]
    },
    {
     "data": {
      "text/plain": [
       "(<Figure size 1000x200 with 1 Axes>, [<AxesSubplot:>])"
      ]
     },
     "execution_count": 10,
     "metadata": {},
     "output_type": "execute_result"
    }
   ],
   "source": [
    "from utils import get_df_by_job_id\n",
    "df = get_df_by_job_id(job_id=4913) #53494\n",
    "signal = (df[[\"bytesWritten\"]]).to_numpy()\n",
    "\n",
    "breakpoints = get_kmeans_breakpoints(signal, v0_threshold = 0.05)\n",
    "print(breakpoints)\n",
    "breakpoints2 = get_kmeans_original_breakpoints(signal)\n",
    "print(breakpoints2)\n",
    "#show_breakpoints(signal, breakpoints, breakpoints2=breakpoints2)\n",
    "rpt.display(signal, breakpoints2, breakpoints)"
   ]
  },
  {
   "cell_type": "markdown",
   "metadata": {},
   "source": [
    "Let now fit the signal with rect curve"
   ]
  },
  {
   "cell_type": "code",
   "execution_count": 19,
   "metadata": {},
   "outputs": [
    {
     "name": "stdout",
     "output_type": "stream",
     "text": [
      "(28,)\n",
      "(28,)\n",
      "(11,)\n"
     ]
    }
   ],
   "source": [
    "import numpy as np\n",
    "import pwlf\n",
    "\n",
    "x = df[[\"timestamp\"]].to_numpy().flatten()\n",
    "x0 = np.take(x, breakpoints, axis=0)\n",
    "#x0 = np.array([min(x), ])\n",
    "signal = (df[[\"bytesWritten\"]]).to_numpy().flatten()\n",
    "print(x.shape)\n",
    "print(signal.shape)\n",
    "print(x0.shape)\n",
    "my_pwlf = pwlf.PiecewiseLinFit(x, signal, degree=0)\n",
    "my_pwlf.fit_with_breaks(x0)\n",
    "p_signal = my_pwlf.predict(x)\n",
    "\n",
    "plt.rcParams[\"figure.figsize\"] = (12, 5)\n",
    "plt.plot(x, p_signal, x, signal)\n",
    "plt.grid(True)\n"
   ]
  },
  {
   "cell_type": "markdown",
   "metadata": {},
   "source": [
    "Switching to signal processing (curve fitting)"
   ]
  }
 ],
 "metadata": {
  "kernelspec": {
   "display_name": "Python 3.8.13 ('iosea-venv')",
   "language": "python",
   "name": "python3"
  },
  "language_info": {
   "codemirror_mode": {
    "name": "ipython",
    "version": 3
   },
   "file_extension": ".py",
   "mimetype": "text/x-python",
   "name": "python",
   "nbconvert_exporter": "python",
   "pygments_lexer": "ipython3",
   "version": "3.8.13"
  },
  "orig_nbformat": 4,
  "vscode": {
   "interpreter": {
    "hash": "c87beb4c7de1fcbf6155f8da331fc04a584374d4c389d75c2ece6a4f03553c96"
   }
  }
 },
 "nbformat": 4,
 "nbformat_minor": 2
}
