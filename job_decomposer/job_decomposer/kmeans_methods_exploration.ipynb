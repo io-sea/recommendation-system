{
 "cells": [
  {
   "cell_type": "markdown",
   "metadata": {},
   "source": [
    "Comparing kmeans with 2 different heuristics"
   ]
  },
  {
   "cell_type": "code",
   "execution_count": 98,
   "metadata": {},
   "outputs": [
    {
     "name": "stdout",
     "output_type": "stream",
     "text": [
      "retrieving C:\\Users\\a770398\\IO-SEA\\io-sea-3.4-analytics\\dataset_generation\\dataset_generation\\dataset_gysela\\job_109567.csv\n"
     ]
    }
   ],
   "source": [
    "from utils import *\n",
    "import pwlf\n",
    "import ruptures as rpt\n",
    "\n",
    "\n",
    "dfs = []\n",
    "dfs.append(get_df_by_job_id(job_id=109567))\n",
    "# dfs.append(get_df_by_job_id(job_id=6264))\n",
    "# dfs.append(get_df_by_job_id(job_id=6308))\n",
    "#dfs.append(get_df_by_job_id(job_id=6376))\n",
    "# dfs.append(get_df_by_job_id(job_id=6382))\n",
    "# dfs.append(get_df_by_job_id(job_id=6970))\n",
    "# dfs.append(get_df_by_job_id(job_id=53494))\n",
    "# dfs.append(get_df_by_job_id(job_id=52377))\n",
    "# dfs.append(get_df_by_job_id(job_id=88255))\n",
    "# dfs.append(get_df_by_job_id(job_id=91987))\n",
    "# dfs.append(get_df_by_job_id(job_id=91956))\n",
    "# dfs.append(get_df_by_job_id(job_id=91865))\n",
    "\n",
    "for df in dfs:\n",
    "    df.plot(y=[\"bytesWritten\", \"bytesRead\"], figsize=(16,4), sharex=True, grid=True, use_index=True)\n",
    "    #df.plot(y=[\"bytesWritten\", \"bytesRead\"], figsize=(16,4), sharex=True, grid=True, use_index=True, logy=True)\n",
    "    \n",
    "\n",
    "# df.plot(y=[\"bytesWritten\", \"bytesRead\"], figsize=(16,4), sharex=True, grid=True, use_index=True, logy=True)\n"
   ]
  },
  {
   "cell_type": "code",
   "execution_count": 40,
   "metadata": {},
   "outputs": [
    {
     "name": "stdout",
     "output_type": "stream",
     "text": [
      "retrieving C:\\Users\\a770398\\IO-SEA\\io-sea-3.4-analytics\\dataset_generation\\dataset_generation\\dataset_genji_IOI_BD260919\\job_457344.csv\n"
     ]
    },
    {
     "data": {
      "image/png": "[encoded data removed]",
      "text/plain": [
       "<Figure size 1152x288 with 1 Axes>"
      ]
     },
     "metadata": {
      "needs_background": "light"
     },
     "output_type": "display_data"
    }
   ],
   "source": [
    "_, jobids, _ = list_jobs()\n",
    "for job_id in jobids[0:1]:\n",
    "    df = get_df_by_job_id(job_id=job_id)\n",
    "    df.plot(y=[\"bytesWritten\", \"bytesRead\"], figsize=(16,4), sharex=True, grid=True, use_index=True)\n",
    "    \n",
    "\n",
    "    "
   ]
  },
  {
   "cell_type": "markdown",
   "metadata": {},
   "source": [
    "breakpoints plotting\n"
   ]
  },
  {
   "cell_type": "code",
   "execution_count": 41,
   "metadata": {},
   "outputs": [
    {
     "name": "stdout",
     "output_type": "stream",
     "text": [
      "(2758, 1)\n",
      "n_clusters = 7\n",
      "v0_weight = 0.02152918135177265\n",
      "labels = [0 0 0 ... 0 1 0]\n",
      "n_clusters = 2\n",
      "labels = [0 0 0 ... 0 0 0]\n"
     ]
    }
   ],
   "source": [
    "%matplotlib tk\n",
    "\n",
    "signal = (df[[\"bytesWritten\"]]).to_numpy()\n",
    "print(signal.shape)\n",
    "breakpoints, labels = get_kmeans_breakpoints(signal, v0_threshold = 0.03, merge=True)\n",
    "breakpoints2, labels2 = get_kmeans_original_breakpoints(signal)\n",
    "#rpt.display(signal, breakpoints2, breakpoints)\n",
    "#show_breakpoints(signal, breakpoints)\n",
    "show_breakpoints(signal, breakpoints, breakpoints2=breakpoints2, labels=labels, labels2=labels2)\n",
    "# p_signal = reconstruct_pwlf(signal, breakpoints)\n",
    "# show_reconstruction(signal, p_signal)"
   ]
  },
  {
   "cell_type": "markdown",
   "metadata": {},
   "source": [
    "Random jobs"
   ]
  },
  {
   "cell_type": "code",
   "execution_count": 6,
   "metadata": {},
   "outputs": [
    {
     "name": "stdout",
     "output_type": "stream",
     "text": [
      "181\n",
      "3242\n"
     ]
    }
   ],
   "source": [
    "print(len(breakpoints2))\n",
    "print(len(signal))"
   ]
  },
  {
   "cell_type": "code",
   "execution_count": 42,
   "metadata": {},
   "outputs": [
    {
     "name": "stdout",
     "output_type": "stream",
     "text": [
      "C:\\Users\\a770398\\IO-SEA\\io-sea-3.4-analytics\\dataset_generation\\dataset_generation\\dataset_namd\\job_4913.csv\n"
     ]
    },
    {
     "name": "stderr",
     "output_type": "stream",
     "text": [
      "c:\\Users\\a770398\\IO-SEA\\io-sea-3.4-analytics\\job_decomposer\\job_decomposer\\utils.py:178: ConvergenceWarning: Number of distinct clusters (13) found smaller than n_clusters (14). Possibly due to duplicate points in X.\n",
      "  kmeans = KMeans(n_clusters=n_clusters, random_state=0).fit(signal)\n",
      "c:\\Users\\a770398\\IO-SEA\\io-sea-3.4-analytics\\job_decomposer\\job_decomposer\\utils.py:178: ConvergenceWarning: Number of distinct clusters (13) found smaller than n_clusters (15). Possibly due to duplicate points in X.\n",
      "  kmeans = KMeans(n_clusters=n_clusters, random_state=0).fit(signal)\n",
      "c:\\Users\\a770398\\IO-SEA\\io-sea-3.4-analytics\\job_decomposer\\job_decomposer\\utils.py:178: ConvergenceWarning: Number of distinct clusters (13) found smaller than n_clusters (16). Possibly due to duplicate points in X.\n",
      "  kmeans = KMeans(n_clusters=n_clusters, random_state=0).fit(signal)\n",
      "c:\\Users\\a770398\\IO-SEA\\io-sea-3.4-analytics\\job_decomposer\\job_decomposer\\utils.py:178: ConvergenceWarning: Number of distinct clusters (13) found smaller than n_clusters (17). Possibly due to duplicate points in X.\n",
      "  kmeans = KMeans(n_clusters=n_clusters, random_state=0).fit(signal)\n",
      "c:\\Users\\a770398\\IO-SEA\\io-sea-3.4-analytics\\job_decomposer\\job_decomposer\\utils.py:178: ConvergenceWarning: Number of distinct clusters (13) found smaller than n_clusters (18). Possibly due to duplicate points in X.\n",
      "  kmeans = KMeans(n_clusters=n_clusters, random_state=0).fit(signal)\n",
      "c:\\Users\\a770398\\IO-SEA\\io-sea-3.4-analytics\\job_decomposer\\job_decomposer\\utils.py:178: ConvergenceWarning: Number of distinct clusters (13) found smaller than n_clusters (19). Possibly due to duplicate points in X.\n",
      "  kmeans = KMeans(n_clusters=n_clusters, random_state=0).fit(signal)\n",
      "c:\\Users\\a770398\\IO-SEA\\io-sea-3.4-analytics\\job_decomposer\\job_decomposer\\utils.py:178: ConvergenceWarning: Number of distinct clusters (13) found smaller than n_clusters (20). Possibly due to duplicate points in X.\n",
      "  kmeans = KMeans(n_clusters=n_clusters, random_state=0).fit(signal)\n",
      "c:\\Users\\a770398\\IO-SEA\\io-sea-3.4-analytics\\job_decomposer\\job_decomposer\\utils.py:178: ConvergenceWarning: Number of distinct clusters (13) found smaller than n_clusters (21). Possibly due to duplicate points in X.\n",
      "  kmeans = KMeans(n_clusters=n_clusters, random_state=0).fit(signal)\n",
      "c:\\Users\\a770398\\IO-SEA\\io-sea-3.4-analytics\\job_decomposer\\job_decomposer\\utils.py:178: ConvergenceWarning: Number of distinct clusters (13) found smaller than n_clusters (22). Possibly due to duplicate points in X.\n",
      "  kmeans = KMeans(n_clusters=n_clusters, random_state=0).fit(signal)\n",
      "c:\\Users\\a770398\\IO-SEA\\io-sea-3.4-analytics\\job_decomposer\\job_decomposer\\utils.py:178: ConvergenceWarning: Number of distinct clusters (13) found smaller than n_clusters (23). Possibly due to duplicate points in X.\n",
      "  kmeans = KMeans(n_clusters=n_clusters, random_state=0).fit(signal)\n"
     ]
    },
    {
     "name": "stdout",
     "output_type": "stream",
     "text": [
      "n_clusters = 24\n",
      "v0_weight = 0.027902384277103592\n",
      "labels = [ 2 17  2  2  2  2  2 14  2  2  2  9  0 11  6  8  2  7  5  2  2  4  3  1]\n"
     ]
    },
    {
     "name": "stderr",
     "output_type": "stream",
     "text": [
      "c:\\Users\\a770398\\IO-SEA\\io-sea-3.4-analytics\\job_decomposer\\job_decomposer\\utils.py:203: ConvergenceWarning: Number of distinct clusters (13) found smaller than n_clusters (14). Possibly due to duplicate points in X.\n",
      "  k_means.fit(signal)\n",
      "c:\\Users\\a770398\\IO-SEA\\io-sea-3.4-analytics\\job_decomposer\\job_decomposer\\utils.py:203: ConvergenceWarning: Number of distinct clusters (13) found smaller than n_clusters (15). Possibly due to duplicate points in X.\n",
      "  k_means.fit(signal)\n",
      "c:\\Users\\a770398\\IO-SEA\\io-sea-3.4-analytics\\job_decomposer\\job_decomposer\\utils.py:203: ConvergenceWarning: Number of distinct clusters (13) found smaller than n_clusters (16). Possibly due to duplicate points in X.\n",
      "  k_means.fit(signal)\n",
      "c:\\Users\\a770398\\IO-SEA\\io-sea-3.4-analytics\\job_decomposer\\job_decomposer\\utils.py:203: ConvergenceWarning: Number of distinct clusters (13) found smaller than n_clusters (17). Possibly due to duplicate points in X.\n",
      "  k_means.fit(signal)\n",
      "c:\\Users\\a770398\\IO-SEA\\io-sea-3.4-analytics\\job_decomposer\\job_decomposer\\utils.py:203: ConvergenceWarning: Number of distinct clusters (13) found smaller than n_clusters (18). Possibly due to duplicate points in X.\n",
      "  k_means.fit(signal)\n",
      "c:\\Users\\a770398\\IO-SEA\\io-sea-3.4-analytics\\job_decomposer\\job_decomposer\\utils.py:203: ConvergenceWarning: Number of distinct clusters (13) found smaller than n_clusters (19). Possibly due to duplicate points in X.\n",
      "  k_means.fit(signal)\n",
      "c:\\Users\\a770398\\IO-SEA\\io-sea-3.4-analytics\\job_decomposer\\job_decomposer\\utils.py:203: ConvergenceWarning: Number of distinct clusters (13) found smaller than n_clusters (20). Possibly due to duplicate points in X.\n",
      "  k_means.fit(signal)\n",
      "c:\\Users\\a770398\\IO-SEA\\io-sea-3.4-analytics\\job_decomposer\\job_decomposer\\utils.py:203: ConvergenceWarning: Number of distinct clusters (13) found smaller than n_clusters (21). Possibly due to duplicate points in X.\n",
      "  k_means.fit(signal)\n",
      "c:\\Users\\a770398\\IO-SEA\\io-sea-3.4-analytics\\job_decomposer\\job_decomposer\\utils.py:203: ConvergenceWarning: Number of distinct clusters (13) found smaller than n_clusters (22). Possibly due to duplicate points in X.\n",
      "  k_means.fit(signal)\n"
     ]
    },
    {
     "name": "stdout",
     "output_type": "stream",
     "text": [
      "n_clusters = 2\n",
      "labels = [1 1 1 1 1 1 1 1 1 1 1 0 1 1 0 1 1 1 0 1 1 0 1 0]\n"
     ]
    },
    {
     "name": "stderr",
     "output_type": "stream",
     "text": [
      "c:\\Users\\a770398\\IO-SEA\\io-sea-3.4-analytics\\job_decomposer\\job_decomposer\\utils.py:203: ConvergenceWarning: Number of distinct clusters (13) found smaller than n_clusters (23). Possibly due to duplicate points in X.\n",
      "  k_means.fit(signal)\n"
     ]
    }
   ],
   "source": [
    "# reconstruction\n",
    "\n",
    "from utils import get_kmeans_breakpoints, get_kmeans_original_breakpoints, choose_random_job\n",
    "#breakpoints = get_kmeans_breakpoints(signal, v0_threshold=0.05)\n",
    "csv_file = choose_random_job()\n",
    "print(csv_file)\n",
    "df = pd.read_csv(csv_file, index_col=0)\n",
    "signal = (df[[\"bytesWritten\"]]).to_numpy()\n",
    "\n",
    "breakpoints, labels = get_kmeans_breakpoints(signal, v0_threshold = 0.02, merge=False)\n",
    "breakpoints2, labels2 = get_kmeans_original_breakpoints(signal)\n",
    "#rpt.display(signal, breakpoints2, breakpoints)\n",
    "#show_breakpoints(signal, breakpoints)\n",
    "show_breakpoints(signal, breakpoints, breakpoints2=breakpoints2, labels=labels, labels2=labels2)"
   ]
  },
  {
   "cell_type": "code",
   "execution_count": 43,
   "metadata": {},
   "outputs": [
    {
     "name": "stdout",
     "output_type": "stream",
     "text": [
      "n_clusters = 10\n",
      "v0_weight = 0.027902384277103592\n",
      "[2 2 2 2 2 2 2 2 2 2 2 5 0 2 5 8 2 7 6 2 2 4 3 1]\n",
      "<class 'numpy.ndarray'>\n",
      "[1 1 1 1 1 1 1 1 1 1 1 1 0 1 1 1 1 1 1 1 1 1 1 1]\n",
      "<class 'numpy.ndarray'>\n"
     ]
    }
   ],
   "source": [
    "v0_threshold = 0.05\n",
    "v0_weight = 1\n",
    "n_clusters = 2\n",
    "while v0_weight > v0_threshold:\n",
    "    kmeans = KMeans(n_clusters=n_clusters, random_state=0).fit(signal)\n",
    "    v0_indexes = np.where(kmeans.labels_==0, True, False)\n",
    "    v0_weight = signal[v0_indexes].sum() / signal.sum()\n",
    "    n_clusters += 1\n",
    "    if n_clusters >= len(signal):\n",
    "        # if n_clusters equals signal points, exit the loop\n",
    "        break\n",
    "    \n",
    "ab = np.arange(len(signal))\n",
    "print(f\"{n_clusters = }\")\n",
    "print(f\"{v0_weight = }\")\n",
    "# changes=x[np.insert(np.where(np.diff(kmeans.labels_)!=0, True, False), 0, False)]\n",
    "# merge v1+ clusters together\n",
    "print(kmeans.labels_)\n",
    "print(type(kmeans.labels_))\n",
    "labels = np.where(kmeans.labels_ > 0, 1, 0)\n",
    "print(labels)\n",
    "print(type(labels))"
   ]
  },
  {
   "cell_type": "markdown",
   "metadata": {},
   "source": [
    "Specific job"
   ]
  },
  {
   "cell_type": "code",
   "execution_count": 44,
   "metadata": {},
   "outputs": [
    {
     "name": "stdout",
     "output_type": "stream",
     "text": [
      "retrieving C:\\Users\\a770398\\IO-SEA\\io-sea-3.4-analytics\\dataset_generation\\dataset_generation\\dataset_gysela\\job_108010.csv\n",
      "n_clusters = 10\n",
      "v0_weight = 0.019049536764993505\n",
      "labels = [0 0 0 ... 6 6 0]\n",
      "n_clusters = 27\n",
      "labels = [ 0  0  0 ... 26 26  0]\n"
     ]
    }
   ],
   "source": [
    "from utils import get_df_by_job_id\n",
    "df = get_df_by_job_id(job_id=108010)\n",
    "signal = (df[[\"bytesWritten\"]]).to_numpy()\n",
    "\n",
    "breakpoints, labels = get_kmeans_breakpoints(signal, v0_threshold = 0.02, merge=False)\n",
    "breakpoints2, labels2 = get_kmeans_original_breakpoints(signal)\n",
    "#rpt.display(signal, breakpoints2, breakpoints)\n",
    "#show_breakpoints(signal, breakpoints)\n",
    "show_breakpoints(signal, breakpoints, breakpoints2=breakpoints2, labels=labels, labels2=labels2)"
   ]
  },
  {
   "cell_type": "code",
   "execution_count": 96,
   "metadata": {},
   "outputs": [
    {
     "name": "stdout",
     "output_type": "stream",
     "text": [
      "retrieving C:\\Users\\a770398\\IO-SEA\\io-sea-3.4-analytics\\dataset_generation\\dataset_generation\\dataset_namd\\job_4913.csv\n",
      "n_clusters = 10\n",
      "v0_weight = 0.027902384277103592\n",
      "labels = [2 2 2 2 2 2 2 2 2 2 2 5 0 2 5 8 2 7 6 2 2 4 3 1]\n",
      "([11, 12, 13, 14, 15, 16, 17, 18, 19, 21, 22, 23], array([2, 2, 2, 2, 2, 2, 2, 2, 2, 2, 2, 5, 0, 2, 5, 8, 2, 7, 6, 2, 2, 4,\n",
      "       3, 1]))\n"
     ]
    },
    {
     "name": "stderr",
     "output_type": "stream",
     "text": [
      "c:\\Users\\a770398\\IO-SEA\\io-sea-3.4-analytics\\job_decomposer\\job_decomposer\\utils.py:203: ConvergenceWarning: Number of distinct clusters (13) found smaller than n_clusters (14). Possibly due to duplicate points in X.\n",
      "  k_means.fit(signal)\n",
      "c:\\Users\\a770398\\IO-SEA\\io-sea-3.4-analytics\\job_decomposer\\job_decomposer\\utils.py:203: ConvergenceWarning: Number of distinct clusters (13) found smaller than n_clusters (15). Possibly due to duplicate points in X.\n",
      "  k_means.fit(signal)\n",
      "c:\\Users\\a770398\\IO-SEA\\io-sea-3.4-analytics\\job_decomposer\\job_decomposer\\utils.py:203: ConvergenceWarning: Number of distinct clusters (13) found smaller than n_clusters (16). Possibly due to duplicate points in X.\n",
      "  k_means.fit(signal)\n",
      "c:\\Users\\a770398\\IO-SEA\\io-sea-3.4-analytics\\job_decomposer\\job_decomposer\\utils.py:203: ConvergenceWarning: Number of distinct clusters (13) found smaller than n_clusters (17). Possibly due to duplicate points in X.\n",
      "  k_means.fit(signal)\n",
      "c:\\Users\\a770398\\IO-SEA\\io-sea-3.4-analytics\\job_decomposer\\job_decomposer\\utils.py:203: ConvergenceWarning: Number of distinct clusters (13) found smaller than n_clusters (18). Possibly due to duplicate points in X.\n",
      "  k_means.fit(signal)\n",
      "c:\\Users\\a770398\\IO-SEA\\io-sea-3.4-analytics\\job_decomposer\\job_decomposer\\utils.py:203: ConvergenceWarning: Number of distinct clusters (13) found smaller than n_clusters (19). Possibly due to duplicate points in X.\n",
      "  k_means.fit(signal)\n",
      "c:\\Users\\a770398\\IO-SEA\\io-sea-3.4-analytics\\job_decomposer\\job_decomposer\\utils.py:203: ConvergenceWarning: Number of distinct clusters (13) found smaller than n_clusters (20). Possibly due to duplicate points in X.\n",
      "  k_means.fit(signal)\n",
      "c:\\Users\\a770398\\IO-SEA\\io-sea-3.4-analytics\\job_decomposer\\job_decomposer\\utils.py:203: ConvergenceWarning: Number of distinct clusters (13) found smaller than n_clusters (21). Possibly due to duplicate points in X.\n",
      "  k_means.fit(signal)\n",
      "c:\\Users\\a770398\\IO-SEA\\io-sea-3.4-analytics\\job_decomposer\\job_decomposer\\utils.py:203: ConvergenceWarning: Number of distinct clusters (13) found smaller than n_clusters (22). Possibly due to duplicate points in X.\n",
      "  k_means.fit(signal)\n",
      "c:\\Users\\a770398\\IO-SEA\\io-sea-3.4-analytics\\job_decomposer\\job_decomposer\\utils.py:203: ConvergenceWarning: Number of distinct clusters (13) found smaller than n_clusters (23). Possibly due to duplicate points in X.\n",
      "  k_means.fit(signal)\n"
     ]
    },
    {
     "name": "stdout",
     "output_type": "stream",
     "text": [
      "n_clusters = 2\n",
      "labels = [0 0 0 0 0 0 0 0 0 0 0 1 0 0 1 0 0 0 1 0 0 1 0 1]\n",
      "([11, 12, 14, 15, 18, 19, 21, 22, 23], array([0, 0, 0, 0, 0, 0, 0, 0, 0, 0, 0, 1, 0, 0, 1, 0, 0, 0, 1, 0, 0, 1,\n",
      "       0, 1]))\n"
     ]
    },
    {
     "ename": "ValueError",
     "evalue": "operands could not be broadcast together with shapes (24,) (9,) ",
     "output_type": "error",
     "traceback": [
      "\u001b[1;31m---------------------------------------------------------------------------\u001b[0m",
      "\u001b[1;31mValueError\u001b[0m                                Traceback (most recent call last)",
      "\u001b[1;32mc:\\Users\\a770398\\IO-SEA\\io-sea-3.4-analytics\\job_decomposer\\job_decomposer\\kmeans_methods_exploration.ipynb Cell 12\u001b[0m in \u001b[0;36m<cell line: 10>\u001b[1;34m()\u001b[0m\n\u001b[0;32m      <a href='vscode-notebook-cell:/c%3A/Users/a770398/IO-SEA/io-sea-3.4-analytics/job_decomposer/job_decomposer/kmeans_methods_exploration.ipynb#ch0000010?line=7'>8</a>\u001b[0m \u001b[39mprint\u001b[39m(breakpoints2)\n\u001b[0;32m      <a href='vscode-notebook-cell:/c%3A/Users/a770398/IO-SEA/io-sea-3.4-analytics/job_decomposer/job_decomposer/kmeans_methods_exploration.ipynb#ch0000010?line=8'>9</a>\u001b[0m \u001b[39m#show_breakpoints(signal, breakpoints, breakpoints2=breakpoints2)\u001b[39;00m\n\u001b[1;32m---> <a href='vscode-notebook-cell:/c%3A/Users/a770398/IO-SEA/io-sea-3.4-analytics/job_decomposer/job_decomposer/kmeans_methods_exploration.ipynb#ch0000010?line=9'>10</a>\u001b[0m rpt\u001b[39m.\u001b[39;49mdisplay(signal, breakpoints2, breakpoints)\n",
      "File \u001b[1;32mc:\\Users\\a770398\\AppData\\Local\\Continuum\\anaconda3\\envs\\iosea-venv\\lib\\site-packages\\ruptures\\show\\display.py:83\u001b[0m, in \u001b[0;36mdisplay\u001b[1;34m(signal, true_chg_pts, computed_chg_pts, computed_chg_pts_color, computed_chg_pts_linewidth, computed_chg_pts_linestyle, computed_chg_pts_alpha, **kwargs)\u001b[0m\n\u001b[0;32m     80\u001b[0m axe\u001b[39m.\u001b[39mplot(\u001b[39mrange\u001b[39m(n_samples), sig)\n\u001b[0;32m     82\u001b[0m \u001b[39m# color each (true) regime\u001b[39;00m\n\u001b[1;32m---> 83\u001b[0m bkps \u001b[39m=\u001b[39m [\u001b[39m0\u001b[39m] \u001b[39m+\u001b[39m \u001b[39msorted\u001b[39;49m(true_chg_pts)\n\u001b[0;32m     84\u001b[0m alpha \u001b[39m=\u001b[39m \u001b[39m0.2\u001b[39m  \u001b[39m# transparency of the colored background\u001b[39;00m\n\u001b[0;32m     86\u001b[0m \u001b[39mfor\u001b[39;00m (start, end), col \u001b[39min\u001b[39;00m \u001b[39mzip\u001b[39m(pairwise(bkps), color_cycle):\n",
      "\u001b[1;31mValueError\u001b[0m: operands could not be broadcast together with shapes (24,) (9,) "
     ]
    }
   ],
   "source": [
    "from utils import get_df_by_job_id\n",
    "df = get_df_by_job_id(job_id=4913) #53494\n",
    "signal = (df[[\"bytesWritten\"]]).to_numpy()\n",
    "\n",
    "breakpoints = get_kmeans_breakpoints(signal, v0_threshold = 0.05)\n",
    "print(breakpoints)\n",
    "breakpoints2 = get_kmeans_original_breakpoints(signal)\n",
    "print(breakpoints2)\n",
    "#show_breakpoints(signal, breakpoints, breakpoints2=breakpoints2)\n",
    "rpt.display(signal, breakpoints2, breakpoints)"
   ]
  },
  {
   "cell_type": "code",
   "execution_count": 66,
   "metadata": {},
   "outputs": [],
   "source": [
    "def show_breakpoints(signal, breakpoints, breakpoints2=[], labels=[], labels2=[]):\n",
    "    signal = signal.flatten().tolist()\n",
    "    ab = np.arange(len(signal))\n",
    "    #p_signal = reconstruct_pwlf(signal, breakpoints)\n",
    "\n",
    "    #plt.plot(ab, p_signal, linestyle='dashed', linewidth=0.5)\n",
    "    for i, bpt in enumerate(breakpoints):\n",
    "        plt.axvline(x=bpt, linestyle='dashed',  color=\"black\", alpha=0.5)\n",
    "        if labels:\n",
    "            plt.annotate(labels[bpt], (ab[bpt], signal[bpt]), color=\"black\")\n",
    "            \n",
    "                \n",
    "    if breakpoints2:\n",
    "        for bpt in breakpoints2:\n",
    "            plt.axvline(x=bpt, linestyle='dotted', color=\"red\", alpha=0.7)\n",
    "            if labels2:\n",
    "                plt.annotate(labels2[bpt], (ab[bpt], signal[bpt]*1.3), color=\"red\")\n",
    "        \n",
    "    plt.plot(ab, signal, label=\"original signal\")\n",
    "    plt.show()"
   ]
  },
  {
   "cell_type": "markdown",
   "metadata": {},
   "source": [
    "Let now fit the signal with rect curve"
   ]
  },
  {
   "cell_type": "code",
   "execution_count": 102,
   "metadata": {},
   "outputs": [
    {
     "name": "stdout",
     "output_type": "stream",
     "text": [
      "retrieving C:\\Users\\a770398\\IO-SEA\\io-sea-3.4-analytics\\dataset_generation\\dataset_generation\\dataset_gysela\\job_109567.csv\n",
      "n_clusters = 11\n",
      "v0_weight = 0.09970687867884823\n",
      "labels = [6 6 6 ... 6 6 6]\n",
      "(3242,)\n",
      "(3242, 1)\n",
      "(145,)\n"
     ]
    },
    {
     "ename": "ValueError",
     "evalue": "shapes (3242,1) and (3242,1) not aligned: 1 (dim 1) != 3242 (dim 0)",
     "output_type": "error",
     "traceback": [
      "\u001b[1;31m---------------------------------------------------------------------------\u001b[0m",
      "\u001b[1;31mValueError\u001b[0m                                Traceback (most recent call last)",
      "\u001b[1;32mc:\\Users\\a770398\\IO-SEA\\io-sea-3.4-analytics\\job_decomposer\\job_decomposer\\kmeans_methods_exploration.ipynb Cell 15\u001b[0m in \u001b[0;36m<cell line: 16>\u001b[1;34m()\u001b[0m\n\u001b[0;32m     <a href='vscode-notebook-cell:/c%3A/Users/a770398/IO-SEA/io-sea-3.4-analytics/job_decomposer/job_decomposer/kmeans_methods_exploration.ipynb#ch0000012?line=13'>14</a>\u001b[0m \u001b[39mprint\u001b[39m(x0\u001b[39m.\u001b[39mshape)\n\u001b[0;32m     <a href='vscode-notebook-cell:/c%3A/Users/a770398/IO-SEA/io-sea-3.4-analytics/job_decomposer/job_decomposer/kmeans_methods_exploration.ipynb#ch0000012?line=14'>15</a>\u001b[0m my_pwlf \u001b[39m=\u001b[39m pwlf\u001b[39m.\u001b[39mPiecewiseLinFit(x, signal, degree\u001b[39m=\u001b[39m\u001b[39m0\u001b[39m)\n\u001b[1;32m---> <a href='vscode-notebook-cell:/c%3A/Users/a770398/IO-SEA/io-sea-3.4-analytics/job_decomposer/job_decomposer/kmeans_methods_exploration.ipynb#ch0000012?line=15'>16</a>\u001b[0m my_pwlf\u001b[39m.\u001b[39;49mfit_with_breaks(x0)\n\u001b[0;32m     <a href='vscode-notebook-cell:/c%3A/Users/a770398/IO-SEA/io-sea-3.4-analytics/job_decomposer/job_decomposer/kmeans_methods_exploration.ipynb#ch0000012?line=16'>17</a>\u001b[0m p_signal \u001b[39m=\u001b[39m my_pwlf\u001b[39m.\u001b[39mpredict(x)\n\u001b[0;32m     <a href='vscode-notebook-cell:/c%3A/Users/a770398/IO-SEA/io-sea-3.4-analytics/job_decomposer/job_decomposer/kmeans_methods_exploration.ipynb#ch0000012?line=18'>19</a>\u001b[0m plt\u001b[39m.\u001b[39mrcParams[\u001b[39m\"\u001b[39m\u001b[39mfigure.figsize\u001b[39m\u001b[39m\"\u001b[39m] \u001b[39m=\u001b[39m (\u001b[39m12\u001b[39m, \u001b[39m5\u001b[39m)\n",
      "File \u001b[1;32mc:\\Users\\a770398\\AppData\\Local\\Continuum\\anaconda3\\envs\\iosea-venv\\lib\\site-packages\\pwlf\\pwlf.py:402\u001b[0m, in \u001b[0;36mPiecewiseLinFit.fit_with_breaks\u001b[1;34m(self, breaks)\u001b[0m\n\u001b[0;32m    400\u001b[0m \u001b[39m# try to solve the regression problem\u001b[39;00m\n\u001b[0;32m    401\u001b[0m \u001b[39mtry\u001b[39;00m:\n\u001b[1;32m--> 402\u001b[0m     ssr \u001b[39m=\u001b[39m \u001b[39mself\u001b[39;49m\u001b[39m.\u001b[39;49mlstsq(A)\n\u001b[0;32m    404\u001b[0m \u001b[39mexcept\u001b[39;00m linalg\u001b[39m.\u001b[39mLinAlgError:\n\u001b[0;32m    405\u001b[0m     \u001b[39m# the computation could not converge!\u001b[39;00m\n\u001b[0;32m    406\u001b[0m     \u001b[39m# on an error, return ssr = np.print_function\u001b[39;00m\n\u001b[0;32m    407\u001b[0m     \u001b[39m# You might have a singular Matrix!!!\u001b[39;00m\n\u001b[0;32m    408\u001b[0m     ssr \u001b[39m=\u001b[39m np\u001b[39m.\u001b[39minf\n",
      "File \u001b[1;32mc:\\Users\\a770398\\AppData\\Local\\Continuum\\anaconda3\\envs\\iosea-venv\\lib\\site-packages\\pwlf\\pwlf.py:1514\u001b[0m, in \u001b[0;36mPiecewiseLinFit.lstsq\u001b[1;34m(self, A, calc_slopes)\u001b[0m\n\u001b[0;32m   1512\u001b[0m     y_hat \u001b[39m=\u001b[39m np\u001b[39m.\u001b[39mdot(A, beta)\n\u001b[0;32m   1513\u001b[0m     e \u001b[39m=\u001b[39m y_hat \u001b[39m-\u001b[39m \u001b[39mself\u001b[39m\u001b[39m.\u001b[39my_data\n\u001b[1;32m-> 1514\u001b[0m     ssr \u001b[39m=\u001b[39m np\u001b[39m.\u001b[39;49mdot(e, e)\n\u001b[0;32m   1515\u001b[0m \u001b[39melse\u001b[39;00m:\n\u001b[0;32m   1516\u001b[0m     ssr \u001b[39m=\u001b[39m ssr[\u001b[39m0\u001b[39m]\n",
      "File \u001b[1;32m<__array_function__ internals>:5\u001b[0m, in \u001b[0;36mdot\u001b[1;34m(*args, **kwargs)\u001b[0m\n",
      "\u001b[1;31mValueError\u001b[0m: shapes (3242,1) and (3242,1) not aligned: 1 (dim 1) != 3242 (dim 0)"
     ]
    },
    {
     "ename": "",
     "evalue": "",
     "output_type": "error",
     "traceback": [
      "\u001b[1;31mThe Kernel crashed while executing code in the the current cell or a previous cell. Please review the code in the cell(s) to identify a possible cause of the failure. Click <a href='https://aka.ms/vscodeJupyterKernelCrash'>here</a> for more info. View Jupyter <a href='command:jupyter.viewOutput'>log</a> for further details."
     ]
    }
   ],
   "source": [
    "import numpy as np\n",
    "import pwlf\n",
    "\n",
    "from utils import get_df_by_job_id\n",
    "#df = get_df_by_job_id(job_id=457344) #53494\n",
    "df = get_df_by_job_id(job_id=109567)\n",
    "signal = (df[[\"bytesWritten\"]]).to_numpy()\n",
    "x = df[[\"timestamp\"]].to_numpy().flatten()\n",
    "breakpoints, labels = get_kmeans_breakpoints(signal, v0_threshold = 0.1)\n",
    "x0 = np.take(x, breakpoints, axis=0)\n",
    "#x0 = np.array([min(x), ])\n",
    "print(x.shape)\n",
    "print(signal.shape)\n",
    "print(x0.shape)\n",
    "my_pwlf = pwlf.PiecewiseLinFit(x, signal, degree=0)\n",
    "my_pwlf.fit_with_breaks(x0)\n",
    "p_signal = my_pwlf.predict(x)\n",
    "\n",
    "plt.rcParams[\"figure.figsize\"] = (12, 5)\n",
    "plt.plot(x, signal,  label=\"write signal\")\n",
    "plt.plot(x, p_signal, '--', label=\"reconstruction\")\n",
    "# breakpoints\n",
    "for i, bpt in enumerate(breakpoints):\n",
    "    plt.axvline(x=x[bpt], linestyle='dashed',  color=\"black\", alpha=0.5)\n",
    "    plt.annotate(labels[bpt], (x[bpt], signal[bpt]), color=\"black\")\n",
    "plt.legend()\n",
    "plt.show()\n",
    "plt.grid(True)\n"
   ]
  },
  {
   "cell_type": "code",
   "execution_count": 82,
   "metadata": {},
   "outputs": [
    {
     "name": "stdout",
     "output_type": "stream",
     "text": [
      "[1.52412578e+09 1.52412579e+09 1.52412596e+09 1.52412598e+09\n",
      " 1.52412616e+09 1.52412617e+09 1.52412634e+09 1.52412636e+09\n",
      " 1.52412654e+09]\n"
     ]
    }
   ],
   "source": [
    "print(x[breakpoints])"
   ]
  },
  {
   "cell_type": "markdown",
   "metadata": {},
   "source": [
    "Switching to signal processing (curve fitting)"
   ]
  },
  {
   "cell_type": "code",
   "execution_count": 95,
   "metadata": {},
   "outputs": [],
   "source": [
    "plt.rcParams[\"figure.figsize\"] = (12, 5)\n",
    "plt.plot(x, np.cumsum(signal),  label=\"write signal\")\n",
    "plt.plot(x, np.cumsum(p_signal), '--', label=\"reconstruction\")\n",
    "# breakpoints\n",
    "for i, bpt in enumerate(breakpoints):\n",
    "    plt.axvline(x=x[bpt], linestyle='dashed',  color=\"black\", alpha=0.5)\n",
    "    plt.annotate(labels[bpt], (x[bpt], signal[bpt]), color=\"black\")\n",
    "plt.legend()\n",
    "plt.show()\n",
    "plt.grid(True)"
   ]
  }
 ],
 "metadata": {
  "kernelspec": {
   "display_name": "Python 3.8.13 ('iosea-venv')",
   "language": "python",
   "name": "python3"
  },
  "language_info": {
   "codemirror_mode": {
    "name": "ipython",
    "version": 3
   },
   "file_extension": ".py",
   "mimetype": "text/x-python",
   "name": "python",
   "nbconvert_exporter": "python",
   "pygments_lexer": "ipython3",
   "version": "3.8.13"
  },
  "orig_nbformat": 4,
  "vscode": {
   "interpreter": {
    "hash": "c87beb4c7de1fcbf6155f8da331fc04a584374d4c389d75c2ece6a4f03553c96"
   }
  }
 },
 "nbformat": 4,
 "nbformat_minor": 2
}
