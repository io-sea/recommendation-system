{
 "cells": [
  {
   "cell_type": "markdown",
   "metadata": {},
   "source": [
    "Import a specific job from datasets"
   ]
  },
  {
   "cell_type": "code",
   "execution_count": 4,
   "metadata": {},
   "outputs": [
    {
     "name": "stdout",
     "output_type": "stream",
     "text": [
      "retrieving C:\\Users\\a770398\\IO-SEA\\io-sea-3.4-analytics\\dataset_generation\\dataset_generation\\dataset_gysela\\job_109567.csv\n",
      "(3242, 5)\n"
     ]
    },
    {
     "data": {
      "text/plain": [
       "<AxesSubplot:>"
      ]
     },
     "execution_count": 4,
     "metadata": {},
     "output_type": "execute_result"
    },
    {
     "data": {
      "image/png": "[encoded data removed]",
      "text/plain": [
       "<Figure size 1152x288 with 1 Axes>"
      ]
     },
     "metadata": {
      "needs_background": "light"
     },
     "output_type": "display_data"
    }
   ],
   "source": [
    "from utils import *\n",
    "import pwlf\n",
    "import ruptures as rpt\n",
    "\n",
    "df = get_df_by_job_id(job_id=109567)\n",
    "#df = get_df_by_job_id(job_id=101329)\n",
    "print(df.shape)\n",
    "df.plot(y=[\"bytesWritten\", \"bytesRead\"], figsize=(16,4), sharex=True, grid=True, use_index=True)\n",
    "\n",
    "# df.plot(y=[\"bytesWritten\", \"bytesRead\"], figsize=(16,4), sharex=True, grid=True, use_index=True, logy=True)\n"
   ]
  },
  {
   "cell_type": "markdown",
   "metadata": {},
   "source": []
  },
  {
   "cell_type": "code",
   "execution_count": null,
   "metadata": {},
   "outputs": [],
   "source": []
  },
  {
   "cell_type": "markdown",
   "metadata": {},
   "source": [
    "Kmeans for baseline and upper line detection\n"
   ]
  },
  {
   "cell_type": "code",
   "execution_count": 16,
   "metadata": {},
   "outputs": [
    {
     "name": "stdout",
     "output_type": "stream",
     "text": [
      "n_clusters = 15\n",
      "v0_weight = 0.0007625933258590361\n",
      "(159, 1)\n",
      "[1131 1134 1239 1242 1338 1341 1356 1359 1656 1659 1662 1668 1671 1675\n",
      " 1679 1683 1687 1692 1697 1702 1707 1713 1719 1725 1737 1742 1747 1757\n",
      " 1763 1769 1793 1799 1806 1820 1827 1855 1869 1879 1889 1899 1909 1929\n",
      " 1939 1949 1959 1969 1979 1989 1999 2009 2019 2029 2039 2049 2058 2067\n",
      " 2085 2103 2112 2121 2130 2139 2157 2166 2175 2202 2210 2226 2234 2250\n",
      " 2258 2266 2274 2308 2317 2326 2335 2344 2353 2362 2371 2380 2389 2398\n",
      " 2407 2418 2440 2462 2473 2484 2495 2506 2517 2528 2539 2550 2561 2572\n",
      " 2583 2594 2627 2638 2649 2660 2671 2693 2715 2726 2737 2768 2778 2788\n",
      " 2798 2818 2828 2838 2848 2858 2868 2878 2885 2892 2899 2913 2927 2934\n",
      " 2941 2949 2957 2965 2973 2981 2997 3005 3022 3040 3049 3058 3067 3076\n",
      " 3085 3094 3101 3108 3115 3122 3129 3136 3150 3157 3164 3171 3178 3185\n",
      " 3193 3201 3209 3225 3233]\n"
     ]
    }
   ],
   "source": [
    "from sklearn.cluster import KMeans\n",
    "import ruptures as rpt\n",
    "%matplotlib tk\n",
    "from utils import *\n",
    "signal = (df[[\"bytesWritten\"]]).to_numpy()\n",
    "x = df[[\"timestamp\"]].to_numpy()\n",
    "v0_weight = 1\n",
    "v0_threshold = 0.05\n",
    "n_clusters = 2\n",
    "while v0_weight > v0_threshold:\n",
    "    kmeans = KMeans(n_clusters=n_clusters, random_state=0).fit(signal)\n",
    "    v0_indexes = np.where(kmeans.labels_==0, True, False)\n",
    "    v0_weight = signal[v0_indexes].sum() / signal.sum()\n",
    "    n_clusters += 1\n",
    "print(f\"{n_clusters = }\")\n",
    "print(f\"{v0_weight = }\")\n",
    "\n",
    "ab = np.arange(len(x))\n",
    "breakpoints = ab[np.insert(np.where(np.diff(kmeans.labels_)!=0, True, False), 0, False)]\n",
    "changes=x[np.insert(np.where(np.diff(kmeans.labels_)!=0, True, False), 0, False)]\n",
    "print(changes.shape)\n",
    "# plt.plot(x, signal)\n",
    "# for x_ in changes:\n",
    "#     plt.axvline(x=x_, color=\"green\", linestyle='dashed', linewidth=0.5)\n",
    "# plt.grid(True)\n",
    "print(breakpoints)\n",
    "plot_job_phases2(x, signal, breakpoints)"
   ]
  },
  {
   "cell_type": "markdown",
   "metadata": {},
   "source": [
    "reconstruction\n"
   ]
  },
  {
   "cell_type": "code",
   "execution_count": 11,
   "metadata": {},
   "outputs": [
    {
     "name": "stdout",
     "output_type": "stream",
     "text": [
      "<class 'numpy.ndarray'>\n",
      "[0 0 0 ... 0 0 0]\n"
     ]
    }
   ],
   "source": [
    "%matplotlib tk\n",
    "def reconstruct_pwlf(signal, breakpoints):\n",
    "    ab = np.arange(len(signal))\n",
    "    my_pwlf = pwlf.PiecewiseLinFit(ab, signal, degree=0)\n",
    "    my_pwlf.fit_with_breaks(breakpoints)\n",
    "    return my_pwlf.predict(ab)\n",
    "    \n",
    "\n",
    "def show_breakpoints(signal, breakpoints, breakpoints2=[]):\n",
    "    ab = np.arange(len(signal))\n",
    "    p_signal = reconstruct_pwlf(signal, breakpoints)\n",
    "\n",
    "    #plt.plot(ab, p_signal, linestyle='dashed', linewidth=0.5)\n",
    "    for bpt in breakpoints:\n",
    "        plt.axvline(x=bpt, linestyle='dashed', linewidth=0.7, color=\"black\")\n",
    "    if breakpoints2:\n",
    "        for bpt in breakpoints2:\n",
    "            plt.axvline(x=bpt, linestyle='dashed', linewidth=0.7, color=\"red\")\n",
    "        \n",
    "    plt.plot(ab, signal, label=\"original signal\")\n",
    "    plt.show()\n",
    "    \n",
    "    \n",
    "    \n",
    "def show_reconstruction(signal, p_signal):\n",
    "    ab = np.arange(len(signal))\n",
    "    plt.plot(ab, signal, label=\"original signal\")\n",
    "    plt.plot(ab, p_signal, label=\"decomposed signal\", linewidth=0.7, linestyle=\"dashed\", color=\"black\")\n",
    "    plt.legend()\n",
    "    plt.grid(True)\n",
    "    plt.show()\n",
    "    plt.figure(0)\n",
    "    plt.plot(ab, np.cumsum(signal), label=\"original signal\")\n",
    "    plt.plot(ab, np.cumsum(p_signal), label=\"decomposed signal\",  \n",
    "            linewidth=0.7, linestyle=\"dashed\", color=\"black\")\n",
    "    plt.grid(True)\n",
    "    plt.show()\n",
    "\n",
    "signal = (df[[\"bytesWritten\"]]).to_numpy()\n",
    "breakpoints = get_kmeans_breakpoints(signal, v0_threshold = 0.15)\n",
    "breakpoints2 = get_kmeans_original_breakpoints(signal)\n",
    "show_breakpoints(signal, breakpoints, breakpoints2=breakpoints2)\n",
    "# p_signal = reconstruct_pwlf(signal, breakpoints)\n",
    "# show_reconstruction(signal, p_signal)"
   ]
  },
  {
   "cell_type": "code",
   "execution_count": null,
   "metadata": {},
   "outputs": [],
   "source": []
  },
  {
   "cell_type": "code",
   "execution_count": 33,
   "metadata": {},
   "outputs": [
    {
     "name": "stdout",
     "output_type": "stream",
     "text": [
      "C:\\Users\\a770398\\IO-SEA\\io-sea-3.4-analytics\\dataset_generation\\dataset_generation\\dataset_genji_IOI_BD260919\\job_488287.csv\n",
      "<class 'numpy.ndarray'>\n",
      "[  239   249  1184  1211  3400  3422  3786  3812  4150  4176  4332  4358\n",
      "  5568  5604  5640  5712  5928  5964  6036  6072  6144  6180  6216  6288\n",
      "  6324  6468  6504  6576  6648  6792  7080  7152  7224  7260  7332  7404\n",
      "  7440  7476  7512  7548  7584  7656  7764  7800  7980  8016  8232  8268\n",
      "  8412  8448  8484  8556  8592  8628  8664  8841  8844  8847  8850  8877\n",
      "  8880  8898  8901  8946  8949  8967  9075  9078  9281  9295  9337  9351\n",
      "  9435  9463  9477  9491  9505  9519  9547  9675  9683 10147 10155 10212\n",
      " 10237 10812 10837 11087 11137 11187 11212 11312 11337 11387 11412]\n"
     ]
    }
   ],
   "source": [
    "# reconstruction\n",
    "import pwlf\n",
    "from utils import get_kmeans_breakpoints, choose_random_job\n",
    "#breakpoints = get_kmeans_breakpoints(signal, v0_threshold=0.05)\n",
    "csv_file = choose_random_job()\n",
    "print(csv_file)\n",
    "df = pd.read_csv(csv_file, index_col=0)\n",
    "signal = (df[[\"bytesWritten\"]]).to_numpy()\n",
    "\n",
    "decompose_signal(signal)"
   ]
  },
  {
   "cell_type": "code",
   "execution_count": 36,
   "metadata": {},
   "outputs": [
    {
     "name": "stdout",
     "output_type": "stream",
     "text": [
      "retrieving C:\\Users\\a770398\\IO-SEA\\io-sea-3.4-analytics\\dataset_generation\\dataset_generation\\dataset_valid_dumps\\job_93537.csv\n",
      "<class 'numpy.ndarray'>\n",
      "[55 70]\n"
     ]
    }
   ],
   "source": [
    "from utils import get_df_by_job_id\n",
    "df = get_df_by_job_id(job_id=93537)\n",
    "signal = (df[[\"bytesWritten\"]]).to_numpy()\n",
    "decompose_signal(signal)"
   ]
  },
  {
   "cell_type": "markdown",
   "metadata": {},
   "source": [
    "Apply \"best\" stat algo on this signal"
   ]
  },
  {
   "cell_type": "code",
   "execution_count": 54,
   "metadata": {},
   "outputs": [],
   "source": [
    "signal = (df[[\"bytesWritten\"]]).to_numpy()\n",
    "x = df[[\"timestamp\"]].to_numpy().tolist()\n",
    "_, optimal_breakpoints, _ = get_optimal_breakpoints(signal, algo=rpt.KernelCPD, kernel=\"linear\")\n",
    "plot_job_phases2(x, signal, optimal_breakpoints)"
   ]
  },
  {
   "cell_type": "code",
   "execution_count": 45,
   "metadata": {},
   "outputs": [],
   "source": [
    "signal = np.log(1+df[[\"bytesWritten\"]]).to_numpy()\n",
    "x = df[[\"timestamp\"]].to_numpy().tolist()\n",
    "_, optimal_breakpoints, _ = get_optimal_breakpoints(signal, algo=rpt.KernelCPD, kernel=\"rbf\")\n",
    "plot_job_phases2(x, signal, optimal_breakpoints)"
   ]
  },
  {
   "cell_type": "markdown",
   "metadata": {},
   "source": [
    "Let now fit the signal with rect curve"
   ]
  },
  {
   "cell_type": "code",
   "execution_count": 52,
   "metadata": {},
   "outputs": [
    {
     "name": "stdout",
     "output_type": "stream",
     "text": [
      "(55,)\n",
      "(55,)\n",
      "(2,)\n"
     ]
    }
   ],
   "source": [
    "import numpy as np\n",
    "import pwlf\n",
    "\n",
    "x = df[[\"timestamp\"]].to_numpy().flatten()\n",
    "x0 = np.take(x, optimal_breakpoints[:-1], axis=0)\n",
    "#x0 = np.array([min(x), ])\n",
    "signal = (df[[\"bytesWritten\"]]).to_numpy().flatten()\n",
    "print(x.shape)\n",
    "print(signal.shape)\n",
    "print(x0.shape)\n",
    "my_pwlf = pwlf.PiecewiseLinFit(x, signal, degree=0)\n",
    "my_pwlf.fit_with_breaks(x0)\n",
    "p_signal = my_pwlf.predict(x)\n",
    "\n",
    "plt.rcParams[\"figure.figsize\"] = (12, 5)\n",
    "plt.plot(x, p_signal, x, signal)\n",
    "plt.grid(True)\n"
   ]
  },
  {
   "cell_type": "markdown",
   "metadata": {},
   "source": [
    "On the log signal"
   ]
  },
  {
   "cell_type": "code",
   "execution_count": 13,
   "metadata": {},
   "outputs": [
    {
     "data": {
      "image/png": "[encoded data removed]",
      "text/plain": [
       "<Figure size 720x144 with 1 Axes>"
      ]
     },
     "metadata": {
      "needs_background": "light"
     },
     "output_type": "display_data"
    }
   ],
   "source": [
    "signal = np.log(1 + df[[\"bytesWritten\"]]).to_numpy()\n",
    "x = df[[\"timestamp\"]].to_numpy().tolist()\n",
    "_, optimal_breakpoints, _ = get_optimal_breakpoints(signal, algo=rpt.KernelCPD, kernel=\"linear\")\n",
    "plot_job_phases2(x, signal, optimal_breakpoints)"
   ]
  },
  {
   "cell_type": "markdown",
   "metadata": {},
   "source": [
    "Switching to signal processing (curve fitting)"
   ]
  },
  {
   "cell_type": "code",
   "execution_count": null,
   "metadata": {},
   "outputs": [],
   "source": [
    "y = df[[\"bytesWritten\"]].to_numpy()\n",
    "x = df[[\"timestamp\"]].to_numpy()"
   ]
  }
 ],
 "metadata": {
  "kernelspec": {
   "display_name": "Python 3.8.13 ('iosea-venv')",
   "language": "python",
   "name": "python3"
  },
  "language_info": {
   "codemirror_mode": {
    "name": "ipython",
    "version": 3
   },
   "file_extension": ".py",
   "mimetype": "text/x-python",
   "name": "python",
   "nbconvert_exporter": "python",
   "pygments_lexer": "ipython3",
   "version": "3.8.13"
  },
  "orig_nbformat": 4,
  "vscode": {
   "interpreter": {
    "hash": "c87beb4c7de1fcbf6155f8da331fc04a584374d4c389d75c2ece6a4f03553c96"
   }
  }
 },
 "nbformat": 4,
 "nbformat_minor": 2
}
