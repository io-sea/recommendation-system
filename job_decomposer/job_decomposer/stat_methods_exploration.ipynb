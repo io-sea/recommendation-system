{
 "cells": [
  {
   "cell_type": "code",
   "execution_count": null,
   "metadata": {},
   "outputs": [],
   "source": [
    "import matplotlib.pyplot as plt\n",
    "import pandas as pd\n",
    "import ruptures as rpt"
   ]
  },
  {
   "cell_type": "markdown",
   "metadata": {},
   "source": [
    "Import some jobs"
   ]
  },
  {
   "cell_type": "code",
   "execution_count": null,
   "metadata": {},
   "outputs": [],
   "source": [
    "import os, random\n",
    "job_files = []\n",
    "dataset_path = \"C:\\\\Users\\\\a770398\\\\IO-SEA\\\\io-sea-3.4-analytics\\\\dataset_generation\\\\dataset_generation\"\n",
    "for root, dirs, files in os.walk(dataset_path):\n",
    "    for csv_file in files:\n",
    "        if csv_file.endswith(\".csv\"):\n",
    "            job_files.append(os.path.join(root, csv_file))\n",
    "        \n",
    "# csv_file = os.path.join(\"C:\\\\Users\\\\a770398\\IO-SEA\\io-sea-3.4-analytics\\\\dataset_generation\\\\dataset_generation\\\\dataset_oth_db\\\\job_1272.csv\")\n",
    "\n",
    "csv_file = random.choice(job_files)\n",
    "print(csv_file)\n",
    "\n"
   ]
  },
  {
   "cell_type": "markdown",
   "metadata": {},
   "source": [
    "Basic plot"
   ]
  },
  {
   "cell_type": "code",
   "execution_count": null,
   "metadata": {},
   "outputs": [],
   "source": [
    "df = pd.read_csv(csv_file, index_col=0)\n",
    "df.plot(x=\"timestamp\", figsize=(16,4), sharex=True, grid=True, subplots=True, layout=(1, 4))\n",
    "#df.head()"
   ]
  },
  {
   "cell_type": "markdown",
   "metadata": {},
   "source": [
    "Now we apply some algos on the bidimensional signal (y1=[\"bytesRead\"], y2=[\"bytesWritten\"]"
   ]
  },
  {
   "cell_type": "code",
   "execution_count": null,
   "metadata": {},
   "outputs": [],
   "source": [
    "signal = df[[\"bytesRead\"]].to_numpy()\n",
    "\n",
    "dyn_result = rpt.Dynp(model=\"rbf\").fit(signal).predict(n_bkps=6)\n",
    "pelt_result = rpt.Pelt(model=\"rbf\", min_size=3).fit(signal).predict(pen=0.1)\n",
    "kcpd_result = rpt.KernelCPD(kernel=\"rbf\").fit(signal).predict(pen=0.1) # a c implementation of dyn/pelt\n",
    "binseg_result = rpt.Binseg(model=\"l2\").fit(signal).predict(pen=0.1)\n",
    "botup_result = rpt.BottomUp(model=\"l2\").fit(signal).predict(pen=0.1)\n",
    "wind_result = rpt.Window(model=\"l2\", width=10).fit(signal).predict(pen=0.1)\n",
    "\n",
    "rpt.display(signal, dyn_result)\n",
    "rpt.display(signal, pelt_result)\n",
    "rpt.display(signal, kcpd_result)\n",
    "rpt.display(signal, binseg_result)\n",
    "rpt.display(signal, botup_result)\n",
    "rpt.display(signal, wind_result)\n",
    "\n",
    "df[[\"bytesRead\"]].cumsum().plot()\n",
    "df[[\"bytesWritten\"]].cumsum().plot()"
   ]
  },
  {
   "cell_type": "markdown",
   "metadata": {},
   "source": [
    "Some biblio:\n",
    "- https://arxiv.org/abs/2003.06222\n",
    "- https://arxiv.org/pdf/1801.00718.pdf\n",
    "- https://github.com/alan-turing-institute/TCPDBench\n",
    "- https://www.youtube.com/watch?v=Sb89wJaCp7o&ab_channel=VideoLecturesChannel\n",
    "- https://notebook.community/hildensia/bayesian_changepoint_detection/Example%20Code\n",
    "- https://techrando.com/2019/08/14/a-brief-introduction-to-change-point-detection-using-python/\n",
    "- https://schuetzgroup.github.io/sdt-python/changepoint.html\n",
    "- https://centre-borelli.github.io/ruptures-docs/\n",
    "- https://paperswithcode.com/task/change-point-detection\n",
    "- https://github.com/YKatser/CPDE\n",
    "- https://arxiv.org/pdf/2204.07403v1.pdf\n",
    "- https://github.com/cruiseresearchgroup/TSCP2"
   ]
  },
  {
   "cell_type": "markdown",
   "metadata": {},
   "source": []
  },
  {
   "cell_type": "markdown",
   "metadata": {},
   "source": [
    "Estimating cost value"
   ]
  },
  {
   "cell_type": "code",
   "execution_count": null,
   "metadata": {},
   "outputs": [],
   "source": [
    "def choose_random_job(dataset_path = \"C:\\\\Users\\\\a770398\\\\IO-SEA\\\\io-sea-3.4-analytics\\\\dataset_generation\\\\dataset_generation\"):\n",
    "    job_files = []    \n",
    "    for root, dirs, files in os.walk(dataset_path):\n",
    "        for csv_file in files:\n",
    "            if csv_file.endswith(\".csv\"):\n",
    "                job_files.append(os.path.join(root, csv_file))\n",
    "    return random.choice(job_files)"
   ]
  },
  {
   "cell_type": "code",
   "execution_count": null,
   "metadata": {},
   "outputs": [],
   "source": [
    "import matplotlib.pyplot as plt\n",
    "import pandas as pd\n",
    "import ruptures as rpt\n",
    "import os, random\n",
    "csv_file = choose_random_job()\n",
    "df = pd.read_csv(csv_file, index_col=0)\n",
    "df.plot(x=\"timestamp\", figsize=(16,4), sharex=True, grid=True, subplots=True, layout=(1, 4))"
   ]
  },
  {
   "cell_type": "code",
   "execution_count": null,
   "metadata": {},
   "outputs": [],
   "source": [
    "import numpy as np\n",
    "from matplotlib import pyplot as plt\n",
    "from scipy import integrate\n",
    "\n",
    "signal = df[[\"bytesWritten\"]].to_numpy()\n",
    "for cost in [rpt.costs.CostL1(), rpt.costs.CostL2(), rpt.costs.CostNormal(), rpt.costs.CostLinear()]:\n",
    "             #rpt.costs.CostAR(order=10), rpt.costs.CostMl(metric=np.eye(1)), rpt.costs.CostRank()]:\n",
    "    result = rpt.Pelt(custom_cost=cost).fit(signal).predict(pen=1000)\n",
    "#pelt_result = rpt.Pelt(model=\"rbf\", min_size=3).fit(signal).predict(pen=0.1)\n",
    "#print(cost.fit(signal).error(0, len(signal)))\n",
    "    print(\"===================\")\n",
    "    rpt.display(signal, result)\n",
    "    print(result)\n",
    "    print(cost.sum_of_costs(result))\n",
    "    \n",
    "    # reconstruction loop:\n",
    "    compute = [0]\n",
    "    write = [0]\n",
    "    bandwidth = [0]\n",
    "    closing_point = 0\n",
    "    for i_brkpt, brkpt in enumerate(result[:-1]):\n",
    "        if (i_brkpt % 2) == 0: # starting point\n",
    "            starting_point = brkpt\n",
    "            compute.append(compute[-1] + (starting_point - closing_point))\n",
    "        if (i_brkpt %2) != 0: # closing point\n",
    "            closing_point = brkpt\n",
    "            phase_volume = integrate.trapz(y=signal[starting_point: closing_point].flatten(), dx=5)\n",
    "            write.append(phase_volume)\n",
    "            \n",
    "    print(f\"compute= {compute} -- write = {write}\")\n",
    "        \n",
    "            \n",
    "            "
   ]
  },
  {
   "cell_type": "code",
   "execution_count": null,
   "metadata": {},
   "outputs": [],
   "source": [
    "import matplotlib.pyplot as plt\n",
    "import pandas as pd\n",
    "import numpy as np\n",
    "import ruptures as rpt\n",
    "import os, random, time\n",
    "\n",
    "# choose a job\n",
    "def list_jobs(dataset_path = \"C:\\\\Users\\\\a770398\\\\IO-SEA\\\\io-sea-3.4-analytics\\\\dataset_generation\\\\dataset_generation\"):\n",
    "    job_files = []\n",
    "    job_ids = []\n",
    "    dataset = []\n",
    "    for root, dirs, files in os.walk(dataset_path):\n",
    "        for csv_file in files:\n",
    "            if csv_file.endswith(\".csv\"):\n",
    "                job_files.append(os.path.join(root, csv_file))\n",
    "                job_ids.append(csv_file.split(\"_\")[-1].split(\".csv\")[0])\n",
    "                dataset.append(os.path.split(root)[-1])\n",
    "    return job_files, job_ids, dataset\n",
    "job_files, job_ids, datasets = list_jobs()\n"
   ]
  },
  {
   "cell_type": "markdown",
   "metadata": {},
   "source": [
    "Benchmarking offline algos"
   ]
  },
  {
   "cell_type": "code",
   "execution_count": null,
   "metadata": {},
   "outputs": [],
   "source": [
    "df = pd.DataFrame(columns=[\"dataset\", \"jobid\", \"timeserie\", \"signal_length\", \"n_brkpts\",\n",
    "                           \"algo_name\", \"cost_function\", \"loss\", \"penalty\", \"computation_time\"])\n",
    "\n",
    "job_files, job_ids, datasets = list_jobs()\n",
    "for job_file, job_id, dataset in zip(job_files[0:2], job_ids[0:2], datasets[0:2]):\n",
    "    df_signal = pd.read_csv(job_file, index_col=0)\n",
    "    for ts in [\"bytesWritten\", \"bytesRead\"]:\n",
    "        signal = df_signal[[ts]].to_numpy()\n",
    "        signal_dim = signal.shape[1]\n",
    "\n",
    "        # define costs\n",
    "        costs = [rpt.costs.CostL1(), rpt.costs.CostL2(), rpt.costs.CostNormal(), rpt.costs.CostLinear(),\n",
    "                rpt.costs.CostCLinear(), rpt.costs.CostAR(order=3), rpt.costs.CostMl(metric=np.eye(signal_dim)), rpt.costs.CostRank()]\n",
    "        costs_names = [\"L1\", \"L2\", \"Gauss\", \"Linear\", \"Clinear\", \"AR\", \"Mala\", \"Rank\"]\n",
    "\n",
    "        # algos = [rpt.Pelt(custom_cost=cost, min_size=2), rpt.Binseg(custom_cost=cost),\n",
    "        #          rpt.BottomUp(custom_cost=cost), rpt.Window(custom_cost=cost, width=10)]\n",
    "\n",
    "        algos = [rpt.Pelt, rpt.Binseg, rpt.BottomUp, rpt.Window]\n",
    "\n",
    "        algos_names = [\"Pelt\", \"Binseg\", \"Botup\", \"Wind\"]\n",
    "\n",
    "        penalties = np.logspace(-3, 3, num=6).tolist()\n",
    "# [\"dataset\", \"jobid\", \"timeserie\", \"signal_length\", \"n_brkpts\",\n",
    "#                            \"algo_name\", \"cost_function\", \"loss\", \"penalty\", \"computation_time\"]\n",
    "        for algo, algo_name in zip(algos[0:2], algos_names[0:2]):\n",
    "            for cost, costs_name in zip(costs[0:2], costs_names[0:2]):\n",
    "                for pen in penalties[0:2]:\n",
    "                    try:\n",
    "                        start_time = time.time()\n",
    "                        result = algo(custom_cost=cost, min_size=2).fit_predict(signal, pen)\n",
    "                        duration = time.time() - start_time\n",
    "                        n_brkpts = len(result) - 1\n",
    "                        loss = cost.sum_of_costs(result)\n",
    "                        df = df.append({\"dataset\": dataset,\n",
    "                                        \"jobid\": job_id,\n",
    "                                        \"timeserie\": ts,\n",
    "                                        \"signal_length\": signal.shape[0],\n",
    "                                        \"n_brkpts\": n_brkpts,\n",
    "                                        \"algo_name\": algo_name,\n",
    "                                        \"cost_function\": costs_name,\n",
    "                                        \"loss\": loss,\n",
    "                                        \"penalty\": pen,\n",
    "                                        \"computation_time\": duration,\n",
    "                                        },\n",
    "                                    ignore_index=True)\n",
    "                    except:\n",
    "                        pass\n",
    "                \n",
    "df.to_csv(\"_\".join(algos_names) + \"_bench.csv\")"
   ]
  },
  {
   "cell_type": "code",
   "execution_count": null,
   "metadata": {},
   "outputs": [],
   "source": [
    "df.head()"
   ]
  },
  {
   "cell_type": "markdown",
   "metadata": {},
   "source": [
    "Visualize some jobs\n"
   ]
  },
  {
   "cell_type": "code",
   "execution_count": null,
   "metadata": {},
   "outputs": [],
   "source": [
    "job_files = []\n",
    "dataset_path = \"C:\\\\Users\\\\a770398\\\\IO-SEA\\\\io-sea-3.4-analytics\\\\dataset_generation\\\\dataset_generation\"\n",
    "for root, dirs, files in os.walk(dataset_path):\n",
    "    for csv_file in files:\n",
    "        if csv_file.endswith(\".csv\"):\n",
    "            job_files.append(os.path.join(root, csv_file))\n",
    "        \n",
    "# csv_file = os.path.join(\"C:\\\\Users\\\\a770398\\IO-SEA\\io-sea-3.4-analytics\\\\dataset_generation\\\\dataset_generation\\\\dataset_oth_db\\\\job_1272.csv\")\n",
    "\n",
    "csv_file = random.choice(job_files)"
   ]
  },
  {
   "cell_type": "code",
   "execution_count": 337,
   "metadata": {},
   "outputs": [
    {
     "name": "stdout",
     "output_type": "stream",
     "text": [
      "loss = 4.271078373412319e+18\n",
      "len(breakpoints) = 138\n"
     ]
    },
    {
     "data": {
      "image/png": "[encoded data removed]",
      "text/plain": [
       "<Figure size 864x360 with 1 Axes>"
      ]
     },
     "metadata": {},
     "output_type": "display_data"
    },
    {
     "data": {
      "image/png": "[encoded data removed]",
      "text/plain": [
       "<Figure size 720x144 with 1 Axes>"
      ]
     },
     "metadata": {},
     "output_type": "display_data"
    }
   ],
   "source": [
    "import os, random\n",
    "import numpy as np\n",
    "import pandas as pd\n",
    "import simpy\n",
    "import os, random\n",
    "import ruptures as rpt\n",
    "import matplotlib.pyplot as plt\n",
    "import plotly.express as px\n",
    "import plotly.graph_objects as go\n",
    "\n",
    "def plot_job_phases(x, signal, breakpoints):\n",
    "    \n",
    "    x = ((np.array(x) - x[0])/5).tolist()\n",
    "    plt.rcParams[\"figure.figsize\"] = (12, 5)\n",
    "    plt.rcParams['figure.facecolor'] = 'gray'\n",
    "    \n",
    "    plt.plot(x, signal, lw=2, label=\"IO\")            \n",
    "    for i_brk, brk in enumerate(breakpoints[:-1]): #avoid last point\n",
    "        if i_brk % 2 == 0: # opening point\n",
    "            plt.plot(x[brk], signal[brk], '>g')\n",
    "        else:\n",
    "            plt.plot(x[brk], signal[brk], '<r')\n",
    "    plt.grid(True)\n",
    "    plt.show()\n",
    "    \n",
    "def plot_job_phases2(x, signal, breakpoints):\n",
    "    signal = np.array(signal)    \n",
    "    x = ((np.array(x) - x[0])/5).tolist()\n",
    "    fig, ax = rpt.display(signal, breakpoints)\n",
    "    ax[0].plot(x, signal, lw=2, label=\"IO\", color='k')      \n",
    "    \n",
    "    for i_brk, brk in enumerate(breakpoints[:-1]): #avoid last point\n",
    "        if i_brk % 2 == 0: # opening point\n",
    "            ax[0].plot(x[brk], signal[brk], '>g')\n",
    "        else:\n",
    "            ax[0].plot(x[brk], signal[brk], '<r')\n",
    "    plt.grid(True)\n",
    "    plt.show()\n",
    "\n",
    "\n",
    "\n",
    "df = pd.read_csv(csv_file, index_col=0)\n",
    "signal = df[[\"bytesWritten\"]].to_numpy().tolist()\n",
    "x = df[[\"timestamp\"]].to_numpy().tolist()\n",
    "# executin algo on signal\n",
    "# rpt.costs.CostL1(), rpt.costs.CostL2(), rpt.costs.CostNormal(), rpt.costs.CostLinear()\n",
    "# rpt.costs.CostAR(order=10), rpt.costs.CostMl(metric=np.eye(1)), rpt.costs.CostRank()]:\n",
    "cost = rpt.costs.CostL2()\n",
    "breakpoints = rpt.Pelt(custom_cost=cost).fit(df[[\"bytesWritten\"]].to_numpy()).predict(pen=1)\n",
    "loss = cost.sum_of_costs(breakpoints)\n",
    "print(f\"{loss = }\")\n",
    "print(f\"{len(breakpoints) = }\")\n",
    "#pelt_result = rpt.Pelt(model=\"rbf\", min_size=3).fit(signal).predict(pen=0.1)\n",
    "#print(cost.fit(signal).error(0, len(signal)))\n",
    "\n",
    "    \n",
    "plot_job_phases(x, signal, breakpoints)\n",
    "plot_job_phases2(x, signal, breakpoints)\n"
   ]
  },
  {
   "cell_type": "markdown",
   "metadata": {},
   "source": [
    "\n",
    "Visualize from bench file"
   ]
  },
  {
   "cell_type": "code",
   "execution_count": 203,
   "metadata": {},
   "outputs": [
    {
     "name": "stdout",
     "output_type": "stream",
     "text": [
      "retrieving C:\\Users\\a770398\\IO-SEA\\io-sea-3.4-analytics\\dataset_generation\\dataset_generation\\dataset_oth_db\\job_1391.csv\n"
     ]
    }
   ],
   "source": [
    "def get_df_by_job_id(job_id=1391):\n",
    "    job_files, job_ids, datasets = list_jobs()\n",
    "    csv_file = job_files[job_ids.index(str(job_id))]\n",
    "    print(f\"retrieving {csv_file}\")\n",
    "    return pd.read_csv(csv_file, index_col=0)\n",
    "\n",
    "\n",
    "df = get_df_by_job_id()"
   ]
  },
  {
   "cell_type": "code",
   "execution_count": 192,
   "metadata": {},
   "outputs": [],
   "source": [
    "   \n",
    "\n",
    "def plot_bench_decomposition(bench_file=\"Pelt_Binseg_Botup_Wind_bench.csv\", idx=0):\n",
    "        \n",
    "\n",
    "    bench_df = pd.read_csv(bench_file, index_col=0)\n",
    "\n",
    "    algos = [rpt.Pelt, rpt.Binseg, rpt.BottomUp, rpt.Window]\n",
    "    algos_names = [\"Pelt\", \"Binseg\", \"Botup\", \"Wind\"]\n",
    "    # define costs\n",
    "    costs = [rpt.costs.CostL1(), rpt.costs.CostL2(), rpt.costs.CostNormal(), rpt.costs.CostLinear(),\n",
    "            rpt.costs.CostCLinear(), rpt.costs.CostAR(order=3), rpt.costs.CostMl(metric=np.eye(1)), rpt.costs.CostRank()]\n",
    "    costs_names = [\"L1\", \"L2\", \"Gauss\", \"Linear\", \"Clinear\", \"AR\", \"Mala\", \"Rank\"]\n",
    "\n",
    "    #df.iloc[idx][\"jobid\"]\n",
    "    algo = algos[algos_names.index(bench_df.iloc[idx][\"algo_name\"])]\n",
    "    cost = costs[costs_names.index(bench_df.iloc[idx][\"cost_function\"])]\n",
    "    penalty = bench_df.iloc[idx][\"penalty\"]\n",
    "    timeserie = bench_df.iloc[idx][\"timeserie\"]\n",
    "\n",
    "    job_files, job_ids, datasets = list_jobs()\n",
    "    str_jobid = str(bench_df.iloc[idx][\"jobid\"])\n",
    "    print(f\"{algo = }\")\n",
    "    print(f\"{cost = }\")\n",
    "    csv_file = job_files[job_ids.index(str_jobid)]\n",
    "    print(f\"{csv_file = }\")\n",
    "    df = pd.read_csv(csv_file, index_col=0)\n",
    "\n",
    "    signal = df[[timeserie]].to_numpy().tolist()\n",
    "    x = df[[\"timestamp\"]].to_numpy().tolist()\n",
    "    print(f\"length of signal = {len(signal)}\")\n",
    "    breakpoints = algo(custom_cost=cost, min_size=1, jump=1).fit_predict(df[[timeserie]].to_numpy(), pen=penalty)\n",
    "    loss = cost.sum_of_costs(breakpoints)\n",
    "    print(f\"{penalty = }\")\n",
    "    print(f\"{loss = }\")\n",
    "    print(f\"number of breakpoints = {len(breakpoints)-1}\")\n",
    "        \n",
    "    plot_job_phases(x, signal, breakpoints)"
   ]
  },
  {
   "cell_type": "code",
   "execution_count": 158,
   "metadata": {},
   "outputs": [
    {
     "name": "stdout",
     "output_type": "stream",
     "text": [
      "algo = <class 'ruptures.detection.binseg.Binseg'>\n",
      "cost = <ruptures.costs.costl1.CostL1 object at 0x000001A9F5C4D8E0>\n",
      "csv_file = 'C:\\\\Users\\\\a770398\\\\IO-SEA\\\\io-sea-3.4-analytics\\\\dataset_generation\\\\dataset_generation\\\\dataset_oth_db\\\\job_1391.csv'\n",
      "length of signal = 1526\n",
      "penalty = 100.0\n",
      "loss = 427064607141.0\n",
      "number of breakpoints = 56\n"
     ]
    },
    {
     "data": {
      "image/png": "[encoded data removed]",
      "text/plain": [
       "<Figure size 864x360 with 1 Axes>"
      ]
     },
     "metadata": {},
     "output_type": "display_data"
    }
   ],
   "source": [
    "plot_bench_decomposition(\"simple_bench_oth_db.csv\", idx=19)"
   ]
  },
  {
   "cell_type": "code",
   "execution_count": null,
   "metadata": {},
   "outputs": [],
   "source": [
    "df.head()"
   ]
  },
  {
   "cell_type": "code",
   "execution_count": null,
   "metadata": {},
   "outputs": [],
   "source": []
  },
  {
   "cell_type": "code",
   "execution_count": 183,
   "metadata": {},
   "outputs": [
    {
     "data": {
      "text/html": [
       "<div>\n",
       "<style scoped>\n",
       "    .dataframe tbody tr th:only-of-type {\n",
       "        vertical-align: middle;\n",
       "    }\n",
       "\n",
       "    .dataframe tbody tr th {\n",
       "        vertical-align: top;\n",
       "    }\n",
       "\n",
       "    .dataframe thead th {\n",
       "        text-align: right;\n",
       "    }\n",
       "</style>\n",
       "<table border=\"1\" class=\"dataframe\">\n",
       "  <thead>\n",
       "    <tr style=\"text-align: right;\">\n",
       "      <th></th>\n",
       "      <th>dataset</th>\n",
       "      <th>jobid</th>\n",
       "      <th>timeserie</th>\n",
       "      <th>signal_length</th>\n",
       "      <th>n_brkpts</th>\n",
       "      <th>algo_name</th>\n",
       "      <th>cost_function</th>\n",
       "      <th>loss</th>\n",
       "      <th>penalty</th>\n",
       "      <th>computation_time</th>\n",
       "      <th>score</th>\n",
       "    </tr>\n",
       "  </thead>\n",
       "  <tbody>\n",
       "    <tr>\n",
       "      <th>7</th>\n",
       "      <td>dataset_oth_db</td>\n",
       "      <td>1391</td>\n",
       "      <td>bytesWritten</td>\n",
       "      <td>1526</td>\n",
       "      <td>312</td>\n",
       "      <td>Pelt</td>\n",
       "      <td>L2</td>\n",
       "      <td>2.339647e+17</td>\n",
       "      <td>0.001</td>\n",
       "      <td>13.499907</td>\n",
       "      <td>7.498869e+14</td>\n",
       "    </tr>\n",
       "    <tr>\n",
       "      <th>8</th>\n",
       "      <td>dataset_oth_db</td>\n",
       "      <td>1391</td>\n",
       "      <td>bytesWritten</td>\n",
       "      <td>1526</td>\n",
       "      <td>312</td>\n",
       "      <td>Pelt</td>\n",
       "      <td>L2</td>\n",
       "      <td>2.339647e+17</td>\n",
       "      <td>0.010</td>\n",
       "      <td>13.469675</td>\n",
       "      <td>7.498869e+14</td>\n",
       "    </tr>\n",
       "    <tr>\n",
       "      <th>9</th>\n",
       "      <td>dataset_oth_db</td>\n",
       "      <td>1391</td>\n",
       "      <td>bytesWritten</td>\n",
       "      <td>1526</td>\n",
       "      <td>312</td>\n",
       "      <td>Pelt</td>\n",
       "      <td>L2</td>\n",
       "      <td>2.339647e+17</td>\n",
       "      <td>0.100</td>\n",
       "      <td>13.486572</td>\n",
       "      <td>7.498869e+14</td>\n",
       "    </tr>\n",
       "    <tr>\n",
       "      <th>10</th>\n",
       "      <td>dataset_oth_db</td>\n",
       "      <td>1391</td>\n",
       "      <td>bytesWritten</td>\n",
       "      <td>1526</td>\n",
       "      <td>312</td>\n",
       "      <td>Pelt</td>\n",
       "      <td>L2</td>\n",
       "      <td>2.339647e+17</td>\n",
       "      <td>1.000</td>\n",
       "      <td>13.514378</td>\n",
       "      <td>7.498869e+14</td>\n",
       "    </tr>\n",
       "    <tr>\n",
       "      <th>11</th>\n",
       "      <td>dataset_oth_db</td>\n",
       "      <td>1391</td>\n",
       "      <td>bytesWritten</td>\n",
       "      <td>1526</td>\n",
       "      <td>312</td>\n",
       "      <td>Pelt</td>\n",
       "      <td>L2</td>\n",
       "      <td>2.339647e+17</td>\n",
       "      <td>10.000</td>\n",
       "      <td>13.507745</td>\n",
       "      <td>7.498869e+14</td>\n",
       "    </tr>\n",
       "    <tr>\n",
       "      <th>12</th>\n",
       "      <td>dataset_oth_db</td>\n",
       "      <td>1391</td>\n",
       "      <td>bytesWritten</td>\n",
       "      <td>1526</td>\n",
       "      <td>312</td>\n",
       "      <td>Pelt</td>\n",
       "      <td>L2</td>\n",
       "      <td>2.339647e+17</td>\n",
       "      <td>100.000</td>\n",
       "      <td>13.479510</td>\n",
       "      <td>7.498869e+14</td>\n",
       "    </tr>\n",
       "    <tr>\n",
       "      <th>13</th>\n",
       "      <td>dataset_oth_db</td>\n",
       "      <td>1391</td>\n",
       "      <td>bytesWritten</td>\n",
       "      <td>1526</td>\n",
       "      <td>312</td>\n",
       "      <td>Pelt</td>\n",
       "      <td>L2</td>\n",
       "      <td>2.339647e+17</td>\n",
       "      <td>1000.000</td>\n",
       "      <td>13.494992</td>\n",
       "      <td>7.498869e+14</td>\n",
       "    </tr>\n",
       "    <tr>\n",
       "      <th>25</th>\n",
       "      <td>dataset_oth_db</td>\n",
       "      <td>1391</td>\n",
       "      <td>bytesWritten</td>\n",
       "      <td>1526</td>\n",
       "      <td>100</td>\n",
       "      <td>Binseg</td>\n",
       "      <td>L2</td>\n",
       "      <td>4.970630e+17</td>\n",
       "      <td>100.000</td>\n",
       "      <td>1.736205</td>\n",
       "      <td>4.970630e+15</td>\n",
       "    </tr>\n",
       "    <tr>\n",
       "      <th>24</th>\n",
       "      <td>dataset_oth_db</td>\n",
       "      <td>1391</td>\n",
       "      <td>bytesWritten</td>\n",
       "      <td>1526</td>\n",
       "      <td>10</td>\n",
       "      <td>Binseg</td>\n",
       "      <td>L2</td>\n",
       "      <td>5.042211e+17</td>\n",
       "      <td>10.000</td>\n",
       "      <td>1.150302</td>\n",
       "      <td>5.042211e+16</td>\n",
       "    </tr>\n",
       "    <tr>\n",
       "      <th>20</th>\n",
       "      <td>dataset_oth_db</td>\n",
       "      <td>1391</td>\n",
       "      <td>bytesWritten</td>\n",
       "      <td>1526</td>\n",
       "      <td>1</td>\n",
       "      <td>Binseg</td>\n",
       "      <td>L2</td>\n",
       "      <td>2.818804e+20</td>\n",
       "      <td>0.001</td>\n",
       "      <td>0.445304</td>\n",
       "      <td>2.818804e+20</td>\n",
       "    </tr>\n",
       "    <tr>\n",
       "      <th>21</th>\n",
       "      <td>dataset_oth_db</td>\n",
       "      <td>1391</td>\n",
       "      <td>bytesWritten</td>\n",
       "      <td>1526</td>\n",
       "      <td>1</td>\n",
       "      <td>Binseg</td>\n",
       "      <td>L2</td>\n",
       "      <td>2.818804e+20</td>\n",
       "      <td>0.010</td>\n",
       "      <td>0.445534</td>\n",
       "      <td>2.818804e+20</td>\n",
       "    </tr>\n",
       "    <tr>\n",
       "      <th>22</th>\n",
       "      <td>dataset_oth_db</td>\n",
       "      <td>1391</td>\n",
       "      <td>bytesWritten</td>\n",
       "      <td>1526</td>\n",
       "      <td>1</td>\n",
       "      <td>Binseg</td>\n",
       "      <td>L2</td>\n",
       "      <td>2.818804e+20</td>\n",
       "      <td>0.100</td>\n",
       "      <td>0.445256</td>\n",
       "      <td>2.818804e+20</td>\n",
       "    </tr>\n",
       "    <tr>\n",
       "      <th>23</th>\n",
       "      <td>dataset_oth_db</td>\n",
       "      <td>1391</td>\n",
       "      <td>bytesWritten</td>\n",
       "      <td>1526</td>\n",
       "      <td>1</td>\n",
       "      <td>Binseg</td>\n",
       "      <td>L2</td>\n",
       "      <td>2.818804e+20</td>\n",
       "      <td>1.000</td>\n",
       "      <td>0.445755</td>\n",
       "      <td>2.818804e+20</td>\n",
       "    </tr>\n",
       "  </tbody>\n",
       "</table>\n",
       "</div>"
      ],
      "text/plain": [
       "           dataset  jobid     timeserie  signal_length  n_brkpts algo_name  \\\n",
       "7   dataset_oth_db   1391  bytesWritten           1526       312      Pelt   \n",
       "8   dataset_oth_db   1391  bytesWritten           1526       312      Pelt   \n",
       "9   dataset_oth_db   1391  bytesWritten           1526       312      Pelt   \n",
       "10  dataset_oth_db   1391  bytesWritten           1526       312      Pelt   \n",
       "11  dataset_oth_db   1391  bytesWritten           1526       312      Pelt   \n",
       "12  dataset_oth_db   1391  bytesWritten           1526       312      Pelt   \n",
       "13  dataset_oth_db   1391  bytesWritten           1526       312      Pelt   \n",
       "25  dataset_oth_db   1391  bytesWritten           1526       100    Binseg   \n",
       "24  dataset_oth_db   1391  bytesWritten           1526        10    Binseg   \n",
       "20  dataset_oth_db   1391  bytesWritten           1526         1    Binseg   \n",
       "21  dataset_oth_db   1391  bytesWritten           1526         1    Binseg   \n",
       "22  dataset_oth_db   1391  bytesWritten           1526         1    Binseg   \n",
       "23  dataset_oth_db   1391  bytesWritten           1526         1    Binseg   \n",
       "\n",
       "   cost_function          loss   penalty  computation_time         score  \n",
       "7             L2  2.339647e+17     0.001         13.499907  7.498869e+14  \n",
       "8             L2  2.339647e+17     0.010         13.469675  7.498869e+14  \n",
       "9             L2  2.339647e+17     0.100         13.486572  7.498869e+14  \n",
       "10            L2  2.339647e+17     1.000         13.514378  7.498869e+14  \n",
       "11            L2  2.339647e+17    10.000         13.507745  7.498869e+14  \n",
       "12            L2  2.339647e+17   100.000         13.479510  7.498869e+14  \n",
       "13            L2  2.339647e+17  1000.000         13.494992  7.498869e+14  \n",
       "25            L2  4.970630e+17   100.000          1.736205  4.970630e+15  \n",
       "24            L2  5.042211e+17    10.000          1.150302  5.042211e+16  \n",
       "20            L2  2.818804e+20     0.001          0.445304  2.818804e+20  \n",
       "21            L2  2.818804e+20     0.010          0.445534  2.818804e+20  \n",
       "22            L2  2.818804e+20     0.100          0.445256  2.818804e+20  \n",
       "23            L2  2.818804e+20     1.000          0.445755  2.818804e+20  "
      ]
     },
     "execution_count": 183,
     "metadata": {},
     "output_type": "execute_result"
    }
   ],
   "source": [
    "bench_df = pd.read_csv(\"simple_bench_oth_db.csv\", index_col=0)\n",
    "l2_df = bench_df[bench_df[\"cost_function\"].isin([\"L2\"])]\n",
    "l2_df = l2_df[l2_df[\"dataset\"].isin([\"dataset_oth_db\"])]\n",
    "l2_df.head()\n",
    "l2_df[\"score\"] = l2_df[\"loss\"] / l2_df[\"n_brkpts\"]\n",
    "l2_df.sort_values(by=[\"score\"], inplace=True)\n",
    "l2_df.head(n=40)"
   ]
  },
  {
   "cell_type": "code",
   "execution_count": 184,
   "metadata": {},
   "outputs": [
    {
     "name": "stderr",
     "output_type": "stream",
     "text": [
      "c:\\Users\\a770398\\AppData\\Local\\Continuum\\anaconda3\\envs\\iosea-venv\\lib\\site-packages\\ruptures\\costs\\costnormal.py:28: UserWarning:\n",
      "\n",
      "New behaviour in v1.1.5: a small bias is added to the covariance matrix to cope with truly constant segments (see PR#198).\n",
      "\n"
     ]
    },
    {
     "name": "stdout",
     "output_type": "stream",
     "text": [
      "algo = <class 'ruptures.detection.binseg.Binseg'>\n",
      "cost = <ruptures.costs.costl2.CostL2 object at 0x000001A9F6202580>\n",
      "csv_file = 'C:\\\\Users\\\\a770398\\\\IO-SEA\\\\io-sea-3.4-analytics\\\\dataset_generation\\\\dataset_generation\\\\dataset_oth_db\\\\job_1391.csv'\n",
      "length of signal = 1526\n",
      "penalty = 0.015848931924611134\n",
      "loss = 4.969927705713653e+17\n",
      "number of breakpoints = 195\n"
     ]
    },
    {
     "data": {
      "image/png": "[encoded data removed]",
      "text/plain": [
       "<Figure size 864x360 with 1 Axes>"
      ]
     },
     "metadata": {},
     "output_type": "display_data"
    }
   ],
   "source": [
    "plot_bench_decomposition(idx=24)"
   ]
  },
  {
   "cell_type": "markdown",
   "metadata": {},
   "source": [
    "Elbow method"
   ]
  },
  {
   "cell_type": "code",
   "execution_count": 340,
   "metadata": {},
   "outputs": [
    {
     "name": "stdout",
     "output_type": "stream",
     "text": [
      "retrieving C:\\Users\\a770398\\IO-SEA\\io-sea-3.4-analytics\\dataset_generation\\dataset_generation\\dataset_oth_db\\job_1439.csv\n",
      "len(signal) = 1536\n",
      "n_bkps_max = 39\n",
      "True\n",
      "array_of_n_bkps = array([ 1,  2,  3,  4,  5,  6,  7,  8,  9, 10, 11, 12, 13, 14, 15, 16, 17,\n",
      "       18, 19, 20, 21, 22, 23, 24, 25, 26, 27, 28, 29, 30, 31, 32, 33, 34,\n",
      "       35, 36, 37, 38, 39])\n",
      "costs = [nan, nan, nan, nan, nan, nan, nan, nan, nan, nan, nan, nan, nan, nan, nan, nan, nan, nan, nan, nan, nan, nan, nan, nan, nan, nan, nan, nan, nan, nan, nan, nan, nan, nan, nan, nan, nan, nan, nan]\n",
      "optimal_n_breakpoints = 39\n",
      "costs = [nan, nan, nan, nan, nan, nan, nan, nan, nan, nan, nan, nan, nan, nan, nan, nan, nan, nan, nan, nan, nan, nan, nan, nan, nan, nan, nan, nan, nan, nan, nan, nan, nan, nan, nan, nan, nan, nan, nan]\n",
      "optimal_cost = nan\n"
     ]
    },
    {
     "name": "stderr",
     "output_type": "stream",
     "text": [
      "c:\\Users\\a770398\\AppData\\Local\\Continuum\\anaconda3\\envs\\iosea-venv\\lib\\site-packages\\scipy\\signal\\_peak_finding.py:74: RuntimeWarning:\n",
      "\n",
      "invalid value encountered in greater_equal\n",
      "\n",
      "c:\\Users\\a770398\\AppData\\Local\\Continuum\\anaconda3\\envs\\iosea-venv\\lib\\site-packages\\scipy\\signal\\_peak_finding.py:75: RuntimeWarning:\n",
      "\n",
      "invalid value encountered in greater_equal\n",
      "\n",
      "c:\\Users\\a770398\\AppData\\Local\\Continuum\\anaconda3\\envs\\iosea-venv\\lib\\site-packages\\scipy\\signal\\_peak_finding.py:74: RuntimeWarning:\n",
      "\n",
      "invalid value encountered in less_equal\n",
      "\n",
      "c:\\Users\\a770398\\AppData\\Local\\Continuum\\anaconda3\\envs\\iosea-venv\\lib\\site-packages\\scipy\\signal\\_peak_finding.py:75: RuntimeWarning:\n",
      "\n",
      "invalid value encountered in less_equal\n",
      "\n",
      "c:\\Users\\a770398\\AppData\\Local\\Continuum\\anaconda3\\envs\\iosea-venv\\lib\\site-packages\\kneed\\knee_locator.py:237: RuntimeWarning:\n",
      "\n",
      "No local maxima found in the difference curve\n",
      "The line is probably not polynomial, try plotting\n",
      "the difference curve with plt.plot(knee.x_difference, knee.y_difference)\n",
      "Also check that you aren't mistakenly setting the curve argument\n",
      "\n"
     ]
    },
    {
     "data": {
      "image/png": "[encoded data removed]",
      "text/plain": [
       "<Figure size 720x144 with 1 Axes>"
      ]
     },
     "metadata": {},
     "output_type": "display_data"
    }
   ],
   "source": [
    "import ruptures as rpt\n",
    "from kneed import KneeLocator\n",
    "\n",
    "df = get_df_by_job_id(job_id=1439)\n",
    "signal = df[[\"bytesWritten\"]].to_numpy()\n",
    "x = df[[\"timestamp\"]].to_numpy().tolist()\n",
    "# generate signal\n",
    "print(f\"{len(signal) = }\")\n",
    "algo = rpt.KernelCPD(kernel=\"rbf\", min_size=1).fit(signal)\n",
    "n_bkps_max = int((np.sqrt(len(signal))))\n",
    "print(f\"{n_bkps_max = }\")\n",
    "# check sanity\n",
    "print(rpt.utils.sanity_check(len(signal), n_bkps_max, 1, 1))\n",
    "\n",
    "# segment\n",
    "_ = algo.predict(n_bkps_max)\n",
    "\n",
    "\n",
    "array_of_n_bkps = np.arange(1, n_bkps_max + 1)\n",
    "\n",
    "def get_sum_of_cost(algo, n_bkps) -> float:\n",
    "    \"\"\"Return the sum of costs for the change points `bkps`\"\"\"\n",
    "    bkps = algo.predict(n_bkps=n_bkps)\n",
    "    return algo.cost.sum_of_costs(bkps)\n",
    "\n",
    "costs = [np.abs(get_sum_of_cost(algo=algo, n_bkps=n_bkps)) for n_bkps in array_of_n_bkps]\n",
    "print(f\"{array_of_n_bkps = }\")\n",
    "print(f\"{costs = }\")\n",
    "elbow = KneeLocator(array_of_n_bkps, costs, S= 1,\n",
    "                         curve=\"convex\",  direction=\"decreasing\").elbow\n",
    "\n",
    "optimal_n_breakpoints = elbow if elbow else n_bkps_max\n",
    "\n",
    "print(f\"{optimal_n_breakpoints = }\")\n",
    "print(f\"{costs = }\")\n",
    "optimal_breakpoints = algo.predict(n_bkps=optimal_n_breakpoints)\n",
    "optimal_cost = costs[array_of_n_bkps.tolist().index(optimal_n_breakpoints)]\n",
    "print(f\"{optimal_cost = }\")\n",
    "plot_job_phases2(x, signal, optimal_breakpoints)\n",
    "#rpt.display(signal, optimal_breakpoints)\n",
    "#plt.grid(True)\n",
    "#plt.show()\n"
   ]
  },
  {
   "cell_type": "markdown",
   "metadata": {},
   "source": [
    "Using an encapsulated function"
   ]
  },
  {
   "cell_type": "code",
   "execution_count": 348,
   "metadata": {},
   "outputs": [
    {
     "name": "stdout",
     "output_type": "stream",
     "text": [
      "retrieving C:\\Users\\a770398\\IO-SEA\\io-sea-3.4-analytics\\dataset_generation\\dataset_generation\\dataset_oth_db\\job_1439.csv\n",
      "optimal_n_breakpoints = 6\n",
      "optimal_cost = 2.5288484590467517e+17\n"
     ]
    },
    {
     "data": {
      "image/png": "[encoded data removed]",
      "text/plain": [
       "<Figure size 720x144 with 1 Axes>"
      ]
     },
     "metadata": {},
     "output_type": "display_data"
    }
   ],
   "source": [
    "import ruptures as rpt\n",
    "from kneed import KneeLocator\n",
    "\n",
    "df = get_df_by_job_id(job_id=1439)\n",
    "signal = df[[\"bytesWritten\"]].to_numpy()\n",
    "x = df[[\"timestamp\"]].to_numpy().tolist()\n",
    "\n",
    "def get_sum_of_cost(algo, n_bkps) -> float:\n",
    "    \"\"\"Return the sum of costs for the change points `bkps`\"\"\"\n",
    "    bkps = algo.predict(n_bkps=n_bkps)\n",
    "    return algo.cost.sum_of_costs(bkps)\n",
    "\n",
    "def get_optimal_breakpoints(signal, algo=rpt.KernelCPD, kernel=\"linear\"):\n",
    "    initialized_algo = algo(kernel=kernel, min_size=1).fit(signal)\n",
    "    n_bkps_max = int((np.sqrt(len(signal))))\n",
    "    # segment\n",
    "    _ = initialized_algo.predict(n_bkps_max)\n",
    "    array_of_n_bkps = np.arange(1, n_bkps_max + 1)\n",
    "    costs = [get_sum_of_cost(algo=initialized_algo, n_bkps=n_bkps) for n_bkps in array_of_n_bkps]\n",
    "    elbow = KneeLocator(array_of_n_bkps, costs, S= 1,\n",
    "                         curve=\"convex\",  direction=\"decreasing\").elbow\n",
    "    optimal_n_breakpoints = elbow if elbow else n_bkps_max\n",
    "    optimal_breakpoints = initialized_algo.predict(n_bkps=optimal_n_breakpoints)\n",
    "    optimal_cost = costs[array_of_n_bkps.tolist().index(optimal_n_breakpoints)]\n",
    "    \n",
    "    return optimal_n_breakpoints, optimal_breakpoints, optimal_cost\n",
    "\n",
    "\n",
    "algo = rpt.KernelCPD\n",
    "optimal_n_breakpoints, optimal_breakpoints, optimal_cost = get_optimal_breakpoints(signal)\n",
    "\n",
    "\n",
    "\n",
    "\n",
    "\n",
    "print(f\"{optimal_n_breakpoints = }\")\n",
    "print(f\"{optimal_cost = }\")\n",
    "plot_job_phases2(x, signal, optimal_breakpoints)\n",
    "#rpt.display(signal, optimal_breakpoints)\n",
    "#plt.grid(True)\n",
    "#plt.show()\n"
   ]
  }
 ],
 "metadata": {
  "kernelspec": {
   "display_name": "Python 3.8.13 ('iosea-venv')",
   "language": "python",
   "name": "python3"
  },
  "language_info": {
   "codemirror_mode": {
    "name": "ipython",
    "version": 3
   },
   "file_extension": ".py",
   "mimetype": "text/x-python",
   "name": "python",
   "nbconvert_exporter": "python",
   "pygments_lexer": "ipython3",
   "version": "3.8.13"
  },
  "orig_nbformat": 4,
  "vscode": {
   "interpreter": {
    "hash": "c87beb4c7de1fcbf6155f8da331fc04a584374d4c389d75c2ece6a4f03553c96"
   }
  }
 },
 "nbformat": 4,
 "nbformat_minor": 2
}
