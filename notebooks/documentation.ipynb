{
 "cells": [
  {
   "cell_type": "code",
   "execution_count": 19,
   "metadata": {},
   "outputs": [
    {
     "ename": "ModuleNotFoundError",
     "evalue": "No module named 'cluster_simulator'",
     "output_type": "error",
     "traceback": [
      "\u001b[1;31m---------------------------------------------------------------------------\u001b[0m",
      "\u001b[1;31mModuleNotFoundError\u001b[0m                       Traceback (most recent call last)",
      "\u001b[1;32mc:\\Users\\a770398\\IO-SEA\\io-sea-3.4-analytics\\notebooks\\documentation.ipynb Cell 1'\u001b[0m in \u001b[0;36m<cell line: 6>\u001b[1;34m()\u001b[0m\n\u001b[0;32m      <a href='vscode-notebook-cell:/c%3A/Users/a770398/IO-SEA/io-sea-3.4-analytics/notebooks/documentation.ipynb#ch0000000?line=3'>4</a>\u001b[0m \u001b[39mfrom\u001b[39;00m \u001b[39mcluster\u001b[39;00m \u001b[39mimport\u001b[39;00m Cluster\n\u001b[0;32m      <a href='vscode-notebook-cell:/c%3A/Users/a770398/IO-SEA/io-sea-3.4-analytics/notebooks/documentation.ipynb#ch0000000?line=4'>5</a>\u001b[0m \u001b[39mfrom\u001b[39;00m \u001b[39mcluster\u001b[39;00m \u001b[39mimport\u001b[39;00m Cluster, Tier, bandwidth_share_model, compute_share_model, get_tier, convert_size\n\u001b[1;32m----> <a href='vscode-notebook-cell:/c%3A/Users/a770398/IO-SEA/io-sea-3.4-analytics/notebooks/documentation.ipynb#ch0000000?line=5'>6</a>\u001b[0m \u001b[39mimport\u001b[39;00m \u001b[39mphase\u001b[39;00m\n",
      "File \u001b[1;32m~\\IO-SEA\\io-sea-3.4-analytics\\cluster_simulator\\phase.py:20\u001b[0m, in \u001b[0;36m<module>\u001b[1;34m\u001b[0m\n\u001b[0;32m     <a href='file:///c%3A/Users/a770398/IO-SEA/io-sea-3.4-analytics/cluster_simulator/phase.py?line=16'>17</a>\u001b[0m \u001b[39mimport\u001b[39;00m \u001b[39mmath\u001b[39;00m\n\u001b[0;32m     <a href='file:///c%3A/Users/a770398/IO-SEA/io-sea-3.4-analytics/cluster_simulator/phase.py?line=17'>18</a>\u001b[0m \u001b[39m# from cluster_simulator.cluster import Cluster, Tier, bandwidth_share_model, compute_share_model, get_tier, convert_size\u001b[39;00m\n\u001b[1;32m---> <a href='file:///c%3A/Users/a770398/IO-SEA/io-sea-3.4-analytics/cluster_simulator/phase.py?line=19'>20</a>\u001b[0m \u001b[39mfrom\u001b[39;00m \u001b[39mcluster_simulator\u001b[39;00m\u001b[39m.\u001b[39;00m\u001b[39mutils\u001b[39;00m \u001b[39mimport\u001b[39;00m convert_size, get_tier, compute_share_model, BandwidthResource\n\u001b[0;32m     <a href='file:///c%3A/Users/a770398/IO-SEA/io-sea-3.4-analytics/cluster_simulator/phase.py?line=20'>21</a>\u001b[0m \u001b[39mfrom\u001b[39;00m \u001b[39mcluster_simulator\u001b[39;00m\u001b[39m.\u001b[39;00m\u001b[39mcluster\u001b[39;00m \u001b[39mimport\u001b[39;00m Tier\n\u001b[0;32m     <a href='file:///c%3A/Users/a770398/IO-SEA/io-sea-3.4-analytics/cluster_simulator/phase.py?line=21'>22</a>\u001b[0m \u001b[39mfrom\u001b[39;00m \u001b[39mcluster_simulator\u001b[39;00m\u001b[39m.\u001b[39;00m\u001b[39mcluster\u001b[39;00m \u001b[39mimport\u001b[39;00m EphemeralTier  \u001b[39m# proper import for isinstance but causes import error for notebooks\u001b[39;00m\n",
      "\u001b[1;31mModuleNotFoundError\u001b[0m: No module named 'cluster_simulator'"
     ]
    }
   ],
   "source": [
    "# imports\n",
    "import sys\n",
    "sys.path.insert(0, \"C:\\\\Users\\\\a770398\\\\IO-SEA\\\\io-sea-3.4-analytics\\\\cluster_simulator\")\n",
    "from cluster import Cluster\n",
    "from cluster import Cluster, Tier, bandwidth_share_model, compute_share_model, get_tier, convert_size\n",
    "import phase\n",
    "\n"
   ]
  },
  {
   "cell_type": "code",
   "execution_count": null,
   "metadata": {},
   "outputs": [],
   "source": []
  }
 ],
 "metadata": {
  "interpreter": {
   "hash": "c87beb4c7de1fcbf6155f8da331fc04a584374d4c389d75c2ece6a4f03553c96"
  },
  "kernelspec": {
   "display_name": "Python 3.8.13 ('iosea-venv')",
   "language": "python",
   "name": "python3"
  },
  "language_info": {
   "codemirror_mode": {
    "name": "ipython",
    "version": 3
   },
   "file_extension": ".py",
   "mimetype": "text/x-python",
   "name": "python",
   "nbconvert_exporter": "python",
   "pygments_lexer": "ipython3",
   "version": "3.8.13"
  },
  "orig_nbformat": 4
 },
 "nbformat": 4,
 "nbformat_minor": 2
}
