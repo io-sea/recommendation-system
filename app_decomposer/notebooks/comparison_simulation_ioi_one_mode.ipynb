{
 "cells": [
  {
   "cell_type": "code",
   "execution_count": null,
   "metadata": {},
   "outputs": [],
   "source": [
    "from utils_demo import *\n",
    "from loguru import logger\n",
    "from unittest.mock import patch\n",
    "import warnings\n",
    "warnings.filterwarnings('ignore')\n",
    "from app_decomposer import DEFAULT_CONFIGURATION, API_DICT_TS, IOI_SAMPLING_PERIOD, PERF_MODEL_DATASET_NAME"
   ]
  },
  {
   "cell_type": "code",
   "execution_count": null,
   "metadata": {},
   "outputs": [],
   "source": [
    "fig = plot_detected_phases(jobid=5170, merge=True, show_phases=True, width=1200, height=600)\n",
    "fig.show() "
   ]
  },
  {
   "cell_type": "code",
   "execution_count": null,
   "metadata": {},
   "outputs": [],
   "source": [
    "%%capture\n",
    "logger.remove()\n",
    "def decompose_ioi_job(jobid):\n",
    "    with patch.object(ComplexDecomposer, 'get_job_timeseries') as mock_get_timeseries:\n",
    "        with patch.object(Configuration, 'get_kc_token') as mock_get_kc_token:\n",
    "            with patch.object(ComplexDecomposer, 'get_job_node_count') as mock_get_node_count:\n",
    "                timeseries = get_job_timeseries_from_file(job_id=jobid)                \n",
    "                mock_get_timeseries.return_value = timeseries\n",
    "                mock_get_kc_token.return_value = 'token'\n",
    "                mock_get_node_count.return_value = 1\n",
    "                # init the job decomposer\n",
    "                cd = ComplexDecomposer(v0_threshold=0.02)\n",
    "                return cd\n",
    "        \n",
    "# Launch decomposition on the signal\n",
    "cd = decompose_ioi_job(jobid=5170)\n",
    "\n",
    "representation = cd.get_job_representation(merge_clusters=True)\n",
    "print(representation)\n",
    "# This is the app encoding representation for Execution Simulator\n",
    "print(f\"compute={representation['events']}, reads={representation['read_volumes']}\" \n",
    "      f\"read_bw={representation['read_bw']}, writes={representation['write_volumes']}\"\n",
    "      f\"write_bw={representation['write_bw']}, read_pattern={representation['read_pattern']}\")\n",
    "# Normalize signals to seconds and MB\n",
    "timestamps = (cd.timestamps - cd.timestamps[0])/5\n",
    "original_read = cd.read_signal/1e6\n",
    "original_write = cd.write_signal/1e6"
   ]
  },
  {
   "cell_type": "code",
   "execution_count": null,
   "metadata": {},
   "outputs": [],
   "source": [
    "# Apply same BW as measured by IOI\n",
    "read_bw = list(map(lambda x: x/1e6, representation['read_bw']))\n",
    "write_bw = list(map(lambda x: x/1e6, representation['write_bw']))\n",
    "io_bw = list(map(lambda x, y: x + y, read_bw, write_bw))"
   ]
  },
  {
   "cell_type": "code",
   "execution_count": null,
   "metadata": {},
   "outputs": [],
   "source": [
    "sim_time, sim_read_bw, sim_write_bw = simulate_app(representation['events'],\n",
    "                                                   representation['read_volumes'],\n",
    "                                                   representation['write_volumes'], io_bw, app_name=\"job\")"
   ]
  },
  {
   "cell_type": "code",
   "execution_count": null,
   "metadata": {},
   "outputs": [],
   "source": [
    "fig = display_original_sim_signals((sim_time, sim_read_bw, sim_write_bw),\n",
    "                                   (timestamps, original_read, original_write),\n",
    "                                   width=1400, height=900)\n",
    "fig.show()"
   ]
  }
 ],
 "metadata": {
  "kernelspec": {
   "display_name": "Python 3.8.10 ('py38')",
   "language": "python",
   "name": "python3"
  },
  "language_info": {
   "codemirror_mode": {
    "name": "ipython",
    "version": 3
   },
   "file_extension": ".py",
   "mimetype": "text/x-python",
   "name": "python",
   "nbconvert_exporter": "python",
   "pygments_lexer": "ipython3",
   "version": "3.8.10"
  },
  "orig_nbformat": 4,
  "vscode": {
   "interpreter": {
    "hash": "67356b80ae16e0e40687386dbd074ace3ba90441f54bfe58917536db46d8a36b"
   }
  }
 },
 "nbformat": 4,
 "nbformat_minor": 2
}
