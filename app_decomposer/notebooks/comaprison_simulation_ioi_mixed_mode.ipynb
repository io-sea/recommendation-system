{
 "cells": [
  {
   "cell_type": "code",
   "execution_count": 1,
   "metadata": {},
   "outputs": [
    {
     "name": "stderr",
     "output_type": "stream",
     "text": [
      "/home_nfs/mimounis/anaconda3/envs/ml/lib/python3.8/site-packages/requests/__init__.py:89: RequestsDependencyWarning: urllib3 (1.26.8) or chardet (3.0.4) doesn't match a supported version!\n",
      "  warnings.warn(\"urllib3 ({}) or chardet ({}) doesn't match a supported \"\n"
     ]
    }
   ],
   "source": [
    "import os\n",
    "import unittest\n",
    "import requests\n",
    "import urllib3\n",
    "from utils_demo import *\n",
    "from loguru import logger\n",
    "from unittest.mock import patch\n",
    "from pprint import pprint\n",
    "from os.path import dirname, abspath\n",
    "import warnings\n",
    "warnings.filterwarnings('ignore')\n",
    "from performance_data.data_table import PhaseData, DataTable\n",
    "from performance_data import DATASET_FILE\n",
    "from app_decomposer import DEFAULT_CONFIGURATION, KIWI_CONFIG, CURRENT_DIR, API_DICT_TS, IOI_SAMPLING_PERIOD, DATASET_SOURCE\n",
    "from app_decomposer.api_connector import request_delegator\n",
    "from app_decomposer.config_parser import Configuration\n",
    "from app_decomposer.api_connector import TimeSeries\n",
    "from cluster_simulator.analytics import *\n",
    "from loguru import logger\n",
    "import simpy\n",
    "from loguru import logger\n",
    "import time\n",
    "import numpy as np\n",
    "import pandas as pd\n",
    "from cluster_simulator.utils import convex_hull\n",
    "from cluster_simulator.cluster import Cluster, Tier, EphemeralTier, bandwidth_share_model, compute_share_model, get_tier, convert_size\n",
    "from cluster_simulator.phase import DelayPhase, ComputePhase, IOPhase\n",
    "from cluster_simulator.application import Application\n",
    "from cluster_simulator.analytics import display_run\n",
    "from cluster_simulator.ephemeral_placement import ClusterBlackBox"
   ]
  },
  {
   "attachments": {},
   "cell_type": "markdown",
   "metadata": {},
   "source": [
    "Mixed Signal in virtual apps\n"
   ]
  },
  {
   "cell_type": "code",
   "execution_count": 2,
   "metadata": {},
   "outputs": [
    {
     "ename": "TypeError",
     "evalue": "__init__() got an unexpected keyword argument 'bandwidth'",
     "output_type": "error",
     "traceback": [
      "\u001b[0;31m---------------------------------------------------------------------------\u001b[0m",
      "\u001b[0;31mTypeError\u001b[0m                                 Traceback (most recent call last)",
      "\u001b[1;32m/home_nfs/mimounis/iosea-wp3-recommandation-system/app_decomposer/notebooks/comaprison_simulation_ioi_mixed_mode.ipynb Cell 3\u001b[0m in \u001b[0;36m<cell line: 13>\u001b[0;34m()\u001b[0m\n\u001b[1;32m      <a href='vscode-notebook-cell://ssh-remote%2Bkea2/home_nfs/mimounis/iosea-wp3-recommandation-system/app_decomposer/notebooks/comaprison_simulation_ioi_mixed_mode.ipynb#W2sdnNjb2RlLXJlbW90ZQ%3D%3D?line=8'>9</a>\u001b[0m hdd_bandwidth \u001b[39m=\u001b[39m {\u001b[39m'\u001b[39m\u001b[39mread\u001b[39m\u001b[39m'\u001b[39m:  {\u001b[39m'\u001b[39m\u001b[39mseq\u001b[39m\u001b[39m'\u001b[39m: \u001b[39m80\u001b[39m, \u001b[39m'\u001b[39m\u001b[39mrand\u001b[39m\u001b[39m'\u001b[39m: \u001b[39m80\u001b[39m},\n\u001b[1;32m     <a href='vscode-notebook-cell://ssh-remote%2Bkea2/home_nfs/mimounis/iosea-wp3-recommandation-system/app_decomposer/notebooks/comaprison_simulation_ioi_mixed_mode.ipynb#W2sdnNjb2RlLXJlbW90ZQ%3D%3D?line=9'>10</a>\u001b[0m                     \u001b[39m'\u001b[39m\u001b[39mwrite\u001b[39m\u001b[39m'\u001b[39m: {\u001b[39m'\u001b[39m\u001b[39mseq\u001b[39m\u001b[39m'\u001b[39m: \u001b[39m40\u001b[39m, \u001b[39m'\u001b[39m\u001b[39mrand\u001b[39m\u001b[39m'\u001b[39m: \u001b[39m40\u001b[39m}}\n\u001b[1;32m     <a href='vscode-notebook-cell://ssh-remote%2Bkea2/home_nfs/mimounis/iosea-wp3-recommandation-system/app_decomposer/notebooks/comaprison_simulation_ioi_mixed_mode.ipynb#W2sdnNjb2RlLXJlbW90ZQ%3D%3D?line=11'>12</a>\u001b[0m \u001b[39m# registering Tiers\u001b[39;00m\n\u001b[0;32m---> <a href='vscode-notebook-cell://ssh-remote%2Bkea2/home_nfs/mimounis/iosea-wp3-recommandation-system/app_decomposer/notebooks/comaprison_simulation_ioi_mixed_mode.ipynb#W2sdnNjb2RlLXJlbW90ZQ%3D%3D?line=12'>13</a>\u001b[0m hdd_tier \u001b[39m=\u001b[39m Tier(env, \u001b[39m'\u001b[39;49m\u001b[39mHDD\u001b[39;49m\u001b[39m'\u001b[39;49m, bandwidth\u001b[39m=\u001b[39;49mhdd_bandwidth, capacity\u001b[39m=\u001b[39;49m\u001b[39m1e12\u001b[39;49m)\n\u001b[1;32m     <a href='vscode-notebook-cell://ssh-remote%2Bkea2/home_nfs/mimounis/iosea-wp3-recommandation-system/app_decomposer/notebooks/comaprison_simulation_ioi_mixed_mode.ipynb#W2sdnNjb2RlLXJlbW90ZQ%3D%3D?line=13'>14</a>\u001b[0m ssd_tier \u001b[39m=\u001b[39m Tier(env, \u001b[39m'\u001b[39m\u001b[39mSSD\u001b[39m\u001b[39m'\u001b[39m, bandwidth\u001b[39m=\u001b[39mssd_bandwidth, capacity\u001b[39m=\u001b[39m\u001b[39m200e9\u001b[39m)\n\u001b[1;32m     <a href='vscode-notebook-cell://ssh-remote%2Bkea2/home_nfs/mimounis/iosea-wp3-recommandation-system/app_decomposer/notebooks/comaprison_simulation_ioi_mixed_mode.ipynb#W2sdnNjb2RlLXJlbW90ZQ%3D%3D?line=14'>15</a>\u001b[0m nvram_tier \u001b[39m=\u001b[39m Tier(env, \u001b[39m'\u001b[39m\u001b[39mNVRAM\u001b[39m\u001b[39m'\u001b[39m, bandwidth\u001b[39m=\u001b[39mnvram_bandwidth,\n\u001b[1;32m     <a href='vscode-notebook-cell://ssh-remote%2Bkea2/home_nfs/mimounis/iosea-wp3-recommandation-system/app_decomposer/notebooks/comaprison_simulation_ioi_mixed_mode.ipynb#W2sdnNjb2RlLXJlbW90ZQ%3D%3D?line=15'>16</a>\u001b[0m                         capacity\u001b[39m=\u001b[39m\u001b[39m10e9\u001b[39m)\n",
      "\u001b[0;31mTypeError\u001b[0m: __init__() got an unexpected keyword argument 'bandwidth'"
     ]
    }
   ],
   "source": [
    "# sim env an data\n",
    "env = simpy.Environment()\n",
    "data = simpy.Store(env)\n",
    "# tier perfs\n",
    "nvram_bandwidth = {'read':  {'seq': 800, 'rand': 600},\n",
    "                        'write': {'seq': 400, 'rand': 400}}\n",
    "ssd_bandwidth = {'read':  {'seq': 240, 'rand': 180},\n",
    "                    'write': {'seq': 100, 'rand': 100}}\n",
    "hdd_bandwidth = {'read':  {'seq': 80, 'rand': 80},\n",
    "                    'write': {'seq': 40, 'rand': 40}}\n",
    "\n",
    "# registering Tiers\n",
    "hdd_tier = Tier(env, 'HDD', max_bandwidth=hdd_bandwidth, capacity=1e12)\n",
    "ssd_tier = Tier(env, 'SSD', max_bandwidth=ssd_bandwidth, capacity=200e9)\n",
    "nvram_tier = Tier(env, 'NVRAM', max_bandwidth=nvram_bandwidth,\n",
    "                        capacity=10e9)\n",
    "# registering Ephemeral Tier\n",
    "bb = EphemeralTier(env, name=\"BB\", persistent_tier=hdd_tier,\n",
    "                        max_bandwidth=nvram_bandwidth, capacity=10e9)\n",
    "\n",
    "# Define the cluster with 1 persistent and 1 ephemeral\n",
    "cluster = Cluster(env, tiers=[hdd_tier], ephemeral_tier=bb)\n",
    "jobid=0\n",
    "# logger\n",
    "#env = simpy.Environment()\n",
    "logger.remove()\n",
    "# Simple app: read 1GB -> compute 10s -> write 5GB\n",
    "# placement\n",
    "placement = [0, 0]\n",
    "use_bb = [False, False]\n",
    "compute=[0, 10]\n",
    "read=[1e9, 0]\n",
    "write=[3e9, 5e9]\n",
    "# simulate the app execution\n",
    "app1 = Application(env, compute=compute, read=read, write=write, data=data)\n",
    "#app2 = Application(env, compute=[0, 5],  read=[2e9, 0], write=[7e9, 0], data=data)\n",
    "env.process(app1.run(cluster, placement=placement, use_bb=use_bb))\n",
    "#env.process(app2.run(cluster, placement=placement, use_bb=use_bb))\n",
    "env.run()\n",
    "print(f\"application duration = {app1.get_fitness()}\")\n",
    "\n",
    "output = get_execution_signal_3(data)\n",
    "\n",
    "sim_time = np.array(output[app1.name][\"time\"])\n",
    "sim_read_bw = np.array(output[app1.name][\"read_bw\"])\n",
    "sim_write_bw = np.array(output[app1.name][\"write_bw\"])\n",
    "\n",
    "fig = plt.figure(figsize=(10, 6))\n",
    "plt.plot(sim_time, sim_read_bw, label=\"read signal\")\n",
    "plt.plot(sim_time, sim_write_bw, label=\"write signal\")\n",
    "plt.grid(True)\n",
    "plt.legend()\n",
    "plt.title(f\"Simulated timeseries for compute = {compute}, read = {list(map(convert_size, read))}, write = {list(map(convert_size, write))}\")\n",
    "plt.show()\n",
    "# plot_detected_phases(jobid, merge=True, show_phases=False, \n",
    "#                     ts=(sim_time, sim_read_bw, sim_write_bw), \n",
    "#                     width=1200, height=600)"
   ]
  },
  {
   "cell_type": "code",
   "execution_count": 3,
   "metadata": {},
   "outputs": [
    {
     "ename": "FileNotFoundError",
     "evalue": "[Errno 2] File /home_nfs/mimounis/iosea-wp3-recommandation-system/performance_data/performance_data/dataset/complete_dataset_job_3918_5.0 GB.csv does not exist: '/home_nfs/mimounis/iosea-wp3-recommandation-system/performance_data/performance_data/dataset/complete_dataset_job_3918_5.0 GB.csv'",
     "output_type": "error",
     "traceback": [
      "\u001b[1;31m---------------------------------------------------------------------------\u001b[0m",
      "\u001b[1;31mFileNotFoundError\u001b[0m                         Traceback (most recent call last)",
      "\u001b[1;32mc:\\Users\\a770398\\IO-SEA\\io-sea-3.4-analytics\\app_decomposer\\notebooks\\comaprison_simulation_ioi_mixed_mode.ipynb Cell 4\u001b[0m in \u001b[0;36m<cell line: 1>\u001b[1;34m()\u001b[0m\n\u001b[1;32m----> <a href='vscode-notebook-cell:/c%3A/Users/a770398/IO-SEA/io-sea-3.4-analytics/app_decomposer/notebooks/comaprison_simulation_ioi_mixed_mode.ipynb#W3sZmlsZQ%3D%3D?line=0'>1</a>\u001b[0m print_readable_values(\u001b[39m\"\u001b[39;49m\u001b[39m/home_nfs/mimounis/iosea-wp3-recommandation-system/performance_data/performance_data/dataset/complete_dataset_job_3918_5.0 GB.csv\u001b[39;49m\u001b[39m\"\u001b[39;49m, [\u001b[39m\"\u001b[39;49m\u001b[39mread_volume\u001b[39;49m\u001b[39m\"\u001b[39;49m, \u001b[39m\"\u001b[39;49m\u001b[39mwrite_volume\u001b[39;49m\u001b[39m\"\u001b[39;49m, \u001b[39m'\u001b[39;49m\u001b[39mwrite_io_size\u001b[39;49m\u001b[39m'\u001b[39;49m, \u001b[39m'\u001b[39;49m\u001b[39mread_io_size\u001b[39;49m\u001b[39m'\u001b[39;49m, \u001b[39m'\u001b[39;49m\u001b[39mioi_bw\u001b[39;49m\u001b[39m'\u001b[39;49m, \u001b[39m'\u001b[39;49m\u001b[39mnfs_bw\u001b[39;49m\u001b[39m'\u001b[39;49m, \u001b[39m'\u001b[39;49m\u001b[39mlfs_bw\u001b[39;49m\u001b[39m'\u001b[39;49m, \u001b[39m'\u001b[39;49m\u001b[39msbb_bw\u001b[39;49m\u001b[39m'\u001b[39;49m])\n",
      "File \u001b[1;32mc:\\Users\\a770398\\IO-SEA\\io-sea-3.4-analytics\\app_decomposer\\notebooks\\utils_demo.py:33\u001b[0m, in \u001b[0;36mprint_readable_values\u001b[1;34m(dataset_path, columns_list)\u001b[0m\n\u001b[0;32m     31\u001b[0m \u001b[39mdef\u001b[39;00m \u001b[39mprint_readable_values\u001b[39m(dataset_path, columns_list):\n\u001b[0;32m     32\u001b[0m     \u001b[39m\"\"\"Allows to see csv dataframe with values converted in readable manner.\"\"\"\u001b[39;00m\n\u001b[1;32m---> 33\u001b[0m     df \u001b[39m=\u001b[39m pd\u001b[39m.\u001b[39;49mread_csv(dataset_path, index_col\u001b[39m=\u001b[39;49m\u001b[39mFalse\u001b[39;49;00m)\n\u001b[0;32m     34\u001b[0m     \u001b[39mfor\u001b[39;00m column \u001b[39min\u001b[39;00m columns_list:\n\u001b[0;32m     35\u001b[0m         df[column] \u001b[39m=\u001b[39m \u001b[39mlist\u001b[39m(\u001b[39mmap\u001b[39m(\u001b[39mlambda\u001b[39;00m x: convert_size(x), df[column]\u001b[39m.\u001b[39mto_numpy()\u001b[39m.\u001b[39mflatten()))\n",
      "File \u001b[1;32mc:\\Users\\a770398\\AppData\\Local\\Continuum\\anaconda3\\envs\\iosea-venv\\lib\\site-packages\\pandas\\io\\parsers.py:676\u001b[0m, in \u001b[0;36m_make_parser_function.<locals>.parser_f\u001b[1;34m(filepath_or_buffer, sep, delimiter, header, names, index_col, usecols, squeeze, prefix, mangle_dupe_cols, dtype, engine, converters, true_values, false_values, skipinitialspace, skiprows, skipfooter, nrows, na_values, keep_default_na, na_filter, verbose, skip_blank_lines, parse_dates, infer_datetime_format, keep_date_col, date_parser, dayfirst, cache_dates, iterator, chunksize, compression, thousands, decimal, lineterminator, quotechar, quoting, doublequote, escapechar, comment, encoding, dialect, error_bad_lines, warn_bad_lines, delim_whitespace, low_memory, memory_map, float_precision)\u001b[0m\n\u001b[0;32m    623\u001b[0m     engine_specified \u001b[39m=\u001b[39m \u001b[39mFalse\u001b[39;00m\n\u001b[0;32m    625\u001b[0m kwds\u001b[39m.\u001b[39mupdate(\n\u001b[0;32m    626\u001b[0m     delimiter\u001b[39m=\u001b[39mdelimiter,\n\u001b[0;32m    627\u001b[0m     engine\u001b[39m=\u001b[39mengine,\n\u001b[1;32m   (...)\u001b[0m\n\u001b[0;32m    673\u001b[0m     skip_blank_lines\u001b[39m=\u001b[39mskip_blank_lines,\n\u001b[0;32m    674\u001b[0m )\n\u001b[1;32m--> 676\u001b[0m \u001b[39mreturn\u001b[39;00m _read(filepath_or_buffer, kwds)\n",
      "File \u001b[1;32mc:\\Users\\a770398\\AppData\\Local\\Continuum\\anaconda3\\envs\\iosea-venv\\lib\\site-packages\\pandas\\io\\parsers.py:448\u001b[0m, in \u001b[0;36m_read\u001b[1;34m(filepath_or_buffer, kwds)\u001b[0m\n\u001b[0;32m    445\u001b[0m _validate_names(kwds\u001b[39m.\u001b[39mget(\u001b[39m\"\u001b[39m\u001b[39mnames\u001b[39m\u001b[39m\"\u001b[39m, \u001b[39mNone\u001b[39;00m))\n\u001b[0;32m    447\u001b[0m \u001b[39m# Create the parser.\u001b[39;00m\n\u001b[1;32m--> 448\u001b[0m parser \u001b[39m=\u001b[39m TextFileReader(fp_or_buf, \u001b[39m*\u001b[39;49m\u001b[39m*\u001b[39;49mkwds)\n\u001b[0;32m    450\u001b[0m \u001b[39mif\u001b[39;00m chunksize \u001b[39mor\u001b[39;00m iterator:\n\u001b[0;32m    451\u001b[0m     \u001b[39mreturn\u001b[39;00m parser\n",
      "File \u001b[1;32mc:\\Users\\a770398\\AppData\\Local\\Continuum\\anaconda3\\envs\\iosea-venv\\lib\\site-packages\\pandas\\io\\parsers.py:880\u001b[0m, in \u001b[0;36mTextFileReader.__init__\u001b[1;34m(self, f, engine, **kwds)\u001b[0m\n\u001b[0;32m    877\u001b[0m \u001b[39mif\u001b[39;00m \u001b[39m\"\u001b[39m\u001b[39mhas_index_names\u001b[39m\u001b[39m\"\u001b[39m \u001b[39min\u001b[39;00m kwds:\n\u001b[0;32m    878\u001b[0m     \u001b[39mself\u001b[39m\u001b[39m.\u001b[39moptions[\u001b[39m\"\u001b[39m\u001b[39mhas_index_names\u001b[39m\u001b[39m\"\u001b[39m] \u001b[39m=\u001b[39m kwds[\u001b[39m\"\u001b[39m\u001b[39mhas_index_names\u001b[39m\u001b[39m\"\u001b[39m]\n\u001b[1;32m--> 880\u001b[0m \u001b[39mself\u001b[39;49m\u001b[39m.\u001b[39;49m_make_engine(\u001b[39mself\u001b[39;49m\u001b[39m.\u001b[39;49mengine)\n",
      "File \u001b[1;32mc:\\Users\\a770398\\AppData\\Local\\Continuum\\anaconda3\\envs\\iosea-venv\\lib\\site-packages\\pandas\\io\\parsers.py:1114\u001b[0m, in \u001b[0;36mTextFileReader._make_engine\u001b[1;34m(self, engine)\u001b[0m\n\u001b[0;32m   1112\u001b[0m \u001b[39mdef\u001b[39;00m \u001b[39m_make_engine\u001b[39m(\u001b[39mself\u001b[39m, engine\u001b[39m=\u001b[39m\u001b[39m\"\u001b[39m\u001b[39mc\u001b[39m\u001b[39m\"\u001b[39m):\n\u001b[0;32m   1113\u001b[0m     \u001b[39mif\u001b[39;00m engine \u001b[39m==\u001b[39m \u001b[39m\"\u001b[39m\u001b[39mc\u001b[39m\u001b[39m\"\u001b[39m:\n\u001b[1;32m-> 1114\u001b[0m         \u001b[39mself\u001b[39m\u001b[39m.\u001b[39m_engine \u001b[39m=\u001b[39m CParserWrapper(\u001b[39mself\u001b[39;49m\u001b[39m.\u001b[39;49mf, \u001b[39m*\u001b[39;49m\u001b[39m*\u001b[39;49m\u001b[39mself\u001b[39;49m\u001b[39m.\u001b[39;49moptions)\n\u001b[0;32m   1115\u001b[0m     \u001b[39melse\u001b[39;00m:\n\u001b[0;32m   1116\u001b[0m         \u001b[39mif\u001b[39;00m engine \u001b[39m==\u001b[39m \u001b[39m\"\u001b[39m\u001b[39mpython\u001b[39m\u001b[39m\"\u001b[39m:\n",
      "File \u001b[1;32mc:\\Users\\a770398\\AppData\\Local\\Continuum\\anaconda3\\envs\\iosea-venv\\lib\\site-packages\\pandas\\io\\parsers.py:1891\u001b[0m, in \u001b[0;36mCParserWrapper.__init__\u001b[1;34m(self, src, **kwds)\u001b[0m\n\u001b[0;32m   1888\u001b[0m \u001b[39mself\u001b[39m\u001b[39m.\u001b[39musecols, \u001b[39mself\u001b[39m\u001b[39m.\u001b[39musecols_dtype \u001b[39m=\u001b[39m _validate_usecols_arg(kwds[\u001b[39m\"\u001b[39m\u001b[39musecols\u001b[39m\u001b[39m\"\u001b[39m])\n\u001b[0;32m   1889\u001b[0m kwds[\u001b[39m\"\u001b[39m\u001b[39musecols\u001b[39m\u001b[39m\"\u001b[39m] \u001b[39m=\u001b[39m \u001b[39mself\u001b[39m\u001b[39m.\u001b[39musecols\n\u001b[1;32m-> 1891\u001b[0m \u001b[39mself\u001b[39m\u001b[39m.\u001b[39m_reader \u001b[39m=\u001b[39m parsers\u001b[39m.\u001b[39;49mTextReader(src, \u001b[39m*\u001b[39;49m\u001b[39m*\u001b[39;49mkwds)\n\u001b[0;32m   1892\u001b[0m \u001b[39mself\u001b[39m\u001b[39m.\u001b[39munnamed_cols \u001b[39m=\u001b[39m \u001b[39mself\u001b[39m\u001b[39m.\u001b[39m_reader\u001b[39m.\u001b[39munnamed_cols\n\u001b[0;32m   1894\u001b[0m passed_names \u001b[39m=\u001b[39m \u001b[39mself\u001b[39m\u001b[39m.\u001b[39mnames \u001b[39mis\u001b[39;00m \u001b[39mNone\u001b[39;00m\n",
      "File \u001b[1;32mpandas\\_libs\\parsers.pyx:374\u001b[0m, in \u001b[0;36mpandas._libs.parsers.TextReader.__cinit__\u001b[1;34m()\u001b[0m\n",
      "File \u001b[1;32mpandas\\_libs\\parsers.pyx:673\u001b[0m, in \u001b[0;36mpandas._libs.parsers.TextReader._setup_parser_source\u001b[1;34m()\u001b[0m\n",
      "\u001b[1;31mFileNotFoundError\u001b[0m: [Errno 2] File /home_nfs/mimounis/iosea-wp3-recommandation-system/performance_data/performance_data/dataset/complete_dataset_job_3918_5.0 GB.csv does not exist: '/home_nfs/mimounis/iosea-wp3-recommandation-system/performance_data/performance_data/dataset/complete_dataset_job_3918_5.0 GB.csv'"
     ]
    }
   ],
   "source": [
    "print_readable_values(\"/home_nfs/mimounis/iosea-wp3-recommandation-system/performance_data/performance_data/dataset/complete_dataset_job_3918_5.0 GB.csv\", [\"read_volume\", \"write_volume\", 'write_io_size', 'read_io_size', 'ioi_bw', 'nfs_bw', 'lfs_bw', 'sbb_bw'])"
   ]
  },
  {
   "attachments": {},
   "cell_type": "markdown",
   "metadata": {},
   "source": [
    " Mixed Signal Generation"
   ]
  },
  {
   "cell_type": "code",
   "execution_count": 4,
   "metadata": {},
   "outputs": [
    {
     "name": "stdout",
     "output_type": "stream",
     "text": [
      "compute=[0, 1, 8, 12, 44, 50, 54, 56], reads=['0B', '1.73 GB', '1.59 GB', '3.17 GB', '3.02 MB', '7.05 MB', '2.52 MB', '0B'], writes=['0B', '0B', '2.04 GB', '4.14 GB', '5.33 GB', '5.31 GB', '5.33 GB', '0B']\n",
      "read_bw=['0B', '1.73 GB', '794.39 MB', '1.58 GB', '3.02 MB', '3.53 MB', '2.52 MB', '0B'], write_bw=['0B', '0B', '1.02 GB', '1.38 GB', '1.33 GB', '1.33 GB', '1.07 GB', '0B']\n",
      "0 & Uncl & Uncl & 0 & 0 & 0B/s & 0B/s  \\\\\n",
      "\\hline\n",
      "1 & Seq & Uncl & 812 & 0 & 1.73 GB/s & 0B/s  \\\\\n",
      "\\hline\n",
      "8 & Seq & Seq & 1305 & 986 & 794.39 MB/s & 1.02 GB/s  \\\\\n",
      "\\hline\n",
      "12 & Seq & Seq & 909 & 2000 & 1.58 GB/s & 1.38 GB/s  \\\\\n",
      "\\hline\n",
      "44 & Seq & Seq & 601 & 1000 & 3.02 MB/s & 1.33 GB/s  \\\\\n",
      "\\hline\n",
      "50 & Seq & Seq & 1400 & 995 & 3.53 MB/s & 1.33 GB/s  \\\\\n",
      "\\hline\n",
      "54 & Seq & Seq & 500 & 1000 & 2.52 MB/s & 1.07 GB/s  \\\\\n",
      "\\hline\n",
      "56 & Uncl & Uncl & 0 & 0 & 0B/s & 0B/s  \\\\\n",
      "\\hline\n",
      "{'node_count': 1, 'events': [0, 1, 8, 12, 44, 50, 54, 56], 'read_volumes': [0, 1730808132, 1588775126, 3168984277, 3023280, 7054320, 2519400, 0], 'read_bw': [0, 1730808132.0, 794387563.0, 1584492138.5, 3023280.0, 3527160.0, 2519400.0, 0], 'write_volumes': [0, 0, 2038785597, 4139017218, 5334798849, 5305154361, 5334798849, 0], 'write_bw': [0, 0, 1019392798.5, 1379672406.0, 1333699712.25, 1326288590.25, 1066959769.8, 0], 'read_pattern': ['Uncl', 'Seq', 'Seq', 'Seq', 'Seq', 'Seq', 'Seq', 'Uncl'], 'write_pattern': ['Uncl', 'Uncl', 'Seq', 'Seq', 'Seq', 'Seq', 'Seq', 'Uncl'], 'read_operations': [0, 812, 1305, 909, 601, 1400, 500, 0], 'write_operations': [0, 0, 986, 2000, 1000, 995, 1000, 0]}\n"
     ]
    },
    {
     "data": {
      "text/plain": [
       "[{'job_id': 3918,\n",
       "  'nodes': 1,\n",
       "  'read_volume': 0,\n",
       "  'write_volume': 0,\n",
       "  'read_io_pattern': 'uncl',\n",
       "  'write_io_pattern': 'uncl',\n",
       "  'read_io_size': 0,\n",
       "  'write_io_size': 0,\n",
       "  'ioi_bw': 0.0},\n",
       " {'job_id': 3918,\n",
       "  'nodes': 1,\n",
       "  'read_volume': 1730808132,\n",
       "  'write_volume': 0,\n",
       "  'read_io_pattern': 'seq',\n",
       "  'write_io_pattern': 'uncl',\n",
       "  'read_io_size': 2131537.108374384,\n",
       "  'write_io_size': 0,\n",
       "  'ioi_bw': 346161626.4},\n",
       " {'job_id': 3918,\n",
       "  'nodes': 1,\n",
       "  'read_volume': 1588775126,\n",
       "  'write_volume': 2038785597,\n",
       "  'read_io_pattern': 'seq',\n",
       "  'write_io_pattern': 'seq',\n",
       "  'read_io_size': 1217452.2038314177,\n",
       "  'write_io_size': 2067733.8711967545,\n",
       "  'ioi_bw': 362756072.3},\n",
       " {'job_id': 3918,\n",
       "  'nodes': 1,\n",
       "  'read_volume': 3168984277,\n",
       "  'write_volume': 4139017218,\n",
       "  'read_io_pattern': 'seq',\n",
       "  'write_io_pattern': 'seq',\n",
       "  'read_io_size': 3486231.327832783,\n",
       "  'write_io_size': 2069508.609,\n",
       "  'ioi_bw': 592832908.9},\n",
       " {'job_id': 3918,\n",
       "  'nodes': 1,\n",
       "  'read_volume': 3023280,\n",
       "  'write_volume': 5334798849,\n",
       "  'read_io_pattern': 'seq',\n",
       "  'write_io_pattern': 'seq',\n",
       "  'read_io_size': 5030.415973377704,\n",
       "  'write_io_size': 5334798.849,\n",
       "  'ioi_bw': 267344598.45},\n",
       " {'job_id': 3918,\n",
       "  'nodes': 1,\n",
       "  'read_volume': 7054320,\n",
       "  'write_volume': 5305154361,\n",
       "  'read_io_pattern': 'seq',\n",
       "  'write_io_pattern': 'seq',\n",
       "  'read_io_size': 5038.8,\n",
       "  'write_io_size': 5331813.428140704,\n",
       "  'ioi_bw': 265963150.05},\n",
       " {'job_id': 3918,\n",
       "  'nodes': 1,\n",
       "  'read_volume': 2519400,\n",
       "  'write_volume': 5334798849,\n",
       "  'read_io_pattern': 'seq',\n",
       "  'write_io_pattern': 'seq',\n",
       "  'read_io_size': 5038.8,\n",
       "  'write_io_size': 5334798.849,\n",
       "  'ioi_bw': 213895833.95999998},\n",
       " {'job_id': 3918,\n",
       "  'nodes': 1,\n",
       "  'read_volume': 0,\n",
       "  'write_volume': 0,\n",
       "  'read_io_pattern': 'uncl',\n",
       "  'write_io_pattern': 'uncl',\n",
       "  'read_io_size': 0,\n",
       "  'write_io_size': 0,\n",
       "  'ioi_bw': 0.0}]"
      ]
     },
     "execution_count": 4,
     "metadata": {},
     "output_type": "execute_result"
    }
   ],
   "source": [
    "jobid=3918\n",
    "dataset_path = os.path.join(dirname(dirname(os.getcwd())), \"performance_data\", \"performance_data\", \"dataset\")\n",
    "#%%capture\n",
    "logger.remove()\n",
    "def decompose_ioi_job(jobid):\n",
    "    with patch.object(ComplexDecomposer, 'get_job_timeseries') as mock_get_timeseries:\n",
    "        with patch.object(Configuration, 'get_kc_token') as mock_get_kc_token:\n",
    "            with patch.object(ComplexDecomposer, 'get_job_node_count') as mock_get_node_count:\n",
    "                mock_get_timeseries.return_value = get_job_timeseries_from_file(job_id=jobid)\n",
    "                mock_get_kc_token.return_value = 'token'\n",
    "                mock_get_node_count.return_value = 1\n",
    "                # init the job decomposer\n",
    "                #cd = ComplexDecomposer(v0_threshold=0.02)\n",
    "                cd = ComplexDecomposer(v0_threshold=0.01)\n",
    "                return cd\n",
    "# Launch decomposition on the signal\n",
    "cd = decompose_ioi_job(jobid=jobid)\n",
    "# Showing representation\n",
    "representation = cd.get_job_representation(merge_clusters=True)\n",
    "compute, reads, read_bw, writes, write_bw = representation[\"events\"], representation[\"read_volumes\"], representation[\"read_bw\"], representation[\"write_volumes\"], representation[\"write_bw\"]\n",
    "# This is the app encoding representation for Execution Simulator\n",
    "print(f\"compute={compute}, reads={list(map(convert_size, reads))}, writes={list(map(convert_size, writes))}\")\n",
    "print(f\"read_bw={list(map(convert_size, read_bw))}, write_bw={list(map(convert_size, write_bw))}\")\n",
    "\n",
    "for i, value in enumerate(representation[\"events\"]):\n",
    "    phase_str = []\n",
    "    for key in [\"events\", \"read_pattern\", \"write_pattern\", \"read_operations\", \"write_operations\", \"read_bw\", \"write_bw\"]:\n",
    "        if key in [\"read_bw\", \"write_bw\"]:\n",
    "            phase_str.append(f\"{convert_size(representation[key][i])}/s\") \n",
    "        else:\n",
    "            phase_str.append(f\"{representation[key][i]}\")\n",
    "    print(\" & \".join(phase_str) + \"  \\\\\\\\\")\n",
    "    print(\"\\\\hline\")\n",
    "\n",
    "print(representation)\n",
    "csv_file = os.path.join(dataset_path, f\"dataset_job_{jobid}.csv\")\n",
    "cd.get_phases_features(representation, job_id=jobid, dataset=csv_file)\n",
    "        "
   ]
  },
  {
   "attachments": {},
   "cell_type": "markdown",
   "metadata": {},
   "source": [
    "Normalizing and signals and scaling bw values\n"
   ]
  },
  {
   "cell_type": "code",
   "execution_count": 5,
   "metadata": {},
   "outputs": [],
   "source": [
    "# Normalize signals to seconds and MB\n",
    "timestamps = (cd.timestamps.flatten() - cd.timestamps.flatten()[0])/5\n",
    "original_read =  cd.read_signal.flatten()/1e6\n",
    "original_write = cd.write_signal.flatten()/1e6\n",
    "\n",
    "read_bw_scaled = list(map(lambda x: x/1e6, read_bw))\n",
    "write_bw_scaled = list(map(lambda x: x/1e6, write_bw))"
   ]
  },
  {
   "attachments": {},
   "cell_type": "markdown",
   "metadata": {},
   "source": [
    "Running simulation with compute/reads/writes data and fixed bw to the observed one"
   ]
  },
  {
   "cell_type": "code",
   "execution_count": 6,
   "metadata": {},
   "outputs": [],
   "source": [
    "env = simpy.Environment()\n",
    "nvram_bandwidth = {'read':  {'seq': 780, 'rand': 760},\n",
    "                    'write': {'seq': 515, 'rand': 505}}\n",
    "ssd_bandwidth = {'read':  {'seq': 1, 'rand': 1},\n",
    "                    'write': {'seq': 1, 'rand': 1}}\n",
    "\n",
    "ssd_tier = Tier(env, 'SSD', bandwidth=ssd_bandwidth, capacity=200e9)\n",
    "nvram_tier = Tier(env, 'NVRAM', bandwidth=nvram_bandwidth, capacity=80e9)\n",
    "data = simpy.Store(env)\n",
    "cluster = Cluster(env,  compute_nodes=1, cores_per_node=2,\n",
    "                    tiers=[ssd_tier, nvram_tier])\n",
    "app = Application(env, name=f\"job#{jobid}\",\n",
    "                    compute=compute,\n",
    "                    read=reads,\n",
    "                    write=writes,\n",
    "                    data=data,\n",
    "                    read_bw=read_bw_scaled,\n",
    "                    write_bw=write_bw_scaled)\n",
    "env.process(app.run(cluster, placement=[0]*(10*len(compute))))\n",
    "env.run()"
   ]
  },
  {
   "attachments": {},
   "cell_type": "markdown",
   "metadata": {},
   "source": [
    "Postprocessing simulation data as timeserie signals"
   ]
  },
  {
   "cell_type": "code",
   "execution_count": 7,
   "metadata": {},
   "outputs": [
    {
     "name": "stdout",
     "output_type": "stream",
     "text": [
      "70\n",
      "70\n"
     ]
    }
   ],
   "source": [
    "output = get_execution_signal_3(data, nbr_points=len(timestamps))\n",
    "sim_time = np.array(output[app.name][\"time\"])\n",
    "sim_read_bw = np.array(output[app.name][\"read_bw\"])\n",
    "sim_write_bw = np.array(output[app.name][\"write_bw\"])\n",
    "print(len(sim_time))\n",
    "print(len(timestamps))"
   ]
  },
  {
   "cell_type": "code",
   "execution_count": 8,
   "metadata": {},
   "outputs": [
    {
     "name": "stdout",
     "output_type": "stream",
     "text": [
      "6635.1994225\n",
      "6501.164535\n",
      "0.020200581620122355\n",
      "22212.922377000003\n",
      "20826.26628375\n",
      "0.06242564889551827\n"
     ]
    }
   ],
   "source": [
    "print(np.trapz(original_read))\n",
    "print(np.trapz(sim_read_bw))\n",
    "\n",
    "print(np.abs((np.trapz(original_read)-np.trapz(sim_read_bw)))/np.trapz(original_read))\n",
    "\n",
    "print(np.trapz(original_write))\n",
    "print(np.trapz(sim_write_bw))\n",
    "\n",
    "print(np.abs((np.trapz(original_write)-np.trapz(sim_write_bw)))/np.trapz(original_write))"
   ]
  },
  {
   "cell_type": "code",
   "execution_count": 12,
   "metadata": {},
   "outputs": [
    {
     "data": {
      "application/vnd.plotly.v1+json": {
       "config": {
        "plotlyServerURL": "https://plot.ly"
       },
       "data": [
        {
         "line": {
          "width": 1.5
         },
         "mode": "lines+markers",
         "name": "original bytesRead signal from IOI",
         "showlegend": true,
         "text": [
          "class=0",
          "class=1",
          "class=0",
          "class=0",
          "class=0",
          "class=0",
          "class=0",
          "class=0",
          "class=0",
          "class=1",
          "class=0",
          "class=0",
          "class=0",
          "class=1",
          "class=1",
          "class=0",
          "class=0",
          "class=0",
          "class=0",
          "class=0",
          "class=0",
          "class=0",
          "class=0",
          "class=0",
          "class=0",
          "class=0",
          "class=0",
          "class=0",
          "class=0",
          "class=0",
          "class=0",
          "class=0",
          "class=0",
          "class=0",
          "class=0",
          "class=0",
          "class=0",
          "class=0",
          "class=0",
          "class=0",
          "class=0",
          "class=0",
          "class=0",
          "class=0",
          "class=0",
          "class=0",
          "class=0",
          "class=0",
          "class=0",
          "class=0",
          "class=0",
          "class=0",
          "class=0",
          "class=0",
          "class=0",
          "class=0",
          "class=0",
          "class=0",
          "class=0",
          "class=0",
          "class=0",
          "class=0",
          "class=0",
          "class=0",
          "class=0",
          "class=0",
          "class=0",
          "class=0",
          "class=0",
          "class=0"
         ],
         "type": "scatter",
         "x": [
          0,
          1,
          2,
          3,
          4,
          5,
          6,
          7,
          8,
          9,
          10,
          11,
          12,
          13,
          14,
          15,
          16,
          17,
          18,
          19,
          20,
          21,
          22,
          23,
          24,
          25,
          26,
          27,
          28,
          29,
          30,
          31,
          32,
          33,
          34,
          35,
          36,
          37,
          38,
          39,
          40,
          41,
          42,
          43,
          44,
          45,
          46,
          47,
          48,
          49,
          50,
          51,
          52,
          53,
          54,
          55,
          56,
          57,
          58,
          59,
          60,
          61,
          62,
          63,
          64,
          65,
          66,
          67,
          68,
          69
         ],
         "y": [
          0.005585,
          1730.808132,
          2.01552,
          3.52716,
          3.02328,
          1.51164,
          3.52716,
          2.01552,
          2.5194,
          1586.255726,
          2.01552,
          3.02328,
          2.01552,
          1584.744071,
          1584.240206,
          2.015535,
          1.51164,
          2.01552,
          2.5194,
          2.5194,
          3.02328,
          2.01552,
          1.51164,
          2.5194,
          2.01552,
          1.51164,
          2.5194,
          2.5194,
          3.52716,
          4.53492,
          2.01552,
          2.5194,
          3.52716,
          3.02328,
          1.51164,
          2.01552,
          1.51164,
          1.51164,
          1.51164,
          2.5194,
          3.52716,
          4.03104,
          1.51164,
          1.51164,
          2.01552,
          2.01552,
          2.01552,
          2.01552,
          2.01552,
          1.00776,
          3.02328,
          2.5194,
          2.5194,
          2.01552,
          3.02328,
          1.51164,
          4.53492,
          1.51164,
          2.5194,
          2.01552,
          3.02328,
          3.02328,
          2.5194,
          2.01552,
          1.51164,
          2.5194,
          2.01552,
          1.00776,
          1.51164,
          0
         ]
        },
        {
         "line": {
          "width": 1.5
         },
         "mode": "lines+markers",
         "name": "original bytesWritten signal from IOI",
         "showlegend": true,
         "text": [
          "class=0",
          "class=0",
          "class=0",
          "class=0",
          "class=0",
          "class=0",
          "class=0",
          "class=0",
          "class=1",
          "class=1",
          "class=0",
          "class=0",
          "class=0",
          "class=1",
          "class=1",
          "class=1",
          "class=0",
          "class=0",
          "class=0",
          "class=0",
          "class=0",
          "class=0",
          "class=0",
          "class=0",
          "class=0",
          "class=0",
          "class=0",
          "class=0",
          "class=0",
          "class=0",
          "class=0",
          "class=0",
          "class=0",
          "class=0",
          "class=0",
          "class=0",
          "class=0",
          "class=0",
          "class=0",
          "class=0",
          "class=0",
          "class=0",
          "class=0",
          "class=0",
          "class=0",
          "class=0",
          "class=0",
          "class=1",
          "class=1",
          "class=1",
          "class=1",
          "class=0",
          "class=0",
          "class=0",
          "class=0",
          "class=0",
          "class=1",
          "class=1",
          "class=1",
          "class=1",
          "class=0",
          "class=0",
          "class=0",
          "class=0",
          "class=1",
          "class=1",
          "class=1",
          "class=0",
          "class=0",
          "class=0"
         ],
         "type": "scatter",
         "x": [
          0,
          1,
          2,
          3,
          4,
          5,
          6,
          7,
          8,
          9,
          10,
          11,
          12,
          13,
          14,
          15,
          16,
          17,
          18,
          19,
          20,
          21,
          22,
          23,
          24,
          25,
          26,
          27,
          28,
          29,
          30,
          31,
          32,
          33,
          34,
          35,
          36,
          37,
          38,
          39,
          40,
          41,
          42,
          43,
          44,
          45,
          46,
          47,
          48,
          49,
          50,
          51,
          52,
          53,
          54,
          55,
          56,
          57,
          58,
          59,
          60,
          61,
          62,
          63,
          64,
          65,
          66,
          67,
          68,
          69
         ],
         "y": [
          0.000006,
          0,
          0,
          0,
          0,
          0,
          0,
          30.723012,
          1398.881375,
          639.904222,
          0,
          0,
          0,
          1073.703622,
          1847.627567,
          1217.686029,
          0,
          0,
          0,
          0,
          0,
          0,
          0,
          0,
          0,
          0,
          0,
          0,
          0,
          0,
          0,
          0,
          0,
          0,
          0,
          0,
          0,
          0,
          0,
          0,
          0,
          0,
          0,
          0,
          0,
          0,
          0,
          1395.74593,
          1406.144009,
          1478.270825,
          1054.638085,
          0,
          0,
          0,
          0,
          0,
          1013.077956,
          1399.727613,
          1427.428784,
          1464.920008,
          29.644488,
          0,
          0,
          334.576663,
          1542.396138,
          1517.36164,
          1531.14898,
          409.315428,
          0,
          0
         ]
        },
        {
         "line": {
          "color": "black",
          "dash": "longdash",
          "width": 0.5
         },
         "mode": "lines",
         "showlegend": true,
         "type": "scatter",
         "x": [
          0,
          0
         ],
         "y": [
          0,
          2667.3994245000004
         ]
        },
        {
         "line": {
          "color": "black",
          "dash": "longdash",
          "width": 0.5
         },
         "mode": "lines",
         "showlegend": true,
         "type": "scatter",
         "x": [
          1,
          1
         ],
         "y": [
          0,
          2667.3994245000004
         ]
        },
        {
         "line": {
          "color": "black",
          "dash": "longdash",
          "width": 0.5
         },
         "mode": "lines",
         "showlegend": true,
         "type": "scatter",
         "x": [
          8,
          8
         ],
         "y": [
          0,
          2667.3994245000004
         ]
        },
        {
         "line": {
          "color": "black",
          "dash": "longdash",
          "width": 0.5
         },
         "mode": "lines",
         "showlegend": true,
         "type": "scatter",
         "x": [
          9,
          9
         ],
         "y": [
          0,
          2667.3994245000004
         ]
        },
        {
         "line": {
          "color": "black",
          "dash": "longdash",
          "width": 0.5
         },
         "mode": "lines",
         "showlegend": true,
         "type": "scatter",
         "x": [
          12,
          12
         ],
         "y": [
          0,
          2667.3994245000004
         ]
        },
        {
         "line": {
          "color": "black",
          "dash": "longdash",
          "width": 0.5
         },
         "mode": "lines",
         "showlegend": true,
         "type": "scatter",
         "x": [
          14,
          14
         ],
         "y": [
          0,
          2667.3994245000004
         ]
        },
        {
         "line": {
          "color": "black",
          "dash": "longdash",
          "width": 0.5
         },
         "mode": "lines",
         "showlegend": true,
         "type": "scatter",
         "x": [
          7,
          7
         ],
         "y": [
          0,
          2667.3994245000004
         ]
        },
        {
         "line": {
          "color": "black",
          "dash": "longdash",
          "width": 0.5
         },
         "mode": "lines",
         "showlegend": true,
         "type": "scatter",
         "x": [
          9,
          9
         ],
         "y": [
          0,
          2667.3994245000004
         ]
        },
        {
         "line": {
          "color": "black",
          "dash": "longdash",
          "width": 0.5
         },
         "mode": "lines",
         "showlegend": true,
         "type": "scatter",
         "x": [
          12,
          12
         ],
         "y": [
          0,
          2667.3994245000004
         ]
        },
        {
         "line": {
          "color": "black",
          "dash": "longdash",
          "width": 0.5
         },
         "mode": "lines",
         "showlegend": true,
         "type": "scatter",
         "x": [
          15,
          15
         ],
         "y": [
          0,
          2667.3994245000004
         ]
        },
        {
         "line": {
          "color": "black",
          "dash": "longdash",
          "width": 0.5
         },
         "mode": "lines",
         "showlegend": true,
         "type": "scatter",
         "x": [
          46,
          46
         ],
         "y": [
          0,
          2667.3994245000004
         ]
        },
        {
         "line": {
          "color": "black",
          "dash": "longdash",
          "width": 0.5
         },
         "mode": "lines",
         "showlegend": true,
         "type": "scatter",
         "x": [
          50,
          50
         ],
         "y": [
          0,
          2667.3994245000004
         ]
        },
        {
         "line": {
          "color": "black",
          "dash": "longdash",
          "width": 0.5
         },
         "mode": "lines",
         "showlegend": true,
         "type": "scatter",
         "x": [
          55,
          55
         ],
         "y": [
          0,
          2667.3994245000004
         ]
        },
        {
         "line": {
          "color": "black",
          "dash": "longdash",
          "width": 0.5
         },
         "mode": "lines",
         "showlegend": true,
         "type": "scatter",
         "x": [
          59,
          59
         ],
         "y": [
          0,
          2667.3994245000004
         ]
        },
        {
         "line": {
          "color": "black",
          "dash": "longdash",
          "width": 0.5
         },
         "mode": "lines",
         "showlegend": true,
         "type": "scatter",
         "x": [
          63,
          63
         ],
         "y": [
          0,
          2667.3994245000004
         ]
        },
        {
         "line": {
          "color": "black",
          "dash": "longdash",
          "width": 0.5
         },
         "mode": "lines",
         "showlegend": true,
         "type": "scatter",
         "x": [
          66,
          66
         ],
         "y": [
          0,
          2667.3994245000004
         ]
        },
        {
         "line": {
          "width": 2
         },
         "mode": "lines",
         "name": "read signal slices with constant bw",
         "showlegend": true,
         "type": "scatter",
         "x": [
          0,
          1,
          2,
          3,
          4,
          5,
          6,
          7,
          8,
          9,
          10,
          11,
          12,
          13,
          14,
          15,
          16,
          17,
          18,
          19,
          20,
          21,
          22,
          23,
          24,
          25,
          26,
          27,
          28,
          29,
          30,
          31,
          32,
          33,
          34,
          35,
          36,
          37,
          38,
          39,
          40,
          41,
          42,
          43,
          44,
          45,
          46,
          47,
          48,
          49,
          50,
          51,
          52,
          53,
          54,
          55,
          56,
          57,
          58,
          59,
          60,
          61,
          62,
          63,
          64,
          65,
          66,
          67,
          68,
          69
         ],
         "y": [
          0.005584999998672014,
          1730.8081319999974,
          2.591382857140161,
          2.591382857140161,
          2.591382857140161,
          2.591382857140161,
          2.591382857140161,
          2.591382857140161,
          2.591382857140161,
          1586.2557259999946,
          2.3514400000005935,
          2.3514400000005935,
          2.3514400000005935,
          1584.4921384999989,
          1584.4921384999989,
          2.253718090908251,
          2.253718090908251,
          2.253718090908251,
          2.253718090908251,
          2.253718090908251,
          2.253718090908251,
          2.253718090908251,
          2.253718090908251,
          2.253718090908251,
          2.253718090908251,
          2.253718090908251,
          2.253718090908251,
          2.253718090908251,
          2.253718090908251,
          2.253718090908251,
          2.253718090908251,
          2.253718090908251,
          2.253718090908251,
          2.253718090908251,
          2.253718090908251,
          2.253718090908251,
          2.253718090908251,
          2.253718090908251,
          2.253718090908251,
          2.253718090908251,
          2.253718090908251,
          2.253718090908251,
          2.253718090908251,
          2.253718090908251,
          2.253718090908251,
          2.253718090908251,
          2.253718090908251,
          2.253718090908251,
          2.253718090908251,
          2.253718090908251,
          2.253718090908251,
          2.253718090908251,
          2.253718090908251,
          2.253718090908251,
          2.253718090908251,
          2.253718090908251,
          2.253718090908251,
          2.253718090908251,
          2.253718090908251,
          2.253718090908251,
          2.253718090908251,
          2.253718090908251,
          2.253718090908251,
          2.253718090908251,
          2.253718090908251,
          2.253718090908251,
          2.253718090908251,
          2.253718090908251,
          2.2537180909080234,
          2.2537180909080234
         ]
        },
        {
         "line": {
          "width": 2
         },
         "mode": "lines",
         "name": "write signal slices with constant bw",
         "showlegend": true,
         "type": "scatter",
         "x": [
          0,
          1,
          2,
          3,
          4,
          5,
          6,
          7,
          8,
          9,
          10,
          11,
          12,
          13,
          14,
          15,
          16,
          17,
          18,
          19,
          20,
          21,
          22,
          23,
          24,
          25,
          26,
          27,
          28,
          29,
          30,
          31,
          32,
          33,
          34,
          35,
          36,
          37,
          38,
          39,
          40,
          41,
          42,
          43,
          44,
          45,
          46,
          47,
          48,
          49,
          50,
          51,
          52,
          53,
          54,
          55,
          56,
          57,
          58,
          59,
          60,
          61,
          62,
          63,
          64,
          65,
          66,
          67,
          68,
          69
         ],
         "y": [
          3.8403772499997686,
          3.8403772499997686,
          3.8403772499997686,
          3.8403772499997686,
          3.8403772499997686,
          3.8403772499997686,
          3.8403772499997686,
          3.8403772499997686,
          1019.3927985000021,
          1019.3927985000021,
          -1.7053025658242404e-12,
          -1.7053025658242404e-12,
          -1.7053025658242404e-12,
          1379.6724059999997,
          1379.6724059999997,
          1379.6724059999997,
          -2.2737367544323206e-13,
          -2.2737367544323206e-13,
          -2.2737367544323206e-13,
          -2.2737367544323206e-13,
          -2.2737367544323206e-13,
          -2.2737367544323206e-13,
          -2.2737367544323206e-13,
          -2.2737367544323206e-13,
          -2.2737367544323206e-13,
          -2.2737367544323206e-13,
          -2.2737367544323206e-13,
          -2.2737367544323206e-13,
          -2.2737367544323206e-13,
          -2.2737367544323206e-13,
          -2.2737367544323206e-13,
          -2.2737367544323206e-13,
          -2.2737367544323206e-13,
          -2.2737367544323206e-13,
          -2.2737367544323206e-13,
          -2.2737367544323206e-13,
          -2.2737367544323206e-13,
          -2.2737367544323206e-13,
          -2.2737367544323206e-13,
          -2.2737367544323206e-13,
          -2.2737367544323206e-13,
          -2.2737367544323206e-13,
          -2.2737367544323206e-13,
          -2.2737367544323206e-13,
          -2.2737367544323206e-13,
          -2.2737367544323206e-13,
          -2.2737367544323206e-13,
          1333.6997122499997,
          1333.6997122499997,
          1333.6997122499997,
          1333.6997122499997,
          2.2737367544323206e-13,
          2.2737367544323206e-13,
          2.2737367544323206e-13,
          2.2737367544323206e-13,
          2.2737367544323206e-13,
          1326.2885902499997,
          1326.2885902499997,
          1326.2885902499997,
          1326.2885902499997,
          91.05528774999925,
          91.05528774999925,
          91.05528774999925,
          91.05528774999925,
          1530.3022526666657,
          1530.3022526666657,
          1530.3022526666657,
          136.43847599999958,
          136.4384759999998,
          136.4384759999998
         ]
        }
       ],
       "layout": {
        "height": 600,
        "legend": {
         "orientation": "h",
         "title": {
          "text": "Signals"
         },
         "yanchor": "top"
        },
        "template": {
         "data": {
          "bar": [
           {
            "error_x": {
             "color": "#2a3f5f"
            },
            "error_y": {
             "color": "#2a3f5f"
            },
            "marker": {
             "line": {
              "color": "#E5ECF6",
              "width": 0.5
             }
            },
            "type": "bar"
           }
          ],
          "barpolar": [
           {
            "marker": {
             "line": {
              "color": "#E5ECF6",
              "width": 0.5
             }
            },
            "type": "barpolar"
           }
          ],
          "carpet": [
           {
            "aaxis": {
             "endlinecolor": "#2a3f5f",
             "gridcolor": "white",
             "linecolor": "white",
             "minorgridcolor": "white",
             "startlinecolor": "#2a3f5f"
            },
            "baxis": {
             "endlinecolor": "#2a3f5f",
             "gridcolor": "white",
             "linecolor": "white",
             "minorgridcolor": "white",
             "startlinecolor": "#2a3f5f"
            },
            "type": "carpet"
           }
          ],
          "choropleth": [
           {
            "colorbar": {
             "outlinewidth": 0,
             "ticks": ""
            },
            "type": "choropleth"
           }
          ],
          "contour": [
           {
            "colorbar": {
             "outlinewidth": 0,
             "ticks": ""
            },
            "colorscale": [
             [
              0,
              "#0d0887"
             ],
             [
              0.1111111111111111,
              "#46039f"
             ],
             [
              0.2222222222222222,
              "#7201a8"
             ],
             [
              0.3333333333333333,
              "#9c179e"
             ],
             [
              0.4444444444444444,
              "#bd3786"
             ],
             [
              0.5555555555555556,
              "#d8576b"
             ],
             [
              0.6666666666666666,
              "#ed7953"
             ],
             [
              0.7777777777777778,
              "#fb9f3a"
             ],
             [
              0.8888888888888888,
              "#fdca26"
             ],
             [
              1,
              "#f0f921"
             ]
            ],
            "type": "contour"
           }
          ],
          "contourcarpet": [
           {
            "colorbar": {
             "outlinewidth": 0,
             "ticks": ""
            },
            "type": "contourcarpet"
           }
          ],
          "heatmap": [
           {
            "colorbar": {
             "outlinewidth": 0,
             "ticks": ""
            },
            "colorscale": [
             [
              0,
              "#0d0887"
             ],
             [
              0.1111111111111111,
              "#46039f"
             ],
             [
              0.2222222222222222,
              "#7201a8"
             ],
             [
              0.3333333333333333,
              "#9c179e"
             ],
             [
              0.4444444444444444,
              "#bd3786"
             ],
             [
              0.5555555555555556,
              "#d8576b"
             ],
             [
              0.6666666666666666,
              "#ed7953"
             ],
             [
              0.7777777777777778,
              "#fb9f3a"
             ],
             [
              0.8888888888888888,
              "#fdca26"
             ],
             [
              1,
              "#f0f921"
             ]
            ],
            "type": "heatmap"
           }
          ],
          "heatmapgl": [
           {
            "colorbar": {
             "outlinewidth": 0,
             "ticks": ""
            },
            "colorscale": [
             [
              0,
              "#0d0887"
             ],
             [
              0.1111111111111111,
              "#46039f"
             ],
             [
              0.2222222222222222,
              "#7201a8"
             ],
             [
              0.3333333333333333,
              "#9c179e"
             ],
             [
              0.4444444444444444,
              "#bd3786"
             ],
             [
              0.5555555555555556,
              "#d8576b"
             ],
             [
              0.6666666666666666,
              "#ed7953"
             ],
             [
              0.7777777777777778,
              "#fb9f3a"
             ],
             [
              0.8888888888888888,
              "#fdca26"
             ],
             [
              1,
              "#f0f921"
             ]
            ],
            "type": "heatmapgl"
           }
          ],
          "histogram": [
           {
            "marker": {
             "colorbar": {
              "outlinewidth": 0,
              "ticks": ""
             }
            },
            "type": "histogram"
           }
          ],
          "histogram2d": [
           {
            "colorbar": {
             "outlinewidth": 0,
             "ticks": ""
            },
            "colorscale": [
             [
              0,
              "#0d0887"
             ],
             [
              0.1111111111111111,
              "#46039f"
             ],
             [
              0.2222222222222222,
              "#7201a8"
             ],
             [
              0.3333333333333333,
              "#9c179e"
             ],
             [
              0.4444444444444444,
              "#bd3786"
             ],
             [
              0.5555555555555556,
              "#d8576b"
             ],
             [
              0.6666666666666666,
              "#ed7953"
             ],
             [
              0.7777777777777778,
              "#fb9f3a"
             ],
             [
              0.8888888888888888,
              "#fdca26"
             ],
             [
              1,
              "#f0f921"
             ]
            ],
            "type": "histogram2d"
           }
          ],
          "histogram2dcontour": [
           {
            "colorbar": {
             "outlinewidth": 0,
             "ticks": ""
            },
            "colorscale": [
             [
              0,
              "#0d0887"
             ],
             [
              0.1111111111111111,
              "#46039f"
             ],
             [
              0.2222222222222222,
              "#7201a8"
             ],
             [
              0.3333333333333333,
              "#9c179e"
             ],
             [
              0.4444444444444444,
              "#bd3786"
             ],
             [
              0.5555555555555556,
              "#d8576b"
             ],
             [
              0.6666666666666666,
              "#ed7953"
             ],
             [
              0.7777777777777778,
              "#fb9f3a"
             ],
             [
              0.8888888888888888,
              "#fdca26"
             ],
             [
              1,
              "#f0f921"
             ]
            ],
            "type": "histogram2dcontour"
           }
          ],
          "mesh3d": [
           {
            "colorbar": {
             "outlinewidth": 0,
             "ticks": ""
            },
            "type": "mesh3d"
           }
          ],
          "parcoords": [
           {
            "line": {
             "colorbar": {
              "outlinewidth": 0,
              "ticks": ""
             }
            },
            "type": "parcoords"
           }
          ],
          "pie": [
           {
            "automargin": true,
            "type": "pie"
           }
          ],
          "scatter": [
           {
            "marker": {
             "colorbar": {
              "outlinewidth": 0,
              "ticks": ""
             }
            },
            "type": "scatter"
           }
          ],
          "scatter3d": [
           {
            "line": {
             "colorbar": {
              "outlinewidth": 0,
              "ticks": ""
             }
            },
            "marker": {
             "colorbar": {
              "outlinewidth": 0,
              "ticks": ""
             }
            },
            "type": "scatter3d"
           }
          ],
          "scattercarpet": [
           {
            "marker": {
             "colorbar": {
              "outlinewidth": 0,
              "ticks": ""
             }
            },
            "type": "scattercarpet"
           }
          ],
          "scattergeo": [
           {
            "marker": {
             "colorbar": {
              "outlinewidth": 0,
              "ticks": ""
             }
            },
            "type": "scattergeo"
           }
          ],
          "scattergl": [
           {
            "marker": {
             "colorbar": {
              "outlinewidth": 0,
              "ticks": ""
             }
            },
            "type": "scattergl"
           }
          ],
          "scattermapbox": [
           {
            "marker": {
             "colorbar": {
              "outlinewidth": 0,
              "ticks": ""
             }
            },
            "type": "scattermapbox"
           }
          ],
          "scatterpolar": [
           {
            "marker": {
             "colorbar": {
              "outlinewidth": 0,
              "ticks": ""
             }
            },
            "type": "scatterpolar"
           }
          ],
          "scatterpolargl": [
           {
            "marker": {
             "colorbar": {
              "outlinewidth": 0,
              "ticks": ""
             }
            },
            "type": "scatterpolargl"
           }
          ],
          "scatterternary": [
           {
            "marker": {
             "colorbar": {
              "outlinewidth": 0,
              "ticks": ""
             }
            },
            "type": "scatterternary"
           }
          ],
          "surface": [
           {
            "colorbar": {
             "outlinewidth": 0,
             "ticks": ""
            },
            "colorscale": [
             [
              0,
              "#0d0887"
             ],
             [
              0.1111111111111111,
              "#46039f"
             ],
             [
              0.2222222222222222,
              "#7201a8"
             ],
             [
              0.3333333333333333,
              "#9c179e"
             ],
             [
              0.4444444444444444,
              "#bd3786"
             ],
             [
              0.5555555555555556,
              "#d8576b"
             ],
             [
              0.6666666666666666,
              "#ed7953"
             ],
             [
              0.7777777777777778,
              "#fb9f3a"
             ],
             [
              0.8888888888888888,
              "#fdca26"
             ],
             [
              1,
              "#f0f921"
             ]
            ],
            "type": "surface"
           }
          ],
          "table": [
           {
            "cells": {
             "fill": {
              "color": "#EBF0F8"
             },
             "line": {
              "color": "white"
             }
            },
            "header": {
             "fill": {
              "color": "#C8D4E3"
             },
             "line": {
              "color": "white"
             }
            },
            "type": "table"
           }
          ]
         },
         "layout": {
          "annotationdefaults": {
           "arrowcolor": "#2a3f5f",
           "arrowhead": 0,
           "arrowwidth": 1
          },
          "coloraxis": {
           "colorbar": {
            "outlinewidth": 0,
            "ticks": ""
           }
          },
          "colorscale": {
           "diverging": [
            [
             0,
             "#8e0152"
            ],
            [
             0.1,
             "#c51b7d"
            ],
            [
             0.2,
             "#de77ae"
            ],
            [
             0.3,
             "#f1b6da"
            ],
            [
             0.4,
             "#fde0ef"
            ],
            [
             0.5,
             "#f7f7f7"
            ],
            [
             0.6,
             "#e6f5d0"
            ],
            [
             0.7,
             "#b8e186"
            ],
            [
             0.8,
             "#7fbc41"
            ],
            [
             0.9,
             "#4d9221"
            ],
            [
             1,
             "#276419"
            ]
           ],
           "sequential": [
            [
             0,
             "#0d0887"
            ],
            [
             0.1111111111111111,
             "#46039f"
            ],
            [
             0.2222222222222222,
             "#7201a8"
            ],
            [
             0.3333333333333333,
             "#9c179e"
            ],
            [
             0.4444444444444444,
             "#bd3786"
            ],
            [
             0.5555555555555556,
             "#d8576b"
            ],
            [
             0.6666666666666666,
             "#ed7953"
            ],
            [
             0.7777777777777778,
             "#fb9f3a"
            ],
            [
             0.8888888888888888,
             "#fdca26"
            ],
            [
             1,
             "#f0f921"
            ]
           ],
           "sequentialminus": [
            [
             0,
             "#0d0887"
            ],
            [
             0.1111111111111111,
             "#46039f"
            ],
            [
             0.2222222222222222,
             "#7201a8"
            ],
            [
             0.3333333333333333,
             "#9c179e"
            ],
            [
             0.4444444444444444,
             "#bd3786"
            ],
            [
             0.5555555555555556,
             "#d8576b"
            ],
            [
             0.6666666666666666,
             "#ed7953"
            ],
            [
             0.7777777777777778,
             "#fb9f3a"
            ],
            [
             0.8888888888888888,
             "#fdca26"
            ],
            [
             1,
             "#f0f921"
            ]
           ]
          },
          "colorway": [
           "#636efa",
           "#EF553B",
           "#00cc96",
           "#ab63fa",
           "#FFA15A",
           "#19d3f3",
           "#FF6692",
           "#B6E880",
           "#FF97FF",
           "#FECB52"
          ],
          "font": {
           "color": "#2a3f5f"
          },
          "geo": {
           "bgcolor": "white",
           "lakecolor": "white",
           "landcolor": "#E5ECF6",
           "showlakes": true,
           "showland": true,
           "subunitcolor": "white"
          },
          "hoverlabel": {
           "align": "left"
          },
          "hovermode": "closest",
          "mapbox": {
           "style": "light"
          },
          "paper_bgcolor": "white",
          "plot_bgcolor": "#E5ECF6",
          "polar": {
           "angularaxis": {
            "gridcolor": "white",
            "linecolor": "white",
            "ticks": ""
           },
           "bgcolor": "#E5ECF6",
           "radialaxis": {
            "gridcolor": "white",
            "linecolor": "white",
            "ticks": ""
           }
          },
          "scene": {
           "xaxis": {
            "backgroundcolor": "#E5ECF6",
            "gridcolor": "white",
            "gridwidth": 2,
            "linecolor": "white",
            "showbackground": true,
            "ticks": "",
            "zerolinecolor": "white"
           },
           "yaxis": {
            "backgroundcolor": "#E5ECF6",
            "gridcolor": "white",
            "gridwidth": 2,
            "linecolor": "white",
            "showbackground": true,
            "ticks": "",
            "zerolinecolor": "white"
           },
           "zaxis": {
            "backgroundcolor": "#E5ECF6",
            "gridcolor": "white",
            "gridwidth": 2,
            "linecolor": "white",
            "showbackground": true,
            "ticks": "",
            "zerolinecolor": "white"
           }
          },
          "shapedefaults": {
           "line": {
            "color": "#2a3f5f"
           }
          },
          "ternary": {
           "aaxis": {
            "gridcolor": "white",
            "linecolor": "white",
            "ticks": ""
           },
           "baxis": {
            "gridcolor": "white",
            "linecolor": "white",
            "ticks": ""
           },
           "bgcolor": "#E5ECF6",
           "caxis": {
            "gridcolor": "white",
            "linecolor": "white",
            "ticks": ""
           }
          },
          "title": {
           "x": 0.05
          },
          "xaxis": {
           "automargin": true,
           "gridcolor": "white",
           "linecolor": "white",
           "ticks": "",
           "title": {
            "standoff": 15
           },
           "zerolinecolor": "white",
           "zerolinewidth": 2
          },
          "yaxis": {
           "automargin": true,
           "gridcolor": "white",
           "linecolor": "white",
           "ticks": "",
           "title": {
            "standoff": 15
           },
           "zerolinecolor": "white",
           "zerolinewidth": 2
          }
         }
        },
        "title": {
         "text": "IOI Signal decomposition"
        },
        "width": 1200,
        "yaxis": {
         "title": {
          "text": "volume conveyed by the application"
         }
        }
       }
      }
     },
     "metadata": {},
     "output_type": "display_data"
    }
   ],
   "source": [
    "plot_detected_phases(jobid, merge=True, show_phases=True, \n",
    "                     ts=(timestamps, original_read, original_write), \n",
    "                     width=1200, height=600, show_legend=True)"
   ]
  },
  {
   "cell_type": "code",
   "execution_count": 90,
   "metadata": {},
   "outputs": [
    {
     "data": {
      "application/vnd.plotly.v1+json": {
       "config": {
        "plotlyServerURL": "https://plot.ly"
       },
       "data": [
        {
         "line": {
          "width": 1.5
         },
         "mode": "lines+markers",
         "name": "original bytesRead signal from IOI",
         "text": [
          "class=0",
          "class=1",
          "class=0",
          "class=0",
          "class=0",
          "class=0",
          "class=0",
          "class=0",
          "class=0",
          "class=1",
          "class=1",
          "class=0",
          "class=0",
          "class=0",
          "class=1",
          "class=1",
          "class=0",
          "class=0",
          "class=0",
          "class=0",
          "class=0",
          "class=0",
          "class=0",
          "class=0",
          "class=0",
          "class=0",
          "class=0",
          "class=0",
          "class=0",
          "class=0",
          "class=0",
          "class=0",
          "class=0",
          "class=0",
          "class=0",
          "class=0",
          "class=0",
          "class=0",
          "class=0",
          "class=0",
          "class=0",
          "class=0",
          "class=0",
          "class=0",
          "class=0",
          "class=0",
          "class=0",
          "class=0",
          "class=0",
          "class=0",
          "class=0",
          "class=0",
          "class=0",
          "class=0",
          "class=0",
          "class=0",
          "class=0",
          "class=0",
          "class=0",
          "class=0",
          "class=0",
          "class=0",
          "class=0",
          "class=0",
          "class=0",
          "class=0",
          "class=0",
          "class=0",
          "class=0",
          "class=0"
         ],
         "type": "scatter",
         "x": [
          0,
          1,
          2,
          3,
          4,
          5,
          6,
          7,
          8,
          9,
          10,
          11,
          12,
          13,
          14,
          15,
          16,
          17,
          18,
          19,
          20,
          21,
          22,
          23,
          24,
          25,
          26,
          27,
          28,
          29,
          30,
          31,
          32,
          33,
          34,
          35,
          36,
          37,
          38,
          39,
          40,
          41,
          42,
          43,
          44,
          45,
          46,
          47,
          48,
          49,
          50,
          51,
          52,
          53,
          54,
          55,
          56,
          57,
          58,
          59,
          60,
          61,
          62,
          63,
          64,
          65,
          66,
          67,
          68,
          69
         ],
         "y": [
          0,
          1730.808132,
          0,
          0,
          0,
          0,
          0,
          0,
          0,
          794.387563,
          794.387563,
          0,
          0,
          0,
          1584.4921385,
          1584.4921385,
          0,
          0,
          0,
          0,
          0,
          0,
          0,
          0,
          0,
          0,
          0,
          0,
          0,
          0,
          0,
          0,
          0,
          0,
          0,
          0,
          0,
          0,
          0,
          0,
          0,
          0,
          0,
          0,
          0,
          0,
          3.02328,
          0,
          0,
          0,
          0,
          0,
          0,
          0,
          0,
          0,
          3.52716,
          3.52716,
          0,
          0,
          0,
          0,
          0,
          2.5194,
          0,
          0,
          0,
          0,
          0,
          0
         ]
        },
        {
         "line": {
          "width": 1.5
         },
         "mode": "lines+markers",
         "name": "original bytesWritten signal from IOI",
         "text": [
          "class=0",
          "class=0",
          "class=0",
          "class=0",
          "class=0",
          "class=0",
          "class=0",
          "class=0",
          "class=0",
          "class=1",
          "class=1",
          "class=0",
          "class=0",
          "class=0",
          "class=1",
          "class=1",
          "class=1",
          "class=0",
          "class=0",
          "class=0",
          "class=0",
          "class=0",
          "class=0",
          "class=0",
          "class=0",
          "class=0",
          "class=0",
          "class=0",
          "class=0",
          "class=0",
          "class=0",
          "class=0",
          "class=0",
          "class=0",
          "class=0",
          "class=0",
          "class=0",
          "class=0",
          "class=0",
          "class=0",
          "class=0",
          "class=0",
          "class=0",
          "class=0",
          "class=0",
          "class=0",
          "class=1",
          "class=1",
          "class=1",
          "class=1",
          "class=0",
          "class=0",
          "class=0",
          "class=0",
          "class=0",
          "class=0",
          "class=1",
          "class=1",
          "class=1",
          "class=0",
          "class=0",
          "class=0",
          "class=0",
          "class=1",
          "class=1",
          "class=1",
          "class=1",
          "class=1",
          "class=0",
          "class=0"
         ],
         "type": "scatter",
         "x": [
          0,
          1,
          2,
          3,
          4,
          5,
          6,
          7,
          8,
          9,
          10,
          11,
          12,
          13,
          14,
          15,
          16,
          17,
          18,
          19,
          20,
          21,
          22,
          23,
          24,
          25,
          26,
          27,
          28,
          29,
          30,
          31,
          32,
          33,
          34,
          35,
          36,
          37,
          38,
          39,
          40,
          41,
          42,
          43,
          44,
          45,
          46,
          47,
          48,
          49,
          50,
          51,
          52,
          53,
          54,
          55,
          56,
          57,
          58,
          59,
          60,
          61,
          62,
          63,
          64,
          65,
          66,
          67,
          68,
          69
         ],
         "y": [
          0,
          0,
          0,
          0,
          0,
          0,
          0,
          0,
          0,
          1019.3927985,
          1019.3927985,
          0,
          0,
          0,
          1379.672406,
          1379.672406,
          1379.672406,
          0,
          0,
          0,
          0,
          0,
          0,
          0,
          0,
          0,
          0,
          0,
          0,
          0,
          0,
          0,
          0,
          0,
          0,
          0,
          0,
          0,
          0,
          0,
          0,
          0,
          0,
          0,
          0,
          0,
          1333.69971225,
          1333.69971225,
          1333.69971225,
          1333.69971225,
          0,
          0,
          0,
          0,
          0,
          0,
          1326.28859025,
          1326.28859025,
          1326.28859025,
          0,
          0,
          0,
          0,
          1066.9597698,
          1066.9597698,
          1066.9597698,
          1066.9597698,
          1066.9597698,
          0,
          0
         ]
        },
        {
         "line": {
          "width": 2
         },
         "mode": "lines",
         "name": "read signal slices with constant bw",
         "type": "scatter",
         "x": [
          0,
          1,
          2,
          3,
          4,
          5,
          6,
          7,
          8,
          9,
          10,
          11,
          12,
          13,
          14,
          15,
          16,
          17,
          18,
          19,
          20,
          21,
          22,
          23,
          24,
          25,
          26,
          27,
          28,
          29,
          30,
          31,
          32,
          33,
          34,
          35,
          36,
          37,
          38,
          39,
          40,
          41,
          42,
          43,
          44,
          45,
          46,
          47,
          48,
          49,
          50,
          51,
          52,
          53,
          54,
          55,
          56,
          57,
          58,
          59,
          60,
          61,
          62,
          63,
          64,
          65,
          66,
          67,
          68,
          69
         ],
         "y": [
          -2.8606791215460877e-12,
          1730.808131999995,
          -4.774847184307873e-12,
          -4.774847184307873e-12,
          -4.774847184307873e-12,
          -4.774847184307873e-12,
          -4.774847184307873e-12,
          -4.774847184307873e-12,
          -4.774847184307873e-12,
          794.3875630000007,
          794.3875630000007,
          -3.979039320256561e-12,
          -3.979039320256561e-12,
          -3.979039320256561e-12,
          1584.492138499997,
          1584.492138499997,
          0.23327777777330994,
          0.23327777777330994,
          0.23327777777330994,
          0.23327777777330994,
          0.23327777777330994,
          0.23327777777330994,
          0.23327777777330994,
          0.23327777777330994,
          0.23327777777330994,
          0.23327777777330994,
          0.23327777777330994,
          0.23327777777330994,
          0.23327777777330994,
          0.23327777777330994,
          0.23327777777330994,
          0.23327777777330994,
          0.23327777777330994,
          0.23327777777330994,
          0.23327777777330994,
          0.23327777777330994,
          0.23327777777330994,
          0.23327777777330994,
          0.23327777777330994,
          0.23327777777330994,
          0.23327777777330994,
          0.23327777777330994,
          0.23327777777330994,
          0.23327777777330994,
          0.23327777777330994,
          0.23327777777330994,
          0.23327777777330994,
          0.23327777777330994,
          0.23327777777330994,
          0.23327777777330994,
          0.23327777777330994,
          0.23327777777330994,
          0.23327777777330994,
          0.23327777777330994,
          0.23327777777330994,
          0.23327777777330994,
          0.23327777777330994,
          0.23327777777330994,
          0.23327777777330994,
          0.23327777777330994,
          0.23327777777330994,
          0.23327777777330994,
          0.23327777777330994,
          0.23327777777330994,
          0.23327777777330994,
          0.23327777777330994,
          0.23327777777330994,
          0.23327777777330994,
          0.2332777777735373,
          0.2332777777735373
         ]
        },
        {
         "line": {
          "width": 2
         },
         "mode": "lines",
         "name": "write signal slices with constant bw",
         "type": "scatter",
         "x": [
          0,
          1,
          2,
          3,
          4,
          5,
          6,
          7,
          8,
          9,
          10,
          11,
          12,
          13,
          14,
          15,
          16,
          17,
          18,
          19,
          20,
          21,
          22,
          23,
          24,
          25,
          26,
          27,
          28,
          29,
          30,
          31,
          32,
          33,
          34,
          35,
          36,
          37,
          38,
          39,
          40,
          41,
          42,
          43,
          44,
          45,
          46,
          47,
          48,
          49,
          50,
          51,
          52,
          53,
          54,
          55,
          56,
          57,
          58,
          59,
          60,
          61,
          62,
          63,
          64,
          65,
          66,
          67,
          68,
          69
         ],
         "y": [
          -6.320770870697376e-14,
          -6.320770870697376e-14,
          -6.320770870697376e-14,
          -6.320770870697376e-14,
          -6.320770870697376e-14,
          -6.320770870697376e-14,
          -6.320770870697376e-14,
          -6.320770870697376e-14,
          -6.320770870697376e-14,
          1019.3927985000018,
          1019.3927985000018,
          0,
          0,
          0,
          1379.6724060000006,
          1379.6724060000006,
          1379.6724060000006,
          -4.547473508864641e-13,
          -4.547473508864641e-13,
          -4.547473508864641e-13,
          -4.547473508864641e-13,
          -4.547473508864641e-13,
          -4.547473508864641e-13,
          -4.547473508864641e-13,
          -4.547473508864641e-13,
          -4.547473508864641e-13,
          -4.547473508864641e-13,
          -4.547473508864641e-13,
          -4.547473508864641e-13,
          -4.547473508864641e-13,
          -4.547473508864641e-13,
          -4.547473508864641e-13,
          -4.547473508864641e-13,
          -4.547473508864641e-13,
          -4.547473508864641e-13,
          -4.547473508864641e-13,
          -4.547473508864641e-13,
          -4.547473508864641e-13,
          -4.547473508864641e-13,
          -4.547473508864641e-13,
          -4.547473508864641e-13,
          -4.547473508864641e-13,
          -4.547473508864641e-13,
          -4.547473508864641e-13,
          -4.547473508864641e-13,
          -4.547473508864641e-13,
          1333.6997122500018,
          1333.6997122500018,
          1333.6997122500018,
          1333.6997122500018,
          -2.2737367544323206e-13,
          -2.2737367544323206e-13,
          -2.2737367544323206e-13,
          -2.2737367544323206e-13,
          -2.2737367544323206e-13,
          -2.2737367544323206e-13,
          1326.2885902500002,
          1326.2885902500002,
          1326.2885902500002,
          0,
          0,
          0,
          0,
          1066.959769800001,
          1066.959769800001,
          1066.959769800001,
          1066.959769800001,
          1066.959769800001,
          -9.094947017729282e-13,
          -9.094947017729282e-13
         ]
        }
       ],
       "layout": {
        "height": 600,
        "legend": {
         "orientation": "h",
         "title": {
          "text": "Signals"
         },
         "yanchor": "top"
        },
        "template": {
         "data": {
          "bar": [
           {
            "error_x": {
             "color": "#2a3f5f"
            },
            "error_y": {
             "color": "#2a3f5f"
            },
            "marker": {
             "line": {
              "color": "#E5ECF6",
              "width": 0.5
             }
            },
            "type": "bar"
           }
          ],
          "barpolar": [
           {
            "marker": {
             "line": {
              "color": "#E5ECF6",
              "width": 0.5
             }
            },
            "type": "barpolar"
           }
          ],
          "carpet": [
           {
            "aaxis": {
             "endlinecolor": "#2a3f5f",
             "gridcolor": "white",
             "linecolor": "white",
             "minorgridcolor": "white",
             "startlinecolor": "#2a3f5f"
            },
            "baxis": {
             "endlinecolor": "#2a3f5f",
             "gridcolor": "white",
             "linecolor": "white",
             "minorgridcolor": "white",
             "startlinecolor": "#2a3f5f"
            },
            "type": "carpet"
           }
          ],
          "choropleth": [
           {
            "colorbar": {
             "outlinewidth": 0,
             "ticks": ""
            },
            "type": "choropleth"
           }
          ],
          "contour": [
           {
            "colorbar": {
             "outlinewidth": 0,
             "ticks": ""
            },
            "colorscale": [
             [
              0,
              "#0d0887"
             ],
             [
              0.1111111111111111,
              "#46039f"
             ],
             [
              0.2222222222222222,
              "#7201a8"
             ],
             [
              0.3333333333333333,
              "#9c179e"
             ],
             [
              0.4444444444444444,
              "#bd3786"
             ],
             [
              0.5555555555555556,
              "#d8576b"
             ],
             [
              0.6666666666666666,
              "#ed7953"
             ],
             [
              0.7777777777777778,
              "#fb9f3a"
             ],
             [
              0.8888888888888888,
              "#fdca26"
             ],
             [
              1,
              "#f0f921"
             ]
            ],
            "type": "contour"
           }
          ],
          "contourcarpet": [
           {
            "colorbar": {
             "outlinewidth": 0,
             "ticks": ""
            },
            "type": "contourcarpet"
           }
          ],
          "heatmap": [
           {
            "colorbar": {
             "outlinewidth": 0,
             "ticks": ""
            },
            "colorscale": [
             [
              0,
              "#0d0887"
             ],
             [
              0.1111111111111111,
              "#46039f"
             ],
             [
              0.2222222222222222,
              "#7201a8"
             ],
             [
              0.3333333333333333,
              "#9c179e"
             ],
             [
              0.4444444444444444,
              "#bd3786"
             ],
             [
              0.5555555555555556,
              "#d8576b"
             ],
             [
              0.6666666666666666,
              "#ed7953"
             ],
             [
              0.7777777777777778,
              "#fb9f3a"
             ],
             [
              0.8888888888888888,
              "#fdca26"
             ],
             [
              1,
              "#f0f921"
             ]
            ],
            "type": "heatmap"
           }
          ],
          "heatmapgl": [
           {
            "colorbar": {
             "outlinewidth": 0,
             "ticks": ""
            },
            "colorscale": [
             [
              0,
              "#0d0887"
             ],
             [
              0.1111111111111111,
              "#46039f"
             ],
             [
              0.2222222222222222,
              "#7201a8"
             ],
             [
              0.3333333333333333,
              "#9c179e"
             ],
             [
              0.4444444444444444,
              "#bd3786"
             ],
             [
              0.5555555555555556,
              "#d8576b"
             ],
             [
              0.6666666666666666,
              "#ed7953"
             ],
             [
              0.7777777777777778,
              "#fb9f3a"
             ],
             [
              0.8888888888888888,
              "#fdca26"
             ],
             [
              1,
              "#f0f921"
             ]
            ],
            "type": "heatmapgl"
           }
          ],
          "histogram": [
           {
            "marker": {
             "colorbar": {
              "outlinewidth": 0,
              "ticks": ""
             }
            },
            "type": "histogram"
           }
          ],
          "histogram2d": [
           {
            "colorbar": {
             "outlinewidth": 0,
             "ticks": ""
            },
            "colorscale": [
             [
              0,
              "#0d0887"
             ],
             [
              0.1111111111111111,
              "#46039f"
             ],
             [
              0.2222222222222222,
              "#7201a8"
             ],
             [
              0.3333333333333333,
              "#9c179e"
             ],
             [
              0.4444444444444444,
              "#bd3786"
             ],
             [
              0.5555555555555556,
              "#d8576b"
             ],
             [
              0.6666666666666666,
              "#ed7953"
             ],
             [
              0.7777777777777778,
              "#fb9f3a"
             ],
             [
              0.8888888888888888,
              "#fdca26"
             ],
             [
              1,
              "#f0f921"
             ]
            ],
            "type": "histogram2d"
           }
          ],
          "histogram2dcontour": [
           {
            "colorbar": {
             "outlinewidth": 0,
             "ticks": ""
            },
            "colorscale": [
             [
              0,
              "#0d0887"
             ],
             [
              0.1111111111111111,
              "#46039f"
             ],
             [
              0.2222222222222222,
              "#7201a8"
             ],
             [
              0.3333333333333333,
              "#9c179e"
             ],
             [
              0.4444444444444444,
              "#bd3786"
             ],
             [
              0.5555555555555556,
              "#d8576b"
             ],
             [
              0.6666666666666666,
              "#ed7953"
             ],
             [
              0.7777777777777778,
              "#fb9f3a"
             ],
             [
              0.8888888888888888,
              "#fdca26"
             ],
             [
              1,
              "#f0f921"
             ]
            ],
            "type": "histogram2dcontour"
           }
          ],
          "mesh3d": [
           {
            "colorbar": {
             "outlinewidth": 0,
             "ticks": ""
            },
            "type": "mesh3d"
           }
          ],
          "parcoords": [
           {
            "line": {
             "colorbar": {
              "outlinewidth": 0,
              "ticks": ""
             }
            },
            "type": "parcoords"
           }
          ],
          "pie": [
           {
            "automargin": true,
            "type": "pie"
           }
          ],
          "scatter": [
           {
            "marker": {
             "colorbar": {
              "outlinewidth": 0,
              "ticks": ""
             }
            },
            "type": "scatter"
           }
          ],
          "scatter3d": [
           {
            "line": {
             "colorbar": {
              "outlinewidth": 0,
              "ticks": ""
             }
            },
            "marker": {
             "colorbar": {
              "outlinewidth": 0,
              "ticks": ""
             }
            },
            "type": "scatter3d"
           }
          ],
          "scattercarpet": [
           {
            "marker": {
             "colorbar": {
              "outlinewidth": 0,
              "ticks": ""
             }
            },
            "type": "scattercarpet"
           }
          ],
          "scattergeo": [
           {
            "marker": {
             "colorbar": {
              "outlinewidth": 0,
              "ticks": ""
             }
            },
            "type": "scattergeo"
           }
          ],
          "scattergl": [
           {
            "marker": {
             "colorbar": {
              "outlinewidth": 0,
              "ticks": ""
             }
            },
            "type": "scattergl"
           }
          ],
          "scattermapbox": [
           {
            "marker": {
             "colorbar": {
              "outlinewidth": 0,
              "ticks": ""
             }
            },
            "type": "scattermapbox"
           }
          ],
          "scatterpolar": [
           {
            "marker": {
             "colorbar": {
              "outlinewidth": 0,
              "ticks": ""
             }
            },
            "type": "scatterpolar"
           }
          ],
          "scatterpolargl": [
           {
            "marker": {
             "colorbar": {
              "outlinewidth": 0,
              "ticks": ""
             }
            },
            "type": "scatterpolargl"
           }
          ],
          "scatterternary": [
           {
            "marker": {
             "colorbar": {
              "outlinewidth": 0,
              "ticks": ""
             }
            },
            "type": "scatterternary"
           }
          ],
          "surface": [
           {
            "colorbar": {
             "outlinewidth": 0,
             "ticks": ""
            },
            "colorscale": [
             [
              0,
              "#0d0887"
             ],
             [
              0.1111111111111111,
              "#46039f"
             ],
             [
              0.2222222222222222,
              "#7201a8"
             ],
             [
              0.3333333333333333,
              "#9c179e"
             ],
             [
              0.4444444444444444,
              "#bd3786"
             ],
             [
              0.5555555555555556,
              "#d8576b"
             ],
             [
              0.6666666666666666,
              "#ed7953"
             ],
             [
              0.7777777777777778,
              "#fb9f3a"
             ],
             [
              0.8888888888888888,
              "#fdca26"
             ],
             [
              1,
              "#f0f921"
             ]
            ],
            "type": "surface"
           }
          ],
          "table": [
           {
            "cells": {
             "fill": {
              "color": "#EBF0F8"
             },
             "line": {
              "color": "white"
             }
            },
            "header": {
             "fill": {
              "color": "#C8D4E3"
             },
             "line": {
              "color": "white"
             }
            },
            "type": "table"
           }
          ]
         },
         "layout": {
          "annotationdefaults": {
           "arrowcolor": "#2a3f5f",
           "arrowhead": 0,
           "arrowwidth": 1
          },
          "coloraxis": {
           "colorbar": {
            "outlinewidth": 0,
            "ticks": ""
           }
          },
          "colorscale": {
           "diverging": [
            [
             0,
             "#8e0152"
            ],
            [
             0.1,
             "#c51b7d"
            ],
            [
             0.2,
             "#de77ae"
            ],
            [
             0.3,
             "#f1b6da"
            ],
            [
             0.4,
             "#fde0ef"
            ],
            [
             0.5,
             "#f7f7f7"
            ],
            [
             0.6,
             "#e6f5d0"
            ],
            [
             0.7,
             "#b8e186"
            ],
            [
             0.8,
             "#7fbc41"
            ],
            [
             0.9,
             "#4d9221"
            ],
            [
             1,
             "#276419"
            ]
           ],
           "sequential": [
            [
             0,
             "#0d0887"
            ],
            [
             0.1111111111111111,
             "#46039f"
            ],
            [
             0.2222222222222222,
             "#7201a8"
            ],
            [
             0.3333333333333333,
             "#9c179e"
            ],
            [
             0.4444444444444444,
             "#bd3786"
            ],
            [
             0.5555555555555556,
             "#d8576b"
            ],
            [
             0.6666666666666666,
             "#ed7953"
            ],
            [
             0.7777777777777778,
             "#fb9f3a"
            ],
            [
             0.8888888888888888,
             "#fdca26"
            ],
            [
             1,
             "#f0f921"
            ]
           ],
           "sequentialminus": [
            [
             0,
             "#0d0887"
            ],
            [
             0.1111111111111111,
             "#46039f"
            ],
            [
             0.2222222222222222,
             "#7201a8"
            ],
            [
             0.3333333333333333,
             "#9c179e"
            ],
            [
             0.4444444444444444,
             "#bd3786"
            ],
            [
             0.5555555555555556,
             "#d8576b"
            ],
            [
             0.6666666666666666,
             "#ed7953"
            ],
            [
             0.7777777777777778,
             "#fb9f3a"
            ],
            [
             0.8888888888888888,
             "#fdca26"
            ],
            [
             1,
             "#f0f921"
            ]
           ]
          },
          "colorway": [
           "#636efa",
           "#EF553B",
           "#00cc96",
           "#ab63fa",
           "#FFA15A",
           "#19d3f3",
           "#FF6692",
           "#B6E880",
           "#FF97FF",
           "#FECB52"
          ],
          "font": {
           "color": "#2a3f5f"
          },
          "geo": {
           "bgcolor": "white",
           "lakecolor": "white",
           "landcolor": "#E5ECF6",
           "showlakes": true,
           "showland": true,
           "subunitcolor": "white"
          },
          "hoverlabel": {
           "align": "left"
          },
          "hovermode": "closest",
          "mapbox": {
           "style": "light"
          },
          "paper_bgcolor": "white",
          "plot_bgcolor": "#E5ECF6",
          "polar": {
           "angularaxis": {
            "gridcolor": "white",
            "linecolor": "white",
            "ticks": ""
           },
           "bgcolor": "#E5ECF6",
           "radialaxis": {
            "gridcolor": "white",
            "linecolor": "white",
            "ticks": ""
           }
          },
          "scene": {
           "xaxis": {
            "backgroundcolor": "#E5ECF6",
            "gridcolor": "white",
            "gridwidth": 2,
            "linecolor": "white",
            "showbackground": true,
            "ticks": "",
            "zerolinecolor": "white"
           },
           "yaxis": {
            "backgroundcolor": "#E5ECF6",
            "gridcolor": "white",
            "gridwidth": 2,
            "linecolor": "white",
            "showbackground": true,
            "ticks": "",
            "zerolinecolor": "white"
           },
           "zaxis": {
            "backgroundcolor": "#E5ECF6",
            "gridcolor": "white",
            "gridwidth": 2,
            "linecolor": "white",
            "showbackground": true,
            "ticks": "",
            "zerolinecolor": "white"
           }
          },
          "shapedefaults": {
           "line": {
            "color": "#2a3f5f"
           }
          },
          "ternary": {
           "aaxis": {
            "gridcolor": "white",
            "linecolor": "white",
            "ticks": ""
           },
           "baxis": {
            "gridcolor": "white",
            "linecolor": "white",
            "ticks": ""
           },
           "bgcolor": "#E5ECF6",
           "caxis": {
            "gridcolor": "white",
            "linecolor": "white",
            "ticks": ""
           }
          },
          "title": {
           "x": 0.05
          },
          "xaxis": {
           "automargin": true,
           "gridcolor": "white",
           "linecolor": "white",
           "ticks": "",
           "title": {
            "standoff": 15
           },
           "zerolinecolor": "white",
           "zerolinewidth": 2
          },
          "yaxis": {
           "automargin": true,
           "gridcolor": "white",
           "linecolor": "white",
           "ticks": "",
           "title": {
            "standoff": 15
           },
           "zerolinecolor": "white",
           "zerolinewidth": 2
          }
         }
        },
        "title": {
         "text": "IOI Signal decomposition"
        },
        "width": 1200,
        "yaxis": {
         "title": {
          "text": "volume conveyed by the application"
         }
        }
       }
      }
     },
     "metadata": {},
     "output_type": "display_data"
    }
   ],
   "source": [
    "#(sim_time, sim_read_bw, sim_write_bw)     (timestamps, original_read, original_write),\n",
    "plot_detected_phases(jobid, merge=True, show_phases=False, \n",
    "                     ts=(sim_time, sim_read_bw, sim_write_bw), \n",
    "                     width=1200, height=600)\n",
    "\n",
    "# plot_detected_phases(jobid, merge=True, show_phases=False, \n",
    "#                      ts=(np.cumsum(sim_time), np.cumsum(sim_read_bw), np.cumsum(sim_write_bw)), \n",
    "#                      width=1200, height=600)\n"
   ]
  },
  {
   "cell_type": "code",
   "execution_count": 91,
   "metadata": {},
   "outputs": [
    {
     "data": {
      "application/vnd.plotly.v1+json": {
       "config": {
        "plotlyServerURL": "https://plot.ly"
       },
       "data": [
        {
         "line": {
          "width": 1.5
         },
         "mode": "lines+markers",
         "name": "original bytesRead signal from IOI",
         "text": [
          "class=0",
          "class=1",
          "class=0",
          "class=0",
          "class=0",
          "class=0",
          "class=0",
          "class=0",
          "class=0",
          "class=1",
          "class=0",
          "class=0",
          "class=0",
          "class=1",
          "class=1",
          "class=0",
          "class=0",
          "class=0",
          "class=0",
          "class=0",
          "class=0",
          "class=0",
          "class=0",
          "class=0",
          "class=0",
          "class=0",
          "class=0",
          "class=0",
          "class=0",
          "class=0",
          "class=0",
          "class=0",
          "class=0",
          "class=0",
          "class=0",
          "class=0",
          "class=0",
          "class=0",
          "class=0",
          "class=0",
          "class=0",
          "class=0",
          "class=0",
          "class=0",
          "class=0",
          "class=0",
          "class=0",
          "class=0",
          "class=0",
          "class=0",
          "class=0",
          "class=0",
          "class=0",
          "class=0",
          "class=0",
          "class=0",
          "class=0",
          "class=0",
          "class=0",
          "class=0",
          "class=0",
          "class=0",
          "class=0",
          "class=0",
          "class=0",
          "class=0",
          "class=0",
          "class=0",
          "class=0",
          "class=0"
         ],
         "type": "scatter",
         "x": [
          0,
          1,
          2,
          3,
          4,
          5,
          6,
          7,
          8,
          9,
          10,
          11,
          12,
          13,
          14,
          15,
          16,
          17,
          18,
          19,
          20,
          21,
          22,
          23,
          24,
          25,
          26,
          27,
          28,
          29,
          30,
          31,
          32,
          33,
          34,
          35,
          36,
          37,
          38,
          39,
          40,
          41,
          42,
          43,
          44,
          45,
          46,
          47,
          48,
          49,
          50,
          51,
          52,
          53,
          54,
          55,
          56,
          57,
          58,
          59,
          60,
          61,
          62,
          63,
          64,
          65,
          66,
          67,
          68,
          69
         ],
         "y": [
          0.005585,
          1730.808132,
          2.01552,
          3.52716,
          3.02328,
          1.51164,
          3.52716,
          2.01552,
          2.5194,
          1586.255726,
          2.01552,
          3.02328,
          2.01552,
          1584.744071,
          1584.240206,
          2.015535,
          1.51164,
          2.01552,
          2.5194,
          2.5194,
          3.02328,
          2.01552,
          1.51164,
          2.5194,
          2.01552,
          1.51164,
          2.5194,
          2.5194,
          3.52716,
          4.53492,
          2.01552,
          2.5194,
          3.52716,
          3.02328,
          1.51164,
          2.01552,
          1.51164,
          1.51164,
          1.51164,
          2.5194,
          3.52716,
          4.03104,
          1.51164,
          1.51164,
          2.01552,
          2.01552,
          2.01552,
          2.01552,
          2.01552,
          1.00776,
          3.02328,
          2.5194,
          2.5194,
          2.01552,
          3.02328,
          1.51164,
          4.53492,
          1.51164,
          2.5194,
          2.01552,
          3.02328,
          3.02328,
          2.5194,
          2.01552,
          1.51164,
          2.5194,
          2.01552,
          1.00776,
          1.51164,
          0
         ]
        },
        {
         "line": {
          "width": 1.5
         },
         "mode": "lines+markers",
         "name": "original bytesWritten signal from IOI",
         "text": [
          "class=0",
          "class=0",
          "class=0",
          "class=0",
          "class=0",
          "class=0",
          "class=0",
          "class=0",
          "class=1",
          "class=1",
          "class=0",
          "class=0",
          "class=0",
          "class=1",
          "class=1",
          "class=1",
          "class=0",
          "class=0",
          "class=0",
          "class=0",
          "class=0",
          "class=0",
          "class=0",
          "class=0",
          "class=0",
          "class=0",
          "class=0",
          "class=0",
          "class=0",
          "class=0",
          "class=0",
          "class=0",
          "class=0",
          "class=0",
          "class=0",
          "class=0",
          "class=0",
          "class=0",
          "class=0",
          "class=0",
          "class=0",
          "class=0",
          "class=0",
          "class=0",
          "class=0",
          "class=0",
          "class=0",
          "class=1",
          "class=1",
          "class=1",
          "class=1",
          "class=0",
          "class=0",
          "class=0",
          "class=0",
          "class=0",
          "class=1",
          "class=1",
          "class=1",
          "class=1",
          "class=0",
          "class=0",
          "class=0",
          "class=0",
          "class=1",
          "class=1",
          "class=1",
          "class=0",
          "class=0",
          "class=0"
         ],
         "type": "scatter",
         "x": [
          0,
          1,
          2,
          3,
          4,
          5,
          6,
          7,
          8,
          9,
          10,
          11,
          12,
          13,
          14,
          15,
          16,
          17,
          18,
          19,
          20,
          21,
          22,
          23,
          24,
          25,
          26,
          27,
          28,
          29,
          30,
          31,
          32,
          33,
          34,
          35,
          36,
          37,
          38,
          39,
          40,
          41,
          42,
          43,
          44,
          45,
          46,
          47,
          48,
          49,
          50,
          51,
          52,
          53,
          54,
          55,
          56,
          57,
          58,
          59,
          60,
          61,
          62,
          63,
          64,
          65,
          66,
          67,
          68,
          69
         ],
         "y": [
          0.000006,
          0,
          0,
          0,
          0,
          0,
          0,
          30.723012,
          1398.881375,
          639.904222,
          0,
          0,
          0,
          1073.703622,
          1847.627567,
          1217.686029,
          0,
          0,
          0,
          0,
          0,
          0,
          0,
          0,
          0,
          0,
          0,
          0,
          0,
          0,
          0,
          0,
          0,
          0,
          0,
          0,
          0,
          0,
          0,
          0,
          0,
          0,
          0,
          0,
          0,
          0,
          0,
          1395.74593,
          1406.144009,
          1478.270825,
          1054.638085,
          0,
          0,
          0,
          0,
          0,
          1013.077956,
          1399.727613,
          1427.428784,
          1464.920008,
          29.644488,
          0,
          0,
          334.576663,
          1542.396138,
          1517.36164,
          1531.14898,
          409.315428,
          0,
          0
         ]
        },
        {
         "line": {
          "width": 2
         },
         "mode": "lines",
         "name": "read signal slices with constant bw",
         "type": "scatter",
         "x": [
          0,
          1,
          2,
          3,
          4,
          5,
          6,
          7,
          8,
          9,
          10,
          11,
          12,
          13,
          14,
          15,
          16,
          17,
          18,
          19,
          20,
          21,
          22,
          23,
          24,
          25,
          26,
          27,
          28,
          29,
          30,
          31,
          32,
          33,
          34,
          35,
          36,
          37,
          38,
          39,
          40,
          41,
          42,
          43,
          44,
          45,
          46,
          47,
          48,
          49,
          50,
          51,
          52,
          53,
          54,
          55,
          56,
          57,
          58,
          59,
          60,
          61,
          62,
          63,
          64,
          65,
          66,
          67,
          68,
          69
         ],
         "y": [
          0.005584999998672014,
          1730.8081319999974,
          2.591382857140161,
          2.591382857140161,
          2.591382857140161,
          2.591382857140161,
          2.591382857140161,
          2.591382857140161,
          2.591382857140161,
          1586.2557259999946,
          2.3514400000005935,
          2.3514400000005935,
          2.3514400000005935,
          1584.4921384999989,
          1584.4921384999989,
          2.253718090908251,
          2.253718090908251,
          2.253718090908251,
          2.253718090908251,
          2.253718090908251,
          2.253718090908251,
          2.253718090908251,
          2.253718090908251,
          2.253718090908251,
          2.253718090908251,
          2.253718090908251,
          2.253718090908251,
          2.253718090908251,
          2.253718090908251,
          2.253718090908251,
          2.253718090908251,
          2.253718090908251,
          2.253718090908251,
          2.253718090908251,
          2.253718090908251,
          2.253718090908251,
          2.253718090908251,
          2.253718090908251,
          2.253718090908251,
          2.253718090908251,
          2.253718090908251,
          2.253718090908251,
          2.253718090908251,
          2.253718090908251,
          2.253718090908251,
          2.253718090908251,
          2.253718090908251,
          2.253718090908251,
          2.253718090908251,
          2.253718090908251,
          2.253718090908251,
          2.253718090908251,
          2.253718090908251,
          2.253718090908251,
          2.253718090908251,
          2.253718090908251,
          2.253718090908251,
          2.253718090908251,
          2.253718090908251,
          2.253718090908251,
          2.253718090908251,
          2.253718090908251,
          2.253718090908251,
          2.253718090908251,
          2.253718090908251,
          2.253718090908251,
          2.253718090908251,
          2.253718090908251,
          2.2537180909080234,
          2.2537180909080234
         ]
        },
        {
         "line": {
          "width": 2
         },
         "mode": "lines",
         "name": "write signal slices with constant bw",
         "type": "scatter",
         "x": [
          0,
          1,
          2,
          3,
          4,
          5,
          6,
          7,
          8,
          9,
          10,
          11,
          12,
          13,
          14,
          15,
          16,
          17,
          18,
          19,
          20,
          21,
          22,
          23,
          24,
          25,
          26,
          27,
          28,
          29,
          30,
          31,
          32,
          33,
          34,
          35,
          36,
          37,
          38,
          39,
          40,
          41,
          42,
          43,
          44,
          45,
          46,
          47,
          48,
          49,
          50,
          51,
          52,
          53,
          54,
          55,
          56,
          57,
          58,
          59,
          60,
          61,
          62,
          63,
          64,
          65,
          66,
          67,
          68,
          69
         ],
         "y": [
          3.8403772499997686,
          3.8403772499997686,
          3.8403772499997686,
          3.8403772499997686,
          3.8403772499997686,
          3.8403772499997686,
          3.8403772499997686,
          3.8403772499997686,
          1019.3927985000021,
          1019.3927985000021,
          -1.7053025658242404e-12,
          -1.7053025658242404e-12,
          -1.7053025658242404e-12,
          1379.6724059999997,
          1379.6724059999997,
          1379.6724059999997,
          -2.2737367544323206e-13,
          -2.2737367544323206e-13,
          -2.2737367544323206e-13,
          -2.2737367544323206e-13,
          -2.2737367544323206e-13,
          -2.2737367544323206e-13,
          -2.2737367544323206e-13,
          -2.2737367544323206e-13,
          -2.2737367544323206e-13,
          -2.2737367544323206e-13,
          -2.2737367544323206e-13,
          -2.2737367544323206e-13,
          -2.2737367544323206e-13,
          -2.2737367544323206e-13,
          -2.2737367544323206e-13,
          -2.2737367544323206e-13,
          -2.2737367544323206e-13,
          -2.2737367544323206e-13,
          -2.2737367544323206e-13,
          -2.2737367544323206e-13,
          -2.2737367544323206e-13,
          -2.2737367544323206e-13,
          -2.2737367544323206e-13,
          -2.2737367544323206e-13,
          -2.2737367544323206e-13,
          -2.2737367544323206e-13,
          -2.2737367544323206e-13,
          -2.2737367544323206e-13,
          -2.2737367544323206e-13,
          -2.2737367544323206e-13,
          -2.2737367544323206e-13,
          1333.6997122499997,
          1333.6997122499997,
          1333.6997122499997,
          1333.6997122499997,
          2.2737367544323206e-13,
          2.2737367544323206e-13,
          2.2737367544323206e-13,
          2.2737367544323206e-13,
          2.2737367544323206e-13,
          1326.2885902499997,
          1326.2885902499997,
          1326.2885902499997,
          1326.2885902499997,
          91.05528774999925,
          91.05528774999925,
          91.05528774999925,
          91.05528774999925,
          1530.3022526666657,
          1530.3022526666657,
          1530.3022526666657,
          136.43847599999958,
          136.4384759999998,
          136.4384759999998
         ]
        }
       ],
       "layout": {
        "height": 600,
        "legend": {
         "orientation": "h",
         "title": {
          "text": "Signals"
         },
         "yanchor": "top"
        },
        "template": {
         "data": {
          "bar": [
           {
            "error_x": {
             "color": "#2a3f5f"
            },
            "error_y": {
             "color": "#2a3f5f"
            },
            "marker": {
             "line": {
              "color": "#E5ECF6",
              "width": 0.5
             }
            },
            "type": "bar"
           }
          ],
          "barpolar": [
           {
            "marker": {
             "line": {
              "color": "#E5ECF6",
              "width": 0.5
             }
            },
            "type": "barpolar"
           }
          ],
          "carpet": [
           {
            "aaxis": {
             "endlinecolor": "#2a3f5f",
             "gridcolor": "white",
             "linecolor": "white",
             "minorgridcolor": "white",
             "startlinecolor": "#2a3f5f"
            },
            "baxis": {
             "endlinecolor": "#2a3f5f",
             "gridcolor": "white",
             "linecolor": "white",
             "minorgridcolor": "white",
             "startlinecolor": "#2a3f5f"
            },
            "type": "carpet"
           }
          ],
          "choropleth": [
           {
            "colorbar": {
             "outlinewidth": 0,
             "ticks": ""
            },
            "type": "choropleth"
           }
          ],
          "contour": [
           {
            "colorbar": {
             "outlinewidth": 0,
             "ticks": ""
            },
            "colorscale": [
             [
              0,
              "#0d0887"
             ],
             [
              0.1111111111111111,
              "#46039f"
             ],
             [
              0.2222222222222222,
              "#7201a8"
             ],
             [
              0.3333333333333333,
              "#9c179e"
             ],
             [
              0.4444444444444444,
              "#bd3786"
             ],
             [
              0.5555555555555556,
              "#d8576b"
             ],
             [
              0.6666666666666666,
              "#ed7953"
             ],
             [
              0.7777777777777778,
              "#fb9f3a"
             ],
             [
              0.8888888888888888,
              "#fdca26"
             ],
             [
              1,
              "#f0f921"
             ]
            ],
            "type": "contour"
           }
          ],
          "contourcarpet": [
           {
            "colorbar": {
             "outlinewidth": 0,
             "ticks": ""
            },
            "type": "contourcarpet"
           }
          ],
          "heatmap": [
           {
            "colorbar": {
             "outlinewidth": 0,
             "ticks": ""
            },
            "colorscale": [
             [
              0,
              "#0d0887"
             ],
             [
              0.1111111111111111,
              "#46039f"
             ],
             [
              0.2222222222222222,
              "#7201a8"
             ],
             [
              0.3333333333333333,
              "#9c179e"
             ],
             [
              0.4444444444444444,
              "#bd3786"
             ],
             [
              0.5555555555555556,
              "#d8576b"
             ],
             [
              0.6666666666666666,
              "#ed7953"
             ],
             [
              0.7777777777777778,
              "#fb9f3a"
             ],
             [
              0.8888888888888888,
              "#fdca26"
             ],
             [
              1,
              "#f0f921"
             ]
            ],
            "type": "heatmap"
           }
          ],
          "heatmapgl": [
           {
            "colorbar": {
             "outlinewidth": 0,
             "ticks": ""
            },
            "colorscale": [
             [
              0,
              "#0d0887"
             ],
             [
              0.1111111111111111,
              "#46039f"
             ],
             [
              0.2222222222222222,
              "#7201a8"
             ],
             [
              0.3333333333333333,
              "#9c179e"
             ],
             [
              0.4444444444444444,
              "#bd3786"
             ],
             [
              0.5555555555555556,
              "#d8576b"
             ],
             [
              0.6666666666666666,
              "#ed7953"
             ],
             [
              0.7777777777777778,
              "#fb9f3a"
             ],
             [
              0.8888888888888888,
              "#fdca26"
             ],
             [
              1,
              "#f0f921"
             ]
            ],
            "type": "heatmapgl"
           }
          ],
          "histogram": [
           {
            "marker": {
             "colorbar": {
              "outlinewidth": 0,
              "ticks": ""
             }
            },
            "type": "histogram"
           }
          ],
          "histogram2d": [
           {
            "colorbar": {
             "outlinewidth": 0,
             "ticks": ""
            },
            "colorscale": [
             [
              0,
              "#0d0887"
             ],
             [
              0.1111111111111111,
              "#46039f"
             ],
             [
              0.2222222222222222,
              "#7201a8"
             ],
             [
              0.3333333333333333,
              "#9c179e"
             ],
             [
              0.4444444444444444,
              "#bd3786"
             ],
             [
              0.5555555555555556,
              "#d8576b"
             ],
             [
              0.6666666666666666,
              "#ed7953"
             ],
             [
              0.7777777777777778,
              "#fb9f3a"
             ],
             [
              0.8888888888888888,
              "#fdca26"
             ],
             [
              1,
              "#f0f921"
             ]
            ],
            "type": "histogram2d"
           }
          ],
          "histogram2dcontour": [
           {
            "colorbar": {
             "outlinewidth": 0,
             "ticks": ""
            },
            "colorscale": [
             [
              0,
              "#0d0887"
             ],
             [
              0.1111111111111111,
              "#46039f"
             ],
             [
              0.2222222222222222,
              "#7201a8"
             ],
             [
              0.3333333333333333,
              "#9c179e"
             ],
             [
              0.4444444444444444,
              "#bd3786"
             ],
             [
              0.5555555555555556,
              "#d8576b"
             ],
             [
              0.6666666666666666,
              "#ed7953"
             ],
             [
              0.7777777777777778,
              "#fb9f3a"
             ],
             [
              0.8888888888888888,
              "#fdca26"
             ],
             [
              1,
              "#f0f921"
             ]
            ],
            "type": "histogram2dcontour"
           }
          ],
          "mesh3d": [
           {
            "colorbar": {
             "outlinewidth": 0,
             "ticks": ""
            },
            "type": "mesh3d"
           }
          ],
          "parcoords": [
           {
            "line": {
             "colorbar": {
              "outlinewidth": 0,
              "ticks": ""
             }
            },
            "type": "parcoords"
           }
          ],
          "pie": [
           {
            "automargin": true,
            "type": "pie"
           }
          ],
          "scatter": [
           {
            "marker": {
             "colorbar": {
              "outlinewidth": 0,
              "ticks": ""
             }
            },
            "type": "scatter"
           }
          ],
          "scatter3d": [
           {
            "line": {
             "colorbar": {
              "outlinewidth": 0,
              "ticks": ""
             }
            },
            "marker": {
             "colorbar": {
              "outlinewidth": 0,
              "ticks": ""
             }
            },
            "type": "scatter3d"
           }
          ],
          "scattercarpet": [
           {
            "marker": {
             "colorbar": {
              "outlinewidth": 0,
              "ticks": ""
             }
            },
            "type": "scattercarpet"
           }
          ],
          "scattergeo": [
           {
            "marker": {
             "colorbar": {
              "outlinewidth": 0,
              "ticks": ""
             }
            },
            "type": "scattergeo"
           }
          ],
          "scattergl": [
           {
            "marker": {
             "colorbar": {
              "outlinewidth": 0,
              "ticks": ""
             }
            },
            "type": "scattergl"
           }
          ],
          "scattermapbox": [
           {
            "marker": {
             "colorbar": {
              "outlinewidth": 0,
              "ticks": ""
             }
            },
            "type": "scattermapbox"
           }
          ],
          "scatterpolar": [
           {
            "marker": {
             "colorbar": {
              "outlinewidth": 0,
              "ticks": ""
             }
            },
            "type": "scatterpolar"
           }
          ],
          "scatterpolargl": [
           {
            "marker": {
             "colorbar": {
              "outlinewidth": 0,
              "ticks": ""
             }
            },
            "type": "scatterpolargl"
           }
          ],
          "scatterternary": [
           {
            "marker": {
             "colorbar": {
              "outlinewidth": 0,
              "ticks": ""
             }
            },
            "type": "scatterternary"
           }
          ],
          "surface": [
           {
            "colorbar": {
             "outlinewidth": 0,
             "ticks": ""
            },
            "colorscale": [
             [
              0,
              "#0d0887"
             ],
             [
              0.1111111111111111,
              "#46039f"
             ],
             [
              0.2222222222222222,
              "#7201a8"
             ],
             [
              0.3333333333333333,
              "#9c179e"
             ],
             [
              0.4444444444444444,
              "#bd3786"
             ],
             [
              0.5555555555555556,
              "#d8576b"
             ],
             [
              0.6666666666666666,
              "#ed7953"
             ],
             [
              0.7777777777777778,
              "#fb9f3a"
             ],
             [
              0.8888888888888888,
              "#fdca26"
             ],
             [
              1,
              "#f0f921"
             ]
            ],
            "type": "surface"
           }
          ],
          "table": [
           {
            "cells": {
             "fill": {
              "color": "#EBF0F8"
             },
             "line": {
              "color": "white"
             }
            },
            "header": {
             "fill": {
              "color": "#C8D4E3"
             },
             "line": {
              "color": "white"
             }
            },
            "type": "table"
           }
          ]
         },
         "layout": {
          "annotationdefaults": {
           "arrowcolor": "#2a3f5f",
           "arrowhead": 0,
           "arrowwidth": 1
          },
          "coloraxis": {
           "colorbar": {
            "outlinewidth": 0,
            "ticks": ""
           }
          },
          "colorscale": {
           "diverging": [
            [
             0,
             "#8e0152"
            ],
            [
             0.1,
             "#c51b7d"
            ],
            [
             0.2,
             "#de77ae"
            ],
            [
             0.3,
             "#f1b6da"
            ],
            [
             0.4,
             "#fde0ef"
            ],
            [
             0.5,
             "#f7f7f7"
            ],
            [
             0.6,
             "#e6f5d0"
            ],
            [
             0.7,
             "#b8e186"
            ],
            [
             0.8,
             "#7fbc41"
            ],
            [
             0.9,
             "#4d9221"
            ],
            [
             1,
             "#276419"
            ]
           ],
           "sequential": [
            [
             0,
             "#0d0887"
            ],
            [
             0.1111111111111111,
             "#46039f"
            ],
            [
             0.2222222222222222,
             "#7201a8"
            ],
            [
             0.3333333333333333,
             "#9c179e"
            ],
            [
             0.4444444444444444,
             "#bd3786"
            ],
            [
             0.5555555555555556,
             "#d8576b"
            ],
            [
             0.6666666666666666,
             "#ed7953"
            ],
            [
             0.7777777777777778,
             "#fb9f3a"
            ],
            [
             0.8888888888888888,
             "#fdca26"
            ],
            [
             1,
             "#f0f921"
            ]
           ],
           "sequentialminus": [
            [
             0,
             "#0d0887"
            ],
            [
             0.1111111111111111,
             "#46039f"
            ],
            [
             0.2222222222222222,
             "#7201a8"
            ],
            [
             0.3333333333333333,
             "#9c179e"
            ],
            [
             0.4444444444444444,
             "#bd3786"
            ],
            [
             0.5555555555555556,
             "#d8576b"
            ],
            [
             0.6666666666666666,
             "#ed7953"
            ],
            [
             0.7777777777777778,
             "#fb9f3a"
            ],
            [
             0.8888888888888888,
             "#fdca26"
            ],
            [
             1,
             "#f0f921"
            ]
           ]
          },
          "colorway": [
           "#636efa",
           "#EF553B",
           "#00cc96",
           "#ab63fa",
           "#FFA15A",
           "#19d3f3",
           "#FF6692",
           "#B6E880",
           "#FF97FF",
           "#FECB52"
          ],
          "font": {
           "color": "#2a3f5f"
          },
          "geo": {
           "bgcolor": "white",
           "lakecolor": "white",
           "landcolor": "#E5ECF6",
           "showlakes": true,
           "showland": true,
           "subunitcolor": "white"
          },
          "hoverlabel": {
           "align": "left"
          },
          "hovermode": "closest",
          "mapbox": {
           "style": "light"
          },
          "paper_bgcolor": "white",
          "plot_bgcolor": "#E5ECF6",
          "polar": {
           "angularaxis": {
            "gridcolor": "white",
            "linecolor": "white",
            "ticks": ""
           },
           "bgcolor": "#E5ECF6",
           "radialaxis": {
            "gridcolor": "white",
            "linecolor": "white",
            "ticks": ""
           }
          },
          "scene": {
           "xaxis": {
            "backgroundcolor": "#E5ECF6",
            "gridcolor": "white",
            "gridwidth": 2,
            "linecolor": "white",
            "showbackground": true,
            "ticks": "",
            "zerolinecolor": "white"
           },
           "yaxis": {
            "backgroundcolor": "#E5ECF6",
            "gridcolor": "white",
            "gridwidth": 2,
            "linecolor": "white",
            "showbackground": true,
            "ticks": "",
            "zerolinecolor": "white"
           },
           "zaxis": {
            "backgroundcolor": "#E5ECF6",
            "gridcolor": "white",
            "gridwidth": 2,
            "linecolor": "white",
            "showbackground": true,
            "ticks": "",
            "zerolinecolor": "white"
           }
          },
          "shapedefaults": {
           "line": {
            "color": "#2a3f5f"
           }
          },
          "ternary": {
           "aaxis": {
            "gridcolor": "white",
            "linecolor": "white",
            "ticks": ""
           },
           "baxis": {
            "gridcolor": "white",
            "linecolor": "white",
            "ticks": ""
           },
           "bgcolor": "#E5ECF6",
           "caxis": {
            "gridcolor": "white",
            "linecolor": "white",
            "ticks": ""
           }
          },
          "title": {
           "x": 0.05
          },
          "xaxis": {
           "automargin": true,
           "gridcolor": "white",
           "linecolor": "white",
           "ticks": "",
           "title": {
            "standoff": 15
           },
           "zerolinecolor": "white",
           "zerolinewidth": 2
          },
          "yaxis": {
           "automargin": true,
           "gridcolor": "white",
           "linecolor": "white",
           "ticks": "",
           "title": {
            "standoff": 15
           },
           "zerolinecolor": "white",
           "zerolinewidth": 2
          }
         }
        },
        "title": {
         "text": "IOI Signal decomposition"
        },
        "width": 1200,
        "yaxis": {
         "title": {
          "text": "volume conveyed by the application"
         }
        }
       }
      }
     },
     "metadata": {},
     "output_type": "display_data"
    }
   ],
   "source": [
    "plot_detected_phases(jobid, merge=True, show_phases=False, \n",
    "                     ts=(timestamps, original_read, original_write), \n",
    "                     width=1200, height=600)"
   ]
  },
  {
   "attachments": {},
   "cell_type": "markdown",
   "metadata": {},
   "source": [
    "Cluster Simulator"
   ]
  },
  {
   "cell_type": "code",
   "execution_count": 92,
   "metadata": {},
   "outputs": [
    {
     "name": "stdout",
     "output_type": "stream",
     "text": [
      "application duration = 172.5\n"
     ]
    },
    {
     "ename": "NameError",
     "evalue": "name 'display_run_rw' is not defined",
     "output_type": "error",
     "traceback": [
      "\u001b[1;31m---------------------------------------------------------------------------\u001b[0m",
      "\u001b[1;31mNameError\u001b[0m                                 Traceback (most recent call last)",
      "\u001b[1;32mc:\\Users\\a770398\\IO-SEA\\io-sea-3.4-analytics\\app_decomposer\\notebooks\\comaprison_simulation_ioi_mixed_mode.ipynb Cell 17\u001b[0m in \u001b[0;36m<cell line: 38>\u001b[1;34m()\u001b[0m\n\u001b[0;32m     <a href='vscode-notebook-cell:/c%3A/Users/a770398/IO-SEA/io-sea-3.4-analytics/app_decomposer/notebooks/comaprison_simulation_ioi_mixed_mode.ipynb#X21sZmlsZQ%3D%3D?line=35'>36</a>\u001b[0m env\u001b[39m.\u001b[39mrun()\n\u001b[0;32m     <a href='vscode-notebook-cell:/c%3A/Users/a770398/IO-SEA/io-sea-3.4-analytics/app_decomposer/notebooks/comaprison_simulation_ioi_mixed_mode.ipynb#X21sZmlsZQ%3D%3D?line=36'>37</a>\u001b[0m \u001b[39mprint\u001b[39m(\u001b[39mf\u001b[39m\u001b[39m\"\u001b[39m\u001b[39mapplication duration = \u001b[39m\u001b[39m{\u001b[39;00mapp1\u001b[39m.\u001b[39mget_fitness()\u001b[39m}\u001b[39;00m\u001b[39m\"\u001b[39m)\n\u001b[1;32m---> <a href='vscode-notebook-cell:/c%3A/Users/a770398/IO-SEA/io-sea-3.4-analytics/app_decomposer/notebooks/comaprison_simulation_ioi_mixed_mode.ipynb#X21sZmlsZQ%3D%3D?line=37'>38</a>\u001b[0m fig \u001b[39m=\u001b[39m display_run_rw(data, cluster, width\u001b[39m=\u001b[39m\u001b[39m800\u001b[39m, height\u001b[39m=\u001b[39m\u001b[39m900\u001b[39m)\n\u001b[0;32m     <a href='vscode-notebook-cell:/c%3A/Users/a770398/IO-SEA/io-sea-3.4-analytics/app_decomposer/notebooks/comaprison_simulation_ioi_mixed_mode.ipynb#X21sZmlsZQ%3D%3D?line=38'>39</a>\u001b[0m fig\u001b[39m.\u001b[39mshow()\n",
      "\u001b[1;31mNameError\u001b[0m: name 'display_run_rw' is not defined"
     ]
    }
   ],
   "source": [
    "# sim env an data\n",
    "env = simpy.Environment()\n",
    "data = simpy.Store(env)\n",
    "# tier perfs\n",
    "nvram_bandwidth = {'read':  {'seq': 800, 'rand': 800},\n",
    "                        'write': {'seq': 400, 'rand': 400}}\n",
    "ssd_bandwidth = {'read':  {'seq': 200, 'rand': 200},\n",
    "                    'write': {'seq': 100, 'rand': 100}}\n",
    "hdd_bandwidth = {'read':  {'seq': 80, 'rand': 80},\n",
    "                    'write': {'seq': 40, 'rand': 40}}\n",
    "\n",
    "# registering Tiers\n",
    "hdd_tier = Tier(env, 'HDD', bandwidth=hdd_bandwidth, capacity=1e12)\n",
    "ssd_tier = Tier(env, 'SSD', bandwidth=ssd_bandwidth, capacity=200e9)\n",
    "nvram_tier = Tier(env, 'NVRAM', bandwidth=nvram_bandwidth,\n",
    "                        capacity=10e9)\n",
    "# registering Ephemeral Tier\n",
    "bb = EphemeralTier(env, name=\"BB\", persistent_tier=hdd_tier,\n",
    "                        bandwidth=nvram_bandwidth, capacity=10e9)\n",
    "\n",
    "# Define the cluster with 1 persistent and 1 ephemeral\n",
    "cluster = Cluster(env, tiers=[hdd_tier], ephemeral_tier=bb)\n",
    "# logger\n",
    "#env = simpy.Environment()\n",
    "logger.remove()\n",
    "# Simple app: read 1GB -> compute 10s -> write 5GB\n",
    "read = [1e9, 0]\n",
    "compute = [0,  10]\n",
    "write = [1e9, 5e9]\n",
    "# placement\n",
    "placement = [0, 0]\n",
    "use_bb = [False, False]\n",
    "# simulate the app execution\n",
    "app1 = Application(env, compute=compute, read=read, write=write, data=data)\n",
    "env.process(app1.run(cluster, placement=placement, use_bb=use_bb))\n",
    "env.run()\n",
    "print(f\"application duration = {app1.get_fitness()}\")\n",
    "fig = display_run_rw(data, cluster, width=800, height=900)\n",
    "fig.show()"
   ]
  },
  {
   "cell_type": "code",
   "execution_count": null,
   "metadata": {},
   "outputs": [],
   "source": [
    "def display_run_rw(data, cluster, width=800, height=600):\n",
    "    # | Monitoring| app: P6 | type: movement | cpu_usage: 1 | t_start: 281.0 | t_end: 287.5 | bandwidth_concurrency: 1 | bandwidth: 40.0 MB/s | phase_duration: 6.5 | volume: 260.0 MB | tiers: ['HDD'] | data_placement: {'placement': 'HDD', 'source': 'BB'} | init_level: {'HDD': 11740000000.0, 'BB': 8490000000.0} | tier_level: {'HDD': 12000000000.0, 'BB': 8490000000.0} | BB_level: 8490000000.0\n",
    "    # | Monitoring| app: N6 | type: eviction | cpu_usage: 1 | t_start: 93.5 | t_end: 93.5 | bandwidth_concurrency: 3 | bandwidth: inf MB/s | phase_duration: 0 | volume: 740.0 MB | tiers: ['HDD'] | data_placement: {'placement': 'BB'} | init_level: {'HDD': 2740000000.0, 'BB': 10000000000.0} | tier_level: {'HDD': 2740000000.0, 'BB': 9260000000.0} | BB_level: 9260000000.0\n",
    "\n",
    "    jet_colors = colors.PLOTLY_SCALES['Viridis']\n",
    "    apps = list(set(list(data['app'] for data in data.items)))\n",
    "    # sort by app key\n",
    "    items = sorted(data.items, key=itemgetter('app'))\n",
    "    # list of apps\n",
    "    list_apps = [app for app, _ in groupby(items,  key=itemgetter('app'))]\n",
    "    # list Burst Buffers\n",
    "    bb_tier = [cluster.ephemeral_tier.name + \" (\"+convert_size(cluster.ephemeral_tier.capacity.capacity)+\")\"] if cluster.ephemeral_tier else []\n",
    "\n",
    "    subplots_list = list_apps + bb_tier + [tier.name + \" (\"+convert_size(tier.capacity.capacity)+\")\" for tier in cluster.tiers] + [\"CPU Cores\"]\n",
    "\n",
    "    fig = make_subplots(rows=len(subplots_list), cols=1, shared_xaxes=True,\n",
    "                        # vertical_spacing=0.2,\n",
    "                        subplot_titles=subplots_list)\n",
    "\n",
    "    # iterate on apps to plot their dataflows\n",
    "    i = 1\n",
    "    for app, app_elements in groupby(items,  key=itemgetter('app')):\n",
    "        # print(f\"----------{app}----------\")\n",
    "        # app_color = DEFAULT_COLORS[i]\n",
    "        offset = 0\n",
    "\n",
    "        # x_app = []\n",
    "        # y_app = []\n",
    "        x_app_read = []\n",
    "        y_app_read = []\n",
    "        x_app_write = []\n",
    "        y_app_write = []\n",
    "        text = []\n",
    "\n",
    "        x_mvt = []\n",
    "        y_mvt = []\n",
    "        text_mvt = []\n",
    "\n",
    "        for phase in app_elements:\n",
    "            if phase['type'] not in ['movement']:\n",
    "                if phase[\"type\"] == \"read\":\n",
    "                    x_app_read.append(phase[\"t_start\"])\n",
    "                    x_app_read.append(phase[\"t_end\"])\n",
    "                    y_app_read.append(phase[\"bandwidth\"])\n",
    "                    y_app_read.append(phase[\"bandwidth\"])\n",
    "                    x_app_write.append(phase[\"t_start\"])\n",
    "                    x_app_write.append(phase[\"t_end\"])\n",
    "                    y_app_write.append(0)\n",
    "                    y_app_write.append(0)\n",
    "                    \n",
    "                elif phase[\"type\"] == \"write\":\n",
    "                    x_app_read.append(phase[\"t_start\"])\n",
    "                    x_app_read.append(phase[\"t_end\"])\n",
    "                    y_app_read.append(0)\n",
    "                    y_app_read.append(0)\n",
    "                    x_app_write.append(phase[\"t_start\"])\n",
    "                    x_app_write.append(phase[\"t_end\"])\n",
    "                    y_app_write.append(phase[\"bandwidth\"])\n",
    "                    y_app_write.append(phase[\"bandwidth\"])\n",
    "                    \n",
    "                elif phase[\"type\"] == \"compute\":                \n",
    "                    x_app_read.append(phase[\"t_start\"])\n",
    "                    x_app_read.append(phase[\"t_end\"])\n",
    "                    y_app_read.append(phase[\"bandwidth\"])\n",
    "                    y_app_read.append(phase[\"bandwidth\"])\n",
    "                    x_app_write.append(phase[\"t_start\"])\n",
    "                    x_app_write.append(phase[\"t_end\"])\n",
    "                    y_app_write.append(phase[\"bandwidth\"])\n",
    "                    y_app_write.append(phase[\"bandwidth\"])\n",
    "                    \n",
    "                placement = \"|to/from:\"+phase[\"data_placement\"][\"placement\"] if phase[\"data_placement\"] else ''\n",
    "\n",
    "                text.append(phase[\"type\"].upper() + placement + \"|volume=\"+convert_size(phase[\"volume\"]))\n",
    "                text.append(phase[\"type\"].upper() + placement + \"|volume=\"+convert_size(phase[\"volume\"]))\n",
    "\n",
    "            if phase[\"type\"] in ['movement']:\n",
    "                x_mvt.append(phase[\"t_start\"])\n",
    "                x_mvt.append(phase[\"t_end\"])\n",
    "                y_mvt.append(phase[\"bandwidth\"])\n",
    "                y_mvt.append(phase[\"bandwidth\"])\n",
    "                placement = \"|in:\"+phase[\"data_placement\"][\"placement\"] if phase[\"data_placement\"] else ''\n",
    "                source = \"\"\n",
    "                if \"data_placement\" in phase and \"source\" in phase[\"data_placement\"]:\n",
    "                    source = \"|from:\"+phase[\"data_placement\"][\"source\"]\n",
    "\n",
    "                text_mvt.append(phase[\"type\"].upper() + placement + source + \"|volume=\"+convert_size(phase[\"volume\"]))\n",
    "                text_mvt.append(phase[\"type\"].upper() + placement + \"|volume=\"+convert_size(phase[\"volume\"]))\n",
    "\n",
    "            # plot the app phases\n",
    "        fig.append_trace(go.Scatter(x=np.array(x_app_read), y=np.array(y_app_read),\n",
    "                                    text=text,\n",
    "                                    textposition=\"top center\",\n",
    "                                    name=\"(R) app#\"+app, line_shape='linear'),\n",
    "                                    #line=dict(color=jet_colors[i][1])),\n",
    "                                    row=i, col=1)\n",
    "        fig.append_trace(go.Scatter(x=np.array(x_app_write), y=np.array(y_app_write),\n",
    "                                    text=text,\n",
    "                                    textposition=\"top center\",\n",
    "                                    name=\"(W) app#\"+app, line_shape='linear'),\n",
    "                                    #line=dict(color=jet_colors[i][1])),\n",
    "                                    row=i, col=1)\n",
    "        fig.append_trace(go.Scatter(x=np.array(x_mvt), y=np.array(y_mvt),\n",
    "                                    text=text_mvt,\n",
    "                                    textposition=\"top center\",\n",
    "                                    name=app + \" mvt\", #line_shape='linear',\n",
    "                                    line={'shape':'linear','dash': 'dot'}), row=i, col=1)\n",
    "        fig['layout']['yaxis'+str(i)]['title'] = 'dataflow in MB/s'\n",
    "        fig.update_xaxes(title_text=\"time in s\")\n",
    "        i += 1\n",
    "\n",
    "    x_phase = []\n",
    "    y_phase = []\n",
    "    x_tiers = [0]\n",
    "    x_evict = []\n",
    "    capacities = dict()\n",
    "    text = []\n",
    "    text_evict = []\n",
    "    cpu_phase = []\n",
    "    buffer_storage = dict()\n",
    "    storage = dict()\n",
    "    bb_levels = dict()\n",
    "    storage_levels = dict()\n",
    "    eviction_levels = dict()\n",
    "    for phase in data.items:\n",
    "\n",
    "        x_phase.append([phase[\"t_start\"], phase[\"t_end\"]])\n",
    "        y_phase.append(phase[\"cpu_usage\"])\n",
    "        x_tiers.append(phase[\"t_start\"])\n",
    "        x_tiers.append(phase[\"t_end\"])\n",
    "\n",
    "        # feeding eviction dict\n",
    "        if phase[\"type\"] == \"eviction\":\n",
    "            if \"source\" in phase[\"data_placement\"]:\n",
    "                tier = phase[\"data_placement\"][\"source\"]\n",
    "                eviction_levels.setdefault(tier, []).append([phase[\"init_level\"][tier], phase[\"tier_level\"][tier]])\n",
    "                x_evict.append([phase[\"t_start\"], phase[\"t_end\"]])\n",
    "                text_evict.append(phase[\"type\"].upper() + \"|IN:\"+tier + \"|volume=\"+convert_size(phase[\"init_level\"][tier]-phase[\"tier_level\"][tier]))\n",
    "                text_evict.append(phase[\"type\"].upper() + \"|IN:\"+tier + \"|volume=\"+convert_size(phase[\"init_level\"][tier]-phase[\"tier_level\"][tier]))\n",
    "\n",
    "        tier_indication = \"|\" + phase[\"data_placement\"][\"placement\"] if phase[\"data_placement\"] else ''\n",
    "\n",
    "        text.append(phase[\"app\"] + \"|\" + phase[\"type\"].capitalize() + tier_indication + \" | +volume=\"+convert_size(phase[\"volume\"]))\n",
    "\n",
    "        # feeding tiers level\n",
    "        for tier in phase[\"tiers\"]:\n",
    "            if tier not in storage_levels.keys():\n",
    "                storage_levels[tier] = dict()\n",
    "            storage_levels[tier][phase[\"t_start\"]] = phase[\"init_level\"][tier]\n",
    "            storage_levels[tier][phase[\"t_end\"]] = phase[\"tier_level\"][tier]\n",
    "            storage.setdefault(tier, []).append(phase[\"init_level\"][tier])\n",
    "            storage.setdefault(tier, []).append(phase[\"tier_level\"][tier])\n",
    "\n",
    "        # feeding buffer level\n",
    "        if cluster.ephemeral_tier:\n",
    "            bb_tier = cluster.ephemeral_tier.name\n",
    "            if bb_tier+\"_level\" in phase:\n",
    "                bb_levels[phase[\"t_start\"]] = phase[\"init_level\"][bb_tier]\n",
    "                bb_levels[phase[\"t_end\"]] = phase[\"tier_level\"][bb_tier]\n",
    "                buffer_storage.setdefault(bb_tier, []).append([phase[\"init_level\"][bb_tier], phase[\"tier_level\"][bb_tier]])\n",
    "\n",
    "    # Burst Buffer level tracing\n",
    "    for bb in buffer_storage.keys():\n",
    "        bb_capacity = cluster.ephemeral_tier.capacity.capacity\n",
    "        # for segment, level in zip(x_phase, buffer_storage[bb]):\n",
    "        #     fig.append_trace(go.Scatter(x=np.array(segment),\n",
    "        #                                 y=level,\n",
    "        #                                 text=text,\n",
    "        #                                 textposition=\"top center\",\n",
    "        #                                 name=bb, line_shape='linear', showlegend=False), row=i, col=1)\n",
    "        fig.append_trace(go.Scatter(x=np.array(list(bb_levels.keys())),\n",
    "                                    y=100*bb_capacity*np.array(list(bb_levels.values()))/bb_capacity/100,\n",
    "                                    text=text,\n",
    "                                    textposition=\"top center\",\n",
    "                                    name=bb, line_shape='linear', showlegend=False), row=i, col=1)\n",
    "\n",
    "        if bb in eviction_levels:\n",
    "            for segment, level in zip(x_evict, eviction_levels[bb]):\n",
    "                # fig.append_trace(go.Scatter(x=np.array(segment),\n",
    "                #                             y=level,\n",
    "                #                             text=text,\n",
    "                #                             textposition=\"top center\",\n",
    "                #                             name=bb, line=dict(color='red', width=3, dash='dot'), showlegend=False), row=i, col=1)\n",
    "                fig.append_trace(go.Scatter(x=np.array(segment), y=np.array(level),\n",
    "                                            text=text_evict,\n",
    "                                            textposition=\"top center\",\n",
    "                                            name=\" Eviction\",\n",
    "                                            line=dict(shape='linear', color=\"black\"),\n",
    "                                            showlegend=False), row=i, col=1)\n",
    "                # fig.add_shape(type=\"line\", x0=segment[0], y0=level[0], x1=segment[1], y1=level[1],\n",
    "                #               line=dict(width=3, color=\"black\"),\n",
    "                #               row=i, col=1)\n",
    "                # fig.add_annotation(ax=segment[0],\n",
    "                #                    ay=level[0],\n",
    "                #                    x=segment[1],\n",
    "                #                    y=level[1],\n",
    "                #                    xref='x',\n",
    "\n",
    "                #                    yref='y',\n",
    "                #                    axref='x',\n",
    "                #                    ayref='y',\n",
    "                #                    text='',  # if you want only the arrow\n",
    "                #                    showarrow=True,\n",
    "                #                    arrowhead=3,\n",
    "                #                    arrowsize=1,\n",
    "                #                    arrowwidth=1,\n",
    "                #                    arrowcolor='black', row=i, col=1)\n",
    "\n",
    "        # fig.append_trace(go.Scatter(x=np.array(list(bb_levels.keys())),\n",
    "        #                             y=100*bb_capacity*np.array(list(bb_levels.values()))/bb_capacity/100,\n",
    "        #                             text=text,\n",
    "        #                             textposition=\"top center\",\n",
    "        #                             name=bb, line_shape='linear', showlegend=False), row=i, col=1)\n",
    "        # fig.append_trace(go.Scatter(x=np.array(x_tiers),\n",
    "        #                             y=100*np.array(buffer_storage[bb])/bb_capacity,\n",
    "        #                             text=text,\n",
    "        #                             textposition=\"top center\",\n",
    "        #                             name=bb, line_shape='linear', showlegend=False), row=i, col=1)\n",
    "        fig['layout']['yaxis' + str(i)]['title'] = bb + ' usage in Bytes'\n",
    "        i += 1\n",
    "\n",
    "    for tier in storage.keys():\n",
    "        # retrieve capacities\n",
    "        tier_capacity = [cluster.tiers[j].capacity.capacity for j, ctier in enumerate(cluster.tiers) if ctier.name == tier][0]\n",
    "        fig.append_trace(go.Scatter(x=np.array(list(storage_levels[tier].keys())),\n",
    "                                    y=100*tier_capacity*np.array(list(storage_levels[tier].values()))/tier_capacity/100,\n",
    "                                    text=text,\n",
    "                                    textposition=\"top center\",\n",
    "                                    name=tier, line_shape='linear', showlegend=False), row=i, col=1)\n",
    "        # fig.append_trace(go.Scatter(x=np.array(x_tiers),\n",
    "        #                             y=100*np.array(storage[tier])/tier_capacity,\n",
    "        #                             text=text,\n",
    "        #                             textposition=\"top center\",\n",
    "        #                             name=tier, line_shape='linear', showlegend=False), row=i, col=1)\n",
    "        fig['layout']['yaxis' + str(i)]['title'] = tier + ' usage in Bytes'\n",
    "\n",
    "        i += 1\n",
    "\n",
    "    # CPU tracing\n",
    "    points, values = accumulate_intervals(x_phase, y_phase)\n",
    "    fig.append_trace(go.Scatter(x=np.array(points), y=np.array(values),\n",
    "                                line_shape='hv', showlegend=False), row=i, col=1)\n",
    "\n",
    "    fig.append_trace(go.Scatter(x=np.array([points[0], points[-1]]), y=np.array([cluster.compute_cores.capacity]*2), text=[\"Maximum available cores in cluster=\" + str(cluster.compute_cores.capacity)]*2, line_shape='hv', showlegend=False,\n",
    "                                line=dict(color='red', width=3, dash='dot')), row=i, col=1)\n",
    "    fig['layout']['yaxis'+str(i)]['title'] = 'CPU usage'\n",
    "    i += 1\n",
    "\n",
    "    fig.update_layout(width=width, height=height, title_text=\"State of the Cluster\")\n",
    "\n",
    "\n",
    "\n",
    "    return fig"
   ]
  }
 ],
 "metadata": {
  "kernelspec": {
   "display_name": "iosea-venv",
   "language": "python",
   "name": "python3"
  },
  "language_info": {
   "codemirror_mode": {
    "name": "ipython",
    "version": 3
   },
   "file_extension": ".py",
   "mimetype": "text/x-python",
   "name": "python",
   "nbconvert_exporter": "python",
   "pygments_lexer": "ipython3",
   "version": "3.8.10"
  },
  "orig_nbformat": 4,
  "vscode": {
   "interpreter": {
    "hash": "c87beb4c7de1fcbf6155f8da331fc04a584374d4c389d75c2ece6a4f03553c96"
   }
  }
 },
 "nbformat": 4,
 "nbformat_minor": 2
}
