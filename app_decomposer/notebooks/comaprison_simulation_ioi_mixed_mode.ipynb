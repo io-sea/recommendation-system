{
 "cells": [
  {
   "cell_type": "code",
   "execution_count": 7,
   "metadata": {},
   "outputs": [],
   "source": [
    "import os\n",
    "import unittest\n",
    "import requests\n",
    "import urllib3\n",
    "from utils_demo import *\n",
    "from loguru import logger\n",
    "from unittest.mock import patch\n",
    "from pprint import pprint\n",
    "from os.path import dirname, abspath\n",
    "import warnings\n",
    "warnings.filterwarnings('ignore')\n",
    "from performance_data.performance_data import PhaseData, DataTable\n",
    "from performance_data import DATASET_FILE\n",
    "from app_decomposer import DEFAULT_CONFIGURATION, KIWI_CONFIG, CURRENT_DIR, API_DICT_TS, IOI_SAMPLING_PERIOD, DATASET_SOURCE\n",
    "from app_decomposer.api_connector import request_delegator\n",
    "from app_decomposer.config_parser import Configuration\n",
    "from app_decomposer.api_connector import TimeSeries\n",
    "from loguru import logger"
   ]
  },
  {
   "cell_type": "code",
   "execution_count": 15,
   "metadata": {},
   "outputs": [
    {
     "name": "stdout",
     "output_type": "stream",
     "text": [
      "<app_decomposer.job_decomposer.ComplexDecomposer object at 0x00000169C4929C70>\n",
      "compute=[0, 1, 4, 9, 11, 28, 42, 46, 48], reads=[0, 1731312012, 3169488157, 1585247951, 0, 0, 0, 0, 0], read_bw=[0, 1731312012.0, 1584744078.5, 1585247951.0, 0, 0, 0, 0, 0]\n",
      "writes=[0, 0, 4139017218, 0, 1901214425, 5334798849, 5334798849, 5334798849, 0], write_bw=[0, 0, 1034754304.5, 0, 950607212.5, 1066959769.8, 1066959769.8, 1333699712.25, 0]\n"
     ]
    }
   ],
   "source": [
    "#%%capture\n",
    "logger.remove()\n",
    "def decompose_ioi_job(jobid):\n",
    "    with patch.object(ComplexDecomposer, 'get_job_timeseries') as mock_get_timeseries:\n",
    "        with patch.object(Configuration, 'get_kc_token') as mock_get_kc_token:\n",
    "            with patch.object(ComplexDecomposer, 'get_job_node_count') as mock_get_node_count:                    \n",
    "                mock_get_timeseries.return_value = get_job_timeseries_from_file(job_id=jobid)\n",
    "                mock_get_kc_token.return_value = 'token'\n",
    "                mock_get_node_count.return_value = 1\n",
    "                # init the job decomposer\n",
    "                #cd = ComplexDecomposer(v0_threshold=0.02)\n",
    "                cd = ComplexDecomposer()\n",
    "                return cd\n",
    "        \n",
    "# Launch decomposition on the signal\n",
    "cd = decompose_ioi_job(jobid=3917)\n",
    "print(cd)\n",
    "representation = cd.get_job_representation(merge_clusters=True)\n",
    "# This is the app encoding representation for Execution Simulator\n",
    "print(f\"compute={representation['events']}, reads={representation['read_volumes']}, read_bw={representation['read_bw']}\")\n",
    "print(f\"writes={representation['write_volumes']}, write_bw={representation['write_bw']}\")\n",
    "# Normalize signals to seconds and MB\n",
    "timestamps = (cd.timestamps.flatten() - cd.timestamps.flatten()[0])/5\n",
    "original_read =  cd.read_signal.flatten()/1e6\n",
    "original_write = cd.write_signal.flatten()/1e6\n",
    "\n"
   ]
  },
  {
   "cell_type": "code",
   "execution_count": 16,
   "metadata": {},
   "outputs": [
    {
     "name": "stdout",
     "output_type": "stream",
     "text": [
      "[0, 1, 4, 9, 11, 28, 42, 46, 48]\n",
      "[0, 1731312012, 3169488157, 1585247951, 0, 0, 0, 0, 0]\n",
      "[0, 0, 4139017218, 0, 1901214425, 5334798849, 5334798849, 5334798849, 0]\n"
     ]
    }
   ],
   "source": [
    "events = representation['events']\n",
    "reads = representation['read_volumes']\n",
    "writes = representation['write_volumes']\n",
    "# reads = list(map(lambda x, y: x if x > y else 0, representation['read_volumes'], representation[\"write_volumes\"]))\n",
    "# writes = list(map(lambda x, y: x if x > y else 0, representation['write_volumes'], representation[\"read_volumes\"]))\n",
    "print(events)\n",
    "print(reads)\n",
    "print(writes)"
   ]
  }
 ],
 "metadata": {
  "kernelspec": {
   "display_name": "iosea-venv",
   "language": "python",
   "name": "python3"
  },
  "language_info": {
   "codemirror_mode": {
    "name": "ipython",
    "version": 3
   },
   "file_extension": ".py",
   "mimetype": "text/x-python",
   "name": "python",
   "nbconvert_exporter": "python",
   "pygments_lexer": "ipython3",
   "version": "3.8.13"
  },
  "orig_nbformat": 4,
  "vscode": {
   "interpreter": {
    "hash": "c87beb4c7de1fcbf6155f8da331fc04a584374d4c389d75c2ece6a4f03553c96"
   }
  }
 },
 "nbformat": 4,
 "nbformat_minor": 2
}
