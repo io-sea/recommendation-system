{
 "cells": [
  {
   "cell_type": "code",
   "execution_count": 1,
   "metadata": {},
   "outputs": [],
   "source": [
    "from utils_demo import *\n",
    "from loguru import logger\n",
    "from unittest.mock import patch"
   ]
  },
  {
   "cell_type": "code",
   "execution_count": 2,
   "metadata": {},
   "outputs": [
    {
     "name": "stderr",
     "output_type": "stream",
     "text": [
      "c:\\Users\\a770398\\AppData\\Local\\Continuum\\anaconda3\\envs\\iosea-venv\\lib\\site-packages\\pwlf\\pwlf.py:1113: RuntimeWarning:\n",
      "\n",
      "divide by zero encountered in true_divide\n",
      "\n",
      "c:\\Users\\a770398\\AppData\\Local\\Continuum\\anaconda3\\envs\\iosea-venv\\lib\\site-packages\\pwlf\\pwlf.py:1113: RuntimeWarning:\n",
      "\n",
      "invalid value encountered in true_divide\n",
      "\n",
      "c:\\Users\\a770398\\AppData\\Local\\Continuum\\anaconda3\\envs\\iosea-venv\\lib\\site-packages\\pwlf\\pwlf.py:1118: RuntimeWarning:\n",
      "\n",
      "invalid value encountered in multiply\n",
      "\n"
     ]
    },
    {
     "name": "stdout",
     "output_type": "stream",
     "text": [
      "labels=[0 2 2 0 0 0 0 0 2 2 0 0 0 0 2 2 0 0 0 0 0 0 0 0 0 0 0 0 0 0 0 0 0 0 0 0 0\n",
      " 0 0 0 0 0 0 0 0 0 0 0 0 0 0 0 0 0 0 0 0 0 0 0 0 0 0 0 0 0 0 0 0 0 0 0 0 0\n",
      " 0 0 0 0 0 0 0 0 0 0 0 0 0 0 0 0 0 0 0 0 0 0 0]\n",
      "starting points = [1, 8, 14]\n",
      "ending points = [3, 10, 16]\n",
      "labels=[0 2 2 0 0 0 0 0 2 2 0 0 0 0 2 2 0 0 0 0 0 0 0 0 0 0 0 0 0 0 0 0 0 0 0 0 0\n",
      " 0 0 0 0 0 0 0 0 0 0 0 0 0 0 0 0 0 0 0 0 0 0 0 0 0 0 0 0 0 0 0 0 0 0 0 0 0\n",
      " 0 0 0 0 0 0 0 0 0 0 0 0 0 0 0 0 0 0 0 0 0 0 0]\n",
      "starting points = [1, 8, 14]\n",
      "ending points = [3, 10, 16]\n"
     ]
    },
    {
     "data": {
      "application/vnd.plotly.v1+json": {
       "config": {
        "plotlyServerURL": "https://plot.ly"
       },
       "data": [
        {
         "line": {
          "width": 1.5
         },
         "mode": "lines+markers",
         "name": "original bytesRead signal from IOI",
         "text": [
          "class=0",
          "class=1",
          "class=1",
          "class=0",
          "class=0",
          "class=0",
          "class=0",
          "class=0",
          "class=1",
          "class=1",
          "class=0",
          "class=0",
          "class=0",
          "class=0",
          "class=1",
          "class=1",
          "class=0",
          "class=0",
          "class=0",
          "class=0",
          "class=0",
          "class=0",
          "class=0",
          "class=0",
          "class=0",
          "class=0",
          "class=0",
          "class=0",
          "class=0",
          "class=0",
          "class=0",
          "class=0",
          "class=0",
          "class=0",
          "class=0",
          "class=0",
          "class=0",
          "class=0",
          "class=0",
          "class=0",
          "class=0",
          "class=0",
          "class=0",
          "class=0",
          "class=0",
          "class=0",
          "class=0",
          "class=0",
          "class=0",
          "class=0",
          "class=0",
          "class=0",
          "class=0",
          "class=0",
          "class=0",
          "class=0",
          "class=0",
          "class=0",
          "class=0",
          "class=0",
          "class=0",
          "class=0",
          "class=0",
          "class=0",
          "class=0",
          "class=0",
          "class=0",
          "class=0",
          "class=0",
          "class=0",
          "class=0",
          "class=0",
          "class=0",
          "class=0",
          "class=0",
          "class=0",
          "class=0",
          "class=0",
          "class=0",
          "class=0",
          "class=0",
          "class=0",
          "class=0",
          "class=0",
          "class=0",
          "class=0",
          "class=0",
          "class=0",
          "class=0",
          "class=0",
          "class=0",
          "class=0",
          "class=0",
          "class=0",
          "class=0",
          "class=0",
          "class=0"
         ],
         "type": "scatter",
         "x": [
          0,
          1,
          2,
          3,
          4,
          5,
          6,
          7,
          8,
          9,
          10,
          11,
          12,
          13,
          14,
          15,
          16,
          17,
          18,
          19,
          20,
          21,
          22,
          23,
          24,
          25,
          26,
          27,
          28,
          29,
          30,
          31,
          32,
          33,
          34,
          35,
          36,
          37,
          38,
          39,
          40,
          41,
          42,
          43,
          44,
          45,
          46,
          47,
          48,
          49,
          50,
          51,
          52,
          53,
          54,
          55,
          56,
          57,
          58,
          59,
          60,
          61,
          62,
          63,
          64,
          65,
          66,
          67,
          68,
          69,
          70,
          71,
          72,
          73,
          74,
          75,
          76,
          77,
          78,
          79,
          80,
          81,
          82,
          83,
          84,
          85,
          86,
          87,
          88,
          89,
          90,
          91,
          92,
          93,
          94,
          95,
          96
         ],
         "y": [
          2971,
          13778150031,
          9608623165,
          0,
          0,
          0,
          0,
          0,
          15563149199,
          16128677557,
          0,
          0,
          0,
          3684676453,
          15913359748,
          12093793371,
          0,
          0,
          5912,
          0,
          0,
          0,
          15,
          0,
          0,
          15,
          0,
          15,
          30,
          15,
          0,
          0,
          30,
          0,
          0,
          0,
          0,
          0,
          0,
          0,
          0,
          0,
          0,
          0,
          0,
          0,
          0,
          0,
          0,
          0,
          0,
          0,
          0,
          0,
          0,
          0,
          0,
          0,
          0,
          0,
          0,
          0,
          0,
          0,
          0,
          0,
          0,
          0,
          0,
          0,
          0,
          0,
          0,
          0,
          0,
          0,
          0,
          0,
          0,
          0,
          0,
          0,
          0,
          0,
          0,
          0,
          0,
          0,
          0,
          0,
          0,
          0,
          0,
          0,
          0,
          0,
          0
         ]
        },
        {
         "line": {
          "width": 1.5
         },
         "mode": "lines+markers",
         "name": "original bytesWritten signal from IOI",
         "text": [
          "class=0",
          "class=1",
          "class=1",
          "class=0",
          "class=0",
          "class=0",
          "class=0",
          "class=0",
          "class=1",
          "class=1",
          "class=0",
          "class=0",
          "class=0",
          "class=0",
          "class=1",
          "class=1",
          "class=0",
          "class=0",
          "class=0",
          "class=0",
          "class=0",
          "class=0",
          "class=0",
          "class=0",
          "class=0",
          "class=0",
          "class=0",
          "class=0",
          "class=0",
          "class=0",
          "class=0",
          "class=0",
          "class=0",
          "class=0",
          "class=0",
          "class=0",
          "class=0",
          "class=0",
          "class=0",
          "class=0",
          "class=0",
          "class=0",
          "class=0",
          "class=0",
          "class=0",
          "class=0",
          "class=0",
          "class=0",
          "class=0",
          "class=0",
          "class=0",
          "class=0",
          "class=0",
          "class=0",
          "class=0",
          "class=0",
          "class=0",
          "class=0",
          "class=0",
          "class=0",
          "class=0",
          "class=0",
          "class=0",
          "class=0",
          "class=0",
          "class=0",
          "class=0",
          "class=0",
          "class=0",
          "class=0",
          "class=0",
          "class=0",
          "class=0",
          "class=0",
          "class=0",
          "class=0",
          "class=0",
          "class=0",
          "class=0",
          "class=0",
          "class=0",
          "class=0",
          "class=0",
          "class=0",
          "class=0",
          "class=0",
          "class=0",
          "class=0",
          "class=0",
          "class=0",
          "class=0",
          "class=0",
          "class=0",
          "class=0",
          "class=0",
          "class=0",
          "class=0"
         ],
         "type": "scatter",
         "x": [
          0,
          1,
          2,
          3,
          4,
          5,
          6,
          7,
          8,
          9,
          10,
          11,
          12,
          13,
          14,
          15,
          16,
          17,
          18,
          19,
          20,
          21,
          22,
          23,
          24,
          25,
          26,
          27,
          28,
          29,
          30,
          31,
          32,
          33,
          34,
          35,
          36,
          37,
          38,
          39,
          40,
          41,
          42,
          43,
          44,
          45,
          46,
          47,
          48,
          49,
          50,
          51,
          52,
          53,
          54,
          55,
          56,
          57,
          58,
          59,
          60,
          61,
          62,
          63,
          64,
          65,
          66,
          67,
          68,
          69,
          70,
          71,
          72,
          73,
          74,
          75,
          76,
          77,
          78,
          79,
          80,
          81,
          82,
          83,
          84,
          85,
          86,
          87,
          88,
          89,
          90,
          91,
          92,
          93,
          94,
          95,
          96
         ],
         "y": [
          6,
          0,
          0,
          0,
          0,
          0,
          0,
          0,
          0,
          0,
          0,
          0,
          0,
          0,
          0,
          0,
          0,
          0,
          0,
          0,
          0,
          1012116388,
          1057392221,
          295320534,
          1487763589,
          1401527334,
          2253735534,
          2443484376,
          2200362487,
          265349191,
          626137785,
          1859820288,
          1653059145,
          0,
          0,
          0,
          0,
          0,
          0,
          0,
          0,
          0,
          0,
          378098962,
          1398842594,
          1502814315,
          1419400550,
          635642428,
          0,
          0,
          0,
          0,
          0,
          0,
          0,
          0,
          0,
          0,
          0,
          1288923952,
          1515143743,
          1513383023,
          2054980559,
          1482684744,
          1511046959,
          1303434718,
          1455019887,
          1507769019,
          2171952851,
          2517059979,
          1378004685,
          1532525705,
          107265572,
          0,
          0,
          0,
          0,
          0,
          0,
          0,
          0,
          0,
          1223914667,
          1530741791,
          2760206993,
          2604454369,
          1490071090,
          1060208788,
          0,
          0,
          0,
          0,
          601046707,
          1531555557,
          1503590684,
          1540674116,
          157931785
         ]
        },
        {
         "line": {
          "width": 2
         },
         "mode": "lines",
         "name": "read signal slices with constant bw",
         "type": "scatter",
         "x": [
          0,
          1,
          2,
          3,
          4,
          5,
          6,
          7,
          8,
          9,
          10,
          11,
          12,
          13,
          14,
          15,
          16,
          17,
          18,
          19,
          20,
          21,
          22,
          23,
          24,
          25,
          26,
          27,
          28,
          29,
          30,
          31,
          32,
          33,
          34,
          35,
          36,
          37,
          38,
          39,
          40,
          41,
          42,
          43,
          44,
          45,
          46,
          47,
          48,
          49,
          50,
          51,
          52,
          53,
          54,
          55,
          56,
          57,
          58,
          59,
          60,
          61,
          62,
          63,
          64,
          65,
          66,
          67,
          68,
          69,
          70,
          71,
          72,
          73,
          74,
          75,
          76,
          77,
          78,
          79,
          80,
          81,
          82,
          83,
          84,
          85,
          86,
          87,
          88,
          89,
          90,
          91,
          92,
          93,
          94,
          95,
          96
         ],
         "y": [
          2971.0000539005,
          11693386597.999983,
          11693386597.999983,
          0.0000591278076171875,
          0.0000591278076171875,
          0.0000591278076171875,
          0.0000591278076171875,
          0.0000591278076171875,
          15845913378.000114,
          15845913378.000114,
          921169113.2499905,
          921169113.2499905,
          921169113.2499905,
          921169113.2499905,
          14003576559.500008,
          14003576559.500008,
          74.46914672851562,
          74.46914672851562,
          74.46914672851562,
          74.46914672851562,
          74.46914672851562,
          74.46914672851562,
          74.46914672851562,
          74.46914672851562,
          74.46914672851562,
          74.46914672851562,
          74.46914672851562,
          74.46914672851562,
          74.46914672851562,
          74.46914672851562,
          74.46914672851562,
          74.46914672851562,
          74.46914672851562,
          74.46914672851562,
          74.46914672851562,
          74.46914672851562,
          74.46914672851562,
          74.46914672851562,
          74.46914672851562,
          74.46914672851562,
          74.46914672851562,
          74.46914672851562,
          74.46914672851562,
          74.46914672851562,
          74.46914672851562,
          74.46914672851562,
          74.46914672851562,
          74.46914672851562,
          74.46914672851562,
          74.46914672851562,
          74.46914672851562,
          74.46914672851562,
          74.46914672851562,
          74.46914672851562,
          74.46914672851562,
          74.46914672851562,
          74.46914672851562,
          74.46914672851562,
          74.46914672851562,
          74.46914672851562,
          74.46914672851562,
          74.46914672851562,
          74.46914672851562,
          74.46914672851562,
          74.46914672851562,
          74.46914672851562,
          74.46914672851562,
          74.46914672851562,
          74.46914672851562,
          74.46914672851562,
          74.46914672851562,
          74.46914672851562,
          74.46914672851562,
          74.46914672851562,
          74.46914672851562,
          74.46914672851562,
          74.46914672851562,
          74.46914672851562,
          74.46914672851562,
          74.46914672851562,
          74.46914672851562,
          74.46914672851562,
          74.46914672851562,
          74.46914672851562,
          74.46914672851562,
          74.46914672851562,
          74.46914672851562,
          74.46914672851562,
          74.46914672851562,
          74.46914672851562,
          74.46914672851562,
          74.46914672851562,
          74.46914672851562,
          74.46914672851562,
          74.46914672851562,
          74.46914672851562,
          74.46914482116699
         ]
        },
        {
         "line": {
          "width": 2
         },
         "mode": "lines",
         "name": "write signal slices with constant bw",
         "type": "scatter",
         "x": [
          0,
          1,
          2,
          3,
          4,
          5,
          6,
          7,
          8,
          9,
          10,
          11,
          12,
          13,
          14,
          15,
          16,
          17,
          18,
          19,
          20,
          21,
          22,
          23,
          24,
          25,
          26,
          27,
          28,
          29,
          30,
          31,
          32,
          33,
          34,
          35,
          36,
          37,
          38,
          39,
          40,
          41,
          42,
          43,
          44,
          45,
          46,
          47,
          48,
          49,
          50,
          51,
          52,
          53,
          54,
          55,
          56,
          57,
          58,
          59,
          60,
          61,
          62,
          63,
          64,
          65,
          66,
          67,
          68,
          69,
          70,
          71,
          72,
          73,
          74,
          75,
          76,
          77,
          78,
          79,
          80,
          81,
          82,
          83,
          84,
          85,
          86,
          87,
          88,
          89,
          90,
          91,
          92,
          93,
          94,
          95,
          96
         ],
         "y": [
          0.2857125300238257,
          0.2857125300238257,
          0.2857125300238257,
          0.2857125300238257,
          0.2857125300238257,
          0.2857125300238257,
          0.2857125300238257,
          0.2857125300238257,
          0.2857125300238257,
          0.2857125300238257,
          0.2857125300238257,
          0.2857125300238257,
          0.2857125300238257,
          0.2857125300238257,
          0.2857125300238257,
          0.2857125300238257,
          0.2857125300238257,
          0.2857125300238257,
          0.2857125300238257,
          0.2857125300238257,
          0.2857125300238257,
          1034754304.499999,
          1034754304.499999,
          295320534.00000036,
          1444645461.4999967,
          1444645461.4999967,
          2299194132.333329,
          2299194132.333329,
          2299194132.333329,
          265349190.9999957,
          626137784.9999974,
          1756439716.4999976,
          1756439716.4999976,
          34372632.9090898,
          34372632.9090898,
          34372632.9090898,
          34372632.9090898,
          34372632.9090898,
          34372632.9090898,
          34372632.9090898,
          34372632.9090898,
          34372632.9090898,
          34372632.9090898,
          34372632.9090898,
          1440352486.3333318,
          1440352486.3333318,
          1440352486.3333318,
          635642428,
          -0.0000030994415283203125,
          -0.0000030994415283203125,
          -0.0000030994415283203125,
          -0.0000030994415283203125,
          -0.0000030994415283203125,
          -0.0000030994415283203125,
          -0.0000030994415283203125,
          -0.0000030994415283203125,
          -0.0000030994415283203125,
          -0.0000030994415283203125,
          -0.0000030994415283203125,
          1439150239.333331,
          1439150239.333331,
          1439150239.333331,
          2054980558.999997,
          1451991065.3999999,
          1451991065.3999999,
          1451991065.3999999,
          1451991065.3999999,
          1451991065.3999999,
          2344506414.999997,
          2344506414.999997,
          1455265194.9999974,
          1455265194.9999974,
          10726557.199996471,
          10726557.199996471,
          10726557.199996471,
          10726557.199996471,
          10726557.199996471,
          10726557.199996471,
          10726557.199996471,
          10726557.199996471,
          10726557.199996471,
          10726557.199996471,
          1377328228.9999964,
          1377328228.9999964,
          2682330680.9999976,
          2682330680.9999976,
          1490071089.999996,
          1060208787.9999971,
          -0.000002384185791015625,
          -0.000002384185791015625,
          -0.000002384185791015625,
          -0.000002384185791015625,
          601046706.9999967,
          1525273452.33333,
          1525273452.33333,
          1525273452.33333,
          157931784.9999981
         ]
        }
       ],
       "layout": {
        "legend": {
         "orientation": "h",
         "title": {
          "text": "Signals"
         },
         "yanchor": "top"
        },
        "template": {
         "data": {
          "bar": [
           {
            "error_x": {
             "color": "#2a3f5f"
            },
            "error_y": {
             "color": "#2a3f5f"
            },
            "marker": {
             "line": {
              "color": "#E5ECF6",
              "width": 0.5
             }
            },
            "type": "bar"
           }
          ],
          "barpolar": [
           {
            "marker": {
             "line": {
              "color": "#E5ECF6",
              "width": 0.5
             }
            },
            "type": "barpolar"
           }
          ],
          "carpet": [
           {
            "aaxis": {
             "endlinecolor": "#2a3f5f",
             "gridcolor": "white",
             "linecolor": "white",
             "minorgridcolor": "white",
             "startlinecolor": "#2a3f5f"
            },
            "baxis": {
             "endlinecolor": "#2a3f5f",
             "gridcolor": "white",
             "linecolor": "white",
             "minorgridcolor": "white",
             "startlinecolor": "#2a3f5f"
            },
            "type": "carpet"
           }
          ],
          "choropleth": [
           {
            "colorbar": {
             "outlinewidth": 0,
             "ticks": ""
            },
            "type": "choropleth"
           }
          ],
          "contour": [
           {
            "colorbar": {
             "outlinewidth": 0,
             "ticks": ""
            },
            "colorscale": [
             [
              0,
              "#0d0887"
             ],
             [
              0.1111111111111111,
              "#46039f"
             ],
             [
              0.2222222222222222,
              "#7201a8"
             ],
             [
              0.3333333333333333,
              "#9c179e"
             ],
             [
              0.4444444444444444,
              "#bd3786"
             ],
             [
              0.5555555555555556,
              "#d8576b"
             ],
             [
              0.6666666666666666,
              "#ed7953"
             ],
             [
              0.7777777777777778,
              "#fb9f3a"
             ],
             [
              0.8888888888888888,
              "#fdca26"
             ],
             [
              1,
              "#f0f921"
             ]
            ],
            "type": "contour"
           }
          ],
          "contourcarpet": [
           {
            "colorbar": {
             "outlinewidth": 0,
             "ticks": ""
            },
            "type": "contourcarpet"
           }
          ],
          "heatmap": [
           {
            "colorbar": {
             "outlinewidth": 0,
             "ticks": ""
            },
            "colorscale": [
             [
              0,
              "#0d0887"
             ],
             [
              0.1111111111111111,
              "#46039f"
             ],
             [
              0.2222222222222222,
              "#7201a8"
             ],
             [
              0.3333333333333333,
              "#9c179e"
             ],
             [
              0.4444444444444444,
              "#bd3786"
             ],
             [
              0.5555555555555556,
              "#d8576b"
             ],
             [
              0.6666666666666666,
              "#ed7953"
             ],
             [
              0.7777777777777778,
              "#fb9f3a"
             ],
             [
              0.8888888888888888,
              "#fdca26"
             ],
             [
              1,
              "#f0f921"
             ]
            ],
            "type": "heatmap"
           }
          ],
          "heatmapgl": [
           {
            "colorbar": {
             "outlinewidth": 0,
             "ticks": ""
            },
            "colorscale": [
             [
              0,
              "#0d0887"
             ],
             [
              0.1111111111111111,
              "#46039f"
             ],
             [
              0.2222222222222222,
              "#7201a8"
             ],
             [
              0.3333333333333333,
              "#9c179e"
             ],
             [
              0.4444444444444444,
              "#bd3786"
             ],
             [
              0.5555555555555556,
              "#d8576b"
             ],
             [
              0.6666666666666666,
              "#ed7953"
             ],
             [
              0.7777777777777778,
              "#fb9f3a"
             ],
             [
              0.8888888888888888,
              "#fdca26"
             ],
             [
              1,
              "#f0f921"
             ]
            ],
            "type": "heatmapgl"
           }
          ],
          "histogram": [
           {
            "marker": {
             "colorbar": {
              "outlinewidth": 0,
              "ticks": ""
             }
            },
            "type": "histogram"
           }
          ],
          "histogram2d": [
           {
            "colorbar": {
             "outlinewidth": 0,
             "ticks": ""
            },
            "colorscale": [
             [
              0,
              "#0d0887"
             ],
             [
              0.1111111111111111,
              "#46039f"
             ],
             [
              0.2222222222222222,
              "#7201a8"
             ],
             [
              0.3333333333333333,
              "#9c179e"
             ],
             [
              0.4444444444444444,
              "#bd3786"
             ],
             [
              0.5555555555555556,
              "#d8576b"
             ],
             [
              0.6666666666666666,
              "#ed7953"
             ],
             [
              0.7777777777777778,
              "#fb9f3a"
             ],
             [
              0.8888888888888888,
              "#fdca26"
             ],
             [
              1,
              "#f0f921"
             ]
            ],
            "type": "histogram2d"
           }
          ],
          "histogram2dcontour": [
           {
            "colorbar": {
             "outlinewidth": 0,
             "ticks": ""
            },
            "colorscale": [
             [
              0,
              "#0d0887"
             ],
             [
              0.1111111111111111,
              "#46039f"
             ],
             [
              0.2222222222222222,
              "#7201a8"
             ],
             [
              0.3333333333333333,
              "#9c179e"
             ],
             [
              0.4444444444444444,
              "#bd3786"
             ],
             [
              0.5555555555555556,
              "#d8576b"
             ],
             [
              0.6666666666666666,
              "#ed7953"
             ],
             [
              0.7777777777777778,
              "#fb9f3a"
             ],
             [
              0.8888888888888888,
              "#fdca26"
             ],
             [
              1,
              "#f0f921"
             ]
            ],
            "type": "histogram2dcontour"
           }
          ],
          "mesh3d": [
           {
            "colorbar": {
             "outlinewidth": 0,
             "ticks": ""
            },
            "type": "mesh3d"
           }
          ],
          "parcoords": [
           {
            "line": {
             "colorbar": {
              "outlinewidth": 0,
              "ticks": ""
             }
            },
            "type": "parcoords"
           }
          ],
          "pie": [
           {
            "automargin": true,
            "type": "pie"
           }
          ],
          "scatter": [
           {
            "marker": {
             "colorbar": {
              "outlinewidth": 0,
              "ticks": ""
             }
            },
            "type": "scatter"
           }
          ],
          "scatter3d": [
           {
            "line": {
             "colorbar": {
              "outlinewidth": 0,
              "ticks": ""
             }
            },
            "marker": {
             "colorbar": {
              "outlinewidth": 0,
              "ticks": ""
             }
            },
            "type": "scatter3d"
           }
          ],
          "scattercarpet": [
           {
            "marker": {
             "colorbar": {
              "outlinewidth": 0,
              "ticks": ""
             }
            },
            "type": "scattercarpet"
           }
          ],
          "scattergeo": [
           {
            "marker": {
             "colorbar": {
              "outlinewidth": 0,
              "ticks": ""
             }
            },
            "type": "scattergeo"
           }
          ],
          "scattergl": [
           {
            "marker": {
             "colorbar": {
              "outlinewidth": 0,
              "ticks": ""
             }
            },
            "type": "scattergl"
           }
          ],
          "scattermapbox": [
           {
            "marker": {
             "colorbar": {
              "outlinewidth": 0,
              "ticks": ""
             }
            },
            "type": "scattermapbox"
           }
          ],
          "scatterpolar": [
           {
            "marker": {
             "colorbar": {
              "outlinewidth": 0,
              "ticks": ""
             }
            },
            "type": "scatterpolar"
           }
          ],
          "scatterpolargl": [
           {
            "marker": {
             "colorbar": {
              "outlinewidth": 0,
              "ticks": ""
             }
            },
            "type": "scatterpolargl"
           }
          ],
          "scatterternary": [
           {
            "marker": {
             "colorbar": {
              "outlinewidth": 0,
              "ticks": ""
             }
            },
            "type": "scatterternary"
           }
          ],
          "surface": [
           {
            "colorbar": {
             "outlinewidth": 0,
             "ticks": ""
            },
            "colorscale": [
             [
              0,
              "#0d0887"
             ],
             [
              0.1111111111111111,
              "#46039f"
             ],
             [
              0.2222222222222222,
              "#7201a8"
             ],
             [
              0.3333333333333333,
              "#9c179e"
             ],
             [
              0.4444444444444444,
              "#bd3786"
             ],
             [
              0.5555555555555556,
              "#d8576b"
             ],
             [
              0.6666666666666666,
              "#ed7953"
             ],
             [
              0.7777777777777778,
              "#fb9f3a"
             ],
             [
              0.8888888888888888,
              "#fdca26"
             ],
             [
              1,
              "#f0f921"
             ]
            ],
            "type": "surface"
           }
          ],
          "table": [
           {
            "cells": {
             "fill": {
              "color": "#EBF0F8"
             },
             "line": {
              "color": "white"
             }
            },
            "header": {
             "fill": {
              "color": "#C8D4E3"
             },
             "line": {
              "color": "white"
             }
            },
            "type": "table"
           }
          ]
         },
         "layout": {
          "annotationdefaults": {
           "arrowcolor": "#2a3f5f",
           "arrowhead": 0,
           "arrowwidth": 1
          },
          "coloraxis": {
           "colorbar": {
            "outlinewidth": 0,
            "ticks": ""
           }
          },
          "colorscale": {
           "diverging": [
            [
             0,
             "#8e0152"
            ],
            [
             0.1,
             "#c51b7d"
            ],
            [
             0.2,
             "#de77ae"
            ],
            [
             0.3,
             "#f1b6da"
            ],
            [
             0.4,
             "#fde0ef"
            ],
            [
             0.5,
             "#f7f7f7"
            ],
            [
             0.6,
             "#e6f5d0"
            ],
            [
             0.7,
             "#b8e186"
            ],
            [
             0.8,
             "#7fbc41"
            ],
            [
             0.9,
             "#4d9221"
            ],
            [
             1,
             "#276419"
            ]
           ],
           "sequential": [
            [
             0,
             "#0d0887"
            ],
            [
             0.1111111111111111,
             "#46039f"
            ],
            [
             0.2222222222222222,
             "#7201a8"
            ],
            [
             0.3333333333333333,
             "#9c179e"
            ],
            [
             0.4444444444444444,
             "#bd3786"
            ],
            [
             0.5555555555555556,
             "#d8576b"
            ],
            [
             0.6666666666666666,
             "#ed7953"
            ],
            [
             0.7777777777777778,
             "#fb9f3a"
            ],
            [
             0.8888888888888888,
             "#fdca26"
            ],
            [
             1,
             "#f0f921"
            ]
           ],
           "sequentialminus": [
            [
             0,
             "#0d0887"
            ],
            [
             0.1111111111111111,
             "#46039f"
            ],
            [
             0.2222222222222222,
             "#7201a8"
            ],
            [
             0.3333333333333333,
             "#9c179e"
            ],
            [
             0.4444444444444444,
             "#bd3786"
            ],
            [
             0.5555555555555556,
             "#d8576b"
            ],
            [
             0.6666666666666666,
             "#ed7953"
            ],
            [
             0.7777777777777778,
             "#fb9f3a"
            ],
            [
             0.8888888888888888,
             "#fdca26"
            ],
            [
             1,
             "#f0f921"
            ]
           ]
          },
          "colorway": [
           "#636efa",
           "#EF553B",
           "#00cc96",
           "#ab63fa",
           "#FFA15A",
           "#19d3f3",
           "#FF6692",
           "#B6E880",
           "#FF97FF",
           "#FECB52"
          ],
          "font": {
           "color": "#2a3f5f"
          },
          "geo": {
           "bgcolor": "white",
           "lakecolor": "white",
           "landcolor": "#E5ECF6",
           "showlakes": true,
           "showland": true,
           "subunitcolor": "white"
          },
          "hoverlabel": {
           "align": "left"
          },
          "hovermode": "closest",
          "mapbox": {
           "style": "light"
          },
          "paper_bgcolor": "white",
          "plot_bgcolor": "#E5ECF6",
          "polar": {
           "angularaxis": {
            "gridcolor": "white",
            "linecolor": "white",
            "ticks": ""
           },
           "bgcolor": "#E5ECF6",
           "radialaxis": {
            "gridcolor": "white",
            "linecolor": "white",
            "ticks": ""
           }
          },
          "scene": {
           "xaxis": {
            "backgroundcolor": "#E5ECF6",
            "gridcolor": "white",
            "gridwidth": 2,
            "linecolor": "white",
            "showbackground": true,
            "ticks": "",
            "zerolinecolor": "white"
           },
           "yaxis": {
            "backgroundcolor": "#E5ECF6",
            "gridcolor": "white",
            "gridwidth": 2,
            "linecolor": "white",
            "showbackground": true,
            "ticks": "",
            "zerolinecolor": "white"
           },
           "zaxis": {
            "backgroundcolor": "#E5ECF6",
            "gridcolor": "white",
            "gridwidth": 2,
            "linecolor": "white",
            "showbackground": true,
            "ticks": "",
            "zerolinecolor": "white"
           }
          },
          "shapedefaults": {
           "line": {
            "color": "#2a3f5f"
           }
          },
          "ternary": {
           "aaxis": {
            "gridcolor": "white",
            "linecolor": "white",
            "ticks": ""
           },
           "baxis": {
            "gridcolor": "white",
            "linecolor": "white",
            "ticks": ""
           },
           "bgcolor": "#E5ECF6",
           "caxis": {
            "gridcolor": "white",
            "linecolor": "white",
            "ticks": ""
           }
          },
          "title": {
           "x": 0.05
          },
          "xaxis": {
           "automargin": true,
           "gridcolor": "white",
           "linecolor": "white",
           "ticks": "",
           "title": {
            "standoff": 15
           },
           "zerolinecolor": "white",
           "zerolinewidth": 2
          },
          "yaxis": {
           "automargin": true,
           "gridcolor": "white",
           "linecolor": "white",
           "ticks": "",
           "title": {
            "standoff": 15
           },
           "zerolinecolor": "white",
           "zerolinewidth": 2
          }
         }
        },
        "title": {
         "text": "IOI Signal decomposition"
        },
        "yaxis": {
         "title": {
          "text": "volume conveyed by the application"
         }
        }
       }
      }
     },
     "metadata": {},
     "output_type": "display_data"
    }
   ],
   "source": [
    "fig = plot_detected_phases(jobid=3911)\n",
    "fig.show()\n",
    " "
   ]
  },
  {
   "cell_type": "code",
   "execution_count": 3,
   "metadata": {},
   "outputs": [
    {
     "name": "stdout",
     "output_type": "stream",
     "text": [
      "labels=[0 2 2 0 0 0 0 0 2 2 0 0 0 3 2 2 0 0 0 0 0 3 3 0 3 3 3 3 3 0 0 3 3 0 0 0 0\n",
      " 0 0 0 0 0 0 0 3 3 3 0 0 0 0 0 0 0 0 0 0 0 0 3 3 3 3 3 3 3 3 3 3 3 3 3 0 0\n",
      " 0 0 0 0 0 0 0 0 3 3 3 3 3 3 0 0 0 0 0 3 3 3 0]\n",
      "starting points = [1, 8, 13, 14, 21, 24, 31, 44, 59, 82, 93]\n",
      "ending points = [3, 10, 14, 16, 23, 29, 33, 47, 72, 88, 96]\n",
      "labels=[0 2 2 0 0 0 0 0 2 2 0 0 0 0 2 2 0 0 0 0 0 0 0 0 0 0 0 0 0 0 0 0 0 0 0 0 0\n",
      " 0 0 0 0 0 0 0 0 0 0 0 0 0 0 0 0 0 0 0 0 0 0 0 0 0 0 0 0 0 0 0 0 0 0 0 0 0\n",
      " 0 0 0 0 0 0 0 0 0 0 0 0 0 0 0 0 0 0 0 0 0 0 0]\n",
      "starting points = [1, 8, 14]\n",
      "ending points = [3, 10, 16]\n",
      "labels=[0 0 0 0 0 0 0 0 0 0 0 0 0 0 0 0 0 0 0 0 0 4 4 0 2 2 3 3 3 0 4 2 2 0 0 0 0\n",
      " 0 0 0 0 0 0 0 2 2 2 4 0 0 0 0 0 0 0 0 0 0 0 2 2 2 3 2 2 2 2 2 3 3 2 2 0 0\n",
      " 0 0 0 0 0 0 0 0 2 2 3 3 2 4 0 0 0 0 4 2 2 2 0]\n",
      "starting points = [21, 24, 26, 30, 31, 44, 47, 59, 62, 63, 68, 70, 82, 84, 86, 87, 92, 93]\n",
      "ending points = [23, 26, 29, 31, 33, 47, 48, 62, 63, 68, 70, 72, 84, 86, 87, 88, 93, 96]\n",
      "compute=[0, 1, 7, 11, 12, 18, 20, 23, 35, 48, 59, 65, 66], reads=[0, 23386773196, 31691826756, 0, 28007153119, 0, 0, 0, 0, 0, 0, 0, 0], read_bw=[0, 11693386598.0, 15845913378.0, 0, 14003576559.5, 0, 0, 0, 0, 0, 0, 0, 0]\n",
      "compute=[0, 1, 7, 11, 12, 18, 20, 23, 35, 48, 59, 65, 66], writes=[0, 0, 0, 0, 0, 2069508609, 9786873320, 3512879433, 4321057459, 21231929824, 10669597698, 4575820357, 0], write_bw=[0, 0, 0, 0, 0, 1034754304.5, 1957374664.0, 1756439716.5, 1440352486.3333333, 1633225371.0769231, 1778266283.0, 1525273452.3333333, 0]\n"
     ]
    }
   ],
   "source": [
    "logger.remove()\n",
    "def decompose_ioi_job(jobid):\n",
    "    with patch.object(ComplexDecomposer, 'get_job_timeseries') as mock_get_timeseries:\n",
    "        with patch.object(Configuration, 'get_kc_token') as mock_get_kc_token:\n",
    "            mock_get_timeseries.return_value = get_job_timeseries_from_file(job_id=jobid)\n",
    "            mock_get_kc_token.return_value = 'token'\n",
    "            # init the job decomposer\n",
    "            cd = ComplexDecomposer()\n",
    "            return cd\n",
    "cd = decompose_ioi_job(jobid=3911)\n",
    "compute, reads, read_bw, writes, write_bw = cd.get_job_representation()\n",
    "# This is the app encoding representation for Execution Simulator\n",
    "print(f\"compute={compute}, reads={reads}, read_bw={read_bw}\")\n",
    "print(f\"compute={compute}, writes={writes}, write_bw={write_bw}\")\n",
    "# Normalize signals\n",
    "timestamps = (cd.timestamps.flatten() - cd.timestamps.flatten()[0])/5\n",
    "original_read =  cd.read_signal.flatten()/1e6\n",
    "original_write = cd.write_signal.flatten()/1e6\n",
    "\n"
   ]
  },
  {
   "cell_type": "markdown",
   "metadata": {},
   "source": [
    "Now we obtain a representation of the job that \"removes\" the performance of the storage tier:\n",
    "- Events (timestamps) = [0, 1, 7, 11, 12, 18, 20, 23, 35, 48, 59, 65, 66]\n",
    "- Reads (volumes in GB) = [0.0, 23.39, 31.69, 0.0, 28.01, 0.0, 0.0, 0.0, 0.0, 0.0, 0.0, 0.0, 0.0]\n",
    "- Writes (volumes in GB) = [0.0, 0.0, 0.0, 0.0, 0.0, 2.07, 9.79, 3.51, 4.32, 21.23, 10.67, 4.58, 0.0]"
   ]
  },
  {
   "cell_type": "code",
   "execution_count": 4,
   "metadata": {},
   "outputs": [
    {
     "name": "stdout",
     "output_type": "stream",
     "text": [
      "[0, 1, 7, 11, 12, 18, 20, 23, 35, 48, 59, 65, 66]\n",
      "[0.0, 23.39, 31.69, 0.0, 28.01, 0.0, 0.0, 0.0, 0.0, 0.0, 0.0, 0.0, 0.0]\n",
      "[0.0, 0.0, 0.0, 0.0, 0.0, 2.07, 9.79, 3.51, 4.32, 21.23, 10.67, 4.58, 0.0]\n"
     ]
    }
   ],
   "source": [
    "print(compute)\n",
    "print(list(map(lambda x: round(x/1e9, 2), reads)))\n",
    "print(list(map(lambda x: round(x/1e9, 2), writes)))\n"
   ]
  },
  {
   "cell_type": "markdown",
   "metadata": {},
   "source": [
    "Signal reconstruction from the representation:\n",
    "- we reuse measured bandwidths for both read and write signal\n",
    "- we feed the Simulator with this data, instead of providing a Storage Performance Model: bw = f(IO_size, IO_pattern, ...)"
   ]
  },
  {
   "cell_type": "code",
   "execution_count": 10,
   "metadata": {},
   "outputs": [],
   "source": [
    "# Apply same BW as measured by IOI\n",
    "read_bw = list(map(lambda x: x/1e6, read_bw))\n",
    "write_bw = list(map(lambda x: x/1e6, write_bw))\n",
    "io_bw = list(map(lambda x, y: x + y, read_bw, write_bw))"
   ]
  },
  {
   "cell_type": "markdown",
   "metadata": {},
   "source": [
    "Inputting representation in App Simulator\n"
   ]
  },
  {
   "cell_type": "code",
   "execution_count": 11,
   "metadata": {},
   "outputs": [],
   "source": [
    "sim_time, sim_read_bw, sim_write_bw = simulate_app(compute, reads, writes, io_bw, app_name=\"3911\")\n"
   ]
  },
  {
   "cell_type": "markdown",
   "metadata": {},
   "source": [
    "Plotting Simulation versus Origial (IOI) signals"
   ]
  },
  {
   "cell_type": "code",
   "execution_count": 15,
   "metadata": {},
   "outputs": [
    {
     "data": {
      "application/vnd.plotly.v1+json": {
       "config": {
        "plotlyServerURL": "https://plot.ly"
       },
       "data": [
        {
         "line": {
          "color": "blue",
          "shape": "linear"
         },
         "marker": {
          "size": 5
         },
         "mode": "lines+markers",
         "name": "Original I/O Read Volume Signal (IOI)",
         "textposition": "top center",
         "type": "scatter",
         "x": [
          0,
          1,
          2,
          3,
          4,
          5,
          6,
          7,
          8,
          9,
          10,
          11,
          12,
          13,
          14,
          15,
          16,
          17,
          18,
          19,
          20,
          21,
          22,
          23,
          24,
          25,
          26,
          27,
          28,
          29,
          30,
          31,
          32,
          33,
          34,
          35,
          36,
          37,
          38,
          39,
          40,
          41,
          42,
          43,
          44,
          45,
          46,
          47,
          48,
          49,
          50,
          51,
          52,
          53,
          54,
          55,
          56,
          57,
          58,
          59,
          60,
          61,
          62,
          63,
          64,
          65,
          66,
          67,
          68,
          69,
          70,
          71,
          72,
          73,
          74,
          75,
          76,
          77,
          78,
          79,
          80,
          81,
          82,
          83,
          84,
          85,
          86,
          87,
          88,
          89,
          90,
          91,
          92,
          93,
          94,
          95,
          96
         ],
         "xaxis": "x",
         "y": [
          0.002971,
          13778.150031,
          9608.623165,
          0,
          0,
          0,
          0,
          0,
          15563.149199,
          16128.677557,
          0,
          0,
          0,
          3684.676453,
          15913.359748,
          12093.793371,
          0,
          0,
          0.005912,
          0,
          0,
          0,
          0.000015,
          0,
          0,
          0.000015,
          0,
          0.000015,
          0.00003,
          0.000015,
          0,
          0,
          0.00003,
          0,
          0,
          0,
          0,
          0,
          0,
          0,
          0,
          0,
          0,
          0,
          0,
          0,
          0,
          0,
          0,
          0,
          0,
          0,
          0,
          0,
          0,
          0,
          0,
          0,
          0,
          0,
          0,
          0,
          0,
          0,
          0,
          0,
          0,
          0,
          0,
          0,
          0,
          0,
          0,
          0,
          0,
          0,
          0,
          0,
          0,
          0,
          0,
          0,
          0,
          0,
          0,
          0,
          0,
          0,
          0,
          0,
          0,
          0,
          0,
          0,
          0,
          0,
          0
         ],
         "yaxis": "y"
        },
        {
         "line": {
          "color": "green",
          "shape": "linear"
         },
         "marker": {
          "size": 5
         },
         "mode": "lines+markers",
         "name": "Original I/O Written Volume Signal (IOI)",
         "textposition": "top center",
         "type": "scatter",
         "x": [
          0,
          1,
          2,
          3,
          4,
          5,
          6,
          7,
          8,
          9,
          10,
          11,
          12,
          13,
          14,
          15,
          16,
          17,
          18,
          19,
          20,
          21,
          22,
          23,
          24,
          25,
          26,
          27,
          28,
          29,
          30,
          31,
          32,
          33,
          34,
          35,
          36,
          37,
          38,
          39,
          40,
          41,
          42,
          43,
          44,
          45,
          46,
          47,
          48,
          49,
          50,
          51,
          52,
          53,
          54,
          55,
          56,
          57,
          58,
          59,
          60,
          61,
          62,
          63,
          64,
          65,
          66,
          67,
          68,
          69,
          70,
          71,
          72,
          73,
          74,
          75,
          76,
          77,
          78,
          79,
          80,
          81,
          82,
          83,
          84,
          85,
          86,
          87,
          88,
          89,
          90,
          91,
          92,
          93,
          94,
          95,
          96
         ],
         "xaxis": "x",
         "y": [
          0.000006,
          0,
          0,
          0,
          0,
          0,
          0,
          0,
          0,
          0,
          0,
          0,
          0,
          0,
          0,
          0,
          0,
          0,
          0,
          0,
          0,
          1012.116388,
          1057.392221,
          295.320534,
          1487.763589,
          1401.527334,
          2253.735534,
          2443.484376,
          2200.362487,
          265.349191,
          626.137785,
          1859.820288,
          1653.059145,
          0,
          0,
          0,
          0,
          0,
          0,
          0,
          0,
          0,
          0,
          378.098962,
          1398.842594,
          1502.814315,
          1419.40055,
          635.642428,
          0,
          0,
          0,
          0,
          0,
          0,
          0,
          0,
          0,
          0,
          0,
          1288.923952,
          1515.143743,
          1513.383023,
          2054.980559,
          1482.684744,
          1511.046959,
          1303.434718,
          1455.019887,
          1507.769019,
          2171.952851,
          2517.059979,
          1378.004685,
          1532.525705,
          107.265572,
          0,
          0,
          0,
          0,
          0,
          0,
          0,
          0,
          0,
          1223.914667,
          1530.741791,
          2760.206993,
          2604.454369,
          1490.07109,
          1060.208788,
          0,
          0,
          0,
          0,
          601.046707,
          1531.555557,
          1503.590684,
          1540.674116,
          157.931785
         ],
         "yaxis": "y"
        },
        {
         "line": {
          "color": "blue",
          "dash": "dot",
          "shape": "linear"
         },
         "mode": "lines",
         "name": "Simulated I/O Read Volume Signal",
         "textposition": "top center",
         "type": "scatter",
         "x": [
          0,
          1,
          2,
          3,
          4,
          5,
          6,
          7,
          8,
          9,
          10,
          11,
          12,
          13,
          14,
          15,
          16,
          17,
          18,
          19,
          20,
          21,
          22,
          23,
          24,
          25,
          26,
          27,
          28,
          29,
          30,
          31,
          32,
          33,
          34,
          35,
          36,
          37,
          38,
          39,
          40,
          41,
          42,
          43,
          44,
          45,
          46,
          47,
          48,
          49,
          50,
          51,
          52,
          53,
          54,
          55,
          56,
          57,
          58,
          59,
          60,
          61,
          62,
          63,
          64,
          65,
          66,
          67,
          68,
          69,
          70,
          71,
          72,
          73,
          74,
          75,
          76,
          77,
          78,
          79,
          80,
          81,
          82,
          83,
          84,
          85,
          86,
          87,
          88,
          89,
          90,
          91,
          92,
          93,
          94,
          95,
          96,
          97
         ],
         "xaxis": "x",
         "y": [
          0,
          11693.386598,
          11693.386598,
          0,
          0,
          0,
          0,
          0,
          15845.913378,
          15845.913378,
          0,
          0,
          0,
          0,
          0,
          14003.5765595,
          14003.5765595,
          0,
          0,
          0,
          0,
          0,
          0,
          0,
          0,
          0,
          0,
          0,
          0,
          0,
          0,
          0,
          0,
          0,
          0,
          0,
          0,
          0,
          0,
          0,
          0,
          0,
          0,
          0,
          0,
          0,
          0,
          0,
          0,
          0,
          0,
          0,
          0,
          0,
          0,
          0,
          0,
          0,
          0,
          0,
          0,
          0,
          0,
          0,
          0,
          0,
          0,
          0,
          0,
          0,
          0,
          0,
          0,
          0,
          0,
          0,
          0,
          0,
          0,
          0,
          0,
          0,
          0,
          0,
          0,
          0,
          0,
          0,
          0,
          0,
          0,
          0,
          0,
          0,
          0,
          0,
          0,
          0
         ],
         "yaxis": "y"
        },
        {
         "line": {
          "color": "green",
          "dash": "dot",
          "shape": "linear"
         },
         "mode": "lines",
         "name": "Simulated I/O Written Volume Signal",
         "textposition": "top center",
         "type": "scatter",
         "x": [
          0,
          1,
          2,
          3,
          4,
          5,
          6,
          7,
          8,
          9,
          10,
          11,
          12,
          13,
          14,
          15,
          16,
          17,
          18,
          19,
          20,
          21,
          22,
          23,
          24,
          25,
          26,
          27,
          28,
          29,
          30,
          31,
          32,
          33,
          34,
          35,
          36,
          37,
          38,
          39,
          40,
          41,
          42,
          43,
          44,
          45,
          46,
          47,
          48,
          49,
          50,
          51,
          52,
          53,
          54,
          55,
          56,
          57,
          58,
          59,
          60,
          61,
          62,
          63,
          64,
          65,
          66,
          67,
          68,
          69,
          70,
          71,
          72,
          73,
          74,
          75,
          76,
          77,
          78,
          79,
          80,
          81,
          82,
          83,
          84,
          85,
          86,
          87,
          88,
          89,
          90,
          91,
          92,
          93,
          94,
          95,
          96,
          97
         ],
         "xaxis": "x",
         "y": [
          0,
          0,
          0,
          0,
          0,
          0,
          0,
          0,
          0,
          0,
          0,
          0,
          0,
          0,
          0,
          0,
          0,
          0,
          0,
          0,
          0,
          0,
          1034.7543045,
          1034.7543045,
          0,
          1957.374664,
          1957.374664,
          1957.374664,
          1957.374664,
          1957.374664,
          0,
          0,
          1756.4397165,
          1756.4397165,
          0,
          0,
          0,
          0,
          0,
          0,
          0,
          0,
          0,
          0,
          0,
          1440.3524863333332,
          1440.3524863333332,
          1440.3524863333332,
          0,
          0,
          0,
          0,
          0,
          0,
          0,
          0,
          0,
          0,
          0,
          0,
          1633.2253710769232,
          1633.2253710769232,
          1633.2253710769232,
          1633.2253710769232,
          1633.2253710769232,
          1633.2253710769232,
          1633.2253710769232,
          1633.2253710769232,
          1633.2253710769232,
          1633.2253710769232,
          1633.2253710769232,
          1633.2253710769232,
          1633.2253710769232,
          0,
          0,
          0,
          0,
          0,
          0,
          0,
          0,
          0,
          0,
          1778.266283,
          1778.266283,
          1778.266283,
          1778.266283,
          1778.266283,
          1778.266283,
          0,
          0,
          0,
          0,
          0,
          1525.2734523333334,
          1525.2734523333334,
          1525.2734523333334,
          0
         ],
         "yaxis": "y"
        },
        {
         "line": {
          "color": "blue",
          "shape": "linear"
         },
         "marker": {
          "size": 5
         },
         "mode": "lines+markers",
         "name": "Cumulated Original I/O Read Volume Signal (IOI)",
         "textposition": "top center",
         "type": "scatter",
         "x": [
          0,
          1,
          2,
          3,
          4,
          5,
          6,
          7,
          8,
          9,
          10,
          11,
          12,
          13,
          14,
          15,
          16,
          17,
          18,
          19,
          20,
          21,
          22,
          23,
          24,
          25,
          26,
          27,
          28,
          29,
          30,
          31,
          32,
          33,
          34,
          35,
          36,
          37,
          38,
          39,
          40,
          41,
          42,
          43,
          44,
          45,
          46,
          47,
          48,
          49,
          50,
          51,
          52,
          53,
          54,
          55,
          56,
          57,
          58,
          59,
          60,
          61,
          62,
          63,
          64,
          65,
          66,
          67,
          68,
          69,
          70,
          71,
          72,
          73,
          74,
          75,
          76,
          77,
          78,
          79,
          80,
          81,
          82,
          83,
          84,
          85,
          86,
          87,
          88,
          89,
          90,
          91,
          92,
          93,
          94,
          95,
          96
         ],
         "xaxis": "x2",
         "y": [
          0.002971,
          13778.153002,
          23386.776167,
          23386.776167,
          23386.776167,
          23386.776167,
          23386.776167,
          23386.776167,
          38949.925365999996,
          55078.602923,
          55078.602923,
          55078.602923,
          55078.602923,
          58763.279376,
          74676.639124,
          86770.43249499999,
          86770.43249499999,
          86770.43249499999,
          86770.43840699998,
          86770.43840699998,
          86770.43840699998,
          86770.43840699998,
          86770.43842199998,
          86770.43842199998,
          86770.43842199998,
          86770.43843699998,
          86770.43843699998,
          86770.43845199997,
          86770.43848199997,
          86770.43849699997,
          86770.43849699997,
          86770.43849699997,
          86770.43852699996,
          86770.43852699996,
          86770.43852699996,
          86770.43852699996,
          86770.43852699996,
          86770.43852699996,
          86770.43852699996,
          86770.43852699996,
          86770.43852699996,
          86770.43852699996,
          86770.43852699996,
          86770.43852699996,
          86770.43852699996,
          86770.43852699996,
          86770.43852699996,
          86770.43852699996,
          86770.43852699996,
          86770.43852699996,
          86770.43852699996,
          86770.43852699996,
          86770.43852699996,
          86770.43852699996,
          86770.43852699996,
          86770.43852699996,
          86770.43852699996,
          86770.43852699996,
          86770.43852699996,
          86770.43852699996,
          86770.43852699996,
          86770.43852699996,
          86770.43852699996,
          86770.43852699996,
          86770.43852699996,
          86770.43852699996,
          86770.43852699996,
          86770.43852699996,
          86770.43852699996,
          86770.43852699996,
          86770.43852699996,
          86770.43852699996,
          86770.43852699996,
          86770.43852699996,
          86770.43852699996,
          86770.43852699996,
          86770.43852699996,
          86770.43852699996,
          86770.43852699996,
          86770.43852699996,
          86770.43852699996,
          86770.43852699996,
          86770.43852699996,
          86770.43852699996,
          86770.43852699996,
          86770.43852699996,
          86770.43852699996,
          86770.43852699996,
          86770.43852699996,
          86770.43852699996,
          86770.43852699996,
          86770.43852699996,
          86770.43852699996,
          86770.43852699996,
          86770.43852699996,
          86770.43852699996,
          86770.43852699996
         ],
         "yaxis": "y2"
        },
        {
         "line": {
          "color": "green",
          "shape": "linear"
         },
         "marker": {
          "size": 5
         },
         "mode": "lines+markers",
         "name": "Cumulated Original I/O Written Volume Signal (IOI)",
         "textposition": "top center",
         "type": "scatter",
         "x": [
          0,
          1,
          2,
          3,
          4,
          5,
          6,
          7,
          8,
          9,
          10,
          11,
          12,
          13,
          14,
          15,
          16,
          17,
          18,
          19,
          20,
          21,
          22,
          23,
          24,
          25,
          26,
          27,
          28,
          29,
          30,
          31,
          32,
          33,
          34,
          35,
          36,
          37,
          38,
          39,
          40,
          41,
          42,
          43,
          44,
          45,
          46,
          47,
          48,
          49,
          50,
          51,
          52,
          53,
          54,
          55,
          56,
          57,
          58,
          59,
          60,
          61,
          62,
          63,
          64,
          65,
          66,
          67,
          68,
          69,
          70,
          71,
          72,
          73,
          74,
          75,
          76,
          77,
          78,
          79,
          80,
          81,
          82,
          83,
          84,
          85,
          86,
          87,
          88,
          89,
          90,
          91,
          92,
          93,
          94,
          95,
          96
         ],
         "xaxis": "x2",
         "y": [
          0.000006,
          0.000006,
          0.000006,
          0.000006,
          0.000006,
          0.000006,
          0.000006,
          0.000006,
          0.000006,
          0.000006,
          0.000006,
          0.000006,
          0.000006,
          0.000006,
          0.000006,
          0.000006,
          0.000006,
          0.000006,
          0.000006,
          0.000006,
          0.000006,
          1012.116394,
          2069.508615,
          2364.829149,
          3852.5927380000003,
          5254.120072000001,
          7507.855606000001,
          9951.339982000001,
          12151.702469000002,
          12417.051660000001,
          13043.189445000002,
          14903.009733000003,
          16556.068878000002,
          16556.068878000002,
          16556.068878000002,
          16556.068878000002,
          16556.068878000002,
          16556.068878000002,
          16556.068878000002,
          16556.068878000002,
          16556.068878000002,
          16556.068878000002,
          16556.068878000002,
          16934.167840000002,
          18333.010434000003,
          19835.824749000003,
          21255.225299,
          21890.867727,
          21890.867727,
          21890.867727,
          21890.867727,
          21890.867727,
          21890.867727,
          21890.867727,
          21890.867727,
          21890.867727,
          21890.867727,
          21890.867727,
          21890.867727,
          23179.791679,
          24694.935422000002,
          26208.318445,
          28263.299004,
          29745.983748,
          31257.030706999998,
          32560.465425,
          34015.485312,
          35523.254331,
          37695.207182,
          40212.267160999996,
          41590.271845999996,
          43122.797550999996,
          43230.06312299999,
          43230.06312299999,
          43230.06312299999,
          43230.06312299999,
          43230.06312299999,
          43230.06312299999,
          43230.06312299999,
          43230.06312299999,
          43230.06312299999,
          43230.06312299999,
          44453.97778999999,
          45984.71958099999,
          48744.92657399999,
          51349.38094299999,
          52839.45203299999,
          53899.66082099998,
          53899.66082099998,
          53899.66082099998,
          53899.66082099998,
          53899.66082099998,
          54500.707527999984,
          56032.263084999984,
          57535.85376899999,
          59076.52788499999,
          59234.45966999999
         ],
         "yaxis": "y2"
        },
        {
         "line": {
          "color": "blue",
          "dash": "dot",
          "shape": "linear"
         },
         "mode": "lines",
         "name": "Simulated I/O Read Cumulative Volume Signal",
         "textposition": "top center",
         "type": "scatter",
         "x": [
          0,
          1,
          2,
          3,
          4,
          5,
          6,
          7,
          8,
          9,
          10,
          11,
          12,
          13,
          14,
          15,
          16,
          17,
          18,
          19,
          20,
          21,
          22,
          23,
          24,
          25,
          26,
          27,
          28,
          29,
          30,
          31,
          32,
          33,
          34,
          35,
          36,
          37,
          38,
          39,
          40,
          41,
          42,
          43,
          44,
          45,
          46,
          47,
          48,
          49,
          50,
          51,
          52,
          53,
          54,
          55,
          56,
          57,
          58,
          59,
          60,
          61,
          62,
          63,
          64,
          65,
          66,
          67,
          68,
          69,
          70,
          71,
          72,
          73,
          74,
          75,
          76,
          77,
          78,
          79,
          80,
          81,
          82,
          83,
          84,
          85,
          86,
          87,
          88,
          89,
          90,
          91,
          92,
          93,
          94,
          95,
          96,
          97
         ],
         "xaxis": "x2",
         "y": [
          0,
          11693.386598,
          23386.773196,
          23386.773196,
          23386.773196,
          23386.773196,
          23386.773196,
          23386.773196,
          39232.686574,
          55078.599952,
          55078.599952,
          55078.599952,
          55078.599952,
          55078.599952,
          55078.599952,
          69082.1765115,
          83085.753071,
          83085.753071,
          83085.753071,
          83085.753071,
          83085.753071,
          83085.753071,
          83085.753071,
          83085.753071,
          83085.753071,
          83085.753071,
          83085.753071,
          83085.753071,
          83085.753071,
          83085.753071,
          83085.753071,
          83085.753071,
          83085.753071,
          83085.753071,
          83085.753071,
          83085.753071,
          83085.753071,
          83085.753071,
          83085.753071,
          83085.753071,
          83085.753071,
          83085.753071,
          83085.753071,
          83085.753071,
          83085.753071,
          83085.753071,
          83085.753071,
          83085.753071,
          83085.753071,
          83085.753071,
          83085.753071,
          83085.753071,
          83085.753071,
          83085.753071,
          83085.753071,
          83085.753071,
          83085.753071,
          83085.753071,
          83085.753071,
          83085.753071,
          83085.753071,
          83085.753071,
          83085.753071,
          83085.753071,
          83085.753071,
          83085.753071,
          83085.753071,
          83085.753071,
          83085.753071,
          83085.753071,
          83085.753071,
          83085.753071,
          83085.753071,
          83085.753071,
          83085.753071,
          83085.753071,
          83085.753071,
          83085.753071,
          83085.753071,
          83085.753071,
          83085.753071,
          83085.753071,
          83085.753071,
          83085.753071,
          83085.753071,
          83085.753071,
          83085.753071,
          83085.753071,
          83085.753071,
          83085.753071,
          83085.753071,
          83085.753071,
          83085.753071,
          83085.753071,
          83085.753071,
          83085.753071,
          83085.753071,
          83085.753071
         ],
         "yaxis": "y2"
        },
        {
         "line": {
          "color": "green",
          "dash": "dot",
          "shape": "linear"
         },
         "mode": "lines",
         "name": "Simulated I/O Written Cumulative Volume Signal",
         "textposition": "top center",
         "type": "scatter",
         "x": [
          0,
          1,
          2,
          3,
          4,
          5,
          6,
          7,
          8,
          9,
          10,
          11,
          12,
          13,
          14,
          15,
          16,
          17,
          18,
          19,
          20,
          21,
          22,
          23,
          24,
          25,
          26,
          27,
          28,
          29,
          30,
          31,
          32,
          33,
          34,
          35,
          36,
          37,
          38,
          39,
          40,
          41,
          42,
          43,
          44,
          45,
          46,
          47,
          48,
          49,
          50,
          51,
          52,
          53,
          54,
          55,
          56,
          57,
          58,
          59,
          60,
          61,
          62,
          63,
          64,
          65,
          66,
          67,
          68,
          69,
          70,
          71,
          72,
          73,
          74,
          75,
          76,
          77,
          78,
          79,
          80,
          81,
          82,
          83,
          84,
          85,
          86,
          87,
          88,
          89,
          90,
          91,
          92,
          93,
          94,
          95,
          96,
          97
         ],
         "xaxis": "x2",
         "y": [
          0,
          0,
          0,
          0,
          0,
          0,
          0,
          0,
          0,
          0,
          0,
          0,
          0,
          0,
          0,
          0,
          0,
          0,
          0,
          0,
          0,
          0,
          1034.7543045,
          2069.508609,
          2069.508609,
          4026.883273,
          5984.257937,
          7941.632601,
          9899.007265,
          11856.381929,
          11856.381929,
          11856.381929,
          13612.8216455,
          15369.261362000001,
          15369.261362000001,
          15369.261362000001,
          15369.261362000001,
          15369.261362000001,
          15369.261362000001,
          15369.261362000001,
          15369.261362000001,
          15369.261362000001,
          15369.261362000001,
          15369.261362000001,
          15369.261362000001,
          16809.613848333334,
          18249.966334666668,
          19690.318821,
          19690.318821,
          19690.318821,
          19690.318821,
          19690.318821,
          19690.318821,
          19690.318821,
          19690.318821,
          19690.318821,
          19690.318821,
          19690.318821,
          19690.318821,
          19690.318821,
          21323.544192076923,
          22956.769563153845,
          24589.994934230766,
          26223.22030530769,
          27856.44567638461,
          29489.671047461532,
          31122.896418538454,
          32756.121789615376,
          34389.3471606923,
          36022.57253176922,
          37655.79790284614,
          39289.02327392306,
          40922.248644999985,
          40922.248644999985,
          40922.248644999985,
          40922.248644999985,
          40922.248644999985,
          40922.248644999985,
          40922.248644999985,
          40922.248644999985,
          40922.248644999985,
          40922.248644999985,
          40922.248644999985,
          42700.51492799998,
          44478.78121099998,
          46257.04749399998,
          48035.313776999974,
          49813.58005999997,
          51591.84634299997,
          51591.84634299997,
          51591.84634299997,
          51591.84634299997,
          51591.84634299997,
          51591.84634299997,
          53117.1197953333,
          54642.39324766664,
          56167.66669999997,
          56167.66669999997
         ],
         "yaxis": "y2"
        }
       ],
       "layout": {
        "annotations": [
         {
          "font": {
           "size": 16
          },
          "showarrow": false,
          "text": "On read/write instant bandwidths",
          "x": 0.5,
          "xanchor": "center",
          "xref": "paper",
          "y": 1,
          "yanchor": "bottom",
          "yref": "paper"
         },
         {
          "font": {
           "size": 16
          },
          "showarrow": false,
          "text": "On read/write cumulated volumes",
          "x": 0.5,
          "xanchor": "center",
          "xref": "paper",
          "y": 0.375,
          "yanchor": "bottom",
          "yref": "paper"
         }
        ],
        "autosize": false,
        "height": 900,
        "legend": {
         "font": {
          "size": 8
         },
         "orientation": "v",
         "tracegroupgap": 360
        },
        "template": {
         "data": {
          "bar": [
           {
            "error_x": {
             "color": "#2a3f5f"
            },
            "error_y": {
             "color": "#2a3f5f"
            },
            "marker": {
             "line": {
              "color": "#E5ECF6",
              "width": 0.5
             }
            },
            "type": "bar"
           }
          ],
          "barpolar": [
           {
            "marker": {
             "line": {
              "color": "#E5ECF6",
              "width": 0.5
             }
            },
            "type": "barpolar"
           }
          ],
          "carpet": [
           {
            "aaxis": {
             "endlinecolor": "#2a3f5f",
             "gridcolor": "white",
             "linecolor": "white",
             "minorgridcolor": "white",
             "startlinecolor": "#2a3f5f"
            },
            "baxis": {
             "endlinecolor": "#2a3f5f",
             "gridcolor": "white",
             "linecolor": "white",
             "minorgridcolor": "white",
             "startlinecolor": "#2a3f5f"
            },
            "type": "carpet"
           }
          ],
          "choropleth": [
           {
            "colorbar": {
             "outlinewidth": 0,
             "ticks": ""
            },
            "type": "choropleth"
           }
          ],
          "contour": [
           {
            "colorbar": {
             "outlinewidth": 0,
             "ticks": ""
            },
            "colorscale": [
             [
              0,
              "#0d0887"
             ],
             [
              0.1111111111111111,
              "#46039f"
             ],
             [
              0.2222222222222222,
              "#7201a8"
             ],
             [
              0.3333333333333333,
              "#9c179e"
             ],
             [
              0.4444444444444444,
              "#bd3786"
             ],
             [
              0.5555555555555556,
              "#d8576b"
             ],
             [
              0.6666666666666666,
              "#ed7953"
             ],
             [
              0.7777777777777778,
              "#fb9f3a"
             ],
             [
              0.8888888888888888,
              "#fdca26"
             ],
             [
              1,
              "#f0f921"
             ]
            ],
            "type": "contour"
           }
          ],
          "contourcarpet": [
           {
            "colorbar": {
             "outlinewidth": 0,
             "ticks": ""
            },
            "type": "contourcarpet"
           }
          ],
          "heatmap": [
           {
            "colorbar": {
             "outlinewidth": 0,
             "ticks": ""
            },
            "colorscale": [
             [
              0,
              "#0d0887"
             ],
             [
              0.1111111111111111,
              "#46039f"
             ],
             [
              0.2222222222222222,
              "#7201a8"
             ],
             [
              0.3333333333333333,
              "#9c179e"
             ],
             [
              0.4444444444444444,
              "#bd3786"
             ],
             [
              0.5555555555555556,
              "#d8576b"
             ],
             [
              0.6666666666666666,
              "#ed7953"
             ],
             [
              0.7777777777777778,
              "#fb9f3a"
             ],
             [
              0.8888888888888888,
              "#fdca26"
             ],
             [
              1,
              "#f0f921"
             ]
            ],
            "type": "heatmap"
           }
          ],
          "heatmapgl": [
           {
            "colorbar": {
             "outlinewidth": 0,
             "ticks": ""
            },
            "colorscale": [
             [
              0,
              "#0d0887"
             ],
             [
              0.1111111111111111,
              "#46039f"
             ],
             [
              0.2222222222222222,
              "#7201a8"
             ],
             [
              0.3333333333333333,
              "#9c179e"
             ],
             [
              0.4444444444444444,
              "#bd3786"
             ],
             [
              0.5555555555555556,
              "#d8576b"
             ],
             [
              0.6666666666666666,
              "#ed7953"
             ],
             [
              0.7777777777777778,
              "#fb9f3a"
             ],
             [
              0.8888888888888888,
              "#fdca26"
             ],
             [
              1,
              "#f0f921"
             ]
            ],
            "type": "heatmapgl"
           }
          ],
          "histogram": [
           {
            "marker": {
             "colorbar": {
              "outlinewidth": 0,
              "ticks": ""
             }
            },
            "type": "histogram"
           }
          ],
          "histogram2d": [
           {
            "colorbar": {
             "outlinewidth": 0,
             "ticks": ""
            },
            "colorscale": [
             [
              0,
              "#0d0887"
             ],
             [
              0.1111111111111111,
              "#46039f"
             ],
             [
              0.2222222222222222,
              "#7201a8"
             ],
             [
              0.3333333333333333,
              "#9c179e"
             ],
             [
              0.4444444444444444,
              "#bd3786"
             ],
             [
              0.5555555555555556,
              "#d8576b"
             ],
             [
              0.6666666666666666,
              "#ed7953"
             ],
             [
              0.7777777777777778,
              "#fb9f3a"
             ],
             [
              0.8888888888888888,
              "#fdca26"
             ],
             [
              1,
              "#f0f921"
             ]
            ],
            "type": "histogram2d"
           }
          ],
          "histogram2dcontour": [
           {
            "colorbar": {
             "outlinewidth": 0,
             "ticks": ""
            },
            "colorscale": [
             [
              0,
              "#0d0887"
             ],
             [
              0.1111111111111111,
              "#46039f"
             ],
             [
              0.2222222222222222,
              "#7201a8"
             ],
             [
              0.3333333333333333,
              "#9c179e"
             ],
             [
              0.4444444444444444,
              "#bd3786"
             ],
             [
              0.5555555555555556,
              "#d8576b"
             ],
             [
              0.6666666666666666,
              "#ed7953"
             ],
             [
              0.7777777777777778,
              "#fb9f3a"
             ],
             [
              0.8888888888888888,
              "#fdca26"
             ],
             [
              1,
              "#f0f921"
             ]
            ],
            "type": "histogram2dcontour"
           }
          ],
          "mesh3d": [
           {
            "colorbar": {
             "outlinewidth": 0,
             "ticks": ""
            },
            "type": "mesh3d"
           }
          ],
          "parcoords": [
           {
            "line": {
             "colorbar": {
              "outlinewidth": 0,
              "ticks": ""
             }
            },
            "type": "parcoords"
           }
          ],
          "pie": [
           {
            "automargin": true,
            "type": "pie"
           }
          ],
          "scatter": [
           {
            "marker": {
             "colorbar": {
              "outlinewidth": 0,
              "ticks": ""
             }
            },
            "type": "scatter"
           }
          ],
          "scatter3d": [
           {
            "line": {
             "colorbar": {
              "outlinewidth": 0,
              "ticks": ""
             }
            },
            "marker": {
             "colorbar": {
              "outlinewidth": 0,
              "ticks": ""
             }
            },
            "type": "scatter3d"
           }
          ],
          "scattercarpet": [
           {
            "marker": {
             "colorbar": {
              "outlinewidth": 0,
              "ticks": ""
             }
            },
            "type": "scattercarpet"
           }
          ],
          "scattergeo": [
           {
            "marker": {
             "colorbar": {
              "outlinewidth": 0,
              "ticks": ""
             }
            },
            "type": "scattergeo"
           }
          ],
          "scattergl": [
           {
            "marker": {
             "colorbar": {
              "outlinewidth": 0,
              "ticks": ""
             }
            },
            "type": "scattergl"
           }
          ],
          "scattermapbox": [
           {
            "marker": {
             "colorbar": {
              "outlinewidth": 0,
              "ticks": ""
             }
            },
            "type": "scattermapbox"
           }
          ],
          "scatterpolar": [
           {
            "marker": {
             "colorbar": {
              "outlinewidth": 0,
              "ticks": ""
             }
            },
            "type": "scatterpolar"
           }
          ],
          "scatterpolargl": [
           {
            "marker": {
             "colorbar": {
              "outlinewidth": 0,
              "ticks": ""
             }
            },
            "type": "scatterpolargl"
           }
          ],
          "scatterternary": [
           {
            "marker": {
             "colorbar": {
              "outlinewidth": 0,
              "ticks": ""
             }
            },
            "type": "scatterternary"
           }
          ],
          "surface": [
           {
            "colorbar": {
             "outlinewidth": 0,
             "ticks": ""
            },
            "colorscale": [
             [
              0,
              "#0d0887"
             ],
             [
              0.1111111111111111,
              "#46039f"
             ],
             [
              0.2222222222222222,
              "#7201a8"
             ],
             [
              0.3333333333333333,
              "#9c179e"
             ],
             [
              0.4444444444444444,
              "#bd3786"
             ],
             [
              0.5555555555555556,
              "#d8576b"
             ],
             [
              0.6666666666666666,
              "#ed7953"
             ],
             [
              0.7777777777777778,
              "#fb9f3a"
             ],
             [
              0.8888888888888888,
              "#fdca26"
             ],
             [
              1,
              "#f0f921"
             ]
            ],
            "type": "surface"
           }
          ],
          "table": [
           {
            "cells": {
             "fill": {
              "color": "#EBF0F8"
             },
             "line": {
              "color": "white"
             }
            },
            "header": {
             "fill": {
              "color": "#C8D4E3"
             },
             "line": {
              "color": "white"
             }
            },
            "type": "table"
           }
          ]
         },
         "layout": {
          "annotationdefaults": {
           "arrowcolor": "#2a3f5f",
           "arrowhead": 0,
           "arrowwidth": 1
          },
          "coloraxis": {
           "colorbar": {
            "outlinewidth": 0,
            "ticks": ""
           }
          },
          "colorscale": {
           "diverging": [
            [
             0,
             "#8e0152"
            ],
            [
             0.1,
             "#c51b7d"
            ],
            [
             0.2,
             "#de77ae"
            ],
            [
             0.3,
             "#f1b6da"
            ],
            [
             0.4,
             "#fde0ef"
            ],
            [
             0.5,
             "#f7f7f7"
            ],
            [
             0.6,
             "#e6f5d0"
            ],
            [
             0.7,
             "#b8e186"
            ],
            [
             0.8,
             "#7fbc41"
            ],
            [
             0.9,
             "#4d9221"
            ],
            [
             1,
             "#276419"
            ]
           ],
           "sequential": [
            [
             0,
             "#0d0887"
            ],
            [
             0.1111111111111111,
             "#46039f"
            ],
            [
             0.2222222222222222,
             "#7201a8"
            ],
            [
             0.3333333333333333,
             "#9c179e"
            ],
            [
             0.4444444444444444,
             "#bd3786"
            ],
            [
             0.5555555555555556,
             "#d8576b"
            ],
            [
             0.6666666666666666,
             "#ed7953"
            ],
            [
             0.7777777777777778,
             "#fb9f3a"
            ],
            [
             0.8888888888888888,
             "#fdca26"
            ],
            [
             1,
             "#f0f921"
            ]
           ],
           "sequentialminus": [
            [
             0,
             "#0d0887"
            ],
            [
             0.1111111111111111,
             "#46039f"
            ],
            [
             0.2222222222222222,
             "#7201a8"
            ],
            [
             0.3333333333333333,
             "#9c179e"
            ],
            [
             0.4444444444444444,
             "#bd3786"
            ],
            [
             0.5555555555555556,
             "#d8576b"
            ],
            [
             0.6666666666666666,
             "#ed7953"
            ],
            [
             0.7777777777777778,
             "#fb9f3a"
            ],
            [
             0.8888888888888888,
             "#fdca26"
            ],
            [
             1,
             "#f0f921"
            ]
           ]
          },
          "colorway": [
           "#636efa",
           "#EF553B",
           "#00cc96",
           "#ab63fa",
           "#FFA15A",
           "#19d3f3",
           "#FF6692",
           "#B6E880",
           "#FF97FF",
           "#FECB52"
          ],
          "font": {
           "color": "#2a3f5f"
          },
          "geo": {
           "bgcolor": "white",
           "lakecolor": "white",
           "landcolor": "#E5ECF6",
           "showlakes": true,
           "showland": true,
           "subunitcolor": "white"
          },
          "hoverlabel": {
           "align": "left"
          },
          "hovermode": "closest",
          "mapbox": {
           "style": "light"
          },
          "paper_bgcolor": "white",
          "plot_bgcolor": "#E5ECF6",
          "polar": {
           "angularaxis": {
            "gridcolor": "white",
            "linecolor": "white",
            "ticks": ""
           },
           "bgcolor": "#E5ECF6",
           "radialaxis": {
            "gridcolor": "white",
            "linecolor": "white",
            "ticks": ""
           }
          },
          "scene": {
           "xaxis": {
            "backgroundcolor": "#E5ECF6",
            "gridcolor": "white",
            "gridwidth": 2,
            "linecolor": "white",
            "showbackground": true,
            "ticks": "",
            "zerolinecolor": "white"
           },
           "yaxis": {
            "backgroundcolor": "#E5ECF6",
            "gridcolor": "white",
            "gridwidth": 2,
            "linecolor": "white",
            "showbackground": true,
            "ticks": "",
            "zerolinecolor": "white"
           },
           "zaxis": {
            "backgroundcolor": "#E5ECF6",
            "gridcolor": "white",
            "gridwidth": 2,
            "linecolor": "white",
            "showbackground": true,
            "ticks": "",
            "zerolinecolor": "white"
           }
          },
          "shapedefaults": {
           "line": {
            "color": "#2a3f5f"
           }
          },
          "ternary": {
           "aaxis": {
            "gridcolor": "white",
            "linecolor": "white",
            "ticks": ""
           },
           "baxis": {
            "gridcolor": "white",
            "linecolor": "white",
            "ticks": ""
           },
           "bgcolor": "#E5ECF6",
           "caxis": {
            "gridcolor": "white",
            "linecolor": "white",
            "ticks": ""
           }
          },
          "title": {
           "x": 0.05
          },
          "xaxis": {
           "automargin": true,
           "gridcolor": "white",
           "linecolor": "white",
           "ticks": "",
           "title": {
            "standoff": 15
           },
           "zerolinecolor": "white",
           "zerolinewidth": 2
          },
          "yaxis": {
           "automargin": true,
           "gridcolor": "white",
           "linecolor": "white",
           "ticks": "",
           "title": {
            "standoff": 15
           },
           "zerolinecolor": "white",
           "zerolinewidth": 2
          }
         }
        },
        "title": {
         "text": "Comparing simulated and IOI signals"
        },
        "width": 1400,
        "xaxis": {
         "anchor": "y",
         "domain": [
          0,
          1
         ],
         "matches": "x2",
         "showticklabels": false,
         "title": {
          "text": "time (1pt = 5s)"
         }
        },
        "xaxis2": {
         "anchor": "y2",
         "domain": [
          0,
          1
         ],
         "title": {
          "text": "time (1pt = 5s)"
         }
        },
        "yaxis": {
         "anchor": "x",
         "domain": [
          0.625,
          1
         ],
         "title": {
          "text": "dataflow in MB/s"
         }
        },
        "yaxis2": {
         "anchor": "x2",
         "domain": [
          0,
          0.375
         ]
        }
       }
      }
     },
     "metadata": {},
     "output_type": "display_data"
    }
   ],
   "source": [
    "fig = display_original_sim_signals((sim_time, sim_read_bw, sim_write_bw),\n",
    "                                   (timestamps, original_read, original_write),\n",
    "                                   width=1400, height=900)\n",
    "fig.show()"
   ]
  },
  {
   "cell_type": "markdown",
   "metadata": {},
   "source": [
    "- Until now, we just replayed the representation into the simulator.\n",
    "- But the aim of the Simulator is to predict the expected execution time for a different storage tier.\n",
    "- The Simualtor will accept later the performance model for a tier bw = f(IO_size, IO_pattern,...)\n",
    "- For now we will __mock__ the model with a hardcoded io_bandwidth"
   ]
  },
  {
   "cell_type": "code",
   "execution_count": 16,
   "metadata": {},
   "outputs": [],
   "source": [
    "tier_mean_read_bw = 5e3\n",
    "tier_mean_write_bw = 1e3\n",
    "io_bw = list(map(lambda x, y: tier_mean_read_bw if x else 0 + tier_mean_write_bw if y else 0, read_bw, write_bw))"
   ]
  },
  {
   "cell_type": "markdown",
   "metadata": {},
   "source": [
    "And rerun the simulation"
   ]
  },
  {
   "cell_type": "code",
   "execution_count": 17,
   "metadata": {},
   "outputs": [
    {
     "data": {
      "application/vnd.plotly.v1+json": {
       "config": {
        "plotlyServerURL": "https://plot.ly"
       },
       "data": [
        {
         "line": {
          "color": "blue",
          "shape": "linear"
         },
         "marker": {
          "size": 5
         },
         "mode": "lines+markers",
         "name": "Original I/O Read Volume Signal (IOI)",
         "textposition": "top center",
         "type": "scatter",
         "x": [
          0,
          1,
          2,
          3,
          4,
          5,
          6,
          7,
          8,
          9,
          10,
          11,
          12,
          13,
          14,
          15,
          16,
          17,
          18,
          19,
          20,
          21,
          22,
          23,
          24,
          25,
          26,
          27,
          28,
          29,
          30,
          31,
          32,
          33,
          34,
          35,
          36,
          37,
          38,
          39,
          40,
          41,
          42,
          43,
          44,
          45,
          46,
          47,
          48,
          49,
          50,
          51,
          52,
          53,
          54,
          55,
          56,
          57,
          58,
          59,
          60,
          61,
          62,
          63,
          64,
          65,
          66,
          67,
          68,
          69,
          70,
          71,
          72,
          73,
          74,
          75,
          76,
          77,
          78,
          79,
          80,
          81,
          82,
          83,
          84,
          85,
          86,
          87,
          88,
          89,
          90,
          91,
          92,
          93,
          94,
          95,
          96
         ],
         "xaxis": "x",
         "y": [
          0.002971,
          13778.150031,
          9608.623165,
          0,
          0,
          0,
          0,
          0,
          15563.149199,
          16128.677557,
          0,
          0,
          0,
          3684.676453,
          15913.359748,
          12093.793371,
          0,
          0,
          0.005912,
          0,
          0,
          0,
          0.000015,
          0,
          0,
          0.000015,
          0,
          0.000015,
          0.00003,
          0.000015,
          0,
          0,
          0.00003,
          0,
          0,
          0,
          0,
          0,
          0,
          0,
          0,
          0,
          0,
          0,
          0,
          0,
          0,
          0,
          0,
          0,
          0,
          0,
          0,
          0,
          0,
          0,
          0,
          0,
          0,
          0,
          0,
          0,
          0,
          0,
          0,
          0,
          0,
          0,
          0,
          0,
          0,
          0,
          0,
          0,
          0,
          0,
          0,
          0,
          0,
          0,
          0,
          0,
          0,
          0,
          0,
          0,
          0,
          0,
          0,
          0,
          0,
          0,
          0,
          0,
          0,
          0,
          0
         ],
         "yaxis": "y"
        },
        {
         "line": {
          "color": "green",
          "shape": "linear"
         },
         "marker": {
          "size": 5
         },
         "mode": "lines+markers",
         "name": "Original I/O Written Volume Signal (IOI)",
         "textposition": "top center",
         "type": "scatter",
         "x": [
          0,
          1,
          2,
          3,
          4,
          5,
          6,
          7,
          8,
          9,
          10,
          11,
          12,
          13,
          14,
          15,
          16,
          17,
          18,
          19,
          20,
          21,
          22,
          23,
          24,
          25,
          26,
          27,
          28,
          29,
          30,
          31,
          32,
          33,
          34,
          35,
          36,
          37,
          38,
          39,
          40,
          41,
          42,
          43,
          44,
          45,
          46,
          47,
          48,
          49,
          50,
          51,
          52,
          53,
          54,
          55,
          56,
          57,
          58,
          59,
          60,
          61,
          62,
          63,
          64,
          65,
          66,
          67,
          68,
          69,
          70,
          71,
          72,
          73,
          74,
          75,
          76,
          77,
          78,
          79,
          80,
          81,
          82,
          83,
          84,
          85,
          86,
          87,
          88,
          89,
          90,
          91,
          92,
          93,
          94,
          95,
          96
         ],
         "xaxis": "x",
         "y": [
          0.000006,
          0,
          0,
          0,
          0,
          0,
          0,
          0,
          0,
          0,
          0,
          0,
          0,
          0,
          0,
          0,
          0,
          0,
          0,
          0,
          0,
          1012.116388,
          1057.392221,
          295.320534,
          1487.763589,
          1401.527334,
          2253.735534,
          2443.484376,
          2200.362487,
          265.349191,
          626.137785,
          1859.820288,
          1653.059145,
          0,
          0,
          0,
          0,
          0,
          0,
          0,
          0,
          0,
          0,
          378.098962,
          1398.842594,
          1502.814315,
          1419.40055,
          635.642428,
          0,
          0,
          0,
          0,
          0,
          0,
          0,
          0,
          0,
          0,
          0,
          1288.923952,
          1515.143743,
          1513.383023,
          2054.980559,
          1482.684744,
          1511.046959,
          1303.434718,
          1455.019887,
          1507.769019,
          2171.952851,
          2517.059979,
          1378.004685,
          1532.525705,
          107.265572,
          0,
          0,
          0,
          0,
          0,
          0,
          0,
          0,
          0,
          1223.914667,
          1530.741791,
          2760.206993,
          2604.454369,
          1490.07109,
          1060.208788,
          0,
          0,
          0,
          0,
          601.046707,
          1531.555557,
          1503.590684,
          1540.674116,
          157.931785
         ],
         "yaxis": "y"
        },
        {
         "line": {
          "color": "blue",
          "dash": "dot",
          "shape": "linear"
         },
         "mode": "lines",
         "name": "Simulated I/O Read Volume Signal",
         "textposition": "top center",
         "type": "scatter",
         "x": [
          0,
          1,
          2,
          3,
          4,
          5,
          6,
          7,
          8,
          9,
          10,
          11,
          12,
          13,
          14,
          15,
          16,
          17,
          18,
          19,
          20,
          21,
          22,
          23,
          24,
          25,
          26,
          27,
          28,
          29,
          30,
          31,
          32,
          33,
          34,
          35,
          36,
          37,
          38,
          39,
          40,
          41,
          42,
          43,
          44,
          45,
          46,
          47,
          48,
          49,
          50,
          51,
          52,
          53,
          54,
          55,
          56,
          57,
          58,
          59,
          60,
          61,
          62,
          63,
          64,
          65,
          66,
          67,
          68,
          69,
          70,
          71,
          72,
          73,
          74,
          75,
          76,
          77,
          78,
          79,
          80,
          81,
          82,
          83,
          84,
          85,
          86,
          87,
          88,
          89,
          90,
          91,
          92,
          93,
          94,
          95,
          96,
          97,
          98,
          99,
          100,
          101,
          102,
          103,
          104,
          105,
          106,
          107,
          108,
          109,
          110,
          111,
          112,
          113,
          114,
          115,
          116,
          117,
          118,
          119,
          120,
          121,
          122,
          123,
          124,
          125,
          126,
          127,
          128,
          129
         ],
         "xaxis": "x",
         "y": [
          0,
          5000,
          5000,
          5000,
          5000,
          0,
          0,
          0,
          0,
          0,
          5000,
          5000,
          5000,
          5000,
          5000,
          5000,
          5000,
          0,
          0,
          0,
          0,
          0,
          5000,
          5000,
          5000,
          5000,
          5000,
          0,
          0,
          0,
          0,
          0,
          0,
          0,
          0,
          0,
          0,
          0,
          0,
          0,
          0,
          0,
          0,
          0,
          0,
          0,
          0,
          0,
          0,
          0,
          0,
          0,
          0,
          0,
          0,
          0,
          0,
          0,
          0,
          0,
          0,
          0,
          0,
          0,
          0,
          0,
          0,
          0,
          0,
          0,
          0,
          0,
          0,
          0,
          0,
          0,
          0,
          0,
          0,
          0,
          0,
          0,
          0,
          0,
          0,
          0,
          0,
          0,
          0,
          0,
          0,
          0,
          0,
          0,
          0,
          0,
          0,
          0,
          0,
          0,
          0,
          0,
          0,
          0,
          0,
          0,
          0,
          0,
          0,
          0,
          0,
          0,
          0,
          0,
          0,
          0,
          0,
          0,
          0,
          0,
          0,
          0,
          0,
          0,
          0,
          0,
          0,
          0,
          0,
          0
         ],
         "yaxis": "y"
        },
        {
         "line": {
          "color": "green",
          "dash": "dot",
          "shape": "linear"
         },
         "mode": "lines",
         "name": "Simulated I/O Written Volume Signal",
         "textposition": "top center",
         "type": "scatter",
         "x": [
          0,
          1,
          2,
          3,
          4,
          5,
          6,
          7,
          8,
          9,
          10,
          11,
          12,
          13,
          14,
          15,
          16,
          17,
          18,
          19,
          20,
          21,
          22,
          23,
          24,
          25,
          26,
          27,
          28,
          29,
          30,
          31,
          32,
          33,
          34,
          35,
          36,
          37,
          38,
          39,
          40,
          41,
          42,
          43,
          44,
          45,
          46,
          47,
          48,
          49,
          50,
          51,
          52,
          53,
          54,
          55,
          56,
          57,
          58,
          59,
          60,
          61,
          62,
          63,
          64,
          65,
          66,
          67,
          68,
          69,
          70,
          71,
          72,
          73,
          74,
          75,
          76,
          77,
          78,
          79,
          80,
          81,
          82,
          83,
          84,
          85,
          86,
          87,
          88,
          89,
          90,
          91,
          92,
          93,
          94,
          95,
          96,
          97,
          98,
          99,
          100,
          101,
          102,
          103,
          104,
          105,
          106,
          107,
          108,
          109,
          110,
          111,
          112,
          113,
          114,
          115,
          116,
          117,
          118,
          119,
          120,
          121,
          122,
          123,
          124,
          125,
          126,
          127,
          128,
          129
         ],
         "xaxis": "x",
         "y": [
          0,
          0,
          0,
          0,
          0,
          0,
          0,
          0,
          0,
          0,
          0,
          0,
          0,
          0,
          0,
          0,
          0,
          0,
          0,
          0,
          0,
          0,
          0,
          0,
          0,
          0,
          0,
          0,
          0,
          0,
          0,
          0,
          1000,
          1000,
          0,
          1000,
          1000,
          1000,
          1000,
          1000,
          1000,
          1000,
          1000,
          1000,
          1000,
          0,
          0,
          1000,
          1000,
          1000,
          0,
          0,
          0,
          0,
          0,
          0,
          0,
          0,
          0,
          0,
          0,
          1000,
          1000,
          1000,
          1000,
          1000,
          0,
          0,
          0,
          0,
          0,
          0,
          0,
          0,
          0,
          0,
          0,
          0,
          1000,
          1000,
          1000,
          1000,
          1000,
          1000,
          1000,
          1000,
          1000,
          1000,
          1000,
          1000,
          1000,
          1000,
          1000,
          1000,
          1000,
          1000,
          1000,
          1000,
          1000,
          0,
          0,
          0,
          0,
          0,
          0,
          0,
          0,
          0,
          0,
          1000,
          1000,
          1000,
          1000,
          1000,
          1000,
          1000,
          1000,
          1000,
          1000,
          1000,
          0,
          0,
          0,
          0,
          0,
          1000,
          1000,
          1000,
          1000,
          0
         ],
         "yaxis": "y"
        },
        {
         "line": {
          "color": "blue",
          "shape": "linear"
         },
         "marker": {
          "size": 5
         },
         "mode": "lines+markers",
         "name": "Cumulated Original I/O Read Volume Signal (IOI)",
         "textposition": "top center",
         "type": "scatter",
         "x": [
          0,
          1,
          2,
          3,
          4,
          5,
          6,
          7,
          8,
          9,
          10,
          11,
          12,
          13,
          14,
          15,
          16,
          17,
          18,
          19,
          20,
          21,
          22,
          23,
          24,
          25,
          26,
          27,
          28,
          29,
          30,
          31,
          32,
          33,
          34,
          35,
          36,
          37,
          38,
          39,
          40,
          41,
          42,
          43,
          44,
          45,
          46,
          47,
          48,
          49,
          50,
          51,
          52,
          53,
          54,
          55,
          56,
          57,
          58,
          59,
          60,
          61,
          62,
          63,
          64,
          65,
          66,
          67,
          68,
          69,
          70,
          71,
          72,
          73,
          74,
          75,
          76,
          77,
          78,
          79,
          80,
          81,
          82,
          83,
          84,
          85,
          86,
          87,
          88,
          89,
          90,
          91,
          92,
          93,
          94,
          95,
          96
         ],
         "xaxis": "x2",
         "y": [
          0.002971,
          13778.153002,
          23386.776167,
          23386.776167,
          23386.776167,
          23386.776167,
          23386.776167,
          23386.776167,
          38949.925365999996,
          55078.602923,
          55078.602923,
          55078.602923,
          55078.602923,
          58763.279376,
          74676.639124,
          86770.43249499999,
          86770.43249499999,
          86770.43249499999,
          86770.43840699998,
          86770.43840699998,
          86770.43840699998,
          86770.43840699998,
          86770.43842199998,
          86770.43842199998,
          86770.43842199998,
          86770.43843699998,
          86770.43843699998,
          86770.43845199997,
          86770.43848199997,
          86770.43849699997,
          86770.43849699997,
          86770.43849699997,
          86770.43852699996,
          86770.43852699996,
          86770.43852699996,
          86770.43852699996,
          86770.43852699996,
          86770.43852699996,
          86770.43852699996,
          86770.43852699996,
          86770.43852699996,
          86770.43852699996,
          86770.43852699996,
          86770.43852699996,
          86770.43852699996,
          86770.43852699996,
          86770.43852699996,
          86770.43852699996,
          86770.43852699996,
          86770.43852699996,
          86770.43852699996,
          86770.43852699996,
          86770.43852699996,
          86770.43852699996,
          86770.43852699996,
          86770.43852699996,
          86770.43852699996,
          86770.43852699996,
          86770.43852699996,
          86770.43852699996,
          86770.43852699996,
          86770.43852699996,
          86770.43852699996,
          86770.43852699996,
          86770.43852699996,
          86770.43852699996,
          86770.43852699996,
          86770.43852699996,
          86770.43852699996,
          86770.43852699996,
          86770.43852699996,
          86770.43852699996,
          86770.43852699996,
          86770.43852699996,
          86770.43852699996,
          86770.43852699996,
          86770.43852699996,
          86770.43852699996,
          86770.43852699996,
          86770.43852699996,
          86770.43852699996,
          86770.43852699996,
          86770.43852699996,
          86770.43852699996,
          86770.43852699996,
          86770.43852699996,
          86770.43852699996,
          86770.43852699996,
          86770.43852699996,
          86770.43852699996,
          86770.43852699996,
          86770.43852699996,
          86770.43852699996,
          86770.43852699996,
          86770.43852699996,
          86770.43852699996,
          86770.43852699996
         ],
         "yaxis": "y2"
        },
        {
         "line": {
          "color": "green",
          "shape": "linear"
         },
         "marker": {
          "size": 5
         },
         "mode": "lines+markers",
         "name": "Cumulated Original I/O Written Volume Signal (IOI)",
         "textposition": "top center",
         "type": "scatter",
         "x": [
          0,
          1,
          2,
          3,
          4,
          5,
          6,
          7,
          8,
          9,
          10,
          11,
          12,
          13,
          14,
          15,
          16,
          17,
          18,
          19,
          20,
          21,
          22,
          23,
          24,
          25,
          26,
          27,
          28,
          29,
          30,
          31,
          32,
          33,
          34,
          35,
          36,
          37,
          38,
          39,
          40,
          41,
          42,
          43,
          44,
          45,
          46,
          47,
          48,
          49,
          50,
          51,
          52,
          53,
          54,
          55,
          56,
          57,
          58,
          59,
          60,
          61,
          62,
          63,
          64,
          65,
          66,
          67,
          68,
          69,
          70,
          71,
          72,
          73,
          74,
          75,
          76,
          77,
          78,
          79,
          80,
          81,
          82,
          83,
          84,
          85,
          86,
          87,
          88,
          89,
          90,
          91,
          92,
          93,
          94,
          95,
          96
         ],
         "xaxis": "x2",
         "y": [
          0.000006,
          0.000006,
          0.000006,
          0.000006,
          0.000006,
          0.000006,
          0.000006,
          0.000006,
          0.000006,
          0.000006,
          0.000006,
          0.000006,
          0.000006,
          0.000006,
          0.000006,
          0.000006,
          0.000006,
          0.000006,
          0.000006,
          0.000006,
          0.000006,
          1012.116394,
          2069.508615,
          2364.829149,
          3852.5927380000003,
          5254.120072000001,
          7507.855606000001,
          9951.339982000001,
          12151.702469000002,
          12417.051660000001,
          13043.189445000002,
          14903.009733000003,
          16556.068878000002,
          16556.068878000002,
          16556.068878000002,
          16556.068878000002,
          16556.068878000002,
          16556.068878000002,
          16556.068878000002,
          16556.068878000002,
          16556.068878000002,
          16556.068878000002,
          16556.068878000002,
          16934.167840000002,
          18333.010434000003,
          19835.824749000003,
          21255.225299,
          21890.867727,
          21890.867727,
          21890.867727,
          21890.867727,
          21890.867727,
          21890.867727,
          21890.867727,
          21890.867727,
          21890.867727,
          21890.867727,
          21890.867727,
          21890.867727,
          23179.791679,
          24694.935422000002,
          26208.318445,
          28263.299004,
          29745.983748,
          31257.030706999998,
          32560.465425,
          34015.485312,
          35523.254331,
          37695.207182,
          40212.267160999996,
          41590.271845999996,
          43122.797550999996,
          43230.06312299999,
          43230.06312299999,
          43230.06312299999,
          43230.06312299999,
          43230.06312299999,
          43230.06312299999,
          43230.06312299999,
          43230.06312299999,
          43230.06312299999,
          43230.06312299999,
          44453.97778999999,
          45984.71958099999,
          48744.92657399999,
          51349.38094299999,
          52839.45203299999,
          53899.66082099998,
          53899.66082099998,
          53899.66082099998,
          53899.66082099998,
          53899.66082099998,
          54500.707527999984,
          56032.263084999984,
          57535.85376899999,
          59076.52788499999,
          59234.45966999999
         ],
         "yaxis": "y2"
        },
        {
         "line": {
          "color": "blue",
          "dash": "dot",
          "shape": "linear"
         },
         "mode": "lines",
         "name": "Simulated I/O Read Cumulative Volume Signal",
         "textposition": "top center",
         "type": "scatter",
         "x": [
          0,
          1,
          2,
          3,
          4,
          5,
          6,
          7,
          8,
          9,
          10,
          11,
          12,
          13,
          14,
          15,
          16,
          17,
          18,
          19,
          20,
          21,
          22,
          23,
          24,
          25,
          26,
          27,
          28,
          29,
          30,
          31,
          32,
          33,
          34,
          35,
          36,
          37,
          38,
          39,
          40,
          41,
          42,
          43,
          44,
          45,
          46,
          47,
          48,
          49,
          50,
          51,
          52,
          53,
          54,
          55,
          56,
          57,
          58,
          59,
          60,
          61,
          62,
          63,
          64,
          65,
          66,
          67,
          68,
          69,
          70,
          71,
          72,
          73,
          74,
          75,
          76,
          77,
          78,
          79,
          80,
          81,
          82,
          83,
          84,
          85,
          86,
          87,
          88,
          89,
          90,
          91,
          92,
          93,
          94,
          95,
          96,
          97,
          98,
          99,
          100,
          101,
          102,
          103,
          104,
          105,
          106,
          107,
          108,
          109,
          110,
          111,
          112,
          113,
          114,
          115,
          116,
          117,
          118,
          119,
          120,
          121,
          122,
          123,
          124,
          125,
          126,
          127,
          128,
          129
         ],
         "xaxis": "x2",
         "y": [
          0,
          5000,
          10000,
          15000,
          20000,
          20000,
          20000,
          20000,
          20000,
          20000,
          25000,
          30000,
          35000,
          40000,
          45000,
          50000,
          55000,
          55000,
          55000,
          55000,
          55000,
          55000,
          60000,
          65000,
          70000,
          75000,
          80000,
          80000,
          80000,
          80000,
          80000,
          80000,
          80000,
          80000,
          80000,
          80000,
          80000,
          80000,
          80000,
          80000,
          80000,
          80000,
          80000,
          80000,
          80000,
          80000,
          80000,
          80000,
          80000,
          80000,
          80000,
          80000,
          80000,
          80000,
          80000,
          80000,
          80000,
          80000,
          80000,
          80000,
          80000,
          80000,
          80000,
          80000,
          80000,
          80000,
          80000,
          80000,
          80000,
          80000,
          80000,
          80000,
          80000,
          80000,
          80000,
          80000,
          80000,
          80000,
          80000,
          80000,
          80000,
          80000,
          80000,
          80000,
          80000,
          80000,
          80000,
          80000,
          80000,
          80000,
          80000,
          80000,
          80000,
          80000,
          80000,
          80000,
          80000,
          80000,
          80000,
          80000,
          80000,
          80000,
          80000,
          80000,
          80000,
          80000,
          80000,
          80000,
          80000,
          80000,
          80000,
          80000,
          80000,
          80000,
          80000,
          80000,
          80000,
          80000,
          80000,
          80000,
          80000,
          80000,
          80000,
          80000,
          80000,
          80000,
          80000,
          80000,
          80000,
          80000
         ],
         "yaxis": "y2"
        },
        {
         "line": {
          "color": "green",
          "dash": "dot",
          "shape": "linear"
         },
         "mode": "lines",
         "name": "Simulated I/O Written Cumulative Volume Signal",
         "textposition": "top center",
         "type": "scatter",
         "x": [
          0,
          1,
          2,
          3,
          4,
          5,
          6,
          7,
          8,
          9,
          10,
          11,
          12,
          13,
          14,
          15,
          16,
          17,
          18,
          19,
          20,
          21,
          22,
          23,
          24,
          25,
          26,
          27,
          28,
          29,
          30,
          31,
          32,
          33,
          34,
          35,
          36,
          37,
          38,
          39,
          40,
          41,
          42,
          43,
          44,
          45,
          46,
          47,
          48,
          49,
          50,
          51,
          52,
          53,
          54,
          55,
          56,
          57,
          58,
          59,
          60,
          61,
          62,
          63,
          64,
          65,
          66,
          67,
          68,
          69,
          70,
          71,
          72,
          73,
          74,
          75,
          76,
          77,
          78,
          79,
          80,
          81,
          82,
          83,
          84,
          85,
          86,
          87,
          88,
          89,
          90,
          91,
          92,
          93,
          94,
          95,
          96,
          97,
          98,
          99,
          100,
          101,
          102,
          103,
          104,
          105,
          106,
          107,
          108,
          109,
          110,
          111,
          112,
          113,
          114,
          115,
          116,
          117,
          118,
          119,
          120,
          121,
          122,
          123,
          124,
          125,
          126,
          127,
          128,
          129
         ],
         "xaxis": "x2",
         "y": [
          0,
          0,
          0,
          0,
          0,
          0,
          0,
          0,
          0,
          0,
          0,
          0,
          0,
          0,
          0,
          0,
          0,
          0,
          0,
          0,
          0,
          0,
          0,
          0,
          0,
          0,
          0,
          0,
          0,
          0,
          0,
          0,
          1000,
          2000,
          2000,
          3000,
          4000,
          5000,
          6000,
          7000,
          8000,
          9000,
          10000,
          11000,
          12000,
          12000,
          12000,
          13000,
          14000,
          15000,
          15000,
          15000,
          15000,
          15000,
          15000,
          15000,
          15000,
          15000,
          15000,
          15000,
          15000,
          16000,
          17000,
          18000,
          19000,
          20000,
          20000,
          20000,
          20000,
          20000,
          20000,
          20000,
          20000,
          20000,
          20000,
          20000,
          20000,
          20000,
          21000,
          22000,
          23000,
          24000,
          25000,
          26000,
          27000,
          28000,
          29000,
          30000,
          31000,
          32000,
          33000,
          34000,
          35000,
          36000,
          37000,
          38000,
          39000,
          40000,
          41000,
          41000,
          41000,
          41000,
          41000,
          41000,
          41000,
          41000,
          41000,
          41000,
          41000,
          42000,
          43000,
          44000,
          45000,
          46000,
          47000,
          48000,
          49000,
          50000,
          51000,
          52000,
          52000,
          52000,
          52000,
          52000,
          52000,
          53000,
          54000,
          55000,
          56000,
          56000
         ],
         "yaxis": "y2"
        }
       ],
       "layout": {
        "annotations": [
         {
          "font": {
           "size": 16
          },
          "showarrow": false,
          "text": "On read/write instant bandwidths",
          "x": 0.5,
          "xanchor": "center",
          "xref": "paper",
          "y": 1,
          "yanchor": "bottom",
          "yref": "paper"
         },
         {
          "font": {
           "size": 16
          },
          "showarrow": false,
          "text": "On read/write cumulated volumes",
          "x": 0.5,
          "xanchor": "center",
          "xref": "paper",
          "y": 0.375,
          "yanchor": "bottom",
          "yref": "paper"
         }
        ],
        "autosize": false,
        "height": 900,
        "legend": {
         "font": {
          "size": 8
         },
         "orientation": "v",
         "tracegroupgap": 360
        },
        "template": {
         "data": {
          "bar": [
           {
            "error_x": {
             "color": "#2a3f5f"
            },
            "error_y": {
             "color": "#2a3f5f"
            },
            "marker": {
             "line": {
              "color": "#E5ECF6",
              "width": 0.5
             }
            },
            "type": "bar"
           }
          ],
          "barpolar": [
           {
            "marker": {
             "line": {
              "color": "#E5ECF6",
              "width": 0.5
             }
            },
            "type": "barpolar"
           }
          ],
          "carpet": [
           {
            "aaxis": {
             "endlinecolor": "#2a3f5f",
             "gridcolor": "white",
             "linecolor": "white",
             "minorgridcolor": "white",
             "startlinecolor": "#2a3f5f"
            },
            "baxis": {
             "endlinecolor": "#2a3f5f",
             "gridcolor": "white",
             "linecolor": "white",
             "minorgridcolor": "white",
             "startlinecolor": "#2a3f5f"
            },
            "type": "carpet"
           }
          ],
          "choropleth": [
           {
            "colorbar": {
             "outlinewidth": 0,
             "ticks": ""
            },
            "type": "choropleth"
           }
          ],
          "contour": [
           {
            "colorbar": {
             "outlinewidth": 0,
             "ticks": ""
            },
            "colorscale": [
             [
              0,
              "#0d0887"
             ],
             [
              0.1111111111111111,
              "#46039f"
             ],
             [
              0.2222222222222222,
              "#7201a8"
             ],
             [
              0.3333333333333333,
              "#9c179e"
             ],
             [
              0.4444444444444444,
              "#bd3786"
             ],
             [
              0.5555555555555556,
              "#d8576b"
             ],
             [
              0.6666666666666666,
              "#ed7953"
             ],
             [
              0.7777777777777778,
              "#fb9f3a"
             ],
             [
              0.8888888888888888,
              "#fdca26"
             ],
             [
              1,
              "#f0f921"
             ]
            ],
            "type": "contour"
           }
          ],
          "contourcarpet": [
           {
            "colorbar": {
             "outlinewidth": 0,
             "ticks": ""
            },
            "type": "contourcarpet"
           }
          ],
          "heatmap": [
           {
            "colorbar": {
             "outlinewidth": 0,
             "ticks": ""
            },
            "colorscale": [
             [
              0,
              "#0d0887"
             ],
             [
              0.1111111111111111,
              "#46039f"
             ],
             [
              0.2222222222222222,
              "#7201a8"
             ],
             [
              0.3333333333333333,
              "#9c179e"
             ],
             [
              0.4444444444444444,
              "#bd3786"
             ],
             [
              0.5555555555555556,
              "#d8576b"
             ],
             [
              0.6666666666666666,
              "#ed7953"
             ],
             [
              0.7777777777777778,
              "#fb9f3a"
             ],
             [
              0.8888888888888888,
              "#fdca26"
             ],
             [
              1,
              "#f0f921"
             ]
            ],
            "type": "heatmap"
           }
          ],
          "heatmapgl": [
           {
            "colorbar": {
             "outlinewidth": 0,
             "ticks": ""
            },
            "colorscale": [
             [
              0,
              "#0d0887"
             ],
             [
              0.1111111111111111,
              "#46039f"
             ],
             [
              0.2222222222222222,
              "#7201a8"
             ],
             [
              0.3333333333333333,
              "#9c179e"
             ],
             [
              0.4444444444444444,
              "#bd3786"
             ],
             [
              0.5555555555555556,
              "#d8576b"
             ],
             [
              0.6666666666666666,
              "#ed7953"
             ],
             [
              0.7777777777777778,
              "#fb9f3a"
             ],
             [
              0.8888888888888888,
              "#fdca26"
             ],
             [
              1,
              "#f0f921"
             ]
            ],
            "type": "heatmapgl"
           }
          ],
          "histogram": [
           {
            "marker": {
             "colorbar": {
              "outlinewidth": 0,
              "ticks": ""
             }
            },
            "type": "histogram"
           }
          ],
          "histogram2d": [
           {
            "colorbar": {
             "outlinewidth": 0,
             "ticks": ""
            },
            "colorscale": [
             [
              0,
              "#0d0887"
             ],
             [
              0.1111111111111111,
              "#46039f"
             ],
             [
              0.2222222222222222,
              "#7201a8"
             ],
             [
              0.3333333333333333,
              "#9c179e"
             ],
             [
              0.4444444444444444,
              "#bd3786"
             ],
             [
              0.5555555555555556,
              "#d8576b"
             ],
             [
              0.6666666666666666,
              "#ed7953"
             ],
             [
              0.7777777777777778,
              "#fb9f3a"
             ],
             [
              0.8888888888888888,
              "#fdca26"
             ],
             [
              1,
              "#f0f921"
             ]
            ],
            "type": "histogram2d"
           }
          ],
          "histogram2dcontour": [
           {
            "colorbar": {
             "outlinewidth": 0,
             "ticks": ""
            },
            "colorscale": [
             [
              0,
              "#0d0887"
             ],
             [
              0.1111111111111111,
              "#46039f"
             ],
             [
              0.2222222222222222,
              "#7201a8"
             ],
             [
              0.3333333333333333,
              "#9c179e"
             ],
             [
              0.4444444444444444,
              "#bd3786"
             ],
             [
              0.5555555555555556,
              "#d8576b"
             ],
             [
              0.6666666666666666,
              "#ed7953"
             ],
             [
              0.7777777777777778,
              "#fb9f3a"
             ],
             [
              0.8888888888888888,
              "#fdca26"
             ],
             [
              1,
              "#f0f921"
             ]
            ],
            "type": "histogram2dcontour"
           }
          ],
          "mesh3d": [
           {
            "colorbar": {
             "outlinewidth": 0,
             "ticks": ""
            },
            "type": "mesh3d"
           }
          ],
          "parcoords": [
           {
            "line": {
             "colorbar": {
              "outlinewidth": 0,
              "ticks": ""
             }
            },
            "type": "parcoords"
           }
          ],
          "pie": [
           {
            "automargin": true,
            "type": "pie"
           }
          ],
          "scatter": [
           {
            "marker": {
             "colorbar": {
              "outlinewidth": 0,
              "ticks": ""
             }
            },
            "type": "scatter"
           }
          ],
          "scatter3d": [
           {
            "line": {
             "colorbar": {
              "outlinewidth": 0,
              "ticks": ""
             }
            },
            "marker": {
             "colorbar": {
              "outlinewidth": 0,
              "ticks": ""
             }
            },
            "type": "scatter3d"
           }
          ],
          "scattercarpet": [
           {
            "marker": {
             "colorbar": {
              "outlinewidth": 0,
              "ticks": ""
             }
            },
            "type": "scattercarpet"
           }
          ],
          "scattergeo": [
           {
            "marker": {
             "colorbar": {
              "outlinewidth": 0,
              "ticks": ""
             }
            },
            "type": "scattergeo"
           }
          ],
          "scattergl": [
           {
            "marker": {
             "colorbar": {
              "outlinewidth": 0,
              "ticks": ""
             }
            },
            "type": "scattergl"
           }
          ],
          "scattermapbox": [
           {
            "marker": {
             "colorbar": {
              "outlinewidth": 0,
              "ticks": ""
             }
            },
            "type": "scattermapbox"
           }
          ],
          "scatterpolar": [
           {
            "marker": {
             "colorbar": {
              "outlinewidth": 0,
              "ticks": ""
             }
            },
            "type": "scatterpolar"
           }
          ],
          "scatterpolargl": [
           {
            "marker": {
             "colorbar": {
              "outlinewidth": 0,
              "ticks": ""
             }
            },
            "type": "scatterpolargl"
           }
          ],
          "scatterternary": [
           {
            "marker": {
             "colorbar": {
              "outlinewidth": 0,
              "ticks": ""
             }
            },
            "type": "scatterternary"
           }
          ],
          "surface": [
           {
            "colorbar": {
             "outlinewidth": 0,
             "ticks": ""
            },
            "colorscale": [
             [
              0,
              "#0d0887"
             ],
             [
              0.1111111111111111,
              "#46039f"
             ],
             [
              0.2222222222222222,
              "#7201a8"
             ],
             [
              0.3333333333333333,
              "#9c179e"
             ],
             [
              0.4444444444444444,
              "#bd3786"
             ],
             [
              0.5555555555555556,
              "#d8576b"
             ],
             [
              0.6666666666666666,
              "#ed7953"
             ],
             [
              0.7777777777777778,
              "#fb9f3a"
             ],
             [
              0.8888888888888888,
              "#fdca26"
             ],
             [
              1,
              "#f0f921"
             ]
            ],
            "type": "surface"
           }
          ],
          "table": [
           {
            "cells": {
             "fill": {
              "color": "#EBF0F8"
             },
             "line": {
              "color": "white"
             }
            },
            "header": {
             "fill": {
              "color": "#C8D4E3"
             },
             "line": {
              "color": "white"
             }
            },
            "type": "table"
           }
          ]
         },
         "layout": {
          "annotationdefaults": {
           "arrowcolor": "#2a3f5f",
           "arrowhead": 0,
           "arrowwidth": 1
          },
          "coloraxis": {
           "colorbar": {
            "outlinewidth": 0,
            "ticks": ""
           }
          },
          "colorscale": {
           "diverging": [
            [
             0,
             "#8e0152"
            ],
            [
             0.1,
             "#c51b7d"
            ],
            [
             0.2,
             "#de77ae"
            ],
            [
             0.3,
             "#f1b6da"
            ],
            [
             0.4,
             "#fde0ef"
            ],
            [
             0.5,
             "#f7f7f7"
            ],
            [
             0.6,
             "#e6f5d0"
            ],
            [
             0.7,
             "#b8e186"
            ],
            [
             0.8,
             "#7fbc41"
            ],
            [
             0.9,
             "#4d9221"
            ],
            [
             1,
             "#276419"
            ]
           ],
           "sequential": [
            [
             0,
             "#0d0887"
            ],
            [
             0.1111111111111111,
             "#46039f"
            ],
            [
             0.2222222222222222,
             "#7201a8"
            ],
            [
             0.3333333333333333,
             "#9c179e"
            ],
            [
             0.4444444444444444,
             "#bd3786"
            ],
            [
             0.5555555555555556,
             "#d8576b"
            ],
            [
             0.6666666666666666,
             "#ed7953"
            ],
            [
             0.7777777777777778,
             "#fb9f3a"
            ],
            [
             0.8888888888888888,
             "#fdca26"
            ],
            [
             1,
             "#f0f921"
            ]
           ],
           "sequentialminus": [
            [
             0,
             "#0d0887"
            ],
            [
             0.1111111111111111,
             "#46039f"
            ],
            [
             0.2222222222222222,
             "#7201a8"
            ],
            [
             0.3333333333333333,
             "#9c179e"
            ],
            [
             0.4444444444444444,
             "#bd3786"
            ],
            [
             0.5555555555555556,
             "#d8576b"
            ],
            [
             0.6666666666666666,
             "#ed7953"
            ],
            [
             0.7777777777777778,
             "#fb9f3a"
            ],
            [
             0.8888888888888888,
             "#fdca26"
            ],
            [
             1,
             "#f0f921"
            ]
           ]
          },
          "colorway": [
           "#636efa",
           "#EF553B",
           "#00cc96",
           "#ab63fa",
           "#FFA15A",
           "#19d3f3",
           "#FF6692",
           "#B6E880",
           "#FF97FF",
           "#FECB52"
          ],
          "font": {
           "color": "#2a3f5f"
          },
          "geo": {
           "bgcolor": "white",
           "lakecolor": "white",
           "landcolor": "#E5ECF6",
           "showlakes": true,
           "showland": true,
           "subunitcolor": "white"
          },
          "hoverlabel": {
           "align": "left"
          },
          "hovermode": "closest",
          "mapbox": {
           "style": "light"
          },
          "paper_bgcolor": "white",
          "plot_bgcolor": "#E5ECF6",
          "polar": {
           "angularaxis": {
            "gridcolor": "white",
            "linecolor": "white",
            "ticks": ""
           },
           "bgcolor": "#E5ECF6",
           "radialaxis": {
            "gridcolor": "white",
            "linecolor": "white",
            "ticks": ""
           }
          },
          "scene": {
           "xaxis": {
            "backgroundcolor": "#E5ECF6",
            "gridcolor": "white",
            "gridwidth": 2,
            "linecolor": "white",
            "showbackground": true,
            "ticks": "",
            "zerolinecolor": "white"
           },
           "yaxis": {
            "backgroundcolor": "#E5ECF6",
            "gridcolor": "white",
            "gridwidth": 2,
            "linecolor": "white",
            "showbackground": true,
            "ticks": "",
            "zerolinecolor": "white"
           },
           "zaxis": {
            "backgroundcolor": "#E5ECF6",
            "gridcolor": "white",
            "gridwidth": 2,
            "linecolor": "white",
            "showbackground": true,
            "ticks": "",
            "zerolinecolor": "white"
           }
          },
          "shapedefaults": {
           "line": {
            "color": "#2a3f5f"
           }
          },
          "ternary": {
           "aaxis": {
            "gridcolor": "white",
            "linecolor": "white",
            "ticks": ""
           },
           "baxis": {
            "gridcolor": "white",
            "linecolor": "white",
            "ticks": ""
           },
           "bgcolor": "#E5ECF6",
           "caxis": {
            "gridcolor": "white",
            "linecolor": "white",
            "ticks": ""
           }
          },
          "title": {
           "x": 0.05
          },
          "xaxis": {
           "automargin": true,
           "gridcolor": "white",
           "linecolor": "white",
           "ticks": "",
           "title": {
            "standoff": 15
           },
           "zerolinecolor": "white",
           "zerolinewidth": 2
          },
          "yaxis": {
           "automargin": true,
           "gridcolor": "white",
           "linecolor": "white",
           "ticks": "",
           "title": {
            "standoff": 15
           },
           "zerolinecolor": "white",
           "zerolinewidth": 2
          }
         }
        },
        "title": {
         "text": "Comparing simulated and IOI signals"
        },
        "width": 1400,
        "xaxis": {
         "anchor": "y",
         "domain": [
          0,
          1
         ],
         "matches": "x2",
         "showticklabels": false,
         "title": {
          "text": "time (1pt = 5s)"
         }
        },
        "xaxis2": {
         "anchor": "y2",
         "domain": [
          0,
          1
         ],
         "title": {
          "text": "time (1pt = 5s)"
         }
        },
        "yaxis": {
         "anchor": "x",
         "domain": [
          0.625,
          1
         ],
         "title": {
          "text": "dataflow in MB/s"
         }
        },
        "yaxis2": {
         "anchor": "x2",
         "domain": [
          0,
          0.375
         ]
        }
       }
      }
     },
     "metadata": {},
     "output_type": "display_data"
    }
   ],
   "source": [
    "fig = display_original_sim_signals(simulate_app(compute, reads, writes, io_bw, app_name=\"3911\"),\n",
    "                                   (timestamps, original_read, original_write),\n",
    "                                   width=1400, height=900)\n",
    "fig.show()"
   ]
  },
  {
   "cell_type": "markdown",
   "metadata": {},
   "source": [
    "The expected duration of the application is 129*5s = 645 seconds with this storage instead of 97*5s = 485 seconds."
   ]
  },
  {
   "cell_type": "markdown",
   "metadata": {},
   "source": [
    "Conclusion and further improvements:\n",
    "- fix bugs on the AppDecompser 0.1\n",
    "- update simulator to accept phases having both read and write I/O\n",
    "- build a Performance Model with bandwidths measured directly from the storage tier\n",
    "- progressing toward simulating workflows having many jobs in parrallel and recommending placement for each step."
   ]
  }
 ],
 "metadata": {
  "kernelspec": {
   "display_name": "Python 3.8.13 ('iosea-venv')",
   "language": "python",
   "name": "python3"
  },
  "language_info": {
   "codemirror_mode": {
    "name": "ipython",
    "version": 3
   },
   "file_extension": ".py",
   "mimetype": "text/x-python",
   "name": "python",
   "nbconvert_exporter": "python",
   "pygments_lexer": "ipython3",
   "version": "3.8.13"
  },
  "orig_nbformat": 4,
  "vscode": {
   "interpreter": {
    "hash": "c87beb4c7de1fcbf6155f8da331fc04a584374d4c389d75c2ece6a4f03553c96"
   }
  }
 },
 "nbformat": 4,
 "nbformat_minor": 2
}
