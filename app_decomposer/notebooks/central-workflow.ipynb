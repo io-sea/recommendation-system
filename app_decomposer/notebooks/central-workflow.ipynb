{
 "cells": [
  {
   "cell_type": "code",
   "execution_count": 6,
   "metadata": {},
   "outputs": [],
   "source": [
    "import os\n",
    "from app_decomposer.utils_demo import *\n",
    "from pprint import pprint"
   ]
  },
  {
   "cell_type": "code",
   "execution_count": 23,
   "metadata": {},
   "outputs": [
    {
     "name": "stdout",
     "output_type": "stream",
     "text": [
      "{'bytesRead': array([       6457,           0,  1090522169,  2055211225,           0,\n",
      "                 0,           0,           0,           0,           0,\n",
      "                 0,           0,           0,           0,           0,\n",
      "       15728643189,           0,           0,           0,           0,\n",
      "                 0,           0,           0,           0,           0,\n",
      "                 0,           0,  8965325739, 22491955278,           0,\n",
      "                 0,           0,           0,           0,           0,\n",
      "                 0,           0,           0,           0,           0,\n",
      "                 0,           0,           0,           0,           0,\n",
      "                 0,           0,           0,           0,         126,\n",
      "                 0,           0,           0,           0,           0,\n",
      "                 0,           0,           0,           0,           0,\n",
      "                 0,           0,          72,           0,           0,\n",
      "                 0,           0,           0,           0,           0,\n",
      "                 0,           0,           0,           0,           0,\n",
      "                 0,           0,           0,           0,           0,\n",
      "                27,           0,           0,           0,           0,\n",
      "                 0,           0,           0,           0,           0,\n",
      "                 0,           0,           0]),\n",
      " 'bytesWritten': array([         0,          0,          0,          0,          0,\n",
      "                0,          0,          0,          0,          0,\n",
      "                0,          0,          0,          0,          0,\n",
      "                0,          0,          0,          0,          0,\n",
      "                0,          0,          0,          0,          0,\n",
      "                0,          0,          0,          0,          0,\n",
      "                0,          0,          0,          0,          0,\n",
      "                0,          0,          0,          0,          0,\n",
      "                0,          0,          0,          0,          0,\n",
      "                0,          0,          0,  115404800,  191795200,\n",
      "                0,          0,          0,          0,          0,\n",
      "                0,          0,          0,          0,          0,\n",
      "                0, 3092250624,   53477376,          0,          0,\n",
      "                0,          0,          0,          0,          0,\n",
      "                0,          0,          0,          0, 4739563520,\n",
      "       5022679040, 4980736000, 5001707520, 5085593600, 5075107840,\n",
      "       1551892480,          0,          0,          0,          0,\n",
      "                0,          0,          0,          0,          0,\n",
      "                0,          0,          0]),\n",
      " 'timestamp': array([1.66540556e+09, 1.66540557e+09, 1.66540558e+09, 1.66540558e+09,\n",
      "       1.66540558e+09, 1.66540559e+09, 1.66540560e+09, 1.66540560e+09,\n",
      "       1.66540560e+09, 1.66540561e+09, 1.66540562e+09, 1.66540562e+09,\n",
      "       1.66540562e+09, 1.66540563e+09, 1.66540564e+09, 1.66540564e+09,\n",
      "       1.66540564e+09, 1.66540565e+09, 1.66540566e+09, 1.66540566e+09,\n",
      "       1.66540566e+09, 1.66540567e+09, 1.66540568e+09, 1.66540568e+09,\n",
      "       1.66540568e+09, 1.66540569e+09, 1.66540570e+09, 1.66540570e+09,\n",
      "       1.66540570e+09, 1.66540571e+09, 1.66540572e+09, 1.66540572e+09,\n",
      "       1.66540572e+09, 1.66540573e+09, 1.66540574e+09, 1.66540574e+09,\n",
      "       1.66540574e+09, 1.66540575e+09, 1.66540576e+09, 1.66540576e+09,\n",
      "       1.66540576e+09, 1.66540577e+09, 1.66540578e+09, 1.66540578e+09,\n",
      "       1.66540578e+09, 1.66540579e+09, 1.66540580e+09, 1.66540580e+09,\n",
      "       1.66540580e+09, 1.66540581e+09, 1.66540582e+09, 1.66540582e+09,\n",
      "       1.66540582e+09, 1.66540583e+09, 1.66540584e+09, 1.66540584e+09,\n",
      "       1.66540584e+09, 1.66540585e+09, 1.66540586e+09, 1.66540586e+09,\n",
      "       1.66540586e+09, 1.66540587e+09, 1.66540588e+09, 1.66540588e+09,\n",
      "       1.66540588e+09, 1.66540589e+09, 1.66540590e+09, 1.66540590e+09,\n",
      "       1.66540590e+09, 1.66540591e+09, 1.66540592e+09, 1.66540592e+09,\n",
      "       1.66540592e+09, 1.66540593e+09, 1.66540594e+09, 1.66540594e+09,\n",
      "       1.66540594e+09, 1.66540595e+09, 1.66540596e+09, 1.66540596e+09,\n",
      "       1.66540596e+09, 1.66540597e+09, 1.66540598e+09, 1.66540598e+09,\n",
      "       1.66540598e+09, 1.66540599e+09, 1.66540600e+09, 1.66540600e+09,\n",
      "       1.66540600e+09, 1.66540601e+09, 1.66540602e+09, 1.66540602e+09,\n",
      "       1.66540602e+09])}\n"
     ]
    }
   ],
   "source": [
    "ts = get_job_timeseries_from_file()\n",
    "#ts = ts.pop(\"accessPattern\")\n",
    "pprint(ts[\"volume\"])\n",
    "#ts = ts.pop('processCount')"
   ]
  },
  {
   "cell_type": "code",
   "execution_count": null,
   "metadata": {},
   "outputs": [],
   "source": [
    "job1 = {'bytesRead': np.array([       6457,           0,  1090522169,  2055211225]),\n",
    "        'bytesWritten': np.array([         115404800,  191795200,   0,          0]),\n",
    "        'timestamp': np.array([1581607510, 1581607515, 1581607520, 1581607525])}\n",
    "\n",
    "job2 = {'bytesRead': np.array([       2457,           8000,  0,  0]),\n",
    "        'bytesWritten': np.array([         15404800,  91795200,   0,          0]),\n",
    "        'timestamp': np.array([1581607520, 1581607525, 1581607530, 1581607535])}\n",
    "\n",
    "job3 = {'bytesRead': np.array([       6457,           0,  1090522169,  2055211225]),\n",
    "        'bytesWritten': np.array([         115404800,  191795200,   0,          0]),\n",
    "        'timestamp': np.array([1581607530, 1581607535, 1581607540, 1581607545])}"
   ]
  },
  {
   "cell_type": "code",
   "execution_count": 34,
   "metadata": {},
   "outputs": [
    {
     "name": "stdout",
     "output_type": "stream",
     "text": [
      "/home_nfs/mimounis/iosea-wp3-recommandation-system/dataset_generation/dataset_generation\n",
      "['1391', '1335', '1439', '1512', '1476', '1334', '1489', '1336', '1330', '1272', '4949', '4911', '4912', '4951', '4952', '4953', '4954', '4913', '4950', '22557', '6000', '22658', '6970', '6382', '5969', '5932', '22578', '6308', '6376', '22624', '6264', '507740', '507738', '465283', '542439', '465155', '480598', '486693', '507742', '457344', '488287', '480600', '469883', '7584', '7910', '11638', '3564', '4281', '7518', '7256', '2537', '2301', '4821', '7851', '6168', '107815', '107939', '105836', '109567', '107187', '107416', '108010', '101329', '107998', '107251', 'dataset', '5189', '5296', '5171', '5179', '5170', '5173', '5288', '5186', '5185', '5183', '5180', '5286', '5176', '5285', '5295', '5293', '5190', '5193', '5294', '5181', '5175', '5168', '5184', '5188', '5282', '5291', '5292', '5178', '5191', '5289', '5182', '5287', '5281', '5283', '5169', '5192', '5284', '5172', '5187', '5194', '5290', '5177', '5174', '52508', '91865', '88255', '51000', '93530', '51022', '93537', '91987', '91956', '52377', '91506', '53494', '3911', '3907', '3909', '3908', '3919', '3918', '3914', '3906', '3912', '3917', '3910', '3916', '3913', '3915']\n",
      "['/home_nfs/mimounis/iosea-wp3-recommandation-system/dataset_generation/dataset_generation/dataset_oth_db/job_1391.csv', '/home_nfs/mimounis/iosea-wp3-recommandation-system/dataset_generation/dataset_generation/dataset_oth_db/job_1335.csv', '/home_nfs/mimounis/iosea-wp3-recommandation-system/dataset_generation/dataset_generation/dataset_oth_db/job_1439.csv', '/home_nfs/mimounis/iosea-wp3-recommandation-system/dataset_generation/dataset_generation/dataset_oth_db/job_1512.csv', '/home_nfs/mimounis/iosea-wp3-recommandation-system/dataset_generation/dataset_generation/dataset_oth_db/job_1476.csv', '/home_nfs/mimounis/iosea-wp3-recommandation-system/dataset_generation/dataset_generation/dataset_oth_db/job_1334.csv', '/home_nfs/mimounis/iosea-wp3-recommandation-system/dataset_generation/dataset_generation/dataset_oth_db/job_1489.csv', '/home_nfs/mimounis/iosea-wp3-recommandation-system/dataset_generation/dataset_generation/dataset_oth_db/job_1336.csv', '/home_nfs/mimounis/iosea-wp3-recommandation-system/dataset_generation/dataset_generation/dataset_oth_db/job_1330.csv', '/home_nfs/mimounis/iosea-wp3-recommandation-system/dataset_generation/dataset_generation/dataset_oth_db/job_1272.csv', '/home_nfs/mimounis/iosea-wp3-recommandation-system/dataset_generation/dataset_generation/dataset_namd/job_4949.csv', '/home_nfs/mimounis/iosea-wp3-recommandation-system/dataset_generation/dataset_generation/dataset_namd/job_4911.csv', '/home_nfs/mimounis/iosea-wp3-recommandation-system/dataset_generation/dataset_generation/dataset_namd/job_4912.csv', '/home_nfs/mimounis/iosea-wp3-recommandation-system/dataset_generation/dataset_generation/dataset_namd/job_4951.csv', '/home_nfs/mimounis/iosea-wp3-recommandation-system/dataset_generation/dataset_generation/dataset_namd/job_4952.csv', '/home_nfs/mimounis/iosea-wp3-recommandation-system/dataset_generation/dataset_generation/dataset_namd/job_4953.csv', '/home_nfs/mimounis/iosea-wp3-recommandation-system/dataset_generation/dataset_generation/dataset_namd/job_4954.csv', '/home_nfs/mimounis/iosea-wp3-recommandation-system/dataset_generation/dataset_generation/dataset_namd/job_4913.csv', '/home_nfs/mimounis/iosea-wp3-recommandation-system/dataset_generation/dataset_generation/dataset_namd/job_4950.csv', '/home_nfs/mimounis/iosea-wp3-recommandation-system/dataset_generation/dataset_generation/dataset_mat_db/job_22557.csv', '/home_nfs/mimounis/iosea-wp3-recommandation-system/dataset_generation/dataset_generation/dataset_mat_db/job_6000.csv', '/home_nfs/mimounis/iosea-wp3-recommandation-system/dataset_generation/dataset_generation/dataset_mat_db/job_22658.csv', '/home_nfs/mimounis/iosea-wp3-recommandation-system/dataset_generation/dataset_generation/dataset_mat_db/job_6970.csv', '/home_nfs/mimounis/iosea-wp3-recommandation-system/dataset_generation/dataset_generation/dataset_mat_db/job_6382.csv', '/home_nfs/mimounis/iosea-wp3-recommandation-system/dataset_generation/dataset_generation/dataset_mat_db/job_5969.csv', '/home_nfs/mimounis/iosea-wp3-recommandation-system/dataset_generation/dataset_generation/dataset_mat_db/job_5932.csv', '/home_nfs/mimounis/iosea-wp3-recommandation-system/dataset_generation/dataset_generation/dataset_mat_db/job_22578.csv', '/home_nfs/mimounis/iosea-wp3-recommandation-system/dataset_generation/dataset_generation/dataset_mat_db/job_6308.csv', '/home_nfs/mimounis/iosea-wp3-recommandation-system/dataset_generation/dataset_generation/dataset_mat_db/job_6376.csv', '/home_nfs/mimounis/iosea-wp3-recommandation-system/dataset_generation/dataset_generation/dataset_mat_db/job_22624.csv', '/home_nfs/mimounis/iosea-wp3-recommandation-system/dataset_generation/dataset_generation/dataset_mat_db/job_6264.csv', '/home_nfs/mimounis/iosea-wp3-recommandation-system/dataset_generation/dataset_generation/dataset_genji_IOI_BD260919/job_507740.csv', '/home_nfs/mimounis/iosea-wp3-recommandation-system/dataset_generation/dataset_generation/dataset_genji_IOI_BD260919/job_507738.csv', '/home_nfs/mimounis/iosea-wp3-recommandation-system/dataset_generation/dataset_generation/dataset_genji_IOI_BD260919/job_465283.csv', '/home_nfs/mimounis/iosea-wp3-recommandation-system/dataset_generation/dataset_generation/dataset_genji_IOI_BD260919/job_542439.csv', '/home_nfs/mimounis/iosea-wp3-recommandation-system/dataset_generation/dataset_generation/dataset_genji_IOI_BD260919/job_465155.csv', '/home_nfs/mimounis/iosea-wp3-recommandation-system/dataset_generation/dataset_generation/dataset_genji_IOI_BD260919/job_480598.csv', '/home_nfs/mimounis/iosea-wp3-recommandation-system/dataset_generation/dataset_generation/dataset_genji_IOI_BD260919/job_486693.csv', '/home_nfs/mimounis/iosea-wp3-recommandation-system/dataset_generation/dataset_generation/dataset_genji_IOI_BD260919/job_507742.csv', '/home_nfs/mimounis/iosea-wp3-recommandation-system/dataset_generation/dataset_generation/dataset_genji_IOI_BD260919/job_457344.csv', '/home_nfs/mimounis/iosea-wp3-recommandation-system/dataset_generation/dataset_generation/dataset_genji_IOI_BD260919/job_488287.csv', '/home_nfs/mimounis/iosea-wp3-recommandation-system/dataset_generation/dataset_generation/dataset_genji_IOI_BD260919/job_480600.csv', '/home_nfs/mimounis/iosea-wp3-recommandation-system/dataset_generation/dataset_generation/dataset_genji_IOI_BD260919/job_469883.csv', '/home_nfs/mimounis/iosea-wp3-recommandation-system/dataset_generation/dataset_generation/dataset_sop_db/job_7584.csv', '/home_nfs/mimounis/iosea-wp3-recommandation-system/dataset_generation/dataset_generation/dataset_sop_db/job_7910.csv', '/home_nfs/mimounis/iosea-wp3-recommandation-system/dataset_generation/dataset_generation/dataset_sop_db/job_11638.csv', '/home_nfs/mimounis/iosea-wp3-recommandation-system/dataset_generation/dataset_generation/dataset_sop_db/job_3564.csv', '/home_nfs/mimounis/iosea-wp3-recommandation-system/dataset_generation/dataset_generation/dataset_sop_db/job_4281.csv', '/home_nfs/mimounis/iosea-wp3-recommandation-system/dataset_generation/dataset_generation/dataset_sop_db/job_7518.csv', '/home_nfs/mimounis/iosea-wp3-recommandation-system/dataset_generation/dataset_generation/dataset_sop_db/job_7256.csv', '/home_nfs/mimounis/iosea-wp3-recommandation-system/dataset_generation/dataset_generation/dataset_sop_db/job_2537.csv', '/home_nfs/mimounis/iosea-wp3-recommandation-system/dataset_generation/dataset_generation/dataset_sop_db/job_2301.csv', '/home_nfs/mimounis/iosea-wp3-recommandation-system/dataset_generation/dataset_generation/dataset_sop_db/job_4821.csv', '/home_nfs/mimounis/iosea-wp3-recommandation-system/dataset_generation/dataset_generation/dataset_sop_db/job_7851.csv', '/home_nfs/mimounis/iosea-wp3-recommandation-system/dataset_generation/dataset_generation/dataset_sop_db/job_6168.csv', '/home_nfs/mimounis/iosea-wp3-recommandation-system/dataset_generation/dataset_generation/dataset_gysela/job_107815.csv', '/home_nfs/mimounis/iosea-wp3-recommandation-system/dataset_generation/dataset_generation/dataset_gysela/job_107939.csv', '/home_nfs/mimounis/iosea-wp3-recommandation-system/dataset_generation/dataset_generation/dataset_gysela/job_105836.csv', '/home_nfs/mimounis/iosea-wp3-recommandation-system/dataset_generation/dataset_generation/dataset_gysela/job_109567.csv', '/home_nfs/mimounis/iosea-wp3-recommandation-system/dataset_generation/dataset_generation/dataset_gysela/job_107187.csv', '/home_nfs/mimounis/iosea-wp3-recommandation-system/dataset_generation/dataset_generation/dataset_gysela/job_107416.csv', '/home_nfs/mimounis/iosea-wp3-recommandation-system/dataset_generation/dataset_generation/dataset_gysela/job_108010.csv', '/home_nfs/mimounis/iosea-wp3-recommandation-system/dataset_generation/dataset_generation/dataset_gysela/job_101329.csv', '/home_nfs/mimounis/iosea-wp3-recommandation-system/dataset_generation/dataset_generation/dataset_gysela/job_107998.csv', '/home_nfs/mimounis/iosea-wp3-recommandation-system/dataset_generation/dataset_generation/dataset_gysela/job_107251.csv', '/home_nfs/mimounis/iosea-wp3-recommandation-system/dataset_generation/dataset_generation/performance_model/performance_model_dataset.csv', '/home_nfs/mimounis/iosea-wp3-recommandation-system/dataset_generation/dataset_generation/dataset_kiwi_comparison/job_5189.csv', '/home_nfs/mimounis/iosea-wp3-recommandation-system/dataset_generation/dataset_generation/dataset_kiwi_comparison/job_5296.csv', '/home_nfs/mimounis/iosea-wp3-recommandation-system/dataset_generation/dataset_generation/dataset_kiwi_comparison/job_5171.csv', '/home_nfs/mimounis/iosea-wp3-recommandation-system/dataset_generation/dataset_generation/dataset_kiwi_comparison/job_5179.csv', '/home_nfs/mimounis/iosea-wp3-recommandation-system/dataset_generation/dataset_generation/dataset_kiwi_comparison/job_5170.csv', '/home_nfs/mimounis/iosea-wp3-recommandation-system/dataset_generation/dataset_generation/dataset_kiwi_comparison/job_5173.csv', '/home_nfs/mimounis/iosea-wp3-recommandation-system/dataset_generation/dataset_generation/dataset_kiwi_comparison/job_5288.csv', '/home_nfs/mimounis/iosea-wp3-recommandation-system/dataset_generation/dataset_generation/dataset_kiwi_comparison/job_5186.csv', '/home_nfs/mimounis/iosea-wp3-recommandation-system/dataset_generation/dataset_generation/dataset_kiwi_comparison/job_5185.csv', '/home_nfs/mimounis/iosea-wp3-recommandation-system/dataset_generation/dataset_generation/dataset_kiwi_comparison/job_5183.csv', '/home_nfs/mimounis/iosea-wp3-recommandation-system/dataset_generation/dataset_generation/dataset_kiwi_comparison/job_5180.csv', '/home_nfs/mimounis/iosea-wp3-recommandation-system/dataset_generation/dataset_generation/dataset_kiwi_comparison/job_5286.csv', '/home_nfs/mimounis/iosea-wp3-recommandation-system/dataset_generation/dataset_generation/dataset_kiwi_comparison/job_5176.csv', '/home_nfs/mimounis/iosea-wp3-recommandation-system/dataset_generation/dataset_generation/dataset_kiwi_comparison/job_5285.csv', '/home_nfs/mimounis/iosea-wp3-recommandation-system/dataset_generation/dataset_generation/dataset_kiwi_comparison/job_5295.csv', '/home_nfs/mimounis/iosea-wp3-recommandation-system/dataset_generation/dataset_generation/dataset_kiwi_comparison/job_5293.csv', '/home_nfs/mimounis/iosea-wp3-recommandation-system/dataset_generation/dataset_generation/dataset_kiwi_comparison/job_5190.csv', '/home_nfs/mimounis/iosea-wp3-recommandation-system/dataset_generation/dataset_generation/dataset_kiwi_comparison/job_5193.csv', '/home_nfs/mimounis/iosea-wp3-recommandation-system/dataset_generation/dataset_generation/dataset_kiwi_comparison/job_5294.csv', '/home_nfs/mimounis/iosea-wp3-recommandation-system/dataset_generation/dataset_generation/dataset_kiwi_comparison/job_5181.csv', '/home_nfs/mimounis/iosea-wp3-recommandation-system/dataset_generation/dataset_generation/dataset_kiwi_comparison/job_5175.csv', '/home_nfs/mimounis/iosea-wp3-recommandation-system/dataset_generation/dataset_generation/dataset_kiwi_comparison/job_5168.csv', '/home_nfs/mimounis/iosea-wp3-recommandation-system/dataset_generation/dataset_generation/dataset_kiwi_comparison/job_5184.csv', '/home_nfs/mimounis/iosea-wp3-recommandation-system/dataset_generation/dataset_generation/dataset_kiwi_comparison/job_5188.csv', '/home_nfs/mimounis/iosea-wp3-recommandation-system/dataset_generation/dataset_generation/dataset_kiwi_comparison/job_5282.csv', '/home_nfs/mimounis/iosea-wp3-recommandation-system/dataset_generation/dataset_generation/dataset_kiwi_comparison/job_5291.csv', '/home_nfs/mimounis/iosea-wp3-recommandation-system/dataset_generation/dataset_generation/dataset_kiwi_comparison/job_5292.csv', '/home_nfs/mimounis/iosea-wp3-recommandation-system/dataset_generation/dataset_generation/dataset_kiwi_comparison/job_5178.csv', '/home_nfs/mimounis/iosea-wp3-recommandation-system/dataset_generation/dataset_generation/dataset_kiwi_comparison/job_5191.csv', '/home_nfs/mimounis/iosea-wp3-recommandation-system/dataset_generation/dataset_generation/dataset_kiwi_comparison/job_5289.csv', '/home_nfs/mimounis/iosea-wp3-recommandation-system/dataset_generation/dataset_generation/dataset_kiwi_comparison/job_5182.csv', '/home_nfs/mimounis/iosea-wp3-recommandation-system/dataset_generation/dataset_generation/dataset_kiwi_comparison/job_5287.csv', '/home_nfs/mimounis/iosea-wp3-recommandation-system/dataset_generation/dataset_generation/dataset_kiwi_comparison/job_5281.csv', '/home_nfs/mimounis/iosea-wp3-recommandation-system/dataset_generation/dataset_generation/dataset_kiwi_comparison/job_5283.csv', '/home_nfs/mimounis/iosea-wp3-recommandation-system/dataset_generation/dataset_generation/dataset_kiwi_comparison/job_5169.csv', '/home_nfs/mimounis/iosea-wp3-recommandation-system/dataset_generation/dataset_generation/dataset_kiwi_comparison/job_5192.csv', '/home_nfs/mimounis/iosea-wp3-recommandation-system/dataset_generation/dataset_generation/dataset_kiwi_comparison/job_5284.csv', '/home_nfs/mimounis/iosea-wp3-recommandation-system/dataset_generation/dataset_generation/dataset_kiwi_comparison/job_5172.csv', '/home_nfs/mimounis/iosea-wp3-recommandation-system/dataset_generation/dataset_generation/dataset_kiwi_comparison/job_5187.csv', '/home_nfs/mimounis/iosea-wp3-recommandation-system/dataset_generation/dataset_generation/dataset_kiwi_comparison/job_5194.csv', '/home_nfs/mimounis/iosea-wp3-recommandation-system/dataset_generation/dataset_generation/dataset_kiwi_comparison/job_5290.csv', '/home_nfs/mimounis/iosea-wp3-recommandation-system/dataset_generation/dataset_generation/dataset_kiwi_comparison/job_5177.csv', '/home_nfs/mimounis/iosea-wp3-recommandation-system/dataset_generation/dataset_generation/dataset_kiwi_comparison/job_5174.csv', '/home_nfs/mimounis/iosea-wp3-recommandation-system/dataset_generation/dataset_generation/dataset_valid_dumps/job_52508.csv', '/home_nfs/mimounis/iosea-wp3-recommandation-system/dataset_generation/dataset_generation/dataset_valid_dumps/job_91865.csv', '/home_nfs/mimounis/iosea-wp3-recommandation-system/dataset_generation/dataset_generation/dataset_valid_dumps/job_88255.csv', '/home_nfs/mimounis/iosea-wp3-recommandation-system/dataset_generation/dataset_generation/dataset_valid_dumps/job_51000.csv', '/home_nfs/mimounis/iosea-wp3-recommandation-system/dataset_generation/dataset_generation/dataset_valid_dumps/job_93530.csv', '/home_nfs/mimounis/iosea-wp3-recommandation-system/dataset_generation/dataset_generation/dataset_valid_dumps/job_51022.csv', '/home_nfs/mimounis/iosea-wp3-recommandation-system/dataset_generation/dataset_generation/dataset_valid_dumps/job_93537.csv', '/home_nfs/mimounis/iosea-wp3-recommandation-system/dataset_generation/dataset_generation/dataset_valid_dumps/job_91987.csv', '/home_nfs/mimounis/iosea-wp3-recommandation-system/dataset_generation/dataset_generation/dataset_valid_dumps/job_91956.csv', '/home_nfs/mimounis/iosea-wp3-recommandation-system/dataset_generation/dataset_generation/dataset_valid_dumps/job_52377.csv', '/home_nfs/mimounis/iosea-wp3-recommandation-system/dataset_generation/dataset_generation/dataset_valid_dumps/job_91506.csv', '/home_nfs/mimounis/iosea-wp3-recommandation-system/dataset_generation/dataset_generation/dataset_valid_dumps/job_53494.csv', '/home_nfs/mimounis/iosea-wp3-recommandation-system/dataset_generation/dataset_generation/dataset_kiwi_validation/job_3911.csv', '/home_nfs/mimounis/iosea-wp3-recommandation-system/dataset_generation/dataset_generation/dataset_kiwi_validation/job_3907.csv', '/home_nfs/mimounis/iosea-wp3-recommandation-system/dataset_generation/dataset_generation/dataset_kiwi_validation/job_3909.csv', '/home_nfs/mimounis/iosea-wp3-recommandation-system/dataset_generation/dataset_generation/dataset_kiwi_validation/job_3908.csv', '/home_nfs/mimounis/iosea-wp3-recommandation-system/dataset_generation/dataset_generation/dataset_kiwi_validation/job_3919.csv', '/home_nfs/mimounis/iosea-wp3-recommandation-system/dataset_generation/dataset_generation/dataset_kiwi_validation/job_3918.csv', '/home_nfs/mimounis/iosea-wp3-recommandation-system/dataset_generation/dataset_generation/dataset_kiwi_validation/job_3914.csv', '/home_nfs/mimounis/iosea-wp3-recommandation-system/dataset_generation/dataset_generation/dataset_kiwi_validation/job_3906.csv', '/home_nfs/mimounis/iosea-wp3-recommandation-system/dataset_generation/dataset_generation/dataset_kiwi_validation/job_3912.csv', '/home_nfs/mimounis/iosea-wp3-recommandation-system/dataset_generation/dataset_generation/dataset_kiwi_validation/job_3917.csv', '/home_nfs/mimounis/iosea-wp3-recommandation-system/dataset_generation/dataset_generation/dataset_kiwi_validation/job_3910.csv', '/home_nfs/mimounis/iosea-wp3-recommandation-system/dataset_generation/dataset_generation/dataset_kiwi_validation/job_3916.csv', '/home_nfs/mimounis/iosea-wp3-recommandation-system/dataset_generation/dataset_generation/dataset_kiwi_validation/job_3913.csv', '/home_nfs/mimounis/iosea-wp3-recommandation-system/dataset_generation/dataset_generation/dataset_kiwi_validation/job_3915.csv']\n",
      "/home_nfs/mimounis/iosea-wp3-recommandation-system/dataset_generation/dataset_generation/dataset_valid_dumps/job_52508.csv\n"
     ]
    },
    {
     "ename": "KeyError",
     "evalue": "\"None of [Index(['operationRead'], dtype='object')] are in the [columns]\"",
     "output_type": "error",
     "traceback": [
      "\u001b[0;31m---------------------------------------------------------------------------\u001b[0m",
      "\u001b[0;31mKeyError\u001b[0m                                  Traceback (most recent call last)",
      "\u001b[1;32m/home_nfs/mimounis/iosea-wp3-recommandation-system/app_decomposer/notebooks/central-workflow.ipynb Cell 3\u001b[0m in \u001b[0;36m<cell line: 12>\u001b[0;34m()\u001b[0m\n\u001b[1;32m     <a href='vscode-notebook-cell://ssh-remote%2Bkea2/home_nfs/mimounis/iosea-wp3-recommandation-system/app_decomposer/notebooks/central-workflow.ipynb#W0sdnNjb2RlLXJlbW90ZQ%3D%3D?line=9'>10</a>\u001b[0m \u001b[39m# print the columns of the dataframe to check if 'operationRead' exists\u001b[39;00m\n\u001b[1;32m     <a href='vscode-notebook-cell://ssh-remote%2Bkea2/home_nfs/mimounis/iosea-wp3-recommandation-system/app_decomposer/notebooks/central-workflow.ipynb#W0sdnNjb2RlLXJlbW90ZQ%3D%3D?line=10'>11</a>\u001b[0m \u001b[39mprint\u001b[39m(csv_file)\n\u001b[0;32m---> <a href='vscode-notebook-cell://ssh-remote%2Bkea2/home_nfs/mimounis/iosea-wp3-recommandation-system/app_decomposer/notebooks/central-workflow.ipynb#W0sdnNjb2RlLXJlbW90ZQ%3D%3D?line=11'>12</a>\u001b[0m get_job_timeseries_from_file(job_id\u001b[39m=\u001b[39;49m\u001b[39m7910\u001b[39;49m)\n",
      "File \u001b[0;32m~/iosea-wp3-recommandation-system/app_decomposer/app_decomposer/utils_demo.py:95\u001b[0m, in \u001b[0;36mget_job_timeseries_from_file\u001b[0;34m(job_id)\u001b[0m\n\u001b[1;32m     93\u001b[0m     ts_list\u001b[39m.\u001b[39mappend(\u001b[39m\"\u001b[39m\u001b[39mtimestamp\u001b[39m\u001b[39m\"\u001b[39m)\n\u001b[1;32m     94\u001b[0m     \u001b[39mfor\u001b[39;00m ts \u001b[39min\u001b[39;00m ts_list:\n\u001b[0;32m---> 95\u001b[0m         timeseries[ts_type][ts] \u001b[39m=\u001b[39m df_clean[[ts]]\u001b[39m.\u001b[39mto_numpy()\u001b[39m.\u001b[39mflatten()\n\u001b[1;32m     96\u001b[0m \u001b[39mreturn\u001b[39;00m timeseries\n",
      "File \u001b[0;32m~/anaconda3/envs/ml/lib/python3.8/site-packages/pandas/core/frame.py:3813\u001b[0m, in \u001b[0;36mDataFrame.__getitem__\u001b[0;34m(self, key)\u001b[0m\n\u001b[1;32m   3811\u001b[0m     \u001b[39mif\u001b[39;00m is_iterator(key):\n\u001b[1;32m   3812\u001b[0m         key \u001b[39m=\u001b[39m \u001b[39mlist\u001b[39m(key)\n\u001b[0;32m-> 3813\u001b[0m     indexer \u001b[39m=\u001b[39m \u001b[39mself\u001b[39;49m\u001b[39m.\u001b[39;49mcolumns\u001b[39m.\u001b[39;49m_get_indexer_strict(key, \u001b[39m\"\u001b[39;49m\u001b[39mcolumns\u001b[39;49m\u001b[39m\"\u001b[39;49m)[\u001b[39m1\u001b[39m]\n\u001b[1;32m   3815\u001b[0m \u001b[39m# take() does not accept boolean indexers\u001b[39;00m\n\u001b[1;32m   3816\u001b[0m \u001b[39mif\u001b[39;00m \u001b[39mgetattr\u001b[39m(indexer, \u001b[39m\"\u001b[39m\u001b[39mdtype\u001b[39m\u001b[39m\"\u001b[39m, \u001b[39mNone\u001b[39;00m) \u001b[39m==\u001b[39m \u001b[39mbool\u001b[39m:\n",
      "File \u001b[0;32m~/anaconda3/envs/ml/lib/python3.8/site-packages/pandas/core/indexes/base.py:6070\u001b[0m, in \u001b[0;36mIndex._get_indexer_strict\u001b[0;34m(self, key, axis_name)\u001b[0m\n\u001b[1;32m   6067\u001b[0m \u001b[39melse\u001b[39;00m:\n\u001b[1;32m   6068\u001b[0m     keyarr, indexer, new_indexer \u001b[39m=\u001b[39m \u001b[39mself\u001b[39m\u001b[39m.\u001b[39m_reindex_non_unique(keyarr)\n\u001b[0;32m-> 6070\u001b[0m \u001b[39mself\u001b[39;49m\u001b[39m.\u001b[39;49m_raise_if_missing(keyarr, indexer, axis_name)\n\u001b[1;32m   6072\u001b[0m keyarr \u001b[39m=\u001b[39m \u001b[39mself\u001b[39m\u001b[39m.\u001b[39mtake(indexer)\n\u001b[1;32m   6073\u001b[0m \u001b[39mif\u001b[39;00m \u001b[39misinstance\u001b[39m(key, Index):\n\u001b[1;32m   6074\u001b[0m     \u001b[39m# GH 42790 - Preserve name from an Index\u001b[39;00m\n",
      "File \u001b[0;32m~/anaconda3/envs/ml/lib/python3.8/site-packages/pandas/core/indexes/base.py:6130\u001b[0m, in \u001b[0;36mIndex._raise_if_missing\u001b[0;34m(self, key, indexer, axis_name)\u001b[0m\n\u001b[1;32m   6128\u001b[0m     \u001b[39mif\u001b[39;00m use_interval_msg:\n\u001b[1;32m   6129\u001b[0m         key \u001b[39m=\u001b[39m \u001b[39mlist\u001b[39m(key)\n\u001b[0;32m-> 6130\u001b[0m     \u001b[39mraise\u001b[39;00m \u001b[39mKeyError\u001b[39;00m(\u001b[39mf\u001b[39m\u001b[39m\"\u001b[39m\u001b[39mNone of [\u001b[39m\u001b[39m{\u001b[39;00mkey\u001b[39m}\u001b[39;00m\u001b[39m] are in the [\u001b[39m\u001b[39m{\u001b[39;00maxis_name\u001b[39m}\u001b[39;00m\u001b[39m]\u001b[39m\u001b[39m\"\u001b[39m)\n\u001b[1;32m   6132\u001b[0m not_found \u001b[39m=\u001b[39m \u001b[39mlist\u001b[39m(ensure_index(key)[missing_mask\u001b[39m.\u001b[39mnonzero()[\u001b[39m0\u001b[39m]]\u001b[39m.\u001b[39munique())\n\u001b[1;32m   6133\u001b[0m \u001b[39mraise\u001b[39;00m \u001b[39mKeyError\u001b[39;00m(\u001b[39mf\u001b[39m\u001b[39m\"\u001b[39m\u001b[39m{\u001b[39;00mnot_found\u001b[39m}\u001b[39;00m\u001b[39m not in index\u001b[39m\u001b[39m\"\u001b[39m)\n",
      "\u001b[0;31mKeyError\u001b[0m: \"None of [Index(['operationRead'], dtype='object')] are in the [columns]\""
     ]
    }
   ],
   "source": [
    "\n",
    "jobid=3918\n",
    "dataset_path = os.path.join(dirname(dirname(os.getcwd())), \"dataset_generation\", \"dataset_generation\")\n",
    "job_files, job_ids, dataset_names = list_jobs(dataset_path)\n",
    "# create two lists of job_ids where only few elements are differents\n",
    "\n",
    "\n",
    "print(dataset_path)\n",
    "print(job_ids)\n",
    "print(job_files)\n",
    "csv_file = job_files[job_ids.index(\"52508\")]\n",
    "df = pd.read_csv(csv_file, index_col=0)  # read the csv file into a dataframe\n",
    "# print the columns of the dataframe to check if 'operationRead' exists\n",
    "print(csv_file)\n",
    "get_job_timeseries_from_file(job_id=7910)\n"
   ]
  }
 ],
 "metadata": {
  "kernelspec": {
   "display_name": "ml",
   "language": "python",
   "name": "python3"
  },
  "language_info": {
   "codemirror_mode": {
    "name": "ipython",
    "version": 3
   },
   "file_extension": ".py",
   "mimetype": "text/x-python",
   "name": "python",
   "nbconvert_exporter": "python",
   "pygments_lexer": "ipython3",
   "version": "3.8.10"
  },
  "orig_nbformat": 4
 },
 "nbformat": 4,
 "nbformat_minor": 2
}
