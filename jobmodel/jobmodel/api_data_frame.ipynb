{
 "cells": [
  {
   "cell_type": "code",
   "execution_count": 51,
   "metadata": {},
   "outputs": [],
   "source": [
    "import requests, json\n",
    "import numpy as np\n",
    "import pandas as pd\n",
    "from ioanalyticstools.api_connector import TimeSeries\n",
    "from clust_pipeline.datafetcher import API_DICT_TS\n",
    "import matplotlib.pyplot as plt\n",
    "\n",
    "# global params\n",
    "api_uri = \"http://localhost:80\"\n",
    "api_token = \"91896c2e9463d1395998c35ca54fa04051aee6a6\"\n",
    "api_token = \"3f9f66fbdb1f2982980521d1ca9ffb9aaf2af5c4\"\n",
    "jobid = \"5acf78c368db66432b57b641\"\n",
    "\n",
    "log = False\n",
    "save_figure = True\n",
    "ts_type = 'volume'\n",
    "# ts_type = list(API_DICT_TS.keys())[1]\n",
    "unit_time = 'minutes'\n",
    "time_scale = 1 if unit_time is 'seconds' else 60\n",
    "\n",
    "\n",
    "ts_type = list(API_DICT_TS.keys())[0]\n",
    "data = TimeSeries(api_uri, api_token, jobid, ts_type).get_data_by_label()\n",
    "df= pd.DataFrame(data)\n",
    "for ts_type in list(API_DICT_TS.keys())[1:]:\n",
    "    #print(ts_type + \"\\n\")\n",
    "    ts = TimeSeries(api_uri, api_token, jobid, ts_type)\n",
    "    data = ts.get_data_by_label()   \n",
    "    for ts_serie in list(data.keys())[1:]:\n",
    "        df[ts_serie] = data[ts_serie]\n",
    "\n",
    "df2 = df"
   ]
  },
  {
   "cell_type": "code",
   "execution_count": 52,
   "metadata": {},
   "outputs": [
    {
     "output_type": "execute_result",
     "data": {
      "text/plain": "       timestamp   bytesRead  bytesWritten  processCount  \\\n0  1523546305000  2703237546     194203648            14   \n1  1523546310000  2539651072     736100352            14   \n2  1523546315000           0     668160000             9   \n3  1523546320000           0             0             4   \n4  1523546325000           0       1024000             4   \n\n   ioActiveProcessCount  min  max  accelerated  accelPossible  \\\n0                    12    4   21         2432            337   \n1                    10    4   21         2525            599   \n2                     6    4   21          546            103   \n3                     0    4   21            0              0   \n4                     1    4   21            0              1   \n\n   accelImpossible  ...  IODurationWriteRange8  IODurationWriteRange9  \\\n0               11  ...                    167                     30   \n1                0  ...                    230                      5   \n2                1  ...                     46                      0   \n3                0  ...                      0                      0   \n4                1  ...                      0                      0   \n\n   IODurationWriteRange10  IODurationWriteRange11  IODurationWriteRange12  \\\n0                       0                       0                       0   \n1                       0                       0                       0   \n2                       0                       0                       0   \n3                       0                       0                       0   \n4                       0                       0                       0   \n\n   IODurationWriteRange13  IODurationWriteRange14  IODurationWriteRange15  \\\n0                       0                       0                       0   \n1                       0                       0                       0   \n2                       0                       0                       0   \n3                       0                       0                       0   \n4                       0                       0                       0   \n\n   operationRead  operationWrite  \n0           2582             198  \n1           2422             702  \n2              0             650  \n3              0               0  \n4              0               2  \n\n[5 rows x 71 columns]",
      "text/html": "<div>\n<style scoped>\n    .dataframe tbody tr th:only-of-type {\n        vertical-align: middle;\n    }\n\n    .dataframe tbody tr th {\n        vertical-align: top;\n    }\n\n    .dataframe thead th {\n        text-align: right;\n    }\n</style>\n<table border=\"1\" class=\"dataframe\">\n  <thead>\n    <tr style=\"text-align: right;\">\n      <th></th>\n      <th>timestamp</th>\n      <th>bytesRead</th>\n      <th>bytesWritten</th>\n      <th>processCount</th>\n      <th>ioActiveProcessCount</th>\n      <th>min</th>\n      <th>max</th>\n      <th>accelerated</th>\n      <th>accelPossible</th>\n      <th>accelImpossible</th>\n      <th>...</th>\n      <th>IODurationWriteRange8</th>\n      <th>IODurationWriteRange9</th>\n      <th>IODurationWriteRange10</th>\n      <th>IODurationWriteRange11</th>\n      <th>IODurationWriteRange12</th>\n      <th>IODurationWriteRange13</th>\n      <th>IODurationWriteRange14</th>\n      <th>IODurationWriteRange15</th>\n      <th>operationRead</th>\n      <th>operationWrite</th>\n    </tr>\n  </thead>\n  <tbody>\n    <tr>\n      <th>0</th>\n      <td>1523546305000</td>\n      <td>2703237546</td>\n      <td>194203648</td>\n      <td>14</td>\n      <td>12</td>\n      <td>4</td>\n      <td>21</td>\n      <td>2432</td>\n      <td>337</td>\n      <td>11</td>\n      <td>...</td>\n      <td>167</td>\n      <td>30</td>\n      <td>0</td>\n      <td>0</td>\n      <td>0</td>\n      <td>0</td>\n      <td>0</td>\n      <td>0</td>\n      <td>2582</td>\n      <td>198</td>\n    </tr>\n    <tr>\n      <th>1</th>\n      <td>1523546310000</td>\n      <td>2539651072</td>\n      <td>736100352</td>\n      <td>14</td>\n      <td>10</td>\n      <td>4</td>\n      <td>21</td>\n      <td>2525</td>\n      <td>599</td>\n      <td>0</td>\n      <td>...</td>\n      <td>230</td>\n      <td>5</td>\n      <td>0</td>\n      <td>0</td>\n      <td>0</td>\n      <td>0</td>\n      <td>0</td>\n      <td>0</td>\n      <td>2422</td>\n      <td>702</td>\n    </tr>\n    <tr>\n      <th>2</th>\n      <td>1523546315000</td>\n      <td>0</td>\n      <td>668160000</td>\n      <td>9</td>\n      <td>6</td>\n      <td>4</td>\n      <td>21</td>\n      <td>546</td>\n      <td>103</td>\n      <td>1</td>\n      <td>...</td>\n      <td>46</td>\n      <td>0</td>\n      <td>0</td>\n      <td>0</td>\n      <td>0</td>\n      <td>0</td>\n      <td>0</td>\n      <td>0</td>\n      <td>0</td>\n      <td>650</td>\n    </tr>\n    <tr>\n      <th>3</th>\n      <td>1523546320000</td>\n      <td>0</td>\n      <td>0</td>\n      <td>4</td>\n      <td>0</td>\n      <td>4</td>\n      <td>21</td>\n      <td>0</td>\n      <td>0</td>\n      <td>0</td>\n      <td>...</td>\n      <td>0</td>\n      <td>0</td>\n      <td>0</td>\n      <td>0</td>\n      <td>0</td>\n      <td>0</td>\n      <td>0</td>\n      <td>0</td>\n      <td>0</td>\n      <td>0</td>\n    </tr>\n    <tr>\n      <th>4</th>\n      <td>1523546325000</td>\n      <td>0</td>\n      <td>1024000</td>\n      <td>4</td>\n      <td>1</td>\n      <td>4</td>\n      <td>21</td>\n      <td>0</td>\n      <td>1</td>\n      <td>1</td>\n      <td>...</td>\n      <td>0</td>\n      <td>0</td>\n      <td>0</td>\n      <td>0</td>\n      <td>0</td>\n      <td>0</td>\n      <td>0</td>\n      <td>0</td>\n      <td>0</td>\n      <td>2</td>\n    </tr>\n  </tbody>\n</table>\n<p>5 rows × 71 columns</p>\n</div>"
     },
     "metadata": {},
     "execution_count": 52
    }
   ],
   "source": [
    "df1.head()\n",
    "#df2.head()"
   ]
  },
  {
   "cell_type": "code",
   "execution_count": 26,
   "metadata": {},
   "outputs": [
    {
     "output_type": "execute_result",
     "data": {
      "text/plain": "Empty DataFrame\nColumns: []\nIndex: []",
      "text/html": "<div>\n<style scoped>\n    .dataframe tbody tr th:only-of-type {\n        vertical-align: middle;\n    }\n\n    .dataframe tbody tr th {\n        vertical-align: top;\n    }\n\n    .dataframe thead th {\n        text-align: right;\n    }\n</style>\n<table border=\"1\" class=\"dataframe\">\n  <thead>\n    <tr style=\"text-align: right;\">\n      <th></th>\n    </tr>\n  </thead>\n  <tbody>\n  </tbody>\n</table>\n</div>"
     },
     "metadata": {},
     "execution_count": 26
    }
   ],
   "source": [
    "d = pd.DataFrame()\n",
    "\n",
    "d.join(pd.DataFrame(data))\n",
    "d.head()\n",
    "\n"
   ]
  },
  {
   "cell_type": "code",
   "execution_count": 38,
   "metadata": {
    "tags": [
     "outputPrepend"
    ]
   },
   "outputs": [
    {
     "output_type": "stream",
     "name": "stdout",
     "text": "\":\"roberts\",\"startTime\":{\"sec\":1580691200,\"usec\":0},\"program\":\"job_1578857882_shaman_header.sbatch\",\"cmdLine\":\"\\\\/home_nfs\\\\/roberts\\\\/time_series_regression\\\\/fakeapp_experiment\\\\/scenario_1\\\\/read_09\\\\/large\\\\/job_1578857882_shaman_header.sbatch\",\"jobname\":\"sc1_read09_large\",\"accelerators\":{\"SRO\":{\"parameters\":[],\"label\":\"Small Read Optimizer\"}},\"endTime\":{\"sec\":1580692980,\"usec\":0},\"duration\":1780,\"jobidString\":\"12865\",\"iopa\":[],\"id\":\"5e376f45928715c8ce9f9229\"},{\"_id\":[],\"jobid\":12868,\"uid\":16214,\"username\":\"roberts\",\"program\":\"job_1578857882_shaman_header.sbatch\",\"cmdLine\":\"\\\\/home_nfs\\\\/roberts\\\\/time_series_regression\\\\/fakeapp_experiment\\\\/scenario_1\\\\/read_09\\\\/large\\\\/job_1578857882_shaman_header.sbatch\",\"jobname\":\"sc1_read09_large\",\"accelerators\":{\"SRO\":{\"parameters\":[],\"label\":\"Small Read Optimizer\"}},\"startTime\":{\"sec\":1580692980,\"usec\":0},\"endTime\":{\"sec\":1580694740,\"usec\":0},\"duration\":1760,\"jobidString\":\"12868\",\"iopa\":[],\"id\":\"5e377639928715c8ce9f946c\"},{\"_id\":[],\"jobid\":12873,\"startTime\":{\"sec\":1580694740,\"usec\":0},\"uid\":16214,\"username\":\"roberts\",\"program\":\"job_1578857882_shaman_header.sbatch\",\"cmdLine\":\"\\\\/home_nfs\\\\/roberts\\\\/time_series_regression\\\\/fakeapp_experiment\\\\/scenario_1\\\\/read_09\\\\/large\\\\/job_1578857882_shaman_header.sbatch\",\"jobname\":\"sc1_read09_large\",\"accelerators\":{\"SRO\":{\"parameters\":[],\"label\":\"Small Read Optimizer\"}},\"endTime\":{\"sec\":1580696690,\"usec\":0},\"duration\":1950,\"jobidString\":\"12873\",\"iopa\":[],\"id\":\"5e377d1a928715c8ce9f9675\"},{\"_id\":[],\"jobid\":12877,\"uid\":16214,\"username\":\"roberts\",\"program\":\"job_1578857882_shaman_header.sbatch\",\"cmdLine\":\"\\\\/home_nfs\\\\/roberts\\\\/time_series_regression\\\\/fakeapp_experiment\\\\/scenario_1\\\\/read_09\\\\/large\\\\/job_1578857882_shaman_header.sbatch\",\"jobname\":\"sc1_read09_large\",\"accelerators\":{\"SRO\":{\"parameters\":[],\"label\":\"Small Read Optimizer\"}},\"startTime\":{\"sec\":1580696690,\"usec\":0},\"endTime\":{\"sec\":1580698645,\"usec\":0},\"duration\":1955,\"jobidString\":\"12877\",\"iopa\":[],\"id\":\"5e3784b8928715c8ce9f985d\"},{\"_id\":[],\"jobid\":12882,\"uid\":16214,\"username\":\"roberts\",\"startTime\":{\"sec\":1580698640,\"usec\":0},\"program\":\"job_1578857882_shaman_header.sbatch\",\"cmdLine\":\"\\\\/home_nfs\\\\/roberts\\\\/time_series_regression\\\\/fakeapp_experiment\\\\/scenario_1\\\\/read_09\\\\/large\\\\/job_1578857882_shaman_header.sbatch\",\"jobname\":\"sc1_read09_large\",\"accelerators\":{\"SRO\":{\"parameters\":[],\"label\":\"Small Read Optimizer\"}},\"endTime\":{\"sec\":1580700505,\"usec\":0},\"duration\":1865,\"jobidString\":\"12882\",\"iopa\":[],\"id\":\"5e378c56928715c8ce9f9a84\"},{\"_id\":[],\"jobid\":12887,\"uid\":16214,\"username\":\"roberts\",\"startTime\":{\"sec\":1580700505,\"usec\":0},\"program\":\"job_1578857882_shaman_header.sbatch\",\"cmdLine\":\"\\\\/home_nfs\\\\/roberts\\\\/time_series_regression\\\\/fakeapp_experiment\\\\/scenario_1\\\\/read_09\\\\/large\\\\/job_1578857882_shaman_header.sbatch\",\"jobname\":\"sc1_read09_large\",\"accelerators\":{\"SRO\":{\"parameters\":[],\"label\":\"Small Read Optimizer\"}},\"endTime\":{\"sec\":1580702210,\"usec\":0},\"duration\":1705,\"jobidString\":\"12887\",\"iopa\":[],\"id\":\"5e37939b928715c8ce9f9cc8\"},{\"_id\":[],\"jobid\":12891,\"uid\":16214,\"username\":\"roberts\",\"startTime\":{\"sec\":1580702205,\"usec\":0},\"program\":\"job_1578857882_shaman_header.sbatch\",\"cmdLine\":\"\\\\/home_nfs\\\\/roberts\\\\/time_series_regression\\\\/fakeapp_experiment\\\\/scenario_1\\\\/read_09\\\\/large\\\\/job_1578857882_shaman_header.sbatch\",\"jobname\":\"sc1_read09_large\",\"accelerators\":{\"SRO\":{\"parameters\":[],\"label\":\"Small Read Optimizer\"}},\"endTime\":{\"sec\":1580703710,\"usec\":0},\"duration\":1505,\"jobidString\":\"12891\",\"iopa\":[],\"id\":\"5e379a40928715c8ce9f9ed6\"},{\"_id\":[],\"jobid\":12894,\"uid\":16214,\"username\":\"roberts\",\"startTime\":{\"sec\":1580703715,\"usec\":0},\"program\":\"job_1578857882_shaman_header.sbatch\",\"cmdLine\":\"\\\\/home_nfs\\\\/roberts\\\\/time_series_regression\\\\/fakeapp_experiment\\\\/scenario_1\\\\/read_09\\\\/large\\\\/job_1578857882_shaman_header.sbatch\",\"jobname\":\"sc1_read09_large\",\"accelerators\":{\"SRO\":{\"parameters\":[],\"label\":\"Small Read Optimizer\"}},\"endTime\":{\"sec\":1580705130,\"usec\":0},\"duration\":1415,\"jobidString\":\"12894\",\"iopa\":[],\"id\":\"5e37a025928715c8ce9fa0c1\"},{\"_id\":[],\"jobid\":12898,\"uid\":16214,\"username\":\"roberts\",\"startTime\":{\"sec\":1580705135,\"usec\":0},\"program\":\"job_1578857882_shaman_header.sbatch\",\"cmdLine\":\"\\\\/home_nfs\\\\/roberts\\\\/time_series_regression\\\\/fakeapp_experiment\\\\/scenario_1\\\\/read_09\\\\/large\\\\/job_1578857882_shaman_header.sbatch\",\"jobname\":\"sc1_read09_large\",\"accelerators\":{\"SRO\":{\"parameters\":[],\"label\":\"Small Read Optimizer\"}},\"endTime\":{\"sec\":1580707165,\"usec\":0},\"duration\":2030,\"jobidString\":\"12898\",\"iopa\":[],\"id\":\"5e37a5b1928715c8ce9fa2f2\"},{\"_id\":[],\"jobid\":12904,\"uid\":16214,\"username\":\"roberts\",\"startTime\":{\"sec\":1580707165,\"usec\":0},\"program\":\"job_1578857882_shaman_header.sbatch\",\"cmdLine\":\"\\\\/home_nfs\\\\/roberts\\\\/time_series_regression\\\\/fakeapp_experiment\\\\/scenario_1\\\\/read_09\\\\/large\\\\/job_1578857882_shaman_header.sbatch\",\"jobname\":\"sc1_read09_large\",\"accelerators\":{\"SRO\":{\"parameters\":[],\"label\":\"Small Read Optimizer\"}},\"endTime\":{\"sec\":1580708975,\"usec\":0},\"duration\":1810,\"jobidString\":\"12904\",\"iopa\":[],\"id\":\"5e37ad9f928715c8ce9fa52f\"},{\"_id\":[],\"jobid\":12907,\"startTime\":{\"sec\":1580708975,\"usec\":0},\"uid\":16214,\"username\":\"roberts\",\"program\":\"job_1578857882_shaman_header.sbatch\",\"cmdLine\":\"\\\\/home_nfs\\\\/roberts\\\\/time_series_regression\\\\/fakeapp_experiment\\\\/scenario_1\\\\/read_09\\\\/large\\\\/job_1578857882_shaman_header.sbatch\",\"jobname\":\"sc1_read09_large\",\"accelerators\":{\"SRO\":{\"parameters\":[],\"label\":\"Small Read Optimizer\"}},\"endTime\":{\"sec\":1580710930,\"usec\":0},\"duration\":1955,\"jobidString\":\"12907\",\"iopa\":[],\"id\":\"5e37b4b2928715c8ce9fa74c\"},{\"_id\":[],\"jobid\":12912,\"uid\":16214,\"username\":\"roberts\",\"startTime\":{\"sec\":1580710935,\"usec\":0},\"program\":\"job_1578857882_shaman_header.sbatch\",\"cmdLine\":\"\\\\/home_nfs\\\\/roberts\\\\/time_series_regression\\\\/fakeapp_experiment\\\\/scenario_1\\\\/read_09\\\\/large\\\\/job_1578857882_shaman_header.sbatch\",\"jobname\":\"sc1_read09_large\",\"accelerators\":{\"SRO\":{\"parameters\":[],\"label\":\"Small Read Optimizer\"}},\"endTime\":{\"sec\":1580712800,\"usec\":0},\"duration\":1865,\"jobidString\":\"12912\",\"iopa\":[],\"id\":\"5e37bc5a928715c8ce9fa9fb\"},{\"_id\":[],\"jobid\":12916,\"startTime\":{\"sec\":1580712795,\"usec\":0},\"program\":\"job_1578857882_shaman_header.sbatch\",\"cmdLine\":\"\\\\/home_nfs\\\\/roberts\\\\/time_series_regression\\\\/fakeapp_experiment\\\\/scenario_1\\\\/read_09\\\\/large\\\\/job_1578857882_shaman_header.sbatch\",\"jobname\":\"sc1_read09_large\",\"accelerators\":{\"SRO\":{\"parameters\":[],\"label\":\"Small Read Optimizer\"}},\"uid\":16214,\"username\":\"roberts\",\"endTime\":{\"sec\":1580714625,\"usec\":0},\"duration\":1830,\"jobidString\":\"12916\",\"iopa\":[],\"id\":\"5e37c39e928715c8ce9fac75\"},{\"_id\":[],\"jobid\":12920,\"uid\":16214,\"username\":\"roberts\",\"startTime\":{\"sec\":1580714625,\"usec\":0},\"program\":\"job_1578857882_shaman_header.sbatch\",\"cmdLine\":\"\\\\/home_nfs\\\\/roberts\\\\/time_series_regression\\\\/fakeapp_experiment\\\\/scenario_1\\\\/read_09\\\\/large\\\\/job_1578857882_shaman_header.sbatch\",\"jobname\":\"sc1_read09_large\",\"accelerators\":{\"SRO\":{\"parameters\":[],\"label\":\"Small Read Optimizer\"}},\"endTime\":{\"sec\":1580716485,\"usec\":0},\"duration\":1860,\"jobidString\":\"12920\",\"iopa\":[],\"id\":\"5e37cac5928715c8ce9faed1\"},{\"_id\":[],\"jobid\":12926,\"uid\":16214,\"username\":\"roberts\",\"startTime\":{\"sec\":1580716485,\"usec\":0},\"program\":\"job_1578857882_shaman_header.sbatch\",\"cmdLine\":\"\\\\/home_nfs\\\\/roberts\\\\/time_series_regression\\\\/fakeapp_experiment\\\\/scenario_1\\\\/read_09\\\\/large\\\\/job_1578857882_shaman_header.sbatch\",\"jobname\":\"sc1_read09_large\",\"accelerators\":{\"SRO\":{\"parameters\":[],\"label\":\"Small Read Optimizer\"}},\"endTime\":{\"sec\":1580718340,\"usec\":0},\"duration\":1855,\"jobidString\":\"12926\",\"iopa\":[],\"id\":\"5e37d208928715c8ce9fb150\"},{\"_id\":[],\"jobid\":12929,\"uid\":16214,\"username\":\"roberts\",\"startTime\":{\"sec\":1580718335,\"usec\":0},\"program\":\"job_1578857882_shaman_header.sbatch\",\"cmdLine\":\"\\\\/home_nfs\\\\/roberts\\\\/time_series_regression\\\\/fakeapp_experiment\\\\/scenario_1\\\\/read_09\\\\/large\\\\/job_1578857882_shaman_header.sbatch\",\"jobname\":\"sc1_read09_large\",\"accelerators\":{\"SRO\":{\"parameters\":[],\"label\":\"Small Read Optimizer\"}},\"endTime\":{\"sec\":1580720300,\"usec\":0},\"duration\":1965,\"jobidString\":\"12929\",\"iopa\":[],\"id\":\"5e37d942928715c8ce9fb353\"},{\"_id\":[],\"jobid\":12934,\"uid\":16214,\"username\":\"roberts\",\"startTime\":{\"sec\":1580720295,\"usec\":0},\"program\":\"job_1578857882_shaman_header.sbatch\",\"cmdLine\":\"\\\\/home_nfs\\\\/roberts\\\\/time_series_regression\\\\/fakeapp_experiment\\\\/scenario_1\\\\/read_09\\\\/large\\\\/job_1578857882_shaman_header.sbatch\",\"jobname\":\"sc1_read09_large\",\"accelerators\":{\"SRO\":{\"parameters\":[],\"label\":\"Small Read Optimizer\"}},\"endTime\":{\"sec\":1580722150,\"usec\":0},\"duration\":1855,\"jobidString\":\"12934\",\"iopa\":[],\"id\":\"5e37e0eb928715c8ce9fb5a6\"},{\"_id\":[],\"jobid\":12938,\"uid\":16214,\"username\":\"roberts\",\"startTime\":{\"sec\":1580722155,\"usec\":0},\"program\":\"job_1578857882_shaman_header.sbatch\",\"cmdLine\":\"\\\\/home_nfs\\\\/roberts\\\\/time_series_regression\\\\/fakeapp_experiment\\\\/scenario_1\\\\/read_09\\\\/large\\\\/job_1578857882_shaman_header.sbatch\",\"jobname\":\"sc1_read09_large\",\"accelerators\":{\"SRO\":{\"parameters\":[],\"label\":\"Small Read Optimizer\"}},\"endTime\":{\"sec\":1580723990,\"usec\":0},\"duration\":1835,\"jobidString\":\"12938\",\"iopa\":[],\"id\":\"5e37e82f928715c8ce9fb753\"},{\"_id\":[],\"jobid\":12944,\"uid\":16214,\"username\":\"roberts\",\"startTime\":{\"sec\":1580723985,\"usec\":0},\"program\":\"job_1578857882_shaman_header.sbatch\",\"cmdLine\":\"\\\\/home_nfs\\\\/roberts\\\\/time_series_regression\\\\/fakeapp_experiment\\\\/scenario_1\\\\/read_09\\\\/large\\\\/job_1578857882_shaman_header.sbatch\",\"jobname\":\"sc1_read09_large\",\"accelerators\":{\"SRO\":{\"parameters\":[],\"label\":\"Small Read Optimizer\"}},\"endTime\":{\"sec\":1580725434,\"usec\":0},\"duration\":1449,\"jobidString\":\"12944\",\"iopa\":[],\"id\":\"5e37ef55928715c8ce9fb933\"},{\"_id\":[],\"jobid\":12949,\"uid\":16214,\"username\":\"roberts\",\"startTime\":{\"sec\":1580725435,\"usec\":0},\"program\":\"job_1578857882_shaman_header.sbatch\",\"cmdLine\":\"\\\\/home_nfs\\\\/roberts\\\\/time_series_regression\\\\/fakeapp_experiment\\\\/scenario_1\\\\/read_09\\\\/large\\\\/job_1578857882_shaman_header.sbatch\",\"jobname\":\"sc1_read09_large\",\"accelerators\":{\"SRO\":{\"parameters\":[],\"label\":\"Small Read Optimizer\"}},\"endTime\":{\"sec\":1580726865,\"usec\":0},\"duration\":1430,\"jobidString\":\"12949\",\"iopa\":[],\"id\":\"5e37f4ff928715c8ce9fbab5\"},{\"_id\":[],\"jobid\":12952,\"uid\":16214,\"username\":\"roberts\",\"startTime\":{\"sec\":1580726865,\"usec\":0},\"program\":\"job_1578857882_shaman_header.sbatch\",\"cmdLine\":\"\\\\/home_nfs\\\\/roberts\\\\/time_series_regression\\\\/fakeapp_experiment\\\\/scenario_1\\\\/read_09\\\\/large\\\\/job_1578857882_shaman_header.sbatch\",\"jobname\":\"sc1_read09_large\",\"accelerators\":{\"SRO\":{\"parameters\":[],\"label\":\"Small Read Optimizer\"}},\"endTime\":{\"sec\":1580728135,\"usec\":0},\"duration\":1270,\"jobidString\":\"12952\",\"iopa\":[],\"id\":\"5e37fa95928715c8ce9fbc47\"},{\"_id\":[],\"jobid\":12955,\"startTime\":{\"sec\":1580728135,\"usec\":0},\"program\":\"job_1578857882_shaman_header.sbatch\",\"cmdLine\":\"\\\\/home_nfs\\\\/roberts\\\\/time_series_regression\\\\/fakeapp_experiment\\\\/scenario_1\\\\/read_09\\\\/large\\\\/job_1578857882_shaman_header.sbatch\",\"jobname\":\"sc1_read09_large\",\"accelerators\":{\"SRO\":{\"parameters\":[],\"label\":\"Small Read Optimizer\"}},\"uid\":16214,\"username\":\"roberts\",\"endTime\":{\"sec\":1580729415,\"usec\":0},\"duration\":1280,\"jobidString\":\"12955\",\"iopa\":[],\"id\":\"5e37ff8c928715c8ce9fbdda\"},{\"_id\":[],\"jobid\":12958,\"uid\":16214,\"username\":\"roberts\",\"startTime\":{\"sec\":1580729415,\"usec\":0},\"program\":\"job_1578857882_shaman_header.sbatch\",\"cmdLine\":\"\\\\/home_nfs\\\\/roberts\\\\/time_series_regression\\\\/fakeapp_experiment\\\\/scenario_1\\\\/read_09\\\\/large\\\\/job_1578857882_shaman_header.sbatch\",\"jobname\":\"sc1_read09_large\",\"accelerators\":{\"SRO\":{\"parameters\":[],\"label\":\"Small Read Optimizer\"}},\"endTime\":{\"sec\":1580730195,\"usec\":0},\"duration\":780,\"jobidString\":\"12958\",\"iopa\":[],\"id\":\"5e38048c928715c8ce9fbf6d\"},{\"_id\":[],\"jobid\":12959,\"uid\":16214,\"username\":\"roberts\",\"startTime\":{\"sec\":1580730195,\"usec\":0},\"program\":\"job_1578857882_shaman_header.sbatch\",\"cmdLine\":\"\\\\/home_nfs\\\\/roberts\\\\/time_series_regression\\\\/fakeapp_experiment\\\\/scenario_1\\\\/read_09\\\\/large\\\\/job_1578857882_shaman_header.sbatch\",\"jobname\":\"sc1_read09_large\",\"accelerators\":{\"SRO\":{\"parameters\":[],\"label\":\"Small Read Optimizer\"}},\"endTime\":{\"sec\":1580731405,\"usec\":0},\"duration\":1210,\"jobidString\":\"12959\",\"iopa\":[],\"id\":\"5e380799928715c8ce9fc05e\"},{\"_id\":[],\"jobid\":12963,\"uid\":16214,\"username\":\"roberts\",\"startTime\":{\"sec\":1580731405,\"usec\":0},\"program\":\"job_1578857882_shaman_header.sbatch\",\"cmdLine\":\"\\\\/home_nfs\\\\/roberts\\\\/time_series_regression\\\\/fakeapp_experiment\\\\/scenario_1\\\\/read_09\\\\/large\\\\/job_1578857882_shaman_header.sbatch\",\"jobname\":\"sc1_read09_large\",\"accelerators\":{\"SRO\":{\"parameters\":[],\"label\":\"Small Read Optimizer\"}},\"endTime\":{\"sec\":1580732905,\"usec\":0},\"duration\":1500,\"jobidString\":\"12963\",\"iopa\":[],\"id\":\"5e380c53928715c8ce9fc1bb\"},{\"_id\":[],\"jobid\":12966,\"uid\":16214,\"username\":\"roberts\",\"startTime\":{\"sec\":1580732905,\"usec\":0},\"program\":\"job_1578857882_shaman_header.sbatch\",\"cmdLine\":\"\\\\/home_nfs\\\\/roberts\\\\/time_series_regression\\\\/fakeapp_experiment\\\\/scenario_1\\\\/read_09\\\\/large\\\\/job_1578857882_shaman_header.sbatch\",\"jobname\":\"sc1_read09_large\",\"accelerators\":{\"SRO\":{\"parameters\":[],\"label\":\"Small Read Optimizer\"}},\"endTime\":{\"sec\":1580733955,\"usec\":0},\"duration\":1050,\"jobidString\":\"12966\",\"iopa\":[],\"id\":\"5e38122f928715c8ce9fc33c\"},{\"_id\":[],\"jobid\":12970,\"uid\":16214,\"username\":\"roberts\",\"startTime\":{\"sec\":1580733955,\"usec\":0},\"program\":\"job_1578857882_shaman_header.sbatch\",\"cmdLine\":\"\\\\/home_nfs\\\\/roberts\\\\/time_series_regression\\\\/fakeapp_experiment\\\\/scenario_1\\\\/read_09\\\\/large\\\\/job_1578857882_shaman_header.sbatch\",\"jobname\":\"sc1_read09_large\",\"accelerators\":{\"SRO\":{\"parameters\":[],\"label\":\"Small Read Optimizer\"}},\"endTime\":{\"sec\":1580734595,\"usec\":0},\"duration\":640,\"jobidString\":\"12970\",\"iopa\":[],\"id\":\"5e381648928715c8ce9fc465\"},{\"_id\":[],\"jobid\":12972,\"uid\":16214,\"username\":\"roberts\",\"program\":\"job_1578857882_shaman_header.sbatch\",\"cmdLine\":\"\\\\/home_nfs\\\\/roberts\\\\/time_series_regression\\\\/fakeapp_experiment\\\\/scenario_1\\\\/read_09\\\\/large\\\\/job_1578857882_shaman_header.sbatch\",\"jobname\":\"sc1_read09_large\",\"accelerators\":{\"SRO\":{\"parameters\":[],\"label\":\"Small Read Optimizer\"}},\"startTime\":{\"sec\":1580734595,\"usec\":0},\"endTime\":{\"sec\":1580734995,\"usec\":0},\"duration\":400,\"jobidString\":\"12972\",\"iopa\":[],\"id\":\"5e3818c9928715c8ce9fc563\"},{\"_id\":[],\"jobid\":12973,\"uid\":16214,\"username\":\"roberts\",\"startTime\":{\"sec\":1580734995,\"usec\":0},\"program\":\"job_1578857882_shaman_header.sbatch\",\"cmdLine\":\"\\\\/home_nfs\\\\/roberts\\\\/time_series_regression\\\\/fakeapp_experiment\\\\/scenario_1\\\\/read_09\\\\/large\\\\/job_1578857882_shaman_header.sbatch\",\"jobname\":\"sc1_read09_large\",\"accelerators\":{\"SRO\":{\"parameters\":[],\"label\":\"Small Read Optimizer\"}},\"endTime\":{\"sec\":1580735805,\"usec\":0},\"duration\":810,\"jobidString\":\"12973\",\"iopa\":[],\"id\":\"5e381a59928715c8ce9fc61b\"},{\"_id\":[],\"jobid\":12976,\"uid\":16214,\"username\":\"roberts\",\"startTime\":{\"sec\":1580735805,\"usec\":0},\"program\":\"job_1578857882_shaman_header.sbatch\",\"cmdLine\":\"\\\\/home_nfs\\\\/roberts\\\\/time_series_regression\\\\/fakeapp_experiment\\\\/scenario_1\\\\/read_09\\\\/large\\\\/job_1578857882_shaman_header.sbatch\",\"jobname\":\"sc1_read09_large\",\"accelerators\":{\"SRO\":{\"parameters\":[],\"label\":\"Small Read Optimizer\"}},\"endTime\":{\"sec\":1580737710,\"usec\":0},\"duration\":1905,\"jobidString\":\"12976\",\"iopa\":[],\"id\":\"5e381d83928715c8ce9fc773\"},{\"_id\":[],\"jobid\":12982,\"uid\":16214,\"username\":\"roberts\",\"startTime\":{\"sec\":1580737705,\"usec\":0},\"program\":\"job_1578857882_shaman_header.sbatch\",\"cmdLine\":\"\\\\/home_nfs\\\\/roberts\\\\/time_series_regression\\\\/fakeapp_experiment\\\\/scenario_1\\\\/read_09\\\\/large\\\\/job_1578857882_shaman_header.sbatch\",\"jobname\":\"sc1_read09_large\",\"accelerators\":{\"SRO\":{\"parameters\":[],\"label\":\"Small Read Optimizer\"}},\"endTime\":{\"sec\":1580739725,\"usec\":0},\"duration\":2020,\"jobidString\":\"12982\",\"iopa\":[],\"id\":\"5e3824ef928715c8ce9fca08\"},{\"_id\":[],\"jobid\":12986,\"uid\":16214,\"username\":\"roberts\",\"startTime\":{\"sec\":1580739725,\"usec\":0},\"program\":\"job_1578857882_shaman_header.sbatch\",\"cmdLine\":\"\\\\/home_nfs\\\\/roberts\\\\/time_series_regression\\\\/fakeapp_experiment\\\\/scenario_1\\\\/read_09\\\\/large\\\\/job_1578857882_shaman_header.sbatch\",\"jobname\":\"sc1_read09_large\",\"accelerators\":{\"SRO\":{\"parameters\":[],\"label\":\"Small Read Optimizer\"}},\"endTime\":{\"sec\":1580741280,\"usec\":0},\"duration\":1555,\"jobidString\":\"12986\",\"iopa\":[],\"id\":\"5e382cd3928715c8ce9fccce\"},{\"_id\":[],\"jobid\":12991,\"uid\":16214,\"username\":\"roberts\",\"program\":\"job_1578857882_shaman_header.sbatch\",\"cmdLine\":\"\\\\/home_nfs\\\\/roberts\\\\/time_series_regression\\\\/fakeapp_experiment\\\\/scenario_1\\\\/read_09\\\\/large\\\\/job_1578857882_shaman_header.sbatch\",\"jobname\":\"sc1_read09_large\",\"accelerators\":{\"SRO\":{\"parameters\":[],\"label\":\"Small Read Optimizer\"}},\"startTime\":{\"sec\":1580741275,\"usec\":0},\"endTime\":{\"sec\":1580743105,\"usec\":0},\"duration\":1830,\"jobidString\":\"12991\",\"iopa\":[],\"id\":\"5e3832e1928715c8ce9fcf73\"},{\"_id\":[],\"jobid\":12996,\"uid\":16214,\"username\":\"roberts\",\"startTime\":{\"sec\":1580743105,\"usec\":0},\"program\":\"job_1578857882_shaman_header.sbatch\",\"cmdLine\":\"\\\\/home_nfs\\\\/roberts\\\\/time_series_regression\\\\/fakeapp_experiment\\\\/scenario_1\\\\/read_09\\\\/large\\\\/job_1578857882_shaman_header.sbatch\",\"jobname\":\"sc1_read09_large\",\"accelerators\":{\"SRO\":{\"parameters\":[],\"label\":\"Small Read Optimizer\"}},\"endTime\":{\"sec\":1580744750,\"usec\":0},\"duration\":1645,\"jobidString\":\"12996\",\"iopa\":[],\"id\":\"5e383a08928715c8ce9fd232\"},{\"_id\":[],\"jobid\":12999,\"uid\":16214,\"username\":\"roberts\",\"startTime\":{\"sec\":1580744750,\"usec\":0},\"program\":\"job_1578857882_shaman_header.sbatch\",\"cmdLine\":\"\\\\/home_nfs\\\\/roberts\\\\/time_series_regression\\\\/fakeapp_experiment\\\\/scenario_1\\\\/read_09\\\\/large\\\\/job_1578857882_shaman_header.sbatch\",\"jobname\":\"sc1_read09_large\",\"accelerators\":{\"SRO\":{\"parameters\":[],\"label\":\"Small Read Optimizer\"}},\"endTime\":{\"sec\":1580745835,\"usec\":0},\"duration\":1085,\"jobidString\":\"12999\",\"iopa\":[],\"id\":\"5e384070928715c8ce9fd454\"},{\"_id\":[],\"jobid\":13003,\"uid\":16214,\"username\":\"roberts\",\"startTime\":{\"sec\":1580745840,\"usec\":0},\"program\":\"job_1578857882_shaman_header.sbatch\",\"cmdLine\":\"\\\\/home_nfs\\\\/roberts\\\\/time_series_regression\\\\/fakeapp_experiment\\\\/scenario_1\\\\/read_09\\\\/large\\\\/job_1578857882_shaman_header.sbatch\",\"jobname\":\"sc1_read09_large\",\"accelerators\":{\"SRO\":{\"parameters\":[],\"label\":\"Small Read Optimizer\"}},\"endTime\":{\"sec\":1580747095,\"usec\":0},\"duration\":1255,\"jobidString\":\"13003\",\"iopa\":[],\"id\":\"5e3844b3928715c8ce9fd5e8\"},{\"_id\":[],\"jobid\":13005,\"uid\":16214,\"username\":\"roberts\",\"startTime\":{\"sec\":1580747100,\"usec\":0},\"program\":\"job_1578857882_shaman_header.sbatch\",\"cmdLine\":\"\\\\/home_nfs\\\\/roberts\\\\/time_series_regression\\\\/fakeapp_experiment\\\\/scenario_1\\\\/read_09\\\\/large\\\\/job_1578857882_shaman_header.sbatch\",\"jobname\":\"sc1_read09_large\",\"accelerators\":{\"SRO\":{\"parameters\":[],\"label\":\"Small Read Optimizer\"}},\"endTime\":{\"sec\":1580748100,\"usec\":0},\"duration\":1000,\"jobidString\":\"13005\",\"iopa\":[],\"id\":\"5e38499f928715c8ce9fd798\"},{\"_id\":[],\"jobid\":13008,\"uid\":16214,\"username\":\"roberts\",\"program\":\"job_1578857882_shaman_header.sbatch\",\"cmdLine\":\"\\\\/home_nfs\\\\/roberts\\\\/time_series_regression\\\\/fakeapp_experiment\\\\/scenario_1\\\\/read_09\\\\/large\\\\/job_1578857882_shaman_header.sbatch\",\"jobname\":\"sc1_read09_large\",\"accelerators\":{\"SRO\":{\"parameters\":[],\"label\":\"Small Read Optimizer\"}},\"startTime\":{\"sec\":1580748100,\"usec\":0},\"endTime\":{\"sec\":1580749630,\"usec\":0},\"duration\":1530,\"jobidString\":\"13008\",\"iopa\":[],\"id\":\"5e384d86928715c8ce9fd921\"},{\"_id\":[],\"jobid\":13013,\"uid\":16214,\"username\":\"roberts\",\"startTime\":{\"sec\":1580749630,\"usec\":0},\"program\":\"job_1578857882_shaman_header.sbatch\",\"cmdLine\":\"\\\\/home_nfs\\\\/roberts\\\\/time_series_regression\\\\/fakeapp_experiment\\\\/scenario_1\\\\/read_09\\\\/large\\\\/job_1578857882_shaman_header.sbatch\",\"jobname\":\"sc1_read09_large\",\"accelerators\":{\"SRO\":{\"parameters\":[],\"label\":\"Small Read Optimizer\"}},\"endTime\":{\"sec\":1580750655,\"usec\":0},\"duration\":1025,\"jobidString\":\"13013\",\"iopa\":[],\"id\":\"5e385380928715c8ce9fdb39\"}]}'\n"
    }
   ],
   "source": [
    "# Getting all jobs from active db\n",
    "api_uri = \"http://localhost:80\"\n",
    "api_token = \"3f9f66fbdb1f2982980521d1ca9ffb9aaf2af5c4\"\n",
    "\n",
    "url = f\"{api_uri}/backend/api/job/search?apikey={api_token}\"\n",
    "r = requests.get(url=url)\n",
    "print(r.content)\n"
   ]
  },
  {
   "cell_type": "code",
   "execution_count": 40,
   "metadata": {
    "tags": [
     "outputPrepend"
    ]
   },
   "outputs": [
    {
     "output_type": "execute_result",
     "data": {
      "text/plain": "dict"
     },
     "metadata": {},
     "execution_count": 40
    }
   ],
   "source": [
    "d = r.json()\n",
    "type(d)"
   ]
  },
  {
   "cell_type": "code",
   "execution_count": 49,
   "metadata": {},
   "outputs": [
    {
     "output_type": "stream",
     "name": "stdout",
     "text": "['5acf6cce68db663d8a76b221', '5acf6cce68db663d91483941', '5acf70f068db663f9a628d81', '5acf710d68db663fc022d331', '5acf74dd68db66412f4af951', '5acf74fb68db66415816ff61', '5acf784568db6642d3041371', '5acf78c368db66432b57b641', '5acf78e168db66435b5b8301', '5acf7c2e68db6648654b0e61']\n"
    }
   ],
   "source": [
    "joblist = r.json()['data']\n",
    "jobids = []\n",
    "for job in joblist:\n",
    "    jobids.append(job['id'])\n",
    "print(jobids[0:10])"
   ]
  },
  {
   "cell_type": "code",
   "execution_count": null,
   "outputs": [],
   "source": [],
   "metadata": {
    "collapsed": false,
    "pycharm": {
     "name": "#%%\n"
    }
   }
  }
 ],
 "metadata": {
  "language_info": {
   "codemirror_mode": {
    "name": "ipython",
    "version": 3
   },
   "file_extension": ".py",
   "mimetype": "text/x-python",
   "name": "python",
   "nbconvert_exporter": "python",
   "pygments_lexer": "ipython3",
   "version": "3.7.4-final"
  },
  "orig_nbformat": 2,
  "kernelspec": {
   "name": "python37464bitbaseconda148081fa46834969a3b218adc4b68ee7",
   "display_name": "Python 3.7.4 64-bit ('base': conda)"
  }
 },
 "nbformat": 4,
 "nbformat_minor": 2
}
