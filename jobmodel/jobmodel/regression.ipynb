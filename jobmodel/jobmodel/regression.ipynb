{
 "cells": [
  {
   "cell_type": "code",
   "execution_count": null,
   "metadata": {},
   "outputs": [],
   "source": [
    "import os\n",
    "os.environ['http_proxy']='http://129.183.4.13:8080'\n",
    "os.environ['https_proxy']='http://129.183.4.13:8080'\n",
    "!pip install tensorflow==2.2\n",
    "!pip install autokeras\n",
    "import tensorflow as tf \n",
    "print(tf.__version__)\n"
   ]
  },
  {
   "cell_type": "code",
   "execution_count": 39,
   "metadata": {},
   "outputs": [
    {
     "output_type": "stream",
     "name": "stdout",
     "text": "WARNING: Retrying (Retry(total=4, connect=None, read=None, redirect=None, status=None)) after connection broken by 'NewConnectionError('<pip._vendor.urllib3.connection.VerifiedHTTPSConnection object at 0x7fb92f395c10>: Failed to establish a new connection: [Errno -2] Name or service not known')': /simple/tensorflow/\nWARNING: Retrying (Retry(total=3, connect=None, read=None, redirect=None, status=None)) after connection broken by 'NewConnectionError('<pip._vendor.urllib3.connection.VerifiedHTTPSConnection object at 0x7fb92f2b8b50>: Failed to establish a new connection: [Errno -2] Name or service not known')': /simple/tensorflow/\nWARNING: Retrying (Retry(total=2, connect=None, read=None, redirect=None, status=None)) after connection broken by 'NewConnectionError('<pip._vendor.urllib3.connection.VerifiedHTTPSConnection object at 0x7fb92f2b8590>: Failed to establish a new connection: [Errno -2] Name or service not known')': /simple/tensorflow/\nWARNING: Retrying (Retry(total=1, connect=None, read=None, redirect=None, status=None)) after connection broken by 'NewConnectionError('<pip._vendor.urllib3.connection.VerifiedHTTPSConnection object at 0x7fb92f2b84d0>: Failed to establish a new connection: [Errno -2] Name or service not known')': /simple/tensorflow/\nWARNING: Retrying (Retry(total=0, connect=None, read=None, redirect=None, status=None)) after connection broken by 'NewConnectionError('<pip._vendor.urllib3.connection.VerifiedHTTPSConnection object at 0x7fb92f2b8a10>: Failed to establish a new connection: [Errno -2] Name or service not known')': /simple/tensorflow/\nERROR: Could not find a version that satisfies the requirement tensorflow==2.2 (from versions: none)\nERROR: No matching distribution found for tensorflow==2.2\nWARNING: You are using pip version 20.1; however, version 20.1.1 is available.\nYou should consider upgrading via the '/home_nfs/mimounis/anaconda3/bin/python -m pip install --upgrade pip' command.\nRequirement already satisfied: autokeras in /home_nfs/mimounis/anaconda3/lib/python3.7/site-packages (1.0.2)\nRequirement already satisfied: numpy in /home_nfs/mimounis/anaconda3/lib/python3.7/site-packages (from autokeras) (1.16.6)\nRequirement already satisfied: keras-tuner>=1.0.1 in /home_nfs/mimounis/anaconda3/lib/python3.7/site-packages (from autokeras) (1.0.1)\nRequirement already satisfied: pandas in /home_nfs/mimounis/anaconda3/lib/python3.7/site-packages (from autokeras) (0.25.2)\nRequirement already satisfied: packaging in /home_nfs/mimounis/anaconda3/lib/python3.7/site-packages (from autokeras) (19.2)\nRequirement already satisfied: scikit-learn in /home_nfs/mimounis/anaconda3/lib/python3.7/site-packages (from autokeras) (0.21.3)\nRequirement already satisfied: colorama in /home_nfs/mimounis/anaconda3/lib/python3.7/site-packages (from keras-tuner>=1.0.1->autokeras) (0.4.1)\nRequirement already satisfied: tabulate in /home_nfs/mimounis/anaconda3/lib/python3.7/site-packages (from keras-tuner>=1.0.1->autokeras) (0.8.7)\nRequirement already satisfied: tqdm in /home_nfs/mimounis/anaconda3/lib/python3.7/site-packages (from keras-tuner>=1.0.1->autokeras) (4.36.1)\nRequirement already satisfied: requests in /home_nfs/mimounis/anaconda3/lib/python3.7/site-packages (from keras-tuner>=1.0.1->autokeras) (2.21.0)\nRequirement already satisfied: scipy in /home_nfs/mimounis/anaconda3/lib/python3.7/site-packages (from keras-tuner>=1.0.1->autokeras) (1.3.1)\nRequirement already satisfied: future in /home_nfs/mimounis/anaconda3/lib/python3.7/site-packages (from keras-tuner>=1.0.1->autokeras) (0.17.1)\nRequirement already satisfied: terminaltables in /home_nfs/mimounis/anaconda3/lib/python3.7/site-packages (from keras-tuner>=1.0.1->autokeras) (3.1.0)\nRequirement already satisfied: pytz>=2017.2 in /home_nfs/mimounis/anaconda3/lib/python3.7/site-packages (from pandas->autokeras) (2019.3)\nRequirement already satisfied: python-dateutil>=2.6.1 in /home_nfs/mimounis/anaconda3/lib/python3.7/site-packages (from pandas->autokeras) (2.8.0)\nRequirement already satisfied: six in /home_nfs/mimounis/anaconda3/lib/python3.7/site-packages (from packaging->autokeras) (1.12.0)\nRequirement already satisfied: pyparsing>=2.0.2 in /home_nfs/mimounis/anaconda3/lib/python3.7/site-packages (from packaging->autokeras) (2.4.2)\nRequirement already satisfied: joblib>=0.11 in /home_nfs/mimounis/anaconda3/lib/python3.7/site-packages (from scikit-learn->autokeras) (0.13.2)\nRequirement already satisfied: idna<2.9,>=2.5 in /home_nfs/mimounis/anaconda3/lib/python3.7/site-packages (from requests->keras-tuner>=1.0.1->autokeras) (2.8)\nRequirement already satisfied: urllib3<1.25,>=1.21.1 in /home_nfs/mimounis/anaconda3/lib/python3.7/site-packages (from requests->keras-tuner>=1.0.1->autokeras) (1.24.2)\nRequirement already satisfied: chardet<3.1.0,>=3.0.2 in /home_nfs/mimounis/anaconda3/lib/python3.7/site-packages (from requests->keras-tuner>=1.0.1->autokeras) (3.0.4)\nRequirement already satisfied: certifi>=2017.4.17 in /home_nfs/mimounis/anaconda3/lib/python3.7/site-packages (from requests->keras-tuner>=1.0.1->autokeras) (2019.9.11)\nWARNING: You are using pip version 20.1; however, version 20.1.1 is available.\nYou should consider upgrading via the '/home_nfs/mimounis/anaconda3/bin/python -m pip install --upgrade pip' command.\n"
    }
   ],
   "source": [
    "\n",
    "\n",
    "import pandas as pd\n",
    "import os\n",
    "full_data = pd.read_csv(\"data/clust_db_job_data_300.csv\")"
   ]
  },
  {
   "cell_type": "code",
   "execution_count": 2,
   "metadata": {
    "colab": {},
    "colab_type": "code",
    "id": "xwJkQPRAXSN-"
   },
   "outputs": [],
   "source": [
    "# sets features and targets as list of strings\n",
    "features = full_data.columns.to_list()\n",
    "targets = ['bytesRead', 'bytesWritten']\n",
    "for target in targets:\n",
    "    features.remove(target)"
   ]
  },
  {
   "cell_type": "code",
   "execution_count": 3,
   "metadata": {
    "colab": {
     "base_uri": "https://localhost:8080/",
     "height": 52
    },
    "colab_type": "code",
    "id": "o-WkL7cgWjb9",
    "outputId": "a02282f6-a126-4d35-bf7a-a6f792242de7"
   },
   "outputs": [
    {
     "output_type": "stream",
     "name": "stdout",
     "text": "number of points = 41842\ndf.shape = (27894, 72)\n"
    }
   ],
   "source": [
    "# let 1/3 of data unseen by model in df_test\n",
    "N = full_data.shape[0]\n",
    "print(f\"number of points = {N}\")\n",
    "df = full_data.iloc[:int(N*2/3),:]\n",
    "df_test = full_data.iloc[int(N*2/3):, :]\n",
    "print(f\"df.shape = {df.shape}\")"
   ]
  },
  {
   "cell_type": "code",
   "execution_count": 10,
   "metadata": {
    "colab": {},
    "colab_type": "code",
    "id": "S4Ag5-8Zc6M9"
   },
   "outputs": [],
   "source": [
    "# validation and training sets\n",
    "from sklearn.model_selection import train_test_split\n",
    "df = df.sample(frac=1)\n",
    "X = df[features].values\n",
    "y = df[targets].values\n",
    "X_test = df_test[features].values\n",
    "y_test = df_test[targets].values\n",
    "\n",
    "X_train, X_valid, y_train, y_valid = train_test_split(X, y, test_size=0.30, random_state=42)"
   ]
  },
  {
   "cell_type": "code",
   "execution_count": 11,
   "metadata": {},
   "outputs": [],
   "source": [
    "# feature scaling\n",
    "from sklearn.preprocessing import StandardScaler, MinMaxScaler\n",
    "sc = MinMaxScaler()\n",
    "X_train = sc.fit_transform(X_train)\n",
    "X_test = sc.transform(X_test)"
   ]
  },
  {
   "cell_type": "code",
   "execution_count": 13,
   "metadata": {
    "colab": {
     "base_uri": "https://localhost:8080/",
     "height": 87
    },
    "colab_type": "code",
    "id": "HAKs3LHAXhw0",
    "outputId": "f8a9924f-4eb1-493b-a4a5-d7d2de1a9b83"
   },
   "outputs": [
    {
     "output_type": "stream",
     "name": "stdout",
     "text": "valid RMSE = 1055675529.250069\nvalid R2 score = -11.550406825201888\ntest RMSE = 12466759.457592115\ntest R2 score = 0.9954920354193666\n"
    }
   ],
   "source": [
    "import random\n",
    "from sklearn.ensemble import RandomForestRegressor\n",
    "from sklearn.metrics import mean_squared_error, accuracy_score, r2_score\n",
    "import numpy as np\n",
    "\n",
    "regressor = RandomForestRegressor(n_estimators=10)\n",
    "regressor.fit(X_train, y_train)\n",
    "y_hat_valid=regressor.predict(X_valid)\n",
    "y_hat_test=regressor.predict(X_test)\n",
    "print(f\"valid RMSE = {np.sqrt(mean_squared_error(y_valid, y_hat_valid))}\")\n",
    "print(f\"valid R2 score = {r2_score(y_valid, y_hat_valid)}\")\n",
    "print(f\"test RMSE = {np.sqrt(mean_squared_error(y_test, y_hat_test))}\")\n",
    "print(f\"test R2 score = {r2_score(y_test, y_hat_test)}\")"
   ]
  },
  {
   "cell_type": "code",
   "execution_count": 14,
   "metadata": {
    "colab": {},
    "colab_type": "code",
    "id": "Rrus4lhesVnM"
   },
   "outputs": [
    {
     "output_type": "stream",
     "name": "stdout",
     "text": "2.0.0\n"
    }
   ],
   "source": [
    "import pathlib\n",
    "import matplotlib.pyplot as plt\n",
    "import numpy as np\n",
    "import pandas as pd\n",
    "import seaborn as sns\n",
    "import tensorflow as tf\n",
    "import datetime\n",
    "from tensorflow import keras\n",
    "from tensorflow.keras import layers\n",
    "\n",
    "print(tf.__version__)"
   ]
  },
  {
   "cell_type": "code",
   "execution_count": 15,
   "metadata": {},
   "outputs": [
    {
     "output_type": "stream",
     "name": "stdout",
     "text": "number of inputs in network is 70\nnumber of inputs in network is 2\nModel: \"sequential\"\n_________________________________________________________________\nLayer (type)                 Output Shape              Param #   \n=================================================================\ndense (Dense)                (None, 64)                4544      \n_________________________________________________________________\ndense_1 (Dense)              (None, 64)                4160      \n_________________________________________________________________\ndense_2 (Dense)              (None, 2)                 130       \n=================================================================\nTotal params: 8,834\nTrainable params: 8,834\nNon-trainable params: 0\n_________________________________________________________________\n"
    }
   ],
   "source": [
    "n_inputs = X_train.shape[1]\n",
    "n_outputs = y_train.shape[1]\n",
    "print(f\"number of inputs in network is {n_inputs}\")\n",
    "print(f\"number of inputs in network is {n_outputs}\")\n",
    "def build_model():\n",
    "    model = keras.Sequential([\n",
    "        layers.Dense(64, activation='relu', input_shape=[n_inputs]),\n",
    "        layers.Dense(64, activation='relu'),\n",
    "        layers.Dense(n_outputs)])\n",
    "    \n",
    "    optimizer = tf.keras.optimizers.Adam(learning_rate=0.01)\n",
    "    \n",
    "    model.compile(loss='mse',\n",
    "                optimizer=optimizer,\n",
    "                metrics=['mae', 'mse'])\n",
    "    return model\n",
    "\n",
    "model = build_model()\n",
    "model.summary()\n",
    "EPOCHS = 100\n",
    "# Tensorboard\n",
    "%load_ext tensorboard\n",
    "log_dir = \"logs/fit/\" + datetime.datetime.now().strftime(\"%Y%m%d-%H%M%S\")\n",
    "tensorboard_callback = tf.keras.callbacks.TensorBoard(log_dir=log_dir)\n"
   ]
  },
  {
   "cell_type": "code",
   "execution_count": 16,
   "metadata": {},
   "outputs": [],
   "source": [
    "history = model.fit(X_train, y_train, epochs=30, validation_split = 0.3, \n",
    "                    callbacks=[tensorboard_callback], verbose=0)"
   ]
  },
  {
   "cell_type": "code",
   "execution_count": 17,
   "metadata": {},
   "outputs": [
    {
     "data": {
      "text/html": "\n      <iframe id=\"tensorboard-frame-c2e9f999121cda64\" width=\"100%\" height=\"800\" frameborder=\"0\">\n      </iframe>\n      <script>\n        (function() {\n          const frame = document.getElementById(\"tensorboard-frame-c2e9f999121cda64\");\n          const url = new URL(\"/\", window.location);\n          url.port = 6006;\n          frame.src = url;\n        })();\n      </script>\n  ",
      "text/plain": "<IPython.core.display.HTML object>"
     },
     "metadata": {},
     "output_type": "display_data"
    }
   ],
   "source": [
    "%tensorboard --logdir logs/fit"
   ]
  },
  {
   "cell_type": "code",
   "execution_count": 18,
   "metadata": {},
   "outputs": [
    {
     "output_type": "display_data",
     "data": {
      "text/plain": "<Figure size 432x288 with 1 Axes>",
      "image/svg+xml": "<?xml version=\"1.0\" encoding=\"utf-8\" standalone=\"no\"?>\n<!DOCTYPE svg PUBLIC \"-//W3C//DTD SVG 1.1//EN\"\n  \"http://www.w3.org/Graphics/SVG/1.1/DTD/svg11.dtd\">\n<!-- Created with matplotlib (https://matplotlib.org/) -->\n<svg height=\"277.314375pt\" version=\"1.1\" viewBox=\"0 0 387.420866 277.314375\" width=\"387.420866pt\" xmlns=\"http://www.w3.org/2000/svg\" xmlns:xlink=\"http://www.w3.org/1999/xlink\">\n <defs>\n  <style type=\"text/css\">\n*{stroke-linecap:butt;stroke-linejoin:round;}\n  </style>\n </defs>\n <g id=\"figure_1\">\n  <g id=\"patch_1\">\n   <path d=\"M 0 277.314375 \nL 387.420866 277.314375 \nL 387.420866 0 \nL 0 0 \nz\n\" style=\"fill:none;\"/>\n  </g>\n  <g id=\"axes_1\">\n   <g id=\"patch_2\">\n    <path d=\"M 43.78125 239.758125 \nL 378.58125 239.758125 \nL 378.58125 22.318125 \nL 43.78125 22.318125 \nz\n\" style=\"fill:#ffffff;\"/>\n   </g>\n   <g id=\"matplotlib.axis_1\">\n    <g id=\"xtick_1\">\n     <g id=\"line2d_1\">\n      <defs>\n       <path d=\"M 0 0 \nL 0 3.5 \n\" id=\"m4ce80e4ef7\" style=\"stroke:#000000;stroke-width:0.8;\"/>\n      </defs>\n      <g>\n       <use style=\"stroke:#000000;stroke-width:0.8;\" x=\"58.999432\" xlink:href=\"#m4ce80e4ef7\" y=\"239.758125\"/>\n      </g>\n     </g>\n     <g id=\"text_1\">\n      <!-- 0 -->\n      <defs>\n       <path d=\"M 31.78125 66.40625 \nQ 24.171875 66.40625 20.328125 58.90625 \nQ 16.5 51.421875 16.5 36.375 \nQ 16.5 21.390625 20.328125 13.890625 \nQ 24.171875 6.390625 31.78125 6.390625 \nQ 39.453125 6.390625 43.28125 13.890625 \nQ 47.125 21.390625 47.125 36.375 \nQ 47.125 51.421875 43.28125 58.90625 \nQ 39.453125 66.40625 31.78125 66.40625 \nz\nM 31.78125 74.21875 \nQ 44.046875 74.21875 50.515625 64.515625 \nQ 56.984375 54.828125 56.984375 36.375 \nQ 56.984375 17.96875 50.515625 8.265625 \nQ 44.046875 -1.421875 31.78125 -1.421875 \nQ 19.53125 -1.421875 13.0625 8.265625 \nQ 6.59375 17.96875 6.59375 36.375 \nQ 6.59375 54.828125 13.0625 64.515625 \nQ 19.53125 74.21875 31.78125 74.21875 \nz\n\" id=\"DejaVuSans-48\"/>\n      </defs>\n      <g transform=\"translate(55.818182 254.356562)scale(0.1 -0.1)\">\n       <use xlink:href=\"#DejaVuSans-48\"/>\n      </g>\n     </g>\n    </g>\n    <g id=\"xtick_2\">\n     <g id=\"line2d_2\">\n      <g>\n       <use style=\"stroke:#000000;stroke-width:0.8;\" x=\"111.475921\" xlink:href=\"#m4ce80e4ef7\" y=\"239.758125\"/>\n      </g>\n     </g>\n     <g id=\"text_2\">\n      <!-- 5 -->\n      <defs>\n       <path d=\"M 10.796875 72.90625 \nL 49.515625 72.90625 \nL 49.515625 64.59375 \nL 19.828125 64.59375 \nL 19.828125 46.734375 \nQ 21.96875 47.46875 24.109375 47.828125 \nQ 26.265625 48.1875 28.421875 48.1875 \nQ 40.625 48.1875 47.75 41.5 \nQ 54.890625 34.8125 54.890625 23.390625 \nQ 54.890625 11.625 47.5625 5.09375 \nQ 40.234375 -1.421875 26.90625 -1.421875 \nQ 22.3125 -1.421875 17.546875 -0.640625 \nQ 12.796875 0.140625 7.71875 1.703125 \nL 7.71875 11.625 \nQ 12.109375 9.234375 16.796875 8.0625 \nQ 21.484375 6.890625 26.703125 6.890625 \nQ 35.15625 6.890625 40.078125 11.328125 \nQ 45.015625 15.765625 45.015625 23.390625 \nQ 45.015625 31 40.078125 35.4375 \nQ 35.15625 39.890625 26.703125 39.890625 \nQ 22.75 39.890625 18.8125 39.015625 \nQ 14.890625 38.140625 10.796875 36.28125 \nz\n\" id=\"DejaVuSans-53\"/>\n      </defs>\n      <g transform=\"translate(108.294671 254.356562)scale(0.1 -0.1)\">\n       <use xlink:href=\"#DejaVuSans-53\"/>\n      </g>\n     </g>\n    </g>\n    <g id=\"xtick_3\">\n     <g id=\"line2d_3\">\n      <g>\n       <use style=\"stroke:#000000;stroke-width:0.8;\" x=\"163.95241\" xlink:href=\"#m4ce80e4ef7\" y=\"239.758125\"/>\n      </g>\n     </g>\n     <g id=\"text_3\">\n      <!-- 10 -->\n      <defs>\n       <path d=\"M 12.40625 8.296875 \nL 28.515625 8.296875 \nL 28.515625 63.921875 \nL 10.984375 60.40625 \nL 10.984375 69.390625 \nL 28.421875 72.90625 \nL 38.28125 72.90625 \nL 38.28125 8.296875 \nL 54.390625 8.296875 \nL 54.390625 0 \nL 12.40625 0 \nz\n\" id=\"DejaVuSans-49\"/>\n      </defs>\n      <g transform=\"translate(157.58991 254.356562)scale(0.1 -0.1)\">\n       <use xlink:href=\"#DejaVuSans-49\"/>\n       <use x=\"63.623047\" xlink:href=\"#DejaVuSans-48\"/>\n      </g>\n     </g>\n    </g>\n    <g id=\"xtick_4\">\n     <g id=\"line2d_4\">\n      <g>\n       <use style=\"stroke:#000000;stroke-width:0.8;\" x=\"216.428899\" xlink:href=\"#m4ce80e4ef7\" y=\"239.758125\"/>\n      </g>\n     </g>\n     <g id=\"text_4\">\n      <!-- 15 -->\n      <g transform=\"translate(210.066399 254.356562)scale(0.1 -0.1)\">\n       <use xlink:href=\"#DejaVuSans-49\"/>\n       <use x=\"63.623047\" xlink:href=\"#DejaVuSans-53\"/>\n      </g>\n     </g>\n    </g>\n    <g id=\"xtick_5\">\n     <g id=\"line2d_5\">\n      <g>\n       <use style=\"stroke:#000000;stroke-width:0.8;\" x=\"268.905388\" xlink:href=\"#m4ce80e4ef7\" y=\"239.758125\"/>\n      </g>\n     </g>\n     <g id=\"text_5\">\n      <!-- 20 -->\n      <defs>\n       <path d=\"M 19.1875 8.296875 \nL 53.609375 8.296875 \nL 53.609375 0 \nL 7.328125 0 \nL 7.328125 8.296875 \nQ 12.9375 14.109375 22.625 23.890625 \nQ 32.328125 33.6875 34.8125 36.53125 \nQ 39.546875 41.84375 41.421875 45.53125 \nQ 43.3125 49.21875 43.3125 52.78125 \nQ 43.3125 58.59375 39.234375 62.25 \nQ 35.15625 65.921875 28.609375 65.921875 \nQ 23.96875 65.921875 18.8125 64.3125 \nQ 13.671875 62.703125 7.8125 59.421875 \nL 7.8125 69.390625 \nQ 13.765625 71.78125 18.9375 73 \nQ 24.125 74.21875 28.421875 74.21875 \nQ 39.75 74.21875 46.484375 68.546875 \nQ 53.21875 62.890625 53.21875 53.421875 \nQ 53.21875 48.921875 51.53125 44.890625 \nQ 49.859375 40.875 45.40625 35.40625 \nQ 44.1875 33.984375 37.640625 27.21875 \nQ 31.109375 20.453125 19.1875 8.296875 \nz\n\" id=\"DejaVuSans-50\"/>\n      </defs>\n      <g transform=\"translate(262.542888 254.356562)scale(0.1 -0.1)\">\n       <use xlink:href=\"#DejaVuSans-50\"/>\n       <use x=\"63.623047\" xlink:href=\"#DejaVuSans-48\"/>\n      </g>\n     </g>\n    </g>\n    <g id=\"xtick_6\">\n     <g id=\"line2d_6\">\n      <g>\n       <use style=\"stroke:#000000;stroke-width:0.8;\" x=\"321.381877\" xlink:href=\"#m4ce80e4ef7\" y=\"239.758125\"/>\n      </g>\n     </g>\n     <g id=\"text_6\">\n      <!-- 25 -->\n      <g transform=\"translate(315.019377 254.356562)scale(0.1 -0.1)\">\n       <use xlink:href=\"#DejaVuSans-50\"/>\n       <use x=\"63.623047\" xlink:href=\"#DejaVuSans-53\"/>\n      </g>\n     </g>\n    </g>\n    <g id=\"xtick_7\">\n     <g id=\"line2d_7\">\n      <g>\n       <use style=\"stroke:#000000;stroke-width:0.8;\" x=\"373.858366\" xlink:href=\"#m4ce80e4ef7\" y=\"239.758125\"/>\n      </g>\n     </g>\n     <g id=\"text_7\">\n      <!-- 30 -->\n      <defs>\n       <path d=\"M 40.578125 39.3125 \nQ 47.65625 37.796875 51.625 33 \nQ 55.609375 28.21875 55.609375 21.1875 \nQ 55.609375 10.40625 48.1875 4.484375 \nQ 40.765625 -1.421875 27.09375 -1.421875 \nQ 22.515625 -1.421875 17.65625 -0.515625 \nQ 12.796875 0.390625 7.625 2.203125 \nL 7.625 11.71875 \nQ 11.71875 9.328125 16.59375 8.109375 \nQ 21.484375 6.890625 26.8125 6.890625 \nQ 36.078125 6.890625 40.9375 10.546875 \nQ 45.796875 14.203125 45.796875 21.1875 \nQ 45.796875 27.640625 41.28125 31.265625 \nQ 36.765625 34.90625 28.71875 34.90625 \nL 20.21875 34.90625 \nL 20.21875 43.015625 \nL 29.109375 43.015625 \nQ 36.375 43.015625 40.234375 45.921875 \nQ 44.09375 48.828125 44.09375 54.296875 \nQ 44.09375 59.90625 40.109375 62.90625 \nQ 36.140625 65.921875 28.71875 65.921875 \nQ 24.65625 65.921875 20.015625 65.03125 \nQ 15.375 64.15625 9.8125 62.3125 \nL 9.8125 71.09375 \nQ 15.4375 72.65625 20.34375 73.4375 \nQ 25.25 74.21875 29.59375 74.21875 \nQ 40.828125 74.21875 47.359375 69.109375 \nQ 53.90625 64.015625 53.90625 55.328125 \nQ 53.90625 49.265625 50.4375 45.09375 \nQ 46.96875 40.921875 40.578125 39.3125 \nz\n\" id=\"DejaVuSans-51\"/>\n      </defs>\n      <g transform=\"translate(367.495866 254.356562)scale(0.1 -0.1)\">\n       <use xlink:href=\"#DejaVuSans-51\"/>\n       <use x=\"63.623047\" xlink:href=\"#DejaVuSans-48\"/>\n      </g>\n     </g>\n    </g>\n    <g id=\"text_8\">\n     <!-- epoch -->\n     <defs>\n      <path d=\"M 56.203125 29.59375 \nL 56.203125 25.203125 \nL 14.890625 25.203125 \nQ 15.484375 15.921875 20.484375 11.0625 \nQ 25.484375 6.203125 34.421875 6.203125 \nQ 39.59375 6.203125 44.453125 7.46875 \nQ 49.3125 8.734375 54.109375 11.28125 \nL 54.109375 2.78125 \nQ 49.265625 0.734375 44.1875 -0.34375 \nQ 39.109375 -1.421875 33.890625 -1.421875 \nQ 20.796875 -1.421875 13.15625 6.1875 \nQ 5.515625 13.8125 5.515625 26.8125 \nQ 5.515625 40.234375 12.765625 48.109375 \nQ 20.015625 56 32.328125 56 \nQ 43.359375 56 49.78125 48.890625 \nQ 56.203125 41.796875 56.203125 29.59375 \nz\nM 47.21875 32.234375 \nQ 47.125 39.59375 43.09375 43.984375 \nQ 39.0625 48.390625 32.421875 48.390625 \nQ 24.90625 48.390625 20.390625 44.140625 \nQ 15.875 39.890625 15.1875 32.171875 \nz\n\" id=\"DejaVuSans-101\"/>\n      <path d=\"M 18.109375 8.203125 \nL 18.109375 -20.796875 \nL 9.078125 -20.796875 \nL 9.078125 54.6875 \nL 18.109375 54.6875 \nL 18.109375 46.390625 \nQ 20.953125 51.265625 25.265625 53.625 \nQ 29.59375 56 35.59375 56 \nQ 45.5625 56 51.78125 48.09375 \nQ 58.015625 40.1875 58.015625 27.296875 \nQ 58.015625 14.40625 51.78125 6.484375 \nQ 45.5625 -1.421875 35.59375 -1.421875 \nQ 29.59375 -1.421875 25.265625 0.953125 \nQ 20.953125 3.328125 18.109375 8.203125 \nz\nM 48.6875 27.296875 \nQ 48.6875 37.203125 44.609375 42.84375 \nQ 40.53125 48.484375 33.40625 48.484375 \nQ 26.265625 48.484375 22.1875 42.84375 \nQ 18.109375 37.203125 18.109375 27.296875 \nQ 18.109375 17.390625 22.1875 11.75 \nQ 26.265625 6.109375 33.40625 6.109375 \nQ 40.53125 6.109375 44.609375 11.75 \nQ 48.6875 17.390625 48.6875 27.296875 \nz\n\" id=\"DejaVuSans-112\"/>\n      <path d=\"M 30.609375 48.390625 \nQ 23.390625 48.390625 19.1875 42.75 \nQ 14.984375 37.109375 14.984375 27.296875 \nQ 14.984375 17.484375 19.15625 11.84375 \nQ 23.34375 6.203125 30.609375 6.203125 \nQ 37.796875 6.203125 41.984375 11.859375 \nQ 46.1875 17.53125 46.1875 27.296875 \nQ 46.1875 37.015625 41.984375 42.703125 \nQ 37.796875 48.390625 30.609375 48.390625 \nz\nM 30.609375 56 \nQ 42.328125 56 49.015625 48.375 \nQ 55.71875 40.765625 55.71875 27.296875 \nQ 55.71875 13.875 49.015625 6.21875 \nQ 42.328125 -1.421875 30.609375 -1.421875 \nQ 18.84375 -1.421875 12.171875 6.21875 \nQ 5.515625 13.875 5.515625 27.296875 \nQ 5.515625 40.765625 12.171875 48.375 \nQ 18.84375 56 30.609375 56 \nz\n\" id=\"DejaVuSans-111\"/>\n      <path d=\"M 48.78125 52.59375 \nL 48.78125 44.1875 \nQ 44.96875 46.296875 41.140625 47.34375 \nQ 37.3125 48.390625 33.40625 48.390625 \nQ 24.65625 48.390625 19.8125 42.84375 \nQ 14.984375 37.3125 14.984375 27.296875 \nQ 14.984375 17.28125 19.8125 11.734375 \nQ 24.65625 6.203125 33.40625 6.203125 \nQ 37.3125 6.203125 41.140625 7.25 \nQ 44.96875 8.296875 48.78125 10.40625 \nL 48.78125 2.09375 \nQ 45.015625 0.34375 40.984375 -0.53125 \nQ 36.96875 -1.421875 32.421875 -1.421875 \nQ 20.0625 -1.421875 12.78125 6.34375 \nQ 5.515625 14.109375 5.515625 27.296875 \nQ 5.515625 40.671875 12.859375 48.328125 \nQ 20.21875 56 33.015625 56 \nQ 37.15625 56 41.109375 55.140625 \nQ 45.0625 54.296875 48.78125 52.59375 \nz\n\" id=\"DejaVuSans-99\"/>\n      <path d=\"M 54.890625 33.015625 \nL 54.890625 0 \nL 45.90625 0 \nL 45.90625 32.71875 \nQ 45.90625 40.484375 42.875 44.328125 \nQ 39.84375 48.1875 33.796875 48.1875 \nQ 26.515625 48.1875 22.3125 43.546875 \nQ 18.109375 38.921875 18.109375 30.90625 \nL 18.109375 0 \nL 9.078125 0 \nL 9.078125 75.984375 \nL 18.109375 75.984375 \nL 18.109375 46.1875 \nQ 21.34375 51.125 25.703125 53.5625 \nQ 30.078125 56 35.796875 56 \nQ 45.21875 56 50.046875 50.171875 \nQ 54.890625 44.34375 54.890625 33.015625 \nz\n\" id=\"DejaVuSans-104\"/>\n     </defs>\n     <g transform=\"translate(195.953125 268.034687)scale(0.1 -0.1)\">\n      <use xlink:href=\"#DejaVuSans-101\"/>\n      <use x=\"61.523438\" xlink:href=\"#DejaVuSans-112\"/>\n      <use x=\"125\" xlink:href=\"#DejaVuSans-111\"/>\n      <use x=\"186.181641\" xlink:href=\"#DejaVuSans-99\"/>\n      <use x=\"241.162109\" xlink:href=\"#DejaVuSans-104\"/>\n     </g>\n    </g>\n   </g>\n   <g id=\"matplotlib.axis_2\">\n    <g id=\"ytick_1\">\n     <g id=\"line2d_8\">\n      <defs>\n       <path d=\"M 0 0 \nL -3.5 0 \n\" id=\"m85d0f30e1f\" style=\"stroke:#000000;stroke-width:0.8;\"/>\n      </defs>\n      <g>\n       <use style=\"stroke:#000000;stroke-width:0.8;\" x=\"43.78125\" xlink:href=\"#m85d0f30e1f\" y=\"230.558115\"/>\n      </g>\n     </g>\n     <g id=\"text_9\">\n      <!-- 0.4 -->\n      <defs>\n       <path d=\"M 10.6875 12.40625 \nL 21 12.40625 \nL 21 0 \nL 10.6875 0 \nz\n\" id=\"DejaVuSans-46\"/>\n       <path d=\"M 37.796875 64.3125 \nL 12.890625 25.390625 \nL 37.796875 25.390625 \nz\nM 35.203125 72.90625 \nL 47.609375 72.90625 \nL 47.609375 25.390625 \nL 58.015625 25.390625 \nL 58.015625 17.1875 \nL 47.609375 17.1875 \nL 47.609375 0 \nL 37.796875 0 \nL 37.796875 17.1875 \nL 4.890625 17.1875 \nL 4.890625 26.703125 \nz\n\" id=\"DejaVuSans-52\"/>\n      </defs>\n      <g transform=\"translate(20.878125 234.357333)scale(0.1 -0.1)\">\n       <use xlink:href=\"#DejaVuSans-48\"/>\n       <use x=\"63.623047\" xlink:href=\"#DejaVuSans-46\"/>\n       <use x=\"95.410156\" xlink:href=\"#DejaVuSans-52\"/>\n      </g>\n     </g>\n    </g>\n    <g id=\"ytick_2\">\n     <g id=\"line2d_9\">\n      <g>\n       <use style=\"stroke:#000000;stroke-width:0.8;\" x=\"43.78125\" xlink:href=\"#m85d0f30e1f\" y=\"200.721575\"/>\n      </g>\n     </g>\n     <g id=\"text_10\">\n      <!-- 0.5 -->\n      <g transform=\"translate(20.878125 204.520793)scale(0.1 -0.1)\">\n       <use xlink:href=\"#DejaVuSans-48\"/>\n       <use x=\"63.623047\" xlink:href=\"#DejaVuSans-46\"/>\n       <use x=\"95.410156\" xlink:href=\"#DejaVuSans-53\"/>\n      </g>\n     </g>\n    </g>\n    <g id=\"ytick_3\">\n     <g id=\"line2d_10\">\n      <g>\n       <use style=\"stroke:#000000;stroke-width:0.8;\" x=\"43.78125\" xlink:href=\"#m85d0f30e1f\" y=\"170.885035\"/>\n      </g>\n     </g>\n     <g id=\"text_11\">\n      <!-- 0.6 -->\n      <defs>\n       <path d=\"M 33.015625 40.375 \nQ 26.375 40.375 22.484375 35.828125 \nQ 18.609375 31.296875 18.609375 23.390625 \nQ 18.609375 15.53125 22.484375 10.953125 \nQ 26.375 6.390625 33.015625 6.390625 \nQ 39.65625 6.390625 43.53125 10.953125 \nQ 47.40625 15.53125 47.40625 23.390625 \nQ 47.40625 31.296875 43.53125 35.828125 \nQ 39.65625 40.375 33.015625 40.375 \nz\nM 52.59375 71.296875 \nL 52.59375 62.3125 \nQ 48.875 64.0625 45.09375 64.984375 \nQ 41.3125 65.921875 37.59375 65.921875 \nQ 27.828125 65.921875 22.671875 59.328125 \nQ 17.53125 52.734375 16.796875 39.40625 \nQ 19.671875 43.65625 24.015625 45.921875 \nQ 28.375 48.1875 33.59375 48.1875 \nQ 44.578125 48.1875 50.953125 41.515625 \nQ 57.328125 34.859375 57.328125 23.390625 \nQ 57.328125 12.15625 50.6875 5.359375 \nQ 44.046875 -1.421875 33.015625 -1.421875 \nQ 20.359375 -1.421875 13.671875 8.265625 \nQ 6.984375 17.96875 6.984375 36.375 \nQ 6.984375 53.65625 15.1875 63.9375 \nQ 23.390625 74.21875 37.203125 74.21875 \nQ 40.921875 74.21875 44.703125 73.484375 \nQ 48.484375 72.75 52.59375 71.296875 \nz\n\" id=\"DejaVuSans-54\"/>\n      </defs>\n      <g transform=\"translate(20.878125 174.684253)scale(0.1 -0.1)\">\n       <use xlink:href=\"#DejaVuSans-48\"/>\n       <use x=\"63.623047\" xlink:href=\"#DejaVuSans-46\"/>\n       <use x=\"95.410156\" xlink:href=\"#DejaVuSans-54\"/>\n      </g>\n     </g>\n    </g>\n    <g id=\"ytick_4\">\n     <g id=\"line2d_11\">\n      <g>\n       <use style=\"stroke:#000000;stroke-width:0.8;\" x=\"43.78125\" xlink:href=\"#m85d0f30e1f\" y=\"141.048495\"/>\n      </g>\n     </g>\n     <g id=\"text_12\">\n      <!-- 0.7 -->\n      <defs>\n       <path d=\"M 8.203125 72.90625 \nL 55.078125 72.90625 \nL 55.078125 68.703125 \nL 28.609375 0 \nL 18.3125 0 \nL 43.21875 64.59375 \nL 8.203125 64.59375 \nz\n\" id=\"DejaVuSans-55\"/>\n      </defs>\n      <g transform=\"translate(20.878125 144.847714)scale(0.1 -0.1)\">\n       <use xlink:href=\"#DejaVuSans-48\"/>\n       <use x=\"63.623047\" xlink:href=\"#DejaVuSans-46\"/>\n       <use x=\"95.410156\" xlink:href=\"#DejaVuSans-55\"/>\n      </g>\n     </g>\n    </g>\n    <g id=\"ytick_5\">\n     <g id=\"line2d_12\">\n      <g>\n       <use style=\"stroke:#000000;stroke-width:0.8;\" x=\"43.78125\" xlink:href=\"#m85d0f30e1f\" y=\"111.211955\"/>\n      </g>\n     </g>\n     <g id=\"text_13\">\n      <!-- 0.8 -->\n      <defs>\n       <path d=\"M 31.78125 34.625 \nQ 24.75 34.625 20.71875 30.859375 \nQ 16.703125 27.09375 16.703125 20.515625 \nQ 16.703125 13.921875 20.71875 10.15625 \nQ 24.75 6.390625 31.78125 6.390625 \nQ 38.8125 6.390625 42.859375 10.171875 \nQ 46.921875 13.96875 46.921875 20.515625 \nQ 46.921875 27.09375 42.890625 30.859375 \nQ 38.875 34.625 31.78125 34.625 \nz\nM 21.921875 38.8125 \nQ 15.578125 40.375 12.03125 44.71875 \nQ 8.5 49.078125 8.5 55.328125 \nQ 8.5 64.0625 14.71875 69.140625 \nQ 20.953125 74.21875 31.78125 74.21875 \nQ 42.671875 74.21875 48.875 69.140625 \nQ 55.078125 64.0625 55.078125 55.328125 \nQ 55.078125 49.078125 51.53125 44.71875 \nQ 48 40.375 41.703125 38.8125 \nQ 48.828125 37.15625 52.796875 32.3125 \nQ 56.78125 27.484375 56.78125 20.515625 \nQ 56.78125 9.90625 50.3125 4.234375 \nQ 43.84375 -1.421875 31.78125 -1.421875 \nQ 19.734375 -1.421875 13.25 4.234375 \nQ 6.78125 9.90625 6.78125 20.515625 \nQ 6.78125 27.484375 10.78125 32.3125 \nQ 14.796875 37.15625 21.921875 38.8125 \nz\nM 18.3125 54.390625 \nQ 18.3125 48.734375 21.84375 45.5625 \nQ 25.390625 42.390625 31.78125 42.390625 \nQ 38.140625 42.390625 41.71875 45.5625 \nQ 45.3125 48.734375 45.3125 54.390625 \nQ 45.3125 60.0625 41.71875 63.234375 \nQ 38.140625 66.40625 31.78125 66.40625 \nQ 25.390625 66.40625 21.84375 63.234375 \nQ 18.3125 60.0625 18.3125 54.390625 \nz\n\" id=\"DejaVuSans-56\"/>\n      </defs>\n      <g transform=\"translate(20.878125 115.011174)scale(0.1 -0.1)\">\n       <use xlink:href=\"#DejaVuSans-48\"/>\n       <use x=\"63.623047\" xlink:href=\"#DejaVuSans-46\"/>\n       <use x=\"95.410156\" xlink:href=\"#DejaVuSans-56\"/>\n      </g>\n     </g>\n    </g>\n    <g id=\"ytick_6\">\n     <g id=\"line2d_13\">\n      <g>\n       <use style=\"stroke:#000000;stroke-width:0.8;\" x=\"43.78125\" xlink:href=\"#m85d0f30e1f\" y=\"81.375415\"/>\n      </g>\n     </g>\n     <g id=\"text_14\">\n      <!-- 0.9 -->\n      <defs>\n       <path d=\"M 10.984375 1.515625 \nL 10.984375 10.5 \nQ 14.703125 8.734375 18.5 7.8125 \nQ 22.3125 6.890625 25.984375 6.890625 \nQ 35.75 6.890625 40.890625 13.453125 \nQ 46.046875 20.015625 46.78125 33.40625 \nQ 43.953125 29.203125 39.59375 26.953125 \nQ 35.25 24.703125 29.984375 24.703125 \nQ 19.046875 24.703125 12.671875 31.3125 \nQ 6.296875 37.9375 6.296875 49.421875 \nQ 6.296875 60.640625 12.9375 67.421875 \nQ 19.578125 74.21875 30.609375 74.21875 \nQ 43.265625 74.21875 49.921875 64.515625 \nQ 56.59375 54.828125 56.59375 36.375 \nQ 56.59375 19.140625 48.40625 8.859375 \nQ 40.234375 -1.421875 26.421875 -1.421875 \nQ 22.703125 -1.421875 18.890625 -0.6875 \nQ 15.09375 0.046875 10.984375 1.515625 \nz\nM 30.609375 32.421875 \nQ 37.25 32.421875 41.125 36.953125 \nQ 45.015625 41.5 45.015625 49.421875 \nQ 45.015625 57.28125 41.125 61.84375 \nQ 37.25 66.40625 30.609375 66.40625 \nQ 23.96875 66.40625 20.09375 61.84375 \nQ 16.21875 57.28125 16.21875 49.421875 \nQ 16.21875 41.5 20.09375 36.953125 \nQ 23.96875 32.421875 30.609375 32.421875 \nz\n\" id=\"DejaVuSans-57\"/>\n      </defs>\n      <g transform=\"translate(20.878125 85.174634)scale(0.1 -0.1)\">\n       <use xlink:href=\"#DejaVuSans-48\"/>\n       <use x=\"63.623047\" xlink:href=\"#DejaVuSans-46\"/>\n       <use x=\"95.410156\" xlink:href=\"#DejaVuSans-57\"/>\n      </g>\n     </g>\n    </g>\n    <g id=\"ytick_7\">\n     <g id=\"line2d_14\">\n      <g>\n       <use style=\"stroke:#000000;stroke-width:0.8;\" x=\"43.78125\" xlink:href=\"#m85d0f30e1f\" y=\"51.538875\"/>\n      </g>\n     </g>\n     <g id=\"text_15\">\n      <!-- 1.0 -->\n      <g transform=\"translate(20.878125 55.338094)scale(0.1 -0.1)\">\n       <use xlink:href=\"#DejaVuSans-49\"/>\n       <use x=\"63.623047\" xlink:href=\"#DejaVuSans-46\"/>\n       <use x=\"95.410156\" xlink:href=\"#DejaVuSans-48\"/>\n      </g>\n     </g>\n    </g>\n    <g id=\"text_16\">\n     <!-- loss -->\n     <defs>\n      <path d=\"M 9.421875 75.984375 \nL 18.40625 75.984375 \nL 18.40625 0 \nL 9.421875 0 \nz\n\" id=\"DejaVuSans-108\"/>\n      <path d=\"M 44.28125 53.078125 \nL 44.28125 44.578125 \nQ 40.484375 46.53125 36.375 47.5 \nQ 32.28125 48.484375 27.875 48.484375 \nQ 21.1875 48.484375 17.84375 46.4375 \nQ 14.5 44.390625 14.5 40.28125 \nQ 14.5 37.15625 16.890625 35.375 \nQ 19.28125 33.59375 26.515625 31.984375 \nL 29.59375 31.296875 \nQ 39.15625 29.25 43.1875 25.515625 \nQ 47.21875 21.78125 47.21875 15.09375 \nQ 47.21875 7.46875 41.1875 3.015625 \nQ 35.15625 -1.421875 24.609375 -1.421875 \nQ 20.21875 -1.421875 15.453125 -0.5625 \nQ 10.6875 0.296875 5.421875 2 \nL 5.421875 11.28125 \nQ 10.40625 8.6875 15.234375 7.390625 \nQ 20.0625 6.109375 24.8125 6.109375 \nQ 31.15625 6.109375 34.5625 8.28125 \nQ 37.984375 10.453125 37.984375 14.40625 \nQ 37.984375 18.0625 35.515625 20.015625 \nQ 33.0625 21.96875 24.703125 23.78125 \nL 21.578125 24.515625 \nQ 13.234375 26.265625 9.515625 29.90625 \nQ 5.8125 33.546875 5.8125 39.890625 \nQ 5.8125 47.609375 11.28125 51.796875 \nQ 16.75 56 26.8125 56 \nQ 31.78125 56 36.171875 55.265625 \nQ 40.578125 54.546875 44.28125 53.078125 \nz\n\" id=\"DejaVuSans-115\"/>\n     </defs>\n     <g transform=\"translate(14.798438 140.695937)rotate(-90)scale(0.1 -0.1)\">\n      <use xlink:href=\"#DejaVuSans-108\"/>\n      <use x=\"27.783203\" xlink:href=\"#DejaVuSans-111\"/>\n      <use x=\"88.964844\" xlink:href=\"#DejaVuSans-115\"/>\n      <use x=\"141.064453\" xlink:href=\"#DejaVuSans-115\"/>\n     </g>\n    </g>\n    <g id=\"text_17\">\n     <!-- 1e17 -->\n     <g transform=\"translate(43.78125 19.318125)scale(0.1 -0.1)\">\n      <use xlink:href=\"#DejaVuSans-49\"/>\n      <use x=\"63.623047\" xlink:href=\"#DejaVuSans-101\"/>\n      <use x=\"125.146484\" xlink:href=\"#DejaVuSans-49\"/>\n      <use x=\"188.769531\" xlink:href=\"#DejaVuSans-55\"/>\n     </g>\n    </g>\n   </g>\n   <g id=\"line2d_15\">\n    <path clip-path=\"url(#p6fa5039561)\" d=\"M 58.999432 32.201761 \nL 69.49473 41.156768 \nL 79.990027 64.783754 \nL 90.485325 94.956705 \nL 100.980623 120.605562 \nL 111.475921 140.598256 \nL 121.971219 157.992505 \nL 132.466516 173.747269 \nL 142.961814 187.352537 \nL 153.457112 198.110602 \nL 163.95241 206.669029 \nL 174.447708 213.12888 \nL 184.943005 217.467132 \nL 195.438303 220.17808 \nL 205.933601 221.83057 \nL 216.428899 222.946645 \nL 226.924197 223.837648 \nL 237.419495 224.640301 \nL 247.914792 225.388131 \nL 258.41009 226.088876 \nL 268.905388 226.71582 \nL 279.400686 227.285256 \nL 289.895984 227.785417 \nL 300.391281 228.231161 \nL 310.886579 228.618876 \nL 321.381877 228.960836 \nL 331.877175 229.251885 \nL 342.372473 229.491419 \nL 352.86777 229.699848 \nL 363.363068 229.874489 \n\" style=\"fill:none;stroke:#1f77b4;stroke-linecap:square;stroke-width:1.5;\"/>\n    <defs>\n     <path d=\"M 0 1.5 \nC 0.397805 1.5 0.77937 1.341951 1.06066 1.06066 \nC 1.341951 0.77937 1.5 0.397805 1.5 0 \nC 1.5 -0.397805 1.341951 -0.77937 1.06066 -1.06066 \nC 0.77937 -1.341951 0.397805 -1.5 0 -1.5 \nC -0.397805 -1.5 -0.77937 -1.341951 -1.06066 -1.06066 \nC -1.341951 -0.77937 -1.5 -0.397805 -1.5 0 \nC -1.5 0.397805 -1.341951 0.77937 -1.06066 1.06066 \nC -0.77937 1.341951 -0.397805 1.5 0 1.5 \nz\n\" id=\"m457d0bb13d\" style=\"stroke:#1f77b4;\"/>\n    </defs>\n    <g clip-path=\"url(#p6fa5039561)\">\n     <use style=\"fill:#1f77b4;stroke:#1f77b4;\" x=\"58.999432\" xlink:href=\"#m457d0bb13d\" y=\"32.201761\"/>\n     <use style=\"fill:#1f77b4;stroke:#1f77b4;\" x=\"69.49473\" xlink:href=\"#m457d0bb13d\" y=\"41.156768\"/>\n     <use style=\"fill:#1f77b4;stroke:#1f77b4;\" x=\"79.990027\" xlink:href=\"#m457d0bb13d\" y=\"64.783754\"/>\n     <use style=\"fill:#1f77b4;stroke:#1f77b4;\" x=\"90.485325\" xlink:href=\"#m457d0bb13d\" y=\"94.956705\"/>\n     <use style=\"fill:#1f77b4;stroke:#1f77b4;\" x=\"100.980623\" xlink:href=\"#m457d0bb13d\" y=\"120.605562\"/>\n     <use style=\"fill:#1f77b4;stroke:#1f77b4;\" x=\"111.475921\" xlink:href=\"#m457d0bb13d\" y=\"140.598256\"/>\n     <use style=\"fill:#1f77b4;stroke:#1f77b4;\" x=\"121.971219\" xlink:href=\"#m457d0bb13d\" y=\"157.992505\"/>\n     <use style=\"fill:#1f77b4;stroke:#1f77b4;\" x=\"132.466516\" xlink:href=\"#m457d0bb13d\" y=\"173.747269\"/>\n     <use style=\"fill:#1f77b4;stroke:#1f77b4;\" x=\"142.961814\" xlink:href=\"#m457d0bb13d\" y=\"187.352537\"/>\n     <use style=\"fill:#1f77b4;stroke:#1f77b4;\" x=\"153.457112\" xlink:href=\"#m457d0bb13d\" y=\"198.110602\"/>\n     <use style=\"fill:#1f77b4;stroke:#1f77b4;\" x=\"163.95241\" xlink:href=\"#m457d0bb13d\" y=\"206.669029\"/>\n     <use style=\"fill:#1f77b4;stroke:#1f77b4;\" x=\"174.447708\" xlink:href=\"#m457d0bb13d\" y=\"213.12888\"/>\n     <use style=\"fill:#1f77b4;stroke:#1f77b4;\" x=\"184.943005\" xlink:href=\"#m457d0bb13d\" y=\"217.467132\"/>\n     <use style=\"fill:#1f77b4;stroke:#1f77b4;\" x=\"195.438303\" xlink:href=\"#m457d0bb13d\" y=\"220.17808\"/>\n     <use style=\"fill:#1f77b4;stroke:#1f77b4;\" x=\"205.933601\" xlink:href=\"#m457d0bb13d\" y=\"221.83057\"/>\n     <use style=\"fill:#1f77b4;stroke:#1f77b4;\" x=\"216.428899\" xlink:href=\"#m457d0bb13d\" y=\"222.946645\"/>\n     <use style=\"fill:#1f77b4;stroke:#1f77b4;\" x=\"226.924197\" xlink:href=\"#m457d0bb13d\" y=\"223.837648\"/>\n     <use style=\"fill:#1f77b4;stroke:#1f77b4;\" x=\"237.419495\" xlink:href=\"#m457d0bb13d\" y=\"224.640301\"/>\n     <use style=\"fill:#1f77b4;stroke:#1f77b4;\" x=\"247.914792\" xlink:href=\"#m457d0bb13d\" y=\"225.388131\"/>\n     <use style=\"fill:#1f77b4;stroke:#1f77b4;\" x=\"258.41009\" xlink:href=\"#m457d0bb13d\" y=\"226.088876\"/>\n     <use style=\"fill:#1f77b4;stroke:#1f77b4;\" x=\"268.905388\" xlink:href=\"#m457d0bb13d\" y=\"226.71582\"/>\n     <use style=\"fill:#1f77b4;stroke:#1f77b4;\" x=\"279.400686\" xlink:href=\"#m457d0bb13d\" y=\"227.285256\"/>\n     <use style=\"fill:#1f77b4;stroke:#1f77b4;\" x=\"289.895984\" xlink:href=\"#m457d0bb13d\" y=\"227.785417\"/>\n     <use style=\"fill:#1f77b4;stroke:#1f77b4;\" x=\"300.391281\" xlink:href=\"#m457d0bb13d\" y=\"228.231161\"/>\n     <use style=\"fill:#1f77b4;stroke:#1f77b4;\" x=\"310.886579\" xlink:href=\"#m457d0bb13d\" y=\"228.618876\"/>\n     <use style=\"fill:#1f77b4;stroke:#1f77b4;\" x=\"321.381877\" xlink:href=\"#m457d0bb13d\" y=\"228.960836\"/>\n     <use style=\"fill:#1f77b4;stroke:#1f77b4;\" x=\"331.877175\" xlink:href=\"#m457d0bb13d\" y=\"229.251885\"/>\n     <use style=\"fill:#1f77b4;stroke:#1f77b4;\" x=\"342.372473\" xlink:href=\"#m457d0bb13d\" y=\"229.491419\"/>\n     <use style=\"fill:#1f77b4;stroke:#1f77b4;\" x=\"352.86777\" xlink:href=\"#m457d0bb13d\" y=\"229.699848\"/>\n     <use style=\"fill:#1f77b4;stroke:#1f77b4;\" x=\"363.363068\" xlink:href=\"#m457d0bb13d\" y=\"229.874489\"/>\n    </g>\n   </g>\n   <g id=\"line2d_16\">\n    <path clip-path=\"url(#p6fa5039561)\" d=\"M 58.999432 49.767513 \nL 69.49473 65.159297 \nL 79.990027 91.887584 \nL 90.485325 118.209226 \nL 100.980623 137.961131 \nL 111.475921 154.480602 \nL 121.971219 169.574373 \nL 132.466516 183.283704 \nL 142.961814 194.518648 \nL 153.457112 203.390488 \nL 163.95241 210.414702 \nL 174.447708 215.442515 \nL 184.943005 218.61591 \nL 195.438303 220.503183 \nL 205.933601 221.664135 \nL 216.428899 222.510375 \nL 226.924197 223.238067 \nL 237.419495 223.922635 \nL 247.914792 224.552376 \nL 258.41009 225.112007 \nL 268.905388 225.622526 \nL 279.400686 226.073779 \nL 289.895984 226.465597 \nL 300.391281 226.83756 \nL 310.886579 227.15148 \nL 321.381877 227.405897 \nL 331.877175 227.636921 \nL 342.372473 227.838714 \nL 352.86777 227.999041 \nL 363.363068 228.150494 \n\" style=\"fill:none;stroke:#ff7f0e;stroke-linecap:square;stroke-width:1.5;\"/>\n    <defs>\n     <path d=\"M 0 1.5 \nC 0.397805 1.5 0.77937 1.341951 1.06066 1.06066 \nC 1.341951 0.77937 1.5 0.397805 1.5 0 \nC 1.5 -0.397805 1.341951 -0.77937 1.06066 -1.06066 \nC 0.77937 -1.341951 0.397805 -1.5 0 -1.5 \nC -0.397805 -1.5 -0.77937 -1.341951 -1.06066 -1.06066 \nC -1.341951 -0.77937 -1.5 -0.397805 -1.5 0 \nC -1.5 0.397805 -1.341951 0.77937 -1.06066 1.06066 \nC -0.77937 1.341951 -0.397805 1.5 0 1.5 \nz\n\" id=\"m19865af612\" style=\"stroke:#ff7f0e;\"/>\n    </defs>\n    <g clip-path=\"url(#p6fa5039561)\">\n     <use style=\"fill:#ff7f0e;stroke:#ff7f0e;\" x=\"58.999432\" xlink:href=\"#m19865af612\" y=\"49.767513\"/>\n     <use style=\"fill:#ff7f0e;stroke:#ff7f0e;\" x=\"69.49473\" xlink:href=\"#m19865af612\" y=\"65.159297\"/>\n     <use style=\"fill:#ff7f0e;stroke:#ff7f0e;\" x=\"79.990027\" xlink:href=\"#m19865af612\" y=\"91.887584\"/>\n     <use style=\"fill:#ff7f0e;stroke:#ff7f0e;\" x=\"90.485325\" xlink:href=\"#m19865af612\" y=\"118.209226\"/>\n     <use style=\"fill:#ff7f0e;stroke:#ff7f0e;\" x=\"100.980623\" xlink:href=\"#m19865af612\" y=\"137.961131\"/>\n     <use style=\"fill:#ff7f0e;stroke:#ff7f0e;\" x=\"111.475921\" xlink:href=\"#m19865af612\" y=\"154.480602\"/>\n     <use style=\"fill:#ff7f0e;stroke:#ff7f0e;\" x=\"121.971219\" xlink:href=\"#m19865af612\" y=\"169.574373\"/>\n     <use style=\"fill:#ff7f0e;stroke:#ff7f0e;\" x=\"132.466516\" xlink:href=\"#m19865af612\" y=\"183.283704\"/>\n     <use style=\"fill:#ff7f0e;stroke:#ff7f0e;\" x=\"142.961814\" xlink:href=\"#m19865af612\" y=\"194.518648\"/>\n     <use style=\"fill:#ff7f0e;stroke:#ff7f0e;\" x=\"153.457112\" xlink:href=\"#m19865af612\" y=\"203.390488\"/>\n     <use style=\"fill:#ff7f0e;stroke:#ff7f0e;\" x=\"163.95241\" xlink:href=\"#m19865af612\" y=\"210.414702\"/>\n     <use style=\"fill:#ff7f0e;stroke:#ff7f0e;\" x=\"174.447708\" xlink:href=\"#m19865af612\" y=\"215.442515\"/>\n     <use style=\"fill:#ff7f0e;stroke:#ff7f0e;\" x=\"184.943005\" xlink:href=\"#m19865af612\" y=\"218.61591\"/>\n     <use style=\"fill:#ff7f0e;stroke:#ff7f0e;\" x=\"195.438303\" xlink:href=\"#m19865af612\" y=\"220.503183\"/>\n     <use style=\"fill:#ff7f0e;stroke:#ff7f0e;\" x=\"205.933601\" xlink:href=\"#m19865af612\" y=\"221.664135\"/>\n     <use style=\"fill:#ff7f0e;stroke:#ff7f0e;\" x=\"216.428899\" xlink:href=\"#m19865af612\" y=\"222.510375\"/>\n     <use style=\"fill:#ff7f0e;stroke:#ff7f0e;\" x=\"226.924197\" xlink:href=\"#m19865af612\" y=\"223.238067\"/>\n     <use style=\"fill:#ff7f0e;stroke:#ff7f0e;\" x=\"237.419495\" xlink:href=\"#m19865af612\" y=\"223.922635\"/>\n     <use style=\"fill:#ff7f0e;stroke:#ff7f0e;\" x=\"247.914792\" xlink:href=\"#m19865af612\" y=\"224.552376\"/>\n     <use style=\"fill:#ff7f0e;stroke:#ff7f0e;\" x=\"258.41009\" xlink:href=\"#m19865af612\" y=\"225.112007\"/>\n     <use style=\"fill:#ff7f0e;stroke:#ff7f0e;\" x=\"268.905388\" xlink:href=\"#m19865af612\" y=\"225.622526\"/>\n     <use style=\"fill:#ff7f0e;stroke:#ff7f0e;\" x=\"279.400686\" xlink:href=\"#m19865af612\" y=\"226.073779\"/>\n     <use style=\"fill:#ff7f0e;stroke:#ff7f0e;\" x=\"289.895984\" xlink:href=\"#m19865af612\" y=\"226.465597\"/>\n     <use style=\"fill:#ff7f0e;stroke:#ff7f0e;\" x=\"300.391281\" xlink:href=\"#m19865af612\" y=\"226.83756\"/>\n     <use style=\"fill:#ff7f0e;stroke:#ff7f0e;\" x=\"310.886579\" xlink:href=\"#m19865af612\" y=\"227.15148\"/>\n     <use style=\"fill:#ff7f0e;stroke:#ff7f0e;\" x=\"321.381877\" xlink:href=\"#m19865af612\" y=\"227.405897\"/>\n     <use style=\"fill:#ff7f0e;stroke:#ff7f0e;\" x=\"331.877175\" xlink:href=\"#m19865af612\" y=\"227.636921\"/>\n     <use style=\"fill:#ff7f0e;stroke:#ff7f0e;\" x=\"342.372473\" xlink:href=\"#m19865af612\" y=\"227.838714\"/>\n     <use style=\"fill:#ff7f0e;stroke:#ff7f0e;\" x=\"352.86777\" xlink:href=\"#m19865af612\" y=\"227.999041\"/>\n     <use style=\"fill:#ff7f0e;stroke:#ff7f0e;\" x=\"363.363068\" xlink:href=\"#m19865af612\" y=\"228.150494\"/>\n    </g>\n   </g>\n   <g id=\"patch_3\">\n    <path d=\"M 43.78125 239.758125 \nL 43.78125 22.318125 \n\" style=\"fill:none;stroke:#000000;stroke-linecap:square;stroke-linejoin:miter;stroke-width:0.8;\"/>\n   </g>\n   <g id=\"patch_4\">\n    <path d=\"M 378.58125 239.758125 \nL 378.58125 22.318125 \n\" style=\"fill:none;stroke:#000000;stroke-linecap:square;stroke-linejoin:miter;stroke-width:0.8;\"/>\n   </g>\n   <g id=\"patch_5\">\n    <path d=\"M 43.78125 239.758125 \nL 378.58125 239.758125 \n\" style=\"fill:none;stroke:#000000;stroke-linecap:square;stroke-linejoin:miter;stroke-width:0.8;\"/>\n   </g>\n   <g id=\"patch_6\">\n    <path d=\"M 43.78125 22.318125 \nL 378.58125 22.318125 \n\" style=\"fill:none;stroke:#000000;stroke-linecap:square;stroke-linejoin:miter;stroke-width:0.8;\"/>\n   </g>\n   <g id=\"text_18\">\n    <!-- model loss -->\n    <defs>\n     <path d=\"M 52 44.1875 \nQ 55.375 50.25 60.0625 53.125 \nQ 64.75 56 71.09375 56 \nQ 79.640625 56 84.28125 50.015625 \nQ 88.921875 44.046875 88.921875 33.015625 \nL 88.921875 0 \nL 79.890625 0 \nL 79.890625 32.71875 \nQ 79.890625 40.578125 77.09375 44.375 \nQ 74.3125 48.1875 68.609375 48.1875 \nQ 61.625 48.1875 57.5625 43.546875 \nQ 53.515625 38.921875 53.515625 30.90625 \nL 53.515625 0 \nL 44.484375 0 \nL 44.484375 32.71875 \nQ 44.484375 40.625 41.703125 44.40625 \nQ 38.921875 48.1875 33.109375 48.1875 \nQ 26.21875 48.1875 22.15625 43.53125 \nQ 18.109375 38.875 18.109375 30.90625 \nL 18.109375 0 \nL 9.078125 0 \nL 9.078125 54.6875 \nL 18.109375 54.6875 \nL 18.109375 46.1875 \nQ 21.1875 51.21875 25.484375 53.609375 \nQ 29.78125 56 35.6875 56 \nQ 41.65625 56 45.828125 52.96875 \nQ 50 49.953125 52 44.1875 \nz\n\" id=\"DejaVuSans-109\"/>\n     <path d=\"M 45.40625 46.390625 \nL 45.40625 75.984375 \nL 54.390625 75.984375 \nL 54.390625 0 \nL 45.40625 0 \nL 45.40625 8.203125 \nQ 42.578125 3.328125 38.25 0.953125 \nQ 33.9375 -1.421875 27.875 -1.421875 \nQ 17.96875 -1.421875 11.734375 6.484375 \nQ 5.515625 14.40625 5.515625 27.296875 \nQ 5.515625 40.1875 11.734375 48.09375 \nQ 17.96875 56 27.875 56 \nQ 33.9375 56 38.25 53.625 \nQ 42.578125 51.265625 45.40625 46.390625 \nz\nM 14.796875 27.296875 \nQ 14.796875 17.390625 18.875 11.75 \nQ 22.953125 6.109375 30.078125 6.109375 \nQ 37.203125 6.109375 41.296875 11.75 \nQ 45.40625 17.390625 45.40625 27.296875 \nQ 45.40625 37.203125 41.296875 42.84375 \nQ 37.203125 48.484375 30.078125 48.484375 \nQ 22.953125 48.484375 18.875 42.84375 \nQ 14.796875 37.203125 14.796875 27.296875 \nz\n\" id=\"DejaVuSans-100\"/>\n     <path id=\"DejaVuSans-32\"/>\n    </defs>\n    <g transform=\"translate(179.001563 16.318125)scale(0.12 -0.12)\">\n     <use xlink:href=\"#DejaVuSans-109\"/>\n     <use x=\"97.412109\" xlink:href=\"#DejaVuSans-111\"/>\n     <use x=\"158.59375\" xlink:href=\"#DejaVuSans-100\"/>\n     <use x=\"222.070312\" xlink:href=\"#DejaVuSans-101\"/>\n     <use x=\"283.59375\" xlink:href=\"#DejaVuSans-108\"/>\n     <use x=\"311.376953\" xlink:href=\"#DejaVuSans-32\"/>\n     <use x=\"343.164062\" xlink:href=\"#DejaVuSans-108\"/>\n     <use x=\"370.947266\" xlink:href=\"#DejaVuSans-111\"/>\n     <use x=\"432.128906\" xlink:href=\"#DejaVuSans-115\"/>\n     <use x=\"484.228516\" xlink:href=\"#DejaVuSans-115\"/>\n    </g>\n   </g>\n   <g id=\"legend_1\">\n    <g id=\"patch_7\">\n     <path d=\"M 50.78125 59.674375 \nL 106.05625 59.674375 \nQ 108.05625 59.674375 108.05625 57.674375 \nL 108.05625 29.318125 \nQ 108.05625 27.318125 106.05625 27.318125 \nL 50.78125 27.318125 \nQ 48.78125 27.318125 48.78125 29.318125 \nL 48.78125 57.674375 \nQ 48.78125 59.674375 50.78125 59.674375 \nz\n\" style=\"fill:#ffffff;opacity:0.8;stroke:#cccccc;stroke-linejoin:miter;\"/>\n    </g>\n    <g id=\"line2d_17\">\n     <path d=\"M 52.78125 35.416562 \nL 72.78125 35.416562 \n\" style=\"fill:none;stroke:#1f77b4;stroke-linecap:square;stroke-width:1.5;\"/>\n    </g>\n    <g id=\"line2d_18\">\n     <g>\n      <use style=\"fill:#1f77b4;stroke:#1f77b4;\" x=\"62.78125\" xlink:href=\"#m457d0bb13d\" y=\"35.416562\"/>\n     </g>\n    </g>\n    <g id=\"text_19\">\n     <!-- train -->\n     <defs>\n      <path d=\"M 18.3125 70.21875 \nL 18.3125 54.6875 \nL 36.8125 54.6875 \nL 36.8125 47.703125 \nL 18.3125 47.703125 \nL 18.3125 18.015625 \nQ 18.3125 11.328125 20.140625 9.421875 \nQ 21.96875 7.515625 27.59375 7.515625 \nL 36.8125 7.515625 \nL 36.8125 0 \nL 27.59375 0 \nQ 17.1875 0 13.234375 3.875 \nQ 9.28125 7.765625 9.28125 18.015625 \nL 9.28125 47.703125 \nL 2.6875 47.703125 \nL 2.6875 54.6875 \nL 9.28125 54.6875 \nL 9.28125 70.21875 \nz\n\" id=\"DejaVuSans-116\"/>\n      <path d=\"M 41.109375 46.296875 \nQ 39.59375 47.171875 37.8125 47.578125 \nQ 36.03125 48 33.890625 48 \nQ 26.265625 48 22.1875 43.046875 \nQ 18.109375 38.09375 18.109375 28.8125 \nL 18.109375 0 \nL 9.078125 0 \nL 9.078125 54.6875 \nL 18.109375 54.6875 \nL 18.109375 46.1875 \nQ 20.953125 51.171875 25.484375 53.578125 \nQ 30.03125 56 36.53125 56 \nQ 37.453125 56 38.578125 55.875 \nQ 39.703125 55.765625 41.0625 55.515625 \nz\n\" id=\"DejaVuSans-114\"/>\n      <path d=\"M 34.28125 27.484375 \nQ 23.390625 27.484375 19.1875 25 \nQ 14.984375 22.515625 14.984375 16.5 \nQ 14.984375 11.71875 18.140625 8.90625 \nQ 21.296875 6.109375 26.703125 6.109375 \nQ 34.1875 6.109375 38.703125 11.40625 \nQ 43.21875 16.703125 43.21875 25.484375 \nL 43.21875 27.484375 \nz\nM 52.203125 31.203125 \nL 52.203125 0 \nL 43.21875 0 \nL 43.21875 8.296875 \nQ 40.140625 3.328125 35.546875 0.953125 \nQ 30.953125 -1.421875 24.3125 -1.421875 \nQ 15.921875 -1.421875 10.953125 3.296875 \nQ 6 8.015625 6 15.921875 \nQ 6 25.140625 12.171875 29.828125 \nQ 18.359375 34.515625 30.609375 34.515625 \nL 43.21875 34.515625 \nL 43.21875 35.40625 \nQ 43.21875 41.609375 39.140625 45 \nQ 35.0625 48.390625 27.6875 48.390625 \nQ 23 48.390625 18.546875 47.265625 \nQ 14.109375 46.140625 10.015625 43.890625 \nL 10.015625 52.203125 \nQ 14.9375 54.109375 19.578125 55.046875 \nQ 24.21875 56 28.609375 56 \nQ 40.484375 56 46.34375 49.84375 \nQ 52.203125 43.703125 52.203125 31.203125 \nz\n\" id=\"DejaVuSans-97\"/>\n      <path d=\"M 9.421875 54.6875 \nL 18.40625 54.6875 \nL 18.40625 0 \nL 9.421875 0 \nz\nM 9.421875 75.984375 \nL 18.40625 75.984375 \nL 18.40625 64.59375 \nL 9.421875 64.59375 \nz\n\" id=\"DejaVuSans-105\"/>\n      <path d=\"M 54.890625 33.015625 \nL 54.890625 0 \nL 45.90625 0 \nL 45.90625 32.71875 \nQ 45.90625 40.484375 42.875 44.328125 \nQ 39.84375 48.1875 33.796875 48.1875 \nQ 26.515625 48.1875 22.3125 43.546875 \nQ 18.109375 38.921875 18.109375 30.90625 \nL 18.109375 0 \nL 9.078125 0 \nL 9.078125 54.6875 \nL 18.109375 54.6875 \nL 18.109375 46.1875 \nQ 21.34375 51.125 25.703125 53.5625 \nQ 30.078125 56 35.796875 56 \nQ 45.21875 56 50.046875 50.171875 \nQ 54.890625 44.34375 54.890625 33.015625 \nz\n\" id=\"DejaVuSans-110\"/>\n     </defs>\n     <g transform=\"translate(80.78125 38.916562)scale(0.1 -0.1)\">\n      <use xlink:href=\"#DejaVuSans-116\"/>\n      <use x=\"39.208984\" xlink:href=\"#DejaVuSans-114\"/>\n      <use x=\"80.322266\" xlink:href=\"#DejaVuSans-97\"/>\n      <use x=\"141.601562\" xlink:href=\"#DejaVuSans-105\"/>\n      <use x=\"169.384766\" xlink:href=\"#DejaVuSans-110\"/>\n     </g>\n    </g>\n    <g id=\"line2d_19\">\n     <path d=\"M 52.78125 50.094687 \nL 72.78125 50.094687 \n\" style=\"fill:none;stroke:#ff7f0e;stroke-linecap:square;stroke-width:1.5;\"/>\n    </g>\n    <g id=\"line2d_20\">\n     <g>\n      <use style=\"fill:#ff7f0e;stroke:#ff7f0e;\" x=\"62.78125\" xlink:href=\"#m19865af612\" y=\"50.094687\"/>\n     </g>\n    </g>\n    <g id=\"text_20\">\n     <!-- test -->\n     <g transform=\"translate(80.78125 53.594687)scale(0.1 -0.1)\">\n      <use xlink:href=\"#DejaVuSans-116\"/>\n      <use x=\"39.208984\" xlink:href=\"#DejaVuSans-101\"/>\n      <use x=\"100.732422\" xlink:href=\"#DejaVuSans-115\"/>\n      <use x=\"152.832031\" xlink:href=\"#DejaVuSans-116\"/>\n     </g>\n    </g>\n   </g>\n  </g>\n </g>\n <defs>\n  <clipPath id=\"p6fa5039561\">\n   <rect height=\"217.44\" width=\"334.8\" x=\"43.78125\" y=\"22.318125\"/>\n  </clipPath>\n </defs>\n</svg>\n",
      "image/png": "[encoded data removed]"
     },
     "metadata": {
      "needs_background": "light"
     }
    }
   ],
   "source": [
    "# summarize history for loss\n",
    "from matplotlib import pyplot as plt\n",
    "plt.plot(history.history['loss'], '.-')\n",
    "plt.plot(history.history['val_loss'], '.-')\n",
    "plt.title('model loss')\n",
    "plt.ylabel('loss')\n",
    "plt.xlabel('epoch')\n",
    "plt.legend(['train', 'test'], loc='upper left')\n",
    "plt.show()"
   ]
  },
  {
   "cell_type": "code",
   "execution_count": 44,
   "metadata": {
    "colab": {},
    "colab_type": "code",
    "id": "XwuMqrdwgUqh"
   },
   "outputs": [
    {
     "output_type": "stream",
     "name": "stdout",
     "text": "Collecting pip\n  Using cached pip-20.1.1-py2.py3-none-any.whl (1.5 MB)\nInstalling collected packages: pip\n  Attempting uninstall: pip\n    Found existing installation: pip 20.1\n    Uninstalling pip-20.1:\n      Successfully uninstalled pip-20.1\nSuccessfully installed pip-20.1.1\nCollecting tensorflow==2.2\n  Using cached tensorflow-2.2.0-cp37-cp37m-manylinux2010_x86_64.whl (516.2 MB)\nRequirement already satisfied: scipy==1.4.1; python_version >= \"3\" in /home_nfs/mimounis/anaconda3/lib/python3.7/site-packages (from tensorflow==2.2) (1.4.1)\nRequirement already satisfied: astunparse==1.6.3 in /home_nfs/mimounis/anaconda3/lib/python3.7/site-packages (from tensorflow==2.2) (1.6.3)\nRequirement already satisfied: gast==0.3.3 in /home_nfs/mimounis/anaconda3/lib/python3.7/site-packages (from tensorflow==2.2) (0.3.3)\nRequirement already satisfied: wheel>=0.26; python_version >= \"3\" in /home_nfs/mimounis/anaconda3/lib/python3.7/site-packages (from tensorflow==2.2) (0.33.6)\nCollecting h5py<2.11.0,>=2.10.0\n  Using cached h5py-2.10.0-cp37-cp37m-manylinux1_x86_64.whl (2.9 MB)\nRequirement already satisfied: termcolor>=1.1.0 in /home_nfs/mimounis/anaconda3/lib/python3.7/site-packages (from tensorflow==2.2) (1.1.0)\nRequirement already satisfied: keras-preprocessing>=1.1.0 in /home_nfs/mimounis/anaconda3/lib/python3.7/site-packages (from tensorflow==2.2) (1.1.0)\nRequirement already satisfied: tensorflow-estimator<2.3.0,>=2.2.0 in /home_nfs/mimounis/anaconda3/lib/python3.7/site-packages (from tensorflow==2.2) (2.2.0)\nRequirement already satisfied: numpy<2.0,>=1.16.0 in /home_nfs/mimounis/anaconda3/lib/python3.7/site-packages (from tensorflow==2.2) (1.16.6)\nRequirement already satisfied: absl-py>=0.7.0 in /home_nfs/mimounis/anaconda3/lib/python3.7/site-packages (from tensorflow==2.2) (0.8.1)\nRequirement already satisfied: grpcio>=1.8.6 in /home_nfs/mimounis/anaconda3/lib/python3.7/site-packages (from tensorflow==2.2) (1.24.3)\nRequirement already satisfied: wrapt>=1.11.1 in /home_nfs/mimounis/anaconda3/lib/python3.7/site-packages (from tensorflow==2.2) (1.11.2)\nRequirement already satisfied: protobuf>=3.8.0 in /home_nfs/mimounis/anaconda3/lib/python3.7/site-packages (from tensorflow==2.2) (3.10.0)\nRequirement already satisfied: opt-einsum>=2.3.2 in /home_nfs/mimounis/anaconda3/lib/python3.7/site-packages (from tensorflow==2.2) (3.1.0)\nRequirement already satisfied: six>=1.12.0 in /home_nfs/mimounis/anaconda3/lib/python3.7/site-packages (from tensorflow==2.2) (1.12.0)\nRequirement already satisfied: google-pasta>=0.1.8 in /home_nfs/mimounis/anaconda3/lib/python3.7/site-packages (from tensorflow==2.2) (0.2.0)\nCollecting tensorboard<2.3.0,>=2.2.0\n  Using cached tensorboard-2.2.1-py3-none-any.whl (3.0 MB)\nRequirement already satisfied: setuptools in /home_nfs/mimounis/anaconda3/lib/python3.7/site-packages (from protobuf>=3.8.0->tensorflow==2.2) (41.4.0)\nRequirement already satisfied: werkzeug>=0.11.15 in /home_nfs/mimounis/anaconda3/lib/python3.7/site-packages (from tensorboard<2.3.0,>=2.2.0->tensorflow==2.2) (0.16.0)\nCollecting tensorboard-plugin-wit>=1.6.0\n  Using cached tensorboard_plugin_wit-1.6.0.post3-py3-none-any.whl (777 kB)\nRequirement already satisfied: requests<3,>=2.21.0 in /home_nfs/mimounis/anaconda3/lib/python3.7/site-packages (from tensorboard<2.3.0,>=2.2.0->tensorflow==2.2) (2.21.0)\nCollecting google-auth-oauthlib<0.5,>=0.4.1\n  Using cached google_auth_oauthlib-0.4.1-py2.py3-none-any.whl (18 kB)\nCollecting google-auth<2,>=1.6.3\n  Using cached google_auth-1.15.0-py2.py3-none-any.whl (89 kB)\nRequirement already satisfied: markdown>=2.6.8 in /home_nfs/mimounis/anaconda3/lib/python3.7/site-packages (from tensorboard<2.3.0,>=2.2.0->tensorflow==2.2) (3.1.1)\nRequirement already satisfied: idna<2.9,>=2.5 in /home_nfs/mimounis/anaconda3/lib/python3.7/site-packages (from requests<3,>=2.21.0->tensorboard<2.3.0,>=2.2.0->tensorflow==2.2) (2.8)\nRequirement already satisfied: chardet<3.1.0,>=3.0.2 in /home_nfs/mimounis/anaconda3/lib/python3.7/site-packages (from requests<3,>=2.21.0->tensorboard<2.3.0,>=2.2.0->tensorflow==2.2) (3.0.4)\nRequirement already satisfied: certifi>=2017.4.17 in /home_nfs/mimounis/anaconda3/lib/python3.7/site-packages (from requests<3,>=2.21.0->tensorboard<2.3.0,>=2.2.0->tensorflow==2.2) (2019.9.11)\nRequirement already satisfied: urllib3<1.25,>=1.21.1 in /home_nfs/mimounis/anaconda3/lib/python3.7/site-packages (from requests<3,>=2.21.0->tensorboard<2.3.0,>=2.2.0->tensorflow==2.2) (1.24.2)\nCollecting requests-oauthlib>=0.7.0\n  Using cached requests_oauthlib-1.3.0-py2.py3-none-any.whl (23 kB)\nCollecting pyasn1-modules>=0.2.1\n  Using cached pyasn1_modules-0.2.8-py2.py3-none-any.whl (155 kB)\nCollecting rsa<4.1,>=3.1.4\n  Using cached rsa-4.0-py2.py3-none-any.whl (38 kB)\nCollecting cachetools<5.0,>=2.0.0\n  Using cached cachetools-4.1.0-py3-none-any.whl (10 kB)\nCollecting oauthlib>=3.0.0\n  Using cached oauthlib-3.1.0-py2.py3-none-any.whl (147 kB)\nCollecting pyasn1<0.5.0,>=0.4.6\n  Using cached pyasn1-0.4.8-py2.py3-none-any.whl (77 kB)\nInstalling collected packages: h5py, tensorboard-plugin-wit, oauthlib, requests-oauthlib, pyasn1, pyasn1-modules, rsa, cachetools, google-auth, google-auth-oauthlib, tensorboard, tensorflow\n  Attempting uninstall: h5py\n    Found existing installation: h5py 2.9.0\n    Uninstalling h5py-2.9.0:\n      Successfully uninstalled h5py-2.9.0\nERROR: Could not install packages due to an EnvironmentError: [Errno 16] Device or resource busy: '.nfs000000000c94b09d0000000f'\n\nRequirement already satisfied: autokeras in /home_nfs/mimounis/anaconda3/lib/python3.7/site-packages (1.0.2)\nRequirement already satisfied: scikit-learn in /home_nfs/mimounis/anaconda3/lib/python3.7/site-packages (from autokeras) (0.21.3)\nRequirement already satisfied: packaging in /home_nfs/mimounis/anaconda3/lib/python3.7/site-packages (from autokeras) (19.2)\nRequirement already satisfied: pandas in /home_nfs/mimounis/anaconda3/lib/python3.7/site-packages (from autokeras) (0.25.2)\nRequirement already satisfied: numpy in /home_nfs/mimounis/anaconda3/lib/python3.7/site-packages (from autokeras) (1.16.6)\nRequirement already satisfied: keras-tuner>=1.0.1 in /home_nfs/mimounis/anaconda3/lib/python3.7/site-packages (from autokeras) (1.0.1)\nRequirement already satisfied: joblib>=0.11 in /home_nfs/mimounis/anaconda3/lib/python3.7/site-packages (from scikit-learn->autokeras) (0.13.2)\nRequirement already satisfied: scipy>=0.17.0 in /home_nfs/mimounis/anaconda3/lib/python3.7/site-packages (from scikit-learn->autokeras) (1.4.1)\nRequirement already satisfied: pyparsing>=2.0.2 in /home_nfs/mimounis/anaconda3/lib/python3.7/site-packages (from packaging->autokeras) (2.4.2)\nRequirement already satisfied: six in /home_nfs/mimounis/anaconda3/lib/python3.7/site-packages (from packaging->autokeras) (1.12.0)\nRequirement already satisfied: pytz>=2017.2 in /home_nfs/mimounis/anaconda3/lib/python3.7/site-packages (from pandas->autokeras) (2019.3)\nRequirement already satisfied: python-dateutil>=2.6.1 in /home_nfs/mimounis/anaconda3/lib/python3.7/site-packages (from pandas->autokeras) (2.8.0)\nRequirement already satisfied: requests in /home_nfs/mimounis/anaconda3/lib/python3.7/site-packages (from keras-tuner>=1.0.1->autokeras) (2.21.0)\nRequirement already satisfied: tqdm in /home_nfs/mimounis/anaconda3/lib/python3.7/site-packages (from keras-tuner>=1.0.1->autokeras) (4.36.1)\nRequirement already satisfied: future in /home_nfs/mimounis/anaconda3/lib/python3.7/site-packages (from keras-tuner>=1.0.1->autokeras) (0.17.1)\nRequirement already satisfied: colorama in /home_nfs/mimounis/anaconda3/lib/python3.7/site-packages (from keras-tuner>=1.0.1->autokeras) (0.4.1)\nRequirement already satisfied: tabulate in /home_nfs/mimounis/anaconda3/lib/python3.7/site-packages (from keras-tuner>=1.0.1->autokeras) (0.8.7)\nRequirement already satisfied: terminaltables in /home_nfs/mimounis/anaconda3/lib/python3.7/site-packages (from keras-tuner>=1.0.1->autokeras) (3.1.0)\nRequirement already satisfied: certifi>=2017.4.17 in /home_nfs/mimounis/anaconda3/lib/python3.7/site-packages (from requests->keras-tuner>=1.0.1->autokeras) (2019.9.11)\nRequirement already satisfied: chardet<3.1.0,>=3.0.2 in /home_nfs/mimounis/anaconda3/lib/python3.7/site-packages (from requests->keras-tuner>=1.0.1->autokeras) (3.0.4)\nRequirement already satisfied: idna<2.9,>=2.5 in /home_nfs/mimounis/anaconda3/lib/python3.7/site-packages (from requests->keras-tuner>=1.0.1->autokeras) (2.8)\nRequirement already satisfied: urllib3<1.25,>=1.21.1 in /home_nfs/mimounis/anaconda3/lib/python3.7/site-packages (from requests->keras-tuner>=1.0.1->autokeras) (1.24.2)\n2.0.0\n"
    }
   ],
   "source": [
    "import os\n",
    "os.environ['http_proxy']='http://129.183.4.13:8080'\n",
    "os.environ['https_proxy']='http://129.183.4.13:8080'\n",
    "!pip install --upgrade pip\n",
    "!pip install tensorflow==2.2\n",
    "!pip install autokeras\n",
    "import tensorflow as tf \n",
    "print(tf.__version__)\n"
   ]
  },
  {
   "cell_type": "code",
   "execution_count": null,
   "metadata": {},
   "outputs": [],
   "source": []
  },
  {
   "cell_type": "code",
   "execution_count": null,
   "metadata": {},
   "outputs": [],
   "source": [
    "!pip uninstall -y autokeras\n",
    "!pip install autokeras\n",
    "import autokeras as ak\n",
    "data_type = len(features)*['numerical']\n",
    "data_type = dict(zip(features, data_type))\n",
    "regressor = ak.StructuredDataRegressor(max_trials=100, column_names=features, column_types=data_type)"
   ]
  },
  {
   "cell_type": "code",
   "execution_count": 0,
   "metadata": {
    "colab": {
     "base_uri": "https://localhost:8080/",
     "height": 1000
    },
    "colab_type": "code",
    "id": "sL59tz16FPsy",
    "outputId": "cc397750-f921-4405-c087-e17f819ab245"
   },
   "outputs": [
    {
     "name": "stdout",
     "output_type": "stream",
     "text": [
      "Epoch 1/1000\n",
      "489/489 [==============================] - 2s 3ms/step - loss: 0.0013 - mean_squared_error: 0.0013 - val_loss: 1.0535e-04 - val_mean_squared_error: 1.0535e-04\n",
      "Epoch 2/1000\n",
      "489/489 [==============================] - 1s 3ms/step - loss: 7.5106e-05 - mean_squared_error: 7.5106e-05 - val_loss: 5.6011e-05 - val_mean_squared_error: 5.6011e-05\n",
      "Epoch 3/1000\n",
      "489/489 [==============================] - 1s 3ms/step - loss: 4.9517e-05 - mean_squared_error: 4.9517e-05 - val_loss: 3.8763e-05 - val_mean_squared_error: 3.8763e-05\n",
      "Epoch 4/1000\n",
      "489/489 [==============================] - 1s 3ms/step - loss: 3.8636e-05 - mean_squared_error: 3.8636e-05 - val_loss: 2.9602e-05 - val_mean_squared_error: 2.9602e-05\n",
      "Epoch 5/1000\n",
      "489/489 [==============================] - 1s 3ms/step - loss: 3.3486e-05 - mean_squared_error: 3.3486e-05 - val_loss: 2.5658e-05 - val_mean_squared_error: 2.5658e-05\n",
      "Epoch 6/1000\n",
      "489/489 [==============================] - 1s 3ms/step - loss: 3.0549e-05 - mean_squared_error: 3.0549e-05 - val_loss: 2.1773e-05 - val_mean_squared_error: 2.1773e-05\n",
      "Epoch 7/1000\n",
      "489/489 [==============================] - 1s 3ms/step - loss: 2.6902e-05 - mean_squared_error: 2.6902e-05 - val_loss: 1.9376e-05 - val_mean_squared_error: 1.9376e-05\n",
      "Epoch 8/1000\n",
      "489/489 [==============================] - 1s 3ms/step - loss: 2.7060e-05 - mean_squared_error: 2.7060e-05 - val_loss: 2.0943e-05 - val_mean_squared_error: 2.0943e-05\n",
      "Epoch 9/1000\n",
      "489/489 [==============================] - 1s 3ms/step - loss: 2.6680e-05 - mean_squared_error: 2.6680e-05 - val_loss: 2.6041e-05 - val_mean_squared_error: 2.6041e-05\n",
      "Epoch 10/1000\n",
      "489/489 [==============================] - 1s 3ms/step - loss: 2.7904e-05 - mean_squared_error: 2.7904e-05 - val_loss: 2.8575e-05 - val_mean_squared_error: 2.8575e-05\n",
      "Epoch 11/1000\n",
      "489/489 [==============================] - 1s 3ms/step - loss: 2.3723e-05 - mean_squared_error: 2.3723e-05 - val_loss: 1.9580e-05 - val_mean_squared_error: 1.9580e-05\n",
      "Epoch 12/1000\n",
      "489/489 [==============================] - 1s 3ms/step - loss: 1.9244e-05 - mean_squared_error: 1.9244e-05 - val_loss: 1.7058e-05 - val_mean_squared_error: 1.7058e-05\n",
      "Epoch 13/1000\n",
      "489/489 [==============================] - 1s 3ms/step - loss: 1.9375e-05 - mean_squared_error: 1.9375e-05 - val_loss: 1.9483e-05 - val_mean_squared_error: 1.9483e-05\n",
      "Epoch 14/1000\n",
      "489/489 [==============================] - 1s 3ms/step - loss: 1.7259e-05 - mean_squared_error: 1.7259e-05 - val_loss: 1.5543e-05 - val_mean_squared_error: 1.5543e-05\n",
      "Epoch 15/1000\n",
      "489/489 [==============================] - 1s 3ms/step - loss: 1.5596e-05 - mean_squared_error: 1.5596e-05 - val_loss: 1.6046e-05 - val_mean_squared_error: 1.6046e-05\n",
      "Epoch 16/1000\n",
      "489/489 [==============================] - 1s 3ms/step - loss: 1.7322e-05 - mean_squared_error: 1.7322e-05 - val_loss: 1.7416e-05 - val_mean_squared_error: 1.7416e-05\n",
      "Epoch 17/1000\n",
      "489/489 [==============================] - 1s 3ms/step - loss: 1.8038e-05 - mean_squared_error: 1.8038e-05 - val_loss: 1.3975e-05 - val_mean_squared_error: 1.3975e-05\n",
      "Epoch 18/1000\n",
      "489/489 [==============================] - 1s 3ms/step - loss: 2.0019e-05 - mean_squared_error: 2.0019e-05 - val_loss: 1.4011e-05 - val_mean_squared_error: 1.4011e-05\n",
      "Epoch 19/1000\n",
      "489/489 [==============================] - 1s 3ms/step - loss: 1.4148e-05 - mean_squared_error: 1.4148e-05 - val_loss: 1.4367e-05 - val_mean_squared_error: 1.4367e-05\n",
      "Epoch 20/1000\n",
      "489/489 [==============================] - 1s 3ms/step - loss: 1.2385e-05 - mean_squared_error: 1.2385e-05 - val_loss: 1.2438e-05 - val_mean_squared_error: 1.2438e-05\n",
      "Epoch 21/1000\n",
      "489/489 [==============================] - 1s 3ms/step - loss: 1.3735e-05 - mean_squared_error: 1.3735e-05 - val_loss: 1.3725e-05 - val_mean_squared_error: 1.3725e-05\n",
      "Epoch 22/1000\n",
      "489/489 [==============================] - 1s 3ms/step - loss: 1.5758e-05 - mean_squared_error: 1.5758e-05 - val_loss: 9.8853e-06 - val_mean_squared_error: 9.8853e-06\n",
      "Epoch 23/1000\n",
      "489/489 [==============================] - 1s 3ms/step - loss: 1.3515e-05 - mean_squared_error: 1.3515e-05 - val_loss: 8.3477e-06 - val_mean_squared_error: 8.3477e-06\n",
      "Epoch 24/1000\n",
      "489/489 [==============================] - 1s 2ms/step - loss: 1.2370e-05 - mean_squared_error: 1.2370e-05 - val_loss: 9.2491e-06 - val_mean_squared_error: 9.2491e-06\n",
      "Epoch 25/1000\n",
      "489/489 [==============================] - 1s 3ms/step - loss: 1.0676e-05 - mean_squared_error: 1.0676e-05 - val_loss: 9.6299e-06 - val_mean_squared_error: 9.6299e-06\n",
      "Epoch 26/1000\n",
      "489/489 [==============================] - 1s 3ms/step - loss: 1.0692e-05 - mean_squared_error: 1.0692e-05 - val_loss: 8.8700e-06 - val_mean_squared_error: 8.8700e-06\n",
      "Epoch 27/1000\n",
      "489/489 [==============================] - 1s 3ms/step - loss: 1.0795e-05 - mean_squared_error: 1.0795e-05 - val_loss: 8.6873e-06 - val_mean_squared_error: 8.6873e-06\n",
      "Epoch 28/1000\n",
      "489/489 [==============================] - 1s 3ms/step - loss: 1.0080e-05 - mean_squared_error: 1.0080e-05 - val_loss: 1.0735e-05 - val_mean_squared_error: 1.0735e-05\n",
      "Epoch 29/1000\n",
      "489/489 [==============================] - 1s 3ms/step - loss: 1.1773e-05 - mean_squared_error: 1.1773e-05 - val_loss: 9.0195e-06 - val_mean_squared_error: 9.0195e-06\n",
      "Epoch 30/1000\n",
      "489/489 [==============================] - 1s 3ms/step - loss: 9.7008e-06 - mean_squared_error: 9.7008e-06 - val_loss: 9.5600e-06 - val_mean_squared_error: 9.5600e-06\n",
      "Epoch 31/1000\n",
      "489/489 [==============================] - 1s 3ms/step - loss: 1.0552e-05 - mean_squared_error: 1.0552e-05 - val_loss: 7.2167e-06 - val_mean_squared_error: 7.2167e-06\n",
      "Epoch 32/1000\n",
      "489/489 [==============================] - 1s 3ms/step - loss: 1.0278e-05 - mean_squared_error: 1.0278e-05 - val_loss: 6.7354e-06 - val_mean_squared_error: 6.7354e-06\n",
      "Epoch 33/1000\n",
      "489/489 [==============================] - 1s 3ms/step - loss: 9.6556e-06 - mean_squared_error: 9.6556e-06 - val_loss: 1.0205e-05 - val_mean_squared_error: 1.0205e-05\n",
      "Epoch 34/1000\n",
      "489/489 [==============================] - 1s 3ms/step - loss: 1.1261e-05 - mean_squared_error: 1.1261e-05 - val_loss: 9.6228e-06 - val_mean_squared_error: 9.6228e-06\n",
      "Epoch 35/1000\n",
      "489/489 [==============================] - 1s 3ms/step - loss: 8.4074e-06 - mean_squared_error: 8.4074e-06 - val_loss: 8.7031e-06 - val_mean_squared_error: 8.7031e-06\n",
      "Epoch 36/1000\n",
      "489/489 [==============================] - 1s 3ms/step - loss: 9.0857e-06 - mean_squared_error: 9.0857e-06 - val_loss: 8.9976e-06 - val_mean_squared_error: 8.9976e-06\n",
      "Epoch 37/1000\n",
      "489/489 [==============================] - 1s 3ms/step - loss: 8.6246e-06 - mean_squared_error: 8.6246e-06 - val_loss: 1.2869e-05 - val_mean_squared_error: 1.2869e-05\n",
      "Epoch 38/1000\n",
      "489/489 [==============================] - 1s 3ms/step - loss: 7.6188e-06 - mean_squared_error: 7.6188e-06 - val_loss: 1.0051e-05 - val_mean_squared_error: 1.0051e-05\n",
      "Epoch 39/1000\n",
      "489/489 [==============================] - 1s 3ms/step - loss: 8.6757e-06 - mean_squared_error: 8.6757e-06 - val_loss: 8.4643e-06 - val_mean_squared_error: 8.4643e-06\n",
      "Epoch 40/1000\n",
      "489/489 [==============================] - 1s 3ms/step - loss: 8.2772e-06 - mean_squared_error: 8.2772e-06 - val_loss: 6.9549e-06 - val_mean_squared_error: 6.9549e-06\n",
      "Epoch 41/1000\n",
      "489/489 [==============================] - 1s 3ms/step - loss: 9.1985e-06 - mean_squared_error: 9.1985e-06 - val_loss: 1.3834e-05 - val_mean_squared_error: 1.3834e-05\n",
      "Epoch 42/1000\n",
      "489/489 [==============================] - 1s 3ms/step - loss: 7.0830e-06 - mean_squared_error: 7.0830e-06 - val_loss: 7.4896e-06 - val_mean_squared_error: 7.4896e-06\n"
     ]
    },
    {
     "data": {
      "text/html": [
       "<span style=\"color:#4527A0\"><h1 style=\"font-size:18px\">Trial complete</h1></span>"
      ],
      "text/plain": [
       "<IPython.core.display.HTML object>"
      ]
     },
     "metadata": {
      "tags": []
     },
     "output_type": "display_data"
    },
    {
     "data": {
      "text/html": [
       "<span style=\"color:#4527A0\"><h1 style=\"font-size:18px\">Trial summary</h1></span>"
      ],
      "text/plain": [
       "<IPython.core.display.HTML object>"
      ]
     },
     "metadata": {
      "tags": []
     },
     "output_type": "display_data"
    },
    {
     "data": {
      "text/html": [
       "<span style=\"color:cyan\"> |-Trial ID: 7c6673d908c5bb84eff3492b44b97162</span>"
      ],
      "text/plain": [
       "<IPython.core.display.HTML object>"
      ]
     },
     "metadata": {
      "tags": []
     },
     "output_type": "display_data"
    },
    {
     "data": {
      "text/html": [
       "<span style=\"color:cyan\"> |-Score: 6.735416263836669e-06</span>"
      ],
      "text/plain": [
       "<IPython.core.display.HTML object>"
      ]
     },
     "metadata": {
      "tags": []
     },
     "output_type": "display_data"
    },
    {
     "data": {
      "text/html": [
       "<span style=\"color:cyan\"> |-Best step: 0</span>"
      ],
      "text/plain": [
       "<IPython.core.display.HTML object>"
      ]
     },
     "metadata": {
      "tags": []
     },
     "output_type": "display_data"
    },
    {
     "data": {
      "text/html": [
       "<span style=\"color:#7E57C2\"><h2 style=\"font-size:16px\">Hyperparameters:</h2></span>"
      ],
      "text/plain": [
       "<IPython.core.display.HTML object>"
      ]
     },
     "metadata": {
      "tags": []
     },
     "output_type": "display_data"
    },
    {
     "data": {
      "text/html": [
       "<span style=\"color:cyan\"> |-optimizer: adam</span>"
      ],
      "text/plain": [
       "<IPython.core.display.HTML object>"
      ]
     },
     "metadata": {
      "tags": []
     },
     "output_type": "display_data"
    },
    {
     "data": {
      "text/html": [
       "<span style=\"color:blue\"> |-regression_head_2/dropout_rate: 0</span>"
      ],
      "text/plain": [
       "<IPython.core.display.HTML object>"
      ]
     },
     "metadata": {
      "tags": []
     },
     "output_type": "display_data"
    },
    {
     "data": {
      "text/html": [
       "<span style=\"color:cyan\"> |-structured_data_block_1/dense_block_1/dropout_rate: 0</span>"
      ],
      "text/plain": [
       "<IPython.core.display.HTML object>"
      ]
     },
     "metadata": {
      "tags": []
     },
     "output_type": "display_data"
    },
    {
     "data": {
      "text/html": [
       "<span style=\"color:blue\"> |-structured_data_block_1/dense_block_1/num_layers: 2</span>"
      ],
      "text/plain": [
       "<IPython.core.display.HTML object>"
      ]
     },
     "metadata": {
      "tags": []
     },
     "output_type": "display_data"
    },
    {
     "data": {
      "text/html": [
       "<span style=\"color:cyan\"> |-structured_data_block_1/dense_block_1/units_0: 32</span>"
      ],
      "text/plain": [
       "<IPython.core.display.HTML object>"
      ]
     },
     "metadata": {
      "tags": []
     },
     "output_type": "display_data"
    },
    {
     "data": {
      "text/html": [
       "<span style=\"color:blue\"> |-structured_data_block_1/dense_block_1/units_1: 32</span>"
      ],
      "text/plain": [
       "<IPython.core.display.HTML object>"
      ]
     },
     "metadata": {
      "tags": []
     },
     "output_type": "display_data"
    },
    {
     "data": {
      "text/html": [
       "<span style=\"color:cyan\"> |-structured_data_block_1/dense_block_1/use_batchnorm: False</span>"
      ],
      "text/plain": [
       "<IPython.core.display.HTML object>"
      ]
     },
     "metadata": {
      "tags": []
     },
     "output_type": "display_data"
    },
    {
     "name": "stdout",
     "output_type": "stream",
     "text": [
      "Epoch 1/1000\n",
      "489/489 [==============================] - 2s 4ms/step - loss: 0.1323 - mean_squared_error: 0.1323 - val_loss: 0.0082 - val_mean_squared_error: 0.0082\n",
      "Epoch 2/1000\n",
      "489/489 [==============================] - 2s 4ms/step - loss: 0.0255 - mean_squared_error: 0.0255 - val_loss: 0.0046 - val_mean_squared_error: 0.0046\n",
      "Epoch 3/1000\n",
      "489/489 [==============================] - 2s 4ms/step - loss: 0.0069 - mean_squared_error: 0.0069 - val_loss: 5.0209e-04 - val_mean_squared_error: 5.0209e-04\n",
      "Epoch 4/1000\n",
      "489/489 [==============================] - 2s 4ms/step - loss: 0.0026 - mean_squared_error: 0.0026 - val_loss: 3.6822e-04 - val_mean_squared_error: 3.6822e-04\n",
      "Epoch 5/1000\n",
      "489/489 [==============================] - 2s 4ms/step - loss: 0.0012 - mean_squared_error: 0.0012 - val_loss: 2.8113e-04 - val_mean_squared_error: 2.8113e-04\n",
      "Epoch 6/1000\n",
      "489/489 [==============================] - 2s 4ms/step - loss: 8.0537e-04 - mean_squared_error: 8.0537e-04 - val_loss: 1.7718e-04 - val_mean_squared_error: 1.7718e-04\n",
      "Epoch 7/1000\n",
      "489/489 [==============================] - 2s 4ms/step - loss: 7.0790e-04 - mean_squared_error: 7.0790e-04 - val_loss: 2.2315e-04 - val_mean_squared_error: 2.2315e-04\n",
      "Epoch 8/1000\n",
      "489/489 [==============================] - 2s 4ms/step - loss: 7.0006e-04 - mean_squared_error: 7.0006e-04 - val_loss: 2.6845e-04 - val_mean_squared_error: 2.6845e-04\n",
      "Epoch 9/1000\n",
      "489/489 [==============================] - 2s 4ms/step - loss: 7.1879e-04 - mean_squared_error: 7.1879e-04 - val_loss: 3.5322e-04 - val_mean_squared_error: 3.5322e-04\n",
      "Epoch 10/1000\n",
      "489/489 [==============================] - 2s 4ms/step - loss: 7.0735e-04 - mean_squared_error: 7.0735e-04 - val_loss: 5.0606e-04 - val_mean_squared_error: 5.0606e-04\n",
      "Epoch 11/1000\n",
      "489/489 [==============================] - 2s 4ms/step - loss: 7.0452e-04 - mean_squared_error: 7.0452e-04 - val_loss: 2.6898e-04 - val_mean_squared_error: 2.6898e-04\n",
      "Epoch 12/1000\n",
      "489/489 [==============================] - 2s 4ms/step - loss: 7.0059e-04 - mean_squared_error: 7.0059e-04 - val_loss: 2.7593e-04 - val_mean_squared_error: 2.7593e-04\n",
      "Epoch 13/1000\n",
      "489/489 [==============================] - 2s 4ms/step - loss: 6.5974e-04 - mean_squared_error: 6.5974e-04 - val_loss: 6.0593e-04 - val_mean_squared_error: 6.0593e-04\n",
      "Epoch 14/1000\n",
      "489/489 [==============================] - 2s 4ms/step - loss: 7.3235e-04 - mean_squared_error: 7.3235e-04 - val_loss: 6.5739e-04 - val_mean_squared_error: 6.5739e-04\n",
      "Epoch 15/1000\n",
      "489/489 [==============================] - 2s 4ms/step - loss: 6.4901e-04 - mean_squared_error: 6.4901e-04 - val_loss: 2.3735e-04 - val_mean_squared_error: 2.3735e-04\n",
      "Epoch 16/1000\n",
      "489/489 [==============================] - 2s 4ms/step - loss: 5.5647e-04 - mean_squared_error: 5.5647e-04 - val_loss: 6.4599e-04 - val_mean_squared_error: 6.4599e-04\n"
     ]
    },
    {
     "data": {
      "text/html": [
       "<span style=\"color:#4527A0\"><h1 style=\"font-size:18px\">Trial complete</h1></span>"
      ],
      "text/plain": [
       "<IPython.core.display.HTML object>"
      ]
     },
     "metadata": {
      "tags": []
     },
     "output_type": "display_data"
    },
    {
     "data": {
      "text/html": [
       "<span style=\"color:#4527A0\"><h1 style=\"font-size:18px\">Trial summary</h1></span>"
      ],
      "text/plain": [
       "<IPython.core.display.HTML object>"
      ]
     },
     "metadata": {
      "tags": []
     },
     "output_type": "display_data"
    },
    {
     "data": {
      "text/html": [
       "<span style=\"color:cyan\"> |-Trial ID: 96a792c44f152625a75e3483e2b4fabc</span>"
      ],
      "text/plain": [
       "<IPython.core.display.HTML object>"
      ]
     },
     "metadata": {
      "tags": []
     },
     "output_type": "display_data"
    },
    {
     "data": {
      "text/html": [
       "<span style=\"color:cyan\"> |-Score: 0.00017718090384732932</span>"
      ],
      "text/plain": [
       "<IPython.core.display.HTML object>"
      ]
     },
     "metadata": {
      "tags": []
     },
     "output_type": "display_data"
    },
    {
     "data": {
      "text/html": [
       "<span style=\"color:cyan\"> |-Best step: 0</span>"
      ],
      "text/plain": [
       "<IPython.core.display.HTML object>"
      ]
     },
     "metadata": {
      "tags": []
     },
     "output_type": "display_data"
    },
    {
     "data": {
      "text/html": [
       "<span style=\"color:#7E57C2\"><h2 style=\"font-size:16px\">Hyperparameters:</h2></span>"
      ],
      "text/plain": [
       "<IPython.core.display.HTML object>"
      ]
     },
     "metadata": {
      "tags": []
     },
     "output_type": "display_data"
    },
    {
     "data": {
      "text/html": [
       "<span style=\"color:cyan\"> |-optimizer: adam</span>"
      ],
      "text/plain": [
       "<IPython.core.display.HTML object>"
      ]
     },
     "metadata": {
      "tags": []
     },
     "output_type": "display_data"
    },
    {
     "data": {
      "text/html": [
       "<span style=\"color:blue\"> |-regression_head_2/dropout_rate: 0</span>"
      ],
      "text/plain": [
       "<IPython.core.display.HTML object>"
      ]
     },
     "metadata": {
      "tags": []
     },
     "output_type": "display_data"
    },
    {
     "data": {
      "text/html": [
       "<span style=\"color:cyan\"> |-structured_data_block_1/dense_block_1/dropout_rate: 0.25</span>"
      ],
      "text/plain": [
       "<IPython.core.display.HTML object>"
      ]
     },
     "metadata": {
      "tags": []
     },
     "output_type": "display_data"
    },
    {
     "data": {
      "text/html": [
       "<span style=\"color:blue\"> |-structured_data_block_1/dense_block_1/num_layers: 1</span>"
      ],
      "text/plain": [
       "<IPython.core.display.HTML object>"
      ]
     },
     "metadata": {
      "tags": []
     },
     "output_type": "display_data"
    },
    {
     "data": {
      "text/html": [
       "<span style=\"color:cyan\"> |-structured_data_block_1/dense_block_1/units_0: 512</span>"
      ],
      "text/plain": [
       "<IPython.core.display.HTML object>"
      ]
     },
     "metadata": {
      "tags": []
     },
     "output_type": "display_data"
    },
    {
     "data": {
      "text/html": [
       "<span style=\"color:blue\"> |-structured_data_block_1/dense_block_1/units_1: 64</span>"
      ],
      "text/plain": [
       "<IPython.core.display.HTML object>"
      ]
     },
     "metadata": {
      "tags": []
     },
     "output_type": "display_data"
    },
    {
     "data": {
      "text/html": [
       "<span style=\"color:cyan\"> |-structured_data_block_1/dense_block_1/use_batchnorm: True</span>"
      ],
      "text/plain": [
       "<IPython.core.display.HTML object>"
      ]
     },
     "metadata": {
      "tags": []
     },
     "output_type": "display_data"
    },
    {
     "name": "stdout",
     "output_type": "stream",
     "text": [
      "Epoch 1/1000\n",
      "489/489 [==============================] - 4s 8ms/step - loss: 0.1054 - mean_squared_error: 0.1054 - val_loss: 0.0041 - val_mean_squared_error: 0.0041\n",
      "Epoch 2/1000\n",
      "489/489 [==============================] - 4s 7ms/step - loss: 0.0102 - mean_squared_error: 0.0102 - val_loss: 6.1345e-04 - val_mean_squared_error: 6.1345e-04\n",
      "Epoch 3/1000\n",
      "489/489 [==============================] - 4s 8ms/step - loss: 0.0053 - mean_squared_error: 0.0053 - val_loss: 4.2957e-04 - val_mean_squared_error: 4.2957e-04\n",
      "Epoch 4/1000\n",
      "489/489 [==============================] - 4s 8ms/step - loss: 0.0042 - mean_squared_error: 0.0042 - val_loss: 3.4470e-04 - val_mean_squared_error: 3.4470e-04\n",
      "Epoch 5/1000\n",
      "489/489 [==============================] - 4s 8ms/step - loss: 0.0035 - mean_squared_error: 0.0035 - val_loss: 4.3247e-04 - val_mean_squared_error: 4.3247e-04\n",
      "Epoch 6/1000\n",
      "489/489 [==============================] - 4s 8ms/step - loss: 0.0032 - mean_squared_error: 0.0032 - val_loss: 3.8112e-04 - val_mean_squared_error: 3.8112e-04\n",
      "Epoch 7/1000\n",
      "489/489 [==============================] - 4s 8ms/step - loss: 0.0028 - mean_squared_error: 0.0028 - val_loss: 3.4145e-04 - val_mean_squared_error: 3.4145e-04\n",
      "Epoch 8/1000\n",
      "489/489 [==============================] - 4s 8ms/step - loss: 0.0026 - mean_squared_error: 0.0026 - val_loss: 3.0715e-04 - val_mean_squared_error: 3.0715e-04\n",
      "Epoch 9/1000\n",
      "489/489 [==============================] - 4s 8ms/step - loss: 0.0024 - mean_squared_error: 0.0024 - val_loss: 2.4691e-04 - val_mean_squared_error: 2.4691e-04\n",
      "Epoch 10/1000\n",
      "489/489 [==============================] - 4s 8ms/step - loss: 0.0021 - mean_squared_error: 0.0021 - val_loss: 2.9220e-04 - val_mean_squared_error: 2.9220e-04\n",
      "Epoch 11/1000\n",
      "489/489 [==============================] - 4s 8ms/step - loss: 0.0019 - mean_squared_error: 0.0019 - val_loss: 1.8753e-04 - val_mean_squared_error: 1.8753e-04\n",
      "Epoch 12/1000\n",
      "489/489 [==============================] - 4s 8ms/step - loss: 0.0018 - mean_squared_error: 0.0018 - val_loss: 2.4279e-04 - val_mean_squared_error: 2.4279e-04\n",
      "Epoch 13/1000\n",
      "489/489 [==============================] - 4s 8ms/step - loss: 0.0016 - mean_squared_error: 0.0016 - val_loss: 1.9635e-04 - val_mean_squared_error: 1.9635e-04\n",
      "Epoch 14/1000\n",
      "489/489 [==============================] - 4s 8ms/step - loss: 0.0015 - mean_squared_error: 0.0015 - val_loss: 8.5605e-04 - val_mean_squared_error: 8.5605e-04\n",
      "Epoch 15/1000\n",
      "489/489 [==============================] - 4s 8ms/step - loss: 0.0014 - mean_squared_error: 0.0014 - val_loss: 5.3411e-04 - val_mean_squared_error: 5.3411e-04\n",
      "Epoch 16/1000\n",
      "489/489 [==============================] - 4s 8ms/step - loss: 0.0015 - mean_squared_error: 0.0015 - val_loss: 0.0010 - val_mean_squared_error: 0.0010\n",
      "Epoch 17/1000\n",
      "489/489 [==============================] - 4s 8ms/step - loss: 0.0014 - mean_squared_error: 0.0014 - val_loss: 3.6894e-04 - val_mean_squared_error: 3.6894e-04\n",
      "Epoch 18/1000\n",
      "489/489 [==============================] - 4s 8ms/step - loss: 0.0014 - mean_squared_error: 0.0014 - val_loss: 0.0010 - val_mean_squared_error: 0.0010\n",
      "Epoch 19/1000\n",
      "489/489 [==============================] - 4s 8ms/step - loss: 0.0012 - mean_squared_error: 0.0012 - val_loss: 4.0976e-04 - val_mean_squared_error: 4.0976e-04\n",
      "Epoch 20/1000\n",
      "489/489 [==============================] - 4s 8ms/step - loss: 0.0012 - mean_squared_error: 0.0012 - val_loss: 1.9058e-04 - val_mean_squared_error: 1.9058e-04\n",
      "Epoch 21/1000\n",
      "489/489 [==============================] - 4s 8ms/step - loss: 0.0012 - mean_squared_error: 0.0012 - val_loss: 4.2753e-04 - val_mean_squared_error: 4.2753e-04\n"
     ]
    },
    {
     "data": {
      "text/html": [
       "<span style=\"color:#4527A0\"><h1 style=\"font-size:18px\">Trial complete</h1></span>"
      ],
      "text/plain": [
       "<IPython.core.display.HTML object>"
      ]
     },
     "metadata": {
      "tags": []
     },
     "output_type": "display_data"
    },
    {
     "data": {
      "text/html": [
       "<span style=\"color:#4527A0\"><h1 style=\"font-size:18px\">Trial summary</h1></span>"
      ],
      "text/plain": [
       "<IPython.core.display.HTML object>"
      ]
     },
     "metadata": {
      "tags": []
     },
     "output_type": "display_data"
    },
    {
     "data": {
      "text/html": [
       "<span style=\"color:cyan\"> |-Trial ID: e9bcd4799d69221d9083eddae9d2baa1</span>"
      ],
      "text/plain": [
       "<IPython.core.display.HTML object>"
      ]
     },
     "metadata": {
      "tags": []
     },
     "output_type": "display_data"
    },
    {
     "data": {
      "text/html": [
       "<span style=\"color:cyan\"> |-Score: 0.0001875281595857814</span>"
      ],
      "text/plain": [
       "<IPython.core.display.HTML object>"
      ]
     },
     "metadata": {
      "tags": []
     },
     "output_type": "display_data"
    },
    {
     "data": {
      "text/html": [
       "<span style=\"color:cyan\"> |-Best step: 0</span>"
      ],
      "text/plain": [
       "<IPython.core.display.HTML object>"
      ]
     },
     "metadata": {
      "tags": []
     },
     "output_type": "display_data"
    },
    {
     "data": {
      "text/html": [
       "<span style=\"color:#7E57C2\"><h2 style=\"font-size:16px\">Hyperparameters:</h2></span>"
      ],
      "text/plain": [
       "<IPython.core.display.HTML object>"
      ]
     },
     "metadata": {
      "tags": []
     },
     "output_type": "display_data"
    },
    {
     "data": {
      "text/html": [
       "<span style=\"color:cyan\"> |-optimizer: adam</span>"
      ],
      "text/plain": [
       "<IPython.core.display.HTML object>"
      ]
     },
     "metadata": {
      "tags": []
     },
     "output_type": "display_data"
    },
    {
     "data": {
      "text/html": [
       "<span style=\"color:blue\"> |-regression_head_2/dropout_rate: 0</span>"
      ],
      "text/plain": [
       "<IPython.core.display.HTML object>"
      ]
     },
     "metadata": {
      "tags": []
     },
     "output_type": "display_data"
    },
    {
     "data": {
      "text/html": [
       "<span style=\"color:cyan\"> |-structured_data_block_1/dense_block_1/dropout_rate: 0.25</span>"
      ],
      "text/plain": [
       "<IPython.core.display.HTML object>"
      ]
     },
     "metadata": {
      "tags": []
     },
     "output_type": "display_data"
    },
    {
     "data": {
      "text/html": [
       "<span style=\"color:blue\"> |-structured_data_block_1/dense_block_1/num_layers: 3</span>"
      ],
      "text/plain": [
       "<IPython.core.display.HTML object>"
      ]
     },
     "metadata": {
      "tags": []
     },
     "output_type": "display_data"
    },
    {
     "data": {
      "text/html": [
       "<span style=\"color:cyan\"> |-structured_data_block_1/dense_block_1/units_0: 1024</span>"
      ],
      "text/plain": [
       "<IPython.core.display.HTML object>"
      ]
     },
     "metadata": {
      "tags": []
     },
     "output_type": "display_data"
    },
    {
     "data": {
      "text/html": [
       "<span style=\"color:blue\"> |-structured_data_block_1/dense_block_1/units_1: 128</span>"
      ],
      "text/plain": [
       "<IPython.core.display.HTML object>"
      ]
     },
     "metadata": {
      "tags": []
     },
     "output_type": "display_data"
    },
    {
     "data": {
      "text/html": [
       "<span style=\"color:cyan\"> |-structured_data_block_1/dense_block_1/units_2: 32</span>"
      ],
      "text/plain": [
       "<IPython.core.display.HTML object>"
      ]
     },
     "metadata": {
      "tags": []
     },
     "output_type": "display_data"
    },
    {
     "data": {
      "text/html": [
       "<span style=\"color:blue\"> |-structured_data_block_1/dense_block_1/use_batchnorm: True</span>"
      ],
      "text/plain": [
       "<IPython.core.display.HTML object>"
      ]
     },
     "metadata": {
      "tags": []
     },
     "output_type": "display_data"
    },
    {
     "name": "stdout",
     "output_type": "stream",
     "text": [
      "Epoch 1/1000\n",
      "489/489 [==============================] - 3s 6ms/step - loss: 0.5643 - mean_squared_error: 0.5643 - val_loss: 0.0050 - val_mean_squared_error: 0.0050\n",
      "Epoch 2/1000\n",
      "489/489 [==============================] - 2s 5ms/step - loss: 0.0826 - mean_squared_error: 0.0826 - val_loss: 0.0082 - val_mean_squared_error: 0.0082\n",
      "Epoch 3/1000\n",
      "489/489 [==============================] - 2s 5ms/step - loss: 0.0181 - mean_squared_error: 0.0181 - val_loss: 0.0037 - val_mean_squared_error: 0.0037\n",
      "Epoch 4/1000\n",
      "489/489 [==============================] - 2s 5ms/step - loss: 0.0104 - mean_squared_error: 0.0104 - val_loss: 0.0055 - val_mean_squared_error: 0.0055\n",
      "Epoch 5/1000\n",
      "489/489 [==============================] - 3s 5ms/step - loss: 0.0111 - mean_squared_error: 0.0111 - val_loss: 0.0041 - val_mean_squared_error: 0.0041\n",
      "Epoch 6/1000\n",
      "489/489 [==============================] - 3s 6ms/step - loss: 0.0128 - mean_squared_error: 0.0128 - val_loss: 0.0066 - val_mean_squared_error: 0.0066\n",
      "Epoch 7/1000\n",
      "489/489 [==============================] - 2s 5ms/step - loss: 0.0142 - mean_squared_error: 0.0142 - val_loss: 0.0036 - val_mean_squared_error: 0.0036\n",
      "Epoch 8/1000\n",
      "489/489 [==============================] - 3s 6ms/step - loss: 0.0143 - mean_squared_error: 0.0143 - val_loss: 0.0055 - val_mean_squared_error: 0.0055\n",
      "Epoch 9/1000\n",
      "489/489 [==============================] - 3s 5ms/step - loss: 0.0143 - mean_squared_error: 0.0143 - val_loss: 0.0048 - val_mean_squared_error: 0.0048\n",
      "Epoch 10/1000\n",
      "489/489 [==============================] - 2s 5ms/step - loss: 0.0122 - mean_squared_error: 0.0122 - val_loss: 0.0052 - val_mean_squared_error: 0.0052\n",
      "Epoch 11/1000\n",
      "489/489 [==============================] - 2s 5ms/step - loss: 0.0115 - mean_squared_error: 0.0115 - val_loss: 0.0030 - val_mean_squared_error: 0.0030\n",
      "Epoch 12/1000\n",
      "489/489 [==============================] - 2s 5ms/step - loss: 0.0098 - mean_squared_error: 0.0098 - val_loss: 0.0026 - val_mean_squared_error: 0.0026\n",
      "Epoch 13/1000\n",
      "489/489 [==============================] - 2s 5ms/step - loss: 0.0082 - mean_squared_error: 0.0082 - val_loss: 0.0045 - val_mean_squared_error: 0.0045\n",
      "Epoch 14/1000\n",
      "489/489 [==============================] - 2s 5ms/step - loss: 0.0073 - mean_squared_error: 0.0073 - val_loss: 0.0043 - val_mean_squared_error: 0.0043\n",
      "Epoch 15/1000\n",
      "489/489 [==============================] - 2s 5ms/step - loss: 0.0065 - mean_squared_error: 0.0065 - val_loss: 0.0040 - val_mean_squared_error: 0.0040\n",
      "Epoch 16/1000\n",
      "489/489 [==============================] - 2s 5ms/step - loss: 0.0061 - mean_squared_error: 0.0061 - val_loss: 0.0031 - val_mean_squared_error: 0.0031\n",
      "Epoch 17/1000\n",
      "489/489 [==============================] - 2s 5ms/step - loss: 0.0052 - mean_squared_error: 0.0052 - val_loss: 0.0033 - val_mean_squared_error: 0.0033\n",
      "Epoch 18/1000\n",
      "489/489 [==============================] - 2s 5ms/step - loss: 0.0046 - mean_squared_error: 0.0046 - val_loss: 0.0038 - val_mean_squared_error: 0.0038\n",
      "Epoch 19/1000\n",
      "489/489 [==============================] - 2s 5ms/step - loss: 0.0043 - mean_squared_error: 0.0043 - val_loss: 0.0029 - val_mean_squared_error: 0.0029\n",
      "Epoch 20/1000\n",
      "489/489 [==============================] - 2s 5ms/step - loss: 0.0043 - mean_squared_error: 0.0043 - val_loss: 0.0040 - val_mean_squared_error: 0.0040\n",
      "Epoch 21/1000\n",
      "489/489 [==============================] - 2s 5ms/step - loss: 0.0039 - mean_squared_error: 0.0039 - val_loss: 0.0051 - val_mean_squared_error: 0.0051\n",
      "Epoch 22/1000\n",
      "489/489 [==============================] - 2s 5ms/step - loss: 0.0039 - mean_squared_error: 0.0039 - val_loss: 0.0044 - val_mean_squared_error: 0.0044\n"
     ]
    },
    {
     "data": {
      "text/html": [
       "<span style=\"color:#4527A0\"><h1 style=\"font-size:18px\">Trial complete</h1></span>"
      ],
      "text/plain": [
       "<IPython.core.display.HTML object>"
      ]
     },
     "metadata": {
      "tags": []
     },
     "output_type": "display_data"
    },
    {
     "data": {
      "text/html": [
       "<span style=\"color:#4527A0\"><h1 style=\"font-size:18px\">Trial summary</h1></span>"
      ],
      "text/plain": [
       "<IPython.core.display.HTML object>"
      ]
     },
     "metadata": {
      "tags": []
     },
     "output_type": "display_data"
    },
    {
     "data": {
      "text/html": [
       "<span style=\"color:cyan\"> |-Trial ID: 6690c84a7a33651630f5029dd125b514</span>"
      ],
      "text/plain": [
       "<IPython.core.display.HTML object>"
      ]
     },
     "metadata": {
      "tags": []
     },
     "output_type": "display_data"
    },
    {
     "data": {
      "text/html": [
       "<span style=\"color:cyan\"> |-Score: 0.002577600535005331</span>"
      ],
      "text/plain": [
       "<IPython.core.display.HTML object>"
      ]
     },
     "metadata": {
      "tags": []
     },
     "output_type": "display_data"
    },
    {
     "data": {
      "text/html": [
       "<span style=\"color:cyan\"> |-Best step: 0</span>"
      ],
      "text/plain": [
       "<IPython.core.display.HTML object>"
      ]
     },
     "metadata": {
      "tags": []
     },
     "output_type": "display_data"
    },
    {
     "data": {
      "text/html": [
       "<span style=\"color:#7E57C2\"><h2 style=\"font-size:16px\">Hyperparameters:</h2></span>"
      ],
      "text/plain": [
       "<IPython.core.display.HTML object>"
      ]
     },
     "metadata": {
      "tags": []
     },
     "output_type": "display_data"
    },
    {
     "data": {
      "text/html": [
       "<span style=\"color:cyan\"> |-optimizer: adam</span>"
      ],
      "text/plain": [
       "<IPython.core.display.HTML object>"
      ]
     },
     "metadata": {
      "tags": []
     },
     "output_type": "display_data"
    },
    {
     "data": {
      "text/html": [
       "<span style=\"color:blue\"> |-regression_head_2/dropout_rate: 0</span>"
      ],
      "text/plain": [
       "<IPython.core.display.HTML object>"
      ]
     },
     "metadata": {
      "tags": []
     },
     "output_type": "display_data"
    },
    {
     "data": {
      "text/html": [
       "<span style=\"color:cyan\"> |-structured_data_block_1/dense_block_1/dropout_rate: 0.5</span>"
      ],
      "text/plain": [
       "<IPython.core.display.HTML object>"
      ]
     },
     "metadata": {
      "tags": []
     },
     "output_type": "display_data"
    },
    {
     "data": {
      "text/html": [
       "<span style=\"color:blue\"> |-structured_data_block_1/dense_block_1/num_layers: 3</span>"
      ],
      "text/plain": [
       "<IPython.core.display.HTML object>"
      ]
     },
     "metadata": {
      "tags": []
     },
     "output_type": "display_data"
    },
    {
     "data": {
      "text/html": [
       "<span style=\"color:cyan\"> |-structured_data_block_1/dense_block_1/units_0: 32</span>"
      ],
      "text/plain": [
       "<IPython.core.display.HTML object>"
      ]
     },
     "metadata": {
      "tags": []
     },
     "output_type": "display_data"
    },
    {
     "data": {
      "text/html": [
       "<span style=\"color:blue\"> |-structured_data_block_1/dense_block_1/units_1: 16</span>"
      ],
      "text/plain": [
       "<IPython.core.display.HTML object>"
      ]
     },
     "metadata": {
      "tags": []
     },
     "output_type": "display_data"
    },
    {
     "data": {
      "text/html": [
       "<span style=\"color:cyan\"> |-structured_data_block_1/dense_block_1/units_2: 1024</span>"
      ],
      "text/plain": [
       "<IPython.core.display.HTML object>"
      ]
     },
     "metadata": {
      "tags": []
     },
     "output_type": "display_data"
    },
    {
     "data": {
      "text/html": [
       "<span style=\"color:blue\"> |-structured_data_block_1/dense_block_1/use_batchnorm: True</span>"
      ],
      "text/plain": [
       "<IPython.core.display.HTML object>"
      ]
     },
     "metadata": {
      "tags": []
     },
     "output_type": "display_data"
    },
    {
     "name": "stdout",
     "output_type": "stream",
     "text": [
      "Epoch 1/1000\n",
      "489/489 [==============================] - 3s 6ms/step - loss: 0.2455 - mean_squared_error: 0.2455 - val_loss: 0.0102 - val_mean_squared_error: 0.0102\n",
      "Epoch 2/1000\n",
      "489/489 [==============================] - 3s 5ms/step - loss: 0.0517 - mean_squared_error: 0.0517 - val_loss: 0.0032 - val_mean_squared_error: 0.0032\n",
      "Epoch 3/1000\n",
      "489/489 [==============================] - 3s 6ms/step - loss: 0.0136 - mean_squared_error: 0.0136 - val_loss: 0.0018 - val_mean_squared_error: 0.0018\n",
      "Epoch 4/1000\n",
      "489/489 [==============================] - 3s 5ms/step - loss: 0.0057 - mean_squared_error: 0.0057 - val_loss: 0.0015 - val_mean_squared_error: 0.0015\n",
      "Epoch 5/1000\n",
      "489/489 [==============================] - 3s 5ms/step - loss: 0.0046 - mean_squared_error: 0.0046 - val_loss: 0.0020 - val_mean_squared_error: 0.0020\n",
      "Epoch 6/1000\n",
      "489/489 [==============================] - 3s 5ms/step - loss: 0.0049 - mean_squared_error: 0.0049 - val_loss: 0.0023 - val_mean_squared_error: 0.0023\n",
      "Epoch 7/1000\n",
      "489/489 [==============================] - 3s 5ms/step - loss: 0.0048 - mean_squared_error: 0.0048 - val_loss: 0.0043 - val_mean_squared_error: 0.0043\n",
      "Epoch 8/1000\n",
      "489/489 [==============================] - 3s 6ms/step - loss: 0.0050 - mean_squared_error: 0.0050 - val_loss: 0.0027 - val_mean_squared_error: 0.0027\n",
      "Epoch 9/1000\n",
      "489/489 [==============================] - 3s 5ms/step - loss: 0.0047 - mean_squared_error: 0.0047 - val_loss: 0.0019 - val_mean_squared_error: 0.0019\n",
      "Epoch 10/1000\n",
      "489/489 [==============================] - 3s 6ms/step - loss: 0.0041 - mean_squared_error: 0.0041 - val_loss: 8.0783e-04 - val_mean_squared_error: 8.0783e-04\n",
      "Epoch 11/1000\n",
      "489/489 [==============================] - 3s 5ms/step - loss: 0.0038 - mean_squared_error: 0.0038 - val_loss: 0.0021 - val_mean_squared_error: 0.0021\n",
      "Epoch 12/1000\n",
      "489/489 [==============================] - 3s 6ms/step - loss: 0.0035 - mean_squared_error: 0.0035 - val_loss: 0.0012 - val_mean_squared_error: 0.0012\n",
      "Epoch 13/1000\n",
      "489/489 [==============================] - 3s 5ms/step - loss: 0.0032 - mean_squared_error: 0.0032 - val_loss: 0.0015 - val_mean_squared_error: 0.0015\n",
      "Epoch 14/1000\n",
      "489/489 [==============================] - 3s 5ms/step - loss: 0.0025 - mean_squared_error: 0.0025 - val_loss: 0.0029 - val_mean_squared_error: 0.0029\n",
      "Epoch 15/1000\n",
      "489/489 [==============================] - 3s 5ms/step - loss: 0.0024 - mean_squared_error: 0.0024 - val_loss: 0.0019 - val_mean_squared_error: 0.0019\n",
      "Epoch 16/1000\n",
      "489/489 [==============================] - 3s 5ms/step - loss: 0.0020 - mean_squared_error: 0.0020 - val_loss: 0.0023 - val_mean_squared_error: 0.0023\n",
      "Epoch 17/1000\n",
      "489/489 [==============================] - 3s 6ms/step - loss: 0.0018 - mean_squared_error: 0.0018 - val_loss: 0.0033 - val_mean_squared_error: 0.0033\n",
      "Epoch 18/1000\n",
      "489/489 [==============================] - 3s 6ms/step - loss: 0.0015 - mean_squared_error: 0.0015 - val_loss: 0.0016 - val_mean_squared_error: 0.0016\n",
      "Epoch 19/1000\n",
      "489/489 [==============================] - 3s 5ms/step - loss: 0.0016 - mean_squared_error: 0.0016 - val_loss: 0.0017 - val_mean_squared_error: 0.0017\n",
      "Epoch 20/1000\n",
      "489/489 [==============================] - 3s 5ms/step - loss: 0.0015 - mean_squared_error: 0.0015 - val_loss: 0.0029 - val_mean_squared_error: 0.0029\n"
     ]
    },
    {
     "data": {
      "text/html": [
       "<span style=\"color:#4527A0\"><h1 style=\"font-size:18px\">Trial complete</h1></span>"
      ],
      "text/plain": [
       "<IPython.core.display.HTML object>"
      ]
     },
     "metadata": {
      "tags": []
     },
     "output_type": "display_data"
    },
    {
     "data": {
      "text/html": [
       "<span style=\"color:#4527A0\"><h1 style=\"font-size:18px\">Trial summary</h1></span>"
      ],
      "text/plain": [
       "<IPython.core.display.HTML object>"
      ]
     },
     "metadata": {
      "tags": []
     },
     "output_type": "display_data"
    },
    {
     "data": {
      "text/html": [
       "<span style=\"color:cyan\"> |-Trial ID: 4ecfff224fcc2f4592c491b36f995279</span>"
      ],
      "text/plain": [
       "<IPython.core.display.HTML object>"
      ]
     },
     "metadata": {
      "tags": []
     },
     "output_type": "display_data"
    },
    {
     "data": {
      "text/html": [
       "<span style=\"color:cyan\"> |-Score: 0.0008078295504674315</span>"
      ],
      "text/plain": [
       "<IPython.core.display.HTML object>"
      ]
     },
     "metadata": {
      "tags": []
     },
     "output_type": "display_data"
    },
    {
     "data": {
      "text/html": [
       "<span style=\"color:cyan\"> |-Best step: 0</span>"
      ],
      "text/plain": [
       "<IPython.core.display.HTML object>"
      ]
     },
     "metadata": {
      "tags": []
     },
     "output_type": "display_data"
    },
    {
     "data": {
      "text/html": [
       "<span style=\"color:#7E57C2\"><h2 style=\"font-size:16px\">Hyperparameters:</h2></span>"
      ],
      "text/plain": [
       "<IPython.core.display.HTML object>"
      ]
     },
     "metadata": {
      "tags": []
     },
     "output_type": "display_data"
    },
    {
     "data": {
      "text/html": [
       "<span style=\"color:cyan\"> |-optimizer: adam</span>"
      ],
      "text/plain": [
       "<IPython.core.display.HTML object>"
      ]
     },
     "metadata": {
      "tags": []
     },
     "output_type": "display_data"
    },
    {
     "data": {
      "text/html": [
       "<span style=\"color:blue\"> |-regression_head_2/dropout_rate: 0</span>"
      ],
      "text/plain": [
       "<IPython.core.display.HTML object>"
      ]
     },
     "metadata": {
      "tags": []
     },
     "output_type": "display_data"
    },
    {
     "data": {
      "text/html": [
       "<span style=\"color:cyan\"> |-structured_data_block_1/dense_block_1/dropout_rate: 0.25</span>"
      ],
      "text/plain": [
       "<IPython.core.display.HTML object>"
      ]
     },
     "metadata": {
      "tags": []
     },
     "output_type": "display_data"
    },
    {
     "data": {
      "text/html": [
       "<span style=\"color:blue\"> |-structured_data_block_1/dense_block_1/num_layers: 3</span>"
      ],
      "text/plain": [
       "<IPython.core.display.HTML object>"
      ]
     },
     "metadata": {
      "tags": []
     },
     "output_type": "display_data"
    },
    {
     "data": {
      "text/html": [
       "<span style=\"color:cyan\"> |-structured_data_block_1/dense_block_1/units_0: 256</span>"
      ],
      "text/plain": [
       "<IPython.core.display.HTML object>"
      ]
     },
     "metadata": {
      "tags": []
     },
     "output_type": "display_data"
    },
    {
     "data": {
      "text/html": [
       "<span style=\"color:blue\"> |-structured_data_block_1/dense_block_1/units_1: 16</span>"
      ],
      "text/plain": [
       "<IPython.core.display.HTML object>"
      ]
     },
     "metadata": {
      "tags": []
     },
     "output_type": "display_data"
    },
    {
     "data": {
      "text/html": [
       "<span style=\"color:cyan\"> |-structured_data_block_1/dense_block_1/units_2: 1024</span>"
      ],
      "text/plain": [
       "<IPython.core.display.HTML object>"
      ]
     },
     "metadata": {
      "tags": []
     },
     "output_type": "display_data"
    },
    {
     "data": {
      "text/html": [
       "<span style=\"color:blue\"> |-structured_data_block_1/dense_block_1/use_batchnorm: True</span>"
      ],
      "text/plain": [
       "<IPython.core.display.HTML object>"
      ]
     },
     "metadata": {
      "tags": []
     },
     "output_type": "display_data"
    },
    {
     "name": "stdout",
     "output_type": "stream",
     "text": [
      "Epoch 1/1000\n",
      "489/489 [==============================] - 2s 4ms/step - loss: 9.3056e-04 - mean_squared_error: 9.3056e-04 - val_loss: 1.1247e-04 - val_mean_squared_error: 1.1247e-04\n",
      "Epoch 2/1000\n",
      "489/489 [==============================] - 2s 3ms/step - loss: 2.2491e-04 - mean_squared_error: 2.2491e-04 - val_loss: 6.0243e-05 - val_mean_squared_error: 6.0243e-05\n",
      "Epoch 3/1000\n",
      "489/489 [==============================] - 2s 3ms/step - loss: 1.5311e-04 - mean_squared_error: 1.5311e-04 - val_loss: 6.0012e-05 - val_mean_squared_error: 6.0012e-05\n",
      "Epoch 4/1000\n",
      "489/489 [==============================] - 2s 3ms/step - loss: 1.5907e-04 - mean_squared_error: 1.5907e-04 - val_loss: 5.5568e-05 - val_mean_squared_error: 5.5568e-05\n",
      "Epoch 5/1000\n",
      "489/489 [==============================] - 2s 3ms/step - loss: 1.2561e-04 - mean_squared_error: 1.2561e-04 - val_loss: 3.8020e-05 - val_mean_squared_error: 3.8020e-05\n",
      "Epoch 6/1000\n",
      "489/489 [==============================] - 2s 3ms/step - loss: 1.3122e-04 - mean_squared_error: 1.3122e-04 - val_loss: 4.1107e-05 - val_mean_squared_error: 4.1107e-05\n",
      "Epoch 7/1000\n",
      "489/489 [==============================] - 2s 3ms/step - loss: 1.2328e-04 - mean_squared_error: 1.2328e-04 - val_loss: 1.0718e-04 - val_mean_squared_error: 1.0718e-04\n",
      "Epoch 8/1000\n",
      "489/489 [==============================] - 2s 3ms/step - loss: 1.2705e-04 - mean_squared_error: 1.2705e-04 - val_loss: 5.4339e-05 - val_mean_squared_error: 5.4339e-05\n",
      "Epoch 9/1000\n",
      "489/489 [==============================] - 2s 3ms/step - loss: 1.1735e-04 - mean_squared_error: 1.1735e-04 - val_loss: 3.9183e-05 - val_mean_squared_error: 3.9183e-05\n",
      "Epoch 10/1000\n",
      "489/489 [==============================] - 2s 3ms/step - loss: 1.1731e-04 - mean_squared_error: 1.1731e-04 - val_loss: 5.9884e-05 - val_mean_squared_error: 5.9884e-05\n",
      "Epoch 11/1000\n",
      "489/489 [==============================] - 2s 3ms/step - loss: 1.1880e-04 - mean_squared_error: 1.1880e-04 - val_loss: 7.4542e-05 - val_mean_squared_error: 7.4542e-05\n",
      "Epoch 12/1000\n",
      "489/489 [==============================] - 2s 3ms/step - loss: 1.1546e-04 - mean_squared_error: 1.1546e-04 - val_loss: 5.3641e-05 - val_mean_squared_error: 5.3641e-05\n",
      "Epoch 13/1000\n",
      "489/489 [==============================] - 2s 3ms/step - loss: 1.2377e-04 - mean_squared_error: 1.2377e-04 - val_loss: 2.9203e-05 - val_mean_squared_error: 2.9203e-05\n",
      "Epoch 14/1000\n",
      "489/489 [==============================] - 2s 3ms/step - loss: 1.1882e-04 - mean_squared_error: 1.1882e-04 - val_loss: 2.4016e-05 - val_mean_squared_error: 2.4016e-05\n",
      "Epoch 15/1000\n",
      "489/489 [==============================] - 2s 3ms/step - loss: 1.0495e-04 - mean_squared_error: 1.0495e-04 - val_loss: 2.7362e-05 - val_mean_squared_error: 2.7362e-05\n",
      "Epoch 16/1000\n",
      "489/489 [==============================] - 2s 3ms/step - loss: 1.1647e-04 - mean_squared_error: 1.1647e-04 - val_loss: 3.1601e-05 - val_mean_squared_error: 3.1601e-05\n",
      "Epoch 17/1000\n",
      "489/489 [==============================] - 2s 3ms/step - loss: 1.0411e-04 - mean_squared_error: 1.0411e-04 - val_loss: 9.7498e-05 - val_mean_squared_error: 9.7498e-05\n",
      "Epoch 18/1000\n",
      "489/489 [==============================] - 2s 3ms/step - loss: 1.0567e-04 - mean_squared_error: 1.0567e-04 - val_loss: 3.0880e-05 - val_mean_squared_error: 3.0880e-05\n",
      "Epoch 19/1000\n",
      "489/489 [==============================] - 2s 3ms/step - loss: 9.5975e-05 - mean_squared_error: 9.5975e-05 - val_loss: 3.1035e-05 - val_mean_squared_error: 3.1035e-05\n",
      "Epoch 20/1000\n",
      "489/489 [==============================] - 2s 3ms/step - loss: 1.0133e-04 - mean_squared_error: 1.0133e-04 - val_loss: 4.5403e-05 - val_mean_squared_error: 4.5403e-05\n",
      "Epoch 21/1000\n",
      "489/489 [==============================] - 2s 3ms/step - loss: 1.0840e-04 - mean_squared_error: 1.0840e-04 - val_loss: 6.2478e-05 - val_mean_squared_error: 6.2478e-05\n",
      "Epoch 22/1000\n",
      "489/489 [==============================] - 2s 3ms/step - loss: 1.0907e-04 - mean_squared_error: 1.0907e-04 - val_loss: 2.1916e-05 - val_mean_squared_error: 2.1916e-05\n",
      "Epoch 23/1000\n",
      "489/489 [==============================] - 2s 3ms/step - loss: 9.7956e-05 - mean_squared_error: 9.7956e-05 - val_loss: 5.1173e-05 - val_mean_squared_error: 5.1173e-05\n",
      "Epoch 24/1000\n",
      "489/489 [==============================] - 2s 3ms/step - loss: 9.8699e-05 - mean_squared_error: 9.8699e-05 - val_loss: 8.1416e-05 - val_mean_squared_error: 8.1416e-05\n",
      "Epoch 25/1000\n",
      "489/489 [==============================] - 2s 3ms/step - loss: 1.1254e-04 - mean_squared_error: 1.1254e-04 - val_loss: 6.0903e-05 - val_mean_squared_error: 6.0903e-05\n",
      "Epoch 26/1000\n",
      "489/489 [==============================] - 2s 3ms/step - loss: 1.1369e-04 - mean_squared_error: 1.1369e-04 - val_loss: 3.7346e-05 - val_mean_squared_error: 3.7346e-05\n",
      "Epoch 27/1000\n",
      "489/489 [==============================] - 2s 3ms/step - loss: 1.0045e-04 - mean_squared_error: 1.0045e-04 - val_loss: 2.7065e-05 - val_mean_squared_error: 2.7065e-05\n",
      "Epoch 28/1000\n",
      "489/489 [==============================] - 2s 3ms/step - loss: 1.0961e-04 - mean_squared_error: 1.0961e-04 - val_loss: 6.8463e-05 - val_mean_squared_error: 6.8463e-05\n",
      "Epoch 29/1000\n",
      "489/489 [==============================] - 2s 3ms/step - loss: 1.1016e-04 - mean_squared_error: 1.1016e-04 - val_loss: 4.8858e-05 - val_mean_squared_error: 4.8858e-05\n",
      "Epoch 30/1000\n",
      "489/489 [==============================] - 2s 3ms/step - loss: 1.1150e-04 - mean_squared_error: 1.1150e-04 - val_loss: 2.6375e-05 - val_mean_squared_error: 2.6375e-05\n",
      "Epoch 31/1000\n",
      "489/489 [==============================] - 2s 3ms/step - loss: 1.0962e-04 - mean_squared_error: 1.0962e-04 - val_loss: 3.9415e-05 - val_mean_squared_error: 3.9415e-05\n",
      "Epoch 32/1000\n",
      "489/489 [==============================] - 2s 3ms/step - loss: 1.0204e-04 - mean_squared_error: 1.0204e-04 - val_loss: 3.2278e-05 - val_mean_squared_error: 3.2278e-05\n"
     ]
    },
    {
     "data": {
      "text/html": [
       "<span style=\"color:#4527A0\"><h1 style=\"font-size:18px\">Trial complete</h1></span>"
      ],
      "text/plain": [
       "<IPython.core.display.HTML object>"
      ]
     },
     "metadata": {
      "tags": []
     },
     "output_type": "display_data"
    },
    {
     "data": {
      "text/html": [
       "<span style=\"color:#4527A0\"><h1 style=\"font-size:18px\">Trial summary</h1></span>"
      ],
      "text/plain": [
       "<IPython.core.display.HTML object>"
      ]
     },
     "metadata": {
      "tags": []
     },
     "output_type": "display_data"
    },
    {
     "data": {
      "text/html": [
       "<span style=\"color:cyan\"> |-Trial ID: 33746b2b3f6ea32c8cbe50ed06523c6e</span>"
      ],
      "text/plain": [
       "<IPython.core.display.HTML object>"
      ]
     },
     "metadata": {
      "tags": []
     },
     "output_type": "display_data"
    },
    {
     "data": {
      "text/html": [
       "<span style=\"color:cyan\"> |-Score: 2.1916146579314955e-05</span>"
      ],
      "text/plain": [
       "<IPython.core.display.HTML object>"
      ]
     },
     "metadata": {
      "tags": []
     },
     "output_type": "display_data"
    },
    {
     "data": {
      "text/html": [
       "<span style=\"color:cyan\"> |-Best step: 0</span>"
      ],
      "text/plain": [
       "<IPython.core.display.HTML object>"
      ]
     },
     "metadata": {
      "tags": []
     },
     "output_type": "display_data"
    },
    {
     "data": {
      "text/html": [
       "<span style=\"color:#7E57C2\"><h2 style=\"font-size:16px\">Hyperparameters:</h2></span>"
      ],
      "text/plain": [
       "<IPython.core.display.HTML object>"
      ]
     },
     "metadata": {
      "tags": []
     },
     "output_type": "display_data"
    },
    {
     "data": {
      "text/html": [
       "<span style=\"color:cyan\"> |-optimizer: adam</span>"
      ],
      "text/plain": [
       "<IPython.core.display.HTML object>"
      ]
     },
     "metadata": {
      "tags": []
     },
     "output_type": "display_data"
    },
    {
     "data": {
      "text/html": [
       "<span style=\"color:blue\"> |-regression_head_2/dropout_rate: 0</span>"
      ],
      "text/plain": [
       "<IPython.core.display.HTML object>"
      ]
     },
     "metadata": {
      "tags": []
     },
     "output_type": "display_data"
    },
    {
     "data": {
      "text/html": [
       "<span style=\"color:cyan\"> |-structured_data_block_1/dense_block_1/dropout_rate: 0.25</span>"
      ],
      "text/plain": [
       "<IPython.core.display.HTML object>"
      ]
     },
     "metadata": {
      "tags": []
     },
     "output_type": "display_data"
    },
    {
     "data": {
      "text/html": [
       "<span style=\"color:blue\"> |-structured_data_block_1/dense_block_1/num_layers: 1</span>"
      ],
      "text/plain": [
       "<IPython.core.display.HTML object>"
      ]
     },
     "metadata": {
      "tags": []
     },
     "output_type": "display_data"
    },
    {
     "data": {
      "text/html": [
       "<span style=\"color:cyan\"> |-structured_data_block_1/dense_block_1/units_0: 512</span>"
      ],
      "text/plain": [
       "<IPython.core.display.HTML object>"
      ]
     },
     "metadata": {
      "tags": []
     },
     "output_type": "display_data"
    },
    {
     "data": {
      "text/html": [
       "<span style=\"color:blue\"> |-structured_data_block_1/dense_block_1/units_1: 128</span>"
      ],
      "text/plain": [
       "<IPython.core.display.HTML object>"
      ]
     },
     "metadata": {
      "tags": []
     },
     "output_type": "display_data"
    },
    {
     "data": {
      "text/html": [
       "<span style=\"color:cyan\"> |-structured_data_block_1/dense_block_1/units_2: 16</span>"
      ],
      "text/plain": [
       "<IPython.core.display.HTML object>"
      ]
     },
     "metadata": {
      "tags": []
     },
     "output_type": "display_data"
    },
    {
     "data": {
      "text/html": [
       "<span style=\"color:blue\"> |-structured_data_block_1/dense_block_1/use_batchnorm: False</span>"
      ],
      "text/plain": [
       "<IPython.core.display.HTML object>"
      ]
     },
     "metadata": {
      "tags": []
     },
     "output_type": "display_data"
    },
    {
     "name": "stdout",
     "output_type": "stream",
     "text": [
      "Epoch 1/1000\n",
      "489/489 [==============================] - 2s 4ms/step - loss: 8.4518e-04 - mean_squared_error: 8.4518e-04 - val_loss: 5.7799e-05 - val_mean_squared_error: 5.7799e-05\n",
      "Epoch 2/1000\n",
      "489/489 [==============================] - 2s 3ms/step - loss: 1.9424e-04 - mean_squared_error: 1.9424e-04 - val_loss: 7.7615e-05 - val_mean_squared_error: 7.7615e-05\n",
      "Epoch 3/1000\n",
      "489/489 [==============================] - 2s 3ms/step - loss: 1.6800e-04 - mean_squared_error: 1.6800e-04 - val_loss: 6.1484e-05 - val_mean_squared_error: 6.1484e-05\n",
      "Epoch 4/1000\n",
      "489/489 [==============================] - 2s 3ms/step - loss: 1.2898e-04 - mean_squared_error: 1.2898e-04 - val_loss: 5.4579e-05 - val_mean_squared_error: 5.4579e-05\n",
      "Epoch 5/1000\n",
      "489/489 [==============================] - 2s 3ms/step - loss: 1.4806e-04 - mean_squared_error: 1.4806e-04 - val_loss: 4.4278e-05 - val_mean_squared_error: 4.4278e-05\n",
      "Epoch 6/1000\n",
      "489/489 [==============================] - 2s 3ms/step - loss: 1.2289e-04 - mean_squared_error: 1.2289e-04 - val_loss: 3.5708e-05 - val_mean_squared_error: 3.5708e-05\n",
      "Epoch 7/1000\n",
      "489/489 [==============================] - 2s 3ms/step - loss: 1.1353e-04 - mean_squared_error: 1.1353e-04 - val_loss: 4.9544e-05 - val_mean_squared_error: 4.9544e-05\n",
      "Epoch 8/1000\n",
      "489/489 [==============================] - 2s 3ms/step - loss: 1.1932e-04 - mean_squared_error: 1.1932e-04 - val_loss: 2.4664e-05 - val_mean_squared_error: 2.4664e-05\n",
      "Epoch 9/1000\n",
      "489/489 [==============================] - 2s 3ms/step - loss: 1.2456e-04 - mean_squared_error: 1.2456e-04 - val_loss: 3.7381e-05 - val_mean_squared_error: 3.7381e-05\n",
      "Epoch 10/1000\n",
      "489/489 [==============================] - 2s 3ms/step - loss: 1.0733e-04 - mean_squared_error: 1.0733e-04 - val_loss: 1.0840e-04 - val_mean_squared_error: 1.0840e-04\n",
      "Epoch 11/1000\n",
      "489/489 [==============================] - 2s 3ms/step - loss: 1.2250e-04 - mean_squared_error: 1.2250e-04 - val_loss: 3.0055e-05 - val_mean_squared_error: 3.0055e-05\n",
      "Epoch 12/1000\n",
      "489/489 [==============================] - 2s 3ms/step - loss: 1.1415e-04 - mean_squared_error: 1.1415e-04 - val_loss: 2.8724e-05 - val_mean_squared_error: 2.8724e-05\n",
      "Epoch 13/1000\n",
      "489/489 [==============================] - 2s 3ms/step - loss: 1.0285e-04 - mean_squared_error: 1.0285e-04 - val_loss: 3.3572e-05 - val_mean_squared_error: 3.3572e-05\n",
      "Epoch 14/1000\n",
      "489/489 [==============================] - 2s 3ms/step - loss: 1.0101e-04 - mean_squared_error: 1.0101e-04 - val_loss: 8.3849e-05 - val_mean_squared_error: 8.3849e-05\n",
      "Epoch 15/1000\n",
      "489/489 [==============================] - 2s 3ms/step - loss: 1.1291e-04 - mean_squared_error: 1.1291e-04 - val_loss: 2.8317e-05 - val_mean_squared_error: 2.8317e-05\n",
      "Epoch 16/1000\n",
      "489/489 [==============================] - 2s 3ms/step - loss: 9.5204e-05 - mean_squared_error: 9.5204e-05 - val_loss: 5.0408e-05 - val_mean_squared_error: 5.0408e-05\n",
      "Epoch 17/1000\n",
      "489/489 [==============================] - 2s 3ms/step - loss: 1.1166e-04 - mean_squared_error: 1.1166e-04 - val_loss: 6.2082e-05 - val_mean_squared_error: 6.2082e-05\n",
      "Epoch 18/1000\n",
      "489/489 [==============================] - 2s 3ms/step - loss: 1.1148e-04 - mean_squared_error: 1.1148e-04 - val_loss: 2.6302e-05 - val_mean_squared_error: 2.6302e-05\n"
     ]
    },
    {
     "data": {
      "text/html": [
       "<span style=\"color:#4527A0\"><h1 style=\"font-size:18px\">Trial complete</h1></span>"
      ],
      "text/plain": [
       "<IPython.core.display.HTML object>"
      ]
     },
     "metadata": {
      "tags": []
     },
     "output_type": "display_data"
    },
    {
     "data": {
      "text/html": [
       "<span style=\"color:#4527A0\"><h1 style=\"font-size:18px\">Trial summary</h1></span>"
      ],
      "text/plain": [
       "<IPython.core.display.HTML object>"
      ]
     },
     "metadata": {
      "tags": []
     },
     "output_type": "display_data"
    },
    {
     "data": {
      "text/html": [
       "<span style=\"color:cyan\"> |-Trial ID: cfcab450451c0a324ea78a82a34b4725</span>"
      ],
      "text/plain": [
       "<IPython.core.display.HTML object>"
      ]
     },
     "metadata": {
      "tags": []
     },
     "output_type": "display_data"
    },
    {
     "data": {
      "text/html": [
       "<span style=\"color:cyan\"> |-Score: 2.466369915055111e-05</span>"
      ],
      "text/plain": [
       "<IPython.core.display.HTML object>"
      ]
     },
     "metadata": {
      "tags": []
     },
     "output_type": "display_data"
    },
    {
     "data": {
      "text/html": [
       "<span style=\"color:cyan\"> |-Best step: 0</span>"
      ],
      "text/plain": [
       "<IPython.core.display.HTML object>"
      ]
     },
     "metadata": {
      "tags": []
     },
     "output_type": "display_data"
    },
    {
     "data": {
      "text/html": [
       "<span style=\"color:#7E57C2\"><h2 style=\"font-size:16px\">Hyperparameters:</h2></span>"
      ],
      "text/plain": [
       "<IPython.core.display.HTML object>"
      ]
     },
     "metadata": {
      "tags": []
     },
     "output_type": "display_data"
    },
    {
     "data": {
      "text/html": [
       "<span style=\"color:cyan\"> |-optimizer: adam</span>"
      ],
      "text/plain": [
       "<IPython.core.display.HTML object>"
      ]
     },
     "metadata": {
      "tags": []
     },
     "output_type": "display_data"
    },
    {
     "data": {
      "text/html": [
       "<span style=\"color:blue\"> |-regression_head_2/dropout_rate: 0</span>"
      ],
      "text/plain": [
       "<IPython.core.display.HTML object>"
      ]
     },
     "metadata": {
      "tags": []
     },
     "output_type": "display_data"
    },
    {
     "data": {
      "text/html": [
       "<span style=\"color:cyan\"> |-structured_data_block_1/dense_block_1/dropout_rate: 0.25</span>"
      ],
      "text/plain": [
       "<IPython.core.display.HTML object>"
      ]
     },
     "metadata": {
      "tags": []
     },
     "output_type": "display_data"
    },
    {
     "data": {
      "text/html": [
       "<span style=\"color:blue\"> |-structured_data_block_1/dense_block_1/num_layers: 1</span>"
      ],
      "text/plain": [
       "<IPython.core.display.HTML object>"
      ]
     },
     "metadata": {
      "tags": []
     },
     "output_type": "display_data"
    },
    {
     "data": {
      "text/html": [
       "<span style=\"color:cyan\"> |-structured_data_block_1/dense_block_1/units_0: 512</span>"
      ],
      "text/plain": [
       "<IPython.core.display.HTML object>"
      ]
     },
     "metadata": {
      "tags": []
     },
     "output_type": "display_data"
    },
    {
     "data": {
      "text/html": [
       "<span style=\"color:blue\"> |-structured_data_block_1/dense_block_1/units_1: 32</span>"
      ],
      "text/plain": [
       "<IPython.core.display.HTML object>"
      ]
     },
     "metadata": {
      "tags": []
     },
     "output_type": "display_data"
    },
    {
     "data": {
      "text/html": [
       "<span style=\"color:cyan\"> |-structured_data_block_1/dense_block_1/units_2: 256</span>"
      ],
      "text/plain": [
       "<IPython.core.display.HTML object>"
      ]
     },
     "metadata": {
      "tags": []
     },
     "output_type": "display_data"
    },
    {
     "data": {
      "text/html": [
       "<span style=\"color:blue\"> |-structured_data_block_1/dense_block_1/use_batchnorm: False</span>"
      ],
      "text/plain": [
       "<IPython.core.display.HTML object>"
      ]
     },
     "metadata": {
      "tags": []
     },
     "output_type": "display_data"
    },
    {
     "name": "stdout",
     "output_type": "stream",
     "text": [
      "Epoch 1/1000\n",
      "489/489 [==============================] - 2s 4ms/step - loss: 0.0077 - mean_squared_error: 0.0077 - val_loss: 0.0016 - val_mean_squared_error: 0.0016\n",
      "Epoch 2/1000\n",
      "489/489 [==============================] - 1s 3ms/step - loss: 0.0043 - mean_squared_error: 0.0043 - val_loss: 0.0018 - val_mean_squared_error: 0.0018\n",
      "Epoch 3/1000\n",
      "489/489 [==============================] - 1s 3ms/step - loss: 0.0040 - mean_squared_error: 0.0040 - val_loss: 0.0025 - val_mean_squared_error: 0.0025\n",
      "Epoch 4/1000\n",
      "489/489 [==============================] - 1s 3ms/step - loss: 0.0037 - mean_squared_error: 0.0037 - val_loss: 0.0016 - val_mean_squared_error: 0.0016\n",
      "Epoch 5/1000\n",
      "489/489 [==============================] - 1s 3ms/step - loss: 0.0037 - mean_squared_error: 0.0037 - val_loss: 0.0015 - val_mean_squared_error: 0.0015\n",
      "Epoch 6/1000\n",
      "489/489 [==============================] - 1s 3ms/step - loss: 0.0035 - mean_squared_error: 0.0035 - val_loss: 0.0017 - val_mean_squared_error: 0.0017\n",
      "Epoch 7/1000\n",
      "489/489 [==============================] - 1s 3ms/step - loss: 0.0035 - mean_squared_error: 0.0035 - val_loss: 0.0015 - val_mean_squared_error: 0.0015\n",
      "Epoch 8/1000\n",
      "489/489 [==============================] - 1s 3ms/step - loss: 0.0030 - mean_squared_error: 0.0030 - val_loss: 0.0011 - val_mean_squared_error: 0.0011\n",
      "Epoch 9/1000\n",
      "489/489 [==============================] - 1s 3ms/step - loss: 0.0031 - mean_squared_error: 0.0031 - val_loss: 0.0018 - val_mean_squared_error: 0.0018\n",
      "Epoch 10/1000\n",
      "489/489 [==============================] - 1s 3ms/step - loss: 0.0029 - mean_squared_error: 0.0029 - val_loss: 0.0017 - val_mean_squared_error: 0.0017\n",
      "Epoch 11/1000\n",
      "489/489 [==============================] - 1s 3ms/step - loss: 0.0028 - mean_squared_error: 0.0028 - val_loss: 0.0020 - val_mean_squared_error: 0.0020\n",
      "Epoch 12/1000\n",
      "489/489 [==============================] - 1s 3ms/step - loss: 0.0026 - mean_squared_error: 0.0026 - val_loss: 0.0012 - val_mean_squared_error: 0.0012\n",
      "Epoch 13/1000\n",
      "489/489 [==============================] - 1s 3ms/step - loss: 0.0027 - mean_squared_error: 0.0027 - val_loss: 0.0017 - val_mean_squared_error: 0.0017\n",
      "Epoch 14/1000\n",
      "489/489 [==============================] - 1s 3ms/step - loss: 0.0027 - mean_squared_error: 0.0027 - val_loss: 0.0014 - val_mean_squared_error: 0.0014\n",
      "Epoch 15/1000\n",
      "489/489 [==============================] - 1s 3ms/step - loss: 0.0027 - mean_squared_error: 0.0027 - val_loss: 0.0015 - val_mean_squared_error: 0.0015\n",
      "Epoch 16/1000\n",
      "489/489 [==============================] - 2s 3ms/step - loss: 0.0027 - mean_squared_error: 0.0027 - val_loss: 0.0025 - val_mean_squared_error: 0.0025\n",
      "Epoch 17/1000\n",
      "489/489 [==============================] - 1s 3ms/step - loss: 0.0024 - mean_squared_error: 0.0024 - val_loss: 0.0017 - val_mean_squared_error: 0.0017\n",
      "Epoch 18/1000\n",
      "489/489 [==============================] - 1s 3ms/step - loss: 0.0027 - mean_squared_error: 0.0027 - val_loss: 0.0012 - val_mean_squared_error: 0.0012\n"
     ]
    },
    {
     "data": {
      "text/html": [
       "<span style=\"color:#4527A0\"><h1 style=\"font-size:18px\">Trial complete</h1></span>"
      ],
      "text/plain": [
       "<IPython.core.display.HTML object>"
      ]
     },
     "metadata": {
      "tags": []
     },
     "output_type": "display_data"
    },
    {
     "data": {
      "text/html": [
       "<span style=\"color:#4527A0\"><h1 style=\"font-size:18px\">Trial summary</h1></span>"
      ],
      "text/plain": [
       "<IPython.core.display.HTML object>"
      ]
     },
     "metadata": {
      "tags": []
     },
     "output_type": "display_data"
    },
    {
     "data": {
      "text/html": [
       "<span style=\"color:cyan\"> |-Trial ID: c8eed475e840e8f96646883e6754934a</span>"
      ],
      "text/plain": [
       "<IPython.core.display.HTML object>"
      ]
     },
     "metadata": {
      "tags": []
     },
     "output_type": "display_data"
    },
    {
     "data": {
      "text/html": [
       "<span style=\"color:cyan\"> |-Score: 0.001146500464528799</span>"
      ],
      "text/plain": [
       "<IPython.core.display.HTML object>"
      ]
     },
     "metadata": {
      "tags": []
     },
     "output_type": "display_data"
    },
    {
     "data": {
      "text/html": [
       "<span style=\"color:cyan\"> |-Best step: 0</span>"
      ],
      "text/plain": [
       "<IPython.core.display.HTML object>"
      ]
     },
     "metadata": {
      "tags": []
     },
     "output_type": "display_data"
    },
    {
     "data": {
      "text/html": [
       "<span style=\"color:#7E57C2\"><h2 style=\"font-size:16px\">Hyperparameters:</h2></span>"
      ],
      "text/plain": [
       "<IPython.core.display.HTML object>"
      ]
     },
     "metadata": {
      "tags": []
     },
     "output_type": "display_data"
    },
    {
     "data": {
      "text/html": [
       "<span style=\"color:cyan\"> |-optimizer: adam</span>"
      ],
      "text/plain": [
       "<IPython.core.display.HTML object>"
      ]
     },
     "metadata": {
      "tags": []
     },
     "output_type": "display_data"
    },
    {
     "data": {
      "text/html": [
       "<span style=\"color:blue\"> |-regression_head_2/dropout_rate: 0</span>"
      ],
      "text/plain": [
       "<IPython.core.display.HTML object>"
      ]
     },
     "metadata": {
      "tags": []
     },
     "output_type": "display_data"
    },
    {
     "data": {
      "text/html": [
       "<span style=\"color:cyan\"> |-structured_data_block_1/dense_block_1/dropout_rate: 0.5</span>"
      ],
      "text/plain": [
       "<IPython.core.display.HTML object>"
      ]
     },
     "metadata": {
      "tags": []
     },
     "output_type": "display_data"
    },
    {
     "data": {
      "text/html": [
       "<span style=\"color:blue\"> |-structured_data_block_1/dense_block_1/num_layers: 3</span>"
      ],
      "text/plain": [
       "<IPython.core.display.HTML object>"
      ]
     },
     "metadata": {
      "tags": []
     },
     "output_type": "display_data"
    },
    {
     "data": {
      "text/html": [
       "<span style=\"color:cyan\"> |-structured_data_block_1/dense_block_1/units_0: 64</span>"
      ],
      "text/plain": [
       "<IPython.core.display.HTML object>"
      ]
     },
     "metadata": {
      "tags": []
     },
     "output_type": "display_data"
    },
    {
     "data": {
      "text/html": [
       "<span style=\"color:blue\"> |-structured_data_block_1/dense_block_1/units_1: 128</span>"
      ],
      "text/plain": [
       "<IPython.core.display.HTML object>"
      ]
     },
     "metadata": {
      "tags": []
     },
     "output_type": "display_data"
    },
    {
     "data": {
      "text/html": [
       "<span style=\"color:cyan\"> |-structured_data_block_1/dense_block_1/units_2: 16</span>"
      ],
      "text/plain": [
       "<IPython.core.display.HTML object>"
      ]
     },
     "metadata": {
      "tags": []
     },
     "output_type": "display_data"
    },
    {
     "data": {
      "text/html": [
       "<span style=\"color:blue\"> |-structured_data_block_1/dense_block_1/use_batchnorm: False</span>"
      ],
      "text/plain": [
       "<IPython.core.display.HTML object>"
      ]
     },
     "metadata": {
      "tags": []
     },
     "output_type": "display_data"
    },
    {
     "name": "stdout",
     "output_type": "stream",
     "text": [
      "Epoch 1/1000\n",
      "489/489 [==============================] - 5s 9ms/step - loss: 0.0033 - mean_squared_error: 0.0033 - val_loss: 6.8606e-04 - val_mean_squared_error: 6.8606e-04\n",
      "Epoch 2/1000\n",
      "489/489 [==============================] - 4s 9ms/step - loss: 0.0022 - mean_squared_error: 0.0022 - val_loss: 7.0965e-04 - val_mean_squared_error: 7.0965e-04\n",
      "Epoch 3/1000\n",
      "489/489 [==============================] - 4s 8ms/step - loss: 0.0018 - mean_squared_error: 0.0018 - val_loss: 4.0641e-04 - val_mean_squared_error: 4.0641e-04\n",
      "Epoch 4/1000\n",
      "489/489 [==============================] - 4s 9ms/step - loss: 0.0018 - mean_squared_error: 0.0018 - val_loss: 3.7926e-04 - val_mean_squared_error: 3.7926e-04\n",
      "Epoch 5/1000\n",
      "489/489 [==============================] - 4s 8ms/step - loss: 0.0015 - mean_squared_error: 0.0015 - val_loss: 2.2069e-04 - val_mean_squared_error: 2.2069e-04\n",
      "Epoch 6/1000\n",
      "489/489 [==============================] - 4s 8ms/step - loss: 0.0016 - mean_squared_error: 0.0016 - val_loss: 2.9802e-04 - val_mean_squared_error: 2.9802e-04\n",
      "Epoch 7/1000\n",
      "489/489 [==============================] - 4s 8ms/step - loss: 0.0015 - mean_squared_error: 0.0015 - val_loss: 3.0880e-04 - val_mean_squared_error: 3.0880e-04\n",
      "Epoch 8/1000\n",
      "489/489 [==============================] - 4s 9ms/step - loss: 0.0014 - mean_squared_error: 0.0014 - val_loss: 2.4491e-04 - val_mean_squared_error: 2.4491e-04\n",
      "Epoch 9/1000\n",
      "489/489 [==============================] - 5s 9ms/step - loss: 0.0015 - mean_squared_error: 0.0015 - val_loss: 1.5044e-04 - val_mean_squared_error: 1.5044e-04\n",
      "Epoch 10/1000\n",
      "489/489 [==============================] - 4s 9ms/step - loss: 0.0014 - mean_squared_error: 0.0014 - val_loss: 3.2757e-04 - val_mean_squared_error: 3.2757e-04\n",
      "Epoch 11/1000\n",
      "489/489 [==============================] - 4s 8ms/step - loss: 0.0015 - mean_squared_error: 0.0015 - val_loss: 2.6146e-04 - val_mean_squared_error: 2.6146e-04\n",
      "Epoch 12/1000\n",
      "489/489 [==============================] - 4s 9ms/step - loss: 0.0014 - mean_squared_error: 0.0014 - val_loss: 4.1528e-04 - val_mean_squared_error: 4.1528e-04\n",
      "Epoch 13/1000\n",
      "489/489 [==============================] - 4s 9ms/step - loss: 0.0013 - mean_squared_error: 0.0013 - val_loss: 7.8231e-04 - val_mean_squared_error: 7.8231e-04\n",
      "Epoch 14/1000\n",
      "489/489 [==============================] - 4s 9ms/step - loss: 0.0013 - mean_squared_error: 0.0013 - val_loss: 3.6506e-04 - val_mean_squared_error: 3.6506e-04\n",
      "Epoch 15/1000\n",
      "489/489 [==============================] - 4s 9ms/step - loss: 0.0014 - mean_squared_error: 0.0014 - val_loss: 2.3677e-04 - val_mean_squared_error: 2.3677e-04\n",
      "Epoch 16/1000\n",
      "489/489 [==============================] - 4s 8ms/step - loss: 0.0013 - mean_squared_error: 0.0013 - val_loss: 1.8576e-04 - val_mean_squared_error: 1.8576e-04\n",
      "Epoch 17/1000\n",
      "489/489 [==============================] - 4s 8ms/step - loss: 0.0013 - mean_squared_error: 0.0013 - val_loss: 5.1415e-04 - val_mean_squared_error: 5.1415e-04\n",
      "Epoch 18/1000\n",
      "489/489 [==============================] - 4s 8ms/step - loss: 0.0012 - mean_squared_error: 0.0012 - val_loss: 2.1399e-04 - val_mean_squared_error: 2.1399e-04\n",
      "Epoch 19/1000\n",
      "489/489 [==============================] - 4s 8ms/step - loss: 0.0012 - mean_squared_error: 0.0012 - val_loss: 4.5311e-04 - val_mean_squared_error: 4.5311e-04\n"
     ]
    },
    {
     "data": {
      "text/html": [
       "<span style=\"color:#4527A0\"><h1 style=\"font-size:18px\">Trial complete</h1></span>"
      ],
      "text/plain": [
       "<IPython.core.display.HTML object>"
      ]
     },
     "metadata": {
      "tags": []
     },
     "output_type": "display_data"
    },
    {
     "data": {
      "text/html": [
       "<span style=\"color:#4527A0\"><h1 style=\"font-size:18px\">Trial summary</h1></span>"
      ],
      "text/plain": [
       "<IPython.core.display.HTML object>"
      ]
     },
     "metadata": {
      "tags": []
     },
     "output_type": "display_data"
    },
    {
     "data": {
      "text/html": [
       "<span style=\"color:cyan\"> |-Trial ID: aa1c65a4dab5d5c10f7e22bf6847eb1f</span>"
      ],
      "text/plain": [
       "<IPython.core.display.HTML object>"
      ]
     },
     "metadata": {
      "tags": []
     },
     "output_type": "display_data"
    },
    {
     "data": {
      "text/html": [
       "<span style=\"color:cyan\"> |-Score: 0.00015044394240248948</span>"
      ],
      "text/plain": [
       "<IPython.core.display.HTML object>"
      ]
     },
     "metadata": {
      "tags": []
     },
     "output_type": "display_data"
    },
    {
     "data": {
      "text/html": [
       "<span style=\"color:cyan\"> |-Best step: 0</span>"
      ],
      "text/plain": [
       "<IPython.core.display.HTML object>"
      ]
     },
     "metadata": {
      "tags": []
     },
     "output_type": "display_data"
    },
    {
     "data": {
      "text/html": [
       "<span style=\"color:#7E57C2\"><h2 style=\"font-size:16px\">Hyperparameters:</h2></span>"
      ],
      "text/plain": [
       "<IPython.core.display.HTML object>"
      ]
     },
     "metadata": {
      "tags": []
     },
     "output_type": "display_data"
    },
    {
     "data": {
      "text/html": [
       "<span style=\"color:cyan\"> |-optimizer: adam</span>"
      ],
      "text/plain": [
       "<IPython.core.display.HTML object>"
      ]
     },
     "metadata": {
      "tags": []
     },
     "output_type": "display_data"
    },
    {
     "data": {
      "text/html": [
       "<span style=\"color:blue\"> |-regression_head_2/dropout_rate: 0</span>"
      ],
      "text/plain": [
       "<IPython.core.display.HTML object>"
      ]
     },
     "metadata": {
      "tags": []
     },
     "output_type": "display_data"
    },
    {
     "data": {
      "text/html": [
       "<span style=\"color:cyan\"> |-structured_data_block_1/dense_block_1/dropout_rate: 0.5</span>"
      ],
      "text/plain": [
       "<IPython.core.display.HTML object>"
      ]
     },
     "metadata": {
      "tags": []
     },
     "output_type": "display_data"
    },
    {
     "data": {
      "text/html": [
       "<span style=\"color:blue\"> |-structured_data_block_1/dense_block_1/num_layers: 3</span>"
      ],
      "text/plain": [
       "<IPython.core.display.HTML object>"
      ]
     },
     "metadata": {
      "tags": []
     },
     "output_type": "display_data"
    },
    {
     "data": {
      "text/html": [
       "<span style=\"color:cyan\"> |-structured_data_block_1/dense_block_1/units_0: 256</span>"
      ],
      "text/plain": [
       "<IPython.core.display.HTML object>"
      ]
     },
     "metadata": {
      "tags": []
     },
     "output_type": "display_data"
    },
    {
     "data": {
      "text/html": [
       "<span style=\"color:blue\"> |-structured_data_block_1/dense_block_1/units_1: 1024</span>"
      ],
      "text/plain": [
       "<IPython.core.display.HTML object>"
      ]
     },
     "metadata": {
      "tags": []
     },
     "output_type": "display_data"
    },
    {
     "data": {
      "text/html": [
       "<span style=\"color:cyan\"> |-structured_data_block_1/dense_block_1/units_2: 64</span>"
      ],
      "text/plain": [
       "<IPython.core.display.HTML object>"
      ]
     },
     "metadata": {
      "tags": []
     },
     "output_type": "display_data"
    },
    {
     "data": {
      "text/html": [
       "<span style=\"color:blue\"> |-structured_data_block_1/dense_block_1/use_batchnorm: False</span>"
      ],
      "text/plain": [
       "<IPython.core.display.HTML object>"
      ]
     },
     "metadata": {
      "tags": []
     },
     "output_type": "display_data"
    },
    {
     "name": "stdout",
     "output_type": "stream",
     "text": [
      "Epoch 1/1000\n",
      "489/489 [==============================] - 2s 3ms/step - loss: 0.0049 - mean_squared_error: 0.0049 - val_loss: 0.0013 - val_mean_squared_error: 0.0013\n",
      "Epoch 2/1000\n",
      "489/489 [==============================] - 1s 3ms/step - loss: 0.0025 - mean_squared_error: 0.0025 - val_loss: 2.5971e-04 - val_mean_squared_error: 2.5971e-04\n",
      "Epoch 3/1000\n",
      "489/489 [==============================] - 1s 3ms/step - loss: 0.0023 - mean_squared_error: 0.0023 - val_loss: 3.6832e-04 - val_mean_squared_error: 3.6832e-04\n",
      "Epoch 4/1000\n",
      "489/489 [==============================] - 1s 3ms/step - loss: 0.0020 - mean_squared_error: 0.0020 - val_loss: 3.7040e-04 - val_mean_squared_error: 3.7040e-04\n",
      "Epoch 5/1000\n",
      "489/489 [==============================] - 1s 3ms/step - loss: 0.0018 - mean_squared_error: 0.0018 - val_loss: 5.6193e-04 - val_mean_squared_error: 5.6193e-04\n",
      "Epoch 6/1000\n",
      "489/489 [==============================] - 1s 3ms/step - loss: 0.0018 - mean_squared_error: 0.0018 - val_loss: 1.8904e-04 - val_mean_squared_error: 1.8904e-04\n",
      "Epoch 7/1000\n",
      "489/489 [==============================] - 1s 3ms/step - loss: 0.0018 - mean_squared_error: 0.0018 - val_loss: 7.6355e-04 - val_mean_squared_error: 7.6355e-04\n",
      "Epoch 8/1000\n",
      "489/489 [==============================] - 1s 3ms/step - loss: 0.0017 - mean_squared_error: 0.0017 - val_loss: 3.8246e-04 - val_mean_squared_error: 3.8246e-04\n",
      "Epoch 9/1000\n",
      "489/489 [==============================] - 1s 3ms/step - loss: 0.0015 - mean_squared_error: 0.0015 - val_loss: 2.0724e-04 - val_mean_squared_error: 2.0724e-04\n",
      "Epoch 10/1000\n",
      "489/489 [==============================] - 1s 3ms/step - loss: 0.0016 - mean_squared_error: 0.0016 - val_loss: 4.5169e-04 - val_mean_squared_error: 4.5169e-04\n",
      "Epoch 11/1000\n",
      "489/489 [==============================] - 1s 3ms/step - loss: 0.0015 - mean_squared_error: 0.0015 - val_loss: 3.0140e-04 - val_mean_squared_error: 3.0140e-04\n",
      "Epoch 12/1000\n",
      "489/489 [==============================] - 1s 3ms/step - loss: 0.0014 - mean_squared_error: 0.0014 - val_loss: 3.2215e-04 - val_mean_squared_error: 3.2215e-04\n",
      "Epoch 13/1000\n",
      "489/489 [==============================] - 1s 3ms/step - loss: 0.0015 - mean_squared_error: 0.0015 - val_loss: 2.0562e-04 - val_mean_squared_error: 2.0562e-04\n",
      "Epoch 14/1000\n",
      "489/489 [==============================] - 1s 3ms/step - loss: 0.0015 - mean_squared_error: 0.0015 - val_loss: 2.1164e-04 - val_mean_squared_error: 2.1164e-04\n",
      "Epoch 15/1000\n",
      "489/489 [==============================] - 1s 3ms/step - loss: 0.0013 - mean_squared_error: 0.0013 - val_loss: 1.0986e-04 - val_mean_squared_error: 1.0986e-04\n",
      "Epoch 16/1000\n",
      "489/489 [==============================] - 1s 3ms/step - loss: 0.0015 - mean_squared_error: 0.0015 - val_loss: 3.8472e-04 - val_mean_squared_error: 3.8472e-04\n",
      "Epoch 17/1000\n",
      "489/489 [==============================] - 1s 3ms/step - loss: 0.0014 - mean_squared_error: 0.0014 - val_loss: 2.4245e-04 - val_mean_squared_error: 2.4245e-04\n",
      "Epoch 18/1000\n",
      "489/489 [==============================] - 1s 3ms/step - loss: 0.0014 - mean_squared_error: 0.0014 - val_loss: 9.8963e-05 - val_mean_squared_error: 9.8963e-05\n",
      "Epoch 19/1000\n",
      "489/489 [==============================] - 1s 3ms/step - loss: 0.0014 - mean_squared_error: 0.0014 - val_loss: 2.7727e-04 - val_mean_squared_error: 2.7727e-04\n",
      "Epoch 20/1000\n",
      "489/489 [==============================] - 1s 3ms/step - loss: 0.0013 - mean_squared_error: 0.0013 - val_loss: 4.4912e-04 - val_mean_squared_error: 4.4912e-04\n",
      "Epoch 21/1000\n",
      "489/489 [==============================] - 1s 3ms/step - loss: 0.0014 - mean_squared_error: 0.0014 - val_loss: 1.3898e-04 - val_mean_squared_error: 1.3898e-04\n",
      "Epoch 22/1000\n",
      "489/489 [==============================] - 1s 3ms/step - loss: 0.0013 - mean_squared_error: 0.0013 - val_loss: 1.0424e-04 - val_mean_squared_error: 1.0424e-04\n",
      "Epoch 23/1000\n",
      "489/489 [==============================] - 1s 3ms/step - loss: 0.0013 - mean_squared_error: 0.0013 - val_loss: 3.2235e-04 - val_mean_squared_error: 3.2235e-04\n",
      "Epoch 24/1000\n",
      "489/489 [==============================] - 2s 3ms/step - loss: 0.0013 - mean_squared_error: 0.0013 - val_loss: 2.7518e-04 - val_mean_squared_error: 2.7518e-04\n",
      "Epoch 25/1000\n",
      "489/489 [==============================] - 1s 3ms/step - loss: 0.0014 - mean_squared_error: 0.0014 - val_loss: 2.5256e-04 - val_mean_squared_error: 2.5256e-04\n",
      "Epoch 26/1000\n",
      "489/489 [==============================] - 1s 3ms/step - loss: 0.0013 - mean_squared_error: 0.0013 - val_loss: 2.5575e-04 - val_mean_squared_error: 2.5575e-04\n",
      "Epoch 27/1000\n",
      "489/489 [==============================] - 1s 3ms/step - loss: 0.0013 - mean_squared_error: 0.0013 - val_loss: 2.2885e-04 - val_mean_squared_error: 2.2885e-04\n",
      "Epoch 28/1000\n",
      "489/489 [==============================] - 1s 3ms/step - loss: 0.0012 - mean_squared_error: 0.0012 - val_loss: 2.9853e-04 - val_mean_squared_error: 2.9853e-04\n"
     ]
    },
    {
     "data": {
      "text/html": [
       "<span style=\"color:#4527A0\"><h1 style=\"font-size:18px\">Trial complete</h1></span>"
      ],
      "text/plain": [
       "<IPython.core.display.HTML object>"
      ]
     },
     "metadata": {
      "tags": []
     },
     "output_type": "display_data"
    },
    {
     "data": {
      "text/html": [
       "<span style=\"color:#4527A0\"><h1 style=\"font-size:18px\">Trial summary</h1></span>"
      ],
      "text/plain": [
       "<IPython.core.display.HTML object>"
      ]
     },
     "metadata": {
      "tags": []
     },
     "output_type": "display_data"
    },
    {
     "data": {
      "text/html": [
       "<span style=\"color:cyan\"> |-Trial ID: abc8b0eb02d9a824c322efc53cae28c4</span>"
      ],
      "text/plain": [
       "<IPython.core.display.HTML object>"
      ]
     },
     "metadata": {
      "tags": []
     },
     "output_type": "display_data"
    },
    {
     "data": {
      "text/html": [
       "<span style=\"color:cyan\"> |-Score: 9.896330448100343e-05</span>"
      ],
      "text/plain": [
       "<IPython.core.display.HTML object>"
      ]
     },
     "metadata": {
      "tags": []
     },
     "output_type": "display_data"
    },
    {
     "data": {
      "text/html": [
       "<span style=\"color:cyan\"> |-Best step: 0</span>"
      ],
      "text/plain": [
       "<IPython.core.display.HTML object>"
      ]
     },
     "metadata": {
      "tags": []
     },
     "output_type": "display_data"
    },
    {
     "data": {
      "text/html": [
       "<span style=\"color:#7E57C2\"><h2 style=\"font-size:16px\">Hyperparameters:</h2></span>"
      ],
      "text/plain": [
       "<IPython.core.display.HTML object>"
      ]
     },
     "metadata": {
      "tags": []
     },
     "output_type": "display_data"
    },
    {
     "data": {
      "text/html": [
       "<span style=\"color:cyan\"> |-optimizer: adam</span>"
      ],
      "text/plain": [
       "<IPython.core.display.HTML object>"
      ]
     },
     "metadata": {
      "tags": []
     },
     "output_type": "display_data"
    },
    {
     "data": {
      "text/html": [
       "<span style=\"color:blue\"> |-regression_head_2/dropout_rate: 0</span>"
      ],
      "text/plain": [
       "<IPython.core.display.HTML object>"
      ]
     },
     "metadata": {
      "tags": []
     },
     "output_type": "display_data"
    },
    {
     "data": {
      "text/html": [
       "<span style=\"color:cyan\"> |-structured_data_block_1/dense_block_1/dropout_rate: 0.5</span>"
      ],
      "text/plain": [
       "<IPython.core.display.HTML object>"
      ]
     },
     "metadata": {
      "tags": []
     },
     "output_type": "display_data"
    },
    {
     "data": {
      "text/html": [
       "<span style=\"color:blue\"> |-structured_data_block_1/dense_block_1/num_layers: 2</span>"
      ],
      "text/plain": [
       "<IPython.core.display.HTML object>"
      ]
     },
     "metadata": {
      "tags": []
     },
     "output_type": "display_data"
    },
    {
     "data": {
      "text/html": [
       "<span style=\"color:cyan\"> |-structured_data_block_1/dense_block_1/units_0: 256</span>"
      ],
      "text/plain": [
       "<IPython.core.display.HTML object>"
      ]
     },
     "metadata": {
      "tags": []
     },
     "output_type": "display_data"
    },
    {
     "data": {
      "text/html": [
       "<span style=\"color:blue\"> |-structured_data_block_1/dense_block_1/units_1: 32</span>"
      ],
      "text/plain": [
       "<IPython.core.display.HTML object>"
      ]
     },
     "metadata": {
      "tags": []
     },
     "output_type": "display_data"
    },
    {
     "data": {
      "text/html": [
       "<span style=\"color:cyan\"> |-structured_data_block_1/dense_block_1/units_2: 1024</span>"
      ],
      "text/plain": [
       "<IPython.core.display.HTML object>"
      ]
     },
     "metadata": {
      "tags": []
     },
     "output_type": "display_data"
    },
    {
     "data": {
      "text/html": [
       "<span style=\"color:blue\"> |-structured_data_block_1/dense_block_1/use_batchnorm: False</span>"
      ],
      "text/plain": [
       "<IPython.core.display.HTML object>"
      ]
     },
     "metadata": {
      "tags": []
     },
     "output_type": "display_data"
    },
    {
     "name": "stdout",
     "output_type": "stream",
     "text": [
      "Epoch 1/1000\n",
      "489/489 [==============================] - 2s 4ms/step - loss: 8.9783e-04 - mean_squared_error: 8.9783e-04 - val_loss: 9.5743e-05 - val_mean_squared_error: 9.5743e-05\n",
      "Epoch 2/1000\n",
      "489/489 [==============================] - 2s 4ms/step - loss: 3.1794e-04 - mean_squared_error: 3.1794e-04 - val_loss: 5.7648e-05 - val_mean_squared_error: 5.7648e-05\n",
      "Epoch 3/1000\n",
      "489/489 [==============================] - 2s 4ms/step - loss: 2.6302e-04 - mean_squared_error: 2.6302e-04 - val_loss: 7.4813e-05 - val_mean_squared_error: 7.4813e-05\n",
      "Epoch 4/1000\n",
      "489/489 [==============================] - 2s 4ms/step - loss: 2.1570e-04 - mean_squared_error: 2.1570e-04 - val_loss: 3.1927e-05 - val_mean_squared_error: 3.1927e-05\n",
      "Epoch 5/1000\n",
      "489/489 [==============================] - 2s 4ms/step - loss: 2.3506e-04 - mean_squared_error: 2.3506e-04 - val_loss: 7.9330e-05 - val_mean_squared_error: 7.9330e-05\n",
      "Epoch 6/1000\n",
      "489/489 [==============================] - 2s 4ms/step - loss: 2.1961e-04 - mean_squared_error: 2.1961e-04 - val_loss: 9.5032e-05 - val_mean_squared_error: 9.5032e-05\n",
      "Epoch 7/1000\n",
      "489/489 [==============================] - 2s 4ms/step - loss: 2.2633e-04 - mean_squared_error: 2.2633e-04 - val_loss: 1.0750e-04 - val_mean_squared_error: 1.0750e-04\n",
      "Epoch 8/1000\n",
      "489/489 [==============================] - 2s 4ms/step - loss: 2.2336e-04 - mean_squared_error: 2.2336e-04 - val_loss: 4.3115e-05 - val_mean_squared_error: 4.3115e-05\n",
      "Epoch 9/1000\n",
      "489/489 [==============================] - 3s 5ms/step - loss: 2.3623e-04 - mean_squared_error: 2.3623e-04 - val_loss: 3.7060e-05 - val_mean_squared_error: 3.7060e-05\n",
      "Epoch 10/1000\n",
      "489/489 [==============================] - 4s 8ms/step - loss: 2.2111e-04 - mean_squared_error: 2.2111e-04 - val_loss: 2.6426e-05 - val_mean_squared_error: 2.6426e-05\n",
      "Epoch 11/1000\n",
      "489/489 [==============================] - 4s 9ms/step - loss: 2.1331e-04 - mean_squared_error: 2.1331e-04 - val_loss: 4.6499e-05 - val_mean_squared_error: 4.6499e-05\n",
      "Epoch 12/1000\n",
      "489/489 [==============================] - 2s 4ms/step - loss: 2.0550e-04 - mean_squared_error: 2.0550e-04 - val_loss: 4.9688e-05 - val_mean_squared_error: 4.9688e-05\n",
      "Epoch 13/1000\n",
      "489/489 [==============================] - 2s 4ms/step - loss: 2.2650e-04 - mean_squared_error: 2.2650e-04 - val_loss: 4.5472e-05 - val_mean_squared_error: 4.5472e-05\n",
      "Epoch 14/1000\n",
      "489/489 [==============================] - 2s 4ms/step - loss: 2.4304e-04 - mean_squared_error: 2.4304e-04 - val_loss: 7.2871e-05 - val_mean_squared_error: 7.2871e-05\n",
      "Epoch 15/1000\n",
      "489/489 [==============================] - 2s 4ms/step - loss: 2.4062e-04 - mean_squared_error: 2.4062e-04 - val_loss: 1.0421e-04 - val_mean_squared_error: 1.0421e-04\n",
      "Epoch 16/1000\n",
      "489/489 [==============================] - 2s 4ms/step - loss: 2.4415e-04 - mean_squared_error: 2.4415e-04 - val_loss: 4.9331e-05 - val_mean_squared_error: 4.9331e-05\n",
      "Epoch 17/1000\n",
      "489/489 [==============================] - 2s 4ms/step - loss: 2.1212e-04 - mean_squared_error: 2.1212e-04 - val_loss: 4.5701e-05 - val_mean_squared_error: 4.5701e-05\n",
      "Epoch 18/1000\n",
      "489/489 [==============================] - 2s 4ms/step - loss: 2.5199e-04 - mean_squared_error: 2.5199e-04 - val_loss: 9.3344e-05 - val_mean_squared_error: 9.3344e-05\n",
      "Epoch 19/1000\n",
      "489/489 [==============================] - 2s 4ms/step - loss: 2.2154e-04 - mean_squared_error: 2.2154e-04 - val_loss: 3.3925e-05 - val_mean_squared_error: 3.3925e-05\n",
      "Epoch 20/1000\n",
      "489/489 [==============================] - 2s 4ms/step - loss: 2.3181e-04 - mean_squared_error: 2.3181e-04 - val_loss: 9.4947e-05 - val_mean_squared_error: 9.4947e-05\n"
     ]
    },
    {
     "data": {
      "text/html": [
       "<span style=\"color:#4527A0\"><h1 style=\"font-size:18px\">Trial complete</h1></span>"
      ],
      "text/plain": [
       "<IPython.core.display.HTML object>"
      ]
     },
     "metadata": {
      "tags": []
     },
     "output_type": "display_data"
    },
    {
     "data": {
      "text/html": [
       "<span style=\"color:#4527A0\"><h1 style=\"font-size:18px\">Trial summary</h1></span>"
      ],
      "text/plain": [
       "<IPython.core.display.HTML object>"
      ]
     },
     "metadata": {
      "tags": []
     },
     "output_type": "display_data"
    },
    {
     "data": {
      "text/html": [
       "<span style=\"color:cyan\"> |-Trial ID: ba58d4d637a8825547a33a69a17e379a</span>"
      ],
      "text/plain": [
       "<IPython.core.display.HTML object>"
      ]
     },
     "metadata": {
      "tags": []
     },
     "output_type": "display_data"
    },
    {
     "data": {
      "text/html": [
       "<span style=\"color:cyan\"> |-Score: 2.6425741452840157e-05</span>"
      ],
      "text/plain": [
       "<IPython.core.display.HTML object>"
      ]
     },
     "metadata": {
      "tags": []
     },
     "output_type": "display_data"
    },
    {
     "data": {
      "text/html": [
       "<span style=\"color:cyan\"> |-Best step: 0</span>"
      ],
      "text/plain": [
       "<IPython.core.display.HTML object>"
      ]
     },
     "metadata": {
      "tags": []
     },
     "output_type": "display_data"
    },
    {
     "data": {
      "text/html": [
       "<span style=\"color:#7E57C2\"><h2 style=\"font-size:16px\">Hyperparameters:</h2></span>"
      ],
      "text/plain": [
       "<IPython.core.display.HTML object>"
      ]
     },
     "metadata": {
      "tags": []
     },
     "output_type": "display_data"
    },
    {
     "data": {
      "text/html": [
       "<span style=\"color:cyan\"> |-optimizer: adam</span>"
      ],
      "text/plain": [
       "<IPython.core.display.HTML object>"
      ]
     },
     "metadata": {
      "tags": []
     },
     "output_type": "display_data"
    },
    {
     "data": {
      "text/html": [
       "<span style=\"color:blue\"> |-regression_head_2/dropout_rate: 0</span>"
      ],
      "text/plain": [
       "<IPython.core.display.HTML object>"
      ]
     },
     "metadata": {
      "tags": []
     },
     "output_type": "display_data"
    },
    {
     "data": {
      "text/html": [
       "<span style=\"color:cyan\"> |-structured_data_block_1/dense_block_1/dropout_rate: 0.5</span>"
      ],
      "text/plain": [
       "<IPython.core.display.HTML object>"
      ]
     },
     "metadata": {
      "tags": []
     },
     "output_type": "display_data"
    },
    {
     "data": {
      "text/html": [
       "<span style=\"color:blue\"> |-structured_data_block_1/dense_block_1/num_layers: 1</span>"
      ],
      "text/plain": [
       "<IPython.core.display.HTML object>"
      ]
     },
     "metadata": {
      "tags": []
     },
     "output_type": "display_data"
    },
    {
     "data": {
      "text/html": [
       "<span style=\"color:cyan\"> |-structured_data_block_1/dense_block_1/units_0: 1024</span>"
      ],
      "text/plain": [
       "<IPython.core.display.HTML object>"
      ]
     },
     "metadata": {
      "tags": []
     },
     "output_type": "display_data"
    },
    {
     "data": {
      "text/html": [
       "<span style=\"color:blue\"> |-structured_data_block_1/dense_block_1/units_1: 64</span>"
      ],
      "text/plain": [
       "<IPython.core.display.HTML object>"
      ]
     },
     "metadata": {
      "tags": []
     },
     "output_type": "display_data"
    },
    {
     "data": {
      "text/html": [
       "<span style=\"color:cyan\"> |-structured_data_block_1/dense_block_1/units_2: 128</span>"
      ],
      "text/plain": [
       "<IPython.core.display.HTML object>"
      ]
     },
     "metadata": {
      "tags": []
     },
     "output_type": "display_data"
    },
    {
     "data": {
      "text/html": [
       "<span style=\"color:blue\"> |-structured_data_block_1/dense_block_1/use_batchnorm: False</span>"
      ],
      "text/plain": [
       "<IPython.core.display.HTML object>"
      ]
     },
     "metadata": {
      "tags": []
     },
     "output_type": "display_data"
    },
    {
     "name": "stdout",
     "output_type": "stream",
     "text": [
      "Epoch 1/1000\n",
      "489/489 [==============================] - 2s 5ms/step - loss: 0.5412 - mean_squared_error: 0.5412 - val_loss: 0.0085 - val_mean_squared_error: 0.0085\n",
      "Epoch 2/1000\n",
      "489/489 [==============================] - 2s 4ms/step - loss: 0.0524 - mean_squared_error: 0.0524 - val_loss: 0.0053 - val_mean_squared_error: 0.0053\n",
      "Epoch 3/1000\n",
      "489/489 [==============================] - 2s 4ms/step - loss: 0.0104 - mean_squared_error: 0.0104 - val_loss: 0.0047 - val_mean_squared_error: 0.0047\n",
      "Epoch 4/1000\n",
      "489/489 [==============================] - 2s 4ms/step - loss: 0.0072 - mean_squared_error: 0.0072 - val_loss: 0.0044 - val_mean_squared_error: 0.0044\n",
      "Epoch 5/1000\n",
      "489/489 [==============================] - 2s 4ms/step - loss: 0.0070 - mean_squared_error: 0.0070 - val_loss: 0.0047 - val_mean_squared_error: 0.0047\n",
      "Epoch 6/1000\n",
      "489/489 [==============================] - 2s 4ms/step - loss: 0.0067 - mean_squared_error: 0.0067 - val_loss: 0.0043 - val_mean_squared_error: 0.0043\n",
      "Epoch 7/1000\n",
      "489/489 [==============================] - 2s 4ms/step - loss: 0.0065 - mean_squared_error: 0.0065 - val_loss: 0.0037 - val_mean_squared_error: 0.0037\n",
      "Epoch 8/1000\n",
      "489/489 [==============================] - 2s 4ms/step - loss: 0.0066 - mean_squared_error: 0.0066 - val_loss: 0.0039 - val_mean_squared_error: 0.0039\n",
      "Epoch 9/1000\n",
      "489/489 [==============================] - 2s 4ms/step - loss: 0.0066 - mean_squared_error: 0.0066 - val_loss: 0.0040 - val_mean_squared_error: 0.0040\n",
      "Epoch 10/1000\n",
      "489/489 [==============================] - 2s 4ms/step - loss: 0.0064 - mean_squared_error: 0.0064 - val_loss: 0.0040 - val_mean_squared_error: 0.0040\n",
      "Epoch 11/1000\n",
      "489/489 [==============================] - 2s 4ms/step - loss: 0.0062 - mean_squared_error: 0.0062 - val_loss: 0.0034 - val_mean_squared_error: 0.0034\n",
      "Epoch 12/1000\n",
      "489/489 [==============================] - 2s 4ms/step - loss: 0.0060 - mean_squared_error: 0.0060 - val_loss: 0.0043 - val_mean_squared_error: 0.0043\n",
      "Epoch 13/1000\n",
      "489/489 [==============================] - 2s 4ms/step - loss: 0.0057 - mean_squared_error: 0.0057 - val_loss: 0.0030 - val_mean_squared_error: 0.0030\n",
      "Epoch 14/1000\n",
      "489/489 [==============================] - 2s 4ms/step - loss: 0.0053 - mean_squared_error: 0.0053 - val_loss: 0.0032 - val_mean_squared_error: 0.0032\n",
      "Epoch 15/1000\n",
      "489/489 [==============================] - 2s 4ms/step - loss: 0.0049 - mean_squared_error: 0.0049 - val_loss: 0.0031 - val_mean_squared_error: 0.0031\n",
      "Epoch 16/1000\n",
      "489/489 [==============================] - 2s 4ms/step - loss: 0.0047 - mean_squared_error: 0.0047 - val_loss: 0.0037 - val_mean_squared_error: 0.0037\n",
      "Epoch 17/1000\n",
      "489/489 [==============================] - 2s 4ms/step - loss: 0.0043 - mean_squared_error: 0.0043 - val_loss: 0.0032 - val_mean_squared_error: 0.0032\n",
      "Epoch 18/1000\n",
      "489/489 [==============================] - 2s 4ms/step - loss: 0.0041 - mean_squared_error: 0.0041 - val_loss: 0.0032 - val_mean_squared_error: 0.0032\n",
      "Epoch 19/1000\n",
      "489/489 [==============================] - 2s 4ms/step - loss: 0.0038 - mean_squared_error: 0.0038 - val_loss: 0.0042 - val_mean_squared_error: 0.0042\n",
      "Epoch 20/1000\n",
      "489/489 [==============================] - 2s 4ms/step - loss: 0.0038 - mean_squared_error: 0.0038 - val_loss: 0.0046 - val_mean_squared_error: 0.0046\n",
      "Epoch 21/1000\n",
      "489/489 [==============================] - 2s 4ms/step - loss: 0.0035 - mean_squared_error: 0.0035 - val_loss: 0.0052 - val_mean_squared_error: 0.0052\n",
      "Epoch 22/1000\n",
      "489/489 [==============================] - 2s 4ms/step - loss: 0.0034 - mean_squared_error: 0.0034 - val_loss: 0.0052 - val_mean_squared_error: 0.0052\n",
      "Epoch 23/1000\n",
      "489/489 [==============================] - 2s 4ms/step - loss: 0.0031 - mean_squared_error: 0.0031 - val_loss: 0.0046 - val_mean_squared_error: 0.0046\n"
     ]
    },
    {
     "data": {
      "text/html": [
       "<span style=\"color:#4527A0\"><h1 style=\"font-size:18px\">Trial complete</h1></span>"
      ],
      "text/plain": [
       "<IPython.core.display.HTML object>"
      ]
     },
     "metadata": {
      "tags": []
     },
     "output_type": "display_data"
    },
    {
     "data": {
      "text/html": [
       "<span style=\"color:#4527A0\"><h1 style=\"font-size:18px\">Trial summary</h1></span>"
      ],
      "text/plain": [
       "<IPython.core.display.HTML object>"
      ]
     },
     "metadata": {
      "tags": []
     },
     "output_type": "display_data"
    },
    {
     "data": {
      "text/html": [
       "<span style=\"color:cyan\"> |-Trial ID: 0a7036d98c960aa2607ea9595b9db750</span>"
      ],
      "text/plain": [
       "<IPython.core.display.HTML object>"
      ]
     },
     "metadata": {
      "tags": []
     },
     "output_type": "display_data"
    },
    {
     "data": {
      "text/html": [
       "<span style=\"color:cyan\"> |-Score: 0.0030160665046423674</span>"
      ],
      "text/plain": [
       "<IPython.core.display.HTML object>"
      ]
     },
     "metadata": {
      "tags": []
     },
     "output_type": "display_data"
    },
    {
     "data": {
      "text/html": [
       "<span style=\"color:cyan\"> |-Best step: 0</span>"
      ],
      "text/plain": [
       "<IPython.core.display.HTML object>"
      ]
     },
     "metadata": {
      "tags": []
     },
     "output_type": "display_data"
    },
    {
     "data": {
      "text/html": [
       "<span style=\"color:#7E57C2\"><h2 style=\"font-size:16px\">Hyperparameters:</h2></span>"
      ],
      "text/plain": [
       "<IPython.core.display.HTML object>"
      ]
     },
     "metadata": {
      "tags": []
     },
     "output_type": "display_data"
    },
    {
     "data": {
      "text/html": [
       "<span style=\"color:cyan\"> |-optimizer: adam</span>"
      ],
      "text/plain": [
       "<IPython.core.display.HTML object>"
      ]
     },
     "metadata": {
      "tags": []
     },
     "output_type": "display_data"
    },
    {
     "data": {
      "text/html": [
       "<span style=\"color:blue\"> |-regression_head_2/dropout_rate: 0</span>"
      ],
      "text/plain": [
       "<IPython.core.display.HTML object>"
      ]
     },
     "metadata": {
      "tags": []
     },
     "output_type": "display_data"
    },
    {
     "data": {
      "text/html": [
       "<span style=\"color:cyan\"> |-structured_data_block_1/dense_block_1/dropout_rate: 0.5</span>"
      ],
      "text/plain": [
       "<IPython.core.display.HTML object>"
      ]
     },
     "metadata": {
      "tags": []
     },
     "output_type": "display_data"
    },
    {
     "data": {
      "text/html": [
       "<span style=\"color:blue\"> |-structured_data_block_1/dense_block_1/num_layers: 3</span>"
      ],
      "text/plain": [
       "<IPython.core.display.HTML object>"
      ]
     },
     "metadata": {
      "tags": []
     },
     "output_type": "display_data"
    },
    {
     "data": {
      "text/html": [
       "<span style=\"color:cyan\"> |-structured_data_block_1/dense_block_1/units_0: 16</span>"
      ],
      "text/plain": [
       "<IPython.core.display.HTML object>"
      ]
     },
     "metadata": {
      "tags": []
     },
     "output_type": "display_data"
    },
    {
     "data": {
      "text/html": [
       "<span style=\"color:blue\"> |-structured_data_block_1/dense_block_1/units_1: 64</span>"
      ],
      "text/plain": [
       "<IPython.core.display.HTML object>"
      ]
     },
     "metadata": {
      "tags": []
     },
     "output_type": "display_data"
    },
    {
     "data": {
      "text/html": [
       "<span style=\"color:cyan\"> |-structured_data_block_1/dense_block_1/units_2: 256</span>"
      ],
      "text/plain": [
       "<IPython.core.display.HTML object>"
      ]
     },
     "metadata": {
      "tags": []
     },
     "output_type": "display_data"
    },
    {
     "data": {
      "text/html": [
       "<span style=\"color:blue\"> |-structured_data_block_1/dense_block_1/use_batchnorm: True</span>"
      ],
      "text/plain": [
       "<IPython.core.display.HTML object>"
      ]
     },
     "metadata": {
      "tags": []
     },
     "output_type": "display_data"
    },
    {
     "name": "stdout",
     "output_type": "stream",
     "text": [
      "Epoch 1/1000\n",
      "489/489 [==============================] - 4s 9ms/step - loss: 0.0015 - mean_squared_error: 0.0015 - val_loss: 2.8494e-04 - val_mean_squared_error: 2.8494e-04\n",
      "Epoch 2/1000\n",
      "489/489 [==============================] - 4s 9ms/step - loss: 7.0804e-04 - mean_squared_error: 7.0804e-04 - val_loss: 6.0964e-04 - val_mean_squared_error: 6.0964e-04\n",
      "Epoch 3/1000\n",
      "489/489 [==============================] - 4s 8ms/step - loss: 6.6216e-04 - mean_squared_error: 6.6216e-04 - val_loss: 2.0239e-04 - val_mean_squared_error: 2.0239e-04\n",
      "Epoch 4/1000\n",
      "489/489 [==============================] - 4s 9ms/step - loss: 6.1471e-04 - mean_squared_error: 6.1471e-04 - val_loss: 2.0146e-04 - val_mean_squared_error: 2.0146e-04\n",
      "Epoch 5/1000\n",
      "489/489 [==============================] - 4s 9ms/step - loss: 5.7603e-04 - mean_squared_error: 5.7603e-04 - val_loss: 1.2720e-04 - val_mean_squared_error: 1.2720e-04\n",
      "Epoch 6/1000\n",
      "489/489 [==============================] - 4s 9ms/step - loss: 5.8201e-04 - mean_squared_error: 5.8201e-04 - val_loss: 5.8211e-04 - val_mean_squared_error: 5.8211e-04\n",
      "Epoch 7/1000\n",
      "489/489 [==============================] - 4s 9ms/step - loss: 5.7462e-04 - mean_squared_error: 5.7462e-04 - val_loss: 8.2708e-05 - val_mean_squared_error: 8.2708e-05\n",
      "Epoch 8/1000\n",
      "489/489 [==============================] - 4s 9ms/step - loss: 6.0681e-04 - mean_squared_error: 6.0681e-04 - val_loss: 2.1764e-04 - val_mean_squared_error: 2.1764e-04\n",
      "Epoch 9/1000\n",
      "489/489 [==============================] - 5s 9ms/step - loss: 5.2257e-04 - mean_squared_error: 5.2257e-04 - val_loss: 1.4893e-04 - val_mean_squared_error: 1.4893e-04\n",
      "Epoch 10/1000\n",
      "489/489 [==============================] - 4s 9ms/step - loss: 5.3304e-04 - mean_squared_error: 5.3304e-04 - val_loss: 1.0374e-04 - val_mean_squared_error: 1.0374e-04\n",
      "Epoch 11/1000\n",
      "489/489 [==============================] - 5s 9ms/step - loss: 5.2071e-04 - mean_squared_error: 5.2071e-04 - val_loss: 1.4106e-04 - val_mean_squared_error: 1.4106e-04\n",
      "Epoch 12/1000\n",
      "489/489 [==============================] - 4s 9ms/step - loss: 4.8910e-04 - mean_squared_error: 4.8910e-04 - val_loss: 1.7933e-04 - val_mean_squared_error: 1.7933e-04\n",
      "Epoch 13/1000\n",
      "489/489 [==============================] - 4s 9ms/step - loss: 5.6031e-04 - mean_squared_error: 5.6031e-04 - val_loss: 2.0499e-04 - val_mean_squared_error: 2.0499e-04\n",
      "Epoch 14/1000\n",
      "489/489 [==============================] - 5s 9ms/step - loss: 5.2178e-04 - mean_squared_error: 5.2178e-04 - val_loss: 1.1764e-04 - val_mean_squared_error: 1.1764e-04\n",
      "Epoch 15/1000\n",
      "489/489 [==============================] - 4s 9ms/step - loss: 5.1483e-04 - mean_squared_error: 5.1483e-04 - val_loss: 9.3266e-05 - val_mean_squared_error: 9.3266e-05\n",
      "Epoch 16/1000\n",
      "489/489 [==============================] - 4s 9ms/step - loss: 5.0717e-04 - mean_squared_error: 5.0717e-04 - val_loss: 2.3273e-04 - val_mean_squared_error: 2.3273e-04\n",
      "Epoch 17/1000\n",
      "489/489 [==============================] - 4s 9ms/step - loss: 4.9348e-04 - mean_squared_error: 4.9348e-04 - val_loss: 6.1568e-05 - val_mean_squared_error: 6.1568e-05\n",
      "Epoch 18/1000\n",
      "489/489 [==============================] - 4s 9ms/step - loss: 4.4689e-04 - mean_squared_error: 4.4689e-04 - val_loss: 1.2526e-04 - val_mean_squared_error: 1.2526e-04\n",
      "Epoch 19/1000\n",
      "489/489 [==============================] - 4s 9ms/step - loss: 4.6404e-04 - mean_squared_error: 4.6404e-04 - val_loss: 8.2092e-05 - val_mean_squared_error: 8.2092e-05\n",
      "Epoch 20/1000\n",
      "489/489 [==============================] - 4s 9ms/step - loss: 4.5239e-04 - mean_squared_error: 4.5239e-04 - val_loss: 1.8767e-04 - val_mean_squared_error: 1.8767e-04\n",
      "Epoch 21/1000\n",
      "489/489 [==============================] - 5s 9ms/step - loss: 4.3473e-04 - mean_squared_error: 4.3473e-04 - val_loss: 8.7304e-05 - val_mean_squared_error: 8.7304e-05\n",
      "Epoch 22/1000\n",
      "489/489 [==============================] - 4s 9ms/step - loss: 4.1522e-04 - mean_squared_error: 4.1522e-04 - val_loss: 8.4439e-05 - val_mean_squared_error: 8.4439e-05\n",
      "Epoch 23/1000\n",
      "489/489 [==============================] - 4s 9ms/step - loss: 4.2713e-04 - mean_squared_error: 4.2713e-04 - val_loss: 1.4145e-04 - val_mean_squared_error: 1.4145e-04\n",
      "Epoch 24/1000\n",
      "489/489 [==============================] - 4s 8ms/step - loss: 4.4355e-04 - mean_squared_error: 4.4355e-04 - val_loss: 2.1819e-04 - val_mean_squared_error: 2.1819e-04\n",
      "Epoch 25/1000\n",
      "489/489 [==============================] - 4s 9ms/step - loss: 4.2918e-04 - mean_squared_error: 4.2918e-04 - val_loss: 1.4786e-04 - val_mean_squared_error: 1.4786e-04\n",
      "Epoch 26/1000\n",
      "489/489 [==============================] - 4s 8ms/step - loss: 4.5613e-04 - mean_squared_error: 4.5613e-04 - val_loss: 6.3593e-05 - val_mean_squared_error: 6.3593e-05\n",
      "Epoch 27/1000\n",
      "489/489 [==============================] - 4s 9ms/step - loss: 4.3619e-04 - mean_squared_error: 4.3619e-04 - val_loss: 1.0702e-04 - val_mean_squared_error: 1.0702e-04\n"
     ]
    },
    {
     "data": {
      "text/html": [
       "<span style=\"color:#4527A0\"><h1 style=\"font-size:18px\">Trial complete</h1></span>"
      ],
      "text/plain": [
       "<IPython.core.display.HTML object>"
      ]
     },
     "metadata": {
      "tags": []
     },
     "output_type": "display_data"
    },
    {
     "data": {
      "text/html": [
       "<span style=\"color:#4527A0\"><h1 style=\"font-size:18px\">Trial summary</h1></span>"
      ],
      "text/plain": [
       "<IPython.core.display.HTML object>"
      ]
     },
     "metadata": {
      "tags": []
     },
     "output_type": "display_data"
    },
    {
     "data": {
      "text/html": [
       "<span style=\"color:cyan\"> |-Trial ID: 220c6785ffa932f220e481cb832a5ae9</span>"
      ],
      "text/plain": [
       "<IPython.core.display.HTML object>"
      ]
     },
     "metadata": {
      "tags": []
     },
     "output_type": "display_data"
    },
    {
     "data": {
      "text/html": [
       "<span style=\"color:cyan\"> |-Score: 6.156819290481508e-05</span>"
      ],
      "text/plain": [
       "<IPython.core.display.HTML object>"
      ]
     },
     "metadata": {
      "tags": []
     },
     "output_type": "display_data"
    },
    {
     "data": {
      "text/html": [
       "<span style=\"color:cyan\"> |-Best step: 0</span>"
      ],
      "text/plain": [
       "<IPython.core.display.HTML object>"
      ]
     },
     "metadata": {
      "tags": []
     },
     "output_type": "display_data"
    },
    {
     "data": {
      "text/html": [
       "<span style=\"color:#7E57C2\"><h2 style=\"font-size:16px\">Hyperparameters:</h2></span>"
      ],
      "text/plain": [
       "<IPython.core.display.HTML object>"
      ]
     },
     "metadata": {
      "tags": []
     },
     "output_type": "display_data"
    },
    {
     "data": {
      "text/html": [
       "<span style=\"color:cyan\"> |-optimizer: adam</span>"
      ],
      "text/plain": [
       "<IPython.core.display.HTML object>"
      ]
     },
     "metadata": {
      "tags": []
     },
     "output_type": "display_data"
    },
    {
     "data": {
      "text/html": [
       "<span style=\"color:blue\"> |-regression_head_2/dropout_rate: 0</span>"
      ],
      "text/plain": [
       "<IPython.core.display.HTML object>"
      ]
     },
     "metadata": {
      "tags": []
     },
     "output_type": "display_data"
    },
    {
     "data": {
      "text/html": [
       "<span style=\"color:cyan\"> |-structured_data_block_1/dense_block_1/dropout_rate: 0.5</span>"
      ],
      "text/plain": [
       "<IPython.core.display.HTML object>"
      ]
     },
     "metadata": {
      "tags": []
     },
     "output_type": "display_data"
    },
    {
     "data": {
      "text/html": [
       "<span style=\"color:blue\"> |-structured_data_block_1/dense_block_1/num_layers: 2</span>"
      ],
      "text/plain": [
       "<IPython.core.display.HTML object>"
      ]
     },
     "metadata": {
      "tags": []
     },
     "output_type": "display_data"
    },
    {
     "data": {
      "text/html": [
       "<span style=\"color:cyan\"> |-structured_data_block_1/dense_block_1/units_0: 512</span>"
      ],
      "text/plain": [
       "<IPython.core.display.HTML object>"
      ]
     },
     "metadata": {
      "tags": []
     },
     "output_type": "display_data"
    },
    {
     "data": {
      "text/html": [
       "<span style=\"color:blue\"> |-structured_data_block_1/dense_block_1/units_1: 512</span>"
      ],
      "text/plain": [
       "<IPython.core.display.HTML object>"
      ]
     },
     "metadata": {
      "tags": []
     },
     "output_type": "display_data"
    },
    {
     "data": {
      "text/html": [
       "<span style=\"color:cyan\"> |-structured_data_block_1/dense_block_1/units_2: 1024</span>"
      ],
      "text/plain": [
       "<IPython.core.display.HTML object>"
      ]
     },
     "metadata": {
      "tags": []
     },
     "output_type": "display_data"
    },
    {
     "data": {
      "text/html": [
       "<span style=\"color:blue\"> |-structured_data_block_1/dense_block_1/use_batchnorm: False</span>"
      ],
      "text/plain": [
       "<IPython.core.display.HTML object>"
      ]
     },
     "metadata": {
      "tags": []
     },
     "output_type": "display_data"
    },
    {
     "name": "stdout",
     "output_type": "stream",
     "text": [
      "Epoch 1/1000\n",
      "489/489 [==============================] - 2s 4ms/step - loss: 0.2003 - mean_squared_error: 0.2003 - val_loss: 0.0045 - val_mean_squared_error: 0.0045\n",
      "Epoch 2/1000\n",
      "489/489 [==============================] - 2s 3ms/step - loss: 0.0289 - mean_squared_error: 0.0289 - val_loss: 0.0019 - val_mean_squared_error: 0.0019\n",
      "Epoch 3/1000\n",
      "489/489 [==============================] - 2s 3ms/step - loss: 0.0095 - mean_squared_error: 0.0095 - val_loss: 0.0012 - val_mean_squared_error: 0.0012\n",
      "Epoch 4/1000\n",
      "489/489 [==============================] - 2s 3ms/step - loss: 0.0051 - mean_squared_error: 0.0051 - val_loss: 8.2039e-04 - val_mean_squared_error: 8.2039e-04\n",
      "Epoch 5/1000\n",
      "489/489 [==============================] - 2s 3ms/step - loss: 0.0037 - mean_squared_error: 0.0037 - val_loss: 6.9343e-04 - val_mean_squared_error: 6.9343e-04\n",
      "Epoch 6/1000\n",
      "489/489 [==============================] - 2s 3ms/step - loss: 0.0031 - mean_squared_error: 0.0031 - val_loss: 5.5884e-04 - val_mean_squared_error: 5.5884e-04\n",
      "Epoch 7/1000\n",
      "489/489 [==============================] - 2s 3ms/step - loss: 0.0028 - mean_squared_error: 0.0028 - val_loss: 4.5754e-04 - val_mean_squared_error: 4.5754e-04\n",
      "Epoch 8/1000\n",
      "489/489 [==============================] - 2s 3ms/step - loss: 0.0026 - mean_squared_error: 0.0026 - val_loss: 4.1642e-04 - val_mean_squared_error: 4.1642e-04\n",
      "Epoch 9/1000\n",
      "489/489 [==============================] - 1s 3ms/step - loss: 0.0023 - mean_squared_error: 0.0023 - val_loss: 3.4547e-04 - val_mean_squared_error: 3.4547e-04\n",
      "Epoch 10/1000\n",
      "489/489 [==============================] - 1s 3ms/step - loss: 0.0022 - mean_squared_error: 0.0022 - val_loss: 3.0909e-04 - val_mean_squared_error: 3.0909e-04\n",
      "Epoch 11/1000\n",
      "489/489 [==============================] - 1s 3ms/step - loss: 0.0020 - mean_squared_error: 0.0020 - val_loss: 3.9365e-04 - val_mean_squared_error: 3.9365e-04\n",
      "Epoch 12/1000\n",
      "489/489 [==============================] - 2s 3ms/step - loss: 0.0019 - mean_squared_error: 0.0019 - val_loss: 3.6111e-04 - val_mean_squared_error: 3.6111e-04\n",
      "Epoch 13/1000\n",
      "489/489 [==============================] - 2s 3ms/step - loss: 0.0018 - mean_squared_error: 0.0018 - val_loss: 2.2405e-04 - val_mean_squared_error: 2.2405e-04\n",
      "Epoch 14/1000\n",
      "489/489 [==============================] - 2s 3ms/step - loss: 0.0016 - mean_squared_error: 0.0016 - val_loss: 1.8858e-04 - val_mean_squared_error: 1.8858e-04\n",
      "Epoch 15/1000\n",
      "489/489 [==============================] - 2s 3ms/step - loss: 0.0015 - mean_squared_error: 0.0015 - val_loss: 3.4852e-04 - val_mean_squared_error: 3.4852e-04\n",
      "Epoch 16/1000\n",
      "489/489 [==============================] - 1s 3ms/step - loss: 0.0014 - mean_squared_error: 0.0014 - val_loss: 2.9686e-04 - val_mean_squared_error: 2.9686e-04\n",
      "Epoch 17/1000\n",
      "489/489 [==============================] - 1s 3ms/step - loss: 0.0013 - mean_squared_error: 0.0013 - val_loss: 3.5165e-04 - val_mean_squared_error: 3.5165e-04\n",
      "Epoch 18/1000\n",
      "489/489 [==============================] - 2s 3ms/step - loss: 0.0012 - mean_squared_error: 0.0012 - val_loss: 3.8620e-04 - val_mean_squared_error: 3.8620e-04\n",
      "Epoch 19/1000\n",
      "489/489 [==============================] - 2s 3ms/step - loss: 0.0011 - mean_squared_error: 0.0011 - val_loss: 2.7042e-04 - val_mean_squared_error: 2.7042e-04\n",
      "Epoch 20/1000\n",
      "489/489 [==============================] - 1s 3ms/step - loss: 0.0012 - mean_squared_error: 0.0012 - val_loss: 4.5488e-04 - val_mean_squared_error: 4.5488e-04\n",
      "Epoch 21/1000\n",
      "489/489 [==============================] - 2s 3ms/step - loss: 0.0010 - mean_squared_error: 0.0010 - val_loss: 2.2875e-04 - val_mean_squared_error: 2.2875e-04\n",
      "Epoch 22/1000\n",
      "489/489 [==============================] - 1s 3ms/step - loss: 9.7776e-04 - mean_squared_error: 9.7776e-04 - val_loss: 3.1168e-04 - val_mean_squared_error: 3.1168e-04\n",
      "Epoch 23/1000\n",
      "489/489 [==============================] - 2s 3ms/step - loss: 9.2354e-04 - mean_squared_error: 9.2354e-04 - val_loss: 3.8046e-04 - val_mean_squared_error: 3.8046e-04\n",
      "Epoch 24/1000\n",
      "489/489 [==============================] - 2s 3ms/step - loss: 0.0010 - mean_squared_error: 0.0010 - val_loss: 7.8747e-04 - val_mean_squared_error: 7.8747e-04\n"
     ]
    },
    {
     "data": {
      "text/html": [
       "<span style=\"color:#4527A0\"><h1 style=\"font-size:18px\">Trial complete</h1></span>"
      ],
      "text/plain": [
       "<IPython.core.display.HTML object>"
      ]
     },
     "metadata": {
      "tags": []
     },
     "output_type": "display_data"
    },
    {
     "data": {
      "text/html": [
       "<span style=\"color:#4527A0\"><h1 style=\"font-size:18px\">Trial summary</h1></span>"
      ],
      "text/plain": [
       "<IPython.core.display.HTML object>"
      ]
     },
     "metadata": {
      "tags": []
     },
     "output_type": "display_data"
    },
    {
     "data": {
      "text/html": [
       "<span style=\"color:cyan\"> |-Trial ID: 7e62c957a3171374959023132a5465b3</span>"
      ],
      "text/plain": [
       "<IPython.core.display.HTML object>"
      ]
     },
     "metadata": {
      "tags": []
     },
     "output_type": "display_data"
    },
    {
     "data": {
      "text/html": [
       "<span style=\"color:cyan\"> |-Score: 0.0001885815290734172</span>"
      ],
      "text/plain": [
       "<IPython.core.display.HTML object>"
      ]
     },
     "metadata": {
      "tags": []
     },
     "output_type": "display_data"
    },
    {
     "data": {
      "text/html": [
       "<span style=\"color:cyan\"> |-Best step: 0</span>"
      ],
      "text/plain": [
       "<IPython.core.display.HTML object>"
      ]
     },
     "metadata": {
      "tags": []
     },
     "output_type": "display_data"
    },
    {
     "data": {
      "text/html": [
       "<span style=\"color:#7E57C2\"><h2 style=\"font-size:16px\">Hyperparameters:</h2></span>"
      ],
      "text/plain": [
       "<IPython.core.display.HTML object>"
      ]
     },
     "metadata": {
      "tags": []
     },
     "output_type": "display_data"
    },
    {
     "data": {
      "text/html": [
       "<span style=\"color:cyan\"> |-optimizer: adam</span>"
      ],
      "text/plain": [
       "<IPython.core.display.HTML object>"
      ]
     },
     "metadata": {
      "tags": []
     },
     "output_type": "display_data"
    },
    {
     "data": {
      "text/html": [
       "<span style=\"color:blue\"> |-regression_head_2/dropout_rate: 0</span>"
      ],
      "text/plain": [
       "<IPython.core.display.HTML object>"
      ]
     },
     "metadata": {
      "tags": []
     },
     "output_type": "display_data"
    },
    {
     "data": {
      "text/html": [
       "<span style=\"color:cyan\"> |-structured_data_block_1/dense_block_1/dropout_rate: 0.25</span>"
      ],
      "text/plain": [
       "<IPython.core.display.HTML object>"
      ]
     },
     "metadata": {
      "tags": []
     },
     "output_type": "display_data"
    },
    {
     "data": {
      "text/html": [
       "<span style=\"color:blue\"> |-structured_data_block_1/dense_block_1/num_layers: 2</span>"
      ],
      "text/plain": [
       "<IPython.core.display.HTML object>"
      ]
     },
     "metadata": {
      "tags": []
     },
     "output_type": "display_data"
    },
    {
     "data": {
      "text/html": [
       "<span style=\"color:cyan\"> |-structured_data_block_1/dense_block_1/units_0: 64</span>"
      ],
      "text/plain": [
       "<IPython.core.display.HTML object>"
      ]
     },
     "metadata": {
      "tags": []
     },
     "output_type": "display_data"
    },
    {
     "data": {
      "text/html": [
       "<span style=\"color:blue\"> |-structured_data_block_1/dense_block_1/units_1: 32</span>"
      ],
      "text/plain": [
       "<IPython.core.display.HTML object>"
      ]
     },
     "metadata": {
      "tags": []
     },
     "output_type": "display_data"
    },
    {
     "data": {
      "text/html": [
       "<span style=\"color:cyan\"> |-structured_data_block_1/dense_block_1/units_2: 16</span>"
      ],
      "text/plain": [
       "<IPython.core.display.HTML object>"
      ]
     },
     "metadata": {
      "tags": []
     },
     "output_type": "display_data"
    },
    {
     "data": {
      "text/html": [
       "<span style=\"color:blue\"> |-structured_data_block_1/dense_block_1/use_batchnorm: True</span>"
      ],
      "text/plain": [
       "<IPython.core.display.HTML object>"
      ]
     },
     "metadata": {
      "tags": []
     },
     "output_type": "display_data"
    },
    {
     "name": "stdout",
     "output_type": "stream",
     "text": [
      "Epoch 1/1000\n",
      "489/489 [==============================] - 2s 5ms/step - loss: 0.5458 - mean_squared_error: 0.5458 - val_loss: 0.0126 - val_mean_squared_error: 0.0126\n",
      "Epoch 2/1000\n",
      "489/489 [==============================] - 2s 4ms/step - loss: 0.0754 - mean_squared_error: 0.0754 - val_loss: 0.0098 - val_mean_squared_error: 0.0098\n",
      "Epoch 3/1000\n",
      "489/489 [==============================] - 2s 4ms/step - loss: 0.0245 - mean_squared_error: 0.0245 - val_loss: 0.0080 - val_mean_squared_error: 0.0080\n",
      "Epoch 4/1000\n",
      "489/489 [==============================] - 2s 4ms/step - loss: 0.0133 - mean_squared_error: 0.0133 - val_loss: 0.0063 - val_mean_squared_error: 0.0063\n",
      "Epoch 5/1000\n",
      "489/489 [==============================] - 2s 4ms/step - loss: 0.0100 - mean_squared_error: 0.0100 - val_loss: 0.0055 - val_mean_squared_error: 0.0055\n",
      "Epoch 6/1000\n",
      "489/489 [==============================] - 2s 3ms/step - loss: 0.0086 - mean_squared_error: 0.0086 - val_loss: 0.0047 - val_mean_squared_error: 0.0047\n",
      "Epoch 7/1000\n",
      "489/489 [==============================] - 2s 4ms/step - loss: 0.0075 - mean_squared_error: 0.0075 - val_loss: 0.0037 - val_mean_squared_error: 0.0037\n",
      "Epoch 8/1000\n",
      "489/489 [==============================] - 2s 4ms/step - loss: 0.0069 - mean_squared_error: 0.0069 - val_loss: 0.0030 - val_mean_squared_error: 0.0030\n",
      "Epoch 9/1000\n",
      "489/489 [==============================] - 2s 4ms/step - loss: 0.0063 - mean_squared_error: 0.0063 - val_loss: 0.0032 - val_mean_squared_error: 0.0032\n",
      "Epoch 10/1000\n",
      "489/489 [==============================] - 2s 4ms/step - loss: 0.0060 - mean_squared_error: 0.0060 - val_loss: 0.0024 - val_mean_squared_error: 0.0024\n",
      "Epoch 11/1000\n",
      "489/489 [==============================] - 2s 4ms/step - loss: 0.0058 - mean_squared_error: 0.0058 - val_loss: 0.0025 - val_mean_squared_error: 0.0025\n",
      "Epoch 12/1000\n",
      "489/489 [==============================] - 2s 3ms/step - loss: 0.0057 - mean_squared_error: 0.0057 - val_loss: 0.0030 - val_mean_squared_error: 0.0030\n",
      "Epoch 13/1000\n",
      "489/489 [==============================] - 2s 4ms/step - loss: 0.0053 - mean_squared_error: 0.0053 - val_loss: 0.0022 - val_mean_squared_error: 0.0022\n",
      "Epoch 14/1000\n",
      "489/489 [==============================] - 2s 4ms/step - loss: 0.0050 - mean_squared_error: 0.0050 - val_loss: 0.0024 - val_mean_squared_error: 0.0024\n",
      "Epoch 15/1000\n",
      "489/489 [==============================] - 2s 4ms/step - loss: 0.0048 - mean_squared_error: 0.0048 - val_loss: 0.0019 - val_mean_squared_error: 0.0019\n",
      "Epoch 16/1000\n",
      "489/489 [==============================] - 2s 4ms/step - loss: 0.0046 - mean_squared_error: 0.0046 - val_loss: 0.0019 - val_mean_squared_error: 0.0019\n",
      "Epoch 17/1000\n",
      "489/489 [==============================] - 2s 3ms/step - loss: 0.0042 - mean_squared_error: 0.0042 - val_loss: 0.0020 - val_mean_squared_error: 0.0020\n",
      "Epoch 18/1000\n",
      "489/489 [==============================] - 2s 3ms/step - loss: 0.0040 - mean_squared_error: 0.0040 - val_loss: 0.0025 - val_mean_squared_error: 0.0025\n",
      "Epoch 19/1000\n",
      "489/489 [==============================] - 2s 3ms/step - loss: 0.0038 - mean_squared_error: 0.0038 - val_loss: 0.0017 - val_mean_squared_error: 0.0017\n",
      "Epoch 20/1000\n",
      "489/489 [==============================] - 2s 3ms/step - loss: 0.0037 - mean_squared_error: 0.0037 - val_loss: 0.0022 - val_mean_squared_error: 0.0022\n",
      "Epoch 21/1000\n",
      "489/489 [==============================] - 2s 4ms/step - loss: 0.0036 - mean_squared_error: 0.0036 - val_loss: 0.0021 - val_mean_squared_error: 0.0021\n",
      "Epoch 22/1000\n",
      "489/489 [==============================] - 2s 4ms/step - loss: 0.0034 - mean_squared_error: 0.0034 - val_loss: 0.0024 - val_mean_squared_error: 0.0024\n",
      "Epoch 23/1000\n",
      "489/489 [==============================] - 2s 4ms/step - loss: 0.0032 - mean_squared_error: 0.0032 - val_loss: 0.0025 - val_mean_squared_error: 0.0025\n",
      "Epoch 24/1000\n",
      "489/489 [==============================] - 2s 4ms/step - loss: 0.0032 - mean_squared_error: 0.0032 - val_loss: 0.0028 - val_mean_squared_error: 0.0028\n",
      "Epoch 25/1000\n",
      "489/489 [==============================] - 2s 3ms/step - loss: 0.0031 - mean_squared_error: 0.0031 - val_loss: 0.0032 - val_mean_squared_error: 0.0032\n",
      "Epoch 26/1000\n",
      "489/489 [==============================] - 2s 3ms/step - loss: 0.0029 - mean_squared_error: 0.0029 - val_loss: 0.0037 - val_mean_squared_error: 0.0037\n",
      "Epoch 27/1000\n",
      "489/489 [==============================] - 2s 4ms/step - loss: 0.0030 - mean_squared_error: 0.0030 - val_loss: 0.0017 - val_mean_squared_error: 0.0017\n",
      "Epoch 28/1000\n",
      "489/489 [==============================] - 2s 4ms/step - loss: 0.0030 - mean_squared_error: 0.0030 - val_loss: 0.0029 - val_mean_squared_error: 0.0029\n",
      "Epoch 29/1000\n",
      "489/489 [==============================] - 2s 4ms/step - loss: 0.0029 - mean_squared_error: 0.0029 - val_loss: 0.0025 - val_mean_squared_error: 0.0025\n"
     ]
    },
    {
     "data": {
      "text/html": [
       "<span style=\"color:#4527A0\"><h1 style=\"font-size:18px\">Trial complete</h1></span>"
      ],
      "text/plain": [
       "<IPython.core.display.HTML object>"
      ]
     },
     "metadata": {
      "tags": []
     },
     "output_type": "display_data"
    },
    {
     "data": {
      "text/html": [
       "<span style=\"color:#4527A0\"><h1 style=\"font-size:18px\">Trial summary</h1></span>"
      ],
      "text/plain": [
       "<IPython.core.display.HTML object>"
      ]
     },
     "metadata": {
      "tags": []
     },
     "output_type": "display_data"
    },
    {
     "data": {
      "text/html": [
       "<span style=\"color:cyan\"> |-Trial ID: 786509a44450055dda711fbe44f92d5a</span>"
      ],
      "text/plain": [
       "<IPython.core.display.HTML object>"
      ]
     },
     "metadata": {
      "tags": []
     },
     "output_type": "display_data"
    },
    {
     "data": {
      "text/html": [
       "<span style=\"color:cyan\"> |-Score: 0.0016603103140369058</span>"
      ],
      "text/plain": [
       "<IPython.core.display.HTML object>"
      ]
     },
     "metadata": {
      "tags": []
     },
     "output_type": "display_data"
    },
    {
     "data": {
      "text/html": [
       "<span style=\"color:cyan\"> |-Best step: 0</span>"
      ],
      "text/plain": [
       "<IPython.core.display.HTML object>"
      ]
     },
     "metadata": {
      "tags": []
     },
     "output_type": "display_data"
    },
    {
     "data": {
      "text/html": [
       "<span style=\"color:#7E57C2\"><h2 style=\"font-size:16px\">Hyperparameters:</h2></span>"
      ],
      "text/plain": [
       "<IPython.core.display.HTML object>"
      ]
     },
     "metadata": {
      "tags": []
     },
     "output_type": "display_data"
    },
    {
     "data": {
      "text/html": [
       "<span style=\"color:cyan\"> |-optimizer: adam</span>"
      ],
      "text/plain": [
       "<IPython.core.display.HTML object>"
      ]
     },
     "metadata": {
      "tags": []
     },
     "output_type": "display_data"
    },
    {
     "data": {
      "text/html": [
       "<span style=\"color:blue\"> |-regression_head_2/dropout_rate: 0</span>"
      ],
      "text/plain": [
       "<IPython.core.display.HTML object>"
      ]
     },
     "metadata": {
      "tags": []
     },
     "output_type": "display_data"
    },
    {
     "data": {
      "text/html": [
       "<span style=\"color:cyan\"> |-structured_data_block_1/dense_block_1/dropout_rate: 0.5</span>"
      ],
      "text/plain": [
       "<IPython.core.display.HTML object>"
      ]
     },
     "metadata": {
      "tags": []
     },
     "output_type": "display_data"
    },
    {
     "data": {
      "text/html": [
       "<span style=\"color:blue\"> |-structured_data_block_1/dense_block_1/num_layers: 3</span>"
      ],
      "text/plain": [
       "<IPython.core.display.HTML object>"
      ]
     },
     "metadata": {
      "tags": []
     },
     "output_type": "display_data"
    },
    {
     "data": {
      "text/html": [
       "<span style=\"color:cyan\"> |-structured_data_block_1/dense_block_1/units_0: 128</span>"
      ],
      "text/plain": [
       "<IPython.core.display.HTML object>"
      ]
     },
     "metadata": {
      "tags": []
     },
     "output_type": "display_data"
    },
    {
     "data": {
      "text/html": [
       "<span style=\"color:blue\"> |-structured_data_block_1/dense_block_1/units_1: 16</span>"
      ],
      "text/plain": [
       "<IPython.core.display.HTML object>"
      ]
     },
     "metadata": {
      "tags": []
     },
     "output_type": "display_data"
    },
    {
     "data": {
      "text/html": [
       "<span style=\"color:cyan\"> |-structured_data_block_1/dense_block_1/units_2: 32</span>"
      ],
      "text/plain": [
       "<IPython.core.display.HTML object>"
      ]
     },
     "metadata": {
      "tags": []
     },
     "output_type": "display_data"
    },
    {
     "data": {
      "text/html": [
       "<span style=\"color:blue\"> |-structured_data_block_1/dense_block_1/use_batchnorm: True</span>"
      ],
      "text/plain": [
       "<IPython.core.display.HTML object>"
      ]
     },
     "metadata": {
      "tags": []
     },
     "output_type": "display_data"
    },
    {
     "name": "stdout",
     "output_type": "stream",
     "text": [
      "Epoch 1/1000\n",
      "489/489 [==============================] - 2s 3ms/step - loss: 0.1605 - mean_squared_error: 0.1605 - val_loss: 0.0066 - val_mean_squared_error: 0.0066\n",
      "Epoch 2/1000\n",
      "489/489 [==============================] - 1s 3ms/step - loss: 0.0276 - mean_squared_error: 0.0276 - val_loss: 0.0033 - val_mean_squared_error: 0.0033\n",
      "Epoch 3/1000\n",
      "489/489 [==============================] - 1s 3ms/step - loss: 0.0105 - mean_squared_error: 0.0105 - val_loss: 0.0019 - val_mean_squared_error: 0.0019\n",
      "Epoch 4/1000\n",
      "489/489 [==============================] - 1s 3ms/step - loss: 0.0058 - mean_squared_error: 0.0058 - val_loss: 0.0012 - val_mean_squared_error: 0.0012\n",
      "Epoch 5/1000\n",
      "489/489 [==============================] - 1s 3ms/step - loss: 0.0041 - mean_squared_error: 0.0041 - val_loss: 9.3880e-04 - val_mean_squared_error: 9.3880e-04\n",
      "Epoch 6/1000\n",
      "489/489 [==============================] - 1s 3ms/step - loss: 0.0032 - mean_squared_error: 0.0032 - val_loss: 7.7476e-04 - val_mean_squared_error: 7.7476e-04\n",
      "Epoch 7/1000\n",
      "489/489 [==============================] - 1s 3ms/step - loss: 0.0028 - mean_squared_error: 0.0028 - val_loss: 6.6498e-04 - val_mean_squared_error: 6.6498e-04\n",
      "Epoch 8/1000\n",
      "489/489 [==============================] - 1s 3ms/step - loss: 0.0026 - mean_squared_error: 0.0026 - val_loss: 5.6731e-04 - val_mean_squared_error: 5.6731e-04\n",
      "Epoch 9/1000\n",
      "489/489 [==============================] - 1s 3ms/step - loss: 0.0025 - mean_squared_error: 0.0025 - val_loss: 4.4845e-04 - val_mean_squared_error: 4.4845e-04\n",
      "Epoch 10/1000\n",
      "489/489 [==============================] - 1s 3ms/step - loss: 0.0023 - mean_squared_error: 0.0023 - val_loss: 4.1608e-04 - val_mean_squared_error: 4.1608e-04\n",
      "Epoch 11/1000\n",
      "489/489 [==============================] - 1s 3ms/step - loss: 0.0021 - mean_squared_error: 0.0021 - val_loss: 4.3701e-04 - val_mean_squared_error: 4.3701e-04\n",
      "Epoch 12/1000\n",
      "489/489 [==============================] - 1s 3ms/step - loss: 0.0019 - mean_squared_error: 0.0019 - val_loss: 4.1826e-04 - val_mean_squared_error: 4.1826e-04\n",
      "Epoch 13/1000\n",
      "489/489 [==============================] - 1s 3ms/step - loss: 0.0018 - mean_squared_error: 0.0018 - val_loss: 4.1890e-04 - val_mean_squared_error: 4.1890e-04\n",
      "Epoch 14/1000\n",
      "489/489 [==============================] - 1s 3ms/step - loss: 0.0018 - mean_squared_error: 0.0018 - val_loss: 3.4800e-04 - val_mean_squared_error: 3.4800e-04\n",
      "Epoch 15/1000\n",
      "489/489 [==============================] - 1s 3ms/step - loss: 0.0019 - mean_squared_error: 0.0019 - val_loss: 3.2957e-04 - val_mean_squared_error: 3.2957e-04\n",
      "Epoch 16/1000\n",
      "489/489 [==============================] - 1s 3ms/step - loss: 0.0016 - mean_squared_error: 0.0016 - val_loss: 5.2271e-04 - val_mean_squared_error: 5.2271e-04\n",
      "Epoch 17/1000\n",
      "489/489 [==============================] - 1s 3ms/step - loss: 0.0016 - mean_squared_error: 0.0016 - val_loss: 3.8508e-04 - val_mean_squared_error: 3.8508e-04\n",
      "Epoch 18/1000\n",
      "489/489 [==============================] - 1s 3ms/step - loss: 0.0015 - mean_squared_error: 0.0015 - val_loss: 3.5868e-04 - val_mean_squared_error: 3.5868e-04\n",
      "Epoch 19/1000\n",
      "489/489 [==============================] - 1s 3ms/step - loss: 0.0015 - mean_squared_error: 0.0015 - val_loss: 2.3081e-04 - val_mean_squared_error: 2.3081e-04\n",
      "Epoch 20/1000\n",
      "489/489 [==============================] - 1s 3ms/step - loss: 0.0015 - mean_squared_error: 0.0015 - val_loss: 3.5154e-04 - val_mean_squared_error: 3.5154e-04\n",
      "Epoch 21/1000\n",
      "489/489 [==============================] - 1s 3ms/step - loss: 0.0015 - mean_squared_error: 0.0015 - val_loss: 2.2174e-04 - val_mean_squared_error: 2.2174e-04\n",
      "Epoch 22/1000\n",
      "489/489 [==============================] - 1s 3ms/step - loss: 0.0014 - mean_squared_error: 0.0014 - val_loss: 2.6854e-04 - val_mean_squared_error: 2.6854e-04\n",
      "Epoch 23/1000\n",
      "489/489 [==============================] - 1s 3ms/step - loss: 0.0014 - mean_squared_error: 0.0014 - val_loss: 3.2899e-04 - val_mean_squared_error: 3.2899e-04\n",
      "Epoch 24/1000\n",
      "489/489 [==============================] - 1s 3ms/step - loss: 0.0014 - mean_squared_error: 0.0014 - val_loss: 2.3647e-04 - val_mean_squared_error: 2.3647e-04\n",
      "Epoch 25/1000\n",
      "489/489 [==============================] - 1s 3ms/step - loss: 0.0015 - mean_squared_error: 0.0015 - val_loss: 2.0001e-04 - val_mean_squared_error: 2.0001e-04\n",
      "Epoch 26/1000\n",
      "489/489 [==============================] - 1s 3ms/step - loss: 0.0015 - mean_squared_error: 0.0015 - val_loss: 5.0684e-04 - val_mean_squared_error: 5.0684e-04\n",
      "Epoch 27/1000\n",
      "489/489 [==============================] - 1s 3ms/step - loss: 0.0014 - mean_squared_error: 0.0014 - val_loss: 2.6269e-04 - val_mean_squared_error: 2.6269e-04\n",
      "Epoch 28/1000\n",
      "489/489 [==============================] - 1s 3ms/step - loss: 0.0014 - mean_squared_error: 0.0014 - val_loss: 2.0136e-04 - val_mean_squared_error: 2.0136e-04\n",
      "Epoch 29/1000\n",
      "489/489 [==============================] - 1s 3ms/step - loss: 0.0014 - mean_squared_error: 0.0014 - val_loss: 1.7752e-04 - val_mean_squared_error: 1.7752e-04\n",
      "Epoch 30/1000\n",
      "489/489 [==============================] - 1s 3ms/step - loss: 0.0013 - mean_squared_error: 0.0013 - val_loss: 2.3665e-04 - val_mean_squared_error: 2.3665e-04\n",
      "Epoch 31/1000\n",
      "489/489 [==============================] - 1s 3ms/step - loss: 0.0013 - mean_squared_error: 0.0013 - val_loss: 2.8248e-04 - val_mean_squared_error: 2.8248e-04\n",
      "Epoch 32/1000\n",
      "489/489 [==============================] - 1s 3ms/step - loss: 0.0013 - mean_squared_error: 0.0013 - val_loss: 2.6645e-04 - val_mean_squared_error: 2.6645e-04\n",
      "Epoch 33/1000\n",
      "489/489 [==============================] - 1s 3ms/step - loss: 0.0012 - mean_squared_error: 0.0012 - val_loss: 3.2215e-04 - val_mean_squared_error: 3.2215e-04\n",
      "Epoch 34/1000\n",
      "489/489 [==============================] - 1s 3ms/step - loss: 0.0012 - mean_squared_error: 0.0012 - val_loss: 3.1246e-04 - val_mean_squared_error: 3.1246e-04\n",
      "Epoch 35/1000\n",
      "489/489 [==============================] - 1s 3ms/step - loss: 0.0012 - mean_squared_error: 0.0012 - val_loss: 2.1745e-04 - val_mean_squared_error: 2.1745e-04\n",
      "Epoch 36/1000\n",
      "489/489 [==============================] - 1s 3ms/step - loss: 0.0012 - mean_squared_error: 0.0012 - val_loss: 2.2859e-04 - val_mean_squared_error: 2.2859e-04\n",
      "Epoch 37/1000\n",
      "489/489 [==============================] - 1s 3ms/step - loss: 0.0013 - mean_squared_error: 0.0013 - val_loss: 4.2214e-04 - val_mean_squared_error: 4.2214e-04\n",
      "Epoch 38/1000\n",
      "489/489 [==============================] - 1s 3ms/step - loss: 0.0012 - mean_squared_error: 0.0012 - val_loss: 2.6133e-04 - val_mean_squared_error: 2.6133e-04\n",
      "Epoch 39/1000\n",
      "489/489 [==============================] - 1s 3ms/step - loss: 0.0012 - mean_squared_error: 0.0012 - val_loss: 1.5532e-04 - val_mean_squared_error: 1.5532e-04\n",
      "Epoch 40/1000\n",
      "489/489 [==============================] - 1s 3ms/step - loss: 0.0012 - mean_squared_error: 0.0012 - val_loss: 1.7346e-04 - val_mean_squared_error: 1.7346e-04\n",
      "Epoch 41/1000\n",
      "489/489 [==============================] - 1s 3ms/step - loss: 0.0012 - mean_squared_error: 0.0012 - val_loss: 1.7908e-04 - val_mean_squared_error: 1.7908e-04\n",
      "Epoch 42/1000\n",
      "489/489 [==============================] - 1s 3ms/step - loss: 0.0012 - mean_squared_error: 0.0012 - val_loss: 2.6346e-04 - val_mean_squared_error: 2.6346e-04\n",
      "Epoch 43/1000\n",
      "489/489 [==============================] - 1s 3ms/step - loss: 0.0011 - mean_squared_error: 0.0011 - val_loss: 2.2728e-04 - val_mean_squared_error: 2.2728e-04\n",
      "Epoch 44/1000\n",
      "489/489 [==============================] - 1s 3ms/step - loss: 0.0012 - mean_squared_error: 0.0012 - val_loss: 2.0917e-04 - val_mean_squared_error: 2.0917e-04\n",
      "Epoch 45/1000\n",
      "489/489 [==============================] - 1s 3ms/step - loss: 0.0011 - mean_squared_error: 0.0011 - val_loss: 2.8941e-04 - val_mean_squared_error: 2.8941e-04\n",
      "Epoch 46/1000\n",
      "489/489 [==============================] - 1s 3ms/step - loss: 0.0012 - mean_squared_error: 0.0012 - val_loss: 3.4414e-04 - val_mean_squared_error: 3.4414e-04\n",
      "Epoch 47/1000\n",
      "489/489 [==============================] - 1s 3ms/step - loss: 0.0012 - mean_squared_error: 0.0012 - val_loss: 1.9174e-04 - val_mean_squared_error: 1.9174e-04\n",
      "Epoch 48/1000\n",
      "489/489 [==============================] - 1s 3ms/step - loss: 0.0012 - mean_squared_error: 0.0012 - val_loss: 4.0916e-04 - val_mean_squared_error: 4.0916e-04\n",
      "Epoch 49/1000\n",
      "489/489 [==============================] - 1s 3ms/step - loss: 0.0011 - mean_squared_error: 0.0011 - val_loss: 3.0739e-04 - val_mean_squared_error: 3.0739e-04\n"
     ]
    },
    {
     "data": {
      "text/html": [
       "<span style=\"color:#4527A0\"><h1 style=\"font-size:18px\">Trial complete</h1></span>"
      ],
      "text/plain": [
       "<IPython.core.display.HTML object>"
      ]
     },
     "metadata": {
      "tags": []
     },
     "output_type": "display_data"
    },
    {
     "data": {
      "text/html": [
       "<span style=\"color:#4527A0\"><h1 style=\"font-size:18px\">Trial summary</h1></span>"
      ],
      "text/plain": [
       "<IPython.core.display.HTML object>"
      ]
     },
     "metadata": {
      "tags": []
     },
     "output_type": "display_data"
    },
    {
     "data": {
      "text/html": [
       "<span style=\"color:cyan\"> |-Trial ID: c2511b14be9603455e95138c3e55052d</span>"
      ],
      "text/plain": [
       "<IPython.core.display.HTML object>"
      ]
     },
     "metadata": {
      "tags": []
     },
     "output_type": "display_data"
    },
    {
     "data": {
      "text/html": [
       "<span style=\"color:cyan\"> |-Score: 0.00015532242832705379</span>"
      ],
      "text/plain": [
       "<IPython.core.display.HTML object>"
      ]
     },
     "metadata": {
      "tags": []
     },
     "output_type": "display_data"
    },
    {
     "data": {
      "text/html": [
       "<span style=\"color:cyan\"> |-Best step: 0</span>"
      ],
      "text/plain": [
       "<IPython.core.display.HTML object>"
      ]
     },
     "metadata": {
      "tags": []
     },
     "output_type": "display_data"
    },
    {
     "data": {
      "text/html": [
       "<span style=\"color:#7E57C2\"><h2 style=\"font-size:16px\">Hyperparameters:</h2></span>"
      ],
      "text/plain": [
       "<IPython.core.display.HTML object>"
      ]
     },
     "metadata": {
      "tags": []
     },
     "output_type": "display_data"
    },
    {
     "data": {
      "text/html": [
       "<span style=\"color:cyan\"> |-optimizer: adam</span>"
      ],
      "text/plain": [
       "<IPython.core.display.HTML object>"
      ]
     },
     "metadata": {
      "tags": []
     },
     "output_type": "display_data"
    },
    {
     "data": {
      "text/html": [
       "<span style=\"color:blue\"> |-regression_head_2/dropout_rate: 0</span>"
      ],
      "text/plain": [
       "<IPython.core.display.HTML object>"
      ]
     },
     "metadata": {
      "tags": []
     },
     "output_type": "display_data"
    },
    {
     "data": {
      "text/html": [
       "<span style=\"color:cyan\"> |-structured_data_block_1/dense_block_1/dropout_rate: 0.25</span>"
      ],
      "text/plain": [
       "<IPython.core.display.HTML object>"
      ]
     },
     "metadata": {
      "tags": []
     },
     "output_type": "display_data"
    },
    {
     "data": {
      "text/html": [
       "<span style=\"color:blue\"> |-structured_data_block_1/dense_block_1/num_layers: 1</span>"
      ],
      "text/plain": [
       "<IPython.core.display.HTML object>"
      ]
     },
     "metadata": {
      "tags": []
     },
     "output_type": "display_data"
    },
    {
     "data": {
      "text/html": [
       "<span style=\"color:cyan\"> |-structured_data_block_1/dense_block_1/units_0: 16</span>"
      ],
      "text/plain": [
       "<IPython.core.display.HTML object>"
      ]
     },
     "metadata": {
      "tags": []
     },
     "output_type": "display_data"
    },
    {
     "data": {
      "text/html": [
       "<span style=\"color:blue\"> |-structured_data_block_1/dense_block_1/units_1: 64</span>"
      ],
      "text/plain": [
       "<IPython.core.display.HTML object>"
      ]
     },
     "metadata": {
      "tags": []
     },
     "output_type": "display_data"
    },
    {
     "data": {
      "text/html": [
       "<span style=\"color:cyan\"> |-structured_data_block_1/dense_block_1/units_2: 16</span>"
      ],
      "text/plain": [
       "<IPython.core.display.HTML object>"
      ]
     },
     "metadata": {
      "tags": []
     },
     "output_type": "display_data"
    },
    {
     "data": {
      "text/html": [
       "<span style=\"color:blue\"> |-structured_data_block_1/dense_block_1/use_batchnorm: True</span>"
      ],
      "text/plain": [
       "<IPython.core.display.HTML object>"
      ]
     },
     "metadata": {
      "tags": []
     },
     "output_type": "display_data"
    },
    {
     "name": "stdout",
     "output_type": "stream",
     "text": [
      "Epoch 1/1000\n",
      "489/489 [==============================] - 2s 4ms/step - loss: 0.3942 - mean_squared_error: 0.3942 - val_loss: 0.0105 - val_mean_squared_error: 0.0105\n",
      "Epoch 2/1000\n",
      "489/489 [==============================] - 2s 3ms/step - loss: 0.0462 - mean_squared_error: 0.0462 - val_loss: 0.0098 - val_mean_squared_error: 0.0098\n",
      "Epoch 3/1000\n",
      "489/489 [==============================] - 2s 3ms/step - loss: 0.0190 - mean_squared_error: 0.0190 - val_loss: 0.0090 - val_mean_squared_error: 0.0090\n",
      "Epoch 4/1000\n",
      "489/489 [==============================] - 2s 4ms/step - loss: 0.0130 - mean_squared_error: 0.0130 - val_loss: 0.0078 - val_mean_squared_error: 0.0078\n",
      "Epoch 5/1000\n",
      "489/489 [==============================] - 2s 3ms/step - loss: 0.0105 - mean_squared_error: 0.0105 - val_loss: 0.0062 - val_mean_squared_error: 0.0062\n",
      "Epoch 6/1000\n",
      "489/489 [==============================] - 2s 4ms/step - loss: 0.0093 - mean_squared_error: 0.0093 - val_loss: 0.0048 - val_mean_squared_error: 0.0048\n",
      "Epoch 7/1000\n",
      "489/489 [==============================] - 2s 3ms/step - loss: 0.0079 - mean_squared_error: 0.0079 - val_loss: 0.0047 - val_mean_squared_error: 0.0047\n",
      "Epoch 8/1000\n",
      "489/489 [==============================] - 2s 4ms/step - loss: 0.0077 - mean_squared_error: 0.0077 - val_loss: 0.0041 - val_mean_squared_error: 0.0041\n",
      "Epoch 9/1000\n",
      "489/489 [==============================] - 2s 3ms/step - loss: 0.0073 - mean_squared_error: 0.0073 - val_loss: 0.0035 - val_mean_squared_error: 0.0035\n",
      "Epoch 10/1000\n",
      "489/489 [==============================] - 2s 3ms/step - loss: 0.0069 - mean_squared_error: 0.0069 - val_loss: 0.0032 - val_mean_squared_error: 0.0032\n",
      "Epoch 11/1000\n",
      "489/489 [==============================] - 2s 4ms/step - loss: 0.0066 - mean_squared_error: 0.0066 - val_loss: 0.0032 - val_mean_squared_error: 0.0032\n",
      "Epoch 12/1000\n",
      "489/489 [==============================] - 2s 3ms/step - loss: 0.0061 - mean_squared_error: 0.0061 - val_loss: 0.0032 - val_mean_squared_error: 0.0032\n",
      "Epoch 13/1000\n",
      "489/489 [==============================] - 2s 3ms/step - loss: 0.0063 - mean_squared_error: 0.0063 - val_loss: 0.0033 - val_mean_squared_error: 0.0033\n",
      "Epoch 14/1000\n",
      "489/489 [==============================] - 2s 4ms/step - loss: 0.0059 - mean_squared_error: 0.0059 - val_loss: 0.0031 - val_mean_squared_error: 0.0031\n",
      "Epoch 15/1000\n",
      "489/489 [==============================] - 2s 3ms/step - loss: 0.0057 - mean_squared_error: 0.0057 - val_loss: 0.0030 - val_mean_squared_error: 0.0030\n",
      "Epoch 16/1000\n",
      "489/489 [==============================] - 2s 3ms/step - loss: 0.0054 - mean_squared_error: 0.0054 - val_loss: 0.0029 - val_mean_squared_error: 0.0029\n",
      "Epoch 17/1000\n",
      "489/489 [==============================] - 2s 3ms/step - loss: 0.0053 - mean_squared_error: 0.0053 - val_loss: 0.0034 - val_mean_squared_error: 0.0034\n",
      "Epoch 18/1000\n",
      "489/489 [==============================] - 2s 3ms/step - loss: 0.0051 - mean_squared_error: 0.0051 - val_loss: 0.0034 - val_mean_squared_error: 0.0034\n",
      "Epoch 19/1000\n",
      "489/489 [==============================] - 2s 3ms/step - loss: 0.0050 - mean_squared_error: 0.0050 - val_loss: 0.0037 - val_mean_squared_error: 0.0037\n",
      "Epoch 20/1000\n",
      "489/489 [==============================] - 2s 3ms/step - loss: 0.0046 - mean_squared_error: 0.0046 - val_loss: 0.0035 - val_mean_squared_error: 0.0035\n",
      "Epoch 21/1000\n",
      "489/489 [==============================] - 2s 3ms/step - loss: 0.0047 - mean_squared_error: 0.0047 - val_loss: 0.0032 - val_mean_squared_error: 0.0032\n",
      "Epoch 22/1000\n",
      "489/489 [==============================] - 2s 3ms/step - loss: 0.0047 - mean_squared_error: 0.0047 - val_loss: 0.0034 - val_mean_squared_error: 0.0034\n",
      "Epoch 23/1000\n",
      "489/489 [==============================] - 2s 3ms/step - loss: 0.0046 - mean_squared_error: 0.0046 - val_loss: 0.0042 - val_mean_squared_error: 0.0042\n",
      "Epoch 24/1000\n",
      "489/489 [==============================] - 2s 3ms/step - loss: 0.0043 - mean_squared_error: 0.0043 - val_loss: 0.0036 - val_mean_squared_error: 0.0036\n",
      "Epoch 25/1000\n",
      "489/489 [==============================] - 2s 3ms/step - loss: 0.0044 - mean_squared_error: 0.0044 - val_loss: 0.0033 - val_mean_squared_error: 0.0033\n",
      "Epoch 26/1000\n",
      "489/489 [==============================] - 2s 3ms/step - loss: 0.0043 - mean_squared_error: 0.0043 - val_loss: 0.0028 - val_mean_squared_error: 0.0028\n",
      "Epoch 27/1000\n",
      "489/489 [==============================] - 2s 3ms/step - loss: 0.0044 - mean_squared_error: 0.0044 - val_loss: 0.0036 - val_mean_squared_error: 0.0036\n",
      "Epoch 28/1000\n",
      "489/489 [==============================] - 2s 3ms/step - loss: 0.0042 - mean_squared_error: 0.0042 - val_loss: 0.0036 - val_mean_squared_error: 0.0036\n",
      "Epoch 29/1000\n",
      "489/489 [==============================] - 2s 3ms/step - loss: 0.0040 - mean_squared_error: 0.0040 - val_loss: 0.0034 - val_mean_squared_error: 0.0034\n",
      "Epoch 30/1000\n",
      "489/489 [==============================] - 2s 3ms/step - loss: 0.0043 - mean_squared_error: 0.0043 - val_loss: 0.0027 - val_mean_squared_error: 0.0027\n",
      "Epoch 31/1000\n",
      "489/489 [==============================] - 2s 3ms/step - loss: 0.0042 - mean_squared_error: 0.0042 - val_loss: 0.0029 - val_mean_squared_error: 0.0029\n",
      "Epoch 32/1000\n",
      "489/489 [==============================] - 2s 4ms/step - loss: 0.0041 - mean_squared_error: 0.0041 - val_loss: 0.0031 - val_mean_squared_error: 0.0031\n",
      "Epoch 33/1000\n",
      "489/489 [==============================] - 2s 3ms/step - loss: 0.0042 - mean_squared_error: 0.0042 - val_loss: 0.0030 - val_mean_squared_error: 0.0030\n",
      "Epoch 34/1000\n",
      "489/489 [==============================] - 2s 3ms/step - loss: 0.0041 - mean_squared_error: 0.0041 - val_loss: 0.0032 - val_mean_squared_error: 0.0032\n",
      "Epoch 35/1000\n",
      "489/489 [==============================] - 2s 3ms/step - loss: 0.0041 - mean_squared_error: 0.0041 - val_loss: 0.0040 - val_mean_squared_error: 0.0040\n",
      "Epoch 36/1000\n",
      "489/489 [==============================] - 2s 3ms/step - loss: 0.0041 - mean_squared_error: 0.0041 - val_loss: 0.0033 - val_mean_squared_error: 0.0033\n",
      "Epoch 37/1000\n",
      "489/489 [==============================] - 2s 3ms/step - loss: 0.0041 - mean_squared_error: 0.0041 - val_loss: 0.0038 - val_mean_squared_error: 0.0038\n",
      "Epoch 38/1000\n",
      "489/489 [==============================] - 2s 3ms/step - loss: 0.0042 - mean_squared_error: 0.0042 - val_loss: 0.0042 - val_mean_squared_error: 0.0042\n",
      "Epoch 39/1000\n",
      "489/489 [==============================] - 2s 3ms/step - loss: 0.0039 - mean_squared_error: 0.0039 - val_loss: 0.0034 - val_mean_squared_error: 0.0034\n",
      "Epoch 40/1000\n",
      "489/489 [==============================] - 2s 3ms/step - loss: 0.0040 - mean_squared_error: 0.0040 - val_loss: 0.0041 - val_mean_squared_error: 0.0041\n"
     ]
    },
    {
     "data": {
      "text/html": [
       "<span style=\"color:#4527A0\"><h1 style=\"font-size:18px\">Trial complete</h1></span>"
      ],
      "text/plain": [
       "<IPython.core.display.HTML object>"
      ]
     },
     "metadata": {
      "tags": []
     },
     "output_type": "display_data"
    },
    {
     "data": {
      "text/html": [
       "<span style=\"color:#4527A0\"><h1 style=\"font-size:18px\">Trial summary</h1></span>"
      ],
      "text/plain": [
       "<IPython.core.display.HTML object>"
      ]
     },
     "metadata": {
      "tags": []
     },
     "output_type": "display_data"
    },
    {
     "data": {
      "text/html": [
       "<span style=\"color:cyan\"> |-Trial ID: d91d802965b78528528c0dbb5f43b92f</span>"
      ],
      "text/plain": [
       "<IPython.core.display.HTML object>"
      ]
     },
     "metadata": {
      "tags": []
     },
     "output_type": "display_data"
    },
    {
     "data": {
      "text/html": [
       "<span style=\"color:cyan\"> |-Score: 0.0027332992758601904</span>"
      ],
      "text/plain": [
       "<IPython.core.display.HTML object>"
      ]
     },
     "metadata": {
      "tags": []
     },
     "output_type": "display_data"
    },
    {
     "data": {
      "text/html": [
       "<span style=\"color:cyan\"> |-Best step: 0</span>"
      ],
      "text/plain": [
       "<IPython.core.display.HTML object>"
      ]
     },
     "metadata": {
      "tags": []
     },
     "output_type": "display_data"
    },
    {
     "data": {
      "text/html": [
       "<span style=\"color:#7E57C2\"><h2 style=\"font-size:16px\">Hyperparameters:</h2></span>"
      ],
      "text/plain": [
       "<IPython.core.display.HTML object>"
      ]
     },
     "metadata": {
      "tags": []
     },
     "output_type": "display_data"
    },
    {
     "data": {
      "text/html": [
       "<span style=\"color:cyan\"> |-optimizer: adam</span>"
      ],
      "text/plain": [
       "<IPython.core.display.HTML object>"
      ]
     },
     "metadata": {
      "tags": []
     },
     "output_type": "display_data"
    },
    {
     "data": {
      "text/html": [
       "<span style=\"color:blue\"> |-regression_head_2/dropout_rate: 0</span>"
      ],
      "text/plain": [
       "<IPython.core.display.HTML object>"
      ]
     },
     "metadata": {
      "tags": []
     },
     "output_type": "display_data"
    },
    {
     "data": {
      "text/html": [
       "<span style=\"color:cyan\"> |-structured_data_block_1/dense_block_1/dropout_rate: 0.5</span>"
      ],
      "text/plain": [
       "<IPython.core.display.HTML object>"
      ]
     },
     "metadata": {
      "tags": []
     },
     "output_type": "display_data"
    },
    {
     "data": {
      "text/html": [
       "<span style=\"color:blue\"> |-structured_data_block_1/dense_block_1/num_layers: 3</span>"
      ],
      "text/plain": [
       "<IPython.core.display.HTML object>"
      ]
     },
     "metadata": {
      "tags": []
     },
     "output_type": "display_data"
    },
    {
     "data": {
      "text/html": [
       "<span style=\"color:cyan\"> |-structured_data_block_1/dense_block_1/units_0: 16</span>"
      ],
      "text/plain": [
       "<IPython.core.display.HTML object>"
      ]
     },
     "metadata": {
      "tags": []
     },
     "output_type": "display_data"
    },
    {
     "data": {
      "text/html": [
       "<span style=\"color:blue\"> |-structured_data_block_1/dense_block_1/units_1: 32</span>"
      ],
      "text/plain": [
       "<IPython.core.display.HTML object>"
      ]
     },
     "metadata": {
      "tags": []
     },
     "output_type": "display_data"
    },
    {
     "data": {
      "text/html": [
       "<span style=\"color:cyan\"> |-structured_data_block_1/dense_block_1/units_2: 16</span>"
      ],
      "text/plain": [
       "<IPython.core.display.HTML object>"
      ]
     },
     "metadata": {
      "tags": []
     },
     "output_type": "display_data"
    },
    {
     "data": {
      "text/html": [
       "<span style=\"color:blue\"> |-structured_data_block_1/dense_block_1/use_batchnorm: True</span>"
      ],
      "text/plain": [
       "<IPython.core.display.HTML object>"
      ]
     },
     "metadata": {
      "tags": []
     },
     "output_type": "display_data"
    },
    {
     "name": "stdout",
     "output_type": "stream",
     "text": [
      "Epoch 1/1000\n",
      "489/489 [==============================] - 2s 3ms/step - loss: 0.0058 - mean_squared_error: 0.0058 - val_loss: 0.0013 - val_mean_squared_error: 0.0013\n",
      "Epoch 2/1000\n",
      "489/489 [==============================] - 1s 3ms/step - loss: 0.0026 - mean_squared_error: 0.0026 - val_loss: 0.0027 - val_mean_squared_error: 0.0027\n",
      "Epoch 3/1000\n",
      "489/489 [==============================] - 1s 3ms/step - loss: 0.0018 - mean_squared_error: 0.0018 - val_loss: 0.0024 - val_mean_squared_error: 0.0024\n",
      "Epoch 4/1000\n",
      "489/489 [==============================] - 1s 3ms/step - loss: 0.0016 - mean_squared_error: 0.0016 - val_loss: 0.0026 - val_mean_squared_error: 0.0026\n",
      "Epoch 5/1000\n",
      "489/489 [==============================] - 1s 3ms/step - loss: 0.0015 - mean_squared_error: 0.0015 - val_loss: 0.0023 - val_mean_squared_error: 0.0023\n",
      "Epoch 6/1000\n",
      "489/489 [==============================] - 1s 3ms/step - loss: 0.0013 - mean_squared_error: 0.0013 - val_loss: 0.0027 - val_mean_squared_error: 0.0027\n",
      "Epoch 7/1000\n",
      "489/489 [==============================] - 1s 3ms/step - loss: 0.0013 - mean_squared_error: 0.0013 - val_loss: 0.0021 - val_mean_squared_error: 0.0021\n",
      "Epoch 8/1000\n",
      "489/489 [==============================] - 1s 3ms/step - loss: 0.0012 - mean_squared_error: 0.0012 - val_loss: 0.0030 - val_mean_squared_error: 0.0030\n",
      "Epoch 9/1000\n",
      "489/489 [==============================] - 1s 3ms/step - loss: 0.0011 - mean_squared_error: 0.0011 - val_loss: 0.0025 - val_mean_squared_error: 0.0025\n",
      "Epoch 10/1000\n",
      "489/489 [==============================] - 1s 3ms/step - loss: 0.0012 - mean_squared_error: 0.0012 - val_loss: 0.0024 - val_mean_squared_error: 0.0024\n",
      "Epoch 11/1000\n",
      "489/489 [==============================] - 1s 3ms/step - loss: 0.0012 - mean_squared_error: 0.0012 - val_loss: 0.0030 - val_mean_squared_error: 0.0030\n"
     ]
    },
    {
     "data": {
      "text/html": [
       "<span style=\"color:#4527A0\"><h1 style=\"font-size:18px\">Trial complete</h1></span>"
      ],
      "text/plain": [
       "<IPython.core.display.HTML object>"
      ]
     },
     "metadata": {
      "tags": []
     },
     "output_type": "display_data"
    },
    {
     "data": {
      "text/html": [
       "<span style=\"color:#4527A0\"><h1 style=\"font-size:18px\">Trial summary</h1></span>"
      ],
      "text/plain": [
       "<IPython.core.display.HTML object>"
      ]
     },
     "metadata": {
      "tags": []
     },
     "output_type": "display_data"
    },
    {
     "data": {
      "text/html": [
       "<span style=\"color:cyan\"> |-Trial ID: 71215c4034edf4699aa2ca13768c50dd</span>"
      ],
      "text/plain": [
       "<IPython.core.display.HTML object>"
      ]
     },
     "metadata": {
      "tags": []
     },
     "output_type": "display_data"
    },
    {
     "data": {
      "text/html": [
       "<span style=\"color:cyan\"> |-Score: 0.0012736170319840312</span>"
      ],
      "text/plain": [
       "<IPython.core.display.HTML object>"
      ]
     },
     "metadata": {
      "tags": []
     },
     "output_type": "display_data"
    },
    {
     "data": {
      "text/html": [
       "<span style=\"color:cyan\"> |-Best step: 0</span>"
      ],
      "text/plain": [
       "<IPython.core.display.HTML object>"
      ]
     },
     "metadata": {
      "tags": []
     },
     "output_type": "display_data"
    },
    {
     "data": {
      "text/html": [
       "<span style=\"color:#7E57C2\"><h2 style=\"font-size:16px\">Hyperparameters:</h2></span>"
      ],
      "text/plain": [
       "<IPython.core.display.HTML object>"
      ]
     },
     "metadata": {
      "tags": []
     },
     "output_type": "display_data"
    },
    {
     "data": {
      "text/html": [
       "<span style=\"color:cyan\"> |-optimizer: adam</span>"
      ],
      "text/plain": [
       "<IPython.core.display.HTML object>"
      ]
     },
     "metadata": {
      "tags": []
     },
     "output_type": "display_data"
    },
    {
     "data": {
      "text/html": [
       "<span style=\"color:blue\"> |-regression_head_2/dropout_rate: 0</span>"
      ],
      "text/plain": [
       "<IPython.core.display.HTML object>"
      ]
     },
     "metadata": {
      "tags": []
     },
     "output_type": "display_data"
    },
    {
     "data": {
      "text/html": [
       "<span style=\"color:cyan\"> |-structured_data_block_1/dense_block_1/dropout_rate: 0.5</span>"
      ],
      "text/plain": [
       "<IPython.core.display.HTML object>"
      ]
     },
     "metadata": {
      "tags": []
     },
     "output_type": "display_data"
    },
    {
     "data": {
      "text/html": [
       "<span style=\"color:blue\"> |-structured_data_block_1/dense_block_1/num_layers: 2</span>"
      ],
      "text/plain": [
       "<IPython.core.display.HTML object>"
      ]
     },
     "metadata": {
      "tags": []
     },
     "output_type": "display_data"
    },
    {
     "data": {
      "text/html": [
       "<span style=\"color:cyan\"> |-structured_data_block_1/dense_block_1/units_0: 16</span>"
      ],
      "text/plain": [
       "<IPython.core.display.HTML object>"
      ]
     },
     "metadata": {
      "tags": []
     },
     "output_type": "display_data"
    },
    {
     "data": {
      "text/html": [
       "<span style=\"color:blue\"> |-structured_data_block_1/dense_block_1/units_1: 128</span>"
      ],
      "text/plain": [
       "<IPython.core.display.HTML object>"
      ]
     },
     "metadata": {
      "tags": []
     },
     "output_type": "display_data"
    },
    {
     "data": {
      "text/html": [
       "<span style=\"color:cyan\"> |-structured_data_block_1/dense_block_1/units_2: 64</span>"
      ],
      "text/plain": [
       "<IPython.core.display.HTML object>"
      ]
     },
     "metadata": {
      "tags": []
     },
     "output_type": "display_data"
    },
    {
     "data": {
      "text/html": [
       "<span style=\"color:blue\"> |-structured_data_block_1/dense_block_1/use_batchnorm: False</span>"
      ],
      "text/plain": [
       "<IPython.core.display.HTML object>"
      ]
     },
     "metadata": {
      "tags": []
     },
     "output_type": "display_data"
    },
    {
     "name": "stdout",
     "output_type": "stream",
     "text": [
      "Epoch 1/1000\n",
      "489/489 [==============================] - 1s 3ms/step - loss: 0.0055 - mean_squared_error: 0.0055 - val_loss: 9.7614e-04 - val_mean_squared_error: 9.7614e-04\n",
      "Epoch 2/1000\n",
      "489/489 [==============================] - 2s 3ms/step - loss: 0.0024 - mean_squared_error: 0.0024 - val_loss: 4.3952e-04 - val_mean_squared_error: 4.3952e-04\n",
      "Epoch 3/1000\n",
      "489/489 [==============================] - 1s 2ms/step - loss: 0.0019 - mean_squared_error: 0.0019 - val_loss: 3.0316e-04 - val_mean_squared_error: 3.0316e-04\n",
      "Epoch 4/1000\n",
      "489/489 [==============================] - 1s 3ms/step - loss: 0.0018 - mean_squared_error: 0.0018 - val_loss: 2.5677e-04 - val_mean_squared_error: 2.5677e-04\n",
      "Epoch 5/1000\n",
      "489/489 [==============================] - 1s 2ms/step - loss: 0.0015 - mean_squared_error: 0.0015 - val_loss: 2.5155e-04 - val_mean_squared_error: 2.5155e-04\n",
      "Epoch 6/1000\n",
      "489/489 [==============================] - 1s 3ms/step - loss: 0.0015 - mean_squared_error: 0.0015 - val_loss: 3.4705e-04 - val_mean_squared_error: 3.4705e-04\n",
      "Epoch 7/1000\n",
      "489/489 [==============================] - 1s 3ms/step - loss: 0.0015 - mean_squared_error: 0.0015 - val_loss: 3.1520e-04 - val_mean_squared_error: 3.1520e-04\n",
      "Epoch 8/1000\n",
      "489/489 [==============================] - 1s 3ms/step - loss: 0.0014 - mean_squared_error: 0.0014 - val_loss: 4.4570e-04 - val_mean_squared_error: 4.4570e-04\n",
      "Epoch 9/1000\n",
      "489/489 [==============================] - 1s 3ms/step - loss: 0.0014 - mean_squared_error: 0.0014 - val_loss: 1.6500e-04 - val_mean_squared_error: 1.6500e-04\n",
      "Epoch 10/1000\n",
      "489/489 [==============================] - 1s 2ms/step - loss: 0.0014 - mean_squared_error: 0.0014 - val_loss: 1.8273e-04 - val_mean_squared_error: 1.8273e-04\n",
      "Epoch 11/1000\n",
      "489/489 [==============================] - 1s 2ms/step - loss: 0.0014 - mean_squared_error: 0.0014 - val_loss: 1.9772e-04 - val_mean_squared_error: 1.9772e-04\n",
      "Epoch 12/1000\n",
      "489/489 [==============================] - 1s 3ms/step - loss: 0.0013 - mean_squared_error: 0.0013 - val_loss: 1.3550e-04 - val_mean_squared_error: 1.3550e-04\n",
      "Epoch 13/1000\n",
      "489/489 [==============================] - 1s 3ms/step - loss: 0.0013 - mean_squared_error: 0.0013 - val_loss: 1.3925e-04 - val_mean_squared_error: 1.3925e-04\n",
      "Epoch 14/1000\n",
      "489/489 [==============================] - 1s 3ms/step - loss: 0.0011 - mean_squared_error: 0.0011 - val_loss: 1.1418e-04 - val_mean_squared_error: 1.1418e-04\n",
      "Epoch 15/1000\n",
      "489/489 [==============================] - 1s 2ms/step - loss: 0.0012 - mean_squared_error: 0.0012 - val_loss: 1.6933e-04 - val_mean_squared_error: 1.6933e-04\n",
      "Epoch 16/1000\n",
      "489/489 [==============================] - 1s 3ms/step - loss: 0.0013 - mean_squared_error: 0.0013 - val_loss: 2.8326e-04 - val_mean_squared_error: 2.8326e-04\n",
      "Epoch 17/1000\n",
      "489/489 [==============================] - 1s 3ms/step - loss: 0.0013 - mean_squared_error: 0.0013 - val_loss: 2.1954e-04 - val_mean_squared_error: 2.1954e-04\n",
      "Epoch 18/1000\n",
      "489/489 [==============================] - 1s 3ms/step - loss: 0.0011 - mean_squared_error: 0.0011 - val_loss: 2.3496e-04 - val_mean_squared_error: 2.3496e-04\n",
      "Epoch 19/1000\n",
      "489/489 [==============================] - 1s 3ms/step - loss: 0.0013 - mean_squared_error: 0.0013 - val_loss: 1.3430e-04 - val_mean_squared_error: 1.3430e-04\n",
      "Epoch 20/1000\n",
      "489/489 [==============================] - 1s 3ms/step - loss: 0.0012 - mean_squared_error: 0.0012 - val_loss: 1.7496e-04 - val_mean_squared_error: 1.7496e-04\n",
      "Epoch 21/1000\n",
      "489/489 [==============================] - 1s 3ms/step - loss: 0.0012 - mean_squared_error: 0.0012 - val_loss: 9.6866e-05 - val_mean_squared_error: 9.6866e-05\n",
      "Epoch 22/1000\n",
      "489/489 [==============================] - 1s 3ms/step - loss: 0.0013 - mean_squared_error: 0.0013 - val_loss: 2.8524e-04 - val_mean_squared_error: 2.8524e-04\n",
      "Epoch 23/1000\n",
      "489/489 [==============================] - 1s 3ms/step - loss: 0.0012 - mean_squared_error: 0.0012 - val_loss: 1.5177e-04 - val_mean_squared_error: 1.5177e-04\n",
      "Epoch 24/1000\n",
      "489/489 [==============================] - 1s 3ms/step - loss: 0.0013 - mean_squared_error: 0.0013 - val_loss: 1.2778e-04 - val_mean_squared_error: 1.2778e-04\n",
      "Epoch 25/1000\n",
      "489/489 [==============================] - 1s 3ms/step - loss: 0.0012 - mean_squared_error: 0.0012 - val_loss: 2.6809e-04 - val_mean_squared_error: 2.6809e-04\n",
      "Epoch 26/1000\n",
      "489/489 [==============================] - 1s 3ms/step - loss: 0.0011 - mean_squared_error: 0.0011 - val_loss: 1.0320e-04 - val_mean_squared_error: 1.0320e-04\n",
      "Epoch 27/1000\n",
      "489/489 [==============================] - 1s 2ms/step - loss: 0.0013 - mean_squared_error: 0.0013 - val_loss: 2.2540e-04 - val_mean_squared_error: 2.2540e-04\n",
      "Epoch 28/1000\n",
      "489/489 [==============================] - 1s 3ms/step - loss: 0.0012 - mean_squared_error: 0.0012 - val_loss: 3.2997e-04 - val_mean_squared_error: 3.2997e-04\n",
      "Epoch 29/1000\n",
      "489/489 [==============================] - 1s 3ms/step - loss: 0.0011 - mean_squared_error: 0.0011 - val_loss: 2.7446e-04 - val_mean_squared_error: 2.7446e-04\n",
      "Epoch 30/1000\n",
      "489/489 [==============================] - 1s 3ms/step - loss: 0.0012 - mean_squared_error: 0.0012 - val_loss: 1.6516e-04 - val_mean_squared_error: 1.6516e-04\n",
      "Epoch 31/1000\n",
      "489/489 [==============================] - 1s 2ms/step - loss: 0.0012 - mean_squared_error: 0.0012 - val_loss: 2.1659e-04 - val_mean_squared_error: 2.1659e-04\n"
     ]
    },
    {
     "data": {
      "text/html": [
       "<span style=\"color:#4527A0\"><h1 style=\"font-size:18px\">Trial complete</h1></span>"
      ],
      "text/plain": [
       "<IPython.core.display.HTML object>"
      ]
     },
     "metadata": {
      "tags": []
     },
     "output_type": "display_data"
    },
    {
     "data": {
      "text/html": [
       "<span style=\"color:#4527A0\"><h1 style=\"font-size:18px\">Trial summary</h1></span>"
      ],
      "text/plain": [
       "<IPython.core.display.HTML object>"
      ]
     },
     "metadata": {
      "tags": []
     },
     "output_type": "display_data"
    },
    {
     "data": {
      "text/html": [
       "<span style=\"color:cyan\"> |-Trial ID: c242faa4e1854df6345241d6a531d3bf</span>"
      ],
      "text/plain": [
       "<IPython.core.display.HTML object>"
      ]
     },
     "metadata": {
      "tags": []
     },
     "output_type": "display_data"
    },
    {
     "data": {
      "text/html": [
       "<span style=\"color:cyan\"> |-Score: 9.68659805948846e-05</span>"
      ],
      "text/plain": [
       "<IPython.core.display.HTML object>"
      ]
     },
     "metadata": {
      "tags": []
     },
     "output_type": "display_data"
    },
    {
     "data": {
      "text/html": [
       "<span style=\"color:cyan\"> |-Best step: 0</span>"
      ],
      "text/plain": [
       "<IPython.core.display.HTML object>"
      ]
     },
     "metadata": {
      "tags": []
     },
     "output_type": "display_data"
    },
    {
     "data": {
      "text/html": [
       "<span style=\"color:#7E57C2\"><h2 style=\"font-size:16px\">Hyperparameters:</h2></span>"
      ],
      "text/plain": [
       "<IPython.core.display.HTML object>"
      ]
     },
     "metadata": {
      "tags": []
     },
     "output_type": "display_data"
    },
    {
     "data": {
      "text/html": [
       "<span style=\"color:cyan\"> |-optimizer: adam</span>"
      ],
      "text/plain": [
       "<IPython.core.display.HTML object>"
      ]
     },
     "metadata": {
      "tags": []
     },
     "output_type": "display_data"
    },
    {
     "data": {
      "text/html": [
       "<span style=\"color:blue\"> |-regression_head_2/dropout_rate: 0</span>"
      ],
      "text/plain": [
       "<IPython.core.display.HTML object>"
      ]
     },
     "metadata": {
      "tags": []
     },
     "output_type": "display_data"
    },
    {
     "data": {
      "text/html": [
       "<span style=\"color:cyan\"> |-structured_data_block_1/dense_block_1/dropout_rate: 0.5</span>"
      ],
      "text/plain": [
       "<IPython.core.display.HTML object>"
      ]
     },
     "metadata": {
      "tags": []
     },
     "output_type": "display_data"
    },
    {
     "data": {
      "text/html": [
       "<span style=\"color:blue\"> |-structured_data_block_1/dense_block_1/num_layers: 1</span>"
      ],
      "text/plain": [
       "<IPython.core.display.HTML object>"
      ]
     },
     "metadata": {
      "tags": []
     },
     "output_type": "display_data"
    },
    {
     "data": {
      "text/html": [
       "<span style=\"color:cyan\"> |-structured_data_block_1/dense_block_1/units_0: 32</span>"
      ],
      "text/plain": [
       "<IPython.core.display.HTML object>"
      ]
     },
     "metadata": {
      "tags": []
     },
     "output_type": "display_data"
    },
    {
     "data": {
      "text/html": [
       "<span style=\"color:blue\"> |-structured_data_block_1/dense_block_1/units_1: 1024</span>"
      ],
      "text/plain": [
       "<IPython.core.display.HTML object>"
      ]
     },
     "metadata": {
      "tags": []
     },
     "output_type": "display_data"
    },
    {
     "data": {
      "text/html": [
       "<span style=\"color:cyan\"> |-structured_data_block_1/dense_block_1/units_2: 1024</span>"
      ],
      "text/plain": [
       "<IPython.core.display.HTML object>"
      ]
     },
     "metadata": {
      "tags": []
     },
     "output_type": "display_data"
    },
    {
     "data": {
      "text/html": [
       "<span style=\"color:blue\"> |-structured_data_block_1/dense_block_1/use_batchnorm: False</span>"
      ],
      "text/plain": [
       "<IPython.core.display.HTML object>"
      ]
     },
     "metadata": {
      "tags": []
     },
     "output_type": "display_data"
    },
    {
     "name": "stdout",
     "output_type": "stream",
     "text": [
      "Epoch 1/1000\n",
      "489/489 [==============================] - 2s 3ms/step - loss: 0.0032 - mean_squared_error: 0.0032 - val_loss: 3.2942e-04 - val_mean_squared_error: 3.2942e-04\n",
      "Epoch 2/1000\n",
      "489/489 [==============================] - 1s 3ms/step - loss: 0.0013 - mean_squared_error: 0.0013 - val_loss: 1.6603e-04 - val_mean_squared_error: 1.6603e-04\n",
      "Epoch 3/1000\n",
      "489/489 [==============================] - 1s 3ms/step - loss: 9.5617e-04 - mean_squared_error: 9.5617e-04 - val_loss: 4.0323e-04 - val_mean_squared_error: 4.0323e-04\n",
      "Epoch 4/1000\n",
      "489/489 [==============================] - 1s 3ms/step - loss: 9.5123e-04 - mean_squared_error: 9.5123e-04 - val_loss: 3.7369e-04 - val_mean_squared_error: 3.7369e-04\n",
      "Epoch 5/1000\n",
      "489/489 [==============================] - 1s 3ms/step - loss: 8.9513e-04 - mean_squared_error: 8.9513e-04 - val_loss: 1.6250e-04 - val_mean_squared_error: 1.6250e-04\n",
      "Epoch 6/1000\n",
      "489/489 [==============================] - 1s 3ms/step - loss: 8.0081e-04 - mean_squared_error: 8.0081e-04 - val_loss: 2.3921e-04 - val_mean_squared_error: 2.3921e-04\n",
      "Epoch 7/1000\n",
      "489/489 [==============================] - 1s 3ms/step - loss: 8.0812e-04 - mean_squared_error: 8.0812e-04 - val_loss: 3.1861e-04 - val_mean_squared_error: 3.1861e-04\n",
      "Epoch 8/1000\n",
      "489/489 [==============================] - 1s 3ms/step - loss: 6.8838e-04 - mean_squared_error: 6.8838e-04 - val_loss: 1.6325e-04 - val_mean_squared_error: 1.6325e-04\n",
      "Epoch 9/1000\n",
      "489/489 [==============================] - 1s 3ms/step - loss: 7.0517e-04 - mean_squared_error: 7.0517e-04 - val_loss: 2.4263e-04 - val_mean_squared_error: 2.4263e-04\n",
      "Epoch 10/1000\n",
      "489/489 [==============================] - 1s 3ms/step - loss: 6.7476e-04 - mean_squared_error: 6.7476e-04 - val_loss: 1.7965e-04 - val_mean_squared_error: 1.7965e-04\n",
      "Epoch 11/1000\n",
      "489/489 [==============================] - 1s 3ms/step - loss: 6.4473e-04 - mean_squared_error: 6.4473e-04 - val_loss: 5.9981e-05 - val_mean_squared_error: 5.9981e-05\n",
      "Epoch 12/1000\n",
      "489/489 [==============================] - 2s 3ms/step - loss: 6.6953e-04 - mean_squared_error: 6.6953e-04 - val_loss: 6.9950e-05 - val_mean_squared_error: 6.9950e-05\n",
      "Epoch 13/1000\n",
      "489/489 [==============================] - 1s 3ms/step - loss: 6.7385e-04 - mean_squared_error: 6.7385e-04 - val_loss: 2.7106e-04 - val_mean_squared_error: 2.7106e-04\n",
      "Epoch 14/1000\n",
      "489/489 [==============================] - 1s 3ms/step - loss: 5.9400e-04 - mean_squared_error: 5.9400e-04 - val_loss: 8.6866e-05 - val_mean_squared_error: 8.6866e-05\n",
      "Epoch 15/1000\n",
      "489/489 [==============================] - 2s 3ms/step - loss: 6.4341e-04 - mean_squared_error: 6.4341e-04 - val_loss: 3.7714e-04 - val_mean_squared_error: 3.7714e-04\n",
      "Epoch 16/1000\n",
      "489/489 [==============================] - 1s 3ms/step - loss: 5.8628e-04 - mean_squared_error: 5.8628e-04 - val_loss: 1.8947e-04 - val_mean_squared_error: 1.8947e-04\n",
      "Epoch 17/1000\n",
      "489/489 [==============================] - 1s 3ms/step - loss: 6.2658e-04 - mean_squared_error: 6.2658e-04 - val_loss: 2.3077e-04 - val_mean_squared_error: 2.3077e-04\n",
      "Epoch 18/1000\n",
      "489/489 [==============================] - 1s 3ms/step - loss: 6.1692e-04 - mean_squared_error: 6.1692e-04 - val_loss: 2.6538e-04 - val_mean_squared_error: 2.6538e-04\n",
      "Epoch 19/1000\n",
      "489/489 [==============================] - 1s 3ms/step - loss: 5.5824e-04 - mean_squared_error: 5.5824e-04 - val_loss: 1.2451e-04 - val_mean_squared_error: 1.2451e-04\n",
      "Epoch 20/1000\n",
      "489/489 [==============================] - 1s 3ms/step - loss: 5.9123e-04 - mean_squared_error: 5.9123e-04 - val_loss: 1.3210e-04 - val_mean_squared_error: 1.3210e-04\n",
      "Epoch 21/1000\n",
      "489/489 [==============================] - 1s 3ms/step - loss: 5.2395e-04 - mean_squared_error: 5.2395e-04 - val_loss: 2.8069e-04 - val_mean_squared_error: 2.8069e-04\n"
     ]
    },
    {
     "data": {
      "text/html": [
       "<span style=\"color:#4527A0\"><h1 style=\"font-size:18px\">Trial complete</h1></span>"
      ],
      "text/plain": [
       "<IPython.core.display.HTML object>"
      ]
     },
     "metadata": {
      "tags": []
     },
     "output_type": "display_data"
    },
    {
     "data": {
      "text/html": [
       "<span style=\"color:#4527A0\"><h1 style=\"font-size:18px\">Trial summary</h1></span>"
      ],
      "text/plain": [
       "<IPython.core.display.HTML object>"
      ]
     },
     "metadata": {
      "tags": []
     },
     "output_type": "display_data"
    },
    {
     "data": {
      "text/html": [
       "<span style=\"color:cyan\"> |-Trial ID: 66e48b86be6beab5f85fbfd4c7fe96f7</span>"
      ],
      "text/plain": [
       "<IPython.core.display.HTML object>"
      ]
     },
     "metadata": {
      "tags": []
     },
     "output_type": "display_data"
    },
    {
     "data": {
      "text/html": [
       "<span style=\"color:cyan\"> |-Score: 5.9981015510857105e-05</span>"
      ],
      "text/plain": [
       "<IPython.core.display.HTML object>"
      ]
     },
     "metadata": {
      "tags": []
     },
     "output_type": "display_data"
    },
    {
     "data": {
      "text/html": [
       "<span style=\"color:cyan\"> |-Best step: 0</span>"
      ],
      "text/plain": [
       "<IPython.core.display.HTML object>"
      ]
     },
     "metadata": {
      "tags": []
     },
     "output_type": "display_data"
    },
    {
     "data": {
      "text/html": [
       "<span style=\"color:#7E57C2\"><h2 style=\"font-size:16px\">Hyperparameters:</h2></span>"
      ],
      "text/plain": [
       "<IPython.core.display.HTML object>"
      ]
     },
     "metadata": {
      "tags": []
     },
     "output_type": "display_data"
    },
    {
     "data": {
      "text/html": [
       "<span style=\"color:cyan\"> |-optimizer: adam</span>"
      ],
      "text/plain": [
       "<IPython.core.display.HTML object>"
      ]
     },
     "metadata": {
      "tags": []
     },
     "output_type": "display_data"
    },
    {
     "data": {
      "text/html": [
       "<span style=\"color:blue\"> |-regression_head_2/dropout_rate: 0</span>"
      ],
      "text/plain": [
       "<IPython.core.display.HTML object>"
      ]
     },
     "metadata": {
      "tags": []
     },
     "output_type": "display_data"
    },
    {
     "data": {
      "text/html": [
       "<span style=\"color:cyan\"> |-structured_data_block_1/dense_block_1/dropout_rate: 0.25</span>"
      ],
      "text/plain": [
       "<IPython.core.display.HTML object>"
      ]
     },
     "metadata": {
      "tags": []
     },
     "output_type": "display_data"
    },
    {
     "data": {
      "text/html": [
       "<span style=\"color:blue\"> |-structured_data_block_1/dense_block_1/num_layers: 2</span>"
      ],
      "text/plain": [
       "<IPython.core.display.HTML object>"
      ]
     },
     "metadata": {
      "tags": []
     },
     "output_type": "display_data"
    },
    {
     "data": {
      "text/html": [
       "<span style=\"color:cyan\"> |-structured_data_block_1/dense_block_1/units_0: 64</span>"
      ],
      "text/plain": [
       "<IPython.core.display.HTML object>"
      ]
     },
     "metadata": {
      "tags": []
     },
     "output_type": "display_data"
    },
    {
     "data": {
      "text/html": [
       "<span style=\"color:blue\"> |-structured_data_block_1/dense_block_1/units_1: 32</span>"
      ],
      "text/plain": [
       "<IPython.core.display.HTML object>"
      ]
     },
     "metadata": {
      "tags": []
     },
     "output_type": "display_data"
    },
    {
     "data": {
      "text/html": [
       "<span style=\"color:cyan\"> |-structured_data_block_1/dense_block_1/units_2: 64</span>"
      ],
      "text/plain": [
       "<IPython.core.display.HTML object>"
      ]
     },
     "metadata": {
      "tags": []
     },
     "output_type": "display_data"
    },
    {
     "data": {
      "text/html": [
       "<span style=\"color:blue\"> |-structured_data_block_1/dense_block_1/use_batchnorm: False</span>"
      ],
      "text/plain": [
       "<IPython.core.display.HTML object>"
      ]
     },
     "metadata": {
      "tags": []
     },
     "output_type": "display_data"
    },
    {
     "name": "stdout",
     "output_type": "stream",
     "text": [
      "Epoch 1/1000\n",
      "489/489 [==============================] - 4s 7ms/step - loss: 0.0023 - mean_squared_error: 0.0023 - val_loss: 0.0012 - val_mean_squared_error: 0.0012\n",
      "Epoch 2/1000\n",
      "489/489 [==============================] - 3s 7ms/step - loss: 0.0013 - mean_squared_error: 0.0013 - val_loss: 7.5322e-04 - val_mean_squared_error: 7.5322e-04\n",
      "Epoch 3/1000\n",
      "489/489 [==============================] - 3s 7ms/step - loss: 0.0012 - mean_squared_error: 0.0012 - val_loss: 0.0011 - val_mean_squared_error: 0.0011\n",
      "Epoch 4/1000\n",
      "489/489 [==============================] - 3s 7ms/step - loss: 9.1402e-04 - mean_squared_error: 9.1402e-04 - val_loss: 6.8145e-04 - val_mean_squared_error: 6.8145e-04\n",
      "Epoch 5/1000\n",
      "489/489 [==============================] - 3s 7ms/step - loss: 0.0011 - mean_squared_error: 0.0011 - val_loss: 7.7771e-04 - val_mean_squared_error: 7.7771e-04\n",
      "Epoch 6/1000\n",
      "489/489 [==============================] - 3s 7ms/step - loss: 9.5164e-04 - mean_squared_error: 9.5164e-04 - val_loss: 6.5704e-04 - val_mean_squared_error: 6.5704e-04\n",
      "Epoch 7/1000\n",
      "489/489 [==============================] - 3s 7ms/step - loss: 8.6066e-04 - mean_squared_error: 8.6066e-04 - val_loss: 3.5639e-04 - val_mean_squared_error: 3.5639e-04\n",
      "Epoch 8/1000\n",
      "489/489 [==============================] - 3s 7ms/step - loss: 9.6588e-04 - mean_squared_error: 9.6588e-04 - val_loss: 7.9519e-04 - val_mean_squared_error: 7.9519e-04\n",
      "Epoch 9/1000\n",
      "489/489 [==============================] - 3s 6ms/step - loss: 8.6928e-04 - mean_squared_error: 8.6928e-04 - val_loss: 5.6528e-04 - val_mean_squared_error: 5.6528e-04\n",
      "Epoch 10/1000\n",
      "489/489 [==============================] - 3s 6ms/step - loss: 8.5269e-04 - mean_squared_error: 8.5269e-04 - val_loss: 2.5152e-04 - val_mean_squared_error: 2.5152e-04\n",
      "Epoch 11/1000\n",
      "489/489 [==============================] - 3s 7ms/step - loss: 7.1098e-04 - mean_squared_error: 7.1098e-04 - val_loss: 1.3128e-04 - val_mean_squared_error: 1.3128e-04\n",
      "Epoch 12/1000\n",
      "489/489 [==============================] - 3s 7ms/step - loss: 8.3421e-04 - mean_squared_error: 8.3421e-04 - val_loss: 4.9743e-04 - val_mean_squared_error: 4.9743e-04\n",
      "Epoch 13/1000\n",
      "489/489 [==============================] - 3s 7ms/step - loss: 7.7053e-04 - mean_squared_error: 7.7053e-04 - val_loss: 2.1476e-04 - val_mean_squared_error: 2.1476e-04\n",
      "Epoch 14/1000\n",
      "489/489 [==============================] - 3s 7ms/step - loss: 8.1395e-04 - mean_squared_error: 8.1395e-04 - val_loss: 1.8730e-04 - val_mean_squared_error: 1.8730e-04\n",
      "Epoch 15/1000\n",
      "489/489 [==============================] - 3s 7ms/step - loss: 7.5918e-04 - mean_squared_error: 7.5918e-04 - val_loss: 1.8485e-04 - val_mean_squared_error: 1.8485e-04\n",
      "Epoch 16/1000\n",
      "489/489 [==============================] - 3s 7ms/step - loss: 8.2033e-04 - mean_squared_error: 8.2033e-04 - val_loss: 3.5058e-04 - val_mean_squared_error: 3.5058e-04\n",
      "Epoch 17/1000\n",
      "489/489 [==============================] - 3s 7ms/step - loss: 7.3125e-04 - mean_squared_error: 7.3125e-04 - val_loss: 2.9544e-04 - val_mean_squared_error: 2.9544e-04\n",
      "Epoch 18/1000\n",
      "223/489 [============>.................]Buffered data was truncated after reaching the output size limit."
     ]
    }
   ],
   "source": [
    "regressor.fit(x=X_train, y=y_train)\n",
    "print('Accuracy: {accuracy}'.format(accuracy=regressor.evaluate(x=X_valid, y=y_valid)))"
   ]
  }
 ],
 "metadata": {
  "colab": {
   "collapsed_sections": [],
   "name": "regression.ipynb",
   "provenance": []
  },
  "kernelspec": {
   "display_name": "Python 3",
   "language": "python",
   "name": "python3"
  },
  "language_info": {
   "codemirror_mode": {
    "name": "ipython",
    "version": 3
   },
   "file_extension": ".py",
   "mimetype": "text/x-python",
   "name": "python",
   "nbconvert_exporter": "python",
   "pygments_lexer": "ipython3",
   "version": "3.7.4-final"
  },
  "pycharm": {
   "stem_cell": {
    "cell_type": "raw",
    "metadata": {
     "collapsed": false
    },
    "source": [
     "\n",
     "import pandas as pd\n",
     "import os\n",
     "full_data = pd.read_csv(\"data/clust_db_job_data_300.csv\")\n",
     "print(full_data.columns)\n"
    ]
   }
  }
 },
 "nbformat": 4,
 "nbformat_minor": 1
}