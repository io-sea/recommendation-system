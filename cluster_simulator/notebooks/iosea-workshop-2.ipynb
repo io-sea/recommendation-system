{
 "cells": [
  {
   "cell_type": "code",
   "execution_count": 25,
   "metadata": {},
   "outputs": [],
   "source": [
    "# imports\n",
    "import sys\n",
    "sys.path.insert(0, \"C:\\\\Users\\\\a770398\\\\IO-SEA\\\\io-sea-3.4-analytics\\\\cluster_simulator\")\n",
    "from cluster import Cluster, Tier, bandwidth_share_model, compute_share_model, get_tier, convert_size\n",
    "from phase import DelayPhase, ComputePhase, IOPhase\n",
    "from application import Application\n",
    "import simpy\n",
    "import plotly.graph_objects as go\n",
    "from plotly.subplots import make_subplots\n",
    "from analytics import display_cluster, display_apps, display_run\n",
    "import numpy as np\n",
    "from itertools import groupby\n",
    "from operator import itemgetter\n",
    "from loguru import logger\n",
    "import itertools\n",
    "import time"
   ]
  },
  {
   "cell_type": "markdown",
   "metadata": {},
   "source": [
    "## Content of the workshop\n",
    "Demo and review of the progress done on the recommendation system since april'2022:\n",
    "1. Implemented features:\n",
    "   1. Phases: Compute phase and I/O phases (there is also a delay phase)\n",
    "   2. Application is a sequence of phases\n",
    "   3. Cluster: a set of compute nodes with attached tiers\n",
    "   4. Compute nodes, tiers capacities and bandwidths are globally shared resources\n",
    "2. Not yet implemented features:\n",
    "   1. Ephemeral tiers (burst buffer) with dedicated resources (datanode) and destaging/eviction mecanism (WIP)\n",
    "   2. Workflow as a graph (dag) of phases\n",
    "   3. Placement optimization heuristics (WIP)\n",
    "3. What will be presented in this workshop:\n",
    "   1. How application are described/represented, limitations and remarks\n",
    "   2. Metrics consequent to running apps:\n",
    "      1. individually\n",
    "      2. in parallel\n",
    "      3. concurrent I/O and bandwidth consumption\n",
    "   3. Wiring any optimization heuristics with the simulator\n",
    "      1. Principles/How to\n",
    "      2. Example with black box optimizer (BBO)\n",
    "      3. Results and discussion\n",
    "\n",
    "\n",
    "\n",
    "---\n",
    "![image](recommendation_system_diagram.png)\n"
   ]
  },
  {
   "cell_type": "markdown",
   "metadata": {},
   "source": [
    "- performance model to be updated in time\n",
    "- probability of tiers failure : how to use this in the model? Using bbo?\n",
    "- real apps read (identified group of data) that could have been place in a specific tier, so read operation can only be done from this specific tier\n",
    "- access latencies for each tier\n",
    "- duplication as penalty to take into account changing tier for another IO"
   ]
  },
  {
   "cell_type": "markdown",
   "metadata": {},
   "source": [
    "### 1.Implemented features \n",
    "The simulation environment is based on simpy, a discrete event simulation library in python.\n",
    "An application is a sequence of:\n",
    "- Compute phases:\n",
    "  - duration: in seconds, as it may run with 1 core\n",
    "  - cores: number of cores dedicated to the phase, at least 1, cores are shared and limited\n",
    "  - a function to simulate parallelization (sqrt(1+cores)/sqrt(2))\n",
    "  - if 10s with 1 core, it may take 10s/1.22 with 2 cores (bad //)\n",
    " \n",
    "- IOPhases:\n",
    "  - operation : 'read' or 'write'\n",
    "  - volume: in bytes\n",
    "  - pattern: 1 for pure sequential, 0 for random, 0.2: 20% seq and 80% random\n",
    "  - (not implemeted yet): the blocksize, so the bandwidth is considered in the asymptotic part\n",
    "  \n",
    "- Application:\n",
    "  - a linear sequence of phases\n",
    "  - next phase cannot be executed until previous has succeeded\n",
    "  - if an app starts by reading from an empty tier, tier level is automatically adjusted\n",
    "     "
   ]
  },
  {
   "cell_type": "markdown",
   "metadata": {},
   "source": []
  },
  {
   "cell_type": "code",
   "execution_count": 26,
   "metadata": {},
   "outputs": [],
   "source": [
    "# preparing execution environment variables\n",
    "env = simpy.Environment()\n",
    "data = simpy.Store(env)\n",
    "app1 = Application(env, name=\"read1GB->Comp15s->Write10GB\", # name of the app in the display\n",
    "                   compute=[0, 15],  # two events, first at 0 and second at 15, and compute between them\n",
    "                   read=[1e9, 0],    # read 1GB at 0, before compute phase, at the end do nothing (0)\n",
    "                   write=[0, 10e9],  # write 0GB at first event, and 10GB at the second, after compute phase                   \n",
    "                   data=data)    "
   ]
  },
  {
   "cell_type": "markdown",
   "metadata": {},
   "source": [
    "#### App formalism\n",
    "![image](app_formalism.png)"
   ]
  },
  {
   "cell_type": "markdown",
   "metadata": {},
   "source": [
    "A cluster is a set of:\n",
    "- compute nodes as shared resources:\n",
    "   - cores: number of units of computing (can be replaced by CPU or cores depending on the app)\n",
    "- storage tiers:\n",
    "   - list of storage tiers with their characteristics:\n",
    "      - name\n",
    "      - capacity in GB, also a shared resource\n",
    "      - a bandwidth (described below)\n",
    "      - bandwidth share model:\n",
    "         - tier hw gives a max_bandwidth value\n",
    "         - I/O processes shares equally bandwidth when concurrent\n",
    "         - examples, **2** processes are doing I/O on nvram tier, one writing seq (**50%** of 515 MB/s) and other read random (**50%** of 760MB/s) \n",
    "      "
   ]
  },
  {
   "cell_type": "code",
   "execution_count": 27,
   "metadata": {},
   "outputs": [
    {
     "data": {
      "text/plain": [
       "<Process(run) object at 0x14eee7d6b08>"
      ]
     },
     "execution_count": 27,
     "metadata": {},
     "output_type": "execute_result"
    }
   ],
   "source": [
    "nvram_bandwidth = {'read':  {'seq': 780, 'rand': 760},   # throughput for read ops in MB/s\n",
    "                   'write': {'seq': 515, 'rand': 505}}   # throughput for write ops in MB/s\n",
    "ssd_bandwidth =   {'read':  {'seq': 210, 'rand': 190},\n",
    "                   'write': {'seq': 100, 'rand': 100}}   # data is taken from IEEE'2013\n",
    "hdd_bandwidth =   {'read':  {'seq': 80, 'rand': 80},\n",
    "                   'write': {'seq': 40, 'rand': 40}}\n",
    "\n",
    "# we register the tiers\n",
    "hdd_tier = Tier(env, 'HDD', bandwidth=hdd_bandwidth, capacity=1e12)\n",
    "ssd_tier = Tier(env, 'SSD', bandwidth=ssd_bandwidth, capacity=200e9)\n",
    "nvram_tier = Tier(env, 'NVRAM', bandwidth=nvram_bandwidth, capacity=80e9)\n",
    "# we attach the tiers to a cluster:\n",
    "cluster = Cluster(env, compute_nodes=3,   # number of physical nodes\n",
    "                       cores_per_node=2,  # available cores per node\n",
    "                       tiers=[hdd_tier, nvram_tier]) # associate storage tiers to the cluster\n",
    "                    #          ^tier 0,    ^tier 1, tier...\n",
    "                    \n",
    "logger.remove()\n",
    "\n",
    "\n",
    "cluster = Cluster(env, compute_nodes=3, cores_per_node=2, tiers=[ssd_tier, nvram_tier])\n",
    "# registring the app in the simulation env\n",
    "env.process(app1.run(cluster, tiers=[1, 1]))\n",
    "\n"
   ]
  },
  {
   "cell_type": "code",
   "execution_count": 28,
   "metadata": {},
   "outputs": [
    {
     "name": "stdout",
     "output_type": "stream",
     "text": [
      "Execution time = 0.0 seconds\n",
      "{'app': 'read1GB->Comp15s->Write10GB', 'type': 'read', 'cpu_usage': 1, 't_start': 0, 't_end': 1.2820512820512822, 'bandwidth_concurrency': 1, 'bandwidth': 780.0, 'phase_duration': 1.2820512820512822, 'volume': 1000000000.0000001, 'tiers': ['SSD', 'NVRAM'], 'data_placement': {'placement': 'NVRAM'}, 'tier_level': {'SSD': 0, 'NVRAM': 1000000000.0}}\n",
      "{'app': 'read1GB->Comp15s->Write10GB', 'type': 'compute', 'cpu_usage': 1, 't_start': 1.2820512820512822, 't_end': 16.28205128205128, 'bandwidth': 0, 'phase_duration': 15.0, 'volume': 0, 'tiers': ['SSD', 'NVRAM'], 'data_placement': None, 'tier_level': {'SSD': 0, 'NVRAM': 1000000000.0}}\n",
      "{'app': 'read1GB->Comp15s->Write10GB', 'type': 'write', 'cpu_usage': 1, 't_start': 16.28205128205128, 't_end': 35.69952701020662, 'bandwidth_concurrency': 1, 'bandwidth': 515.0, 'phase_duration': 19.417475728155342, 'volume': 10000000000.0, 'tiers': ['SSD', 'NVRAM'], 'data_placement': {'placement': 'NVRAM'}, 'tier_level': {'SSD': 0, 'NVRAM': 11000000000.0}}\n"
     ]
    },
    {
     "data": {
      "application/vnd.plotly.v1+json": {
       "config": {
        "plotlyServerURL": "https://plot.ly"
       },
       "data": [
        {
         "line": {
          "shape": "hvh"
         },
         "name": "read1GB->Comp15s->Write10GB",
         "showlegend": false,
         "text": [
          "READ|to/from:NVRAM|volume=1.0 GB",
          "READ|to/from:NVRAM|volume=1.0 GB",
          "COMPUTE|volume=0B",
          "COMPUTE|volume=0B",
          "WRITE|to/from:NVRAM|volume=10.0 GB",
          "WRITE|to/from:NVRAM|volume=10.0 GB"
         ],
         "textposition": "top center",
         "type": "scatter",
         "x": [
          0,
          1.2820512820512822,
          1.2820512820512822,
          16.28205128205128,
          16.28205128205128,
          35.69952701020662
         ],
         "xaxis": "x",
         "y": [
          780,
          780,
          0,
          0,
          515,
          515
         ],
         "yaxis": "y"
        },
        {
         "line": {
          "shape": "hv"
         },
         "showlegend": false,
         "type": "scatter",
         "x": [
          0,
          1.2820512820512822,
          16.28205128205128,
          35.69952701020662
         ],
         "xaxis": "x2",
         "y": [
          1,
          1,
          1,
          0
         ],
         "yaxis": "y2"
        },
        {
         "line": {
          "color": "red",
          "dash": "dot",
          "shape": "hv",
          "width": 3
         },
         "showlegend": false,
         "text": [
          "Maximum available cores in cluster=6",
          "Maximum available cores in cluster=6"
         ],
         "type": "scatter",
         "x": [
          0,
          35.69952701020662
         ],
         "xaxis": "x2",
         "y": [
          6,
          6
         ],
         "yaxis": "y2"
        },
        {
         "line": {
          "shape": "vh"
         },
         "name": "SSD",
         "showlegend": false,
         "text": [
          "read1GB->Comp15s->Write10GB|Read|NVRAM | +volume=1.0 GB",
          "read1GB->Comp15s->Write10GB|Compute | +volume=0B",
          "read1GB->Comp15s->Write10GB|Write|NVRAM | +volume=10.0 GB"
         ],
         "textposition": "top center",
         "type": "scatter",
         "x": [
          0,
          1.2820512820512822,
          16.28205128205128,
          35.69952701020662
         ],
         "xaxis": "x3",
         "y": [
          0,
          0,
          0,
          0
         ],
         "yaxis": "y3"
        },
        {
         "line": {
          "shape": "vh"
         },
         "name": "NVRAM",
         "showlegend": false,
         "text": [
          "read1GB->Comp15s->Write10GB|Read|NVRAM | +volume=1.0 GB",
          "read1GB->Comp15s->Write10GB|Compute | +volume=0B",
          "read1GB->Comp15s->Write10GB|Write|NVRAM | +volume=10.0 GB"
         ],
         "textposition": "top center",
         "type": "scatter",
         "x": [
          0,
          1.2820512820512822,
          16.28205128205128,
          35.69952701020662
         ],
         "xaxis": "x4",
         "y": [
          0,
          1.25,
          1.25,
          13.75
         ],
         "yaxis": "y4"
        }
       ],
       "layout": {
        "annotations": [
         {
          "font": {
           "size": 16
          },
          "showarrow": false,
          "text": "read1GB->Comp15s->Write10GB",
          "x": 0.5,
          "xanchor": "center",
          "xref": "paper",
          "y": 1,
          "yanchor": "bottom",
          "yref": "paper"
         },
         {
          "font": {
           "size": 16
          },
          "showarrow": false,
          "text": "CPU Cores",
          "x": 0.5,
          "xanchor": "center",
          "xref": "paper",
          "y": 0.71875,
          "yanchor": "bottom",
          "yref": "paper"
         },
         {
          "font": {
           "size": 16
          },
          "showarrow": false,
          "text": "SSD (200.0 GB)",
          "x": 0.5,
          "xanchor": "center",
          "xref": "paper",
          "y": 0.4375,
          "yanchor": "bottom",
          "yref": "paper"
         },
         {
          "font": {
           "size": 16
          },
          "showarrow": false,
          "text": "NVRAM (80.0 GB)",
          "x": 0.5,
          "xanchor": "center",
          "xref": "paper",
          "y": 0.15625,
          "yanchor": "bottom",
          "yref": "paper"
         }
        ],
        "height": 800,
        "template": {
         "data": {
          "bar": [
           {
            "error_x": {
             "color": "#2a3f5f"
            },
            "error_y": {
             "color": "#2a3f5f"
            },
            "marker": {
             "line": {
              "color": "#E5ECF6",
              "width": 0.5
             }
            },
            "type": "bar"
           }
          ],
          "barpolar": [
           {
            "marker": {
             "line": {
              "color": "#E5ECF6",
              "width": 0.5
             }
            },
            "type": "barpolar"
           }
          ],
          "carpet": [
           {
            "aaxis": {
             "endlinecolor": "#2a3f5f",
             "gridcolor": "white",
             "linecolor": "white",
             "minorgridcolor": "white",
             "startlinecolor": "#2a3f5f"
            },
            "baxis": {
             "endlinecolor": "#2a3f5f",
             "gridcolor": "white",
             "linecolor": "white",
             "minorgridcolor": "white",
             "startlinecolor": "#2a3f5f"
            },
            "type": "carpet"
           }
          ],
          "choropleth": [
           {
            "colorbar": {
             "outlinewidth": 0,
             "ticks": ""
            },
            "type": "choropleth"
           }
          ],
          "contour": [
           {
            "colorbar": {
             "outlinewidth": 0,
             "ticks": ""
            },
            "colorscale": [
             [
              0,
              "#0d0887"
             ],
             [
              0.1111111111111111,
              "#46039f"
             ],
             [
              0.2222222222222222,
              "#7201a8"
             ],
             [
              0.3333333333333333,
              "#9c179e"
             ],
             [
              0.4444444444444444,
              "#bd3786"
             ],
             [
              0.5555555555555556,
              "#d8576b"
             ],
             [
              0.6666666666666666,
              "#ed7953"
             ],
             [
              0.7777777777777778,
              "#fb9f3a"
             ],
             [
              0.8888888888888888,
              "#fdca26"
             ],
             [
              1,
              "#f0f921"
             ]
            ],
            "type": "contour"
           }
          ],
          "contourcarpet": [
           {
            "colorbar": {
             "outlinewidth": 0,
             "ticks": ""
            },
            "type": "contourcarpet"
           }
          ],
          "heatmap": [
           {
            "colorbar": {
             "outlinewidth": 0,
             "ticks": ""
            },
            "colorscale": [
             [
              0,
              "#0d0887"
             ],
             [
              0.1111111111111111,
              "#46039f"
             ],
             [
              0.2222222222222222,
              "#7201a8"
             ],
             [
              0.3333333333333333,
              "#9c179e"
             ],
             [
              0.4444444444444444,
              "#bd3786"
             ],
             [
              0.5555555555555556,
              "#d8576b"
             ],
             [
              0.6666666666666666,
              "#ed7953"
             ],
             [
              0.7777777777777778,
              "#fb9f3a"
             ],
             [
              0.8888888888888888,
              "#fdca26"
             ],
             [
              1,
              "#f0f921"
             ]
            ],
            "type": "heatmap"
           }
          ],
          "heatmapgl": [
           {
            "colorbar": {
             "outlinewidth": 0,
             "ticks": ""
            },
            "colorscale": [
             [
              0,
              "#0d0887"
             ],
             [
              0.1111111111111111,
              "#46039f"
             ],
             [
              0.2222222222222222,
              "#7201a8"
             ],
             [
              0.3333333333333333,
              "#9c179e"
             ],
             [
              0.4444444444444444,
              "#bd3786"
             ],
             [
              0.5555555555555556,
              "#d8576b"
             ],
             [
              0.6666666666666666,
              "#ed7953"
             ],
             [
              0.7777777777777778,
              "#fb9f3a"
             ],
             [
              0.8888888888888888,
              "#fdca26"
             ],
             [
              1,
              "#f0f921"
             ]
            ],
            "type": "heatmapgl"
           }
          ],
          "histogram": [
           {
            "marker": {
             "colorbar": {
              "outlinewidth": 0,
              "ticks": ""
             }
            },
            "type": "histogram"
           }
          ],
          "histogram2d": [
           {
            "colorbar": {
             "outlinewidth": 0,
             "ticks": ""
            },
            "colorscale": [
             [
              0,
              "#0d0887"
             ],
             [
              0.1111111111111111,
              "#46039f"
             ],
             [
              0.2222222222222222,
              "#7201a8"
             ],
             [
              0.3333333333333333,
              "#9c179e"
             ],
             [
              0.4444444444444444,
              "#bd3786"
             ],
             [
              0.5555555555555556,
              "#d8576b"
             ],
             [
              0.6666666666666666,
              "#ed7953"
             ],
             [
              0.7777777777777778,
              "#fb9f3a"
             ],
             [
              0.8888888888888888,
              "#fdca26"
             ],
             [
              1,
              "#f0f921"
             ]
            ],
            "type": "histogram2d"
           }
          ],
          "histogram2dcontour": [
           {
            "colorbar": {
             "outlinewidth": 0,
             "ticks": ""
            },
            "colorscale": [
             [
              0,
              "#0d0887"
             ],
             [
              0.1111111111111111,
              "#46039f"
             ],
             [
              0.2222222222222222,
              "#7201a8"
             ],
             [
              0.3333333333333333,
              "#9c179e"
             ],
             [
              0.4444444444444444,
              "#bd3786"
             ],
             [
              0.5555555555555556,
              "#d8576b"
             ],
             [
              0.6666666666666666,
              "#ed7953"
             ],
             [
              0.7777777777777778,
              "#fb9f3a"
             ],
             [
              0.8888888888888888,
              "#fdca26"
             ],
             [
              1,
              "#f0f921"
             ]
            ],
            "type": "histogram2dcontour"
           }
          ],
          "mesh3d": [
           {
            "colorbar": {
             "outlinewidth": 0,
             "ticks": ""
            },
            "type": "mesh3d"
           }
          ],
          "parcoords": [
           {
            "line": {
             "colorbar": {
              "outlinewidth": 0,
              "ticks": ""
             }
            },
            "type": "parcoords"
           }
          ],
          "pie": [
           {
            "automargin": true,
            "type": "pie"
           }
          ],
          "scatter": [
           {
            "marker": {
             "colorbar": {
              "outlinewidth": 0,
              "ticks": ""
             }
            },
            "type": "scatter"
           }
          ],
          "scatter3d": [
           {
            "line": {
             "colorbar": {
              "outlinewidth": 0,
              "ticks": ""
             }
            },
            "marker": {
             "colorbar": {
              "outlinewidth": 0,
              "ticks": ""
             }
            },
            "type": "scatter3d"
           }
          ],
          "scattercarpet": [
           {
            "marker": {
             "colorbar": {
              "outlinewidth": 0,
              "ticks": ""
             }
            },
            "type": "scattercarpet"
           }
          ],
          "scattergeo": [
           {
            "marker": {
             "colorbar": {
              "outlinewidth": 0,
              "ticks": ""
             }
            },
            "type": "scattergeo"
           }
          ],
          "scattergl": [
           {
            "marker": {
             "colorbar": {
              "outlinewidth": 0,
              "ticks": ""
             }
            },
            "type": "scattergl"
           }
          ],
          "scattermapbox": [
           {
            "marker": {
             "colorbar": {
              "outlinewidth": 0,
              "ticks": ""
             }
            },
            "type": "scattermapbox"
           }
          ],
          "scatterpolar": [
           {
            "marker": {
             "colorbar": {
              "outlinewidth": 0,
              "ticks": ""
             }
            },
            "type": "scatterpolar"
           }
          ],
          "scatterpolargl": [
           {
            "marker": {
             "colorbar": {
              "outlinewidth": 0,
              "ticks": ""
             }
            },
            "type": "scatterpolargl"
           }
          ],
          "scatterternary": [
           {
            "marker": {
             "colorbar": {
              "outlinewidth": 0,
              "ticks": ""
             }
            },
            "type": "scatterternary"
           }
          ],
          "surface": [
           {
            "colorbar": {
             "outlinewidth": 0,
             "ticks": ""
            },
            "colorscale": [
             [
              0,
              "#0d0887"
             ],
             [
              0.1111111111111111,
              "#46039f"
             ],
             [
              0.2222222222222222,
              "#7201a8"
             ],
             [
              0.3333333333333333,
              "#9c179e"
             ],
             [
              0.4444444444444444,
              "#bd3786"
             ],
             [
              0.5555555555555556,
              "#d8576b"
             ],
             [
              0.6666666666666666,
              "#ed7953"
             ],
             [
              0.7777777777777778,
              "#fb9f3a"
             ],
             [
              0.8888888888888888,
              "#fdca26"
             ],
             [
              1,
              "#f0f921"
             ]
            ],
            "type": "surface"
           }
          ],
          "table": [
           {
            "cells": {
             "fill": {
              "color": "#EBF0F8"
             },
             "line": {
              "color": "white"
             }
            },
            "header": {
             "fill": {
              "color": "#C8D4E3"
             },
             "line": {
              "color": "white"
             }
            },
            "type": "table"
           }
          ]
         },
         "layout": {
          "annotationdefaults": {
           "arrowcolor": "#2a3f5f",
           "arrowhead": 0,
           "arrowwidth": 1
          },
          "coloraxis": {
           "colorbar": {
            "outlinewidth": 0,
            "ticks": ""
           }
          },
          "colorscale": {
           "diverging": [
            [
             0,
             "#8e0152"
            ],
            [
             0.1,
             "#c51b7d"
            ],
            [
             0.2,
             "#de77ae"
            ],
            [
             0.3,
             "#f1b6da"
            ],
            [
             0.4,
             "#fde0ef"
            ],
            [
             0.5,
             "#f7f7f7"
            ],
            [
             0.6,
             "#e6f5d0"
            ],
            [
             0.7,
             "#b8e186"
            ],
            [
             0.8,
             "#7fbc41"
            ],
            [
             0.9,
             "#4d9221"
            ],
            [
             1,
             "#276419"
            ]
           ],
           "sequential": [
            [
             0,
             "#0d0887"
            ],
            [
             0.1111111111111111,
             "#46039f"
            ],
            [
             0.2222222222222222,
             "#7201a8"
            ],
            [
             0.3333333333333333,
             "#9c179e"
            ],
            [
             0.4444444444444444,
             "#bd3786"
            ],
            [
             0.5555555555555556,
             "#d8576b"
            ],
            [
             0.6666666666666666,
             "#ed7953"
            ],
            [
             0.7777777777777778,
             "#fb9f3a"
            ],
            [
             0.8888888888888888,
             "#fdca26"
            ],
            [
             1,
             "#f0f921"
            ]
           ],
           "sequentialminus": [
            [
             0,
             "#0d0887"
            ],
            [
             0.1111111111111111,
             "#46039f"
            ],
            [
             0.2222222222222222,
             "#7201a8"
            ],
            [
             0.3333333333333333,
             "#9c179e"
            ],
            [
             0.4444444444444444,
             "#bd3786"
            ],
            [
             0.5555555555555556,
             "#d8576b"
            ],
            [
             0.6666666666666666,
             "#ed7953"
            ],
            [
             0.7777777777777778,
             "#fb9f3a"
            ],
            [
             0.8888888888888888,
             "#fdca26"
            ],
            [
             1,
             "#f0f921"
            ]
           ]
          },
          "colorway": [
           "#636efa",
           "#EF553B",
           "#00cc96",
           "#ab63fa",
           "#FFA15A",
           "#19d3f3",
           "#FF6692",
           "#B6E880",
           "#FF97FF",
           "#FECB52"
          ],
          "font": {
           "color": "#2a3f5f"
          },
          "geo": {
           "bgcolor": "white",
           "lakecolor": "white",
           "landcolor": "#E5ECF6",
           "showlakes": true,
           "showland": true,
           "subunitcolor": "white"
          },
          "hoverlabel": {
           "align": "left"
          },
          "hovermode": "closest",
          "mapbox": {
           "style": "light"
          },
          "paper_bgcolor": "white",
          "plot_bgcolor": "#E5ECF6",
          "polar": {
           "angularaxis": {
            "gridcolor": "white",
            "linecolor": "white",
            "ticks": ""
           },
           "bgcolor": "#E5ECF6",
           "radialaxis": {
            "gridcolor": "white",
            "linecolor": "white",
            "ticks": ""
           }
          },
          "scene": {
           "xaxis": {
            "backgroundcolor": "#E5ECF6",
            "gridcolor": "white",
            "gridwidth": 2,
            "linecolor": "white",
            "showbackground": true,
            "ticks": "",
            "zerolinecolor": "white"
           },
           "yaxis": {
            "backgroundcolor": "#E5ECF6",
            "gridcolor": "white",
            "gridwidth": 2,
            "linecolor": "white",
            "showbackground": true,
            "ticks": "",
            "zerolinecolor": "white"
           },
           "zaxis": {
            "backgroundcolor": "#E5ECF6",
            "gridcolor": "white",
            "gridwidth": 2,
            "linecolor": "white",
            "showbackground": true,
            "ticks": "",
            "zerolinecolor": "white"
           }
          },
          "shapedefaults": {
           "line": {
            "color": "#2a3f5f"
           }
          },
          "ternary": {
           "aaxis": {
            "gridcolor": "white",
            "linecolor": "white",
            "ticks": ""
           },
           "baxis": {
            "gridcolor": "white",
            "linecolor": "white",
            "ticks": ""
           },
           "bgcolor": "#E5ECF6",
           "caxis": {
            "gridcolor": "white",
            "linecolor": "white",
            "ticks": ""
           }
          },
          "title": {
           "x": 0.05
          },
          "xaxis": {
           "automargin": true,
           "gridcolor": "white",
           "linecolor": "white",
           "ticks": "",
           "title": {
            "standoff": 15
           },
           "zerolinecolor": "white",
           "zerolinewidth": 2
          },
          "yaxis": {
           "automargin": true,
           "gridcolor": "white",
           "linecolor": "white",
           "ticks": "",
           "title": {
            "standoff": 15
           },
           "zerolinecolor": "white",
           "zerolinewidth": 2
          }
         }
        },
        "title": {
         "text": "State of the Cluster"
        },
        "width": 800,
        "xaxis": {
         "anchor": "y",
         "domain": [
          0,
          1
         ],
         "matches": "x4",
         "showticklabels": false,
         "title": {
          "text": "time in s"
         }
        },
        "xaxis2": {
         "anchor": "y2",
         "domain": [
          0,
          1
         ],
         "matches": "x4",
         "showticklabels": false,
         "title": {
          "text": "time in s"
         }
        },
        "xaxis3": {
         "anchor": "y3",
         "domain": [
          0,
          1
         ],
         "matches": "x4",
         "showticklabels": false,
         "title": {
          "text": "time in s"
         }
        },
        "xaxis4": {
         "anchor": "y4",
         "domain": [
          0,
          1
         ],
         "title": {
          "text": "time in s"
         }
        },
        "yaxis": {
         "anchor": "x",
         "domain": [
          0.84375,
          1
         ],
         "title": {
          "text": "dataflow in MB/s"
         }
        },
        "yaxis2": {
         "anchor": "x2",
         "domain": [
          0.5625,
          0.71875
         ],
         "title": {
          "text": "CPU usage"
         }
        },
        "yaxis3": {
         "anchor": "x3",
         "domain": [
          0.28125,
          0.4375
         ],
         "title": {
          "text": "SSD usage in %"
         }
        },
        "yaxis4": {
         "anchor": "x4",
         "domain": [
          0,
          0.15625
         ],
         "title": {
          "text": "NVRAM usage in %"
         }
        }
       }
      },
      "text/html": [
       "<div>\n",
       "        \n",
       "        \n",
       "            <div id=\"006b6a87-1a63-4b38-bf9e-99307c51438a\" class=\"plotly-graph-div\" style=\"height:800px; width:800px;\"></div>\n",
       "            <script type=\"text/javascript\">\n",
       "                require([\"plotly\"], function(Plotly) {\n",
       "                    window.PLOTLYENV=window.PLOTLYENV || {};\n",
       "                    \n",
       "                if (document.getElementById(\"006b6a87-1a63-4b38-bf9e-99307c51438a\")) {\n",
       "                    Plotly.newPlot(\n",
       "                        '006b6a87-1a63-4b38-bf9e-99307c51438a',\n",
       "                        [{\"line\": {\"shape\": \"hvh\"}, \"name\": \"read1GB->Comp15s->Write10GB\", \"showlegend\": false, \"text\": [\"READ|to/from:NVRAM|volume=1.0 GB\", \"READ|to/from:NVRAM|volume=1.0 GB\", \"COMPUTE|volume=0B\", \"COMPUTE|volume=0B\", \"WRITE|to/from:NVRAM|volume=10.0 GB\", \"WRITE|to/from:NVRAM|volume=10.0 GB\"], \"textposition\": \"top center\", \"type\": \"scatter\", \"x\": [0.0, 1.2820512820512822, 1.2820512820512822, 16.28205128205128, 16.28205128205128, 35.69952701020662], \"xaxis\": \"x\", \"y\": [780.0, 780.0, 0.0, 0.0, 515.0, 515.0], \"yaxis\": \"y\"}, {\"line\": {\"shape\": \"hv\"}, \"showlegend\": false, \"type\": \"scatter\", \"x\": [0.0, 1.2820512820512822, 16.28205128205128, 35.69952701020662], \"xaxis\": \"x2\", \"y\": [1, 1, 1, 0], \"yaxis\": \"y2\"}, {\"line\": {\"color\": \"red\", \"dash\": \"dot\", \"shape\": \"hv\", \"width\": 3}, \"showlegend\": false, \"text\": [\"Maximum available cores in cluster=6\", \"Maximum available cores in cluster=6\"], \"type\": \"scatter\", \"x\": [0.0, 35.69952701020662], \"xaxis\": \"x2\", \"y\": [6, 6], \"yaxis\": \"y2\"}, {\"line\": {\"shape\": \"vh\"}, \"name\": \"SSD\", \"showlegend\": false, \"text\": [\"read1GB->Comp15s->Write10GB|Read|NVRAM | +volume=1.0 GB\", \"read1GB->Comp15s->Write10GB|Compute | +volume=0B\", \"read1GB->Comp15s->Write10GB|Write|NVRAM | +volume=10.0 GB\"], \"textposition\": \"top center\", \"type\": \"scatter\", \"x\": [0.0, 1.2820512820512822, 16.28205128205128, 35.69952701020662], \"xaxis\": \"x3\", \"y\": [0.0, 0.0, 0.0, 0.0], \"yaxis\": \"y3\"}, {\"line\": {\"shape\": \"vh\"}, \"name\": \"NVRAM\", \"showlegend\": false, \"text\": [\"read1GB->Comp15s->Write10GB|Read|NVRAM | +volume=1.0 GB\", \"read1GB->Comp15s->Write10GB|Compute | +volume=0B\", \"read1GB->Comp15s->Write10GB|Write|NVRAM | +volume=10.0 GB\"], \"textposition\": \"top center\", \"type\": \"scatter\", \"x\": [0.0, 1.2820512820512822, 16.28205128205128, 35.69952701020662], \"xaxis\": \"x4\", \"y\": [0.0, 1.25, 1.25, 13.75], \"yaxis\": \"y4\"}],\n",
       "                        {\"annotations\": [{\"font\": {\"size\": 16}, \"showarrow\": false, \"text\": \"read1GB->Comp15s->Write10GB\", \"x\": 0.5, \"xanchor\": \"center\", \"xref\": \"paper\", \"y\": 1.0, \"yanchor\": \"bottom\", \"yref\": \"paper\"}, {\"font\": {\"size\": 16}, \"showarrow\": false, \"text\": \"CPU Cores\", \"x\": 0.5, \"xanchor\": \"center\", \"xref\": \"paper\", \"y\": 0.71875, \"yanchor\": \"bottom\", \"yref\": \"paper\"}, {\"font\": {\"size\": 16}, \"showarrow\": false, \"text\": \"SSD (200.0 GB)\", \"x\": 0.5, \"xanchor\": \"center\", \"xref\": \"paper\", \"y\": 0.4375, \"yanchor\": \"bottom\", \"yref\": \"paper\"}, {\"font\": {\"size\": 16}, \"showarrow\": false, \"text\": \"NVRAM (80.0 GB)\", \"x\": 0.5, \"xanchor\": \"center\", \"xref\": \"paper\", \"y\": 0.15625, \"yanchor\": \"bottom\", \"yref\": \"paper\"}], \"height\": 800, \"template\": {\"data\": {\"bar\": [{\"error_x\": {\"color\": \"#2a3f5f\"}, \"error_y\": {\"color\": \"#2a3f5f\"}, \"marker\": {\"line\": {\"color\": \"#E5ECF6\", \"width\": 0.5}}, \"type\": \"bar\"}], \"barpolar\": [{\"marker\": {\"line\": {\"color\": \"#E5ECF6\", \"width\": 0.5}}, \"type\": \"barpolar\"}], \"carpet\": [{\"aaxis\": {\"endlinecolor\": \"#2a3f5f\", \"gridcolor\": \"white\", \"linecolor\": \"white\", \"minorgridcolor\": \"white\", \"startlinecolor\": \"#2a3f5f\"}, \"baxis\": {\"endlinecolor\": \"#2a3f5f\", \"gridcolor\": \"white\", \"linecolor\": \"white\", \"minorgridcolor\": \"white\", \"startlinecolor\": \"#2a3f5f\"}, \"type\": \"carpet\"}], \"choropleth\": [{\"colorbar\": {\"outlinewidth\": 0, \"ticks\": \"\"}, \"type\": \"choropleth\"}], \"contour\": [{\"colorbar\": {\"outlinewidth\": 0, \"ticks\": \"\"}, \"colorscale\": [[0.0, \"#0d0887\"], [0.1111111111111111, \"#46039f\"], [0.2222222222222222, \"#7201a8\"], [0.3333333333333333, \"#9c179e\"], [0.4444444444444444, \"#bd3786\"], [0.5555555555555556, \"#d8576b\"], [0.6666666666666666, \"#ed7953\"], [0.7777777777777778, \"#fb9f3a\"], [0.8888888888888888, \"#fdca26\"], [1.0, \"#f0f921\"]], \"type\": \"contour\"}], \"contourcarpet\": [{\"colorbar\": {\"outlinewidth\": 0, \"ticks\": \"\"}, \"type\": \"contourcarpet\"}], \"heatmap\": [{\"colorbar\": {\"outlinewidth\": 0, \"ticks\": \"\"}, \"colorscale\": [[0.0, \"#0d0887\"], [0.1111111111111111, \"#46039f\"], [0.2222222222222222, \"#7201a8\"], [0.3333333333333333, \"#9c179e\"], [0.4444444444444444, \"#bd3786\"], [0.5555555555555556, \"#d8576b\"], [0.6666666666666666, \"#ed7953\"], [0.7777777777777778, \"#fb9f3a\"], [0.8888888888888888, \"#fdca26\"], [1.0, \"#f0f921\"]], \"type\": \"heatmap\"}], \"heatmapgl\": [{\"colorbar\": {\"outlinewidth\": 0, \"ticks\": \"\"}, \"colorscale\": [[0.0, \"#0d0887\"], [0.1111111111111111, \"#46039f\"], [0.2222222222222222, \"#7201a8\"], [0.3333333333333333, \"#9c179e\"], [0.4444444444444444, \"#bd3786\"], [0.5555555555555556, \"#d8576b\"], [0.6666666666666666, \"#ed7953\"], [0.7777777777777778, \"#fb9f3a\"], [0.8888888888888888, \"#fdca26\"], [1.0, \"#f0f921\"]], \"type\": \"heatmapgl\"}], \"histogram\": [{\"marker\": {\"colorbar\": {\"outlinewidth\": 0, \"ticks\": \"\"}}, \"type\": \"histogram\"}], \"histogram2d\": [{\"colorbar\": {\"outlinewidth\": 0, \"ticks\": \"\"}, \"colorscale\": [[0.0, \"#0d0887\"], [0.1111111111111111, \"#46039f\"], [0.2222222222222222, \"#7201a8\"], [0.3333333333333333, \"#9c179e\"], [0.4444444444444444, \"#bd3786\"], [0.5555555555555556, \"#d8576b\"], [0.6666666666666666, \"#ed7953\"], [0.7777777777777778, \"#fb9f3a\"], [0.8888888888888888, \"#fdca26\"], [1.0, \"#f0f921\"]], \"type\": \"histogram2d\"}], \"histogram2dcontour\": [{\"colorbar\": {\"outlinewidth\": 0, \"ticks\": \"\"}, \"colorscale\": [[0.0, \"#0d0887\"], [0.1111111111111111, \"#46039f\"], [0.2222222222222222, \"#7201a8\"], [0.3333333333333333, \"#9c179e\"], [0.4444444444444444, \"#bd3786\"], [0.5555555555555556, \"#d8576b\"], [0.6666666666666666, \"#ed7953\"], [0.7777777777777778, \"#fb9f3a\"], [0.8888888888888888, \"#fdca26\"], [1.0, \"#f0f921\"]], \"type\": \"histogram2dcontour\"}], \"mesh3d\": [{\"colorbar\": {\"outlinewidth\": 0, \"ticks\": \"\"}, \"type\": \"mesh3d\"}], \"parcoords\": [{\"line\": {\"colorbar\": {\"outlinewidth\": 0, \"ticks\": \"\"}}, \"type\": \"parcoords\"}], \"pie\": [{\"automargin\": true, \"type\": \"pie\"}], \"scatter\": [{\"marker\": {\"colorbar\": {\"outlinewidth\": 0, \"ticks\": \"\"}}, \"type\": \"scatter\"}], \"scatter3d\": [{\"line\": {\"colorbar\": {\"outlinewidth\": 0, \"ticks\": \"\"}}, \"marker\": {\"colorbar\": {\"outlinewidth\": 0, \"ticks\": \"\"}}, \"type\": \"scatter3d\"}], \"scattercarpet\": [{\"marker\": {\"colorbar\": {\"outlinewidth\": 0, \"ticks\": \"\"}}, \"type\": \"scattercarpet\"}], \"scattergeo\": [{\"marker\": {\"colorbar\": {\"outlinewidth\": 0, \"ticks\": \"\"}}, \"type\": \"scattergeo\"}], \"scattergl\": [{\"marker\": {\"colorbar\": {\"outlinewidth\": 0, \"ticks\": \"\"}}, \"type\": \"scattergl\"}], \"scattermapbox\": [{\"marker\": {\"colorbar\": {\"outlinewidth\": 0, \"ticks\": \"\"}}, \"type\": \"scattermapbox\"}], \"scatterpolar\": [{\"marker\": {\"colorbar\": {\"outlinewidth\": 0, \"ticks\": \"\"}}, \"type\": \"scatterpolar\"}], \"scatterpolargl\": [{\"marker\": {\"colorbar\": {\"outlinewidth\": 0, \"ticks\": \"\"}}, \"type\": \"scatterpolargl\"}], \"scatterternary\": [{\"marker\": {\"colorbar\": {\"outlinewidth\": 0, \"ticks\": \"\"}}, \"type\": \"scatterternary\"}], \"surface\": [{\"colorbar\": {\"outlinewidth\": 0, \"ticks\": \"\"}, \"colorscale\": [[0.0, \"#0d0887\"], [0.1111111111111111, \"#46039f\"], [0.2222222222222222, \"#7201a8\"], [0.3333333333333333, \"#9c179e\"], [0.4444444444444444, \"#bd3786\"], [0.5555555555555556, \"#d8576b\"], [0.6666666666666666, \"#ed7953\"], [0.7777777777777778, \"#fb9f3a\"], [0.8888888888888888, \"#fdca26\"], [1.0, \"#f0f921\"]], \"type\": \"surface\"}], \"table\": [{\"cells\": {\"fill\": {\"color\": \"#EBF0F8\"}, \"line\": {\"color\": \"white\"}}, \"header\": {\"fill\": {\"color\": \"#C8D4E3\"}, \"line\": {\"color\": \"white\"}}, \"type\": \"table\"}]}, \"layout\": {\"annotationdefaults\": {\"arrowcolor\": \"#2a3f5f\", \"arrowhead\": 0, \"arrowwidth\": 1}, \"coloraxis\": {\"colorbar\": {\"outlinewidth\": 0, \"ticks\": \"\"}}, \"colorscale\": {\"diverging\": [[0, \"#8e0152\"], [0.1, \"#c51b7d\"], [0.2, \"#de77ae\"], [0.3, \"#f1b6da\"], [0.4, \"#fde0ef\"], [0.5, \"#f7f7f7\"], [0.6, \"#e6f5d0\"], [0.7, \"#b8e186\"], [0.8, \"#7fbc41\"], [0.9, \"#4d9221\"], [1, \"#276419\"]], \"sequential\": [[0.0, \"#0d0887\"], [0.1111111111111111, \"#46039f\"], [0.2222222222222222, \"#7201a8\"], [0.3333333333333333, \"#9c179e\"], [0.4444444444444444, \"#bd3786\"], [0.5555555555555556, \"#d8576b\"], [0.6666666666666666, \"#ed7953\"], [0.7777777777777778, \"#fb9f3a\"], [0.8888888888888888, \"#fdca26\"], [1.0, \"#f0f921\"]], \"sequentialminus\": [[0.0, \"#0d0887\"], [0.1111111111111111, \"#46039f\"], [0.2222222222222222, \"#7201a8\"], [0.3333333333333333, \"#9c179e\"], [0.4444444444444444, \"#bd3786\"], [0.5555555555555556, \"#d8576b\"], [0.6666666666666666, \"#ed7953\"], [0.7777777777777778, \"#fb9f3a\"], [0.8888888888888888, \"#fdca26\"], [1.0, \"#f0f921\"]]}, \"colorway\": [\"#636efa\", \"#EF553B\", \"#00cc96\", \"#ab63fa\", \"#FFA15A\", \"#19d3f3\", \"#FF6692\", \"#B6E880\", \"#FF97FF\", \"#FECB52\"], \"font\": {\"color\": \"#2a3f5f\"}, \"geo\": {\"bgcolor\": \"white\", \"lakecolor\": \"white\", \"landcolor\": \"#E5ECF6\", \"showlakes\": true, \"showland\": true, \"subunitcolor\": \"white\"}, \"hoverlabel\": {\"align\": \"left\"}, \"hovermode\": \"closest\", \"mapbox\": {\"style\": \"light\"}, \"paper_bgcolor\": \"white\", \"plot_bgcolor\": \"#E5ECF6\", \"polar\": {\"angularaxis\": {\"gridcolor\": \"white\", \"linecolor\": \"white\", \"ticks\": \"\"}, \"bgcolor\": \"#E5ECF6\", \"radialaxis\": {\"gridcolor\": \"white\", \"linecolor\": \"white\", \"ticks\": \"\"}}, \"scene\": {\"xaxis\": {\"backgroundcolor\": \"#E5ECF6\", \"gridcolor\": \"white\", \"gridwidth\": 2, \"linecolor\": \"white\", \"showbackground\": true, \"ticks\": \"\", \"zerolinecolor\": \"white\"}, \"yaxis\": {\"backgroundcolor\": \"#E5ECF6\", \"gridcolor\": \"white\", \"gridwidth\": 2, \"linecolor\": \"white\", \"showbackground\": true, \"ticks\": \"\", \"zerolinecolor\": \"white\"}, \"zaxis\": {\"backgroundcolor\": \"#E5ECF6\", \"gridcolor\": \"white\", \"gridwidth\": 2, \"linecolor\": \"white\", \"showbackground\": true, \"ticks\": \"\", \"zerolinecolor\": \"white\"}}, \"shapedefaults\": {\"line\": {\"color\": \"#2a3f5f\"}}, \"ternary\": {\"aaxis\": {\"gridcolor\": \"white\", \"linecolor\": \"white\", \"ticks\": \"\"}, \"baxis\": {\"gridcolor\": \"white\", \"linecolor\": \"white\", \"ticks\": \"\"}, \"bgcolor\": \"#E5ECF6\", \"caxis\": {\"gridcolor\": \"white\", \"linecolor\": \"white\", \"ticks\": \"\"}}, \"title\": {\"x\": 0.05}, \"xaxis\": {\"automargin\": true, \"gridcolor\": \"white\", \"linecolor\": \"white\", \"ticks\": \"\", \"title\": {\"standoff\": 15}, \"zerolinecolor\": \"white\", \"zerolinewidth\": 2}, \"yaxis\": {\"automargin\": true, \"gridcolor\": \"white\", \"linecolor\": \"white\", \"ticks\": \"\", \"title\": {\"standoff\": 15}, \"zerolinecolor\": \"white\", \"zerolinewidth\": 2}}}, \"title\": {\"text\": \"State of the Cluster\"}, \"width\": 800, \"xaxis\": {\"anchor\": \"y\", \"domain\": [0.0, 1.0], \"matches\": \"x4\", \"showticklabels\": false, \"title\": {\"text\": \"time in s\"}}, \"xaxis2\": {\"anchor\": \"y2\", \"domain\": [0.0, 1.0], \"matches\": \"x4\", \"showticklabels\": false, \"title\": {\"text\": \"time in s\"}}, \"xaxis3\": {\"anchor\": \"y3\", \"domain\": [0.0, 1.0], \"matches\": \"x4\", \"showticklabels\": false, \"title\": {\"text\": \"time in s\"}}, \"xaxis4\": {\"anchor\": \"y4\", \"domain\": [0.0, 1.0], \"title\": {\"text\": \"time in s\"}}, \"yaxis\": {\"anchor\": \"x\", \"domain\": [0.84375, 1.0], \"title\": {\"text\": \"dataflow in MB/s\"}}, \"yaxis2\": {\"anchor\": \"x2\", \"domain\": [0.5625, 0.71875], \"title\": {\"text\": \"CPU usage\"}}, \"yaxis3\": {\"anchor\": \"x3\", \"domain\": [0.28125, 0.4375], \"title\": {\"text\": \"SSD usage in %\"}}, \"yaxis4\": {\"anchor\": \"x4\", \"domain\": [0.0, 0.15625], \"title\": {\"text\": \"NVRAM usage in %\"}}},\n",
       "                        {\"responsive\": true}\n",
       "                    ).then(function(){\n",
       "                            \n",
       "var gd = document.getElementById('006b6a87-1a63-4b38-bf9e-99307c51438a');\n",
       "var x = new MutationObserver(function (mutations, observer) {{\n",
       "        var display = window.getComputedStyle(gd).display;\n",
       "        if (!display || display === 'none') {{\n",
       "            console.log([gd, 'removed!']);\n",
       "            Plotly.purge(gd);\n",
       "            observer.disconnect();\n",
       "        }}\n",
       "}});\n",
       "\n",
       "// Listen for the removal of the full notebook cells\n",
       "var notebookContainer = gd.closest('#notebook-container');\n",
       "if (notebookContainer) {{\n",
       "    x.observe(notebookContainer, {childList: true});\n",
       "}}\n",
       "\n",
       "// Listen for the clearing of the current output cell\n",
       "var outputEl = gd.closest('.output');\n",
       "if (outputEl) {{\n",
       "    x.observe(outputEl, {childList: true});\n",
       "}}\n",
       "\n",
       "                        })\n",
       "                };\n",
       "                });\n",
       "            </script>\n",
       "        </div>"
      ]
     },
     "metadata": {},
     "output_type": "display_data"
    }
   ],
   "source": [
    "start_time = time.time()\n",
    "# execution the simulation env\n",
    "env.run()\n",
    "print(f\"Execution time = {time.time()-start_time} seconds\")\n",
    "\n",
    "def print_app_data(data):\n",
    "    for item in data.items:\n",
    "        print(item)\n",
    "print_app_data(data)\n",
    "fig = display_run(data, cluster, width=800, height=800)\n",
    "fig.show()"
   ]
  },
  {
   "cell_type": "markdown",
   "metadata": {},
   "source": [
    "#### Concurrent I/O\n",
    "nvram_bandwidth :\n",
    "-  'read':  {'seq': 780, 'rand': 760},   # throughput for read ops in MB/s\n",
    "-  'write': {'seq': 515, 'rand': 505}}   # throughput for write ops in MB/s\n",
    "\n",
    "ssd_bandwidth :\n",
    "-   'read':  {'seq': 210, 'rand': 190}\n",
    "-   'write': {'seq': 100, 'rand': 100}"
   ]
  },
  {
   "cell_type": "code",
   "execution_count": 33,
   "metadata": {},
   "outputs": [
    {
     "data": {
      "application/vnd.plotly.v1+json": {
       "config": {
        "plotlyServerURL": "https://plot.ly"
       },
       "data": [
        {
         "line": {
          "shape": "hvh"
         },
         "name": "#read1G->comp2s->write3G",
         "showlegend": false,
         "text": [
          "READ|to/from:NVRAM|volume=1.0 GB",
          "READ|to/from:NVRAM|volume=1.0 GB",
          "COMPUTE|volume=0B",
          "COMPUTE|volume=0B",
          "WRITE|to/from:NVRAM|volume=3.0 GB",
          "WRITE|to/from:NVRAM|volume=3.0 GB"
         ],
         "textposition": "top center",
         "type": "scatter",
         "x": [
          0,
          2.5641025641025643,
          2.5641025641025643,
          4.564102564102564,
          4.564102564102564,
          10.389345282549165
         ],
         "xaxis": "x",
         "y": [
          390,
          390,
          0,
          0,
          515,
          515
         ],
         "yaxis": "y"
        },
        {
         "line": {
          "shape": "hvh"
         },
         "name": "#read2G->comp1s->write1G",
         "showlegend": false,
         "text": [
          "READ|to/from:NVRAM|volume=1.0 GB",
          "READ|to/from:NVRAM|volume=1.0 GB",
          "READ|to/from:NVRAM|volume=1.0 GB",
          "READ|to/from:NVRAM|volume=1.0 GB",
          "COMPUTE|volume=0B",
          "COMPUTE|volume=0B",
          "WRITE|to/from:NVRAM|volume=1.0 GB",
          "WRITE|to/from:NVRAM|volume=1.0 GB"
         ],
         "textposition": "top center",
         "type": "scatter",
         "x": [
          0,
          2.5641025641025643,
          2.5641025641025643,
          3.8461538461538463,
          3.8461538461538463,
          7.846153846153847,
          7.846153846153847,
          11.729648991784915
         ],
         "xaxis": "x2",
         "y": [
          390,
          390,
          780,
          780,
          0,
          0,
          257.5,
          257.5
         ],
         "yaxis": "y2"
        },
        {
         "line": {
          "shape": "hv"
         },
         "showlegend": false,
         "type": "scatter",
         "x": [
          0,
          2.5641025641025643,
          3.8461538461538463,
          4.564102564102564,
          7.846153846153847,
          10.389345282549165,
          11.729648991784915
         ],
         "xaxis": "x3",
         "y": [
          2,
          2,
          2,
          2,
          2,
          1,
          0
         ],
         "yaxis": "y3"
        },
        {
         "line": {
          "color": "red",
          "dash": "dot",
          "shape": "hv",
          "width": 3
         },
         "showlegend": false,
         "text": [
          "Maximum available cores in cluster=2",
          "Maximum available cores in cluster=2"
         ],
         "type": "scatter",
         "x": [
          0,
          11.729648991784915
         ],
         "xaxis": "x3",
         "y": [
          2,
          2
         ],
         "yaxis": "y3"
        },
        {
         "line": {
          "shape": "vh"
         },
         "name": "SSD",
         "showlegend": false,
         "text": [
          "#read1G->comp2s->write3G|Read|NVRAM | +volume=1.0 GB",
          "#read2G->comp1s->write1G|Read|NVRAM | +volume=1.0 GB",
          "#read2G->comp1s->write1G|Read|NVRAM | +volume=1.0 GB",
          "#read1G->comp2s->write3G|Compute | +volume=0B",
          "#read2G->comp1s->write1G|Compute | +volume=0B",
          "#read1G->comp2s->write3G|Write|NVRAM | +volume=3.0 GB",
          "#read2G->comp1s->write1G|Write|NVRAM | +volume=1.0 GB"
         ],
         "textposition": "top center",
         "type": "scatter",
         "x": [
          0,
          2.5641025641025643,
          2.5641025641025643,
          3.8461538461538463,
          4.564102564102564,
          7.846153846153847,
          10.389345282549165,
          11.729648991784915
         ],
         "xaxis": "x4",
         "y": [
          0,
          0,
          0,
          0,
          0,
          0,
          0,
          0
         ],
         "yaxis": "y4"
        },
        {
         "line": {
          "shape": "vh"
         },
         "name": "NVRAM",
         "showlegend": false,
         "text": [
          "#read1G->comp2s->write3G|Read|NVRAM | +volume=1.0 GB",
          "#read2G->comp1s->write1G|Read|NVRAM | +volume=1.0 GB",
          "#read2G->comp1s->write1G|Read|NVRAM | +volume=1.0 GB",
          "#read1G->comp2s->write3G|Compute | +volume=0B",
          "#read2G->comp1s->write1G|Compute | +volume=0B",
          "#read1G->comp2s->write3G|Write|NVRAM | +volume=3.0 GB",
          "#read2G->comp1s->write1G|Write|NVRAM | +volume=1.0 GB"
         ],
         "textposition": "top center",
         "type": "scatter",
         "x": [
          0,
          2.5641025641025643,
          2.5641025641025643,
          3.8461538461538463,
          4.564102564102564,
          7.846153846153847,
          10.389345282549165,
          11.729648991784915
         ],
         "xaxis": "x5",
         "y": [
          0,
          2.5,
          2.5,
          2.5,
          2.5,
          2.5,
          6.25,
          7.5
         ],
         "yaxis": "y5"
        }
       ],
       "layout": {
        "annotations": [
         {
          "font": {
           "size": 16
          },
          "showarrow": false,
          "text": "#read1G->comp2s->write3G",
          "x": 0.5,
          "xanchor": "center",
          "xref": "paper",
          "y": 1,
          "yanchor": "bottom",
          "yref": "paper"
         },
         {
          "font": {
           "size": 16
          },
          "showarrow": false,
          "text": "#read2G->comp1s->write1G",
          "x": 0.5,
          "xanchor": "center",
          "xref": "paper",
          "y": 0.78,
          "yanchor": "bottom",
          "yref": "paper"
         },
         {
          "font": {
           "size": 16
          },
          "showarrow": false,
          "text": "CPU Cores",
          "x": 0.5,
          "xanchor": "center",
          "xref": "paper",
          "y": 0.56,
          "yanchor": "bottom",
          "yref": "paper"
         },
         {
          "font": {
           "size": 16
          },
          "showarrow": false,
          "text": "SSD (200.0 GB)",
          "x": 0.5,
          "xanchor": "center",
          "xref": "paper",
          "y": 0.33999999999999997,
          "yanchor": "bottom",
          "yref": "paper"
         },
         {
          "font": {
           "size": 16
          },
          "showarrow": false,
          "text": "NVRAM (80.0 GB)",
          "x": 0.5,
          "xanchor": "center",
          "xref": "paper",
          "y": 0.12,
          "yanchor": "bottom",
          "yref": "paper"
         }
        ],
        "height": 900,
        "template": {
         "data": {
          "bar": [
           {
            "error_x": {
             "color": "#2a3f5f"
            },
            "error_y": {
             "color": "#2a3f5f"
            },
            "marker": {
             "line": {
              "color": "#E5ECF6",
              "width": 0.5
             }
            },
            "type": "bar"
           }
          ],
          "barpolar": [
           {
            "marker": {
             "line": {
              "color": "#E5ECF6",
              "width": 0.5
             }
            },
            "type": "barpolar"
           }
          ],
          "carpet": [
           {
            "aaxis": {
             "endlinecolor": "#2a3f5f",
             "gridcolor": "white",
             "linecolor": "white",
             "minorgridcolor": "white",
             "startlinecolor": "#2a3f5f"
            },
            "baxis": {
             "endlinecolor": "#2a3f5f",
             "gridcolor": "white",
             "linecolor": "white",
             "minorgridcolor": "white",
             "startlinecolor": "#2a3f5f"
            },
            "type": "carpet"
           }
          ],
          "choropleth": [
           {
            "colorbar": {
             "outlinewidth": 0,
             "ticks": ""
            },
            "type": "choropleth"
           }
          ],
          "contour": [
           {
            "colorbar": {
             "outlinewidth": 0,
             "ticks": ""
            },
            "colorscale": [
             [
              0,
              "#0d0887"
             ],
             [
              0.1111111111111111,
              "#46039f"
             ],
             [
              0.2222222222222222,
              "#7201a8"
             ],
             [
              0.3333333333333333,
              "#9c179e"
             ],
             [
              0.4444444444444444,
              "#bd3786"
             ],
             [
              0.5555555555555556,
              "#d8576b"
             ],
             [
              0.6666666666666666,
              "#ed7953"
             ],
             [
              0.7777777777777778,
              "#fb9f3a"
             ],
             [
              0.8888888888888888,
              "#fdca26"
             ],
             [
              1,
              "#f0f921"
             ]
            ],
            "type": "contour"
           }
          ],
          "contourcarpet": [
           {
            "colorbar": {
             "outlinewidth": 0,
             "ticks": ""
            },
            "type": "contourcarpet"
           }
          ],
          "heatmap": [
           {
            "colorbar": {
             "outlinewidth": 0,
             "ticks": ""
            },
            "colorscale": [
             [
              0,
              "#0d0887"
             ],
             [
              0.1111111111111111,
              "#46039f"
             ],
             [
              0.2222222222222222,
              "#7201a8"
             ],
             [
              0.3333333333333333,
              "#9c179e"
             ],
             [
              0.4444444444444444,
              "#bd3786"
             ],
             [
              0.5555555555555556,
              "#d8576b"
             ],
             [
              0.6666666666666666,
              "#ed7953"
             ],
             [
              0.7777777777777778,
              "#fb9f3a"
             ],
             [
              0.8888888888888888,
              "#fdca26"
             ],
             [
              1,
              "#f0f921"
             ]
            ],
            "type": "heatmap"
           }
          ],
          "heatmapgl": [
           {
            "colorbar": {
             "outlinewidth": 0,
             "ticks": ""
            },
            "colorscale": [
             [
              0,
              "#0d0887"
             ],
             [
              0.1111111111111111,
              "#46039f"
             ],
             [
              0.2222222222222222,
              "#7201a8"
             ],
             [
              0.3333333333333333,
              "#9c179e"
             ],
             [
              0.4444444444444444,
              "#bd3786"
             ],
             [
              0.5555555555555556,
              "#d8576b"
             ],
             [
              0.6666666666666666,
              "#ed7953"
             ],
             [
              0.7777777777777778,
              "#fb9f3a"
             ],
             [
              0.8888888888888888,
              "#fdca26"
             ],
             [
              1,
              "#f0f921"
             ]
            ],
            "type": "heatmapgl"
           }
          ],
          "histogram": [
           {
            "marker": {
             "colorbar": {
              "outlinewidth": 0,
              "ticks": ""
             }
            },
            "type": "histogram"
           }
          ],
          "histogram2d": [
           {
            "colorbar": {
             "outlinewidth": 0,
             "ticks": ""
            },
            "colorscale": [
             [
              0,
              "#0d0887"
             ],
             [
              0.1111111111111111,
              "#46039f"
             ],
             [
              0.2222222222222222,
              "#7201a8"
             ],
             [
              0.3333333333333333,
              "#9c179e"
             ],
             [
              0.4444444444444444,
              "#bd3786"
             ],
             [
              0.5555555555555556,
              "#d8576b"
             ],
             [
              0.6666666666666666,
              "#ed7953"
             ],
             [
              0.7777777777777778,
              "#fb9f3a"
             ],
             [
              0.8888888888888888,
              "#fdca26"
             ],
             [
              1,
              "#f0f921"
             ]
            ],
            "type": "histogram2d"
           }
          ],
          "histogram2dcontour": [
           {
            "colorbar": {
             "outlinewidth": 0,
             "ticks": ""
            },
            "colorscale": [
             [
              0,
              "#0d0887"
             ],
             [
              0.1111111111111111,
              "#46039f"
             ],
             [
              0.2222222222222222,
              "#7201a8"
             ],
             [
              0.3333333333333333,
              "#9c179e"
             ],
             [
              0.4444444444444444,
              "#bd3786"
             ],
             [
              0.5555555555555556,
              "#d8576b"
             ],
             [
              0.6666666666666666,
              "#ed7953"
             ],
             [
              0.7777777777777778,
              "#fb9f3a"
             ],
             [
              0.8888888888888888,
              "#fdca26"
             ],
             [
              1,
              "#f0f921"
             ]
            ],
            "type": "histogram2dcontour"
           }
          ],
          "mesh3d": [
           {
            "colorbar": {
             "outlinewidth": 0,
             "ticks": ""
            },
            "type": "mesh3d"
           }
          ],
          "parcoords": [
           {
            "line": {
             "colorbar": {
              "outlinewidth": 0,
              "ticks": ""
             }
            },
            "type": "parcoords"
           }
          ],
          "pie": [
           {
            "automargin": true,
            "type": "pie"
           }
          ],
          "scatter": [
           {
            "marker": {
             "colorbar": {
              "outlinewidth": 0,
              "ticks": ""
             }
            },
            "type": "scatter"
           }
          ],
          "scatter3d": [
           {
            "line": {
             "colorbar": {
              "outlinewidth": 0,
              "ticks": ""
             }
            },
            "marker": {
             "colorbar": {
              "outlinewidth": 0,
              "ticks": ""
             }
            },
            "type": "scatter3d"
           }
          ],
          "scattercarpet": [
           {
            "marker": {
             "colorbar": {
              "outlinewidth": 0,
              "ticks": ""
             }
            },
            "type": "scattercarpet"
           }
          ],
          "scattergeo": [
           {
            "marker": {
             "colorbar": {
              "outlinewidth": 0,
              "ticks": ""
             }
            },
            "type": "scattergeo"
           }
          ],
          "scattergl": [
           {
            "marker": {
             "colorbar": {
              "outlinewidth": 0,
              "ticks": ""
             }
            },
            "type": "scattergl"
           }
          ],
          "scattermapbox": [
           {
            "marker": {
             "colorbar": {
              "outlinewidth": 0,
              "ticks": ""
             }
            },
            "type": "scattermapbox"
           }
          ],
          "scatterpolar": [
           {
            "marker": {
             "colorbar": {
              "outlinewidth": 0,
              "ticks": ""
             }
            },
            "type": "scatterpolar"
           }
          ],
          "scatterpolargl": [
           {
            "marker": {
             "colorbar": {
              "outlinewidth": 0,
              "ticks": ""
             }
            },
            "type": "scatterpolargl"
           }
          ],
          "scatterternary": [
           {
            "marker": {
             "colorbar": {
              "outlinewidth": 0,
              "ticks": ""
             }
            },
            "type": "scatterternary"
           }
          ],
          "surface": [
           {
            "colorbar": {
             "outlinewidth": 0,
             "ticks": ""
            },
            "colorscale": [
             [
              0,
              "#0d0887"
             ],
             [
              0.1111111111111111,
              "#46039f"
             ],
             [
              0.2222222222222222,
              "#7201a8"
             ],
             [
              0.3333333333333333,
              "#9c179e"
             ],
             [
              0.4444444444444444,
              "#bd3786"
             ],
             [
              0.5555555555555556,
              "#d8576b"
             ],
             [
              0.6666666666666666,
              "#ed7953"
             ],
             [
              0.7777777777777778,
              "#fb9f3a"
             ],
             [
              0.8888888888888888,
              "#fdca26"
             ],
             [
              1,
              "#f0f921"
             ]
            ],
            "type": "surface"
           }
          ],
          "table": [
           {
            "cells": {
             "fill": {
              "color": "#EBF0F8"
             },
             "line": {
              "color": "white"
             }
            },
            "header": {
             "fill": {
              "color": "#C8D4E3"
             },
             "line": {
              "color": "white"
             }
            },
            "type": "table"
           }
          ]
         },
         "layout": {
          "annotationdefaults": {
           "arrowcolor": "#2a3f5f",
           "arrowhead": 0,
           "arrowwidth": 1
          },
          "coloraxis": {
           "colorbar": {
            "outlinewidth": 0,
            "ticks": ""
           }
          },
          "colorscale": {
           "diverging": [
            [
             0,
             "#8e0152"
            ],
            [
             0.1,
             "#c51b7d"
            ],
            [
             0.2,
             "#de77ae"
            ],
            [
             0.3,
             "#f1b6da"
            ],
            [
             0.4,
             "#fde0ef"
            ],
            [
             0.5,
             "#f7f7f7"
            ],
            [
             0.6,
             "#e6f5d0"
            ],
            [
             0.7,
             "#b8e186"
            ],
            [
             0.8,
             "#7fbc41"
            ],
            [
             0.9,
             "#4d9221"
            ],
            [
             1,
             "#276419"
            ]
           ],
           "sequential": [
            [
             0,
             "#0d0887"
            ],
            [
             0.1111111111111111,
             "#46039f"
            ],
            [
             0.2222222222222222,
             "#7201a8"
            ],
            [
             0.3333333333333333,
             "#9c179e"
            ],
            [
             0.4444444444444444,
             "#bd3786"
            ],
            [
             0.5555555555555556,
             "#d8576b"
            ],
            [
             0.6666666666666666,
             "#ed7953"
            ],
            [
             0.7777777777777778,
             "#fb9f3a"
            ],
            [
             0.8888888888888888,
             "#fdca26"
            ],
            [
             1,
             "#f0f921"
            ]
           ],
           "sequentialminus": [
            [
             0,
             "#0d0887"
            ],
            [
             0.1111111111111111,
             "#46039f"
            ],
            [
             0.2222222222222222,
             "#7201a8"
            ],
            [
             0.3333333333333333,
             "#9c179e"
            ],
            [
             0.4444444444444444,
             "#bd3786"
            ],
            [
             0.5555555555555556,
             "#d8576b"
            ],
            [
             0.6666666666666666,
             "#ed7953"
            ],
            [
             0.7777777777777778,
             "#fb9f3a"
            ],
            [
             0.8888888888888888,
             "#fdca26"
            ],
            [
             1,
             "#f0f921"
            ]
           ]
          },
          "colorway": [
           "#636efa",
           "#EF553B",
           "#00cc96",
           "#ab63fa",
           "#FFA15A",
           "#19d3f3",
           "#FF6692",
           "#B6E880",
           "#FF97FF",
           "#FECB52"
          ],
          "font": {
           "color": "#2a3f5f"
          },
          "geo": {
           "bgcolor": "white",
           "lakecolor": "white",
           "landcolor": "#E5ECF6",
           "showlakes": true,
           "showland": true,
           "subunitcolor": "white"
          },
          "hoverlabel": {
           "align": "left"
          },
          "hovermode": "closest",
          "mapbox": {
           "style": "light"
          },
          "paper_bgcolor": "white",
          "plot_bgcolor": "#E5ECF6",
          "polar": {
           "angularaxis": {
            "gridcolor": "white",
            "linecolor": "white",
            "ticks": ""
           },
           "bgcolor": "#E5ECF6",
           "radialaxis": {
            "gridcolor": "white",
            "linecolor": "white",
            "ticks": ""
           }
          },
          "scene": {
           "xaxis": {
            "backgroundcolor": "#E5ECF6",
            "gridcolor": "white",
            "gridwidth": 2,
            "linecolor": "white",
            "showbackground": true,
            "ticks": "",
            "zerolinecolor": "white"
           },
           "yaxis": {
            "backgroundcolor": "#E5ECF6",
            "gridcolor": "white",
            "gridwidth": 2,
            "linecolor": "white",
            "showbackground": true,
            "ticks": "",
            "zerolinecolor": "white"
           },
           "zaxis": {
            "backgroundcolor": "#E5ECF6",
            "gridcolor": "white",
            "gridwidth": 2,
            "linecolor": "white",
            "showbackground": true,
            "ticks": "",
            "zerolinecolor": "white"
           }
          },
          "shapedefaults": {
           "line": {
            "color": "#2a3f5f"
           }
          },
          "ternary": {
           "aaxis": {
            "gridcolor": "white",
            "linecolor": "white",
            "ticks": ""
           },
           "baxis": {
            "gridcolor": "white",
            "linecolor": "white",
            "ticks": ""
           },
           "bgcolor": "#E5ECF6",
           "caxis": {
            "gridcolor": "white",
            "linecolor": "white",
            "ticks": ""
           }
          },
          "title": {
           "x": 0.05
          },
          "xaxis": {
           "automargin": true,
           "gridcolor": "white",
           "linecolor": "white",
           "ticks": "",
           "title": {
            "standoff": 15
           },
           "zerolinecolor": "white",
           "zerolinewidth": 2
          },
          "yaxis": {
           "automargin": true,
           "gridcolor": "white",
           "linecolor": "white",
           "ticks": "",
           "title": {
            "standoff": 15
           },
           "zerolinecolor": "white",
           "zerolinewidth": 2
          }
         }
        },
        "title": {
         "text": "State of the Cluster"
        },
        "width": 800,
        "xaxis": {
         "anchor": "y",
         "domain": [
          0,
          1
         ],
         "matches": "x5",
         "showticklabels": false,
         "title": {
          "text": "time in s"
         }
        },
        "xaxis2": {
         "anchor": "y2",
         "domain": [
          0,
          1
         ],
         "matches": "x5",
         "showticklabels": false,
         "title": {
          "text": "time in s"
         }
        },
        "xaxis3": {
         "anchor": "y3",
         "domain": [
          0,
          1
         ],
         "matches": "x5",
         "showticklabels": false,
         "title": {
          "text": "time in s"
         }
        },
        "xaxis4": {
         "anchor": "y4",
         "domain": [
          0,
          1
         ],
         "matches": "x5",
         "showticklabels": false,
         "title": {
          "text": "time in s"
         }
        },
        "xaxis5": {
         "anchor": "y5",
         "domain": [
          0,
          1
         ],
         "title": {
          "text": "time in s"
         }
        },
        "yaxis": {
         "anchor": "x",
         "domain": [
          0.88,
          1
         ],
         "title": {
          "text": "dataflow in MB/s"
         }
        },
        "yaxis2": {
         "anchor": "x2",
         "domain": [
          0.66,
          0.78
         ],
         "title": {
          "text": "dataflow in MB/s"
         }
        },
        "yaxis3": {
         "anchor": "x3",
         "domain": [
          0.44,
          0.56
         ],
         "title": {
          "text": "CPU usage"
         }
        },
        "yaxis4": {
         "anchor": "x4",
         "domain": [
          0.22,
          0.33999999999999997
         ],
         "title": {
          "text": "SSD usage in %"
         }
        },
        "yaxis5": {
         "anchor": "x5",
         "domain": [
          0,
          0.12
         ],
         "title": {
          "text": "NVRAM usage in %"
         }
        }
       }
      },
      "text/html": [
       "<div>\n",
       "        \n",
       "        \n",
       "            <div id=\"87db89d9-a018-4b8d-9dc1-d126d92d80ae\" class=\"plotly-graph-div\" style=\"height:900px; width:800px;\"></div>\n",
       "            <script type=\"text/javascript\">\n",
       "                require([\"plotly\"], function(Plotly) {\n",
       "                    window.PLOTLYENV=window.PLOTLYENV || {};\n",
       "                    \n",
       "                if (document.getElementById(\"87db89d9-a018-4b8d-9dc1-d126d92d80ae\")) {\n",
       "                    Plotly.newPlot(\n",
       "                        '87db89d9-a018-4b8d-9dc1-d126d92d80ae',\n",
       "                        [{\"line\": {\"shape\": \"hvh\"}, \"name\": \"#read1G->comp2s->write3G\", \"showlegend\": false, \"text\": [\"READ|to/from:NVRAM|volume=1.0 GB\", \"READ|to/from:NVRAM|volume=1.0 GB\", \"COMPUTE|volume=0B\", \"COMPUTE|volume=0B\", \"WRITE|to/from:NVRAM|volume=3.0 GB\", \"WRITE|to/from:NVRAM|volume=3.0 GB\"], \"textposition\": \"top center\", \"type\": \"scatter\", \"x\": [0.0, 2.5641025641025643, 2.5641025641025643, 4.564102564102564, 4.564102564102564, 10.389345282549165], \"xaxis\": \"x\", \"y\": [390.0, 390.0, 0.0, 0.0, 515.0, 515.0], \"yaxis\": \"y\"}, {\"line\": {\"shape\": \"hvh\"}, \"name\": \"#read2G->comp1s->write1G\", \"showlegend\": false, \"text\": [\"READ|to/from:NVRAM|volume=1.0 GB\", \"READ|to/from:NVRAM|volume=1.0 GB\", \"READ|to/from:NVRAM|volume=1.0 GB\", \"READ|to/from:NVRAM|volume=1.0 GB\", \"COMPUTE|volume=0B\", \"COMPUTE|volume=0B\", \"WRITE|to/from:NVRAM|volume=1.0 GB\", \"WRITE|to/from:NVRAM|volume=1.0 GB\"], \"textposition\": \"top center\", \"type\": \"scatter\", \"x\": [0.0, 2.5641025641025643, 2.5641025641025643, 3.8461538461538463, 3.8461538461538463, 7.846153846153847, 7.846153846153847, 11.729648991784915], \"xaxis\": \"x2\", \"y\": [390.0, 390.0, 780.0, 780.0, 0.0, 0.0, 257.5, 257.5], \"yaxis\": \"y2\"}, {\"line\": {\"shape\": \"hv\"}, \"showlegend\": false, \"type\": \"scatter\", \"x\": [0.0, 2.5641025641025643, 3.8461538461538463, 4.564102564102564, 7.846153846153847, 10.389345282549165, 11.729648991784915], \"xaxis\": \"x3\", \"y\": [2, 2, 2, 2, 2, 1, 0], \"yaxis\": \"y3\"}, {\"line\": {\"color\": \"red\", \"dash\": \"dot\", \"shape\": \"hv\", \"width\": 3}, \"showlegend\": false, \"text\": [\"Maximum available cores in cluster=2\", \"Maximum available cores in cluster=2\"], \"type\": \"scatter\", \"x\": [0.0, 11.729648991784915], \"xaxis\": \"x3\", \"y\": [2, 2], \"yaxis\": \"y3\"}, {\"line\": {\"shape\": \"vh\"}, \"name\": \"SSD\", \"showlegend\": false, \"text\": [\"#read1G->comp2s->write3G|Read|NVRAM | +volume=1.0 GB\", \"#read2G->comp1s->write1G|Read|NVRAM | +volume=1.0 GB\", \"#read2G->comp1s->write1G|Read|NVRAM | +volume=1.0 GB\", \"#read1G->comp2s->write3G|Compute | +volume=0B\", \"#read2G->comp1s->write1G|Compute | +volume=0B\", \"#read1G->comp2s->write3G|Write|NVRAM | +volume=3.0 GB\", \"#read2G->comp1s->write1G|Write|NVRAM | +volume=1.0 GB\"], \"textposition\": \"top center\", \"type\": \"scatter\", \"x\": [0.0, 2.5641025641025643, 2.5641025641025643, 3.8461538461538463, 4.564102564102564, 7.846153846153847, 10.389345282549165, 11.729648991784915], \"xaxis\": \"x4\", \"y\": [0.0, 0.0, 0.0, 0.0, 0.0, 0.0, 0.0, 0.0], \"yaxis\": \"y4\"}, {\"line\": {\"shape\": \"vh\"}, \"name\": \"NVRAM\", \"showlegend\": false, \"text\": [\"#read1G->comp2s->write3G|Read|NVRAM | +volume=1.0 GB\", \"#read2G->comp1s->write1G|Read|NVRAM | +volume=1.0 GB\", \"#read2G->comp1s->write1G|Read|NVRAM | +volume=1.0 GB\", \"#read1G->comp2s->write3G|Compute | +volume=0B\", \"#read2G->comp1s->write1G|Compute | +volume=0B\", \"#read1G->comp2s->write3G|Write|NVRAM | +volume=3.0 GB\", \"#read2G->comp1s->write1G|Write|NVRAM | +volume=1.0 GB\"], \"textposition\": \"top center\", \"type\": \"scatter\", \"x\": [0.0, 2.5641025641025643, 2.5641025641025643, 3.8461538461538463, 4.564102564102564, 7.846153846153847, 10.389345282549165, 11.729648991784915], \"xaxis\": \"x5\", \"y\": [0.0, 2.5, 2.5, 2.5, 2.5, 2.5, 6.25, 7.5], \"yaxis\": \"y5\"}],\n",
       "                        {\"annotations\": [{\"font\": {\"size\": 16}, \"showarrow\": false, \"text\": \"#read1G->comp2s->write3G\", \"x\": 0.5, \"xanchor\": \"center\", \"xref\": \"paper\", \"y\": 1.0, \"yanchor\": \"bottom\", \"yref\": \"paper\"}, {\"font\": {\"size\": 16}, \"showarrow\": false, \"text\": \"#read2G->comp1s->write1G\", \"x\": 0.5, \"xanchor\": \"center\", \"xref\": \"paper\", \"y\": 0.78, \"yanchor\": \"bottom\", \"yref\": \"paper\"}, {\"font\": {\"size\": 16}, \"showarrow\": false, \"text\": \"CPU Cores\", \"x\": 0.5, \"xanchor\": \"center\", \"xref\": \"paper\", \"y\": 0.56, \"yanchor\": \"bottom\", \"yref\": \"paper\"}, {\"font\": {\"size\": 16}, \"showarrow\": false, \"text\": \"SSD (200.0 GB)\", \"x\": 0.5, \"xanchor\": \"center\", \"xref\": \"paper\", \"y\": 0.33999999999999997, \"yanchor\": \"bottom\", \"yref\": \"paper\"}, {\"font\": {\"size\": 16}, \"showarrow\": false, \"text\": \"NVRAM (80.0 GB)\", \"x\": 0.5, \"xanchor\": \"center\", \"xref\": \"paper\", \"y\": 0.12, \"yanchor\": \"bottom\", \"yref\": \"paper\"}], \"height\": 900, \"template\": {\"data\": {\"bar\": [{\"error_x\": {\"color\": \"#2a3f5f\"}, \"error_y\": {\"color\": \"#2a3f5f\"}, \"marker\": {\"line\": {\"color\": \"#E5ECF6\", \"width\": 0.5}}, \"type\": \"bar\"}], \"barpolar\": [{\"marker\": {\"line\": {\"color\": \"#E5ECF6\", \"width\": 0.5}}, \"type\": \"barpolar\"}], \"carpet\": [{\"aaxis\": {\"endlinecolor\": \"#2a3f5f\", \"gridcolor\": \"white\", \"linecolor\": \"white\", \"minorgridcolor\": \"white\", \"startlinecolor\": \"#2a3f5f\"}, \"baxis\": {\"endlinecolor\": \"#2a3f5f\", \"gridcolor\": \"white\", \"linecolor\": \"white\", \"minorgridcolor\": \"white\", \"startlinecolor\": \"#2a3f5f\"}, \"type\": \"carpet\"}], \"choropleth\": [{\"colorbar\": {\"outlinewidth\": 0, \"ticks\": \"\"}, \"type\": \"choropleth\"}], \"contour\": [{\"colorbar\": {\"outlinewidth\": 0, \"ticks\": \"\"}, \"colorscale\": [[0.0, \"#0d0887\"], [0.1111111111111111, \"#46039f\"], [0.2222222222222222, \"#7201a8\"], [0.3333333333333333, \"#9c179e\"], [0.4444444444444444, \"#bd3786\"], [0.5555555555555556, \"#d8576b\"], [0.6666666666666666, \"#ed7953\"], [0.7777777777777778, \"#fb9f3a\"], [0.8888888888888888, \"#fdca26\"], [1.0, \"#f0f921\"]], \"type\": \"contour\"}], \"contourcarpet\": [{\"colorbar\": {\"outlinewidth\": 0, \"ticks\": \"\"}, \"type\": \"contourcarpet\"}], \"heatmap\": [{\"colorbar\": {\"outlinewidth\": 0, \"ticks\": \"\"}, \"colorscale\": [[0.0, \"#0d0887\"], [0.1111111111111111, \"#46039f\"], [0.2222222222222222, \"#7201a8\"], [0.3333333333333333, \"#9c179e\"], [0.4444444444444444, \"#bd3786\"], [0.5555555555555556, \"#d8576b\"], [0.6666666666666666, \"#ed7953\"], [0.7777777777777778, \"#fb9f3a\"], [0.8888888888888888, \"#fdca26\"], [1.0, \"#f0f921\"]], \"type\": \"heatmap\"}], \"heatmapgl\": [{\"colorbar\": {\"outlinewidth\": 0, \"ticks\": \"\"}, \"colorscale\": [[0.0, \"#0d0887\"], [0.1111111111111111, \"#46039f\"], [0.2222222222222222, \"#7201a8\"], [0.3333333333333333, \"#9c179e\"], [0.4444444444444444, \"#bd3786\"], [0.5555555555555556, \"#d8576b\"], [0.6666666666666666, \"#ed7953\"], [0.7777777777777778, \"#fb9f3a\"], [0.8888888888888888, \"#fdca26\"], [1.0, \"#f0f921\"]], \"type\": \"heatmapgl\"}], \"histogram\": [{\"marker\": {\"colorbar\": {\"outlinewidth\": 0, \"ticks\": \"\"}}, \"type\": \"histogram\"}], \"histogram2d\": [{\"colorbar\": {\"outlinewidth\": 0, \"ticks\": \"\"}, \"colorscale\": [[0.0, \"#0d0887\"], [0.1111111111111111, \"#46039f\"], [0.2222222222222222, \"#7201a8\"], [0.3333333333333333, \"#9c179e\"], [0.4444444444444444, \"#bd3786\"], [0.5555555555555556, \"#d8576b\"], [0.6666666666666666, \"#ed7953\"], [0.7777777777777778, \"#fb9f3a\"], [0.8888888888888888, \"#fdca26\"], [1.0, \"#f0f921\"]], \"type\": \"histogram2d\"}], \"histogram2dcontour\": [{\"colorbar\": {\"outlinewidth\": 0, \"ticks\": \"\"}, \"colorscale\": [[0.0, \"#0d0887\"], [0.1111111111111111, \"#46039f\"], [0.2222222222222222, \"#7201a8\"], [0.3333333333333333, \"#9c179e\"], [0.4444444444444444, \"#bd3786\"], [0.5555555555555556, \"#d8576b\"], [0.6666666666666666, \"#ed7953\"], [0.7777777777777778, \"#fb9f3a\"], [0.8888888888888888, \"#fdca26\"], [1.0, \"#f0f921\"]], \"type\": \"histogram2dcontour\"}], \"mesh3d\": [{\"colorbar\": {\"outlinewidth\": 0, \"ticks\": \"\"}, \"type\": \"mesh3d\"}], \"parcoords\": [{\"line\": {\"colorbar\": {\"outlinewidth\": 0, \"ticks\": \"\"}}, \"type\": \"parcoords\"}], \"pie\": [{\"automargin\": true, \"type\": \"pie\"}], \"scatter\": [{\"marker\": {\"colorbar\": {\"outlinewidth\": 0, \"ticks\": \"\"}}, \"type\": \"scatter\"}], \"scatter3d\": [{\"line\": {\"colorbar\": {\"outlinewidth\": 0, \"ticks\": \"\"}}, \"marker\": {\"colorbar\": {\"outlinewidth\": 0, \"ticks\": \"\"}}, \"type\": \"scatter3d\"}], \"scattercarpet\": [{\"marker\": {\"colorbar\": {\"outlinewidth\": 0, \"ticks\": \"\"}}, \"type\": \"scattercarpet\"}], \"scattergeo\": [{\"marker\": {\"colorbar\": {\"outlinewidth\": 0, \"ticks\": \"\"}}, \"type\": \"scattergeo\"}], \"scattergl\": [{\"marker\": {\"colorbar\": {\"outlinewidth\": 0, \"ticks\": \"\"}}, \"type\": \"scattergl\"}], \"scattermapbox\": [{\"marker\": {\"colorbar\": {\"outlinewidth\": 0, \"ticks\": \"\"}}, \"type\": \"scattermapbox\"}], \"scatterpolar\": [{\"marker\": {\"colorbar\": {\"outlinewidth\": 0, \"ticks\": \"\"}}, \"type\": \"scatterpolar\"}], \"scatterpolargl\": [{\"marker\": {\"colorbar\": {\"outlinewidth\": 0, \"ticks\": \"\"}}, \"type\": \"scatterpolargl\"}], \"scatterternary\": [{\"marker\": {\"colorbar\": {\"outlinewidth\": 0, \"ticks\": \"\"}}, \"type\": \"scatterternary\"}], \"surface\": [{\"colorbar\": {\"outlinewidth\": 0, \"ticks\": \"\"}, \"colorscale\": [[0.0, \"#0d0887\"], [0.1111111111111111, \"#46039f\"], [0.2222222222222222, \"#7201a8\"], [0.3333333333333333, \"#9c179e\"], [0.4444444444444444, \"#bd3786\"], [0.5555555555555556, \"#d8576b\"], [0.6666666666666666, \"#ed7953\"], [0.7777777777777778, \"#fb9f3a\"], [0.8888888888888888, \"#fdca26\"], [1.0, \"#f0f921\"]], \"type\": \"surface\"}], \"table\": [{\"cells\": {\"fill\": {\"color\": \"#EBF0F8\"}, \"line\": {\"color\": \"white\"}}, \"header\": {\"fill\": {\"color\": \"#C8D4E3\"}, \"line\": {\"color\": \"white\"}}, \"type\": \"table\"}]}, \"layout\": {\"annotationdefaults\": {\"arrowcolor\": \"#2a3f5f\", \"arrowhead\": 0, \"arrowwidth\": 1}, \"coloraxis\": {\"colorbar\": {\"outlinewidth\": 0, \"ticks\": \"\"}}, \"colorscale\": {\"diverging\": [[0, \"#8e0152\"], [0.1, \"#c51b7d\"], [0.2, \"#de77ae\"], [0.3, \"#f1b6da\"], [0.4, \"#fde0ef\"], [0.5, \"#f7f7f7\"], [0.6, \"#e6f5d0\"], [0.7, \"#b8e186\"], [0.8, \"#7fbc41\"], [0.9, \"#4d9221\"], [1, \"#276419\"]], \"sequential\": [[0.0, \"#0d0887\"], [0.1111111111111111, \"#46039f\"], [0.2222222222222222, \"#7201a8\"], [0.3333333333333333, \"#9c179e\"], [0.4444444444444444, \"#bd3786\"], [0.5555555555555556, \"#d8576b\"], [0.6666666666666666, \"#ed7953\"], [0.7777777777777778, \"#fb9f3a\"], [0.8888888888888888, \"#fdca26\"], [1.0, \"#f0f921\"]], \"sequentialminus\": [[0.0, \"#0d0887\"], [0.1111111111111111, \"#46039f\"], [0.2222222222222222, \"#7201a8\"], [0.3333333333333333, \"#9c179e\"], [0.4444444444444444, \"#bd3786\"], [0.5555555555555556, \"#d8576b\"], [0.6666666666666666, \"#ed7953\"], [0.7777777777777778, \"#fb9f3a\"], [0.8888888888888888, \"#fdca26\"], [1.0, \"#f0f921\"]]}, \"colorway\": [\"#636efa\", \"#EF553B\", \"#00cc96\", \"#ab63fa\", \"#FFA15A\", \"#19d3f3\", \"#FF6692\", \"#B6E880\", \"#FF97FF\", \"#FECB52\"], \"font\": {\"color\": \"#2a3f5f\"}, \"geo\": {\"bgcolor\": \"white\", \"lakecolor\": \"white\", \"landcolor\": \"#E5ECF6\", \"showlakes\": true, \"showland\": true, \"subunitcolor\": \"white\"}, \"hoverlabel\": {\"align\": \"left\"}, \"hovermode\": \"closest\", \"mapbox\": {\"style\": \"light\"}, \"paper_bgcolor\": \"white\", \"plot_bgcolor\": \"#E5ECF6\", \"polar\": {\"angularaxis\": {\"gridcolor\": \"white\", \"linecolor\": \"white\", \"ticks\": \"\"}, \"bgcolor\": \"#E5ECF6\", \"radialaxis\": {\"gridcolor\": \"white\", \"linecolor\": \"white\", \"ticks\": \"\"}}, \"scene\": {\"xaxis\": {\"backgroundcolor\": \"#E5ECF6\", \"gridcolor\": \"white\", \"gridwidth\": 2, \"linecolor\": \"white\", \"showbackground\": true, \"ticks\": \"\", \"zerolinecolor\": \"white\"}, \"yaxis\": {\"backgroundcolor\": \"#E5ECF6\", \"gridcolor\": \"white\", \"gridwidth\": 2, \"linecolor\": \"white\", \"showbackground\": true, \"ticks\": \"\", \"zerolinecolor\": \"white\"}, \"zaxis\": {\"backgroundcolor\": \"#E5ECF6\", \"gridcolor\": \"white\", \"gridwidth\": 2, \"linecolor\": \"white\", \"showbackground\": true, \"ticks\": \"\", \"zerolinecolor\": \"white\"}}, \"shapedefaults\": {\"line\": {\"color\": \"#2a3f5f\"}}, \"ternary\": {\"aaxis\": {\"gridcolor\": \"white\", \"linecolor\": \"white\", \"ticks\": \"\"}, \"baxis\": {\"gridcolor\": \"white\", \"linecolor\": \"white\", \"ticks\": \"\"}, \"bgcolor\": \"#E5ECF6\", \"caxis\": {\"gridcolor\": \"white\", \"linecolor\": \"white\", \"ticks\": \"\"}}, \"title\": {\"x\": 0.05}, \"xaxis\": {\"automargin\": true, \"gridcolor\": \"white\", \"linecolor\": \"white\", \"ticks\": \"\", \"title\": {\"standoff\": 15}, \"zerolinecolor\": \"white\", \"zerolinewidth\": 2}, \"yaxis\": {\"automargin\": true, \"gridcolor\": \"white\", \"linecolor\": \"white\", \"ticks\": \"\", \"title\": {\"standoff\": 15}, \"zerolinecolor\": \"white\", \"zerolinewidth\": 2}}}, \"title\": {\"text\": \"State of the Cluster\"}, \"width\": 800, \"xaxis\": {\"anchor\": \"y\", \"domain\": [0.0, 1.0], \"matches\": \"x5\", \"showticklabels\": false, \"title\": {\"text\": \"time in s\"}}, \"xaxis2\": {\"anchor\": \"y2\", \"domain\": [0.0, 1.0], \"matches\": \"x5\", \"showticklabels\": false, \"title\": {\"text\": \"time in s\"}}, \"xaxis3\": {\"anchor\": \"y3\", \"domain\": [0.0, 1.0], \"matches\": \"x5\", \"showticklabels\": false, \"title\": {\"text\": \"time in s\"}}, \"xaxis4\": {\"anchor\": \"y4\", \"domain\": [0.0, 1.0], \"matches\": \"x5\", \"showticklabels\": false, \"title\": {\"text\": \"time in s\"}}, \"xaxis5\": {\"anchor\": \"y5\", \"domain\": [0.0, 1.0], \"title\": {\"text\": \"time in s\"}}, \"yaxis\": {\"anchor\": \"x\", \"domain\": [0.88, 1.0], \"title\": {\"text\": \"dataflow in MB/s\"}}, \"yaxis2\": {\"anchor\": \"x2\", \"domain\": [0.66, 0.78], \"title\": {\"text\": \"dataflow in MB/s\"}}, \"yaxis3\": {\"anchor\": \"x3\", \"domain\": [0.44, 0.56], \"title\": {\"text\": \"CPU usage\"}}, \"yaxis4\": {\"anchor\": \"x4\", \"domain\": [0.22, 0.33999999999999997], \"title\": {\"text\": \"SSD usage in %\"}}, \"yaxis5\": {\"anchor\": \"x5\", \"domain\": [0.0, 0.12], \"title\": {\"text\": \"NVRAM usage in %\"}}},\n",
       "                        {\"responsive\": true}\n",
       "                    ).then(function(){\n",
       "                            \n",
       "var gd = document.getElementById('87db89d9-a018-4b8d-9dc1-d126d92d80ae');\n",
       "var x = new MutationObserver(function (mutations, observer) {{\n",
       "        var display = window.getComputedStyle(gd).display;\n",
       "        if (!display || display === 'none') {{\n",
       "            console.log([gd, 'removed!']);\n",
       "            Plotly.purge(gd);\n",
       "            observer.disconnect();\n",
       "        }}\n",
       "}});\n",
       "\n",
       "// Listen for the removal of the full notebook cells\n",
       "var notebookContainer = gd.closest('#notebook-container');\n",
       "if (notebookContainer) {{\n",
       "    x.observe(notebookContainer, {childList: true});\n",
       "}}\n",
       "\n",
       "// Listen for the clearing of the current output cell\n",
       "var outputEl = gd.closest('.output');\n",
       "if (outputEl) {{\n",
       "    x.observe(outputEl, {childList: true});\n",
       "}}\n",
       "\n",
       "                        })\n",
       "                };\n",
       "                });\n",
       "            </script>\n",
       "        </div>"
      ]
     },
     "metadata": {},
     "output_type": "display_data"
    }
   ],
   "source": [
    "logger.remove()\n",
    "env = simpy.Environment()\n",
    "data = simpy.Store(env)\n",
    "\n",
    "# we register the tiers\n",
    "ssd_tier = Tier(env, 'SSD', bandwidth=ssd_bandwidth, capacity=200e9)\n",
    "nvram_tier = Tier(env, 'NVRAM', bandwidth=nvram_bandwidth, capacity=80e9)\n",
    "cluster = Cluster(env, compute_nodes=1, cores_per_node=2, tiers=[ssd_tier, nvram_tier])\n",
    "# defining two apps\n",
    "app1 = Application(env, name=\"#read1G->comp2s->write3G\", compute=[0, 2],\n",
    "                           read=[1e9, 0], write=[0, 3e9], data=data)\n",
    "app2 = Application(env, name=\"#read2G->comp1s->write1G\", compute=[0, 4],\n",
    "                           read=[2e9, 0], write=[0, 1e9], data=data)\n",
    "# registring apps\n",
    "env.process(app1.run(cluster, tiers=[1, 1]))\n",
    "env.process(app2.run(cluster, tiers=[1, 1]))\n",
    "env.run()\n",
    "# display\n",
    "fig = display_run(data, cluster, width=800, height=900)\n",
    "fig.show()"
   ]
  },
  {
   "cell_type": "markdown",
   "metadata": {},
   "source": [
    "### 3. Wiring any optimization heuristics with the simulator\n",
    "refer to https://github.com/bds-ailab/shaman and https://shaman-app.readthedocs.io/en/latest/user-guide/launching/\n",
    "\n",
    "![image](bbo.png)"
   ]
  },
  {
   "cell_type": "code",
   "execution_count": 34,
   "metadata": {},
   "outputs": [],
   "source": [
    "import simpy\n",
    "from loguru import logger\n",
    "import numpy as np\n",
    "import pandas as pd\n",
    "import math\n",
    "from cluster import Cluster, Tier, bandwidth_share_model, compute_share_model, get_tier, convert_size\n",
    "from phase import DelayPhase, ComputePhase, IOPhase, name_app\n",
    "import copy\n",
    "import time\n",
    "import analytics\n",
    "from application import Application\n",
    "\n",
    "# imports for surrogate models\n",
    "from sklearn.gaussian_process import GaussianProcessRegressor\n",
    "from bbo.optimizer import BBOptimizer\n",
    "# from bbo.optimizer import timeit\n",
    "from bbo.heuristics.surrogate_models.next_parameter_strategies import expected_improvement\n",
    "\n",
    "# imports for genetic algorithms\n",
    "from bbo.heuristics.genetic_algorithm.selections import tournament_pick\n",
    "from bbo.heuristics.genetic_algorithm.crossover import double_point_crossover\n",
    "from bbo.heuristics.genetic_algorithm.mutations import mutate_chromosome_to_neighbor\n",
    "from loguru import logger\n",
    "import warnings\n",
    "warnings.filterwarnings(\"ignore\")"
   ]
  },
  {
   "cell_type": "code",
   "execution_count": 35,
   "metadata": {},
   "outputs": [],
   "source": [
    "\n",
    "class ClusterBlackBox:\n",
    "    def __init__(self):\n",
    "        self.env = simpy.Environment()\n",
    "        self.data = simpy.Store(self.env)\n",
    "\n",
    "        self.nvram_bandwidth = {'read':  {'seq': 780, 'rand': 760},\n",
    "                                'write': {'seq': 515, 'rand': 505}}\n",
    "        self.ssd_bandwidth = {'read':  {'seq': 210, 'rand': 190},\n",
    "                              'write': {'seq': 100, 'rand': 100}}\n",
    "\n",
    "        self.nvram_tier = Tier(self.env, 'NVRAM', bandwidth=self.nvram_bandwidth, capacity=80e9)\n",
    "        self.ssd_tier = Tier(self.env, 'SSD', bandwidth=self.ssd_bandwidth, capacity=200e9)\n",
    "        \n",
    "        self.cluster = Cluster(self.env,  compute_nodes=1, cores_per_node=5,\n",
    "                               tiers=[self.nvram_tier, self.ssd_tier])\n",
    "\n",
    "        app1 = Application(self.env,\n",
    "                           compute=[0, 10],\n",
    "                           read=[1e9, 0],\n",
    "                           write=[0, 5e9],\n",
    "                           data=self.data)\n",
    "        app2 = Application(self.env,\n",
    "                           compute=[0, 20, 30],\n",
    "                           read=[3e9, 0, 0],\n",
    "                           write=[0, 5e9, 10e9],\n",
    "                           data=self.data)\n",
    "        app3 = Application(self.env,\n",
    "                           compute=[0, 10],\n",
    "                           read=[4e9, 0],\n",
    "                           write=[0, 7e9],\n",
    "                           data=self.data)\n",
    "\n",
    "        self.apps = [app1, app2, app3]\n",
    "        self.ios = self.get_io_nbr()\n",
    "        self.n_tiers = len(self.cluster.tiers)\n",
    "        self.parameter_space = np.array([np.arange(0, self.n_tiers, 1)]*sum(self.ios))\n",
    "\n",
    "    def get_io_nbr(self):\n",
    "        io_app = []\n",
    "        for app in self.apps:\n",
    "            io_app.append(len([io for io in app.read if io > 0]) +\n",
    "                          len([io for io in app.write if io > 0]))\n",
    "        return io_app\n",
    "\n",
    "    def compute(self, placement=None):  # np.array([[0, 1], [0, 1]])\n",
    "        self.__init__()  \n",
    "        # https://stackoverflow.com/questions/45061369/simpy-how-to-run-a-simulation-multiple-times\n",
    "        start_index = 0\n",
    "        #print(placement)\n",
    "        for i_app, app in enumerate(self.apps):\n",
    "            place_tier = placement[start_index: start_index + self.ios[i_app]]\n",
    "            start_index = self.ios[i_app]\n",
    "            self.env.process(app.run(self.cluster, tiers=place_tier))\n",
    "        # run the simulation\n",
    "        self.env.run()\n",
    "        return app.get_fitness()\n",
    "    \n",
    "    def display_placement(self, placement):\n",
    "        self.__init__()  \n",
    "        # https://stackoverflow.com/questions/45061369/simpy-how-to-run-a-simulation-multiple-times\n",
    "        start_index = 0\n",
    "        #print(placement)\n",
    "        for i_app, app in enumerate(self.apps):\n",
    "            place_tier = placement[start_index: start_index + self.ios[i_app]]\n",
    "            start_index = self.ios[i_app]\n",
    "            self.env.process(app.run(self.cluster, tiers=place_tier))\n",
    "        # run the simulation\n",
    "        self.env.run()\n",
    "        fig = display_run(self.data, self.cluster, width=800, height=900)\n",
    "        fitness = app.get_fitness()\n",
    "        appslist = \", \".join([app.name for app in self.apps])\n",
    "        print(f\"The apps {appslist} lasts {round(fitness, 3)} seconds when placement = {placement}\")\n",
    "        return fig\n",
    "    \n",
    "        "
   ]
  },
  {
   "cell_type": "code",
   "execution_count": 36,
   "metadata": {},
   "outputs": [
    {
     "name": "stdout",
     "output_type": "stream",
     "text": [
      "-----------------\n",
      "120\n",
      "Running 120/128 iterations on BBO take 0.769 seconds\n",
      "------ Optimization loop summary ------\n",
      "Number of iterations: 140\n",
      "Elapsed time: 47.03516697883606\n",
      "Best parameters: [0 1 1 0 0 1 1]\n",
      "Best fitness value: 73.41192787794729\n",
      "Percentage of explored space: 14.84375\n",
      "Percentage of static moves: 86.42857142857143\n",
      "Cost of global exploration: 4596.605142430384\n",
      "Mean fitness gain per iteration: -2.0185793113082346\n",
      "--- Heuristic specific summary ---\n",
      "Final RMSE: 1.0\n",
      "None\n"
     ]
    }
   ],
   "source": [
    "logger.remove()\n",
    "cbb = ClusterBlackBox()\n",
    "PARAMETER_SPACE = cbb.parameter_space\n",
    "# combinations are self.n_tiers ** sum(self.ios)\n",
    "NBR_ITERATION = 120  # cbb.n_tiers ** sum(cbb.ios)\n",
    "\n",
    "np.random.seed(5)\n",
    "bbopt = BBOptimizer(black_box=cbb,\n",
    "                    heuristic=\"surrogate_model\",\n",
    "                    max_iteration=NBR_ITERATION,\n",
    "                    initial_sample_size=20,\n",
    "                    parameter_space=PARAMETER_SPACE,\n",
    "                    next_parameter_strategy=expected_improvement,\n",
    "                    regression_model=GaussianProcessRegressor)\n",
    "start_time = time.time()\n",
    "bbopt.optimize()\n",
    "print(\"-----------------\")\n",
    "print(NBR_ITERATION)\n",
    "print(f\"Running {NBR_ITERATION}/{cbb.n_tiers**sum(cbb.ios)} iterations on BBO \"\n",
    "      f\"take {round(time.time() - start_time, 3)} seconds\")\n",
    "bbopt.summarize()\n",
    "#print(bbopt.history[\"fitness\"])\n",
    "#print(bbopt.best_parameters_in_grid)"
   ]
  },
  {
   "cell_type": "markdown",
   "metadata": {},
   "source": [
    "### Let now observe the solutions"
   ]
  },
  {
   "cell_type": "code",
   "execution_count": 39,
   "metadata": {},
   "outputs": [
    {
     "name": "stdout",
     "output_type": "stream",
     "text": [
      "The apps Z2, X8, X4 lasts 73.412 seconds when placement = [0, 1, 1, 0, 0, 1, 1]\n",
      "The apps F4, C9, Y5 lasts 80.373 seconds when placement = [0, 0, 0, 0, 0, 0, 0]\n"
     ]
    }
   ],
   "source": [
    "fig = cbb.display_placement(placement=[0, 1, 1, 0, 0, 1, 1]) # solution found by bbopt\n",
    "fig = cbb.display_placement(placement=[0, 0, 0, 0, 0, 0, 0]) # most intuitive solution\n",
    "\n",
    "fig.show()"
   ]
  },
  {
   "cell_type": "markdown",
   "metadata": {},
   "source": [
    "#### We could go further and explore if it is interesting to use lower tier"
   ]
  },
  {
   "cell_type": "code",
   "execution_count": 42,
   "metadata": {},
   "outputs": [
    {
     "name": "stdout",
     "output_type": "stream",
     "text": [
      "350\n",
      "Running 350/2187 on BBO take 12.254655122756958\n",
      "------ Optimization loop summary ------\n",
      "Number of iterations: 390\n",
      "Elapsed time: 1399.7630369663239\n",
      "Best parameters: [2 1 0 0 0 1 1]\n",
      "Best fitness value: 76.52725914861837\n",
      "Percentage of explored space: 2.880658436213992\n",
      "Percentage of static moves: 83.84615384615385\n",
      "Cost of global exploration: 36364.16391052316\n",
      "Mean fitness gain per iteration: -2.2708837696857773\n",
      "--- Heuristic specific summary ---\n",
      "Final RMSE: 1.0\n",
      "None\n"
     ]
    }
   ],
   "source": [
    "\n",
    "class ClusterBlackBox:\n",
    "    def __init__(self):\n",
    "        self.env = simpy.Environment()\n",
    "        self.data = simpy.Store(self.env)\n",
    "\n",
    "        self.nvram_bandwidth = {'read':  {'seq': 780, 'rand': 760},\n",
    "                                'write': {'seq': 515, 'rand': 505}}\n",
    "        self.ssd_bandwidth = {'read':  {'seq': 210, 'rand': 190},\n",
    "                              'write': {'seq': 100, 'rand': 100}}\n",
    "        self.hdd_bandwidth = {'read':  {'seq': 80, 'rand': 80},\n",
    "                         'write': {'seq': 40, 'rand': 40}}        \n",
    "\n",
    "        self.nvram_tier = Tier(self.env, 'NVRAM', bandwidth=self.nvram_bandwidth, capacity=80e9)\n",
    "        self.ssd_tier = Tier(self.env, 'SSD', bandwidth=self.ssd_bandwidth, capacity=200e9)\n",
    "        self.hdd_tier = Tier(self.env, 'HDD', bandwidth=hdd_bandwidth, capacity=1e12)\n",
    "        self.cluster = Cluster(self.env,  compute_nodes=1, cores_per_node=5,\n",
    "                               tiers=[self.nvram_tier, self.ssd_tier, self.hdd_tier])\n",
    "\n",
    "        app1 = Application(self.env,\n",
    "                           compute=[0, 10],\n",
    "                           read=[1e9, 0],\n",
    "                           write=[0, 5e9],\n",
    "                           data=self.data)\n",
    "        app2 = Application(self.env,\n",
    "                           compute=[0, 20, 30],\n",
    "                           read=[3e9, 0, 0],\n",
    "                           write=[0, 5e9, 10e9],\n",
    "                           data=self.data)\n",
    "        app3 = Application(self.env,\n",
    "                           compute=[0, 10],\n",
    "                           read=[4e9, 0],\n",
    "                           write=[0, 7e9],\n",
    "                           data=self.data)\n",
    "\n",
    "        self.apps = [app1, app2, app3]\n",
    "        self.ios = self.get_io_nbr()\n",
    "        self.n_tiers = len(self.cluster.tiers)\n",
    "        self.parameter_space = np.array([np.arange(0, self.n_tiers, 1)]*sum(self.ios))\n",
    "\n",
    "    def get_io_nbr(self):\n",
    "        io_app = []\n",
    "        for app in self.apps:\n",
    "            io_app.append(len([io for io in app.read if io > 0]) +\n",
    "                          len([io for io in app.write if io > 0]))\n",
    "        return io_app\n",
    "\n",
    "    def compute(self, placement=None):  # np.array([[0, 1], [0, 1]])\n",
    "        self.__init__()  \n",
    "        # https://stackoverflow.com/questions/45061369/simpy-how-to-run-a-simulation-multiple-times\n",
    "        start_index = 0\n",
    "        #print(placement)\n",
    "        for i_app, app in enumerate(self.apps):\n",
    "            place_tier = placement[start_index: start_index + self.ios[i_app]]\n",
    "            start_index = self.ios[i_app]\n",
    "            self.env.process(app.run(self.cluster, tiers=place_tier))\n",
    "        # run the simulation\n",
    "        self.env.run()\n",
    "        return app.get_fitness()\n",
    "    \n",
    "    def display_placement(self, placement):\n",
    "        self.__init__()  \n",
    "        # https://stackoverflow.com/questions/45061369/simpy-how-to-run-a-simulation-multiple-times\n",
    "        start_index = 0\n",
    "        #print(placement)\n",
    "        for i_app, app in enumerate(self.apps):\n",
    "            place_tier = placement[start_index: start_index + self.ios[i_app]]\n",
    "            start_index = self.ios[i_app]\n",
    "            self.env.process(app.run(self.cluster, tiers=place_tier))\n",
    "        # run the simulation\n",
    "        self.env.run()\n",
    "        fig = display_run(self.data, self.cluster, width=800, height=900)\n",
    "        fitness = app.get_fitness()\n",
    "        appslist = \", \".join([app.name for app in self.apps])\n",
    "        print(f\"The apps {appslist} lasts {round(fitness, 3)} seconds when placement = {placement}\")\n",
    "        return fig\n",
    "   \n",
    "logger.remove()\n",
    "cbb = ClusterBlackBox()\n",
    "PARAMETER_SPACE = cbb.parameter_space\n",
    "# combinations are self.n_tiers ** sum(self.ios)\n",
    "NBR_ITERATION = 350  # cbb.n_tiers ** sum(cbb.ios)\n",
    "\n",
    "np.random.seed(5)\n",
    "bbopt = BBOptimizer(black_box=cbb,\n",
    "                    heuristic=\"surrogate_model\",\n",
    "                    max_iteration=NBR_ITERATION,\n",
    "                    initial_sample_size=40,\n",
    "                    parameter_space=PARAMETER_SPACE,\n",
    "                    next_parameter_strategy=expected_improvement,\n",
    "                    regression_model=GaussianProcessRegressor)\n",
    "start_time = time.time()\n",
    "bbopt.optimize()\n",
    "print(NBR_ITERATION)\n",
    "print(f\"Running {NBR_ITERATION}/{cbb.n_tiers**sum(cbb.ios)} on BBO take {(time.time() - start_time)}\")\n",
    "bbopt.summarize()\n",
    "#print(bbopt.history[\"fitness\"])\n",
    "#print(bbopt.best_parameters_in_grid) \n",
    "        "
   ]
  },
  {
   "cell_type": "code",
   "execution_count": 46,
   "metadata": {},
   "outputs": [
    {
     "name": "stdout",
     "output_type": "stream",
     "text": [
      "The apps U8, C3, Z3 lasts 76.527 seconds when placement = [2 1 0 0 0 1 1]\n",
      "The apps Z4, E6, C4 lasts 80.373 seconds when placement = [0, 0, 0, 0, 0, 0, 0]\n"
     ]
    },
    {
     "data": {
      "application/vnd.plotly.v1+json": {
       "config": {
        "plotlyServerURL": "https://plot.ly"
       },
       "data": [
        {
         "line": {
          "shape": "hvh"
         },
         "name": "C3",
         "showlegend": false,
         "text": [
          "READ|to/from:NVRAM|volume=3.0 GB",
          "READ|to/from:NVRAM|volume=3.0 GB",
          "COMPUTE|volume=0B",
          "COMPUTE|volume=0B",
          "WRITE|to/from:NVRAM|volume=5.0 GB",
          "WRITE|to/from:NVRAM|volume=5.0 GB",
          "COMPUTE|volume=0B",
          "COMPUTE|volume=0B",
          "WRITE|to/from:NVRAM|volume=10.0 GB",
          "WRITE|to/from:NVRAM|volume=10.0 GB"
         ],
         "textposition": "top center",
         "type": "scatter",
         "x": [
          0,
          7.6923076923076925,
          7.6923076923076925,
          27.692307692307693,
          27.692307692307693,
          47.10978342046303,
          47.10978342046303,
          57.10978342046303,
          57.10978342046303,
          76.52725914861837
         ],
         "xaxis": "x",
         "y": [
          390,
          390,
          0,
          0,
          257.5,
          257.5,
          0,
          0,
          515,
          515
         ],
         "yaxis": "y"
        },
        {
         "line": {
          "shape": "hvh"
         },
         "name": "U8",
         "showlegend": false,
         "text": [
          "READ|to/from:HDD|volume=1.0 GB",
          "READ|to/from:HDD|volume=1.0 GB",
          "COMPUTE|volume=0B",
          "COMPUTE|volume=0B",
          "WRITE|to/from:SSD|volume=2.77 GB",
          "WRITE|to/from:SSD|volume=2.77 GB",
          "WRITE|to/from:SSD|volume=487.43 MB",
          "WRITE|to/from:SSD|volume=487.43 MB",
          "WRITE|to/from:SSD|volume=1.74 GB",
          "WRITE|to/from:SSD|volume=1.74 GB",
          "WRITE|to/from:SSD|volume=238.42 EB",
          "WRITE|to/from:SSD|volume=238.42 EB"
         ],
         "textposition": "top center",
         "type": "scatter",
         "x": [
          0,
          12.5,
          12.5,
          22.5,
          22.5,
          50.19230769230769,
          50.19230769230769,
          55.06659198406771,
          55.06659198406771,
          72.5,
          72.5,
          72.5
         ],
         "xaxis": "x2",
         "y": [
          80,
          80,
          0,
          0,
          100,
          100,
          100,
          100,
          100,
          100,
          100,
          100
         ],
         "yaxis": "y2"
        },
        {
         "line": {
          "shape": "hvh"
         },
         "name": "Z3",
         "showlegend": false,
         "text": [
          "READ|to/from:NVRAM|volume=3.0 GB",
          "READ|to/from:NVRAM|volume=3.0 GB",
          "READ|to/from:NVRAM|volume=1.0 GB",
          "READ|to/from:NVRAM|volume=1.0 GB",
          "COMPUTE|volume=0B",
          "COMPUTE|volume=0B",
          "WRITE|to/from:NVRAM|volume=7.0 GB",
          "WRITE|to/from:NVRAM|volume=7.0 GB"
         ],
         "textposition": "top center",
         "type": "scatter",
         "x": [
          0,
          7.6923076923076925,
          7.6923076923076925,
          8.974358974358974,
          8.974358974358974,
          18.974358974358974,
          18.974358974358974,
          32.56659198406771
         ],
         "xaxis": "x3",
         "y": [
          390,
          390,
          780,
          780,
          0,
          0,
          515,
          515
         ],
         "yaxis": "y3"
        },
        {
         "line": {
          "shape": "hv"
         },
         "showlegend": false,
         "type": "scatter",
         "x": [
          0,
          7.6923076923076925,
          8.974358974358974,
          12.5,
          18.974358974358974,
          22.5,
          27.692307692307693,
          32.56659198406771,
          47.10978342046303,
          50.19230769230769,
          55.06659198406771,
          57.10978342046303,
          72.5,
          76.52725914861837
         ],
         "xaxis": "x4",
         "y": [
          3,
          3,
          3,
          3,
          3,
          3,
          3,
          2,
          2,
          2,
          2,
          2,
          1,
          0
         ],
         "yaxis": "y4"
        },
        {
         "line": {
          "color": "red",
          "dash": "dot",
          "shape": "hv",
          "width": 3
         },
         "showlegend": false,
         "text": [
          "Maximum available cores in cluster=5",
          "Maximum available cores in cluster=5"
         ],
         "type": "scatter",
         "x": [
          0,
          76.52725914861837
         ],
         "xaxis": "x4",
         "y": [
          5,
          5
         ],
         "yaxis": "y4"
        },
        {
         "line": {
          "shape": "vh"
         },
         "name": "NVRAM",
         "showlegend": false,
         "text": [
          "C3|Read|NVRAM | +volume=3.0 GB",
          "Z3|Read|NVRAM | +volume=3.0 GB",
          "Z3|Read|NVRAM | +volume=1.0 GB",
          "U8|Read|HDD | +volume=1.0 GB",
          "Z3|Compute | +volume=0B",
          "U8|Compute | +volume=0B",
          "C3|Compute | +volume=0B",
          "Z3|Write|NVRAM | +volume=7.0 GB",
          "C3|Write|NVRAM | +volume=5.0 GB",
          "U8|Write|SSD | +volume=2.77 GB",
          "U8|Write|SSD | +volume=487.43 MB",
          "C3|Compute | +volume=0B",
          "U8|Write|SSD | +volume=1.74 GB",
          "U8|Write|SSD | +volume=238.42 EB",
          "C3|Write|NVRAM | +volume=10.0 GB"
         ],
         "textposition": "top center",
         "type": "scatter",
         "x": [
          0,
          7.6923076923076925,
          7.6923076923076925,
          8.974358974358974,
          12.5,
          18.974358974358974,
          22.5,
          27.692307692307693,
          32.56659198406771,
          47.10978342046303,
          50.19230769230769,
          55.06659198406771,
          57.10978342046303,
          72.5,
          72.5,
          76.52725914861837
         ],
         "xaxis": "x5",
         "y": [
          0,
          5,
          5,
          5,
          5,
          5,
          5,
          5,
          13.75,
          20,
          20,
          20,
          20,
          20,
          20,
          32.5
         ],
         "yaxis": "y5"
        },
        {
         "line": {
          "shape": "vh"
         },
         "name": "SSD",
         "showlegend": false,
         "text": [
          "C3|Read|NVRAM | +volume=3.0 GB",
          "Z3|Read|NVRAM | +volume=3.0 GB",
          "Z3|Read|NVRAM | +volume=1.0 GB",
          "U8|Read|HDD | +volume=1.0 GB",
          "Z3|Compute | +volume=0B",
          "U8|Compute | +volume=0B",
          "C3|Compute | +volume=0B",
          "Z3|Write|NVRAM | +volume=7.0 GB",
          "C3|Write|NVRAM | +volume=5.0 GB",
          "U8|Write|SSD | +volume=2.77 GB",
          "U8|Write|SSD | +volume=487.43 MB",
          "C3|Compute | +volume=0B",
          "U8|Write|SSD | +volume=1.74 GB",
          "U8|Write|SSD | +volume=238.42 EB",
          "C3|Write|NVRAM | +volume=10.0 GB"
         ],
         "textposition": "top center",
         "type": "scatter",
         "x": [
          0,
          7.6923076923076925,
          7.6923076923076925,
          8.974358974358974,
          12.5,
          18.974358974358974,
          22.5,
          27.692307692307693,
          32.56659198406771,
          47.10978342046303,
          50.19230769230769,
          55.06659198406771,
          57.10978342046303,
          72.5,
          72.5,
          76.52725914861837
         ],
         "xaxis": "x6",
         "y": [
          0,
          0,
          0,
          0,
          0,
          0,
          0,
          0,
          0,
          0,
          1.3846153846153846,
          1.6283295992033857,
          1.6283295992033857,
          2.5,
          2.5,
          2.5
         ],
         "yaxis": "y6"
        },
        {
         "line": {
          "shape": "vh"
         },
         "name": "HDD",
         "showlegend": false,
         "text": [
          "C3|Read|NVRAM | +volume=3.0 GB",
          "Z3|Read|NVRAM | +volume=3.0 GB",
          "Z3|Read|NVRAM | +volume=1.0 GB",
          "U8|Read|HDD | +volume=1.0 GB",
          "Z3|Compute | +volume=0B",
          "U8|Compute | +volume=0B",
          "C3|Compute | +volume=0B",
          "Z3|Write|NVRAM | +volume=7.0 GB",
          "C3|Write|NVRAM | +volume=5.0 GB",
          "U8|Write|SSD | +volume=2.77 GB",
          "U8|Write|SSD | +volume=487.43 MB",
          "C3|Compute | +volume=0B",
          "U8|Write|SSD | +volume=1.74 GB",
          "U8|Write|SSD | +volume=238.42 EB",
          "C3|Write|NVRAM | +volume=10.0 GB"
         ],
         "textposition": "top center",
         "type": "scatter",
         "x": [
          0,
          7.6923076923076925,
          7.6923076923076925,
          8.974358974358974,
          12.5,
          18.974358974358974,
          22.5,
          27.692307692307693,
          32.56659198406771,
          47.10978342046303,
          50.19230769230769,
          55.06659198406771,
          57.10978342046303,
          72.5,
          72.5,
          76.52725914861837
         ],
         "xaxis": "x7",
         "y": [
          0,
          0,
          0,
          0,
          0.1,
          0.1,
          0.1,
          0.1,
          0.1,
          0.1,
          0.1,
          0.1,
          0.1,
          0.1,
          0.1,
          0.1
         ],
         "yaxis": "y7"
        }
       ],
       "layout": {
        "annotations": [
         {
          "font": {
           "size": 16
          },
          "showarrow": false,
          "text": "C3",
          "x": 0.5,
          "xanchor": "center",
          "xref": "paper",
          "y": 0.9999999999999999,
          "yanchor": "bottom",
          "yref": "paper"
         },
         {
          "font": {
           "size": 16
          },
          "showarrow": false,
          "text": "U8",
          "x": 0.5,
          "xanchor": "center",
          "xref": "paper",
          "y": 0.8469387755102039,
          "yanchor": "bottom",
          "yref": "paper"
         },
         {
          "font": {
           "size": 16
          },
          "showarrow": false,
          "text": "Z3",
          "x": 0.5,
          "xanchor": "center",
          "xref": "paper",
          "y": 0.6938775510204082,
          "yanchor": "bottom",
          "yref": "paper"
         },
         {
          "font": {
           "size": 16
          },
          "showarrow": false,
          "text": "CPU Cores",
          "x": 0.5,
          "xanchor": "center",
          "xref": "paper",
          "y": 0.5408163265306122,
          "yanchor": "bottom",
          "yref": "paper"
         },
         {
          "font": {
           "size": 16
          },
          "showarrow": false,
          "text": "NVRAM (80.0 GB)",
          "x": 0.5,
          "xanchor": "center",
          "xref": "paper",
          "y": 0.3877551020408163,
          "yanchor": "bottom",
          "yref": "paper"
         },
         {
          "font": {
           "size": 16
          },
          "showarrow": false,
          "text": "SSD (200.0 GB)",
          "x": 0.5,
          "xanchor": "center",
          "xref": "paper",
          "y": 0.2346938775510204,
          "yanchor": "bottom",
          "yref": "paper"
         },
         {
          "font": {
           "size": 16
          },
          "showarrow": false,
          "text": "HDD (1.0 TB)",
          "x": 0.5,
          "xanchor": "center",
          "xref": "paper",
          "y": 0.08163265306122448,
          "yanchor": "bottom",
          "yref": "paper"
         }
        ],
        "height": 900,
        "template": {
         "data": {
          "bar": [
           {
            "error_x": {
             "color": "#2a3f5f"
            },
            "error_y": {
             "color": "#2a3f5f"
            },
            "marker": {
             "line": {
              "color": "#E5ECF6",
              "width": 0.5
             }
            },
            "type": "bar"
           }
          ],
          "barpolar": [
           {
            "marker": {
             "line": {
              "color": "#E5ECF6",
              "width": 0.5
             }
            },
            "type": "barpolar"
           }
          ],
          "carpet": [
           {
            "aaxis": {
             "endlinecolor": "#2a3f5f",
             "gridcolor": "white",
             "linecolor": "white",
             "minorgridcolor": "white",
             "startlinecolor": "#2a3f5f"
            },
            "baxis": {
             "endlinecolor": "#2a3f5f",
             "gridcolor": "white",
             "linecolor": "white",
             "minorgridcolor": "white",
             "startlinecolor": "#2a3f5f"
            },
            "type": "carpet"
           }
          ],
          "choropleth": [
           {
            "colorbar": {
             "outlinewidth": 0,
             "ticks": ""
            },
            "type": "choropleth"
           }
          ],
          "contour": [
           {
            "colorbar": {
             "outlinewidth": 0,
             "ticks": ""
            },
            "colorscale": [
             [
              0,
              "#0d0887"
             ],
             [
              0.1111111111111111,
              "#46039f"
             ],
             [
              0.2222222222222222,
              "#7201a8"
             ],
             [
              0.3333333333333333,
              "#9c179e"
             ],
             [
              0.4444444444444444,
              "#bd3786"
             ],
             [
              0.5555555555555556,
              "#d8576b"
             ],
             [
              0.6666666666666666,
              "#ed7953"
             ],
             [
              0.7777777777777778,
              "#fb9f3a"
             ],
             [
              0.8888888888888888,
              "#fdca26"
             ],
             [
              1,
              "#f0f921"
             ]
            ],
            "type": "contour"
           }
          ],
          "contourcarpet": [
           {
            "colorbar": {
             "outlinewidth": 0,
             "ticks": ""
            },
            "type": "contourcarpet"
           }
          ],
          "heatmap": [
           {
            "colorbar": {
             "outlinewidth": 0,
             "ticks": ""
            },
            "colorscale": [
             [
              0,
              "#0d0887"
             ],
             [
              0.1111111111111111,
              "#46039f"
             ],
             [
              0.2222222222222222,
              "#7201a8"
             ],
             [
              0.3333333333333333,
              "#9c179e"
             ],
             [
              0.4444444444444444,
              "#bd3786"
             ],
             [
              0.5555555555555556,
              "#d8576b"
             ],
             [
              0.6666666666666666,
              "#ed7953"
             ],
             [
              0.7777777777777778,
              "#fb9f3a"
             ],
             [
              0.8888888888888888,
              "#fdca26"
             ],
             [
              1,
              "#f0f921"
             ]
            ],
            "type": "heatmap"
           }
          ],
          "heatmapgl": [
           {
            "colorbar": {
             "outlinewidth": 0,
             "ticks": ""
            },
            "colorscale": [
             [
              0,
              "#0d0887"
             ],
             [
              0.1111111111111111,
              "#46039f"
             ],
             [
              0.2222222222222222,
              "#7201a8"
             ],
             [
              0.3333333333333333,
              "#9c179e"
             ],
             [
              0.4444444444444444,
              "#bd3786"
             ],
             [
              0.5555555555555556,
              "#d8576b"
             ],
             [
              0.6666666666666666,
              "#ed7953"
             ],
             [
              0.7777777777777778,
              "#fb9f3a"
             ],
             [
              0.8888888888888888,
              "#fdca26"
             ],
             [
              1,
              "#f0f921"
             ]
            ],
            "type": "heatmapgl"
           }
          ],
          "histogram": [
           {
            "marker": {
             "colorbar": {
              "outlinewidth": 0,
              "ticks": ""
             }
            },
            "type": "histogram"
           }
          ],
          "histogram2d": [
           {
            "colorbar": {
             "outlinewidth": 0,
             "ticks": ""
            },
            "colorscale": [
             [
              0,
              "#0d0887"
             ],
             [
              0.1111111111111111,
              "#46039f"
             ],
             [
              0.2222222222222222,
              "#7201a8"
             ],
             [
              0.3333333333333333,
              "#9c179e"
             ],
             [
              0.4444444444444444,
              "#bd3786"
             ],
             [
              0.5555555555555556,
              "#d8576b"
             ],
             [
              0.6666666666666666,
              "#ed7953"
             ],
             [
              0.7777777777777778,
              "#fb9f3a"
             ],
             [
              0.8888888888888888,
              "#fdca26"
             ],
             [
              1,
              "#f0f921"
             ]
            ],
            "type": "histogram2d"
           }
          ],
          "histogram2dcontour": [
           {
            "colorbar": {
             "outlinewidth": 0,
             "ticks": ""
            },
            "colorscale": [
             [
              0,
              "#0d0887"
             ],
             [
              0.1111111111111111,
              "#46039f"
             ],
             [
              0.2222222222222222,
              "#7201a8"
             ],
             [
              0.3333333333333333,
              "#9c179e"
             ],
             [
              0.4444444444444444,
              "#bd3786"
             ],
             [
              0.5555555555555556,
              "#d8576b"
             ],
             [
              0.6666666666666666,
              "#ed7953"
             ],
             [
              0.7777777777777778,
              "#fb9f3a"
             ],
             [
              0.8888888888888888,
              "#fdca26"
             ],
             [
              1,
              "#f0f921"
             ]
            ],
            "type": "histogram2dcontour"
           }
          ],
          "mesh3d": [
           {
            "colorbar": {
             "outlinewidth": 0,
             "ticks": ""
            },
            "type": "mesh3d"
           }
          ],
          "parcoords": [
           {
            "line": {
             "colorbar": {
              "outlinewidth": 0,
              "ticks": ""
             }
            },
            "type": "parcoords"
           }
          ],
          "pie": [
           {
            "automargin": true,
            "type": "pie"
           }
          ],
          "scatter": [
           {
            "marker": {
             "colorbar": {
              "outlinewidth": 0,
              "ticks": ""
             }
            },
            "type": "scatter"
           }
          ],
          "scatter3d": [
           {
            "line": {
             "colorbar": {
              "outlinewidth": 0,
              "ticks": ""
             }
            },
            "marker": {
             "colorbar": {
              "outlinewidth": 0,
              "ticks": ""
             }
            },
            "type": "scatter3d"
           }
          ],
          "scattercarpet": [
           {
            "marker": {
             "colorbar": {
              "outlinewidth": 0,
              "ticks": ""
             }
            },
            "type": "scattercarpet"
           }
          ],
          "scattergeo": [
           {
            "marker": {
             "colorbar": {
              "outlinewidth": 0,
              "ticks": ""
             }
            },
            "type": "scattergeo"
           }
          ],
          "scattergl": [
           {
            "marker": {
             "colorbar": {
              "outlinewidth": 0,
              "ticks": ""
             }
            },
            "type": "scattergl"
           }
          ],
          "scattermapbox": [
           {
            "marker": {
             "colorbar": {
              "outlinewidth": 0,
              "ticks": ""
             }
            },
            "type": "scattermapbox"
           }
          ],
          "scatterpolar": [
           {
            "marker": {
             "colorbar": {
              "outlinewidth": 0,
              "ticks": ""
             }
            },
            "type": "scatterpolar"
           }
          ],
          "scatterpolargl": [
           {
            "marker": {
             "colorbar": {
              "outlinewidth": 0,
              "ticks": ""
             }
            },
            "type": "scatterpolargl"
           }
          ],
          "scatterternary": [
           {
            "marker": {
             "colorbar": {
              "outlinewidth": 0,
              "ticks": ""
             }
            },
            "type": "scatterternary"
           }
          ],
          "surface": [
           {
            "colorbar": {
             "outlinewidth": 0,
             "ticks": ""
            },
            "colorscale": [
             [
              0,
              "#0d0887"
             ],
             [
              0.1111111111111111,
              "#46039f"
             ],
             [
              0.2222222222222222,
              "#7201a8"
             ],
             [
              0.3333333333333333,
              "#9c179e"
             ],
             [
              0.4444444444444444,
              "#bd3786"
             ],
             [
              0.5555555555555556,
              "#d8576b"
             ],
             [
              0.6666666666666666,
              "#ed7953"
             ],
             [
              0.7777777777777778,
              "#fb9f3a"
             ],
             [
              0.8888888888888888,
              "#fdca26"
             ],
             [
              1,
              "#f0f921"
             ]
            ],
            "type": "surface"
           }
          ],
          "table": [
           {
            "cells": {
             "fill": {
              "color": "#EBF0F8"
             },
             "line": {
              "color": "white"
             }
            },
            "header": {
             "fill": {
              "color": "#C8D4E3"
             },
             "line": {
              "color": "white"
             }
            },
            "type": "table"
           }
          ]
         },
         "layout": {
          "annotationdefaults": {
           "arrowcolor": "#2a3f5f",
           "arrowhead": 0,
           "arrowwidth": 1
          },
          "coloraxis": {
           "colorbar": {
            "outlinewidth": 0,
            "ticks": ""
           }
          },
          "colorscale": {
           "diverging": [
            [
             0,
             "#8e0152"
            ],
            [
             0.1,
             "#c51b7d"
            ],
            [
             0.2,
             "#de77ae"
            ],
            [
             0.3,
             "#f1b6da"
            ],
            [
             0.4,
             "#fde0ef"
            ],
            [
             0.5,
             "#f7f7f7"
            ],
            [
             0.6,
             "#e6f5d0"
            ],
            [
             0.7,
             "#b8e186"
            ],
            [
             0.8,
             "#7fbc41"
            ],
            [
             0.9,
             "#4d9221"
            ],
            [
             1,
             "#276419"
            ]
           ],
           "sequential": [
            [
             0,
             "#0d0887"
            ],
            [
             0.1111111111111111,
             "#46039f"
            ],
            [
             0.2222222222222222,
             "#7201a8"
            ],
            [
             0.3333333333333333,
             "#9c179e"
            ],
            [
             0.4444444444444444,
             "#bd3786"
            ],
            [
             0.5555555555555556,
             "#d8576b"
            ],
            [
             0.6666666666666666,
             "#ed7953"
            ],
            [
             0.7777777777777778,
             "#fb9f3a"
            ],
            [
             0.8888888888888888,
             "#fdca26"
            ],
            [
             1,
             "#f0f921"
            ]
           ],
           "sequentialminus": [
            [
             0,
             "#0d0887"
            ],
            [
             0.1111111111111111,
             "#46039f"
            ],
            [
             0.2222222222222222,
             "#7201a8"
            ],
            [
             0.3333333333333333,
             "#9c179e"
            ],
            [
             0.4444444444444444,
             "#bd3786"
            ],
            [
             0.5555555555555556,
             "#d8576b"
            ],
            [
             0.6666666666666666,
             "#ed7953"
            ],
            [
             0.7777777777777778,
             "#fb9f3a"
            ],
            [
             0.8888888888888888,
             "#fdca26"
            ],
            [
             1,
             "#f0f921"
            ]
           ]
          },
          "colorway": [
           "#636efa",
           "#EF553B",
           "#00cc96",
           "#ab63fa",
           "#FFA15A",
           "#19d3f3",
           "#FF6692",
           "#B6E880",
           "#FF97FF",
           "#FECB52"
          ],
          "font": {
           "color": "#2a3f5f"
          },
          "geo": {
           "bgcolor": "white",
           "lakecolor": "white",
           "landcolor": "#E5ECF6",
           "showlakes": true,
           "showland": true,
           "subunitcolor": "white"
          },
          "hoverlabel": {
           "align": "left"
          },
          "hovermode": "closest",
          "mapbox": {
           "style": "light"
          },
          "paper_bgcolor": "white",
          "plot_bgcolor": "#E5ECF6",
          "polar": {
           "angularaxis": {
            "gridcolor": "white",
            "linecolor": "white",
            "ticks": ""
           },
           "bgcolor": "#E5ECF6",
           "radialaxis": {
            "gridcolor": "white",
            "linecolor": "white",
            "ticks": ""
           }
          },
          "scene": {
           "xaxis": {
            "backgroundcolor": "#E5ECF6",
            "gridcolor": "white",
            "gridwidth": 2,
            "linecolor": "white",
            "showbackground": true,
            "ticks": "",
            "zerolinecolor": "white"
           },
           "yaxis": {
            "backgroundcolor": "#E5ECF6",
            "gridcolor": "white",
            "gridwidth": 2,
            "linecolor": "white",
            "showbackground": true,
            "ticks": "",
            "zerolinecolor": "white"
           },
           "zaxis": {
            "backgroundcolor": "#E5ECF6",
            "gridcolor": "white",
            "gridwidth": 2,
            "linecolor": "white",
            "showbackground": true,
            "ticks": "",
            "zerolinecolor": "white"
           }
          },
          "shapedefaults": {
           "line": {
            "color": "#2a3f5f"
           }
          },
          "ternary": {
           "aaxis": {
            "gridcolor": "white",
            "linecolor": "white",
            "ticks": ""
           },
           "baxis": {
            "gridcolor": "white",
            "linecolor": "white",
            "ticks": ""
           },
           "bgcolor": "#E5ECF6",
           "caxis": {
            "gridcolor": "white",
            "linecolor": "white",
            "ticks": ""
           }
          },
          "title": {
           "x": 0.05
          },
          "xaxis": {
           "automargin": true,
           "gridcolor": "white",
           "linecolor": "white",
           "ticks": "",
           "title": {
            "standoff": 15
           },
           "zerolinecolor": "white",
           "zerolinewidth": 2
          },
          "yaxis": {
           "automargin": true,
           "gridcolor": "white",
           "linecolor": "white",
           "ticks": "",
           "title": {
            "standoff": 15
           },
           "zerolinecolor": "white",
           "zerolinewidth": 2
          }
         }
        },
        "title": {
         "text": "State of the Cluster"
        },
        "width": 800,
        "xaxis": {
         "anchor": "y",
         "domain": [
          0,
          1
         ],
         "matches": "x7",
         "showticklabels": false,
         "title": {
          "text": "time in s"
         }
        },
        "xaxis2": {
         "anchor": "y2",
         "domain": [
          0,
          1
         ],
         "matches": "x7",
         "showticklabels": false,
         "title": {
          "text": "time in s"
         }
        },
        "xaxis3": {
         "anchor": "y3",
         "domain": [
          0,
          1
         ],
         "matches": "x7",
         "showticklabels": false,
         "title": {
          "text": "time in s"
         }
        },
        "xaxis4": {
         "anchor": "y4",
         "domain": [
          0,
          1
         ],
         "matches": "x7",
         "showticklabels": false,
         "title": {
          "text": "time in s"
         }
        },
        "xaxis5": {
         "anchor": "y5",
         "domain": [
          0,
          1
         ],
         "matches": "x7",
         "showticklabels": false,
         "title": {
          "text": "time in s"
         }
        },
        "xaxis6": {
         "anchor": "y6",
         "domain": [
          0,
          1
         ],
         "matches": "x7",
         "showticklabels": false,
         "title": {
          "text": "time in s"
         }
        },
        "xaxis7": {
         "anchor": "y7",
         "domain": [
          0,
          1
         ],
         "title": {
          "text": "time in s"
         }
        },
        "yaxis": {
         "anchor": "x",
         "domain": [
          0.9183673469387754,
          0.9999999999999999
         ],
         "title": {
          "text": "dataflow in MB/s"
         }
        },
        "yaxis2": {
         "anchor": "x2",
         "domain": [
          0.7653061224489794,
          0.8469387755102039
         ],
         "title": {
          "text": "dataflow in MB/s"
         }
        },
        "yaxis3": {
         "anchor": "x3",
         "domain": [
          0.6122448979591837,
          0.6938775510204082
         ],
         "title": {
          "text": "dataflow in MB/s"
         }
        },
        "yaxis4": {
         "anchor": "x4",
         "domain": [
          0.4591836734693877,
          0.5408163265306122
         ],
         "title": {
          "text": "CPU usage"
         }
        },
        "yaxis5": {
         "anchor": "x5",
         "domain": [
          0.30612244897959184,
          0.3877551020408163
         ],
         "title": {
          "text": "NVRAM usage in %"
         }
        },
        "yaxis6": {
         "anchor": "x6",
         "domain": [
          0.15306122448979592,
          0.2346938775510204
         ],
         "title": {
          "text": "SSD usage in %"
         }
        },
        "yaxis7": {
         "anchor": "x7",
         "domain": [
          0,
          0.08163265306122448
         ],
         "title": {
          "text": "HDD usage in %"
         }
        }
       }
      },
      "text/html": [
       "<div>\n",
       "        \n",
       "        \n",
       "            <div id=\"773b540c-97cb-4583-83d5-5eeb2388e667\" class=\"plotly-graph-div\" style=\"height:900px; width:800px;\"></div>\n",
       "            <script type=\"text/javascript\">\n",
       "                require([\"plotly\"], function(Plotly) {\n",
       "                    window.PLOTLYENV=window.PLOTLYENV || {};\n",
       "                    \n",
       "                if (document.getElementById(\"773b540c-97cb-4583-83d5-5eeb2388e667\")) {\n",
       "                    Plotly.newPlot(\n",
       "                        '773b540c-97cb-4583-83d5-5eeb2388e667',\n",
       "                        [{\"line\": {\"shape\": \"hvh\"}, \"name\": \"C3\", \"showlegend\": false, \"text\": [\"READ|to/from:NVRAM|volume=3.0 GB\", \"READ|to/from:NVRAM|volume=3.0 GB\", \"COMPUTE|volume=0B\", \"COMPUTE|volume=0B\", \"WRITE|to/from:NVRAM|volume=5.0 GB\", \"WRITE|to/from:NVRAM|volume=5.0 GB\", \"COMPUTE|volume=0B\", \"COMPUTE|volume=0B\", \"WRITE|to/from:NVRAM|volume=10.0 GB\", \"WRITE|to/from:NVRAM|volume=10.0 GB\"], \"textposition\": \"top center\", \"type\": \"scatter\", \"x\": [0.0, 7.6923076923076925, 7.6923076923076925, 27.692307692307693, 27.692307692307693, 47.10978342046303, 47.10978342046303, 57.10978342046303, 57.10978342046303, 76.52725914861837], \"xaxis\": \"x\", \"y\": [390.0, 390.0, 0.0, 0.0, 257.5, 257.5, 0.0, 0.0, 515.0, 515.0], \"yaxis\": \"y\"}, {\"line\": {\"shape\": \"hvh\"}, \"name\": \"U8\", \"showlegend\": false, \"text\": [\"READ|to/from:HDD|volume=1.0 GB\", \"READ|to/from:HDD|volume=1.0 GB\", \"COMPUTE|volume=0B\", \"COMPUTE|volume=0B\", \"WRITE|to/from:SSD|volume=2.77 GB\", \"WRITE|to/from:SSD|volume=2.77 GB\", \"WRITE|to/from:SSD|volume=487.43 MB\", \"WRITE|to/from:SSD|volume=487.43 MB\", \"WRITE|to/from:SSD|volume=1.74 GB\", \"WRITE|to/from:SSD|volume=1.74 GB\", \"WRITE|to/from:SSD|volume=238.42 EB\", \"WRITE|to/from:SSD|volume=238.42 EB\"], \"textposition\": \"top center\", \"type\": \"scatter\", \"x\": [0.0, 12.5, 12.5, 22.5, 22.5, 50.19230769230769, 50.19230769230769, 55.06659198406771, 55.06659198406771, 72.5, 72.5, 72.5], \"xaxis\": \"x2\", \"y\": [80.0, 80.0, 0.0, 0.0, 100.0, 100.0, 100.0, 100.0, 100.0, 100.0, 100.0, 100.0], \"yaxis\": \"y2\"}, {\"line\": {\"shape\": \"hvh\"}, \"name\": \"Z3\", \"showlegend\": false, \"text\": [\"READ|to/from:NVRAM|volume=3.0 GB\", \"READ|to/from:NVRAM|volume=3.0 GB\", \"READ|to/from:NVRAM|volume=1.0 GB\", \"READ|to/from:NVRAM|volume=1.0 GB\", \"COMPUTE|volume=0B\", \"COMPUTE|volume=0B\", \"WRITE|to/from:NVRAM|volume=7.0 GB\", \"WRITE|to/from:NVRAM|volume=7.0 GB\"], \"textposition\": \"top center\", \"type\": \"scatter\", \"x\": [0.0, 7.6923076923076925, 7.6923076923076925, 8.974358974358974, 8.974358974358974, 18.974358974358974, 18.974358974358974, 32.56659198406771], \"xaxis\": \"x3\", \"y\": [390.0, 390.0, 780.0, 780.0, 0.0, 0.0, 515.0, 515.0], \"yaxis\": \"y3\"}, {\"line\": {\"shape\": \"hv\"}, \"showlegend\": false, \"type\": \"scatter\", \"x\": [0.0, 7.6923076923076925, 8.974358974358974, 12.5, 18.974358974358974, 22.5, 27.692307692307693, 32.56659198406771, 47.10978342046303, 50.19230769230769, 55.06659198406771, 57.10978342046303, 72.5, 76.52725914861837], \"xaxis\": \"x4\", \"y\": [3, 3, 3, 3, 3, 3, 3, 2, 2, 2, 2, 2, 1, 0], \"yaxis\": \"y4\"}, {\"line\": {\"color\": \"red\", \"dash\": \"dot\", \"shape\": \"hv\", \"width\": 3}, \"showlegend\": false, \"text\": [\"Maximum available cores in cluster=5\", \"Maximum available cores in cluster=5\"], \"type\": \"scatter\", \"x\": [0.0, 76.52725914861837], \"xaxis\": \"x4\", \"y\": [5, 5], \"yaxis\": \"y4\"}, {\"line\": {\"shape\": \"vh\"}, \"name\": \"NVRAM\", \"showlegend\": false, \"text\": [\"C3|Read|NVRAM | +volume=3.0 GB\", \"Z3|Read|NVRAM | +volume=3.0 GB\", \"Z3|Read|NVRAM | +volume=1.0 GB\", \"U8|Read|HDD | +volume=1.0 GB\", \"Z3|Compute | +volume=0B\", \"U8|Compute | +volume=0B\", \"C3|Compute | +volume=0B\", \"Z3|Write|NVRAM | +volume=7.0 GB\", \"C3|Write|NVRAM | +volume=5.0 GB\", \"U8|Write|SSD | +volume=2.77 GB\", \"U8|Write|SSD | +volume=487.43 MB\", \"C3|Compute | +volume=0B\", \"U8|Write|SSD | +volume=1.74 GB\", \"U8|Write|SSD | +volume=238.42 EB\", \"C3|Write|NVRAM | +volume=10.0 GB\"], \"textposition\": \"top center\", \"type\": \"scatter\", \"x\": [0.0, 7.6923076923076925, 7.6923076923076925, 8.974358974358974, 12.5, 18.974358974358974, 22.5, 27.692307692307693, 32.56659198406771, 47.10978342046303, 50.19230769230769, 55.06659198406771, 57.10978342046303, 72.5, 72.5, 76.52725914861837], \"xaxis\": \"x5\", \"y\": [0.0, 5.0, 5.0, 5.0, 5.0, 5.0, 5.0, 5.0, 13.75, 20.0, 20.0, 20.0, 20.0, 20.0, 20.0, 32.5], \"yaxis\": \"y5\"}, {\"line\": {\"shape\": \"vh\"}, \"name\": \"SSD\", \"showlegend\": false, \"text\": [\"C3|Read|NVRAM | +volume=3.0 GB\", \"Z3|Read|NVRAM | +volume=3.0 GB\", \"Z3|Read|NVRAM | +volume=1.0 GB\", \"U8|Read|HDD | +volume=1.0 GB\", \"Z3|Compute | +volume=0B\", \"U8|Compute | +volume=0B\", \"C3|Compute | +volume=0B\", \"Z3|Write|NVRAM | +volume=7.0 GB\", \"C3|Write|NVRAM | +volume=5.0 GB\", \"U8|Write|SSD | +volume=2.77 GB\", \"U8|Write|SSD | +volume=487.43 MB\", \"C3|Compute | +volume=0B\", \"U8|Write|SSD | +volume=1.74 GB\", \"U8|Write|SSD | +volume=238.42 EB\", \"C3|Write|NVRAM | +volume=10.0 GB\"], \"textposition\": \"top center\", \"type\": \"scatter\", \"x\": [0.0, 7.6923076923076925, 7.6923076923076925, 8.974358974358974, 12.5, 18.974358974358974, 22.5, 27.692307692307693, 32.56659198406771, 47.10978342046303, 50.19230769230769, 55.06659198406771, 57.10978342046303, 72.5, 72.5, 76.52725914861837], \"xaxis\": \"x6\", \"y\": [0.0, 0.0, 0.0, 0.0, 0.0, 0.0, 0.0, 0.0, 0.0, 0.0, 1.3846153846153846, 1.6283295992033857, 1.6283295992033857, 2.5, 2.5, 2.5], \"yaxis\": \"y6\"}, {\"line\": {\"shape\": \"vh\"}, \"name\": \"HDD\", \"showlegend\": false, \"text\": [\"C3|Read|NVRAM | +volume=3.0 GB\", \"Z3|Read|NVRAM | +volume=3.0 GB\", \"Z3|Read|NVRAM | +volume=1.0 GB\", \"U8|Read|HDD | +volume=1.0 GB\", \"Z3|Compute | +volume=0B\", \"U8|Compute | +volume=0B\", \"C3|Compute | +volume=0B\", \"Z3|Write|NVRAM | +volume=7.0 GB\", \"C3|Write|NVRAM | +volume=5.0 GB\", \"U8|Write|SSD | +volume=2.77 GB\", \"U8|Write|SSD | +volume=487.43 MB\", \"C3|Compute | +volume=0B\", \"U8|Write|SSD | +volume=1.74 GB\", \"U8|Write|SSD | +volume=238.42 EB\", \"C3|Write|NVRAM | +volume=10.0 GB\"], \"textposition\": \"top center\", \"type\": \"scatter\", \"x\": [0.0, 7.6923076923076925, 7.6923076923076925, 8.974358974358974, 12.5, 18.974358974358974, 22.5, 27.692307692307693, 32.56659198406771, 47.10978342046303, 50.19230769230769, 55.06659198406771, 57.10978342046303, 72.5, 72.5, 76.52725914861837], \"xaxis\": \"x7\", \"y\": [0.0, 0.0, 0.0, 0.0, 0.1, 0.1, 0.1, 0.1, 0.1, 0.1, 0.1, 0.1, 0.1, 0.1, 0.1, 0.1], \"yaxis\": \"y7\"}],\n",
       "                        {\"annotations\": [{\"font\": {\"size\": 16}, \"showarrow\": false, \"text\": \"C3\", \"x\": 0.5, \"xanchor\": \"center\", \"xref\": \"paper\", \"y\": 0.9999999999999999, \"yanchor\": \"bottom\", \"yref\": \"paper\"}, {\"font\": {\"size\": 16}, \"showarrow\": false, \"text\": \"U8\", \"x\": 0.5, \"xanchor\": \"center\", \"xref\": \"paper\", \"y\": 0.8469387755102039, \"yanchor\": \"bottom\", \"yref\": \"paper\"}, {\"font\": {\"size\": 16}, \"showarrow\": false, \"text\": \"Z3\", \"x\": 0.5, \"xanchor\": \"center\", \"xref\": \"paper\", \"y\": 0.6938775510204082, \"yanchor\": \"bottom\", \"yref\": \"paper\"}, {\"font\": {\"size\": 16}, \"showarrow\": false, \"text\": \"CPU Cores\", \"x\": 0.5, \"xanchor\": \"center\", \"xref\": \"paper\", \"y\": 0.5408163265306122, \"yanchor\": \"bottom\", \"yref\": \"paper\"}, {\"font\": {\"size\": 16}, \"showarrow\": false, \"text\": \"NVRAM (80.0 GB)\", \"x\": 0.5, \"xanchor\": \"center\", \"xref\": \"paper\", \"y\": 0.3877551020408163, \"yanchor\": \"bottom\", \"yref\": \"paper\"}, {\"font\": {\"size\": 16}, \"showarrow\": false, \"text\": \"SSD (200.0 GB)\", \"x\": 0.5, \"xanchor\": \"center\", \"xref\": \"paper\", \"y\": 0.2346938775510204, \"yanchor\": \"bottom\", \"yref\": \"paper\"}, {\"font\": {\"size\": 16}, \"showarrow\": false, \"text\": \"HDD (1.0 TB)\", \"x\": 0.5, \"xanchor\": \"center\", \"xref\": \"paper\", \"y\": 0.08163265306122448, \"yanchor\": \"bottom\", \"yref\": \"paper\"}], \"height\": 900, \"template\": {\"data\": {\"bar\": [{\"error_x\": {\"color\": \"#2a3f5f\"}, \"error_y\": {\"color\": \"#2a3f5f\"}, \"marker\": {\"line\": {\"color\": \"#E5ECF6\", \"width\": 0.5}}, \"type\": \"bar\"}], \"barpolar\": [{\"marker\": {\"line\": {\"color\": \"#E5ECF6\", \"width\": 0.5}}, \"type\": \"barpolar\"}], \"carpet\": [{\"aaxis\": {\"endlinecolor\": \"#2a3f5f\", \"gridcolor\": \"white\", \"linecolor\": \"white\", \"minorgridcolor\": \"white\", \"startlinecolor\": \"#2a3f5f\"}, \"baxis\": {\"endlinecolor\": \"#2a3f5f\", \"gridcolor\": \"white\", \"linecolor\": \"white\", \"minorgridcolor\": \"white\", \"startlinecolor\": \"#2a3f5f\"}, \"type\": \"carpet\"}], \"choropleth\": [{\"colorbar\": {\"outlinewidth\": 0, \"ticks\": \"\"}, \"type\": \"choropleth\"}], \"contour\": [{\"colorbar\": {\"outlinewidth\": 0, \"ticks\": \"\"}, \"colorscale\": [[0.0, \"#0d0887\"], [0.1111111111111111, \"#46039f\"], [0.2222222222222222, \"#7201a8\"], [0.3333333333333333, \"#9c179e\"], [0.4444444444444444, \"#bd3786\"], [0.5555555555555556, \"#d8576b\"], [0.6666666666666666, \"#ed7953\"], [0.7777777777777778, \"#fb9f3a\"], [0.8888888888888888, \"#fdca26\"], [1.0, \"#f0f921\"]], \"type\": \"contour\"}], \"contourcarpet\": [{\"colorbar\": {\"outlinewidth\": 0, \"ticks\": \"\"}, \"type\": \"contourcarpet\"}], \"heatmap\": [{\"colorbar\": {\"outlinewidth\": 0, \"ticks\": \"\"}, \"colorscale\": [[0.0, \"#0d0887\"], [0.1111111111111111, \"#46039f\"], [0.2222222222222222, \"#7201a8\"], [0.3333333333333333, \"#9c179e\"], [0.4444444444444444, \"#bd3786\"], [0.5555555555555556, \"#d8576b\"], [0.6666666666666666, \"#ed7953\"], [0.7777777777777778, \"#fb9f3a\"], [0.8888888888888888, \"#fdca26\"], [1.0, \"#f0f921\"]], \"type\": \"heatmap\"}], \"heatmapgl\": [{\"colorbar\": {\"outlinewidth\": 0, \"ticks\": \"\"}, \"colorscale\": [[0.0, \"#0d0887\"], [0.1111111111111111, \"#46039f\"], [0.2222222222222222, \"#7201a8\"], [0.3333333333333333, \"#9c179e\"], [0.4444444444444444, \"#bd3786\"], [0.5555555555555556, \"#d8576b\"], [0.6666666666666666, \"#ed7953\"], [0.7777777777777778, \"#fb9f3a\"], [0.8888888888888888, \"#fdca26\"], [1.0, \"#f0f921\"]], \"type\": \"heatmapgl\"}], \"histogram\": [{\"marker\": {\"colorbar\": {\"outlinewidth\": 0, \"ticks\": \"\"}}, \"type\": \"histogram\"}], \"histogram2d\": [{\"colorbar\": {\"outlinewidth\": 0, \"ticks\": \"\"}, \"colorscale\": [[0.0, \"#0d0887\"], [0.1111111111111111, \"#46039f\"], [0.2222222222222222, \"#7201a8\"], [0.3333333333333333, \"#9c179e\"], [0.4444444444444444, \"#bd3786\"], [0.5555555555555556, \"#d8576b\"], [0.6666666666666666, \"#ed7953\"], [0.7777777777777778, \"#fb9f3a\"], [0.8888888888888888, \"#fdca26\"], [1.0, \"#f0f921\"]], \"type\": \"histogram2d\"}], \"histogram2dcontour\": [{\"colorbar\": {\"outlinewidth\": 0, \"ticks\": \"\"}, \"colorscale\": [[0.0, \"#0d0887\"], [0.1111111111111111, \"#46039f\"], [0.2222222222222222, \"#7201a8\"], [0.3333333333333333, \"#9c179e\"], [0.4444444444444444, \"#bd3786\"], [0.5555555555555556, \"#d8576b\"], [0.6666666666666666, \"#ed7953\"], [0.7777777777777778, \"#fb9f3a\"], [0.8888888888888888, \"#fdca26\"], [1.0, \"#f0f921\"]], \"type\": \"histogram2dcontour\"}], \"mesh3d\": [{\"colorbar\": {\"outlinewidth\": 0, \"ticks\": \"\"}, \"type\": \"mesh3d\"}], \"parcoords\": [{\"line\": {\"colorbar\": {\"outlinewidth\": 0, \"ticks\": \"\"}}, \"type\": \"parcoords\"}], \"pie\": [{\"automargin\": true, \"type\": \"pie\"}], \"scatter\": [{\"marker\": {\"colorbar\": {\"outlinewidth\": 0, \"ticks\": \"\"}}, \"type\": \"scatter\"}], \"scatter3d\": [{\"line\": {\"colorbar\": {\"outlinewidth\": 0, \"ticks\": \"\"}}, \"marker\": {\"colorbar\": {\"outlinewidth\": 0, \"ticks\": \"\"}}, \"type\": \"scatter3d\"}], \"scattercarpet\": [{\"marker\": {\"colorbar\": {\"outlinewidth\": 0, \"ticks\": \"\"}}, \"type\": \"scattercarpet\"}], \"scattergeo\": [{\"marker\": {\"colorbar\": {\"outlinewidth\": 0, \"ticks\": \"\"}}, \"type\": \"scattergeo\"}], \"scattergl\": [{\"marker\": {\"colorbar\": {\"outlinewidth\": 0, \"ticks\": \"\"}}, \"type\": \"scattergl\"}], \"scattermapbox\": [{\"marker\": {\"colorbar\": {\"outlinewidth\": 0, \"ticks\": \"\"}}, \"type\": \"scattermapbox\"}], \"scatterpolar\": [{\"marker\": {\"colorbar\": {\"outlinewidth\": 0, \"ticks\": \"\"}}, \"type\": \"scatterpolar\"}], \"scatterpolargl\": [{\"marker\": {\"colorbar\": {\"outlinewidth\": 0, \"ticks\": \"\"}}, \"type\": \"scatterpolargl\"}], \"scatterternary\": [{\"marker\": {\"colorbar\": {\"outlinewidth\": 0, \"ticks\": \"\"}}, \"type\": \"scatterternary\"}], \"surface\": [{\"colorbar\": {\"outlinewidth\": 0, \"ticks\": \"\"}, \"colorscale\": [[0.0, \"#0d0887\"], [0.1111111111111111, \"#46039f\"], [0.2222222222222222, \"#7201a8\"], [0.3333333333333333, \"#9c179e\"], [0.4444444444444444, \"#bd3786\"], [0.5555555555555556, \"#d8576b\"], [0.6666666666666666, \"#ed7953\"], [0.7777777777777778, \"#fb9f3a\"], [0.8888888888888888, \"#fdca26\"], [1.0, \"#f0f921\"]], \"type\": \"surface\"}], \"table\": [{\"cells\": {\"fill\": {\"color\": \"#EBF0F8\"}, \"line\": {\"color\": \"white\"}}, \"header\": {\"fill\": {\"color\": \"#C8D4E3\"}, \"line\": {\"color\": \"white\"}}, \"type\": \"table\"}]}, \"layout\": {\"annotationdefaults\": {\"arrowcolor\": \"#2a3f5f\", \"arrowhead\": 0, \"arrowwidth\": 1}, \"coloraxis\": {\"colorbar\": {\"outlinewidth\": 0, \"ticks\": \"\"}}, \"colorscale\": {\"diverging\": [[0, \"#8e0152\"], [0.1, \"#c51b7d\"], [0.2, \"#de77ae\"], [0.3, \"#f1b6da\"], [0.4, \"#fde0ef\"], [0.5, \"#f7f7f7\"], [0.6, \"#e6f5d0\"], [0.7, \"#b8e186\"], [0.8, \"#7fbc41\"], [0.9, \"#4d9221\"], [1, \"#276419\"]], \"sequential\": [[0.0, \"#0d0887\"], [0.1111111111111111, \"#46039f\"], [0.2222222222222222, \"#7201a8\"], [0.3333333333333333, \"#9c179e\"], [0.4444444444444444, \"#bd3786\"], [0.5555555555555556, \"#d8576b\"], [0.6666666666666666, \"#ed7953\"], [0.7777777777777778, \"#fb9f3a\"], [0.8888888888888888, \"#fdca26\"], [1.0, \"#f0f921\"]], \"sequentialminus\": [[0.0, \"#0d0887\"], [0.1111111111111111, \"#46039f\"], [0.2222222222222222, \"#7201a8\"], [0.3333333333333333, \"#9c179e\"], [0.4444444444444444, \"#bd3786\"], [0.5555555555555556, \"#d8576b\"], [0.6666666666666666, \"#ed7953\"], [0.7777777777777778, \"#fb9f3a\"], [0.8888888888888888, \"#fdca26\"], [1.0, \"#f0f921\"]]}, \"colorway\": [\"#636efa\", \"#EF553B\", \"#00cc96\", \"#ab63fa\", \"#FFA15A\", \"#19d3f3\", \"#FF6692\", \"#B6E880\", \"#FF97FF\", \"#FECB52\"], \"font\": {\"color\": \"#2a3f5f\"}, \"geo\": {\"bgcolor\": \"white\", \"lakecolor\": \"white\", \"landcolor\": \"#E5ECF6\", \"showlakes\": true, \"showland\": true, \"subunitcolor\": \"white\"}, \"hoverlabel\": {\"align\": \"left\"}, \"hovermode\": \"closest\", \"mapbox\": {\"style\": \"light\"}, \"paper_bgcolor\": \"white\", \"plot_bgcolor\": \"#E5ECF6\", \"polar\": {\"angularaxis\": {\"gridcolor\": \"white\", \"linecolor\": \"white\", \"ticks\": \"\"}, \"bgcolor\": \"#E5ECF6\", \"radialaxis\": {\"gridcolor\": \"white\", \"linecolor\": \"white\", \"ticks\": \"\"}}, \"scene\": {\"xaxis\": {\"backgroundcolor\": \"#E5ECF6\", \"gridcolor\": \"white\", \"gridwidth\": 2, \"linecolor\": \"white\", \"showbackground\": true, \"ticks\": \"\", \"zerolinecolor\": \"white\"}, \"yaxis\": {\"backgroundcolor\": \"#E5ECF6\", \"gridcolor\": \"white\", \"gridwidth\": 2, \"linecolor\": \"white\", \"showbackground\": true, \"ticks\": \"\", \"zerolinecolor\": \"white\"}, \"zaxis\": {\"backgroundcolor\": \"#E5ECF6\", \"gridcolor\": \"white\", \"gridwidth\": 2, \"linecolor\": \"white\", \"showbackground\": true, \"ticks\": \"\", \"zerolinecolor\": \"white\"}}, \"shapedefaults\": {\"line\": {\"color\": \"#2a3f5f\"}}, \"ternary\": {\"aaxis\": {\"gridcolor\": \"white\", \"linecolor\": \"white\", \"ticks\": \"\"}, \"baxis\": {\"gridcolor\": \"white\", \"linecolor\": \"white\", \"ticks\": \"\"}, \"bgcolor\": \"#E5ECF6\", \"caxis\": {\"gridcolor\": \"white\", \"linecolor\": \"white\", \"ticks\": \"\"}}, \"title\": {\"x\": 0.05}, \"xaxis\": {\"automargin\": true, \"gridcolor\": \"white\", \"linecolor\": \"white\", \"ticks\": \"\", \"title\": {\"standoff\": 15}, \"zerolinecolor\": \"white\", \"zerolinewidth\": 2}, \"yaxis\": {\"automargin\": true, \"gridcolor\": \"white\", \"linecolor\": \"white\", \"ticks\": \"\", \"title\": {\"standoff\": 15}, \"zerolinecolor\": \"white\", \"zerolinewidth\": 2}}}, \"title\": {\"text\": \"State of the Cluster\"}, \"width\": 800, \"xaxis\": {\"anchor\": \"y\", \"domain\": [0.0, 1.0], \"matches\": \"x7\", \"showticklabels\": false, \"title\": {\"text\": \"time in s\"}}, \"xaxis2\": {\"anchor\": \"y2\", \"domain\": [0.0, 1.0], \"matches\": \"x7\", \"showticklabels\": false, \"title\": {\"text\": \"time in s\"}}, \"xaxis3\": {\"anchor\": \"y3\", \"domain\": [0.0, 1.0], \"matches\": \"x7\", \"showticklabels\": false, \"title\": {\"text\": \"time in s\"}}, \"xaxis4\": {\"anchor\": \"y4\", \"domain\": [0.0, 1.0], \"matches\": \"x7\", \"showticklabels\": false, \"title\": {\"text\": \"time in s\"}}, \"xaxis5\": {\"anchor\": \"y5\", \"domain\": [0.0, 1.0], \"matches\": \"x7\", \"showticklabels\": false, \"title\": {\"text\": \"time in s\"}}, \"xaxis6\": {\"anchor\": \"y6\", \"domain\": [0.0, 1.0], \"matches\": \"x7\", \"showticklabels\": false, \"title\": {\"text\": \"time in s\"}}, \"xaxis7\": {\"anchor\": \"y7\", \"domain\": [0.0, 1.0], \"title\": {\"text\": \"time in s\"}}, \"yaxis\": {\"anchor\": \"x\", \"domain\": [0.9183673469387754, 0.9999999999999999], \"title\": {\"text\": \"dataflow in MB/s\"}}, \"yaxis2\": {\"anchor\": \"x2\", \"domain\": [0.7653061224489794, 0.8469387755102039], \"title\": {\"text\": \"dataflow in MB/s\"}}, \"yaxis3\": {\"anchor\": \"x3\", \"domain\": [0.6122448979591837, 0.6938775510204082], \"title\": {\"text\": \"dataflow in MB/s\"}}, \"yaxis4\": {\"anchor\": \"x4\", \"domain\": [0.4591836734693877, 0.5408163265306122], \"title\": {\"text\": \"CPU usage\"}}, \"yaxis5\": {\"anchor\": \"x5\", \"domain\": [0.30612244897959184, 0.3877551020408163], \"title\": {\"text\": \"NVRAM usage in %\"}}, \"yaxis6\": {\"anchor\": \"x6\", \"domain\": [0.15306122448979592, 0.2346938775510204], \"title\": {\"text\": \"SSD usage in %\"}}, \"yaxis7\": {\"anchor\": \"x7\", \"domain\": [0.0, 0.08163265306122448], \"title\": {\"text\": \"HDD usage in %\"}}},\n",
       "                        {\"responsive\": true}\n",
       "                    ).then(function(){\n",
       "                            \n",
       "var gd = document.getElementById('773b540c-97cb-4583-83d5-5eeb2388e667');\n",
       "var x = new MutationObserver(function (mutations, observer) {{\n",
       "        var display = window.getComputedStyle(gd).display;\n",
       "        if (!display || display === 'none') {{\n",
       "            console.log([gd, 'removed!']);\n",
       "            Plotly.purge(gd);\n",
       "            observer.disconnect();\n",
       "        }}\n",
       "}});\n",
       "\n",
       "// Listen for the removal of the full notebook cells\n",
       "var notebookContainer = gd.closest('#notebook-container');\n",
       "if (notebookContainer) {{\n",
       "    x.observe(notebookContainer, {childList: true});\n",
       "}}\n",
       "\n",
       "// Listen for the clearing of the current output cell\n",
       "var outputEl = gd.closest('.output');\n",
       "if (outputEl) {{\n",
       "    x.observe(outputEl, {childList: true});\n",
       "}}\n",
       "\n",
       "                        })\n",
       "                };\n",
       "                });\n",
       "            </script>\n",
       "        </div>"
      ]
     },
     "metadata": {},
     "output_type": "display_data"
    }
   ],
   "source": [
    "fig1 = cbb.display_placement(placement=bbopt.best_parameters_in_grid) # solution found by bbopt\n",
    "fig2 = cbb.display_placement(placement=[0, 0, 0, 0, 0, 0, 0]) # most intuitive solution\n",
    "fig1.show()\n"
   ]
  },
  {
   "cell_type": "code",
   "execution_count": 47,
   "metadata": {},
   "outputs": [
    {
     "data": {
      "application/vnd.plotly.v1+json": {
       "config": {
        "plotlyServerURL": "https://plot.ly"
       },
       "data": [
        {
         "line": {
          "shape": "hvh"
         },
         "name": "C4",
         "showlegend": false,
         "text": [
          "READ|to/from:NVRAM|volume=1.0 GB",
          "READ|to/from:NVRAM|volume=1.0 GB",
          "READ|to/from:NVRAM|volume=1.5 GB",
          "READ|to/from:NVRAM|volume=1.5 GB",
          "READ|to/from:NVRAM|volume=1.5 GB",
          "READ|to/from:NVRAM|volume=1.5 GB",
          "COMPUTE|volume=0B",
          "COMPUTE|volume=0B",
          "WRITE|to/from:NVRAM|volume=6.07 GB",
          "WRITE|to/from:NVRAM|volume=6.07 GB",
          "WRITE|to/from:NVRAM|volume=934.62 MB",
          "WRITE|to/from:NVRAM|volume=934.62 MB"
         ],
         "textposition": "top center",
         "type": "scatter",
         "x": [
          0,
          3.8461538461538463,
          3.8461538461538463,
          7.6923076923076925,
          7.6923076923076925,
          11.538461538461538,
          11.538461538461538,
          21.53846153846154,
          21.53846153846154,
          45.093353248693056,
          45.093353248693056,
          48.72292755787902
         ],
         "xaxis": "x",
         "y": [
          260,
          260,
          390,
          390,
          390,
          390,
          0,
          0,
          257.5,
          257.5,
          257.5,
          257.5
         ],
         "yaxis": "y"
        },
        {
         "line": {
          "shape": "hvh"
         },
         "name": "E6",
         "showlegend": false,
         "text": [
          "READ|to/from:NVRAM|volume=3.0 GB",
          "READ|to/from:NVRAM|volume=3.0 GB",
          "COMPUTE|volume=0B",
          "COMPUTE|volume=0B",
          "WRITE|to/from:NVRAM|volume=5.0 GB",
          "WRITE|to/from:NVRAM|volume=5.0 GB",
          "COMPUTE|volume=0B",
          "COMPUTE|volume=0B",
          "WRITE|to/from:NVRAM|volume=10.0 GB",
          "WRITE|to/from:NVRAM|volume=10.0 GB"
         ],
         "textposition": "top center",
         "type": "scatter",
         "x": [
          0,
          11.538461538461538,
          11.538461538461538,
          31.53846153846154,
          31.53846153846154,
          50.95593726661688,
          50.95593726661688,
          60.95593726661688,
          60.95593726661688,
          80.37341299477222
         ],
         "xaxis": "x2",
         "y": [
          260,
          260,
          0,
          0,
          257.5,
          257.5,
          0,
          0,
          515,
          515
         ],
         "yaxis": "y2"
        },
        {
         "line": {
          "shape": "hvh"
         },
         "name": "Z4",
         "showlegend": false,
         "text": [
          "READ|to/from:NVRAM|volume=1.0 GB",
          "READ|to/from:NVRAM|volume=1.0 GB",
          "COMPUTE|volume=0B",
          "COMPUTE|volume=0B",
          "WRITE|to/from:NVRAM|volume=5.0 GB",
          "WRITE|to/from:NVRAM|volume=5.0 GB"
         ],
         "textposition": "top center",
         "type": "scatter",
         "x": [
          0,
          3.8461538461538463,
          3.8461538461538463,
          13.846153846153847,
          13.846153846153847,
          23.554891710231516
         ],
         "xaxis": "x3",
         "y": [
          260,
          260,
          0,
          0,
          515,
          515
         ],
         "yaxis": "y3"
        },
        {
         "line": {
          "shape": "hv"
         },
         "showlegend": false,
         "type": "scatter",
         "x": [
          0,
          3.8461538461538463,
          7.6923076923076925,
          11.538461538461538,
          13.846153846153847,
          21.53846153846154,
          23.554891710231516,
          31.53846153846154,
          45.093353248693056,
          48.72292755787902,
          50.95593726661688,
          60.95593726661688,
          80.37341299477222
         ],
         "xaxis": "x4",
         "y": [
          3,
          3,
          3,
          3,
          3,
          3,
          2,
          2,
          2,
          1,
          1,
          1,
          0
         ],
         "yaxis": "y4"
        },
        {
         "line": {
          "color": "red",
          "dash": "dot",
          "shape": "hv",
          "width": 3
         },
         "showlegend": false,
         "text": [
          "Maximum available cores in cluster=5",
          "Maximum available cores in cluster=5"
         ],
         "type": "scatter",
         "x": [
          0,
          80.37341299477222
         ],
         "xaxis": "x4",
         "y": [
          5,
          5
         ],
         "yaxis": "y4"
        },
        {
         "line": {
          "shape": "vh"
         },
         "name": "NVRAM",
         "showlegend": false,
         "text": [
          "Z4|Read|NVRAM | +volume=1.0 GB",
          "C4|Read|NVRAM | +volume=1.0 GB",
          "C4|Read|NVRAM | +volume=1.5 GB",
          "E6|Read|NVRAM | +volume=3.0 GB",
          "C4|Read|NVRAM | +volume=1.5 GB",
          "Z4|Compute | +volume=0B",
          "C4|Compute | +volume=0B",
          "Z4|Write|NVRAM | +volume=5.0 GB",
          "E6|Compute | +volume=0B",
          "C4|Write|NVRAM | +volume=6.07 GB",
          "C4|Write|NVRAM | +volume=934.62 MB",
          "E6|Write|NVRAM | +volume=5.0 GB",
          "E6|Compute | +volume=0B",
          "E6|Write|NVRAM | +volume=10.0 GB"
         ],
         "textposition": "top center",
         "type": "scatter",
         "x": [
          0,
          3.8461538461538463,
          3.8461538461538463,
          7.6923076923076925,
          11.538461538461538,
          11.538461538461538,
          13.846153846153847,
          21.53846153846154,
          23.554891710231516,
          31.53846153846154,
          45.093353248693056,
          48.72292755787902,
          50.95593726661688,
          60.95593726661688,
          80.37341299477222
         ],
         "xaxis": "x5",
         "y": [
          0,
          5,
          5,
          5,
          5,
          5,
          5,
          5,
          11.25,
          11.25,
          18.831730769230766,
          20,
          26.25,
          26.25,
          38.75
         ],
         "yaxis": "y5"
        },
        {
         "line": {
          "shape": "vh"
         },
         "name": "SSD",
         "showlegend": false,
         "text": [
          "Z4|Read|NVRAM | +volume=1.0 GB",
          "C4|Read|NVRAM | +volume=1.0 GB",
          "C4|Read|NVRAM | +volume=1.5 GB",
          "E6|Read|NVRAM | +volume=3.0 GB",
          "C4|Read|NVRAM | +volume=1.5 GB",
          "Z4|Compute | +volume=0B",
          "C4|Compute | +volume=0B",
          "Z4|Write|NVRAM | +volume=5.0 GB",
          "E6|Compute | +volume=0B",
          "C4|Write|NVRAM | +volume=6.07 GB",
          "C4|Write|NVRAM | +volume=934.62 MB",
          "E6|Write|NVRAM | +volume=5.0 GB",
          "E6|Compute | +volume=0B",
          "E6|Write|NVRAM | +volume=10.0 GB"
         ],
         "textposition": "top center",
         "type": "scatter",
         "x": [
          0,
          3.8461538461538463,
          3.8461538461538463,
          7.6923076923076925,
          11.538461538461538,
          11.538461538461538,
          13.846153846153847,
          21.53846153846154,
          23.554891710231516,
          31.53846153846154,
          45.093353248693056,
          48.72292755787902,
          50.95593726661688,
          60.95593726661688,
          80.37341299477222
         ],
         "xaxis": "x6",
         "y": [
          0,
          0,
          0,
          0,
          0,
          0,
          0,
          0,
          0,
          0,
          0,
          0,
          0,
          0,
          0
         ],
         "yaxis": "y6"
        },
        {
         "line": {
          "shape": "vh"
         },
         "name": "HDD",
         "showlegend": false,
         "text": [
          "Z4|Read|NVRAM | +volume=1.0 GB",
          "C4|Read|NVRAM | +volume=1.0 GB",
          "C4|Read|NVRAM | +volume=1.5 GB",
          "E6|Read|NVRAM | +volume=3.0 GB",
          "C4|Read|NVRAM | +volume=1.5 GB",
          "Z4|Compute | +volume=0B",
          "C4|Compute | +volume=0B",
          "Z4|Write|NVRAM | +volume=5.0 GB",
          "E6|Compute | +volume=0B",
          "C4|Write|NVRAM | +volume=6.07 GB",
          "C4|Write|NVRAM | +volume=934.62 MB",
          "E6|Write|NVRAM | +volume=5.0 GB",
          "E6|Compute | +volume=0B",
          "E6|Write|NVRAM | +volume=10.0 GB"
         ],
         "textposition": "top center",
         "type": "scatter",
         "x": [
          0,
          3.8461538461538463,
          3.8461538461538463,
          7.6923076923076925,
          11.538461538461538,
          11.538461538461538,
          13.846153846153847,
          21.53846153846154,
          23.554891710231516,
          31.53846153846154,
          45.093353248693056,
          48.72292755787902,
          50.95593726661688,
          60.95593726661688,
          80.37341299477222
         ],
         "xaxis": "x7",
         "y": [
          0,
          0,
          0,
          0,
          0,
          0,
          0,
          0,
          0,
          0,
          0,
          0,
          0,
          0,
          0
         ],
         "yaxis": "y7"
        }
       ],
       "layout": {
        "annotations": [
         {
          "font": {
           "size": 16
          },
          "showarrow": false,
          "text": "C4",
          "x": 0.5,
          "xanchor": "center",
          "xref": "paper",
          "y": 0.9999999999999999,
          "yanchor": "bottom",
          "yref": "paper"
         },
         {
          "font": {
           "size": 16
          },
          "showarrow": false,
          "text": "E6",
          "x": 0.5,
          "xanchor": "center",
          "xref": "paper",
          "y": 0.8469387755102039,
          "yanchor": "bottom",
          "yref": "paper"
         },
         {
          "font": {
           "size": 16
          },
          "showarrow": false,
          "text": "Z4",
          "x": 0.5,
          "xanchor": "center",
          "xref": "paper",
          "y": 0.6938775510204082,
          "yanchor": "bottom",
          "yref": "paper"
         },
         {
          "font": {
           "size": 16
          },
          "showarrow": false,
          "text": "CPU Cores",
          "x": 0.5,
          "xanchor": "center",
          "xref": "paper",
          "y": 0.5408163265306122,
          "yanchor": "bottom",
          "yref": "paper"
         },
         {
          "font": {
           "size": 16
          },
          "showarrow": false,
          "text": "NVRAM (80.0 GB)",
          "x": 0.5,
          "xanchor": "center",
          "xref": "paper",
          "y": 0.3877551020408163,
          "yanchor": "bottom",
          "yref": "paper"
         },
         {
          "font": {
           "size": 16
          },
          "showarrow": false,
          "text": "SSD (200.0 GB)",
          "x": 0.5,
          "xanchor": "center",
          "xref": "paper",
          "y": 0.2346938775510204,
          "yanchor": "bottom",
          "yref": "paper"
         },
         {
          "font": {
           "size": 16
          },
          "showarrow": false,
          "text": "HDD (1.0 TB)",
          "x": 0.5,
          "xanchor": "center",
          "xref": "paper",
          "y": 0.08163265306122448,
          "yanchor": "bottom",
          "yref": "paper"
         }
        ],
        "height": 900,
        "template": {
         "data": {
          "bar": [
           {
            "error_x": {
             "color": "#2a3f5f"
            },
            "error_y": {
             "color": "#2a3f5f"
            },
            "marker": {
             "line": {
              "color": "#E5ECF6",
              "width": 0.5
             }
            },
            "type": "bar"
           }
          ],
          "barpolar": [
           {
            "marker": {
             "line": {
              "color": "#E5ECF6",
              "width": 0.5
             }
            },
            "type": "barpolar"
           }
          ],
          "carpet": [
           {
            "aaxis": {
             "endlinecolor": "#2a3f5f",
             "gridcolor": "white",
             "linecolor": "white",
             "minorgridcolor": "white",
             "startlinecolor": "#2a3f5f"
            },
            "baxis": {
             "endlinecolor": "#2a3f5f",
             "gridcolor": "white",
             "linecolor": "white",
             "minorgridcolor": "white",
             "startlinecolor": "#2a3f5f"
            },
            "type": "carpet"
           }
          ],
          "choropleth": [
           {
            "colorbar": {
             "outlinewidth": 0,
             "ticks": ""
            },
            "type": "choropleth"
           }
          ],
          "contour": [
           {
            "colorbar": {
             "outlinewidth": 0,
             "ticks": ""
            },
            "colorscale": [
             [
              0,
              "#0d0887"
             ],
             [
              0.1111111111111111,
              "#46039f"
             ],
             [
              0.2222222222222222,
              "#7201a8"
             ],
             [
              0.3333333333333333,
              "#9c179e"
             ],
             [
              0.4444444444444444,
              "#bd3786"
             ],
             [
              0.5555555555555556,
              "#d8576b"
             ],
             [
              0.6666666666666666,
              "#ed7953"
             ],
             [
              0.7777777777777778,
              "#fb9f3a"
             ],
             [
              0.8888888888888888,
              "#fdca26"
             ],
             [
              1,
              "#f0f921"
             ]
            ],
            "type": "contour"
           }
          ],
          "contourcarpet": [
           {
            "colorbar": {
             "outlinewidth": 0,
             "ticks": ""
            },
            "type": "contourcarpet"
           }
          ],
          "heatmap": [
           {
            "colorbar": {
             "outlinewidth": 0,
             "ticks": ""
            },
            "colorscale": [
             [
              0,
              "#0d0887"
             ],
             [
              0.1111111111111111,
              "#46039f"
             ],
             [
              0.2222222222222222,
              "#7201a8"
             ],
             [
              0.3333333333333333,
              "#9c179e"
             ],
             [
              0.4444444444444444,
              "#bd3786"
             ],
             [
              0.5555555555555556,
              "#d8576b"
             ],
             [
              0.6666666666666666,
              "#ed7953"
             ],
             [
              0.7777777777777778,
              "#fb9f3a"
             ],
             [
              0.8888888888888888,
              "#fdca26"
             ],
             [
              1,
              "#f0f921"
             ]
            ],
            "type": "heatmap"
           }
          ],
          "heatmapgl": [
           {
            "colorbar": {
             "outlinewidth": 0,
             "ticks": ""
            },
            "colorscale": [
             [
              0,
              "#0d0887"
             ],
             [
              0.1111111111111111,
              "#46039f"
             ],
             [
              0.2222222222222222,
              "#7201a8"
             ],
             [
              0.3333333333333333,
              "#9c179e"
             ],
             [
              0.4444444444444444,
              "#bd3786"
             ],
             [
              0.5555555555555556,
              "#d8576b"
             ],
             [
              0.6666666666666666,
              "#ed7953"
             ],
             [
              0.7777777777777778,
              "#fb9f3a"
             ],
             [
              0.8888888888888888,
              "#fdca26"
             ],
             [
              1,
              "#f0f921"
             ]
            ],
            "type": "heatmapgl"
           }
          ],
          "histogram": [
           {
            "marker": {
             "colorbar": {
              "outlinewidth": 0,
              "ticks": ""
             }
            },
            "type": "histogram"
           }
          ],
          "histogram2d": [
           {
            "colorbar": {
             "outlinewidth": 0,
             "ticks": ""
            },
            "colorscale": [
             [
              0,
              "#0d0887"
             ],
             [
              0.1111111111111111,
              "#46039f"
             ],
             [
              0.2222222222222222,
              "#7201a8"
             ],
             [
              0.3333333333333333,
              "#9c179e"
             ],
             [
              0.4444444444444444,
              "#bd3786"
             ],
             [
              0.5555555555555556,
              "#d8576b"
             ],
             [
              0.6666666666666666,
              "#ed7953"
             ],
             [
              0.7777777777777778,
              "#fb9f3a"
             ],
             [
              0.8888888888888888,
              "#fdca26"
             ],
             [
              1,
              "#f0f921"
             ]
            ],
            "type": "histogram2d"
           }
          ],
          "histogram2dcontour": [
           {
            "colorbar": {
             "outlinewidth": 0,
             "ticks": ""
            },
            "colorscale": [
             [
              0,
              "#0d0887"
             ],
             [
              0.1111111111111111,
              "#46039f"
             ],
             [
              0.2222222222222222,
              "#7201a8"
             ],
             [
              0.3333333333333333,
              "#9c179e"
             ],
             [
              0.4444444444444444,
              "#bd3786"
             ],
             [
              0.5555555555555556,
              "#d8576b"
             ],
             [
              0.6666666666666666,
              "#ed7953"
             ],
             [
              0.7777777777777778,
              "#fb9f3a"
             ],
             [
              0.8888888888888888,
              "#fdca26"
             ],
             [
              1,
              "#f0f921"
             ]
            ],
            "type": "histogram2dcontour"
           }
          ],
          "mesh3d": [
           {
            "colorbar": {
             "outlinewidth": 0,
             "ticks": ""
            },
            "type": "mesh3d"
           }
          ],
          "parcoords": [
           {
            "line": {
             "colorbar": {
              "outlinewidth": 0,
              "ticks": ""
             }
            },
            "type": "parcoords"
           }
          ],
          "pie": [
           {
            "automargin": true,
            "type": "pie"
           }
          ],
          "scatter": [
           {
            "marker": {
             "colorbar": {
              "outlinewidth": 0,
              "ticks": ""
             }
            },
            "type": "scatter"
           }
          ],
          "scatter3d": [
           {
            "line": {
             "colorbar": {
              "outlinewidth": 0,
              "ticks": ""
             }
            },
            "marker": {
             "colorbar": {
              "outlinewidth": 0,
              "ticks": ""
             }
            },
            "type": "scatter3d"
           }
          ],
          "scattercarpet": [
           {
            "marker": {
             "colorbar": {
              "outlinewidth": 0,
              "ticks": ""
             }
            },
            "type": "scattercarpet"
           }
          ],
          "scattergeo": [
           {
            "marker": {
             "colorbar": {
              "outlinewidth": 0,
              "ticks": ""
             }
            },
            "type": "scattergeo"
           }
          ],
          "scattergl": [
           {
            "marker": {
             "colorbar": {
              "outlinewidth": 0,
              "ticks": ""
             }
            },
            "type": "scattergl"
           }
          ],
          "scattermapbox": [
           {
            "marker": {
             "colorbar": {
              "outlinewidth": 0,
              "ticks": ""
             }
            },
            "type": "scattermapbox"
           }
          ],
          "scatterpolar": [
           {
            "marker": {
             "colorbar": {
              "outlinewidth": 0,
              "ticks": ""
             }
            },
            "type": "scatterpolar"
           }
          ],
          "scatterpolargl": [
           {
            "marker": {
             "colorbar": {
              "outlinewidth": 0,
              "ticks": ""
             }
            },
            "type": "scatterpolargl"
           }
          ],
          "scatterternary": [
           {
            "marker": {
             "colorbar": {
              "outlinewidth": 0,
              "ticks": ""
             }
            },
            "type": "scatterternary"
           }
          ],
          "surface": [
           {
            "colorbar": {
             "outlinewidth": 0,
             "ticks": ""
            },
            "colorscale": [
             [
              0,
              "#0d0887"
             ],
             [
              0.1111111111111111,
              "#46039f"
             ],
             [
              0.2222222222222222,
              "#7201a8"
             ],
             [
              0.3333333333333333,
              "#9c179e"
             ],
             [
              0.4444444444444444,
              "#bd3786"
             ],
             [
              0.5555555555555556,
              "#d8576b"
             ],
             [
              0.6666666666666666,
              "#ed7953"
             ],
             [
              0.7777777777777778,
              "#fb9f3a"
             ],
             [
              0.8888888888888888,
              "#fdca26"
             ],
             [
              1,
              "#f0f921"
             ]
            ],
            "type": "surface"
           }
          ],
          "table": [
           {
            "cells": {
             "fill": {
              "color": "#EBF0F8"
             },
             "line": {
              "color": "white"
             }
            },
            "header": {
             "fill": {
              "color": "#C8D4E3"
             },
             "line": {
              "color": "white"
             }
            },
            "type": "table"
           }
          ]
         },
         "layout": {
          "annotationdefaults": {
           "arrowcolor": "#2a3f5f",
           "arrowhead": 0,
           "arrowwidth": 1
          },
          "coloraxis": {
           "colorbar": {
            "outlinewidth": 0,
            "ticks": ""
           }
          },
          "colorscale": {
           "diverging": [
            [
             0,
             "#8e0152"
            ],
            [
             0.1,
             "#c51b7d"
            ],
            [
             0.2,
             "#de77ae"
            ],
            [
             0.3,
             "#f1b6da"
            ],
            [
             0.4,
             "#fde0ef"
            ],
            [
             0.5,
             "#f7f7f7"
            ],
            [
             0.6,
             "#e6f5d0"
            ],
            [
             0.7,
             "#b8e186"
            ],
            [
             0.8,
             "#7fbc41"
            ],
            [
             0.9,
             "#4d9221"
            ],
            [
             1,
             "#276419"
            ]
           ],
           "sequential": [
            [
             0,
             "#0d0887"
            ],
            [
             0.1111111111111111,
             "#46039f"
            ],
            [
             0.2222222222222222,
             "#7201a8"
            ],
            [
             0.3333333333333333,
             "#9c179e"
            ],
            [
             0.4444444444444444,
             "#bd3786"
            ],
            [
             0.5555555555555556,
             "#d8576b"
            ],
            [
             0.6666666666666666,
             "#ed7953"
            ],
            [
             0.7777777777777778,
             "#fb9f3a"
            ],
            [
             0.8888888888888888,
             "#fdca26"
            ],
            [
             1,
             "#f0f921"
            ]
           ],
           "sequentialminus": [
            [
             0,
             "#0d0887"
            ],
            [
             0.1111111111111111,
             "#46039f"
            ],
            [
             0.2222222222222222,
             "#7201a8"
            ],
            [
             0.3333333333333333,
             "#9c179e"
            ],
            [
             0.4444444444444444,
             "#bd3786"
            ],
            [
             0.5555555555555556,
             "#d8576b"
            ],
            [
             0.6666666666666666,
             "#ed7953"
            ],
            [
             0.7777777777777778,
             "#fb9f3a"
            ],
            [
             0.8888888888888888,
             "#fdca26"
            ],
            [
             1,
             "#f0f921"
            ]
           ]
          },
          "colorway": [
           "#636efa",
           "#EF553B",
           "#00cc96",
           "#ab63fa",
           "#FFA15A",
           "#19d3f3",
           "#FF6692",
           "#B6E880",
           "#FF97FF",
           "#FECB52"
          ],
          "font": {
           "color": "#2a3f5f"
          },
          "geo": {
           "bgcolor": "white",
           "lakecolor": "white",
           "landcolor": "#E5ECF6",
           "showlakes": true,
           "showland": true,
           "subunitcolor": "white"
          },
          "hoverlabel": {
           "align": "left"
          },
          "hovermode": "closest",
          "mapbox": {
           "style": "light"
          },
          "paper_bgcolor": "white",
          "plot_bgcolor": "#E5ECF6",
          "polar": {
           "angularaxis": {
            "gridcolor": "white",
            "linecolor": "white",
            "ticks": ""
           },
           "bgcolor": "#E5ECF6",
           "radialaxis": {
            "gridcolor": "white",
            "linecolor": "white",
            "ticks": ""
           }
          },
          "scene": {
           "xaxis": {
            "backgroundcolor": "#E5ECF6",
            "gridcolor": "white",
            "gridwidth": 2,
            "linecolor": "white",
            "showbackground": true,
            "ticks": "",
            "zerolinecolor": "white"
           },
           "yaxis": {
            "backgroundcolor": "#E5ECF6",
            "gridcolor": "white",
            "gridwidth": 2,
            "linecolor": "white",
            "showbackground": true,
            "ticks": "",
            "zerolinecolor": "white"
           },
           "zaxis": {
            "backgroundcolor": "#E5ECF6",
            "gridcolor": "white",
            "gridwidth": 2,
            "linecolor": "white",
            "showbackground": true,
            "ticks": "",
            "zerolinecolor": "white"
           }
          },
          "shapedefaults": {
           "line": {
            "color": "#2a3f5f"
           }
          },
          "ternary": {
           "aaxis": {
            "gridcolor": "white",
            "linecolor": "white",
            "ticks": ""
           },
           "baxis": {
            "gridcolor": "white",
            "linecolor": "white",
            "ticks": ""
           },
           "bgcolor": "#E5ECF6",
           "caxis": {
            "gridcolor": "white",
            "linecolor": "white",
            "ticks": ""
           }
          },
          "title": {
           "x": 0.05
          },
          "xaxis": {
           "automargin": true,
           "gridcolor": "white",
           "linecolor": "white",
           "ticks": "",
           "title": {
            "standoff": 15
           },
           "zerolinecolor": "white",
           "zerolinewidth": 2
          },
          "yaxis": {
           "automargin": true,
           "gridcolor": "white",
           "linecolor": "white",
           "ticks": "",
           "title": {
            "standoff": 15
           },
           "zerolinecolor": "white",
           "zerolinewidth": 2
          }
         }
        },
        "title": {
         "text": "State of the Cluster"
        },
        "width": 800,
        "xaxis": {
         "anchor": "y",
         "domain": [
          0,
          1
         ],
         "matches": "x7",
         "showticklabels": false,
         "title": {
          "text": "time in s"
         }
        },
        "xaxis2": {
         "anchor": "y2",
         "domain": [
          0,
          1
         ],
         "matches": "x7",
         "showticklabels": false,
         "title": {
          "text": "time in s"
         }
        },
        "xaxis3": {
         "anchor": "y3",
         "domain": [
          0,
          1
         ],
         "matches": "x7",
         "showticklabels": false,
         "title": {
          "text": "time in s"
         }
        },
        "xaxis4": {
         "anchor": "y4",
         "domain": [
          0,
          1
         ],
         "matches": "x7",
         "showticklabels": false,
         "title": {
          "text": "time in s"
         }
        },
        "xaxis5": {
         "anchor": "y5",
         "domain": [
          0,
          1
         ],
         "matches": "x7",
         "showticklabels": false,
         "title": {
          "text": "time in s"
         }
        },
        "xaxis6": {
         "anchor": "y6",
         "domain": [
          0,
          1
         ],
         "matches": "x7",
         "showticklabels": false,
         "title": {
          "text": "time in s"
         }
        },
        "xaxis7": {
         "anchor": "y7",
         "domain": [
          0,
          1
         ],
         "title": {
          "text": "time in s"
         }
        },
        "yaxis": {
         "anchor": "x",
         "domain": [
          0.9183673469387754,
          0.9999999999999999
         ],
         "title": {
          "text": "dataflow in MB/s"
         }
        },
        "yaxis2": {
         "anchor": "x2",
         "domain": [
          0.7653061224489794,
          0.8469387755102039
         ],
         "title": {
          "text": "dataflow in MB/s"
         }
        },
        "yaxis3": {
         "anchor": "x3",
         "domain": [
          0.6122448979591837,
          0.6938775510204082
         ],
         "title": {
          "text": "dataflow in MB/s"
         }
        },
        "yaxis4": {
         "anchor": "x4",
         "domain": [
          0.4591836734693877,
          0.5408163265306122
         ],
         "title": {
          "text": "CPU usage"
         }
        },
        "yaxis5": {
         "anchor": "x5",
         "domain": [
          0.30612244897959184,
          0.3877551020408163
         ],
         "title": {
          "text": "NVRAM usage in %"
         }
        },
        "yaxis6": {
         "anchor": "x6",
         "domain": [
          0.15306122448979592,
          0.2346938775510204
         ],
         "title": {
          "text": "SSD usage in %"
         }
        },
        "yaxis7": {
         "anchor": "x7",
         "domain": [
          0,
          0.08163265306122448
         ],
         "title": {
          "text": "HDD usage in %"
         }
        }
       }
      },
      "text/html": [
       "<div>\n",
       "        \n",
       "        \n",
       "            <div id=\"592d2a9e-48a0-4b56-8f90-0d1c9912c270\" class=\"plotly-graph-div\" style=\"height:900px; width:800px;\"></div>\n",
       "            <script type=\"text/javascript\">\n",
       "                require([\"plotly\"], function(Plotly) {\n",
       "                    window.PLOTLYENV=window.PLOTLYENV || {};\n",
       "                    \n",
       "                if (document.getElementById(\"592d2a9e-48a0-4b56-8f90-0d1c9912c270\")) {\n",
       "                    Plotly.newPlot(\n",
       "                        '592d2a9e-48a0-4b56-8f90-0d1c9912c270',\n",
       "                        [{\"line\": {\"shape\": \"hvh\"}, \"name\": \"C4\", \"showlegend\": false, \"text\": [\"READ|to/from:NVRAM|volume=1.0 GB\", \"READ|to/from:NVRAM|volume=1.0 GB\", \"READ|to/from:NVRAM|volume=1.5 GB\", \"READ|to/from:NVRAM|volume=1.5 GB\", \"READ|to/from:NVRAM|volume=1.5 GB\", \"READ|to/from:NVRAM|volume=1.5 GB\", \"COMPUTE|volume=0B\", \"COMPUTE|volume=0B\", \"WRITE|to/from:NVRAM|volume=6.07 GB\", \"WRITE|to/from:NVRAM|volume=6.07 GB\", \"WRITE|to/from:NVRAM|volume=934.62 MB\", \"WRITE|to/from:NVRAM|volume=934.62 MB\"], \"textposition\": \"top center\", \"type\": \"scatter\", \"x\": [0.0, 3.8461538461538463, 3.8461538461538463, 7.6923076923076925, 7.6923076923076925, 11.538461538461538, 11.538461538461538, 21.53846153846154, 21.53846153846154, 45.093353248693056, 45.093353248693056, 48.72292755787902], \"xaxis\": \"x\", \"y\": [260.0, 260.0, 390.0, 390.0, 390.0, 390.0, 0.0, 0.0, 257.5, 257.5, 257.5, 257.5], \"yaxis\": \"y\"}, {\"line\": {\"shape\": \"hvh\"}, \"name\": \"E6\", \"showlegend\": false, \"text\": [\"READ|to/from:NVRAM|volume=3.0 GB\", \"READ|to/from:NVRAM|volume=3.0 GB\", \"COMPUTE|volume=0B\", \"COMPUTE|volume=0B\", \"WRITE|to/from:NVRAM|volume=5.0 GB\", \"WRITE|to/from:NVRAM|volume=5.0 GB\", \"COMPUTE|volume=0B\", \"COMPUTE|volume=0B\", \"WRITE|to/from:NVRAM|volume=10.0 GB\", \"WRITE|to/from:NVRAM|volume=10.0 GB\"], \"textposition\": \"top center\", \"type\": \"scatter\", \"x\": [0.0, 11.538461538461538, 11.538461538461538, 31.53846153846154, 31.53846153846154, 50.95593726661688, 50.95593726661688, 60.95593726661688, 60.95593726661688, 80.37341299477222], \"xaxis\": \"x2\", \"y\": [260.0, 260.0, 0.0, 0.0, 257.5, 257.5, 0.0, 0.0, 515.0, 515.0], \"yaxis\": \"y2\"}, {\"line\": {\"shape\": \"hvh\"}, \"name\": \"Z4\", \"showlegend\": false, \"text\": [\"READ|to/from:NVRAM|volume=1.0 GB\", \"READ|to/from:NVRAM|volume=1.0 GB\", \"COMPUTE|volume=0B\", \"COMPUTE|volume=0B\", \"WRITE|to/from:NVRAM|volume=5.0 GB\", \"WRITE|to/from:NVRAM|volume=5.0 GB\"], \"textposition\": \"top center\", \"type\": \"scatter\", \"x\": [0.0, 3.8461538461538463, 3.8461538461538463, 13.846153846153847, 13.846153846153847, 23.554891710231516], \"xaxis\": \"x3\", \"y\": [260.0, 260.0, 0.0, 0.0, 515.0, 515.0], \"yaxis\": \"y3\"}, {\"line\": {\"shape\": \"hv\"}, \"showlegend\": false, \"type\": \"scatter\", \"x\": [0.0, 3.8461538461538463, 7.6923076923076925, 11.538461538461538, 13.846153846153847, 21.53846153846154, 23.554891710231516, 31.53846153846154, 45.093353248693056, 48.72292755787902, 50.95593726661688, 60.95593726661688, 80.37341299477222], \"xaxis\": \"x4\", \"y\": [3, 3, 3, 3, 3, 3, 2, 2, 2, 1, 1, 1, 0], \"yaxis\": \"y4\"}, {\"line\": {\"color\": \"red\", \"dash\": \"dot\", \"shape\": \"hv\", \"width\": 3}, \"showlegend\": false, \"text\": [\"Maximum available cores in cluster=5\", \"Maximum available cores in cluster=5\"], \"type\": \"scatter\", \"x\": [0.0, 80.37341299477222], \"xaxis\": \"x4\", \"y\": [5, 5], \"yaxis\": \"y4\"}, {\"line\": {\"shape\": \"vh\"}, \"name\": \"NVRAM\", \"showlegend\": false, \"text\": [\"Z4|Read|NVRAM | +volume=1.0 GB\", \"C4|Read|NVRAM | +volume=1.0 GB\", \"C4|Read|NVRAM | +volume=1.5 GB\", \"E6|Read|NVRAM | +volume=3.0 GB\", \"C4|Read|NVRAM | +volume=1.5 GB\", \"Z4|Compute | +volume=0B\", \"C4|Compute | +volume=0B\", \"Z4|Write|NVRAM | +volume=5.0 GB\", \"E6|Compute | +volume=0B\", \"C4|Write|NVRAM | +volume=6.07 GB\", \"C4|Write|NVRAM | +volume=934.62 MB\", \"E6|Write|NVRAM | +volume=5.0 GB\", \"E6|Compute | +volume=0B\", \"E6|Write|NVRAM | +volume=10.0 GB\"], \"textposition\": \"top center\", \"type\": \"scatter\", \"x\": [0.0, 3.8461538461538463, 3.8461538461538463, 7.6923076923076925, 11.538461538461538, 11.538461538461538, 13.846153846153847, 21.53846153846154, 23.554891710231516, 31.53846153846154, 45.093353248693056, 48.72292755787902, 50.95593726661688, 60.95593726661688, 80.37341299477222], \"xaxis\": \"x5\", \"y\": [0.0, 5.0, 5.0, 5.0, 5.0, 5.0, 5.0, 5.0, 11.25, 11.25, 18.831730769230766, 20.0, 26.25, 26.25, 38.75], \"yaxis\": \"y5\"}, {\"line\": {\"shape\": \"vh\"}, \"name\": \"SSD\", \"showlegend\": false, \"text\": [\"Z4|Read|NVRAM | +volume=1.0 GB\", \"C4|Read|NVRAM | +volume=1.0 GB\", \"C4|Read|NVRAM | +volume=1.5 GB\", \"E6|Read|NVRAM | +volume=3.0 GB\", \"C4|Read|NVRAM | +volume=1.5 GB\", \"Z4|Compute | +volume=0B\", \"C4|Compute | +volume=0B\", \"Z4|Write|NVRAM | +volume=5.0 GB\", \"E6|Compute | +volume=0B\", \"C4|Write|NVRAM | +volume=6.07 GB\", \"C4|Write|NVRAM | +volume=934.62 MB\", \"E6|Write|NVRAM | +volume=5.0 GB\", \"E6|Compute | +volume=0B\", \"E6|Write|NVRAM | +volume=10.0 GB\"], \"textposition\": \"top center\", \"type\": \"scatter\", \"x\": [0.0, 3.8461538461538463, 3.8461538461538463, 7.6923076923076925, 11.538461538461538, 11.538461538461538, 13.846153846153847, 21.53846153846154, 23.554891710231516, 31.53846153846154, 45.093353248693056, 48.72292755787902, 50.95593726661688, 60.95593726661688, 80.37341299477222], \"xaxis\": \"x6\", \"y\": [0.0, 0.0, 0.0, 0.0, 0.0, 0.0, 0.0, 0.0, 0.0, 0.0, 0.0, 0.0, 0.0, 0.0, 0.0], \"yaxis\": \"y6\"}, {\"line\": {\"shape\": \"vh\"}, \"name\": \"HDD\", \"showlegend\": false, \"text\": [\"Z4|Read|NVRAM | +volume=1.0 GB\", \"C4|Read|NVRAM | +volume=1.0 GB\", \"C4|Read|NVRAM | +volume=1.5 GB\", \"E6|Read|NVRAM | +volume=3.0 GB\", \"C4|Read|NVRAM | +volume=1.5 GB\", \"Z4|Compute | +volume=0B\", \"C4|Compute | +volume=0B\", \"Z4|Write|NVRAM | +volume=5.0 GB\", \"E6|Compute | +volume=0B\", \"C4|Write|NVRAM | +volume=6.07 GB\", \"C4|Write|NVRAM | +volume=934.62 MB\", \"E6|Write|NVRAM | +volume=5.0 GB\", \"E6|Compute | +volume=0B\", \"E6|Write|NVRAM | +volume=10.0 GB\"], \"textposition\": \"top center\", \"type\": \"scatter\", \"x\": [0.0, 3.8461538461538463, 3.8461538461538463, 7.6923076923076925, 11.538461538461538, 11.538461538461538, 13.846153846153847, 21.53846153846154, 23.554891710231516, 31.53846153846154, 45.093353248693056, 48.72292755787902, 50.95593726661688, 60.95593726661688, 80.37341299477222], \"xaxis\": \"x7\", \"y\": [0.0, 0.0, 0.0, 0.0, 0.0, 0.0, 0.0, 0.0, 0.0, 0.0, 0.0, 0.0, 0.0, 0.0, 0.0], \"yaxis\": \"y7\"}],\n",
       "                        {\"annotations\": [{\"font\": {\"size\": 16}, \"showarrow\": false, \"text\": \"C4\", \"x\": 0.5, \"xanchor\": \"center\", \"xref\": \"paper\", \"y\": 0.9999999999999999, \"yanchor\": \"bottom\", \"yref\": \"paper\"}, {\"font\": {\"size\": 16}, \"showarrow\": false, \"text\": \"E6\", \"x\": 0.5, \"xanchor\": \"center\", \"xref\": \"paper\", \"y\": 0.8469387755102039, \"yanchor\": \"bottom\", \"yref\": \"paper\"}, {\"font\": {\"size\": 16}, \"showarrow\": false, \"text\": \"Z4\", \"x\": 0.5, \"xanchor\": \"center\", \"xref\": \"paper\", \"y\": 0.6938775510204082, \"yanchor\": \"bottom\", \"yref\": \"paper\"}, {\"font\": {\"size\": 16}, \"showarrow\": false, \"text\": \"CPU Cores\", \"x\": 0.5, \"xanchor\": \"center\", \"xref\": \"paper\", \"y\": 0.5408163265306122, \"yanchor\": \"bottom\", \"yref\": \"paper\"}, {\"font\": {\"size\": 16}, \"showarrow\": false, \"text\": \"NVRAM (80.0 GB)\", \"x\": 0.5, \"xanchor\": \"center\", \"xref\": \"paper\", \"y\": 0.3877551020408163, \"yanchor\": \"bottom\", \"yref\": \"paper\"}, {\"font\": {\"size\": 16}, \"showarrow\": false, \"text\": \"SSD (200.0 GB)\", \"x\": 0.5, \"xanchor\": \"center\", \"xref\": \"paper\", \"y\": 0.2346938775510204, \"yanchor\": \"bottom\", \"yref\": \"paper\"}, {\"font\": {\"size\": 16}, \"showarrow\": false, \"text\": \"HDD (1.0 TB)\", \"x\": 0.5, \"xanchor\": \"center\", \"xref\": \"paper\", \"y\": 0.08163265306122448, \"yanchor\": \"bottom\", \"yref\": \"paper\"}], \"height\": 900, \"template\": {\"data\": {\"bar\": [{\"error_x\": {\"color\": \"#2a3f5f\"}, \"error_y\": {\"color\": \"#2a3f5f\"}, \"marker\": {\"line\": {\"color\": \"#E5ECF6\", \"width\": 0.5}}, \"type\": \"bar\"}], \"barpolar\": [{\"marker\": {\"line\": {\"color\": \"#E5ECF6\", \"width\": 0.5}}, \"type\": \"barpolar\"}], \"carpet\": [{\"aaxis\": {\"endlinecolor\": \"#2a3f5f\", \"gridcolor\": \"white\", \"linecolor\": \"white\", \"minorgridcolor\": \"white\", \"startlinecolor\": \"#2a3f5f\"}, \"baxis\": {\"endlinecolor\": \"#2a3f5f\", \"gridcolor\": \"white\", \"linecolor\": \"white\", \"minorgridcolor\": \"white\", \"startlinecolor\": \"#2a3f5f\"}, \"type\": \"carpet\"}], \"choropleth\": [{\"colorbar\": {\"outlinewidth\": 0, \"ticks\": \"\"}, \"type\": \"choropleth\"}], \"contour\": [{\"colorbar\": {\"outlinewidth\": 0, \"ticks\": \"\"}, \"colorscale\": [[0.0, \"#0d0887\"], [0.1111111111111111, \"#46039f\"], [0.2222222222222222, \"#7201a8\"], [0.3333333333333333, \"#9c179e\"], [0.4444444444444444, \"#bd3786\"], [0.5555555555555556, \"#d8576b\"], [0.6666666666666666, \"#ed7953\"], [0.7777777777777778, \"#fb9f3a\"], [0.8888888888888888, \"#fdca26\"], [1.0, \"#f0f921\"]], \"type\": \"contour\"}], \"contourcarpet\": [{\"colorbar\": {\"outlinewidth\": 0, \"ticks\": \"\"}, \"type\": \"contourcarpet\"}], \"heatmap\": [{\"colorbar\": {\"outlinewidth\": 0, \"ticks\": \"\"}, \"colorscale\": [[0.0, \"#0d0887\"], [0.1111111111111111, \"#46039f\"], [0.2222222222222222, \"#7201a8\"], [0.3333333333333333, \"#9c179e\"], [0.4444444444444444, \"#bd3786\"], [0.5555555555555556, \"#d8576b\"], [0.6666666666666666, \"#ed7953\"], [0.7777777777777778, \"#fb9f3a\"], [0.8888888888888888, \"#fdca26\"], [1.0, \"#f0f921\"]], \"type\": \"heatmap\"}], \"heatmapgl\": [{\"colorbar\": {\"outlinewidth\": 0, \"ticks\": \"\"}, \"colorscale\": [[0.0, \"#0d0887\"], [0.1111111111111111, \"#46039f\"], [0.2222222222222222, \"#7201a8\"], [0.3333333333333333, \"#9c179e\"], [0.4444444444444444, \"#bd3786\"], [0.5555555555555556, \"#d8576b\"], [0.6666666666666666, \"#ed7953\"], [0.7777777777777778, \"#fb9f3a\"], [0.8888888888888888, \"#fdca26\"], [1.0, \"#f0f921\"]], \"type\": \"heatmapgl\"}], \"histogram\": [{\"marker\": {\"colorbar\": {\"outlinewidth\": 0, \"ticks\": \"\"}}, \"type\": \"histogram\"}], \"histogram2d\": [{\"colorbar\": {\"outlinewidth\": 0, \"ticks\": \"\"}, \"colorscale\": [[0.0, \"#0d0887\"], [0.1111111111111111, \"#46039f\"], [0.2222222222222222, \"#7201a8\"], [0.3333333333333333, \"#9c179e\"], [0.4444444444444444, \"#bd3786\"], [0.5555555555555556, \"#d8576b\"], [0.6666666666666666, \"#ed7953\"], [0.7777777777777778, \"#fb9f3a\"], [0.8888888888888888, \"#fdca26\"], [1.0, \"#f0f921\"]], \"type\": \"histogram2d\"}], \"histogram2dcontour\": [{\"colorbar\": {\"outlinewidth\": 0, \"ticks\": \"\"}, \"colorscale\": [[0.0, \"#0d0887\"], [0.1111111111111111, \"#46039f\"], [0.2222222222222222, \"#7201a8\"], [0.3333333333333333, \"#9c179e\"], [0.4444444444444444, \"#bd3786\"], [0.5555555555555556, \"#d8576b\"], [0.6666666666666666, \"#ed7953\"], [0.7777777777777778, \"#fb9f3a\"], [0.8888888888888888, \"#fdca26\"], [1.0, \"#f0f921\"]], \"type\": \"histogram2dcontour\"}], \"mesh3d\": [{\"colorbar\": {\"outlinewidth\": 0, \"ticks\": \"\"}, \"type\": \"mesh3d\"}], \"parcoords\": [{\"line\": {\"colorbar\": {\"outlinewidth\": 0, \"ticks\": \"\"}}, \"type\": \"parcoords\"}], \"pie\": [{\"automargin\": true, \"type\": \"pie\"}], \"scatter\": [{\"marker\": {\"colorbar\": {\"outlinewidth\": 0, \"ticks\": \"\"}}, \"type\": \"scatter\"}], \"scatter3d\": [{\"line\": {\"colorbar\": {\"outlinewidth\": 0, \"ticks\": \"\"}}, \"marker\": {\"colorbar\": {\"outlinewidth\": 0, \"ticks\": \"\"}}, \"type\": \"scatter3d\"}], \"scattercarpet\": [{\"marker\": {\"colorbar\": {\"outlinewidth\": 0, \"ticks\": \"\"}}, \"type\": \"scattercarpet\"}], \"scattergeo\": [{\"marker\": {\"colorbar\": {\"outlinewidth\": 0, \"ticks\": \"\"}}, \"type\": \"scattergeo\"}], \"scattergl\": [{\"marker\": {\"colorbar\": {\"outlinewidth\": 0, \"ticks\": \"\"}}, \"type\": \"scattergl\"}], \"scattermapbox\": [{\"marker\": {\"colorbar\": {\"outlinewidth\": 0, \"ticks\": \"\"}}, \"type\": \"scattermapbox\"}], \"scatterpolar\": [{\"marker\": {\"colorbar\": {\"outlinewidth\": 0, \"ticks\": \"\"}}, \"type\": \"scatterpolar\"}], \"scatterpolargl\": [{\"marker\": {\"colorbar\": {\"outlinewidth\": 0, \"ticks\": \"\"}}, \"type\": \"scatterpolargl\"}], \"scatterternary\": [{\"marker\": {\"colorbar\": {\"outlinewidth\": 0, \"ticks\": \"\"}}, \"type\": \"scatterternary\"}], \"surface\": [{\"colorbar\": {\"outlinewidth\": 0, \"ticks\": \"\"}, \"colorscale\": [[0.0, \"#0d0887\"], [0.1111111111111111, \"#46039f\"], [0.2222222222222222, \"#7201a8\"], [0.3333333333333333, \"#9c179e\"], [0.4444444444444444, \"#bd3786\"], [0.5555555555555556, \"#d8576b\"], [0.6666666666666666, \"#ed7953\"], [0.7777777777777778, \"#fb9f3a\"], [0.8888888888888888, \"#fdca26\"], [1.0, \"#f0f921\"]], \"type\": \"surface\"}], \"table\": [{\"cells\": {\"fill\": {\"color\": \"#EBF0F8\"}, \"line\": {\"color\": \"white\"}}, \"header\": {\"fill\": {\"color\": \"#C8D4E3\"}, \"line\": {\"color\": \"white\"}}, \"type\": \"table\"}]}, \"layout\": {\"annotationdefaults\": {\"arrowcolor\": \"#2a3f5f\", \"arrowhead\": 0, \"arrowwidth\": 1}, \"coloraxis\": {\"colorbar\": {\"outlinewidth\": 0, \"ticks\": \"\"}}, \"colorscale\": {\"diverging\": [[0, \"#8e0152\"], [0.1, \"#c51b7d\"], [0.2, \"#de77ae\"], [0.3, \"#f1b6da\"], [0.4, \"#fde0ef\"], [0.5, \"#f7f7f7\"], [0.6, \"#e6f5d0\"], [0.7, \"#b8e186\"], [0.8, \"#7fbc41\"], [0.9, \"#4d9221\"], [1, \"#276419\"]], \"sequential\": [[0.0, \"#0d0887\"], [0.1111111111111111, \"#46039f\"], [0.2222222222222222, \"#7201a8\"], [0.3333333333333333, \"#9c179e\"], [0.4444444444444444, \"#bd3786\"], [0.5555555555555556, \"#d8576b\"], [0.6666666666666666, \"#ed7953\"], [0.7777777777777778, \"#fb9f3a\"], [0.8888888888888888, \"#fdca26\"], [1.0, \"#f0f921\"]], \"sequentialminus\": [[0.0, \"#0d0887\"], [0.1111111111111111, \"#46039f\"], [0.2222222222222222, \"#7201a8\"], [0.3333333333333333, \"#9c179e\"], [0.4444444444444444, \"#bd3786\"], [0.5555555555555556, \"#d8576b\"], [0.6666666666666666, \"#ed7953\"], [0.7777777777777778, \"#fb9f3a\"], [0.8888888888888888, \"#fdca26\"], [1.0, \"#f0f921\"]]}, \"colorway\": [\"#636efa\", \"#EF553B\", \"#00cc96\", \"#ab63fa\", \"#FFA15A\", \"#19d3f3\", \"#FF6692\", \"#B6E880\", \"#FF97FF\", \"#FECB52\"], \"font\": {\"color\": \"#2a3f5f\"}, \"geo\": {\"bgcolor\": \"white\", \"lakecolor\": \"white\", \"landcolor\": \"#E5ECF6\", \"showlakes\": true, \"showland\": true, \"subunitcolor\": \"white\"}, \"hoverlabel\": {\"align\": \"left\"}, \"hovermode\": \"closest\", \"mapbox\": {\"style\": \"light\"}, \"paper_bgcolor\": \"white\", \"plot_bgcolor\": \"#E5ECF6\", \"polar\": {\"angularaxis\": {\"gridcolor\": \"white\", \"linecolor\": \"white\", \"ticks\": \"\"}, \"bgcolor\": \"#E5ECF6\", \"radialaxis\": {\"gridcolor\": \"white\", \"linecolor\": \"white\", \"ticks\": \"\"}}, \"scene\": {\"xaxis\": {\"backgroundcolor\": \"#E5ECF6\", \"gridcolor\": \"white\", \"gridwidth\": 2, \"linecolor\": \"white\", \"showbackground\": true, \"ticks\": \"\", \"zerolinecolor\": \"white\"}, \"yaxis\": {\"backgroundcolor\": \"#E5ECF6\", \"gridcolor\": \"white\", \"gridwidth\": 2, \"linecolor\": \"white\", \"showbackground\": true, \"ticks\": \"\", \"zerolinecolor\": \"white\"}, \"zaxis\": {\"backgroundcolor\": \"#E5ECF6\", \"gridcolor\": \"white\", \"gridwidth\": 2, \"linecolor\": \"white\", \"showbackground\": true, \"ticks\": \"\", \"zerolinecolor\": \"white\"}}, \"shapedefaults\": {\"line\": {\"color\": \"#2a3f5f\"}}, \"ternary\": {\"aaxis\": {\"gridcolor\": \"white\", \"linecolor\": \"white\", \"ticks\": \"\"}, \"baxis\": {\"gridcolor\": \"white\", \"linecolor\": \"white\", \"ticks\": \"\"}, \"bgcolor\": \"#E5ECF6\", \"caxis\": {\"gridcolor\": \"white\", \"linecolor\": \"white\", \"ticks\": \"\"}}, \"title\": {\"x\": 0.05}, \"xaxis\": {\"automargin\": true, \"gridcolor\": \"white\", \"linecolor\": \"white\", \"ticks\": \"\", \"title\": {\"standoff\": 15}, \"zerolinecolor\": \"white\", \"zerolinewidth\": 2}, \"yaxis\": {\"automargin\": true, \"gridcolor\": \"white\", \"linecolor\": \"white\", \"ticks\": \"\", \"title\": {\"standoff\": 15}, \"zerolinecolor\": \"white\", \"zerolinewidth\": 2}}}, \"title\": {\"text\": \"State of the Cluster\"}, \"width\": 800, \"xaxis\": {\"anchor\": \"y\", \"domain\": [0.0, 1.0], \"matches\": \"x7\", \"showticklabels\": false, \"title\": {\"text\": \"time in s\"}}, \"xaxis2\": {\"anchor\": \"y2\", \"domain\": [0.0, 1.0], \"matches\": \"x7\", \"showticklabels\": false, \"title\": {\"text\": \"time in s\"}}, \"xaxis3\": {\"anchor\": \"y3\", \"domain\": [0.0, 1.0], \"matches\": \"x7\", \"showticklabels\": false, \"title\": {\"text\": \"time in s\"}}, \"xaxis4\": {\"anchor\": \"y4\", \"domain\": [0.0, 1.0], \"matches\": \"x7\", \"showticklabels\": false, \"title\": {\"text\": \"time in s\"}}, \"xaxis5\": {\"anchor\": \"y5\", \"domain\": [0.0, 1.0], \"matches\": \"x7\", \"showticklabels\": false, \"title\": {\"text\": \"time in s\"}}, \"xaxis6\": {\"anchor\": \"y6\", \"domain\": [0.0, 1.0], \"matches\": \"x7\", \"showticklabels\": false, \"title\": {\"text\": \"time in s\"}}, \"xaxis7\": {\"anchor\": \"y7\", \"domain\": [0.0, 1.0], \"title\": {\"text\": \"time in s\"}}, \"yaxis\": {\"anchor\": \"x\", \"domain\": [0.9183673469387754, 0.9999999999999999], \"title\": {\"text\": \"dataflow in MB/s\"}}, \"yaxis2\": {\"anchor\": \"x2\", \"domain\": [0.7653061224489794, 0.8469387755102039], \"title\": {\"text\": \"dataflow in MB/s\"}}, \"yaxis3\": {\"anchor\": \"x3\", \"domain\": [0.6122448979591837, 0.6938775510204082], \"title\": {\"text\": \"dataflow in MB/s\"}}, \"yaxis4\": {\"anchor\": \"x4\", \"domain\": [0.4591836734693877, 0.5408163265306122], \"title\": {\"text\": \"CPU usage\"}}, \"yaxis5\": {\"anchor\": \"x5\", \"domain\": [0.30612244897959184, 0.3877551020408163], \"title\": {\"text\": \"NVRAM usage in %\"}}, \"yaxis6\": {\"anchor\": \"x6\", \"domain\": [0.15306122448979592, 0.2346938775510204], \"title\": {\"text\": \"SSD usage in %\"}}, \"yaxis7\": {\"anchor\": \"x7\", \"domain\": [0.0, 0.08163265306122448], \"title\": {\"text\": \"HDD usage in %\"}}},\n",
       "                        {\"responsive\": true}\n",
       "                    ).then(function(){\n",
       "                            \n",
       "var gd = document.getElementById('592d2a9e-48a0-4b56-8f90-0d1c9912c270');\n",
       "var x = new MutationObserver(function (mutations, observer) {{\n",
       "        var display = window.getComputedStyle(gd).display;\n",
       "        if (!display || display === 'none') {{\n",
       "            console.log([gd, 'removed!']);\n",
       "            Plotly.purge(gd);\n",
       "            observer.disconnect();\n",
       "        }}\n",
       "}});\n",
       "\n",
       "// Listen for the removal of the full notebook cells\n",
       "var notebookContainer = gd.closest('#notebook-container');\n",
       "if (notebookContainer) {{\n",
       "    x.observe(notebookContainer, {childList: true});\n",
       "}}\n",
       "\n",
       "// Listen for the clearing of the current output cell\n",
       "var outputEl = gd.closest('.output');\n",
       "if (outputEl) {{\n",
       "    x.observe(outputEl, {childList: true});\n",
       "}}\n",
       "\n",
       "                        })\n",
       "                };\n",
       "                });\n",
       "            </script>\n",
       "        </div>"
      ]
     },
     "metadata": {},
     "output_type": "display_data"
    }
   ],
   "source": [
    "fig2.show()"
   ]
  },
  {
   "cell_type": "markdown",
   "metadata": {},
   "source": [
    "Conclusions:\n",
    "1. Placing all I/O on most performant tier is not always the best solution, even though capacities of tiers is not reached.\n",
    "2. The more you send I/O on the same tier, the more we have to share bandwidth and deteriorate the transfer speed.\n",
    "3. Simulation allows us to roughly predict what would happen with a given placement, and to optimize accordingly. Otherwise, we should build a dataset for each usecase that could cost many (100 ?) runs."
   ]
  },
  {
   "cell_type": "markdown",
   "metadata": {},
   "source": [
    "##### Next steps:\n",
    "1. Still need to improve many aspects of the Execution Simulator\n",
    "2. Add support for ephemeral tier (buffering and destaging) (WIP)\n",
    "3. Open support for many other heuristics (interfacing Simulator more properly with heuristics)\n",
    "4. Implementing other parts of the Recommendation System.\n",
    "5. Is application sequential formalism enough to describe a usecase workflow?\n",
    "\n"
   ]
  },
  {
   "cell_type": "code",
   "execution_count": null,
   "metadata": {},
   "outputs": [],
   "source": []
  }
 ],
 "metadata": {
  "interpreter": {
   "hash": "930592029588c3597095ada6e7fc2a9de16e0dcf60710d11fef12136f089397b"
  },
  "kernelspec": {
   "display_name": "Python 3",
   "language": "python",
   "name": "python3"
  },
  "language_info": {
   "codemirror_mode": {
    "name": "ipython",
    "version": 3
   },
   "file_extension": ".py",
   "mimetype": "text/x-python",
   "name": "python",
   "nbconvert_exporter": "python",
   "pygments_lexer": "ipython3",
   "version": "3.7.4"
  },
  "varInspector": {
   "cols": {
    "lenName": 16,
    "lenType": 16,
    "lenVar": 40
   },
   "kernels_config": {
    "python": {
     "delete_cmd_postfix": "",
     "delete_cmd_prefix": "del ",
     "library": "var_list.py",
     "varRefreshCmd": "print(var_dic_list())"
    },
    "r": {
     "delete_cmd_postfix": ") ",
     "delete_cmd_prefix": "rm(",
     "library": "var_list.r",
     "varRefreshCmd": "cat(var_dic_list()) "
    }
   },
   "types_to_exclude": [
    "module",
    "function",
    "builtin_function_or_method",
    "instance",
    "_Feature"
   ],
   "window_display": false
  }
 },
 "nbformat": 4,
 "nbformat_minor": 2
}
