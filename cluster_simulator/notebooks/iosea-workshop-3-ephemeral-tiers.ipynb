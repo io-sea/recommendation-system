{
 "cells": [
  {
   "cell_type": "code",
   "execution_count": 1,
   "metadata": {},
   "outputs": [
    {
     "name": "stderr",
     "output_type": "stream",
     "text": [
      "c:\\Users\\a770398\\AppData\\Local\\Continuum\\anaconda3\\envs\\iosea-venv\\lib\\site-packages\\cma\\s.py:13: UserWarning:\n",
      "\n",
      "Could not import matplotlib.pyplot, therefore ``cma.plot()`` etc. is not available\n",
      "\n"
     ]
    }
   ],
   "source": [
    "import sys\n",
    "sys.path.append(\"../\") # go to parent dir\n",
    "# imports\n",
    "import simpy\n",
    "from loguru import logger\n",
    "import time\n",
    "import numpy as np\n",
    "import pandas as pd\n",
    "from cluster_simulator.utils import convex_hull\n",
    "from cluster_simulator.cluster import Cluster, Tier, EphemeralTier, bandwidth_share_model, compute_share_model, get_tier, convert_size\n",
    "from cluster_simulator.phase import DelayPhase, ComputePhase, IOPhase\n",
    "from cluster_simulator.application import Application\n",
    "from cluster_simulator.analytics import display_run\n",
    "from cluster_simulator.ephemeral_placement import ClusterBlackBox\n"
   ]
  },
  {
   "cell_type": "markdown",
   "metadata": {},
   "source": [
    "Setting the Cluster:\n",
    "- with one tier level (HDD)\n",
    "- with an ephemeral tier:\n",
    " "
   ]
  },
  {
   "cell_type": "code",
   "execution_count": 3,
   "metadata": {},
   "outputs": [],
   "source": [
    "# sim env an data\n",
    "env = simpy.Environment()\n",
    "data = simpy.Store(env)\n",
    "# tier perfs\n",
    "nvram_bandwidth = {'read':  {'seq': 800, 'rand': 800},\n",
    "                        'write': {'seq': 400, 'rand': 400}}\n",
    "ssd_bandwidth = {'read':  {'seq': 200, 'rand': 200},\n",
    "                    'write': {'seq': 100, 'rand': 100}}\n",
    "hdd_bandwidth = {'read':  {'seq': 80, 'rand': 80},\n",
    "                    'write': {'seq': 40, 'rand': 40}}\n",
    "\n",
    "# registering Tiers\n",
    "hdd_tier = Tier(env, 'HDD', bandwidth=hdd_bandwidth, capacity=1e12)\n",
    "ssd_tier = Tier(env, 'SSD', bandwidth=ssd_bandwidth, capacity=200e9)\n",
    "nvram_tier = Tier(env, 'NVRAM', bandwidth=nvram_bandwidth,\n",
    "                        capacity=10e9)\n",
    "# registering Ephemeral Tier\n",
    "bb = EphemeralTier(env, name=\"BB\", persistent_tier=hdd_tier,\n",
    "                        bandwidth=nvram_bandwidth, capacity=10e9)\n",
    "\n",
    "# Define the cluster with 1 persistent and 1 ephemeral\n",
    "cluster = Cluster(env, tiers=[hdd_tier], ephemeral_tier=bb)"
   ]
  },
  {
   "cell_type": "markdown",
   "metadata": {},
   "source": [
    "Behavior for no BB use"
   ]
  },
  {
   "cell_type": "code",
   "execution_count": 4,
   "metadata": {},
   "outputs": [
    {
     "name": "stdout",
     "output_type": "stream",
     "text": [
      "application duration = 147.5\n"
     ]
    },
    {
     "data": {
      "application/vnd.plotly.v1+json": {
       "config": {
        "plotlyServerURL": "https://plot.ly"
       },
       "data": [
        {
         "line": {
          "shape": "linear"
         },
         "name": "app#I5",
         "text": [
          "READ|to/from:HDD|volume=1.0 GB",
          "READ|to/from:HDD|volume=1.0 GB",
          "COMPUTE|volume=0B",
          "COMPUTE|volume=0B",
          "WRITE|to/from:HDD|volume=5.0 GB",
          "WRITE|to/from:HDD|volume=5.0 GB"
         ],
         "textposition": "top center",
         "type": "scatter",
         "x": [
          0,
          12.5,
          12.5,
          22.5,
          22.5,
          147.5
         ],
         "xaxis": "x",
         "y": [
          80,
          80,
          0,
          0,
          40,
          40
         ],
         "yaxis": "y"
        },
        {
         "line": {
          "dash": "dot",
          "shape": "linear"
         },
         "name": "I5 mvt",
         "text": [],
         "textposition": "top center",
         "type": "scatter",
         "x": [],
         "xaxis": "x",
         "y": [],
         "yaxis": "y"
        },
        {
         "line": {
          "shape": "linear"
         },
         "name": "BB",
         "showlegend": false,
         "text": [
          "I5|Read|HDD | +volume=1.0 GB",
          "I5|Compute | +volume=0B",
          "I5|Write|HDD | +volume=5.0 GB"
         ],
         "textposition": "top center",
         "type": "scatter",
         "x": [
          0,
          12.5,
          22.5,
          147.5
         ],
         "xaxis": "x2",
         "y": [
          0,
          0,
          0,
          0
         ],
         "yaxis": "y2"
        },
        {
         "line": {
          "shape": "linear"
         },
         "name": "HDD",
         "showlegend": false,
         "text": [
          "I5|Read|HDD | +volume=1.0 GB",
          "I5|Compute | +volume=0B",
          "I5|Write|HDD | +volume=5.0 GB"
         ],
         "textposition": "top center",
         "type": "scatter",
         "x": [
          0,
          12.5,
          22.5,
          147.5
         ],
         "xaxis": "x3",
         "y": [
          0,
          999999999.9999999,
          999999999.9999999,
          6000000000
         ],
         "yaxis": "y3"
        },
        {
         "line": {
          "shape": "hv"
         },
         "showlegend": false,
         "type": "scatter",
         "x": [
          0,
          12.5,
          22.5,
          147.5
         ],
         "xaxis": "x4",
         "y": [
          1,
          1,
          1,
          0
         ],
         "yaxis": "y4"
        },
        {
         "line": {
          "color": "red",
          "dash": "dot",
          "shape": "hv",
          "width": 3
         },
         "showlegend": false,
         "text": [
          "Maximum available cores in cluster=2",
          "Maximum available cores in cluster=2"
         ],
         "type": "scatter",
         "x": [
          0,
          147.5
         ],
         "xaxis": "x4",
         "y": [
          2,
          2
         ],
         "yaxis": "y4"
        }
       ],
       "layout": {
        "annotations": [
         {
          "font": {
           "size": 16
          },
          "showarrow": false,
          "text": "I5",
          "x": 0.5,
          "xanchor": "center",
          "xref": "paper",
          "y": 1,
          "yanchor": "bottom",
          "yref": "paper"
         },
         {
          "font": {
           "size": 16
          },
          "showarrow": false,
          "text": "BB (10.0 GB)",
          "x": 0.5,
          "xanchor": "center",
          "xref": "paper",
          "y": 0.71875,
          "yanchor": "bottom",
          "yref": "paper"
         },
         {
          "font": {
           "size": 16
          },
          "showarrow": false,
          "text": "HDD (1.0 TB)",
          "x": 0.5,
          "xanchor": "center",
          "xref": "paper",
          "y": 0.4375,
          "yanchor": "bottom",
          "yref": "paper"
         },
         {
          "font": {
           "size": 16
          },
          "showarrow": false,
          "text": "CPU Cores",
          "x": 0.5,
          "xanchor": "center",
          "xref": "paper",
          "y": 0.15625,
          "yanchor": "bottom",
          "yref": "paper"
         }
        ],
        "height": 900,
        "template": {
         "data": {
          "bar": [
           {
            "error_x": {
             "color": "#2a3f5f"
            },
            "error_y": {
             "color": "#2a3f5f"
            },
            "marker": {
             "line": {
              "color": "#E5ECF6",
              "width": 0.5
             }
            },
            "type": "bar"
           }
          ],
          "barpolar": [
           {
            "marker": {
             "line": {
              "color": "#E5ECF6",
              "width": 0.5
             }
            },
            "type": "barpolar"
           }
          ],
          "carpet": [
           {
            "aaxis": {
             "endlinecolor": "#2a3f5f",
             "gridcolor": "white",
             "linecolor": "white",
             "minorgridcolor": "white",
             "startlinecolor": "#2a3f5f"
            },
            "baxis": {
             "endlinecolor": "#2a3f5f",
             "gridcolor": "white",
             "linecolor": "white",
             "minorgridcolor": "white",
             "startlinecolor": "#2a3f5f"
            },
            "type": "carpet"
           }
          ],
          "choropleth": [
           {
            "colorbar": {
             "outlinewidth": 0,
             "ticks": ""
            },
            "type": "choropleth"
           }
          ],
          "contour": [
           {
            "colorbar": {
             "outlinewidth": 0,
             "ticks": ""
            },
            "colorscale": [
             [
              0,
              "#0d0887"
             ],
             [
              0.1111111111111111,
              "#46039f"
             ],
             [
              0.2222222222222222,
              "#7201a8"
             ],
             [
              0.3333333333333333,
              "#9c179e"
             ],
             [
              0.4444444444444444,
              "#bd3786"
             ],
             [
              0.5555555555555556,
              "#d8576b"
             ],
             [
              0.6666666666666666,
              "#ed7953"
             ],
             [
              0.7777777777777778,
              "#fb9f3a"
             ],
             [
              0.8888888888888888,
              "#fdca26"
             ],
             [
              1,
              "#f0f921"
             ]
            ],
            "type": "contour"
           }
          ],
          "contourcarpet": [
           {
            "colorbar": {
             "outlinewidth": 0,
             "ticks": ""
            },
            "type": "contourcarpet"
           }
          ],
          "heatmap": [
           {
            "colorbar": {
             "outlinewidth": 0,
             "ticks": ""
            },
            "colorscale": [
             [
              0,
              "#0d0887"
             ],
             [
              0.1111111111111111,
              "#46039f"
             ],
             [
              0.2222222222222222,
              "#7201a8"
             ],
             [
              0.3333333333333333,
              "#9c179e"
             ],
             [
              0.4444444444444444,
              "#bd3786"
             ],
             [
              0.5555555555555556,
              "#d8576b"
             ],
             [
              0.6666666666666666,
              "#ed7953"
             ],
             [
              0.7777777777777778,
              "#fb9f3a"
             ],
             [
              0.8888888888888888,
              "#fdca26"
             ],
             [
              1,
              "#f0f921"
             ]
            ],
            "type": "heatmap"
           }
          ],
          "heatmapgl": [
           {
            "colorbar": {
             "outlinewidth": 0,
             "ticks": ""
            },
            "colorscale": [
             [
              0,
              "#0d0887"
             ],
             [
              0.1111111111111111,
              "#46039f"
             ],
             [
              0.2222222222222222,
              "#7201a8"
             ],
             [
              0.3333333333333333,
              "#9c179e"
             ],
             [
              0.4444444444444444,
              "#bd3786"
             ],
             [
              0.5555555555555556,
              "#d8576b"
             ],
             [
              0.6666666666666666,
              "#ed7953"
             ],
             [
              0.7777777777777778,
              "#fb9f3a"
             ],
             [
              0.8888888888888888,
              "#fdca26"
             ],
             [
              1,
              "#f0f921"
             ]
            ],
            "type": "heatmapgl"
           }
          ],
          "histogram": [
           {
            "marker": {
             "colorbar": {
              "outlinewidth": 0,
              "ticks": ""
             }
            },
            "type": "histogram"
           }
          ],
          "histogram2d": [
           {
            "colorbar": {
             "outlinewidth": 0,
             "ticks": ""
            },
            "colorscale": [
             [
              0,
              "#0d0887"
             ],
             [
              0.1111111111111111,
              "#46039f"
             ],
             [
              0.2222222222222222,
              "#7201a8"
             ],
             [
              0.3333333333333333,
              "#9c179e"
             ],
             [
              0.4444444444444444,
              "#bd3786"
             ],
             [
              0.5555555555555556,
              "#d8576b"
             ],
             [
              0.6666666666666666,
              "#ed7953"
             ],
             [
              0.7777777777777778,
              "#fb9f3a"
             ],
             [
              0.8888888888888888,
              "#fdca26"
             ],
             [
              1,
              "#f0f921"
             ]
            ],
            "type": "histogram2d"
           }
          ],
          "histogram2dcontour": [
           {
            "colorbar": {
             "outlinewidth": 0,
             "ticks": ""
            },
            "colorscale": [
             [
              0,
              "#0d0887"
             ],
             [
              0.1111111111111111,
              "#46039f"
             ],
             [
              0.2222222222222222,
              "#7201a8"
             ],
             [
              0.3333333333333333,
              "#9c179e"
             ],
             [
              0.4444444444444444,
              "#bd3786"
             ],
             [
              0.5555555555555556,
              "#d8576b"
             ],
             [
              0.6666666666666666,
              "#ed7953"
             ],
             [
              0.7777777777777778,
              "#fb9f3a"
             ],
             [
              0.8888888888888888,
              "#fdca26"
             ],
             [
              1,
              "#f0f921"
             ]
            ],
            "type": "histogram2dcontour"
           }
          ],
          "mesh3d": [
           {
            "colorbar": {
             "outlinewidth": 0,
             "ticks": ""
            },
            "type": "mesh3d"
           }
          ],
          "parcoords": [
           {
            "line": {
             "colorbar": {
              "outlinewidth": 0,
              "ticks": ""
             }
            },
            "type": "parcoords"
           }
          ],
          "pie": [
           {
            "automargin": true,
            "type": "pie"
           }
          ],
          "scatter": [
           {
            "marker": {
             "colorbar": {
              "outlinewidth": 0,
              "ticks": ""
             }
            },
            "type": "scatter"
           }
          ],
          "scatter3d": [
           {
            "line": {
             "colorbar": {
              "outlinewidth": 0,
              "ticks": ""
             }
            },
            "marker": {
             "colorbar": {
              "outlinewidth": 0,
              "ticks": ""
             }
            },
            "type": "scatter3d"
           }
          ],
          "scattercarpet": [
           {
            "marker": {
             "colorbar": {
              "outlinewidth": 0,
              "ticks": ""
             }
            },
            "type": "scattercarpet"
           }
          ],
          "scattergeo": [
           {
            "marker": {
             "colorbar": {
              "outlinewidth": 0,
              "ticks": ""
             }
            },
            "type": "scattergeo"
           }
          ],
          "scattergl": [
           {
            "marker": {
             "colorbar": {
              "outlinewidth": 0,
              "ticks": ""
             }
            },
            "type": "scattergl"
           }
          ],
          "scattermapbox": [
           {
            "marker": {
             "colorbar": {
              "outlinewidth": 0,
              "ticks": ""
             }
            },
            "type": "scattermapbox"
           }
          ],
          "scatterpolar": [
           {
            "marker": {
             "colorbar": {
              "outlinewidth": 0,
              "ticks": ""
             }
            },
            "type": "scatterpolar"
           }
          ],
          "scatterpolargl": [
           {
            "marker": {
             "colorbar": {
              "outlinewidth": 0,
              "ticks": ""
             }
            },
            "type": "scatterpolargl"
           }
          ],
          "scatterternary": [
           {
            "marker": {
             "colorbar": {
              "outlinewidth": 0,
              "ticks": ""
             }
            },
            "type": "scatterternary"
           }
          ],
          "surface": [
           {
            "colorbar": {
             "outlinewidth": 0,
             "ticks": ""
            },
            "colorscale": [
             [
              0,
              "#0d0887"
             ],
             [
              0.1111111111111111,
              "#46039f"
             ],
             [
              0.2222222222222222,
              "#7201a8"
             ],
             [
              0.3333333333333333,
              "#9c179e"
             ],
             [
              0.4444444444444444,
              "#bd3786"
             ],
             [
              0.5555555555555556,
              "#d8576b"
             ],
             [
              0.6666666666666666,
              "#ed7953"
             ],
             [
              0.7777777777777778,
              "#fb9f3a"
             ],
             [
              0.8888888888888888,
              "#fdca26"
             ],
             [
              1,
              "#f0f921"
             ]
            ],
            "type": "surface"
           }
          ],
          "table": [
           {
            "cells": {
             "fill": {
              "color": "#EBF0F8"
             },
             "line": {
              "color": "white"
             }
            },
            "header": {
             "fill": {
              "color": "#C8D4E3"
             },
             "line": {
              "color": "white"
             }
            },
            "type": "table"
           }
          ]
         },
         "layout": {
          "annotationdefaults": {
           "arrowcolor": "#2a3f5f",
           "arrowhead": 0,
           "arrowwidth": 1
          },
          "coloraxis": {
           "colorbar": {
            "outlinewidth": 0,
            "ticks": ""
           }
          },
          "colorscale": {
           "diverging": [
            [
             0,
             "#8e0152"
            ],
            [
             0.1,
             "#c51b7d"
            ],
            [
             0.2,
             "#de77ae"
            ],
            [
             0.3,
             "#f1b6da"
            ],
            [
             0.4,
             "#fde0ef"
            ],
            [
             0.5,
             "#f7f7f7"
            ],
            [
             0.6,
             "#e6f5d0"
            ],
            [
             0.7,
             "#b8e186"
            ],
            [
             0.8,
             "#7fbc41"
            ],
            [
             0.9,
             "#4d9221"
            ],
            [
             1,
             "#276419"
            ]
           ],
           "sequential": [
            [
             0,
             "#0d0887"
            ],
            [
             0.1111111111111111,
             "#46039f"
            ],
            [
             0.2222222222222222,
             "#7201a8"
            ],
            [
             0.3333333333333333,
             "#9c179e"
            ],
            [
             0.4444444444444444,
             "#bd3786"
            ],
            [
             0.5555555555555556,
             "#d8576b"
            ],
            [
             0.6666666666666666,
             "#ed7953"
            ],
            [
             0.7777777777777778,
             "#fb9f3a"
            ],
            [
             0.8888888888888888,
             "#fdca26"
            ],
            [
             1,
             "#f0f921"
            ]
           ],
           "sequentialminus": [
            [
             0,
             "#0d0887"
            ],
            [
             0.1111111111111111,
             "#46039f"
            ],
            [
             0.2222222222222222,
             "#7201a8"
            ],
            [
             0.3333333333333333,
             "#9c179e"
            ],
            [
             0.4444444444444444,
             "#bd3786"
            ],
            [
             0.5555555555555556,
             "#d8576b"
            ],
            [
             0.6666666666666666,
             "#ed7953"
            ],
            [
             0.7777777777777778,
             "#fb9f3a"
            ],
            [
             0.8888888888888888,
             "#fdca26"
            ],
            [
             1,
             "#f0f921"
            ]
           ]
          },
          "colorway": [
           "#636efa",
           "#EF553B",
           "#00cc96",
           "#ab63fa",
           "#FFA15A",
           "#19d3f3",
           "#FF6692",
           "#B6E880",
           "#FF97FF",
           "#FECB52"
          ],
          "font": {
           "color": "#2a3f5f"
          },
          "geo": {
           "bgcolor": "white",
           "lakecolor": "white",
           "landcolor": "#E5ECF6",
           "showlakes": true,
           "showland": true,
           "subunitcolor": "white"
          },
          "hoverlabel": {
           "align": "left"
          },
          "hovermode": "closest",
          "mapbox": {
           "style": "light"
          },
          "paper_bgcolor": "white",
          "plot_bgcolor": "#E5ECF6",
          "polar": {
           "angularaxis": {
            "gridcolor": "white",
            "linecolor": "white",
            "ticks": ""
           },
           "bgcolor": "#E5ECF6",
           "radialaxis": {
            "gridcolor": "white",
            "linecolor": "white",
            "ticks": ""
           }
          },
          "scene": {
           "xaxis": {
            "backgroundcolor": "#E5ECF6",
            "gridcolor": "white",
            "gridwidth": 2,
            "linecolor": "white",
            "showbackground": true,
            "ticks": "",
            "zerolinecolor": "white"
           },
           "yaxis": {
            "backgroundcolor": "#E5ECF6",
            "gridcolor": "white",
            "gridwidth": 2,
            "linecolor": "white",
            "showbackground": true,
            "ticks": "",
            "zerolinecolor": "white"
           },
           "zaxis": {
            "backgroundcolor": "#E5ECF6",
            "gridcolor": "white",
            "gridwidth": 2,
            "linecolor": "white",
            "showbackground": true,
            "ticks": "",
            "zerolinecolor": "white"
           }
          },
          "shapedefaults": {
           "line": {
            "color": "#2a3f5f"
           }
          },
          "ternary": {
           "aaxis": {
            "gridcolor": "white",
            "linecolor": "white",
            "ticks": ""
           },
           "baxis": {
            "gridcolor": "white",
            "linecolor": "white",
            "ticks": ""
           },
           "bgcolor": "#E5ECF6",
           "caxis": {
            "gridcolor": "white",
            "linecolor": "white",
            "ticks": ""
           }
          },
          "title": {
           "x": 0.05
          },
          "xaxis": {
           "automargin": true,
           "gridcolor": "white",
           "linecolor": "white",
           "ticks": "",
           "title": {
            "standoff": 15
           },
           "zerolinecolor": "white",
           "zerolinewidth": 2
          },
          "yaxis": {
           "automargin": true,
           "gridcolor": "white",
           "linecolor": "white",
           "ticks": "",
           "title": {
            "standoff": 15
           },
           "zerolinecolor": "white",
           "zerolinewidth": 2
          }
         }
        },
        "title": {
         "text": "State of the Cluster"
        },
        "width": 800,
        "xaxis": {
         "anchor": "y",
         "domain": [
          0,
          1
         ],
         "matches": "x4",
         "showticklabels": false,
         "title": {
          "text": "time in s"
         }
        },
        "xaxis2": {
         "anchor": "y2",
         "domain": [
          0,
          1
         ],
         "matches": "x4",
         "showticklabels": false,
         "title": {
          "text": "time in s"
         }
        },
        "xaxis3": {
         "anchor": "y3",
         "domain": [
          0,
          1
         ],
         "matches": "x4",
         "showticklabels": false,
         "title": {
          "text": "time in s"
         }
        },
        "xaxis4": {
         "anchor": "y4",
         "domain": [
          0,
          1
         ],
         "title": {
          "text": "time in s"
         }
        },
        "yaxis": {
         "anchor": "x",
         "domain": [
          0.84375,
          1
         ],
         "title": {
          "text": "dataflow in MB/s"
         }
        },
        "yaxis2": {
         "anchor": "x2",
         "domain": [
          0.5625,
          0.71875
         ],
         "title": {
          "text": "BB usage in Bytes"
         }
        },
        "yaxis3": {
         "anchor": "x3",
         "domain": [
          0.28125,
          0.4375
         ],
         "title": {
          "text": "HDD usage in Bytes"
         }
        },
        "yaxis4": {
         "anchor": "x4",
         "domain": [
          0,
          0.15625
         ],
         "title": {
          "text": "CPU usage"
         }
        }
       }
      }
     },
     "metadata": {},
     "output_type": "display_data"
    }
   ],
   "source": [
    "# logger\n",
    "#env = simpy.Environment()\n",
    "logger.remove()\n",
    "# Simple app: read 1GB -> compute 10s -> write 5GB\n",
    "read = [1e9, 0]\n",
    "compute = [0,  10]\n",
    "write = [0, 5e9]\n",
    "# placement\n",
    "placement = [0, 0]\n",
    "use_bb = [False, False]\n",
    "# simulate the app execution\n",
    "app1 = Application(env, compute=compute, read=read, write=write, data=data)\n",
    "env.process(app1.run(cluster, placement=placement, use_bb=use_bb))\n",
    "env.run()\n",
    "print(f\"application duration = {app1.get_fitness()}\")\n",
    "fig = display_run(data, cluster, width=800, height=900)\n",
    "fig.show()\n"
   ]
  },
  {
   "cell_type": "markdown",
   "metadata": {},
   "source": [
    "Selective SBB per dataset"
   ]
  },
  {
   "cell_type": "code",
   "execution_count": 5,
   "metadata": {},
   "outputs": [
    {
     "name": "stdout",
     "output_type": "stream",
     "text": [
      "application duration = 47.5\n"
     ]
    },
    {
     "data": {
      "application/vnd.plotly.v1+json": {
       "config": {
        "plotlyServerURL": "https://plot.ly"
       },
       "data": [
        {
         "line": {
          "shape": "linear"
         },
         "name": "app#P6",
         "text": [
          "READ|to/from:HDD|volume=1.0 GB",
          "READ|to/from:HDD|volume=1.0 GB",
          "COMPUTE|volume=0B",
          "COMPUTE|volume=0B",
          "WRITE|to/from:BB|volume=5.0 GB",
          "WRITE|to/from:BB|volume=5.0 GB"
         ],
         "textposition": "top center",
         "type": "scatter",
         "x": [
          147.5,
          160,
          160,
          170,
          170,
          195
         ],
         "xaxis": "x",
         "y": [
          80,
          80,
          0,
          0,
          200,
          200
         ],
         "yaxis": "y"
        },
        {
         "line": {
          "dash": "dot",
          "shape": "linear"
         },
         "name": "P6 mvt",
         "text": [
          "MOVEMENT|in:HDD|from:BB|volume=1.0 GB",
          "MOVEMENT|in:HDD|volume=1.0 GB",
          "MOVEMENT|in:HDD|from:BB|volume=4.0 GB",
          "MOVEMENT|in:HDD|volume=4.0 GB"
         ],
         "textposition": "top center",
         "type": "scatter",
         "x": [
          170,
          195,
          195,
          295
         ],
         "xaxis": "x",
         "y": [
          40,
          40,
          40,
          40
         ],
         "yaxis": "y"
        },
        {
         "line": {
          "shape": "linear"
         },
         "name": "BB",
         "showlegend": false,
         "text": [
          "P6|Read|HDD | +volume=1.0 GB",
          "P6|Compute | +volume=0B",
          "P6|Write|BB | +volume=5.0 GB",
          "P6|Movement|HDD | +volume=1.0 GB",
          "P6|Movement|HDD | +volume=4.0 GB"
         ],
         "textposition": "top center",
         "type": "scatter",
         "x": [
          147.5,
          160,
          170,
          195,
          295
         ],
         "xaxis": "x2",
         "y": [
          0,
          0,
          0,
          5000000000,
          5000000000
         ],
         "yaxis": "y2"
        },
        {
         "line": {
          "shape": "linear"
         },
         "name": "HDD",
         "showlegend": false,
         "text": [
          "P6|Read|HDD | +volume=1.0 GB",
          "P6|Compute | +volume=0B",
          "P6|Write|BB | +volume=5.0 GB",
          "P6|Movement|HDD | +volume=1.0 GB",
          "P6|Movement|HDD | +volume=4.0 GB"
         ],
         "textposition": "top center",
         "type": "scatter",
         "x": [
          147.5,
          160,
          170,
          195,
          295
         ],
         "xaxis": "x3",
         "y": [
          6000000000,
          6000000000,
          6000000000,
          7000000000,
          11000000000
         ],
         "yaxis": "y3"
        },
        {
         "line": {
          "shape": "hv"
         },
         "showlegend": false,
         "type": "scatter",
         "x": [
          147.5,
          160,
          170,
          195,
          295
         ],
         "xaxis": "x4",
         "y": [
          1,
          1,
          2,
          1,
          0
         ],
         "yaxis": "y4"
        },
        {
         "line": {
          "color": "red",
          "dash": "dot",
          "shape": "hv",
          "width": 3
         },
         "showlegend": false,
         "text": [
          "Maximum available cores in cluster=2",
          "Maximum available cores in cluster=2"
         ],
         "type": "scatter",
         "x": [
          147.5,
          295
         ],
         "xaxis": "x4",
         "y": [
          2,
          2
         ],
         "yaxis": "y4"
        }
       ],
       "layout": {
        "annotations": [
         {
          "font": {
           "size": 16
          },
          "showarrow": false,
          "text": "P6",
          "x": 0.5,
          "xanchor": "center",
          "xref": "paper",
          "y": 1,
          "yanchor": "bottom",
          "yref": "paper"
         },
         {
          "font": {
           "size": 16
          },
          "showarrow": false,
          "text": "BB (10.0 GB)",
          "x": 0.5,
          "xanchor": "center",
          "xref": "paper",
          "y": 0.71875,
          "yanchor": "bottom",
          "yref": "paper"
         },
         {
          "font": {
           "size": 16
          },
          "showarrow": false,
          "text": "HDD (1.0 TB)",
          "x": 0.5,
          "xanchor": "center",
          "xref": "paper",
          "y": 0.4375,
          "yanchor": "bottom",
          "yref": "paper"
         },
         {
          "font": {
           "size": 16
          },
          "showarrow": false,
          "text": "CPU Cores",
          "x": 0.5,
          "xanchor": "center",
          "xref": "paper",
          "y": 0.15625,
          "yanchor": "bottom",
          "yref": "paper"
         }
        ],
        "height": 900,
        "template": {
         "data": {
          "bar": [
           {
            "error_x": {
             "color": "#2a3f5f"
            },
            "error_y": {
             "color": "#2a3f5f"
            },
            "marker": {
             "line": {
              "color": "#E5ECF6",
              "width": 0.5
             }
            },
            "type": "bar"
           }
          ],
          "barpolar": [
           {
            "marker": {
             "line": {
              "color": "#E5ECF6",
              "width": 0.5
             }
            },
            "type": "barpolar"
           }
          ],
          "carpet": [
           {
            "aaxis": {
             "endlinecolor": "#2a3f5f",
             "gridcolor": "white",
             "linecolor": "white",
             "minorgridcolor": "white",
             "startlinecolor": "#2a3f5f"
            },
            "baxis": {
             "endlinecolor": "#2a3f5f",
             "gridcolor": "white",
             "linecolor": "white",
             "minorgridcolor": "white",
             "startlinecolor": "#2a3f5f"
            },
            "type": "carpet"
           }
          ],
          "choropleth": [
           {
            "colorbar": {
             "outlinewidth": 0,
             "ticks": ""
            },
            "type": "choropleth"
           }
          ],
          "contour": [
           {
            "colorbar": {
             "outlinewidth": 0,
             "ticks": ""
            },
            "colorscale": [
             [
              0,
              "#0d0887"
             ],
             [
              0.1111111111111111,
              "#46039f"
             ],
             [
              0.2222222222222222,
              "#7201a8"
             ],
             [
              0.3333333333333333,
              "#9c179e"
             ],
             [
              0.4444444444444444,
              "#bd3786"
             ],
             [
              0.5555555555555556,
              "#d8576b"
             ],
             [
              0.6666666666666666,
              "#ed7953"
             ],
             [
              0.7777777777777778,
              "#fb9f3a"
             ],
             [
              0.8888888888888888,
              "#fdca26"
             ],
             [
              1,
              "#f0f921"
             ]
            ],
            "type": "contour"
           }
          ],
          "contourcarpet": [
           {
            "colorbar": {
             "outlinewidth": 0,
             "ticks": ""
            },
            "type": "contourcarpet"
           }
          ],
          "heatmap": [
           {
            "colorbar": {
             "outlinewidth": 0,
             "ticks": ""
            },
            "colorscale": [
             [
              0,
              "#0d0887"
             ],
             [
              0.1111111111111111,
              "#46039f"
             ],
             [
              0.2222222222222222,
              "#7201a8"
             ],
             [
              0.3333333333333333,
              "#9c179e"
             ],
             [
              0.4444444444444444,
              "#bd3786"
             ],
             [
              0.5555555555555556,
              "#d8576b"
             ],
             [
              0.6666666666666666,
              "#ed7953"
             ],
             [
              0.7777777777777778,
              "#fb9f3a"
             ],
             [
              0.8888888888888888,
              "#fdca26"
             ],
             [
              1,
              "#f0f921"
             ]
            ],
            "type": "heatmap"
           }
          ],
          "heatmapgl": [
           {
            "colorbar": {
             "outlinewidth": 0,
             "ticks": ""
            },
            "colorscale": [
             [
              0,
              "#0d0887"
             ],
             [
              0.1111111111111111,
              "#46039f"
             ],
             [
              0.2222222222222222,
              "#7201a8"
             ],
             [
              0.3333333333333333,
              "#9c179e"
             ],
             [
              0.4444444444444444,
              "#bd3786"
             ],
             [
              0.5555555555555556,
              "#d8576b"
             ],
             [
              0.6666666666666666,
              "#ed7953"
             ],
             [
              0.7777777777777778,
              "#fb9f3a"
             ],
             [
              0.8888888888888888,
              "#fdca26"
             ],
             [
              1,
              "#f0f921"
             ]
            ],
            "type": "heatmapgl"
           }
          ],
          "histogram": [
           {
            "marker": {
             "colorbar": {
              "outlinewidth": 0,
              "ticks": ""
             }
            },
            "type": "histogram"
           }
          ],
          "histogram2d": [
           {
            "colorbar": {
             "outlinewidth": 0,
             "ticks": ""
            },
            "colorscale": [
             [
              0,
              "#0d0887"
             ],
             [
              0.1111111111111111,
              "#46039f"
             ],
             [
              0.2222222222222222,
              "#7201a8"
             ],
             [
              0.3333333333333333,
              "#9c179e"
             ],
             [
              0.4444444444444444,
              "#bd3786"
             ],
             [
              0.5555555555555556,
              "#d8576b"
             ],
             [
              0.6666666666666666,
              "#ed7953"
             ],
             [
              0.7777777777777778,
              "#fb9f3a"
             ],
             [
              0.8888888888888888,
              "#fdca26"
             ],
             [
              1,
              "#f0f921"
             ]
            ],
            "type": "histogram2d"
           }
          ],
          "histogram2dcontour": [
           {
            "colorbar": {
             "outlinewidth": 0,
             "ticks": ""
            },
            "colorscale": [
             [
              0,
              "#0d0887"
             ],
             [
              0.1111111111111111,
              "#46039f"
             ],
             [
              0.2222222222222222,
              "#7201a8"
             ],
             [
              0.3333333333333333,
              "#9c179e"
             ],
             [
              0.4444444444444444,
              "#bd3786"
             ],
             [
              0.5555555555555556,
              "#d8576b"
             ],
             [
              0.6666666666666666,
              "#ed7953"
             ],
             [
              0.7777777777777778,
              "#fb9f3a"
             ],
             [
              0.8888888888888888,
              "#fdca26"
             ],
             [
              1,
              "#f0f921"
             ]
            ],
            "type": "histogram2dcontour"
           }
          ],
          "mesh3d": [
           {
            "colorbar": {
             "outlinewidth": 0,
             "ticks": ""
            },
            "type": "mesh3d"
           }
          ],
          "parcoords": [
           {
            "line": {
             "colorbar": {
              "outlinewidth": 0,
              "ticks": ""
             }
            },
            "type": "parcoords"
           }
          ],
          "pie": [
           {
            "automargin": true,
            "type": "pie"
           }
          ],
          "scatter": [
           {
            "marker": {
             "colorbar": {
              "outlinewidth": 0,
              "ticks": ""
             }
            },
            "type": "scatter"
           }
          ],
          "scatter3d": [
           {
            "line": {
             "colorbar": {
              "outlinewidth": 0,
              "ticks": ""
             }
            },
            "marker": {
             "colorbar": {
              "outlinewidth": 0,
              "ticks": ""
             }
            },
            "type": "scatter3d"
           }
          ],
          "scattercarpet": [
           {
            "marker": {
             "colorbar": {
              "outlinewidth": 0,
              "ticks": ""
             }
            },
            "type": "scattercarpet"
           }
          ],
          "scattergeo": [
           {
            "marker": {
             "colorbar": {
              "outlinewidth": 0,
              "ticks": ""
             }
            },
            "type": "scattergeo"
           }
          ],
          "scattergl": [
           {
            "marker": {
             "colorbar": {
              "outlinewidth": 0,
              "ticks": ""
             }
            },
            "type": "scattergl"
           }
          ],
          "scattermapbox": [
           {
            "marker": {
             "colorbar": {
              "outlinewidth": 0,
              "ticks": ""
             }
            },
            "type": "scattermapbox"
           }
          ],
          "scatterpolar": [
           {
            "marker": {
             "colorbar": {
              "outlinewidth": 0,
              "ticks": ""
             }
            },
            "type": "scatterpolar"
           }
          ],
          "scatterpolargl": [
           {
            "marker": {
             "colorbar": {
              "outlinewidth": 0,
              "ticks": ""
             }
            },
            "type": "scatterpolargl"
           }
          ],
          "scatterternary": [
           {
            "marker": {
             "colorbar": {
              "outlinewidth": 0,
              "ticks": ""
             }
            },
            "type": "scatterternary"
           }
          ],
          "surface": [
           {
            "colorbar": {
             "outlinewidth": 0,
             "ticks": ""
            },
            "colorscale": [
             [
              0,
              "#0d0887"
             ],
             [
              0.1111111111111111,
              "#46039f"
             ],
             [
              0.2222222222222222,
              "#7201a8"
             ],
             [
              0.3333333333333333,
              "#9c179e"
             ],
             [
              0.4444444444444444,
              "#bd3786"
             ],
             [
              0.5555555555555556,
              "#d8576b"
             ],
             [
              0.6666666666666666,
              "#ed7953"
             ],
             [
              0.7777777777777778,
              "#fb9f3a"
             ],
             [
              0.8888888888888888,
              "#fdca26"
             ],
             [
              1,
              "#f0f921"
             ]
            ],
            "type": "surface"
           }
          ],
          "table": [
           {
            "cells": {
             "fill": {
              "color": "#EBF0F8"
             },
             "line": {
              "color": "white"
             }
            },
            "header": {
             "fill": {
              "color": "#C8D4E3"
             },
             "line": {
              "color": "white"
             }
            },
            "type": "table"
           }
          ]
         },
         "layout": {
          "annotationdefaults": {
           "arrowcolor": "#2a3f5f",
           "arrowhead": 0,
           "arrowwidth": 1
          },
          "coloraxis": {
           "colorbar": {
            "outlinewidth": 0,
            "ticks": ""
           }
          },
          "colorscale": {
           "diverging": [
            [
             0,
             "#8e0152"
            ],
            [
             0.1,
             "#c51b7d"
            ],
            [
             0.2,
             "#de77ae"
            ],
            [
             0.3,
             "#f1b6da"
            ],
            [
             0.4,
             "#fde0ef"
            ],
            [
             0.5,
             "#f7f7f7"
            ],
            [
             0.6,
             "#e6f5d0"
            ],
            [
             0.7,
             "#b8e186"
            ],
            [
             0.8,
             "#7fbc41"
            ],
            [
             0.9,
             "#4d9221"
            ],
            [
             1,
             "#276419"
            ]
           ],
           "sequential": [
            [
             0,
             "#0d0887"
            ],
            [
             0.1111111111111111,
             "#46039f"
            ],
            [
             0.2222222222222222,
             "#7201a8"
            ],
            [
             0.3333333333333333,
             "#9c179e"
            ],
            [
             0.4444444444444444,
             "#bd3786"
            ],
            [
             0.5555555555555556,
             "#d8576b"
            ],
            [
             0.6666666666666666,
             "#ed7953"
            ],
            [
             0.7777777777777778,
             "#fb9f3a"
            ],
            [
             0.8888888888888888,
             "#fdca26"
            ],
            [
             1,
             "#f0f921"
            ]
           ],
           "sequentialminus": [
            [
             0,
             "#0d0887"
            ],
            [
             0.1111111111111111,
             "#46039f"
            ],
            [
             0.2222222222222222,
             "#7201a8"
            ],
            [
             0.3333333333333333,
             "#9c179e"
            ],
            [
             0.4444444444444444,
             "#bd3786"
            ],
            [
             0.5555555555555556,
             "#d8576b"
            ],
            [
             0.6666666666666666,
             "#ed7953"
            ],
            [
             0.7777777777777778,
             "#fb9f3a"
            ],
            [
             0.8888888888888888,
             "#fdca26"
            ],
            [
             1,
             "#f0f921"
            ]
           ]
          },
          "colorway": [
           "#636efa",
           "#EF553B",
           "#00cc96",
           "#ab63fa",
           "#FFA15A",
           "#19d3f3",
           "#FF6692",
           "#B6E880",
           "#FF97FF",
           "#FECB52"
          ],
          "font": {
           "color": "#2a3f5f"
          },
          "geo": {
           "bgcolor": "white",
           "lakecolor": "white",
           "landcolor": "#E5ECF6",
           "showlakes": true,
           "showland": true,
           "subunitcolor": "white"
          },
          "hoverlabel": {
           "align": "left"
          },
          "hovermode": "closest",
          "mapbox": {
           "style": "light"
          },
          "paper_bgcolor": "white",
          "plot_bgcolor": "#E5ECF6",
          "polar": {
           "angularaxis": {
            "gridcolor": "white",
            "linecolor": "white",
            "ticks": ""
           },
           "bgcolor": "#E5ECF6",
           "radialaxis": {
            "gridcolor": "white",
            "linecolor": "white",
            "ticks": ""
           }
          },
          "scene": {
           "xaxis": {
            "backgroundcolor": "#E5ECF6",
            "gridcolor": "white",
            "gridwidth": 2,
            "linecolor": "white",
            "showbackground": true,
            "ticks": "",
            "zerolinecolor": "white"
           },
           "yaxis": {
            "backgroundcolor": "#E5ECF6",
            "gridcolor": "white",
            "gridwidth": 2,
            "linecolor": "white",
            "showbackground": true,
            "ticks": "",
            "zerolinecolor": "white"
           },
           "zaxis": {
            "backgroundcolor": "#E5ECF6",
            "gridcolor": "white",
            "gridwidth": 2,
            "linecolor": "white",
            "showbackground": true,
            "ticks": "",
            "zerolinecolor": "white"
           }
          },
          "shapedefaults": {
           "line": {
            "color": "#2a3f5f"
           }
          },
          "ternary": {
           "aaxis": {
            "gridcolor": "white",
            "linecolor": "white",
            "ticks": ""
           },
           "baxis": {
            "gridcolor": "white",
            "linecolor": "white",
            "ticks": ""
           },
           "bgcolor": "#E5ECF6",
           "caxis": {
            "gridcolor": "white",
            "linecolor": "white",
            "ticks": ""
           }
          },
          "title": {
           "x": 0.05
          },
          "xaxis": {
           "automargin": true,
           "gridcolor": "white",
           "linecolor": "white",
           "ticks": "",
           "title": {
            "standoff": 15
           },
           "zerolinecolor": "white",
           "zerolinewidth": 2
          },
          "yaxis": {
           "automargin": true,
           "gridcolor": "white",
           "linecolor": "white",
           "ticks": "",
           "title": {
            "standoff": 15
           },
           "zerolinecolor": "white",
           "zerolinewidth": 2
          }
         }
        },
        "title": {
         "text": "State of the Cluster"
        },
        "width": 800,
        "xaxis": {
         "anchor": "y",
         "domain": [
          0,
          1
         ],
         "matches": "x4",
         "showticklabels": false,
         "title": {
          "text": "time in s"
         }
        },
        "xaxis2": {
         "anchor": "y2",
         "domain": [
          0,
          1
         ],
         "matches": "x4",
         "showticklabels": false,
         "title": {
          "text": "time in s"
         }
        },
        "xaxis3": {
         "anchor": "y3",
         "domain": [
          0,
          1
         ],
         "matches": "x4",
         "showticklabels": false,
         "title": {
          "text": "time in s"
         }
        },
        "xaxis4": {
         "anchor": "y4",
         "domain": [
          0,
          1
         ],
         "title": {
          "text": "time in s"
         }
        },
        "yaxis": {
         "anchor": "x",
         "domain": [
          0.84375,
          1
         ],
         "title": {
          "text": "dataflow in MB/s"
         }
        },
        "yaxis2": {
         "anchor": "x2",
         "domain": [
          0.5625,
          0.71875
         ],
         "title": {
          "text": "BB usage in Bytes"
         }
        },
        "yaxis3": {
         "anchor": "x3",
         "domain": [
          0.28125,
          0.4375
         ],
         "title": {
          "text": "HDD usage in Bytes"
         }
        },
        "yaxis4": {
         "anchor": "x4",
         "domain": [
          0,
          0.15625
         ],
         "title": {
          "text": "CPU usage"
         }
        }
       }
      }
     },
     "metadata": {},
     "output_type": "display_data"
    }
   ],
   "source": [
    "# logger\n",
    "# sim env an data\n",
    "\n",
    "data = simpy.Store(env)\n",
    "logger.remove()\n",
    "# Simple app: read 1GB -> compute 10s -> write 5GB\n",
    "compute = [0,  10]\n",
    "read = [1e9, 0]\n",
    "write = [0, 5e9]\n",
    "placement = [0, 0]\n",
    "use_bb = [False, True] # enabling ephemeral tier for second dataset\n",
    "app = Application(env, compute=compute, read=read, write=write, data=data)\n",
    "env.process(app.run(cluster, placement=placement, use_bb=use_bb))\n",
    "env.run()\n",
    "print(f\"application duration = {app.get_fitness()}\")\n",
    "fig = display_run(data, cluster, width=800, height=900)\n",
    "fig.show()\n"
   ]
  },
  {
   "cell_type": "markdown",
   "metadata": {},
   "source": [
    "What about prefetch ? (buffering read datasets)"
   ]
  },
  {
   "cell_type": "code",
   "execution_count": 6,
   "metadata": {},
   "outputs": [
    {
     "name": "stdout",
     "output_type": "stream",
     "text": [
      "application duration = 136.25\n"
     ]
    },
    {
     "data": {
      "application/vnd.plotly.v1+json": {
       "config": {
        "plotlyServerURL": "https://plot.ly"
       },
       "data": [
        {
         "line": {
          "shape": "linear"
         },
         "name": "app#J6",
         "text": [
          "READ|to/from:BB|volume=1.0 GB",
          "READ|to/from:BB|volume=1.0 GB",
          "COMPUTE|volume=0B",
          "COMPUTE|volume=0B",
          "WRITE|to/from:HDD|volume=5.0 GB",
          "WRITE|to/from:HDD|volume=5.0 GB"
         ],
         "textposition": "top center",
         "type": "scatter",
         "x": [
          307.5,
          308.75,
          308.75,
          318.75,
          318.75,
          443.75
         ],
         "xaxis": "x",
         "y": [
          800,
          800,
          0,
          0,
          40,
          40
         ],
         "yaxis": "y"
        },
        {
         "line": {
          "dash": "dot",
          "shape": "linear"
         },
         "name": "J6 mvt",
         "text": [
          "MOVEMENT|in:BB|from:HDD|volume=1.0 GB",
          "MOVEMENT|in:BB|volume=1.0 GB"
         ],
         "textposition": "top center",
         "type": "scatter",
         "x": [
          295,
          307.5
         ],
         "xaxis": "x",
         "y": [
          80,
          80
         ],
         "yaxis": "y"
        },
        {
         "line": {
          "shape": "linear"
         },
         "name": "BB",
         "showlegend": false,
         "text": [
          "J6|Movement|BB | +volume=1.0 GB",
          "J6|Read|BB | +volume=1.0 GB",
          "J6|Compute | +volume=0B",
          "J6|Write|HDD | +volume=5.0 GB"
         ],
         "textposition": "top center",
         "type": "scatter",
         "x": [
          295,
          307.5,
          308.75,
          318.75,
          443.75
         ],
         "xaxis": "x2",
         "y": [
          5000000000,
          6000000000,
          6000000000,
          6000000000,
          6000000000
         ],
         "yaxis": "y2"
        },
        {
         "line": {
          "shape": "linear"
         },
         "name": "HDD",
         "showlegend": false,
         "text": [
          "J6|Movement|BB | +volume=1.0 GB",
          "J6|Read|BB | +volume=1.0 GB",
          "J6|Compute | +volume=0B",
          "J6|Write|HDD | +volume=5.0 GB"
         ],
         "textposition": "top center",
         "type": "scatter",
         "x": [
          295,
          307.5,
          308.75,
          318.75,
          443.75
         ],
         "xaxis": "x3",
         "y": [
          11000000000,
          11000000000,
          11000000000,
          11000000000,
          15999999999.999998
         ],
         "yaxis": "y3"
        },
        {
         "line": {
          "shape": "hv"
         },
         "showlegend": false,
         "type": "scatter",
         "x": [
          295,
          307.5,
          308.75,
          318.75,
          443.75
         ],
         "xaxis": "x4",
         "y": [
          1,
          1,
          1,
          1,
          0
         ],
         "yaxis": "y4"
        },
        {
         "line": {
          "color": "red",
          "dash": "dot",
          "shape": "hv",
          "width": 3
         },
         "showlegend": false,
         "text": [
          "Maximum available cores in cluster=2",
          "Maximum available cores in cluster=2"
         ],
         "type": "scatter",
         "x": [
          295,
          443.75
         ],
         "xaxis": "x4",
         "y": [
          2,
          2
         ],
         "yaxis": "y4"
        }
       ],
       "layout": {
        "annotations": [
         {
          "font": {
           "size": 16
          },
          "showarrow": false,
          "text": "J6",
          "x": 0.5,
          "xanchor": "center",
          "xref": "paper",
          "y": 1,
          "yanchor": "bottom",
          "yref": "paper"
         },
         {
          "font": {
           "size": 16
          },
          "showarrow": false,
          "text": "BB (10.0 GB)",
          "x": 0.5,
          "xanchor": "center",
          "xref": "paper",
          "y": 0.71875,
          "yanchor": "bottom",
          "yref": "paper"
         },
         {
          "font": {
           "size": 16
          },
          "showarrow": false,
          "text": "HDD (1.0 TB)",
          "x": 0.5,
          "xanchor": "center",
          "xref": "paper",
          "y": 0.4375,
          "yanchor": "bottom",
          "yref": "paper"
         },
         {
          "font": {
           "size": 16
          },
          "showarrow": false,
          "text": "CPU Cores",
          "x": 0.5,
          "xanchor": "center",
          "xref": "paper",
          "y": 0.15625,
          "yanchor": "bottom",
          "yref": "paper"
         }
        ],
        "height": 900,
        "template": {
         "data": {
          "bar": [
           {
            "error_x": {
             "color": "#2a3f5f"
            },
            "error_y": {
             "color": "#2a3f5f"
            },
            "marker": {
             "line": {
              "color": "#E5ECF6",
              "width": 0.5
             }
            },
            "type": "bar"
           }
          ],
          "barpolar": [
           {
            "marker": {
             "line": {
              "color": "#E5ECF6",
              "width": 0.5
             }
            },
            "type": "barpolar"
           }
          ],
          "carpet": [
           {
            "aaxis": {
             "endlinecolor": "#2a3f5f",
             "gridcolor": "white",
             "linecolor": "white",
             "minorgridcolor": "white",
             "startlinecolor": "#2a3f5f"
            },
            "baxis": {
             "endlinecolor": "#2a3f5f",
             "gridcolor": "white",
             "linecolor": "white",
             "minorgridcolor": "white",
             "startlinecolor": "#2a3f5f"
            },
            "type": "carpet"
           }
          ],
          "choropleth": [
           {
            "colorbar": {
             "outlinewidth": 0,
             "ticks": ""
            },
            "type": "choropleth"
           }
          ],
          "contour": [
           {
            "colorbar": {
             "outlinewidth": 0,
             "ticks": ""
            },
            "colorscale": [
             [
              0,
              "#0d0887"
             ],
             [
              0.1111111111111111,
              "#46039f"
             ],
             [
              0.2222222222222222,
              "#7201a8"
             ],
             [
              0.3333333333333333,
              "#9c179e"
             ],
             [
              0.4444444444444444,
              "#bd3786"
             ],
             [
              0.5555555555555556,
              "#d8576b"
             ],
             [
              0.6666666666666666,
              "#ed7953"
             ],
             [
              0.7777777777777778,
              "#fb9f3a"
             ],
             [
              0.8888888888888888,
              "#fdca26"
             ],
             [
              1,
              "#f0f921"
             ]
            ],
            "type": "contour"
           }
          ],
          "contourcarpet": [
           {
            "colorbar": {
             "outlinewidth": 0,
             "ticks": ""
            },
            "type": "contourcarpet"
           }
          ],
          "heatmap": [
           {
            "colorbar": {
             "outlinewidth": 0,
             "ticks": ""
            },
            "colorscale": [
             [
              0,
              "#0d0887"
             ],
             [
              0.1111111111111111,
              "#46039f"
             ],
             [
              0.2222222222222222,
              "#7201a8"
             ],
             [
              0.3333333333333333,
              "#9c179e"
             ],
             [
              0.4444444444444444,
              "#bd3786"
             ],
             [
              0.5555555555555556,
              "#d8576b"
             ],
             [
              0.6666666666666666,
              "#ed7953"
             ],
             [
              0.7777777777777778,
              "#fb9f3a"
             ],
             [
              0.8888888888888888,
              "#fdca26"
             ],
             [
              1,
              "#f0f921"
             ]
            ],
            "type": "heatmap"
           }
          ],
          "heatmapgl": [
           {
            "colorbar": {
             "outlinewidth": 0,
             "ticks": ""
            },
            "colorscale": [
             [
              0,
              "#0d0887"
             ],
             [
              0.1111111111111111,
              "#46039f"
             ],
             [
              0.2222222222222222,
              "#7201a8"
             ],
             [
              0.3333333333333333,
              "#9c179e"
             ],
             [
              0.4444444444444444,
              "#bd3786"
             ],
             [
              0.5555555555555556,
              "#d8576b"
             ],
             [
              0.6666666666666666,
              "#ed7953"
             ],
             [
              0.7777777777777778,
              "#fb9f3a"
             ],
             [
              0.8888888888888888,
              "#fdca26"
             ],
             [
              1,
              "#f0f921"
             ]
            ],
            "type": "heatmapgl"
           }
          ],
          "histogram": [
           {
            "marker": {
             "colorbar": {
              "outlinewidth": 0,
              "ticks": ""
             }
            },
            "type": "histogram"
           }
          ],
          "histogram2d": [
           {
            "colorbar": {
             "outlinewidth": 0,
             "ticks": ""
            },
            "colorscale": [
             [
              0,
              "#0d0887"
             ],
             [
              0.1111111111111111,
              "#46039f"
             ],
             [
              0.2222222222222222,
              "#7201a8"
             ],
             [
              0.3333333333333333,
              "#9c179e"
             ],
             [
              0.4444444444444444,
              "#bd3786"
             ],
             [
              0.5555555555555556,
              "#d8576b"
             ],
             [
              0.6666666666666666,
              "#ed7953"
             ],
             [
              0.7777777777777778,
              "#fb9f3a"
             ],
             [
              0.8888888888888888,
              "#fdca26"
             ],
             [
              1,
              "#f0f921"
             ]
            ],
            "type": "histogram2d"
           }
          ],
          "histogram2dcontour": [
           {
            "colorbar": {
             "outlinewidth": 0,
             "ticks": ""
            },
            "colorscale": [
             [
              0,
              "#0d0887"
             ],
             [
              0.1111111111111111,
              "#46039f"
             ],
             [
              0.2222222222222222,
              "#7201a8"
             ],
             [
              0.3333333333333333,
              "#9c179e"
             ],
             [
              0.4444444444444444,
              "#bd3786"
             ],
             [
              0.5555555555555556,
              "#d8576b"
             ],
             [
              0.6666666666666666,
              "#ed7953"
             ],
             [
              0.7777777777777778,
              "#fb9f3a"
             ],
             [
              0.8888888888888888,
              "#fdca26"
             ],
             [
              1,
              "#f0f921"
             ]
            ],
            "type": "histogram2dcontour"
           }
          ],
          "mesh3d": [
           {
            "colorbar": {
             "outlinewidth": 0,
             "ticks": ""
            },
            "type": "mesh3d"
           }
          ],
          "parcoords": [
           {
            "line": {
             "colorbar": {
              "outlinewidth": 0,
              "ticks": ""
             }
            },
            "type": "parcoords"
           }
          ],
          "pie": [
           {
            "automargin": true,
            "type": "pie"
           }
          ],
          "scatter": [
           {
            "marker": {
             "colorbar": {
              "outlinewidth": 0,
              "ticks": ""
             }
            },
            "type": "scatter"
           }
          ],
          "scatter3d": [
           {
            "line": {
             "colorbar": {
              "outlinewidth": 0,
              "ticks": ""
             }
            },
            "marker": {
             "colorbar": {
              "outlinewidth": 0,
              "ticks": ""
             }
            },
            "type": "scatter3d"
           }
          ],
          "scattercarpet": [
           {
            "marker": {
             "colorbar": {
              "outlinewidth": 0,
              "ticks": ""
             }
            },
            "type": "scattercarpet"
           }
          ],
          "scattergeo": [
           {
            "marker": {
             "colorbar": {
              "outlinewidth": 0,
              "ticks": ""
             }
            },
            "type": "scattergeo"
           }
          ],
          "scattergl": [
           {
            "marker": {
             "colorbar": {
              "outlinewidth": 0,
              "ticks": ""
             }
            },
            "type": "scattergl"
           }
          ],
          "scattermapbox": [
           {
            "marker": {
             "colorbar": {
              "outlinewidth": 0,
              "ticks": ""
             }
            },
            "type": "scattermapbox"
           }
          ],
          "scatterpolar": [
           {
            "marker": {
             "colorbar": {
              "outlinewidth": 0,
              "ticks": ""
             }
            },
            "type": "scatterpolar"
           }
          ],
          "scatterpolargl": [
           {
            "marker": {
             "colorbar": {
              "outlinewidth": 0,
              "ticks": ""
             }
            },
            "type": "scatterpolargl"
           }
          ],
          "scatterternary": [
           {
            "marker": {
             "colorbar": {
              "outlinewidth": 0,
              "ticks": ""
             }
            },
            "type": "scatterternary"
           }
          ],
          "surface": [
           {
            "colorbar": {
             "outlinewidth": 0,
             "ticks": ""
            },
            "colorscale": [
             [
              0,
              "#0d0887"
             ],
             [
              0.1111111111111111,
              "#46039f"
             ],
             [
              0.2222222222222222,
              "#7201a8"
             ],
             [
              0.3333333333333333,
              "#9c179e"
             ],
             [
              0.4444444444444444,
              "#bd3786"
             ],
             [
              0.5555555555555556,
              "#d8576b"
             ],
             [
              0.6666666666666666,
              "#ed7953"
             ],
             [
              0.7777777777777778,
              "#fb9f3a"
             ],
             [
              0.8888888888888888,
              "#fdca26"
             ],
             [
              1,
              "#f0f921"
             ]
            ],
            "type": "surface"
           }
          ],
          "table": [
           {
            "cells": {
             "fill": {
              "color": "#EBF0F8"
             },
             "line": {
              "color": "white"
             }
            },
            "header": {
             "fill": {
              "color": "#C8D4E3"
             },
             "line": {
              "color": "white"
             }
            },
            "type": "table"
           }
          ]
         },
         "layout": {
          "annotationdefaults": {
           "arrowcolor": "#2a3f5f",
           "arrowhead": 0,
           "arrowwidth": 1
          },
          "coloraxis": {
           "colorbar": {
            "outlinewidth": 0,
            "ticks": ""
           }
          },
          "colorscale": {
           "diverging": [
            [
             0,
             "#8e0152"
            ],
            [
             0.1,
             "#c51b7d"
            ],
            [
             0.2,
             "#de77ae"
            ],
            [
             0.3,
             "#f1b6da"
            ],
            [
             0.4,
             "#fde0ef"
            ],
            [
             0.5,
             "#f7f7f7"
            ],
            [
             0.6,
             "#e6f5d0"
            ],
            [
             0.7,
             "#b8e186"
            ],
            [
             0.8,
             "#7fbc41"
            ],
            [
             0.9,
             "#4d9221"
            ],
            [
             1,
             "#276419"
            ]
           ],
           "sequential": [
            [
             0,
             "#0d0887"
            ],
            [
             0.1111111111111111,
             "#46039f"
            ],
            [
             0.2222222222222222,
             "#7201a8"
            ],
            [
             0.3333333333333333,
             "#9c179e"
            ],
            [
             0.4444444444444444,
             "#bd3786"
            ],
            [
             0.5555555555555556,
             "#d8576b"
            ],
            [
             0.6666666666666666,
             "#ed7953"
            ],
            [
             0.7777777777777778,
             "#fb9f3a"
            ],
            [
             0.8888888888888888,
             "#fdca26"
            ],
            [
             1,
             "#f0f921"
            ]
           ],
           "sequentialminus": [
            [
             0,
             "#0d0887"
            ],
            [
             0.1111111111111111,
             "#46039f"
            ],
            [
             0.2222222222222222,
             "#7201a8"
            ],
            [
             0.3333333333333333,
             "#9c179e"
            ],
            [
             0.4444444444444444,
             "#bd3786"
            ],
            [
             0.5555555555555556,
             "#d8576b"
            ],
            [
             0.6666666666666666,
             "#ed7953"
            ],
            [
             0.7777777777777778,
             "#fb9f3a"
            ],
            [
             0.8888888888888888,
             "#fdca26"
            ],
            [
             1,
             "#f0f921"
            ]
           ]
          },
          "colorway": [
           "#636efa",
           "#EF553B",
           "#00cc96",
           "#ab63fa",
           "#FFA15A",
           "#19d3f3",
           "#FF6692",
           "#B6E880",
           "#FF97FF",
           "#FECB52"
          ],
          "font": {
           "color": "#2a3f5f"
          },
          "geo": {
           "bgcolor": "white",
           "lakecolor": "white",
           "landcolor": "#E5ECF6",
           "showlakes": true,
           "showland": true,
           "subunitcolor": "white"
          },
          "hoverlabel": {
           "align": "left"
          },
          "hovermode": "closest",
          "mapbox": {
           "style": "light"
          },
          "paper_bgcolor": "white",
          "plot_bgcolor": "#E5ECF6",
          "polar": {
           "angularaxis": {
            "gridcolor": "white",
            "linecolor": "white",
            "ticks": ""
           },
           "bgcolor": "#E5ECF6",
           "radialaxis": {
            "gridcolor": "white",
            "linecolor": "white",
            "ticks": ""
           }
          },
          "scene": {
           "xaxis": {
            "backgroundcolor": "#E5ECF6",
            "gridcolor": "white",
            "gridwidth": 2,
            "linecolor": "white",
            "showbackground": true,
            "ticks": "",
            "zerolinecolor": "white"
           },
           "yaxis": {
            "backgroundcolor": "#E5ECF6",
            "gridcolor": "white",
            "gridwidth": 2,
            "linecolor": "white",
            "showbackground": true,
            "ticks": "",
            "zerolinecolor": "white"
           },
           "zaxis": {
            "backgroundcolor": "#E5ECF6",
            "gridcolor": "white",
            "gridwidth": 2,
            "linecolor": "white",
            "showbackground": true,
            "ticks": "",
            "zerolinecolor": "white"
           }
          },
          "shapedefaults": {
           "line": {
            "color": "#2a3f5f"
           }
          },
          "ternary": {
           "aaxis": {
            "gridcolor": "white",
            "linecolor": "white",
            "ticks": ""
           },
           "baxis": {
            "gridcolor": "white",
            "linecolor": "white",
            "ticks": ""
           },
           "bgcolor": "#E5ECF6",
           "caxis": {
            "gridcolor": "white",
            "linecolor": "white",
            "ticks": ""
           }
          },
          "title": {
           "x": 0.05
          },
          "xaxis": {
           "automargin": true,
           "gridcolor": "white",
           "linecolor": "white",
           "ticks": "",
           "title": {
            "standoff": 15
           },
           "zerolinecolor": "white",
           "zerolinewidth": 2
          },
          "yaxis": {
           "automargin": true,
           "gridcolor": "white",
           "linecolor": "white",
           "ticks": "",
           "title": {
            "standoff": 15
           },
           "zerolinecolor": "white",
           "zerolinewidth": 2
          }
         }
        },
        "title": {
         "text": "State of the Cluster"
        },
        "width": 800,
        "xaxis": {
         "anchor": "y",
         "domain": [
          0,
          1
         ],
         "matches": "x4",
         "showticklabels": false,
         "title": {
          "text": "time in s"
         }
        },
        "xaxis2": {
         "anchor": "y2",
         "domain": [
          0,
          1
         ],
         "matches": "x4",
         "showticklabels": false,
         "title": {
          "text": "time in s"
         }
        },
        "xaxis3": {
         "anchor": "y3",
         "domain": [
          0,
          1
         ],
         "matches": "x4",
         "showticklabels": false,
         "title": {
          "text": "time in s"
         }
        },
        "xaxis4": {
         "anchor": "y4",
         "domain": [
          0,
          1
         ],
         "title": {
          "text": "time in s"
         }
        },
        "yaxis": {
         "anchor": "x",
         "domain": [
          0.84375,
          1
         ],
         "title": {
          "text": "dataflow in MB/s"
         }
        },
        "yaxis2": {
         "anchor": "x2",
         "domain": [
          0.5625,
          0.71875
         ],
         "title": {
          "text": "BB usage in Bytes"
         }
        },
        "yaxis3": {
         "anchor": "x3",
         "domain": [
          0.28125,
          0.4375
         ],
         "title": {
          "text": "HDD usage in Bytes"
         }
        },
        "yaxis4": {
         "anchor": "x4",
         "domain": [
          0,
          0.15625
         ],
         "title": {
          "text": "CPU usage"
         }
        }
       }
      }
     },
     "metadata": {},
     "output_type": "display_data"
    }
   ],
   "source": [
    "# logger\n",
    "# sim env an data\n",
    "data = simpy.Store(env)\n",
    "logger.remove()\n",
    "# Simple app: read 1GB -> compute 10s -> write 5GB\n",
    "compute = [0,  10]\n",
    "read = [1e9, 0]\n",
    "write = [0, 5e9]\n",
    "placement = [0, 0]\n",
    "use_bb = [True, False]\n",
    "app = Application(env, compute=compute, read=read, write=write, data=data)\n",
    "env.process(app.run(cluster, placement=placement, use_bb=use_bb))\n",
    "env.run()\n",
    "print(f\"application duration = {app.get_fitness()}\")\n",
    "fig = display_run(data, cluster, width=800, height=900)\n",
    "fig.show()"
   ]
  },
  {
   "cell_type": "markdown",
   "metadata": {},
   "source": [
    "Burst Buffer Saturation\n",
    " - will choose bb_size < 5GB (max used size)\n",
    " "
   ]
  },
  {
   "cell_type": "code",
   "execution_count": 7,
   "metadata": {},
   "outputs": [
    {
     "name": "stdout",
     "output_type": "stream",
     "text": [
      "application duration = 47.5\n"
     ]
    },
    {
     "data": {
      "application/vnd.plotly.v1+json": {
       "config": {
        "plotlyServerURL": "https://plot.ly"
       },
       "data": [
        {
         "line": {
          "shape": "linear"
         },
         "name": "app#P5",
         "text": [
          "READ|to/from:HDD|volume=1.0 GB",
          "READ|to/from:HDD|volume=1.0 GB",
          "COMPUTE|volume=0B",
          "COMPUTE|volume=0B",
          "WRITE|to/from:BB|volume=4.5 GB",
          "WRITE|to/from:BB|volume=4.5 GB",
          "EVICTION|to/from:HDD|volume=900.0 MB",
          "EVICTION|to/from:HDD|volume=900.0 MB",
          "WRITE|to/from:BB|volume=500.0 MB",
          "WRITE|to/from:BB|volume=500.0 MB",
          "EVICTION|to/from:HDD|volume=100.0 MB",
          "EVICTION|to/from:HDD|volume=100.0 MB"
         ],
         "textposition": "top center",
         "type": "scatter",
         "x": [
          443.75,
          456.25,
          456.25,
          466.25,
          466.25,
          488.75,
          488.75,
          488.75,
          488.75,
          491.25,
          491.25,
          491.25
         ],
         "xaxis": "x",
         "y": [
          80,
          80,
          0,
          0,
          200,
          200,
          null,
          null,
          200,
          200,
          null,
          null
         ],
         "yaxis": "y"
        },
        {
         "line": {
          "dash": "dot",
          "shape": "linear"
         },
         "name": "P5 mvt",
         "text": [
          "MOVEMENT|in:HDD|from:BB|volume=900.0 MB",
          "MOVEMENT|in:HDD|volume=900.0 MB",
          "MOVEMENT|in:HDD|from:BB|volume=100.0 MB",
          "MOVEMENT|in:HDD|volume=100.0 MB",
          "MOVEMENT|in:HDD|from:BB|volume=4.0 GB",
          "MOVEMENT|in:HDD|volume=4.0 GB"
         ],
         "textposition": "top center",
         "type": "scatter",
         "x": [
          466.25,
          488.75,
          488.75,
          491.25,
          491.25,
          591.25
         ],
         "xaxis": "x",
         "y": [
          40,
          40,
          40,
          40,
          40,
          40
         ],
         "yaxis": "y"
        },
        {
         "line": {
          "shape": "linear"
         },
         "name": "BB",
         "showlegend": false,
         "text": [
          "P5|Read|HDD | +volume=1.0 GB",
          "P5|Compute | +volume=0B",
          "P5|Write|BB | +volume=4.5 GB",
          "P5|Movement|HDD | +volume=900.0 MB",
          "P5|Eviction|HDD | +volume=900.0 MB",
          "P5|Write|BB | +volume=500.0 MB",
          "P5|Movement|HDD | +volume=100.0 MB",
          "P5|Eviction|HDD | +volume=100.0 MB",
          "P5|Movement|HDD | +volume=4.0 GB"
         ],
         "textposition": "top center",
         "type": "scatter",
         "x": [
          443.75,
          456.25,
          466.25,
          488.75,
          491.25,
          591.25
         ],
         "xaxis": "x2",
         "y": [
          0,
          0,
          0,
          3600000000,
          4000000000,
          4000000000
         ],
         "yaxis": "y2"
        },
        {
         "line": {
          "color": "black",
          "shape": "linear"
         },
         "name": " Eviction",
         "showlegend": false,
         "text": [
          "EVICTION|IN:BB|volume=900.0 MB",
          "EVICTION|IN:BB|volume=900.0 MB",
          "EVICTION|IN:BB|volume=100.0 MB",
          "EVICTION|IN:BB|volume=100.0 MB"
         ],
         "textposition": "top center",
         "type": "scatter",
         "x": [
          488.75,
          488.75
         ],
         "xaxis": "x2",
         "y": [
          4500000000,
          3600000000
         ],
         "yaxis": "y2"
        },
        {
         "line": {
          "color": "black",
          "shape": "linear"
         },
         "name": " Eviction",
         "showlegend": false,
         "text": [
          "EVICTION|IN:BB|volume=900.0 MB",
          "EVICTION|IN:BB|volume=900.0 MB",
          "EVICTION|IN:BB|volume=100.0 MB",
          "EVICTION|IN:BB|volume=100.0 MB"
         ],
         "textposition": "top center",
         "type": "scatter",
         "x": [
          491.25,
          491.25
         ],
         "xaxis": "x2",
         "y": [
          4100000000,
          4000000000
         ],
         "yaxis": "y2"
        },
        {
         "line": {
          "shape": "linear"
         },
         "name": "HDD",
         "showlegend": false,
         "text": [
          "P5|Read|HDD | +volume=1.0 GB",
          "P5|Compute | +volume=0B",
          "P5|Write|BB | +volume=4.5 GB",
          "P5|Movement|HDD | +volume=900.0 MB",
          "P5|Eviction|HDD | +volume=900.0 MB",
          "P5|Write|BB | +volume=500.0 MB",
          "P5|Movement|HDD | +volume=100.0 MB",
          "P5|Eviction|HDD | +volume=100.0 MB",
          "P5|Movement|HDD | +volume=4.0 GB"
         ],
         "textposition": "top center",
         "type": "scatter",
         "x": [
          443.75,
          456.25,
          466.25,
          488.75,
          491.25,
          591.25
         ],
         "xaxis": "x3",
         "y": [
          15999999999.999998,
          15999999999.999998,
          15999999999.999998,
          16900000000,
          17000000000,
          21000000000.000004
         ],
         "yaxis": "y3"
        },
        {
         "line": {
          "shape": "hv"
         },
         "showlegend": false,
         "type": "scatter",
         "x": [
          443.75,
          456.25,
          466.25,
          488.75,
          491.25,
          591.25
         ],
         "xaxis": "x4",
         "y": [
          1,
          1,
          2,
          2,
          1,
          0
         ],
         "yaxis": "y4"
        },
        {
         "line": {
          "color": "red",
          "dash": "dot",
          "shape": "hv",
          "width": 3
         },
         "showlegend": false,
         "text": [
          "Maximum available cores in cluster=2",
          "Maximum available cores in cluster=2"
         ],
         "type": "scatter",
         "x": [
          443.75,
          591.25
         ],
         "xaxis": "x4",
         "y": [
          2,
          2
         ],
         "yaxis": "y4"
        }
       ],
       "layout": {
        "annotations": [
         {
          "font": {
           "size": 16
          },
          "showarrow": false,
          "text": "P5",
          "x": 0.5,
          "xanchor": "center",
          "xref": "paper",
          "y": 1,
          "yanchor": "bottom",
          "yref": "paper"
         },
         {
          "font": {
           "size": 16
          },
          "showarrow": false,
          "text": "BB (4.5 GB)",
          "x": 0.5,
          "xanchor": "center",
          "xref": "paper",
          "y": 0.71875,
          "yanchor": "bottom",
          "yref": "paper"
         },
         {
          "font": {
           "size": 16
          },
          "showarrow": false,
          "text": "HDD (1.0 TB)",
          "x": 0.5,
          "xanchor": "center",
          "xref": "paper",
          "y": 0.4375,
          "yanchor": "bottom",
          "yref": "paper"
         },
         {
          "font": {
           "size": 16
          },
          "showarrow": false,
          "text": "CPU Cores",
          "x": 0.5,
          "xanchor": "center",
          "xref": "paper",
          "y": 0.15625,
          "yanchor": "bottom",
          "yref": "paper"
         }
        ],
        "height": 900,
        "template": {
         "data": {
          "bar": [
           {
            "error_x": {
             "color": "#2a3f5f"
            },
            "error_y": {
             "color": "#2a3f5f"
            },
            "marker": {
             "line": {
              "color": "#E5ECF6",
              "width": 0.5
             }
            },
            "type": "bar"
           }
          ],
          "barpolar": [
           {
            "marker": {
             "line": {
              "color": "#E5ECF6",
              "width": 0.5
             }
            },
            "type": "barpolar"
           }
          ],
          "carpet": [
           {
            "aaxis": {
             "endlinecolor": "#2a3f5f",
             "gridcolor": "white",
             "linecolor": "white",
             "minorgridcolor": "white",
             "startlinecolor": "#2a3f5f"
            },
            "baxis": {
             "endlinecolor": "#2a3f5f",
             "gridcolor": "white",
             "linecolor": "white",
             "minorgridcolor": "white",
             "startlinecolor": "#2a3f5f"
            },
            "type": "carpet"
           }
          ],
          "choropleth": [
           {
            "colorbar": {
             "outlinewidth": 0,
             "ticks": ""
            },
            "type": "choropleth"
           }
          ],
          "contour": [
           {
            "colorbar": {
             "outlinewidth": 0,
             "ticks": ""
            },
            "colorscale": [
             [
              0,
              "#0d0887"
             ],
             [
              0.1111111111111111,
              "#46039f"
             ],
             [
              0.2222222222222222,
              "#7201a8"
             ],
             [
              0.3333333333333333,
              "#9c179e"
             ],
             [
              0.4444444444444444,
              "#bd3786"
             ],
             [
              0.5555555555555556,
              "#d8576b"
             ],
             [
              0.6666666666666666,
              "#ed7953"
             ],
             [
              0.7777777777777778,
              "#fb9f3a"
             ],
             [
              0.8888888888888888,
              "#fdca26"
             ],
             [
              1,
              "#f0f921"
             ]
            ],
            "type": "contour"
           }
          ],
          "contourcarpet": [
           {
            "colorbar": {
             "outlinewidth": 0,
             "ticks": ""
            },
            "type": "contourcarpet"
           }
          ],
          "heatmap": [
           {
            "colorbar": {
             "outlinewidth": 0,
             "ticks": ""
            },
            "colorscale": [
             [
              0,
              "#0d0887"
             ],
             [
              0.1111111111111111,
              "#46039f"
             ],
             [
              0.2222222222222222,
              "#7201a8"
             ],
             [
              0.3333333333333333,
              "#9c179e"
             ],
             [
              0.4444444444444444,
              "#bd3786"
             ],
             [
              0.5555555555555556,
              "#d8576b"
             ],
             [
              0.6666666666666666,
              "#ed7953"
             ],
             [
              0.7777777777777778,
              "#fb9f3a"
             ],
             [
              0.8888888888888888,
              "#fdca26"
             ],
             [
              1,
              "#f0f921"
             ]
            ],
            "type": "heatmap"
           }
          ],
          "heatmapgl": [
           {
            "colorbar": {
             "outlinewidth": 0,
             "ticks": ""
            },
            "colorscale": [
             [
              0,
              "#0d0887"
             ],
             [
              0.1111111111111111,
              "#46039f"
             ],
             [
              0.2222222222222222,
              "#7201a8"
             ],
             [
              0.3333333333333333,
              "#9c179e"
             ],
             [
              0.4444444444444444,
              "#bd3786"
             ],
             [
              0.5555555555555556,
              "#d8576b"
             ],
             [
              0.6666666666666666,
              "#ed7953"
             ],
             [
              0.7777777777777778,
              "#fb9f3a"
             ],
             [
              0.8888888888888888,
              "#fdca26"
             ],
             [
              1,
              "#f0f921"
             ]
            ],
            "type": "heatmapgl"
           }
          ],
          "histogram": [
           {
            "marker": {
             "colorbar": {
              "outlinewidth": 0,
              "ticks": ""
             }
            },
            "type": "histogram"
           }
          ],
          "histogram2d": [
           {
            "colorbar": {
             "outlinewidth": 0,
             "ticks": ""
            },
            "colorscale": [
             [
              0,
              "#0d0887"
             ],
             [
              0.1111111111111111,
              "#46039f"
             ],
             [
              0.2222222222222222,
              "#7201a8"
             ],
             [
              0.3333333333333333,
              "#9c179e"
             ],
             [
              0.4444444444444444,
              "#bd3786"
             ],
             [
              0.5555555555555556,
              "#d8576b"
             ],
             [
              0.6666666666666666,
              "#ed7953"
             ],
             [
              0.7777777777777778,
              "#fb9f3a"
             ],
             [
              0.8888888888888888,
              "#fdca26"
             ],
             [
              1,
              "#f0f921"
             ]
            ],
            "type": "histogram2d"
           }
          ],
          "histogram2dcontour": [
           {
            "colorbar": {
             "outlinewidth": 0,
             "ticks": ""
            },
            "colorscale": [
             [
              0,
              "#0d0887"
             ],
             [
              0.1111111111111111,
              "#46039f"
             ],
             [
              0.2222222222222222,
              "#7201a8"
             ],
             [
              0.3333333333333333,
              "#9c179e"
             ],
             [
              0.4444444444444444,
              "#bd3786"
             ],
             [
              0.5555555555555556,
              "#d8576b"
             ],
             [
              0.6666666666666666,
              "#ed7953"
             ],
             [
              0.7777777777777778,
              "#fb9f3a"
             ],
             [
              0.8888888888888888,
              "#fdca26"
             ],
             [
              1,
              "#f0f921"
             ]
            ],
            "type": "histogram2dcontour"
           }
          ],
          "mesh3d": [
           {
            "colorbar": {
             "outlinewidth": 0,
             "ticks": ""
            },
            "type": "mesh3d"
           }
          ],
          "parcoords": [
           {
            "line": {
             "colorbar": {
              "outlinewidth": 0,
              "ticks": ""
             }
            },
            "type": "parcoords"
           }
          ],
          "pie": [
           {
            "automargin": true,
            "type": "pie"
           }
          ],
          "scatter": [
           {
            "marker": {
             "colorbar": {
              "outlinewidth": 0,
              "ticks": ""
             }
            },
            "type": "scatter"
           }
          ],
          "scatter3d": [
           {
            "line": {
             "colorbar": {
              "outlinewidth": 0,
              "ticks": ""
             }
            },
            "marker": {
             "colorbar": {
              "outlinewidth": 0,
              "ticks": ""
             }
            },
            "type": "scatter3d"
           }
          ],
          "scattercarpet": [
           {
            "marker": {
             "colorbar": {
              "outlinewidth": 0,
              "ticks": ""
             }
            },
            "type": "scattercarpet"
           }
          ],
          "scattergeo": [
           {
            "marker": {
             "colorbar": {
              "outlinewidth": 0,
              "ticks": ""
             }
            },
            "type": "scattergeo"
           }
          ],
          "scattergl": [
           {
            "marker": {
             "colorbar": {
              "outlinewidth": 0,
              "ticks": ""
             }
            },
            "type": "scattergl"
           }
          ],
          "scattermapbox": [
           {
            "marker": {
             "colorbar": {
              "outlinewidth": 0,
              "ticks": ""
             }
            },
            "type": "scattermapbox"
           }
          ],
          "scatterpolar": [
           {
            "marker": {
             "colorbar": {
              "outlinewidth": 0,
              "ticks": ""
             }
            },
            "type": "scatterpolar"
           }
          ],
          "scatterpolargl": [
           {
            "marker": {
             "colorbar": {
              "outlinewidth": 0,
              "ticks": ""
             }
            },
            "type": "scatterpolargl"
           }
          ],
          "scatterternary": [
           {
            "marker": {
             "colorbar": {
              "outlinewidth": 0,
              "ticks": ""
             }
            },
            "type": "scatterternary"
           }
          ],
          "surface": [
           {
            "colorbar": {
             "outlinewidth": 0,
             "ticks": ""
            },
            "colorscale": [
             [
              0,
              "#0d0887"
             ],
             [
              0.1111111111111111,
              "#46039f"
             ],
             [
              0.2222222222222222,
              "#7201a8"
             ],
             [
              0.3333333333333333,
              "#9c179e"
             ],
             [
              0.4444444444444444,
              "#bd3786"
             ],
             [
              0.5555555555555556,
              "#d8576b"
             ],
             [
              0.6666666666666666,
              "#ed7953"
             ],
             [
              0.7777777777777778,
              "#fb9f3a"
             ],
             [
              0.8888888888888888,
              "#fdca26"
             ],
             [
              1,
              "#f0f921"
             ]
            ],
            "type": "surface"
           }
          ],
          "table": [
           {
            "cells": {
             "fill": {
              "color": "#EBF0F8"
             },
             "line": {
              "color": "white"
             }
            },
            "header": {
             "fill": {
              "color": "#C8D4E3"
             },
             "line": {
              "color": "white"
             }
            },
            "type": "table"
           }
          ]
         },
         "layout": {
          "annotationdefaults": {
           "arrowcolor": "#2a3f5f",
           "arrowhead": 0,
           "arrowwidth": 1
          },
          "coloraxis": {
           "colorbar": {
            "outlinewidth": 0,
            "ticks": ""
           }
          },
          "colorscale": {
           "diverging": [
            [
             0,
             "#8e0152"
            ],
            [
             0.1,
             "#c51b7d"
            ],
            [
             0.2,
             "#de77ae"
            ],
            [
             0.3,
             "#f1b6da"
            ],
            [
             0.4,
             "#fde0ef"
            ],
            [
             0.5,
             "#f7f7f7"
            ],
            [
             0.6,
             "#e6f5d0"
            ],
            [
             0.7,
             "#b8e186"
            ],
            [
             0.8,
             "#7fbc41"
            ],
            [
             0.9,
             "#4d9221"
            ],
            [
             1,
             "#276419"
            ]
           ],
           "sequential": [
            [
             0,
             "#0d0887"
            ],
            [
             0.1111111111111111,
             "#46039f"
            ],
            [
             0.2222222222222222,
             "#7201a8"
            ],
            [
             0.3333333333333333,
             "#9c179e"
            ],
            [
             0.4444444444444444,
             "#bd3786"
            ],
            [
             0.5555555555555556,
             "#d8576b"
            ],
            [
             0.6666666666666666,
             "#ed7953"
            ],
            [
             0.7777777777777778,
             "#fb9f3a"
            ],
            [
             0.8888888888888888,
             "#fdca26"
            ],
            [
             1,
             "#f0f921"
            ]
           ],
           "sequentialminus": [
            [
             0,
             "#0d0887"
            ],
            [
             0.1111111111111111,
             "#46039f"
            ],
            [
             0.2222222222222222,
             "#7201a8"
            ],
            [
             0.3333333333333333,
             "#9c179e"
            ],
            [
             0.4444444444444444,
             "#bd3786"
            ],
            [
             0.5555555555555556,
             "#d8576b"
            ],
            [
             0.6666666666666666,
             "#ed7953"
            ],
            [
             0.7777777777777778,
             "#fb9f3a"
            ],
            [
             0.8888888888888888,
             "#fdca26"
            ],
            [
             1,
             "#f0f921"
            ]
           ]
          },
          "colorway": [
           "#636efa",
           "#EF553B",
           "#00cc96",
           "#ab63fa",
           "#FFA15A",
           "#19d3f3",
           "#FF6692",
           "#B6E880",
           "#FF97FF",
           "#FECB52"
          ],
          "font": {
           "color": "#2a3f5f"
          },
          "geo": {
           "bgcolor": "white",
           "lakecolor": "white",
           "landcolor": "#E5ECF6",
           "showlakes": true,
           "showland": true,
           "subunitcolor": "white"
          },
          "hoverlabel": {
           "align": "left"
          },
          "hovermode": "closest",
          "mapbox": {
           "style": "light"
          },
          "paper_bgcolor": "white",
          "plot_bgcolor": "#E5ECF6",
          "polar": {
           "angularaxis": {
            "gridcolor": "white",
            "linecolor": "white",
            "ticks": ""
           },
           "bgcolor": "#E5ECF6",
           "radialaxis": {
            "gridcolor": "white",
            "linecolor": "white",
            "ticks": ""
           }
          },
          "scene": {
           "xaxis": {
            "backgroundcolor": "#E5ECF6",
            "gridcolor": "white",
            "gridwidth": 2,
            "linecolor": "white",
            "showbackground": true,
            "ticks": "",
            "zerolinecolor": "white"
           },
           "yaxis": {
            "backgroundcolor": "#E5ECF6",
            "gridcolor": "white",
            "gridwidth": 2,
            "linecolor": "white",
            "showbackground": true,
            "ticks": "",
            "zerolinecolor": "white"
           },
           "zaxis": {
            "backgroundcolor": "#E5ECF6",
            "gridcolor": "white",
            "gridwidth": 2,
            "linecolor": "white",
            "showbackground": true,
            "ticks": "",
            "zerolinecolor": "white"
           }
          },
          "shapedefaults": {
           "line": {
            "color": "#2a3f5f"
           }
          },
          "ternary": {
           "aaxis": {
            "gridcolor": "white",
            "linecolor": "white",
            "ticks": ""
           },
           "baxis": {
            "gridcolor": "white",
            "linecolor": "white",
            "ticks": ""
           },
           "bgcolor": "#E5ECF6",
           "caxis": {
            "gridcolor": "white",
            "linecolor": "white",
            "ticks": ""
           }
          },
          "title": {
           "x": 0.05
          },
          "xaxis": {
           "automargin": true,
           "gridcolor": "white",
           "linecolor": "white",
           "ticks": "",
           "title": {
            "standoff": 15
           },
           "zerolinecolor": "white",
           "zerolinewidth": 2
          },
          "yaxis": {
           "automargin": true,
           "gridcolor": "white",
           "linecolor": "white",
           "ticks": "",
           "title": {
            "standoff": 15
           },
           "zerolinecolor": "white",
           "zerolinewidth": 2
          }
         }
        },
        "title": {
         "text": "State of the Cluster"
        },
        "width": 800,
        "xaxis": {
         "anchor": "y",
         "domain": [
          0,
          1
         ],
         "matches": "x4",
         "showticklabels": false,
         "title": {
          "text": "time in s"
         }
        },
        "xaxis2": {
         "anchor": "y2",
         "domain": [
          0,
          1
         ],
         "matches": "x4",
         "showticklabels": false,
         "title": {
          "text": "time in s"
         }
        },
        "xaxis3": {
         "anchor": "y3",
         "domain": [
          0,
          1
         ],
         "matches": "x4",
         "showticklabels": false,
         "title": {
          "text": "time in s"
         }
        },
        "xaxis4": {
         "anchor": "y4",
         "domain": [
          0,
          1
         ],
         "title": {
          "text": "time in s"
         }
        },
        "yaxis": {
         "anchor": "x",
         "domain": [
          0.84375,
          1
         ],
         "title": {
          "text": "dataflow in MB/s"
         }
        },
        "yaxis2": {
         "anchor": "x2",
         "domain": [
          0.5625,
          0.71875
         ],
         "title": {
          "text": "BB usage in Bytes"
         }
        },
        "yaxis3": {
         "anchor": "x3",
         "domain": [
          0.28125,
          0.4375
         ],
         "title": {
          "text": "HDD usage in Bytes"
         }
        },
        "yaxis4": {
         "anchor": "x4",
         "domain": [
          0,
          0.15625
         ],
         "title": {
          "text": "CPU usage"
         }
        }
       }
      }
     },
     "metadata": {},
     "output_type": "display_data"
    }
   ],
   "source": [
    "# registering Ephemeral Tier\n",
    "bb = EphemeralTier(env, name=\"BB\", persistent_tier=hdd_tier,\n",
    "                        bandwidth=nvram_bandwidth, capacity=4.5e9)\n",
    "\n",
    "# Define the cluster with 1 persistent and 1 ephemeral\n",
    "cluster = Cluster(env, tiers=[hdd_tier], ephemeral_tier=bb)\n",
    "# logger\n",
    "# sim env an data\n",
    "data = simpy.Store(env)\n",
    "logger.remove()\n",
    "# Simple app: read 1GB -> compute 10s -> write 5GB\n",
    "compute = [0,  10]\n",
    "read = [1e9, 0]\n",
    "write = [0, 5e9]\n",
    "placement = [0, 0]\n",
    "use_bb = [False, True] # enabling ephemeral tier for second dataset\n",
    "app = Application(env, compute=compute, read=read, write=write, data=data)\n",
    "env.process(app.run(cluster, placement=placement, use_bb=use_bb))\n",
    "env.run()\n",
    "print(f\"application duration = {app.get_fitness()}\")\n",
    "fig = display_run(data, cluster, width=800, height=900)\n",
    "fig.show()"
   ]
  },
  {
   "cell_type": "markdown",
   "metadata": {},
   "source": [
    "- eviction occurs\n",
    "- buffer saturation should be avoided:\n",
    "  - only newly copied data to lower tier diminishes the amount of dirty data\n",
    "  - we can only evict clean data\n",
    "  - in terms of simulations, it shorten the time interval and the loop become extremly slow (~inf)\n",
    "- the focus is not on studying what happens in saturation mode, but to size relevantly the BB"
   ]
  },
  {
   "cell_type": "markdown",
   "metadata": {},
   "source": [
    "Optimizing BB Size (flavor)\n"
   ]
  },
  {
   "cell_type": "code",
   "execution_count": null,
   "metadata": {},
   "outputs": [],
   "source": [
    "\"\"\"\n",
    "app1 = Application(self.env,\n",
    "                        compute=[0, 10],\n",
    "                        read=[1e9, 0],\n",
    "                        write=[0, 5e9],\n",
    "                        data=self.data)\n",
    "app2 = Application(self.env,\n",
    "                        compute=[0, 20, 30],\n",
    "                        read=[3e9, 0, 0],\n",
    "                        write=[0, 5e9, 10e9],\n",
    "                        data=self.data)\n",
    "app3 = Application(self.env,\n",
    "                        compute=[0, 10],\n",
    "                        read=[4e9, 0],\n",
    "                        write=[0, 7e9],\n",
    "                        data=self.data)\n",
    "                        \n",
    "apps = [app1, app2, app3]\n",
    "\n",
    "bb = EphemeralTier(self.env, name=\"BB\", persistent_tier=self.ssd_tier,\n",
    "        bandwidth=self.nvram_bandwidth, capacity=50e9)\n",
    "        #capacity=self.get_max_io_volume())\n",
    "cluster = Cluster(self.env, compute_nodes=2, cores_per_node=5,\n",
    "        tiers=[self.hdd_tier, self.ssd_tier],\n",
    "        ephemeral_tier=self.bb)\n",
    "\"\"\""
   ]
  },
  {
   "cell_type": "code",
   "execution_count": 8,
   "metadata": {},
   "outputs": [
    {
     "name": "stdout",
     "output_type": "stream",
     "text": [
      "Full BBO param array = [0. 1. 0. 0. 1. 1. 1. 0. 1. 1. 0. 1. 0. 1.]\n",
      "    | app#G9 : tier placement: [0. 1.] | use_bb = [True, True]\n",
      "    | app#G6 : tier placement: [0. 0. 1.] | use_bb = [False, True, False]\n",
      "    | app#Y3 : tier placement: [0. 1.] | use_bb = [True, False]\n",
      "    | runtime = 293.80952380952385 |  BB_size = 15.0 GB\n",
      "Full BBO param array = [1. 0. 1. 1. 0. 0. 0. 1. 0. 0. 1. 0. 1. 0.]\n",
      "    | app#N6 : tier placement: [1. 0.] | use_bb = [False, False]\n",
      "    | app#X5 : tier placement: [1. 1. 0.] | use_bb = [True, False, True]\n",
      "    | app#S2 : tier placement: [1. 0.] | use_bb = [False, True]\n",
      "    | runtime = 206.62493924629848 |  BB_size = 20.0 GB\n",
      "Full BBO param array = [1 0 1 1 0 0 0 1 0 0 1 0 1 0]\n",
      "    | app#I6 : tier placement: [1 0] | use_bb = [False, False]\n",
      "    | app#M6 : tier placement: [1 1 0] | use_bb = [True, False, True]\n",
      "    | app#A7 : tier placement: [1 0] | use_bb = [False, True]\n",
      "    | runtime = 206.62493924629848 |  BB_size = 20.0 GB\n",
      "-----------------\n",
      "Total number of iterations : 1\n",
      "0.20663857460021973 seconds spent for finding solution\n",
      "-----------------\n",
      "------ Optimization loop summary ------\n",
      "Experiment finished with 3 iterations.\n",
      "Elapsed time: 0.19963502883911133\n",
      "Best parameters: [1. 0. 1. 1. 0. 0. 0. 1. 0. 0. 1. 0. 1. 0.]\n",
      "Best fitness value: 206.62493924629848\n",
      "Percentage of explored space: 0.01220703125\n",
      "Percentage of static moves: 33.33333333333333\n",
      "Cost of global exploration: 0\n",
      "Mean fitness gain per iteration: -43.592292281612686\n",
      "Average variation within each parametrization: [0.0, 0.0]\n",
      "--- Heuristic specific summary ---\n",
      "Final RMSE: -32.897209204853056\n",
      "None\n",
      "Fitness history : [293.80952381 206.62493925 206.62493925]\n"
     ]
    }
   ],
   "source": [
    "import simpy\n",
    "from loguru import logger\n",
    "import time\n",
    "import numpy as np\n",
    "import pandas as pd\n",
    "import time, os\n",
    "from itertools import chain\n",
    "from cluster_simulator.cluster import Cluster, Tier, EphemeralTier, bandwidth_share_model, compute_share_model, get_tier, convert_size\n",
    "from cluster_simulator.phase import DelayPhase, ComputePhase, IOPhase\n",
    "from cluster_simulator.application import Application\n",
    "from cluster_simulator.analytics import display_run\n",
    "# imports for surrogate models\n",
    "from sklearn.gaussian_process import GaussianProcessRegressor\n",
    "from bbo.optimizer import BBOptimizer\n",
    "# from bbo.optimizer import timeit\n",
    "from bbo.heuristics.surrogate_models.next_parameter_strategies import expected_improvement\n",
    "\n",
    "# imports for genetic algorithms\n",
    "from bbo.heuristics.genetic_algorithm.selections import tournament_pick\n",
    "from bbo.heuristics.genetic_algorithm.crossover import double_point_crossover\n",
    "from bbo.heuristics.genetic_algorithm.mutations import mutate_chromosome_to_neighbor\n",
    "from loguru import logger\n",
    "from cluster_simulator.ephemeral_placement import ClusterBlackBox\n",
    "logger.remove()\n",
    "cbb = ClusterBlackBox()\n",
    "PARAMETER_SPACE = cbb.parameter_space\n",
    "# combinations are self.n_tiers ** sum(self.ios) + 2**sum(self.ios)\n",
    "NBR_ITERATION = 20  # cbb.n_tiers ** sum(cbb.ios)\n",
    "\n",
    "np.random.seed(5)\n",
    "bbopt = BBOptimizer(black_box=cbb,\n",
    "                    heuristic=\"surrogate_model\",\n",
    "                    max_iteration=NBR_ITERATION,\n",
    "                    initial_sample_size=60,\n",
    "                    parameter_space=PARAMETER_SPACE,\n",
    "                    next_parameter_strategy=expected_improvement,\n",
    "                    regression_model=GaussianProcessRegressor)\n",
    "start_time = time.time()\n",
    "bbopt.optimize()\n",
    "print(\"-----------------\")\n",
    "print(f\"Total number of iterations : {NBR_ITERATION}\")\n",
    "print(f\"{(time.time() - start_time)} seconds spent for finding solution\")\n",
    "print(\"-----------------\")\n",
    "bbopt.summarize()\n",
    "print(f\"Fitness history : {bbopt.history['fitness']}\")\n",
    "#cbb.save_experiment(filename = \"flavor_optim\", save=True)"
   ]
  },
  {
   "cell_type": "markdown",
   "metadata": {},
   "source": [
    "Testing naive optimal placement"
   ]
  },
  {
   "cell_type": "code",
   "execution_count": 10,
   "metadata": {},
   "outputs": [
    {
     "name": "stdout",
     "output_type": "stream",
     "text": [
      "Displaying result for placement parameter = [1, 1, 1, 1, 1, 1, 1, 1, 1, 1, 1, 1, 1, 1]\n",
      "    | app#1 : tier placement: [1, 1] | use_bb = [True, True]\n",
      "    | app#2 : tier placement: [1, 1, 1] | use_bb = [True, True, True]\n",
      "    | app#3 : tier placement: [1, 1] | use_bb = [True, True]\n",
      "    | runtime = 193.6296187631139 |  BB_size = 35.0 GB\n"
     ]
    },
    {
     "data": {
      "application/vnd.plotly.v1+json": {
       "config": {
        "plotlyServerURL": "https://plot.ly"
       },
       "data": [
        {
         "line": {
          "shape": "linear"
         },
         "name": "app#A1",
         "text": [
          "READ|to/from:BB|volume=1.0 GB",
          "READ|to/from:BB|volume=1.0 GB",
          "COMPUTE|volume=0B",
          "COMPUTE|volume=0B",
          "WRITE|to/from:BB|volume=669.69 MB",
          "WRITE|to/from:BB|volume=669.69 MB",
          "WRITE|to/from:BB|volume=334.84 MB",
          "WRITE|to/from:BB|volume=334.84 MB",
          "WRITE|to/from:BB|volume=891.35 MB",
          "WRITE|to/from:BB|volume=891.35 MB",
          "WRITE|to/from:BB|volume=914.82 EB",
          "WRITE|to/from:BB|volume=914.82 EB",
          "WRITE|to/from:BB|volume=334.84 MB",
          "WRITE|to/from:BB|volume=334.84 MB",
          "WRITE|to/from:BB|volume=613.1 MB",
          "WRITE|to/from:BB|volume=613.1 MB",
          "WRITE|to/from:BB|volume=141.48 MB",
          "WRITE|to/from:BB|volume=141.48 MB",
          "WRITE|to/from:BB|volume=1.89 GB",
          "WRITE|to/from:BB|volume=1.89 GB",
          "WRITE|to/from:BB|volume=128.25 MB",
          "WRITE|to/from:BB|volume=128.25 MB"
         ],
         "textposition": "top center",
         "type": "scatter",
         "x": [
          14.285714285714286,
          18.13186813186813,
          18.13186813186813,
          28.13186813186813,
          28.13186813186813,
          33.333333333333336,
          33.333333333333336,
          35.934065934065934,
          35.934065934065934,
          42.857142857142854,
          42.857142857142854,
          42.85714285714286,
          42.85714285714286,
          45.45787545787546,
          45.45787545787546,
          50.21978021978022,
          50.21978021978022,
          51.31868131868132,
          51.31868131868132,
          62.30769230769231,
          62.30769230769231,
          62.805754116433725
         ],
         "xaxis": "x",
         "y": [
          260,
          260,
          0,
          0,
          128.75,
          128.75,
          128.75,
          128.75,
          128.75,
          128.75,
          128.75,
          128.75,
          128.75,
          128.75,
          128.75,
          128.75,
          128.75,
          128.75,
          171.66666666666666,
          171.66666666666666,
          257.5,
          257.5
         ],
         "yaxis": "y"
        },
        {
         "line": {
          "dash": "dot",
          "shape": "linear"
         },
         "name": "A1 mvt",
         "text": [
          "MOVEMENT|in:BB|from:SSD|volume=1.0 GB",
          "MOVEMENT|in:BB|volume=1.0 GB",
          "MOVEMENT|in:SSD|from:BB|volume=173.38 MB",
          "MOVEMENT|in:SSD|volume=173.38 MB",
          "MOVEMENT|in:SSD|from:BB|volume=86.69 MB",
          "MOVEMENT|in:SSD|volume=86.69 MB",
          "MOVEMENT|in:SSD|from:BB|volume=346.15 MB",
          "MOVEMENT|in:SSD|volume=346.15 MB",
          "MOVEMENT|in:SSD|from:BB|volume=355.27 EB",
          "MOVEMENT|in:SSD|volume=355.27 EB",
          "MOVEMENT|in:SSD|from:BB|volume=130.04 MB",
          "MOVEMENT|in:SSD|volume=130.04 MB",
          "MOVEMENT|in:SSD|from:BB|volume=476.19 MB",
          "MOVEMENT|in:SSD|volume=476.19 MB",
          "MOVEMENT|in:SSD|from:BB|volume=109.89 MB",
          "MOVEMENT|in:SSD|volume=109.89 MB",
          "MOVEMENT|in:SSD|from:BB|volume=1.1 GB",
          "MOVEMENT|in:SSD|volume=1.1 GB",
          "MOVEMENT|in:SSD|from:BB|volume=49.81 MB",
          "MOVEMENT|in:SSD|volume=49.81 MB",
          "MOVEMENT|in:SSD|from:BB|volume=851.29 MB",
          "MOVEMENT|in:SSD|volume=851.29 MB",
          "MOVEMENT|in:SSD|from:BB|volume=49.45 MB",
          "MOVEMENT|in:SSD|volume=49.45 MB",
          "MOVEMENT|in:SSD|from:BB|volume=526.25 MB",
          "MOVEMENT|in:SSD|volume=526.25 MB",
          "MOVEMENT|in:SSD|from:BB|volume=411.66 MB",
          "MOVEMENT|in:SSD|volume=411.66 MB",
          "MOVEMENT|in:SSD|from:BB|volume=147.56 MB",
          "MOVEMENT|in:SSD|volume=147.56 MB",
          "MOVEMENT|in:SSD|from:BB|volume=477.71 MB",
          "MOVEMENT|in:SSD|volume=477.71 MB",
          "MOVEMENT|in:SSD|from:BB|volume=473.7 EB",
          "MOVEMENT|in:SSD|volume=473.7 EB",
          "MOVEMENT|in:SSD|from:BB|volume=65.03 MB",
          "MOVEMENT|in:SSD|volume=65.03 MB"
         ],
         "textposition": "top center",
         "type": "scatter",
         "x": [
          0,
          14.285714285714286,
          28.13186813186813,
          33.333333333333336,
          33.333333333333336,
          35.934065934065934,
          35.934065934065934,
          42.857142857142854,
          42.857142857142854,
          42.85714285714286,
          42.85714285714286,
          45.45787545787546,
          45.45787545787546,
          50.21978021978022,
          50.21978021978022,
          51.31868131868132,
          51.31868131868132,
          62.30769230769231,
          62.30769230769231,
          62.805754116433725,
          62.805754116433725,
          71.31868131868131,
          71.31868131868131,
          72.3076923076923,
          72.3076923076923,
          88.0952380952381,
          88.0952380952381,
          100.44489491091433,
          100.44489491091433,
          104.87179487179489,
          104.87179487179489,
          119.203029979729,
          119.203029979729,
          119.20302997972901,
          119.20302997972901,
          121.15384615384619
         ],
         "xaxis": "x",
         "y": [
          70,
          70,
          33.33333333333333,
          33.33333333333333,
          33.33333333333333,
          33.33333333333333,
          50,
          50,
          50,
          50,
          50,
          50,
          100,
          100,
          100,
          100,
          100,
          100,
          100,
          100,
          100,
          100,
          50,
          50,
          33.33333333333333,
          33.33333333333333,
          33.33333333333333,
          33.33333333333333,
          33.33333333333333,
          33.33333333333333,
          33.33333333333333,
          33.33333333333333,
          33.33333333333333,
          33.33333333333333,
          33.33333333333333,
          33.33333333333333
         ],
         "yaxis": "y"
        },
        {
         "line": {
          "shape": "linear"
         },
         "name": "app#N2",
         "text": [
          "READ|to/from:BB|volume=928.57 MB",
          "READ|to/from:BB|volume=928.57 MB",
          "READ|to/from:BB|volume=214.29 MB",
          "READ|to/from:BB|volume=214.29 MB",
          "READ|to/from:BB|volume=2.86 GB",
          "READ|to/from:BB|volume=2.86 GB",
          "COMPUTE|volume=0B",
          "COMPUTE|volume=0B",
          "WRITE|to/from:BB|volume=1.63 GB",
          "WRITE|to/from:BB|volume=1.63 GB",
          "WRITE|to/from:BB|volume=1.27 GB",
          "WRITE|to/from:BB|volume=1.27 GB",
          "WRITE|to/from:BB|volume=455.97 MB",
          "WRITE|to/from:BB|volume=455.97 MB",
          "WRITE|to/from:BB|volume=1.48 GB",
          "WRITE|to/from:BB|volume=1.48 GB",
          "WRITE|to/from:BB|volume=1.46 ZB",
          "WRITE|to/from:BB|volume=1.46 ZB",
          "WRITE|to/from:BB|volume=251.17 MB",
          "WRITE|to/from:BB|volume=251.17 MB",
          "WRITE|to/from:BB|volume=1.38 GB",
          "WRITE|to/from:BB|volume=1.38 GB",
          "WRITE|to/from:BB|volume=157.55 MB",
          "WRITE|to/from:BB|volume=157.55 MB",
          "WRITE|to/from:BB|volume=2.93 ZB",
          "WRITE|to/from:BB|volume=2.93 ZB",
          "WRITE|to/from:BB|volume=164.56 MB",
          "WRITE|to/from:BB|volume=164.56 MB",
          "WRITE|to/from:BB|volume=214.73 MB",
          "WRITE|to/from:BB|volume=214.73 MB"
         ],
         "textposition": "top center",
         "type": "scatter",
         "x": [
          45.45787545787546,
          50.21978021978022,
          50.21978021978022,
          51.31868131868132,
          51.31868131868132,
          62.30769230769231,
          62.30769230769231,
          72.3076923076923,
          72.3076923076923,
          88.0952380952381,
          88.0952380952381,
          100.44489491091433,
          100.44489491091433,
          104.87179487179489,
          104.87179487179489,
          119.203029979729,
          119.203029979729,
          119.20302997972901,
          119.20302997972901,
          121.15384615384619,
          121.15384615384619,
          129.20302997972902,
          129.20302997972902,
          130.73260073260073,
          130.73260073260073,
          130.73260073260076,
          130.73260073260076,
          132.33023044916249,
          132.33023044916249,
          134.41503076211814
         ],
         "xaxis": "x2",
         "y": [
          195,
          195,
          195,
          195,
          260,
          260,
          0,
          0,
          103,
          103,
          103,
          103,
          103,
          103,
          103,
          103,
          103,
          103,
          128.75,
          128.75,
          171.66666666666666,
          171.66666666666666,
          103,
          103,
          103,
          103,
          103,
          103,
          103,
          103
         ],
         "yaxis": "y2"
        },
        {
         "line": {
          "dash": "dot",
          "shape": "linear"
         },
         "name": "N2 mvt",
         "text": [
          "MOVEMENT|in:BB|from:SSD|volume=1.0 GB",
          "MOVEMENT|in:BB|volume=1.0 GB",
          "MOVEMENT|in:BB|from:SSD|volume=403.85 MB",
          "MOVEMENT|in:BB|volume=403.85 MB",
          "MOVEMENT|in:BB|from:SSD|volume=1.05 GB",
          "MOVEMENT|in:BB|volume=1.05 GB",
          "MOVEMENT|in:BB|from:SSD|volume=364.1 MB",
          "MOVEMENT|in:BB|volume=364.1 MB",
          "MOVEMENT|in:BB|from:SSD|volume=182.05 MB",
          "MOVEMENT|in:BB|volume=182.05 MB",
          "MOVEMENT|in:BB|from:SSD|volume=726.92 MB",
          "MOVEMENT|in:BB|volume=726.92 MB",
          "MOVEMENT|in:BB|from:SSD|volume=746.07 EB",
          "MOVEMENT|in:BB|volume=746.07 EB",
          "MOVEMENT|in:BB|from:SSD|volume=273.08 MB",
          "MOVEMENT|in:BB|volume=273.08 MB",
          "MOVEMENT|in:SSD|from:BB|volume=526.25 MB",
          "MOVEMENT|in:SSD|volume=526.25 MB",
          "MOVEMENT|in:SSD|from:BB|volume=411.66 MB",
          "MOVEMENT|in:SSD|volume=411.66 MB",
          "MOVEMENT|in:SSD|from:BB|volume=147.56 MB",
          "MOVEMENT|in:SSD|volume=147.56 MB",
          "MOVEMENT|in:SSD|from:BB|volume=477.71 MB",
          "MOVEMENT|in:SSD|volume=477.71 MB",
          "MOVEMENT|in:SSD|from:BB|volume=473.7 EB",
          "MOVEMENT|in:SSD|volume=473.7 EB",
          "MOVEMENT|in:SSD|from:BB|volume=65.03 MB",
          "MOVEMENT|in:SSD|volume=65.03 MB",
          "MOVEMENT|in:SSD|from:BB|volume=402.46 MB",
          "MOVEMENT|in:SSD|volume=402.46 MB",
          "MOVEMENT|in:SSD|from:BB|volume=50.99 MB",
          "MOVEMENT|in:SSD|volume=50.99 MB",
          "MOVEMENT|in:SSD|from:BB|volume=947.39 EB",
          "MOVEMENT|in:SSD|volume=947.39 EB",
          "MOVEMENT|in:SSD|from:BB|volume=53.25 MB",
          "MOVEMENT|in:SSD|volume=53.25 MB",
          "MOVEMENT|in:SSD|from:BB|volume=69.49 MB",
          "MOVEMENT|in:SSD|volume=69.49 MB",
          "MOVEMENT|in:SSD|from:BB|volume=2.45 GB",
          "MOVEMENT|in:SSD|volume=2.45 GB",
          "MOVEMENT|in:SSD|from:BB|volume=296.14 MB",
          "MOVEMENT|in:SSD|volume=296.14 MB",
          "MOVEMENT|in:SSD|from:BB|volume=201.23 MB",
          "MOVEMENT|in:SSD|volume=201.23 MB",
          "MOVEMENT|in:SSD|from:BB|volume=273.31 MB",
          "MOVEMENT|in:SSD|volume=273.31 MB",
          "MOVEMENT|in:SSD|from:BB|volume=1.42 ZB",
          "MOVEMENT|in:SSD|volume=1.42 ZB",
          "MOVEMENT|in:SSD|from:BB|volume=114.97 MB",
          "MOVEMENT|in:SSD|volume=114.97 MB",
          "MOVEMENT|in:SSD|from:BB|volume=1.46 GB",
          "MOVEMENT|in:SSD|volume=1.46 GB"
         ],
         "textposition": "top center",
         "type": "scatter",
         "x": [
          0,
          14.285714285714286,
          14.285714285714286,
          18.13186813186813,
          18.13186813186813,
          28.13186813186813,
          28.13186813186813,
          33.333333333333336,
          33.333333333333336,
          35.934065934065934,
          35.934065934065934,
          42.857142857142854,
          42.857142857142854,
          42.85714285714286,
          42.85714285714286,
          45.45787545787546,
          72.3076923076923,
          88.0952380952381,
          88.0952380952381,
          100.44489491091433,
          100.44489491091433,
          104.87179487179489,
          104.87179487179489,
          119.203029979729,
          119.203029979729,
          119.20302997972901,
          119.20302997972901,
          121.15384615384619,
          121.15384615384619,
          129.20302997972902,
          129.20302997972902,
          130.73260073260073,
          130.73260073260073,
          130.73260073260076,
          130.73260073260076,
          132.33023044916249,
          132.33023044916249,
          134.41503076211814,
          134.41503076211814,
          207.9153330488282,
          207.9153330488282,
          216.7995839112344,
          216.7995839112344,
          220.8241758241758,
          220.8241758241758,
          226.2904086205057,
          226.2904086205057,
          226.29040862050573,
          226.29040862050573,
          228.5897435897436,
          228.5897435897436,
          257.7885949002454
         ],
         "xaxis": "x2",
         "y": [
          70,
          70,
          105,
          105,
          105,
          105,
          70,
          70,
          70,
          70,
          105,
          105,
          105,
          105,
          105,
          105,
          33.33333333333333,
          33.33333333333333,
          33.33333333333333,
          33.33333333333333,
          33.33333333333333,
          33.33333333333333,
          33.33333333333333,
          33.33333333333333,
          33.33333333333333,
          33.33333333333333,
          33.33333333333333,
          33.33333333333333,
          50,
          50,
          33.33333333333333,
          33.33333333333333,
          33.33333333333333,
          33.33333333333333,
          33.33333333333333,
          33.33333333333333,
          33.33333333333333,
          33.33333333333333,
          33.33333333333333,
          33.33333333333333,
          33.33333333333333,
          33.33333333333333,
          50,
          50,
          50,
          50,
          50,
          50,
          50,
          50,
          50,
          50
         ],
         "yaxis": "y2"
        },
        {
         "line": {
          "shape": "linear"
         },
         "name": "app#N6",
         "text": [
          "READ|to/from:BB|volume=1.35 GB",
          "READ|to/from:BB|volume=1.35 GB",
          "READ|to/from:BB|volume=1.39 ZB",
          "READ|to/from:BB|volume=1.39 ZB",
          "READ|to/from:BB|volume=507.14 MB",
          "READ|to/from:BB|volume=507.14 MB",
          "READ|to/from:BB|volume=928.57 MB",
          "READ|to/from:BB|volume=928.57 MB",
          "READ|to/from:BB|volume=214.29 MB",
          "READ|to/from:BB|volume=214.29 MB",
          "COMPUTE|volume=0B",
          "COMPUTE|volume=0B",
          "WRITE|to/from:BB|volume=169.78 MB",
          "WRITE|to/from:BB|volume=169.78 MB",
          "WRITE|to/from:BB|volume=1.63 GB",
          "WRITE|to/from:BB|volume=1.63 GB",
          "WRITE|to/from:BB|volume=1.27 GB",
          "WRITE|to/from:BB|volume=1.27 GB",
          "WRITE|to/from:BB|volume=455.97 MB",
          "WRITE|to/from:BB|volume=455.97 MB",
          "WRITE|to/from:BB|volume=1.48 GB",
          "WRITE|to/from:BB|volume=1.48 GB",
          "WRITE|to/from:BB|volume=953.67 EB",
          "WRITE|to/from:BB|volume=953.67 EB",
          "COMPUTE|volume=0B",
          "COMPUTE|volume=0B",
          "WRITE|to/from:BB|volume=157.55 MB",
          "WRITE|to/from:BB|volume=157.55 MB",
          "WRITE|to/from:BB|volume=2.93 ZB",
          "WRITE|to/from:BB|volume=2.93 ZB",
          "WRITE|to/from:BB|volume=164.56 MB",
          "WRITE|to/from:BB|volume=164.56 MB",
          "WRITE|to/from:BB|volume=214.73 MB",
          "WRITE|to/from:BB|volume=214.73 MB",
          "WRITE|to/from:BB|volume=9.46 GB",
          "WRITE|to/from:BB|volume=9.46 GB"
         ],
         "textposition": "top center",
         "type": "scatter",
         "x": [
          35.934065934065934,
          42.857142857142854,
          42.857142857142854,
          42.85714285714286,
          42.85714285714286,
          45.45787545787546,
          45.45787545787546,
          50.21978021978022,
          50.21978021978022,
          51.31868131868132,
          51.31868131868132,
          71.31868131868131,
          71.31868131868131,
          72.3076923076923,
          72.3076923076923,
          88.0952380952381,
          88.0952380952381,
          100.44489491091433,
          100.44489491091433,
          104.87179487179489,
          104.87179487179489,
          119.203029979729,
          119.203029979729,
          119.20302997972901,
          119.20302997972901,
          129.20302997972902,
          129.20302997972902,
          130.73260073260073,
          130.73260073260073,
          130.73260073260076,
          130.73260073260076,
          132.33023044916249,
          132.33023044916249,
          134.41503076211814,
          134.41503076211814,
          207.9153330488282
         ],
         "xaxis": "x3",
         "y": [
          195,
          195,
          195,
          195,
          195,
          195,
          195,
          195,
          195,
          195,
          0,
          0,
          171.66666666666666,
          171.66666666666666,
          103,
          103,
          103,
          103,
          103,
          103,
          103,
          103,
          103,
          103,
          0,
          0,
          103,
          103,
          103,
          103,
          103,
          103,
          103,
          103,
          128.75,
          128.75
         ],
         "yaxis": "y3"
        },
        {
         "line": {
          "dash": "dot",
          "shape": "linear"
         },
         "name": "N6 mvt",
         "text": [
          "MOVEMENT|in:BB|from:SSD|volume=1.0 GB",
          "MOVEMENT|in:BB|volume=1.0 GB",
          "MOVEMENT|in:BB|from:SSD|volume=403.85 MB",
          "MOVEMENT|in:BB|volume=403.85 MB",
          "MOVEMENT|in:BB|from:SSD|volume=1.05 GB",
          "MOVEMENT|in:BB|volume=1.05 GB",
          "MOVEMENT|in:BB|from:SSD|volume=364.1 MB",
          "MOVEMENT|in:BB|volume=364.1 MB",
          "MOVEMENT|in:BB|from:SSD|volume=182.05 MB",
          "MOVEMENT|in:BB|volume=182.05 MB",
          "MOVEMENT|in:SSD|from:BB|volume=49.45 MB",
          "MOVEMENT|in:SSD|volume=49.45 MB",
          "MOVEMENT|in:SSD|from:BB|volume=526.25 MB",
          "MOVEMENT|in:SSD|volume=526.25 MB",
          "MOVEMENT|in:SSD|from:BB|volume=411.66 MB",
          "MOVEMENT|in:SSD|volume=411.66 MB",
          "MOVEMENT|in:SSD|from:BB|volume=147.56 MB",
          "MOVEMENT|in:SSD|volume=147.56 MB",
          "MOVEMENT|in:SSD|from:BB|volume=477.71 MB",
          "MOVEMENT|in:SSD|volume=477.71 MB",
          "MOVEMENT|in:SSD|from:BB|volume=473.7 EB",
          "MOVEMENT|in:SSD|volume=473.7 EB",
          "MOVEMENT|in:SSD|from:BB|volume=65.03 MB",
          "MOVEMENT|in:SSD|volume=65.03 MB",
          "MOVEMENT|in:SSD|from:BB|volume=402.46 MB",
          "MOVEMENT|in:SSD|volume=402.46 MB",
          "MOVEMENT|in:SSD|from:BB|volume=50.99 MB",
          "MOVEMENT|in:SSD|volume=50.99 MB",
          "MOVEMENT|in:SSD|from:BB|volume=50.99 MB",
          "MOVEMENT|in:SSD|volume=50.99 MB",
          "MOVEMENT|in:SSD|from:BB|volume=947.39 EB",
          "MOVEMENT|in:SSD|volume=947.39 EB",
          "MOVEMENT|in:SSD|from:BB|volume=947.39 EB",
          "MOVEMENT|in:SSD|volume=947.39 EB",
          "MOVEMENT|in:SSD|from:BB|volume=53.25 MB",
          "MOVEMENT|in:SSD|volume=53.25 MB",
          "MOVEMENT|in:SSD|from:BB|volume=53.25 MB",
          "MOVEMENT|in:SSD|volume=53.25 MB",
          "MOVEMENT|in:SSD|from:BB|volume=69.49 MB",
          "MOVEMENT|in:SSD|volume=69.49 MB",
          "MOVEMENT|in:SSD|from:BB|volume=69.49 MB",
          "MOVEMENT|in:SSD|volume=69.49 MB",
          "MOVEMENT|in:SSD|from:BB|volume=2.45 GB",
          "MOVEMENT|in:SSD|volume=2.45 GB",
          "MOVEMENT|in:SSD|from:BB|volume=2.45 GB",
          "MOVEMENT|in:SSD|volume=2.45 GB",
          "MOVEMENT|in:SSD|from:BB|volume=296.14 MB",
          "MOVEMENT|in:SSD|volume=296.14 MB",
          "MOVEMENT|in:SSD|from:BB|volume=296.14 MB",
          "MOVEMENT|in:SSD|volume=296.14 MB",
          "MOVEMENT|in:SSD|from:BB|volume=201.23 MB",
          "MOVEMENT|in:SSD|volume=201.23 MB",
          "MOVEMENT|in:SSD|from:BB|volume=273.31 MB",
          "MOVEMENT|in:SSD|volume=273.31 MB",
          "MOVEMENT|in:SSD|from:BB|volume=1.42 ZB",
          "MOVEMENT|in:SSD|volume=1.42 ZB",
          "MOVEMENT|in:SSD|from:BB|volume=114.97 MB",
          "MOVEMENT|in:SSD|volume=114.97 MB",
          "MOVEMENT|in:SSD|from:BB|volume=1.46 GB",
          "MOVEMENT|in:SSD|volume=1.46 GB",
          "MOVEMENT|in:SSD|from:BB|volume=2.05 GB",
          "MOVEMENT|in:SSD|volume=2.05 GB",
          "MOVEMENT|in:SSD|from:BB|volume=5.68 ZB",
          "MOVEMENT|in:SSD|volume=5.68 ZB",
          "MOVEMENT|in:SSD|from:BB|volume=402.46 MB",
          "MOVEMENT|in:SSD|volume=402.46 MB",
          "MOVEMENT|in:SSD|from:BB|volume=5.68 ZB",
          "MOVEMENT|in:SSD|volume=5.68 ZB",
          "MOVEMENT|in:SSD|from:BB|volume=2.58 GB",
          "MOVEMENT|in:SSD|volume=2.58 GB"
         ],
         "textposition": "top center",
         "type": "scatter",
         "x": [
          0,
          14.285714285714286,
          14.285714285714286,
          18.13186813186813,
          18.13186813186813,
          28.13186813186813,
          28.13186813186813,
          33.333333333333336,
          33.333333333333336,
          35.934065934065934,
          71.31868131868131,
          72.3076923076923,
          72.3076923076923,
          88.0952380952381,
          88.0952380952381,
          100.44489491091433,
          100.44489491091433,
          104.87179487179489,
          104.87179487179489,
          119.203029979729,
          119.203029979729,
          119.20302997972901,
          119.20302997972901,
          121.15384615384619,
          121.15384615384619,
          129.20302997972902,
          129.20302997972902,
          130.73260073260073,
          129.20302997972902,
          130.73260073260073,
          130.73260073260073,
          130.73260073260076,
          130.73260073260073,
          130.73260073260076,
          130.73260073260076,
          132.33023044916249,
          130.73260073260076,
          132.33023044916249,
          132.33023044916249,
          134.41503076211814,
          132.33023044916249,
          134.41503076211814,
          134.41503076211814,
          207.9153330488282,
          134.41503076211814,
          207.9153330488282,
          207.9153330488282,
          216.7995839112344,
          207.9153330488282,
          216.7995839112344,
          216.7995839112344,
          220.8241758241758,
          220.8241758241758,
          226.2904086205057,
          226.2904086205057,
          226.29040862050573,
          226.29040862050573,
          228.5897435897436,
          228.5897435897436,
          257.7885949002454,
          257.7885949002454,
          278.2831003947509,
          278.2831003947509,
          278.28310039475093,
          278.28310039475093,
          282.30769230769226,
          282.30769230769226,
          282.3076923076923,
          282.3076923076923,
          308.09523809523813
         ],
         "xaxis": "x3",
         "y": [
          70,
          70,
          105,
          105,
          105,
          105,
          70,
          70,
          70,
          70,
          50,
          50,
          33.33333333333333,
          33.33333333333333,
          33.33333333333333,
          33.33333333333333,
          33.33333333333333,
          33.33333333333333,
          33.33333333333333,
          33.33333333333333,
          33.33333333333333,
          33.33333333333333,
          33.33333333333333,
          33.33333333333333,
          50,
          50,
          33.33333333333333,
          33.33333333333333,
          33.33333333333333,
          33.33333333333333,
          33.33333333333333,
          33.33333333333333,
          33.33333333333333,
          33.33333333333333,
          33.33333333333333,
          33.33333333333333,
          33.33333333333333,
          33.33333333333333,
          33.33333333333333,
          33.33333333333333,
          33.33333333333333,
          33.33333333333333,
          33.33333333333333,
          33.33333333333333,
          33.33333333333333,
          33.33333333333333,
          33.33333333333333,
          33.33333333333333,
          33.33333333333333,
          33.33333333333333,
          50,
          50,
          50,
          50,
          50,
          50,
          50,
          50,
          50,
          50,
          100,
          100,
          100,
          100,
          100,
          100,
          100,
          100,
          100,
          100
         ],
         "yaxis": "y3"
        },
        {
         "line": {
          "shape": "linear"
         },
         "name": "BB",
         "showlegend": false,
         "text": [
          "A1|Movement|BB | +volume=1.0 GB",
          "N2|Movement|BB | +volume=1.0 GB",
          "N6|Movement|BB | +volume=1.0 GB",
          "A1|Read|BB | +volume=1.0 GB",
          "N6|Movement|BB | +volume=403.85 MB",
          "N2|Movement|BB | +volume=403.85 MB",
          "A1|Compute | +volume=0B",
          "N2|Movement|BB | +volume=1.05 GB",
          "N6|Movement|BB | +volume=1.05 GB",
          "N6|Movement|BB | +volume=364.1 MB",
          "A1|Write|BB | +volume=669.69 MB",
          "N2|Movement|BB | +volume=364.1 MB",
          "A1|Movement|SSD | +volume=173.38 MB",
          "N6|Movement|BB | +volume=182.05 MB",
          "A1|Movement|SSD | +volume=86.69 MB",
          "A1|Write|BB | +volume=334.84 MB",
          "N2|Movement|BB | +volume=182.05 MB",
          "N2|Movement|BB | +volume=726.92 MB",
          "N6|Read|BB | +volume=1.35 GB",
          "A1|Write|BB | +volume=891.35 MB",
          "A1|Movement|SSD | +volume=346.15 MB",
          "A1|Movement|SSD | +volume=355.27 EB",
          "N2|Movement|BB | +volume=746.07 EB",
          "N6|Read|BB | +volume=1.39 ZB",
          "A1|Write|BB | +volume=914.82 EB",
          "N2|Movement|BB | +volume=273.08 MB",
          "A1|Movement|SSD | +volume=130.04 MB",
          "N6|Read|BB | +volume=507.14 MB",
          "A1|Write|BB | +volume=334.84 MB",
          "A1|Movement|SSD | +volume=476.19 MB",
          "N2|Read|BB | +volume=928.57 MB",
          "N6|Read|BB | +volume=928.57 MB",
          "A1|Write|BB | +volume=613.1 MB",
          "N6|Read|BB | +volume=214.29 MB",
          "A1|Write|BB | +volume=141.48 MB",
          "A1|Movement|SSD | +volume=109.89 MB",
          "N2|Read|BB | +volume=214.29 MB",
          "N2|Read|BB | +volume=2.86 GB",
          "A1|Movement|SSD | +volume=1.1 GB",
          "A1|Write|BB | +volume=1.89 GB",
          "A1|Write|BB | +volume=128.25 MB",
          "A1|Movement|SSD | +volume=49.81 MB",
          "N6|Compute | +volume=0B",
          "A1|Movement|SSD | +volume=851.29 MB",
          "N2|Compute | +volume=0B",
          "A1|Movement|SSD | +volume=49.45 MB",
          "N6|Movement|SSD | +volume=49.45 MB",
          "N6|Write|BB | +volume=169.78 MB",
          "N6|Movement|SSD | +volume=526.25 MB",
          "N2|Write|BB | +volume=1.63 GB",
          "A1|Movement|SSD | +volume=526.25 MB",
          "N6|Write|BB | +volume=1.63 GB",
          "N2|Movement|SSD | +volume=526.25 MB",
          "N2|Movement|SSD | +volume=411.66 MB",
          "N6|Movement|SSD | +volume=411.66 MB",
          "N2|Write|BB | +volume=1.27 GB",
          "N6|Write|BB | +volume=1.27 GB",
          "A1|Movement|SSD | +volume=411.66 MB",
          "A1|Movement|SSD | +volume=147.56 MB",
          "N2|Movement|SSD | +volume=147.56 MB",
          "N2|Write|BB | +volume=455.97 MB",
          "N6|Write|BB | +volume=455.97 MB",
          "N6|Movement|SSD | +volume=147.56 MB",
          "N6|Movement|SSD | +volume=477.71 MB",
          "A1|Movement|SSD | +volume=477.71 MB",
          "N2|Write|BB | +volume=1.48 GB",
          "N6|Write|BB | +volume=1.48 GB",
          "N2|Movement|SSD | +volume=477.71 MB",
          "N6|Write|BB | +volume=953.67 EB",
          "N2|Movement|SSD | +volume=473.7 EB",
          "N6|Movement|SSD | +volume=473.7 EB",
          "N2|Write|BB | +volume=1.46 ZB",
          "A1|Movement|SSD | +volume=473.7 EB",
          "A1|Movement|SSD | +volume=65.03 MB",
          "N2|Write|BB | +volume=251.17 MB",
          "N2|Movement|SSD | +volume=65.03 MB",
          "N6|Movement|SSD | +volume=65.03 MB",
          "N6|Compute | +volume=0B",
          "N6|Movement|SSD | +volume=402.46 MB",
          "N2|Write|BB | +volume=1.38 GB",
          "N2|Movement|SSD | +volume=402.46 MB",
          "N2|Movement|SSD | +volume=50.99 MB",
          "N6|Write|BB | +volume=157.55 MB",
          "N6|Movement|SSD | +volume=50.99 MB",
          "N2|Write|BB | +volume=157.55 MB",
          "N6|Movement|SSD | +volume=50.99 MB",
          "N6|Movement|SSD | +volume=947.39 EB",
          "N2|Movement|SSD | +volume=947.39 EB",
          "N6|Write|BB | +volume=2.93 ZB",
          "N2|Write|BB | +volume=2.93 ZB",
          "N6|Movement|SSD | +volume=947.39 EB",
          "N6|Movement|SSD | +volume=53.25 MB",
          "N6|Movement|SSD | +volume=53.25 MB",
          "N6|Write|BB | +volume=164.56 MB",
          "N2|Write|BB | +volume=164.56 MB",
          "N2|Movement|SSD | +volume=53.25 MB",
          "N2|Write|BB | +volume=214.73 MB",
          "N2|Movement|SSD | +volume=69.49 MB",
          "N6|Movement|SSD | +volume=69.49 MB",
          "N6|Write|BB | +volume=214.73 MB",
          "N6|Movement|SSD | +volume=69.49 MB",
          "N6|Write|BB | +volume=9.46 GB",
          "N2|Movement|SSD | +volume=2.45 GB",
          "N6|Movement|SSD | +volume=2.45 GB",
          "N6|Movement|SSD | +volume=2.45 GB",
          "N6|Movement|SSD | +volume=296.14 MB",
          "N2|Movement|SSD | +volume=296.14 MB",
          "N6|Movement|SSD | +volume=296.14 MB",
          "N6|Movement|SSD | +volume=201.23 MB",
          "N2|Movement|SSD | +volume=201.23 MB",
          "N2|Movement|SSD | +volume=273.31 MB",
          "N6|Movement|SSD | +volume=273.31 MB",
          "N6|Movement|SSD | +volume=1.42 ZB",
          "N2|Movement|SSD | +volume=1.42 ZB",
          "N2|Movement|SSD | +volume=114.97 MB",
          "N6|Movement|SSD | +volume=114.97 MB",
          "N2|Movement|SSD | +volume=1.46 GB",
          "N6|Movement|SSD | +volume=1.46 GB",
          "N6|Movement|SSD | +volume=2.05 GB",
          "N6|Movement|SSD | +volume=5.68 ZB",
          "N6|Movement|SSD | +volume=402.46 MB",
          "N6|Movement|SSD | +volume=5.68 ZB",
          "N6|Movement|SSD | +volume=2.58 GB"
         ],
         "textposition": "top center",
         "type": "scatter",
         "x": [
          0,
          14.285714285714286,
          18.13186813186813,
          28.13186813186813,
          33.333333333333336,
          35.934065934065934,
          42.857142857142854,
          42.85714285714286,
          45.45787545787546,
          50.21978021978022,
          51.31868131868132,
          62.30769230769231,
          62.805754116433725,
          71.31868131868131,
          72.3076923076923,
          88.0952380952381,
          100.44489491091433,
          104.87179487179489,
          119.203029979729,
          119.20302997972901,
          121.15384615384619,
          129.20302997972902,
          130.73260073260073,
          130.73260073260076,
          132.33023044916249,
          134.41503076211814,
          207.9153330488282,
          216.7995839112344,
          220.8241758241758,
          226.2904086205057,
          226.29040862050573,
          228.5897435897436,
          257.7885949002454,
          278.2831003947509,
          278.28310039475093,
          282.30769230769226,
          282.3076923076923,
          308.09523809523813
         ],
         "xaxis": "x4",
         "y": [
          0,
          3000000000,
          3807692307.692307,
          5907692307.692308,
          7305586080.586081,
          8004532967.032967,
          9622802197.802197,
          9622802197.802197,
          10230723443.223442,
          10843818681.31868,
          10985302197.802197,
          12871749084.249083,
          12999999999.999998,
          12999999999.999998,
          13169780219.78022,
          16422014652.01465,
          18966043956.043957,
          19877985347.985348,
          22830219780.21978,
          22830219780.21978,
          23081387362.637367,
          24463163919.41392,
          24778255494.50549,
          24778255494.505497,
          25107367216.117218,
          25536836080.58608,
          35000000000,
          35000000000,
          35000000000,
          35000000000,
          35000000000,
          35000000000,
          35000000000,
          35000000000,
          35000000000,
          35000000000,
          35000000000,
          35000000000
         ],
         "yaxis": "y4"
        },
        {
         "line": {
          "shape": "linear"
         },
         "name": "HDD",
         "showlegend": false,
         "text": [
          "A1|Movement|BB | +volume=1.0 GB",
          "N2|Movement|BB | +volume=1.0 GB",
          "N6|Movement|BB | +volume=1.0 GB",
          "A1|Read|BB | +volume=1.0 GB",
          "N6|Movement|BB | +volume=403.85 MB",
          "N2|Movement|BB | +volume=403.85 MB",
          "A1|Compute | +volume=0B",
          "N2|Movement|BB | +volume=1.05 GB",
          "N6|Movement|BB | +volume=1.05 GB",
          "N6|Movement|BB | +volume=364.1 MB",
          "A1|Write|BB | +volume=669.69 MB",
          "N2|Movement|BB | +volume=364.1 MB",
          "A1|Movement|SSD | +volume=173.38 MB",
          "N6|Movement|BB | +volume=182.05 MB",
          "A1|Movement|SSD | +volume=86.69 MB",
          "A1|Write|BB | +volume=334.84 MB",
          "N2|Movement|BB | +volume=182.05 MB",
          "N2|Movement|BB | +volume=726.92 MB",
          "N6|Read|BB | +volume=1.35 GB",
          "A1|Write|BB | +volume=891.35 MB",
          "A1|Movement|SSD | +volume=346.15 MB",
          "A1|Movement|SSD | +volume=355.27 EB",
          "N2|Movement|BB | +volume=746.07 EB",
          "N6|Read|BB | +volume=1.39 ZB",
          "A1|Write|BB | +volume=914.82 EB",
          "N2|Movement|BB | +volume=273.08 MB",
          "A1|Movement|SSD | +volume=130.04 MB",
          "N6|Read|BB | +volume=507.14 MB",
          "A1|Write|BB | +volume=334.84 MB",
          "A1|Movement|SSD | +volume=476.19 MB",
          "N2|Read|BB | +volume=928.57 MB",
          "N6|Read|BB | +volume=928.57 MB",
          "A1|Write|BB | +volume=613.1 MB",
          "N6|Read|BB | +volume=214.29 MB",
          "A1|Write|BB | +volume=141.48 MB",
          "A1|Movement|SSD | +volume=109.89 MB",
          "N2|Read|BB | +volume=214.29 MB",
          "N2|Read|BB | +volume=2.86 GB",
          "A1|Movement|SSD | +volume=1.1 GB",
          "A1|Write|BB | +volume=1.89 GB",
          "A1|Write|BB | +volume=128.25 MB",
          "A1|Movement|SSD | +volume=49.81 MB",
          "N6|Compute | +volume=0B",
          "A1|Movement|SSD | +volume=851.29 MB",
          "N2|Compute | +volume=0B",
          "A1|Movement|SSD | +volume=49.45 MB",
          "N6|Movement|SSD | +volume=49.45 MB",
          "N6|Write|BB | +volume=169.78 MB",
          "N6|Movement|SSD | +volume=526.25 MB",
          "N2|Write|BB | +volume=1.63 GB",
          "A1|Movement|SSD | +volume=526.25 MB",
          "N6|Write|BB | +volume=1.63 GB",
          "N2|Movement|SSD | +volume=526.25 MB",
          "N2|Movement|SSD | +volume=411.66 MB",
          "N6|Movement|SSD | +volume=411.66 MB",
          "N2|Write|BB | +volume=1.27 GB",
          "N6|Write|BB | +volume=1.27 GB",
          "A1|Movement|SSD | +volume=411.66 MB",
          "A1|Movement|SSD | +volume=147.56 MB",
          "N2|Movement|SSD | +volume=147.56 MB",
          "N2|Write|BB | +volume=455.97 MB",
          "N6|Write|BB | +volume=455.97 MB",
          "N6|Movement|SSD | +volume=147.56 MB",
          "N6|Movement|SSD | +volume=477.71 MB",
          "A1|Movement|SSD | +volume=477.71 MB",
          "N2|Write|BB | +volume=1.48 GB",
          "N6|Write|BB | +volume=1.48 GB",
          "N2|Movement|SSD | +volume=477.71 MB",
          "N6|Write|BB | +volume=953.67 EB",
          "N2|Movement|SSD | +volume=473.7 EB",
          "N6|Movement|SSD | +volume=473.7 EB",
          "N2|Write|BB | +volume=1.46 ZB",
          "A1|Movement|SSD | +volume=473.7 EB",
          "A1|Movement|SSD | +volume=65.03 MB",
          "N2|Write|BB | +volume=251.17 MB",
          "N2|Movement|SSD | +volume=65.03 MB",
          "N6|Movement|SSD | +volume=65.03 MB",
          "N6|Compute | +volume=0B",
          "N6|Movement|SSD | +volume=402.46 MB",
          "N2|Write|BB | +volume=1.38 GB",
          "N2|Movement|SSD | +volume=402.46 MB",
          "N2|Movement|SSD | +volume=50.99 MB",
          "N6|Write|BB | +volume=157.55 MB",
          "N6|Movement|SSD | +volume=50.99 MB",
          "N2|Write|BB | +volume=157.55 MB",
          "N6|Movement|SSD | +volume=50.99 MB",
          "N6|Movement|SSD | +volume=947.39 EB",
          "N2|Movement|SSD | +volume=947.39 EB",
          "N6|Write|BB | +volume=2.93 ZB",
          "N2|Write|BB | +volume=2.93 ZB",
          "N6|Movement|SSD | +volume=947.39 EB",
          "N6|Movement|SSD | +volume=53.25 MB",
          "N6|Movement|SSD | +volume=53.25 MB",
          "N6|Write|BB | +volume=164.56 MB",
          "N2|Write|BB | +volume=164.56 MB",
          "N2|Movement|SSD | +volume=53.25 MB",
          "N2|Write|BB | +volume=214.73 MB",
          "N2|Movement|SSD | +volume=69.49 MB",
          "N6|Movement|SSD | +volume=69.49 MB",
          "N6|Write|BB | +volume=214.73 MB",
          "N6|Movement|SSD | +volume=69.49 MB",
          "N6|Write|BB | +volume=9.46 GB",
          "N2|Movement|SSD | +volume=2.45 GB",
          "N6|Movement|SSD | +volume=2.45 GB",
          "N6|Movement|SSD | +volume=2.45 GB",
          "N6|Movement|SSD | +volume=296.14 MB",
          "N2|Movement|SSD | +volume=296.14 MB",
          "N6|Movement|SSD | +volume=296.14 MB",
          "N6|Movement|SSD | +volume=201.23 MB",
          "N2|Movement|SSD | +volume=201.23 MB",
          "N2|Movement|SSD | +volume=273.31 MB",
          "N6|Movement|SSD | +volume=273.31 MB",
          "N6|Movement|SSD | +volume=1.42 ZB",
          "N2|Movement|SSD | +volume=1.42 ZB",
          "N2|Movement|SSD | +volume=114.97 MB",
          "N6|Movement|SSD | +volume=114.97 MB",
          "N2|Movement|SSD | +volume=1.46 GB",
          "N6|Movement|SSD | +volume=1.46 GB",
          "N6|Movement|SSD | +volume=2.05 GB",
          "N6|Movement|SSD | +volume=5.68 ZB",
          "N6|Movement|SSD | +volume=402.46 MB",
          "N6|Movement|SSD | +volume=5.68 ZB",
          "N6|Movement|SSD | +volume=2.58 GB"
         ],
         "textposition": "top center",
         "type": "scatter",
         "x": [
          0,
          14.285714285714286,
          18.13186813186813,
          28.13186813186813,
          33.333333333333336,
          35.934065934065934,
          42.857142857142854,
          42.85714285714286,
          45.45787545787546,
          50.21978021978022,
          51.31868131868132,
          62.30769230769231,
          62.805754116433725,
          71.31868131868131,
          72.3076923076923,
          88.0952380952381,
          100.44489491091433,
          104.87179487179489,
          119.203029979729,
          119.20302997972901,
          121.15384615384619,
          129.20302997972902,
          130.73260073260073,
          130.73260073260076,
          132.33023044916249,
          134.41503076211814,
          207.9153330488282,
          216.7995839112344,
          220.8241758241758,
          226.2904086205057,
          226.29040862050573,
          228.5897435897436,
          257.7885949002454,
          278.2831003947509,
          278.28310039475093,
          282.30769230769226,
          282.3076923076923,
          308.09523809523813
         ],
         "xaxis": "x5",
         "y": [
          0,
          0,
          0,
          0,
          0,
          0,
          0,
          0,
          0,
          0,
          0,
          0,
          0,
          0,
          0,
          0,
          0,
          0,
          0,
          0,
          0,
          0,
          0,
          0,
          0,
          0,
          0,
          0,
          0,
          0,
          0,
          0,
          0,
          0,
          0,
          0,
          0,
          0
         ],
         "yaxis": "y5"
        },
        {
         "line": {
          "shape": "linear"
         },
         "name": "SSD",
         "showlegend": false,
         "text": [
          "A1|Movement|BB | +volume=1.0 GB",
          "N2|Movement|BB | +volume=1.0 GB",
          "N6|Movement|BB | +volume=1.0 GB",
          "A1|Read|BB | +volume=1.0 GB",
          "N6|Movement|BB | +volume=403.85 MB",
          "N2|Movement|BB | +volume=403.85 MB",
          "A1|Compute | +volume=0B",
          "N2|Movement|BB | +volume=1.05 GB",
          "N6|Movement|BB | +volume=1.05 GB",
          "N6|Movement|BB | +volume=364.1 MB",
          "A1|Write|BB | +volume=669.69 MB",
          "N2|Movement|BB | +volume=364.1 MB",
          "A1|Movement|SSD | +volume=173.38 MB",
          "N6|Movement|BB | +volume=182.05 MB",
          "A1|Movement|SSD | +volume=86.69 MB",
          "A1|Write|BB | +volume=334.84 MB",
          "N2|Movement|BB | +volume=182.05 MB",
          "N2|Movement|BB | +volume=726.92 MB",
          "N6|Read|BB | +volume=1.35 GB",
          "A1|Write|BB | +volume=891.35 MB",
          "A1|Movement|SSD | +volume=346.15 MB",
          "A1|Movement|SSD | +volume=355.27 EB",
          "N2|Movement|BB | +volume=746.07 EB",
          "N6|Read|BB | +volume=1.39 ZB",
          "A1|Write|BB | +volume=914.82 EB",
          "N2|Movement|BB | +volume=273.08 MB",
          "A1|Movement|SSD | +volume=130.04 MB",
          "N6|Read|BB | +volume=507.14 MB",
          "A1|Write|BB | +volume=334.84 MB",
          "A1|Movement|SSD | +volume=476.19 MB",
          "N2|Read|BB | +volume=928.57 MB",
          "N6|Read|BB | +volume=928.57 MB",
          "A1|Write|BB | +volume=613.1 MB",
          "N6|Read|BB | +volume=214.29 MB",
          "A1|Write|BB | +volume=141.48 MB",
          "A1|Movement|SSD | +volume=109.89 MB",
          "N2|Read|BB | +volume=214.29 MB",
          "N2|Read|BB | +volume=2.86 GB",
          "A1|Movement|SSD | +volume=1.1 GB",
          "A1|Write|BB | +volume=1.89 GB",
          "A1|Write|BB | +volume=128.25 MB",
          "A1|Movement|SSD | +volume=49.81 MB",
          "N6|Compute | +volume=0B",
          "A1|Movement|SSD | +volume=851.29 MB",
          "N2|Compute | +volume=0B",
          "A1|Movement|SSD | +volume=49.45 MB",
          "N6|Movement|SSD | +volume=49.45 MB",
          "N6|Write|BB | +volume=169.78 MB",
          "N6|Movement|SSD | +volume=526.25 MB",
          "N2|Write|BB | +volume=1.63 GB",
          "A1|Movement|SSD | +volume=526.25 MB",
          "N6|Write|BB | +volume=1.63 GB",
          "N2|Movement|SSD | +volume=526.25 MB",
          "N2|Movement|SSD | +volume=411.66 MB",
          "N6|Movement|SSD | +volume=411.66 MB",
          "N2|Write|BB | +volume=1.27 GB",
          "N6|Write|BB | +volume=1.27 GB",
          "A1|Movement|SSD | +volume=411.66 MB",
          "A1|Movement|SSD | +volume=147.56 MB",
          "N2|Movement|SSD | +volume=147.56 MB",
          "N2|Write|BB | +volume=455.97 MB",
          "N6|Write|BB | +volume=455.97 MB",
          "N6|Movement|SSD | +volume=147.56 MB",
          "N6|Movement|SSD | +volume=477.71 MB",
          "A1|Movement|SSD | +volume=477.71 MB",
          "N2|Write|BB | +volume=1.48 GB",
          "N6|Write|BB | +volume=1.48 GB",
          "N2|Movement|SSD | +volume=477.71 MB",
          "N6|Write|BB | +volume=953.67 EB",
          "N2|Movement|SSD | +volume=473.7 EB",
          "N6|Movement|SSD | +volume=473.7 EB",
          "N2|Write|BB | +volume=1.46 ZB",
          "A1|Movement|SSD | +volume=473.7 EB",
          "A1|Movement|SSD | +volume=65.03 MB",
          "N2|Write|BB | +volume=251.17 MB",
          "N2|Movement|SSD | +volume=65.03 MB",
          "N6|Movement|SSD | +volume=65.03 MB",
          "N6|Compute | +volume=0B",
          "N6|Movement|SSD | +volume=402.46 MB",
          "N2|Write|BB | +volume=1.38 GB",
          "N2|Movement|SSD | +volume=402.46 MB",
          "N2|Movement|SSD | +volume=50.99 MB",
          "N6|Write|BB | +volume=157.55 MB",
          "N6|Movement|SSD | +volume=50.99 MB",
          "N2|Write|BB | +volume=157.55 MB",
          "N6|Movement|SSD | +volume=50.99 MB",
          "N6|Movement|SSD | +volume=947.39 EB",
          "N2|Movement|SSD | +volume=947.39 EB",
          "N6|Write|BB | +volume=2.93 ZB",
          "N2|Write|BB | +volume=2.93 ZB",
          "N6|Movement|SSD | +volume=947.39 EB",
          "N6|Movement|SSD | +volume=53.25 MB",
          "N6|Movement|SSD | +volume=53.25 MB",
          "N6|Write|BB | +volume=164.56 MB",
          "N2|Write|BB | +volume=164.56 MB",
          "N2|Movement|SSD | +volume=53.25 MB",
          "N2|Write|BB | +volume=214.73 MB",
          "N2|Movement|SSD | +volume=69.49 MB",
          "N6|Movement|SSD | +volume=69.49 MB",
          "N6|Write|BB | +volume=214.73 MB",
          "N6|Movement|SSD | +volume=69.49 MB",
          "N6|Write|BB | +volume=9.46 GB",
          "N2|Movement|SSD | +volume=2.45 GB",
          "N6|Movement|SSD | +volume=2.45 GB",
          "N6|Movement|SSD | +volume=2.45 GB",
          "N6|Movement|SSD | +volume=296.14 MB",
          "N2|Movement|SSD | +volume=296.14 MB",
          "N6|Movement|SSD | +volume=296.14 MB",
          "N6|Movement|SSD | +volume=201.23 MB",
          "N2|Movement|SSD | +volume=201.23 MB",
          "N2|Movement|SSD | +volume=273.31 MB",
          "N6|Movement|SSD | +volume=273.31 MB",
          "N6|Movement|SSD | +volume=1.42 ZB",
          "N2|Movement|SSD | +volume=1.42 ZB",
          "N2|Movement|SSD | +volume=114.97 MB",
          "N6|Movement|SSD | +volume=114.97 MB",
          "N2|Movement|SSD | +volume=1.46 GB",
          "N6|Movement|SSD | +volume=1.46 GB",
          "N6|Movement|SSD | +volume=2.05 GB",
          "N6|Movement|SSD | +volume=5.68 ZB",
          "N6|Movement|SSD | +volume=402.46 MB",
          "N6|Movement|SSD | +volume=5.68 ZB",
          "N6|Movement|SSD | +volume=2.58 GB"
         ],
         "textposition": "top center",
         "type": "scatter",
         "x": [
          0,
          14.285714285714286,
          18.13186813186813,
          28.13186813186813,
          33.333333333333336,
          35.934065934065934,
          42.857142857142854,
          42.85714285714286,
          45.45787545787546,
          50.21978021978022,
          51.31868131868132,
          62.30769230769231,
          62.805754116433725,
          71.31868131868131,
          72.3076923076923,
          88.0952380952381,
          100.44489491091433,
          104.87179487179489,
          119.203029979729,
          119.20302997972901,
          121.15384615384619,
          129.20302997972902,
          130.73260073260073,
          130.73260073260076,
          132.33023044916249,
          134.41503076211814,
          207.9153330488282,
          216.7995839112344,
          220.8241758241758,
          226.2904086205057,
          226.29040862050573,
          228.5897435897436,
          257.7885949002454,
          278.2831003947509,
          278.28310039475093,
          282.30769230769226,
          282.3076923076923,
          308.09523809523813
         ],
         "xaxis": "x6",
         "y": [
          0,
          1000000000,
          1000000000,
          1049999999.9999999,
          1223382173.3821735,
          1310073260.07326,
          1656227106.227106,
          1656227106.2271063,
          1786263736.2637362,
          2262454212.454212,
          2372344322.344322,
          3471245421.2454205,
          3521051602.119562,
          4372344322.344321,
          4471245421.245421,
          6050000000.000003,
          7284965681.567623,
          7727655677.65568,
          9160779188.449091,
          9160779188.449091,
          9355860805.860807,
          10160779188.449091,
          10313736263.736261,
          10313736263.736261,
          10473499235.392435,
          10681979266.688,
          18032009495.359,
          18920434581.59962,
          19322893772.893757,
          19869517052.526745,
          19869517052.526745,
          20099450549.45053,
          23019335680.50071,
          25068786229.951256,
          25068786229.95126,
          25471245421.245396,
          25471245421.245396,
          28049999999.999977
         ],
         "yaxis": "y6"
        },
        {
         "line": {
          "shape": "hv"
         },
         "showlegend": false,
         "type": "scatter",
         "x": [
          0,
          14.285714285714286,
          18.13186813186813,
          28.13186813186813,
          33.333333333333336,
          35.934065934065934,
          42.857142857142854,
          42.85714285714286,
          45.45787545787546,
          50.21978021978022,
          51.31868131868132,
          62.30769230769231,
          62.805754116433725,
          71.31868131868131,
          72.3076923076923,
          88.0952380952381,
          100.44489491091433,
          104.87179487179489,
          119.203029979729,
          119.20302997972901,
          121.15384615384619,
          129.20302997972902,
          130.73260073260073,
          130.73260073260076,
          132.33023044916249,
          134.41503076211814,
          207.9153330488282,
          216.7995839112344,
          220.8241758241758,
          226.2904086205057,
          226.29040862050573,
          228.5897435897436,
          257.7885949002454,
          278.2831003947509,
          278.28310039475093,
          282.30769230769226,
          282.3076923076923,
          308.09523809523813
         ],
         "xaxis": "x7",
         "y": [
          3,
          3,
          3,
          4,
          4,
          4,
          4,
          4,
          4,
          4,
          4,
          4,
          3,
          4,
          5,
          5,
          5,
          5,
          5,
          5,
          4,
          5,
          5,
          5,
          5,
          4,
          3,
          2,
          2,
          2,
          2,
          2,
          1,
          1,
          1,
          1,
          1,
          0
         ],
         "yaxis": "y7"
        },
        {
         "line": {
          "color": "red",
          "dash": "dot",
          "shape": "hv",
          "width": 3
         },
         "showlegend": false,
         "text": [
          "Maximum available cores in cluster=10",
          "Maximum available cores in cluster=10"
         ],
         "type": "scatter",
         "x": [
          0,
          308.09523809523813
         ],
         "xaxis": "x7",
         "y": [
          10,
          10
         ],
         "yaxis": "y7"
        }
       ],
       "layout": {
        "annotations": [
         {
          "font": {
           "size": 16
          },
          "showarrow": false,
          "text": "A1",
          "x": 0.5,
          "xanchor": "center",
          "xref": "paper",
          "y": 0.9999999999999999,
          "yanchor": "bottom",
          "yref": "paper"
         },
         {
          "font": {
           "size": 16
          },
          "showarrow": false,
          "text": "N2",
          "x": 0.5,
          "xanchor": "center",
          "xref": "paper",
          "y": 0.8469387755102039,
          "yanchor": "bottom",
          "yref": "paper"
         },
         {
          "font": {
           "size": 16
          },
          "showarrow": false,
          "text": "N6",
          "x": 0.5,
          "xanchor": "center",
          "xref": "paper",
          "y": 0.6938775510204082,
          "yanchor": "bottom",
          "yref": "paper"
         },
         {
          "font": {
           "size": 16
          },
          "showarrow": false,
          "text": "BB (50.0 GB)",
          "x": 0.5,
          "xanchor": "center",
          "xref": "paper",
          "y": 0.5408163265306122,
          "yanchor": "bottom",
          "yref": "paper"
         },
         {
          "font": {
           "size": 16
          },
          "showarrow": false,
          "text": "HDD (1.0 TB)",
          "x": 0.5,
          "xanchor": "center",
          "xref": "paper",
          "y": 0.3877551020408163,
          "yanchor": "bottom",
          "yref": "paper"
         },
         {
          "font": {
           "size": 16
          },
          "showarrow": false,
          "text": "SSD (200.0 GB)",
          "x": 0.5,
          "xanchor": "center",
          "xref": "paper",
          "y": 0.2346938775510204,
          "yanchor": "bottom",
          "yref": "paper"
         },
         {
          "font": {
           "size": 16
          },
          "showarrow": false,
          "text": "CPU Cores",
          "x": 0.5,
          "xanchor": "center",
          "xref": "paper",
          "y": 0.08163265306122448,
          "yanchor": "bottom",
          "yref": "paper"
         }
        ],
        "height": 900,
        "template": {
         "data": {
          "bar": [
           {
            "error_x": {
             "color": "#2a3f5f"
            },
            "error_y": {
             "color": "#2a3f5f"
            },
            "marker": {
             "line": {
              "color": "#E5ECF6",
              "width": 0.5
             }
            },
            "type": "bar"
           }
          ],
          "barpolar": [
           {
            "marker": {
             "line": {
              "color": "#E5ECF6",
              "width": 0.5
             }
            },
            "type": "barpolar"
           }
          ],
          "carpet": [
           {
            "aaxis": {
             "endlinecolor": "#2a3f5f",
             "gridcolor": "white",
             "linecolor": "white",
             "minorgridcolor": "white",
             "startlinecolor": "#2a3f5f"
            },
            "baxis": {
             "endlinecolor": "#2a3f5f",
             "gridcolor": "white",
             "linecolor": "white",
             "minorgridcolor": "white",
             "startlinecolor": "#2a3f5f"
            },
            "type": "carpet"
           }
          ],
          "choropleth": [
           {
            "colorbar": {
             "outlinewidth": 0,
             "ticks": ""
            },
            "type": "choropleth"
           }
          ],
          "contour": [
           {
            "colorbar": {
             "outlinewidth": 0,
             "ticks": ""
            },
            "colorscale": [
             [
              0,
              "#0d0887"
             ],
             [
              0.1111111111111111,
              "#46039f"
             ],
             [
              0.2222222222222222,
              "#7201a8"
             ],
             [
              0.3333333333333333,
              "#9c179e"
             ],
             [
              0.4444444444444444,
              "#bd3786"
             ],
             [
              0.5555555555555556,
              "#d8576b"
             ],
             [
              0.6666666666666666,
              "#ed7953"
             ],
             [
              0.7777777777777778,
              "#fb9f3a"
             ],
             [
              0.8888888888888888,
              "#fdca26"
             ],
             [
              1,
              "#f0f921"
             ]
            ],
            "type": "contour"
           }
          ],
          "contourcarpet": [
           {
            "colorbar": {
             "outlinewidth": 0,
             "ticks": ""
            },
            "type": "contourcarpet"
           }
          ],
          "heatmap": [
           {
            "colorbar": {
             "outlinewidth": 0,
             "ticks": ""
            },
            "colorscale": [
             [
              0,
              "#0d0887"
             ],
             [
              0.1111111111111111,
              "#46039f"
             ],
             [
              0.2222222222222222,
              "#7201a8"
             ],
             [
              0.3333333333333333,
              "#9c179e"
             ],
             [
              0.4444444444444444,
              "#bd3786"
             ],
             [
              0.5555555555555556,
              "#d8576b"
             ],
             [
              0.6666666666666666,
              "#ed7953"
             ],
             [
              0.7777777777777778,
              "#fb9f3a"
             ],
             [
              0.8888888888888888,
              "#fdca26"
             ],
             [
              1,
              "#f0f921"
             ]
            ],
            "type": "heatmap"
           }
          ],
          "heatmapgl": [
           {
            "colorbar": {
             "outlinewidth": 0,
             "ticks": ""
            },
            "colorscale": [
             [
              0,
              "#0d0887"
             ],
             [
              0.1111111111111111,
              "#46039f"
             ],
             [
              0.2222222222222222,
              "#7201a8"
             ],
             [
              0.3333333333333333,
              "#9c179e"
             ],
             [
              0.4444444444444444,
              "#bd3786"
             ],
             [
              0.5555555555555556,
              "#d8576b"
             ],
             [
              0.6666666666666666,
              "#ed7953"
             ],
             [
              0.7777777777777778,
              "#fb9f3a"
             ],
             [
              0.8888888888888888,
              "#fdca26"
             ],
             [
              1,
              "#f0f921"
             ]
            ],
            "type": "heatmapgl"
           }
          ],
          "histogram": [
           {
            "marker": {
             "colorbar": {
              "outlinewidth": 0,
              "ticks": ""
             }
            },
            "type": "histogram"
           }
          ],
          "histogram2d": [
           {
            "colorbar": {
             "outlinewidth": 0,
             "ticks": ""
            },
            "colorscale": [
             [
              0,
              "#0d0887"
             ],
             [
              0.1111111111111111,
              "#46039f"
             ],
             [
              0.2222222222222222,
              "#7201a8"
             ],
             [
              0.3333333333333333,
              "#9c179e"
             ],
             [
              0.4444444444444444,
              "#bd3786"
             ],
             [
              0.5555555555555556,
              "#d8576b"
             ],
             [
              0.6666666666666666,
              "#ed7953"
             ],
             [
              0.7777777777777778,
              "#fb9f3a"
             ],
             [
              0.8888888888888888,
              "#fdca26"
             ],
             [
              1,
              "#f0f921"
             ]
            ],
            "type": "histogram2d"
           }
          ],
          "histogram2dcontour": [
           {
            "colorbar": {
             "outlinewidth": 0,
             "ticks": ""
            },
            "colorscale": [
             [
              0,
              "#0d0887"
             ],
             [
              0.1111111111111111,
              "#46039f"
             ],
             [
              0.2222222222222222,
              "#7201a8"
             ],
             [
              0.3333333333333333,
              "#9c179e"
             ],
             [
              0.4444444444444444,
              "#bd3786"
             ],
             [
              0.5555555555555556,
              "#d8576b"
             ],
             [
              0.6666666666666666,
              "#ed7953"
             ],
             [
              0.7777777777777778,
              "#fb9f3a"
             ],
             [
              0.8888888888888888,
              "#fdca26"
             ],
             [
              1,
              "#f0f921"
             ]
            ],
            "type": "histogram2dcontour"
           }
          ],
          "mesh3d": [
           {
            "colorbar": {
             "outlinewidth": 0,
             "ticks": ""
            },
            "type": "mesh3d"
           }
          ],
          "parcoords": [
           {
            "line": {
             "colorbar": {
              "outlinewidth": 0,
              "ticks": ""
             }
            },
            "type": "parcoords"
           }
          ],
          "pie": [
           {
            "automargin": true,
            "type": "pie"
           }
          ],
          "scatter": [
           {
            "marker": {
             "colorbar": {
              "outlinewidth": 0,
              "ticks": ""
             }
            },
            "type": "scatter"
           }
          ],
          "scatter3d": [
           {
            "line": {
             "colorbar": {
              "outlinewidth": 0,
              "ticks": ""
             }
            },
            "marker": {
             "colorbar": {
              "outlinewidth": 0,
              "ticks": ""
             }
            },
            "type": "scatter3d"
           }
          ],
          "scattercarpet": [
           {
            "marker": {
             "colorbar": {
              "outlinewidth": 0,
              "ticks": ""
             }
            },
            "type": "scattercarpet"
           }
          ],
          "scattergeo": [
           {
            "marker": {
             "colorbar": {
              "outlinewidth": 0,
              "ticks": ""
             }
            },
            "type": "scattergeo"
           }
          ],
          "scattergl": [
           {
            "marker": {
             "colorbar": {
              "outlinewidth": 0,
              "ticks": ""
             }
            },
            "type": "scattergl"
           }
          ],
          "scattermapbox": [
           {
            "marker": {
             "colorbar": {
              "outlinewidth": 0,
              "ticks": ""
             }
            },
            "type": "scattermapbox"
           }
          ],
          "scatterpolar": [
           {
            "marker": {
             "colorbar": {
              "outlinewidth": 0,
              "ticks": ""
             }
            },
            "type": "scatterpolar"
           }
          ],
          "scatterpolargl": [
           {
            "marker": {
             "colorbar": {
              "outlinewidth": 0,
              "ticks": ""
             }
            },
            "type": "scatterpolargl"
           }
          ],
          "scatterternary": [
           {
            "marker": {
             "colorbar": {
              "outlinewidth": 0,
              "ticks": ""
             }
            },
            "type": "scatterternary"
           }
          ],
          "surface": [
           {
            "colorbar": {
             "outlinewidth": 0,
             "ticks": ""
            },
            "colorscale": [
             [
              0,
              "#0d0887"
             ],
             [
              0.1111111111111111,
              "#46039f"
             ],
             [
              0.2222222222222222,
              "#7201a8"
             ],
             [
              0.3333333333333333,
              "#9c179e"
             ],
             [
              0.4444444444444444,
              "#bd3786"
             ],
             [
              0.5555555555555556,
              "#d8576b"
             ],
             [
              0.6666666666666666,
              "#ed7953"
             ],
             [
              0.7777777777777778,
              "#fb9f3a"
             ],
             [
              0.8888888888888888,
              "#fdca26"
             ],
             [
              1,
              "#f0f921"
             ]
            ],
            "type": "surface"
           }
          ],
          "table": [
           {
            "cells": {
             "fill": {
              "color": "#EBF0F8"
             },
             "line": {
              "color": "white"
             }
            },
            "header": {
             "fill": {
              "color": "#C8D4E3"
             },
             "line": {
              "color": "white"
             }
            },
            "type": "table"
           }
          ]
         },
         "layout": {
          "annotationdefaults": {
           "arrowcolor": "#2a3f5f",
           "arrowhead": 0,
           "arrowwidth": 1
          },
          "coloraxis": {
           "colorbar": {
            "outlinewidth": 0,
            "ticks": ""
           }
          },
          "colorscale": {
           "diverging": [
            [
             0,
             "#8e0152"
            ],
            [
             0.1,
             "#c51b7d"
            ],
            [
             0.2,
             "#de77ae"
            ],
            [
             0.3,
             "#f1b6da"
            ],
            [
             0.4,
             "#fde0ef"
            ],
            [
             0.5,
             "#f7f7f7"
            ],
            [
             0.6,
             "#e6f5d0"
            ],
            [
             0.7,
             "#b8e186"
            ],
            [
             0.8,
             "#7fbc41"
            ],
            [
             0.9,
             "#4d9221"
            ],
            [
             1,
             "#276419"
            ]
           ],
           "sequential": [
            [
             0,
             "#0d0887"
            ],
            [
             0.1111111111111111,
             "#46039f"
            ],
            [
             0.2222222222222222,
             "#7201a8"
            ],
            [
             0.3333333333333333,
             "#9c179e"
            ],
            [
             0.4444444444444444,
             "#bd3786"
            ],
            [
             0.5555555555555556,
             "#d8576b"
            ],
            [
             0.6666666666666666,
             "#ed7953"
            ],
            [
             0.7777777777777778,
             "#fb9f3a"
            ],
            [
             0.8888888888888888,
             "#fdca26"
            ],
            [
             1,
             "#f0f921"
            ]
           ],
           "sequentialminus": [
            [
             0,
             "#0d0887"
            ],
            [
             0.1111111111111111,
             "#46039f"
            ],
            [
             0.2222222222222222,
             "#7201a8"
            ],
            [
             0.3333333333333333,
             "#9c179e"
            ],
            [
             0.4444444444444444,
             "#bd3786"
            ],
            [
             0.5555555555555556,
             "#d8576b"
            ],
            [
             0.6666666666666666,
             "#ed7953"
            ],
            [
             0.7777777777777778,
             "#fb9f3a"
            ],
            [
             0.8888888888888888,
             "#fdca26"
            ],
            [
             1,
             "#f0f921"
            ]
           ]
          },
          "colorway": [
           "#636efa",
           "#EF553B",
           "#00cc96",
           "#ab63fa",
           "#FFA15A",
           "#19d3f3",
           "#FF6692",
           "#B6E880",
           "#FF97FF",
           "#FECB52"
          ],
          "font": {
           "color": "#2a3f5f"
          },
          "geo": {
           "bgcolor": "white",
           "lakecolor": "white",
           "landcolor": "#E5ECF6",
           "showlakes": true,
           "showland": true,
           "subunitcolor": "white"
          },
          "hoverlabel": {
           "align": "left"
          },
          "hovermode": "closest",
          "mapbox": {
           "style": "light"
          },
          "paper_bgcolor": "white",
          "plot_bgcolor": "#E5ECF6",
          "polar": {
           "angularaxis": {
            "gridcolor": "white",
            "linecolor": "white",
            "ticks": ""
           },
           "bgcolor": "#E5ECF6",
           "radialaxis": {
            "gridcolor": "white",
            "linecolor": "white",
            "ticks": ""
           }
          },
          "scene": {
           "xaxis": {
            "backgroundcolor": "#E5ECF6",
            "gridcolor": "white",
            "gridwidth": 2,
            "linecolor": "white",
            "showbackground": true,
            "ticks": "",
            "zerolinecolor": "white"
           },
           "yaxis": {
            "backgroundcolor": "#E5ECF6",
            "gridcolor": "white",
            "gridwidth": 2,
            "linecolor": "white",
            "showbackground": true,
            "ticks": "",
            "zerolinecolor": "white"
           },
           "zaxis": {
            "backgroundcolor": "#E5ECF6",
            "gridcolor": "white",
            "gridwidth": 2,
            "linecolor": "white",
            "showbackground": true,
            "ticks": "",
            "zerolinecolor": "white"
           }
          },
          "shapedefaults": {
           "line": {
            "color": "#2a3f5f"
           }
          },
          "ternary": {
           "aaxis": {
            "gridcolor": "white",
            "linecolor": "white",
            "ticks": ""
           },
           "baxis": {
            "gridcolor": "white",
            "linecolor": "white",
            "ticks": ""
           },
           "bgcolor": "#E5ECF6",
           "caxis": {
            "gridcolor": "white",
            "linecolor": "white",
            "ticks": ""
           }
          },
          "title": {
           "x": 0.05
          },
          "xaxis": {
           "automargin": true,
           "gridcolor": "white",
           "linecolor": "white",
           "ticks": "",
           "title": {
            "standoff": 15
           },
           "zerolinecolor": "white",
           "zerolinewidth": 2
          },
          "yaxis": {
           "automargin": true,
           "gridcolor": "white",
           "linecolor": "white",
           "ticks": "",
           "title": {
            "standoff": 15
           },
           "zerolinecolor": "white",
           "zerolinewidth": 2
          }
         }
        },
        "title": {
         "text": "State of the Cluster"
        },
        "width": 800,
        "xaxis": {
         "anchor": "y",
         "domain": [
          0,
          1
         ],
         "matches": "x7",
         "showticklabels": false,
         "title": {
          "text": "time in s"
         }
        },
        "xaxis2": {
         "anchor": "y2",
         "domain": [
          0,
          1
         ],
         "matches": "x7",
         "showticklabels": false,
         "title": {
          "text": "time in s"
         }
        },
        "xaxis3": {
         "anchor": "y3",
         "domain": [
          0,
          1
         ],
         "matches": "x7",
         "showticklabels": false,
         "title": {
          "text": "time in s"
         }
        },
        "xaxis4": {
         "anchor": "y4",
         "domain": [
          0,
          1
         ],
         "matches": "x7",
         "showticklabels": false,
         "title": {
          "text": "time in s"
         }
        },
        "xaxis5": {
         "anchor": "y5",
         "domain": [
          0,
          1
         ],
         "matches": "x7",
         "showticklabels": false,
         "title": {
          "text": "time in s"
         }
        },
        "xaxis6": {
         "anchor": "y6",
         "domain": [
          0,
          1
         ],
         "matches": "x7",
         "showticklabels": false,
         "title": {
          "text": "time in s"
         }
        },
        "xaxis7": {
         "anchor": "y7",
         "domain": [
          0,
          1
         ],
         "title": {
          "text": "time in s"
         }
        },
        "yaxis": {
         "anchor": "x",
         "domain": [
          0.9183673469387754,
          0.9999999999999999
         ],
         "title": {
          "text": "dataflow in MB/s"
         }
        },
        "yaxis2": {
         "anchor": "x2",
         "domain": [
          0.7653061224489794,
          0.8469387755102039
         ],
         "title": {
          "text": "dataflow in MB/s"
         }
        },
        "yaxis3": {
         "anchor": "x3",
         "domain": [
          0.6122448979591837,
          0.6938775510204082
         ],
         "title": {
          "text": "dataflow in MB/s"
         }
        },
        "yaxis4": {
         "anchor": "x4",
         "domain": [
          0.4591836734693877,
          0.5408163265306122
         ],
         "title": {
          "text": "BB usage in Bytes"
         }
        },
        "yaxis5": {
         "anchor": "x5",
         "domain": [
          0.30612244897959184,
          0.3877551020408163
         ],
         "title": {
          "text": "HDD usage in Bytes"
         }
        },
        "yaxis6": {
         "anchor": "x6",
         "domain": [
          0.15306122448979592,
          0.2346938775510204
         ],
         "title": {
          "text": "SSD usage in Bytes"
         }
        },
        "yaxis7": {
         "anchor": "x7",
         "domain": [
          0,
          0.08163265306122448
         ],
         "title": {
          "text": "CPU usage"
         }
        }
       }
      }
     },
     "metadata": {},
     "output_type": "display_data"
    }
   ],
   "source": [
    "cbb.display_placement([1]*14)"
   ]
  },
  {
   "cell_type": "code",
   "execution_count": 9,
   "metadata": {},
   "outputs": [
    {
     "data": {
      "text/html": [
       "<div>\n",
       "<style scoped>\n",
       "    .dataframe tbody tr th:only-of-type {\n",
       "        vertical-align: middle;\n",
       "    }\n",
       "\n",
       "    .dataframe tbody tr th {\n",
       "        vertical-align: top;\n",
       "    }\n",
       "\n",
       "    .dataframe thead th {\n",
       "        text-align: right;\n",
       "    }\n",
       "</style>\n",
       "<table border=\"1\" class=\"dataframe\">\n",
       "  <thead>\n",
       "    <tr style=\"text-align: right;\">\n",
       "      <th></th>\n",
       "      <th>Param</th>\n",
       "      <th>App#W9 tier place</th>\n",
       "      <th>App#W9 use bb</th>\n",
       "      <th>App#K2 tier place</th>\n",
       "      <th>App#K2 use bb</th>\n",
       "      <th>App#W6 tier place</th>\n",
       "      <th>App#W6 use bb</th>\n",
       "      <th>Fitness</th>\n",
       "      <th>BB_size</th>\n",
       "    </tr>\n",
       "  </thead>\n",
       "  <tbody>\n",
       "    <tr>\n",
       "      <th>0</th>\n",
       "      <td>[0.0, 1.0, 0.0, 0.0, 1.0, 1.0, 1.0, 0.0, 1.0, ...</td>\n",
       "      <td>[0.0, 1.0]</td>\n",
       "      <td>[True, True]</td>\n",
       "      <td>[0.0, 0.0, 1.0]</td>\n",
       "      <td>[False, True, False]</td>\n",
       "      <td>[0.0, 1.0]</td>\n",
       "      <td>[True, False]</td>\n",
       "      <td>293.809524</td>\n",
       "      <td>1.500000e+10</td>\n",
       "    </tr>\n",
       "    <tr>\n",
       "      <th>1</th>\n",
       "      <td>[1.0, 0.0, 1.0, 1.0, 0.0, 0.0, 0.0, 1.0, 0.0, ...</td>\n",
       "      <td>[1.0, 0.0]</td>\n",
       "      <td>[False, False]</td>\n",
       "      <td>[1.0, 1.0, 0.0]</td>\n",
       "      <td>[True, False, True]</td>\n",
       "      <td>[1.0, 0.0]</td>\n",
       "      <td>[False, True]</td>\n",
       "      <td>206.624939</td>\n",
       "      <td>2.000000e+10</td>\n",
       "    </tr>\n",
       "    <tr>\n",
       "      <th>2</th>\n",
       "      <td>[0.0, 0.0, 0.0, 1.0, 0.0, 0.0, 1.0, 1.0, 0.0, ...</td>\n",
       "      <td>[0.0, 0.0]</td>\n",
       "      <td>[False, True]</td>\n",
       "      <td>[0.0, 1.0, 0.0]</td>\n",
       "      <td>[True, True, True]</td>\n",
       "      <td>[1.0, 0.0]</td>\n",
       "      <td>[True, True]</td>\n",
       "      <td>203.504327</td>\n",
       "      <td>3.400000e+10</td>\n",
       "    </tr>\n",
       "  </tbody>\n",
       "</table>\n",
       "</div>"
      ],
      "text/plain": [
       "                                               Param App#W9 tier place  \\\n",
       "0  [0.0, 1.0, 0.0, 0.0, 1.0, 1.0, 1.0, 0.0, 1.0, ...        [0.0, 1.0]   \n",
       "1  [1.0, 0.0, 1.0, 1.0, 0.0, 0.0, 0.0, 1.0, 0.0, ...        [1.0, 0.0]   \n",
       "2  [0.0, 0.0, 0.0, 1.0, 0.0, 0.0, 1.0, 1.0, 0.0, ...        [0.0, 0.0]   \n",
       "\n",
       "    App#W9 use bb App#K2 tier place         App#K2 use bb App#W6 tier place  \\\n",
       "0    [True, True]   [0.0, 0.0, 1.0]  [False, True, False]        [0.0, 1.0]   \n",
       "1  [False, False]   [1.0, 1.0, 0.0]   [True, False, True]        [1.0, 0.0]   \n",
       "2   [False, True]   [0.0, 1.0, 0.0]    [True, True, True]        [1.0, 0.0]   \n",
       "\n",
       "   App#W6 use bb     Fitness       BB_size  \n",
       "0  [True, False]  293.809524  1.500000e+10  \n",
       "1  [False, True]  206.624939  2.000000e+10  \n",
       "2   [True, True]  203.504327  3.400000e+10  "
      ]
     },
     "execution_count": 9,
     "metadata": {},
     "output_type": "execute_result"
    }
   ],
   "source": [
    "import numpy as np\n",
    "import pandas as pd\n",
    "import os\n",
    "\n",
    "pathfile = os.path.join(os.getcwd(), \"flavor_optim\")\n",
    "df = pd.read_pickle(pathfile)\n",
    "#sorted_df = df.sort_values(by=['Fitness'], inplace=False, ascending=True)\n",
    "#sorted_df.head(5)\n",
    "df.head(3)\n",
    "#list(df.columns)\n"
   ]
  },
  {
   "cell_type": "markdown",
   "metadata": {},
   "source": [
    "Plotting Workflow duration Vs BB Size : do you recognize the plot?\n"
   ]
  },
  {
   "cell_type": "code",
   "execution_count": 11,
   "metadata": {},
   "outputs": [
    {
     "data": {
      "application/vnd.plotly.v1+json": {
       "config": {
        "plotlyServerURL": "https://plot.ly"
       },
       "data": [
        {
         "line": {
          "color": "#636EFA"
         },
         "mode": "markers",
         "text": [
          "trial_index=0",
          "trial_index=1",
          "trial_index=2",
          "trial_index=3",
          "trial_index=4",
          "trial_index=5",
          "trial_index=6",
          "trial_index=7",
          "trial_index=8",
          "trial_index=9",
          "trial_index=10",
          "trial_index=11",
          "trial_index=12",
          "trial_index=13",
          "trial_index=14",
          "trial_index=15",
          "trial_index=16",
          "trial_index=17",
          "trial_index=18",
          "trial_index=19",
          "trial_index=20",
          "trial_index=21",
          "trial_index=22",
          "trial_index=23",
          "trial_index=24",
          "trial_index=25",
          "trial_index=26",
          "trial_index=27",
          "trial_index=28",
          "trial_index=29",
          "trial_index=30",
          "trial_index=31",
          "trial_index=32",
          "trial_index=33",
          "trial_index=34",
          "trial_index=35",
          "trial_index=36",
          "trial_index=37",
          "trial_index=38",
          "trial_index=39",
          "trial_index=40",
          "trial_index=41",
          "trial_index=42",
          "trial_index=43",
          "trial_index=44",
          "trial_index=45",
          "trial_index=46",
          "trial_index=47",
          "trial_index=48",
          "trial_index=49",
          "trial_index=50",
          "trial_index=51",
          "trial_index=52",
          "trial_index=53",
          "trial_index=54",
          "trial_index=55",
          "trial_index=56",
          "trial_index=57",
          "trial_index=58",
          "trial_index=59",
          "trial_index=60",
          "trial_index=61",
          "trial_index=62",
          "trial_index=63",
          "trial_index=64",
          "trial_index=65",
          "trial_index=66",
          "trial_index=67",
          "trial_index=68",
          "trial_index=69",
          "trial_index=70",
          "trial_index=71",
          "trial_index=72",
          "trial_index=73",
          "trial_index=74",
          "trial_index=75",
          "trial_index=76",
          "trial_index=77",
          "trial_index=78",
          "trial_index=79",
          "trial_index=80",
          "trial_index=81",
          "trial_index=82",
          "trial_index=83",
          "trial_index=84",
          "trial_index=85",
          "trial_index=86",
          "trial_index=87",
          "trial_index=88",
          "trial_index=89",
          "trial_index=90",
          "trial_index=91",
          "trial_index=92",
          "trial_index=93",
          "trial_index=94",
          "trial_index=95",
          "trial_index=96",
          "trial_index=97",
          "trial_index=98",
          "trial_index=99",
          "trial_index=100",
          "trial_index=101",
          "trial_index=102",
          "trial_index=103",
          "trial_index=104",
          "trial_index=105",
          "trial_index=106",
          "trial_index=107",
          "trial_index=108",
          "trial_index=109",
          "trial_index=110",
          "trial_index=111",
          "trial_index=112",
          "trial_index=113",
          "trial_index=114",
          "trial_index=115",
          "trial_index=116",
          "trial_index=117",
          "trial_index=118",
          "trial_index=119",
          "trial_index=120",
          "trial_index=121",
          "trial_index=122",
          "trial_index=123",
          "trial_index=124",
          "trial_index=125",
          "trial_index=126",
          "trial_index=127",
          "trial_index=128",
          "trial_index=129"
         ],
         "type": "scatter",
         "x": [
          15000000000,
          20000000000,
          34000000000,
          22000000000,
          9000000000,
          35000000000,
          18000000000,
          21000000000,
          15000000000,
          17000000000,
          17000000000.000002,
          0,
          21000000000,
          26000000000,
          6000000000,
          17000000000,
          23000000000,
          3000000000,
          12000000000,
          18000000000,
          22000000000,
          20000000000,
          9000000000,
          25000000000,
          13999999999.999998,
          14000000000,
          22000000000,
          12000000000,
          34000000000,
          0,
          22000000000,
          1000000000,
          10000000000,
          10000000000,
          20000000000,
          22000000000,
          32000000000.000004,
          7999999999.999999,
          18000000000,
          13999999999.999998,
          26000000000,
          26000000000,
          18000000000,
          26000000000,
          17000000000.000002,
          3000000000,
          10000000000,
          13999999999.999996,
          18000000000,
          17000000000,
          0,
          18000000000,
          7999999999.999999,
          0,
          17000000000,
          21000000000,
          34000000000,
          23000000000,
          4000000000,
          35000000000,
          32000000000.000004,
          12000000000,
          13999999999.999996,
          23000000000,
          17000000000,
          1000000000,
          13000000000,
          5000000000,
          8000000000,
          21000000000,
          20000000000,
          25000000000,
          32000000000.000004,
          23000000000,
          13000000000,
          5000000000,
          26000000000,
          31000000000,
          17000000000,
          0,
          26000000000,
          26000000000,
          26000000000,
          26000000000,
          26000000000,
          26000000000,
          26000000000,
          26000000000,
          26000000000,
          26000000000,
          26000000000,
          26000000000,
          26000000000,
          26000000000,
          26000000000,
          26000000000,
          26000000000,
          26000000000,
          26000000000,
          26000000000,
          26000000000,
          26000000000,
          26000000000,
          26000000000,
          26000000000,
          26000000000,
          26000000000,
          26000000000,
          26000000000,
          26000000000,
          26000000000,
          26000000000,
          26000000000,
          26000000000,
          26000000000,
          26000000000,
          26000000000,
          26000000000,
          26000000000,
          26000000000,
          26000000000,
          26000000000,
          26000000000,
          26000000000,
          26000000000,
          26000000000,
          26000000000,
          26000000000,
          26000000000,
          26000000000
         ],
         "y": [
          293.80952380952385,
          206.62493924629848,
          203.50432737379037,
          251.7643319463708,
          290,
          193.6296187631139,
          205.34288796424718,
          258.5088374408763,
          597.2376032812925,
          251.8238557558946,
          492.9035638714037,
          617.5,
          362.5712151925744,
          245.59929822065746,
          652.5,
          612.3679718339913,
          252.40535758739642,
          395.4945054945055,
          303.33333333333337,
          369.74536790070766,
          247.00955463091387,
          244.3172469386062,
          605,
          241.8447194660787,
          496.4382327489124,
          325.4899267399268,
          251.7643319463708,
          269.9267399267399,
          203.50432737379037,
          398.2142857142858,
          247.8825705039297,
          363.33333333333337,
          318.042071197411,
          486.2271062271062,
          206.62493924629848,
          281.3349514563107,
          193.7832604288915,
          309.1025641025641,
          369.74536790070766,
          346.9087034863734,
          245.59929822065746,
          228.83495145631068,
          483.02197802197804,
          177.11271737970768,
          237.2476498690091,
          916.2087912087911,
          308.09523809523813,
          493.15806631340615,
          483.02197802197804,
          428.8349514563107,
          482.0238095238096,
          483.02197802197804,
          309.1025641025641,
          460,
          612.3679718339913,
          206.62493924629848,
          209.2020534751117,
          256.5857605177994,
          728.3333333333334,
          193.6296187631139,
          193.7832604288915,
          308.09523809523813,
          493.15806631340615,
          276.3349514563107,
          360.9778085991678,
          762.5,
          640.4029304029303,
          617.5,
          617.5,
          362.5712151925744,
          366.234218855578,
          249.93995756131682,
          193.7832604288915,
          256.5857605177994,
          335.13549557238883,
          393.5119047619048,
          177.11271737970768,
          213.43404815249477,
          426.45399907535835,
          572.5,
          177.11271737970768,
          177.11271737970768,
          177.11271737970768,
          177.11271737970768,
          177.11271737970768,
          177.11271737970768,
          177.11271737970768,
          177.11271737970768,
          177.11271737970768,
          177.11271737970768,
          177.11271737970768,
          177.11271737970768,
          177.11271737970768,
          177.11271737970768,
          177.11271737970768,
          177.11271737970768,
          177.11271737970768,
          177.11271737970768,
          177.11271737970768,
          177.11271737970768,
          177.11271737970768,
          177.11271737970768,
          177.11271737970768,
          177.11271737970768,
          177.11271737970768,
          177.11271737970768,
          177.11271737970768,
          177.11271737970768,
          177.11271737970768,
          177.11271737970768,
          177.11271737970768,
          177.11271737970768,
          177.11271737970768,
          177.11271737970768,
          177.11271737970768,
          177.11271737970768,
          177.11271737970768,
          177.11271737970768,
          177.11271737970768,
          177.11271737970768,
          177.11271737970768,
          177.11271737970768,
          177.11271737970768,
          177.11271737970768,
          177.11271737970768,
          177.11271737970768,
          177.11271737970768,
          177.11271737970768,
          177.11271737970768,
          177.11271737970768
         ]
        }
       ],
       "layout": {
        "template": {
         "data": {
          "bar": [
           {
            "error_x": {
             "color": "#2a3f5f"
            },
            "error_y": {
             "color": "#2a3f5f"
            },
            "marker": {
             "line": {
              "color": "#E5ECF6",
              "width": 0.5
             }
            },
            "type": "bar"
           }
          ],
          "barpolar": [
           {
            "marker": {
             "line": {
              "color": "#E5ECF6",
              "width": 0.5
             }
            },
            "type": "barpolar"
           }
          ],
          "carpet": [
           {
            "aaxis": {
             "endlinecolor": "#2a3f5f",
             "gridcolor": "white",
             "linecolor": "white",
             "minorgridcolor": "white",
             "startlinecolor": "#2a3f5f"
            },
            "baxis": {
             "endlinecolor": "#2a3f5f",
             "gridcolor": "white",
             "linecolor": "white",
             "minorgridcolor": "white",
             "startlinecolor": "#2a3f5f"
            },
            "type": "carpet"
           }
          ],
          "choropleth": [
           {
            "colorbar": {
             "outlinewidth": 0,
             "ticks": ""
            },
            "type": "choropleth"
           }
          ],
          "contour": [
           {
            "colorbar": {
             "outlinewidth": 0,
             "ticks": ""
            },
            "colorscale": [
             [
              0,
              "#0d0887"
             ],
             [
              0.1111111111111111,
              "#46039f"
             ],
             [
              0.2222222222222222,
              "#7201a8"
             ],
             [
              0.3333333333333333,
              "#9c179e"
             ],
             [
              0.4444444444444444,
              "#bd3786"
             ],
             [
              0.5555555555555556,
              "#d8576b"
             ],
             [
              0.6666666666666666,
              "#ed7953"
             ],
             [
              0.7777777777777778,
              "#fb9f3a"
             ],
             [
              0.8888888888888888,
              "#fdca26"
             ],
             [
              1,
              "#f0f921"
             ]
            ],
            "type": "contour"
           }
          ],
          "contourcarpet": [
           {
            "colorbar": {
             "outlinewidth": 0,
             "ticks": ""
            },
            "type": "contourcarpet"
           }
          ],
          "heatmap": [
           {
            "colorbar": {
             "outlinewidth": 0,
             "ticks": ""
            },
            "colorscale": [
             [
              0,
              "#0d0887"
             ],
             [
              0.1111111111111111,
              "#46039f"
             ],
             [
              0.2222222222222222,
              "#7201a8"
             ],
             [
              0.3333333333333333,
              "#9c179e"
             ],
             [
              0.4444444444444444,
              "#bd3786"
             ],
             [
              0.5555555555555556,
              "#d8576b"
             ],
             [
              0.6666666666666666,
              "#ed7953"
             ],
             [
              0.7777777777777778,
              "#fb9f3a"
             ],
             [
              0.8888888888888888,
              "#fdca26"
             ],
             [
              1,
              "#f0f921"
             ]
            ],
            "type": "heatmap"
           }
          ],
          "heatmapgl": [
           {
            "colorbar": {
             "outlinewidth": 0,
             "ticks": ""
            },
            "colorscale": [
             [
              0,
              "#0d0887"
             ],
             [
              0.1111111111111111,
              "#46039f"
             ],
             [
              0.2222222222222222,
              "#7201a8"
             ],
             [
              0.3333333333333333,
              "#9c179e"
             ],
             [
              0.4444444444444444,
              "#bd3786"
             ],
             [
              0.5555555555555556,
              "#d8576b"
             ],
             [
              0.6666666666666666,
              "#ed7953"
             ],
             [
              0.7777777777777778,
              "#fb9f3a"
             ],
             [
              0.8888888888888888,
              "#fdca26"
             ],
             [
              1,
              "#f0f921"
             ]
            ],
            "type": "heatmapgl"
           }
          ],
          "histogram": [
           {
            "marker": {
             "colorbar": {
              "outlinewidth": 0,
              "ticks": ""
             }
            },
            "type": "histogram"
           }
          ],
          "histogram2d": [
           {
            "colorbar": {
             "outlinewidth": 0,
             "ticks": ""
            },
            "colorscale": [
             [
              0,
              "#0d0887"
             ],
             [
              0.1111111111111111,
              "#46039f"
             ],
             [
              0.2222222222222222,
              "#7201a8"
             ],
             [
              0.3333333333333333,
              "#9c179e"
             ],
             [
              0.4444444444444444,
              "#bd3786"
             ],
             [
              0.5555555555555556,
              "#d8576b"
             ],
             [
              0.6666666666666666,
              "#ed7953"
             ],
             [
              0.7777777777777778,
              "#fb9f3a"
             ],
             [
              0.8888888888888888,
              "#fdca26"
             ],
             [
              1,
              "#f0f921"
             ]
            ],
            "type": "histogram2d"
           }
          ],
          "histogram2dcontour": [
           {
            "colorbar": {
             "outlinewidth": 0,
             "ticks": ""
            },
            "colorscale": [
             [
              0,
              "#0d0887"
             ],
             [
              0.1111111111111111,
              "#46039f"
             ],
             [
              0.2222222222222222,
              "#7201a8"
             ],
             [
              0.3333333333333333,
              "#9c179e"
             ],
             [
              0.4444444444444444,
              "#bd3786"
             ],
             [
              0.5555555555555556,
              "#d8576b"
             ],
             [
              0.6666666666666666,
              "#ed7953"
             ],
             [
              0.7777777777777778,
              "#fb9f3a"
             ],
             [
              0.8888888888888888,
              "#fdca26"
             ],
             [
              1,
              "#f0f921"
             ]
            ],
            "type": "histogram2dcontour"
           }
          ],
          "mesh3d": [
           {
            "colorbar": {
             "outlinewidth": 0,
             "ticks": ""
            },
            "type": "mesh3d"
           }
          ],
          "parcoords": [
           {
            "line": {
             "colorbar": {
              "outlinewidth": 0,
              "ticks": ""
             }
            },
            "type": "parcoords"
           }
          ],
          "pie": [
           {
            "automargin": true,
            "type": "pie"
           }
          ],
          "scatter": [
           {
            "marker": {
             "colorbar": {
              "outlinewidth": 0,
              "ticks": ""
             }
            },
            "type": "scatter"
           }
          ],
          "scatter3d": [
           {
            "line": {
             "colorbar": {
              "outlinewidth": 0,
              "ticks": ""
             }
            },
            "marker": {
             "colorbar": {
              "outlinewidth": 0,
              "ticks": ""
             }
            },
            "type": "scatter3d"
           }
          ],
          "scattercarpet": [
           {
            "marker": {
             "colorbar": {
              "outlinewidth": 0,
              "ticks": ""
             }
            },
            "type": "scattercarpet"
           }
          ],
          "scattergeo": [
           {
            "marker": {
             "colorbar": {
              "outlinewidth": 0,
              "ticks": ""
             }
            },
            "type": "scattergeo"
           }
          ],
          "scattergl": [
           {
            "marker": {
             "colorbar": {
              "outlinewidth": 0,
              "ticks": ""
             }
            },
            "type": "scattergl"
           }
          ],
          "scattermapbox": [
           {
            "marker": {
             "colorbar": {
              "outlinewidth": 0,
              "ticks": ""
             }
            },
            "type": "scattermapbox"
           }
          ],
          "scatterpolar": [
           {
            "marker": {
             "colorbar": {
              "outlinewidth": 0,
              "ticks": ""
             }
            },
            "type": "scatterpolar"
           }
          ],
          "scatterpolargl": [
           {
            "marker": {
             "colorbar": {
              "outlinewidth": 0,
              "ticks": ""
             }
            },
            "type": "scatterpolargl"
           }
          ],
          "scatterternary": [
           {
            "marker": {
             "colorbar": {
              "outlinewidth": 0,
              "ticks": ""
             }
            },
            "type": "scatterternary"
           }
          ],
          "surface": [
           {
            "colorbar": {
             "outlinewidth": 0,
             "ticks": ""
            },
            "colorscale": [
             [
              0,
              "#0d0887"
             ],
             [
              0.1111111111111111,
              "#46039f"
             ],
             [
              0.2222222222222222,
              "#7201a8"
             ],
             [
              0.3333333333333333,
              "#9c179e"
             ],
             [
              0.4444444444444444,
              "#bd3786"
             ],
             [
              0.5555555555555556,
              "#d8576b"
             ],
             [
              0.6666666666666666,
              "#ed7953"
             ],
             [
              0.7777777777777778,
              "#fb9f3a"
             ],
             [
              0.8888888888888888,
              "#fdca26"
             ],
             [
              1,
              "#f0f921"
             ]
            ],
            "type": "surface"
           }
          ],
          "table": [
           {
            "cells": {
             "fill": {
              "color": "#EBF0F8"
             },
             "line": {
              "color": "white"
             }
            },
            "header": {
             "fill": {
              "color": "#C8D4E3"
             },
             "line": {
              "color": "white"
             }
            },
            "type": "table"
           }
          ]
         },
         "layout": {
          "annotationdefaults": {
           "arrowcolor": "#2a3f5f",
           "arrowhead": 0,
           "arrowwidth": 1
          },
          "coloraxis": {
           "colorbar": {
            "outlinewidth": 0,
            "ticks": ""
           }
          },
          "colorscale": {
           "diverging": [
            [
             0,
             "#8e0152"
            ],
            [
             0.1,
             "#c51b7d"
            ],
            [
             0.2,
             "#de77ae"
            ],
            [
             0.3,
             "#f1b6da"
            ],
            [
             0.4,
             "#fde0ef"
            ],
            [
             0.5,
             "#f7f7f7"
            ],
            [
             0.6,
             "#e6f5d0"
            ],
            [
             0.7,
             "#b8e186"
            ],
            [
             0.8,
             "#7fbc41"
            ],
            [
             0.9,
             "#4d9221"
            ],
            [
             1,
             "#276419"
            ]
           ],
           "sequential": [
            [
             0,
             "#0d0887"
            ],
            [
             0.1111111111111111,
             "#46039f"
            ],
            [
             0.2222222222222222,
             "#7201a8"
            ],
            [
             0.3333333333333333,
             "#9c179e"
            ],
            [
             0.4444444444444444,
             "#bd3786"
            ],
            [
             0.5555555555555556,
             "#d8576b"
            ],
            [
             0.6666666666666666,
             "#ed7953"
            ],
            [
             0.7777777777777778,
             "#fb9f3a"
            ],
            [
             0.8888888888888888,
             "#fdca26"
            ],
            [
             1,
             "#f0f921"
            ]
           ],
           "sequentialminus": [
            [
             0,
             "#0d0887"
            ],
            [
             0.1111111111111111,
             "#46039f"
            ],
            [
             0.2222222222222222,
             "#7201a8"
            ],
            [
             0.3333333333333333,
             "#9c179e"
            ],
            [
             0.4444444444444444,
             "#bd3786"
            ],
            [
             0.5555555555555556,
             "#d8576b"
            ],
            [
             0.6666666666666666,
             "#ed7953"
            ],
            [
             0.7777777777777778,
             "#fb9f3a"
            ],
            [
             0.8888888888888888,
             "#fdca26"
            ],
            [
             1,
             "#f0f921"
            ]
           ]
          },
          "colorway": [
           "#636efa",
           "#EF553B",
           "#00cc96",
           "#ab63fa",
           "#FFA15A",
           "#19d3f3",
           "#FF6692",
           "#B6E880",
           "#FF97FF",
           "#FECB52"
          ],
          "font": {
           "color": "#2a3f5f"
          },
          "geo": {
           "bgcolor": "white",
           "lakecolor": "white",
           "landcolor": "#E5ECF6",
           "showlakes": true,
           "showland": true,
           "subunitcolor": "white"
          },
          "hoverlabel": {
           "align": "left"
          },
          "hovermode": "closest",
          "mapbox": {
           "style": "light"
          },
          "paper_bgcolor": "white",
          "plot_bgcolor": "#E5ECF6",
          "polar": {
           "angularaxis": {
            "gridcolor": "white",
            "linecolor": "white",
            "ticks": ""
           },
           "bgcolor": "#E5ECF6",
           "radialaxis": {
            "gridcolor": "white",
            "linecolor": "white",
            "ticks": ""
           }
          },
          "scene": {
           "xaxis": {
            "backgroundcolor": "#E5ECF6",
            "gridcolor": "white",
            "gridwidth": 2,
            "linecolor": "white",
            "showbackground": true,
            "ticks": "",
            "zerolinecolor": "white"
           },
           "yaxis": {
            "backgroundcolor": "#E5ECF6",
            "gridcolor": "white",
            "gridwidth": 2,
            "linecolor": "white",
            "showbackground": true,
            "ticks": "",
            "zerolinecolor": "white"
           },
           "zaxis": {
            "backgroundcolor": "#E5ECF6",
            "gridcolor": "white",
            "gridwidth": 2,
            "linecolor": "white",
            "showbackground": true,
            "ticks": "",
            "zerolinecolor": "white"
           }
          },
          "shapedefaults": {
           "line": {
            "color": "#2a3f5f"
           }
          },
          "ternary": {
           "aaxis": {
            "gridcolor": "white",
            "linecolor": "white",
            "ticks": ""
           },
           "baxis": {
            "gridcolor": "white",
            "linecolor": "white",
            "ticks": ""
           },
           "bgcolor": "#E5ECF6",
           "caxis": {
            "gridcolor": "white",
            "linecolor": "white",
            "ticks": ""
           }
          },
          "title": {
           "x": 0.05
          },
          "xaxis": {
           "automargin": true,
           "gridcolor": "white",
           "linecolor": "white",
           "ticks": "",
           "title": {
            "standoff": 15
           },
           "zerolinecolor": "white",
           "zerolinewidth": 2
          },
          "yaxis": {
           "automargin": true,
           "gridcolor": "white",
           "linecolor": "white",
           "ticks": "",
           "title": {
            "standoff": 15
           },
           "zerolinecolor": "white",
           "zerolinewidth": 2
          }
         }
        },
        "xaxis": {
         "title": {
          "text": "Size of BB in bytes (B = 1e9 = GB)"
         }
        },
        "yaxis": {
         "title": {
          "text": "Workflow duration in seconds"
         }
        }
       }
      }
     },
     "metadata": {},
     "output_type": "display_data"
    }
   ],
   "source": [
    "import plotly.express as px\n",
    "import plotly.graph_objects as go\n",
    "colors = px.colors.qualitative.Plotly\n",
    "fig = go.Figure()\n",
    "fig.add_traces(go.Scatter(x=df['BB_size'], y = df['Fitness'], \n",
    "                          text = [\"trial_index=\" + str(i) for i in list(df.index)],\n",
    "                          mode = 'markers', line=dict(color=colors[0])))\n",
    "fig.update_xaxes(title_text='Size of BB in bytes (B = 1e9 = GB)')\n",
    "fig.update_yaxes(title_text='Workflow duration in seconds')\n",
    "fig.show()"
   ]
  },
  {
   "cell_type": "markdown",
   "metadata": {},
   "source": [
    "- each point is a placement configuration:\n",
    "  - for each dataset:\n",
    "    - the tier where it should be placed\n",
    "    - the use or not of the BB to prefetch/buffer "
   ]
  },
  {
   "cell_type": "markdown",
   "metadata": {},
   "source": [
    "Show some samples"
   ]
  },
  {
   "cell_type": "code",
   "execution_count": 12,
   "metadata": {},
   "outputs": [
    {
     "name": "stdout",
     "output_type": "stream",
     "text": [
      "Displaying result for placement parameter = [1 0 1 1 1 1 1 0 0 0 0 1 1 1]\n",
      "    | app#1 : tier placement: [1 0] | use_bb = [False, False]\n",
      "    | app#2 : tier placement: [1 1 1] | use_bb = [False, True, True]\n",
      "    | app#3 : tier placement: [1 1] | use_bb = [True, True]\n",
      "    | runtime = 177.11271737970768 |  BB_size = 26.0 GB\n"
     ]
    },
    {
     "data": {
      "application/vnd.plotly.v1+json": {
       "config": {
        "plotlyServerURL": "https://plot.ly"
       },
       "data": [
        {
         "line": {
          "shape": "linear"
         },
         "name": "app#A1",
         "text": [
          "READ|to/from:SSD|volume=1.0 GB",
          "READ|to/from:SSD|volume=1.0 GB",
          "COMPUTE|volume=0B",
          "COMPUTE|volume=0B",
          "WRITE|to/from:HDD|volume=361.9 MB",
          "WRITE|to/from:HDD|volume=361.9 MB",
          "WRITE|to/from:HDD|volume=380.95 MB",
          "WRITE|to/from:HDD|volume=380.95 MB",
          "WRITE|to/from:HDD|volume=205.13 MB",
          "WRITE|to/from:HDD|volume=205.13 MB",
          "WRITE|to/from:HDD|volume=213.92 MB",
          "WRITE|to/from:HDD|volume=213.92 MB",
          "WRITE|to/from:HDD|volume=186.08 MB",
          "WRITE|to/from:HDD|volume=186.08 MB",
          "WRITE|to/from:HDD|volume=590.62 MB",
          "WRITE|to/from:HDD|volume=590.62 MB",
          "WRITE|to/from:HDD|volume=590.62 MB",
          "WRITE|to/from:HDD|volume=590.62 MB",
          "WRITE|to/from:HDD|volume=400.0 MB",
          "WRITE|to/from:HDD|volume=400.0 MB",
          "WRITE|to/from:HDD|volume=232.68 MB",
          "WRITE|to/from:HDD|volume=232.68 MB",
          "WRITE|to/from:HDD|volume=112.46 MB",
          "WRITE|to/from:HDD|volume=112.46 MB",
          "WRITE|to/from:HDD|volume=230.09 MB",
          "WRITE|to/from:HDD|volume=230.09 MB",
          "WRITE|to/from:HDD|volume=1.5 GB",
          "WRITE|to/from:HDD|volume=1.5 GB"
         ],
         "textposition": "top center",
         "type": "scatter",
         "x": [
          0,
          14.285714285714286,
          14.285714285714286,
          24.285714285714285,
          24.285714285714285,
          33.333333333333336,
          33.333333333333336,
          42.85714285714286,
          42.85714285714286,
          47.98534798534799,
          47.98534798534799,
          53.333333333333336,
          53.333333333333336,
          57.98534798534799,
          57.98534798534799,
          72.75080906148867,
          72.75080906148867,
          87.51627013762936,
          87.51627013762936,
          97.51627013762936,
          97.51627013762936,
          103.33333333333334,
          103.33333333333334,
          106.14477755254455,
          106.14477755254455,
          111.89711582915467,
          111.89711582915467,
          149.28571428571428
         ],
         "xaxis": "x",
         "y": [
          70,
          70,
          0,
          0,
          40,
          40,
          40,
          40,
          40,
          40,
          40,
          40,
          40,
          40,
          40,
          40,
          40,
          40,
          40,
          40,
          40,
          40,
          40,
          40,
          40,
          40,
          40,
          40
         ],
         "yaxis": "y"
        },
        {
         "line": {
          "dash": "dot",
          "shape": "linear"
         },
         "name": "A1 mvt",
         "text": [],
         "textposition": "top center",
         "type": "scatter",
         "x": [],
         "xaxis": "x",
         "y": [],
         "yaxis": "y"
        },
        {
         "line": {
          "shape": "linear"
         },
         "name": "app#S3",
         "text": [
          "READ|to/from:BB|volume=4.0 GB",
          "READ|to/from:BB|volume=4.0 GB",
          "COMPUTE|volume=0B",
          "COMPUTE|volume=0B",
          "WRITE|to/from:BB|volume=1.9 GB",
          "WRITE|to/from:BB|volume=1.9 GB",
          "WRITE|to/from:BB|volume=1.9 GB",
          "WRITE|to/from:BB|volume=1.9 GB",
          "WRITE|to/from:BB|volume=1.72 GB",
          "WRITE|to/from:BB|volume=1.72 GB",
          "WRITE|to/from:BB|volume=599.16 MB",
          "WRITE|to/from:BB|volume=599.16 MB",
          "WRITE|to/from:BB|volume=289.58 MB",
          "WRITE|to/from:BB|volume=289.58 MB",
          "WRITE|to/from:BB|volume=592.49 MB",
          "WRITE|to/from:BB|volume=592.49 MB"
         ],
         "textposition": "top center",
         "type": "scatter",
         "x": [
          42.85714285714286,
          47.98534798534799,
          47.98534798534799,
          57.98534798534799,
          57.98534798534799,
          72.75080906148867,
          72.75080906148867,
          87.51627013762936,
          87.51627013762936,
          97.51627013762936,
          97.51627013762936,
          103.33333333333334,
          103.33333333333334,
          106.14477755254455,
          106.14477755254455,
          111.89711582915467
         ],
         "xaxis": "x2",
         "y": [
          780,
          780,
          0,
          0,
          128.75,
          128.75,
          128.75,
          128.75,
          171.66666666666666,
          171.66666666666666,
          103,
          103,
          103,
          103,
          103,
          103
         ],
         "yaxis": "y2"
        },
        {
         "line": {
          "dash": "dot",
          "shape": "linear"
         },
         "name": "S3 mvt",
         "text": [
          "MOVEMENT|in:BB|from:SSD|volume=1.0 GB",
          "MOVEMENT|in:BB|volume=1.0 GB",
          "MOVEMENT|in:BB|from:SSD|volume=1.05 GB",
          "MOVEMENT|in:BB|volume=1.05 GB",
          "MOVEMENT|in:BB|from:SSD|volume=950.0 MB",
          "MOVEMENT|in:BB|volume=950.0 MB",
          "MOVEMENT|in:BB|from:SSD|volume=1.0 GB",
          "MOVEMENT|in:BB|volume=1.0 GB",
          "MOVEMENT|in:BB|from:SSD|volume=119.21 EB",
          "MOVEMENT|in:BB|volume=119.21 EB",
          "MOVEMENT|in:SSD|from:BB|volume=738.27 MB",
          "MOVEMENT|in:SSD|volume=738.27 MB",
          "MOVEMENT|in:SSD|from:BB|volume=738.27 MB",
          "MOVEMENT|in:SSD|volume=738.27 MB",
          "MOVEMENT|in:SSD|from:BB|volume=500.0 MB",
          "MOVEMENT|in:SSD|volume=500.0 MB",
          "MOVEMENT|in:SSD|from:BB|volume=193.9 MB",
          "MOVEMENT|in:SSD|volume=193.9 MB",
          "MOVEMENT|in:SSD|from:BB|volume=93.71 MB",
          "MOVEMENT|in:SSD|volume=93.71 MB",
          "MOVEMENT|in:SSD|from:BB|volume=191.74 MB",
          "MOVEMENT|in:SSD|volume=191.74 MB",
          "MOVEMENT|in:SSD|from:BB|volume=1.25 GB",
          "MOVEMENT|in:SSD|volume=1.25 GB",
          "MOVEMENT|in:SSD|from:BB|volume=832.6 MB",
          "MOVEMENT|in:SSD|volume=832.6 MB",
          "MOVEMENT|in:SSD|from:BB|volume=142.44 MB",
          "MOVEMENT|in:SSD|volume=142.44 MB",
          "MOVEMENT|in:SSD|from:BB|volume=2.32 GB",
          "MOVEMENT|in:SSD|volume=2.32 GB"
         ],
         "textposition": "top center",
         "type": "scatter",
         "x": [
          0,
          14.285714285714286,
          14.285714285714286,
          24.285714285714285,
          24.285714285714285,
          33.333333333333336,
          33.333333333333336,
          42.85714285714286,
          42.85714285714286,
          42.85714285714286,
          57.98534798534799,
          72.75080906148867,
          72.75080906148867,
          87.51627013762936,
          87.51627013762936,
          97.51627013762936,
          97.51627013762936,
          103.33333333333334,
          103.33333333333334,
          106.14477755254455,
          106.14477755254455,
          111.89711582915467,
          111.89711582915467,
          149.28571428571428,
          149.28571428571428,
          174.26384295316336,
          174.26384295316336,
          177.11271737970768,
          177.11271737970768,
          223.56787225719268
         ],
         "xaxis": "x2",
         "y": [
          70,
          70,
          105,
          105,
          105,
          105,
          105,
          105,
          210,
          210,
          50,
          50,
          50,
          50,
          50,
          50,
          33.33333333333333,
          33.33333333333333,
          33.33333333333333,
          33.33333333333333,
          33.33333333333333,
          33.33333333333333,
          33.33333333333333,
          33.33333333333333,
          33.33333333333333,
          33.33333333333333,
          50,
          50,
          50,
          50
         ],
         "yaxis": "y2"
        },
        {
         "line": {
          "shape": "linear"
         },
         "name": "app#Y8",
         "text": [
          "READ|to/from:SSD|volume=1.0 GB",
          "READ|to/from:SSD|volume=1.0 GB",
          "READ|to/from:SSD|volume=1.05 GB",
          "READ|to/from:SSD|volume=1.05 GB",
          "READ|to/from:SSD|volume=950.0 MB",
          "READ|to/from:SSD|volume=950.0 MB",
          "READ|to/from:SSD|volume=119.21 EB",
          "READ|to/from:SSD|volume=119.21 EB",
          "COMPUTE|volume=0B",
          "COMPUTE|volume=0B",
          "WRITE|to/from:BB|volume=1.2 GB",
          "WRITE|to/from:BB|volume=1.2 GB",
          "WRITE|to/from:BB|volume=1.9 GB",
          "WRITE|to/from:BB|volume=1.9 GB",
          "WRITE|to/from:BB|volume=1.9 GB",
          "WRITE|to/from:BB|volume=1.9 GB",
          "COMPUTE|volume=0B",
          "COMPUTE|volume=0B",
          "WRITE|to/from:BB|volume=599.16 MB",
          "WRITE|to/from:BB|volume=599.16 MB",
          "WRITE|to/from:BB|volume=289.58 MB",
          "WRITE|to/from:BB|volume=289.58 MB",
          "WRITE|to/from:BB|volume=592.49 MB",
          "WRITE|to/from:BB|volume=592.49 MB",
          "WRITE|to/from:BB|volume=4.81 GB",
          "WRITE|to/from:BB|volume=4.81 GB",
          "WRITE|to/from:BB|volume=3.22 GB",
          "WRITE|to/from:BB|volume=3.22 GB",
          "WRITE|to/from:BB|volume=489.06 MB",
          "WRITE|to/from:BB|volume=489.06 MB",
          "WRITE|to/from:BB|volume=59.6 EB",
          "WRITE|to/from:BB|volume=59.6 EB"
         ],
         "textposition": "top center",
         "type": "scatter",
         "x": [
          0,
          14.285714285714286,
          14.285714285714286,
          24.285714285714285,
          24.285714285714285,
          33.333333333333336,
          33.333333333333336,
          33.333333333333336,
          33.333333333333336,
          53.333333333333336,
          53.333333333333336,
          57.98534798534799,
          57.98534798534799,
          72.75080906148867,
          72.75080906148867,
          87.51627013762936,
          87.51627013762936,
          97.51627013762936,
          97.51627013762936,
          103.33333333333334,
          103.33333333333334,
          106.14477755254455,
          106.14477755254455,
          111.89711582915467,
          111.89711582915467,
          149.28571428571428,
          149.28571428571428,
          174.26384295316336,
          174.26384295316336,
          177.11271737970768,
          177.11271737970768,
          177.11271737970768
         ],
         "xaxis": "x3",
         "y": [
          70,
          70,
          105,
          105,
          105,
          105,
          105,
          105,
          0,
          0,
          257.5,
          257.5,
          128.75,
          128.75,
          128.75,
          128.75,
          0,
          0,
          103,
          103,
          103,
          103,
          103,
          103,
          128.75,
          128.75,
          128.75,
          128.75,
          171.66666666666666,
          171.66666666666666,
          171.66666666666666,
          171.66666666666666
         ],
         "yaxis": "y3"
        },
        {
         "line": {
          "dash": "dot",
          "shape": "linear"
         },
         "name": "Y8 mvt",
         "text": [
          "MOVEMENT|in:SSD|from:BB|volume=465.2 MB",
          "MOVEMENT|in:SSD|volume=465.2 MB",
          "MOVEMENT|in:SSD|from:BB|volume=738.27 MB",
          "MOVEMENT|in:SSD|volume=738.27 MB",
          "MOVEMENT|in:SSD|from:BB|volume=738.27 MB",
          "MOVEMENT|in:SSD|volume=738.27 MB",
          "MOVEMENT|in:SSD|from:BB|volume=500.0 MB",
          "MOVEMENT|in:SSD|volume=500.0 MB",
          "MOVEMENT|in:SSD|from:BB|volume=193.9 MB",
          "MOVEMENT|in:SSD|volume=193.9 MB",
          "MOVEMENT|in:SSD|from:BB|volume=193.9 MB",
          "MOVEMENT|in:SSD|volume=193.9 MB",
          "MOVEMENT|in:SSD|from:BB|volume=93.71 MB",
          "MOVEMENT|in:SSD|volume=93.71 MB",
          "MOVEMENT|in:SSD|from:BB|volume=93.71 MB",
          "MOVEMENT|in:SSD|volume=93.71 MB",
          "MOVEMENT|in:SSD|from:BB|volume=191.74 MB",
          "MOVEMENT|in:SSD|volume=191.74 MB",
          "MOVEMENT|in:SSD|from:BB|volume=191.74 MB",
          "MOVEMENT|in:SSD|volume=191.74 MB",
          "MOVEMENT|in:SSD|from:BB|volume=1.25 GB",
          "MOVEMENT|in:SSD|volume=1.25 GB",
          "MOVEMENT|in:SSD|from:BB|volume=1.25 GB",
          "MOVEMENT|in:SSD|volume=1.25 GB",
          "MOVEMENT|in:SSD|from:BB|volume=832.6 MB",
          "MOVEMENT|in:SSD|volume=832.6 MB",
          "MOVEMENT|in:SSD|from:BB|volume=832.6 MB",
          "MOVEMENT|in:SSD|volume=832.6 MB",
          "MOVEMENT|in:SSD|from:BB|volume=142.44 MB",
          "MOVEMENT|in:SSD|volume=142.44 MB",
          "MOVEMENT|in:SSD|from:BB|volume=2.32 GB",
          "MOVEMENT|in:SSD|volume=2.32 GB",
          "MOVEMENT|in:SSD|from:BB|volume=2.47 GB",
          "MOVEMENT|in:SSD|volume=2.47 GB",
          "MOVEMENT|in:SSD|from:BB|volume=2.51 GB",
          "MOVEMENT|in:SSD|volume=2.51 GB"
         ],
         "textposition": "top center",
         "type": "scatter",
         "x": [
          53.333333333333336,
          57.98534798534799,
          57.98534798534799,
          72.75080906148867,
          72.75080906148867,
          87.51627013762936,
          87.51627013762936,
          97.51627013762936,
          97.51627013762936,
          103.33333333333334,
          97.51627013762936,
          103.33333333333334,
          103.33333333333334,
          106.14477755254455,
          103.33333333333334,
          106.14477755254455,
          106.14477755254455,
          111.89711582915467,
          106.14477755254455,
          111.89711582915467,
          111.89711582915467,
          149.28571428571428,
          111.89711582915467,
          149.28571428571428,
          149.28571428571428,
          174.26384295316336,
          149.28571428571428,
          174.26384295316336,
          174.26384295316336,
          177.11271737970768,
          177.11271737970768,
          223.56787225719268,
          223.56787225719268,
          248.21988690920733,
          248.21988690920733,
          273.33333333333337
         ],
         "xaxis": "x3",
         "y": [
          100,
          100,
          50,
          50,
          50,
          50,
          50,
          50,
          33.33333333333333,
          33.33333333333333,
          33.33333333333333,
          33.33333333333333,
          33.33333333333333,
          33.33333333333333,
          33.33333333333333,
          33.33333333333333,
          33.33333333333333,
          33.33333333333333,
          33.33333333333333,
          33.33333333333333,
          33.33333333333333,
          33.33333333333333,
          33.33333333333333,
          33.33333333333333,
          33.33333333333333,
          33.33333333333333,
          33.33333333333333,
          33.33333333333333,
          50,
          50,
          50,
          50,
          100,
          100,
          100,
          100
         ],
         "yaxis": "y3"
        },
        {
         "line": {
          "shape": "linear"
         },
         "name": "BB",
         "showlegend": false,
         "text": [
          "A1|Read|SSD | +volume=1.0 GB",
          "S3|Movement|BB | +volume=1.0 GB",
          "Y8|Read|SSD | +volume=1.0 GB",
          "A1|Compute | +volume=0B",
          "Y8|Read|SSD | +volume=1.05 GB",
          "S3|Movement|BB | +volume=1.05 GB",
          "Y8|Read|SSD | +volume=950.0 MB",
          "A1|Write|HDD | +volume=361.9 MB",
          "S3|Movement|BB | +volume=950.0 MB",
          "Y8|Read|SSD | +volume=119.21 EB",
          "S3|Movement|BB | +volume=1.0 GB",
          "A1|Write|HDD | +volume=380.95 MB",
          "S3|Movement|BB | +volume=119.21 EB",
          "S3|Read|BB | +volume=4.0 GB",
          "A1|Write|HDD | +volume=205.13 MB",
          "Y8|Compute | +volume=0B",
          "A1|Write|HDD | +volume=213.92 MB",
          "S3|Compute | +volume=0B",
          "Y8|Write|BB | +volume=1.2 GB",
          "A1|Write|HDD | +volume=186.08 MB",
          "Y8|Movement|SSD | +volume=465.2 MB",
          "Y8|Movement|SSD | +volume=738.27 MB",
          "S3|Write|BB | +volume=1.9 GB",
          "A1|Write|HDD | +volume=590.62 MB",
          "S3|Movement|SSD | +volume=738.27 MB",
          "Y8|Write|BB | +volume=1.9 GB",
          "Y8|Write|BB | +volume=1.9 GB",
          "S3|Movement|SSD | +volume=738.27 MB",
          "Y8|Movement|SSD | +volume=738.27 MB",
          "S3|Write|BB | +volume=1.9 GB",
          "A1|Write|HDD | +volume=590.62 MB",
          "Y8|Compute | +volume=0B",
          "S3|Write|BB | +volume=1.72 GB",
          "A1|Write|HDD | +volume=400.0 MB",
          "S3|Movement|SSD | +volume=500.0 MB",
          "Y8|Movement|SSD | +volume=500.0 MB",
          "Y8|Movement|SSD | +volume=193.9 MB",
          "Y8|Movement|SSD | +volume=193.9 MB",
          "S3|Write|BB | +volume=599.16 MB",
          "A1|Write|HDD | +volume=232.68 MB",
          "Y8|Write|BB | +volume=599.16 MB",
          "S3|Movement|SSD | +volume=193.9 MB",
          "S3|Movement|SSD | +volume=93.71 MB",
          "Y8|Movement|SSD | +volume=93.71 MB",
          "S3|Write|BB | +volume=289.58 MB",
          "A1|Write|HDD | +volume=112.46 MB",
          "Y8|Write|BB | +volume=289.58 MB",
          "Y8|Movement|SSD | +volume=93.71 MB",
          "S3|Write|BB | +volume=592.49 MB",
          "Y8|Movement|SSD | +volume=191.74 MB",
          "S3|Movement|SSD | +volume=191.74 MB",
          "A1|Write|HDD | +volume=230.09 MB",
          "Y8|Write|BB | +volume=592.49 MB",
          "Y8|Movement|SSD | +volume=191.74 MB",
          "A1|Write|HDD | +volume=1.5 GB",
          "Y8|Write|BB | +volume=4.81 GB",
          "Y8|Movement|SSD | +volume=1.25 GB",
          "S3|Movement|SSD | +volume=1.25 GB",
          "Y8|Movement|SSD | +volume=1.25 GB",
          "Y8|Movement|SSD | +volume=832.6 MB",
          "Y8|Write|BB | +volume=3.22 GB",
          "Y8|Movement|SSD | +volume=832.6 MB",
          "S3|Movement|SSD | +volume=832.6 MB",
          "Y8|Write|BB | +volume=489.06 MB",
          "S3|Movement|SSD | +volume=142.44 MB",
          "Y8|Movement|SSD | +volume=142.44 MB",
          "Y8|Write|BB | +volume=59.6 EB",
          "S3|Movement|SSD | +volume=2.32 GB",
          "Y8|Movement|SSD | +volume=2.32 GB",
          "Y8|Movement|SSD | +volume=2.47 GB",
          "Y8|Movement|SSD | +volume=2.51 GB"
         ],
         "textposition": "top center",
         "type": "scatter",
         "x": [
          0,
          14.285714285714286,
          24.285714285714285,
          33.333333333333336,
          42.85714285714286,
          47.98534798534799,
          53.333333333333336,
          57.98534798534799,
          72.75080906148867,
          87.51627013762936,
          97.51627013762936,
          103.33333333333334,
          106.14477755254455,
          111.89711582915467,
          149.28571428571428,
          174.26384295316336,
          177.11271737970768,
          223.56787225719268,
          248.21988690920733,
          273.33333333333337
         ],
         "xaxis": "x4",
         "y": [
          0,
          1000000000,
          2050000000,
          3000000000,
          4000000000,
          4000000000,
          4000000000,
          5197893772.893774,
          8999999999.999998,
          12802106227.106226,
          14518772893.77289,
          15717087912.087914,
          16296245421.245422,
          17481227106.227104,
          22295009157.509155,
          25510943223.443226,
          26000000000,
          26000000000,
          26000000000,
          26000000000
         ],
         "yaxis": "y4"
        },
        {
         "line": {
          "shape": "linear"
         },
         "name": "HDD",
         "showlegend": false,
         "text": [
          "A1|Read|SSD | +volume=1.0 GB",
          "S3|Movement|BB | +volume=1.0 GB",
          "Y8|Read|SSD | +volume=1.0 GB",
          "A1|Compute | +volume=0B",
          "Y8|Read|SSD | +volume=1.05 GB",
          "S3|Movement|BB | +volume=1.05 GB",
          "Y8|Read|SSD | +volume=950.0 MB",
          "A1|Write|HDD | +volume=361.9 MB",
          "S3|Movement|BB | +volume=950.0 MB",
          "Y8|Read|SSD | +volume=119.21 EB",
          "S3|Movement|BB | +volume=1.0 GB",
          "A1|Write|HDD | +volume=380.95 MB",
          "S3|Movement|BB | +volume=119.21 EB",
          "S3|Read|BB | +volume=4.0 GB",
          "A1|Write|HDD | +volume=205.13 MB",
          "Y8|Compute | +volume=0B",
          "A1|Write|HDD | +volume=213.92 MB",
          "S3|Compute | +volume=0B",
          "Y8|Write|BB | +volume=1.2 GB",
          "A1|Write|HDD | +volume=186.08 MB",
          "Y8|Movement|SSD | +volume=465.2 MB",
          "Y8|Movement|SSD | +volume=738.27 MB",
          "S3|Write|BB | +volume=1.9 GB",
          "A1|Write|HDD | +volume=590.62 MB",
          "S3|Movement|SSD | +volume=738.27 MB",
          "Y8|Write|BB | +volume=1.9 GB",
          "Y8|Write|BB | +volume=1.9 GB",
          "S3|Movement|SSD | +volume=738.27 MB",
          "Y8|Movement|SSD | +volume=738.27 MB",
          "S3|Write|BB | +volume=1.9 GB",
          "A1|Write|HDD | +volume=590.62 MB",
          "Y8|Compute | +volume=0B",
          "S3|Write|BB | +volume=1.72 GB",
          "A1|Write|HDD | +volume=400.0 MB",
          "S3|Movement|SSD | +volume=500.0 MB",
          "Y8|Movement|SSD | +volume=500.0 MB",
          "Y8|Movement|SSD | +volume=193.9 MB",
          "Y8|Movement|SSD | +volume=193.9 MB",
          "S3|Write|BB | +volume=599.16 MB",
          "A1|Write|HDD | +volume=232.68 MB",
          "Y8|Write|BB | +volume=599.16 MB",
          "S3|Movement|SSD | +volume=193.9 MB",
          "S3|Movement|SSD | +volume=93.71 MB",
          "Y8|Movement|SSD | +volume=93.71 MB",
          "S3|Write|BB | +volume=289.58 MB",
          "A1|Write|HDD | +volume=112.46 MB",
          "Y8|Write|BB | +volume=289.58 MB",
          "Y8|Movement|SSD | +volume=93.71 MB",
          "S3|Write|BB | +volume=592.49 MB",
          "Y8|Movement|SSD | +volume=191.74 MB",
          "S3|Movement|SSD | +volume=191.74 MB",
          "A1|Write|HDD | +volume=230.09 MB",
          "Y8|Write|BB | +volume=592.49 MB",
          "Y8|Movement|SSD | +volume=191.74 MB",
          "A1|Write|HDD | +volume=1.5 GB",
          "Y8|Write|BB | +volume=4.81 GB",
          "Y8|Movement|SSD | +volume=1.25 GB",
          "S3|Movement|SSD | +volume=1.25 GB",
          "Y8|Movement|SSD | +volume=1.25 GB",
          "Y8|Movement|SSD | +volume=832.6 MB",
          "Y8|Write|BB | +volume=3.22 GB",
          "Y8|Movement|SSD | +volume=832.6 MB",
          "S3|Movement|SSD | +volume=832.6 MB",
          "Y8|Write|BB | +volume=489.06 MB",
          "S3|Movement|SSD | +volume=142.44 MB",
          "Y8|Movement|SSD | +volume=142.44 MB",
          "Y8|Write|BB | +volume=59.6 EB",
          "S3|Movement|SSD | +volume=2.32 GB",
          "Y8|Movement|SSD | +volume=2.32 GB",
          "Y8|Movement|SSD | +volume=2.47 GB",
          "Y8|Movement|SSD | +volume=2.51 GB"
         ],
         "textposition": "top center",
         "type": "scatter",
         "x": [
          0,
          14.285714285714286,
          24.285714285714285,
          33.333333333333336,
          42.85714285714286,
          47.98534798534799,
          53.333333333333336,
          57.98534798534799,
          72.75080906148867,
          87.51627013762936,
          97.51627013762936,
          103.33333333333334,
          106.14477755254455,
          111.89711582915467,
          149.28571428571428,
          174.26384295316336,
          177.11271737970768,
          223.56787225719268,
          248.21988690920733,
          273.33333333333337
         ],
         "xaxis": "x5",
         "y": [
          0,
          0,
          0,
          361904761.904762,
          742857142.857143,
          947985347.9853482,
          1161904761.904762,
          1347985347.9853482,
          1938603791.0309753,
          2529222234.076603,
          2929222234.076603,
          3161904761.9047627,
          3274362530.6732106,
          3504456061.7376156,
          4999999999.999999,
          4999999999.999999,
          4999999999.999999,
          4999999999.999999,
          4999999999.999999,
          4999999999.999999
         ],
         "yaxis": "y5"
        },
        {
         "line": {
          "shape": "linear"
         },
         "name": "SSD",
         "showlegend": false,
         "text": [
          "A1|Read|SSD | +volume=1.0 GB",
          "S3|Movement|BB | +volume=1.0 GB",
          "Y8|Read|SSD | +volume=1.0 GB",
          "A1|Compute | +volume=0B",
          "Y8|Read|SSD | +volume=1.05 GB",
          "S3|Movement|BB | +volume=1.05 GB",
          "Y8|Read|SSD | +volume=950.0 MB",
          "A1|Write|HDD | +volume=361.9 MB",
          "S3|Movement|BB | +volume=950.0 MB",
          "Y8|Read|SSD | +volume=119.21 EB",
          "S3|Movement|BB | +volume=1.0 GB",
          "A1|Write|HDD | +volume=380.95 MB",
          "S3|Movement|BB | +volume=119.21 EB",
          "S3|Read|BB | +volume=4.0 GB",
          "A1|Write|HDD | +volume=205.13 MB",
          "Y8|Compute | +volume=0B",
          "A1|Write|HDD | +volume=213.92 MB",
          "S3|Compute | +volume=0B",
          "Y8|Write|BB | +volume=1.2 GB",
          "A1|Write|HDD | +volume=186.08 MB",
          "Y8|Movement|SSD | +volume=465.2 MB",
          "Y8|Movement|SSD | +volume=738.27 MB",
          "S3|Write|BB | +volume=1.9 GB",
          "A1|Write|HDD | +volume=590.62 MB",
          "S3|Movement|SSD | +volume=738.27 MB",
          "Y8|Write|BB | +volume=1.9 GB",
          "Y8|Write|BB | +volume=1.9 GB",
          "S3|Movement|SSD | +volume=738.27 MB",
          "Y8|Movement|SSD | +volume=738.27 MB",
          "S3|Write|BB | +volume=1.9 GB",
          "A1|Write|HDD | +volume=590.62 MB",
          "Y8|Compute | +volume=0B",
          "S3|Write|BB | +volume=1.72 GB",
          "A1|Write|HDD | +volume=400.0 MB",
          "S3|Movement|SSD | +volume=500.0 MB",
          "Y8|Movement|SSD | +volume=500.0 MB",
          "Y8|Movement|SSD | +volume=193.9 MB",
          "Y8|Movement|SSD | +volume=193.9 MB",
          "S3|Write|BB | +volume=599.16 MB",
          "A1|Write|HDD | +volume=232.68 MB",
          "Y8|Write|BB | +volume=599.16 MB",
          "S3|Movement|SSD | +volume=193.9 MB",
          "S3|Movement|SSD | +volume=93.71 MB",
          "Y8|Movement|SSD | +volume=93.71 MB",
          "S3|Write|BB | +volume=289.58 MB",
          "A1|Write|HDD | +volume=112.46 MB",
          "Y8|Write|BB | +volume=289.58 MB",
          "Y8|Movement|SSD | +volume=93.71 MB",
          "S3|Write|BB | +volume=592.49 MB",
          "Y8|Movement|SSD | +volume=191.74 MB",
          "S3|Movement|SSD | +volume=191.74 MB",
          "A1|Write|HDD | +volume=230.09 MB",
          "Y8|Write|BB | +volume=592.49 MB",
          "Y8|Movement|SSD | +volume=191.74 MB",
          "A1|Write|HDD | +volume=1.5 GB",
          "Y8|Write|BB | +volume=4.81 GB",
          "Y8|Movement|SSD | +volume=1.25 GB",
          "S3|Movement|SSD | +volume=1.25 GB",
          "Y8|Movement|SSD | +volume=1.25 GB",
          "Y8|Movement|SSD | +volume=832.6 MB",
          "Y8|Write|BB | +volume=3.22 GB",
          "Y8|Movement|SSD | +volume=832.6 MB",
          "S3|Movement|SSD | +volume=832.6 MB",
          "Y8|Write|BB | +volume=489.06 MB",
          "S3|Movement|SSD | +volume=142.44 MB",
          "Y8|Movement|SSD | +volume=142.44 MB",
          "Y8|Write|BB | +volume=59.6 EB",
          "S3|Movement|SSD | +volume=2.32 GB",
          "Y8|Movement|SSD | +volume=2.32 GB",
          "Y8|Movement|SSD | +volume=2.47 GB",
          "Y8|Movement|SSD | +volume=2.51 GB"
         ],
         "textposition": "top center",
         "type": "scatter",
         "x": [
          0,
          14.285714285714286,
          24.285714285714285,
          33.333333333333336,
          42.85714285714286,
          47.98534798534799,
          53.333333333333336,
          57.98534798534799,
          72.75080906148867,
          87.51627013762936,
          97.51627013762936,
          103.33333333333334,
          106.14477755254455,
          111.89711582915467,
          149.28571428571428,
          174.26384295316336,
          177.11271737970768,
          223.56787225719268,
          248.21988690920733,
          273.33333333333337
         ],
         "xaxis": "x6",
         "y": [
          0,
          3000000000,
          3000000000,
          3000000000,
          3000000000,
          3000000000,
          3000000000,
          3465201465.2014656,
          4941747572.815533,
          6418293680.429601,
          7418293680.429602,
          8000000000,
          8281144421.92112,
          8856378249.582132,
          12595238095.23809,
          15093050961.983004,
          15377938404.637432,
          20023453892.38593,
          22488655357.58739,
          24999999999.999996
         ],
         "yaxis": "y6"
        },
        {
         "line": {
          "shape": "hv"
         },
         "showlegend": false,
         "type": "scatter",
         "x": [
          0,
          14.285714285714286,
          24.285714285714285,
          33.333333333333336,
          42.85714285714286,
          47.98534798534799,
          53.333333333333336,
          57.98534798534799,
          72.75080906148867,
          87.51627013762936,
          97.51627013762936,
          103.33333333333334,
          106.14477755254455,
          111.89711582915467,
          149.28571428571428,
          174.26384295316336,
          177.11271737970768,
          223.56787225719268,
          248.21988690920733,
          273.33333333333337
         ],
         "xaxis": "x7",
         "y": [
          3,
          3,
          3,
          3,
          3,
          3,
          4,
          5,
          5,
          5,
          6,
          6,
          6,
          5,
          4,
          3,
          2,
          1,
          1,
          0
         ],
         "yaxis": "y7"
        },
        {
         "line": {
          "color": "red",
          "dash": "dot",
          "shape": "hv",
          "width": 3
         },
         "showlegend": false,
         "text": [
          "Maximum available cores in cluster=10",
          "Maximum available cores in cluster=10"
         ],
         "type": "scatter",
         "x": [
          0,
          273.33333333333337
         ],
         "xaxis": "x7",
         "y": [
          10,
          10
         ],
         "yaxis": "y7"
        }
       ],
       "layout": {
        "annotations": [
         {
          "font": {
           "size": 16
          },
          "showarrow": false,
          "text": "A1",
          "x": 0.5,
          "xanchor": "center",
          "xref": "paper",
          "y": 0.9999999999999999,
          "yanchor": "bottom",
          "yref": "paper"
         },
         {
          "font": {
           "size": 16
          },
          "showarrow": false,
          "text": "S3",
          "x": 0.5,
          "xanchor": "center",
          "xref": "paper",
          "y": 0.8469387755102039,
          "yanchor": "bottom",
          "yref": "paper"
         },
         {
          "font": {
           "size": 16
          },
          "showarrow": false,
          "text": "Y8",
          "x": 0.5,
          "xanchor": "center",
          "xref": "paper",
          "y": 0.6938775510204082,
          "yanchor": "bottom",
          "yref": "paper"
         },
         {
          "font": {
           "size": 16
          },
          "showarrow": false,
          "text": "BB (50.0 GB)",
          "x": 0.5,
          "xanchor": "center",
          "xref": "paper",
          "y": 0.5408163265306122,
          "yanchor": "bottom",
          "yref": "paper"
         },
         {
          "font": {
           "size": 16
          },
          "showarrow": false,
          "text": "HDD (1.0 TB)",
          "x": 0.5,
          "xanchor": "center",
          "xref": "paper",
          "y": 0.3877551020408163,
          "yanchor": "bottom",
          "yref": "paper"
         },
         {
          "font": {
           "size": 16
          },
          "showarrow": false,
          "text": "SSD (200.0 GB)",
          "x": 0.5,
          "xanchor": "center",
          "xref": "paper",
          "y": 0.2346938775510204,
          "yanchor": "bottom",
          "yref": "paper"
         },
         {
          "font": {
           "size": 16
          },
          "showarrow": false,
          "text": "CPU Cores",
          "x": 0.5,
          "xanchor": "center",
          "xref": "paper",
          "y": 0.08163265306122448,
          "yanchor": "bottom",
          "yref": "paper"
         }
        ],
        "height": 900,
        "template": {
         "data": {
          "bar": [
           {
            "error_x": {
             "color": "#2a3f5f"
            },
            "error_y": {
             "color": "#2a3f5f"
            },
            "marker": {
             "line": {
              "color": "#E5ECF6",
              "width": 0.5
             }
            },
            "type": "bar"
           }
          ],
          "barpolar": [
           {
            "marker": {
             "line": {
              "color": "#E5ECF6",
              "width": 0.5
             }
            },
            "type": "barpolar"
           }
          ],
          "carpet": [
           {
            "aaxis": {
             "endlinecolor": "#2a3f5f",
             "gridcolor": "white",
             "linecolor": "white",
             "minorgridcolor": "white",
             "startlinecolor": "#2a3f5f"
            },
            "baxis": {
             "endlinecolor": "#2a3f5f",
             "gridcolor": "white",
             "linecolor": "white",
             "minorgridcolor": "white",
             "startlinecolor": "#2a3f5f"
            },
            "type": "carpet"
           }
          ],
          "choropleth": [
           {
            "colorbar": {
             "outlinewidth": 0,
             "ticks": ""
            },
            "type": "choropleth"
           }
          ],
          "contour": [
           {
            "colorbar": {
             "outlinewidth": 0,
             "ticks": ""
            },
            "colorscale": [
             [
              0,
              "#0d0887"
             ],
             [
              0.1111111111111111,
              "#46039f"
             ],
             [
              0.2222222222222222,
              "#7201a8"
             ],
             [
              0.3333333333333333,
              "#9c179e"
             ],
             [
              0.4444444444444444,
              "#bd3786"
             ],
             [
              0.5555555555555556,
              "#d8576b"
             ],
             [
              0.6666666666666666,
              "#ed7953"
             ],
             [
              0.7777777777777778,
              "#fb9f3a"
             ],
             [
              0.8888888888888888,
              "#fdca26"
             ],
             [
              1,
              "#f0f921"
             ]
            ],
            "type": "contour"
           }
          ],
          "contourcarpet": [
           {
            "colorbar": {
             "outlinewidth": 0,
             "ticks": ""
            },
            "type": "contourcarpet"
           }
          ],
          "heatmap": [
           {
            "colorbar": {
             "outlinewidth": 0,
             "ticks": ""
            },
            "colorscale": [
             [
              0,
              "#0d0887"
             ],
             [
              0.1111111111111111,
              "#46039f"
             ],
             [
              0.2222222222222222,
              "#7201a8"
             ],
             [
              0.3333333333333333,
              "#9c179e"
             ],
             [
              0.4444444444444444,
              "#bd3786"
             ],
             [
              0.5555555555555556,
              "#d8576b"
             ],
             [
              0.6666666666666666,
              "#ed7953"
             ],
             [
              0.7777777777777778,
              "#fb9f3a"
             ],
             [
              0.8888888888888888,
              "#fdca26"
             ],
             [
              1,
              "#f0f921"
             ]
            ],
            "type": "heatmap"
           }
          ],
          "heatmapgl": [
           {
            "colorbar": {
             "outlinewidth": 0,
             "ticks": ""
            },
            "colorscale": [
             [
              0,
              "#0d0887"
             ],
             [
              0.1111111111111111,
              "#46039f"
             ],
             [
              0.2222222222222222,
              "#7201a8"
             ],
             [
              0.3333333333333333,
              "#9c179e"
             ],
             [
              0.4444444444444444,
              "#bd3786"
             ],
             [
              0.5555555555555556,
              "#d8576b"
             ],
             [
              0.6666666666666666,
              "#ed7953"
             ],
             [
              0.7777777777777778,
              "#fb9f3a"
             ],
             [
              0.8888888888888888,
              "#fdca26"
             ],
             [
              1,
              "#f0f921"
             ]
            ],
            "type": "heatmapgl"
           }
          ],
          "histogram": [
           {
            "marker": {
             "colorbar": {
              "outlinewidth": 0,
              "ticks": ""
             }
            },
            "type": "histogram"
           }
          ],
          "histogram2d": [
           {
            "colorbar": {
             "outlinewidth": 0,
             "ticks": ""
            },
            "colorscale": [
             [
              0,
              "#0d0887"
             ],
             [
              0.1111111111111111,
              "#46039f"
             ],
             [
              0.2222222222222222,
              "#7201a8"
             ],
             [
              0.3333333333333333,
              "#9c179e"
             ],
             [
              0.4444444444444444,
              "#bd3786"
             ],
             [
              0.5555555555555556,
              "#d8576b"
             ],
             [
              0.6666666666666666,
              "#ed7953"
             ],
             [
              0.7777777777777778,
              "#fb9f3a"
             ],
             [
              0.8888888888888888,
              "#fdca26"
             ],
             [
              1,
              "#f0f921"
             ]
            ],
            "type": "histogram2d"
           }
          ],
          "histogram2dcontour": [
           {
            "colorbar": {
             "outlinewidth": 0,
             "ticks": ""
            },
            "colorscale": [
             [
              0,
              "#0d0887"
             ],
             [
              0.1111111111111111,
              "#46039f"
             ],
             [
              0.2222222222222222,
              "#7201a8"
             ],
             [
              0.3333333333333333,
              "#9c179e"
             ],
             [
              0.4444444444444444,
              "#bd3786"
             ],
             [
              0.5555555555555556,
              "#d8576b"
             ],
             [
              0.6666666666666666,
              "#ed7953"
             ],
             [
              0.7777777777777778,
              "#fb9f3a"
             ],
             [
              0.8888888888888888,
              "#fdca26"
             ],
             [
              1,
              "#f0f921"
             ]
            ],
            "type": "histogram2dcontour"
           }
          ],
          "mesh3d": [
           {
            "colorbar": {
             "outlinewidth": 0,
             "ticks": ""
            },
            "type": "mesh3d"
           }
          ],
          "parcoords": [
           {
            "line": {
             "colorbar": {
              "outlinewidth": 0,
              "ticks": ""
             }
            },
            "type": "parcoords"
           }
          ],
          "pie": [
           {
            "automargin": true,
            "type": "pie"
           }
          ],
          "scatter": [
           {
            "marker": {
             "colorbar": {
              "outlinewidth": 0,
              "ticks": ""
             }
            },
            "type": "scatter"
           }
          ],
          "scatter3d": [
           {
            "line": {
             "colorbar": {
              "outlinewidth": 0,
              "ticks": ""
             }
            },
            "marker": {
             "colorbar": {
              "outlinewidth": 0,
              "ticks": ""
             }
            },
            "type": "scatter3d"
           }
          ],
          "scattercarpet": [
           {
            "marker": {
             "colorbar": {
              "outlinewidth": 0,
              "ticks": ""
             }
            },
            "type": "scattercarpet"
           }
          ],
          "scattergeo": [
           {
            "marker": {
             "colorbar": {
              "outlinewidth": 0,
              "ticks": ""
             }
            },
            "type": "scattergeo"
           }
          ],
          "scattergl": [
           {
            "marker": {
             "colorbar": {
              "outlinewidth": 0,
              "ticks": ""
             }
            },
            "type": "scattergl"
           }
          ],
          "scattermapbox": [
           {
            "marker": {
             "colorbar": {
              "outlinewidth": 0,
              "ticks": ""
             }
            },
            "type": "scattermapbox"
           }
          ],
          "scatterpolar": [
           {
            "marker": {
             "colorbar": {
              "outlinewidth": 0,
              "ticks": ""
             }
            },
            "type": "scatterpolar"
           }
          ],
          "scatterpolargl": [
           {
            "marker": {
             "colorbar": {
              "outlinewidth": 0,
              "ticks": ""
             }
            },
            "type": "scatterpolargl"
           }
          ],
          "scatterternary": [
           {
            "marker": {
             "colorbar": {
              "outlinewidth": 0,
              "ticks": ""
             }
            },
            "type": "scatterternary"
           }
          ],
          "surface": [
           {
            "colorbar": {
             "outlinewidth": 0,
             "ticks": ""
            },
            "colorscale": [
             [
              0,
              "#0d0887"
             ],
             [
              0.1111111111111111,
              "#46039f"
             ],
             [
              0.2222222222222222,
              "#7201a8"
             ],
             [
              0.3333333333333333,
              "#9c179e"
             ],
             [
              0.4444444444444444,
              "#bd3786"
             ],
             [
              0.5555555555555556,
              "#d8576b"
             ],
             [
              0.6666666666666666,
              "#ed7953"
             ],
             [
              0.7777777777777778,
              "#fb9f3a"
             ],
             [
              0.8888888888888888,
              "#fdca26"
             ],
             [
              1,
              "#f0f921"
             ]
            ],
            "type": "surface"
           }
          ],
          "table": [
           {
            "cells": {
             "fill": {
              "color": "#EBF0F8"
             },
             "line": {
              "color": "white"
             }
            },
            "header": {
             "fill": {
              "color": "#C8D4E3"
             },
             "line": {
              "color": "white"
             }
            },
            "type": "table"
           }
          ]
         },
         "layout": {
          "annotationdefaults": {
           "arrowcolor": "#2a3f5f",
           "arrowhead": 0,
           "arrowwidth": 1
          },
          "coloraxis": {
           "colorbar": {
            "outlinewidth": 0,
            "ticks": ""
           }
          },
          "colorscale": {
           "diverging": [
            [
             0,
             "#8e0152"
            ],
            [
             0.1,
             "#c51b7d"
            ],
            [
             0.2,
             "#de77ae"
            ],
            [
             0.3,
             "#f1b6da"
            ],
            [
             0.4,
             "#fde0ef"
            ],
            [
             0.5,
             "#f7f7f7"
            ],
            [
             0.6,
             "#e6f5d0"
            ],
            [
             0.7,
             "#b8e186"
            ],
            [
             0.8,
             "#7fbc41"
            ],
            [
             0.9,
             "#4d9221"
            ],
            [
             1,
             "#276419"
            ]
           ],
           "sequential": [
            [
             0,
             "#0d0887"
            ],
            [
             0.1111111111111111,
             "#46039f"
            ],
            [
             0.2222222222222222,
             "#7201a8"
            ],
            [
             0.3333333333333333,
             "#9c179e"
            ],
            [
             0.4444444444444444,
             "#bd3786"
            ],
            [
             0.5555555555555556,
             "#d8576b"
            ],
            [
             0.6666666666666666,
             "#ed7953"
            ],
            [
             0.7777777777777778,
             "#fb9f3a"
            ],
            [
             0.8888888888888888,
             "#fdca26"
            ],
            [
             1,
             "#f0f921"
            ]
           ],
           "sequentialminus": [
            [
             0,
             "#0d0887"
            ],
            [
             0.1111111111111111,
             "#46039f"
            ],
            [
             0.2222222222222222,
             "#7201a8"
            ],
            [
             0.3333333333333333,
             "#9c179e"
            ],
            [
             0.4444444444444444,
             "#bd3786"
            ],
            [
             0.5555555555555556,
             "#d8576b"
            ],
            [
             0.6666666666666666,
             "#ed7953"
            ],
            [
             0.7777777777777778,
             "#fb9f3a"
            ],
            [
             0.8888888888888888,
             "#fdca26"
            ],
            [
             1,
             "#f0f921"
            ]
           ]
          },
          "colorway": [
           "#636efa",
           "#EF553B",
           "#00cc96",
           "#ab63fa",
           "#FFA15A",
           "#19d3f3",
           "#FF6692",
           "#B6E880",
           "#FF97FF",
           "#FECB52"
          ],
          "font": {
           "color": "#2a3f5f"
          },
          "geo": {
           "bgcolor": "white",
           "lakecolor": "white",
           "landcolor": "#E5ECF6",
           "showlakes": true,
           "showland": true,
           "subunitcolor": "white"
          },
          "hoverlabel": {
           "align": "left"
          },
          "hovermode": "closest",
          "mapbox": {
           "style": "light"
          },
          "paper_bgcolor": "white",
          "plot_bgcolor": "#E5ECF6",
          "polar": {
           "angularaxis": {
            "gridcolor": "white",
            "linecolor": "white",
            "ticks": ""
           },
           "bgcolor": "#E5ECF6",
           "radialaxis": {
            "gridcolor": "white",
            "linecolor": "white",
            "ticks": ""
           }
          },
          "scene": {
           "xaxis": {
            "backgroundcolor": "#E5ECF6",
            "gridcolor": "white",
            "gridwidth": 2,
            "linecolor": "white",
            "showbackground": true,
            "ticks": "",
            "zerolinecolor": "white"
           },
           "yaxis": {
            "backgroundcolor": "#E5ECF6",
            "gridcolor": "white",
            "gridwidth": 2,
            "linecolor": "white",
            "showbackground": true,
            "ticks": "",
            "zerolinecolor": "white"
           },
           "zaxis": {
            "backgroundcolor": "#E5ECF6",
            "gridcolor": "white",
            "gridwidth": 2,
            "linecolor": "white",
            "showbackground": true,
            "ticks": "",
            "zerolinecolor": "white"
           }
          },
          "shapedefaults": {
           "line": {
            "color": "#2a3f5f"
           }
          },
          "ternary": {
           "aaxis": {
            "gridcolor": "white",
            "linecolor": "white",
            "ticks": ""
           },
           "baxis": {
            "gridcolor": "white",
            "linecolor": "white",
            "ticks": ""
           },
           "bgcolor": "#E5ECF6",
           "caxis": {
            "gridcolor": "white",
            "linecolor": "white",
            "ticks": ""
           }
          },
          "title": {
           "x": 0.05
          },
          "xaxis": {
           "automargin": true,
           "gridcolor": "white",
           "linecolor": "white",
           "ticks": "",
           "title": {
            "standoff": 15
           },
           "zerolinecolor": "white",
           "zerolinewidth": 2
          },
          "yaxis": {
           "automargin": true,
           "gridcolor": "white",
           "linecolor": "white",
           "ticks": "",
           "title": {
            "standoff": 15
           },
           "zerolinecolor": "white",
           "zerolinewidth": 2
          }
         }
        },
        "title": {
         "text": "State of the Cluster"
        },
        "width": 800,
        "xaxis": {
         "anchor": "y",
         "domain": [
          0,
          1
         ],
         "matches": "x7",
         "showticklabels": false,
         "title": {
          "text": "time in s"
         }
        },
        "xaxis2": {
         "anchor": "y2",
         "domain": [
          0,
          1
         ],
         "matches": "x7",
         "showticklabels": false,
         "title": {
          "text": "time in s"
         }
        },
        "xaxis3": {
         "anchor": "y3",
         "domain": [
          0,
          1
         ],
         "matches": "x7",
         "showticklabels": false,
         "title": {
          "text": "time in s"
         }
        },
        "xaxis4": {
         "anchor": "y4",
         "domain": [
          0,
          1
         ],
         "matches": "x7",
         "showticklabels": false,
         "title": {
          "text": "time in s"
         }
        },
        "xaxis5": {
         "anchor": "y5",
         "domain": [
          0,
          1
         ],
         "matches": "x7",
         "showticklabels": false,
         "title": {
          "text": "time in s"
         }
        },
        "xaxis6": {
         "anchor": "y6",
         "domain": [
          0,
          1
         ],
         "matches": "x7",
         "showticklabels": false,
         "title": {
          "text": "time in s"
         }
        },
        "xaxis7": {
         "anchor": "y7",
         "domain": [
          0,
          1
         ],
         "title": {
          "text": "time in s"
         }
        },
        "yaxis": {
         "anchor": "x",
         "domain": [
          0.9183673469387754,
          0.9999999999999999
         ],
         "title": {
          "text": "dataflow in MB/s"
         }
        },
        "yaxis2": {
         "anchor": "x2",
         "domain": [
          0.7653061224489794,
          0.8469387755102039
         ],
         "title": {
          "text": "dataflow in MB/s"
         }
        },
        "yaxis3": {
         "anchor": "x3",
         "domain": [
          0.6122448979591837,
          0.6938775510204082
         ],
         "title": {
          "text": "dataflow in MB/s"
         }
        },
        "yaxis4": {
         "anchor": "x4",
         "domain": [
          0.4591836734693877,
          0.5408163265306122
         ],
         "title": {
          "text": "BB usage in Bytes"
         }
        },
        "yaxis5": {
         "anchor": "x5",
         "domain": [
          0.30612244897959184,
          0.3877551020408163
         ],
         "title": {
          "text": "HDD usage in Bytes"
         }
        },
        "yaxis6": {
         "anchor": "x6",
         "domain": [
          0.15306122448979592,
          0.2346938775510204
         ],
         "title": {
          "text": "SSD usage in Bytes"
         }
        },
        "yaxis7": {
         "anchor": "x7",
         "domain": [
          0,
          0.08163265306122448
         ],
         "title": {
          "text": "CPU usage"
         }
        }
       }
      }
     },
     "metadata": {},
     "output_type": "display_data"
    }
   ],
   "source": [
    "# indicate the number of trial\n",
    "cbb.display_placement(df.loc[129][\"Param\"])"
   ]
  },
  {
   "cell_type": "markdown",
   "metadata": {},
   "source": [
    "Efficient frontier / Pareto frontier"
   ]
  },
  {
   "cell_type": "code",
   "execution_count": 13,
   "metadata": {},
   "outputs": [
    {
     "data": {
      "application/vnd.plotly.v1+json": {
       "config": {
        "plotlyServerURL": "https://plot.ly"
       },
       "data": [
        {
         "line": {
          "color": "#636EFA"
         },
         "mode": "markers",
         "text": [
          "trial_index=0",
          "trial_index=1",
          "trial_index=2",
          "trial_index=3",
          "trial_index=4",
          "trial_index=5",
          "trial_index=6",
          "trial_index=7",
          "trial_index=8",
          "trial_index=9",
          "trial_index=10",
          "trial_index=11",
          "trial_index=12",
          "trial_index=13",
          "trial_index=14",
          "trial_index=15",
          "trial_index=16",
          "trial_index=17",
          "trial_index=18",
          "trial_index=19",
          "trial_index=20",
          "trial_index=21",
          "trial_index=22",
          "trial_index=23",
          "trial_index=24",
          "trial_index=25",
          "trial_index=26",
          "trial_index=27",
          "trial_index=28",
          "trial_index=29",
          "trial_index=30",
          "trial_index=31",
          "trial_index=32",
          "trial_index=33",
          "trial_index=34",
          "trial_index=35",
          "trial_index=36",
          "trial_index=37",
          "trial_index=38",
          "trial_index=39",
          "trial_index=40",
          "trial_index=41",
          "trial_index=42",
          "trial_index=43",
          "trial_index=44",
          "trial_index=45",
          "trial_index=46",
          "trial_index=47",
          "trial_index=48",
          "trial_index=49",
          "trial_index=50",
          "trial_index=51",
          "trial_index=52",
          "trial_index=53",
          "trial_index=54",
          "trial_index=55",
          "trial_index=56",
          "trial_index=57",
          "trial_index=58",
          "trial_index=59",
          "trial_index=60",
          "trial_index=61",
          "trial_index=62",
          "trial_index=63",
          "trial_index=64",
          "trial_index=65",
          "trial_index=66",
          "trial_index=67",
          "trial_index=68",
          "trial_index=69",
          "trial_index=70",
          "trial_index=71",
          "trial_index=72",
          "trial_index=73",
          "trial_index=74",
          "trial_index=75",
          "trial_index=76",
          "trial_index=77",
          "trial_index=78",
          "trial_index=79",
          "trial_index=80",
          "trial_index=81",
          "trial_index=82",
          "trial_index=83",
          "trial_index=84",
          "trial_index=85",
          "trial_index=86",
          "trial_index=87",
          "trial_index=88",
          "trial_index=89",
          "trial_index=90",
          "trial_index=91",
          "trial_index=92",
          "trial_index=93",
          "trial_index=94",
          "trial_index=95",
          "trial_index=96",
          "trial_index=97",
          "trial_index=98",
          "trial_index=99",
          "trial_index=100",
          "trial_index=101",
          "trial_index=102",
          "trial_index=103",
          "trial_index=104",
          "trial_index=105",
          "trial_index=106",
          "trial_index=107",
          "trial_index=108",
          "trial_index=109",
          "trial_index=110",
          "trial_index=111",
          "trial_index=112",
          "trial_index=113",
          "trial_index=114",
          "trial_index=115",
          "trial_index=116",
          "trial_index=117",
          "trial_index=118",
          "trial_index=119",
          "trial_index=120",
          "trial_index=121",
          "trial_index=122",
          "trial_index=123",
          "trial_index=124",
          "trial_index=125",
          "trial_index=126",
          "trial_index=127",
          "trial_index=128",
          "trial_index=129"
         ],
         "type": "scatter",
         "x": [
          15000000000,
          20000000000,
          34000000000,
          22000000000,
          9000000000,
          35000000000,
          18000000000,
          21000000000,
          15000000000,
          17000000000,
          17000000000.000002,
          0,
          21000000000,
          26000000000,
          6000000000,
          17000000000,
          23000000000,
          3000000000,
          12000000000,
          18000000000,
          22000000000,
          20000000000,
          9000000000,
          25000000000,
          13999999999.999998,
          14000000000,
          22000000000,
          12000000000,
          34000000000,
          0,
          22000000000,
          1000000000,
          10000000000,
          10000000000,
          20000000000,
          22000000000,
          32000000000.000004,
          7999999999.999999,
          18000000000,
          13999999999.999998,
          26000000000,
          26000000000,
          18000000000,
          26000000000,
          17000000000.000002,
          3000000000,
          10000000000,
          13999999999.999996,
          18000000000,
          17000000000,
          0,
          18000000000,
          7999999999.999999,
          0,
          17000000000,
          21000000000,
          34000000000,
          23000000000,
          4000000000,
          35000000000,
          32000000000.000004,
          12000000000,
          13999999999.999996,
          23000000000,
          17000000000,
          1000000000,
          13000000000,
          5000000000,
          8000000000,
          21000000000,
          20000000000,
          25000000000,
          32000000000.000004,
          23000000000,
          13000000000,
          5000000000,
          26000000000,
          31000000000,
          17000000000,
          0,
          26000000000,
          26000000000,
          26000000000,
          26000000000,
          26000000000,
          26000000000,
          26000000000,
          26000000000,
          26000000000,
          26000000000,
          26000000000,
          26000000000,
          26000000000,
          26000000000,
          26000000000,
          26000000000,
          26000000000,
          26000000000,
          26000000000,
          26000000000,
          26000000000,
          26000000000,
          26000000000,
          26000000000,
          26000000000,
          26000000000,
          26000000000,
          26000000000,
          26000000000,
          26000000000,
          26000000000,
          26000000000,
          26000000000,
          26000000000,
          26000000000,
          26000000000,
          26000000000,
          26000000000,
          26000000000,
          26000000000,
          26000000000,
          26000000000,
          26000000000,
          26000000000,
          26000000000,
          26000000000,
          26000000000,
          26000000000,
          26000000000,
          26000000000
         ],
         "y": [
          293.80952380952385,
          206.62493924629848,
          203.50432737379037,
          251.7643319463708,
          290,
          193.6296187631139,
          205.34288796424718,
          258.5088374408763,
          597.2376032812925,
          251.8238557558946,
          492.9035638714037,
          617.5,
          362.5712151925744,
          245.59929822065746,
          652.5,
          612.3679718339913,
          252.40535758739642,
          395.4945054945055,
          303.33333333333337,
          369.74536790070766,
          247.00955463091387,
          244.3172469386062,
          605,
          241.8447194660787,
          496.4382327489124,
          325.4899267399268,
          251.7643319463708,
          269.9267399267399,
          203.50432737379037,
          398.2142857142858,
          247.8825705039297,
          363.33333333333337,
          318.042071197411,
          486.2271062271062,
          206.62493924629848,
          281.3349514563107,
          193.7832604288915,
          309.1025641025641,
          369.74536790070766,
          346.9087034863734,
          245.59929822065746,
          228.83495145631068,
          483.02197802197804,
          177.11271737970768,
          237.2476498690091,
          916.2087912087911,
          308.09523809523813,
          493.15806631340615,
          483.02197802197804,
          428.8349514563107,
          482.0238095238096,
          483.02197802197804,
          309.1025641025641,
          460,
          612.3679718339913,
          206.62493924629848,
          209.2020534751117,
          256.5857605177994,
          728.3333333333334,
          193.6296187631139,
          193.7832604288915,
          308.09523809523813,
          493.15806631340615,
          276.3349514563107,
          360.9778085991678,
          762.5,
          640.4029304029303,
          617.5,
          617.5,
          362.5712151925744,
          366.234218855578,
          249.93995756131682,
          193.7832604288915,
          256.5857605177994,
          335.13549557238883,
          393.5119047619048,
          177.11271737970768,
          213.43404815249477,
          426.45399907535835,
          572.5,
          177.11271737970768,
          177.11271737970768,
          177.11271737970768,
          177.11271737970768,
          177.11271737970768,
          177.11271737970768,
          177.11271737970768,
          177.11271737970768,
          177.11271737970768,
          177.11271737970768,
          177.11271737970768,
          177.11271737970768,
          177.11271737970768,
          177.11271737970768,
          177.11271737970768,
          177.11271737970768,
          177.11271737970768,
          177.11271737970768,
          177.11271737970768,
          177.11271737970768,
          177.11271737970768,
          177.11271737970768,
          177.11271737970768,
          177.11271737970768,
          177.11271737970768,
          177.11271737970768,
          177.11271737970768,
          177.11271737970768,
          177.11271737970768,
          177.11271737970768,
          177.11271737970768,
          177.11271737970768,
          177.11271737970768,
          177.11271737970768,
          177.11271737970768,
          177.11271737970768,
          177.11271737970768,
          177.11271737970768,
          177.11271737970768,
          177.11271737970768,
          177.11271737970768,
          177.11271737970768,
          177.11271737970768,
          177.11271737970768,
          177.11271737970768,
          177.11271737970768,
          177.11271737970768,
          177.11271737970768,
          177.11271737970768,
          177.11271737970768
         ]
        },
        {
         "type": "scatter",
         "x": [
          0,
          1000000000,
          18000000000,
          26000000000
         ],
         "y": [
          398.2142857142858,
          363.33333333333337,
          205.34288796424718,
          177.11271737970768
         ]
        }
       ],
       "layout": {
        "template": {
         "data": {
          "bar": [
           {
            "error_x": {
             "color": "#2a3f5f"
            },
            "error_y": {
             "color": "#2a3f5f"
            },
            "marker": {
             "line": {
              "color": "#E5ECF6",
              "width": 0.5
             }
            },
            "type": "bar"
           }
          ],
          "barpolar": [
           {
            "marker": {
             "line": {
              "color": "#E5ECF6",
              "width": 0.5
             }
            },
            "type": "barpolar"
           }
          ],
          "carpet": [
           {
            "aaxis": {
             "endlinecolor": "#2a3f5f",
             "gridcolor": "white",
             "linecolor": "white",
             "minorgridcolor": "white",
             "startlinecolor": "#2a3f5f"
            },
            "baxis": {
             "endlinecolor": "#2a3f5f",
             "gridcolor": "white",
             "linecolor": "white",
             "minorgridcolor": "white",
             "startlinecolor": "#2a3f5f"
            },
            "type": "carpet"
           }
          ],
          "choropleth": [
           {
            "colorbar": {
             "outlinewidth": 0,
             "ticks": ""
            },
            "type": "choropleth"
           }
          ],
          "contour": [
           {
            "colorbar": {
             "outlinewidth": 0,
             "ticks": ""
            },
            "colorscale": [
             [
              0,
              "#0d0887"
             ],
             [
              0.1111111111111111,
              "#46039f"
             ],
             [
              0.2222222222222222,
              "#7201a8"
             ],
             [
              0.3333333333333333,
              "#9c179e"
             ],
             [
              0.4444444444444444,
              "#bd3786"
             ],
             [
              0.5555555555555556,
              "#d8576b"
             ],
             [
              0.6666666666666666,
              "#ed7953"
             ],
             [
              0.7777777777777778,
              "#fb9f3a"
             ],
             [
              0.8888888888888888,
              "#fdca26"
             ],
             [
              1,
              "#f0f921"
             ]
            ],
            "type": "contour"
           }
          ],
          "contourcarpet": [
           {
            "colorbar": {
             "outlinewidth": 0,
             "ticks": ""
            },
            "type": "contourcarpet"
           }
          ],
          "heatmap": [
           {
            "colorbar": {
             "outlinewidth": 0,
             "ticks": ""
            },
            "colorscale": [
             [
              0,
              "#0d0887"
             ],
             [
              0.1111111111111111,
              "#46039f"
             ],
             [
              0.2222222222222222,
              "#7201a8"
             ],
             [
              0.3333333333333333,
              "#9c179e"
             ],
             [
              0.4444444444444444,
              "#bd3786"
             ],
             [
              0.5555555555555556,
              "#d8576b"
             ],
             [
              0.6666666666666666,
              "#ed7953"
             ],
             [
              0.7777777777777778,
              "#fb9f3a"
             ],
             [
              0.8888888888888888,
              "#fdca26"
             ],
             [
              1,
              "#f0f921"
             ]
            ],
            "type": "heatmap"
           }
          ],
          "heatmapgl": [
           {
            "colorbar": {
             "outlinewidth": 0,
             "ticks": ""
            },
            "colorscale": [
             [
              0,
              "#0d0887"
             ],
             [
              0.1111111111111111,
              "#46039f"
             ],
             [
              0.2222222222222222,
              "#7201a8"
             ],
             [
              0.3333333333333333,
              "#9c179e"
             ],
             [
              0.4444444444444444,
              "#bd3786"
             ],
             [
              0.5555555555555556,
              "#d8576b"
             ],
             [
              0.6666666666666666,
              "#ed7953"
             ],
             [
              0.7777777777777778,
              "#fb9f3a"
             ],
             [
              0.8888888888888888,
              "#fdca26"
             ],
             [
              1,
              "#f0f921"
             ]
            ],
            "type": "heatmapgl"
           }
          ],
          "histogram": [
           {
            "marker": {
             "colorbar": {
              "outlinewidth": 0,
              "ticks": ""
             }
            },
            "type": "histogram"
           }
          ],
          "histogram2d": [
           {
            "colorbar": {
             "outlinewidth": 0,
             "ticks": ""
            },
            "colorscale": [
             [
              0,
              "#0d0887"
             ],
             [
              0.1111111111111111,
              "#46039f"
             ],
             [
              0.2222222222222222,
              "#7201a8"
             ],
             [
              0.3333333333333333,
              "#9c179e"
             ],
             [
              0.4444444444444444,
              "#bd3786"
             ],
             [
              0.5555555555555556,
              "#d8576b"
             ],
             [
              0.6666666666666666,
              "#ed7953"
             ],
             [
              0.7777777777777778,
              "#fb9f3a"
             ],
             [
              0.8888888888888888,
              "#fdca26"
             ],
             [
              1,
              "#f0f921"
             ]
            ],
            "type": "histogram2d"
           }
          ],
          "histogram2dcontour": [
           {
            "colorbar": {
             "outlinewidth": 0,
             "ticks": ""
            },
            "colorscale": [
             [
              0,
              "#0d0887"
             ],
             [
              0.1111111111111111,
              "#46039f"
             ],
             [
              0.2222222222222222,
              "#7201a8"
             ],
             [
              0.3333333333333333,
              "#9c179e"
             ],
             [
              0.4444444444444444,
              "#bd3786"
             ],
             [
              0.5555555555555556,
              "#d8576b"
             ],
             [
              0.6666666666666666,
              "#ed7953"
             ],
             [
              0.7777777777777778,
              "#fb9f3a"
             ],
             [
              0.8888888888888888,
              "#fdca26"
             ],
             [
              1,
              "#f0f921"
             ]
            ],
            "type": "histogram2dcontour"
           }
          ],
          "mesh3d": [
           {
            "colorbar": {
             "outlinewidth": 0,
             "ticks": ""
            },
            "type": "mesh3d"
           }
          ],
          "parcoords": [
           {
            "line": {
             "colorbar": {
              "outlinewidth": 0,
              "ticks": ""
             }
            },
            "type": "parcoords"
           }
          ],
          "pie": [
           {
            "automargin": true,
            "type": "pie"
           }
          ],
          "scatter": [
           {
            "marker": {
             "colorbar": {
              "outlinewidth": 0,
              "ticks": ""
             }
            },
            "type": "scatter"
           }
          ],
          "scatter3d": [
           {
            "line": {
             "colorbar": {
              "outlinewidth": 0,
              "ticks": ""
             }
            },
            "marker": {
             "colorbar": {
              "outlinewidth": 0,
              "ticks": ""
             }
            },
            "type": "scatter3d"
           }
          ],
          "scattercarpet": [
           {
            "marker": {
             "colorbar": {
              "outlinewidth": 0,
              "ticks": ""
             }
            },
            "type": "scattercarpet"
           }
          ],
          "scattergeo": [
           {
            "marker": {
             "colorbar": {
              "outlinewidth": 0,
              "ticks": ""
             }
            },
            "type": "scattergeo"
           }
          ],
          "scattergl": [
           {
            "marker": {
             "colorbar": {
              "outlinewidth": 0,
              "ticks": ""
             }
            },
            "type": "scattergl"
           }
          ],
          "scattermapbox": [
           {
            "marker": {
             "colorbar": {
              "outlinewidth": 0,
              "ticks": ""
             }
            },
            "type": "scattermapbox"
           }
          ],
          "scatterpolar": [
           {
            "marker": {
             "colorbar": {
              "outlinewidth": 0,
              "ticks": ""
             }
            },
            "type": "scatterpolar"
           }
          ],
          "scatterpolargl": [
           {
            "marker": {
             "colorbar": {
              "outlinewidth": 0,
              "ticks": ""
             }
            },
            "type": "scatterpolargl"
           }
          ],
          "scatterternary": [
           {
            "marker": {
             "colorbar": {
              "outlinewidth": 0,
              "ticks": ""
             }
            },
            "type": "scatterternary"
           }
          ],
          "surface": [
           {
            "colorbar": {
             "outlinewidth": 0,
             "ticks": ""
            },
            "colorscale": [
             [
              0,
              "#0d0887"
             ],
             [
              0.1111111111111111,
              "#46039f"
             ],
             [
              0.2222222222222222,
              "#7201a8"
             ],
             [
              0.3333333333333333,
              "#9c179e"
             ],
             [
              0.4444444444444444,
              "#bd3786"
             ],
             [
              0.5555555555555556,
              "#d8576b"
             ],
             [
              0.6666666666666666,
              "#ed7953"
             ],
             [
              0.7777777777777778,
              "#fb9f3a"
             ],
             [
              0.8888888888888888,
              "#fdca26"
             ],
             [
              1,
              "#f0f921"
             ]
            ],
            "type": "surface"
           }
          ],
          "table": [
           {
            "cells": {
             "fill": {
              "color": "#EBF0F8"
             },
             "line": {
              "color": "white"
             }
            },
            "header": {
             "fill": {
              "color": "#C8D4E3"
             },
             "line": {
              "color": "white"
             }
            },
            "type": "table"
           }
          ]
         },
         "layout": {
          "annotationdefaults": {
           "arrowcolor": "#2a3f5f",
           "arrowhead": 0,
           "arrowwidth": 1
          },
          "coloraxis": {
           "colorbar": {
            "outlinewidth": 0,
            "ticks": ""
           }
          },
          "colorscale": {
           "diverging": [
            [
             0,
             "#8e0152"
            ],
            [
             0.1,
             "#c51b7d"
            ],
            [
             0.2,
             "#de77ae"
            ],
            [
             0.3,
             "#f1b6da"
            ],
            [
             0.4,
             "#fde0ef"
            ],
            [
             0.5,
             "#f7f7f7"
            ],
            [
             0.6,
             "#e6f5d0"
            ],
            [
             0.7,
             "#b8e186"
            ],
            [
             0.8,
             "#7fbc41"
            ],
            [
             0.9,
             "#4d9221"
            ],
            [
             1,
             "#276419"
            ]
           ],
           "sequential": [
            [
             0,
             "#0d0887"
            ],
            [
             0.1111111111111111,
             "#46039f"
            ],
            [
             0.2222222222222222,
             "#7201a8"
            ],
            [
             0.3333333333333333,
             "#9c179e"
            ],
            [
             0.4444444444444444,
             "#bd3786"
            ],
            [
             0.5555555555555556,
             "#d8576b"
            ],
            [
             0.6666666666666666,
             "#ed7953"
            ],
            [
             0.7777777777777778,
             "#fb9f3a"
            ],
            [
             0.8888888888888888,
             "#fdca26"
            ],
            [
             1,
             "#f0f921"
            ]
           ],
           "sequentialminus": [
            [
             0,
             "#0d0887"
            ],
            [
             0.1111111111111111,
             "#46039f"
            ],
            [
             0.2222222222222222,
             "#7201a8"
            ],
            [
             0.3333333333333333,
             "#9c179e"
            ],
            [
             0.4444444444444444,
             "#bd3786"
            ],
            [
             0.5555555555555556,
             "#d8576b"
            ],
            [
             0.6666666666666666,
             "#ed7953"
            ],
            [
             0.7777777777777778,
             "#fb9f3a"
            ],
            [
             0.8888888888888888,
             "#fdca26"
            ],
            [
             1,
             "#f0f921"
            ]
           ]
          },
          "colorway": [
           "#636efa",
           "#EF553B",
           "#00cc96",
           "#ab63fa",
           "#FFA15A",
           "#19d3f3",
           "#FF6692",
           "#B6E880",
           "#FF97FF",
           "#FECB52"
          ],
          "font": {
           "color": "#2a3f5f"
          },
          "geo": {
           "bgcolor": "white",
           "lakecolor": "white",
           "landcolor": "#E5ECF6",
           "showlakes": true,
           "showland": true,
           "subunitcolor": "white"
          },
          "hoverlabel": {
           "align": "left"
          },
          "hovermode": "closest",
          "mapbox": {
           "style": "light"
          },
          "paper_bgcolor": "white",
          "plot_bgcolor": "#E5ECF6",
          "polar": {
           "angularaxis": {
            "gridcolor": "white",
            "linecolor": "white",
            "ticks": ""
           },
           "bgcolor": "#E5ECF6",
           "radialaxis": {
            "gridcolor": "white",
            "linecolor": "white",
            "ticks": ""
           }
          },
          "scene": {
           "xaxis": {
            "backgroundcolor": "#E5ECF6",
            "gridcolor": "white",
            "gridwidth": 2,
            "linecolor": "white",
            "showbackground": true,
            "ticks": "",
            "zerolinecolor": "white"
           },
           "yaxis": {
            "backgroundcolor": "#E5ECF6",
            "gridcolor": "white",
            "gridwidth": 2,
            "linecolor": "white",
            "showbackground": true,
            "ticks": "",
            "zerolinecolor": "white"
           },
           "zaxis": {
            "backgroundcolor": "#E5ECF6",
            "gridcolor": "white",
            "gridwidth": 2,
            "linecolor": "white",
            "showbackground": true,
            "ticks": "",
            "zerolinecolor": "white"
           }
          },
          "shapedefaults": {
           "line": {
            "color": "#2a3f5f"
           }
          },
          "ternary": {
           "aaxis": {
            "gridcolor": "white",
            "linecolor": "white",
            "ticks": ""
           },
           "baxis": {
            "gridcolor": "white",
            "linecolor": "white",
            "ticks": ""
           },
           "bgcolor": "#E5ECF6",
           "caxis": {
            "gridcolor": "white",
            "linecolor": "white",
            "ticks": ""
           }
          },
          "title": {
           "x": 0.05
          },
          "xaxis": {
           "automargin": true,
           "gridcolor": "white",
           "linecolor": "white",
           "ticks": "",
           "title": {
            "standoff": 15
           },
           "zerolinecolor": "white",
           "zerolinewidth": 2
          },
          "yaxis": {
           "automargin": true,
           "gridcolor": "white",
           "linecolor": "white",
           "ticks": "",
           "title": {
            "standoff": 15
           },
           "zerolinecolor": "white",
           "zerolinewidth": 2
          }
         }
        },
        "xaxis": {
         "title": {
          "text": "Size of BB in bytes (B = 1e9 = GB)"
         }
        },
        "yaxis": {
         "title": {
          "text": "Workflow duration in seconds"
         }
        }
       }
      }
     },
     "metadata": {},
     "output_type": "display_data"
    }
   ],
   "source": [
    "from cluster_simulator.utils import convex_hull\n",
    "points = []\n",
    "for (xi, yi) in zip(df['BB_size'].tolist(), (df['Fitness']).tolist()):\n",
    "    points.append((xi,yi))\n",
    "lower = convex_hull(points)\n",
    "fig.add_traces(go.Scatter(x=np.array([low[0] for low in lower]),\n",
    "                            y=np.array([low[1] for low in lower])))\n",
    "fig.show()"
   ]
  },
  {
   "cell_type": "markdown",
   "metadata": {},
   "source": [
    "Recommandation are elements from efficient/pareto frontier"
   ]
  },
  {
   "cell_type": "code",
   "execution_count": 14,
   "metadata": {},
   "outputs": [
    {
     "data": {
      "text/html": [
       "<div>\n",
       "<style scoped>\n",
       "    .dataframe tbody tr th:only-of-type {\n",
       "        vertical-align: middle;\n",
       "    }\n",
       "\n",
       "    .dataframe tbody tr th {\n",
       "        vertical-align: top;\n",
       "    }\n",
       "\n",
       "    .dataframe thead th {\n",
       "        text-align: right;\n",
       "    }\n",
       "</style>\n",
       "<table border=\"1\" class=\"dataframe\">\n",
       "  <thead>\n",
       "    <tr style=\"text-align: right;\">\n",
       "      <th></th>\n",
       "      <th>App#W9 tier place</th>\n",
       "      <th>App#W9 use bb</th>\n",
       "      <th>App#K2 tier place</th>\n",
       "      <th>App#K2 use bb</th>\n",
       "      <th>App#W6 tier place</th>\n",
       "      <th>App#W6 use bb</th>\n",
       "      <th>Fitness</th>\n",
       "      <th>BB_size</th>\n",
       "    </tr>\n",
       "  </thead>\n",
       "  <tbody>\n",
       "    <tr>\n",
       "      <th>29</th>\n",
       "      <td>[1.0, 1.0]</td>\n",
       "      <td>[False, False]</td>\n",
       "      <td>[0.0, 1.0, 1.0]</td>\n",
       "      <td>[False, False, False]</td>\n",
       "      <td>[1.0, 1.0]</td>\n",
       "      <td>[False, False]</td>\n",
       "      <td>398.214286</td>\n",
       "      <td>0.000000e+00</td>\n",
       "    </tr>\n",
       "    <tr>\n",
       "      <th>31</th>\n",
       "      <td>[0.0, 0.0]</td>\n",
       "      <td>[True, False]</td>\n",
       "      <td>[1.0, 1.0, 1.0]</td>\n",
       "      <td>[False, False, False]</td>\n",
       "      <td>[1.0, 1.0]</td>\n",
       "      <td>[False, False]</td>\n",
       "      <td>363.333333</td>\n",
       "      <td>1.000000e+09</td>\n",
       "    </tr>\n",
       "    <tr>\n",
       "      <th>4</th>\n",
       "      <td>[0.0, 0.0]</td>\n",
       "      <td>[True, True]</td>\n",
       "      <td>[0.0, 0.0, 1.0]</td>\n",
       "      <td>[True, False, False]</td>\n",
       "      <td>[0.0, 1.0]</td>\n",
       "      <td>[False, False]</td>\n",
       "      <td>290.000000</td>\n",
       "      <td>9.000000e+09</td>\n",
       "    </tr>\n",
       "    <tr>\n",
       "      <th>6</th>\n",
       "      <td>[1.0, 0.0]</td>\n",
       "      <td>[True, False]</td>\n",
       "      <td>[1.0, 1.0, 1.0]</td>\n",
       "      <td>[False, False, True]</td>\n",
       "      <td>[1.0, 1.0]</td>\n",
       "      <td>[False, True]</td>\n",
       "      <td>205.342888</td>\n",
       "      <td>1.800000e+10</td>\n",
       "    </tr>\n",
       "    <tr>\n",
       "      <th>129</th>\n",
       "      <td>[1, 0]</td>\n",
       "      <td>[False, False]</td>\n",
       "      <td>[1, 1, 1]</td>\n",
       "      <td>[False, True, True]</td>\n",
       "      <td>[1, 1]</td>\n",
       "      <td>[True, True]</td>\n",
       "      <td>177.112717</td>\n",
       "      <td>2.600000e+10</td>\n",
       "    </tr>\n",
       "  </tbody>\n",
       "</table>\n",
       "</div>"
      ],
      "text/plain": [
       "    App#W9 tier place   App#W9 use bb App#K2 tier place  \\\n",
       "29         [1.0, 1.0]  [False, False]   [0.0, 1.0, 1.0]   \n",
       "31         [0.0, 0.0]   [True, False]   [1.0, 1.0, 1.0]   \n",
       "4          [0.0, 0.0]    [True, True]   [0.0, 0.0, 1.0]   \n",
       "6          [1.0, 0.0]   [True, False]   [1.0, 1.0, 1.0]   \n",
       "129            [1, 0]  [False, False]         [1, 1, 1]   \n",
       "\n",
       "             App#K2 use bb App#W6 tier place   App#W6 use bb     Fitness  \\\n",
       "29   [False, False, False]        [1.0, 1.0]  [False, False]  398.214286   \n",
       "31   [False, False, False]        [1.0, 1.0]  [False, False]  363.333333   \n",
       "4     [True, False, False]        [0.0, 1.0]  [False, False]  290.000000   \n",
       "6     [False, False, True]        [1.0, 1.0]   [False, True]  205.342888   \n",
       "129    [False, True, True]            [1, 1]    [True, True]  177.112717   \n",
       "\n",
       "          BB_size  \n",
       "29   0.000000e+00  \n",
       "31   1.000000e+09  \n",
       "4    9.000000e+09  \n",
       "6    1.800000e+10  \n",
       "129  2.600000e+10  "
      ]
     },
     "execution_count": 14,
     "metadata": {},
     "output_type": "execute_result"
    }
   ],
   "source": [
    "rec_trials = [29, 31, 4, 6, 129]\n",
    "df.loc[rec_trials][df.columns[1:]]"
   ]
  },
  {
   "cell_type": "markdown",
   "metadata": {},
   "source": [
    "Display individual points (placement recommandation)"
   ]
  },
  {
   "cell_type": "code",
   "execution_count": null,
   "metadata": {},
   "outputs": [],
   "source": [
    "# if optimization object were kept:cbb.display_placement(placement=bbopt.best_parameters_in_grid)\n",
    "cbb.display_placement(df.loc[129][\"Param\"])\n",
    "#fig1.show()"
   ]
  },
  {
   "cell_type": "code",
   "execution_count": null,
   "metadata": {},
   "outputs": [],
   "source": []
  }
 ],
 "metadata": {
  "kernelspec": {
   "display_name": "Python 3",
   "language": "python",
   "name": "python3"
  },
  "language_info": {
   "codemirror_mode": {
    "name": "ipython",
    "version": 3
   },
   "file_extension": ".py",
   "mimetype": "text/x-python",
   "name": "python",
   "nbconvert_exporter": "python",
   "pygments_lexer": "ipython3",
   "version": "3.7.4"
  },
  "varInspector": {
   "cols": {
    "lenName": 16,
    "lenType": 16,
    "lenVar": 40
   },
   "kernels_config": {
    "python": {
     "delete_cmd_postfix": "",
     "delete_cmd_prefix": "del ",
     "library": "var_list.py",
     "varRefreshCmd": "print(var_dic_list())"
    },
    "r": {
     "delete_cmd_postfix": ") ",
     "delete_cmd_prefix": "rm(",
     "library": "var_list.r",
     "varRefreshCmd": "cat(var_dic_list()) "
    }
   },
   "types_to_exclude": [
    "module",
    "function",
    "builtin_function_or_method",
    "instance",
    "_Feature"
   ],
   "window_display": false
  },
  "vscode": {
   "interpreter": {
    "hash": "c87beb4c7de1fcbf6155f8da331fc04a584374d4c389d75c2ece6a4f03553c96"
   }
  }
 },
 "nbformat": 4,
 "nbformat_minor": 4
}
