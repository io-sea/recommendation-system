{
 "cells": [
  {
   "cell_type": "code",
   "execution_count": 1,
   "metadata": {},
   "outputs": [
    {
     "name": "stderr",
     "output_type": "stream",
     "text": [
      "c:\\Users\\a770398\\AppData\\Local\\Continuum\\anaconda3\\envs\\iosea-venv\\lib\\site-packages\\cma\\s.py:13: UserWarning:\n",
      "\n",
      "Could not import matplotlib.pyplot, therefore ``cma.plot()`` etc. is not available\n",
      "\n"
     ]
    }
   ],
   "source": [
    "import sys\n",
    "sys.path.append(\"../\") # go to parent dir\n",
    "# imports\n",
    "import simpy\n",
    "from loguru import logger\n",
    "import time\n",
    "from cluster_simulator.utils import convex_hull\n",
    "from cluster_simulator.cluster import Cluster, Tier, EphemeralTier, bandwidth_share_model, compute_share_model, get_tier, convert_size\n",
    "from cluster_simulator.phase import DelayPhase, ComputePhase, IOPhase\n",
    "from cluster_simulator.application import Application\n",
    "from cluster_simulator.analytics import display_run\n",
    "from cluster_simulator.ephemeral_placement import ClusterBlackBox"
   ]
  },
  {
   "cell_type": "markdown",
   "metadata": {},
   "source": [
    "Setting the Cluster"
   ]
  },
  {
   "cell_type": "code",
   "execution_count": 2,
   "metadata": {},
   "outputs": [],
   "source": [
    "# sim env an data\n",
    "env = simpy.Environment()\n",
    "data = simpy.Store(env)\n",
    "# tier perfs\n",
    "nvram_bandwidth = {'read':  {'seq': 800, 'rand': 800},\n",
    "                        'write': {'seq': 400, 'rand': 400}}\n",
    "ssd_bandwidth = {'read':  {'seq': 200, 'rand': 200},\n",
    "                    'write': {'seq': 100, 'rand': 100}}\n",
    "hdd_bandwidth = {'read':  {'seq': 80, 'rand': 80},\n",
    "                    'write': {'seq': 40, 'rand': 40}}\n",
    "\n",
    "# registering Tiers\n",
    "hdd_tier = Tier(env, 'HDD', bandwidth=hdd_bandwidth, capacity=1e12)\n",
    "ssd_tier = Tier(env, 'SSD', bandwidth=ssd_bandwidth, capacity=200e9)\n",
    "nvram_tier = Tier(env, 'NVRAM', bandwidth=nvram_bandwidth,\n",
    "                        capacity=10e9)\n",
    "# registering Ephemeral Tier\n",
    "bb = EphemeralTier(env, name=\"BB\", persistent_tier=hdd_tier,\n",
    "                        bandwidth=nvram_bandwidth, capacity=10e9)\n",
    "\n",
    "# Define the cluster with 1 persistent and 1 ephemeral\n",
    "cluster = Cluster(env, tiers=[hdd_tier], ephemeral_tier=bb)"
   ]
  },
  {
   "cell_type": "markdown",
   "metadata": {},
   "source": [
    "Behavior for no SBB app"
   ]
  },
  {
   "cell_type": "code",
   "execution_count": 3,
   "metadata": {},
   "outputs": [
    {
     "name": "stdout",
     "output_type": "stream",
     "text": [
      "application duration = 147.5\n"
     ]
    },
    {
     "data": {
      "application/vnd.plotly.v1+json": {
       "config": {
        "plotlyServerURL": "https://plot.ly"
       },
       "data": [
        {
         "line": {
          "shape": "linear"
         },
         "name": "app#J3",
         "text": [
          "READ|to/from:HDD|volume=1.0 GB",
          "READ|to/from:HDD|volume=1.0 GB",
          "COMPUTE|volume=0B",
          "COMPUTE|volume=0B",
          "WRITE|to/from:HDD|volume=5.0 GB",
          "WRITE|to/from:HDD|volume=5.0 GB"
         ],
         "textposition": "top center",
         "type": "scatter",
         "x": [
          0,
          12.5,
          12.5,
          22.5,
          22.5,
          147.5
         ],
         "xaxis": "x",
         "y": [
          80,
          80,
          0,
          0,
          40,
          40
         ],
         "yaxis": "y"
        },
        {
         "line": {
          "dash": "dot",
          "shape": "linear"
         },
         "name": "J3 mvt",
         "text": [],
         "textposition": "top center",
         "type": "scatter",
         "x": [],
         "xaxis": "x",
         "y": [],
         "yaxis": "y"
        },
        {
         "line": {
          "shape": "linear"
         },
         "name": "BB",
         "showlegend": false,
         "text": [
          "J3|Read|HDD | +volume=1.0 GB",
          "J3|Compute | +volume=0B",
          "J3|Write|HDD | +volume=5.0 GB"
         ],
         "textposition": "top center",
         "type": "scatter",
         "x": [
          0,
          12.5,
          22.5,
          147.5
         ],
         "xaxis": "x2",
         "y": [
          0,
          0,
          0,
          0
         ],
         "yaxis": "y2"
        },
        {
         "line": {
          "shape": "linear"
         },
         "name": "HDD",
         "showlegend": false,
         "text": [
          "J3|Read|HDD | +volume=1.0 GB",
          "J3|Compute | +volume=0B",
          "J3|Write|HDD | +volume=5.0 GB"
         ],
         "textposition": "top center",
         "type": "scatter",
         "x": [
          0,
          12.5,
          22.5,
          147.5
         ],
         "xaxis": "x3",
         "y": [
          0,
          999999999.9999999,
          999999999.9999999,
          6000000000
         ],
         "yaxis": "y3"
        },
        {
         "line": {
          "shape": "hv"
         },
         "showlegend": false,
         "type": "scatter",
         "x": [
          0,
          12.5,
          22.5,
          147.5
         ],
         "xaxis": "x4",
         "y": [
          1,
          1,
          1,
          0
         ],
         "yaxis": "y4"
        },
        {
         "line": {
          "color": "red",
          "dash": "dot",
          "shape": "hv",
          "width": 3
         },
         "showlegend": false,
         "text": [
          "Maximum available cores in cluster=2",
          "Maximum available cores in cluster=2"
         ],
         "type": "scatter",
         "x": [
          0,
          147.5
         ],
         "xaxis": "x4",
         "y": [
          2,
          2
         ],
         "yaxis": "y4"
        }
       ],
       "layout": {
        "annotations": [
         {
          "font": {
           "size": 16
          },
          "showarrow": false,
          "text": "J3",
          "x": 0.5,
          "xanchor": "center",
          "xref": "paper",
          "y": 1,
          "yanchor": "bottom",
          "yref": "paper"
         },
         {
          "font": {
           "size": 16
          },
          "showarrow": false,
          "text": "BB (10.0 GB)",
          "x": 0.5,
          "xanchor": "center",
          "xref": "paper",
          "y": 0.71875,
          "yanchor": "bottom",
          "yref": "paper"
         },
         {
          "font": {
           "size": 16
          },
          "showarrow": false,
          "text": "HDD (1.0 TB)",
          "x": 0.5,
          "xanchor": "center",
          "xref": "paper",
          "y": 0.4375,
          "yanchor": "bottom",
          "yref": "paper"
         },
         {
          "font": {
           "size": 16
          },
          "showarrow": false,
          "text": "CPU Cores",
          "x": 0.5,
          "xanchor": "center",
          "xref": "paper",
          "y": 0.15625,
          "yanchor": "bottom",
          "yref": "paper"
         }
        ],
        "height": 900,
        "template": {
         "data": {
          "bar": [
           {
            "error_x": {
             "color": "#2a3f5f"
            },
            "error_y": {
             "color": "#2a3f5f"
            },
            "marker": {
             "line": {
              "color": "#E5ECF6",
              "width": 0.5
             }
            },
            "type": "bar"
           }
          ],
          "barpolar": [
           {
            "marker": {
             "line": {
              "color": "#E5ECF6",
              "width": 0.5
             }
            },
            "type": "barpolar"
           }
          ],
          "carpet": [
           {
            "aaxis": {
             "endlinecolor": "#2a3f5f",
             "gridcolor": "white",
             "linecolor": "white",
             "minorgridcolor": "white",
             "startlinecolor": "#2a3f5f"
            },
            "baxis": {
             "endlinecolor": "#2a3f5f",
             "gridcolor": "white",
             "linecolor": "white",
             "minorgridcolor": "white",
             "startlinecolor": "#2a3f5f"
            },
            "type": "carpet"
           }
          ],
          "choropleth": [
           {
            "colorbar": {
             "outlinewidth": 0,
             "ticks": ""
            },
            "type": "choropleth"
           }
          ],
          "contour": [
           {
            "colorbar": {
             "outlinewidth": 0,
             "ticks": ""
            },
            "colorscale": [
             [
              0,
              "#0d0887"
             ],
             [
              0.1111111111111111,
              "#46039f"
             ],
             [
              0.2222222222222222,
              "#7201a8"
             ],
             [
              0.3333333333333333,
              "#9c179e"
             ],
             [
              0.4444444444444444,
              "#bd3786"
             ],
             [
              0.5555555555555556,
              "#d8576b"
             ],
             [
              0.6666666666666666,
              "#ed7953"
             ],
             [
              0.7777777777777778,
              "#fb9f3a"
             ],
             [
              0.8888888888888888,
              "#fdca26"
             ],
             [
              1,
              "#f0f921"
             ]
            ],
            "type": "contour"
           }
          ],
          "contourcarpet": [
           {
            "colorbar": {
             "outlinewidth": 0,
             "ticks": ""
            },
            "type": "contourcarpet"
           }
          ],
          "heatmap": [
           {
            "colorbar": {
             "outlinewidth": 0,
             "ticks": ""
            },
            "colorscale": [
             [
              0,
              "#0d0887"
             ],
             [
              0.1111111111111111,
              "#46039f"
             ],
             [
              0.2222222222222222,
              "#7201a8"
             ],
             [
              0.3333333333333333,
              "#9c179e"
             ],
             [
              0.4444444444444444,
              "#bd3786"
             ],
             [
              0.5555555555555556,
              "#d8576b"
             ],
             [
              0.6666666666666666,
              "#ed7953"
             ],
             [
              0.7777777777777778,
              "#fb9f3a"
             ],
             [
              0.8888888888888888,
              "#fdca26"
             ],
             [
              1,
              "#f0f921"
             ]
            ],
            "type": "heatmap"
           }
          ],
          "heatmapgl": [
           {
            "colorbar": {
             "outlinewidth": 0,
             "ticks": ""
            },
            "colorscale": [
             [
              0,
              "#0d0887"
             ],
             [
              0.1111111111111111,
              "#46039f"
             ],
             [
              0.2222222222222222,
              "#7201a8"
             ],
             [
              0.3333333333333333,
              "#9c179e"
             ],
             [
              0.4444444444444444,
              "#bd3786"
             ],
             [
              0.5555555555555556,
              "#d8576b"
             ],
             [
              0.6666666666666666,
              "#ed7953"
             ],
             [
              0.7777777777777778,
              "#fb9f3a"
             ],
             [
              0.8888888888888888,
              "#fdca26"
             ],
             [
              1,
              "#f0f921"
             ]
            ],
            "type": "heatmapgl"
           }
          ],
          "histogram": [
           {
            "marker": {
             "colorbar": {
              "outlinewidth": 0,
              "ticks": ""
             }
            },
            "type": "histogram"
           }
          ],
          "histogram2d": [
           {
            "colorbar": {
             "outlinewidth": 0,
             "ticks": ""
            },
            "colorscale": [
             [
              0,
              "#0d0887"
             ],
             [
              0.1111111111111111,
              "#46039f"
             ],
             [
              0.2222222222222222,
              "#7201a8"
             ],
             [
              0.3333333333333333,
              "#9c179e"
             ],
             [
              0.4444444444444444,
              "#bd3786"
             ],
             [
              0.5555555555555556,
              "#d8576b"
             ],
             [
              0.6666666666666666,
              "#ed7953"
             ],
             [
              0.7777777777777778,
              "#fb9f3a"
             ],
             [
              0.8888888888888888,
              "#fdca26"
             ],
             [
              1,
              "#f0f921"
             ]
            ],
            "type": "histogram2d"
           }
          ],
          "histogram2dcontour": [
           {
            "colorbar": {
             "outlinewidth": 0,
             "ticks": ""
            },
            "colorscale": [
             [
              0,
              "#0d0887"
             ],
             [
              0.1111111111111111,
              "#46039f"
             ],
             [
              0.2222222222222222,
              "#7201a8"
             ],
             [
              0.3333333333333333,
              "#9c179e"
             ],
             [
              0.4444444444444444,
              "#bd3786"
             ],
             [
              0.5555555555555556,
              "#d8576b"
             ],
             [
              0.6666666666666666,
              "#ed7953"
             ],
             [
              0.7777777777777778,
              "#fb9f3a"
             ],
             [
              0.8888888888888888,
              "#fdca26"
             ],
             [
              1,
              "#f0f921"
             ]
            ],
            "type": "histogram2dcontour"
           }
          ],
          "mesh3d": [
           {
            "colorbar": {
             "outlinewidth": 0,
             "ticks": ""
            },
            "type": "mesh3d"
           }
          ],
          "parcoords": [
           {
            "line": {
             "colorbar": {
              "outlinewidth": 0,
              "ticks": ""
             }
            },
            "type": "parcoords"
           }
          ],
          "pie": [
           {
            "automargin": true,
            "type": "pie"
           }
          ],
          "scatter": [
           {
            "marker": {
             "colorbar": {
              "outlinewidth": 0,
              "ticks": ""
             }
            },
            "type": "scatter"
           }
          ],
          "scatter3d": [
           {
            "line": {
             "colorbar": {
              "outlinewidth": 0,
              "ticks": ""
             }
            },
            "marker": {
             "colorbar": {
              "outlinewidth": 0,
              "ticks": ""
             }
            },
            "type": "scatter3d"
           }
          ],
          "scattercarpet": [
           {
            "marker": {
             "colorbar": {
              "outlinewidth": 0,
              "ticks": ""
             }
            },
            "type": "scattercarpet"
           }
          ],
          "scattergeo": [
           {
            "marker": {
             "colorbar": {
              "outlinewidth": 0,
              "ticks": ""
             }
            },
            "type": "scattergeo"
           }
          ],
          "scattergl": [
           {
            "marker": {
             "colorbar": {
              "outlinewidth": 0,
              "ticks": ""
             }
            },
            "type": "scattergl"
           }
          ],
          "scattermapbox": [
           {
            "marker": {
             "colorbar": {
              "outlinewidth": 0,
              "ticks": ""
             }
            },
            "type": "scattermapbox"
           }
          ],
          "scatterpolar": [
           {
            "marker": {
             "colorbar": {
              "outlinewidth": 0,
              "ticks": ""
             }
            },
            "type": "scatterpolar"
           }
          ],
          "scatterpolargl": [
           {
            "marker": {
             "colorbar": {
              "outlinewidth": 0,
              "ticks": ""
             }
            },
            "type": "scatterpolargl"
           }
          ],
          "scatterternary": [
           {
            "marker": {
             "colorbar": {
              "outlinewidth": 0,
              "ticks": ""
             }
            },
            "type": "scatterternary"
           }
          ],
          "surface": [
           {
            "colorbar": {
             "outlinewidth": 0,
             "ticks": ""
            },
            "colorscale": [
             [
              0,
              "#0d0887"
             ],
             [
              0.1111111111111111,
              "#46039f"
             ],
             [
              0.2222222222222222,
              "#7201a8"
             ],
             [
              0.3333333333333333,
              "#9c179e"
             ],
             [
              0.4444444444444444,
              "#bd3786"
             ],
             [
              0.5555555555555556,
              "#d8576b"
             ],
             [
              0.6666666666666666,
              "#ed7953"
             ],
             [
              0.7777777777777778,
              "#fb9f3a"
             ],
             [
              0.8888888888888888,
              "#fdca26"
             ],
             [
              1,
              "#f0f921"
             ]
            ],
            "type": "surface"
           }
          ],
          "table": [
           {
            "cells": {
             "fill": {
              "color": "#EBF0F8"
             },
             "line": {
              "color": "white"
             }
            },
            "header": {
             "fill": {
              "color": "#C8D4E3"
             },
             "line": {
              "color": "white"
             }
            },
            "type": "table"
           }
          ]
         },
         "layout": {
          "annotationdefaults": {
           "arrowcolor": "#2a3f5f",
           "arrowhead": 0,
           "arrowwidth": 1
          },
          "coloraxis": {
           "colorbar": {
            "outlinewidth": 0,
            "ticks": ""
           }
          },
          "colorscale": {
           "diverging": [
            [
             0,
             "#8e0152"
            ],
            [
             0.1,
             "#c51b7d"
            ],
            [
             0.2,
             "#de77ae"
            ],
            [
             0.3,
             "#f1b6da"
            ],
            [
             0.4,
             "#fde0ef"
            ],
            [
             0.5,
             "#f7f7f7"
            ],
            [
             0.6,
             "#e6f5d0"
            ],
            [
             0.7,
             "#b8e186"
            ],
            [
             0.8,
             "#7fbc41"
            ],
            [
             0.9,
             "#4d9221"
            ],
            [
             1,
             "#276419"
            ]
           ],
           "sequential": [
            [
             0,
             "#0d0887"
            ],
            [
             0.1111111111111111,
             "#46039f"
            ],
            [
             0.2222222222222222,
             "#7201a8"
            ],
            [
             0.3333333333333333,
             "#9c179e"
            ],
            [
             0.4444444444444444,
             "#bd3786"
            ],
            [
             0.5555555555555556,
             "#d8576b"
            ],
            [
             0.6666666666666666,
             "#ed7953"
            ],
            [
             0.7777777777777778,
             "#fb9f3a"
            ],
            [
             0.8888888888888888,
             "#fdca26"
            ],
            [
             1,
             "#f0f921"
            ]
           ],
           "sequentialminus": [
            [
             0,
             "#0d0887"
            ],
            [
             0.1111111111111111,
             "#46039f"
            ],
            [
             0.2222222222222222,
             "#7201a8"
            ],
            [
             0.3333333333333333,
             "#9c179e"
            ],
            [
             0.4444444444444444,
             "#bd3786"
            ],
            [
             0.5555555555555556,
             "#d8576b"
            ],
            [
             0.6666666666666666,
             "#ed7953"
            ],
            [
             0.7777777777777778,
             "#fb9f3a"
            ],
            [
             0.8888888888888888,
             "#fdca26"
            ],
            [
             1,
             "#f0f921"
            ]
           ]
          },
          "colorway": [
           "#636efa",
           "#EF553B",
           "#00cc96",
           "#ab63fa",
           "#FFA15A",
           "#19d3f3",
           "#FF6692",
           "#B6E880",
           "#FF97FF",
           "#FECB52"
          ],
          "font": {
           "color": "#2a3f5f"
          },
          "geo": {
           "bgcolor": "white",
           "lakecolor": "white",
           "landcolor": "#E5ECF6",
           "showlakes": true,
           "showland": true,
           "subunitcolor": "white"
          },
          "hoverlabel": {
           "align": "left"
          },
          "hovermode": "closest",
          "mapbox": {
           "style": "light"
          },
          "paper_bgcolor": "white",
          "plot_bgcolor": "#E5ECF6",
          "polar": {
           "angularaxis": {
            "gridcolor": "white",
            "linecolor": "white",
            "ticks": ""
           },
           "bgcolor": "#E5ECF6",
           "radialaxis": {
            "gridcolor": "white",
            "linecolor": "white",
            "ticks": ""
           }
          },
          "scene": {
           "xaxis": {
            "backgroundcolor": "#E5ECF6",
            "gridcolor": "white",
            "gridwidth": 2,
            "linecolor": "white",
            "showbackground": true,
            "ticks": "",
            "zerolinecolor": "white"
           },
           "yaxis": {
            "backgroundcolor": "#E5ECF6",
            "gridcolor": "white",
            "gridwidth": 2,
            "linecolor": "white",
            "showbackground": true,
            "ticks": "",
            "zerolinecolor": "white"
           },
           "zaxis": {
            "backgroundcolor": "#E5ECF6",
            "gridcolor": "white",
            "gridwidth": 2,
            "linecolor": "white",
            "showbackground": true,
            "ticks": "",
            "zerolinecolor": "white"
           }
          },
          "shapedefaults": {
           "line": {
            "color": "#2a3f5f"
           }
          },
          "ternary": {
           "aaxis": {
            "gridcolor": "white",
            "linecolor": "white",
            "ticks": ""
           },
           "baxis": {
            "gridcolor": "white",
            "linecolor": "white",
            "ticks": ""
           },
           "bgcolor": "#E5ECF6",
           "caxis": {
            "gridcolor": "white",
            "linecolor": "white",
            "ticks": ""
           }
          },
          "title": {
           "x": 0.05
          },
          "xaxis": {
           "automargin": true,
           "gridcolor": "white",
           "linecolor": "white",
           "ticks": "",
           "title": {
            "standoff": 15
           },
           "zerolinecolor": "white",
           "zerolinewidth": 2
          },
          "yaxis": {
           "automargin": true,
           "gridcolor": "white",
           "linecolor": "white",
           "ticks": "",
           "title": {
            "standoff": 15
           },
           "zerolinecolor": "white",
           "zerolinewidth": 2
          }
         }
        },
        "title": {
         "text": "State of the Cluster"
        },
        "width": 800,
        "xaxis": {
         "anchor": "y",
         "domain": [
          0,
          1
         ],
         "matches": "x4",
         "showticklabels": false,
         "title": {
          "text": "time in s"
         }
        },
        "xaxis2": {
         "anchor": "y2",
         "domain": [
          0,
          1
         ],
         "matches": "x4",
         "showticklabels": false,
         "title": {
          "text": "time in s"
         }
        },
        "xaxis3": {
         "anchor": "y3",
         "domain": [
          0,
          1
         ],
         "matches": "x4",
         "showticklabels": false,
         "title": {
          "text": "time in s"
         }
        },
        "xaxis4": {
         "anchor": "y4",
         "domain": [
          0,
          1
         ],
         "title": {
          "text": "time in s"
         }
        },
        "yaxis": {
         "anchor": "x",
         "domain": [
          0.84375,
          1
         ],
         "title": {
          "text": "dataflow in MB/s"
         }
        },
        "yaxis2": {
         "anchor": "x2",
         "domain": [
          0.5625,
          0.71875
         ],
         "title": {
          "text": "BB usage in Bytes"
         }
        },
        "yaxis3": {
         "anchor": "x3",
         "domain": [
          0.28125,
          0.4375
         ],
         "title": {
          "text": "HDD usage in Bytes"
         }
        },
        "yaxis4": {
         "anchor": "x4",
         "domain": [
          0,
          0.15625
         ],
         "title": {
          "text": "CPU usage"
         }
        }
       }
      }
     },
     "metadata": {},
     "output_type": "display_data"
    }
   ],
   "source": [
    "# logger\n",
    "logger.remove()\n",
    "# Simple app: read 1GB -> compute 10s -> write 5GB\n",
    "compute = [0,  10]\n",
    "read = [1e9, 0]\n",
    "write = [0, 5e9]\n",
    "placement = [0, 0]\n",
    "use_bb = [False, False]\n",
    "app1 = Application(env, compute=compute, read=read, write=write, data=data)\n",
    "env.process(app1.run(cluster, placement=placement, use_bb=use_bb))\n",
    "env.run()\n",
    "print(f\"application duration = {app1.get_fitness()}\")\n",
    "fig = display_run(data, cluster, width=800, height=900)\n",
    "fig.show()\n"
   ]
  },
  {
   "cell_type": "code",
   "execution_count": 4,
   "metadata": {},
   "outputs": [
    {
     "name": "stdout",
     "output_type": "stream",
     "text": [
      "application duration = 47.5\n"
     ]
    },
    {
     "data": {
      "application/vnd.plotly.v1+json": {
       "config": {
        "plotlyServerURL": "https://plot.ly"
       },
       "data": [
        {
         "line": {
          "shape": "linear"
         },
         "name": "app#N8",
         "text": [
          "READ|to/from:HDD|volume=1.0 GB",
          "READ|to/from:HDD|volume=1.0 GB",
          "COMPUTE|volume=0B",
          "COMPUTE|volume=0B",
          "WRITE|to/from:BB|volume=5.0 GB",
          "WRITE|to/from:BB|volume=5.0 GB"
         ],
         "textposition": "top center",
         "type": "scatter",
         "x": [
          147.5,
          160,
          160,
          170,
          170,
          195
         ],
         "xaxis": "x",
         "y": [
          80,
          80,
          0,
          0,
          200,
          200
         ],
         "yaxis": "y"
        },
        {
         "line": {
          "dash": "dot",
          "shape": "linear"
         },
         "name": "N8 mvt",
         "text": [
          "MOVEMENT|in:HDD|from:BB|volume=1.0 GB",
          "MOVEMENT|in:HDD|volume=1.0 GB",
          "MOVEMENT|in:HDD|from:BB|volume=4.0 GB",
          "MOVEMENT|in:HDD|volume=4.0 GB"
         ],
         "textposition": "top center",
         "type": "scatter",
         "x": [
          170,
          195,
          195,
          295
         ],
         "xaxis": "x",
         "y": [
          40,
          40,
          40,
          40
         ],
         "yaxis": "y"
        },
        {
         "line": {
          "shape": "linear"
         },
         "name": "BB",
         "showlegend": false,
         "text": [
          "N8|Read|HDD | +volume=1.0 GB",
          "N8|Compute | +volume=0B",
          "N8|Write|BB | +volume=5.0 GB",
          "N8|Movement|HDD | +volume=1.0 GB",
          "N8|Movement|HDD | +volume=4.0 GB"
         ],
         "textposition": "top center",
         "type": "scatter",
         "x": [
          147.5,
          160,
          170,
          195,
          295
         ],
         "xaxis": "x2",
         "y": [
          0,
          0,
          0,
          5000000000,
          5000000000
         ],
         "yaxis": "y2"
        },
        {
         "line": {
          "shape": "linear"
         },
         "name": "HDD",
         "showlegend": false,
         "text": [
          "N8|Read|HDD | +volume=1.0 GB",
          "N8|Compute | +volume=0B",
          "N8|Write|BB | +volume=5.0 GB",
          "N8|Movement|HDD | +volume=1.0 GB",
          "N8|Movement|HDD | +volume=4.0 GB"
         ],
         "textposition": "top center",
         "type": "scatter",
         "x": [
          147.5,
          160,
          170,
          195,
          295
         ],
         "xaxis": "x3",
         "y": [
          6000000000,
          6000000000,
          6000000000,
          7000000000,
          11000000000
         ],
         "yaxis": "y3"
        },
        {
         "line": {
          "shape": "hv"
         },
         "showlegend": false,
         "type": "scatter",
         "x": [
          147.5,
          160,
          170,
          195,
          295
         ],
         "xaxis": "x4",
         "y": [
          1,
          1,
          2,
          1,
          0
         ],
         "yaxis": "y4"
        },
        {
         "line": {
          "color": "red",
          "dash": "dot",
          "shape": "hv",
          "width": 3
         },
         "showlegend": false,
         "text": [
          "Maximum available cores in cluster=2",
          "Maximum available cores in cluster=2"
         ],
         "type": "scatter",
         "x": [
          147.5,
          295
         ],
         "xaxis": "x4",
         "y": [
          2,
          2
         ],
         "yaxis": "y4"
        }
       ],
       "layout": {
        "annotations": [
         {
          "font": {
           "size": 16
          },
          "showarrow": false,
          "text": "N8",
          "x": 0.5,
          "xanchor": "center",
          "xref": "paper",
          "y": 1,
          "yanchor": "bottom",
          "yref": "paper"
         },
         {
          "font": {
           "size": 16
          },
          "showarrow": false,
          "text": "BB (10.0 GB)",
          "x": 0.5,
          "xanchor": "center",
          "xref": "paper",
          "y": 0.71875,
          "yanchor": "bottom",
          "yref": "paper"
         },
         {
          "font": {
           "size": 16
          },
          "showarrow": false,
          "text": "HDD (1.0 TB)",
          "x": 0.5,
          "xanchor": "center",
          "xref": "paper",
          "y": 0.4375,
          "yanchor": "bottom",
          "yref": "paper"
         },
         {
          "font": {
           "size": 16
          },
          "showarrow": false,
          "text": "CPU Cores",
          "x": 0.5,
          "xanchor": "center",
          "xref": "paper",
          "y": 0.15625,
          "yanchor": "bottom",
          "yref": "paper"
         }
        ],
        "height": 900,
        "template": {
         "data": {
          "bar": [
           {
            "error_x": {
             "color": "#2a3f5f"
            },
            "error_y": {
             "color": "#2a3f5f"
            },
            "marker": {
             "line": {
              "color": "#E5ECF6",
              "width": 0.5
             }
            },
            "type": "bar"
           }
          ],
          "barpolar": [
           {
            "marker": {
             "line": {
              "color": "#E5ECF6",
              "width": 0.5
             }
            },
            "type": "barpolar"
           }
          ],
          "carpet": [
           {
            "aaxis": {
             "endlinecolor": "#2a3f5f",
             "gridcolor": "white",
             "linecolor": "white",
             "minorgridcolor": "white",
             "startlinecolor": "#2a3f5f"
            },
            "baxis": {
             "endlinecolor": "#2a3f5f",
             "gridcolor": "white",
             "linecolor": "white",
             "minorgridcolor": "white",
             "startlinecolor": "#2a3f5f"
            },
            "type": "carpet"
           }
          ],
          "choropleth": [
           {
            "colorbar": {
             "outlinewidth": 0,
             "ticks": ""
            },
            "type": "choropleth"
           }
          ],
          "contour": [
           {
            "colorbar": {
             "outlinewidth": 0,
             "ticks": ""
            },
            "colorscale": [
             [
              0,
              "#0d0887"
             ],
             [
              0.1111111111111111,
              "#46039f"
             ],
             [
              0.2222222222222222,
              "#7201a8"
             ],
             [
              0.3333333333333333,
              "#9c179e"
             ],
             [
              0.4444444444444444,
              "#bd3786"
             ],
             [
              0.5555555555555556,
              "#d8576b"
             ],
             [
              0.6666666666666666,
              "#ed7953"
             ],
             [
              0.7777777777777778,
              "#fb9f3a"
             ],
             [
              0.8888888888888888,
              "#fdca26"
             ],
             [
              1,
              "#f0f921"
             ]
            ],
            "type": "contour"
           }
          ],
          "contourcarpet": [
           {
            "colorbar": {
             "outlinewidth": 0,
             "ticks": ""
            },
            "type": "contourcarpet"
           }
          ],
          "heatmap": [
           {
            "colorbar": {
             "outlinewidth": 0,
             "ticks": ""
            },
            "colorscale": [
             [
              0,
              "#0d0887"
             ],
             [
              0.1111111111111111,
              "#46039f"
             ],
             [
              0.2222222222222222,
              "#7201a8"
             ],
             [
              0.3333333333333333,
              "#9c179e"
             ],
             [
              0.4444444444444444,
              "#bd3786"
             ],
             [
              0.5555555555555556,
              "#d8576b"
             ],
             [
              0.6666666666666666,
              "#ed7953"
             ],
             [
              0.7777777777777778,
              "#fb9f3a"
             ],
             [
              0.8888888888888888,
              "#fdca26"
             ],
             [
              1,
              "#f0f921"
             ]
            ],
            "type": "heatmap"
           }
          ],
          "heatmapgl": [
           {
            "colorbar": {
             "outlinewidth": 0,
             "ticks": ""
            },
            "colorscale": [
             [
              0,
              "#0d0887"
             ],
             [
              0.1111111111111111,
              "#46039f"
             ],
             [
              0.2222222222222222,
              "#7201a8"
             ],
             [
              0.3333333333333333,
              "#9c179e"
             ],
             [
              0.4444444444444444,
              "#bd3786"
             ],
             [
              0.5555555555555556,
              "#d8576b"
             ],
             [
              0.6666666666666666,
              "#ed7953"
             ],
             [
              0.7777777777777778,
              "#fb9f3a"
             ],
             [
              0.8888888888888888,
              "#fdca26"
             ],
             [
              1,
              "#f0f921"
             ]
            ],
            "type": "heatmapgl"
           }
          ],
          "histogram": [
           {
            "marker": {
             "colorbar": {
              "outlinewidth": 0,
              "ticks": ""
             }
            },
            "type": "histogram"
           }
          ],
          "histogram2d": [
           {
            "colorbar": {
             "outlinewidth": 0,
             "ticks": ""
            },
            "colorscale": [
             [
              0,
              "#0d0887"
             ],
             [
              0.1111111111111111,
              "#46039f"
             ],
             [
              0.2222222222222222,
              "#7201a8"
             ],
             [
              0.3333333333333333,
              "#9c179e"
             ],
             [
              0.4444444444444444,
              "#bd3786"
             ],
             [
              0.5555555555555556,
              "#d8576b"
             ],
             [
              0.6666666666666666,
              "#ed7953"
             ],
             [
              0.7777777777777778,
              "#fb9f3a"
             ],
             [
              0.8888888888888888,
              "#fdca26"
             ],
             [
              1,
              "#f0f921"
             ]
            ],
            "type": "histogram2d"
           }
          ],
          "histogram2dcontour": [
           {
            "colorbar": {
             "outlinewidth": 0,
             "ticks": ""
            },
            "colorscale": [
             [
              0,
              "#0d0887"
             ],
             [
              0.1111111111111111,
              "#46039f"
             ],
             [
              0.2222222222222222,
              "#7201a8"
             ],
             [
              0.3333333333333333,
              "#9c179e"
             ],
             [
              0.4444444444444444,
              "#bd3786"
             ],
             [
              0.5555555555555556,
              "#d8576b"
             ],
             [
              0.6666666666666666,
              "#ed7953"
             ],
             [
              0.7777777777777778,
              "#fb9f3a"
             ],
             [
              0.8888888888888888,
              "#fdca26"
             ],
             [
              1,
              "#f0f921"
             ]
            ],
            "type": "histogram2dcontour"
           }
          ],
          "mesh3d": [
           {
            "colorbar": {
             "outlinewidth": 0,
             "ticks": ""
            },
            "type": "mesh3d"
           }
          ],
          "parcoords": [
           {
            "line": {
             "colorbar": {
              "outlinewidth": 0,
              "ticks": ""
             }
            },
            "type": "parcoords"
           }
          ],
          "pie": [
           {
            "automargin": true,
            "type": "pie"
           }
          ],
          "scatter": [
           {
            "marker": {
             "colorbar": {
              "outlinewidth": 0,
              "ticks": ""
             }
            },
            "type": "scatter"
           }
          ],
          "scatter3d": [
           {
            "line": {
             "colorbar": {
              "outlinewidth": 0,
              "ticks": ""
             }
            },
            "marker": {
             "colorbar": {
              "outlinewidth": 0,
              "ticks": ""
             }
            },
            "type": "scatter3d"
           }
          ],
          "scattercarpet": [
           {
            "marker": {
             "colorbar": {
              "outlinewidth": 0,
              "ticks": ""
             }
            },
            "type": "scattercarpet"
           }
          ],
          "scattergeo": [
           {
            "marker": {
             "colorbar": {
              "outlinewidth": 0,
              "ticks": ""
             }
            },
            "type": "scattergeo"
           }
          ],
          "scattergl": [
           {
            "marker": {
             "colorbar": {
              "outlinewidth": 0,
              "ticks": ""
             }
            },
            "type": "scattergl"
           }
          ],
          "scattermapbox": [
           {
            "marker": {
             "colorbar": {
              "outlinewidth": 0,
              "ticks": ""
             }
            },
            "type": "scattermapbox"
           }
          ],
          "scatterpolar": [
           {
            "marker": {
             "colorbar": {
              "outlinewidth": 0,
              "ticks": ""
             }
            },
            "type": "scatterpolar"
           }
          ],
          "scatterpolargl": [
           {
            "marker": {
             "colorbar": {
              "outlinewidth": 0,
              "ticks": ""
             }
            },
            "type": "scatterpolargl"
           }
          ],
          "scatterternary": [
           {
            "marker": {
             "colorbar": {
              "outlinewidth": 0,
              "ticks": ""
             }
            },
            "type": "scatterternary"
           }
          ],
          "surface": [
           {
            "colorbar": {
             "outlinewidth": 0,
             "ticks": ""
            },
            "colorscale": [
             [
              0,
              "#0d0887"
             ],
             [
              0.1111111111111111,
              "#46039f"
             ],
             [
              0.2222222222222222,
              "#7201a8"
             ],
             [
              0.3333333333333333,
              "#9c179e"
             ],
             [
              0.4444444444444444,
              "#bd3786"
             ],
             [
              0.5555555555555556,
              "#d8576b"
             ],
             [
              0.6666666666666666,
              "#ed7953"
             ],
             [
              0.7777777777777778,
              "#fb9f3a"
             ],
             [
              0.8888888888888888,
              "#fdca26"
             ],
             [
              1,
              "#f0f921"
             ]
            ],
            "type": "surface"
           }
          ],
          "table": [
           {
            "cells": {
             "fill": {
              "color": "#EBF0F8"
             },
             "line": {
              "color": "white"
             }
            },
            "header": {
             "fill": {
              "color": "#C8D4E3"
             },
             "line": {
              "color": "white"
             }
            },
            "type": "table"
           }
          ]
         },
         "layout": {
          "annotationdefaults": {
           "arrowcolor": "#2a3f5f",
           "arrowhead": 0,
           "arrowwidth": 1
          },
          "coloraxis": {
           "colorbar": {
            "outlinewidth": 0,
            "ticks": ""
           }
          },
          "colorscale": {
           "diverging": [
            [
             0,
             "#8e0152"
            ],
            [
             0.1,
             "#c51b7d"
            ],
            [
             0.2,
             "#de77ae"
            ],
            [
             0.3,
             "#f1b6da"
            ],
            [
             0.4,
             "#fde0ef"
            ],
            [
             0.5,
             "#f7f7f7"
            ],
            [
             0.6,
             "#e6f5d0"
            ],
            [
             0.7,
             "#b8e186"
            ],
            [
             0.8,
             "#7fbc41"
            ],
            [
             0.9,
             "#4d9221"
            ],
            [
             1,
             "#276419"
            ]
           ],
           "sequential": [
            [
             0,
             "#0d0887"
            ],
            [
             0.1111111111111111,
             "#46039f"
            ],
            [
             0.2222222222222222,
             "#7201a8"
            ],
            [
             0.3333333333333333,
             "#9c179e"
            ],
            [
             0.4444444444444444,
             "#bd3786"
            ],
            [
             0.5555555555555556,
             "#d8576b"
            ],
            [
             0.6666666666666666,
             "#ed7953"
            ],
            [
             0.7777777777777778,
             "#fb9f3a"
            ],
            [
             0.8888888888888888,
             "#fdca26"
            ],
            [
             1,
             "#f0f921"
            ]
           ],
           "sequentialminus": [
            [
             0,
             "#0d0887"
            ],
            [
             0.1111111111111111,
             "#46039f"
            ],
            [
             0.2222222222222222,
             "#7201a8"
            ],
            [
             0.3333333333333333,
             "#9c179e"
            ],
            [
             0.4444444444444444,
             "#bd3786"
            ],
            [
             0.5555555555555556,
             "#d8576b"
            ],
            [
             0.6666666666666666,
             "#ed7953"
            ],
            [
             0.7777777777777778,
             "#fb9f3a"
            ],
            [
             0.8888888888888888,
             "#fdca26"
            ],
            [
             1,
             "#f0f921"
            ]
           ]
          },
          "colorway": [
           "#636efa",
           "#EF553B",
           "#00cc96",
           "#ab63fa",
           "#FFA15A",
           "#19d3f3",
           "#FF6692",
           "#B6E880",
           "#FF97FF",
           "#FECB52"
          ],
          "font": {
           "color": "#2a3f5f"
          },
          "geo": {
           "bgcolor": "white",
           "lakecolor": "white",
           "landcolor": "#E5ECF6",
           "showlakes": true,
           "showland": true,
           "subunitcolor": "white"
          },
          "hoverlabel": {
           "align": "left"
          },
          "hovermode": "closest",
          "mapbox": {
           "style": "light"
          },
          "paper_bgcolor": "white",
          "plot_bgcolor": "#E5ECF6",
          "polar": {
           "angularaxis": {
            "gridcolor": "white",
            "linecolor": "white",
            "ticks": ""
           },
           "bgcolor": "#E5ECF6",
           "radialaxis": {
            "gridcolor": "white",
            "linecolor": "white",
            "ticks": ""
           }
          },
          "scene": {
           "xaxis": {
            "backgroundcolor": "#E5ECF6",
            "gridcolor": "white",
            "gridwidth": 2,
            "linecolor": "white",
            "showbackground": true,
            "ticks": "",
            "zerolinecolor": "white"
           },
           "yaxis": {
            "backgroundcolor": "#E5ECF6",
            "gridcolor": "white",
            "gridwidth": 2,
            "linecolor": "white",
            "showbackground": true,
            "ticks": "",
            "zerolinecolor": "white"
           },
           "zaxis": {
            "backgroundcolor": "#E5ECF6",
            "gridcolor": "white",
            "gridwidth": 2,
            "linecolor": "white",
            "showbackground": true,
            "ticks": "",
            "zerolinecolor": "white"
           }
          },
          "shapedefaults": {
           "line": {
            "color": "#2a3f5f"
           }
          },
          "ternary": {
           "aaxis": {
            "gridcolor": "white",
            "linecolor": "white",
            "ticks": ""
           },
           "baxis": {
            "gridcolor": "white",
            "linecolor": "white",
            "ticks": ""
           },
           "bgcolor": "#E5ECF6",
           "caxis": {
            "gridcolor": "white",
            "linecolor": "white",
            "ticks": ""
           }
          },
          "title": {
           "x": 0.05
          },
          "xaxis": {
           "automargin": true,
           "gridcolor": "white",
           "linecolor": "white",
           "ticks": "",
           "title": {
            "standoff": 15
           },
           "zerolinecolor": "white",
           "zerolinewidth": 2
          },
          "yaxis": {
           "automargin": true,
           "gridcolor": "white",
           "linecolor": "white",
           "ticks": "",
           "title": {
            "standoff": 15
           },
           "zerolinecolor": "white",
           "zerolinewidth": 2
          }
         }
        },
        "title": {
         "text": "State of the Cluster"
        },
        "width": 800,
        "xaxis": {
         "anchor": "y",
         "domain": [
          0,
          1
         ],
         "matches": "x4",
         "showticklabels": false,
         "title": {
          "text": "time in s"
         }
        },
        "xaxis2": {
         "anchor": "y2",
         "domain": [
          0,
          1
         ],
         "matches": "x4",
         "showticklabels": false,
         "title": {
          "text": "time in s"
         }
        },
        "xaxis3": {
         "anchor": "y3",
         "domain": [
          0,
          1
         ],
         "matches": "x4",
         "showticklabels": false,
         "title": {
          "text": "time in s"
         }
        },
        "xaxis4": {
         "anchor": "y4",
         "domain": [
          0,
          1
         ],
         "title": {
          "text": "time in s"
         }
        },
        "yaxis": {
         "anchor": "x",
         "domain": [
          0.84375,
          1
         ],
         "title": {
          "text": "dataflow in MB/s"
         }
        },
        "yaxis2": {
         "anchor": "x2",
         "domain": [
          0.5625,
          0.71875
         ],
         "title": {
          "text": "BB usage in Bytes"
         }
        },
        "yaxis3": {
         "anchor": "x3",
         "domain": [
          0.28125,
          0.4375
         ],
         "title": {
          "text": "HDD usage in Bytes"
         }
        },
        "yaxis4": {
         "anchor": "x4",
         "domain": [
          0,
          0.15625
         ],
         "title": {
          "text": "CPU usage"
         }
        }
       }
      }
     },
     "metadata": {},
     "output_type": "display_data"
    }
   ],
   "source": [
    "# logger\n",
    "# sim env an data\n",
    "data = simpy.Store(env)\n",
    "logger.remove()\n",
    "# Simple app: read 1GB -> compute 10s -> write 5GB\n",
    "compute = [0,  10]\n",
    "read = [1e9, 0]\n",
    "write = [0, 5e9]\n",
    "placement = [0, 0]\n",
    "use_bb = [False, True]\n",
    "app = Application(env, compute=compute, read=read, write=write, data=data)\n",
    "env.process(app.run(cluster, placement=placement, use_bb=use_bb))\n",
    "env.run()\n",
    "print(f\"application duration = {app.get_fitness()}\")\n",
    "fig = display_run(data, cluster, width=800, height=900)\n",
    "fig.show()\n"
   ]
  },
  {
   "cell_type": "code",
   "execution_count": 5,
   "metadata": {},
   "outputs": [
    {
     "name": "stdout",
     "output_type": "stream",
     "text": [
      "application duration = 136.25\n"
     ]
    },
    {
     "data": {
      "application/vnd.plotly.v1+json": {
       "config": {
        "plotlyServerURL": "https://plot.ly"
       },
       "data": [
        {
         "line": {
          "shape": "linear"
         },
         "name": "app#S4",
         "text": [
          "READ|to/from:BB|volume=1.0 GB",
          "READ|to/from:BB|volume=1.0 GB",
          "COMPUTE|volume=0B",
          "COMPUTE|volume=0B",
          "WRITE|to/from:HDD|volume=5.0 GB",
          "WRITE|to/from:HDD|volume=5.0 GB"
         ],
         "textposition": "top center",
         "type": "scatter",
         "x": [
          307.5,
          308.75,
          308.75,
          318.75,
          318.75,
          443.75
         ],
         "xaxis": "x",
         "y": [
          800,
          800,
          0,
          0,
          40,
          40
         ],
         "yaxis": "y"
        },
        {
         "line": {
          "dash": "dot",
          "shape": "linear"
         },
         "name": "S4 mvt",
         "text": [
          "MOVEMENT|in:BB|from:HDD|volume=1.0 GB",
          "MOVEMENT|in:BB|volume=1.0 GB"
         ],
         "textposition": "top center",
         "type": "scatter",
         "x": [
          295,
          307.5
         ],
         "xaxis": "x",
         "y": [
          80,
          80
         ],
         "yaxis": "y"
        },
        {
         "line": {
          "shape": "linear"
         },
         "name": "BB",
         "showlegend": false,
         "text": [
          "S4|Movement|BB | +volume=1.0 GB",
          "S4|Read|BB | +volume=1.0 GB",
          "S4|Compute | +volume=0B",
          "S4|Write|HDD | +volume=5.0 GB"
         ],
         "textposition": "top center",
         "type": "scatter",
         "x": [
          295,
          307.5,
          308.75,
          318.75,
          443.75
         ],
         "xaxis": "x2",
         "y": [
          5000000000,
          6000000000,
          6000000000,
          6000000000,
          6000000000
         ],
         "yaxis": "y2"
        },
        {
         "line": {
          "shape": "linear"
         },
         "name": "HDD",
         "showlegend": false,
         "text": [
          "S4|Movement|BB | +volume=1.0 GB",
          "S4|Read|BB | +volume=1.0 GB",
          "S4|Compute | +volume=0B",
          "S4|Write|HDD | +volume=5.0 GB"
         ],
         "textposition": "top center",
         "type": "scatter",
         "x": [
          295,
          307.5,
          308.75,
          318.75,
          443.75
         ],
         "xaxis": "x3",
         "y": [
          11000000000,
          11000000000,
          11000000000,
          11000000000,
          15999999999.999998
         ],
         "yaxis": "y3"
        },
        {
         "line": {
          "shape": "hv"
         },
         "showlegend": false,
         "type": "scatter",
         "x": [
          295,
          307.5,
          308.75,
          318.75,
          443.75
         ],
         "xaxis": "x4",
         "y": [
          1,
          1,
          1,
          1,
          0
         ],
         "yaxis": "y4"
        },
        {
         "line": {
          "color": "red",
          "dash": "dot",
          "shape": "hv",
          "width": 3
         },
         "showlegend": false,
         "text": [
          "Maximum available cores in cluster=2",
          "Maximum available cores in cluster=2"
         ],
         "type": "scatter",
         "x": [
          295,
          443.75
         ],
         "xaxis": "x4",
         "y": [
          2,
          2
         ],
         "yaxis": "y4"
        }
       ],
       "layout": {
        "annotations": [
         {
          "font": {
           "size": 16
          },
          "showarrow": false,
          "text": "S4",
          "x": 0.5,
          "xanchor": "center",
          "xref": "paper",
          "y": 1,
          "yanchor": "bottom",
          "yref": "paper"
         },
         {
          "font": {
           "size": 16
          },
          "showarrow": false,
          "text": "BB (10.0 GB)",
          "x": 0.5,
          "xanchor": "center",
          "xref": "paper",
          "y": 0.71875,
          "yanchor": "bottom",
          "yref": "paper"
         },
         {
          "font": {
           "size": 16
          },
          "showarrow": false,
          "text": "HDD (1.0 TB)",
          "x": 0.5,
          "xanchor": "center",
          "xref": "paper",
          "y": 0.4375,
          "yanchor": "bottom",
          "yref": "paper"
         },
         {
          "font": {
           "size": 16
          },
          "showarrow": false,
          "text": "CPU Cores",
          "x": 0.5,
          "xanchor": "center",
          "xref": "paper",
          "y": 0.15625,
          "yanchor": "bottom",
          "yref": "paper"
         }
        ],
        "height": 900,
        "template": {
         "data": {
          "bar": [
           {
            "error_x": {
             "color": "#2a3f5f"
            },
            "error_y": {
             "color": "#2a3f5f"
            },
            "marker": {
             "line": {
              "color": "#E5ECF6",
              "width": 0.5
             }
            },
            "type": "bar"
           }
          ],
          "barpolar": [
           {
            "marker": {
             "line": {
              "color": "#E5ECF6",
              "width": 0.5
             }
            },
            "type": "barpolar"
           }
          ],
          "carpet": [
           {
            "aaxis": {
             "endlinecolor": "#2a3f5f",
             "gridcolor": "white",
             "linecolor": "white",
             "minorgridcolor": "white",
             "startlinecolor": "#2a3f5f"
            },
            "baxis": {
             "endlinecolor": "#2a3f5f",
             "gridcolor": "white",
             "linecolor": "white",
             "minorgridcolor": "white",
             "startlinecolor": "#2a3f5f"
            },
            "type": "carpet"
           }
          ],
          "choropleth": [
           {
            "colorbar": {
             "outlinewidth": 0,
             "ticks": ""
            },
            "type": "choropleth"
           }
          ],
          "contour": [
           {
            "colorbar": {
             "outlinewidth": 0,
             "ticks": ""
            },
            "colorscale": [
             [
              0,
              "#0d0887"
             ],
             [
              0.1111111111111111,
              "#46039f"
             ],
             [
              0.2222222222222222,
              "#7201a8"
             ],
             [
              0.3333333333333333,
              "#9c179e"
             ],
             [
              0.4444444444444444,
              "#bd3786"
             ],
             [
              0.5555555555555556,
              "#d8576b"
             ],
             [
              0.6666666666666666,
              "#ed7953"
             ],
             [
              0.7777777777777778,
              "#fb9f3a"
             ],
             [
              0.8888888888888888,
              "#fdca26"
             ],
             [
              1,
              "#f0f921"
             ]
            ],
            "type": "contour"
           }
          ],
          "contourcarpet": [
           {
            "colorbar": {
             "outlinewidth": 0,
             "ticks": ""
            },
            "type": "contourcarpet"
           }
          ],
          "heatmap": [
           {
            "colorbar": {
             "outlinewidth": 0,
             "ticks": ""
            },
            "colorscale": [
             [
              0,
              "#0d0887"
             ],
             [
              0.1111111111111111,
              "#46039f"
             ],
             [
              0.2222222222222222,
              "#7201a8"
             ],
             [
              0.3333333333333333,
              "#9c179e"
             ],
             [
              0.4444444444444444,
              "#bd3786"
             ],
             [
              0.5555555555555556,
              "#d8576b"
             ],
             [
              0.6666666666666666,
              "#ed7953"
             ],
             [
              0.7777777777777778,
              "#fb9f3a"
             ],
             [
              0.8888888888888888,
              "#fdca26"
             ],
             [
              1,
              "#f0f921"
             ]
            ],
            "type": "heatmap"
           }
          ],
          "heatmapgl": [
           {
            "colorbar": {
             "outlinewidth": 0,
             "ticks": ""
            },
            "colorscale": [
             [
              0,
              "#0d0887"
             ],
             [
              0.1111111111111111,
              "#46039f"
             ],
             [
              0.2222222222222222,
              "#7201a8"
             ],
             [
              0.3333333333333333,
              "#9c179e"
             ],
             [
              0.4444444444444444,
              "#bd3786"
             ],
             [
              0.5555555555555556,
              "#d8576b"
             ],
             [
              0.6666666666666666,
              "#ed7953"
             ],
             [
              0.7777777777777778,
              "#fb9f3a"
             ],
             [
              0.8888888888888888,
              "#fdca26"
             ],
             [
              1,
              "#f0f921"
             ]
            ],
            "type": "heatmapgl"
           }
          ],
          "histogram": [
           {
            "marker": {
             "colorbar": {
              "outlinewidth": 0,
              "ticks": ""
             }
            },
            "type": "histogram"
           }
          ],
          "histogram2d": [
           {
            "colorbar": {
             "outlinewidth": 0,
             "ticks": ""
            },
            "colorscale": [
             [
              0,
              "#0d0887"
             ],
             [
              0.1111111111111111,
              "#46039f"
             ],
             [
              0.2222222222222222,
              "#7201a8"
             ],
             [
              0.3333333333333333,
              "#9c179e"
             ],
             [
              0.4444444444444444,
              "#bd3786"
             ],
             [
              0.5555555555555556,
              "#d8576b"
             ],
             [
              0.6666666666666666,
              "#ed7953"
             ],
             [
              0.7777777777777778,
              "#fb9f3a"
             ],
             [
              0.8888888888888888,
              "#fdca26"
             ],
             [
              1,
              "#f0f921"
             ]
            ],
            "type": "histogram2d"
           }
          ],
          "histogram2dcontour": [
           {
            "colorbar": {
             "outlinewidth": 0,
             "ticks": ""
            },
            "colorscale": [
             [
              0,
              "#0d0887"
             ],
             [
              0.1111111111111111,
              "#46039f"
             ],
             [
              0.2222222222222222,
              "#7201a8"
             ],
             [
              0.3333333333333333,
              "#9c179e"
             ],
             [
              0.4444444444444444,
              "#bd3786"
             ],
             [
              0.5555555555555556,
              "#d8576b"
             ],
             [
              0.6666666666666666,
              "#ed7953"
             ],
             [
              0.7777777777777778,
              "#fb9f3a"
             ],
             [
              0.8888888888888888,
              "#fdca26"
             ],
             [
              1,
              "#f0f921"
             ]
            ],
            "type": "histogram2dcontour"
           }
          ],
          "mesh3d": [
           {
            "colorbar": {
             "outlinewidth": 0,
             "ticks": ""
            },
            "type": "mesh3d"
           }
          ],
          "parcoords": [
           {
            "line": {
             "colorbar": {
              "outlinewidth": 0,
              "ticks": ""
             }
            },
            "type": "parcoords"
           }
          ],
          "pie": [
           {
            "automargin": true,
            "type": "pie"
           }
          ],
          "scatter": [
           {
            "marker": {
             "colorbar": {
              "outlinewidth": 0,
              "ticks": ""
             }
            },
            "type": "scatter"
           }
          ],
          "scatter3d": [
           {
            "line": {
             "colorbar": {
              "outlinewidth": 0,
              "ticks": ""
             }
            },
            "marker": {
             "colorbar": {
              "outlinewidth": 0,
              "ticks": ""
             }
            },
            "type": "scatter3d"
           }
          ],
          "scattercarpet": [
           {
            "marker": {
             "colorbar": {
              "outlinewidth": 0,
              "ticks": ""
             }
            },
            "type": "scattercarpet"
           }
          ],
          "scattergeo": [
           {
            "marker": {
             "colorbar": {
              "outlinewidth": 0,
              "ticks": ""
             }
            },
            "type": "scattergeo"
           }
          ],
          "scattergl": [
           {
            "marker": {
             "colorbar": {
              "outlinewidth": 0,
              "ticks": ""
             }
            },
            "type": "scattergl"
           }
          ],
          "scattermapbox": [
           {
            "marker": {
             "colorbar": {
              "outlinewidth": 0,
              "ticks": ""
             }
            },
            "type": "scattermapbox"
           }
          ],
          "scatterpolar": [
           {
            "marker": {
             "colorbar": {
              "outlinewidth": 0,
              "ticks": ""
             }
            },
            "type": "scatterpolar"
           }
          ],
          "scatterpolargl": [
           {
            "marker": {
             "colorbar": {
              "outlinewidth": 0,
              "ticks": ""
             }
            },
            "type": "scatterpolargl"
           }
          ],
          "scatterternary": [
           {
            "marker": {
             "colorbar": {
              "outlinewidth": 0,
              "ticks": ""
             }
            },
            "type": "scatterternary"
           }
          ],
          "surface": [
           {
            "colorbar": {
             "outlinewidth": 0,
             "ticks": ""
            },
            "colorscale": [
             [
              0,
              "#0d0887"
             ],
             [
              0.1111111111111111,
              "#46039f"
             ],
             [
              0.2222222222222222,
              "#7201a8"
             ],
             [
              0.3333333333333333,
              "#9c179e"
             ],
             [
              0.4444444444444444,
              "#bd3786"
             ],
             [
              0.5555555555555556,
              "#d8576b"
             ],
             [
              0.6666666666666666,
              "#ed7953"
             ],
             [
              0.7777777777777778,
              "#fb9f3a"
             ],
             [
              0.8888888888888888,
              "#fdca26"
             ],
             [
              1,
              "#f0f921"
             ]
            ],
            "type": "surface"
           }
          ],
          "table": [
           {
            "cells": {
             "fill": {
              "color": "#EBF0F8"
             },
             "line": {
              "color": "white"
             }
            },
            "header": {
             "fill": {
              "color": "#C8D4E3"
             },
             "line": {
              "color": "white"
             }
            },
            "type": "table"
           }
          ]
         },
         "layout": {
          "annotationdefaults": {
           "arrowcolor": "#2a3f5f",
           "arrowhead": 0,
           "arrowwidth": 1
          },
          "coloraxis": {
           "colorbar": {
            "outlinewidth": 0,
            "ticks": ""
           }
          },
          "colorscale": {
           "diverging": [
            [
             0,
             "#8e0152"
            ],
            [
             0.1,
             "#c51b7d"
            ],
            [
             0.2,
             "#de77ae"
            ],
            [
             0.3,
             "#f1b6da"
            ],
            [
             0.4,
             "#fde0ef"
            ],
            [
             0.5,
             "#f7f7f7"
            ],
            [
             0.6,
             "#e6f5d0"
            ],
            [
             0.7,
             "#b8e186"
            ],
            [
             0.8,
             "#7fbc41"
            ],
            [
             0.9,
             "#4d9221"
            ],
            [
             1,
             "#276419"
            ]
           ],
           "sequential": [
            [
             0,
             "#0d0887"
            ],
            [
             0.1111111111111111,
             "#46039f"
            ],
            [
             0.2222222222222222,
             "#7201a8"
            ],
            [
             0.3333333333333333,
             "#9c179e"
            ],
            [
             0.4444444444444444,
             "#bd3786"
            ],
            [
             0.5555555555555556,
             "#d8576b"
            ],
            [
             0.6666666666666666,
             "#ed7953"
            ],
            [
             0.7777777777777778,
             "#fb9f3a"
            ],
            [
             0.8888888888888888,
             "#fdca26"
            ],
            [
             1,
             "#f0f921"
            ]
           ],
           "sequentialminus": [
            [
             0,
             "#0d0887"
            ],
            [
             0.1111111111111111,
             "#46039f"
            ],
            [
             0.2222222222222222,
             "#7201a8"
            ],
            [
             0.3333333333333333,
             "#9c179e"
            ],
            [
             0.4444444444444444,
             "#bd3786"
            ],
            [
             0.5555555555555556,
             "#d8576b"
            ],
            [
             0.6666666666666666,
             "#ed7953"
            ],
            [
             0.7777777777777778,
             "#fb9f3a"
            ],
            [
             0.8888888888888888,
             "#fdca26"
            ],
            [
             1,
             "#f0f921"
            ]
           ]
          },
          "colorway": [
           "#636efa",
           "#EF553B",
           "#00cc96",
           "#ab63fa",
           "#FFA15A",
           "#19d3f3",
           "#FF6692",
           "#B6E880",
           "#FF97FF",
           "#FECB52"
          ],
          "font": {
           "color": "#2a3f5f"
          },
          "geo": {
           "bgcolor": "white",
           "lakecolor": "white",
           "landcolor": "#E5ECF6",
           "showlakes": true,
           "showland": true,
           "subunitcolor": "white"
          },
          "hoverlabel": {
           "align": "left"
          },
          "hovermode": "closest",
          "mapbox": {
           "style": "light"
          },
          "paper_bgcolor": "white",
          "plot_bgcolor": "#E5ECF6",
          "polar": {
           "angularaxis": {
            "gridcolor": "white",
            "linecolor": "white",
            "ticks": ""
           },
           "bgcolor": "#E5ECF6",
           "radialaxis": {
            "gridcolor": "white",
            "linecolor": "white",
            "ticks": ""
           }
          },
          "scene": {
           "xaxis": {
            "backgroundcolor": "#E5ECF6",
            "gridcolor": "white",
            "gridwidth": 2,
            "linecolor": "white",
            "showbackground": true,
            "ticks": "",
            "zerolinecolor": "white"
           },
           "yaxis": {
            "backgroundcolor": "#E5ECF6",
            "gridcolor": "white",
            "gridwidth": 2,
            "linecolor": "white",
            "showbackground": true,
            "ticks": "",
            "zerolinecolor": "white"
           },
           "zaxis": {
            "backgroundcolor": "#E5ECF6",
            "gridcolor": "white",
            "gridwidth": 2,
            "linecolor": "white",
            "showbackground": true,
            "ticks": "",
            "zerolinecolor": "white"
           }
          },
          "shapedefaults": {
           "line": {
            "color": "#2a3f5f"
           }
          },
          "ternary": {
           "aaxis": {
            "gridcolor": "white",
            "linecolor": "white",
            "ticks": ""
           },
           "baxis": {
            "gridcolor": "white",
            "linecolor": "white",
            "ticks": ""
           },
           "bgcolor": "#E5ECF6",
           "caxis": {
            "gridcolor": "white",
            "linecolor": "white",
            "ticks": ""
           }
          },
          "title": {
           "x": 0.05
          },
          "xaxis": {
           "automargin": true,
           "gridcolor": "white",
           "linecolor": "white",
           "ticks": "",
           "title": {
            "standoff": 15
           },
           "zerolinecolor": "white",
           "zerolinewidth": 2
          },
          "yaxis": {
           "automargin": true,
           "gridcolor": "white",
           "linecolor": "white",
           "ticks": "",
           "title": {
            "standoff": 15
           },
           "zerolinecolor": "white",
           "zerolinewidth": 2
          }
         }
        },
        "title": {
         "text": "State of the Cluster"
        },
        "width": 800,
        "xaxis": {
         "anchor": "y",
         "domain": [
          0,
          1
         ],
         "matches": "x4",
         "showticklabels": false,
         "title": {
          "text": "time in s"
         }
        },
        "xaxis2": {
         "anchor": "y2",
         "domain": [
          0,
          1
         ],
         "matches": "x4",
         "showticklabels": false,
         "title": {
          "text": "time in s"
         }
        },
        "xaxis3": {
         "anchor": "y3",
         "domain": [
          0,
          1
         ],
         "matches": "x4",
         "showticklabels": false,
         "title": {
          "text": "time in s"
         }
        },
        "xaxis4": {
         "anchor": "y4",
         "domain": [
          0,
          1
         ],
         "title": {
          "text": "time in s"
         }
        },
        "yaxis": {
         "anchor": "x",
         "domain": [
          0.84375,
          1
         ],
         "title": {
          "text": "dataflow in MB/s"
         }
        },
        "yaxis2": {
         "anchor": "x2",
         "domain": [
          0.5625,
          0.71875
         ],
         "title": {
          "text": "BB usage in Bytes"
         }
        },
        "yaxis3": {
         "anchor": "x3",
         "domain": [
          0.28125,
          0.4375
         ],
         "title": {
          "text": "HDD usage in Bytes"
         }
        },
        "yaxis4": {
         "anchor": "x4",
         "domain": [
          0,
          0.15625
         ],
         "title": {
          "text": "CPU usage"
         }
        }
       }
      }
     },
     "metadata": {},
     "output_type": "display_data"
    }
   ],
   "source": [
    "# logger\n",
    "# sim env an data\n",
    "data = simpy.Store(env)\n",
    "logger.remove()\n",
    "# Simple app: read 1GB -> compute 10s -> write 5GB\n",
    "compute = [0,  10]\n",
    "read = [1e9, 0]\n",
    "write = [0, 5e9]\n",
    "placement = [0, 0]\n",
    "use_bb = [True, False]\n",
    "app = Application(env, compute=compute, read=read, write=write, data=data)\n",
    "env.process(app.run(cluster, placement=placement, use_bb=use_bb))\n",
    "env.run()\n",
    "print(f\"application duration = {app.get_fitness()}\")\n",
    "fig = display_run(data, cluster, width=800, height=900)\n",
    "fig.show()"
   ]
  },
  {
   "cell_type": "markdown",
   "metadata": {},
   "source": [
    "Optimizing BB Size (flavor)"
   ]
  },
  {
   "cell_type": "code",
   "execution_count": 16,
   "metadata": {},
   "outputs": [
    {
     "data": {
      "text/html": [
       "<div>\n",
       "<style scoped>\n",
       "    .dataframe tbody tr th:only-of-type {\n",
       "        vertical-align: middle;\n",
       "    }\n",
       "\n",
       "    .dataframe tbody tr th {\n",
       "        vertical-align: top;\n",
       "    }\n",
       "\n",
       "    .dataframe thead th {\n",
       "        text-align: right;\n",
       "    }\n",
       "</style>\n",
       "<table border=\"1\" class=\"dataframe\">\n",
       "  <thead>\n",
       "    <tr style=\"text-align: right;\">\n",
       "      <th></th>\n",
       "      <th>Param</th>\n",
       "      <th>App#1 tier place</th>\n",
       "      <th>App#1 use bb</th>\n",
       "      <th>App#2 tier place</th>\n",
       "      <th>App#2 use bb</th>\n",
       "      <th>App#3 tier place</th>\n",
       "      <th>App#3 use bb</th>\n",
       "      <th>Fitness</th>\n",
       "      <th>BB_size</th>\n",
       "    </tr>\n",
       "  </thead>\n",
       "  <tbody>\n",
       "    <tr>\n",
       "      <th>0</th>\n",
       "      <td>[0.0, 1.0, 0.0, 0.0, 1.0, 1.0, 1.0, 0.0, 1.0, ...</td>\n",
       "      <td>[0.0, 1.0]</td>\n",
       "      <td>[True, True]</td>\n",
       "      <td>[0.0, 0.0, 1.0]</td>\n",
       "      <td>[False, True, False]</td>\n",
       "      <td>[0.0, 1.0]</td>\n",
       "      <td>[True, False]</td>\n",
       "      <td>293.809524</td>\n",
       "      <td>1.500000e+10</td>\n",
       "    </tr>\n",
       "    <tr>\n",
       "      <th>1</th>\n",
       "      <td>[1.0, 0.0, 1.0, 1.0, 0.0, 0.0, 0.0, 1.0, 0.0, ...</td>\n",
       "      <td>[1.0, 0.0]</td>\n",
       "      <td>[False, False]</td>\n",
       "      <td>[1.0, 1.0, 0.0]</td>\n",
       "      <td>[True, False, True]</td>\n",
       "      <td>[1.0, 0.0]</td>\n",
       "      <td>[False, True]</td>\n",
       "      <td>206.624939</td>\n",
       "      <td>2.000000e+10</td>\n",
       "    </tr>\n",
       "    <tr>\n",
       "      <th>2</th>\n",
       "      <td>[0.0, 0.0, 0.0, 1.0, 0.0, 0.0, 1.0, 1.0, 1.0, ...</td>\n",
       "      <td>[0.0, 0.0]</td>\n",
       "      <td>[True, True]</td>\n",
       "      <td>[0.0, 1.0, 0.0]</td>\n",
       "      <td>[False, True, True]</td>\n",
       "      <td>[1.0, 0.0]</td>\n",
       "      <td>[True, True]</td>\n",
       "      <td>193.783260</td>\n",
       "      <td>3.200000e+10</td>\n",
       "    </tr>\n",
       "    <tr>\n",
       "      <th>3</th>\n",
       "      <td>[1.0, 1.0, 0.0, 1.0, 1.0, 1.0, 1.0, 0.0, 0.0, ...</td>\n",
       "      <td>[1.0, 1.0]</td>\n",
       "      <td>[False, True]</td>\n",
       "      <td>[0.0, 1.0, 1.0]</td>\n",
       "      <td>[False, False, False]</td>\n",
       "      <td>[1.0, 1.0]</td>\n",
       "      <td>[False, False]</td>\n",
       "      <td>393.511905</td>\n",
       "      <td>5.000000e+09</td>\n",
       "    </tr>\n",
       "    <tr>\n",
       "      <th>4</th>\n",
       "      <td>[0.0, 0.0, 1.0, 1.0, 1.0, 0.0, 1.0, 0.0, 0.0, ...</td>\n",
       "      <td>[0.0, 0.0]</td>\n",
       "      <td>[False, True]</td>\n",
       "      <td>[1.0, 1.0, 1.0]</td>\n",
       "      <td>[True, False, False]</td>\n",
       "      <td>[1.0, 1.0]</td>\n",
       "      <td>[False, False]</td>\n",
       "      <td>400.347985</td>\n",
       "      <td>8.000000e+09</td>\n",
       "    </tr>\n",
       "  </tbody>\n",
       "</table>\n",
       "</div>"
      ],
      "text/plain": [
       "                                               Param App#1 tier place  \\\n",
       "0  [0.0, 1.0, 0.0, 0.0, 1.0, 1.0, 1.0, 0.0, 1.0, ...       [0.0, 1.0]   \n",
       "1  [1.0, 0.0, 1.0, 1.0, 0.0, 0.0, 0.0, 1.0, 0.0, ...       [1.0, 0.0]   \n",
       "2  [0.0, 0.0, 0.0, 1.0, 0.0, 0.0, 1.0, 1.0, 1.0, ...       [0.0, 0.0]   \n",
       "3  [1.0, 1.0, 0.0, 1.0, 1.0, 1.0, 1.0, 0.0, 0.0, ...       [1.0, 1.0]   \n",
       "4  [0.0, 0.0, 1.0, 1.0, 1.0, 0.0, 1.0, 0.0, 0.0, ...       [0.0, 0.0]   \n",
       "\n",
       "     App#1 use bb App#2 tier place           App#2 use bb App#3 tier place  \\\n",
       "0    [True, True]  [0.0, 0.0, 1.0]   [False, True, False]       [0.0, 1.0]   \n",
       "1  [False, False]  [1.0, 1.0, 0.0]    [True, False, True]       [1.0, 0.0]   \n",
       "2    [True, True]  [0.0, 1.0, 0.0]    [False, True, True]       [1.0, 0.0]   \n",
       "3   [False, True]  [0.0, 1.0, 1.0]  [False, False, False]       [1.0, 1.0]   \n",
       "4   [False, True]  [1.0, 1.0, 1.0]   [True, False, False]       [1.0, 1.0]   \n",
       "\n",
       "     App#3 use bb     Fitness       BB_size  \n",
       "0   [True, False]  293.809524  1.500000e+10  \n",
       "1   [False, True]  206.624939  2.000000e+10  \n",
       "2    [True, True]  193.783260  3.200000e+10  \n",
       "3  [False, False]  393.511905  5.000000e+09  \n",
       "4  [False, False]  400.347985  8.000000e+09  "
      ]
     },
     "execution_count": 16,
     "metadata": {},
     "output_type": "execute_result"
    }
   ],
   "source": [
    "import numpy as np\n",
    "import pandas as pd\n",
    "pathfile = os.path.join(os.getcwd(), \"flavor_optim\")\n",
    "df = pd.read_pickle(pathfile)\n",
    "df.head()\n",
    "#list(df.columns)"
   ]
  },
  {
   "cell_type": "markdown",
   "metadata": {},
   "source": [
    "Plotting Workflow duration Vs BB Size : efficient frontier\n"
   ]
  },
  {
   "cell_type": "code",
   "execution_count": 22,
   "metadata": {},
   "outputs": [
    {
     "data": {
      "application/vnd.plotly.v1+json": {
       "config": {
        "plotlyServerURL": "https://plot.ly"
       },
       "data": [
        {
         "line": {
          "color": "#636EFA"
         },
         "mode": "markers",
         "text": [
          "table_index=0",
          "table_index=1",
          "table_index=2",
          "table_index=3",
          "table_index=4",
          "table_index=5",
          "table_index=6",
          "table_index=7",
          "table_index=8",
          "table_index=9",
          "table_index=10",
          "table_index=11",
          "table_index=12",
          "table_index=13",
          "table_index=14",
          "table_index=15",
          "table_index=16",
          "table_index=17",
          "table_index=18",
          "table_index=19",
          "table_index=20",
          "table_index=21",
          "table_index=22",
          "table_index=23",
          "table_index=24",
          "table_index=25",
          "table_index=26",
          "table_index=27",
          "table_index=28",
          "table_index=29",
          "table_index=30",
          "table_index=31",
          "table_index=32",
          "table_index=33",
          "table_index=34",
          "table_index=35",
          "table_index=36",
          "table_index=37",
          "table_index=38",
          "table_index=39",
          "table_index=40",
          "table_index=41",
          "table_index=42",
          "table_index=43",
          "table_index=44",
          "table_index=45",
          "table_index=46",
          "table_index=47",
          "table_index=48",
          "table_index=49",
          "table_index=50",
          "table_index=51",
          "table_index=52",
          "table_index=53",
          "table_index=54",
          "table_index=55",
          "table_index=56",
          "table_index=57",
          "table_index=58",
          "table_index=59",
          "table_index=60",
          "table_index=61",
          "table_index=62",
          "table_index=63",
          "table_index=64",
          "table_index=65",
          "table_index=66",
          "table_index=67",
          "table_index=68",
          "table_index=69",
          "table_index=70",
          "table_index=71",
          "table_index=72",
          "table_index=73",
          "table_index=74",
          "table_index=75",
          "table_index=76",
          "table_index=77",
          "table_index=78",
          "table_index=79",
          "table_index=80",
          "table_index=81",
          "table_index=82",
          "table_index=83",
          "table_index=84",
          "table_index=85",
          "table_index=86",
          "table_index=87",
          "table_index=88",
          "table_index=89",
          "table_index=90",
          "table_index=91",
          "table_index=92",
          "table_index=93",
          "table_index=94",
          "table_index=95",
          "table_index=96",
          "table_index=97",
          "table_index=98",
          "table_index=99",
          "table_index=100",
          "table_index=101",
          "table_index=102",
          "table_index=103",
          "table_index=104",
          "table_index=105",
          "table_index=106",
          "table_index=107",
          "table_index=108",
          "table_index=109"
         ],
         "type": "scatter",
         "x": [
          15000000000,
          20000000000,
          32000000000.000004,
          5000000000,
          7999999999.999999,
          17000000000.000002,
          1000000000,
          6000000000,
          27000000000,
          21000000000,
          18000000000,
          21000000000,
          0,
          3000000000,
          20000000000,
          5000000000,
          26000000000,
          15000000000,
          17000000000.000002,
          35000000000,
          25000000000,
          20000000000,
          34000000000,
          1000000000,
          9000000000,
          21000000000,
          34000000000,
          12000000000,
          26000000000,
          26000000000,
          26000000000,
          26000000000,
          35000000000,
          1000000000,
          26999999999.999996,
          6000000000,
          17000000000,
          18000000000,
          4000000000,
          3000000000,
          5000000000,
          32000000000.000004,
          17000000000,
          34000000000,
          29999999999.999992,
          31000000000,
          26999999999.999996,
          23000000000,
          26000000000,
          12000000000,
          3000000000,
          13000000000,
          18000000000,
          23000000000,
          18000000000,
          10000000000,
          4000000000,
          26000000000,
          35000000000,
          9000000000,
          29999999999.999992,
          29999999999.999992,
          29999999999.999992,
          29999999999.999992,
          29999999999.999992,
          29999999999.999992,
          29999999999.999992,
          29999999999.999992,
          29999999999.999992,
          29999999999.999992,
          29999999999.999992,
          29999999999.999992,
          29999999999.999992,
          29999999999.999992,
          29999999999.999992,
          29999999999.999992,
          29999999999.999992,
          29999999999.999992,
          29999999999.999992,
          29999999999.999992,
          29999999999.999992,
          29999999999.999992,
          29999999999.999992,
          29999999999.999992,
          29999999999.999992,
          29999999999.999992,
          29999999999.999992,
          29999999999.999992,
          29999999999.999992,
          29999999999.999992,
          29999999999.999992,
          29999999999.999992,
          29999999999.999992,
          29999999999.999992,
          29999999999.999992,
          29999999999.999992,
          29999999999.999992,
          29999999999.999992,
          29999999999.999992,
          29999999999.999992,
          29999999999.999992,
          29999999999.999992,
          29999999999.999992,
          29999999999.999992,
          29999999999.999992,
          29999999999.999992,
          29999999999.999992,
          29999999999.999992,
          29999999999.999992,
          29999999999.999992
         ],
         "y": [
          293.80952380952385,
          206.62493924629848,
          193.7832604288915,
          393.5119047619048,
          400.3479853479853,
          346.07146932086255,
          575.5677655677655,
          337.5,
          179.97901774600803,
          206.62493924629848,
          386.3349514563107,
          223.8349514563107,
          737.5,
          648.0952380952381,
          206.62493924629848,
          393.5119047619048,
          245.59929822065746,
          475.9157509157509,
          346.07146932086255,
          193.6296187631139,
          249.93995756131682,
          206.62493924629848,
          209.2020534751117,
          363.33333333333337,
          657.9853479853481,
          206.62493924629848,
          209.2020534751117,
          481.25915750915755,
          182.37864077669903,
          245.59929822065746,
          245.59929822065746,
          228.83495145631068,
          193.6296187631139,
          447.5,
          181.304100430314,
          600,
          211.85082447218372,
          483.02197802197804,
          600,
          268.0952380952381,
          309.04761904761904,
          193.7832604288915,
          426.45399907535835,
          209.2020534751117,
          173.01419858458695,
          193.7135922330097,
          181.304100430314,
          276.3349514563107,
          228.83495145631068,
          303.33333333333337,
          425.8333333333333,
          640.4029304029303,
          369.74536790070766,
          252.40535758739642,
          386.3349514563107,
          465.6593406593406,
          308.0952380952381,
          228.83495145631068,
          193.6296187631139,
          308.0952380952381,
          173.01419858458695,
          173.01419858458695,
          173.01419858458695,
          173.01419858458695,
          173.01419858458695,
          173.01419858458695,
          173.01419858458695,
          173.01419858458695,
          173.01419858458695,
          173.01419858458695,
          173.01419858458695,
          173.01419858458695,
          173.01419858458695,
          173.01419858458695,
          173.01419858458695,
          173.01419858458695,
          173.01419858458695,
          173.01419858458695,
          173.01419858458695,
          173.01419858458695,
          173.01419858458695,
          173.01419858458695,
          173.01419858458695,
          173.01419858458695,
          173.01419858458695,
          173.01419858458695,
          173.01419858458695,
          173.01419858458695,
          173.01419858458695,
          173.01419858458695,
          173.01419858458695,
          173.01419858458695,
          173.01419858458695,
          173.01419858458695,
          173.01419858458695,
          173.01419858458695,
          173.01419858458695,
          173.01419858458695,
          173.01419858458695,
          173.01419858458695,
          173.01419858458695,
          173.01419858458695,
          173.01419858458695,
          173.01419858458695,
          173.01419858458695,
          173.01419858458695,
          173.01419858458695,
          173.01419858458695,
          173.01419858458695,
          173.01419858458695
         ]
        }
       ],
       "layout": {
        "template": {
         "data": {
          "bar": [
           {
            "error_x": {
             "color": "#2a3f5f"
            },
            "error_y": {
             "color": "#2a3f5f"
            },
            "marker": {
             "line": {
              "color": "#E5ECF6",
              "width": 0.5
             }
            },
            "type": "bar"
           }
          ],
          "barpolar": [
           {
            "marker": {
             "line": {
              "color": "#E5ECF6",
              "width": 0.5
             }
            },
            "type": "barpolar"
           }
          ],
          "carpet": [
           {
            "aaxis": {
             "endlinecolor": "#2a3f5f",
             "gridcolor": "white",
             "linecolor": "white",
             "minorgridcolor": "white",
             "startlinecolor": "#2a3f5f"
            },
            "baxis": {
             "endlinecolor": "#2a3f5f",
             "gridcolor": "white",
             "linecolor": "white",
             "minorgridcolor": "white",
             "startlinecolor": "#2a3f5f"
            },
            "type": "carpet"
           }
          ],
          "choropleth": [
           {
            "colorbar": {
             "outlinewidth": 0,
             "ticks": ""
            },
            "type": "choropleth"
           }
          ],
          "contour": [
           {
            "colorbar": {
             "outlinewidth": 0,
             "ticks": ""
            },
            "colorscale": [
             [
              0,
              "#0d0887"
             ],
             [
              0.1111111111111111,
              "#46039f"
             ],
             [
              0.2222222222222222,
              "#7201a8"
             ],
             [
              0.3333333333333333,
              "#9c179e"
             ],
             [
              0.4444444444444444,
              "#bd3786"
             ],
             [
              0.5555555555555556,
              "#d8576b"
             ],
             [
              0.6666666666666666,
              "#ed7953"
             ],
             [
              0.7777777777777778,
              "#fb9f3a"
             ],
             [
              0.8888888888888888,
              "#fdca26"
             ],
             [
              1,
              "#f0f921"
             ]
            ],
            "type": "contour"
           }
          ],
          "contourcarpet": [
           {
            "colorbar": {
             "outlinewidth": 0,
             "ticks": ""
            },
            "type": "contourcarpet"
           }
          ],
          "heatmap": [
           {
            "colorbar": {
             "outlinewidth": 0,
             "ticks": ""
            },
            "colorscale": [
             [
              0,
              "#0d0887"
             ],
             [
              0.1111111111111111,
              "#46039f"
             ],
             [
              0.2222222222222222,
              "#7201a8"
             ],
             [
              0.3333333333333333,
              "#9c179e"
             ],
             [
              0.4444444444444444,
              "#bd3786"
             ],
             [
              0.5555555555555556,
              "#d8576b"
             ],
             [
              0.6666666666666666,
              "#ed7953"
             ],
             [
              0.7777777777777778,
              "#fb9f3a"
             ],
             [
              0.8888888888888888,
              "#fdca26"
             ],
             [
              1,
              "#f0f921"
             ]
            ],
            "type": "heatmap"
           }
          ],
          "heatmapgl": [
           {
            "colorbar": {
             "outlinewidth": 0,
             "ticks": ""
            },
            "colorscale": [
             [
              0,
              "#0d0887"
             ],
             [
              0.1111111111111111,
              "#46039f"
             ],
             [
              0.2222222222222222,
              "#7201a8"
             ],
             [
              0.3333333333333333,
              "#9c179e"
             ],
             [
              0.4444444444444444,
              "#bd3786"
             ],
             [
              0.5555555555555556,
              "#d8576b"
             ],
             [
              0.6666666666666666,
              "#ed7953"
             ],
             [
              0.7777777777777778,
              "#fb9f3a"
             ],
             [
              0.8888888888888888,
              "#fdca26"
             ],
             [
              1,
              "#f0f921"
             ]
            ],
            "type": "heatmapgl"
           }
          ],
          "histogram": [
           {
            "marker": {
             "colorbar": {
              "outlinewidth": 0,
              "ticks": ""
             }
            },
            "type": "histogram"
           }
          ],
          "histogram2d": [
           {
            "colorbar": {
             "outlinewidth": 0,
             "ticks": ""
            },
            "colorscale": [
             [
              0,
              "#0d0887"
             ],
             [
              0.1111111111111111,
              "#46039f"
             ],
             [
              0.2222222222222222,
              "#7201a8"
             ],
             [
              0.3333333333333333,
              "#9c179e"
             ],
             [
              0.4444444444444444,
              "#bd3786"
             ],
             [
              0.5555555555555556,
              "#d8576b"
             ],
             [
              0.6666666666666666,
              "#ed7953"
             ],
             [
              0.7777777777777778,
              "#fb9f3a"
             ],
             [
              0.8888888888888888,
              "#fdca26"
             ],
             [
              1,
              "#f0f921"
             ]
            ],
            "type": "histogram2d"
           }
          ],
          "histogram2dcontour": [
           {
            "colorbar": {
             "outlinewidth": 0,
             "ticks": ""
            },
            "colorscale": [
             [
              0,
              "#0d0887"
             ],
             [
              0.1111111111111111,
              "#46039f"
             ],
             [
              0.2222222222222222,
              "#7201a8"
             ],
             [
              0.3333333333333333,
              "#9c179e"
             ],
             [
              0.4444444444444444,
              "#bd3786"
             ],
             [
              0.5555555555555556,
              "#d8576b"
             ],
             [
              0.6666666666666666,
              "#ed7953"
             ],
             [
              0.7777777777777778,
              "#fb9f3a"
             ],
             [
              0.8888888888888888,
              "#fdca26"
             ],
             [
              1,
              "#f0f921"
             ]
            ],
            "type": "histogram2dcontour"
           }
          ],
          "mesh3d": [
           {
            "colorbar": {
             "outlinewidth": 0,
             "ticks": ""
            },
            "type": "mesh3d"
           }
          ],
          "parcoords": [
           {
            "line": {
             "colorbar": {
              "outlinewidth": 0,
              "ticks": ""
             }
            },
            "type": "parcoords"
           }
          ],
          "pie": [
           {
            "automargin": true,
            "type": "pie"
           }
          ],
          "scatter": [
           {
            "marker": {
             "colorbar": {
              "outlinewidth": 0,
              "ticks": ""
             }
            },
            "type": "scatter"
           }
          ],
          "scatter3d": [
           {
            "line": {
             "colorbar": {
              "outlinewidth": 0,
              "ticks": ""
             }
            },
            "marker": {
             "colorbar": {
              "outlinewidth": 0,
              "ticks": ""
             }
            },
            "type": "scatter3d"
           }
          ],
          "scattercarpet": [
           {
            "marker": {
             "colorbar": {
              "outlinewidth": 0,
              "ticks": ""
             }
            },
            "type": "scattercarpet"
           }
          ],
          "scattergeo": [
           {
            "marker": {
             "colorbar": {
              "outlinewidth": 0,
              "ticks": ""
             }
            },
            "type": "scattergeo"
           }
          ],
          "scattergl": [
           {
            "marker": {
             "colorbar": {
              "outlinewidth": 0,
              "ticks": ""
             }
            },
            "type": "scattergl"
           }
          ],
          "scattermapbox": [
           {
            "marker": {
             "colorbar": {
              "outlinewidth": 0,
              "ticks": ""
             }
            },
            "type": "scattermapbox"
           }
          ],
          "scatterpolar": [
           {
            "marker": {
             "colorbar": {
              "outlinewidth": 0,
              "ticks": ""
             }
            },
            "type": "scatterpolar"
           }
          ],
          "scatterpolargl": [
           {
            "marker": {
             "colorbar": {
              "outlinewidth": 0,
              "ticks": ""
             }
            },
            "type": "scatterpolargl"
           }
          ],
          "scatterternary": [
           {
            "marker": {
             "colorbar": {
              "outlinewidth": 0,
              "ticks": ""
             }
            },
            "type": "scatterternary"
           }
          ],
          "surface": [
           {
            "colorbar": {
             "outlinewidth": 0,
             "ticks": ""
            },
            "colorscale": [
             [
              0,
              "#0d0887"
             ],
             [
              0.1111111111111111,
              "#46039f"
             ],
             [
              0.2222222222222222,
              "#7201a8"
             ],
             [
              0.3333333333333333,
              "#9c179e"
             ],
             [
              0.4444444444444444,
              "#bd3786"
             ],
             [
              0.5555555555555556,
              "#d8576b"
             ],
             [
              0.6666666666666666,
              "#ed7953"
             ],
             [
              0.7777777777777778,
              "#fb9f3a"
             ],
             [
              0.8888888888888888,
              "#fdca26"
             ],
             [
              1,
              "#f0f921"
             ]
            ],
            "type": "surface"
           }
          ],
          "table": [
           {
            "cells": {
             "fill": {
              "color": "#EBF0F8"
             },
             "line": {
              "color": "white"
             }
            },
            "header": {
             "fill": {
              "color": "#C8D4E3"
             },
             "line": {
              "color": "white"
             }
            },
            "type": "table"
           }
          ]
         },
         "layout": {
          "annotationdefaults": {
           "arrowcolor": "#2a3f5f",
           "arrowhead": 0,
           "arrowwidth": 1
          },
          "coloraxis": {
           "colorbar": {
            "outlinewidth": 0,
            "ticks": ""
           }
          },
          "colorscale": {
           "diverging": [
            [
             0,
             "#8e0152"
            ],
            [
             0.1,
             "#c51b7d"
            ],
            [
             0.2,
             "#de77ae"
            ],
            [
             0.3,
             "#f1b6da"
            ],
            [
             0.4,
             "#fde0ef"
            ],
            [
             0.5,
             "#f7f7f7"
            ],
            [
             0.6,
             "#e6f5d0"
            ],
            [
             0.7,
             "#b8e186"
            ],
            [
             0.8,
             "#7fbc41"
            ],
            [
             0.9,
             "#4d9221"
            ],
            [
             1,
             "#276419"
            ]
           ],
           "sequential": [
            [
             0,
             "#0d0887"
            ],
            [
             0.1111111111111111,
             "#46039f"
            ],
            [
             0.2222222222222222,
             "#7201a8"
            ],
            [
             0.3333333333333333,
             "#9c179e"
            ],
            [
             0.4444444444444444,
             "#bd3786"
            ],
            [
             0.5555555555555556,
             "#d8576b"
            ],
            [
             0.6666666666666666,
             "#ed7953"
            ],
            [
             0.7777777777777778,
             "#fb9f3a"
            ],
            [
             0.8888888888888888,
             "#fdca26"
            ],
            [
             1,
             "#f0f921"
            ]
           ],
           "sequentialminus": [
            [
             0,
             "#0d0887"
            ],
            [
             0.1111111111111111,
             "#46039f"
            ],
            [
             0.2222222222222222,
             "#7201a8"
            ],
            [
             0.3333333333333333,
             "#9c179e"
            ],
            [
             0.4444444444444444,
             "#bd3786"
            ],
            [
             0.5555555555555556,
             "#d8576b"
            ],
            [
             0.6666666666666666,
             "#ed7953"
            ],
            [
             0.7777777777777778,
             "#fb9f3a"
            ],
            [
             0.8888888888888888,
             "#fdca26"
            ],
            [
             1,
             "#f0f921"
            ]
           ]
          },
          "colorway": [
           "#636efa",
           "#EF553B",
           "#00cc96",
           "#ab63fa",
           "#FFA15A",
           "#19d3f3",
           "#FF6692",
           "#B6E880",
           "#FF97FF",
           "#FECB52"
          ],
          "font": {
           "color": "#2a3f5f"
          },
          "geo": {
           "bgcolor": "white",
           "lakecolor": "white",
           "landcolor": "#E5ECF6",
           "showlakes": true,
           "showland": true,
           "subunitcolor": "white"
          },
          "hoverlabel": {
           "align": "left"
          },
          "hovermode": "closest",
          "mapbox": {
           "style": "light"
          },
          "paper_bgcolor": "white",
          "plot_bgcolor": "#E5ECF6",
          "polar": {
           "angularaxis": {
            "gridcolor": "white",
            "linecolor": "white",
            "ticks": ""
           },
           "bgcolor": "#E5ECF6",
           "radialaxis": {
            "gridcolor": "white",
            "linecolor": "white",
            "ticks": ""
           }
          },
          "scene": {
           "xaxis": {
            "backgroundcolor": "#E5ECF6",
            "gridcolor": "white",
            "gridwidth": 2,
            "linecolor": "white",
            "showbackground": true,
            "ticks": "",
            "zerolinecolor": "white"
           },
           "yaxis": {
            "backgroundcolor": "#E5ECF6",
            "gridcolor": "white",
            "gridwidth": 2,
            "linecolor": "white",
            "showbackground": true,
            "ticks": "",
            "zerolinecolor": "white"
           },
           "zaxis": {
            "backgroundcolor": "#E5ECF6",
            "gridcolor": "white",
            "gridwidth": 2,
            "linecolor": "white",
            "showbackground": true,
            "ticks": "",
            "zerolinecolor": "white"
           }
          },
          "shapedefaults": {
           "line": {
            "color": "#2a3f5f"
           }
          },
          "ternary": {
           "aaxis": {
            "gridcolor": "white",
            "linecolor": "white",
            "ticks": ""
           },
           "baxis": {
            "gridcolor": "white",
            "linecolor": "white",
            "ticks": ""
           },
           "bgcolor": "#E5ECF6",
           "caxis": {
            "gridcolor": "white",
            "linecolor": "white",
            "ticks": ""
           }
          },
          "title": {
           "x": 0.05
          },
          "xaxis": {
           "automargin": true,
           "gridcolor": "white",
           "linecolor": "white",
           "ticks": "",
           "title": {
            "standoff": 15
           },
           "zerolinecolor": "white",
           "zerolinewidth": 2
          },
          "yaxis": {
           "automargin": true,
           "gridcolor": "white",
           "linecolor": "white",
           "ticks": "",
           "title": {
            "standoff": 15
           },
           "zerolinecolor": "white",
           "zerolinewidth": 2
          }
         }
        },
        "xaxis": {
         "title": {
          "text": "Size of BB in bytes (B = 1e9 = GB)"
         }
        },
        "yaxis": {
         "title": {
          "text": "Workflow duration in seconds"
         }
        }
       }
      }
     },
     "metadata": {},
     "output_type": "display_data"
    }
   ],
   "source": [
    "import plotly.express as px\n",
    "import plotly.graph_objects as go\n",
    "colors = px.colors.qualitative.Plotly\n",
    "fig = go.Figure()\n",
    "fig.add_traces(go.Scatter(x=df['BB_size'], y = df['Fitness'], \n",
    "                          text = [\"trial_index=\" + str(i) for i in list(df.index)],\n",
    "                          mode = 'markers', line=dict(color=colors[0])))\n",
    "fig.update_xaxes(title_text='Size of BB in bytes (B = 1e9 = GB)')\n",
    "fig.update_yaxes(title_text='Workflow duration in seconds')\n",
    "fig.show()"
   ]
  },
  {
   "cell_type": "markdown",
   "metadata": {},
   "source": [
    "Efficient frontier / Pareto frontier"
   ]
  },
  {
   "cell_type": "code",
   "execution_count": 23,
   "metadata": {},
   "outputs": [
    {
     "data": {
      "application/vnd.plotly.v1+json": {
       "config": {
        "plotlyServerURL": "https://plot.ly"
       },
       "data": [
        {
         "line": {
          "color": "#636EFA"
         },
         "mode": "markers",
         "text": [
          "table_index=0",
          "table_index=1",
          "table_index=2",
          "table_index=3",
          "table_index=4",
          "table_index=5",
          "table_index=6",
          "table_index=7",
          "table_index=8",
          "table_index=9",
          "table_index=10",
          "table_index=11",
          "table_index=12",
          "table_index=13",
          "table_index=14",
          "table_index=15",
          "table_index=16",
          "table_index=17",
          "table_index=18",
          "table_index=19",
          "table_index=20",
          "table_index=21",
          "table_index=22",
          "table_index=23",
          "table_index=24",
          "table_index=25",
          "table_index=26",
          "table_index=27",
          "table_index=28",
          "table_index=29",
          "table_index=30",
          "table_index=31",
          "table_index=32",
          "table_index=33",
          "table_index=34",
          "table_index=35",
          "table_index=36",
          "table_index=37",
          "table_index=38",
          "table_index=39",
          "table_index=40",
          "table_index=41",
          "table_index=42",
          "table_index=43",
          "table_index=44",
          "table_index=45",
          "table_index=46",
          "table_index=47",
          "table_index=48",
          "table_index=49",
          "table_index=50",
          "table_index=51",
          "table_index=52",
          "table_index=53",
          "table_index=54",
          "table_index=55",
          "table_index=56",
          "table_index=57",
          "table_index=58",
          "table_index=59",
          "table_index=60",
          "table_index=61",
          "table_index=62",
          "table_index=63",
          "table_index=64",
          "table_index=65",
          "table_index=66",
          "table_index=67",
          "table_index=68",
          "table_index=69",
          "table_index=70",
          "table_index=71",
          "table_index=72",
          "table_index=73",
          "table_index=74",
          "table_index=75",
          "table_index=76",
          "table_index=77",
          "table_index=78",
          "table_index=79",
          "table_index=80",
          "table_index=81",
          "table_index=82",
          "table_index=83",
          "table_index=84",
          "table_index=85",
          "table_index=86",
          "table_index=87",
          "table_index=88",
          "table_index=89",
          "table_index=90",
          "table_index=91",
          "table_index=92",
          "table_index=93",
          "table_index=94",
          "table_index=95",
          "table_index=96",
          "table_index=97",
          "table_index=98",
          "table_index=99",
          "table_index=100",
          "table_index=101",
          "table_index=102",
          "table_index=103",
          "table_index=104",
          "table_index=105",
          "table_index=106",
          "table_index=107",
          "table_index=108",
          "table_index=109"
         ],
         "type": "scatter",
         "x": [
          15000000000,
          20000000000,
          32000000000.000004,
          5000000000,
          7999999999.999999,
          17000000000.000002,
          1000000000,
          6000000000,
          27000000000,
          21000000000,
          18000000000,
          21000000000,
          0,
          3000000000,
          20000000000,
          5000000000,
          26000000000,
          15000000000,
          17000000000.000002,
          35000000000,
          25000000000,
          20000000000,
          34000000000,
          1000000000,
          9000000000,
          21000000000,
          34000000000,
          12000000000,
          26000000000,
          26000000000,
          26000000000,
          26000000000,
          35000000000,
          1000000000,
          26999999999.999996,
          6000000000,
          17000000000,
          18000000000,
          4000000000,
          3000000000,
          5000000000,
          32000000000.000004,
          17000000000,
          34000000000,
          29999999999.999992,
          31000000000,
          26999999999.999996,
          23000000000,
          26000000000,
          12000000000,
          3000000000,
          13000000000,
          18000000000,
          23000000000,
          18000000000,
          10000000000,
          4000000000,
          26000000000,
          35000000000,
          9000000000,
          29999999999.999992,
          29999999999.999992,
          29999999999.999992,
          29999999999.999992,
          29999999999.999992,
          29999999999.999992,
          29999999999.999992,
          29999999999.999992,
          29999999999.999992,
          29999999999.999992,
          29999999999.999992,
          29999999999.999992,
          29999999999.999992,
          29999999999.999992,
          29999999999.999992,
          29999999999.999992,
          29999999999.999992,
          29999999999.999992,
          29999999999.999992,
          29999999999.999992,
          29999999999.999992,
          29999999999.999992,
          29999999999.999992,
          29999999999.999992,
          29999999999.999992,
          29999999999.999992,
          29999999999.999992,
          29999999999.999992,
          29999999999.999992,
          29999999999.999992,
          29999999999.999992,
          29999999999.999992,
          29999999999.999992,
          29999999999.999992,
          29999999999.999992,
          29999999999.999992,
          29999999999.999992,
          29999999999.999992,
          29999999999.999992,
          29999999999.999992,
          29999999999.999992,
          29999999999.999992,
          29999999999.999992,
          29999999999.999992,
          29999999999.999992,
          29999999999.999992,
          29999999999.999992,
          29999999999.999992,
          29999999999.999992,
          29999999999.999992
         ],
         "y": [
          293.80952380952385,
          206.62493924629848,
          193.7832604288915,
          393.5119047619048,
          400.3479853479853,
          346.07146932086255,
          575.5677655677655,
          337.5,
          179.97901774600803,
          206.62493924629848,
          386.3349514563107,
          223.8349514563107,
          737.5,
          648.0952380952381,
          206.62493924629848,
          393.5119047619048,
          245.59929822065746,
          475.9157509157509,
          346.07146932086255,
          193.6296187631139,
          249.93995756131682,
          206.62493924629848,
          209.2020534751117,
          363.33333333333337,
          657.9853479853481,
          206.62493924629848,
          209.2020534751117,
          481.25915750915755,
          182.37864077669903,
          245.59929822065746,
          245.59929822065746,
          228.83495145631068,
          193.6296187631139,
          447.5,
          181.304100430314,
          600,
          211.85082447218372,
          483.02197802197804,
          600,
          268.0952380952381,
          309.04761904761904,
          193.7832604288915,
          426.45399907535835,
          209.2020534751117,
          173.01419858458695,
          193.7135922330097,
          181.304100430314,
          276.3349514563107,
          228.83495145631068,
          303.33333333333337,
          425.8333333333333,
          640.4029304029303,
          369.74536790070766,
          252.40535758739642,
          386.3349514563107,
          465.6593406593406,
          308.0952380952381,
          228.83495145631068,
          193.6296187631139,
          308.0952380952381,
          173.01419858458695,
          173.01419858458695,
          173.01419858458695,
          173.01419858458695,
          173.01419858458695,
          173.01419858458695,
          173.01419858458695,
          173.01419858458695,
          173.01419858458695,
          173.01419858458695,
          173.01419858458695,
          173.01419858458695,
          173.01419858458695,
          173.01419858458695,
          173.01419858458695,
          173.01419858458695,
          173.01419858458695,
          173.01419858458695,
          173.01419858458695,
          173.01419858458695,
          173.01419858458695,
          173.01419858458695,
          173.01419858458695,
          173.01419858458695,
          173.01419858458695,
          173.01419858458695,
          173.01419858458695,
          173.01419858458695,
          173.01419858458695,
          173.01419858458695,
          173.01419858458695,
          173.01419858458695,
          173.01419858458695,
          173.01419858458695,
          173.01419858458695,
          173.01419858458695,
          173.01419858458695,
          173.01419858458695,
          173.01419858458695,
          173.01419858458695,
          173.01419858458695,
          173.01419858458695,
          173.01419858458695,
          173.01419858458695,
          173.01419858458695,
          173.01419858458695,
          173.01419858458695,
          173.01419858458695,
          173.01419858458695,
          173.01419858458695
         ]
        },
        {
         "type": "scatter",
         "x": [
          0,
          1000000000,
          3000000000,
          17000000000,
          26000000000,
          27000000000,
          29999999999.999992
         ],
         "y": [
          737.5,
          363.33333333333337,
          268.0952380952381,
          211.85082447218372,
          182.37864077669903,
          179.97901774600803,
          173.01419858458695
         ]
        }
       ],
       "layout": {
        "template": {
         "data": {
          "bar": [
           {
            "error_x": {
             "color": "#2a3f5f"
            },
            "error_y": {
             "color": "#2a3f5f"
            },
            "marker": {
             "line": {
              "color": "#E5ECF6",
              "width": 0.5
             }
            },
            "type": "bar"
           }
          ],
          "barpolar": [
           {
            "marker": {
             "line": {
              "color": "#E5ECF6",
              "width": 0.5
             }
            },
            "type": "barpolar"
           }
          ],
          "carpet": [
           {
            "aaxis": {
             "endlinecolor": "#2a3f5f",
             "gridcolor": "white",
             "linecolor": "white",
             "minorgridcolor": "white",
             "startlinecolor": "#2a3f5f"
            },
            "baxis": {
             "endlinecolor": "#2a3f5f",
             "gridcolor": "white",
             "linecolor": "white",
             "minorgridcolor": "white",
             "startlinecolor": "#2a3f5f"
            },
            "type": "carpet"
           }
          ],
          "choropleth": [
           {
            "colorbar": {
             "outlinewidth": 0,
             "ticks": ""
            },
            "type": "choropleth"
           }
          ],
          "contour": [
           {
            "colorbar": {
             "outlinewidth": 0,
             "ticks": ""
            },
            "colorscale": [
             [
              0,
              "#0d0887"
             ],
             [
              0.1111111111111111,
              "#46039f"
             ],
             [
              0.2222222222222222,
              "#7201a8"
             ],
             [
              0.3333333333333333,
              "#9c179e"
             ],
             [
              0.4444444444444444,
              "#bd3786"
             ],
             [
              0.5555555555555556,
              "#d8576b"
             ],
             [
              0.6666666666666666,
              "#ed7953"
             ],
             [
              0.7777777777777778,
              "#fb9f3a"
             ],
             [
              0.8888888888888888,
              "#fdca26"
             ],
             [
              1,
              "#f0f921"
             ]
            ],
            "type": "contour"
           }
          ],
          "contourcarpet": [
           {
            "colorbar": {
             "outlinewidth": 0,
             "ticks": ""
            },
            "type": "contourcarpet"
           }
          ],
          "heatmap": [
           {
            "colorbar": {
             "outlinewidth": 0,
             "ticks": ""
            },
            "colorscale": [
             [
              0,
              "#0d0887"
             ],
             [
              0.1111111111111111,
              "#46039f"
             ],
             [
              0.2222222222222222,
              "#7201a8"
             ],
             [
              0.3333333333333333,
              "#9c179e"
             ],
             [
              0.4444444444444444,
              "#bd3786"
             ],
             [
              0.5555555555555556,
              "#d8576b"
             ],
             [
              0.6666666666666666,
              "#ed7953"
             ],
             [
              0.7777777777777778,
              "#fb9f3a"
             ],
             [
              0.8888888888888888,
              "#fdca26"
             ],
             [
              1,
              "#f0f921"
             ]
            ],
            "type": "heatmap"
           }
          ],
          "heatmapgl": [
           {
            "colorbar": {
             "outlinewidth": 0,
             "ticks": ""
            },
            "colorscale": [
             [
              0,
              "#0d0887"
             ],
             [
              0.1111111111111111,
              "#46039f"
             ],
             [
              0.2222222222222222,
              "#7201a8"
             ],
             [
              0.3333333333333333,
              "#9c179e"
             ],
             [
              0.4444444444444444,
              "#bd3786"
             ],
             [
              0.5555555555555556,
              "#d8576b"
             ],
             [
              0.6666666666666666,
              "#ed7953"
             ],
             [
              0.7777777777777778,
              "#fb9f3a"
             ],
             [
              0.8888888888888888,
              "#fdca26"
             ],
             [
              1,
              "#f0f921"
             ]
            ],
            "type": "heatmapgl"
           }
          ],
          "histogram": [
           {
            "marker": {
             "colorbar": {
              "outlinewidth": 0,
              "ticks": ""
             }
            },
            "type": "histogram"
           }
          ],
          "histogram2d": [
           {
            "colorbar": {
             "outlinewidth": 0,
             "ticks": ""
            },
            "colorscale": [
             [
              0,
              "#0d0887"
             ],
             [
              0.1111111111111111,
              "#46039f"
             ],
             [
              0.2222222222222222,
              "#7201a8"
             ],
             [
              0.3333333333333333,
              "#9c179e"
             ],
             [
              0.4444444444444444,
              "#bd3786"
             ],
             [
              0.5555555555555556,
              "#d8576b"
             ],
             [
              0.6666666666666666,
              "#ed7953"
             ],
             [
              0.7777777777777778,
              "#fb9f3a"
             ],
             [
              0.8888888888888888,
              "#fdca26"
             ],
             [
              1,
              "#f0f921"
             ]
            ],
            "type": "histogram2d"
           }
          ],
          "histogram2dcontour": [
           {
            "colorbar": {
             "outlinewidth": 0,
             "ticks": ""
            },
            "colorscale": [
             [
              0,
              "#0d0887"
             ],
             [
              0.1111111111111111,
              "#46039f"
             ],
             [
              0.2222222222222222,
              "#7201a8"
             ],
             [
              0.3333333333333333,
              "#9c179e"
             ],
             [
              0.4444444444444444,
              "#bd3786"
             ],
             [
              0.5555555555555556,
              "#d8576b"
             ],
             [
              0.6666666666666666,
              "#ed7953"
             ],
             [
              0.7777777777777778,
              "#fb9f3a"
             ],
             [
              0.8888888888888888,
              "#fdca26"
             ],
             [
              1,
              "#f0f921"
             ]
            ],
            "type": "histogram2dcontour"
           }
          ],
          "mesh3d": [
           {
            "colorbar": {
             "outlinewidth": 0,
             "ticks": ""
            },
            "type": "mesh3d"
           }
          ],
          "parcoords": [
           {
            "line": {
             "colorbar": {
              "outlinewidth": 0,
              "ticks": ""
             }
            },
            "type": "parcoords"
           }
          ],
          "pie": [
           {
            "automargin": true,
            "type": "pie"
           }
          ],
          "scatter": [
           {
            "marker": {
             "colorbar": {
              "outlinewidth": 0,
              "ticks": ""
             }
            },
            "type": "scatter"
           }
          ],
          "scatter3d": [
           {
            "line": {
             "colorbar": {
              "outlinewidth": 0,
              "ticks": ""
             }
            },
            "marker": {
             "colorbar": {
              "outlinewidth": 0,
              "ticks": ""
             }
            },
            "type": "scatter3d"
           }
          ],
          "scattercarpet": [
           {
            "marker": {
             "colorbar": {
              "outlinewidth": 0,
              "ticks": ""
             }
            },
            "type": "scattercarpet"
           }
          ],
          "scattergeo": [
           {
            "marker": {
             "colorbar": {
              "outlinewidth": 0,
              "ticks": ""
             }
            },
            "type": "scattergeo"
           }
          ],
          "scattergl": [
           {
            "marker": {
             "colorbar": {
              "outlinewidth": 0,
              "ticks": ""
             }
            },
            "type": "scattergl"
           }
          ],
          "scattermapbox": [
           {
            "marker": {
             "colorbar": {
              "outlinewidth": 0,
              "ticks": ""
             }
            },
            "type": "scattermapbox"
           }
          ],
          "scatterpolar": [
           {
            "marker": {
             "colorbar": {
              "outlinewidth": 0,
              "ticks": ""
             }
            },
            "type": "scatterpolar"
           }
          ],
          "scatterpolargl": [
           {
            "marker": {
             "colorbar": {
              "outlinewidth": 0,
              "ticks": ""
             }
            },
            "type": "scatterpolargl"
           }
          ],
          "scatterternary": [
           {
            "marker": {
             "colorbar": {
              "outlinewidth": 0,
              "ticks": ""
             }
            },
            "type": "scatterternary"
           }
          ],
          "surface": [
           {
            "colorbar": {
             "outlinewidth": 0,
             "ticks": ""
            },
            "colorscale": [
             [
              0,
              "#0d0887"
             ],
             [
              0.1111111111111111,
              "#46039f"
             ],
             [
              0.2222222222222222,
              "#7201a8"
             ],
             [
              0.3333333333333333,
              "#9c179e"
             ],
             [
              0.4444444444444444,
              "#bd3786"
             ],
             [
              0.5555555555555556,
              "#d8576b"
             ],
             [
              0.6666666666666666,
              "#ed7953"
             ],
             [
              0.7777777777777778,
              "#fb9f3a"
             ],
             [
              0.8888888888888888,
              "#fdca26"
             ],
             [
              1,
              "#f0f921"
             ]
            ],
            "type": "surface"
           }
          ],
          "table": [
           {
            "cells": {
             "fill": {
              "color": "#EBF0F8"
             },
             "line": {
              "color": "white"
             }
            },
            "header": {
             "fill": {
              "color": "#C8D4E3"
             },
             "line": {
              "color": "white"
             }
            },
            "type": "table"
           }
          ]
         },
         "layout": {
          "annotationdefaults": {
           "arrowcolor": "#2a3f5f",
           "arrowhead": 0,
           "arrowwidth": 1
          },
          "coloraxis": {
           "colorbar": {
            "outlinewidth": 0,
            "ticks": ""
           }
          },
          "colorscale": {
           "diverging": [
            [
             0,
             "#8e0152"
            ],
            [
             0.1,
             "#c51b7d"
            ],
            [
             0.2,
             "#de77ae"
            ],
            [
             0.3,
             "#f1b6da"
            ],
            [
             0.4,
             "#fde0ef"
            ],
            [
             0.5,
             "#f7f7f7"
            ],
            [
             0.6,
             "#e6f5d0"
            ],
            [
             0.7,
             "#b8e186"
            ],
            [
             0.8,
             "#7fbc41"
            ],
            [
             0.9,
             "#4d9221"
            ],
            [
             1,
             "#276419"
            ]
           ],
           "sequential": [
            [
             0,
             "#0d0887"
            ],
            [
             0.1111111111111111,
             "#46039f"
            ],
            [
             0.2222222222222222,
             "#7201a8"
            ],
            [
             0.3333333333333333,
             "#9c179e"
            ],
            [
             0.4444444444444444,
             "#bd3786"
            ],
            [
             0.5555555555555556,
             "#d8576b"
            ],
            [
             0.6666666666666666,
             "#ed7953"
            ],
            [
             0.7777777777777778,
             "#fb9f3a"
            ],
            [
             0.8888888888888888,
             "#fdca26"
            ],
            [
             1,
             "#f0f921"
            ]
           ],
           "sequentialminus": [
            [
             0,
             "#0d0887"
            ],
            [
             0.1111111111111111,
             "#46039f"
            ],
            [
             0.2222222222222222,
             "#7201a8"
            ],
            [
             0.3333333333333333,
             "#9c179e"
            ],
            [
             0.4444444444444444,
             "#bd3786"
            ],
            [
             0.5555555555555556,
             "#d8576b"
            ],
            [
             0.6666666666666666,
             "#ed7953"
            ],
            [
             0.7777777777777778,
             "#fb9f3a"
            ],
            [
             0.8888888888888888,
             "#fdca26"
            ],
            [
             1,
             "#f0f921"
            ]
           ]
          },
          "colorway": [
           "#636efa",
           "#EF553B",
           "#00cc96",
           "#ab63fa",
           "#FFA15A",
           "#19d3f3",
           "#FF6692",
           "#B6E880",
           "#FF97FF",
           "#FECB52"
          ],
          "font": {
           "color": "#2a3f5f"
          },
          "geo": {
           "bgcolor": "white",
           "lakecolor": "white",
           "landcolor": "#E5ECF6",
           "showlakes": true,
           "showland": true,
           "subunitcolor": "white"
          },
          "hoverlabel": {
           "align": "left"
          },
          "hovermode": "closest",
          "mapbox": {
           "style": "light"
          },
          "paper_bgcolor": "white",
          "plot_bgcolor": "#E5ECF6",
          "polar": {
           "angularaxis": {
            "gridcolor": "white",
            "linecolor": "white",
            "ticks": ""
           },
           "bgcolor": "#E5ECF6",
           "radialaxis": {
            "gridcolor": "white",
            "linecolor": "white",
            "ticks": ""
           }
          },
          "scene": {
           "xaxis": {
            "backgroundcolor": "#E5ECF6",
            "gridcolor": "white",
            "gridwidth": 2,
            "linecolor": "white",
            "showbackground": true,
            "ticks": "",
            "zerolinecolor": "white"
           },
           "yaxis": {
            "backgroundcolor": "#E5ECF6",
            "gridcolor": "white",
            "gridwidth": 2,
            "linecolor": "white",
            "showbackground": true,
            "ticks": "",
            "zerolinecolor": "white"
           },
           "zaxis": {
            "backgroundcolor": "#E5ECF6",
            "gridcolor": "white",
            "gridwidth": 2,
            "linecolor": "white",
            "showbackground": true,
            "ticks": "",
            "zerolinecolor": "white"
           }
          },
          "shapedefaults": {
           "line": {
            "color": "#2a3f5f"
           }
          },
          "ternary": {
           "aaxis": {
            "gridcolor": "white",
            "linecolor": "white",
            "ticks": ""
           },
           "baxis": {
            "gridcolor": "white",
            "linecolor": "white",
            "ticks": ""
           },
           "bgcolor": "#E5ECF6",
           "caxis": {
            "gridcolor": "white",
            "linecolor": "white",
            "ticks": ""
           }
          },
          "title": {
           "x": 0.05
          },
          "xaxis": {
           "automargin": true,
           "gridcolor": "white",
           "linecolor": "white",
           "ticks": "",
           "title": {
            "standoff": 15
           },
           "zerolinecolor": "white",
           "zerolinewidth": 2
          },
          "yaxis": {
           "automargin": true,
           "gridcolor": "white",
           "linecolor": "white",
           "ticks": "",
           "title": {
            "standoff": 15
           },
           "zerolinecolor": "white",
           "zerolinewidth": 2
          }
         }
        },
        "xaxis": {
         "title": {
          "text": "Size of BB in bytes (B = 1e9 = GB)"
         }
        },
        "yaxis": {
         "title": {
          "text": "Workflow duration in seconds"
         }
        }
       }
      }
     },
     "metadata": {},
     "output_type": "display_data"
    }
   ],
   "source": [
    "points = []\n",
    "for (xi, yi) in zip(df['BB_size'].tolist(), (df['Fitness']).tolist()):\n",
    "    points.append((xi,yi))\n",
    "lower = convex_hull(points)\n",
    "fig.add_traces(go.Scatter(x=np.array([low[0] for low in lower]),\n",
    "                            y=np.array([low[1] for low in lower])))\n",
    "fig.show()"
   ]
  },
  {
   "cell_type": "markdown",
   "metadata": {},
   "source": [
    "Display individual points (placement recommandation)"
   ]
  },
  {
   "cell_type": "code",
   "execution_count": null,
   "metadata": {},
   "outputs": [
    {
     "data": {
      "text/plain": [
       "array([1., 0., 0., 1., 0., 1., 0., 0., 0., 0., 1., 0., 1., 1.])"
      ]
     },
     "execution_count": 8,
     "metadata": {},
     "output_type": "execute_result"
    }
   ],
   "source": [
    "idx = 21\n",
    "df.loc[21][\"Param\"]"
   ]
  },
  {
   "cell_type": "code",
   "execution_count": null,
   "metadata": {},
   "outputs": [
    {
     "name": "stdout",
     "output_type": "stream",
     "text": [
      "Displaying result for placement parameter = [1.0, 0.0, 0.0, 1.0, 0.0, 1.0, 0.0, 0.0, 0.0, 0.0, 1.0, 0.0, 1.0, 1.0]\n",
      "    | app#1 : tier placement: [1.0, 0.0] | use_bb = [False, False]\n",
      "    | app#2 : tier placement: [0.0, 1.0, 0.0] | use_bb = [True, False, True]\n",
      "    | app#3 : tier placement: [1.0, 0.0] | use_bb = [False, True]\n",
      "    | runtime = 206.62493924629848 |  BB_size = 20.0 GB\n"
     ]
    },
    {
     "data": {
      "application/vnd.plotly.v1+json": {
       "config": {
        "plotlyServerURL": "https://plot.ly"
       },
       "data": [
        {
         "line": {
          "shape": "linear"
         },
         "name": "app#B3",
         "text": [
          "READ|to/from:SSD|volume=1.0 GB",
          "READ|to/from:SSD|volume=1.0 GB",
          "COMPUTE|volume=0B",
          "COMPUTE|volume=0B",
          "WRITE|to/from:HDD|volume=361.9 MB",
          "WRITE|to/from:HDD|volume=361.9 MB",
          "WRITE|to/from:HDD|volume=153.85 MB",
          "WRITE|to/from:HDD|volume=153.85 MB",
          "WRITE|to/from:HDD|volume=36.63 MB",
          "WRITE|to/from:HDD|volume=36.63 MB",
          "WRITE|to/from:HDD|volume=400.0 MB",
          "WRITE|to/from:HDD|volume=400.0 MB",
          "WRITE|to/from:HDD|volume=361.9 MB",
          "WRITE|to/from:HDD|volume=361.9 MB",
          "WRITE|to/from:HDD|volume=1.47 MB",
          "WRITE|to/from:HDD|volume=1.47 MB",
          "WRITE|to/from:HDD|volume=724.01 MB",
          "WRITE|to/from:HDD|volume=724.01 MB",
          "WRITE|to/from:HDD|volume=2.96 GB",
          "WRITE|to/from:HDD|volume=2.96 GB"
         ],
         "textposition": "top center",
         "type": "scatter",
         "x": [
          0,
          14.285714285714286,
          14.285714285714286,
          24.285714285714285,
          24.285714285714285,
          33.333333333333336,
          33.333333333333336,
          37.17948717948718,
          37.17948717948718,
          38.095238095238095,
          38.095238095238095,
          48.095238095238095,
          48.095238095238095,
          57.142857142857146,
          57.142857142857146,
          57.17948717948718,
          57.17948717948718,
          75.27970411465557,
          75.27970411465557,
          149.28571428571428
         ],
         "xaxis": "x",
         "y": [
          70,
          70,
          0,
          0,
          40,
          40,
          40,
          40,
          40,
          40,
          40,
          40,
          40,
          40,
          40,
          40,
          40,
          40,
          40,
          40
         ],
         "yaxis": "y"
        },
        {
         "line": {
          "dash": "dot",
          "shape": "linear"
         },
         "name": "B3 mvt",
         "text": [],
         "textposition": "top center",
         "type": "scatter",
         "x": [],
         "xaxis": "x",
         "y": [],
         "yaxis": "y"
        },
        {
         "line": {
          "shape": "linear"
         },
         "name": "app#O6",
         "text": [
          "READ|to/from:SSD|volume=1.0 GB",
          "READ|to/from:SSD|volume=1.0 GB",
          "READ|to/from:SSD|volume=1.05 GB",
          "READ|to/from:SSD|volume=1.05 GB",
          "READ|to/from:SSD|volume=950.0 MB",
          "READ|to/from:SSD|volume=950.0 MB",
          "READ|to/from:SSD|volume=807.69 MB",
          "READ|to/from:SSD|volume=807.69 MB",
          "READ|to/from:SSD|volume=192.31 MB",
          "READ|to/from:SSD|volume=192.31 MB",
          "COMPUTE|volume=0B",
          "COMPUTE|volume=0B",
          "WRITE|to/from:BB|volume=2.33 GB",
          "WRITE|to/from:BB|volume=2.33 GB",
          "WRITE|to/from:BB|volume=9.43 MB",
          "WRITE|to/from:BB|volume=9.43 MB",
          "WRITE|to/from:BB|volume=4.66 GB",
          "WRITE|to/from:BB|volume=4.66 GB"
         ],
         "textposition": "top center",
         "type": "scatter",
         "x": [
          0,
          14.285714285714286,
          14.285714285714286,
          24.285714285714285,
          24.285714285714285,
          33.333333333333336,
          33.333333333333336,
          37.17948717948718,
          37.17948717948718,
          38.095238095238095,
          38.095238095238095,
          48.095238095238095,
          48.095238095238095,
          57.142857142857146,
          57.142857142857146,
          57.17948717948718,
          57.17948717948718,
          75.27970411465557
         ],
         "xaxis": "x2",
         "y": [
          70,
          70,
          105,
          105,
          105,
          105,
          210,
          210,
          210,
          210,
          0,
          0,
          257.5,
          257.5,
          257.5,
          257.5,
          257.5,
          257.5
         ],
         "yaxis": "y2"
        },
        {
         "line": {
          "dash": "dot",
          "shape": "linear"
         },
         "name": "O6 mvt",
         "text": [
          "MOVEMENT|in:SSD|from:BB|volume=904.76 MB",
          "MOVEMENT|in:SSD|volume=904.76 MB",
          "MOVEMENT|in:SSD|from:BB|volume=3.66 MB",
          "MOVEMENT|in:SSD|volume=3.66 MB",
          "MOVEMENT|in:SSD|from:BB|volume=905.01 MB",
          "MOVEMENT|in:SSD|volume=905.01 MB",
          "MOVEMENT|in:SSD|from:BB|volume=3.7 GB",
          "MOVEMENT|in:SSD|volume=3.7 GB",
          "MOVEMENT|in:SSD|from:BB|volume=394.69 MB",
          "MOVEMENT|in:SSD|volume=394.69 MB",
          "MOVEMENT|in:SSD|from:BB|volume=1.0 GB",
          "MOVEMENT|in:SSD|volume=1.0 GB",
          "MOVEMENT|in:SSD|from:BB|volume=91.58 MB",
          "MOVEMENT|in:SSD|volume=91.58 MB"
         ],
         "textposition": "top center",
         "type": "scatter",
         "x": [
          48.095238095238095,
          57.142857142857146,
          57.142857142857146,
          57.17948717948718,
          57.17948717948718,
          75.27970411465557,
          75.27970411465557,
          149.28571428571428,
          149.28571428571428,
          157.17948717948718,
          157.17948717948718,
          167.17948717948718,
          167.17948717948718,
          169.010989010989
         ],
         "xaxis": "x2",
         "y": [
          100,
          100,
          100,
          100,
          50,
          50,
          50,
          50,
          50,
          50,
          100,
          100,
          50,
          50
         ],
         "yaxis": "y2"
        },
        {
         "line": {
          "shape": "linear"
         },
         "name": "app#P1",
         "text": [
          "READ|to/from:BB|volume=3.0 GB",
          "READ|to/from:BB|volume=3.0 GB",
          "COMPUTE|volume=0B",
          "COMPUTE|volume=0B",
          "WRITE|to/from:SSD|volume=905.01 MB",
          "WRITE|to/from:SSD|volume=905.01 MB",
          "WRITE|to/from:SSD|volume=3.7 GB",
          "WRITE|to/from:SSD|volume=3.7 GB",
          "WRITE|to/from:SSD|volume=394.69 MB",
          "WRITE|to/from:SSD|volume=394.69 MB",
          "COMPUTE|volume=0B",
          "COMPUTE|volume=0B",
          "WRITE|to/from:BB|volume=314.41 MB",
          "WRITE|to/from:BB|volume=314.41 MB",
          "WRITE|to/from:BB|volume=2.58 GB",
          "WRITE|to/from:BB|volume=2.58 GB",
          "WRITE|to/from:BB|volume=7.32 ZB",
          "WRITE|to/from:BB|volume=7.32 ZB",
          "WRITE|to/from:BB|volume=7.11 GB",
          "WRITE|to/from:BB|volume=7.11 GB"
         ],
         "textposition": "top center",
         "type": "scatter",
         "x": [
          33.333333333333336,
          37.17948717948718,
          37.17948717948718,
          57.17948717948718,
          57.17948717948718,
          75.27970411465557,
          75.27970411465557,
          149.28571428571428,
          149.28571428571428,
          157.17948717948718,
          157.17948717948718,
          167.17948717948718,
          167.17948717948718,
          169.010989010989,
          169.010989010989,
          179.010989010989,
          179.010989010989,
          179.01098901098902,
          179.01098901098902,
          206.62493924629848
         ],
         "xaxis": "x3",
         "y": [
          780,
          780,
          0,
          0,
          50,
          50,
          50,
          50,
          50,
          50,
          0,
          0,
          171.66666666666666,
          171.66666666666666,
          257.5,
          257.5,
          257.5,
          257.5,
          257.5,
          257.5
         ],
         "yaxis": "y3"
        },
        {
         "line": {
          "dash": "dot",
          "shape": "linear"
         },
         "name": "P1 mvt",
         "text": [
          "MOVEMENT|in:BB|from:SSD|volume=1.0 GB",
          "MOVEMENT|in:BB|volume=1.0 GB",
          "MOVEMENT|in:BB|from:SSD|volume=1.05 GB",
          "MOVEMENT|in:BB|volume=1.05 GB",
          "MOVEMENT|in:BB|from:SSD|volume=950.0 MB",
          "MOVEMENT|in:BB|volume=950.0 MB",
          "MOVEMENT|in:BB|from:SSD|volume=119.21 EB",
          "MOVEMENT|in:BB|volume=119.21 EB",
          "MOVEMENT|in:SSD|from:BB|volume=91.58 MB",
          "MOVEMENT|in:SSD|volume=91.58 MB",
          "MOVEMENT|in:SSD|from:BB|volume=1.0 GB",
          "MOVEMENT|in:SSD|volume=1.0 GB",
          "MOVEMENT|in:SSD|from:BB|volume=2.84 ZB",
          "MOVEMENT|in:SSD|volume=2.84 ZB",
          "MOVEMENT|in:SSD|from:BB|volume=2.76 GB",
          "MOVEMENT|in:SSD|volume=2.76 GB",
          "MOVEMENT|in:SSD|from:BB|volume=6.15 GB",
          "MOVEMENT|in:SSD|volume=6.15 GB"
         ],
         "textposition": "top center",
         "type": "scatter",
         "x": [
          0,
          14.285714285714286,
          14.285714285714286,
          24.285714285714285,
          24.285714285714285,
          33.333333333333336,
          33.333333333333336,
          33.333333333333336,
          167.17948717948718,
          169.010989010989,
          169.010989010989,
          179.010989010989,
          179.010989010989,
          179.01098901098902,
          179.01098901098902,
          206.62493924629848,
          206.62493924629848,
          268.0952380952381
         ],
         "xaxis": "x3",
         "y": [
          70,
          70,
          105,
          105,
          105,
          105,
          105,
          105,
          50,
          50,
          100,
          100,
          100,
          100,
          100,
          100,
          100,
          100
         ],
         "yaxis": "y3"
        },
        {
         "line": {
          "shape": "linear"
         },
         "name": "BB",
         "showlegend": false,
         "text": [
          "B3|Read|SSD | +volume=1.0 GB",
          "P1|Movement|BB | +volume=1.0 GB",
          "O6|Read|SSD | +volume=1.0 GB",
          "B3|Compute | +volume=0B",
          "O6|Read|SSD | +volume=1.05 GB",
          "P1|Movement|BB | +volume=1.05 GB",
          "P1|Movement|BB | +volume=950.0 MB",
          "O6|Read|SSD | +volume=950.0 MB",
          "B3|Write|HDD | +volume=361.9 MB",
          "P1|Movement|BB | +volume=119.21 EB",
          "P1|Read|BB | +volume=3.0 GB",
          "B3|Write|HDD | +volume=153.85 MB",
          "O6|Read|SSD | +volume=807.69 MB",
          "O6|Read|SSD | +volume=192.31 MB",
          "B3|Write|HDD | +volume=36.63 MB",
          "O6|Compute | +volume=0B",
          "B3|Write|HDD | +volume=400.0 MB",
          "O6|Write|BB | +volume=2.33 GB",
          "B3|Write|HDD | +volume=361.9 MB",
          "O6|Movement|SSD | +volume=904.76 MB",
          "P1|Compute | +volume=0B",
          "O6|Movement|SSD | +volume=3.66 MB",
          "B3|Write|HDD | +volume=1.47 MB",
          "O6|Write|BB | +volume=9.43 MB",
          "O6|Write|BB | +volume=4.66 GB",
          "P1|Write|SSD | +volume=905.01 MB",
          "O6|Movement|SSD | +volume=905.01 MB",
          "B3|Write|HDD | +volume=724.01 MB",
          "B3|Write|HDD | +volume=2.96 GB",
          "P1|Write|SSD | +volume=3.7 GB",
          "O6|Movement|SSD | +volume=3.7 GB",
          "P1|Write|SSD | +volume=394.69 MB",
          "O6|Movement|SSD | +volume=394.69 MB",
          "P1|Compute | +volume=0B",
          "O6|Movement|SSD | +volume=1.0 GB",
          "O6|Movement|SSD | +volume=91.58 MB",
          "P1|Movement|SSD | +volume=91.58 MB",
          "P1|Write|BB | +volume=314.41 MB",
          "P1|Movement|SSD | +volume=1.0 GB",
          "P1|Write|BB | +volume=2.58 GB",
          "P1|Write|BB | +volume=7.32 ZB",
          "P1|Movement|SSD | +volume=2.84 ZB",
          "P1|Write|BB | +volume=7.11 GB",
          "P1|Movement|SSD | +volume=2.76 GB",
          "P1|Movement|SSD | +volume=6.15 GB"
         ],
         "textposition": "top center",
         "type": "scatter",
         "x": [
          0,
          14.285714285714286,
          24.285714285714285,
          33.333333333333336,
          37.17948717948718,
          38.095238095238095,
          48.095238095238095,
          57.142857142857146,
          57.17948717948718,
          75.27970411465557,
          149.28571428571428,
          157.17948717948718,
          167.17948717948718,
          169.010989010989,
          179.010989010989,
          179.01098901098902,
          206.62493924629848,
          268.0952380952381
         ],
         "xaxis": "x4",
         "y": [
          0,
          1000000000,
          2050000000,
          3000000000,
          3000000000,
          3000000000,
          3000000000,
          5329761904.761906,
          5339194139.19414,
          9999999999.999998,
          9999999999.999998,
          9999999999.999998,
          9999999999.999998,
          10314407814.40781,
          12889407814.40781,
          12889407814.407818,
          19999999999.999996,
          19999999999.999996
         ],
         "yaxis": "y4"
        },
        {
         "line": {
          "shape": "linear"
         },
         "name": "HDD",
         "showlegend": false,
         "text": [
          "B3|Read|SSD | +volume=1.0 GB",
          "P1|Movement|BB | +volume=1.0 GB",
          "O6|Read|SSD | +volume=1.0 GB",
          "B3|Compute | +volume=0B",
          "O6|Read|SSD | +volume=1.05 GB",
          "P1|Movement|BB | +volume=1.05 GB",
          "P1|Movement|BB | +volume=950.0 MB",
          "O6|Read|SSD | +volume=950.0 MB",
          "B3|Write|HDD | +volume=361.9 MB",
          "P1|Movement|BB | +volume=119.21 EB",
          "P1|Read|BB | +volume=3.0 GB",
          "B3|Write|HDD | +volume=153.85 MB",
          "O6|Read|SSD | +volume=807.69 MB",
          "O6|Read|SSD | +volume=192.31 MB",
          "B3|Write|HDD | +volume=36.63 MB",
          "O6|Compute | +volume=0B",
          "B3|Write|HDD | +volume=400.0 MB",
          "O6|Write|BB | +volume=2.33 GB",
          "B3|Write|HDD | +volume=361.9 MB",
          "O6|Movement|SSD | +volume=904.76 MB",
          "P1|Compute | +volume=0B",
          "O6|Movement|SSD | +volume=3.66 MB",
          "B3|Write|HDD | +volume=1.47 MB",
          "O6|Write|BB | +volume=9.43 MB",
          "O6|Write|BB | +volume=4.66 GB",
          "P1|Write|SSD | +volume=905.01 MB",
          "O6|Movement|SSD | +volume=905.01 MB",
          "B3|Write|HDD | +volume=724.01 MB",
          "B3|Write|HDD | +volume=2.96 GB",
          "P1|Write|SSD | +volume=3.7 GB",
          "O6|Movement|SSD | +volume=3.7 GB",
          "P1|Write|SSD | +volume=394.69 MB",
          "O6|Movement|SSD | +volume=394.69 MB",
          "P1|Compute | +volume=0B",
          "O6|Movement|SSD | +volume=1.0 GB",
          "O6|Movement|SSD | +volume=91.58 MB",
          "P1|Movement|SSD | +volume=91.58 MB",
          "P1|Write|BB | +volume=314.41 MB",
          "P1|Movement|SSD | +volume=1.0 GB",
          "P1|Write|BB | +volume=2.58 GB",
          "P1|Write|BB | +volume=7.32 ZB",
          "P1|Movement|SSD | +volume=2.84 ZB",
          "P1|Write|BB | +volume=7.11 GB",
          "P1|Movement|SSD | +volume=2.76 GB",
          "P1|Movement|SSD | +volume=6.15 GB"
         ],
         "textposition": "top center",
         "type": "scatter",
         "x": [
          0,
          14.285714285714286,
          24.285714285714285,
          33.333333333333336,
          37.17948717948718,
          38.095238095238095,
          48.095238095238095,
          57.142857142857146,
          57.17948717948718,
          75.27970411465557,
          149.28571428571428,
          157.17948717948718,
          167.17948717948718,
          169.010989010989,
          179.010989010989,
          179.01098901098902,
          206.62493924629848,
          268.0952380952381
         ],
         "xaxis": "x5",
         "y": [
          0,
          0,
          0,
          361904761.904762,
          515750915.7509159,
          552380952.3809524,
          952380952.3809524,
          1314285714.2857144,
          1315750915.7509158,
          2039759593.1576514,
          5000000000,
          5000000000,
          5000000000,
          5000000000,
          5000000000,
          5000000000,
          5000000000,
          5000000000
         ],
         "yaxis": "y5"
        },
        {
         "line": {
          "shape": "linear"
         },
         "name": "SSD",
         "showlegend": false,
         "text": [
          "B3|Read|SSD | +volume=1.0 GB",
          "P1|Movement|BB | +volume=1.0 GB",
          "O6|Read|SSD | +volume=1.0 GB",
          "B3|Compute | +volume=0B",
          "O6|Read|SSD | +volume=1.05 GB",
          "P1|Movement|BB | +volume=1.05 GB",
          "P1|Movement|BB | +volume=950.0 MB",
          "O6|Read|SSD | +volume=950.0 MB",
          "B3|Write|HDD | +volume=361.9 MB",
          "P1|Movement|BB | +volume=119.21 EB",
          "P1|Read|BB | +volume=3.0 GB",
          "B3|Write|HDD | +volume=153.85 MB",
          "O6|Read|SSD | +volume=807.69 MB",
          "O6|Read|SSD | +volume=192.31 MB",
          "B3|Write|HDD | +volume=36.63 MB",
          "O6|Compute | +volume=0B",
          "B3|Write|HDD | +volume=400.0 MB",
          "O6|Write|BB | +volume=2.33 GB",
          "B3|Write|HDD | +volume=361.9 MB",
          "O6|Movement|SSD | +volume=904.76 MB",
          "P1|Compute | +volume=0B",
          "O6|Movement|SSD | +volume=3.66 MB",
          "B3|Write|HDD | +volume=1.47 MB",
          "O6|Write|BB | +volume=9.43 MB",
          "O6|Write|BB | +volume=4.66 GB",
          "P1|Write|SSD | +volume=905.01 MB",
          "O6|Movement|SSD | +volume=905.01 MB",
          "B3|Write|HDD | +volume=724.01 MB",
          "B3|Write|HDD | +volume=2.96 GB",
          "P1|Write|SSD | +volume=3.7 GB",
          "O6|Movement|SSD | +volume=3.7 GB",
          "P1|Write|SSD | +volume=394.69 MB",
          "O6|Movement|SSD | +volume=394.69 MB",
          "P1|Compute | +volume=0B",
          "O6|Movement|SSD | +volume=1.0 GB",
          "O6|Movement|SSD | +volume=91.58 MB",
          "P1|Movement|SSD | +volume=91.58 MB",
          "P1|Write|BB | +volume=314.41 MB",
          "P1|Movement|SSD | +volume=1.0 GB",
          "P1|Write|BB | +volume=2.58 GB",
          "P1|Write|BB | +volume=7.32 ZB",
          "P1|Movement|SSD | +volume=2.84 ZB",
          "P1|Write|BB | +volume=7.11 GB",
          "P1|Movement|SSD | +volume=2.76 GB",
          "P1|Movement|SSD | +volume=6.15 GB"
         ],
         "textposition": "top center",
         "type": "scatter",
         "x": [
          0,
          14.285714285714286,
          24.285714285714285,
          33.333333333333336,
          37.17948717948718,
          38.095238095238095,
          48.095238095238095,
          57.142857142857146,
          57.17948717948718,
          75.27970411465557,
          149.28571428571428,
          157.17948717948718,
          167.17948717948718,
          169.010989010989,
          179.010989010989,
          179.01098901098902,
          206.62493924629848,
          268.0952380952381
         ],
         "xaxis": "x6",
         "y": [
          0,
          4000000000,
          4000000000,
          4000000000,
          4000000000,
          4000000000,
          4000000000,
          4904761904.761905,
          4908424908.424909,
          6718446601.941748,
          14119047619.047617,
          14908424908.424908,
          15908424908.424908,
          16091575091.575089,
          17091575091.575089,
          17091575091.57509,
          19852970115.106033,
          26000000000
         ],
         "yaxis": "y6"
        },
        {
         "line": {
          "shape": "hv"
         },
         "showlegend": false,
         "type": "scatter",
         "x": [
          0,
          14.285714285714286,
          24.285714285714285,
          33.333333333333336,
          37.17948717948718,
          38.095238095238095,
          48.095238095238095,
          57.142857142857146,
          57.17948717948718,
          75.27970411465557,
          149.28571428571428,
          157.17948717948718,
          167.17948717948718,
          169.010989010989,
          179.010989010989,
          179.01098901098902,
          206.62493924629848,
          268.0952380952381
         ],
         "xaxis": "x7",
         "y": [
          3,
          3,
          3,
          3,
          3,
          3,
          4,
          4,
          4,
          3,
          2,
          2,
          3,
          2,
          2,
          2,
          1,
          0
         ],
         "yaxis": "y7"
        },
        {
         "line": {
          "color": "red",
          "dash": "dot",
          "shape": "hv",
          "width": 3
         },
         "showlegend": false,
         "text": [
          "Maximum available cores in cluster=10",
          "Maximum available cores in cluster=10"
         ],
         "type": "scatter",
         "x": [
          0,
          268.0952380952381
         ],
         "xaxis": "x7",
         "y": [
          10,
          10
         ],
         "yaxis": "y7"
        }
       ],
       "layout": {
        "annotations": [
         {
          "font": {
           "size": 16
          },
          "showarrow": false,
          "text": "B3",
          "x": 0.5,
          "xanchor": "center",
          "xref": "paper",
          "y": 0.9999999999999999,
          "yanchor": "bottom",
          "yref": "paper"
         },
         {
          "font": {
           "size": 16
          },
          "showarrow": false,
          "text": "O6",
          "x": 0.5,
          "xanchor": "center",
          "xref": "paper",
          "y": 0.8469387755102039,
          "yanchor": "bottom",
          "yref": "paper"
         },
         {
          "font": {
           "size": 16
          },
          "showarrow": false,
          "text": "P1",
          "x": 0.5,
          "xanchor": "center",
          "xref": "paper",
          "y": 0.6938775510204082,
          "yanchor": "bottom",
          "yref": "paper"
         },
         {
          "font": {
           "size": 16
          },
          "showarrow": false,
          "text": "BB (50.0 GB)",
          "x": 0.5,
          "xanchor": "center",
          "xref": "paper",
          "y": 0.5408163265306122,
          "yanchor": "bottom",
          "yref": "paper"
         },
         {
          "font": {
           "size": 16
          },
          "showarrow": false,
          "text": "HDD (1.0 TB)",
          "x": 0.5,
          "xanchor": "center",
          "xref": "paper",
          "y": 0.3877551020408163,
          "yanchor": "bottom",
          "yref": "paper"
         },
         {
          "font": {
           "size": 16
          },
          "showarrow": false,
          "text": "SSD (200.0 GB)",
          "x": 0.5,
          "xanchor": "center",
          "xref": "paper",
          "y": 0.2346938775510204,
          "yanchor": "bottom",
          "yref": "paper"
         },
         {
          "font": {
           "size": 16
          },
          "showarrow": false,
          "text": "CPU Cores",
          "x": 0.5,
          "xanchor": "center",
          "xref": "paper",
          "y": 0.08163265306122448,
          "yanchor": "bottom",
          "yref": "paper"
         }
        ],
        "height": 900,
        "template": {
         "data": {
          "bar": [
           {
            "error_x": {
             "color": "#2a3f5f"
            },
            "error_y": {
             "color": "#2a3f5f"
            },
            "marker": {
             "line": {
              "color": "#E5ECF6",
              "width": 0.5
             }
            },
            "type": "bar"
           }
          ],
          "barpolar": [
           {
            "marker": {
             "line": {
              "color": "#E5ECF6",
              "width": 0.5
             }
            },
            "type": "barpolar"
           }
          ],
          "carpet": [
           {
            "aaxis": {
             "endlinecolor": "#2a3f5f",
             "gridcolor": "white",
             "linecolor": "white",
             "minorgridcolor": "white",
             "startlinecolor": "#2a3f5f"
            },
            "baxis": {
             "endlinecolor": "#2a3f5f",
             "gridcolor": "white",
             "linecolor": "white",
             "minorgridcolor": "white",
             "startlinecolor": "#2a3f5f"
            },
            "type": "carpet"
           }
          ],
          "choropleth": [
           {
            "colorbar": {
             "outlinewidth": 0,
             "ticks": ""
            },
            "type": "choropleth"
           }
          ],
          "contour": [
           {
            "colorbar": {
             "outlinewidth": 0,
             "ticks": ""
            },
            "colorscale": [
             [
              0,
              "#0d0887"
             ],
             [
              0.1111111111111111,
              "#46039f"
             ],
             [
              0.2222222222222222,
              "#7201a8"
             ],
             [
              0.3333333333333333,
              "#9c179e"
             ],
             [
              0.4444444444444444,
              "#bd3786"
             ],
             [
              0.5555555555555556,
              "#d8576b"
             ],
             [
              0.6666666666666666,
              "#ed7953"
             ],
             [
              0.7777777777777778,
              "#fb9f3a"
             ],
             [
              0.8888888888888888,
              "#fdca26"
             ],
             [
              1,
              "#f0f921"
             ]
            ],
            "type": "contour"
           }
          ],
          "contourcarpet": [
           {
            "colorbar": {
             "outlinewidth": 0,
             "ticks": ""
            },
            "type": "contourcarpet"
           }
          ],
          "heatmap": [
           {
            "colorbar": {
             "outlinewidth": 0,
             "ticks": ""
            },
            "colorscale": [
             [
              0,
              "#0d0887"
             ],
             [
              0.1111111111111111,
              "#46039f"
             ],
             [
              0.2222222222222222,
              "#7201a8"
             ],
             [
              0.3333333333333333,
              "#9c179e"
             ],
             [
              0.4444444444444444,
              "#bd3786"
             ],
             [
              0.5555555555555556,
              "#d8576b"
             ],
             [
              0.6666666666666666,
              "#ed7953"
             ],
             [
              0.7777777777777778,
              "#fb9f3a"
             ],
             [
              0.8888888888888888,
              "#fdca26"
             ],
             [
              1,
              "#f0f921"
             ]
            ],
            "type": "heatmap"
           }
          ],
          "heatmapgl": [
           {
            "colorbar": {
             "outlinewidth": 0,
             "ticks": ""
            },
            "colorscale": [
             [
              0,
              "#0d0887"
             ],
             [
              0.1111111111111111,
              "#46039f"
             ],
             [
              0.2222222222222222,
              "#7201a8"
             ],
             [
              0.3333333333333333,
              "#9c179e"
             ],
             [
              0.4444444444444444,
              "#bd3786"
             ],
             [
              0.5555555555555556,
              "#d8576b"
             ],
             [
              0.6666666666666666,
              "#ed7953"
             ],
             [
              0.7777777777777778,
              "#fb9f3a"
             ],
             [
              0.8888888888888888,
              "#fdca26"
             ],
             [
              1,
              "#f0f921"
             ]
            ],
            "type": "heatmapgl"
           }
          ],
          "histogram": [
           {
            "marker": {
             "colorbar": {
              "outlinewidth": 0,
              "ticks": ""
             }
            },
            "type": "histogram"
           }
          ],
          "histogram2d": [
           {
            "colorbar": {
             "outlinewidth": 0,
             "ticks": ""
            },
            "colorscale": [
             [
              0,
              "#0d0887"
             ],
             [
              0.1111111111111111,
              "#46039f"
             ],
             [
              0.2222222222222222,
              "#7201a8"
             ],
             [
              0.3333333333333333,
              "#9c179e"
             ],
             [
              0.4444444444444444,
              "#bd3786"
             ],
             [
              0.5555555555555556,
              "#d8576b"
             ],
             [
              0.6666666666666666,
              "#ed7953"
             ],
             [
              0.7777777777777778,
              "#fb9f3a"
             ],
             [
              0.8888888888888888,
              "#fdca26"
             ],
             [
              1,
              "#f0f921"
             ]
            ],
            "type": "histogram2d"
           }
          ],
          "histogram2dcontour": [
           {
            "colorbar": {
             "outlinewidth": 0,
             "ticks": ""
            },
            "colorscale": [
             [
              0,
              "#0d0887"
             ],
             [
              0.1111111111111111,
              "#46039f"
             ],
             [
              0.2222222222222222,
              "#7201a8"
             ],
             [
              0.3333333333333333,
              "#9c179e"
             ],
             [
              0.4444444444444444,
              "#bd3786"
             ],
             [
              0.5555555555555556,
              "#d8576b"
             ],
             [
              0.6666666666666666,
              "#ed7953"
             ],
             [
              0.7777777777777778,
              "#fb9f3a"
             ],
             [
              0.8888888888888888,
              "#fdca26"
             ],
             [
              1,
              "#f0f921"
             ]
            ],
            "type": "histogram2dcontour"
           }
          ],
          "mesh3d": [
           {
            "colorbar": {
             "outlinewidth": 0,
             "ticks": ""
            },
            "type": "mesh3d"
           }
          ],
          "parcoords": [
           {
            "line": {
             "colorbar": {
              "outlinewidth": 0,
              "ticks": ""
             }
            },
            "type": "parcoords"
           }
          ],
          "pie": [
           {
            "automargin": true,
            "type": "pie"
           }
          ],
          "scatter": [
           {
            "marker": {
             "colorbar": {
              "outlinewidth": 0,
              "ticks": ""
             }
            },
            "type": "scatter"
           }
          ],
          "scatter3d": [
           {
            "line": {
             "colorbar": {
              "outlinewidth": 0,
              "ticks": ""
             }
            },
            "marker": {
             "colorbar": {
              "outlinewidth": 0,
              "ticks": ""
             }
            },
            "type": "scatter3d"
           }
          ],
          "scattercarpet": [
           {
            "marker": {
             "colorbar": {
              "outlinewidth": 0,
              "ticks": ""
             }
            },
            "type": "scattercarpet"
           }
          ],
          "scattergeo": [
           {
            "marker": {
             "colorbar": {
              "outlinewidth": 0,
              "ticks": ""
             }
            },
            "type": "scattergeo"
           }
          ],
          "scattergl": [
           {
            "marker": {
             "colorbar": {
              "outlinewidth": 0,
              "ticks": ""
             }
            },
            "type": "scattergl"
           }
          ],
          "scattermapbox": [
           {
            "marker": {
             "colorbar": {
              "outlinewidth": 0,
              "ticks": ""
             }
            },
            "type": "scattermapbox"
           }
          ],
          "scatterpolar": [
           {
            "marker": {
             "colorbar": {
              "outlinewidth": 0,
              "ticks": ""
             }
            },
            "type": "scatterpolar"
           }
          ],
          "scatterpolargl": [
           {
            "marker": {
             "colorbar": {
              "outlinewidth": 0,
              "ticks": ""
             }
            },
            "type": "scatterpolargl"
           }
          ],
          "scatterternary": [
           {
            "marker": {
             "colorbar": {
              "outlinewidth": 0,
              "ticks": ""
             }
            },
            "type": "scatterternary"
           }
          ],
          "surface": [
           {
            "colorbar": {
             "outlinewidth": 0,
             "ticks": ""
            },
            "colorscale": [
             [
              0,
              "#0d0887"
             ],
             [
              0.1111111111111111,
              "#46039f"
             ],
             [
              0.2222222222222222,
              "#7201a8"
             ],
             [
              0.3333333333333333,
              "#9c179e"
             ],
             [
              0.4444444444444444,
              "#bd3786"
             ],
             [
              0.5555555555555556,
              "#d8576b"
             ],
             [
              0.6666666666666666,
              "#ed7953"
             ],
             [
              0.7777777777777778,
              "#fb9f3a"
             ],
             [
              0.8888888888888888,
              "#fdca26"
             ],
             [
              1,
              "#f0f921"
             ]
            ],
            "type": "surface"
           }
          ],
          "table": [
           {
            "cells": {
             "fill": {
              "color": "#EBF0F8"
             },
             "line": {
              "color": "white"
             }
            },
            "header": {
             "fill": {
              "color": "#C8D4E3"
             },
             "line": {
              "color": "white"
             }
            },
            "type": "table"
           }
          ]
         },
         "layout": {
          "annotationdefaults": {
           "arrowcolor": "#2a3f5f",
           "arrowhead": 0,
           "arrowwidth": 1
          },
          "coloraxis": {
           "colorbar": {
            "outlinewidth": 0,
            "ticks": ""
           }
          },
          "colorscale": {
           "diverging": [
            [
             0,
             "#8e0152"
            ],
            [
             0.1,
             "#c51b7d"
            ],
            [
             0.2,
             "#de77ae"
            ],
            [
             0.3,
             "#f1b6da"
            ],
            [
             0.4,
             "#fde0ef"
            ],
            [
             0.5,
             "#f7f7f7"
            ],
            [
             0.6,
             "#e6f5d0"
            ],
            [
             0.7,
             "#b8e186"
            ],
            [
             0.8,
             "#7fbc41"
            ],
            [
             0.9,
             "#4d9221"
            ],
            [
             1,
             "#276419"
            ]
           ],
           "sequential": [
            [
             0,
             "#0d0887"
            ],
            [
             0.1111111111111111,
             "#46039f"
            ],
            [
             0.2222222222222222,
             "#7201a8"
            ],
            [
             0.3333333333333333,
             "#9c179e"
            ],
            [
             0.4444444444444444,
             "#bd3786"
            ],
            [
             0.5555555555555556,
             "#d8576b"
            ],
            [
             0.6666666666666666,
             "#ed7953"
            ],
            [
             0.7777777777777778,
             "#fb9f3a"
            ],
            [
             0.8888888888888888,
             "#fdca26"
            ],
            [
             1,
             "#f0f921"
            ]
           ],
           "sequentialminus": [
            [
             0,
             "#0d0887"
            ],
            [
             0.1111111111111111,
             "#46039f"
            ],
            [
             0.2222222222222222,
             "#7201a8"
            ],
            [
             0.3333333333333333,
             "#9c179e"
            ],
            [
             0.4444444444444444,
             "#bd3786"
            ],
            [
             0.5555555555555556,
             "#d8576b"
            ],
            [
             0.6666666666666666,
             "#ed7953"
            ],
            [
             0.7777777777777778,
             "#fb9f3a"
            ],
            [
             0.8888888888888888,
             "#fdca26"
            ],
            [
             1,
             "#f0f921"
            ]
           ]
          },
          "colorway": [
           "#636efa",
           "#EF553B",
           "#00cc96",
           "#ab63fa",
           "#FFA15A",
           "#19d3f3",
           "#FF6692",
           "#B6E880",
           "#FF97FF",
           "#FECB52"
          ],
          "font": {
           "color": "#2a3f5f"
          },
          "geo": {
           "bgcolor": "white",
           "lakecolor": "white",
           "landcolor": "#E5ECF6",
           "showlakes": true,
           "showland": true,
           "subunitcolor": "white"
          },
          "hoverlabel": {
           "align": "left"
          },
          "hovermode": "closest",
          "mapbox": {
           "style": "light"
          },
          "paper_bgcolor": "white",
          "plot_bgcolor": "#E5ECF6",
          "polar": {
           "angularaxis": {
            "gridcolor": "white",
            "linecolor": "white",
            "ticks": ""
           },
           "bgcolor": "#E5ECF6",
           "radialaxis": {
            "gridcolor": "white",
            "linecolor": "white",
            "ticks": ""
           }
          },
          "scene": {
           "xaxis": {
            "backgroundcolor": "#E5ECF6",
            "gridcolor": "white",
            "gridwidth": 2,
            "linecolor": "white",
            "showbackground": true,
            "ticks": "",
            "zerolinecolor": "white"
           },
           "yaxis": {
            "backgroundcolor": "#E5ECF6",
            "gridcolor": "white",
            "gridwidth": 2,
            "linecolor": "white",
            "showbackground": true,
            "ticks": "",
            "zerolinecolor": "white"
           },
           "zaxis": {
            "backgroundcolor": "#E5ECF6",
            "gridcolor": "white",
            "gridwidth": 2,
            "linecolor": "white",
            "showbackground": true,
            "ticks": "",
            "zerolinecolor": "white"
           }
          },
          "shapedefaults": {
           "line": {
            "color": "#2a3f5f"
           }
          },
          "ternary": {
           "aaxis": {
            "gridcolor": "white",
            "linecolor": "white",
            "ticks": ""
           },
           "baxis": {
            "gridcolor": "white",
            "linecolor": "white",
            "ticks": ""
           },
           "bgcolor": "#E5ECF6",
           "caxis": {
            "gridcolor": "white",
            "linecolor": "white",
            "ticks": ""
           }
          },
          "title": {
           "x": 0.05
          },
          "xaxis": {
           "automargin": true,
           "gridcolor": "white",
           "linecolor": "white",
           "ticks": "",
           "title": {
            "standoff": 15
           },
           "zerolinecolor": "white",
           "zerolinewidth": 2
          },
          "yaxis": {
           "automargin": true,
           "gridcolor": "white",
           "linecolor": "white",
           "ticks": "",
           "title": {
            "standoff": 15
           },
           "zerolinecolor": "white",
           "zerolinewidth": 2
          }
         }
        },
        "title": {
         "text": "State of the Cluster"
        },
        "width": 800,
        "xaxis": {
         "anchor": "y",
         "domain": [
          0,
          1
         ],
         "matches": "x7",
         "showticklabels": false,
         "title": {
          "text": "time in s"
         }
        },
        "xaxis2": {
         "anchor": "y2",
         "domain": [
          0,
          1
         ],
         "matches": "x7",
         "showticklabels": false,
         "title": {
          "text": "time in s"
         }
        },
        "xaxis3": {
         "anchor": "y3",
         "domain": [
          0,
          1
         ],
         "matches": "x7",
         "showticklabels": false,
         "title": {
          "text": "time in s"
         }
        },
        "xaxis4": {
         "anchor": "y4",
         "domain": [
          0,
          1
         ],
         "matches": "x7",
         "showticklabels": false,
         "title": {
          "text": "time in s"
         }
        },
        "xaxis5": {
         "anchor": "y5",
         "domain": [
          0,
          1
         ],
         "matches": "x7",
         "showticklabels": false,
         "title": {
          "text": "time in s"
         }
        },
        "xaxis6": {
         "anchor": "y6",
         "domain": [
          0,
          1
         ],
         "matches": "x7",
         "showticklabels": false,
         "title": {
          "text": "time in s"
         }
        },
        "xaxis7": {
         "anchor": "y7",
         "domain": [
          0,
          1
         ],
         "title": {
          "text": "time in s"
         }
        },
        "yaxis": {
         "anchor": "x",
         "domain": [
          0.9183673469387754,
          0.9999999999999999
         ],
         "title": {
          "text": "dataflow in MB/s"
         }
        },
        "yaxis2": {
         "anchor": "x2",
         "domain": [
          0.7653061224489794,
          0.8469387755102039
         ],
         "title": {
          "text": "dataflow in MB/s"
         }
        },
        "yaxis3": {
         "anchor": "x3",
         "domain": [
          0.6122448979591837,
          0.6938775510204082
         ],
         "title": {
          "text": "dataflow in MB/s"
         }
        },
        "yaxis4": {
         "anchor": "x4",
         "domain": [
          0.4591836734693877,
          0.5408163265306122
         ],
         "title": {
          "text": "BB usage in Bytes"
         }
        },
        "yaxis5": {
         "anchor": "x5",
         "domain": [
          0.30612244897959184,
          0.3877551020408163
         ],
         "title": {
          "text": "HDD usage in Bytes"
         }
        },
        "yaxis6": {
         "anchor": "x6",
         "domain": [
          0.15306122448979592,
          0.2346938775510204
         ],
         "title": {
          "text": "SSD usage in Bytes"
         }
        },
        "yaxis7": {
         "anchor": "x7",
         "domain": [
          0,
          0.08163265306122448
         ],
         "title": {
          "text": "CPU usage"
         }
        }
       }
      }
     },
     "metadata": {},
     "output_type": "display_data"
    }
   ],
   "source": [
    "cbb = ClusterBlackBox()\n",
    "fig = cbb.display_placement(placement=df.loc[21][\"Param\"].tolist()) # solution found by bbopt\n",
    "fig.show()"
   ]
  },
  {
   "cell_type": "code",
   "execution_count": 24,
   "metadata": {},
   "outputs": [
    {
     "name": "stdout",
     "output_type": "stream",
     "text": [
      "Displaying result for placement parameter = [1.0, 1.0, 1.0, 0.0, 1.0, 1.0, 0.0, 1.0, 0.0, 0.0, 0.0, 1.0, 0.0, 0.0]\n",
      "    | app#1 : tier placement: [1.0, 1.0] | use_bb = [False, False]\n",
      "    | app#2 : tier placement: [1.0, 0.0, 1.0] | use_bb = [False, True, False]\n",
      "    | app#3 : tier placement: [0.0, 1.0] | use_bb = [True, False]\n",
      "    | runtime = 308.0952380952381 |  BB_size = 9.0 GB\n"
     ]
    },
    {
     "data": {
      "application/vnd.plotly.v1+json": {
       "config": {
        "plotlyServerURL": "https://plot.ly"
       },
       "data": [
        {
         "line": {
          "shape": "linear"
         },
         "name": "app#C1",
         "text": [
          "READ|to/from:SSD|volume=1.0 GB",
          "READ|to/from:SSD|volume=1.0 GB",
          "COMPUTE|volume=0B",
          "COMPUTE|volume=0B",
          "WRITE|to/from:SSD|volume=301.59 MB",
          "WRITE|to/from:SSD|volume=301.59 MB",
          "WRITE|to/from:SSD|volume=150.79 MB",
          "WRITE|to/from:SSD|volume=150.79 MB",
          "WRITE|to/from:SSD|volume=250.0 MB",
          "WRITE|to/from:SSD|volume=250.0 MB",
          "WRITE|to/from:SSD|volume=355.27 EB",
          "WRITE|to/from:SSD|volume=355.27 EB",
          "WRITE|to/from:SSD|volume=226.19 MB",
          "WRITE|to/from:SSD|volume=226.19 MB",
          "WRITE|to/from:SSD|volume=476.19 MB",
          "WRITE|to/from:SSD|volume=476.19 MB",
          "WRITE|to/from:SSD|volume=36.63 MB",
          "WRITE|to/from:SSD|volume=36.63 MB",
          "WRITE|to/from:SSD|volume=534.8 MB",
          "WRITE|to/from:SSD|volume=534.8 MB",
          "WRITE|to/from:SSD|volume=232.6 MB",
          "WRITE|to/from:SSD|volume=232.6 MB",
          "WRITE|to/from:SSD|volume=492.18 MB",
          "WRITE|to/from:SSD|volume=492.18 MB",
          "WRITE|to/from:SSD|volume=333.33 MB",
          "WRITE|to/from:SSD|volume=333.33 MB",
          "WRITE|to/from:SSD|volume=20.52 MB",
          "WRITE|to/from:SSD|volume=20.52 MB",
          "WRITE|to/from:SSD|volume=755.95 MB",
          "WRITE|to/from:SSD|volume=755.95 MB",
          "WRITE|to/from:SSD|volume=261.9 MB",
          "WRITE|to/from:SSD|volume=261.9 MB",
          "WRITE|to/from:SSD|volume=435.9 MB",
          "WRITE|to/from:SSD|volume=435.9 MB",
          "WRITE|to/from:SSD|volume=290.29 MB",
          "WRITE|to/from:SSD|volume=290.29 MB",
          "WRITE|to/from:SSD|volume=201.13 MB",
          "WRITE|to/from:SSD|volume=201.13 MB",
          "WRITE|to/from:SSD|volume=685.45 EB",
          "WRITE|to/from:SSD|volume=685.45 EB"
         ],
         "textposition": "top center",
         "type": "scatter",
         "x": [
          0,
          14.285714285714286,
          14.285714285714286,
          24.285714285714285,
          24.285714285714285,
          33.333333333333336,
          33.333333333333336,
          37.85714285714286,
          37.85714285714286,
          42.857142857142854,
          42.857142857142854,
          42.85714285714286,
          42.85714285714286,
          47.38095238095238,
          47.38095238095238,
          52.14285714285714,
          52.14285714285714,
          52.50915750915751,
          52.50915750915751,
          57.85714285714286,
          57.85714285714286,
          62.50915750915751,
          62.50915750915751,
          77.2746185852982,
          77.2746185852982,
          87.2746185852982,
          87.2746185852982,
          88.0952380952381,
          88.0952380952381,
          118.33333333333334,
          118.33333333333334,
          128.80952380952382,
          128.80952380952382,
          146.24542124542126,
          146.24542124542126,
          157.85714285714286,
          157.85714285714286,
          165.90235546546228,
          165.90235546546228,
          165.9023554654623
         ],
         "xaxis": "x",
         "y": [
          70,
          70,
          0,
          0,
          33.33333333333333,
          33.33333333333333,
          33.33333333333333,
          33.33333333333333,
          50,
          50,
          50,
          50,
          50,
          50,
          100,
          100,
          100,
          100,
          100,
          100,
          50,
          50,
          33.33333333333333,
          33.33333333333333,
          33.33333333333333,
          33.33333333333333,
          25,
          25,
          25,
          25,
          25,
          25,
          25,
          25,
          25,
          25,
          25,
          25,
          25,
          25
         ],
         "yaxis": "y"
        },
        {
         "line": {
          "dash": "dot",
          "shape": "linear"
         },
         "name": "C1 mvt",
         "text": [],
         "textposition": "top center",
         "type": "scatter",
         "x": [],
         "xaxis": "x",
         "y": [],
         "yaxis": "y"
        },
        {
         "line": {
          "shape": "linear"
         },
         "name": "app#N2",
         "text": [
          "READ|to/from:BB|volume=3.71 GB",
          "READ|to/from:BB|volume=3.71 GB",
          "READ|to/from:BB|volume=285.71 MB",
          "READ|to/from:BB|volume=285.71 MB",
          "COMPUTE|volume=0B",
          "COMPUTE|volume=0B",
          "WRITE|to/from:SSD|volume=492.18 MB",
          "WRITE|to/from:SSD|volume=492.18 MB",
          "WRITE|to/from:SSD|volume=333.33 MB",
          "WRITE|to/from:SSD|volume=333.33 MB",
          "WRITE|to/from:SSD|volume=20.52 MB",
          "WRITE|to/from:SSD|volume=20.52 MB",
          "WRITE|to/from:SSD|volume=755.95 MB",
          "WRITE|to/from:SSD|volume=755.95 MB",
          "WRITE|to/from:SSD|volume=261.9 MB",
          "WRITE|to/from:SSD|volume=261.9 MB",
          "WRITE|to/from:SSD|volume=435.9 MB",
          "WRITE|to/from:SSD|volume=435.9 MB",
          "WRITE|to/from:SSD|volume=290.29 MB",
          "WRITE|to/from:SSD|volume=290.29 MB",
          "WRITE|to/from:SSD|volume=201.13 MB",
          "WRITE|to/from:SSD|volume=201.13 MB",
          "WRITE|to/from:SSD|volume=710.54 EB",
          "WRITE|to/from:SSD|volume=710.54 EB",
          "WRITE|to/from:SSD|volume=1.98 GB",
          "WRITE|to/from:SSD|volume=1.98 GB",
          "WRITE|to/from:SSD|volume=988.1 MB",
          "WRITE|to/from:SSD|volume=988.1 MB",
          "WRITE|to/from:SSD|volume=1.24 GB",
          "WRITE|to/from:SSD|volume=1.24 GB"
         ],
         "textposition": "top center",
         "type": "scatter",
         "x": [
          47.38095238095238,
          52.14285714285714,
          52.14285714285714,
          52.50915750915751,
          52.50915750915751,
          62.50915750915751,
          62.50915750915751,
          77.2746185852982,
          77.2746185852982,
          87.2746185852982,
          87.2746185852982,
          88.0952380952381,
          88.0952380952381,
          118.33333333333334,
          118.33333333333334,
          128.80952380952382,
          128.80952380952382,
          146.24542124542126,
          146.24542124542126,
          157.85714285714286,
          157.85714285714286,
          165.90235546546228,
          165.90235546546228,
          165.9023554654623,
          165.9023554654623,
          225.18806975117656,
          225.18806975117656,
          244.94997451308132,
          244.94997451308132,
          269.8400844031912
         ],
         "xaxis": "x2",
         "y": [
          780,
          780,
          780,
          780,
          0,
          0,
          33.33333333333333,
          33.33333333333333,
          33.33333333333333,
          33.33333333333333,
          25,
          25,
          25,
          25,
          25,
          25,
          25,
          25,
          25,
          25,
          25,
          25,
          25,
          25,
          33.33333333333333,
          33.33333333333333,
          50,
          50,
          50,
          50
         ],
         "yaxis": "y2"
        },
        {
         "line": {
          "dash": "dot",
          "shape": "linear"
         },
         "name": "N2 mvt",
         "text": [
          "MOVEMENT|in:BB|from:SSD|volume=1.0 GB",
          "MOVEMENT|in:BB|volume=1.0 GB",
          "MOVEMENT|in:BB|from:SSD|volume=1.05 GB",
          "MOVEMENT|in:BB|volume=1.05 GB",
          "MOVEMENT|in:BB|from:SSD|volume=633.33 MB",
          "MOVEMENT|in:BB|volume=633.33 MB",
          "MOVEMENT|in:BB|from:SSD|volume=316.67 MB",
          "MOVEMENT|in:BB|volume=316.67 MB",
          "MOVEMENT|in:BB|from:SSD|volume=525.0 MB",
          "MOVEMENT|in:BB|volume=525.0 MB",
          "MOVEMENT|in:BB|from:SSD|volume=746.07 EB",
          "MOVEMENT|in:BB|volume=746.07 EB",
          "MOVEMENT|in:BB|from:SSD|volume=475.0 MB",
          "MOVEMENT|in:BB|volume=475.0 MB"
         ],
         "textposition": "top center",
         "type": "scatter",
         "x": [
          0,
          14.285714285714286,
          14.285714285714286,
          24.285714285714285,
          24.285714285714285,
          33.333333333333336,
          33.333333333333336,
          37.85714285714286,
          37.85714285714286,
          42.857142857142854,
          42.857142857142854,
          42.85714285714286,
          42.85714285714286,
          47.38095238095238
         ],
         "xaxis": "x2",
         "y": [
          70,
          70,
          105,
          105,
          70,
          70,
          70,
          70,
          105,
          105,
          105,
          105,
          105,
          105
         ],
         "yaxis": "y2"
        },
        {
         "line": {
          "shape": "linear"
         },
         "name": "app#O6",
         "text": [
          "READ|to/from:SSD|volume=1.0 GB",
          "READ|to/from:SSD|volume=1.0 GB",
          "READ|to/from:SSD|volume=1.05 GB",
          "READ|to/from:SSD|volume=1.05 GB",
          "READ|to/from:SSD|volume=633.33 MB",
          "READ|to/from:SSD|volume=633.33 MB",
          "READ|to/from:SSD|volume=316.67 MB",
          "READ|to/from:SSD|volume=316.67 MB",
          "COMPUTE|volume=0B",
          "COMPUTE|volume=0B",
          "WRITE|to/from:BB|volume=1.2 GB",
          "WRITE|to/from:BB|volume=1.2 GB",
          "WRITE|to/from:BB|volume=3.8 GB",
          "WRITE|to/from:BB|volume=3.8 GB",
          "COMPUTE|volume=0B",
          "COMPUTE|volume=0B",
          "WRITE|to/from:SSD|volume=20.52 MB",
          "WRITE|to/from:SSD|volume=20.52 MB",
          "WRITE|to/from:SSD|volume=755.95 MB",
          "WRITE|to/from:SSD|volume=755.95 MB",
          "WRITE|to/from:SSD|volume=261.9 MB",
          "WRITE|to/from:SSD|volume=261.9 MB",
          "WRITE|to/from:SSD|volume=435.9 MB",
          "WRITE|to/from:SSD|volume=435.9 MB",
          "WRITE|to/from:SSD|volume=290.29 MB",
          "WRITE|to/from:SSD|volume=290.29 MB",
          "WRITE|to/from:SSD|volume=201.13 MB",
          "WRITE|to/from:SSD|volume=201.13 MB",
          "WRITE|to/from:SSD|volume=710.54 EB",
          "WRITE|to/from:SSD|volume=710.54 EB",
          "WRITE|to/from:SSD|volume=1.98 GB",
          "WRITE|to/from:SSD|volume=1.98 GB",
          "WRITE|to/from:SSD|volume=988.1 MB",
          "WRITE|to/from:SSD|volume=988.1 MB",
          "WRITE|to/from:SSD|volume=1.24 GB",
          "WRITE|to/from:SSD|volume=1.24 GB",
          "WRITE|to/from:SSD|volume=3.83 GB",
          "WRITE|to/from:SSD|volume=3.83 GB"
         ],
         "textposition": "top center",
         "type": "scatter",
         "x": [
          0,
          14.285714285714286,
          14.285714285714286,
          24.285714285714285,
          24.285714285714285,
          33.333333333333336,
          33.333333333333336,
          37.85714285714286,
          37.85714285714286,
          57.85714285714286,
          57.85714285714286,
          62.50915750915751,
          62.50915750915751,
          77.2746185852982,
          77.2746185852982,
          87.2746185852982,
          87.2746185852982,
          88.0952380952381,
          88.0952380952381,
          118.33333333333334,
          118.33333333333334,
          128.80952380952382,
          128.80952380952382,
          146.24542124542126,
          146.24542124542126,
          157.85714285714286,
          157.85714285714286,
          165.90235546546228,
          165.90235546546228,
          165.9023554654623,
          165.9023554654623,
          225.18806975117656,
          225.18806975117656,
          244.94997451308132,
          244.94997451308132,
          269.8400844031912,
          269.8400844031912,
          308.0952380952381
         ],
         "xaxis": "x3",
         "y": [
          70,
          70,
          105,
          105,
          70,
          70,
          70,
          70,
          0,
          0,
          257.5,
          257.5,
          257.5,
          257.5,
          0,
          0,
          25,
          25,
          25,
          25,
          25,
          25,
          25,
          25,
          25,
          25,
          25,
          25,
          25,
          25,
          33.33333333333333,
          33.33333333333333,
          50,
          50,
          50,
          50,
          100,
          100
         ],
         "yaxis": "y3"
        },
        {
         "line": {
          "dash": "dot",
          "shape": "linear"
         },
         "name": "O6 mvt",
         "text": [
          "MOVEMENT|in:SSD|from:BB|volume=232.6 MB",
          "MOVEMENT|in:SSD|volume=232.6 MB",
          "MOVEMENT|in:SSD|from:BB|volume=492.18 MB",
          "MOVEMENT|in:SSD|volume=492.18 MB",
          "MOVEMENT|in:SSD|from:BB|volume=333.33 MB",
          "MOVEMENT|in:SSD|volume=333.33 MB",
          "MOVEMENT|in:SSD|from:BB|volume=20.52 MB",
          "MOVEMENT|in:SSD|volume=20.52 MB",
          "MOVEMENT|in:SSD|from:BB|volume=755.95 MB",
          "MOVEMENT|in:SSD|volume=755.95 MB",
          "MOVEMENT|in:SSD|from:BB|volume=261.9 MB",
          "MOVEMENT|in:SSD|volume=261.9 MB",
          "MOVEMENT|in:SSD|from:BB|volume=435.9 MB",
          "MOVEMENT|in:SSD|volume=435.9 MB",
          "MOVEMENT|in:SSD|from:BB|volume=290.29 MB",
          "MOVEMENT|in:SSD|volume=290.29 MB",
          "MOVEMENT|in:SSD|from:BB|volume=201.13 MB",
          "MOVEMENT|in:SSD|volume=201.13 MB",
          "MOVEMENT|in:SSD|from:BB|volume=710.54 EB",
          "MOVEMENT|in:SSD|volume=710.54 EB",
          "MOVEMENT|in:SSD|from:BB|volume=1.98 GB",
          "MOVEMENT|in:SSD|volume=1.98 GB"
         ],
         "textposition": "top center",
         "type": "scatter",
         "x": [
          57.85714285714286,
          62.50915750915751,
          62.50915750915751,
          77.2746185852982,
          77.2746185852982,
          87.2746185852982,
          87.2746185852982,
          88.0952380952381,
          88.0952380952381,
          118.33333333333334,
          118.33333333333334,
          128.80952380952382,
          128.80952380952382,
          146.24542124542126,
          146.24542124542126,
          157.85714285714286,
          157.85714285714286,
          165.90235546546228,
          165.90235546546228,
          165.9023554654623,
          165.9023554654623,
          225.18806975117656
         ],
         "xaxis": "x3",
         "y": [
          50,
          50,
          33.33333333333333,
          33.33333333333333,
          33.33333333333333,
          33.33333333333333,
          25,
          25,
          25,
          25,
          25,
          25,
          25,
          25,
          25,
          25,
          25,
          25,
          25,
          25,
          33.33333333333333,
          33.33333333333333
         ],
         "yaxis": "y3"
        },
        {
         "line": {
          "shape": "linear"
         },
         "name": "BB",
         "showlegend": false,
         "text": [
          "C1|Read|SSD | +volume=1.0 GB",
          "N2|Movement|BB | +volume=1.0 GB",
          "O6|Read|SSD | +volume=1.0 GB",
          "C1|Compute | +volume=0B",
          "O6|Read|SSD | +volume=1.05 GB",
          "N2|Movement|BB | +volume=1.05 GB",
          "N2|Movement|BB | +volume=633.33 MB",
          "O6|Read|SSD | +volume=633.33 MB",
          "C1|Write|SSD | +volume=301.59 MB",
          "O6|Read|SSD | +volume=316.67 MB",
          "C1|Write|SSD | +volume=150.79 MB",
          "N2|Movement|BB | +volume=316.67 MB",
          "N2|Movement|BB | +volume=525.0 MB",
          "C1|Write|SSD | +volume=250.0 MB",
          "C1|Write|SSD | +volume=355.27 EB",
          "N2|Movement|BB | +volume=746.07 EB",
          "N2|Movement|BB | +volume=475.0 MB",
          "C1|Write|SSD | +volume=226.19 MB",
          "N2|Read|BB | +volume=3.71 GB",
          "C1|Write|SSD | +volume=476.19 MB",
          "N2|Read|BB | +volume=285.71 MB",
          "C1|Write|SSD | +volume=36.63 MB",
          "O6|Compute | +volume=0B",
          "C1|Write|SSD | +volume=534.8 MB",
          "N2|Compute | +volume=0B",
          "O6|Write|BB | +volume=1.2 GB",
          "C1|Write|SSD | +volume=232.6 MB",
          "O6|Movement|SSD | +volume=232.6 MB",
          "O6|Write|BB | +volume=3.8 GB",
          "O6|Movement|SSD | +volume=492.18 MB",
          "N2|Write|SSD | +volume=492.18 MB",
          "C1|Write|SSD | +volume=492.18 MB",
          "O6|Compute | +volume=0B",
          "N2|Write|SSD | +volume=333.33 MB",
          "C1|Write|SSD | +volume=333.33 MB",
          "O6|Movement|SSD | +volume=333.33 MB",
          "O6|Movement|SSD | +volume=20.52 MB",
          "N2|Write|SSD | +volume=20.52 MB",
          "C1|Write|SSD | +volume=20.52 MB",
          "O6|Write|SSD | +volume=20.52 MB",
          "O6|Write|SSD | +volume=755.95 MB",
          "O6|Movement|SSD | +volume=755.95 MB",
          "N2|Write|SSD | +volume=755.95 MB",
          "C1|Write|SSD | +volume=755.95 MB",
          "O6|Write|SSD | +volume=261.9 MB",
          "N2|Write|SSD | +volume=261.9 MB",
          "C1|Write|SSD | +volume=261.9 MB",
          "O6|Movement|SSD | +volume=261.9 MB",
          "O6|Movement|SSD | +volume=435.9 MB",
          "N2|Write|SSD | +volume=435.9 MB",
          "C1|Write|SSD | +volume=435.9 MB",
          "O6|Write|SSD | +volume=435.9 MB",
          "O6|Write|SSD | +volume=290.29 MB",
          "O6|Movement|SSD | +volume=290.29 MB",
          "N2|Write|SSD | +volume=290.29 MB",
          "C1|Write|SSD | +volume=290.29 MB",
          "O6|Write|SSD | +volume=201.13 MB",
          "N2|Write|SSD | +volume=201.13 MB",
          "C1|Write|SSD | +volume=201.13 MB",
          "O6|Movement|SSD | +volume=201.13 MB",
          "C1|Write|SSD | +volume=685.45 EB",
          "O6|Movement|SSD | +volume=710.54 EB",
          "N2|Write|SSD | +volume=710.54 EB",
          "O6|Write|SSD | +volume=710.54 EB",
          "O6|Movement|SSD | +volume=1.98 GB",
          "N2|Write|SSD | +volume=1.98 GB",
          "O6|Write|SSD | +volume=1.98 GB",
          "O6|Write|SSD | +volume=988.1 MB",
          "N2|Write|SSD | +volume=988.1 MB",
          "N2|Write|SSD | +volume=1.24 GB",
          "O6|Write|SSD | +volume=1.24 GB",
          "O6|Write|SSD | +volume=3.83 GB"
         ],
         "textposition": "top center",
         "type": "scatter",
         "x": [
          0,
          14.285714285714286,
          24.285714285714285,
          33.333333333333336,
          37.85714285714286,
          42.857142857142854,
          42.85714285714286,
          47.38095238095238,
          52.14285714285714,
          52.50915750915751,
          57.85714285714286,
          62.50915750915751,
          77.2746185852982,
          87.2746185852982,
          88.0952380952381,
          118.33333333333334,
          128.80952380952382,
          146.24542124542126,
          157.85714285714286,
          165.90235546546228,
          165.9023554654623,
          225.18806975117656,
          244.94997451308132,
          269.8400844031912,
          308.0952380952381
         ],
         "xaxis": "x4",
         "y": [
          0,
          1000000000,
          2050000000,
          2683333333.3333335,
          3000000000.0000005,
          3524999999.9999995,
          3525000000.0000005,
          4000000000.0000005,
          4000000000.0000005,
          4000000000.0000005,
          4000000000.0000005,
          5197893772.893773,
          9000000000,
          9000000000,
          9000000000,
          9000000000,
          9000000000,
          9000000000,
          9000000000,
          9000000000,
          9000000000,
          9000000000,
          9000000000,
          9000000000,
          9000000000
         ],
         "yaxis": "y4"
        },
        {
         "line": {
          "shape": "linear"
         },
         "name": "HDD",
         "showlegend": false,
         "text": [
          "C1|Read|SSD | +volume=1.0 GB",
          "N2|Movement|BB | +volume=1.0 GB",
          "O6|Read|SSD | +volume=1.0 GB",
          "C1|Compute | +volume=0B",
          "O6|Read|SSD | +volume=1.05 GB",
          "N2|Movement|BB | +volume=1.05 GB",
          "N2|Movement|BB | +volume=633.33 MB",
          "O6|Read|SSD | +volume=633.33 MB",
          "C1|Write|SSD | +volume=301.59 MB",
          "O6|Read|SSD | +volume=316.67 MB",
          "C1|Write|SSD | +volume=150.79 MB",
          "N2|Movement|BB | +volume=316.67 MB",
          "N2|Movement|BB | +volume=525.0 MB",
          "C1|Write|SSD | +volume=250.0 MB",
          "C1|Write|SSD | +volume=355.27 EB",
          "N2|Movement|BB | +volume=746.07 EB",
          "N2|Movement|BB | +volume=475.0 MB",
          "C1|Write|SSD | +volume=226.19 MB",
          "N2|Read|BB | +volume=3.71 GB",
          "C1|Write|SSD | +volume=476.19 MB",
          "N2|Read|BB | +volume=285.71 MB",
          "C1|Write|SSD | +volume=36.63 MB",
          "O6|Compute | +volume=0B",
          "C1|Write|SSD | +volume=534.8 MB",
          "N2|Compute | +volume=0B",
          "O6|Write|BB | +volume=1.2 GB",
          "C1|Write|SSD | +volume=232.6 MB",
          "O6|Movement|SSD | +volume=232.6 MB",
          "O6|Write|BB | +volume=3.8 GB",
          "O6|Movement|SSD | +volume=492.18 MB",
          "N2|Write|SSD | +volume=492.18 MB",
          "C1|Write|SSD | +volume=492.18 MB",
          "O6|Compute | +volume=0B",
          "N2|Write|SSD | +volume=333.33 MB",
          "C1|Write|SSD | +volume=333.33 MB",
          "O6|Movement|SSD | +volume=333.33 MB",
          "O6|Movement|SSD | +volume=20.52 MB",
          "N2|Write|SSD | +volume=20.52 MB",
          "C1|Write|SSD | +volume=20.52 MB",
          "O6|Write|SSD | +volume=20.52 MB",
          "O6|Write|SSD | +volume=755.95 MB",
          "O6|Movement|SSD | +volume=755.95 MB",
          "N2|Write|SSD | +volume=755.95 MB",
          "C1|Write|SSD | +volume=755.95 MB",
          "O6|Write|SSD | +volume=261.9 MB",
          "N2|Write|SSD | +volume=261.9 MB",
          "C1|Write|SSD | +volume=261.9 MB",
          "O6|Movement|SSD | +volume=261.9 MB",
          "O6|Movement|SSD | +volume=435.9 MB",
          "N2|Write|SSD | +volume=435.9 MB",
          "C1|Write|SSD | +volume=435.9 MB",
          "O6|Write|SSD | +volume=435.9 MB",
          "O6|Write|SSD | +volume=290.29 MB",
          "O6|Movement|SSD | +volume=290.29 MB",
          "N2|Write|SSD | +volume=290.29 MB",
          "C1|Write|SSD | +volume=290.29 MB",
          "O6|Write|SSD | +volume=201.13 MB",
          "N2|Write|SSD | +volume=201.13 MB",
          "C1|Write|SSD | +volume=201.13 MB",
          "O6|Movement|SSD | +volume=201.13 MB",
          "C1|Write|SSD | +volume=685.45 EB",
          "O6|Movement|SSD | +volume=710.54 EB",
          "N2|Write|SSD | +volume=710.54 EB",
          "O6|Write|SSD | +volume=710.54 EB",
          "O6|Movement|SSD | +volume=1.98 GB",
          "N2|Write|SSD | +volume=1.98 GB",
          "O6|Write|SSD | +volume=1.98 GB",
          "O6|Write|SSD | +volume=988.1 MB",
          "N2|Write|SSD | +volume=988.1 MB",
          "N2|Write|SSD | +volume=1.24 GB",
          "O6|Write|SSD | +volume=1.24 GB",
          "O6|Write|SSD | +volume=3.83 GB"
         ],
         "textposition": "top center",
         "type": "scatter",
         "x": [
          0,
          14.285714285714286,
          24.285714285714285,
          33.333333333333336,
          37.85714285714286,
          42.857142857142854,
          42.85714285714286,
          47.38095238095238,
          52.14285714285714,
          52.50915750915751,
          57.85714285714286,
          62.50915750915751,
          77.2746185852982,
          87.2746185852982,
          88.0952380952381,
          118.33333333333334,
          128.80952380952382,
          146.24542124542126,
          157.85714285714286,
          165.90235546546228,
          165.9023554654623,
          225.18806975117656,
          244.94997451308132,
          269.8400844031912,
          308.0952380952381
         ],
         "xaxis": "x5",
         "y": [
          0,
          0,
          0,
          0,
          0,
          0,
          0,
          0,
          0,
          0,
          0,
          0,
          0,
          0,
          0,
          0,
          0,
          0,
          0,
          0,
          0,
          0,
          0,
          0,
          0
         ],
         "yaxis": "y5"
        },
        {
         "line": {
          "shape": "linear"
         },
         "name": "SSD",
         "showlegend": false,
         "text": [
          "C1|Read|SSD | +volume=1.0 GB",
          "N2|Movement|BB | +volume=1.0 GB",
          "O6|Read|SSD | +volume=1.0 GB",
          "C1|Compute | +volume=0B",
          "O6|Read|SSD | +volume=1.05 GB",
          "N2|Movement|BB | +volume=1.05 GB",
          "N2|Movement|BB | +volume=633.33 MB",
          "O6|Read|SSD | +volume=633.33 MB",
          "C1|Write|SSD | +volume=301.59 MB",
          "O6|Read|SSD | +volume=316.67 MB",
          "C1|Write|SSD | +volume=150.79 MB",
          "N2|Movement|BB | +volume=316.67 MB",
          "N2|Movement|BB | +volume=525.0 MB",
          "C1|Write|SSD | +volume=250.0 MB",
          "C1|Write|SSD | +volume=355.27 EB",
          "N2|Movement|BB | +volume=746.07 EB",
          "N2|Movement|BB | +volume=475.0 MB",
          "C1|Write|SSD | +volume=226.19 MB",
          "N2|Read|BB | +volume=3.71 GB",
          "C1|Write|SSD | +volume=476.19 MB",
          "N2|Read|BB | +volume=285.71 MB",
          "C1|Write|SSD | +volume=36.63 MB",
          "O6|Compute | +volume=0B",
          "C1|Write|SSD | +volume=534.8 MB",
          "N2|Compute | +volume=0B",
          "O6|Write|BB | +volume=1.2 GB",
          "C1|Write|SSD | +volume=232.6 MB",
          "O6|Movement|SSD | +volume=232.6 MB",
          "O6|Write|BB | +volume=3.8 GB",
          "O6|Movement|SSD | +volume=492.18 MB",
          "N2|Write|SSD | +volume=492.18 MB",
          "C1|Write|SSD | +volume=492.18 MB",
          "O6|Compute | +volume=0B",
          "N2|Write|SSD | +volume=333.33 MB",
          "C1|Write|SSD | +volume=333.33 MB",
          "O6|Movement|SSD | +volume=333.33 MB",
          "O6|Movement|SSD | +volume=20.52 MB",
          "N2|Write|SSD | +volume=20.52 MB",
          "C1|Write|SSD | +volume=20.52 MB",
          "O6|Write|SSD | +volume=20.52 MB",
          "O6|Write|SSD | +volume=755.95 MB",
          "O6|Movement|SSD | +volume=755.95 MB",
          "N2|Write|SSD | +volume=755.95 MB",
          "C1|Write|SSD | +volume=755.95 MB",
          "O6|Write|SSD | +volume=261.9 MB",
          "N2|Write|SSD | +volume=261.9 MB",
          "C1|Write|SSD | +volume=261.9 MB",
          "O6|Movement|SSD | +volume=261.9 MB",
          "O6|Movement|SSD | +volume=435.9 MB",
          "N2|Write|SSD | +volume=435.9 MB",
          "C1|Write|SSD | +volume=435.9 MB",
          "O6|Write|SSD | +volume=435.9 MB",
          "O6|Write|SSD | +volume=290.29 MB",
          "O6|Movement|SSD | +volume=290.29 MB",
          "N2|Write|SSD | +volume=290.29 MB",
          "C1|Write|SSD | +volume=290.29 MB",
          "O6|Write|SSD | +volume=201.13 MB",
          "N2|Write|SSD | +volume=201.13 MB",
          "C1|Write|SSD | +volume=201.13 MB",
          "O6|Movement|SSD | +volume=201.13 MB",
          "C1|Write|SSD | +volume=685.45 EB",
          "O6|Movement|SSD | +volume=710.54 EB",
          "N2|Write|SSD | +volume=710.54 EB",
          "O6|Write|SSD | +volume=710.54 EB",
          "O6|Movement|SSD | +volume=1.98 GB",
          "N2|Write|SSD | +volume=1.98 GB",
          "O6|Write|SSD | +volume=1.98 GB",
          "O6|Write|SSD | +volume=988.1 MB",
          "N2|Write|SSD | +volume=988.1 MB",
          "N2|Write|SSD | +volume=1.24 GB",
          "O6|Write|SSD | +volume=1.24 GB",
          "O6|Write|SSD | +volume=3.83 GB"
         ],
         "textposition": "top center",
         "type": "scatter",
         "x": [
          0,
          14.285714285714286,
          24.285714285714285,
          33.333333333333336,
          37.85714285714286,
          42.857142857142854,
          42.85714285714286,
          47.38095238095238,
          52.14285714285714,
          52.50915750915751,
          57.85714285714286,
          62.50915750915751,
          77.2746185852982,
          87.2746185852982,
          88.0952380952381,
          118.33333333333334,
          128.80952380952382,
          146.24542124542126,
          157.85714285714286,
          165.90235546546228,
          165.9023554654623,
          225.18806975117656,
          244.94997451308132,
          269.8400844031912,
          308.0952380952381
         ],
         "xaxis": "x6",
         "y": [
          0,
          3000000000,
          3000000000,
          3301587301.5873017,
          3452380952.380953,
          3702380952.3809524,
          3702380952.3809524,
          3928571428.5714283,
          4404761904.761904,
          4441391941.391941,
          4976190476.190476,
          5441391941.391941,
          6917938049.006011,
          7917938049.006009,
          8000000000.000001,
          11023809523.809525,
          12071428571.428572,
          13815018315.018318,
          14976190476.190475,
          15780711737.022415,
          15780711737.022415,
          21709283165.59384,
          23685473641.784317,
          26174484630.795303,
          29999999999.99999
         ],
         "yaxis": "y6"
        },
        {
         "line": {
          "shape": "hv"
         },
         "showlegend": false,
         "type": "scatter",
         "x": [
          0,
          14.285714285714286,
          24.285714285714285,
          33.333333333333336,
          37.85714285714286,
          42.857142857142854,
          42.85714285714286,
          47.38095238095238,
          52.14285714285714,
          52.50915750915751,
          57.85714285714286,
          62.50915750915751,
          77.2746185852982,
          87.2746185852982,
          88.0952380952381,
          118.33333333333334,
          128.80952380952382,
          146.24542124542126,
          157.85714285714286,
          165.90235546546228,
          165.9023554654623,
          225.18806975117656,
          244.94997451308132,
          269.8400844031912,
          308.0952380952381
         ],
         "xaxis": "x7",
         "y": [
          3,
          3,
          3,
          3,
          3,
          3,
          3,
          3,
          3,
          3,
          4,
          4,
          4,
          4,
          4,
          4,
          4,
          4,
          4,
          4,
          3,
          2,
          2,
          1,
          0
         ],
         "yaxis": "y7"
        },
        {
         "line": {
          "color": "red",
          "dash": "dot",
          "shape": "hv",
          "width": 3
         },
         "showlegend": false,
         "text": [
          "Maximum available cores in cluster=10",
          "Maximum available cores in cluster=10"
         ],
         "type": "scatter",
         "x": [
          0,
          308.0952380952381
         ],
         "xaxis": "x7",
         "y": [
          10,
          10
         ],
         "yaxis": "y7"
        }
       ],
       "layout": {
        "annotations": [
         {
          "font": {
           "size": 16
          },
          "showarrow": false,
          "text": "C1",
          "x": 0.5,
          "xanchor": "center",
          "xref": "paper",
          "y": 0.9999999999999999,
          "yanchor": "bottom",
          "yref": "paper"
         },
         {
          "font": {
           "size": 16
          },
          "showarrow": false,
          "text": "N2",
          "x": 0.5,
          "xanchor": "center",
          "xref": "paper",
          "y": 0.8469387755102039,
          "yanchor": "bottom",
          "yref": "paper"
         },
         {
          "font": {
           "size": 16
          },
          "showarrow": false,
          "text": "O6",
          "x": 0.5,
          "xanchor": "center",
          "xref": "paper",
          "y": 0.6938775510204082,
          "yanchor": "bottom",
          "yref": "paper"
         },
         {
          "font": {
           "size": 16
          },
          "showarrow": false,
          "text": "BB (50.0 GB)",
          "x": 0.5,
          "xanchor": "center",
          "xref": "paper",
          "y": 0.5408163265306122,
          "yanchor": "bottom",
          "yref": "paper"
         },
         {
          "font": {
           "size": 16
          },
          "showarrow": false,
          "text": "HDD (1.0 TB)",
          "x": 0.5,
          "xanchor": "center",
          "xref": "paper",
          "y": 0.3877551020408163,
          "yanchor": "bottom",
          "yref": "paper"
         },
         {
          "font": {
           "size": 16
          },
          "showarrow": false,
          "text": "SSD (200.0 GB)",
          "x": 0.5,
          "xanchor": "center",
          "xref": "paper",
          "y": 0.2346938775510204,
          "yanchor": "bottom",
          "yref": "paper"
         },
         {
          "font": {
           "size": 16
          },
          "showarrow": false,
          "text": "CPU Cores",
          "x": 0.5,
          "xanchor": "center",
          "xref": "paper",
          "y": 0.08163265306122448,
          "yanchor": "bottom",
          "yref": "paper"
         }
        ],
        "height": 900,
        "template": {
         "data": {
          "bar": [
           {
            "error_x": {
             "color": "#2a3f5f"
            },
            "error_y": {
             "color": "#2a3f5f"
            },
            "marker": {
             "line": {
              "color": "#E5ECF6",
              "width": 0.5
             }
            },
            "type": "bar"
           }
          ],
          "barpolar": [
           {
            "marker": {
             "line": {
              "color": "#E5ECF6",
              "width": 0.5
             }
            },
            "type": "barpolar"
           }
          ],
          "carpet": [
           {
            "aaxis": {
             "endlinecolor": "#2a3f5f",
             "gridcolor": "white",
             "linecolor": "white",
             "minorgridcolor": "white",
             "startlinecolor": "#2a3f5f"
            },
            "baxis": {
             "endlinecolor": "#2a3f5f",
             "gridcolor": "white",
             "linecolor": "white",
             "minorgridcolor": "white",
             "startlinecolor": "#2a3f5f"
            },
            "type": "carpet"
           }
          ],
          "choropleth": [
           {
            "colorbar": {
             "outlinewidth": 0,
             "ticks": ""
            },
            "type": "choropleth"
           }
          ],
          "contour": [
           {
            "colorbar": {
             "outlinewidth": 0,
             "ticks": ""
            },
            "colorscale": [
             [
              0,
              "#0d0887"
             ],
             [
              0.1111111111111111,
              "#46039f"
             ],
             [
              0.2222222222222222,
              "#7201a8"
             ],
             [
              0.3333333333333333,
              "#9c179e"
             ],
             [
              0.4444444444444444,
              "#bd3786"
             ],
             [
              0.5555555555555556,
              "#d8576b"
             ],
             [
              0.6666666666666666,
              "#ed7953"
             ],
             [
              0.7777777777777778,
              "#fb9f3a"
             ],
             [
              0.8888888888888888,
              "#fdca26"
             ],
             [
              1,
              "#f0f921"
             ]
            ],
            "type": "contour"
           }
          ],
          "contourcarpet": [
           {
            "colorbar": {
             "outlinewidth": 0,
             "ticks": ""
            },
            "type": "contourcarpet"
           }
          ],
          "heatmap": [
           {
            "colorbar": {
             "outlinewidth": 0,
             "ticks": ""
            },
            "colorscale": [
             [
              0,
              "#0d0887"
             ],
             [
              0.1111111111111111,
              "#46039f"
             ],
             [
              0.2222222222222222,
              "#7201a8"
             ],
             [
              0.3333333333333333,
              "#9c179e"
             ],
             [
              0.4444444444444444,
              "#bd3786"
             ],
             [
              0.5555555555555556,
              "#d8576b"
             ],
             [
              0.6666666666666666,
              "#ed7953"
             ],
             [
              0.7777777777777778,
              "#fb9f3a"
             ],
             [
              0.8888888888888888,
              "#fdca26"
             ],
             [
              1,
              "#f0f921"
             ]
            ],
            "type": "heatmap"
           }
          ],
          "heatmapgl": [
           {
            "colorbar": {
             "outlinewidth": 0,
             "ticks": ""
            },
            "colorscale": [
             [
              0,
              "#0d0887"
             ],
             [
              0.1111111111111111,
              "#46039f"
             ],
             [
              0.2222222222222222,
              "#7201a8"
             ],
             [
              0.3333333333333333,
              "#9c179e"
             ],
             [
              0.4444444444444444,
              "#bd3786"
             ],
             [
              0.5555555555555556,
              "#d8576b"
             ],
             [
              0.6666666666666666,
              "#ed7953"
             ],
             [
              0.7777777777777778,
              "#fb9f3a"
             ],
             [
              0.8888888888888888,
              "#fdca26"
             ],
             [
              1,
              "#f0f921"
             ]
            ],
            "type": "heatmapgl"
           }
          ],
          "histogram": [
           {
            "marker": {
             "colorbar": {
              "outlinewidth": 0,
              "ticks": ""
             }
            },
            "type": "histogram"
           }
          ],
          "histogram2d": [
           {
            "colorbar": {
             "outlinewidth": 0,
             "ticks": ""
            },
            "colorscale": [
             [
              0,
              "#0d0887"
             ],
             [
              0.1111111111111111,
              "#46039f"
             ],
             [
              0.2222222222222222,
              "#7201a8"
             ],
             [
              0.3333333333333333,
              "#9c179e"
             ],
             [
              0.4444444444444444,
              "#bd3786"
             ],
             [
              0.5555555555555556,
              "#d8576b"
             ],
             [
              0.6666666666666666,
              "#ed7953"
             ],
             [
              0.7777777777777778,
              "#fb9f3a"
             ],
             [
              0.8888888888888888,
              "#fdca26"
             ],
             [
              1,
              "#f0f921"
             ]
            ],
            "type": "histogram2d"
           }
          ],
          "histogram2dcontour": [
           {
            "colorbar": {
             "outlinewidth": 0,
             "ticks": ""
            },
            "colorscale": [
             [
              0,
              "#0d0887"
             ],
             [
              0.1111111111111111,
              "#46039f"
             ],
             [
              0.2222222222222222,
              "#7201a8"
             ],
             [
              0.3333333333333333,
              "#9c179e"
             ],
             [
              0.4444444444444444,
              "#bd3786"
             ],
             [
              0.5555555555555556,
              "#d8576b"
             ],
             [
              0.6666666666666666,
              "#ed7953"
             ],
             [
              0.7777777777777778,
              "#fb9f3a"
             ],
             [
              0.8888888888888888,
              "#fdca26"
             ],
             [
              1,
              "#f0f921"
             ]
            ],
            "type": "histogram2dcontour"
           }
          ],
          "mesh3d": [
           {
            "colorbar": {
             "outlinewidth": 0,
             "ticks": ""
            },
            "type": "mesh3d"
           }
          ],
          "parcoords": [
           {
            "line": {
             "colorbar": {
              "outlinewidth": 0,
              "ticks": ""
             }
            },
            "type": "parcoords"
           }
          ],
          "pie": [
           {
            "automargin": true,
            "type": "pie"
           }
          ],
          "scatter": [
           {
            "marker": {
             "colorbar": {
              "outlinewidth": 0,
              "ticks": ""
             }
            },
            "type": "scatter"
           }
          ],
          "scatter3d": [
           {
            "line": {
             "colorbar": {
              "outlinewidth": 0,
              "ticks": ""
             }
            },
            "marker": {
             "colorbar": {
              "outlinewidth": 0,
              "ticks": ""
             }
            },
            "type": "scatter3d"
           }
          ],
          "scattercarpet": [
           {
            "marker": {
             "colorbar": {
              "outlinewidth": 0,
              "ticks": ""
             }
            },
            "type": "scattercarpet"
           }
          ],
          "scattergeo": [
           {
            "marker": {
             "colorbar": {
              "outlinewidth": 0,
              "ticks": ""
             }
            },
            "type": "scattergeo"
           }
          ],
          "scattergl": [
           {
            "marker": {
             "colorbar": {
              "outlinewidth": 0,
              "ticks": ""
             }
            },
            "type": "scattergl"
           }
          ],
          "scattermapbox": [
           {
            "marker": {
             "colorbar": {
              "outlinewidth": 0,
              "ticks": ""
             }
            },
            "type": "scattermapbox"
           }
          ],
          "scatterpolar": [
           {
            "marker": {
             "colorbar": {
              "outlinewidth": 0,
              "ticks": ""
             }
            },
            "type": "scatterpolar"
           }
          ],
          "scatterpolargl": [
           {
            "marker": {
             "colorbar": {
              "outlinewidth": 0,
              "ticks": ""
             }
            },
            "type": "scatterpolargl"
           }
          ],
          "scatterternary": [
           {
            "marker": {
             "colorbar": {
              "outlinewidth": 0,
              "ticks": ""
             }
            },
            "type": "scatterternary"
           }
          ],
          "surface": [
           {
            "colorbar": {
             "outlinewidth": 0,
             "ticks": ""
            },
            "colorscale": [
             [
              0,
              "#0d0887"
             ],
             [
              0.1111111111111111,
              "#46039f"
             ],
             [
              0.2222222222222222,
              "#7201a8"
             ],
             [
              0.3333333333333333,
              "#9c179e"
             ],
             [
              0.4444444444444444,
              "#bd3786"
             ],
             [
              0.5555555555555556,
              "#d8576b"
             ],
             [
              0.6666666666666666,
              "#ed7953"
             ],
             [
              0.7777777777777778,
              "#fb9f3a"
             ],
             [
              0.8888888888888888,
              "#fdca26"
             ],
             [
              1,
              "#f0f921"
             ]
            ],
            "type": "surface"
           }
          ],
          "table": [
           {
            "cells": {
             "fill": {
              "color": "#EBF0F8"
             },
             "line": {
              "color": "white"
             }
            },
            "header": {
             "fill": {
              "color": "#C8D4E3"
             },
             "line": {
              "color": "white"
             }
            },
            "type": "table"
           }
          ]
         },
         "layout": {
          "annotationdefaults": {
           "arrowcolor": "#2a3f5f",
           "arrowhead": 0,
           "arrowwidth": 1
          },
          "coloraxis": {
           "colorbar": {
            "outlinewidth": 0,
            "ticks": ""
           }
          },
          "colorscale": {
           "diverging": [
            [
             0,
             "#8e0152"
            ],
            [
             0.1,
             "#c51b7d"
            ],
            [
             0.2,
             "#de77ae"
            ],
            [
             0.3,
             "#f1b6da"
            ],
            [
             0.4,
             "#fde0ef"
            ],
            [
             0.5,
             "#f7f7f7"
            ],
            [
             0.6,
             "#e6f5d0"
            ],
            [
             0.7,
             "#b8e186"
            ],
            [
             0.8,
             "#7fbc41"
            ],
            [
             0.9,
             "#4d9221"
            ],
            [
             1,
             "#276419"
            ]
           ],
           "sequential": [
            [
             0,
             "#0d0887"
            ],
            [
             0.1111111111111111,
             "#46039f"
            ],
            [
             0.2222222222222222,
             "#7201a8"
            ],
            [
             0.3333333333333333,
             "#9c179e"
            ],
            [
             0.4444444444444444,
             "#bd3786"
            ],
            [
             0.5555555555555556,
             "#d8576b"
            ],
            [
             0.6666666666666666,
             "#ed7953"
            ],
            [
             0.7777777777777778,
             "#fb9f3a"
            ],
            [
             0.8888888888888888,
             "#fdca26"
            ],
            [
             1,
             "#f0f921"
            ]
           ],
           "sequentialminus": [
            [
             0,
             "#0d0887"
            ],
            [
             0.1111111111111111,
             "#46039f"
            ],
            [
             0.2222222222222222,
             "#7201a8"
            ],
            [
             0.3333333333333333,
             "#9c179e"
            ],
            [
             0.4444444444444444,
             "#bd3786"
            ],
            [
             0.5555555555555556,
             "#d8576b"
            ],
            [
             0.6666666666666666,
             "#ed7953"
            ],
            [
             0.7777777777777778,
             "#fb9f3a"
            ],
            [
             0.8888888888888888,
             "#fdca26"
            ],
            [
             1,
             "#f0f921"
            ]
           ]
          },
          "colorway": [
           "#636efa",
           "#EF553B",
           "#00cc96",
           "#ab63fa",
           "#FFA15A",
           "#19d3f3",
           "#FF6692",
           "#B6E880",
           "#FF97FF",
           "#FECB52"
          ],
          "font": {
           "color": "#2a3f5f"
          },
          "geo": {
           "bgcolor": "white",
           "lakecolor": "white",
           "landcolor": "#E5ECF6",
           "showlakes": true,
           "showland": true,
           "subunitcolor": "white"
          },
          "hoverlabel": {
           "align": "left"
          },
          "hovermode": "closest",
          "mapbox": {
           "style": "light"
          },
          "paper_bgcolor": "white",
          "plot_bgcolor": "#E5ECF6",
          "polar": {
           "angularaxis": {
            "gridcolor": "white",
            "linecolor": "white",
            "ticks": ""
           },
           "bgcolor": "#E5ECF6",
           "radialaxis": {
            "gridcolor": "white",
            "linecolor": "white",
            "ticks": ""
           }
          },
          "scene": {
           "xaxis": {
            "backgroundcolor": "#E5ECF6",
            "gridcolor": "white",
            "gridwidth": 2,
            "linecolor": "white",
            "showbackground": true,
            "ticks": "",
            "zerolinecolor": "white"
           },
           "yaxis": {
            "backgroundcolor": "#E5ECF6",
            "gridcolor": "white",
            "gridwidth": 2,
            "linecolor": "white",
            "showbackground": true,
            "ticks": "",
            "zerolinecolor": "white"
           },
           "zaxis": {
            "backgroundcolor": "#E5ECF6",
            "gridcolor": "white",
            "gridwidth": 2,
            "linecolor": "white",
            "showbackground": true,
            "ticks": "",
            "zerolinecolor": "white"
           }
          },
          "shapedefaults": {
           "line": {
            "color": "#2a3f5f"
           }
          },
          "ternary": {
           "aaxis": {
            "gridcolor": "white",
            "linecolor": "white",
            "ticks": ""
           },
           "baxis": {
            "gridcolor": "white",
            "linecolor": "white",
            "ticks": ""
           },
           "bgcolor": "#E5ECF6",
           "caxis": {
            "gridcolor": "white",
            "linecolor": "white",
            "ticks": ""
           }
          },
          "title": {
           "x": 0.05
          },
          "xaxis": {
           "automargin": true,
           "gridcolor": "white",
           "linecolor": "white",
           "ticks": "",
           "title": {
            "standoff": 15
           },
           "zerolinecolor": "white",
           "zerolinewidth": 2
          },
          "yaxis": {
           "automargin": true,
           "gridcolor": "white",
           "linecolor": "white",
           "ticks": "",
           "title": {
            "standoff": 15
           },
           "zerolinecolor": "white",
           "zerolinewidth": 2
          }
         }
        },
        "title": {
         "text": "State of the Cluster"
        },
        "width": 800,
        "xaxis": {
         "anchor": "y",
         "domain": [
          0,
          1
         ],
         "matches": "x7",
         "showticklabels": false,
         "title": {
          "text": "time in s"
         }
        },
        "xaxis2": {
         "anchor": "y2",
         "domain": [
          0,
          1
         ],
         "matches": "x7",
         "showticklabels": false,
         "title": {
          "text": "time in s"
         }
        },
        "xaxis3": {
         "anchor": "y3",
         "domain": [
          0,
          1
         ],
         "matches": "x7",
         "showticklabels": false,
         "title": {
          "text": "time in s"
         }
        },
        "xaxis4": {
         "anchor": "y4",
         "domain": [
          0,
          1
         ],
         "matches": "x7",
         "showticklabels": false,
         "title": {
          "text": "time in s"
         }
        },
        "xaxis5": {
         "anchor": "y5",
         "domain": [
          0,
          1
         ],
         "matches": "x7",
         "showticklabels": false,
         "title": {
          "text": "time in s"
         }
        },
        "xaxis6": {
         "anchor": "y6",
         "domain": [
          0,
          1
         ],
         "matches": "x7",
         "showticklabels": false,
         "title": {
          "text": "time in s"
         }
        },
        "xaxis7": {
         "anchor": "y7",
         "domain": [
          0,
          1
         ],
         "title": {
          "text": "time in s"
         }
        },
        "yaxis": {
         "anchor": "x",
         "domain": [
          0.9183673469387754,
          0.9999999999999999
         ],
         "title": {
          "text": "dataflow in MB/s"
         }
        },
        "yaxis2": {
         "anchor": "x2",
         "domain": [
          0.7653061224489794,
          0.8469387755102039
         ],
         "title": {
          "text": "dataflow in MB/s"
         }
        },
        "yaxis3": {
         "anchor": "x3",
         "domain": [
          0.6122448979591837,
          0.6938775510204082
         ],
         "title": {
          "text": "dataflow in MB/s"
         }
        },
        "yaxis4": {
         "anchor": "x4",
         "domain": [
          0.4591836734693877,
          0.5408163265306122
         ],
         "title": {
          "text": "BB usage in Bytes"
         }
        },
        "yaxis5": {
         "anchor": "x5",
         "domain": [
          0.30612244897959184,
          0.3877551020408163
         ],
         "title": {
          "text": "HDD usage in Bytes"
         }
        },
        "yaxis6": {
         "anchor": "x6",
         "domain": [
          0.15306122448979592,
          0.2346938775510204
         ],
         "title": {
          "text": "SSD usage in Bytes"
         }
        },
        "yaxis7": {
         "anchor": "x7",
         "domain": [
          0,
          0.08163265306122448
         ],
         "title": {
          "text": "CPU usage"
         }
        }
       }
      }
     },
     "metadata": {},
     "output_type": "display_data"
    },
    {
     "name": "stdout",
     "output_type": "stream",
     "text": [
      "Displaying result for placement parameter = [1.0, 0.0, 1.0, 1.0, 0.0, 0.0, 1.0, 1.0, 0.0, 0.0, 0.0, 1.0, 0.0, 0.0]\n",
      "    | app#1 : tier placement: [1.0, 0.0] | use_bb = [False, False]\n",
      "    | app#2 : tier placement: [1.0, 1.0, 0.0] | use_bb = [False, True, False]\n",
      "    | app#3 : tier placement: [1.0, 0.0] | use_bb = [True, False]\n",
      "    | runtime = 657.9853479853481 |  BB_size = 9.0 GB\n"
     ]
    },
    {
     "data": {
      "application/vnd.plotly.v1+json": {
       "config": {
        "plotlyServerURL": "https://plot.ly"
       },
       "data": [
        {
         "line": {
          "shape": "linear"
         },
         "name": "app#H9",
         "text": [
          "READ|to/from:SSD|volume=1.0 GB",
          "READ|to/from:SSD|volume=1.0 GB",
          "READ|to/from:SSD|volume=1.05 GB",
          "READ|to/from:SSD|volume=1.05 GB",
          "READ|to/from:SSD|volume=950.0 MB",
          "READ|to/from:SSD|volume=950.0 MB",
          "READ|to/from:SSD|volume=119.21 EB",
          "READ|to/from:SSD|volume=119.21 EB",
          "COMPUTE|volume=0B",
          "COMPUTE|volume=0B",
          "WRITE|to/from:BB|volume=1.2 GB",
          "WRITE|to/from:BB|volume=1.2 GB",
          "WRITE|to/from:BB|volume=3.8 GB",
          "WRITE|to/from:BB|volume=3.8 GB",
          "WRITE|to/from:BB|volume=2.38 ZB",
          "WRITE|to/from:BB|volume=2.38 ZB",
          "COMPUTE|volume=0B",
          "COMPUTE|volume=0B",
          "WRITE|to/from:HDD|volume=274.43 MB",
          "WRITE|to/from:HDD|volume=274.43 MB",
          "WRITE|to/from:HDD|volume=612.7 MB",
          "WRITE|to/from:HDD|volume=612.7 MB",
          "WRITE|to/from:HDD|volume=1.22 GB",
          "WRITE|to/from:HDD|volume=1.22 GB",
          "WRITE|to/from:HDD|volume=378.96 EB",
          "WRITE|to/from:HDD|volume=378.96 EB",
          "WRITE|to/from:HDD|volume=1.05 GB",
          "WRITE|to/from:HDD|volume=1.05 GB",
          "WRITE|to/from:HDD|volume=3.35 GB",
          "WRITE|to/from:HDD|volume=3.35 GB",
          "WRITE|to/from:HDD|volume=3.5 GB",
          "WRITE|to/from:HDD|volume=3.5 GB"
         ],
         "textposition": "top center",
         "type": "scatter",
         "x": [
          0,
          14.285714285714286,
          14.285714285714286,
          24.285714285714285,
          24.285714285714285,
          33.333333333333336,
          33.333333333333336,
          33.333333333333336,
          33.333333333333336,
          53.333333333333336,
          53.333333333333336,
          57.98534798534799,
          57.98534798534799,
          72.75080906148867,
          72.75080906148867,
          72.75080906148868,
          72.75080906148868,
          82.75080906148868,
          82.75080906148868,
          103.33333333333334,
          103.33333333333334,
          149.28571428571428,
          149.28571428571428,
          240.58608058608056,
          240.58608058608056,
          240.58608058608058,
          240.58608058608058,
          319.5037163483765,
          319.5037163483765,
          570.6026174472777,
          570.6026174472777,
          657.9853479853481
         ],
         "xaxis": "x",
         "y": [
          70,
          70,
          105,
          105,
          105,
          105,
          105,
          105,
          0,
          0,
          257.5,
          257.5,
          257.5,
          257.5,
          257.5,
          257.5,
          0,
          0,
          13.333333333333334,
          13.333333333333334,
          13.333333333333334,
          13.333333333333334,
          13.333333333333334,
          13.333333333333334,
          13.333333333333334,
          13.333333333333334,
          13.333333333333334,
          13.333333333333334,
          13.333333333333334,
          13.333333333333334,
          40,
          40
         ],
         "yaxis": "y"
        },
        {
         "line": {
          "dash": "dot",
          "shape": "linear"
         },
         "name": "H9 mvt",
         "text": [
          "MOVEMENT|in:SSD|from:BB|volume=465.2 MB",
          "MOVEMENT|in:SSD|volume=465.2 MB",
          "MOVEMENT|in:SSD|from:BB|volume=1.48 GB",
          "MOVEMENT|in:SSD|volume=1.48 GB",
          "MOVEMENT|in:SSD|from:BB|volume=1.42 ZB",
          "MOVEMENT|in:SSD|volume=1.42 ZB",
          "MOVEMENT|in:SSD|from:BB|volume=1.0 GB",
          "MOVEMENT|in:SSD|volume=1.0 GB",
          "MOVEMENT|in:SSD|from:BB|volume=2.06 GB",
          "MOVEMENT|in:SSD|volume=2.06 GB"
         ],
         "textposition": "top center",
         "type": "scatter",
         "x": [
          53.333333333333336,
          57.98534798534799,
          57.98534798534799,
          72.75080906148867,
          72.75080906148867,
          72.75080906148868,
          72.75080906148868,
          82.75080906148868,
          82.75080906148868,
          103.33333333333334
         ],
         "xaxis": "x",
         "y": [
          100,
          100,
          100,
          100,
          100,
          100,
          100,
          100,
          100,
          100
         ],
         "yaxis": "y"
        },
        {
         "line": {
          "shape": "linear"
         },
         "name": "app#W0",
         "text": [
          "READ|to/from:BB|volume=4.0 GB",
          "READ|to/from:BB|volume=4.0 GB",
          "COMPUTE|volume=0B",
          "COMPUTE|volume=0B",
          "WRITE|to/from:HDD|volume=295.31 MB",
          "WRITE|to/from:HDD|volume=295.31 MB",
          "WRITE|to/from:HDD|volume=284.22 EB",
          "WRITE|to/from:HDD|volume=284.22 EB",
          "WRITE|to/from:HDD|volume=200.0 MB",
          "WRITE|to/from:HDD|volume=200.0 MB",
          "WRITE|to/from:HDD|volume=274.43 MB",
          "WRITE|to/from:HDD|volume=274.43 MB",
          "WRITE|to/from:HDD|volume=612.7 MB",
          "WRITE|to/from:HDD|volume=612.7 MB",
          "WRITE|to/from:HDD|volume=1.22 GB",
          "WRITE|to/from:HDD|volume=1.22 GB",
          "WRITE|to/from:HDD|volume=378.96 EB",
          "WRITE|to/from:HDD|volume=378.96 EB",
          "WRITE|to/from:HDD|volume=1.05 GB",
          "WRITE|to/from:HDD|volume=1.05 GB",
          "WRITE|to/from:HDD|volume=3.35 GB",
          "WRITE|to/from:HDD|volume=3.35 GB"
         ],
         "textposition": "top center",
         "type": "scatter",
         "x": [
          42.85714285714286,
          47.98534798534799,
          47.98534798534799,
          57.98534798534799,
          57.98534798534799,
          72.75080906148867,
          72.75080906148867,
          72.75080906148868,
          72.75080906148868,
          82.75080906148868,
          82.75080906148868,
          103.33333333333334,
          103.33333333333334,
          149.28571428571428,
          149.28571428571428,
          240.58608058608056,
          240.58608058608056,
          240.58608058608058,
          240.58608058608058,
          319.5037163483765,
          319.5037163483765,
          570.6026174472777
         ],
         "xaxis": "x2",
         "y": [
          780,
          780,
          0,
          0,
          20,
          20,
          20,
          20,
          20,
          20,
          13.333333333333334,
          13.333333333333334,
          13.333333333333334,
          13.333333333333334,
          13.333333333333334,
          13.333333333333334,
          13.333333333333334,
          13.333333333333334,
          13.333333333333334,
          13.333333333333334,
          13.333333333333334,
          13.333333333333334
         ],
         "yaxis": "y2"
        },
        {
         "line": {
          "dash": "dot",
          "shape": "linear"
         },
         "name": "W0 mvt",
         "text": [
          "MOVEMENT|in:BB|from:SSD|volume=1.0 GB",
          "MOVEMENT|in:BB|volume=1.0 GB",
          "MOVEMENT|in:BB|from:SSD|volume=1.05 GB",
          "MOVEMENT|in:BB|volume=1.05 GB",
          "MOVEMENT|in:BB|from:SSD|volume=950.0 MB",
          "MOVEMENT|in:BB|volume=950.0 MB",
          "MOVEMENT|in:BB|from:SSD|volume=1.0 GB",
          "MOVEMENT|in:BB|volume=1.0 GB",
          "MOVEMENT|in:BB|from:SSD|volume=119.21 EB",
          "MOVEMENT|in:BB|volume=119.21 EB"
         ],
         "textposition": "top center",
         "type": "scatter",
         "x": [
          0,
          14.285714285714286,
          14.285714285714286,
          24.285714285714285,
          24.285714285714285,
          33.333333333333336,
          33.333333333333336,
          42.85714285714286,
          42.85714285714286,
          42.85714285714286
         ],
         "xaxis": "x2",
         "y": [
          70,
          70,
          105,
          105,
          105,
          105,
          105,
          105,
          210,
          210
         ],
         "yaxis": "y2"
        },
        {
         "line": {
          "shape": "linear"
         },
         "name": "app#W1",
         "text": [
          "READ|to/from:SSD|volume=1.0 GB",
          "READ|to/from:SSD|volume=1.0 GB",
          "COMPUTE|volume=0B",
          "COMPUTE|volume=0B",
          "WRITE|to/from:HDD|volume=361.9 MB",
          "WRITE|to/from:HDD|volume=361.9 MB",
          "WRITE|to/from:HDD|volume=380.95 MB",
          "WRITE|to/from:HDD|volume=380.95 MB",
          "WRITE|to/from:HDD|volume=205.13 MB",
          "WRITE|to/from:HDD|volume=205.13 MB",
          "WRITE|to/from:HDD|volume=213.92 MB",
          "WRITE|to/from:HDD|volume=213.92 MB",
          "WRITE|to/from:HDD|volume=186.08 MB",
          "WRITE|to/from:HDD|volume=186.08 MB",
          "WRITE|to/from:HDD|volume=295.31 MB",
          "WRITE|to/from:HDD|volume=295.31 MB",
          "WRITE|to/from:HDD|volume=284.22 EB",
          "WRITE|to/from:HDD|volume=284.22 EB",
          "WRITE|to/from:HDD|volume=200.0 MB",
          "WRITE|to/from:HDD|volume=200.0 MB",
          "WRITE|to/from:HDD|volume=274.43 MB",
          "WRITE|to/from:HDD|volume=274.43 MB",
          "WRITE|to/from:HDD|volume=612.7 MB",
          "WRITE|to/from:HDD|volume=612.7 MB",
          "WRITE|to/from:HDD|volume=1.22 GB",
          "WRITE|to/from:HDD|volume=1.22 GB",
          "WRITE|to/from:HDD|volume=378.96 EB",
          "WRITE|to/from:HDD|volume=378.96 EB",
          "WRITE|to/from:HDD|volume=1.05 GB",
          "WRITE|to/from:HDD|volume=1.05 GB",
          "WRITE|to/from:HDD|volume=357.63 EB",
          "WRITE|to/from:HDD|volume=357.63 EB"
         ],
         "textposition": "top center",
         "type": "scatter",
         "x": [
          0,
          14.285714285714286,
          14.285714285714286,
          24.285714285714285,
          24.285714285714285,
          33.333333333333336,
          33.333333333333336,
          42.85714285714286,
          42.85714285714286,
          47.98534798534799,
          47.98534798534799,
          53.333333333333336,
          53.333333333333336,
          57.98534798534799,
          57.98534798534799,
          72.75080906148867,
          72.75080906148867,
          72.75080906148868,
          72.75080906148868,
          82.75080906148868,
          82.75080906148868,
          103.33333333333334,
          103.33333333333334,
          149.28571428571428,
          149.28571428571428,
          240.58608058608056,
          240.58608058608056,
          240.58608058608058,
          240.58608058608058,
          319.5037163483765,
          319.5037163483765,
          319.5037163483765
         ],
         "xaxis": "x3",
         "y": [
          70,
          70,
          0,
          0,
          40,
          40,
          40,
          40,
          40,
          40,
          40,
          40,
          40,
          40,
          20,
          20,
          20,
          20,
          20,
          20,
          13.333333333333334,
          13.333333333333334,
          13.333333333333334,
          13.333333333333334,
          13.333333333333334,
          13.333333333333334,
          13.333333333333334,
          13.333333333333334,
          13.333333333333334,
          13.333333333333334,
          13.333333333333334,
          13.333333333333334
         ],
         "yaxis": "y3"
        },
        {
         "line": {
          "dash": "dot",
          "shape": "linear"
         },
         "name": "W1 mvt",
         "text": [],
         "textposition": "top center",
         "type": "scatter",
         "x": [],
         "xaxis": "x3",
         "y": [],
         "yaxis": "y3"
        },
        {
         "line": {
          "shape": "linear"
         },
         "name": "BB",
         "showlegend": false,
         "text": [
          "W1|Read|SSD | +volume=1.0 GB",
          "W0|Movement|BB | +volume=1.0 GB",
          "H9|Read|SSD | +volume=1.0 GB",
          "W1|Compute | +volume=0B",
          "H9|Read|SSD | +volume=1.05 GB",
          "W0|Movement|BB | +volume=1.05 GB",
          "H9|Read|SSD | +volume=950.0 MB",
          "W1|Write|HDD | +volume=361.9 MB",
          "W0|Movement|BB | +volume=950.0 MB",
          "H9|Read|SSD | +volume=119.21 EB",
          "W0|Movement|BB | +volume=1.0 GB",
          "W1|Write|HDD | +volume=380.95 MB",
          "W0|Movement|BB | +volume=119.21 EB",
          "W0|Read|BB | +volume=4.0 GB",
          "W1|Write|HDD | +volume=205.13 MB",
          "H9|Compute | +volume=0B",
          "W1|Write|HDD | +volume=213.92 MB",
          "W0|Compute | +volume=0B",
          "H9|Write|BB | +volume=1.2 GB",
          "W1|Write|HDD | +volume=186.08 MB",
          "H9|Movement|SSD | +volume=465.2 MB",
          "H9|Movement|SSD | +volume=1.48 GB",
          "W0|Write|HDD | +volume=295.31 MB",
          "W1|Write|HDD | +volume=295.31 MB",
          "H9|Write|BB | +volume=3.8 GB",
          "H9|Write|BB | +volume=2.38 ZB",
          "H9|Movement|SSD | +volume=1.42 ZB",
          "W0|Write|HDD | +volume=284.22 EB",
          "W1|Write|HDD | +volume=284.22 EB",
          "H9|Compute | +volume=0B",
          "W0|Write|HDD | +volume=200.0 MB",
          "W1|Write|HDD | +volume=200.0 MB",
          "H9|Movement|SSD | +volume=1.0 GB",
          "H9|Movement|SSD | +volume=2.06 GB",
          "W0|Write|HDD | +volume=274.43 MB",
          "W1|Write|HDD | +volume=274.43 MB",
          "H9|Write|HDD | +volume=274.43 MB",
          "H9|Write|HDD | +volume=612.7 MB",
          "W0|Write|HDD | +volume=612.7 MB",
          "W1|Write|HDD | +volume=612.7 MB",
          "H9|Write|HDD | +volume=1.22 GB",
          "W0|Write|HDD | +volume=1.22 GB",
          "W1|Write|HDD | +volume=1.22 GB",
          "H9|Write|HDD | +volume=378.96 EB",
          "W0|Write|HDD | +volume=378.96 EB",
          "W1|Write|HDD | +volume=378.96 EB",
          "H9|Write|HDD | +volume=1.05 GB",
          "W0|Write|HDD | +volume=1.05 GB",
          "W1|Write|HDD | +volume=1.05 GB",
          "W1|Write|HDD | +volume=357.63 EB",
          "W0|Write|HDD | +volume=3.35 GB",
          "H9|Write|HDD | +volume=3.35 GB",
          "H9|Write|HDD | +volume=3.5 GB"
         ],
         "textposition": "top center",
         "type": "scatter",
         "x": [
          0,
          14.285714285714286,
          24.285714285714285,
          33.333333333333336,
          42.85714285714286,
          47.98534798534799,
          53.333333333333336,
          57.98534798534799,
          72.75080906148867,
          72.75080906148868,
          82.75080906148868,
          103.33333333333334,
          149.28571428571428,
          240.58608058608056,
          240.58608058608058,
          319.5037163483765,
          570.6026174472777,
          657.9853479853481
         ],
         "xaxis": "x4",
         "y": [
          0,
          1000000000,
          2050000000,
          3000000000,
          4000000000,
          4000000000,
          4000000000,
          5197893772.893774,
          8999999999.999998,
          9000000000,
          9000000000,
          9000000000,
          9000000000,
          9000000000,
          9000000000,
          9000000000,
          9000000000,
          9000000000
         ],
         "yaxis": "y4"
        },
        {
         "line": {
          "shape": "linear"
         },
         "name": "HDD",
         "showlegend": false,
         "text": [
          "W1|Read|SSD | +volume=1.0 GB",
          "W0|Movement|BB | +volume=1.0 GB",
          "H9|Read|SSD | +volume=1.0 GB",
          "W1|Compute | +volume=0B",
          "H9|Read|SSD | +volume=1.05 GB",
          "W0|Movement|BB | +volume=1.05 GB",
          "H9|Read|SSD | +volume=950.0 MB",
          "W1|Write|HDD | +volume=361.9 MB",
          "W0|Movement|BB | +volume=950.0 MB",
          "H9|Read|SSD | +volume=119.21 EB",
          "W0|Movement|BB | +volume=1.0 GB",
          "W1|Write|HDD | +volume=380.95 MB",
          "W0|Movement|BB | +volume=119.21 EB",
          "W0|Read|BB | +volume=4.0 GB",
          "W1|Write|HDD | +volume=205.13 MB",
          "H9|Compute | +volume=0B",
          "W1|Write|HDD | +volume=213.92 MB",
          "W0|Compute | +volume=0B",
          "H9|Write|BB | +volume=1.2 GB",
          "W1|Write|HDD | +volume=186.08 MB",
          "H9|Movement|SSD | +volume=465.2 MB",
          "H9|Movement|SSD | +volume=1.48 GB",
          "W0|Write|HDD | +volume=295.31 MB",
          "W1|Write|HDD | +volume=295.31 MB",
          "H9|Write|BB | +volume=3.8 GB",
          "H9|Write|BB | +volume=2.38 ZB",
          "H9|Movement|SSD | +volume=1.42 ZB",
          "W0|Write|HDD | +volume=284.22 EB",
          "W1|Write|HDD | +volume=284.22 EB",
          "H9|Compute | +volume=0B",
          "W0|Write|HDD | +volume=200.0 MB",
          "W1|Write|HDD | +volume=200.0 MB",
          "H9|Movement|SSD | +volume=1.0 GB",
          "H9|Movement|SSD | +volume=2.06 GB",
          "W0|Write|HDD | +volume=274.43 MB",
          "W1|Write|HDD | +volume=274.43 MB",
          "H9|Write|HDD | +volume=274.43 MB",
          "H9|Write|HDD | +volume=612.7 MB",
          "W0|Write|HDD | +volume=612.7 MB",
          "W1|Write|HDD | +volume=612.7 MB",
          "H9|Write|HDD | +volume=1.22 GB",
          "W0|Write|HDD | +volume=1.22 GB",
          "W1|Write|HDD | +volume=1.22 GB",
          "H9|Write|HDD | +volume=378.96 EB",
          "W0|Write|HDD | +volume=378.96 EB",
          "W1|Write|HDD | +volume=378.96 EB",
          "H9|Write|HDD | +volume=1.05 GB",
          "W0|Write|HDD | +volume=1.05 GB",
          "W1|Write|HDD | +volume=1.05 GB",
          "W1|Write|HDD | +volume=357.63 EB",
          "W0|Write|HDD | +volume=3.35 GB",
          "H9|Write|HDD | +volume=3.35 GB",
          "H9|Write|HDD | +volume=3.5 GB"
         ],
         "textposition": "top center",
         "type": "scatter",
         "x": [
          0,
          14.285714285714286,
          24.285714285714285,
          33.333333333333336,
          42.85714285714286,
          47.98534798534799,
          53.333333333333336,
          57.98534798534799,
          72.75080906148867,
          72.75080906148868,
          82.75080906148868,
          103.33333333333334,
          149.28571428571428,
          240.58608058608056,
          240.58608058608058,
          319.5037163483765,
          570.6026174472777,
          657.9853479853481
         ],
         "xaxis": "x5",
         "y": [
          0,
          0,
          0,
          361904761.904762,
          742857142.857143,
          947985347.9853482,
          1161904761.904762,
          1347985347.9853482,
          1938603791.0309753,
          1938603791.030976,
          2338603791.030976,
          3161904761.904762,
          5000000000,
          8652014652.01465,
          8652014652.01465,
          11808720082.506485,
          18504690778.477184,
          22000000000
         ],
         "yaxis": "y5"
        },
        {
         "line": {
          "shape": "linear"
         },
         "name": "SSD",
         "showlegend": false,
         "text": [
          "W1|Read|SSD | +volume=1.0 GB",
          "W0|Movement|BB | +volume=1.0 GB",
          "H9|Read|SSD | +volume=1.0 GB",
          "W1|Compute | +volume=0B",
          "H9|Read|SSD | +volume=1.05 GB",
          "W0|Movement|BB | +volume=1.05 GB",
          "H9|Read|SSD | +volume=950.0 MB",
          "W1|Write|HDD | +volume=361.9 MB",
          "W0|Movement|BB | +volume=950.0 MB",
          "H9|Read|SSD | +volume=119.21 EB",
          "W0|Movement|BB | +volume=1.0 GB",
          "W1|Write|HDD | +volume=380.95 MB",
          "W0|Movement|BB | +volume=119.21 EB",
          "W0|Read|BB | +volume=4.0 GB",
          "W1|Write|HDD | +volume=205.13 MB",
          "H9|Compute | +volume=0B",
          "W1|Write|HDD | +volume=213.92 MB",
          "W0|Compute | +volume=0B",
          "H9|Write|BB | +volume=1.2 GB",
          "W1|Write|HDD | +volume=186.08 MB",
          "H9|Movement|SSD | +volume=465.2 MB",
          "H9|Movement|SSD | +volume=1.48 GB",
          "W0|Write|HDD | +volume=295.31 MB",
          "W1|Write|HDD | +volume=295.31 MB",
          "H9|Write|BB | +volume=3.8 GB",
          "H9|Write|BB | +volume=2.38 ZB",
          "H9|Movement|SSD | +volume=1.42 ZB",
          "W0|Write|HDD | +volume=284.22 EB",
          "W1|Write|HDD | +volume=284.22 EB",
          "H9|Compute | +volume=0B",
          "W0|Write|HDD | +volume=200.0 MB",
          "W1|Write|HDD | +volume=200.0 MB",
          "H9|Movement|SSD | +volume=1.0 GB",
          "H9|Movement|SSD | +volume=2.06 GB",
          "W0|Write|HDD | +volume=274.43 MB",
          "W1|Write|HDD | +volume=274.43 MB",
          "H9|Write|HDD | +volume=274.43 MB",
          "H9|Write|HDD | +volume=612.7 MB",
          "W0|Write|HDD | +volume=612.7 MB",
          "W1|Write|HDD | +volume=612.7 MB",
          "H9|Write|HDD | +volume=1.22 GB",
          "W0|Write|HDD | +volume=1.22 GB",
          "W1|Write|HDD | +volume=1.22 GB",
          "H9|Write|HDD | +volume=378.96 EB",
          "W0|Write|HDD | +volume=378.96 EB",
          "W1|Write|HDD | +volume=378.96 EB",
          "H9|Write|HDD | +volume=1.05 GB",
          "W0|Write|HDD | +volume=1.05 GB",
          "W1|Write|HDD | +volume=1.05 GB",
          "W1|Write|HDD | +volume=357.63 EB",
          "W0|Write|HDD | +volume=3.35 GB",
          "H9|Write|HDD | +volume=3.35 GB",
          "H9|Write|HDD | +volume=3.5 GB"
         ],
         "textposition": "top center",
         "type": "scatter",
         "x": [
          0,
          14.285714285714286,
          24.285714285714285,
          33.333333333333336,
          42.85714285714286,
          47.98534798534799,
          53.333333333333336,
          57.98534798534799,
          72.75080906148867,
          72.75080906148868,
          82.75080906148868,
          103.33333333333334,
          149.28571428571428,
          240.58608058608056,
          240.58608058608058,
          319.5037163483765,
          570.6026174472777,
          657.9853479853481
         ],
         "xaxis": "x6",
         "y": [
          0,
          3000000000,
          3000000000,
          3000000000,
          3000000000,
          3000000000,
          3000000000,
          3465201465.2014656,
          4941747572.815533,
          4941747572.815534,
          5941747572.815534,
          7999999999.999999,
          7999999999.999999,
          7999999999.999999,
          7999999999.999999,
          7999999999.999999,
          7999999999.999999,
          7999999999.999999
         ],
         "yaxis": "y6"
        },
        {
         "line": {
          "shape": "hv"
         },
         "showlegend": false,
         "type": "scatter",
         "x": [
          0,
          14.285714285714286,
          24.285714285714285,
          33.333333333333336,
          42.85714285714286,
          47.98534798534799,
          53.333333333333336,
          57.98534798534799,
          72.75080906148867,
          72.75080906148868,
          82.75080906148868,
          103.33333333333334,
          149.28571428571428,
          240.58608058608056,
          240.58608058608058,
          319.5037163483765,
          570.6026174472777,
          657.9853479853481
         ],
         "xaxis": "x7",
         "y": [
          3,
          3,
          3,
          3,
          3,
          3,
          4,
          4,
          4,
          4,
          4,
          3,
          3,
          3,
          3,
          2,
          1,
          0
         ],
         "yaxis": "y7"
        },
        {
         "line": {
          "color": "red",
          "dash": "dot",
          "shape": "hv",
          "width": 3
         },
         "showlegend": false,
         "text": [
          "Maximum available cores in cluster=10",
          "Maximum available cores in cluster=10"
         ],
         "type": "scatter",
         "x": [
          0,
          657.9853479853481
         ],
         "xaxis": "x7",
         "y": [
          10,
          10
         ],
         "yaxis": "y7"
        }
       ],
       "layout": {
        "annotations": [
         {
          "font": {
           "size": 16
          },
          "showarrow": false,
          "text": "H9",
          "x": 0.5,
          "xanchor": "center",
          "xref": "paper",
          "y": 0.9999999999999999,
          "yanchor": "bottom",
          "yref": "paper"
         },
         {
          "font": {
           "size": 16
          },
          "showarrow": false,
          "text": "W0",
          "x": 0.5,
          "xanchor": "center",
          "xref": "paper",
          "y": 0.8469387755102039,
          "yanchor": "bottom",
          "yref": "paper"
         },
         {
          "font": {
           "size": 16
          },
          "showarrow": false,
          "text": "W1",
          "x": 0.5,
          "xanchor": "center",
          "xref": "paper",
          "y": 0.6938775510204082,
          "yanchor": "bottom",
          "yref": "paper"
         },
         {
          "font": {
           "size": 16
          },
          "showarrow": false,
          "text": "BB (50.0 GB)",
          "x": 0.5,
          "xanchor": "center",
          "xref": "paper",
          "y": 0.5408163265306122,
          "yanchor": "bottom",
          "yref": "paper"
         },
         {
          "font": {
           "size": 16
          },
          "showarrow": false,
          "text": "HDD (1.0 TB)",
          "x": 0.5,
          "xanchor": "center",
          "xref": "paper",
          "y": 0.3877551020408163,
          "yanchor": "bottom",
          "yref": "paper"
         },
         {
          "font": {
           "size": 16
          },
          "showarrow": false,
          "text": "SSD (200.0 GB)",
          "x": 0.5,
          "xanchor": "center",
          "xref": "paper",
          "y": 0.2346938775510204,
          "yanchor": "bottom",
          "yref": "paper"
         },
         {
          "font": {
           "size": 16
          },
          "showarrow": false,
          "text": "CPU Cores",
          "x": 0.5,
          "xanchor": "center",
          "xref": "paper",
          "y": 0.08163265306122448,
          "yanchor": "bottom",
          "yref": "paper"
         }
        ],
        "height": 900,
        "template": {
         "data": {
          "bar": [
           {
            "error_x": {
             "color": "#2a3f5f"
            },
            "error_y": {
             "color": "#2a3f5f"
            },
            "marker": {
             "line": {
              "color": "#E5ECF6",
              "width": 0.5
             }
            },
            "type": "bar"
           }
          ],
          "barpolar": [
           {
            "marker": {
             "line": {
              "color": "#E5ECF6",
              "width": 0.5
             }
            },
            "type": "barpolar"
           }
          ],
          "carpet": [
           {
            "aaxis": {
             "endlinecolor": "#2a3f5f",
             "gridcolor": "white",
             "linecolor": "white",
             "minorgridcolor": "white",
             "startlinecolor": "#2a3f5f"
            },
            "baxis": {
             "endlinecolor": "#2a3f5f",
             "gridcolor": "white",
             "linecolor": "white",
             "minorgridcolor": "white",
             "startlinecolor": "#2a3f5f"
            },
            "type": "carpet"
           }
          ],
          "choropleth": [
           {
            "colorbar": {
             "outlinewidth": 0,
             "ticks": ""
            },
            "type": "choropleth"
           }
          ],
          "contour": [
           {
            "colorbar": {
             "outlinewidth": 0,
             "ticks": ""
            },
            "colorscale": [
             [
              0,
              "#0d0887"
             ],
             [
              0.1111111111111111,
              "#46039f"
             ],
             [
              0.2222222222222222,
              "#7201a8"
             ],
             [
              0.3333333333333333,
              "#9c179e"
             ],
             [
              0.4444444444444444,
              "#bd3786"
             ],
             [
              0.5555555555555556,
              "#d8576b"
             ],
             [
              0.6666666666666666,
              "#ed7953"
             ],
             [
              0.7777777777777778,
              "#fb9f3a"
             ],
             [
              0.8888888888888888,
              "#fdca26"
             ],
             [
              1,
              "#f0f921"
             ]
            ],
            "type": "contour"
           }
          ],
          "contourcarpet": [
           {
            "colorbar": {
             "outlinewidth": 0,
             "ticks": ""
            },
            "type": "contourcarpet"
           }
          ],
          "heatmap": [
           {
            "colorbar": {
             "outlinewidth": 0,
             "ticks": ""
            },
            "colorscale": [
             [
              0,
              "#0d0887"
             ],
             [
              0.1111111111111111,
              "#46039f"
             ],
             [
              0.2222222222222222,
              "#7201a8"
             ],
             [
              0.3333333333333333,
              "#9c179e"
             ],
             [
              0.4444444444444444,
              "#bd3786"
             ],
             [
              0.5555555555555556,
              "#d8576b"
             ],
             [
              0.6666666666666666,
              "#ed7953"
             ],
             [
              0.7777777777777778,
              "#fb9f3a"
             ],
             [
              0.8888888888888888,
              "#fdca26"
             ],
             [
              1,
              "#f0f921"
             ]
            ],
            "type": "heatmap"
           }
          ],
          "heatmapgl": [
           {
            "colorbar": {
             "outlinewidth": 0,
             "ticks": ""
            },
            "colorscale": [
             [
              0,
              "#0d0887"
             ],
             [
              0.1111111111111111,
              "#46039f"
             ],
             [
              0.2222222222222222,
              "#7201a8"
             ],
             [
              0.3333333333333333,
              "#9c179e"
             ],
             [
              0.4444444444444444,
              "#bd3786"
             ],
             [
              0.5555555555555556,
              "#d8576b"
             ],
             [
              0.6666666666666666,
              "#ed7953"
             ],
             [
              0.7777777777777778,
              "#fb9f3a"
             ],
             [
              0.8888888888888888,
              "#fdca26"
             ],
             [
              1,
              "#f0f921"
             ]
            ],
            "type": "heatmapgl"
           }
          ],
          "histogram": [
           {
            "marker": {
             "colorbar": {
              "outlinewidth": 0,
              "ticks": ""
             }
            },
            "type": "histogram"
           }
          ],
          "histogram2d": [
           {
            "colorbar": {
             "outlinewidth": 0,
             "ticks": ""
            },
            "colorscale": [
             [
              0,
              "#0d0887"
             ],
             [
              0.1111111111111111,
              "#46039f"
             ],
             [
              0.2222222222222222,
              "#7201a8"
             ],
             [
              0.3333333333333333,
              "#9c179e"
             ],
             [
              0.4444444444444444,
              "#bd3786"
             ],
             [
              0.5555555555555556,
              "#d8576b"
             ],
             [
              0.6666666666666666,
              "#ed7953"
             ],
             [
              0.7777777777777778,
              "#fb9f3a"
             ],
             [
              0.8888888888888888,
              "#fdca26"
             ],
             [
              1,
              "#f0f921"
             ]
            ],
            "type": "histogram2d"
           }
          ],
          "histogram2dcontour": [
           {
            "colorbar": {
             "outlinewidth": 0,
             "ticks": ""
            },
            "colorscale": [
             [
              0,
              "#0d0887"
             ],
             [
              0.1111111111111111,
              "#46039f"
             ],
             [
              0.2222222222222222,
              "#7201a8"
             ],
             [
              0.3333333333333333,
              "#9c179e"
             ],
             [
              0.4444444444444444,
              "#bd3786"
             ],
             [
              0.5555555555555556,
              "#d8576b"
             ],
             [
              0.6666666666666666,
              "#ed7953"
             ],
             [
              0.7777777777777778,
              "#fb9f3a"
             ],
             [
              0.8888888888888888,
              "#fdca26"
             ],
             [
              1,
              "#f0f921"
             ]
            ],
            "type": "histogram2dcontour"
           }
          ],
          "mesh3d": [
           {
            "colorbar": {
             "outlinewidth": 0,
             "ticks": ""
            },
            "type": "mesh3d"
           }
          ],
          "parcoords": [
           {
            "line": {
             "colorbar": {
              "outlinewidth": 0,
              "ticks": ""
             }
            },
            "type": "parcoords"
           }
          ],
          "pie": [
           {
            "automargin": true,
            "type": "pie"
           }
          ],
          "scatter": [
           {
            "marker": {
             "colorbar": {
              "outlinewidth": 0,
              "ticks": ""
             }
            },
            "type": "scatter"
           }
          ],
          "scatter3d": [
           {
            "line": {
             "colorbar": {
              "outlinewidth": 0,
              "ticks": ""
             }
            },
            "marker": {
             "colorbar": {
              "outlinewidth": 0,
              "ticks": ""
             }
            },
            "type": "scatter3d"
           }
          ],
          "scattercarpet": [
           {
            "marker": {
             "colorbar": {
              "outlinewidth": 0,
              "ticks": ""
             }
            },
            "type": "scattercarpet"
           }
          ],
          "scattergeo": [
           {
            "marker": {
             "colorbar": {
              "outlinewidth": 0,
              "ticks": ""
             }
            },
            "type": "scattergeo"
           }
          ],
          "scattergl": [
           {
            "marker": {
             "colorbar": {
              "outlinewidth": 0,
              "ticks": ""
             }
            },
            "type": "scattergl"
           }
          ],
          "scattermapbox": [
           {
            "marker": {
             "colorbar": {
              "outlinewidth": 0,
              "ticks": ""
             }
            },
            "type": "scattermapbox"
           }
          ],
          "scatterpolar": [
           {
            "marker": {
             "colorbar": {
              "outlinewidth": 0,
              "ticks": ""
             }
            },
            "type": "scatterpolar"
           }
          ],
          "scatterpolargl": [
           {
            "marker": {
             "colorbar": {
              "outlinewidth": 0,
              "ticks": ""
             }
            },
            "type": "scatterpolargl"
           }
          ],
          "scatterternary": [
           {
            "marker": {
             "colorbar": {
              "outlinewidth": 0,
              "ticks": ""
             }
            },
            "type": "scatterternary"
           }
          ],
          "surface": [
           {
            "colorbar": {
             "outlinewidth": 0,
             "ticks": ""
            },
            "colorscale": [
             [
              0,
              "#0d0887"
             ],
             [
              0.1111111111111111,
              "#46039f"
             ],
             [
              0.2222222222222222,
              "#7201a8"
             ],
             [
              0.3333333333333333,
              "#9c179e"
             ],
             [
              0.4444444444444444,
              "#bd3786"
             ],
             [
              0.5555555555555556,
              "#d8576b"
             ],
             [
              0.6666666666666666,
              "#ed7953"
             ],
             [
              0.7777777777777778,
              "#fb9f3a"
             ],
             [
              0.8888888888888888,
              "#fdca26"
             ],
             [
              1,
              "#f0f921"
             ]
            ],
            "type": "surface"
           }
          ],
          "table": [
           {
            "cells": {
             "fill": {
              "color": "#EBF0F8"
             },
             "line": {
              "color": "white"
             }
            },
            "header": {
             "fill": {
              "color": "#C8D4E3"
             },
             "line": {
              "color": "white"
             }
            },
            "type": "table"
           }
          ]
         },
         "layout": {
          "annotationdefaults": {
           "arrowcolor": "#2a3f5f",
           "arrowhead": 0,
           "arrowwidth": 1
          },
          "coloraxis": {
           "colorbar": {
            "outlinewidth": 0,
            "ticks": ""
           }
          },
          "colorscale": {
           "diverging": [
            [
             0,
             "#8e0152"
            ],
            [
             0.1,
             "#c51b7d"
            ],
            [
             0.2,
             "#de77ae"
            ],
            [
             0.3,
             "#f1b6da"
            ],
            [
             0.4,
             "#fde0ef"
            ],
            [
             0.5,
             "#f7f7f7"
            ],
            [
             0.6,
             "#e6f5d0"
            ],
            [
             0.7,
             "#b8e186"
            ],
            [
             0.8,
             "#7fbc41"
            ],
            [
             0.9,
             "#4d9221"
            ],
            [
             1,
             "#276419"
            ]
           ],
           "sequential": [
            [
             0,
             "#0d0887"
            ],
            [
             0.1111111111111111,
             "#46039f"
            ],
            [
             0.2222222222222222,
             "#7201a8"
            ],
            [
             0.3333333333333333,
             "#9c179e"
            ],
            [
             0.4444444444444444,
             "#bd3786"
            ],
            [
             0.5555555555555556,
             "#d8576b"
            ],
            [
             0.6666666666666666,
             "#ed7953"
            ],
            [
             0.7777777777777778,
             "#fb9f3a"
            ],
            [
             0.8888888888888888,
             "#fdca26"
            ],
            [
             1,
             "#f0f921"
            ]
           ],
           "sequentialminus": [
            [
             0,
             "#0d0887"
            ],
            [
             0.1111111111111111,
             "#46039f"
            ],
            [
             0.2222222222222222,
             "#7201a8"
            ],
            [
             0.3333333333333333,
             "#9c179e"
            ],
            [
             0.4444444444444444,
             "#bd3786"
            ],
            [
             0.5555555555555556,
             "#d8576b"
            ],
            [
             0.6666666666666666,
             "#ed7953"
            ],
            [
             0.7777777777777778,
             "#fb9f3a"
            ],
            [
             0.8888888888888888,
             "#fdca26"
            ],
            [
             1,
             "#f0f921"
            ]
           ]
          },
          "colorway": [
           "#636efa",
           "#EF553B",
           "#00cc96",
           "#ab63fa",
           "#FFA15A",
           "#19d3f3",
           "#FF6692",
           "#B6E880",
           "#FF97FF",
           "#FECB52"
          ],
          "font": {
           "color": "#2a3f5f"
          },
          "geo": {
           "bgcolor": "white",
           "lakecolor": "white",
           "landcolor": "#E5ECF6",
           "showlakes": true,
           "showland": true,
           "subunitcolor": "white"
          },
          "hoverlabel": {
           "align": "left"
          },
          "hovermode": "closest",
          "mapbox": {
           "style": "light"
          },
          "paper_bgcolor": "white",
          "plot_bgcolor": "#E5ECF6",
          "polar": {
           "angularaxis": {
            "gridcolor": "white",
            "linecolor": "white",
            "ticks": ""
           },
           "bgcolor": "#E5ECF6",
           "radialaxis": {
            "gridcolor": "white",
            "linecolor": "white",
            "ticks": ""
           }
          },
          "scene": {
           "xaxis": {
            "backgroundcolor": "#E5ECF6",
            "gridcolor": "white",
            "gridwidth": 2,
            "linecolor": "white",
            "showbackground": true,
            "ticks": "",
            "zerolinecolor": "white"
           },
           "yaxis": {
            "backgroundcolor": "#E5ECF6",
            "gridcolor": "white",
            "gridwidth": 2,
            "linecolor": "white",
            "showbackground": true,
            "ticks": "",
            "zerolinecolor": "white"
           },
           "zaxis": {
            "backgroundcolor": "#E5ECF6",
            "gridcolor": "white",
            "gridwidth": 2,
            "linecolor": "white",
            "showbackground": true,
            "ticks": "",
            "zerolinecolor": "white"
           }
          },
          "shapedefaults": {
           "line": {
            "color": "#2a3f5f"
           }
          },
          "ternary": {
           "aaxis": {
            "gridcolor": "white",
            "linecolor": "white",
            "ticks": ""
           },
           "baxis": {
            "gridcolor": "white",
            "linecolor": "white",
            "ticks": ""
           },
           "bgcolor": "#E5ECF6",
           "caxis": {
            "gridcolor": "white",
            "linecolor": "white",
            "ticks": ""
           }
          },
          "title": {
           "x": 0.05
          },
          "xaxis": {
           "automargin": true,
           "gridcolor": "white",
           "linecolor": "white",
           "ticks": "",
           "title": {
            "standoff": 15
           },
           "zerolinecolor": "white",
           "zerolinewidth": 2
          },
          "yaxis": {
           "automargin": true,
           "gridcolor": "white",
           "linecolor": "white",
           "ticks": "",
           "title": {
            "standoff": 15
           },
           "zerolinecolor": "white",
           "zerolinewidth": 2
          }
         }
        },
        "title": {
         "text": "State of the Cluster"
        },
        "width": 800,
        "xaxis": {
         "anchor": "y",
         "domain": [
          0,
          1
         ],
         "matches": "x7",
         "showticklabels": false,
         "title": {
          "text": "time in s"
         }
        },
        "xaxis2": {
         "anchor": "y2",
         "domain": [
          0,
          1
         ],
         "matches": "x7",
         "showticklabels": false,
         "title": {
          "text": "time in s"
         }
        },
        "xaxis3": {
         "anchor": "y3",
         "domain": [
          0,
          1
         ],
         "matches": "x7",
         "showticklabels": false,
         "title": {
          "text": "time in s"
         }
        },
        "xaxis4": {
         "anchor": "y4",
         "domain": [
          0,
          1
         ],
         "matches": "x7",
         "showticklabels": false,
         "title": {
          "text": "time in s"
         }
        },
        "xaxis5": {
         "anchor": "y5",
         "domain": [
          0,
          1
         ],
         "matches": "x7",
         "showticklabels": false,
         "title": {
          "text": "time in s"
         }
        },
        "xaxis6": {
         "anchor": "y6",
         "domain": [
          0,
          1
         ],
         "matches": "x7",
         "showticklabels": false,
         "title": {
          "text": "time in s"
         }
        },
        "xaxis7": {
         "anchor": "y7",
         "domain": [
          0,
          1
         ],
         "title": {
          "text": "time in s"
         }
        },
        "yaxis": {
         "anchor": "x",
         "domain": [
          0.9183673469387754,
          0.9999999999999999
         ],
         "title": {
          "text": "dataflow in MB/s"
         }
        },
        "yaxis2": {
         "anchor": "x2",
         "domain": [
          0.7653061224489794,
          0.8469387755102039
         ],
         "title": {
          "text": "dataflow in MB/s"
         }
        },
        "yaxis3": {
         "anchor": "x3",
         "domain": [
          0.6122448979591837,
          0.6938775510204082
         ],
         "title": {
          "text": "dataflow in MB/s"
         }
        },
        "yaxis4": {
         "anchor": "x4",
         "domain": [
          0.4591836734693877,
          0.5408163265306122
         ],
         "title": {
          "text": "BB usage in Bytes"
         }
        },
        "yaxis5": {
         "anchor": "x5",
         "domain": [
          0.30612244897959184,
          0.3877551020408163
         ],
         "title": {
          "text": "HDD usage in Bytes"
         }
        },
        "yaxis6": {
         "anchor": "x6",
         "domain": [
          0.15306122448979592,
          0.2346938775510204
         ],
         "title": {
          "text": "SSD usage in Bytes"
         }
        },
        "yaxis7": {
         "anchor": "x7",
         "domain": [
          0,
          0.08163265306122448
         ],
         "title": {
          "text": "CPU usage"
         }
        }
       }
      }
     },
     "metadata": {},
     "output_type": "display_data"
    }
   ],
   "source": [
    "cbb = ClusterBlackBox()\n",
    "fig = cbb.display_placement(placement=df.loc[59][\"Param\"].tolist()) # solution found by bbopt\n",
    "fig.show()\n",
    "cbb = ClusterBlackBox()\n",
    "fig = cbb.display_placement(placement=df.loc[24][\"Param\"].tolist()) # solution found by bbopt\n",
    "fig.show()\n"
   ]
  },
  {
   "cell_type": "markdown",
   "metadata": {},
   "source": [
    "Get the best placement\n"
   ]
  },
  {
   "cell_type": "code",
   "execution_count": 26,
   "metadata": {},
   "outputs": [
    {
     "name": "stdout",
     "output_type": "stream",
     "text": [
      "Full BBO param array = [0. 1. 0. 0. 1. 1. 1. 0. 1. 1. 0. 1. 0. 1.]\n",
      "    | app#1 : tier placement: [0. 1.] | use_bb = [True, True]\n",
      "    | app#2 : tier placement: [0. 0. 1.] | use_bb = [False, True, False]\n",
      "    | app#3 : tier placement: [0. 1.] | use_bb = [True, False]\n",
      "    | runtime = 293.80952380952385 |  BB_size = 15.0 GB\n",
      "Full BBO param array = [1. 0. 1. 1. 0. 0. 0. 1. 0. 0. 1. 0. 1. 0.]\n",
      "    | app#1 : tier placement: [1. 0.] | use_bb = [False, False]\n",
      "    | app#2 : tier placement: [1. 1. 0.] | use_bb = [True, False, True]\n",
      "    | app#3 : tier placement: [1. 0.] | use_bb = [False, True]\n",
      "    | runtime = 206.62493924629848 |  BB_size = 20.0 GB\n",
      "Full BBO param array = [0. 0. 0. 1. 0. 0. 1. 1. 1. 1. 0. 1. 1. 1.]\n",
      "    | app#1 : tier placement: [0. 0.] | use_bb = [True, True]\n",
      "    | app#2 : tier placement: [0. 1. 0.] | use_bb = [False, True, True]\n",
      "    | app#3 : tier placement: [1. 0.] | use_bb = [True, True]\n",
      "    | runtime = 193.7832604288915 |  BB_size = 32.0 GB\n",
      "Full BBO param array = [1. 1. 0. 1. 1. 1. 1. 0. 0. 1. 0. 0. 0. 0.]\n",
      "    | app#1 : tier placement: [1. 1.] | use_bb = [False, True]\n",
      "    | app#2 : tier placement: [0. 1. 1.] | use_bb = [False, False, False]\n",
      "    | app#3 : tier placement: [1. 1.] | use_bb = [False, False]\n",
      "    | runtime = 393.5119047619048 |  BB_size = 5.0 GB\n",
      "Full BBO param array = [0. 0. 1. 1. 1. 0. 1. 0. 0. 1. 1. 0. 0. 1.]\n",
      "    | app#1 : tier placement: [0. 0.] | use_bb = [False, True]\n",
      "    | app#2 : tier placement: [1. 1. 1.] | use_bb = [True, False, False]\n",
      "    | app#3 : tier placement: [1. 1.] | use_bb = [False, False]\n",
      "    | runtime = 400.3479853479853 |  BB_size = 8.0 GB\n",
      "Full BBO param array = [0. 1. 0. 1. 1. 1. 0. 1. 0. 1. 1. 1. 0. 1.]\n",
      "    | app#1 : tier placement: [0. 1.] | use_bb = [False, True]\n",
      "    | app#2 : tier placement: [0. 1. 1.] | use_bb = [True, True, False]\n",
      "    | app#3 : tier placement: [1. 1.] | use_bb = [True, False]\n",
      "    | runtime = 346.07146932086255 |  BB_size = 17.0 GB\n",
      "Full BBO param array = [1. 0. 1. 1. 0. 0. 0. 1. 1. 0. 0. 0. 0. 0.]\n",
      "    | app#1 : tier placement: [1. 0.] | use_bb = [True, False]\n",
      "    | app#2 : tier placement: [1. 1. 0.] | use_bb = [False, False, False]\n",
      "    | app#3 : tier placement: [1. 0.] | use_bb = [False, False]\n",
      "    | runtime = 575.5677655677655 |  BB_size = 1.0 GB\n",
      "Full BBO param array = [0. 1. 0. 0. 1. 0. 0. 0. 1. 1. 0. 0. 0. 1.]\n",
      "    | app#1 : tier placement: [0. 1.] | use_bb = [True, True]\n",
      "    | app#2 : tier placement: [0. 0. 1.] | use_bb = [False, False, False]\n",
      "    | app#3 : tier placement: [0. 1.] | use_bb = [False, False]\n",
      "    | runtime = 337.5 |  BB_size = 6.0 GB\n",
      "Full BBO param array = [0. 0. 1. 0. 1. 0. 0. 0. 1. 0. 0. 1. 1. 1.]\n",
      "    | app#1 : tier placement: [0. 0.] | use_bb = [True, False]\n",
      "    | app#2 : tier placement: [1. 0. 1.] | use_bb = [False, True, True]\n",
      "    | app#3 : tier placement: [0. 1.] | use_bb = [True, True]\n",
      "    | runtime = 179.97901774600803 |  BB_size = 27.0 GB\n",
      "Full BBO param array = [0. 0. 1. 1. 1. 0. 0. 0. 1. 0. 1. 0. 1. 0.]\n",
      "    | app#1 : tier placement: [0. 0.] | use_bb = [True, False]\n",
      "    | app#2 : tier placement: [1. 1. 1.] | use_bb = [True, False, True]\n",
      "    | app#3 : tier placement: [1. 1.] | use_bb = [False, True]\n",
      "    | runtime = 206.62493924629848 |  BB_size = 21.0 GB\n",
      "Full BBO param array = [0. 0. 0. 0. 0. 1. 1. 1. 1. 0. 0. 0. 1. 1.]\n",
      "    | app#1 : tier placement: [0. 0.] | use_bb = [True, False]\n",
      "    | app#2 : tier placement: [0. 0. 0.] | use_bb = [False, False, True]\n",
      "    | app#3 : tier placement: [0. 0.] | use_bb = [False, True]\n",
      "    | runtime = 386.3349514563107 |  BB_size = 18.0 GB\n",
      "Full BBO param array = [0. 1. 0. 0. 1. 0. 0. 0. 1. 0. 1. 0. 1. 1.]\n",
      "    | app#1 : tier placement: [0. 1.] | use_bb = [True, False]\n",
      "    | app#2 : tier placement: [0. 0. 1.] | use_bb = [True, False, True]\n",
      "    | app#3 : tier placement: [0. 1.] | use_bb = [False, True]\n",
      "    | runtime = 223.8349514563107 |  BB_size = 21.0 GB\n",
      "Full BBO param array = [0. 0. 1. 0. 0. 0. 0. 1. 0. 0. 0. 0. 0. 0.]\n",
      "    | app#1 : tier placement: [0. 0.] | use_bb = [False, False]\n",
      "    | app#2 : tier placement: [1. 0. 0.] | use_bb = [False, False, False]\n",
      "    | app#3 : tier placement: [0. 0.] | use_bb = [False, False]\n",
      "    | runtime = 737.5 |  BB_size = 0B\n",
      "Full BBO param array = [1. 1. 0. 1. 0. 0. 0. 0. 0. 0. 1. 0. 0. 0.]\n",
      "    | app#1 : tier placement: [1. 1.] | use_bb = [False, False]\n",
      "    | app#2 : tier placement: [0. 1. 0.] | use_bb = [True, False, False]\n",
      "    | app#3 : tier placement: [1. 0.] | use_bb = [False, False]\n",
      "    | runtime = 648.0952380952381 |  BB_size = 3.0 GB\n",
      "Full BBO param array = [1. 0. 1. 1. 0. 0. 0. 1. 0. 0. 1. 0. 1. 0.]\n",
      "    | app#1 : tier placement: [1. 0.] | use_bb = [False, False]\n",
      "    | app#2 : tier placement: [1. 1. 0.] | use_bb = [True, False, True]\n",
      "    | app#3 : tier placement: [1. 0.] | use_bb = [False, True]\n",
      "    | runtime = 206.62493924629848 |  BB_size = 20.0 GB\n",
      "Full BBO param array = [1. 0. 0. 1. 1. 1. 0. 0. 0. 1. 0. 0. 0. 1.]\n",
      "    | app#1 : tier placement: [1. 0.] | use_bb = [False, True]\n",
      "    | app#2 : tier placement: [0. 1. 1.] | use_bb = [False, False, False]\n",
      "    | app#3 : tier placement: [1. 1.] | use_bb = [False, False]\n",
      "    | runtime = 393.5119047619048 |  BB_size = 5.0 GB\n",
      "Full BBO param array = [1. 0. 0. 1. 0. 0. 1. 1. 1. 1. 1. 0. 1. 1.]\n",
      "    | app#1 : tier placement: [1. 0.] | use_bb = [True, True]\n",
      "    | app#2 : tier placement: [0. 1. 0.] | use_bb = [True, False, True]\n",
      "    | app#3 : tier placement: [1. 0.] | use_bb = [False, True]\n",
      "    | runtime = 245.59929822065746 |  BB_size = 26.0 GB\n",
      "Full BBO param array = [0. 1. 0. 0. 0. 1. 1. 0. 1. 1. 0. 1. 0. 0.]\n",
      "    | app#1 : tier placement: [0. 1.] | use_bb = [True, True]\n",
      "    | app#2 : tier placement: [0. 0. 0.] | use_bb = [False, True, False]\n",
      "    | app#3 : tier placement: [0. 0.] | use_bb = [True, False]\n",
      "    | runtime = 475.9157509157509 |  BB_size = 15.0 GB\n",
      "Full BBO param array = [0. 1. 1. 0. 1. 1. 0. 1. 0. 1. 1. 1. 0. 0.]\n",
      "    | app#1 : tier placement: [0. 1.] | use_bb = [False, True]\n",
      "    | app#2 : tier placement: [1. 0. 1.] | use_bb = [True, True, False]\n",
      "    | app#3 : tier placement: [0. 1.] | use_bb = [True, False]\n",
      "    | runtime = 346.07146932086255 |  BB_size = 17.0 GB\n",
      "Full BBO param array = [0. 0. 1. 1. 1. 1. 1. 0. 1. 1. 1. 1. 1. 1.]\n",
      "    | app#1 : tier placement: [0. 0.] | use_bb = [True, True]\n",
      "    | app#2 : tier placement: [1. 1. 1.] | use_bb = [True, True, True]\n",
      "    | app#3 : tier placement: [1. 1.] | use_bb = [True, True]\n",
      "    | runtime = 193.6296187631139 |  BB_size = 35.0 GB\n",
      "Full BBO param array = [1. 1. 0. 1. 1. 1. 0. 1. 0. 1. 1. 0. 1. 1.]\n",
      "    | app#1 : tier placement: [1. 1.] | use_bb = [False, True]\n",
      "    | app#2 : tier placement: [0. 1. 1.] | use_bb = [True, False, True]\n",
      "    | app#3 : tier placement: [1. 1.] | use_bb = [False, True]\n",
      "    | runtime = 249.93995756131682 |  BB_size = 25.0 GB\n",
      "Full BBO param array = [1. 0. 0. 1. 0. 1. 0. 0. 0. 0. 1. 0. 1. 1.]\n",
      "    | app#1 : tier placement: [1. 0.] | use_bb = [False, False]\n",
      "    | app#2 : tier placement: [0. 1. 0.] | use_bb = [True, False, True]\n",
      "    | app#3 : tier placement: [1. 0.] | use_bb = [False, True]\n",
      "    | runtime = 206.62493924629848 |  BB_size = 20.0 GB\n",
      "Full BBO param array = [1. 0. 0. 0. 1. 0. 0. 1. 0. 1. 1. 1. 1. 0.]\n",
      "    | app#1 : tier placement: [1. 0.] | use_bb = [False, True]\n",
      "    | app#2 : tier placement: [0. 0. 1.] | use_bb = [True, True, True]\n",
      "    | app#3 : tier placement: [0. 1.] | use_bb = [True, True]\n",
      "    | runtime = 209.2020534751117 |  BB_size = 34.0 GB\n",
      "Full BBO param array = [0. 0. 1. 1. 1. 1. 0. 1. 1. 0. 0. 0. 0. 1.]\n",
      "    | app#1 : tier placement: [0. 0.] | use_bb = [True, False]\n",
      "    | app#2 : tier placement: [1. 1. 1.] | use_bb = [False, False, False]\n",
      "    | app#3 : tier placement: [1. 1.] | use_bb = [False, False]\n",
      "    | runtime = 363.33333333333337 |  BB_size = 1.0 GB\n",
      "Full BBO param array = [1. 0. 1. 1. 0. 0. 1. 1. 0. 0. 0. 1. 0. 0.]\n",
      "    | app#1 : tier placement: [1. 0.] | use_bb = [False, False]\n",
      "    | app#2 : tier placement: [1. 1. 0.] | use_bb = [False, True, False]\n",
      "    | app#3 : tier placement: [1. 0.] | use_bb = [True, False]\n",
      "    | runtime = 657.9853479853481 |  BB_size = 9.0 GB\n",
      "Full BBO param array = [1. 0. 0. 1. 1. 0. 1. 0. 1. 0. 1. 0. 1. 1.]\n",
      "    | app#1 : tier placement: [1. 0.] | use_bb = [True, False]\n",
      "    | app#2 : tier placement: [0. 1. 1.] | use_bb = [True, False, True]\n",
      "    | app#3 : tier placement: [1. 1.] | use_bb = [False, True]\n",
      "    | runtime = 206.62493924629848 |  BB_size = 21.0 GB\n",
      "Full BBO param array = [1. 0. 0. 0. 1. 1. 0. 1. 0. 1. 1. 1. 1. 0.]\n",
      "    | app#1 : tier placement: [1. 0.] | use_bb = [False, True]\n",
      "    | app#2 : tier placement: [0. 0. 1.] | use_bb = [True, True, True]\n",
      "    | app#3 : tier placement: [0. 1.] | use_bb = [True, True]\n",
      "    | runtime = 209.2020534751117 |  BB_size = 34.0 GB\n",
      "Full BBO param array = [0. 1. 0. 0. 0. 0. 1. 0. 0. 0. 1. 1. 0. 0.]\n",
      "    | app#1 : tier placement: [0. 1.] | use_bb = [False, False]\n",
      "    | app#2 : tier placement: [0. 0. 0.] | use_bb = [True, True, False]\n",
      "    | app#3 : tier placement: [0. 0.] | use_bb = [True, False]\n",
      "    | runtime = 481.25915750915755 |  BB_size = 12.0 GB\n",
      "Full BBO param array = [0. 0. 0. 1. 1. 1. 1. 0. 0. 0. 0. 1. 1. 1.]\n",
      "    | app#1 : tier placement: [0. 0.] | use_bb = [False, False]\n",
      "    | app#2 : tier placement: [0. 1. 1.] | use_bb = [False, True, True]\n",
      "    | app#3 : tier placement: [1. 1.] | use_bb = [True, True]\n",
      "    | runtime = 182.37864077669903 |  BB_size = 26.0 GB\n",
      "Full BBO param array = [1. 1. 1. 1. 1. 1. 0. 0. 1. 1. 1. 0. 1. 0.]\n",
      "    | app#1 : tier placement: [1. 1.] | use_bb = [True, True]\n",
      "    | app#2 : tier placement: [1. 1. 1.] | use_bb = [True, False, True]\n",
      "    | app#3 : tier placement: [1. 1.] | use_bb = [False, True]\n",
      "    | runtime = 245.59929822065746 |  BB_size = 26.0 GB\n",
      "Full BBO param array = [0. 1. 1. 1. 1. 0. 0. 0. 1. 1. 1. 0. 1. 1.]\n",
      "    | app#1 : tier placement: [0. 1.] | use_bb = [True, True]\n",
      "    | app#2 : tier placement: [1. 1. 1.] | use_bb = [True, False, True]\n",
      "    | app#3 : tier placement: [1. 1.] | use_bb = [False, True]\n",
      "    | runtime = 245.59929822065746 |  BB_size = 26.0 GB\n",
      "Full BBO param array = [0. 1. 0. 0. 1. 0. 0. 0. 1. 1. 1. 0. 1. 1.]\n",
      "    | app#1 : tier placement: [0. 1.] | use_bb = [True, True]\n",
      "    | app#2 : tier placement: [0. 0. 1.] | use_bb = [True, False, True]\n",
      "    | app#3 : tier placement: [0. 1.] | use_bb = [False, True]\n",
      "    | runtime = 228.83495145631068 |  BB_size = 26.0 GB\n",
      "Full BBO param array = [1. 0. 0. 0. 1. 0. 0. 1. 1. 1. 1. 1. 1. 0.]\n",
      "    | app#1 : tier placement: [1. 0.] | use_bb = [True, True]\n",
      "    | app#2 : tier placement: [0. 0. 1.] | use_bb = [True, True, True]\n",
      "    | app#3 : tier placement: [0. 1.] | use_bb = [True, True]\n",
      "    | runtime = 193.6296187631139 |  BB_size = 35.0 GB\n",
      "Full BBO param array = [1. 0. 0. 0. 1. 0. 0. 0. 1. 0. 0. 0. 0. 1.]\n",
      "    | app#1 : tier placement: [1. 0.] | use_bb = [True, False]\n",
      "    | app#2 : tier placement: [0. 0. 1.] | use_bb = [False, False, False]\n",
      "    | app#3 : tier placement: [0. 1.] | use_bb = [False, False]\n",
      "    | runtime = 447.5 |  BB_size = 1.0 GB\n",
      "Full BBO param array = [1. 1. 1. 0. 0. 1. 0. 0. 1. 0. 0. 1. 1. 0.]\n",
      "    | app#1 : tier placement: [1. 1.] | use_bb = [True, False]\n",
      "    | app#2 : tier placement: [1. 0. 0.] | use_bb = [False, True, True]\n",
      "    | app#3 : tier placement: [0. 0.] | use_bb = [True, True]\n",
      "    | runtime = 181.304100430314 |  BB_size = 27.0 GB\n",
      "Full BBO param array = [0. 0. 1. 0. 0. 1. 1. 1. 1. 1. 0. 0. 0. 0.]\n",
      "    | app#1 : tier placement: [0. 0.] | use_bb = [True, True]\n",
      "    | app#2 : tier placement: [1. 0. 0.] | use_bb = [False, False, False]\n",
      "    | app#3 : tier placement: [0. 0.] | use_bb = [False, False]\n",
      "    | runtime = 600.0 |  BB_size = 6.0 GB\n",
      "Full BBO param array = [1. 0. 1. 1. 1. 0. 1. 1. 0. 0. 0. 0. 1. 1.]\n",
      "    | app#1 : tier placement: [1. 0.] | use_bb = [False, False]\n",
      "    | app#2 : tier placement: [1. 1. 1.] | use_bb = [False, False, True]\n",
      "    | app#3 : tier placement: [1. 1.] | use_bb = [False, True]\n",
      "    | runtime = 211.85082447218372 |  BB_size = 17.0 GB\n",
      "Full BBO param array = [1. 1. 0. 1. 0. 0. 0. 1. 1. 1. 1. 1. 0. 0.]\n",
      "    | app#1 : tier placement: [1. 1.] | use_bb = [True, True]\n",
      "    | app#2 : tier placement: [0. 1. 0.] | use_bb = [True, True, False]\n",
      "    | app#3 : tier placement: [1. 0.] | use_bb = [True, False]\n",
      "    | runtime = 483.02197802197804 |  BB_size = 18.0 GB\n",
      "Full BBO param array = [1. 1. 0. 0. 0. 1. 1. 0. 1. 0. 1. 0. 0. 1.]\n",
      "    | app#1 : tier placement: [1. 1.] | use_bb = [True, False]\n",
      "    | app#2 : tier placement: [0. 0. 0.] | use_bb = [True, False, False]\n",
      "    | app#3 : tier placement: [0. 0.] | use_bb = [False, False]\n",
      "    | runtime = 600.0 |  BB_size = 4.0 GB\n",
      "Full BBO param array = [1. 0. 1. 1. 1. 1. 1. 1. 0. 0. 1. 0. 0. 1.]\n",
      "    | app#1 : tier placement: [1. 0.] | use_bb = [False, False]\n",
      "    | app#2 : tier placement: [1. 1. 1.] | use_bb = [True, False, False]\n",
      "    | app#3 : tier placement: [1. 1.] | use_bb = [False, False]\n",
      "    | runtime = 268.0952380952381 |  BB_size = 3.0 GB\n",
      "Full BBO param array = [0. 0. 0. 1. 1. 1. 1. 0. 0. 1. 0. 0. 0. 0.]\n",
      "    | app#1 : tier placement: [0. 0.] | use_bb = [False, True]\n",
      "    | app#2 : tier placement: [0. 1. 1.] | use_bb = [False, False, False]\n",
      "    | app#3 : tier placement: [1. 1.] | use_bb = [False, False]\n",
      "    | runtime = 309.04761904761904 |  BB_size = 5.0 GB\n",
      "Full BBO param array = [1. 1. 0. 1. 0. 1. 1. 1. 1. 1. 0. 1. 1. 1.]\n",
      "    | app#1 : tier placement: [1. 1.] | use_bb = [True, True]\n",
      "    | app#2 : tier placement: [0. 1. 0.] | use_bb = [False, True, True]\n",
      "    | app#3 : tier placement: [1. 0.] | use_bb = [True, True]\n",
      "    | runtime = 193.7832604288915 |  BB_size = 32.0 GB\n",
      "Full BBO param array = [1. 0. 0. 0. 1. 0. 0. 0. 0. 0. 0. 0. 1. 0.]\n",
      "    | app#1 : tier placement: [1. 0.] | use_bb = [False, False]\n",
      "    | app#2 : tier placement: [0. 0. 1.] | use_bb = [False, False, True]\n",
      "    | app#3 : tier placement: [0. 1.] | use_bb = [False, True]\n",
      "    | runtime = 426.45399907535835 |  BB_size = 17.0 GB\n",
      "Full BBO param array = [1. 1. 0. 0. 0. 0. 0. 1. 0. 1. 1. 1. 1. 1.]\n",
      "    | app#1 : tier placement: [1. 1.] | use_bb = [False, True]\n",
      "    | app#2 : tier placement: [0. 0. 0.] | use_bb = [True, True, True]\n",
      "    | app#3 : tier placement: [0. 0.] | use_bb = [True, True]\n",
      "    | runtime = 209.2020534751117 |  BB_size = 34.0 GB\n",
      "Full BBO param array = [1. 0. 0. 1. 1. 0. 0. 1. 1. 0. 1. 1. 1. 1.]\n",
      "    | app#1 : tier placement: [1. 0.] | use_bb = [True, False]\n",
      "    | app#2 : tier placement: [0. 1. 1.] | use_bb = [True, True, True]\n",
      "    | app#3 : tier placement: [1. 1.] | use_bb = [True, True]\n",
      "    | runtime = 173.01419858458695 |  BB_size = 30.0 GB\n",
      "Full BBO param array = [1. 1. 0. 0. 1. 0. 1. 0. 0. 1. 0. 1. 1. 1.]\n",
      "    | app#1 : tier placement: [1. 1.] | use_bb = [False, True]\n",
      "    | app#2 : tier placement: [0. 0. 1.] | use_bb = [False, True, True]\n",
      "    | app#3 : tier placement: [0. 1.] | use_bb = [True, True]\n",
      "    | runtime = 193.7135922330097 |  BB_size = 31.0 GB\n",
      "Full BBO param array = [1. 1. 1. 1. 1. 0. 1. 0. 1. 0. 0. 1. 1. 0.]\n",
      "    | app#1 : tier placement: [1. 1.] | use_bb = [True, False]\n",
      "    | app#2 : tier placement: [1. 1. 1.] | use_bb = [False, True, True]\n",
      "    | app#3 : tier placement: [1. 1.] | use_bb = [True, True]\n",
      "    | runtime = 181.304100430314 |  BB_size = 27.0 GB\n",
      "Full BBO param array = [0. 0. 0. 0. 0. 1. 1. 0. 1. 1. 0. 0. 1. 1.]\n",
      "    | app#1 : tier placement: [0. 0.] | use_bb = [True, True]\n",
      "    | app#2 : tier placement: [0. 0. 0.] | use_bb = [False, False, True]\n",
      "    | app#3 : tier placement: [0. 0.] | use_bb = [False, True]\n",
      "    | runtime = 276.3349514563107 |  BB_size = 23.0 GB\n",
      "Full BBO param array = [0. 1. 1. 0. 1. 1. 1. 0. 1. 1. 1. 0. 1. 1.]\n",
      "    | app#1 : tier placement: [0. 1.] | use_bb = [True, True]\n",
      "    | app#2 : tier placement: [1. 0. 1.] | use_bb = [True, False, True]\n",
      "    | app#3 : tier placement: [0. 1.] | use_bb = [False, True]\n",
      "    | runtime = 228.83495145631068 |  BB_size = 26.0 GB\n",
      "Full BBO param array = [0. 1. 1. 1. 1. 1. 0. 0. 0. 0. 1. 1. 0. 1.]\n",
      "    | app#1 : tier placement: [0. 1.] | use_bb = [False, False]\n",
      "    | app#2 : tier placement: [1. 1. 1.] | use_bb = [True, True, False]\n",
      "    | app#3 : tier placement: [1. 1.] | use_bb = [True, False]\n",
      "    | runtime = 303.33333333333337 |  BB_size = 12.0 GB\n",
      "Full BBO param array = [0. 0. 0. 0. 1. 1. 0. 1. 0. 0. 1. 0. 0. 0.]\n",
      "    | app#1 : tier placement: [0. 0.] | use_bb = [False, False]\n",
      "    | app#2 : tier placement: [0. 0. 1.] | use_bb = [True, False, False]\n",
      "    | app#3 : tier placement: [0. 1.] | use_bb = [False, False]\n",
      "    | runtime = 425.8333333333333 |  BB_size = 3.0 GB\n",
      "Full BBO param array = [1. 0. 1. 0. 0. 1. 1. 1. 1. 0. 1. 1. 0. 0.]\n",
      "    | app#1 : tier placement: [1. 0.] | use_bb = [True, False]\n",
      "    | app#2 : tier placement: [1. 0. 0.] | use_bb = [True, True, False]\n",
      "    | app#3 : tier placement: [0. 0.] | use_bb = [True, False]\n",
      "    | runtime = 640.4029304029303 |  BB_size = 13.0 GB\n",
      "Full BBO param array = [1. 0. 1. 0. 1. 1. 0. 0. 1. 1. 1. 1. 0. 0.]\n",
      "    | app#1 : tier placement: [1. 0.] | use_bb = [True, True]\n",
      "    | app#2 : tier placement: [1. 0. 1.] | use_bb = [True, True, False]\n",
      "    | app#3 : tier placement: [0. 1.] | use_bb = [True, False]\n",
      "    | runtime = 369.74536790070766 |  BB_size = 18.0 GB\n",
      "Full BBO param array = [0. 1. 0. 1. 1. 1. 1. 1. 1. 1. 0. 0. 1. 1.]\n",
      "    | app#1 : tier placement: [0. 1.] | use_bb = [True, True]\n",
      "    | app#2 : tier placement: [0. 1. 1.] | use_bb = [False, False, True]\n",
      "    | app#3 : tier placement: [1. 1.] | use_bb = [False, True]\n",
      "    | runtime = 252.40535758739642 |  BB_size = 23.0 GB\n",
      "Full BBO param array = [1. 0. 0. 0. 1. 1. 0. 0. 1. 0. 0. 0. 1. 1.]\n",
      "    | app#1 : tier placement: [1. 0.] | use_bb = [True, False]\n",
      "    | app#2 : tier placement: [0. 0. 1.] | use_bb = [False, False, True]\n",
      "    | app#3 : tier placement: [0. 1.] | use_bb = [False, True]\n",
      "    | runtime = 386.3349514563107 |  BB_size = 18.0 GB\n",
      "Full BBO param array = [0. 1. 0. 1. 0. 0. 1. 1. 1. 0. 0. 1. 0. 0.]\n",
      "    | app#1 : tier placement: [0. 1.] | use_bb = [True, False]\n",
      "    | app#2 : tier placement: [0. 1. 0.] | use_bb = [False, True, False]\n",
      "    | app#3 : tier placement: [1. 0.] | use_bb = [True, False]\n",
      "    | runtime = 465.6593406593406 |  BB_size = 10.0 GB\n",
      "Full BBO param array = [1. 1. 0. 1. 1. 1. 0. 1. 1. 0. 1. 0. 0. 0.]\n",
      "    | app#1 : tier placement: [1. 1.] | use_bb = [True, False]\n",
      "    | app#2 : tier placement: [0. 1. 1.] | use_bb = [True, False, False]\n",
      "    | app#3 : tier placement: [1. 1.] | use_bb = [False, False]\n",
      "    | runtime = 308.0952380952381 |  BB_size = 4.0 GB\n",
      "Full BBO param array = [0. 0. 1. 0. 1. 1. 1. 1. 1. 1. 1. 0. 1. 0.]\n",
      "    | app#1 : tier placement: [0. 0.] | use_bb = [True, True]\n",
      "    | app#2 : tier placement: [1. 0. 1.] | use_bb = [True, False, True]\n",
      "    | app#3 : tier placement: [0. 1.] | use_bb = [False, True]\n",
      "    | runtime = 228.83495145631068 |  BB_size = 26.0 GB\n",
      "Full BBO param array = [1. 0. 1. 1. 1. 0. 1. 0. 1. 1. 1. 1. 1. 0.]\n",
      "    | app#1 : tier placement: [1. 0.] | use_bb = [True, True]\n",
      "    | app#2 : tier placement: [1. 1. 1.] | use_bb = [True, True, True]\n",
      "    | app#3 : tier placement: [1. 1.] | use_bb = [True, True]\n",
      "    | runtime = 193.6296187631139 |  BB_size = 35.0 GB\n",
      "Full BBO param array = [1. 1. 1. 0. 1. 1. 0. 1. 0. 0. 0. 1. 0. 0.]\n",
      "    | app#1 : tier placement: [1. 1.] | use_bb = [False, False]\n",
      "    | app#2 : tier placement: [1. 0. 1.] | use_bb = [False, True, False]\n",
      "    | app#3 : tier placement: [0. 1.] | use_bb = [True, False]\n",
      "    | runtime = 308.0952380952381 |  BB_size = 9.0 GB\n",
      "Full BBO param array = [1 0 0 1 1 0 0 1 1 0 1 1 1 1]\n",
      "    | app#1 : tier placement: [1 0] | use_bb = [True, False]\n",
      "    | app#2 : tier placement: [0 1 1] | use_bb = [True, True, True]\n",
      "    | app#3 : tier placement: [1 1] | use_bb = [True, True]\n",
      "    | runtime = 173.01419858458695 |  BB_size = 30.0 GB\n",
      "Full BBO param array = [1 0 0 1 1 0 0 1 1 0 1 1 1 1]\n",
      "    | app#1 : tier placement: [1 0] | use_bb = [True, False]\n",
      "    | app#2 : tier placement: [0 1 1] | use_bb = [True, True, True]\n",
      "    | app#3 : tier placement: [1 1] | use_bb = [True, True]\n",
      "    | runtime = 173.01419858458695 |  BB_size = 30.0 GB\n",
      "Full BBO param array = [1 0 0 1 1 0 0 1 1 0 1 1 1 1]\n",
      "    | app#1 : tier placement: [1 0] | use_bb = [True, False]\n",
      "    | app#2 : tier placement: [0 1 1] | use_bb = [True, True, True]\n",
      "    | app#3 : tier placement: [1 1] | use_bb = [True, True]\n",
      "    | runtime = 173.01419858458695 |  BB_size = 30.0 GB\n",
      "Full BBO param array = [1 0 0 1 1 0 0 1 1 0 1 1 1 1]\n",
      "    | app#1 : tier placement: [1 0] | use_bb = [True, False]\n",
      "    | app#2 : tier placement: [0 1 1] | use_bb = [True, True, True]\n",
      "    | app#3 : tier placement: [1 1] | use_bb = [True, True]\n",
      "    | runtime = 173.01419858458695 |  BB_size = 30.0 GB\n",
      "Full BBO param array = [1 0 0 1 1 0 0 1 1 0 1 1 1 1]\n",
      "    | app#1 : tier placement: [1 0] | use_bb = [True, False]\n",
      "    | app#2 : tier placement: [0 1 1] | use_bb = [True, True, True]\n",
      "    | app#3 : tier placement: [1 1] | use_bb = [True, True]\n",
      "    | runtime = 173.01419858458695 |  BB_size = 30.0 GB\n",
      "Full BBO param array = [1 0 0 1 1 0 0 1 1 0 1 1 1 1]\n",
      "    | app#1 : tier placement: [1 0] | use_bb = [True, False]\n",
      "    | app#2 : tier placement: [0 1 1] | use_bb = [True, True, True]\n",
      "    | app#3 : tier placement: [1 1] | use_bb = [True, True]\n",
      "    | runtime = 173.01419858458695 |  BB_size = 30.0 GB\n",
      "Full BBO param array = [1 0 0 1 1 0 0 1 1 0 1 1 1 1]\n",
      "    | app#1 : tier placement: [1 0] | use_bb = [True, False]\n",
      "    | app#2 : tier placement: [0 1 1] | use_bb = [True, True, True]\n",
      "    | app#3 : tier placement: [1 1] | use_bb = [True, True]\n",
      "    | runtime = 173.01419858458695 |  BB_size = 30.0 GB\n",
      "Full BBO param array = [1 0 0 1 1 0 0 1 1 0 1 1 1 1]\n",
      "    | app#1 : tier placement: [1 0] | use_bb = [True, False]\n",
      "    | app#2 : tier placement: [0 1 1] | use_bb = [True, True, True]\n",
      "    | app#3 : tier placement: [1 1] | use_bb = [True, True]\n",
      "    | runtime = 173.01419858458695 |  BB_size = 30.0 GB\n",
      "Full BBO param array = [1 0 0 1 1 0 0 1 1 0 1 1 1 1]\n",
      "    | app#1 : tier placement: [1 0] | use_bb = [True, False]\n",
      "    | app#2 : tier placement: [0 1 1] | use_bb = [True, True, True]\n",
      "    | app#3 : tier placement: [1 1] | use_bb = [True, True]\n",
      "    | runtime = 173.01419858458695 |  BB_size = 30.0 GB\n",
      "Full BBO param array = [1 0 0 1 1 0 0 1 1 0 1 1 1 1]\n",
      "    | app#1 : tier placement: [1 0] | use_bb = [True, False]\n",
      "    | app#2 : tier placement: [0 1 1] | use_bb = [True, True, True]\n",
      "    | app#3 : tier placement: [1 1] | use_bb = [True, True]\n",
      "    | runtime = 173.01419858458695 |  BB_size = 30.0 GB\n",
      "Full BBO param array = [1 0 0 1 1 0 0 1 1 0 1 1 1 1]\n",
      "    | app#1 : tier placement: [1 0] | use_bb = [True, False]\n",
      "    | app#2 : tier placement: [0 1 1] | use_bb = [True, True, True]\n",
      "    | app#3 : tier placement: [1 1] | use_bb = [True, True]\n",
      "    | runtime = 173.01419858458695 |  BB_size = 30.0 GB\n",
      "Full BBO param array = [1 0 0 1 1 0 0 1 1 0 1 1 1 1]\n",
      "    | app#1 : tier placement: [1 0] | use_bb = [True, False]\n",
      "    | app#2 : tier placement: [0 1 1] | use_bb = [True, True, True]\n",
      "    | app#3 : tier placement: [1 1] | use_bb = [True, True]\n",
      "    | runtime = 173.01419858458695 |  BB_size = 30.0 GB\n",
      "Full BBO param array = [1 0 0 1 1 0 0 1 1 0 1 1 1 1]\n",
      "    | app#1 : tier placement: [1 0] | use_bb = [True, False]\n",
      "    | app#2 : tier placement: [0 1 1] | use_bb = [True, True, True]\n",
      "    | app#3 : tier placement: [1 1] | use_bb = [True, True]\n",
      "    | runtime = 173.01419858458695 |  BB_size = 30.0 GB\n",
      "Full BBO param array = [1 0 0 1 1 0 0 1 1 0 1 1 1 1]\n",
      "    | app#1 : tier placement: [1 0] | use_bb = [True, False]\n",
      "    | app#2 : tier placement: [0 1 1] | use_bb = [True, True, True]\n",
      "    | app#3 : tier placement: [1 1] | use_bb = [True, True]\n",
      "    | runtime = 173.01419858458695 |  BB_size = 30.0 GB\n",
      "Full BBO param array = [1 0 0 1 1 0 0 1 1 0 1 1 1 1]\n",
      "    | app#1 : tier placement: [1 0] | use_bb = [True, False]\n",
      "    | app#2 : tier placement: [0 1 1] | use_bb = [True, True, True]\n",
      "    | app#3 : tier placement: [1 1] | use_bb = [True, True]\n",
      "    | runtime = 173.01419858458695 |  BB_size = 30.0 GB\n",
      "Full BBO param array = [1 0 0 1 1 0 0 1 1 0 1 1 1 1]\n",
      "    | app#1 : tier placement: [1 0] | use_bb = [True, False]\n",
      "    | app#2 : tier placement: [0 1 1] | use_bb = [True, True, True]\n",
      "    | app#3 : tier placement: [1 1] | use_bb = [True, True]\n",
      "    | runtime = 173.01419858458695 |  BB_size = 30.0 GB\n",
      "Full BBO param array = [1 0 0 1 1 0 0 1 1 0 1 1 1 1]\n",
      "    | app#1 : tier placement: [1 0] | use_bb = [True, False]\n",
      "    | app#2 : tier placement: [0 1 1] | use_bb = [True, True, True]\n",
      "    | app#3 : tier placement: [1 1] | use_bb = [True, True]\n",
      "    | runtime = 173.01419858458695 |  BB_size = 30.0 GB\n",
      "Full BBO param array = [1 0 0 1 1 0 0 1 1 0 1 1 1 1]\n",
      "    | app#1 : tier placement: [1 0] | use_bb = [True, False]\n",
      "    | app#2 : tier placement: [0 1 1] | use_bb = [True, True, True]\n",
      "    | app#3 : tier placement: [1 1] | use_bb = [True, True]\n",
      "    | runtime = 173.01419858458695 |  BB_size = 30.0 GB\n",
      "Full BBO param array = [1 0 0 1 1 0 0 1 1 0 1 1 1 1]\n",
      "    | app#1 : tier placement: [1 0] | use_bb = [True, False]\n",
      "    | app#2 : tier placement: [0 1 1] | use_bb = [True, True, True]\n",
      "    | app#3 : tier placement: [1 1] | use_bb = [True, True]\n",
      "    | runtime = 173.01419858458695 |  BB_size = 30.0 GB\n",
      "Full BBO param array = [1 0 0 1 1 0 0 1 1 0 1 1 1 1]\n",
      "    | app#1 : tier placement: [1 0] | use_bb = [True, False]\n",
      "    | app#2 : tier placement: [0 1 1] | use_bb = [True, True, True]\n",
      "    | app#3 : tier placement: [1 1] | use_bb = [True, True]\n",
      "    | runtime = 173.01419858458695 |  BB_size = 30.0 GB\n",
      "Full BBO param array = [1 0 0 1 1 0 0 1 1 0 1 1 1 1]\n",
      "    | app#1 : tier placement: [1 0] | use_bb = [True, False]\n",
      "    | app#2 : tier placement: [0 1 1] | use_bb = [True, True, True]\n",
      "    | app#3 : tier placement: [1 1] | use_bb = [True, True]\n",
      "    | runtime = 173.01419858458695 |  BB_size = 30.0 GB\n",
      "Full BBO param array = [1 0 0 1 1 0 0 1 1 0 1 1 1 1]\n",
      "    | app#1 : tier placement: [1 0] | use_bb = [True, False]\n",
      "    | app#2 : tier placement: [0 1 1] | use_bb = [True, True, True]\n",
      "    | app#3 : tier placement: [1 1] | use_bb = [True, True]\n",
      "    | runtime = 173.01419858458695 |  BB_size = 30.0 GB\n",
      "Full BBO param array = [1 0 0 1 1 0 0 1 1 0 1 1 1 1]\n",
      "    | app#1 : tier placement: [1 0] | use_bb = [True, False]\n",
      "    | app#2 : tier placement: [0 1 1] | use_bb = [True, True, True]\n",
      "    | app#3 : tier placement: [1 1] | use_bb = [True, True]\n",
      "    | runtime = 173.01419858458695 |  BB_size = 30.0 GB\n",
      "Full BBO param array = [1 0 0 1 1 0 0 1 1 0 1 1 1 1]\n",
      "    | app#1 : tier placement: [1 0] | use_bb = [True, False]\n",
      "    | app#2 : tier placement: [0 1 1] | use_bb = [True, True, True]\n",
      "    | app#3 : tier placement: [1 1] | use_bb = [True, True]\n",
      "    | runtime = 173.01419858458695 |  BB_size = 30.0 GB\n",
      "Full BBO param array = [1 0 0 1 1 0 0 1 1 0 1 1 1 1]\n",
      "    | app#1 : tier placement: [1 0] | use_bb = [True, False]\n",
      "    | app#2 : tier placement: [0 1 1] | use_bb = [True, True, True]\n",
      "    | app#3 : tier placement: [1 1] | use_bb = [True, True]\n",
      "    | runtime = 173.01419858458695 |  BB_size = 30.0 GB\n",
      "Full BBO param array = [1 0 0 1 1 0 0 1 1 0 1 1 1 1]\n",
      "    | app#1 : tier placement: [1 0] | use_bb = [True, False]\n",
      "    | app#2 : tier placement: [0 1 1] | use_bb = [True, True, True]\n",
      "    | app#3 : tier placement: [1 1] | use_bb = [True, True]\n",
      "    | runtime = 173.01419858458695 |  BB_size = 30.0 GB\n",
      "Full BBO param array = [1 0 0 1 1 0 0 1 1 0 1 1 1 1]\n",
      "    | app#1 : tier placement: [1 0] | use_bb = [True, False]\n",
      "    | app#2 : tier placement: [0 1 1] | use_bb = [True, True, True]\n",
      "    | app#3 : tier placement: [1 1] | use_bb = [True, True]\n",
      "    | runtime = 173.01419858458695 |  BB_size = 30.0 GB\n",
      "Full BBO param array = [1 0 0 1 1 0 0 1 1 0 1 1 1 1]\n",
      "    | app#1 : tier placement: [1 0] | use_bb = [True, False]\n",
      "    | app#2 : tier placement: [0 1 1] | use_bb = [True, True, True]\n",
      "    | app#3 : tier placement: [1 1] | use_bb = [True, True]\n",
      "    | runtime = 173.01419858458695 |  BB_size = 30.0 GB\n",
      "Full BBO param array = [1 0 0 1 1 0 0 1 1 0 1 1 1 1]\n",
      "    | app#1 : tier placement: [1 0] | use_bb = [True, False]\n",
      "    | app#2 : tier placement: [0 1 1] | use_bb = [True, True, True]\n",
      "    | app#3 : tier placement: [1 1] | use_bb = [True, True]\n",
      "    | runtime = 173.01419858458695 |  BB_size = 30.0 GB\n",
      "Full BBO param array = [1 0 0 1 1 0 0 1 1 0 1 1 1 1]\n",
      "    | app#1 : tier placement: [1 0] | use_bb = [True, False]\n",
      "    | app#2 : tier placement: [0 1 1] | use_bb = [True, True, True]\n",
      "    | app#3 : tier placement: [1 1] | use_bb = [True, True]\n",
      "    | runtime = 173.01419858458695 |  BB_size = 30.0 GB\n",
      "Full BBO param array = [1 0 0 1 1 0 0 1 1 0 1 1 1 1]\n",
      "    | app#1 : tier placement: [1 0] | use_bb = [True, False]\n",
      "    | app#2 : tier placement: [0 1 1] | use_bb = [True, True, True]\n",
      "    | app#3 : tier placement: [1 1] | use_bb = [True, True]\n",
      "    | runtime = 173.01419858458695 |  BB_size = 30.0 GB\n",
      "Full BBO param array = [1 0 0 1 1 0 0 1 1 0 1 1 1 1]\n",
      "    | app#1 : tier placement: [1 0] | use_bb = [True, False]\n",
      "    | app#2 : tier placement: [0 1 1] | use_bb = [True, True, True]\n",
      "    | app#3 : tier placement: [1 1] | use_bb = [True, True]\n",
      "    | runtime = 173.01419858458695 |  BB_size = 30.0 GB\n",
      "Full BBO param array = [1 0 0 1 1 0 0 1 1 0 1 1 1 1]\n",
      "    | app#1 : tier placement: [1 0] | use_bb = [True, False]\n",
      "    | app#2 : tier placement: [0 1 1] | use_bb = [True, True, True]\n",
      "    | app#3 : tier placement: [1 1] | use_bb = [True, True]\n",
      "    | runtime = 173.01419858458695 |  BB_size = 30.0 GB\n",
      "Full BBO param array = [1 0 0 1 1 0 0 1 1 0 1 1 1 1]\n",
      "    | app#1 : tier placement: [1 0] | use_bb = [True, False]\n",
      "    | app#2 : tier placement: [0 1 1] | use_bb = [True, True, True]\n",
      "    | app#3 : tier placement: [1 1] | use_bb = [True, True]\n",
      "    | runtime = 173.01419858458695 |  BB_size = 30.0 GB\n",
      "Full BBO param array = [1 0 0 1 1 0 0 1 1 0 1 1 1 1]\n",
      "    | app#1 : tier placement: [1 0] | use_bb = [True, False]\n",
      "    | app#2 : tier placement: [0 1 1] | use_bb = [True, True, True]\n",
      "    | app#3 : tier placement: [1 1] | use_bb = [True, True]\n",
      "    | runtime = 173.01419858458695 |  BB_size = 30.0 GB\n",
      "Full BBO param array = [1 0 0 1 1 0 0 1 1 0 1 1 1 1]\n",
      "    | app#1 : tier placement: [1 0] | use_bb = [True, False]\n",
      "    | app#2 : tier placement: [0 1 1] | use_bb = [True, True, True]\n",
      "    | app#3 : tier placement: [1 1] | use_bb = [True, True]\n",
      "    | runtime = 173.01419858458695 |  BB_size = 30.0 GB\n",
      "Full BBO param array = [1 0 0 1 1 0 0 1 1 0 1 1 1 1]\n",
      "    | app#1 : tier placement: [1 0] | use_bb = [True, False]\n",
      "    | app#2 : tier placement: [0 1 1] | use_bb = [True, True, True]\n",
      "    | app#3 : tier placement: [1 1] | use_bb = [True, True]\n",
      "    | runtime = 173.01419858458695 |  BB_size = 30.0 GB\n",
      "Full BBO param array = [1 0 0 1 1 0 0 1 1 0 1 1 1 1]\n",
      "    | app#1 : tier placement: [1 0] | use_bb = [True, False]\n",
      "    | app#2 : tier placement: [0 1 1] | use_bb = [True, True, True]\n",
      "    | app#3 : tier placement: [1 1] | use_bb = [True, True]\n",
      "    | runtime = 173.01419858458695 |  BB_size = 30.0 GB\n",
      "Full BBO param array = [1 0 0 1 1 0 0 1 1 0 1 1 1 1]\n",
      "    | app#1 : tier placement: [1 0] | use_bb = [True, False]\n",
      "    | app#2 : tier placement: [0 1 1] | use_bb = [True, True, True]\n",
      "    | app#3 : tier placement: [1 1] | use_bb = [True, True]\n",
      "    | runtime = 173.01419858458695 |  BB_size = 30.0 GB\n",
      "Full BBO param array = [1 0 0 1 1 0 0 1 1 0 1 1 1 1]\n",
      "    | app#1 : tier placement: [1 0] | use_bb = [True, False]\n",
      "    | app#2 : tier placement: [0 1 1] | use_bb = [True, True, True]\n",
      "    | app#3 : tier placement: [1 1] | use_bb = [True, True]\n",
      "    | runtime = 173.01419858458695 |  BB_size = 30.0 GB\n",
      "Full BBO param array = [1 0 0 1 1 0 0 1 1 0 1 1 1 1]\n",
      "    | app#1 : tier placement: [1 0] | use_bb = [True, False]\n",
      "    | app#2 : tier placement: [0 1 1] | use_bb = [True, True, True]\n",
      "    | app#3 : tier placement: [1 1] | use_bb = [True, True]\n",
      "    | runtime = 173.01419858458695 |  BB_size = 30.0 GB\n",
      "Full BBO param array = [1 0 0 1 1 0 0 1 1 0 1 1 1 1]\n",
      "    | app#1 : tier placement: [1 0] | use_bb = [True, False]\n",
      "    | app#2 : tier placement: [0 1 1] | use_bb = [True, True, True]\n",
      "    | app#3 : tier placement: [1 1] | use_bb = [True, True]\n",
      "    | runtime = 173.01419858458695 |  BB_size = 30.0 GB\n",
      "Full BBO param array = [1 0 0 1 1 0 0 1 1 0 1 1 1 1]\n",
      "    | app#1 : tier placement: [1 0] | use_bb = [True, False]\n",
      "    | app#2 : tier placement: [0 1 1] | use_bb = [True, True, True]\n",
      "    | app#3 : tier placement: [1 1] | use_bb = [True, True]\n",
      "    | runtime = 173.01419858458695 |  BB_size = 30.0 GB\n",
      "Full BBO param array = [1 0 0 1 1 0 0 1 1 0 1 1 1 1]\n",
      "    | app#1 : tier placement: [1 0] | use_bb = [True, False]\n",
      "    | app#2 : tier placement: [0 1 1] | use_bb = [True, True, True]\n",
      "    | app#3 : tier placement: [1 1] | use_bb = [True, True]\n",
      "    | runtime = 173.01419858458695 |  BB_size = 30.0 GB\n",
      "Full BBO param array = [1 0 0 1 1 0 0 1 1 0 1 1 1 1]\n",
      "    | app#1 : tier placement: [1 0] | use_bb = [True, False]\n",
      "    | app#2 : tier placement: [0 1 1] | use_bb = [True, True, True]\n",
      "    | app#3 : tier placement: [1 1] | use_bb = [True, True]\n",
      "    | runtime = 173.01419858458695 |  BB_size = 30.0 GB\n",
      "Full BBO param array = [1 0 0 1 1 0 0 1 1 0 1 1 1 1]\n",
      "    | app#1 : tier placement: [1 0] | use_bb = [True, False]\n",
      "    | app#2 : tier placement: [0 1 1] | use_bb = [True, True, True]\n",
      "    | app#3 : tier placement: [1 1] | use_bb = [True, True]\n",
      "    | runtime = 173.01419858458695 |  BB_size = 30.0 GB\n",
      "Full BBO param array = [1 0 0 1 1 0 0 1 1 0 1 1 1 1]\n",
      "    | app#1 : tier placement: [1 0] | use_bb = [True, False]\n",
      "    | app#2 : tier placement: [0 1 1] | use_bb = [True, True, True]\n",
      "    | app#3 : tier placement: [1 1] | use_bb = [True, True]\n",
      "    | runtime = 173.01419858458695 |  BB_size = 30.0 GB\n",
      "Full BBO param array = [1 0 0 1 1 0 0 1 1 0 1 1 1 1]\n",
      "    | app#1 : tier placement: [1 0] | use_bb = [True, False]\n",
      "    | app#2 : tier placement: [0 1 1] | use_bb = [True, True, True]\n",
      "    | app#3 : tier placement: [1 1] | use_bb = [True, True]\n",
      "    | runtime = 173.01419858458695 |  BB_size = 30.0 GB\n",
      "Full BBO param array = [1 0 0 1 1 0 0 1 1 0 1 1 1 1]\n",
      "    | app#1 : tier placement: [1 0] | use_bb = [True, False]\n",
      "    | app#2 : tier placement: [0 1 1] | use_bb = [True, True, True]\n",
      "    | app#3 : tier placement: [1 1] | use_bb = [True, True]\n",
      "    | runtime = 173.01419858458695 |  BB_size = 30.0 GB\n",
      "Full BBO param array = [1 0 0 1 1 0 0 1 1 0 1 1 1 1]\n",
      "    | app#1 : tier placement: [1 0] | use_bb = [True, False]\n",
      "    | app#2 : tier placement: [0 1 1] | use_bb = [True, True, True]\n",
      "    | app#3 : tier placement: [1 1] | use_bb = [True, True]\n",
      "    | runtime = 173.01419858458695 |  BB_size = 30.0 GB\n"
     ]
    },
    {
     "data": {
      "text/plain": [
       "array([1., 0., 0., 1., 1., 0., 0., 1., 1., 0., 1., 1., 1., 1.])"
      ]
     },
     "execution_count": 26,
     "metadata": {},
     "output_type": "execute_result"
    }
   ],
   "source": [
    "# imports for surrogate models\n",
    "from sklearn.gaussian_process import GaussianProcessRegressor\n",
    "from bbo.optimizer import BBOptimizer\n",
    "# from bbo.optimizer import timeit\n",
    "from bbo.heuristics.surrogate_models.next_parameter_strategies import expected_improvement\n",
    "\n",
    "# imports for genetic algorithms\n",
    "from bbo.heuristics.genetic_algorithm.selections import tournament_pick\n",
    "from bbo.heuristics.genetic_algorithm.crossover import double_point_crossover\n",
    "from bbo.heuristics.genetic_algorithm.mutations import mutate_chromosome_to_neighbor\n",
    "from loguru import logger\n",
    "\n",
    "logger.remove()\n",
    "cbb = ClusterBlackBox()\n",
    "PARAMETER_SPACE = cbb.parameter_space\n",
    "# combinations are self.n_tiers ** sum(self.ios) + 2**sum(self.ios)\n",
    "NBR_ITERATION = 50  # cbb.n_tiers ** sum(cbb.ios)\n",
    "\n",
    "np.random.seed(5)\n",
    "bbopt = BBOptimizer(black_box=cbb,\n",
    "                    heuristic=\"surrogate_model\",\n",
    "                    max_iteration=NBR_ITERATION,\n",
    "                    initial_sample_size=60,\n",
    "                    parameter_space=PARAMETER_SPACE,\n",
    "                    next_parameter_strategy=expected_improvement,\n",
    "                    regression_model=GaussianProcessRegressor)\n",
    "start_time = time.time()\n",
    "bbopt.optimize()"
   ]
  },
  {
   "cell_type": "code",
   "execution_count": 27,
   "metadata": {},
   "outputs": [
    {
     "name": "stdout",
     "output_type": "stream",
     "text": [
      "Displaying result for placement parameter = [1. 0. 0. 1. 1. 0. 0. 1. 1. 0. 1. 1. 1. 1.]\n",
      "    | app#1 : tier placement: [1. 0.] | use_bb = [True, False]\n",
      "    | app#2 : tier placement: [0. 1. 1.] | use_bb = [True, True, True]\n",
      "    | app#3 : tier placement: [1. 1.] | use_bb = [True, True]\n",
      "    | runtime = 173.01419858458695 |  BB_size = 30.0 GB\n"
     ]
    },
    {
     "data": {
      "application/vnd.plotly.v1+json": {
       "config": {
        "plotlyServerURL": "https://plot.ly"
       },
       "data": [
        {
         "line": {
          "shape": "linear"
         },
         "name": "app#K4",
         "text": [
          "READ|to/from:BB|volume=1.86 GB",
          "READ|to/from:BB|volume=1.86 GB",
          "READ|to/from:BB|volume=1.14 GB",
          "READ|to/from:BB|volume=1.14 GB",
          "COMPUTE|volume=0B",
          "COMPUTE|volume=0B",
          "WRITE|to/from:BB|volume=2.68 GB",
          "WRITE|to/from:BB|volume=2.68 GB",
          "WRITE|to/from:BB|volume=2.32 GB",
          "WRITE|to/from:BB|volume=2.32 GB",
          "WRITE|to/from:BB|volume=1.43 ZB",
          "WRITE|to/from:BB|volume=1.43 ZB",
          "COMPUTE|volume=0B",
          "COMPUTE|volume=0B",
          "WRITE|to/from:BB|volume=1.91 GB",
          "WRITE|to/from:BB|volume=1.91 GB",
          "WRITE|to/from:BB|volume=3.66 GB",
          "WRITE|to/from:BB|volume=3.66 GB",
          "WRITE|to/from:BB|volume=4.31 GB",
          "WRITE|to/from:BB|volume=4.31 GB",
          "WRITE|to/from:BB|volume=118.75 MB",
          "WRITE|to/from:BB|volume=118.75 MB"
         ],
         "textposition": "top center",
         "type": "scatter",
         "x": [
          33.333333333333336,
          38.095238095238095,
          38.095238095238095,
          41.02564102564103,
          41.02564102564103,
          61.02564102564103,
          61.02564102564103,
          81.87311070806217,
          81.87311070806217,
          99.8605924819517,
          99.8605924819517,
          99.86059248195171,
          99.86059248195171,
          109.86059248195171,
          109.86059248195171,
          124.6886446886447,
          124.6886446886447,
          153.13186813186815,
          153.13186813186815,
          186.6081652974857,
          186.6081652974857,
          187.29991287030123
         ],
         "xaxis": "x",
         "y": [
          390,
          390,
          390,
          390,
          0,
          0,
          128.75,
          128.75,
          128.75,
          128.75,
          128.75,
          128.75,
          0,
          0,
          128.75,
          128.75,
          128.75,
          128.75,
          128.75,
          128.75,
          171.66666666666666,
          171.66666666666666
         ],
         "yaxis": "y"
        },
        {
         "line": {
          "dash": "dot",
          "shape": "linear"
         },
         "name": "K4 mvt",
         "text": [
          "MOVEMENT|in:BB|from:SSD|volume=1.0 GB",
          "MOVEMENT|in:BB|volume=1.0 GB",
          "MOVEMENT|in:BB|from:SSD|volume=403.85 MB",
          "MOVEMENT|in:BB|volume=403.85 MB",
          "MOVEMENT|in:BB|from:SSD|volume=1.05 GB",
          "MOVEMENT|in:BB|volume=1.05 GB",
          "MOVEMENT|in:BB|from:SSD|volume=546.15 MB",
          "MOVEMENT|in:BB|volume=546.15 MB",
          "MOVEMENT|in:SSD|from:BB|volume=1.04 GB",
          "MOVEMENT|in:SSD|volume=1.04 GB",
          "MOVEMENT|in:SSD|from:BB|volume=899.37 MB",
          "MOVEMENT|in:SSD|volume=899.37 MB",
          "MOVEMENT|in:SSD|from:BB|volume=710.54 EB",
          "MOVEMENT|in:SSD|volume=710.54 EB",
          "MOVEMENT|in:SSD|from:BB|volume=107.25 MB",
          "MOVEMENT|in:SSD|volume=107.25 MB",
          "MOVEMENT|in:SSD|from:BB|volume=392.75 MB",
          "MOVEMENT|in:SSD|volume=392.75 MB",
          "MOVEMENT|in:SSD|from:BB|volume=494.27 MB",
          "MOVEMENT|in:SSD|volume=494.27 MB",
          "MOVEMENT|in:SSD|from:BB|volume=494.27 MB",
          "MOVEMENT|in:SSD|volume=494.27 MB",
          "MOVEMENT|in:SSD|from:BB|volume=948.11 MB",
          "MOVEMENT|in:SSD|volume=948.11 MB",
          "MOVEMENT|in:SSD|from:BB|volume=948.11 MB",
          "MOVEMENT|in:SSD|volume=948.11 MB",
          "MOVEMENT|in:SSD|from:BB|volume=1.12 GB",
          "MOVEMENT|in:SSD|volume=1.12 GB",
          "MOVEMENT|in:SSD|from:BB|volume=1.12 GB",
          "MOVEMENT|in:SSD|volume=1.12 GB",
          "MOVEMENT|in:SSD|from:BB|volume=34.59 MB",
          "MOVEMENT|in:SSD|volume=34.59 MB",
          "MOVEMENT|in:SSD|from:BB|volume=1.33 GB",
          "MOVEMENT|in:SSD|volume=1.33 GB",
          "MOVEMENT|in:SSD|from:BB|volume=1.37 GB",
          "MOVEMENT|in:SSD|volume=1.37 GB",
          "MOVEMENT|in:SSD|from:BB|volume=4.71 GB",
          "MOVEMENT|in:SSD|volume=4.71 GB"
         ],
         "textposition": "top center",
         "type": "scatter",
         "x": [
          0,
          14.285714285714286,
          14.285714285714286,
          18.13186813186813,
          18.13186813186813,
          28.13186813186813,
          28.13186813186813,
          33.333333333333336,
          61.02564102564103,
          81.87311070806217,
          81.87311070806217,
          99.8605924819517,
          99.8605924819517,
          99.86059248195171,
          99.86059248195171,
          102.00558341335041,
          102.00558341335041,
          109.86059248195171,
          109.86059248195171,
          124.6886446886447,
          109.86059248195171,
          124.6886446886447,
          124.6886446886447,
          153.13186813186815,
          124.6886446886447,
          153.13186813186815,
          153.13186813186815,
          186.6081652974857,
          153.13186813186815,
          186.6081652974857,
          186.6081652974857,
          187.29991287030123,
          187.29991287030123,
          213.934172623493,
          213.934172623493,
          227.59717628649668,
          227.59717628649668,
          274.6886446886447
         ],
         "xaxis": "x",
         "y": [
          70,
          70,
          105,
          105,
          105,
          105,
          105,
          105,
          50,
          50,
          50,
          50,
          50,
          50,
          50,
          50,
          50,
          50,
          33.33333333333333,
          33.33333333333333,
          33.33333333333333,
          33.33333333333333,
          33.33333333333333,
          33.33333333333333,
          33.33333333333333,
          33.33333333333333,
          33.33333333333333,
          33.33333333333333,
          33.33333333333333,
          33.33333333333333,
          50,
          50,
          50,
          50,
          100,
          100,
          100,
          100
         ],
         "yaxis": "y"
        },
        {
         "line": {
          "shape": "linear"
         },
         "name": "app#N3",
         "text": [
          "READ|to/from:BB|volume=1.14 GB",
          "READ|to/from:BB|volume=1.14 GB",
          "READ|to/from:BB|volume=2.86 GB",
          "READ|to/from:BB|volume=2.86 GB",
          "COMPUTE|volume=0B",
          "COMPUTE|volume=0B",
          "WRITE|to/from:BB|volume=1.63 GB",
          "WRITE|to/from:BB|volume=1.63 GB",
          "WRITE|to/from:BB|volume=2.68 GB",
          "WRITE|to/from:BB|volume=2.68 GB",
          "WRITE|to/from:BB|volume=2.32 GB",
          "WRITE|to/from:BB|volume=2.32 GB",
          "WRITE|to/from:BB|volume=1.83 ZB",
          "WRITE|to/from:BB|volume=1.83 ZB",
          "WRITE|to/from:BB|volume=368.22 MB",
          "WRITE|to/from:BB|volume=368.22 MB",
          "WRITE|to/from:BB|volume=59.6 EB",
          "WRITE|to/from:BB|volume=59.6 EB"
         ],
         "textposition": "top center",
         "type": "scatter",
         "x": [
          38.095238095238095,
          41.02564102564103,
          41.02564102564103,
          44.68864468864469,
          44.68864468864469,
          54.68864468864469,
          54.68864468864469,
          61.02564102564103,
          61.02564102564103,
          81.87311070806217,
          81.87311070806217,
          99.8605924819517,
          99.8605924819517,
          99.86059248195171,
          99.86059248195171,
          102.00558341335041,
          102.00558341335041,
          102.00558341335041
         ],
         "xaxis": "x2",
         "y": [
          390,
          390,
          780,
          780,
          0,
          0,
          257.5,
          257.5,
          128.75,
          128.75,
          128.75,
          128.75,
          128.75,
          128.75,
          171.66666666666666,
          171.66666666666666,
          171.66666666666666,
          171.66666666666666
         ],
         "yaxis": "y2"
        },
        {
         "line": {
          "dash": "dot",
          "shape": "linear"
         },
         "name": "N3 mvt",
         "text": [
          "MOVEMENT|in:BB|from:SSD|volume=1.0 GB",
          "MOVEMENT|in:BB|volume=1.0 GB",
          "MOVEMENT|in:BB|from:SSD|volume=403.85 MB",
          "MOVEMENT|in:BB|volume=403.85 MB",
          "MOVEMENT|in:BB|from:SSD|volume=1.05 GB",
          "MOVEMENT|in:BB|volume=1.05 GB",
          "MOVEMENT|in:BB|from:SSD|volume=546.15 MB",
          "MOVEMENT|in:BB|volume=546.15 MB",
          "MOVEMENT|in:BB|from:SSD|volume=1.0 GB",
          "MOVEMENT|in:BB|volume=1.0 GB",
          "MOVEMENT|in:SSD|from:BB|volume=633.7 MB",
          "MOVEMENT|in:SSD|volume=633.7 MB",
          "MOVEMENT|in:SSD|from:BB|volume=1.04 GB",
          "MOVEMENT|in:SSD|volume=1.04 GB",
          "MOVEMENT|in:SSD|from:BB|volume=899.37 MB",
          "MOVEMENT|in:SSD|volume=899.37 MB",
          "MOVEMENT|in:SSD|from:BB|volume=710.54 EB",
          "MOVEMENT|in:SSD|volume=710.54 EB",
          "MOVEMENT|in:SSD|from:BB|volume=107.25 MB",
          "MOVEMENT|in:SSD|volume=107.25 MB",
          "MOVEMENT|in:SSD|from:BB|volume=392.75 MB",
          "MOVEMENT|in:SSD|volume=392.75 MB",
          "MOVEMENT|in:SSD|from:BB|volume=494.27 MB",
          "MOVEMENT|in:SSD|volume=494.27 MB",
          "MOVEMENT|in:SSD|from:BB|volume=948.11 MB",
          "MOVEMENT|in:SSD|volume=948.11 MB",
          "MOVEMENT|in:SSD|from:BB|volume=1.12 GB",
          "MOVEMENT|in:SSD|volume=1.12 GB",
          "MOVEMENT|in:SSD|from:BB|volume=34.59 MB",
          "MOVEMENT|in:SSD|volume=34.59 MB",
          "MOVEMENT|in:SSD|from:BB|volume=1.33 GB",
          "MOVEMENT|in:SSD|volume=1.33 GB"
         ],
         "textposition": "top center",
         "type": "scatter",
         "x": [
          0,
          14.285714285714286,
          14.285714285714286,
          18.13186813186813,
          18.13186813186813,
          28.13186813186813,
          28.13186813186813,
          33.333333333333336,
          33.333333333333336,
          38.095238095238095,
          54.68864468864469,
          61.02564102564103,
          61.02564102564103,
          81.87311070806217,
          81.87311070806217,
          99.8605924819517,
          99.8605924819517,
          99.86059248195171,
          99.86059248195171,
          102.00558341335041,
          102.00558341335041,
          109.86059248195171,
          109.86059248195171,
          124.6886446886447,
          124.6886446886447,
          153.13186813186815,
          153.13186813186815,
          186.6081652974857,
          186.6081652974857,
          187.29991287030123,
          187.29991287030123,
          213.934172623493
         ],
         "xaxis": "x2",
         "y": [
          70,
          70,
          105,
          105,
          105,
          105,
          105,
          105,
          210,
          210,
          100,
          100,
          50,
          50,
          50,
          50,
          50,
          50,
          50,
          50,
          50,
          50,
          33.33333333333333,
          33.33333333333333,
          33.33333333333333,
          33.33333333333333,
          33.33333333333333,
          33.33333333333333,
          50,
          50,
          50,
          50
         ],
         "yaxis": "y2"
        },
        {
         "line": {
          "shape": "linear"
         },
         "name": "app#U5",
         "text": [
          "READ|to/from:BB|volume=1.0 GB",
          "READ|to/from:BB|volume=1.0 GB",
          "COMPUTE|volume=0B",
          "COMPUTE|volume=0B",
          "WRITE|to/from:HDD|volume=208.06 MB",
          "WRITE|to/from:HDD|volume=208.06 MB",
          "WRITE|to/from:HDD|volume=190.48 MB",
          "WRITE|to/from:HDD|volume=190.48 MB",
          "WRITE|to/from:HDD|volume=117.22 MB",
          "WRITE|to/from:HDD|volume=117.22 MB",
          "WRITE|to/from:HDD|volume=146.52 MB",
          "WRITE|to/from:HDD|volume=146.52 MB",
          "WRITE|to/from:HDD|volume=400.0 MB",
          "WRITE|to/from:HDD|volume=400.0 MB",
          "WRITE|to/from:HDD|volume=253.48 MB",
          "WRITE|to/from:HDD|volume=253.48 MB",
          "WRITE|to/from:HDD|volume=833.9 MB",
          "WRITE|to/from:HDD|volume=833.9 MB",
          "WRITE|to/from:HDD|volume=719.5 MB",
          "WRITE|to/from:HDD|volume=719.5 MB",
          "WRITE|to/from:HDD|volume=568.43 EB",
          "WRITE|to/from:HDD|volume=568.43 EB",
          "WRITE|to/from:HDD|volume=85.8 MB",
          "WRITE|to/from:HDD|volume=85.8 MB",
          "WRITE|to/from:HDD|volume=314.2 MB",
          "WRITE|to/from:HDD|volume=314.2 MB",
          "WRITE|to/from:HDD|volume=593.12 MB",
          "WRITE|to/from:HDD|volume=593.12 MB",
          "WRITE|to/from:HDD|volume=1.14 GB",
          "WRITE|to/from:HDD|volume=1.14 GB"
         ],
         "textposition": "top center",
         "type": "scatter",
         "x": [
          14.285714285714286,
          18.13186813186813,
          18.13186813186813,
          28.13186813186813,
          28.13186813186813,
          33.333333333333336,
          33.333333333333336,
          38.095238095238095,
          38.095238095238095,
          41.02564102564103,
          41.02564102564103,
          44.68864468864469,
          44.68864468864469,
          54.68864468864469,
          54.68864468864469,
          61.02564102564103,
          61.02564102564103,
          81.87311070806217,
          81.87311070806217,
          99.8605924819517,
          99.8605924819517,
          99.86059248195171,
          99.86059248195171,
          102.00558341335041,
          102.00558341335041,
          109.86059248195171,
          109.86059248195171,
          124.6886446886447,
          124.6886446886447,
          153.13186813186815
         ],
         "xaxis": "x3",
         "y": [
          260,
          260,
          0,
          0,
          40,
          40,
          40,
          40,
          40,
          40,
          40,
          40,
          40,
          40,
          40,
          40,
          40,
          40,
          40,
          40,
          40,
          40,
          40,
          40,
          40,
          40,
          40,
          40,
          40,
          40
         ],
         "yaxis": "y3"
        },
        {
         "line": {
          "dash": "dot",
          "shape": "linear"
         },
         "name": "U5 mvt",
         "text": [
          "MOVEMENT|in:BB|from:SSD|volume=1.0 GB",
          "MOVEMENT|in:BB|volume=1.0 GB"
         ],
         "textposition": "top center",
         "type": "scatter",
         "x": [
          0,
          14.285714285714286
         ],
         "xaxis": "x3",
         "y": [
          70,
          70
         ],
         "yaxis": "y3"
        },
        {
         "line": {
          "shape": "linear"
         },
         "name": "BB",
         "showlegend": false,
         "text": [
          "U5|Movement|BB | +volume=1.0 GB",
          "N3|Movement|BB | +volume=1.0 GB",
          "K4|Movement|BB | +volume=1.0 GB",
          "U5|Read|BB | +volume=1.0 GB",
          "K4|Movement|BB | +volume=403.85 MB",
          "N3|Movement|BB | +volume=403.85 MB",
          "U5|Compute | +volume=0B",
          "N3|Movement|BB | +volume=1.05 GB",
          "K4|Movement|BB | +volume=1.05 GB",
          "K4|Movement|BB | +volume=546.15 MB",
          "U5|Write|HDD | +volume=208.06 MB",
          "N3|Movement|BB | +volume=546.15 MB",
          "N3|Movement|BB | +volume=1.0 GB",
          "K4|Read|BB | +volume=1.86 GB",
          "U5|Write|HDD | +volume=190.48 MB",
          "K4|Read|BB | +volume=1.14 GB",
          "U5|Write|HDD | +volume=117.22 MB",
          "N3|Read|BB | +volume=1.14 GB",
          "N3|Read|BB | +volume=2.86 GB",
          "U5|Write|HDD | +volume=146.52 MB",
          "N3|Compute | +volume=0B",
          "U5|Write|HDD | +volume=400.0 MB",
          "K4|Compute | +volume=0B",
          "N3|Write|BB | +volume=1.63 GB",
          "U5|Write|HDD | +volume=253.48 MB",
          "N3|Movement|SSD | +volume=633.7 MB",
          "N3|Movement|SSD | +volume=1.04 GB",
          "K4|Write|BB | +volume=2.68 GB",
          "U5|Write|HDD | +volume=833.9 MB",
          "K4|Movement|SSD | +volume=1.04 GB",
          "N3|Write|BB | +volume=2.68 GB",
          "K4|Movement|SSD | +volume=899.37 MB",
          "N3|Movement|SSD | +volume=899.37 MB",
          "K4|Write|BB | +volume=2.32 GB",
          "U5|Write|HDD | +volume=719.5 MB",
          "N3|Write|BB | +volume=2.32 GB",
          "K4|Write|BB | +volume=1.43 ZB",
          "N3|Movement|SSD | +volume=710.54 EB",
          "K4|Movement|SSD | +volume=710.54 EB",
          "U5|Write|HDD | +volume=568.43 EB",
          "N3|Write|BB | +volume=1.83 ZB",
          "N3|Write|BB | +volume=368.22 MB",
          "U5|Write|HDD | +volume=85.8 MB",
          "N3|Movement|SSD | +volume=107.25 MB",
          "K4|Movement|SSD | +volume=107.25 MB",
          "N3|Write|BB | +volume=59.6 EB",
          "K4|Compute | +volume=0B",
          "U5|Write|HDD | +volume=314.2 MB",
          "N3|Movement|SSD | +volume=392.75 MB",
          "K4|Movement|SSD | +volume=392.75 MB",
          "K4|Movement|SSD | +volume=494.27 MB",
          "K4|Movement|SSD | +volume=494.27 MB",
          "U5|Write|HDD | +volume=593.12 MB",
          "K4|Write|BB | +volume=1.91 GB",
          "N3|Movement|SSD | +volume=494.27 MB",
          "U5|Write|HDD | +volume=1.14 GB",
          "N3|Movement|SSD | +volume=948.11 MB",
          "K4|Movement|SSD | +volume=948.11 MB",
          "K4|Write|BB | +volume=3.66 GB",
          "K4|Movement|SSD | +volume=948.11 MB",
          "K4|Movement|SSD | +volume=1.12 GB",
          "K4|Write|BB | +volume=4.31 GB",
          "N3|Movement|SSD | +volume=1.12 GB",
          "K4|Movement|SSD | +volume=1.12 GB",
          "K4|Write|BB | +volume=118.75 MB",
          "K4|Movement|SSD | +volume=34.59 MB",
          "N3|Movement|SSD | +volume=34.59 MB",
          "N3|Movement|SSD | +volume=1.33 GB",
          "K4|Movement|SSD | +volume=1.33 GB",
          "K4|Movement|SSD | +volume=1.37 GB",
          "K4|Movement|SSD | +volume=4.71 GB"
         ],
         "textposition": "top center",
         "type": "scatter",
         "x": [
          0,
          14.285714285714286,
          18.13186813186813,
          28.13186813186813,
          33.333333333333336,
          38.095238095238095,
          41.02564102564103,
          44.68864468864469,
          54.68864468864469,
          61.02564102564103,
          81.87311070806217,
          99.8605924819517,
          99.86059248195171,
          102.00558341335041,
          109.86059248195171,
          124.6886446886447,
          153.13186813186815,
          186.6081652974857,
          187.29991287030123,
          213.934172623493,
          227.59717628649668,
          274.6886446886447
         ],
         "xaxis": "x4",
         "y": [
          0,
          3000000000,
          3807692307.692307,
          5907692307.692308,
          7000000000,
          8000000000,
          8000000000,
          8000000000,
          8000000000,
          9631776556.776556,
          15000000000,
          19631776556.77655,
          19631776556.77655,
          19999999999.999992,
          19999999999.999992,
          21909111721.611713,
          25571176739.926735,
          29881249999.99999,
          29999999999.99999,
          29999999999.99999,
          29999999999.99999,
          29999999999.99999
         ],
         "yaxis": "y4"
        },
        {
         "line": {
          "shape": "linear"
         },
         "name": "HDD",
         "showlegend": false,
         "text": [
          "U5|Movement|BB | +volume=1.0 GB",
          "N3|Movement|BB | +volume=1.0 GB",
          "K4|Movement|BB | +volume=1.0 GB",
          "U5|Read|BB | +volume=1.0 GB",
          "K4|Movement|BB | +volume=403.85 MB",
          "N3|Movement|BB | +volume=403.85 MB",
          "U5|Compute | +volume=0B",
          "N3|Movement|BB | +volume=1.05 GB",
          "K4|Movement|BB | +volume=1.05 GB",
          "K4|Movement|BB | +volume=546.15 MB",
          "U5|Write|HDD | +volume=208.06 MB",
          "N3|Movement|BB | +volume=546.15 MB",
          "N3|Movement|BB | +volume=1.0 GB",
          "K4|Read|BB | +volume=1.86 GB",
          "U5|Write|HDD | +volume=190.48 MB",
          "K4|Read|BB | +volume=1.14 GB",
          "U5|Write|HDD | +volume=117.22 MB",
          "N3|Read|BB | +volume=1.14 GB",
          "N3|Read|BB | +volume=2.86 GB",
          "U5|Write|HDD | +volume=146.52 MB",
          "N3|Compute | +volume=0B",
          "U5|Write|HDD | +volume=400.0 MB",
          "K4|Compute | +volume=0B",
          "N3|Write|BB | +volume=1.63 GB",
          "U5|Write|HDD | +volume=253.48 MB",
          "N3|Movement|SSD | +volume=633.7 MB",
          "N3|Movement|SSD | +volume=1.04 GB",
          "K4|Write|BB | +volume=2.68 GB",
          "U5|Write|HDD | +volume=833.9 MB",
          "K4|Movement|SSD | +volume=1.04 GB",
          "N3|Write|BB | +volume=2.68 GB",
          "K4|Movement|SSD | +volume=899.37 MB",
          "N3|Movement|SSD | +volume=899.37 MB",
          "K4|Write|BB | +volume=2.32 GB",
          "U5|Write|HDD | +volume=719.5 MB",
          "N3|Write|BB | +volume=2.32 GB",
          "K4|Write|BB | +volume=1.43 ZB",
          "N3|Movement|SSD | +volume=710.54 EB",
          "K4|Movement|SSD | +volume=710.54 EB",
          "U5|Write|HDD | +volume=568.43 EB",
          "N3|Write|BB | +volume=1.83 ZB",
          "N3|Write|BB | +volume=368.22 MB",
          "U5|Write|HDD | +volume=85.8 MB",
          "N3|Movement|SSD | +volume=107.25 MB",
          "K4|Movement|SSD | +volume=107.25 MB",
          "N3|Write|BB | +volume=59.6 EB",
          "K4|Compute | +volume=0B",
          "U5|Write|HDD | +volume=314.2 MB",
          "N3|Movement|SSD | +volume=392.75 MB",
          "K4|Movement|SSD | +volume=392.75 MB",
          "K4|Movement|SSD | +volume=494.27 MB",
          "K4|Movement|SSD | +volume=494.27 MB",
          "U5|Write|HDD | +volume=593.12 MB",
          "K4|Write|BB | +volume=1.91 GB",
          "N3|Movement|SSD | +volume=494.27 MB",
          "U5|Write|HDD | +volume=1.14 GB",
          "N3|Movement|SSD | +volume=948.11 MB",
          "K4|Movement|SSD | +volume=948.11 MB",
          "K4|Write|BB | +volume=3.66 GB",
          "K4|Movement|SSD | +volume=948.11 MB",
          "K4|Movement|SSD | +volume=1.12 GB",
          "K4|Write|BB | +volume=4.31 GB",
          "N3|Movement|SSD | +volume=1.12 GB",
          "K4|Movement|SSD | +volume=1.12 GB",
          "K4|Write|BB | +volume=118.75 MB",
          "K4|Movement|SSD | +volume=34.59 MB",
          "N3|Movement|SSD | +volume=34.59 MB",
          "N3|Movement|SSD | +volume=1.33 GB",
          "K4|Movement|SSD | +volume=1.33 GB",
          "K4|Movement|SSD | +volume=1.37 GB",
          "K4|Movement|SSD | +volume=4.71 GB"
         ],
         "textposition": "top center",
         "type": "scatter",
         "x": [
          0,
          14.285714285714286,
          18.13186813186813,
          28.13186813186813,
          33.333333333333336,
          38.095238095238095,
          41.02564102564103,
          44.68864468864469,
          54.68864468864469,
          61.02564102564103,
          81.87311070806217,
          99.8605924819517,
          99.86059248195171,
          102.00558341335041,
          109.86059248195171,
          124.6886446886447,
          153.13186813186815,
          186.6081652974857,
          187.29991287030123,
          213.934172623493,
          227.59717628649668,
          274.6886446886447
         ],
         "xaxis": "x5",
         "y": [
          0,
          0,
          0,
          0,
          208058608.05860817,
          398534798.5347985,
          515750915.7509159,
          662271062.2710625,
          1062271062.2710625,
          1315750915.7509162,
          2149649703.047762,
          2869148974.003343,
          2869148974.0033436,
          2954948611.259291,
          3269148974.0033436,
          3862271062.2710633,
          5000000000.000001,
          5000000000.000001,
          5000000000.000001,
          5000000000.000001,
          5000000000.000001,
          5000000000.000001
         ],
         "yaxis": "y5"
        },
        {
         "line": {
          "shape": "linear"
         },
         "name": "SSD",
         "showlegend": false,
         "text": [
          "U5|Movement|BB | +volume=1.0 GB",
          "N3|Movement|BB | +volume=1.0 GB",
          "K4|Movement|BB | +volume=1.0 GB",
          "U5|Read|BB | +volume=1.0 GB",
          "K4|Movement|BB | +volume=403.85 MB",
          "N3|Movement|BB | +volume=403.85 MB",
          "U5|Compute | +volume=0B",
          "N3|Movement|BB | +volume=1.05 GB",
          "K4|Movement|BB | +volume=1.05 GB",
          "K4|Movement|BB | +volume=546.15 MB",
          "U5|Write|HDD | +volume=208.06 MB",
          "N3|Movement|BB | +volume=546.15 MB",
          "N3|Movement|BB | +volume=1.0 GB",
          "K4|Read|BB | +volume=1.86 GB",
          "U5|Write|HDD | +volume=190.48 MB",
          "K4|Read|BB | +volume=1.14 GB",
          "U5|Write|HDD | +volume=117.22 MB",
          "N3|Read|BB | +volume=1.14 GB",
          "N3|Read|BB | +volume=2.86 GB",
          "U5|Write|HDD | +volume=146.52 MB",
          "N3|Compute | +volume=0B",
          "U5|Write|HDD | +volume=400.0 MB",
          "K4|Compute | +volume=0B",
          "N3|Write|BB | +volume=1.63 GB",
          "U5|Write|HDD | +volume=253.48 MB",
          "N3|Movement|SSD | +volume=633.7 MB",
          "N3|Movement|SSD | +volume=1.04 GB",
          "K4|Write|BB | +volume=2.68 GB",
          "U5|Write|HDD | +volume=833.9 MB",
          "K4|Movement|SSD | +volume=1.04 GB",
          "N3|Write|BB | +volume=2.68 GB",
          "K4|Movement|SSD | +volume=899.37 MB",
          "N3|Movement|SSD | +volume=899.37 MB",
          "K4|Write|BB | +volume=2.32 GB",
          "U5|Write|HDD | +volume=719.5 MB",
          "N3|Write|BB | +volume=2.32 GB",
          "K4|Write|BB | +volume=1.43 ZB",
          "N3|Movement|SSD | +volume=710.54 EB",
          "K4|Movement|SSD | +volume=710.54 EB",
          "U5|Write|HDD | +volume=568.43 EB",
          "N3|Write|BB | +volume=1.83 ZB",
          "N3|Write|BB | +volume=368.22 MB",
          "U5|Write|HDD | +volume=85.8 MB",
          "N3|Movement|SSD | +volume=107.25 MB",
          "K4|Movement|SSD | +volume=107.25 MB",
          "N3|Write|BB | +volume=59.6 EB",
          "K4|Compute | +volume=0B",
          "U5|Write|HDD | +volume=314.2 MB",
          "N3|Movement|SSD | +volume=392.75 MB",
          "K4|Movement|SSD | +volume=392.75 MB",
          "K4|Movement|SSD | +volume=494.27 MB",
          "K4|Movement|SSD | +volume=494.27 MB",
          "U5|Write|HDD | +volume=593.12 MB",
          "K4|Write|BB | +volume=1.91 GB",
          "N3|Movement|SSD | +volume=494.27 MB",
          "U5|Write|HDD | +volume=1.14 GB",
          "N3|Movement|SSD | +volume=948.11 MB",
          "K4|Movement|SSD | +volume=948.11 MB",
          "K4|Write|BB | +volume=3.66 GB",
          "K4|Movement|SSD | +volume=948.11 MB",
          "K4|Movement|SSD | +volume=1.12 GB",
          "K4|Write|BB | +volume=4.31 GB",
          "N3|Movement|SSD | +volume=1.12 GB",
          "K4|Movement|SSD | +volume=1.12 GB",
          "K4|Write|BB | +volume=118.75 MB",
          "K4|Movement|SSD | +volume=34.59 MB",
          "N3|Movement|SSD | +volume=34.59 MB",
          "N3|Movement|SSD | +volume=1.33 GB",
          "K4|Movement|SSD | +volume=1.33 GB",
          "K4|Movement|SSD | +volume=1.37 GB",
          "K4|Movement|SSD | +volume=4.71 GB"
         ],
         "textposition": "top center",
         "type": "scatter",
         "x": [
          0,
          14.285714285714286,
          18.13186813186813,
          28.13186813186813,
          33.333333333333336,
          38.095238095238095,
          41.02564102564103,
          44.68864468864469,
          54.68864468864469,
          61.02564102564103,
          81.87311070806217,
          99.8605924819517,
          99.86059248195171,
          102.00558341335041,
          109.86059248195171,
          124.6886446886447,
          153.13186813186815,
          186.6081652974857,
          187.29991287030123,
          213.934172623493,
          227.59717628649668,
          274.6886446886447
         ],
         "xaxis": "x6",
         "y": [
          0,
          1000000000,
          1000000000,
          1049999999.9999999,
          1049999999.9999999,
          1049999999.9999999,
          1049999999.9999999,
          1049999999.9999999,
          1049999999.9999999,
          1683699633.6996336,
          3768446601.941748,
          5567194779.3307,
          5567194779.330702,
          5781693872.4705715,
          6567194779.330702,
          8050000000.000001,
          10894322344.32235,
          14241952060.884104,
          14311126818.165657,
          16974552793.48483,
          18340853159.785202,
          23050000000
         ],
         "yaxis": "y6"
        },
        {
         "line": {
          "shape": "hv"
         },
         "showlegend": false,
         "type": "scatter",
         "x": [
          0,
          14.285714285714286,
          18.13186813186813,
          28.13186813186813,
          33.333333333333336,
          38.095238095238095,
          41.02564102564103,
          44.68864468864469,
          54.68864468864469,
          61.02564102564103,
          81.87311070806217,
          99.8605924819517,
          99.86059248195171,
          102.00558341335041,
          109.86059248195171,
          124.6886446886447,
          153.13186813186815,
          186.6081652974857,
          187.29991287030123,
          213.934172623493,
          227.59717628649668,
          274.6886446886447
         ],
         "xaxis": "x7",
         "y": [
          3,
          3,
          3,
          3,
          3,
          3,
          3,
          3,
          4,
          5,
          5,
          5,
          5,
          4,
          5,
          5,
          4,
          3,
          2,
          1,
          1,
          0
         ],
         "yaxis": "y7"
        },
        {
         "line": {
          "color": "red",
          "dash": "dot",
          "shape": "hv",
          "width": 3
         },
         "showlegend": false,
         "text": [
          "Maximum available cores in cluster=10",
          "Maximum available cores in cluster=10"
         ],
         "type": "scatter",
         "x": [
          0,
          274.6886446886447
         ],
         "xaxis": "x7",
         "y": [
          10,
          10
         ],
         "yaxis": "y7"
        }
       ],
       "layout": {
        "annotations": [
         {
          "font": {
           "size": 16
          },
          "showarrow": false,
          "text": "K4",
          "x": 0.5,
          "xanchor": "center",
          "xref": "paper",
          "y": 0.9999999999999999,
          "yanchor": "bottom",
          "yref": "paper"
         },
         {
          "font": {
           "size": 16
          },
          "showarrow": false,
          "text": "N3",
          "x": 0.5,
          "xanchor": "center",
          "xref": "paper",
          "y": 0.8469387755102039,
          "yanchor": "bottom",
          "yref": "paper"
         },
         {
          "font": {
           "size": 16
          },
          "showarrow": false,
          "text": "U5",
          "x": 0.5,
          "xanchor": "center",
          "xref": "paper",
          "y": 0.6938775510204082,
          "yanchor": "bottom",
          "yref": "paper"
         },
         {
          "font": {
           "size": 16
          },
          "showarrow": false,
          "text": "BB (50.0 GB)",
          "x": 0.5,
          "xanchor": "center",
          "xref": "paper",
          "y": 0.5408163265306122,
          "yanchor": "bottom",
          "yref": "paper"
         },
         {
          "font": {
           "size": 16
          },
          "showarrow": false,
          "text": "HDD (1.0 TB)",
          "x": 0.5,
          "xanchor": "center",
          "xref": "paper",
          "y": 0.3877551020408163,
          "yanchor": "bottom",
          "yref": "paper"
         },
         {
          "font": {
           "size": 16
          },
          "showarrow": false,
          "text": "SSD (200.0 GB)",
          "x": 0.5,
          "xanchor": "center",
          "xref": "paper",
          "y": 0.2346938775510204,
          "yanchor": "bottom",
          "yref": "paper"
         },
         {
          "font": {
           "size": 16
          },
          "showarrow": false,
          "text": "CPU Cores",
          "x": 0.5,
          "xanchor": "center",
          "xref": "paper",
          "y": 0.08163265306122448,
          "yanchor": "bottom",
          "yref": "paper"
         }
        ],
        "height": 900,
        "template": {
         "data": {
          "bar": [
           {
            "error_x": {
             "color": "#2a3f5f"
            },
            "error_y": {
             "color": "#2a3f5f"
            },
            "marker": {
             "line": {
              "color": "#E5ECF6",
              "width": 0.5
             }
            },
            "type": "bar"
           }
          ],
          "barpolar": [
           {
            "marker": {
             "line": {
              "color": "#E5ECF6",
              "width": 0.5
             }
            },
            "type": "barpolar"
           }
          ],
          "carpet": [
           {
            "aaxis": {
             "endlinecolor": "#2a3f5f",
             "gridcolor": "white",
             "linecolor": "white",
             "minorgridcolor": "white",
             "startlinecolor": "#2a3f5f"
            },
            "baxis": {
             "endlinecolor": "#2a3f5f",
             "gridcolor": "white",
             "linecolor": "white",
             "minorgridcolor": "white",
             "startlinecolor": "#2a3f5f"
            },
            "type": "carpet"
           }
          ],
          "choropleth": [
           {
            "colorbar": {
             "outlinewidth": 0,
             "ticks": ""
            },
            "type": "choropleth"
           }
          ],
          "contour": [
           {
            "colorbar": {
             "outlinewidth": 0,
             "ticks": ""
            },
            "colorscale": [
             [
              0,
              "#0d0887"
             ],
             [
              0.1111111111111111,
              "#46039f"
             ],
             [
              0.2222222222222222,
              "#7201a8"
             ],
             [
              0.3333333333333333,
              "#9c179e"
             ],
             [
              0.4444444444444444,
              "#bd3786"
             ],
             [
              0.5555555555555556,
              "#d8576b"
             ],
             [
              0.6666666666666666,
              "#ed7953"
             ],
             [
              0.7777777777777778,
              "#fb9f3a"
             ],
             [
              0.8888888888888888,
              "#fdca26"
             ],
             [
              1,
              "#f0f921"
             ]
            ],
            "type": "contour"
           }
          ],
          "contourcarpet": [
           {
            "colorbar": {
             "outlinewidth": 0,
             "ticks": ""
            },
            "type": "contourcarpet"
           }
          ],
          "heatmap": [
           {
            "colorbar": {
             "outlinewidth": 0,
             "ticks": ""
            },
            "colorscale": [
             [
              0,
              "#0d0887"
             ],
             [
              0.1111111111111111,
              "#46039f"
             ],
             [
              0.2222222222222222,
              "#7201a8"
             ],
             [
              0.3333333333333333,
              "#9c179e"
             ],
             [
              0.4444444444444444,
              "#bd3786"
             ],
             [
              0.5555555555555556,
              "#d8576b"
             ],
             [
              0.6666666666666666,
              "#ed7953"
             ],
             [
              0.7777777777777778,
              "#fb9f3a"
             ],
             [
              0.8888888888888888,
              "#fdca26"
             ],
             [
              1,
              "#f0f921"
             ]
            ],
            "type": "heatmap"
           }
          ],
          "heatmapgl": [
           {
            "colorbar": {
             "outlinewidth": 0,
             "ticks": ""
            },
            "colorscale": [
             [
              0,
              "#0d0887"
             ],
             [
              0.1111111111111111,
              "#46039f"
             ],
             [
              0.2222222222222222,
              "#7201a8"
             ],
             [
              0.3333333333333333,
              "#9c179e"
             ],
             [
              0.4444444444444444,
              "#bd3786"
             ],
             [
              0.5555555555555556,
              "#d8576b"
             ],
             [
              0.6666666666666666,
              "#ed7953"
             ],
             [
              0.7777777777777778,
              "#fb9f3a"
             ],
             [
              0.8888888888888888,
              "#fdca26"
             ],
             [
              1,
              "#f0f921"
             ]
            ],
            "type": "heatmapgl"
           }
          ],
          "histogram": [
           {
            "marker": {
             "colorbar": {
              "outlinewidth": 0,
              "ticks": ""
             }
            },
            "type": "histogram"
           }
          ],
          "histogram2d": [
           {
            "colorbar": {
             "outlinewidth": 0,
             "ticks": ""
            },
            "colorscale": [
             [
              0,
              "#0d0887"
             ],
             [
              0.1111111111111111,
              "#46039f"
             ],
             [
              0.2222222222222222,
              "#7201a8"
             ],
             [
              0.3333333333333333,
              "#9c179e"
             ],
             [
              0.4444444444444444,
              "#bd3786"
             ],
             [
              0.5555555555555556,
              "#d8576b"
             ],
             [
              0.6666666666666666,
              "#ed7953"
             ],
             [
              0.7777777777777778,
              "#fb9f3a"
             ],
             [
              0.8888888888888888,
              "#fdca26"
             ],
             [
              1,
              "#f0f921"
             ]
            ],
            "type": "histogram2d"
           }
          ],
          "histogram2dcontour": [
           {
            "colorbar": {
             "outlinewidth": 0,
             "ticks": ""
            },
            "colorscale": [
             [
              0,
              "#0d0887"
             ],
             [
              0.1111111111111111,
              "#46039f"
             ],
             [
              0.2222222222222222,
              "#7201a8"
             ],
             [
              0.3333333333333333,
              "#9c179e"
             ],
             [
              0.4444444444444444,
              "#bd3786"
             ],
             [
              0.5555555555555556,
              "#d8576b"
             ],
             [
              0.6666666666666666,
              "#ed7953"
             ],
             [
              0.7777777777777778,
              "#fb9f3a"
             ],
             [
              0.8888888888888888,
              "#fdca26"
             ],
             [
              1,
              "#f0f921"
             ]
            ],
            "type": "histogram2dcontour"
           }
          ],
          "mesh3d": [
           {
            "colorbar": {
             "outlinewidth": 0,
             "ticks": ""
            },
            "type": "mesh3d"
           }
          ],
          "parcoords": [
           {
            "line": {
             "colorbar": {
              "outlinewidth": 0,
              "ticks": ""
             }
            },
            "type": "parcoords"
           }
          ],
          "pie": [
           {
            "automargin": true,
            "type": "pie"
           }
          ],
          "scatter": [
           {
            "marker": {
             "colorbar": {
              "outlinewidth": 0,
              "ticks": ""
             }
            },
            "type": "scatter"
           }
          ],
          "scatter3d": [
           {
            "line": {
             "colorbar": {
              "outlinewidth": 0,
              "ticks": ""
             }
            },
            "marker": {
             "colorbar": {
              "outlinewidth": 0,
              "ticks": ""
             }
            },
            "type": "scatter3d"
           }
          ],
          "scattercarpet": [
           {
            "marker": {
             "colorbar": {
              "outlinewidth": 0,
              "ticks": ""
             }
            },
            "type": "scattercarpet"
           }
          ],
          "scattergeo": [
           {
            "marker": {
             "colorbar": {
              "outlinewidth": 0,
              "ticks": ""
             }
            },
            "type": "scattergeo"
           }
          ],
          "scattergl": [
           {
            "marker": {
             "colorbar": {
              "outlinewidth": 0,
              "ticks": ""
             }
            },
            "type": "scattergl"
           }
          ],
          "scattermapbox": [
           {
            "marker": {
             "colorbar": {
              "outlinewidth": 0,
              "ticks": ""
             }
            },
            "type": "scattermapbox"
           }
          ],
          "scatterpolar": [
           {
            "marker": {
             "colorbar": {
              "outlinewidth": 0,
              "ticks": ""
             }
            },
            "type": "scatterpolar"
           }
          ],
          "scatterpolargl": [
           {
            "marker": {
             "colorbar": {
              "outlinewidth": 0,
              "ticks": ""
             }
            },
            "type": "scatterpolargl"
           }
          ],
          "scatterternary": [
           {
            "marker": {
             "colorbar": {
              "outlinewidth": 0,
              "ticks": ""
             }
            },
            "type": "scatterternary"
           }
          ],
          "surface": [
           {
            "colorbar": {
             "outlinewidth": 0,
             "ticks": ""
            },
            "colorscale": [
             [
              0,
              "#0d0887"
             ],
             [
              0.1111111111111111,
              "#46039f"
             ],
             [
              0.2222222222222222,
              "#7201a8"
             ],
             [
              0.3333333333333333,
              "#9c179e"
             ],
             [
              0.4444444444444444,
              "#bd3786"
             ],
             [
              0.5555555555555556,
              "#d8576b"
             ],
             [
              0.6666666666666666,
              "#ed7953"
             ],
             [
              0.7777777777777778,
              "#fb9f3a"
             ],
             [
              0.8888888888888888,
              "#fdca26"
             ],
             [
              1,
              "#f0f921"
             ]
            ],
            "type": "surface"
           }
          ],
          "table": [
           {
            "cells": {
             "fill": {
              "color": "#EBF0F8"
             },
             "line": {
              "color": "white"
             }
            },
            "header": {
             "fill": {
              "color": "#C8D4E3"
             },
             "line": {
              "color": "white"
             }
            },
            "type": "table"
           }
          ]
         },
         "layout": {
          "annotationdefaults": {
           "arrowcolor": "#2a3f5f",
           "arrowhead": 0,
           "arrowwidth": 1
          },
          "coloraxis": {
           "colorbar": {
            "outlinewidth": 0,
            "ticks": ""
           }
          },
          "colorscale": {
           "diverging": [
            [
             0,
             "#8e0152"
            ],
            [
             0.1,
             "#c51b7d"
            ],
            [
             0.2,
             "#de77ae"
            ],
            [
             0.3,
             "#f1b6da"
            ],
            [
             0.4,
             "#fde0ef"
            ],
            [
             0.5,
             "#f7f7f7"
            ],
            [
             0.6,
             "#e6f5d0"
            ],
            [
             0.7,
             "#b8e186"
            ],
            [
             0.8,
             "#7fbc41"
            ],
            [
             0.9,
             "#4d9221"
            ],
            [
             1,
             "#276419"
            ]
           ],
           "sequential": [
            [
             0,
             "#0d0887"
            ],
            [
             0.1111111111111111,
             "#46039f"
            ],
            [
             0.2222222222222222,
             "#7201a8"
            ],
            [
             0.3333333333333333,
             "#9c179e"
            ],
            [
             0.4444444444444444,
             "#bd3786"
            ],
            [
             0.5555555555555556,
             "#d8576b"
            ],
            [
             0.6666666666666666,
             "#ed7953"
            ],
            [
             0.7777777777777778,
             "#fb9f3a"
            ],
            [
             0.8888888888888888,
             "#fdca26"
            ],
            [
             1,
             "#f0f921"
            ]
           ],
           "sequentialminus": [
            [
             0,
             "#0d0887"
            ],
            [
             0.1111111111111111,
             "#46039f"
            ],
            [
             0.2222222222222222,
             "#7201a8"
            ],
            [
             0.3333333333333333,
             "#9c179e"
            ],
            [
             0.4444444444444444,
             "#bd3786"
            ],
            [
             0.5555555555555556,
             "#d8576b"
            ],
            [
             0.6666666666666666,
             "#ed7953"
            ],
            [
             0.7777777777777778,
             "#fb9f3a"
            ],
            [
             0.8888888888888888,
             "#fdca26"
            ],
            [
             1,
             "#f0f921"
            ]
           ]
          },
          "colorway": [
           "#636efa",
           "#EF553B",
           "#00cc96",
           "#ab63fa",
           "#FFA15A",
           "#19d3f3",
           "#FF6692",
           "#B6E880",
           "#FF97FF",
           "#FECB52"
          ],
          "font": {
           "color": "#2a3f5f"
          },
          "geo": {
           "bgcolor": "white",
           "lakecolor": "white",
           "landcolor": "#E5ECF6",
           "showlakes": true,
           "showland": true,
           "subunitcolor": "white"
          },
          "hoverlabel": {
           "align": "left"
          },
          "hovermode": "closest",
          "mapbox": {
           "style": "light"
          },
          "paper_bgcolor": "white",
          "plot_bgcolor": "#E5ECF6",
          "polar": {
           "angularaxis": {
            "gridcolor": "white",
            "linecolor": "white",
            "ticks": ""
           },
           "bgcolor": "#E5ECF6",
           "radialaxis": {
            "gridcolor": "white",
            "linecolor": "white",
            "ticks": ""
           }
          },
          "scene": {
           "xaxis": {
            "backgroundcolor": "#E5ECF6",
            "gridcolor": "white",
            "gridwidth": 2,
            "linecolor": "white",
            "showbackground": true,
            "ticks": "",
            "zerolinecolor": "white"
           },
           "yaxis": {
            "backgroundcolor": "#E5ECF6",
            "gridcolor": "white",
            "gridwidth": 2,
            "linecolor": "white",
            "showbackground": true,
            "ticks": "",
            "zerolinecolor": "white"
           },
           "zaxis": {
            "backgroundcolor": "#E5ECF6",
            "gridcolor": "white",
            "gridwidth": 2,
            "linecolor": "white",
            "showbackground": true,
            "ticks": "",
            "zerolinecolor": "white"
           }
          },
          "shapedefaults": {
           "line": {
            "color": "#2a3f5f"
           }
          },
          "ternary": {
           "aaxis": {
            "gridcolor": "white",
            "linecolor": "white",
            "ticks": ""
           },
           "baxis": {
            "gridcolor": "white",
            "linecolor": "white",
            "ticks": ""
           },
           "bgcolor": "#E5ECF6",
           "caxis": {
            "gridcolor": "white",
            "linecolor": "white",
            "ticks": ""
           }
          },
          "title": {
           "x": 0.05
          },
          "xaxis": {
           "automargin": true,
           "gridcolor": "white",
           "linecolor": "white",
           "ticks": "",
           "title": {
            "standoff": 15
           },
           "zerolinecolor": "white",
           "zerolinewidth": 2
          },
          "yaxis": {
           "automargin": true,
           "gridcolor": "white",
           "linecolor": "white",
           "ticks": "",
           "title": {
            "standoff": 15
           },
           "zerolinecolor": "white",
           "zerolinewidth": 2
          }
         }
        },
        "title": {
         "text": "State of the Cluster"
        },
        "width": 800,
        "xaxis": {
         "anchor": "y",
         "domain": [
          0,
          1
         ],
         "matches": "x7",
         "showticklabels": false,
         "title": {
          "text": "time in s"
         }
        },
        "xaxis2": {
         "anchor": "y2",
         "domain": [
          0,
          1
         ],
         "matches": "x7",
         "showticklabels": false,
         "title": {
          "text": "time in s"
         }
        },
        "xaxis3": {
         "anchor": "y3",
         "domain": [
          0,
          1
         ],
         "matches": "x7",
         "showticklabels": false,
         "title": {
          "text": "time in s"
         }
        },
        "xaxis4": {
         "anchor": "y4",
         "domain": [
          0,
          1
         ],
         "matches": "x7",
         "showticklabels": false,
         "title": {
          "text": "time in s"
         }
        },
        "xaxis5": {
         "anchor": "y5",
         "domain": [
          0,
          1
         ],
         "matches": "x7",
         "showticklabels": false,
         "title": {
          "text": "time in s"
         }
        },
        "xaxis6": {
         "anchor": "y6",
         "domain": [
          0,
          1
         ],
         "matches": "x7",
         "showticklabels": false,
         "title": {
          "text": "time in s"
         }
        },
        "xaxis7": {
         "anchor": "y7",
         "domain": [
          0,
          1
         ],
         "title": {
          "text": "time in s"
         }
        },
        "yaxis": {
         "anchor": "x",
         "domain": [
          0.9183673469387754,
          0.9999999999999999
         ],
         "title": {
          "text": "dataflow in MB/s"
         }
        },
        "yaxis2": {
         "anchor": "x2",
         "domain": [
          0.7653061224489794,
          0.8469387755102039
         ],
         "title": {
          "text": "dataflow in MB/s"
         }
        },
        "yaxis3": {
         "anchor": "x3",
         "domain": [
          0.6122448979591837,
          0.6938775510204082
         ],
         "title": {
          "text": "dataflow in MB/s"
         }
        },
        "yaxis4": {
         "anchor": "x4",
         "domain": [
          0.4591836734693877,
          0.5408163265306122
         ],
         "title": {
          "text": "BB usage in Bytes"
         }
        },
        "yaxis5": {
         "anchor": "x5",
         "domain": [
          0.30612244897959184,
          0.3877551020408163
         ],
         "title": {
          "text": "HDD usage in Bytes"
         }
        },
        "yaxis6": {
         "anchor": "x6",
         "domain": [
          0.15306122448979592,
          0.2346938775510204
         ],
         "title": {
          "text": "SSD usage in Bytes"
         }
        },
        "yaxis7": {
         "anchor": "x7",
         "domain": [
          0,
          0.08163265306122448
         ],
         "title": {
          "text": "CPU usage"
         }
        }
       }
      }
     },
     "metadata": {},
     "output_type": "display_data"
    }
   ],
   "source": [
    "fig1 = cbb.display_placement(placement=bbopt.best_parameters_in_grid)\n",
    "fig1.show()"
   ]
  }
 ],
 "metadata": {
  "kernelspec": {
   "display_name": "Python 3.8.13 ('iosea-venv')",
   "language": "python",
   "name": "python3"
  },
  "language_info": {
   "codemirror_mode": {
    "name": "ipython",
    "version": 3
   },
   "file_extension": ".py",
   "mimetype": "text/x-python",
   "name": "python",
   "nbconvert_exporter": "python",
   "pygments_lexer": "ipython3",
   "version": "3.8.13"
  },
  "orig_nbformat": 4,
  "vscode": {
   "interpreter": {
    "hash": "c87beb4c7de1fcbf6155f8da331fc04a584374d4c389d75c2ece6a4f03553c96"
   }
  }
 },
 "nbformat": 4,
 "nbformat_minor": 2
}
