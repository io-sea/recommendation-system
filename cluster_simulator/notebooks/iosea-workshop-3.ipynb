{
 "cells": [
  {
   "cell_type": "code",
   "execution_count": 1,
   "metadata": {},
   "outputs": [
    {
     "name": "stderr",
     "output_type": "stream",
     "text": [
      "c:\\Users\\a770398\\AppData\\Local\\Continuum\\anaconda3\\envs\\iosea-venv\\lib\\site-packages\\cma\\s.py:13: UserWarning:\n",
      "\n",
      "Could not import matplotlib.pyplot, therefore ``cma.plot()`` etc. is not available\n",
      "\n"
     ]
    }
   ],
   "source": [
    "import sys\n",
    "sys.path.append(\"../\") # go to parent dir\n",
    "# imports\n",
    "import simpy\n",
    "from loguru import logger\n",
    "import time\n",
    "import numpy as np\n",
    "import pandas as pd\n",
    "from cluster_simulator.utils import convex_hull\n",
    "from cluster_simulator.cluster import Cluster, Tier, EphemeralTier, bandwidth_share_model, compute_share_model, get_tier, convert_size\n",
    "from cluster_simulator.phase import DelayPhase, ComputePhase, IOPhase\n",
    "from cluster_simulator.application import Application\n",
    "from cluster_simulator.analytics import display_run\n",
    "from cluster_simulator.ephemeral_placement import ClusterBlackBox\n",
    "from cluster_simulator.placement_optimizer import PlacementOptimizer\n"
   ]
  },
  {
   "cell_type": "markdown",
   "metadata": {},
   "source": [
    "Setting the Cluster:\n",
    "- with one tier level (HDD)\n",
    "- with an ephemeral tier:\n",
    " "
   ]
  },
  {
   "cell_type": "code",
   "execution_count": 2,
   "metadata": {},
   "outputs": [],
   "source": [
    "# sim env an data\n",
    "env = simpy.Environment()\n",
    "data = simpy.Store(env)\n",
    "# tier perfs\n",
    "nvram_bandwidth = {'read':  {'seq': 800, 'rand': 800},\n",
    "                        'write': {'seq': 400, 'rand': 400}}\n",
    "ssd_bandwidth = {'read':  {'seq': 200, 'rand': 200},\n",
    "                    'write': {'seq': 100, 'rand': 100}}\n",
    "hdd_bandwidth = {'read':  {'seq': 80, 'rand': 80},\n",
    "                    'write': {'seq': 40, 'rand': 40}}\n",
    "\n",
    "# registering Tiers\n",
    "hdd_tier = Tier(env, 'HDD', bandwidth=hdd_bandwidth, capacity=1e12)\n",
    "ssd_tier = Tier(env, 'SSD', bandwidth=ssd_bandwidth, capacity=200e9)\n",
    "nvram_tier = Tier(env, 'NVRAM', bandwidth=nvram_bandwidth,\n",
    "                        capacity=10e9)\n",
    "# registering Ephemeral Tier\n",
    "bb = EphemeralTier(env, name=\"BB\", persistent_tier=hdd_tier,\n",
    "                        bandwidth=nvram_bandwidth, capacity=10e9)\n",
    "\n",
    "# Define the cluster with 1 persistent and 1 ephemeral\n",
    "cluster = Cluster(env, tiers=[hdd_tier], ephemeral_tier=bb)\n",
    "\n",
    "# define app\n",
    "read = [1e9, 0]\n",
    "compute = [0,  10]\n",
    "write = [0, 5e9]\n",
    "app1 = Application(env, compute=compute, read=read, write=write, data=data)\n",
    "\n",
    "# placement\n",
    "placement = [0, 0]\n",
    "use_bb = [False, False]"
   ]
  },
  {
   "cell_type": "markdown",
   "metadata": {},
   "source": [
    "Behavior for no SBB app"
   ]
  },
  {
   "cell_type": "code",
   "execution_count": 3,
   "metadata": {},
   "outputs": [
    {
     "name": "stderr",
     "output_type": "stream",
     "text": [
      "2022-06-19 16:31:06.137 | DEBUG    | cluster_simulator.phase:monitor_step:42 - \n",
      " | Monitoring| app: Z5 | type: read | cpu_usage: 1 | t_start: 0 | t_end: 12.5 | bandwidth_concurrency: 1 | bandwidth: 80.0 MB/s | phase_duration: 12.5 | volume: 1.0 GB | tiers: ['HDD'] | data_placement: {'placement': 'HDD'} | init_level: {'HDD': 0, 'BB': 0} | tier_level: {'HDD': 1000000000.0, 'BB': 0} | BB_level: 0 \n",
      "2022-06-19 16:31:06.139 | DEBUG    | cluster_simulator.application:run:197 - the issued status of the IO phase : True\n",
      "2022-06-19 16:31:06.140 | INFO     | cluster_simulator.phase:run:123 - (App Z5) - Start computing phase at 12.5 with 1 requested cores\n",
      "2022-06-19 16:31:06.141 | DEBUG    | cluster_simulator.phase:monitor_step:42 - \n",
      " | Monitoring| app: Z5 | type: compute | cpu_usage: 1 | t_start: 12.5 | t_end: 22.5 | bandwidth: 0 MB/s | phase_duration: 10.0 | volume: 0B | tiers: ['HDD'] | data_placement: None | init_level: {'HDD': 1000000000.0, 'BB': 0} | tier_level: {'HDD': 1000000000.0, 'BB': 0} \n",
      "2022-06-19 16:31:06.142 | INFO     | cluster_simulator.phase:run:139 - (App Z5) - End computing phase at 22.5 and releasing 1 cores\n",
      "2022-06-19 16:31:06.144 | DEBUG    | cluster_simulator.phase:monitor_step:42 - \n",
      " | Monitoring| app: Z5 | type: write | cpu_usage: 1 | t_start: 22.5 | t_end: 147.5 | bandwidth_concurrency: 1 | bandwidth: 40.0 MB/s | phase_duration: 125.0 | volume: 5.0 GB | tiers: ['HDD'] | data_placement: {'placement': 'HDD'} | init_level: {'HDD': 1000000000.0, 'BB': 0} | tier_level: {'HDD': 6000000000.0, 'BB': 0} | BB_level: 0 \n"
     ]
    },
    {
     "name": "stdout",
     "output_type": "stream",
     "text": [
      "Displaying result for placement parameter = [0, 0, 0, 0]\n",
      "[False, False]\n",
      "    | app#Z5 : tier placement: [0, 0] | use_bb = [False, False]\n",
      "    | runtime = 147.5 |  BB_size = 0B\n"
     ]
    },
    {
     "data": {
      "application/vnd.plotly.v1+json": {
       "config": {
        "plotlyServerURL": "https://plot.ly"
       },
       "data": [
        {
         "line": {
          "shape": "linear"
         },
         "name": "app#Z5",
         "text": [
          "READ|to/from:HDD|volume=1.0 GB",
          "READ|to/from:HDD|volume=1.0 GB",
          "COMPUTE|volume=0B",
          "COMPUTE|volume=0B",
          "WRITE|to/from:HDD|volume=5.0 GB",
          "WRITE|to/from:HDD|volume=5.0 GB"
         ],
         "textposition": "top center",
         "type": "scatter",
         "x": [
          0,
          12.5,
          12.5,
          22.5,
          22.5,
          147.5
         ],
         "xaxis": "x",
         "y": [
          80,
          80,
          0,
          0,
          40,
          40
         ],
         "yaxis": "y"
        },
        {
         "line": {
          "dash": "dot",
          "shape": "linear"
         },
         "name": "Z5 mvt",
         "text": [],
         "textposition": "top center",
         "type": "scatter",
         "x": [],
         "xaxis": "x",
         "y": [],
         "yaxis": "y"
        },
        {
         "line": {
          "shape": "linear"
         },
         "name": "BB",
         "showlegend": false,
         "text": [
          "Z5|Read|HDD | +volume=1.0 GB",
          "Z5|Compute | +volume=0B",
          "Z5|Write|HDD | +volume=5.0 GB"
         ],
         "textposition": "top center",
         "type": "scatter",
         "x": [
          0,
          12.5,
          22.5,
          147.5
         ],
         "xaxis": "x2",
         "y": [
          0,
          0,
          0,
          0
         ],
         "yaxis": "y2"
        },
        {
         "line": {
          "shape": "linear"
         },
         "name": "HDD",
         "showlegend": false,
         "text": [
          "Z5|Read|HDD | +volume=1.0 GB",
          "Z5|Compute | +volume=0B",
          "Z5|Write|HDD | +volume=5.0 GB"
         ],
         "textposition": "top center",
         "type": "scatter",
         "x": [
          0,
          12.5,
          22.5,
          147.5
         ],
         "xaxis": "x3",
         "y": [
          0,
          999999999.9999999,
          999999999.9999999,
          6000000000
         ],
         "yaxis": "y3"
        },
        {
         "line": {
          "shape": "hv"
         },
         "showlegend": false,
         "type": "scatter",
         "x": [
          0,
          12.5,
          22.5,
          147.5
         ],
         "xaxis": "x4",
         "y": [
          1,
          1,
          1,
          0
         ],
         "yaxis": "y4"
        },
        {
         "line": {
          "color": "red",
          "dash": "dot",
          "shape": "hv",
          "width": 3
         },
         "showlegend": false,
         "text": [
          "Maximum available cores in cluster=2",
          "Maximum available cores in cluster=2"
         ],
         "type": "scatter",
         "x": [
          0,
          147.5
         ],
         "xaxis": "x4",
         "y": [
          2,
          2
         ],
         "yaxis": "y4"
        }
       ],
       "layout": {
        "annotations": [
         {
          "font": {
           "size": 16
          },
          "showarrow": false,
          "text": "Z5",
          "x": 0.5,
          "xanchor": "center",
          "xref": "paper",
          "y": 1,
          "yanchor": "bottom",
          "yref": "paper"
         },
         {
          "font": {
           "size": 16
          },
          "showarrow": false,
          "text": "BB (10.0 GB)",
          "x": 0.5,
          "xanchor": "center",
          "xref": "paper",
          "y": 0.71875,
          "yanchor": "bottom",
          "yref": "paper"
         },
         {
          "font": {
           "size": 16
          },
          "showarrow": false,
          "text": "HDD (1.0 TB)",
          "x": 0.5,
          "xanchor": "center",
          "xref": "paper",
          "y": 0.4375,
          "yanchor": "bottom",
          "yref": "paper"
         },
         {
          "font": {
           "size": 16
          },
          "showarrow": false,
          "text": "CPU Cores",
          "x": 0.5,
          "xanchor": "center",
          "xref": "paper",
          "y": 0.15625,
          "yanchor": "bottom",
          "yref": "paper"
         }
        ],
        "height": 900,
        "template": {
         "data": {
          "bar": [
           {
            "error_x": {
             "color": "#2a3f5f"
            },
            "error_y": {
             "color": "#2a3f5f"
            },
            "marker": {
             "line": {
              "color": "#E5ECF6",
              "width": 0.5
             }
            },
            "type": "bar"
           }
          ],
          "barpolar": [
           {
            "marker": {
             "line": {
              "color": "#E5ECF6",
              "width": 0.5
             }
            },
            "type": "barpolar"
           }
          ],
          "carpet": [
           {
            "aaxis": {
             "endlinecolor": "#2a3f5f",
             "gridcolor": "white",
             "linecolor": "white",
             "minorgridcolor": "white",
             "startlinecolor": "#2a3f5f"
            },
            "baxis": {
             "endlinecolor": "#2a3f5f",
             "gridcolor": "white",
             "linecolor": "white",
             "minorgridcolor": "white",
             "startlinecolor": "#2a3f5f"
            },
            "type": "carpet"
           }
          ],
          "choropleth": [
           {
            "colorbar": {
             "outlinewidth": 0,
             "ticks": ""
            },
            "type": "choropleth"
           }
          ],
          "contour": [
           {
            "colorbar": {
             "outlinewidth": 0,
             "ticks": ""
            },
            "colorscale": [
             [
              0,
              "#0d0887"
             ],
             [
              0.1111111111111111,
              "#46039f"
             ],
             [
              0.2222222222222222,
              "#7201a8"
             ],
             [
              0.3333333333333333,
              "#9c179e"
             ],
             [
              0.4444444444444444,
              "#bd3786"
             ],
             [
              0.5555555555555556,
              "#d8576b"
             ],
             [
              0.6666666666666666,
              "#ed7953"
             ],
             [
              0.7777777777777778,
              "#fb9f3a"
             ],
             [
              0.8888888888888888,
              "#fdca26"
             ],
             [
              1,
              "#f0f921"
             ]
            ],
            "type": "contour"
           }
          ],
          "contourcarpet": [
           {
            "colorbar": {
             "outlinewidth": 0,
             "ticks": ""
            },
            "type": "contourcarpet"
           }
          ],
          "heatmap": [
           {
            "colorbar": {
             "outlinewidth": 0,
             "ticks": ""
            },
            "colorscale": [
             [
              0,
              "#0d0887"
             ],
             [
              0.1111111111111111,
              "#46039f"
             ],
             [
              0.2222222222222222,
              "#7201a8"
             ],
             [
              0.3333333333333333,
              "#9c179e"
             ],
             [
              0.4444444444444444,
              "#bd3786"
             ],
             [
              0.5555555555555556,
              "#d8576b"
             ],
             [
              0.6666666666666666,
              "#ed7953"
             ],
             [
              0.7777777777777778,
              "#fb9f3a"
             ],
             [
              0.8888888888888888,
              "#fdca26"
             ],
             [
              1,
              "#f0f921"
             ]
            ],
            "type": "heatmap"
           }
          ],
          "heatmapgl": [
           {
            "colorbar": {
             "outlinewidth": 0,
             "ticks": ""
            },
            "colorscale": [
             [
              0,
              "#0d0887"
             ],
             [
              0.1111111111111111,
              "#46039f"
             ],
             [
              0.2222222222222222,
              "#7201a8"
             ],
             [
              0.3333333333333333,
              "#9c179e"
             ],
             [
              0.4444444444444444,
              "#bd3786"
             ],
             [
              0.5555555555555556,
              "#d8576b"
             ],
             [
              0.6666666666666666,
              "#ed7953"
             ],
             [
              0.7777777777777778,
              "#fb9f3a"
             ],
             [
              0.8888888888888888,
              "#fdca26"
             ],
             [
              1,
              "#f0f921"
             ]
            ],
            "type": "heatmapgl"
           }
          ],
          "histogram": [
           {
            "marker": {
             "colorbar": {
              "outlinewidth": 0,
              "ticks": ""
             }
            },
            "type": "histogram"
           }
          ],
          "histogram2d": [
           {
            "colorbar": {
             "outlinewidth": 0,
             "ticks": ""
            },
            "colorscale": [
             [
              0,
              "#0d0887"
             ],
             [
              0.1111111111111111,
              "#46039f"
             ],
             [
              0.2222222222222222,
              "#7201a8"
             ],
             [
              0.3333333333333333,
              "#9c179e"
             ],
             [
              0.4444444444444444,
              "#bd3786"
             ],
             [
              0.5555555555555556,
              "#d8576b"
             ],
             [
              0.6666666666666666,
              "#ed7953"
             ],
             [
              0.7777777777777778,
              "#fb9f3a"
             ],
             [
              0.8888888888888888,
              "#fdca26"
             ],
             [
              1,
              "#f0f921"
             ]
            ],
            "type": "histogram2d"
           }
          ],
          "histogram2dcontour": [
           {
            "colorbar": {
             "outlinewidth": 0,
             "ticks": ""
            },
            "colorscale": [
             [
              0,
              "#0d0887"
             ],
             [
              0.1111111111111111,
              "#46039f"
             ],
             [
              0.2222222222222222,
              "#7201a8"
             ],
             [
              0.3333333333333333,
              "#9c179e"
             ],
             [
              0.4444444444444444,
              "#bd3786"
             ],
             [
              0.5555555555555556,
              "#d8576b"
             ],
             [
              0.6666666666666666,
              "#ed7953"
             ],
             [
              0.7777777777777778,
              "#fb9f3a"
             ],
             [
              0.8888888888888888,
              "#fdca26"
             ],
             [
              1,
              "#f0f921"
             ]
            ],
            "type": "histogram2dcontour"
           }
          ],
          "mesh3d": [
           {
            "colorbar": {
             "outlinewidth": 0,
             "ticks": ""
            },
            "type": "mesh3d"
           }
          ],
          "parcoords": [
           {
            "line": {
             "colorbar": {
              "outlinewidth": 0,
              "ticks": ""
             }
            },
            "type": "parcoords"
           }
          ],
          "pie": [
           {
            "automargin": true,
            "type": "pie"
           }
          ],
          "scatter": [
           {
            "marker": {
             "colorbar": {
              "outlinewidth": 0,
              "ticks": ""
             }
            },
            "type": "scatter"
           }
          ],
          "scatter3d": [
           {
            "line": {
             "colorbar": {
              "outlinewidth": 0,
              "ticks": ""
             }
            },
            "marker": {
             "colorbar": {
              "outlinewidth": 0,
              "ticks": ""
             }
            },
            "type": "scatter3d"
           }
          ],
          "scattercarpet": [
           {
            "marker": {
             "colorbar": {
              "outlinewidth": 0,
              "ticks": ""
             }
            },
            "type": "scattercarpet"
           }
          ],
          "scattergeo": [
           {
            "marker": {
             "colorbar": {
              "outlinewidth": 0,
              "ticks": ""
             }
            },
            "type": "scattergeo"
           }
          ],
          "scattergl": [
           {
            "marker": {
             "colorbar": {
              "outlinewidth": 0,
              "ticks": ""
             }
            },
            "type": "scattergl"
           }
          ],
          "scattermapbox": [
           {
            "marker": {
             "colorbar": {
              "outlinewidth": 0,
              "ticks": ""
             }
            },
            "type": "scattermapbox"
           }
          ],
          "scatterpolar": [
           {
            "marker": {
             "colorbar": {
              "outlinewidth": 0,
              "ticks": ""
             }
            },
            "type": "scatterpolar"
           }
          ],
          "scatterpolargl": [
           {
            "marker": {
             "colorbar": {
              "outlinewidth": 0,
              "ticks": ""
             }
            },
            "type": "scatterpolargl"
           }
          ],
          "scatterternary": [
           {
            "marker": {
             "colorbar": {
              "outlinewidth": 0,
              "ticks": ""
             }
            },
            "type": "scatterternary"
           }
          ],
          "surface": [
           {
            "colorbar": {
             "outlinewidth": 0,
             "ticks": ""
            },
            "colorscale": [
             [
              0,
              "#0d0887"
             ],
             [
              0.1111111111111111,
              "#46039f"
             ],
             [
              0.2222222222222222,
              "#7201a8"
             ],
             [
              0.3333333333333333,
              "#9c179e"
             ],
             [
              0.4444444444444444,
              "#bd3786"
             ],
             [
              0.5555555555555556,
              "#d8576b"
             ],
             [
              0.6666666666666666,
              "#ed7953"
             ],
             [
              0.7777777777777778,
              "#fb9f3a"
             ],
             [
              0.8888888888888888,
              "#fdca26"
             ],
             [
              1,
              "#f0f921"
             ]
            ],
            "type": "surface"
           }
          ],
          "table": [
           {
            "cells": {
             "fill": {
              "color": "#EBF0F8"
             },
             "line": {
              "color": "white"
             }
            },
            "header": {
             "fill": {
              "color": "#C8D4E3"
             },
             "line": {
              "color": "white"
             }
            },
            "type": "table"
           }
          ]
         },
         "layout": {
          "annotationdefaults": {
           "arrowcolor": "#2a3f5f",
           "arrowhead": 0,
           "arrowwidth": 1
          },
          "coloraxis": {
           "colorbar": {
            "outlinewidth": 0,
            "ticks": ""
           }
          },
          "colorscale": {
           "diverging": [
            [
             0,
             "#8e0152"
            ],
            [
             0.1,
             "#c51b7d"
            ],
            [
             0.2,
             "#de77ae"
            ],
            [
             0.3,
             "#f1b6da"
            ],
            [
             0.4,
             "#fde0ef"
            ],
            [
             0.5,
             "#f7f7f7"
            ],
            [
             0.6,
             "#e6f5d0"
            ],
            [
             0.7,
             "#b8e186"
            ],
            [
             0.8,
             "#7fbc41"
            ],
            [
             0.9,
             "#4d9221"
            ],
            [
             1,
             "#276419"
            ]
           ],
           "sequential": [
            [
             0,
             "#0d0887"
            ],
            [
             0.1111111111111111,
             "#46039f"
            ],
            [
             0.2222222222222222,
             "#7201a8"
            ],
            [
             0.3333333333333333,
             "#9c179e"
            ],
            [
             0.4444444444444444,
             "#bd3786"
            ],
            [
             0.5555555555555556,
             "#d8576b"
            ],
            [
             0.6666666666666666,
             "#ed7953"
            ],
            [
             0.7777777777777778,
             "#fb9f3a"
            ],
            [
             0.8888888888888888,
             "#fdca26"
            ],
            [
             1,
             "#f0f921"
            ]
           ],
           "sequentialminus": [
            [
             0,
             "#0d0887"
            ],
            [
             0.1111111111111111,
             "#46039f"
            ],
            [
             0.2222222222222222,
             "#7201a8"
            ],
            [
             0.3333333333333333,
             "#9c179e"
            ],
            [
             0.4444444444444444,
             "#bd3786"
            ],
            [
             0.5555555555555556,
             "#d8576b"
            ],
            [
             0.6666666666666666,
             "#ed7953"
            ],
            [
             0.7777777777777778,
             "#fb9f3a"
            ],
            [
             0.8888888888888888,
             "#fdca26"
            ],
            [
             1,
             "#f0f921"
            ]
           ]
          },
          "colorway": [
           "#636efa",
           "#EF553B",
           "#00cc96",
           "#ab63fa",
           "#FFA15A",
           "#19d3f3",
           "#FF6692",
           "#B6E880",
           "#FF97FF",
           "#FECB52"
          ],
          "font": {
           "color": "#2a3f5f"
          },
          "geo": {
           "bgcolor": "white",
           "lakecolor": "white",
           "landcolor": "#E5ECF6",
           "showlakes": true,
           "showland": true,
           "subunitcolor": "white"
          },
          "hoverlabel": {
           "align": "left"
          },
          "hovermode": "closest",
          "mapbox": {
           "style": "light"
          },
          "paper_bgcolor": "white",
          "plot_bgcolor": "#E5ECF6",
          "polar": {
           "angularaxis": {
            "gridcolor": "white",
            "linecolor": "white",
            "ticks": ""
           },
           "bgcolor": "#E5ECF6",
           "radialaxis": {
            "gridcolor": "white",
            "linecolor": "white",
            "ticks": ""
           }
          },
          "scene": {
           "xaxis": {
            "backgroundcolor": "#E5ECF6",
            "gridcolor": "white",
            "gridwidth": 2,
            "linecolor": "white",
            "showbackground": true,
            "ticks": "",
            "zerolinecolor": "white"
           },
           "yaxis": {
            "backgroundcolor": "#E5ECF6",
            "gridcolor": "white",
            "gridwidth": 2,
            "linecolor": "white",
            "showbackground": true,
            "ticks": "",
            "zerolinecolor": "white"
           },
           "zaxis": {
            "backgroundcolor": "#E5ECF6",
            "gridcolor": "white",
            "gridwidth": 2,
            "linecolor": "white",
            "showbackground": true,
            "ticks": "",
            "zerolinecolor": "white"
           }
          },
          "shapedefaults": {
           "line": {
            "color": "#2a3f5f"
           }
          },
          "ternary": {
           "aaxis": {
            "gridcolor": "white",
            "linecolor": "white",
            "ticks": ""
           },
           "baxis": {
            "gridcolor": "white",
            "linecolor": "white",
            "ticks": ""
           },
           "bgcolor": "#E5ECF6",
           "caxis": {
            "gridcolor": "white",
            "linecolor": "white",
            "ticks": ""
           }
          },
          "title": {
           "x": 0.05
          },
          "xaxis": {
           "automargin": true,
           "gridcolor": "white",
           "linecolor": "white",
           "ticks": "",
           "title": {
            "standoff": 15
           },
           "zerolinecolor": "white",
           "zerolinewidth": 2
          },
          "yaxis": {
           "automargin": true,
           "gridcolor": "white",
           "linecolor": "white",
           "ticks": "",
           "title": {
            "standoff": 15
           },
           "zerolinecolor": "white",
           "zerolinewidth": 2
          }
         }
        },
        "title": {
         "text": "State of the Cluster"
        },
        "width": 800,
        "xaxis": {
         "anchor": "y",
         "domain": [
          0,
          1
         ],
         "matches": "x4",
         "showticklabels": false,
         "title": {
          "text": "time in s"
         }
        },
        "xaxis2": {
         "anchor": "y2",
         "domain": [
          0,
          1
         ],
         "matches": "x4",
         "showticklabels": false,
         "title": {
          "text": "time in s"
         }
        },
        "xaxis3": {
         "anchor": "y3",
         "domain": [
          0,
          1
         ],
         "matches": "x4",
         "showticklabels": false,
         "title": {
          "text": "time in s"
         }
        },
        "xaxis4": {
         "anchor": "y4",
         "domain": [
          0,
          1
         ],
         "title": {
          "text": "time in s"
         }
        },
        "yaxis": {
         "anchor": "x",
         "domain": [
          0.84375,
          1
         ],
         "title": {
          "text": "dataflow in MB/s"
         }
        },
        "yaxis2": {
         "anchor": "x2",
         "domain": [
          0.5625,
          0.71875
         ],
         "title": {
          "text": "BB usage in Bytes"
         }
        },
        "yaxis3": {
         "anchor": "x3",
         "domain": [
          0.28125,
          0.4375
         ],
         "title": {
          "text": "HDD usage in Bytes"
         }
        },
        "yaxis4": {
         "anchor": "x4",
         "domain": [
          0,
          0.15625
         ],
         "title": {
          "text": "CPU usage"
         }
        }
       }
      }
     },
     "metadata": {},
     "output_type": "display_data"
    }
   ],
   "source": [
    "p1 = PlacementOptimizer(env, data, cluster, [app1])\n",
    "fig = p1.display_placement(placement + [0, 0])\n",
    "fig.show()"
   ]
  },
  {
   "cell_type": "markdown",
   "metadata": {},
   "source": [
    "Selective SBB per dataset"
   ]
  },
  {
   "cell_type": "code",
   "execution_count": 8,
   "metadata": {},
   "outputs": [
    {
     "name": "stdout",
     "output_type": "stream",
     "text": [
      "Displaying result for placement parameter = [0, 0, 0, 1]\n",
      "[False, True]\n",
      "    | app#Z5 : tier placement: [0, 0] | use_bb = [False, True]\n",
      "    | runtime = 147.5 |  BB_size = 0B\n"
     ]
    },
    {
     "data": {
      "application/vnd.plotly.v1+json": {
       "config": {
        "plotlyServerURL": "https://plot.ly"
       },
       "data": [
        {
         "line": {
          "shape": "linear"
         },
         "name": "app#Z5",
         "text": [
          "READ|to/from:HDD|volume=1.0 GB",
          "READ|to/from:HDD|volume=1.0 GB",
          "COMPUTE|volume=0B",
          "COMPUTE|volume=0B",
          "WRITE|to/from:HDD|volume=5.0 GB",
          "WRITE|to/from:HDD|volume=5.0 GB"
         ],
         "textposition": "top center",
         "type": "scatter",
         "x": [
          0,
          12.5,
          12.5,
          22.5,
          22.5,
          147.5
         ],
         "xaxis": "x",
         "y": [
          80,
          80,
          0,
          0,
          40,
          40
         ],
         "yaxis": "y"
        },
        {
         "line": {
          "dash": "dot",
          "shape": "linear"
         },
         "name": "Z5 mvt",
         "text": [],
         "textposition": "top center",
         "type": "scatter",
         "x": [],
         "xaxis": "x",
         "y": [],
         "yaxis": "y"
        },
        {
         "line": {
          "shape": "linear"
         },
         "name": "BB",
         "showlegend": false,
         "text": [
          "Z5|Read|HDD | +volume=1.0 GB",
          "Z5|Compute | +volume=0B",
          "Z5|Write|HDD | +volume=5.0 GB"
         ],
         "textposition": "top center",
         "type": "scatter",
         "x": [
          0,
          12.5,
          22.5,
          147.5
         ],
         "xaxis": "x2",
         "y": [
          0,
          0,
          0,
          0
         ],
         "yaxis": "y2"
        },
        {
         "line": {
          "shape": "linear"
         },
         "name": "HDD",
         "showlegend": false,
         "text": [
          "Z5|Read|HDD | +volume=1.0 GB",
          "Z5|Compute | +volume=0B",
          "Z5|Write|HDD | +volume=5.0 GB"
         ],
         "textposition": "top center",
         "type": "scatter",
         "x": [
          0,
          12.5,
          22.5,
          147.5
         ],
         "xaxis": "x3",
         "y": [
          0,
          999999999.9999999,
          999999999.9999999,
          6000000000
         ],
         "yaxis": "y3"
        },
        {
         "line": {
          "shape": "hv"
         },
         "showlegend": false,
         "type": "scatter",
         "x": [
          0,
          12.5,
          22.5,
          147.5
         ],
         "xaxis": "x4",
         "y": [
          1,
          1,
          1,
          0
         ],
         "yaxis": "y4"
        },
        {
         "line": {
          "color": "red",
          "dash": "dot",
          "shape": "hv",
          "width": 3
         },
         "showlegend": false,
         "text": [
          "Maximum available cores in cluster=2",
          "Maximum available cores in cluster=2"
         ],
         "type": "scatter",
         "x": [
          0,
          147.5
         ],
         "xaxis": "x4",
         "y": [
          2,
          2
         ],
         "yaxis": "y4"
        }
       ],
       "layout": {
        "annotations": [
         {
          "font": {
           "size": 16
          },
          "showarrow": false,
          "text": "Z5",
          "x": 0.5,
          "xanchor": "center",
          "xref": "paper",
          "y": 1,
          "yanchor": "bottom",
          "yref": "paper"
         },
         {
          "font": {
           "size": 16
          },
          "showarrow": false,
          "text": "BB (10.0 GB)",
          "x": 0.5,
          "xanchor": "center",
          "xref": "paper",
          "y": 0.71875,
          "yanchor": "bottom",
          "yref": "paper"
         },
         {
          "font": {
           "size": 16
          },
          "showarrow": false,
          "text": "HDD (1.0 TB)",
          "x": 0.5,
          "xanchor": "center",
          "xref": "paper",
          "y": 0.4375,
          "yanchor": "bottom",
          "yref": "paper"
         },
         {
          "font": {
           "size": 16
          },
          "showarrow": false,
          "text": "CPU Cores",
          "x": 0.5,
          "xanchor": "center",
          "xref": "paper",
          "y": 0.15625,
          "yanchor": "bottom",
          "yref": "paper"
         }
        ],
        "height": 900,
        "template": {
         "data": {
          "bar": [
           {
            "error_x": {
             "color": "#2a3f5f"
            },
            "error_y": {
             "color": "#2a3f5f"
            },
            "marker": {
             "line": {
              "color": "#E5ECF6",
              "width": 0.5
             }
            },
            "type": "bar"
           }
          ],
          "barpolar": [
           {
            "marker": {
             "line": {
              "color": "#E5ECF6",
              "width": 0.5
             }
            },
            "type": "barpolar"
           }
          ],
          "carpet": [
           {
            "aaxis": {
             "endlinecolor": "#2a3f5f",
             "gridcolor": "white",
             "linecolor": "white",
             "minorgridcolor": "white",
             "startlinecolor": "#2a3f5f"
            },
            "baxis": {
             "endlinecolor": "#2a3f5f",
             "gridcolor": "white",
             "linecolor": "white",
             "minorgridcolor": "white",
             "startlinecolor": "#2a3f5f"
            },
            "type": "carpet"
           }
          ],
          "choropleth": [
           {
            "colorbar": {
             "outlinewidth": 0,
             "ticks": ""
            },
            "type": "choropleth"
           }
          ],
          "contour": [
           {
            "colorbar": {
             "outlinewidth": 0,
             "ticks": ""
            },
            "colorscale": [
             [
              0,
              "#0d0887"
             ],
             [
              0.1111111111111111,
              "#46039f"
             ],
             [
              0.2222222222222222,
              "#7201a8"
             ],
             [
              0.3333333333333333,
              "#9c179e"
             ],
             [
              0.4444444444444444,
              "#bd3786"
             ],
             [
              0.5555555555555556,
              "#d8576b"
             ],
             [
              0.6666666666666666,
              "#ed7953"
             ],
             [
              0.7777777777777778,
              "#fb9f3a"
             ],
             [
              0.8888888888888888,
              "#fdca26"
             ],
             [
              1,
              "#f0f921"
             ]
            ],
            "type": "contour"
           }
          ],
          "contourcarpet": [
           {
            "colorbar": {
             "outlinewidth": 0,
             "ticks": ""
            },
            "type": "contourcarpet"
           }
          ],
          "heatmap": [
           {
            "colorbar": {
             "outlinewidth": 0,
             "ticks": ""
            },
            "colorscale": [
             [
              0,
              "#0d0887"
             ],
             [
              0.1111111111111111,
              "#46039f"
             ],
             [
              0.2222222222222222,
              "#7201a8"
             ],
             [
              0.3333333333333333,
              "#9c179e"
             ],
             [
              0.4444444444444444,
              "#bd3786"
             ],
             [
              0.5555555555555556,
              "#d8576b"
             ],
             [
              0.6666666666666666,
              "#ed7953"
             ],
             [
              0.7777777777777778,
              "#fb9f3a"
             ],
             [
              0.8888888888888888,
              "#fdca26"
             ],
             [
              1,
              "#f0f921"
             ]
            ],
            "type": "heatmap"
           }
          ],
          "heatmapgl": [
           {
            "colorbar": {
             "outlinewidth": 0,
             "ticks": ""
            },
            "colorscale": [
             [
              0,
              "#0d0887"
             ],
             [
              0.1111111111111111,
              "#46039f"
             ],
             [
              0.2222222222222222,
              "#7201a8"
             ],
             [
              0.3333333333333333,
              "#9c179e"
             ],
             [
              0.4444444444444444,
              "#bd3786"
             ],
             [
              0.5555555555555556,
              "#d8576b"
             ],
             [
              0.6666666666666666,
              "#ed7953"
             ],
             [
              0.7777777777777778,
              "#fb9f3a"
             ],
             [
              0.8888888888888888,
              "#fdca26"
             ],
             [
              1,
              "#f0f921"
             ]
            ],
            "type": "heatmapgl"
           }
          ],
          "histogram": [
           {
            "marker": {
             "colorbar": {
              "outlinewidth": 0,
              "ticks": ""
             }
            },
            "type": "histogram"
           }
          ],
          "histogram2d": [
           {
            "colorbar": {
             "outlinewidth": 0,
             "ticks": ""
            },
            "colorscale": [
             [
              0,
              "#0d0887"
             ],
             [
              0.1111111111111111,
              "#46039f"
             ],
             [
              0.2222222222222222,
              "#7201a8"
             ],
             [
              0.3333333333333333,
              "#9c179e"
             ],
             [
              0.4444444444444444,
              "#bd3786"
             ],
             [
              0.5555555555555556,
              "#d8576b"
             ],
             [
              0.6666666666666666,
              "#ed7953"
             ],
             [
              0.7777777777777778,
              "#fb9f3a"
             ],
             [
              0.8888888888888888,
              "#fdca26"
             ],
             [
              1,
              "#f0f921"
             ]
            ],
            "type": "histogram2d"
           }
          ],
          "histogram2dcontour": [
           {
            "colorbar": {
             "outlinewidth": 0,
             "ticks": ""
            },
            "colorscale": [
             [
              0,
              "#0d0887"
             ],
             [
              0.1111111111111111,
              "#46039f"
             ],
             [
              0.2222222222222222,
              "#7201a8"
             ],
             [
              0.3333333333333333,
              "#9c179e"
             ],
             [
              0.4444444444444444,
              "#bd3786"
             ],
             [
              0.5555555555555556,
              "#d8576b"
             ],
             [
              0.6666666666666666,
              "#ed7953"
             ],
             [
              0.7777777777777778,
              "#fb9f3a"
             ],
             [
              0.8888888888888888,
              "#fdca26"
             ],
             [
              1,
              "#f0f921"
             ]
            ],
            "type": "histogram2dcontour"
           }
          ],
          "mesh3d": [
           {
            "colorbar": {
             "outlinewidth": 0,
             "ticks": ""
            },
            "type": "mesh3d"
           }
          ],
          "parcoords": [
           {
            "line": {
             "colorbar": {
              "outlinewidth": 0,
              "ticks": ""
             }
            },
            "type": "parcoords"
           }
          ],
          "pie": [
           {
            "automargin": true,
            "type": "pie"
           }
          ],
          "scatter": [
           {
            "marker": {
             "colorbar": {
              "outlinewidth": 0,
              "ticks": ""
             }
            },
            "type": "scatter"
           }
          ],
          "scatter3d": [
           {
            "line": {
             "colorbar": {
              "outlinewidth": 0,
              "ticks": ""
             }
            },
            "marker": {
             "colorbar": {
              "outlinewidth": 0,
              "ticks": ""
             }
            },
            "type": "scatter3d"
           }
          ],
          "scattercarpet": [
           {
            "marker": {
             "colorbar": {
              "outlinewidth": 0,
              "ticks": ""
             }
            },
            "type": "scattercarpet"
           }
          ],
          "scattergeo": [
           {
            "marker": {
             "colorbar": {
              "outlinewidth": 0,
              "ticks": ""
             }
            },
            "type": "scattergeo"
           }
          ],
          "scattergl": [
           {
            "marker": {
             "colorbar": {
              "outlinewidth": 0,
              "ticks": ""
             }
            },
            "type": "scattergl"
           }
          ],
          "scattermapbox": [
           {
            "marker": {
             "colorbar": {
              "outlinewidth": 0,
              "ticks": ""
             }
            },
            "type": "scattermapbox"
           }
          ],
          "scatterpolar": [
           {
            "marker": {
             "colorbar": {
              "outlinewidth": 0,
              "ticks": ""
             }
            },
            "type": "scatterpolar"
           }
          ],
          "scatterpolargl": [
           {
            "marker": {
             "colorbar": {
              "outlinewidth": 0,
              "ticks": ""
             }
            },
            "type": "scatterpolargl"
           }
          ],
          "scatterternary": [
           {
            "marker": {
             "colorbar": {
              "outlinewidth": 0,
              "ticks": ""
             }
            },
            "type": "scatterternary"
           }
          ],
          "surface": [
           {
            "colorbar": {
             "outlinewidth": 0,
             "ticks": ""
            },
            "colorscale": [
             [
              0,
              "#0d0887"
             ],
             [
              0.1111111111111111,
              "#46039f"
             ],
             [
              0.2222222222222222,
              "#7201a8"
             ],
             [
              0.3333333333333333,
              "#9c179e"
             ],
             [
              0.4444444444444444,
              "#bd3786"
             ],
             [
              0.5555555555555556,
              "#d8576b"
             ],
             [
              0.6666666666666666,
              "#ed7953"
             ],
             [
              0.7777777777777778,
              "#fb9f3a"
             ],
             [
              0.8888888888888888,
              "#fdca26"
             ],
             [
              1,
              "#f0f921"
             ]
            ],
            "type": "surface"
           }
          ],
          "table": [
           {
            "cells": {
             "fill": {
              "color": "#EBF0F8"
             },
             "line": {
              "color": "white"
             }
            },
            "header": {
             "fill": {
              "color": "#C8D4E3"
             },
             "line": {
              "color": "white"
             }
            },
            "type": "table"
           }
          ]
         },
         "layout": {
          "annotationdefaults": {
           "arrowcolor": "#2a3f5f",
           "arrowhead": 0,
           "arrowwidth": 1
          },
          "coloraxis": {
           "colorbar": {
            "outlinewidth": 0,
            "ticks": ""
           }
          },
          "colorscale": {
           "diverging": [
            [
             0,
             "#8e0152"
            ],
            [
             0.1,
             "#c51b7d"
            ],
            [
             0.2,
             "#de77ae"
            ],
            [
             0.3,
             "#f1b6da"
            ],
            [
             0.4,
             "#fde0ef"
            ],
            [
             0.5,
             "#f7f7f7"
            ],
            [
             0.6,
             "#e6f5d0"
            ],
            [
             0.7,
             "#b8e186"
            ],
            [
             0.8,
             "#7fbc41"
            ],
            [
             0.9,
             "#4d9221"
            ],
            [
             1,
             "#276419"
            ]
           ],
           "sequential": [
            [
             0,
             "#0d0887"
            ],
            [
             0.1111111111111111,
             "#46039f"
            ],
            [
             0.2222222222222222,
             "#7201a8"
            ],
            [
             0.3333333333333333,
             "#9c179e"
            ],
            [
             0.4444444444444444,
             "#bd3786"
            ],
            [
             0.5555555555555556,
             "#d8576b"
            ],
            [
             0.6666666666666666,
             "#ed7953"
            ],
            [
             0.7777777777777778,
             "#fb9f3a"
            ],
            [
             0.8888888888888888,
             "#fdca26"
            ],
            [
             1,
             "#f0f921"
            ]
           ],
           "sequentialminus": [
            [
             0,
             "#0d0887"
            ],
            [
             0.1111111111111111,
             "#46039f"
            ],
            [
             0.2222222222222222,
             "#7201a8"
            ],
            [
             0.3333333333333333,
             "#9c179e"
            ],
            [
             0.4444444444444444,
             "#bd3786"
            ],
            [
             0.5555555555555556,
             "#d8576b"
            ],
            [
             0.6666666666666666,
             "#ed7953"
            ],
            [
             0.7777777777777778,
             "#fb9f3a"
            ],
            [
             0.8888888888888888,
             "#fdca26"
            ],
            [
             1,
             "#f0f921"
            ]
           ]
          },
          "colorway": [
           "#636efa",
           "#EF553B",
           "#00cc96",
           "#ab63fa",
           "#FFA15A",
           "#19d3f3",
           "#FF6692",
           "#B6E880",
           "#FF97FF",
           "#FECB52"
          ],
          "font": {
           "color": "#2a3f5f"
          },
          "geo": {
           "bgcolor": "white",
           "lakecolor": "white",
           "landcolor": "#E5ECF6",
           "showlakes": true,
           "showland": true,
           "subunitcolor": "white"
          },
          "hoverlabel": {
           "align": "left"
          },
          "hovermode": "closest",
          "mapbox": {
           "style": "light"
          },
          "paper_bgcolor": "white",
          "plot_bgcolor": "#E5ECF6",
          "polar": {
           "angularaxis": {
            "gridcolor": "white",
            "linecolor": "white",
            "ticks": ""
           },
           "bgcolor": "#E5ECF6",
           "radialaxis": {
            "gridcolor": "white",
            "linecolor": "white",
            "ticks": ""
           }
          },
          "scene": {
           "xaxis": {
            "backgroundcolor": "#E5ECF6",
            "gridcolor": "white",
            "gridwidth": 2,
            "linecolor": "white",
            "showbackground": true,
            "ticks": "",
            "zerolinecolor": "white"
           },
           "yaxis": {
            "backgroundcolor": "#E5ECF6",
            "gridcolor": "white",
            "gridwidth": 2,
            "linecolor": "white",
            "showbackground": true,
            "ticks": "",
            "zerolinecolor": "white"
           },
           "zaxis": {
            "backgroundcolor": "#E5ECF6",
            "gridcolor": "white",
            "gridwidth": 2,
            "linecolor": "white",
            "showbackground": true,
            "ticks": "",
            "zerolinecolor": "white"
           }
          },
          "shapedefaults": {
           "line": {
            "color": "#2a3f5f"
           }
          },
          "ternary": {
           "aaxis": {
            "gridcolor": "white",
            "linecolor": "white",
            "ticks": ""
           },
           "baxis": {
            "gridcolor": "white",
            "linecolor": "white",
            "ticks": ""
           },
           "bgcolor": "#E5ECF6",
           "caxis": {
            "gridcolor": "white",
            "linecolor": "white",
            "ticks": ""
           }
          },
          "title": {
           "x": 0.05
          },
          "xaxis": {
           "automargin": true,
           "gridcolor": "white",
           "linecolor": "white",
           "ticks": "",
           "title": {
            "standoff": 15
           },
           "zerolinecolor": "white",
           "zerolinewidth": 2
          },
          "yaxis": {
           "automargin": true,
           "gridcolor": "white",
           "linecolor": "white",
           "ticks": "",
           "title": {
            "standoff": 15
           },
           "zerolinecolor": "white",
           "zerolinewidth": 2
          }
         }
        },
        "title": {
         "text": "State of the Cluster"
        },
        "width": 800,
        "xaxis": {
         "anchor": "y",
         "domain": [
          0,
          1
         ],
         "matches": "x4",
         "showticklabels": false,
         "title": {
          "text": "time in s"
         }
        },
        "xaxis2": {
         "anchor": "y2",
         "domain": [
          0,
          1
         ],
         "matches": "x4",
         "showticklabels": false,
         "title": {
          "text": "time in s"
         }
        },
        "xaxis3": {
         "anchor": "y3",
         "domain": [
          0,
          1
         ],
         "matches": "x4",
         "showticklabels": false,
         "title": {
          "text": "time in s"
         }
        },
        "xaxis4": {
         "anchor": "y4",
         "domain": [
          0,
          1
         ],
         "title": {
          "text": "time in s"
         }
        },
        "yaxis": {
         "anchor": "x",
         "domain": [
          0.84375,
          1
         ],
         "title": {
          "text": "dataflow in MB/s"
         }
        },
        "yaxis2": {
         "anchor": "x2",
         "domain": [
          0.5625,
          0.71875
         ],
         "title": {
          "text": "BB usage in Bytes"
         }
        },
        "yaxis3": {
         "anchor": "x3",
         "domain": [
          0.28125,
          0.4375
         ],
         "title": {
          "text": "HDD usage in Bytes"
         }
        },
        "yaxis4": {
         "anchor": "x4",
         "domain": [
          0,
          0.15625
         ],
         "title": {
          "text": "CPU usage"
         }
        }
       }
      }
     },
     "metadata": {},
     "output_type": "display_data"
    }
   ],
   "source": [
    "p1 = PlacementOptimizer(env, data, cluster, [app1])\n",
    "fig = p1.display_placement(placement + [0, 1])\n",
    "fig.show()"
   ]
  },
  {
   "cell_type": "markdown",
   "metadata": {},
   "source": [
    "What about prefetch ? (buffering read datasets)"
   ]
  },
  {
   "cell_type": "code",
   "execution_count": 9,
   "metadata": {},
   "outputs": [
    {
     "name": "stdout",
     "output_type": "stream",
     "text": [
      "application duration = 136.25\n"
     ]
    },
    {
     "data": {
      "application/vnd.plotly.v1+json": {
       "config": {
        "plotlyServerURL": "https://plot.ly"
       },
       "data": [
        {
         "line": {
          "shape": "linear"
         },
         "name": "app#W9",
         "text": [
          "READ|to/from:BB|volume=1.0 GB",
          "READ|to/from:BB|volume=1.0 GB",
          "COMPUTE|volume=0B",
          "COMPUTE|volume=0B",
          "WRITE|to/from:HDD|volume=5.0 GB",
          "WRITE|to/from:HDD|volume=5.0 GB"
         ],
         "textposition": "top center",
         "type": "scatter",
         "x": [
          307.5,
          308.75,
          308.75,
          318.75,
          318.75,
          443.75
         ],
         "xaxis": "x",
         "y": [
          800,
          800,
          0,
          0,
          40,
          40
         ],
         "yaxis": "y"
        },
        {
         "line": {
          "dash": "dot",
          "shape": "linear"
         },
         "name": "W9 mvt",
         "text": [
          "MOVEMENT|in:BB|from:HDD|volume=1.0 GB",
          "MOVEMENT|in:BB|volume=1.0 GB"
         ],
         "textposition": "top center",
         "type": "scatter",
         "x": [
          295,
          307.5
         ],
         "xaxis": "x",
         "y": [
          80,
          80
         ],
         "yaxis": "y"
        },
        {
         "line": {
          "shape": "linear"
         },
         "name": "BB",
         "showlegend": false,
         "text": [
          "W9|Movement|BB | +volume=1.0 GB",
          "W9|Read|BB | +volume=1.0 GB",
          "W9|Compute | +volume=0B",
          "W9|Write|HDD | +volume=5.0 GB"
         ],
         "textposition": "top center",
         "type": "scatter",
         "x": [
          295,
          307.5,
          308.75,
          318.75,
          443.75
         ],
         "xaxis": "x2",
         "y": [
          5000000000,
          6000000000,
          6000000000,
          6000000000,
          6000000000
         ],
         "yaxis": "y2"
        },
        {
         "line": {
          "shape": "linear"
         },
         "name": "HDD",
         "showlegend": false,
         "text": [
          "W9|Movement|BB | +volume=1.0 GB",
          "W9|Read|BB | +volume=1.0 GB",
          "W9|Compute | +volume=0B",
          "W9|Write|HDD | +volume=5.0 GB"
         ],
         "textposition": "top center",
         "type": "scatter",
         "x": [
          295,
          307.5,
          308.75,
          318.75,
          443.75
         ],
         "xaxis": "x3",
         "y": [
          11000000000,
          11000000000,
          11000000000,
          11000000000,
          15999999999.999998
         ],
         "yaxis": "y3"
        },
        {
         "line": {
          "shape": "hv"
         },
         "showlegend": false,
         "type": "scatter",
         "x": [
          295,
          307.5,
          308.75,
          318.75,
          443.75
         ],
         "xaxis": "x4",
         "y": [
          1,
          1,
          1,
          1,
          0
         ],
         "yaxis": "y4"
        },
        {
         "line": {
          "color": "red",
          "dash": "dot",
          "shape": "hv",
          "width": 3
         },
         "showlegend": false,
         "text": [
          "Maximum available cores in cluster=2",
          "Maximum available cores in cluster=2"
         ],
         "type": "scatter",
         "x": [
          295,
          443.75
         ],
         "xaxis": "x4",
         "y": [
          2,
          2
         ],
         "yaxis": "y4"
        }
       ],
       "layout": {
        "annotations": [
         {
          "font": {
           "size": 16
          },
          "showarrow": false,
          "text": "W9",
          "x": 0.5,
          "xanchor": "center",
          "xref": "paper",
          "y": 1,
          "yanchor": "bottom",
          "yref": "paper"
         },
         {
          "font": {
           "size": 16
          },
          "showarrow": false,
          "text": "BB (10.0 GB)",
          "x": 0.5,
          "xanchor": "center",
          "xref": "paper",
          "y": 0.71875,
          "yanchor": "bottom",
          "yref": "paper"
         },
         {
          "font": {
           "size": 16
          },
          "showarrow": false,
          "text": "HDD (1.0 TB)",
          "x": 0.5,
          "xanchor": "center",
          "xref": "paper",
          "y": 0.4375,
          "yanchor": "bottom",
          "yref": "paper"
         },
         {
          "font": {
           "size": 16
          },
          "showarrow": false,
          "text": "CPU Cores",
          "x": 0.5,
          "xanchor": "center",
          "xref": "paper",
          "y": 0.15625,
          "yanchor": "bottom",
          "yref": "paper"
         }
        ],
        "height": 900,
        "template": {
         "data": {
          "bar": [
           {
            "error_x": {
             "color": "#2a3f5f"
            },
            "error_y": {
             "color": "#2a3f5f"
            },
            "marker": {
             "line": {
              "color": "#E5ECF6",
              "width": 0.5
             }
            },
            "type": "bar"
           }
          ],
          "barpolar": [
           {
            "marker": {
             "line": {
              "color": "#E5ECF6",
              "width": 0.5
             }
            },
            "type": "barpolar"
           }
          ],
          "carpet": [
           {
            "aaxis": {
             "endlinecolor": "#2a3f5f",
             "gridcolor": "white",
             "linecolor": "white",
             "minorgridcolor": "white",
             "startlinecolor": "#2a3f5f"
            },
            "baxis": {
             "endlinecolor": "#2a3f5f",
             "gridcolor": "white",
             "linecolor": "white",
             "minorgridcolor": "white",
             "startlinecolor": "#2a3f5f"
            },
            "type": "carpet"
           }
          ],
          "choropleth": [
           {
            "colorbar": {
             "outlinewidth": 0,
             "ticks": ""
            },
            "type": "choropleth"
           }
          ],
          "contour": [
           {
            "colorbar": {
             "outlinewidth": 0,
             "ticks": ""
            },
            "colorscale": [
             [
              0,
              "#0d0887"
             ],
             [
              0.1111111111111111,
              "#46039f"
             ],
             [
              0.2222222222222222,
              "#7201a8"
             ],
             [
              0.3333333333333333,
              "#9c179e"
             ],
             [
              0.4444444444444444,
              "#bd3786"
             ],
             [
              0.5555555555555556,
              "#d8576b"
             ],
             [
              0.6666666666666666,
              "#ed7953"
             ],
             [
              0.7777777777777778,
              "#fb9f3a"
             ],
             [
              0.8888888888888888,
              "#fdca26"
             ],
             [
              1,
              "#f0f921"
             ]
            ],
            "type": "contour"
           }
          ],
          "contourcarpet": [
           {
            "colorbar": {
             "outlinewidth": 0,
             "ticks": ""
            },
            "type": "contourcarpet"
           }
          ],
          "heatmap": [
           {
            "colorbar": {
             "outlinewidth": 0,
             "ticks": ""
            },
            "colorscale": [
             [
              0,
              "#0d0887"
             ],
             [
              0.1111111111111111,
              "#46039f"
             ],
             [
              0.2222222222222222,
              "#7201a8"
             ],
             [
              0.3333333333333333,
              "#9c179e"
             ],
             [
              0.4444444444444444,
              "#bd3786"
             ],
             [
              0.5555555555555556,
              "#d8576b"
             ],
             [
              0.6666666666666666,
              "#ed7953"
             ],
             [
              0.7777777777777778,
              "#fb9f3a"
             ],
             [
              0.8888888888888888,
              "#fdca26"
             ],
             [
              1,
              "#f0f921"
             ]
            ],
            "type": "heatmap"
           }
          ],
          "heatmapgl": [
           {
            "colorbar": {
             "outlinewidth": 0,
             "ticks": ""
            },
            "colorscale": [
             [
              0,
              "#0d0887"
             ],
             [
              0.1111111111111111,
              "#46039f"
             ],
             [
              0.2222222222222222,
              "#7201a8"
             ],
             [
              0.3333333333333333,
              "#9c179e"
             ],
             [
              0.4444444444444444,
              "#bd3786"
             ],
             [
              0.5555555555555556,
              "#d8576b"
             ],
             [
              0.6666666666666666,
              "#ed7953"
             ],
             [
              0.7777777777777778,
              "#fb9f3a"
             ],
             [
              0.8888888888888888,
              "#fdca26"
             ],
             [
              1,
              "#f0f921"
             ]
            ],
            "type": "heatmapgl"
           }
          ],
          "histogram": [
           {
            "marker": {
             "colorbar": {
              "outlinewidth": 0,
              "ticks": ""
             }
            },
            "type": "histogram"
           }
          ],
          "histogram2d": [
           {
            "colorbar": {
             "outlinewidth": 0,
             "ticks": ""
            },
            "colorscale": [
             [
              0,
              "#0d0887"
             ],
             [
              0.1111111111111111,
              "#46039f"
             ],
             [
              0.2222222222222222,
              "#7201a8"
             ],
             [
              0.3333333333333333,
              "#9c179e"
             ],
             [
              0.4444444444444444,
              "#bd3786"
             ],
             [
              0.5555555555555556,
              "#d8576b"
             ],
             [
              0.6666666666666666,
              "#ed7953"
             ],
             [
              0.7777777777777778,
              "#fb9f3a"
             ],
             [
              0.8888888888888888,
              "#fdca26"
             ],
             [
              1,
              "#f0f921"
             ]
            ],
            "type": "histogram2d"
           }
          ],
          "histogram2dcontour": [
           {
            "colorbar": {
             "outlinewidth": 0,
             "ticks": ""
            },
            "colorscale": [
             [
              0,
              "#0d0887"
             ],
             [
              0.1111111111111111,
              "#46039f"
             ],
             [
              0.2222222222222222,
              "#7201a8"
             ],
             [
              0.3333333333333333,
              "#9c179e"
             ],
             [
              0.4444444444444444,
              "#bd3786"
             ],
             [
              0.5555555555555556,
              "#d8576b"
             ],
             [
              0.6666666666666666,
              "#ed7953"
             ],
             [
              0.7777777777777778,
              "#fb9f3a"
             ],
             [
              0.8888888888888888,
              "#fdca26"
             ],
             [
              1,
              "#f0f921"
             ]
            ],
            "type": "histogram2dcontour"
           }
          ],
          "mesh3d": [
           {
            "colorbar": {
             "outlinewidth": 0,
             "ticks": ""
            },
            "type": "mesh3d"
           }
          ],
          "parcoords": [
           {
            "line": {
             "colorbar": {
              "outlinewidth": 0,
              "ticks": ""
             }
            },
            "type": "parcoords"
           }
          ],
          "pie": [
           {
            "automargin": true,
            "type": "pie"
           }
          ],
          "scatter": [
           {
            "marker": {
             "colorbar": {
              "outlinewidth": 0,
              "ticks": ""
             }
            },
            "type": "scatter"
           }
          ],
          "scatter3d": [
           {
            "line": {
             "colorbar": {
              "outlinewidth": 0,
              "ticks": ""
             }
            },
            "marker": {
             "colorbar": {
              "outlinewidth": 0,
              "ticks": ""
             }
            },
            "type": "scatter3d"
           }
          ],
          "scattercarpet": [
           {
            "marker": {
             "colorbar": {
              "outlinewidth": 0,
              "ticks": ""
             }
            },
            "type": "scattercarpet"
           }
          ],
          "scattergeo": [
           {
            "marker": {
             "colorbar": {
              "outlinewidth": 0,
              "ticks": ""
             }
            },
            "type": "scattergeo"
           }
          ],
          "scattergl": [
           {
            "marker": {
             "colorbar": {
              "outlinewidth": 0,
              "ticks": ""
             }
            },
            "type": "scattergl"
           }
          ],
          "scattermapbox": [
           {
            "marker": {
             "colorbar": {
              "outlinewidth": 0,
              "ticks": ""
             }
            },
            "type": "scattermapbox"
           }
          ],
          "scatterpolar": [
           {
            "marker": {
             "colorbar": {
              "outlinewidth": 0,
              "ticks": ""
             }
            },
            "type": "scatterpolar"
           }
          ],
          "scatterpolargl": [
           {
            "marker": {
             "colorbar": {
              "outlinewidth": 0,
              "ticks": ""
             }
            },
            "type": "scatterpolargl"
           }
          ],
          "scatterternary": [
           {
            "marker": {
             "colorbar": {
              "outlinewidth": 0,
              "ticks": ""
             }
            },
            "type": "scatterternary"
           }
          ],
          "surface": [
           {
            "colorbar": {
             "outlinewidth": 0,
             "ticks": ""
            },
            "colorscale": [
             [
              0,
              "#0d0887"
             ],
             [
              0.1111111111111111,
              "#46039f"
             ],
             [
              0.2222222222222222,
              "#7201a8"
             ],
             [
              0.3333333333333333,
              "#9c179e"
             ],
             [
              0.4444444444444444,
              "#bd3786"
             ],
             [
              0.5555555555555556,
              "#d8576b"
             ],
             [
              0.6666666666666666,
              "#ed7953"
             ],
             [
              0.7777777777777778,
              "#fb9f3a"
             ],
             [
              0.8888888888888888,
              "#fdca26"
             ],
             [
              1,
              "#f0f921"
             ]
            ],
            "type": "surface"
           }
          ],
          "table": [
           {
            "cells": {
             "fill": {
              "color": "#EBF0F8"
             },
             "line": {
              "color": "white"
             }
            },
            "header": {
             "fill": {
              "color": "#C8D4E3"
             },
             "line": {
              "color": "white"
             }
            },
            "type": "table"
           }
          ]
         },
         "layout": {
          "annotationdefaults": {
           "arrowcolor": "#2a3f5f",
           "arrowhead": 0,
           "arrowwidth": 1
          },
          "coloraxis": {
           "colorbar": {
            "outlinewidth": 0,
            "ticks": ""
           }
          },
          "colorscale": {
           "diverging": [
            [
             0,
             "#8e0152"
            ],
            [
             0.1,
             "#c51b7d"
            ],
            [
             0.2,
             "#de77ae"
            ],
            [
             0.3,
             "#f1b6da"
            ],
            [
             0.4,
             "#fde0ef"
            ],
            [
             0.5,
             "#f7f7f7"
            ],
            [
             0.6,
             "#e6f5d0"
            ],
            [
             0.7,
             "#b8e186"
            ],
            [
             0.8,
             "#7fbc41"
            ],
            [
             0.9,
             "#4d9221"
            ],
            [
             1,
             "#276419"
            ]
           ],
           "sequential": [
            [
             0,
             "#0d0887"
            ],
            [
             0.1111111111111111,
             "#46039f"
            ],
            [
             0.2222222222222222,
             "#7201a8"
            ],
            [
             0.3333333333333333,
             "#9c179e"
            ],
            [
             0.4444444444444444,
             "#bd3786"
            ],
            [
             0.5555555555555556,
             "#d8576b"
            ],
            [
             0.6666666666666666,
             "#ed7953"
            ],
            [
             0.7777777777777778,
             "#fb9f3a"
            ],
            [
             0.8888888888888888,
             "#fdca26"
            ],
            [
             1,
             "#f0f921"
            ]
           ],
           "sequentialminus": [
            [
             0,
             "#0d0887"
            ],
            [
             0.1111111111111111,
             "#46039f"
            ],
            [
             0.2222222222222222,
             "#7201a8"
            ],
            [
             0.3333333333333333,
             "#9c179e"
            ],
            [
             0.4444444444444444,
             "#bd3786"
            ],
            [
             0.5555555555555556,
             "#d8576b"
            ],
            [
             0.6666666666666666,
             "#ed7953"
            ],
            [
             0.7777777777777778,
             "#fb9f3a"
            ],
            [
             0.8888888888888888,
             "#fdca26"
            ],
            [
             1,
             "#f0f921"
            ]
           ]
          },
          "colorway": [
           "#636efa",
           "#EF553B",
           "#00cc96",
           "#ab63fa",
           "#FFA15A",
           "#19d3f3",
           "#FF6692",
           "#B6E880",
           "#FF97FF",
           "#FECB52"
          ],
          "font": {
           "color": "#2a3f5f"
          },
          "geo": {
           "bgcolor": "white",
           "lakecolor": "white",
           "landcolor": "#E5ECF6",
           "showlakes": true,
           "showland": true,
           "subunitcolor": "white"
          },
          "hoverlabel": {
           "align": "left"
          },
          "hovermode": "closest",
          "mapbox": {
           "style": "light"
          },
          "paper_bgcolor": "white",
          "plot_bgcolor": "#E5ECF6",
          "polar": {
           "angularaxis": {
            "gridcolor": "white",
            "linecolor": "white",
            "ticks": ""
           },
           "bgcolor": "#E5ECF6",
           "radialaxis": {
            "gridcolor": "white",
            "linecolor": "white",
            "ticks": ""
           }
          },
          "scene": {
           "xaxis": {
            "backgroundcolor": "#E5ECF6",
            "gridcolor": "white",
            "gridwidth": 2,
            "linecolor": "white",
            "showbackground": true,
            "ticks": "",
            "zerolinecolor": "white"
           },
           "yaxis": {
            "backgroundcolor": "#E5ECF6",
            "gridcolor": "white",
            "gridwidth": 2,
            "linecolor": "white",
            "showbackground": true,
            "ticks": "",
            "zerolinecolor": "white"
           },
           "zaxis": {
            "backgroundcolor": "#E5ECF6",
            "gridcolor": "white",
            "gridwidth": 2,
            "linecolor": "white",
            "showbackground": true,
            "ticks": "",
            "zerolinecolor": "white"
           }
          },
          "shapedefaults": {
           "line": {
            "color": "#2a3f5f"
           }
          },
          "ternary": {
           "aaxis": {
            "gridcolor": "white",
            "linecolor": "white",
            "ticks": ""
           },
           "baxis": {
            "gridcolor": "white",
            "linecolor": "white",
            "ticks": ""
           },
           "bgcolor": "#E5ECF6",
           "caxis": {
            "gridcolor": "white",
            "linecolor": "white",
            "ticks": ""
           }
          },
          "title": {
           "x": 0.05
          },
          "xaxis": {
           "automargin": true,
           "gridcolor": "white",
           "linecolor": "white",
           "ticks": "",
           "title": {
            "standoff": 15
           },
           "zerolinecolor": "white",
           "zerolinewidth": 2
          },
          "yaxis": {
           "automargin": true,
           "gridcolor": "white",
           "linecolor": "white",
           "ticks": "",
           "title": {
            "standoff": 15
           },
           "zerolinecolor": "white",
           "zerolinewidth": 2
          }
         }
        },
        "title": {
         "text": "State of the Cluster"
        },
        "width": 800,
        "xaxis": {
         "anchor": "y",
         "domain": [
          0,
          1
         ],
         "matches": "x4",
         "showticklabels": false,
         "title": {
          "text": "time in s"
         }
        },
        "xaxis2": {
         "anchor": "y2",
         "domain": [
          0,
          1
         ],
         "matches": "x4",
         "showticklabels": false,
         "title": {
          "text": "time in s"
         }
        },
        "xaxis3": {
         "anchor": "y3",
         "domain": [
          0,
          1
         ],
         "matches": "x4",
         "showticklabels": false,
         "title": {
          "text": "time in s"
         }
        },
        "xaxis4": {
         "anchor": "y4",
         "domain": [
          0,
          1
         ],
         "title": {
          "text": "time in s"
         }
        },
        "yaxis": {
         "anchor": "x",
         "domain": [
          0.84375,
          1
         ],
         "title": {
          "text": "dataflow in MB/s"
         }
        },
        "yaxis2": {
         "anchor": "x2",
         "domain": [
          0.5625,
          0.71875
         ],
         "title": {
          "text": "BB usage in Bytes"
         }
        },
        "yaxis3": {
         "anchor": "x3",
         "domain": [
          0.28125,
          0.4375
         ],
         "title": {
          "text": "HDD usage in Bytes"
         }
        },
        "yaxis4": {
         "anchor": "x4",
         "domain": [
          0,
          0.15625
         ],
         "title": {
          "text": "CPU usage"
         }
        }
       }
      },
      "text/html": [
       "<div>\n",
       "        \n",
       "        \n",
       "            <div id=\"ab851b16-0bdc-4fe5-b57c-721d5861e2c8\" class=\"plotly-graph-div\" style=\"height:900px; width:800px;\"></div>\n",
       "            <script type=\"text/javascript\">\n",
       "                require([\"plotly\"], function(Plotly) {\n",
       "                    window.PLOTLYENV=window.PLOTLYENV || {};\n",
       "                    \n",
       "                if (document.getElementById(\"ab851b16-0bdc-4fe5-b57c-721d5861e2c8\")) {\n",
       "                    Plotly.newPlot(\n",
       "                        'ab851b16-0bdc-4fe5-b57c-721d5861e2c8',\n",
       "                        [{\"line\": {\"shape\": \"linear\"}, \"name\": \"app#W9\", \"text\": [\"READ|to/from:BB|volume=1.0 GB\", \"READ|to/from:BB|volume=1.0 GB\", \"COMPUTE|volume=0B\", \"COMPUTE|volume=0B\", \"WRITE|to/from:HDD|volume=5.0 GB\", \"WRITE|to/from:HDD|volume=5.0 GB\"], \"textposition\": \"top center\", \"type\": \"scatter\", \"x\": [307.5, 308.75, 308.75, 318.75, 318.75, 443.75], \"xaxis\": \"x\", \"y\": [800.0, 800.0, 0.0, 0.0, 40.0, 40.0], \"yaxis\": \"y\"}, {\"line\": {\"dash\": \"dot\", \"shape\": \"linear\"}, \"name\": \"W9 mvt\", \"text\": [\"MOVEMENT|in:BB|from:HDD|volume=1.0 GB\", \"MOVEMENT|in:BB|volume=1.0 GB\"], \"textposition\": \"top center\", \"type\": \"scatter\", \"x\": [295.0, 307.5], \"xaxis\": \"x\", \"y\": [80.0, 80.0], \"yaxis\": \"y\"}, {\"line\": {\"shape\": \"linear\"}, \"name\": \"BB\", \"showlegend\": false, \"text\": [\"W9|Movement|BB | +volume=1.0 GB\", \"W9|Read|BB | +volume=1.0 GB\", \"W9|Compute | +volume=0B\", \"W9|Write|HDD | +volume=5.0 GB\"], \"textposition\": \"top center\", \"type\": \"scatter\", \"x\": [295.0, 307.5, 308.75, 318.75, 443.75], \"xaxis\": \"x2\", \"y\": [5000000000.0, 6000000000.0, 6000000000.0, 6000000000.0, 6000000000.0], \"yaxis\": \"y2\"}, {\"line\": {\"shape\": \"linear\"}, \"name\": \"HDD\", \"showlegend\": false, \"text\": [\"W9|Movement|BB | +volume=1.0 GB\", \"W9|Read|BB | +volume=1.0 GB\", \"W9|Compute | +volume=0B\", \"W9|Write|HDD | +volume=5.0 GB\"], \"textposition\": \"top center\", \"type\": \"scatter\", \"x\": [295.0, 307.5, 308.75, 318.75, 443.75], \"xaxis\": \"x3\", \"y\": [11000000000.0, 11000000000.0, 11000000000.0, 11000000000.0, 15999999999.999998], \"yaxis\": \"y3\"}, {\"line\": {\"shape\": \"hv\"}, \"showlegend\": false, \"type\": \"scatter\", \"x\": [295.0, 307.5, 308.75, 318.75, 443.75], \"xaxis\": \"x4\", \"y\": [1, 1, 1, 1, 0], \"yaxis\": \"y4\"}, {\"line\": {\"color\": \"red\", \"dash\": \"dot\", \"shape\": \"hv\", \"width\": 3}, \"showlegend\": false, \"text\": [\"Maximum available cores in cluster=2\", \"Maximum available cores in cluster=2\"], \"type\": \"scatter\", \"x\": [295.0, 443.75], \"xaxis\": \"x4\", \"y\": [2, 2], \"yaxis\": \"y4\"}],\n",
       "                        {\"annotations\": [{\"font\": {\"size\": 16}, \"showarrow\": false, \"text\": \"W9\", \"x\": 0.5, \"xanchor\": \"center\", \"xref\": \"paper\", \"y\": 1.0, \"yanchor\": \"bottom\", \"yref\": \"paper\"}, {\"font\": {\"size\": 16}, \"showarrow\": false, \"text\": \"BB (10.0 GB)\", \"x\": 0.5, \"xanchor\": \"center\", \"xref\": \"paper\", \"y\": 0.71875, \"yanchor\": \"bottom\", \"yref\": \"paper\"}, {\"font\": {\"size\": 16}, \"showarrow\": false, \"text\": \"HDD (1.0 TB)\", \"x\": 0.5, \"xanchor\": \"center\", \"xref\": \"paper\", \"y\": 0.4375, \"yanchor\": \"bottom\", \"yref\": \"paper\"}, {\"font\": {\"size\": 16}, \"showarrow\": false, \"text\": \"CPU Cores\", \"x\": 0.5, \"xanchor\": \"center\", \"xref\": \"paper\", \"y\": 0.15625, \"yanchor\": \"bottom\", \"yref\": \"paper\"}], \"height\": 900, \"template\": {\"data\": {\"bar\": [{\"error_x\": {\"color\": \"#2a3f5f\"}, \"error_y\": {\"color\": \"#2a3f5f\"}, \"marker\": {\"line\": {\"color\": \"#E5ECF6\", \"width\": 0.5}}, \"type\": \"bar\"}], \"barpolar\": [{\"marker\": {\"line\": {\"color\": \"#E5ECF6\", \"width\": 0.5}}, \"type\": \"barpolar\"}], \"carpet\": [{\"aaxis\": {\"endlinecolor\": \"#2a3f5f\", \"gridcolor\": \"white\", \"linecolor\": \"white\", \"minorgridcolor\": \"white\", \"startlinecolor\": \"#2a3f5f\"}, \"baxis\": {\"endlinecolor\": \"#2a3f5f\", \"gridcolor\": \"white\", \"linecolor\": \"white\", \"minorgridcolor\": \"white\", \"startlinecolor\": \"#2a3f5f\"}, \"type\": \"carpet\"}], \"choropleth\": [{\"colorbar\": {\"outlinewidth\": 0, \"ticks\": \"\"}, \"type\": \"choropleth\"}], \"contour\": [{\"colorbar\": {\"outlinewidth\": 0, \"ticks\": \"\"}, \"colorscale\": [[0.0, \"#0d0887\"], [0.1111111111111111, \"#46039f\"], [0.2222222222222222, \"#7201a8\"], [0.3333333333333333, \"#9c179e\"], [0.4444444444444444, \"#bd3786\"], [0.5555555555555556, \"#d8576b\"], [0.6666666666666666, \"#ed7953\"], [0.7777777777777778, \"#fb9f3a\"], [0.8888888888888888, \"#fdca26\"], [1.0, \"#f0f921\"]], \"type\": \"contour\"}], \"contourcarpet\": [{\"colorbar\": {\"outlinewidth\": 0, \"ticks\": \"\"}, \"type\": \"contourcarpet\"}], \"heatmap\": [{\"colorbar\": {\"outlinewidth\": 0, \"ticks\": \"\"}, \"colorscale\": [[0.0, \"#0d0887\"], [0.1111111111111111, \"#46039f\"], [0.2222222222222222, \"#7201a8\"], [0.3333333333333333, \"#9c179e\"], [0.4444444444444444, \"#bd3786\"], [0.5555555555555556, \"#d8576b\"], [0.6666666666666666, \"#ed7953\"], [0.7777777777777778, \"#fb9f3a\"], [0.8888888888888888, \"#fdca26\"], [1.0, \"#f0f921\"]], \"type\": \"heatmap\"}], \"heatmapgl\": [{\"colorbar\": {\"outlinewidth\": 0, \"ticks\": \"\"}, \"colorscale\": [[0.0, \"#0d0887\"], [0.1111111111111111, \"#46039f\"], [0.2222222222222222, \"#7201a8\"], [0.3333333333333333, \"#9c179e\"], [0.4444444444444444, \"#bd3786\"], [0.5555555555555556, \"#d8576b\"], [0.6666666666666666, \"#ed7953\"], [0.7777777777777778, \"#fb9f3a\"], [0.8888888888888888, \"#fdca26\"], [1.0, \"#f0f921\"]], \"type\": \"heatmapgl\"}], \"histogram\": [{\"marker\": {\"colorbar\": {\"outlinewidth\": 0, \"ticks\": \"\"}}, \"type\": \"histogram\"}], \"histogram2d\": [{\"colorbar\": {\"outlinewidth\": 0, \"ticks\": \"\"}, \"colorscale\": [[0.0, \"#0d0887\"], [0.1111111111111111, \"#46039f\"], [0.2222222222222222, \"#7201a8\"], [0.3333333333333333, \"#9c179e\"], [0.4444444444444444, \"#bd3786\"], [0.5555555555555556, \"#d8576b\"], [0.6666666666666666, \"#ed7953\"], [0.7777777777777778, \"#fb9f3a\"], [0.8888888888888888, \"#fdca26\"], [1.0, \"#f0f921\"]], \"type\": \"histogram2d\"}], \"histogram2dcontour\": [{\"colorbar\": {\"outlinewidth\": 0, \"ticks\": \"\"}, \"colorscale\": [[0.0, \"#0d0887\"], [0.1111111111111111, \"#46039f\"], [0.2222222222222222, \"#7201a8\"], [0.3333333333333333, \"#9c179e\"], [0.4444444444444444, \"#bd3786\"], [0.5555555555555556, \"#d8576b\"], [0.6666666666666666, \"#ed7953\"], [0.7777777777777778, \"#fb9f3a\"], [0.8888888888888888, \"#fdca26\"], [1.0, \"#f0f921\"]], \"type\": \"histogram2dcontour\"}], \"mesh3d\": [{\"colorbar\": {\"outlinewidth\": 0, \"ticks\": \"\"}, \"type\": \"mesh3d\"}], \"parcoords\": [{\"line\": {\"colorbar\": {\"outlinewidth\": 0, \"ticks\": \"\"}}, \"type\": \"parcoords\"}], \"pie\": [{\"automargin\": true, \"type\": \"pie\"}], \"scatter\": [{\"marker\": {\"colorbar\": {\"outlinewidth\": 0, \"ticks\": \"\"}}, \"type\": \"scatter\"}], \"scatter3d\": [{\"line\": {\"colorbar\": {\"outlinewidth\": 0, \"ticks\": \"\"}}, \"marker\": {\"colorbar\": {\"outlinewidth\": 0, \"ticks\": \"\"}}, \"type\": \"scatter3d\"}], \"scattercarpet\": [{\"marker\": {\"colorbar\": {\"outlinewidth\": 0, \"ticks\": \"\"}}, \"type\": \"scattercarpet\"}], \"scattergeo\": [{\"marker\": {\"colorbar\": {\"outlinewidth\": 0, \"ticks\": \"\"}}, \"type\": \"scattergeo\"}], \"scattergl\": [{\"marker\": {\"colorbar\": {\"outlinewidth\": 0, \"ticks\": \"\"}}, \"type\": \"scattergl\"}], \"scattermapbox\": [{\"marker\": {\"colorbar\": {\"outlinewidth\": 0, \"ticks\": \"\"}}, \"type\": \"scattermapbox\"}], \"scatterpolar\": [{\"marker\": {\"colorbar\": {\"outlinewidth\": 0, \"ticks\": \"\"}}, \"type\": \"scatterpolar\"}], \"scatterpolargl\": [{\"marker\": {\"colorbar\": {\"outlinewidth\": 0, \"ticks\": \"\"}}, \"type\": \"scatterpolargl\"}], \"scatterternary\": [{\"marker\": {\"colorbar\": {\"outlinewidth\": 0, \"ticks\": \"\"}}, \"type\": \"scatterternary\"}], \"surface\": [{\"colorbar\": {\"outlinewidth\": 0, \"ticks\": \"\"}, \"colorscale\": [[0.0, \"#0d0887\"], [0.1111111111111111, \"#46039f\"], [0.2222222222222222, \"#7201a8\"], [0.3333333333333333, \"#9c179e\"], [0.4444444444444444, \"#bd3786\"], [0.5555555555555556, \"#d8576b\"], [0.6666666666666666, \"#ed7953\"], [0.7777777777777778, \"#fb9f3a\"], [0.8888888888888888, \"#fdca26\"], [1.0, \"#f0f921\"]], \"type\": \"surface\"}], \"table\": [{\"cells\": {\"fill\": {\"color\": \"#EBF0F8\"}, \"line\": {\"color\": \"white\"}}, \"header\": {\"fill\": {\"color\": \"#C8D4E3\"}, \"line\": {\"color\": \"white\"}}, \"type\": \"table\"}]}, \"layout\": {\"annotationdefaults\": {\"arrowcolor\": \"#2a3f5f\", \"arrowhead\": 0, \"arrowwidth\": 1}, \"coloraxis\": {\"colorbar\": {\"outlinewidth\": 0, \"ticks\": \"\"}}, \"colorscale\": {\"diverging\": [[0, \"#8e0152\"], [0.1, \"#c51b7d\"], [0.2, \"#de77ae\"], [0.3, \"#f1b6da\"], [0.4, \"#fde0ef\"], [0.5, \"#f7f7f7\"], [0.6, \"#e6f5d0\"], [0.7, \"#b8e186\"], [0.8, \"#7fbc41\"], [0.9, \"#4d9221\"], [1, \"#276419\"]], \"sequential\": [[0.0, \"#0d0887\"], [0.1111111111111111, \"#46039f\"], [0.2222222222222222, \"#7201a8\"], [0.3333333333333333, \"#9c179e\"], [0.4444444444444444, \"#bd3786\"], [0.5555555555555556, \"#d8576b\"], [0.6666666666666666, \"#ed7953\"], [0.7777777777777778, \"#fb9f3a\"], [0.8888888888888888, \"#fdca26\"], [1.0, \"#f0f921\"]], \"sequentialminus\": [[0.0, \"#0d0887\"], [0.1111111111111111, \"#46039f\"], [0.2222222222222222, \"#7201a8\"], [0.3333333333333333, \"#9c179e\"], [0.4444444444444444, \"#bd3786\"], [0.5555555555555556, \"#d8576b\"], [0.6666666666666666, \"#ed7953\"], [0.7777777777777778, \"#fb9f3a\"], [0.8888888888888888, \"#fdca26\"], [1.0, \"#f0f921\"]]}, \"colorway\": [\"#636efa\", \"#EF553B\", \"#00cc96\", \"#ab63fa\", \"#FFA15A\", \"#19d3f3\", \"#FF6692\", \"#B6E880\", \"#FF97FF\", \"#FECB52\"], \"font\": {\"color\": \"#2a3f5f\"}, \"geo\": {\"bgcolor\": \"white\", \"lakecolor\": \"white\", \"landcolor\": \"#E5ECF6\", \"showlakes\": true, \"showland\": true, \"subunitcolor\": \"white\"}, \"hoverlabel\": {\"align\": \"left\"}, \"hovermode\": \"closest\", \"mapbox\": {\"style\": \"light\"}, \"paper_bgcolor\": \"white\", \"plot_bgcolor\": \"#E5ECF6\", \"polar\": {\"angularaxis\": {\"gridcolor\": \"white\", \"linecolor\": \"white\", \"ticks\": \"\"}, \"bgcolor\": \"#E5ECF6\", \"radialaxis\": {\"gridcolor\": \"white\", \"linecolor\": \"white\", \"ticks\": \"\"}}, \"scene\": {\"xaxis\": {\"backgroundcolor\": \"#E5ECF6\", \"gridcolor\": \"white\", \"gridwidth\": 2, \"linecolor\": \"white\", \"showbackground\": true, \"ticks\": \"\", \"zerolinecolor\": \"white\"}, \"yaxis\": {\"backgroundcolor\": \"#E5ECF6\", \"gridcolor\": \"white\", \"gridwidth\": 2, \"linecolor\": \"white\", \"showbackground\": true, \"ticks\": \"\", \"zerolinecolor\": \"white\"}, \"zaxis\": {\"backgroundcolor\": \"#E5ECF6\", \"gridcolor\": \"white\", \"gridwidth\": 2, \"linecolor\": \"white\", \"showbackground\": true, \"ticks\": \"\", \"zerolinecolor\": \"white\"}}, \"shapedefaults\": {\"line\": {\"color\": \"#2a3f5f\"}}, \"ternary\": {\"aaxis\": {\"gridcolor\": \"white\", \"linecolor\": \"white\", \"ticks\": \"\"}, \"baxis\": {\"gridcolor\": \"white\", \"linecolor\": \"white\", \"ticks\": \"\"}, \"bgcolor\": \"#E5ECF6\", \"caxis\": {\"gridcolor\": \"white\", \"linecolor\": \"white\", \"ticks\": \"\"}}, \"title\": {\"x\": 0.05}, \"xaxis\": {\"automargin\": true, \"gridcolor\": \"white\", \"linecolor\": \"white\", \"ticks\": \"\", \"title\": {\"standoff\": 15}, \"zerolinecolor\": \"white\", \"zerolinewidth\": 2}, \"yaxis\": {\"automargin\": true, \"gridcolor\": \"white\", \"linecolor\": \"white\", \"ticks\": \"\", \"title\": {\"standoff\": 15}, \"zerolinecolor\": \"white\", \"zerolinewidth\": 2}}}, \"title\": {\"text\": \"State of the Cluster\"}, \"width\": 800, \"xaxis\": {\"anchor\": \"y\", \"domain\": [0.0, 1.0], \"matches\": \"x4\", \"showticklabels\": false, \"title\": {\"text\": \"time in s\"}}, \"xaxis2\": {\"anchor\": \"y2\", \"domain\": [0.0, 1.0], \"matches\": \"x4\", \"showticklabels\": false, \"title\": {\"text\": \"time in s\"}}, \"xaxis3\": {\"anchor\": \"y3\", \"domain\": [0.0, 1.0], \"matches\": \"x4\", \"showticklabels\": false, \"title\": {\"text\": \"time in s\"}}, \"xaxis4\": {\"anchor\": \"y4\", \"domain\": [0.0, 1.0], \"title\": {\"text\": \"time in s\"}}, \"yaxis\": {\"anchor\": \"x\", \"domain\": [0.84375, 1.0], \"title\": {\"text\": \"dataflow in MB/s\"}}, \"yaxis2\": {\"anchor\": \"x2\", \"domain\": [0.5625, 0.71875], \"title\": {\"text\": \"BB usage in Bytes\"}}, \"yaxis3\": {\"anchor\": \"x3\", \"domain\": [0.28125, 0.4375], \"title\": {\"text\": \"HDD usage in Bytes\"}}, \"yaxis4\": {\"anchor\": \"x4\", \"domain\": [0.0, 0.15625], \"title\": {\"text\": \"CPU usage\"}}},\n",
       "                        {\"responsive\": true}\n",
       "                    ).then(function(){\n",
       "                            \n",
       "var gd = document.getElementById('ab851b16-0bdc-4fe5-b57c-721d5861e2c8');\n",
       "var x = new MutationObserver(function (mutations, observer) {{\n",
       "        var display = window.getComputedStyle(gd).display;\n",
       "        if (!display || display === 'none') {{\n",
       "            console.log([gd, 'removed!']);\n",
       "            Plotly.purge(gd);\n",
       "            observer.disconnect();\n",
       "        }}\n",
       "}});\n",
       "\n",
       "// Listen for the removal of the full notebook cells\n",
       "var notebookContainer = gd.closest('#notebook-container');\n",
       "if (notebookContainer) {{\n",
       "    x.observe(notebookContainer, {childList: true});\n",
       "}}\n",
       "\n",
       "// Listen for the clearing of the current output cell\n",
       "var outputEl = gd.closest('.output');\n",
       "if (outputEl) {{\n",
       "    x.observe(outputEl, {childList: true});\n",
       "}}\n",
       "\n",
       "                        })\n",
       "                };\n",
       "                });\n",
       "            </script>\n",
       "        </div>"
      ]
     },
     "metadata": {},
     "output_type": "display_data"
    }
   ],
   "source": [
    "# logger\n",
    "# sim env an data\n",
    "data = simpy.Store(env)\n",
    "logger.remove()\n",
    "# Simple app: read 1GB -> compute 10s -> write 5GB\n",
    "compute = [0,  10]\n",
    "read = [1e9, 0]\n",
    "write = [0, 5e9]\n",
    "placement = [0, 0]\n",
    "use_bb = [True, False]\n",
    "app = Application(env, compute=compute, read=read, write=write, data=data)\n",
    "env.process(app.run(cluster, placement=placement, use_bb=use_bb))\n",
    "env.run()\n",
    "print(f\"application duration = {app.get_fitness()}\")\n",
    "fig = display_run(data, cluster, width=800, height=900)\n",
    "fig.show()"
   ]
  },
  {
   "cell_type": "markdown",
   "metadata": {},
   "source": [
    "Burst Buffer Saturation\n",
    " - will choose bb_size < 5GB (max used size)\n",
    " "
   ]
  },
  {
   "cell_type": "code",
   "execution_count": 10,
   "metadata": {},
   "outputs": [
    {
     "name": "stdout",
     "output_type": "stream",
     "text": [
      "application duration = 47.5\n"
     ]
    },
    {
     "data": {
      "application/vnd.plotly.v1+json": {
       "config": {
        "plotlyServerURL": "https://plot.ly"
       },
       "data": [
        {
         "line": {
          "shape": "linear"
         },
         "name": "app#U7",
         "text": [
          "READ|to/from:HDD|volume=1.0 GB",
          "READ|to/from:HDD|volume=1.0 GB",
          "COMPUTE|volume=0B",
          "COMPUTE|volume=0B",
          "WRITE|to/from:BB|volume=4.5 GB",
          "WRITE|to/from:BB|volume=4.5 GB",
          "EVICTION|to/from:HDD|volume=900.0 MB",
          "EVICTION|to/from:HDD|volume=900.0 MB",
          "WRITE|to/from:BB|volume=500.0 MB",
          "WRITE|to/from:BB|volume=500.0 MB",
          "EVICTION|to/from:HDD|volume=100.0 MB",
          "EVICTION|to/from:HDD|volume=100.0 MB"
         ],
         "textposition": "top center",
         "type": "scatter",
         "x": [
          443.75,
          456.25,
          456.25,
          466.25,
          466.25,
          488.75,
          488.75,
          488.75,
          488.75,
          491.25,
          491.25,
          491.25
         ],
         "xaxis": "x",
         "y": [
          80,
          80,
          0,
          0,
          200,
          200,
          null,
          null,
          200,
          200,
          null,
          null
         ],
         "yaxis": "y"
        },
        {
         "line": {
          "dash": "dot",
          "shape": "linear"
         },
         "name": "U7 mvt",
         "text": [
          "MOVEMENT|in:HDD|from:BB|volume=900.0 MB",
          "MOVEMENT|in:HDD|volume=900.0 MB",
          "MOVEMENT|in:HDD|from:BB|volume=100.0 MB",
          "MOVEMENT|in:HDD|volume=100.0 MB",
          "MOVEMENT|in:HDD|from:BB|volume=4.0 GB",
          "MOVEMENT|in:HDD|volume=4.0 GB"
         ],
         "textposition": "top center",
         "type": "scatter",
         "x": [
          466.25,
          488.75,
          488.75,
          491.25,
          491.25,
          591.25
         ],
         "xaxis": "x",
         "y": [
          40,
          40,
          40,
          40,
          40,
          40
         ],
         "yaxis": "y"
        },
        {
         "line": {
          "shape": "linear"
         },
         "name": "BB",
         "showlegend": false,
         "text": [
          "U7|Read|HDD | +volume=1.0 GB",
          "U7|Compute | +volume=0B",
          "U7|Write|BB | +volume=4.5 GB",
          "U7|Movement|HDD | +volume=900.0 MB",
          "U7|Eviction|HDD | +volume=900.0 MB",
          "U7|Write|BB | +volume=500.0 MB",
          "U7|Movement|HDD | +volume=100.0 MB",
          "U7|Eviction|HDD | +volume=100.0 MB",
          "U7|Movement|HDD | +volume=4.0 GB"
         ],
         "textposition": "top center",
         "type": "scatter",
         "x": [
          443.75,
          456.25,
          466.25,
          488.75,
          491.25,
          591.25
         ],
         "xaxis": "x2",
         "y": [
          0,
          0,
          0,
          3600000000,
          4000000000,
          4000000000
         ],
         "yaxis": "y2"
        },
        {
         "line": {
          "color": "black",
          "shape": "linear"
         },
         "name": " Eviction",
         "showlegend": false,
         "text": [
          "EVICTION|IN:BB|volume=900.0 MB",
          "EVICTION|IN:BB|volume=900.0 MB",
          "EVICTION|IN:BB|volume=100.0 MB",
          "EVICTION|IN:BB|volume=100.0 MB"
         ],
         "textposition": "top center",
         "type": "scatter",
         "x": [
          488.75,
          488.75
         ],
         "xaxis": "x2",
         "y": [
          4500000000,
          3600000000
         ],
         "yaxis": "y2"
        },
        {
         "line": {
          "color": "black",
          "shape": "linear"
         },
         "name": " Eviction",
         "showlegend": false,
         "text": [
          "EVICTION|IN:BB|volume=900.0 MB",
          "EVICTION|IN:BB|volume=900.0 MB",
          "EVICTION|IN:BB|volume=100.0 MB",
          "EVICTION|IN:BB|volume=100.0 MB"
         ],
         "textposition": "top center",
         "type": "scatter",
         "x": [
          491.25,
          491.25
         ],
         "xaxis": "x2",
         "y": [
          4100000000,
          4000000000
         ],
         "yaxis": "y2"
        },
        {
         "line": {
          "shape": "linear"
         },
         "name": "HDD",
         "showlegend": false,
         "text": [
          "U7|Read|HDD | +volume=1.0 GB",
          "U7|Compute | +volume=0B",
          "U7|Write|BB | +volume=4.5 GB",
          "U7|Movement|HDD | +volume=900.0 MB",
          "U7|Eviction|HDD | +volume=900.0 MB",
          "U7|Write|BB | +volume=500.0 MB",
          "U7|Movement|HDD | +volume=100.0 MB",
          "U7|Eviction|HDD | +volume=100.0 MB",
          "U7|Movement|HDD | +volume=4.0 GB"
         ],
         "textposition": "top center",
         "type": "scatter",
         "x": [
          443.75,
          456.25,
          466.25,
          488.75,
          491.25,
          591.25
         ],
         "xaxis": "x3",
         "y": [
          15999999999.999998,
          15999999999.999998,
          15999999999.999998,
          16900000000,
          17000000000,
          21000000000.000004
         ],
         "yaxis": "y3"
        },
        {
         "line": {
          "shape": "hv"
         },
         "showlegend": false,
         "type": "scatter",
         "x": [
          443.75,
          456.25,
          466.25,
          488.75,
          491.25,
          591.25
         ],
         "xaxis": "x4",
         "y": [
          1,
          1,
          2,
          2,
          1,
          0
         ],
         "yaxis": "y4"
        },
        {
         "line": {
          "color": "red",
          "dash": "dot",
          "shape": "hv",
          "width": 3
         },
         "showlegend": false,
         "text": [
          "Maximum available cores in cluster=2",
          "Maximum available cores in cluster=2"
         ],
         "type": "scatter",
         "x": [
          443.75,
          591.25
         ],
         "xaxis": "x4",
         "y": [
          2,
          2
         ],
         "yaxis": "y4"
        }
       ],
       "layout": {
        "annotations": [
         {
          "font": {
           "size": 16
          },
          "showarrow": false,
          "text": "U7",
          "x": 0.5,
          "xanchor": "center",
          "xref": "paper",
          "y": 1,
          "yanchor": "bottom",
          "yref": "paper"
         },
         {
          "font": {
           "size": 16
          },
          "showarrow": false,
          "text": "BB (4.5 GB)",
          "x": 0.5,
          "xanchor": "center",
          "xref": "paper",
          "y": 0.71875,
          "yanchor": "bottom",
          "yref": "paper"
         },
         {
          "font": {
           "size": 16
          },
          "showarrow": false,
          "text": "HDD (1.0 TB)",
          "x": 0.5,
          "xanchor": "center",
          "xref": "paper",
          "y": 0.4375,
          "yanchor": "bottom",
          "yref": "paper"
         },
         {
          "font": {
           "size": 16
          },
          "showarrow": false,
          "text": "CPU Cores",
          "x": 0.5,
          "xanchor": "center",
          "xref": "paper",
          "y": 0.15625,
          "yanchor": "bottom",
          "yref": "paper"
         }
        ],
        "height": 900,
        "template": {
         "data": {
          "bar": [
           {
            "error_x": {
             "color": "#2a3f5f"
            },
            "error_y": {
             "color": "#2a3f5f"
            },
            "marker": {
             "line": {
              "color": "#E5ECF6",
              "width": 0.5
             }
            },
            "type": "bar"
           }
          ],
          "barpolar": [
           {
            "marker": {
             "line": {
              "color": "#E5ECF6",
              "width": 0.5
             }
            },
            "type": "barpolar"
           }
          ],
          "carpet": [
           {
            "aaxis": {
             "endlinecolor": "#2a3f5f",
             "gridcolor": "white",
             "linecolor": "white",
             "minorgridcolor": "white",
             "startlinecolor": "#2a3f5f"
            },
            "baxis": {
             "endlinecolor": "#2a3f5f",
             "gridcolor": "white",
             "linecolor": "white",
             "minorgridcolor": "white",
             "startlinecolor": "#2a3f5f"
            },
            "type": "carpet"
           }
          ],
          "choropleth": [
           {
            "colorbar": {
             "outlinewidth": 0,
             "ticks": ""
            },
            "type": "choropleth"
           }
          ],
          "contour": [
           {
            "colorbar": {
             "outlinewidth": 0,
             "ticks": ""
            },
            "colorscale": [
             [
              0,
              "#0d0887"
             ],
             [
              0.1111111111111111,
              "#46039f"
             ],
             [
              0.2222222222222222,
              "#7201a8"
             ],
             [
              0.3333333333333333,
              "#9c179e"
             ],
             [
              0.4444444444444444,
              "#bd3786"
             ],
             [
              0.5555555555555556,
              "#d8576b"
             ],
             [
              0.6666666666666666,
              "#ed7953"
             ],
             [
              0.7777777777777778,
              "#fb9f3a"
             ],
             [
              0.8888888888888888,
              "#fdca26"
             ],
             [
              1,
              "#f0f921"
             ]
            ],
            "type": "contour"
           }
          ],
          "contourcarpet": [
           {
            "colorbar": {
             "outlinewidth": 0,
             "ticks": ""
            },
            "type": "contourcarpet"
           }
          ],
          "heatmap": [
           {
            "colorbar": {
             "outlinewidth": 0,
             "ticks": ""
            },
            "colorscale": [
             [
              0,
              "#0d0887"
             ],
             [
              0.1111111111111111,
              "#46039f"
             ],
             [
              0.2222222222222222,
              "#7201a8"
             ],
             [
              0.3333333333333333,
              "#9c179e"
             ],
             [
              0.4444444444444444,
              "#bd3786"
             ],
             [
              0.5555555555555556,
              "#d8576b"
             ],
             [
              0.6666666666666666,
              "#ed7953"
             ],
             [
              0.7777777777777778,
              "#fb9f3a"
             ],
             [
              0.8888888888888888,
              "#fdca26"
             ],
             [
              1,
              "#f0f921"
             ]
            ],
            "type": "heatmap"
           }
          ],
          "heatmapgl": [
           {
            "colorbar": {
             "outlinewidth": 0,
             "ticks": ""
            },
            "colorscale": [
             [
              0,
              "#0d0887"
             ],
             [
              0.1111111111111111,
              "#46039f"
             ],
             [
              0.2222222222222222,
              "#7201a8"
             ],
             [
              0.3333333333333333,
              "#9c179e"
             ],
             [
              0.4444444444444444,
              "#bd3786"
             ],
             [
              0.5555555555555556,
              "#d8576b"
             ],
             [
              0.6666666666666666,
              "#ed7953"
             ],
             [
              0.7777777777777778,
              "#fb9f3a"
             ],
             [
              0.8888888888888888,
              "#fdca26"
             ],
             [
              1,
              "#f0f921"
             ]
            ],
            "type": "heatmapgl"
           }
          ],
          "histogram": [
           {
            "marker": {
             "colorbar": {
              "outlinewidth": 0,
              "ticks": ""
             }
            },
            "type": "histogram"
           }
          ],
          "histogram2d": [
           {
            "colorbar": {
             "outlinewidth": 0,
             "ticks": ""
            },
            "colorscale": [
             [
              0,
              "#0d0887"
             ],
             [
              0.1111111111111111,
              "#46039f"
             ],
             [
              0.2222222222222222,
              "#7201a8"
             ],
             [
              0.3333333333333333,
              "#9c179e"
             ],
             [
              0.4444444444444444,
              "#bd3786"
             ],
             [
              0.5555555555555556,
              "#d8576b"
             ],
             [
              0.6666666666666666,
              "#ed7953"
             ],
             [
              0.7777777777777778,
              "#fb9f3a"
             ],
             [
              0.8888888888888888,
              "#fdca26"
             ],
             [
              1,
              "#f0f921"
             ]
            ],
            "type": "histogram2d"
           }
          ],
          "histogram2dcontour": [
           {
            "colorbar": {
             "outlinewidth": 0,
             "ticks": ""
            },
            "colorscale": [
             [
              0,
              "#0d0887"
             ],
             [
              0.1111111111111111,
              "#46039f"
             ],
             [
              0.2222222222222222,
              "#7201a8"
             ],
             [
              0.3333333333333333,
              "#9c179e"
             ],
             [
              0.4444444444444444,
              "#bd3786"
             ],
             [
              0.5555555555555556,
              "#d8576b"
             ],
             [
              0.6666666666666666,
              "#ed7953"
             ],
             [
              0.7777777777777778,
              "#fb9f3a"
             ],
             [
              0.8888888888888888,
              "#fdca26"
             ],
             [
              1,
              "#f0f921"
             ]
            ],
            "type": "histogram2dcontour"
           }
          ],
          "mesh3d": [
           {
            "colorbar": {
             "outlinewidth": 0,
             "ticks": ""
            },
            "type": "mesh3d"
           }
          ],
          "parcoords": [
           {
            "line": {
             "colorbar": {
              "outlinewidth": 0,
              "ticks": ""
             }
            },
            "type": "parcoords"
           }
          ],
          "pie": [
           {
            "automargin": true,
            "type": "pie"
           }
          ],
          "scatter": [
           {
            "marker": {
             "colorbar": {
              "outlinewidth": 0,
              "ticks": ""
             }
            },
            "type": "scatter"
           }
          ],
          "scatter3d": [
           {
            "line": {
             "colorbar": {
              "outlinewidth": 0,
              "ticks": ""
             }
            },
            "marker": {
             "colorbar": {
              "outlinewidth": 0,
              "ticks": ""
             }
            },
            "type": "scatter3d"
           }
          ],
          "scattercarpet": [
           {
            "marker": {
             "colorbar": {
              "outlinewidth": 0,
              "ticks": ""
             }
            },
            "type": "scattercarpet"
           }
          ],
          "scattergeo": [
           {
            "marker": {
             "colorbar": {
              "outlinewidth": 0,
              "ticks": ""
             }
            },
            "type": "scattergeo"
           }
          ],
          "scattergl": [
           {
            "marker": {
             "colorbar": {
              "outlinewidth": 0,
              "ticks": ""
             }
            },
            "type": "scattergl"
           }
          ],
          "scattermapbox": [
           {
            "marker": {
             "colorbar": {
              "outlinewidth": 0,
              "ticks": ""
             }
            },
            "type": "scattermapbox"
           }
          ],
          "scatterpolar": [
           {
            "marker": {
             "colorbar": {
              "outlinewidth": 0,
              "ticks": ""
             }
            },
            "type": "scatterpolar"
           }
          ],
          "scatterpolargl": [
           {
            "marker": {
             "colorbar": {
              "outlinewidth": 0,
              "ticks": ""
             }
            },
            "type": "scatterpolargl"
           }
          ],
          "scatterternary": [
           {
            "marker": {
             "colorbar": {
              "outlinewidth": 0,
              "ticks": ""
             }
            },
            "type": "scatterternary"
           }
          ],
          "surface": [
           {
            "colorbar": {
             "outlinewidth": 0,
             "ticks": ""
            },
            "colorscale": [
             [
              0,
              "#0d0887"
             ],
             [
              0.1111111111111111,
              "#46039f"
             ],
             [
              0.2222222222222222,
              "#7201a8"
             ],
             [
              0.3333333333333333,
              "#9c179e"
             ],
             [
              0.4444444444444444,
              "#bd3786"
             ],
             [
              0.5555555555555556,
              "#d8576b"
             ],
             [
              0.6666666666666666,
              "#ed7953"
             ],
             [
              0.7777777777777778,
              "#fb9f3a"
             ],
             [
              0.8888888888888888,
              "#fdca26"
             ],
             [
              1,
              "#f0f921"
             ]
            ],
            "type": "surface"
           }
          ],
          "table": [
           {
            "cells": {
             "fill": {
              "color": "#EBF0F8"
             },
             "line": {
              "color": "white"
             }
            },
            "header": {
             "fill": {
              "color": "#C8D4E3"
             },
             "line": {
              "color": "white"
             }
            },
            "type": "table"
           }
          ]
         },
         "layout": {
          "annotationdefaults": {
           "arrowcolor": "#2a3f5f",
           "arrowhead": 0,
           "arrowwidth": 1
          },
          "coloraxis": {
           "colorbar": {
            "outlinewidth": 0,
            "ticks": ""
           }
          },
          "colorscale": {
           "diverging": [
            [
             0,
             "#8e0152"
            ],
            [
             0.1,
             "#c51b7d"
            ],
            [
             0.2,
             "#de77ae"
            ],
            [
             0.3,
             "#f1b6da"
            ],
            [
             0.4,
             "#fde0ef"
            ],
            [
             0.5,
             "#f7f7f7"
            ],
            [
             0.6,
             "#e6f5d0"
            ],
            [
             0.7,
             "#b8e186"
            ],
            [
             0.8,
             "#7fbc41"
            ],
            [
             0.9,
             "#4d9221"
            ],
            [
             1,
             "#276419"
            ]
           ],
           "sequential": [
            [
             0,
             "#0d0887"
            ],
            [
             0.1111111111111111,
             "#46039f"
            ],
            [
             0.2222222222222222,
             "#7201a8"
            ],
            [
             0.3333333333333333,
             "#9c179e"
            ],
            [
             0.4444444444444444,
             "#bd3786"
            ],
            [
             0.5555555555555556,
             "#d8576b"
            ],
            [
             0.6666666666666666,
             "#ed7953"
            ],
            [
             0.7777777777777778,
             "#fb9f3a"
            ],
            [
             0.8888888888888888,
             "#fdca26"
            ],
            [
             1,
             "#f0f921"
            ]
           ],
           "sequentialminus": [
            [
             0,
             "#0d0887"
            ],
            [
             0.1111111111111111,
             "#46039f"
            ],
            [
             0.2222222222222222,
             "#7201a8"
            ],
            [
             0.3333333333333333,
             "#9c179e"
            ],
            [
             0.4444444444444444,
             "#bd3786"
            ],
            [
             0.5555555555555556,
             "#d8576b"
            ],
            [
             0.6666666666666666,
             "#ed7953"
            ],
            [
             0.7777777777777778,
             "#fb9f3a"
            ],
            [
             0.8888888888888888,
             "#fdca26"
            ],
            [
             1,
             "#f0f921"
            ]
           ]
          },
          "colorway": [
           "#636efa",
           "#EF553B",
           "#00cc96",
           "#ab63fa",
           "#FFA15A",
           "#19d3f3",
           "#FF6692",
           "#B6E880",
           "#FF97FF",
           "#FECB52"
          ],
          "font": {
           "color": "#2a3f5f"
          },
          "geo": {
           "bgcolor": "white",
           "lakecolor": "white",
           "landcolor": "#E5ECF6",
           "showlakes": true,
           "showland": true,
           "subunitcolor": "white"
          },
          "hoverlabel": {
           "align": "left"
          },
          "hovermode": "closest",
          "mapbox": {
           "style": "light"
          },
          "paper_bgcolor": "white",
          "plot_bgcolor": "#E5ECF6",
          "polar": {
           "angularaxis": {
            "gridcolor": "white",
            "linecolor": "white",
            "ticks": ""
           },
           "bgcolor": "#E5ECF6",
           "radialaxis": {
            "gridcolor": "white",
            "linecolor": "white",
            "ticks": ""
           }
          },
          "scene": {
           "xaxis": {
            "backgroundcolor": "#E5ECF6",
            "gridcolor": "white",
            "gridwidth": 2,
            "linecolor": "white",
            "showbackground": true,
            "ticks": "",
            "zerolinecolor": "white"
           },
           "yaxis": {
            "backgroundcolor": "#E5ECF6",
            "gridcolor": "white",
            "gridwidth": 2,
            "linecolor": "white",
            "showbackground": true,
            "ticks": "",
            "zerolinecolor": "white"
           },
           "zaxis": {
            "backgroundcolor": "#E5ECF6",
            "gridcolor": "white",
            "gridwidth": 2,
            "linecolor": "white",
            "showbackground": true,
            "ticks": "",
            "zerolinecolor": "white"
           }
          },
          "shapedefaults": {
           "line": {
            "color": "#2a3f5f"
           }
          },
          "ternary": {
           "aaxis": {
            "gridcolor": "white",
            "linecolor": "white",
            "ticks": ""
           },
           "baxis": {
            "gridcolor": "white",
            "linecolor": "white",
            "ticks": ""
           },
           "bgcolor": "#E5ECF6",
           "caxis": {
            "gridcolor": "white",
            "linecolor": "white",
            "ticks": ""
           }
          },
          "title": {
           "x": 0.05
          },
          "xaxis": {
           "automargin": true,
           "gridcolor": "white",
           "linecolor": "white",
           "ticks": "",
           "title": {
            "standoff": 15
           },
           "zerolinecolor": "white",
           "zerolinewidth": 2
          },
          "yaxis": {
           "automargin": true,
           "gridcolor": "white",
           "linecolor": "white",
           "ticks": "",
           "title": {
            "standoff": 15
           },
           "zerolinecolor": "white",
           "zerolinewidth": 2
          }
         }
        },
        "title": {
         "text": "State of the Cluster"
        },
        "width": 800,
        "xaxis": {
         "anchor": "y",
         "domain": [
          0,
          1
         ],
         "matches": "x4",
         "showticklabels": false,
         "title": {
          "text": "time in s"
         }
        },
        "xaxis2": {
         "anchor": "y2",
         "domain": [
          0,
          1
         ],
         "matches": "x4",
         "showticklabels": false,
         "title": {
          "text": "time in s"
         }
        },
        "xaxis3": {
         "anchor": "y3",
         "domain": [
          0,
          1
         ],
         "matches": "x4",
         "showticklabels": false,
         "title": {
          "text": "time in s"
         }
        },
        "xaxis4": {
         "anchor": "y4",
         "domain": [
          0,
          1
         ],
         "title": {
          "text": "time in s"
         }
        },
        "yaxis": {
         "anchor": "x",
         "domain": [
          0.84375,
          1
         ],
         "title": {
          "text": "dataflow in MB/s"
         }
        },
        "yaxis2": {
         "anchor": "x2",
         "domain": [
          0.5625,
          0.71875
         ],
         "title": {
          "text": "BB usage in Bytes"
         }
        },
        "yaxis3": {
         "anchor": "x3",
         "domain": [
          0.28125,
          0.4375
         ],
         "title": {
          "text": "HDD usage in Bytes"
         }
        },
        "yaxis4": {
         "anchor": "x4",
         "domain": [
          0,
          0.15625
         ],
         "title": {
          "text": "CPU usage"
         }
        }
       }
      },
      "text/html": [
       "<div>\n",
       "        \n",
       "        \n",
       "            <div id=\"5f9417d8-40fb-4219-ab98-3fbb8b781b21\" class=\"plotly-graph-div\" style=\"height:900px; width:800px;\"></div>\n",
       "            <script type=\"text/javascript\">\n",
       "                require([\"plotly\"], function(Plotly) {\n",
       "                    window.PLOTLYENV=window.PLOTLYENV || {};\n",
       "                    \n",
       "                if (document.getElementById(\"5f9417d8-40fb-4219-ab98-3fbb8b781b21\")) {\n",
       "                    Plotly.newPlot(\n",
       "                        '5f9417d8-40fb-4219-ab98-3fbb8b781b21',\n",
       "                        [{\"line\": {\"shape\": \"linear\"}, \"name\": \"app#U7\", \"text\": [\"READ|to/from:HDD|volume=1.0 GB\", \"READ|to/from:HDD|volume=1.0 GB\", \"COMPUTE|volume=0B\", \"COMPUTE|volume=0B\", \"WRITE|to/from:BB|volume=4.5 GB\", \"WRITE|to/from:BB|volume=4.5 GB\", \"EVICTION|to/from:HDD|volume=900.0 MB\", \"EVICTION|to/from:HDD|volume=900.0 MB\", \"WRITE|to/from:BB|volume=500.0 MB\", \"WRITE|to/from:BB|volume=500.0 MB\", \"EVICTION|to/from:HDD|volume=100.0 MB\", \"EVICTION|to/from:HDD|volume=100.0 MB\"], \"textposition\": \"top center\", \"type\": \"scatter\", \"x\": [443.75, 456.25, 456.25, 466.25, 466.25, 488.75, 488.75, 488.75, 488.75, 491.25, 491.25, 491.25], \"xaxis\": \"x\", \"y\": [80.0, 80.0, 0.0, 0.0, 200.0, 200.0, null, null, 200.0, 200.0, null, null], \"yaxis\": \"y\"}, {\"line\": {\"dash\": \"dot\", \"shape\": \"linear\"}, \"name\": \"U7 mvt\", \"text\": [\"MOVEMENT|in:HDD|from:BB|volume=900.0 MB\", \"MOVEMENT|in:HDD|volume=900.0 MB\", \"MOVEMENT|in:HDD|from:BB|volume=100.0 MB\", \"MOVEMENT|in:HDD|volume=100.0 MB\", \"MOVEMENT|in:HDD|from:BB|volume=4.0 GB\", \"MOVEMENT|in:HDD|volume=4.0 GB\"], \"textposition\": \"top center\", \"type\": \"scatter\", \"x\": [466.25, 488.75, 488.75, 491.25, 491.25, 591.25], \"xaxis\": \"x\", \"y\": [40.0, 40.0, 40.0, 40.0, 40.0, 40.0], \"yaxis\": \"y\"}, {\"line\": {\"shape\": \"linear\"}, \"name\": \"BB\", \"showlegend\": false, \"text\": [\"U7|Read|HDD | +volume=1.0 GB\", \"U7|Compute | +volume=0B\", \"U7|Write|BB | +volume=4.5 GB\", \"U7|Movement|HDD | +volume=900.0 MB\", \"U7|Eviction|HDD | +volume=900.0 MB\", \"U7|Write|BB | +volume=500.0 MB\", \"U7|Movement|HDD | +volume=100.0 MB\", \"U7|Eviction|HDD | +volume=100.0 MB\", \"U7|Movement|HDD | +volume=4.0 GB\"], \"textposition\": \"top center\", \"type\": \"scatter\", \"x\": [443.75, 456.25, 466.25, 488.75, 491.25, 591.25], \"xaxis\": \"x2\", \"y\": [0.0, 0.0, 0.0, 3600000000.0, 4000000000.0, 4000000000.0], \"yaxis\": \"y2\"}, {\"line\": {\"color\": \"black\", \"shape\": \"linear\"}, \"name\": \" Eviction\", \"showlegend\": false, \"text\": [\"EVICTION|IN:BB|volume=900.0 MB\", \"EVICTION|IN:BB|volume=900.0 MB\", \"EVICTION|IN:BB|volume=100.0 MB\", \"EVICTION|IN:BB|volume=100.0 MB\"], \"textposition\": \"top center\", \"type\": \"scatter\", \"x\": [488.75, 488.75], \"xaxis\": \"x2\", \"y\": [4500000000.0, 3600000000.0], \"yaxis\": \"y2\"}, {\"line\": {\"color\": \"black\", \"shape\": \"linear\"}, \"name\": \" Eviction\", \"showlegend\": false, \"text\": [\"EVICTION|IN:BB|volume=900.0 MB\", \"EVICTION|IN:BB|volume=900.0 MB\", \"EVICTION|IN:BB|volume=100.0 MB\", \"EVICTION|IN:BB|volume=100.0 MB\"], \"textposition\": \"top center\", \"type\": \"scatter\", \"x\": [491.25, 491.25], \"xaxis\": \"x2\", \"y\": [4100000000.0, 4000000000.0], \"yaxis\": \"y2\"}, {\"line\": {\"shape\": \"linear\"}, \"name\": \"HDD\", \"showlegend\": false, \"text\": [\"U7|Read|HDD | +volume=1.0 GB\", \"U7|Compute | +volume=0B\", \"U7|Write|BB | +volume=4.5 GB\", \"U7|Movement|HDD | +volume=900.0 MB\", \"U7|Eviction|HDD | +volume=900.0 MB\", \"U7|Write|BB | +volume=500.0 MB\", \"U7|Movement|HDD | +volume=100.0 MB\", \"U7|Eviction|HDD | +volume=100.0 MB\", \"U7|Movement|HDD | +volume=4.0 GB\"], \"textposition\": \"top center\", \"type\": \"scatter\", \"x\": [443.75, 456.25, 466.25, 488.75, 491.25, 591.25], \"xaxis\": \"x3\", \"y\": [15999999999.999998, 15999999999.999998, 15999999999.999998, 16900000000.0, 17000000000.0, 21000000000.000004], \"yaxis\": \"y3\"}, {\"line\": {\"shape\": \"hv\"}, \"showlegend\": false, \"type\": \"scatter\", \"x\": [443.75, 456.25, 466.25, 488.75, 491.25, 591.25], \"xaxis\": \"x4\", \"y\": [1, 1, 2, 2, 1, 0], \"yaxis\": \"y4\"}, {\"line\": {\"color\": \"red\", \"dash\": \"dot\", \"shape\": \"hv\", \"width\": 3}, \"showlegend\": false, \"text\": [\"Maximum available cores in cluster=2\", \"Maximum available cores in cluster=2\"], \"type\": \"scatter\", \"x\": [443.75, 591.25], \"xaxis\": \"x4\", \"y\": [2, 2], \"yaxis\": \"y4\"}],\n",
       "                        {\"annotations\": [{\"font\": {\"size\": 16}, \"showarrow\": false, \"text\": \"U7\", \"x\": 0.5, \"xanchor\": \"center\", \"xref\": \"paper\", \"y\": 1.0, \"yanchor\": \"bottom\", \"yref\": \"paper\"}, {\"font\": {\"size\": 16}, \"showarrow\": false, \"text\": \"BB (4.5 GB)\", \"x\": 0.5, \"xanchor\": \"center\", \"xref\": \"paper\", \"y\": 0.71875, \"yanchor\": \"bottom\", \"yref\": \"paper\"}, {\"font\": {\"size\": 16}, \"showarrow\": false, \"text\": \"HDD (1.0 TB)\", \"x\": 0.5, \"xanchor\": \"center\", \"xref\": \"paper\", \"y\": 0.4375, \"yanchor\": \"bottom\", \"yref\": \"paper\"}, {\"font\": {\"size\": 16}, \"showarrow\": false, \"text\": \"CPU Cores\", \"x\": 0.5, \"xanchor\": \"center\", \"xref\": \"paper\", \"y\": 0.15625, \"yanchor\": \"bottom\", \"yref\": \"paper\"}], \"height\": 900, \"template\": {\"data\": {\"bar\": [{\"error_x\": {\"color\": \"#2a3f5f\"}, \"error_y\": {\"color\": \"#2a3f5f\"}, \"marker\": {\"line\": {\"color\": \"#E5ECF6\", \"width\": 0.5}}, \"type\": \"bar\"}], \"barpolar\": [{\"marker\": {\"line\": {\"color\": \"#E5ECF6\", \"width\": 0.5}}, \"type\": \"barpolar\"}], \"carpet\": [{\"aaxis\": {\"endlinecolor\": \"#2a3f5f\", \"gridcolor\": \"white\", \"linecolor\": \"white\", \"minorgridcolor\": \"white\", \"startlinecolor\": \"#2a3f5f\"}, \"baxis\": {\"endlinecolor\": \"#2a3f5f\", \"gridcolor\": \"white\", \"linecolor\": \"white\", \"minorgridcolor\": \"white\", \"startlinecolor\": \"#2a3f5f\"}, \"type\": \"carpet\"}], \"choropleth\": [{\"colorbar\": {\"outlinewidth\": 0, \"ticks\": \"\"}, \"type\": \"choropleth\"}], \"contour\": [{\"colorbar\": {\"outlinewidth\": 0, \"ticks\": \"\"}, \"colorscale\": [[0.0, \"#0d0887\"], [0.1111111111111111, \"#46039f\"], [0.2222222222222222, \"#7201a8\"], [0.3333333333333333, \"#9c179e\"], [0.4444444444444444, \"#bd3786\"], [0.5555555555555556, \"#d8576b\"], [0.6666666666666666, \"#ed7953\"], [0.7777777777777778, \"#fb9f3a\"], [0.8888888888888888, \"#fdca26\"], [1.0, \"#f0f921\"]], \"type\": \"contour\"}], \"contourcarpet\": [{\"colorbar\": {\"outlinewidth\": 0, \"ticks\": \"\"}, \"type\": \"contourcarpet\"}], \"heatmap\": [{\"colorbar\": {\"outlinewidth\": 0, \"ticks\": \"\"}, \"colorscale\": [[0.0, \"#0d0887\"], [0.1111111111111111, \"#46039f\"], [0.2222222222222222, \"#7201a8\"], [0.3333333333333333, \"#9c179e\"], [0.4444444444444444, \"#bd3786\"], [0.5555555555555556, \"#d8576b\"], [0.6666666666666666, \"#ed7953\"], [0.7777777777777778, \"#fb9f3a\"], [0.8888888888888888, \"#fdca26\"], [1.0, \"#f0f921\"]], \"type\": \"heatmap\"}], \"heatmapgl\": [{\"colorbar\": {\"outlinewidth\": 0, \"ticks\": \"\"}, \"colorscale\": [[0.0, \"#0d0887\"], [0.1111111111111111, \"#46039f\"], [0.2222222222222222, \"#7201a8\"], [0.3333333333333333, \"#9c179e\"], [0.4444444444444444, \"#bd3786\"], [0.5555555555555556, \"#d8576b\"], [0.6666666666666666, \"#ed7953\"], [0.7777777777777778, \"#fb9f3a\"], [0.8888888888888888, \"#fdca26\"], [1.0, \"#f0f921\"]], \"type\": \"heatmapgl\"}], \"histogram\": [{\"marker\": {\"colorbar\": {\"outlinewidth\": 0, \"ticks\": \"\"}}, \"type\": \"histogram\"}], \"histogram2d\": [{\"colorbar\": {\"outlinewidth\": 0, \"ticks\": \"\"}, \"colorscale\": [[0.0, \"#0d0887\"], [0.1111111111111111, \"#46039f\"], [0.2222222222222222, \"#7201a8\"], [0.3333333333333333, \"#9c179e\"], [0.4444444444444444, \"#bd3786\"], [0.5555555555555556, \"#d8576b\"], [0.6666666666666666, \"#ed7953\"], [0.7777777777777778, \"#fb9f3a\"], [0.8888888888888888, \"#fdca26\"], [1.0, \"#f0f921\"]], \"type\": \"histogram2d\"}], \"histogram2dcontour\": [{\"colorbar\": {\"outlinewidth\": 0, \"ticks\": \"\"}, \"colorscale\": [[0.0, \"#0d0887\"], [0.1111111111111111, \"#46039f\"], [0.2222222222222222, \"#7201a8\"], [0.3333333333333333, \"#9c179e\"], [0.4444444444444444, \"#bd3786\"], [0.5555555555555556, \"#d8576b\"], [0.6666666666666666, \"#ed7953\"], [0.7777777777777778, \"#fb9f3a\"], [0.8888888888888888, \"#fdca26\"], [1.0, \"#f0f921\"]], \"type\": \"histogram2dcontour\"}], \"mesh3d\": [{\"colorbar\": {\"outlinewidth\": 0, \"ticks\": \"\"}, \"type\": \"mesh3d\"}], \"parcoords\": [{\"line\": {\"colorbar\": {\"outlinewidth\": 0, \"ticks\": \"\"}}, \"type\": \"parcoords\"}], \"pie\": [{\"automargin\": true, \"type\": \"pie\"}], \"scatter\": [{\"marker\": {\"colorbar\": {\"outlinewidth\": 0, \"ticks\": \"\"}}, \"type\": \"scatter\"}], \"scatter3d\": [{\"line\": {\"colorbar\": {\"outlinewidth\": 0, \"ticks\": \"\"}}, \"marker\": {\"colorbar\": {\"outlinewidth\": 0, \"ticks\": \"\"}}, \"type\": \"scatter3d\"}], \"scattercarpet\": [{\"marker\": {\"colorbar\": {\"outlinewidth\": 0, \"ticks\": \"\"}}, \"type\": \"scattercarpet\"}], \"scattergeo\": [{\"marker\": {\"colorbar\": {\"outlinewidth\": 0, \"ticks\": \"\"}}, \"type\": \"scattergeo\"}], \"scattergl\": [{\"marker\": {\"colorbar\": {\"outlinewidth\": 0, \"ticks\": \"\"}}, \"type\": \"scattergl\"}], \"scattermapbox\": [{\"marker\": {\"colorbar\": {\"outlinewidth\": 0, \"ticks\": \"\"}}, \"type\": \"scattermapbox\"}], \"scatterpolar\": [{\"marker\": {\"colorbar\": {\"outlinewidth\": 0, \"ticks\": \"\"}}, \"type\": \"scatterpolar\"}], \"scatterpolargl\": [{\"marker\": {\"colorbar\": {\"outlinewidth\": 0, \"ticks\": \"\"}}, \"type\": \"scatterpolargl\"}], \"scatterternary\": [{\"marker\": {\"colorbar\": {\"outlinewidth\": 0, \"ticks\": \"\"}}, \"type\": \"scatterternary\"}], \"surface\": [{\"colorbar\": {\"outlinewidth\": 0, \"ticks\": \"\"}, \"colorscale\": [[0.0, \"#0d0887\"], [0.1111111111111111, \"#46039f\"], [0.2222222222222222, \"#7201a8\"], [0.3333333333333333, \"#9c179e\"], [0.4444444444444444, \"#bd3786\"], [0.5555555555555556, \"#d8576b\"], [0.6666666666666666, \"#ed7953\"], [0.7777777777777778, \"#fb9f3a\"], [0.8888888888888888, \"#fdca26\"], [1.0, \"#f0f921\"]], \"type\": \"surface\"}], \"table\": [{\"cells\": {\"fill\": {\"color\": \"#EBF0F8\"}, \"line\": {\"color\": \"white\"}}, \"header\": {\"fill\": {\"color\": \"#C8D4E3\"}, \"line\": {\"color\": \"white\"}}, \"type\": \"table\"}]}, \"layout\": {\"annotationdefaults\": {\"arrowcolor\": \"#2a3f5f\", \"arrowhead\": 0, \"arrowwidth\": 1}, \"coloraxis\": {\"colorbar\": {\"outlinewidth\": 0, \"ticks\": \"\"}}, \"colorscale\": {\"diverging\": [[0, \"#8e0152\"], [0.1, \"#c51b7d\"], [0.2, \"#de77ae\"], [0.3, \"#f1b6da\"], [0.4, \"#fde0ef\"], [0.5, \"#f7f7f7\"], [0.6, \"#e6f5d0\"], [0.7, \"#b8e186\"], [0.8, \"#7fbc41\"], [0.9, \"#4d9221\"], [1, \"#276419\"]], \"sequential\": [[0.0, \"#0d0887\"], [0.1111111111111111, \"#46039f\"], [0.2222222222222222, \"#7201a8\"], [0.3333333333333333, \"#9c179e\"], [0.4444444444444444, \"#bd3786\"], [0.5555555555555556, \"#d8576b\"], [0.6666666666666666, \"#ed7953\"], [0.7777777777777778, \"#fb9f3a\"], [0.8888888888888888, \"#fdca26\"], [1.0, \"#f0f921\"]], \"sequentialminus\": [[0.0, \"#0d0887\"], [0.1111111111111111, \"#46039f\"], [0.2222222222222222, \"#7201a8\"], [0.3333333333333333, \"#9c179e\"], [0.4444444444444444, \"#bd3786\"], [0.5555555555555556, \"#d8576b\"], [0.6666666666666666, \"#ed7953\"], [0.7777777777777778, \"#fb9f3a\"], [0.8888888888888888, \"#fdca26\"], [1.0, \"#f0f921\"]]}, \"colorway\": [\"#636efa\", \"#EF553B\", \"#00cc96\", \"#ab63fa\", \"#FFA15A\", \"#19d3f3\", \"#FF6692\", \"#B6E880\", \"#FF97FF\", \"#FECB52\"], \"font\": {\"color\": \"#2a3f5f\"}, \"geo\": {\"bgcolor\": \"white\", \"lakecolor\": \"white\", \"landcolor\": \"#E5ECF6\", \"showlakes\": true, \"showland\": true, \"subunitcolor\": \"white\"}, \"hoverlabel\": {\"align\": \"left\"}, \"hovermode\": \"closest\", \"mapbox\": {\"style\": \"light\"}, \"paper_bgcolor\": \"white\", \"plot_bgcolor\": \"#E5ECF6\", \"polar\": {\"angularaxis\": {\"gridcolor\": \"white\", \"linecolor\": \"white\", \"ticks\": \"\"}, \"bgcolor\": \"#E5ECF6\", \"radialaxis\": {\"gridcolor\": \"white\", \"linecolor\": \"white\", \"ticks\": \"\"}}, \"scene\": {\"xaxis\": {\"backgroundcolor\": \"#E5ECF6\", \"gridcolor\": \"white\", \"gridwidth\": 2, \"linecolor\": \"white\", \"showbackground\": true, \"ticks\": \"\", \"zerolinecolor\": \"white\"}, \"yaxis\": {\"backgroundcolor\": \"#E5ECF6\", \"gridcolor\": \"white\", \"gridwidth\": 2, \"linecolor\": \"white\", \"showbackground\": true, \"ticks\": \"\", \"zerolinecolor\": \"white\"}, \"zaxis\": {\"backgroundcolor\": \"#E5ECF6\", \"gridcolor\": \"white\", \"gridwidth\": 2, \"linecolor\": \"white\", \"showbackground\": true, \"ticks\": \"\", \"zerolinecolor\": \"white\"}}, \"shapedefaults\": {\"line\": {\"color\": \"#2a3f5f\"}}, \"ternary\": {\"aaxis\": {\"gridcolor\": \"white\", \"linecolor\": \"white\", \"ticks\": \"\"}, \"baxis\": {\"gridcolor\": \"white\", \"linecolor\": \"white\", \"ticks\": \"\"}, \"bgcolor\": \"#E5ECF6\", \"caxis\": {\"gridcolor\": \"white\", \"linecolor\": \"white\", \"ticks\": \"\"}}, \"title\": {\"x\": 0.05}, \"xaxis\": {\"automargin\": true, \"gridcolor\": \"white\", \"linecolor\": \"white\", \"ticks\": \"\", \"title\": {\"standoff\": 15}, \"zerolinecolor\": \"white\", \"zerolinewidth\": 2}, \"yaxis\": {\"automargin\": true, \"gridcolor\": \"white\", \"linecolor\": \"white\", \"ticks\": \"\", \"title\": {\"standoff\": 15}, \"zerolinecolor\": \"white\", \"zerolinewidth\": 2}}}, \"title\": {\"text\": \"State of the Cluster\"}, \"width\": 800, \"xaxis\": {\"anchor\": \"y\", \"domain\": [0.0, 1.0], \"matches\": \"x4\", \"showticklabels\": false, \"title\": {\"text\": \"time in s\"}}, \"xaxis2\": {\"anchor\": \"y2\", \"domain\": [0.0, 1.0], \"matches\": \"x4\", \"showticklabels\": false, \"title\": {\"text\": \"time in s\"}}, \"xaxis3\": {\"anchor\": \"y3\", \"domain\": [0.0, 1.0], \"matches\": \"x4\", \"showticklabels\": false, \"title\": {\"text\": \"time in s\"}}, \"xaxis4\": {\"anchor\": \"y4\", \"domain\": [0.0, 1.0], \"title\": {\"text\": \"time in s\"}}, \"yaxis\": {\"anchor\": \"x\", \"domain\": [0.84375, 1.0], \"title\": {\"text\": \"dataflow in MB/s\"}}, \"yaxis2\": {\"anchor\": \"x2\", \"domain\": [0.5625, 0.71875], \"title\": {\"text\": \"BB usage in Bytes\"}}, \"yaxis3\": {\"anchor\": \"x3\", \"domain\": [0.28125, 0.4375], \"title\": {\"text\": \"HDD usage in Bytes\"}}, \"yaxis4\": {\"anchor\": \"x4\", \"domain\": [0.0, 0.15625], \"title\": {\"text\": \"CPU usage\"}}},\n",
       "                        {\"responsive\": true}\n",
       "                    ).then(function(){\n",
       "                            \n",
       "var gd = document.getElementById('5f9417d8-40fb-4219-ab98-3fbb8b781b21');\n",
       "var x = new MutationObserver(function (mutations, observer) {{\n",
       "        var display = window.getComputedStyle(gd).display;\n",
       "        if (!display || display === 'none') {{\n",
       "            console.log([gd, 'removed!']);\n",
       "            Plotly.purge(gd);\n",
       "            observer.disconnect();\n",
       "        }}\n",
       "}});\n",
       "\n",
       "// Listen for the removal of the full notebook cells\n",
       "var notebookContainer = gd.closest('#notebook-container');\n",
       "if (notebookContainer) {{\n",
       "    x.observe(notebookContainer, {childList: true});\n",
       "}}\n",
       "\n",
       "// Listen for the clearing of the current output cell\n",
       "var outputEl = gd.closest('.output');\n",
       "if (outputEl) {{\n",
       "    x.observe(outputEl, {childList: true});\n",
       "}}\n",
       "\n",
       "                        })\n",
       "                };\n",
       "                });\n",
       "            </script>\n",
       "        </div>"
      ]
     },
     "metadata": {},
     "output_type": "display_data"
    }
   ],
   "source": [
    "# registering Ephemeral Tier\n",
    "bb = EphemeralTier(env, name=\"BB\", persistent_tier=hdd_tier,\n",
    "                        bandwidth=nvram_bandwidth, capacity=4.5e9)\n",
    "\n",
    "# Define the cluster with 1 persistent and 1 ephemeral\n",
    "cluster = Cluster(env, tiers=[hdd_tier], ephemeral_tier=bb)\n",
    "# logger\n",
    "# sim env an data\n",
    "data = simpy.Store(env)\n",
    "logger.remove()\n",
    "# Simple app: read 1GB -> compute 10s -> write 5GB\n",
    "compute = [0,  10]\n",
    "read = [1e9, 0]\n",
    "write = [0, 5e9]\n",
    "placement = [0, 0]\n",
    "use_bb = [False, True] # enabling ephemeral tier for second dataset\n",
    "app = Application(env, compute=compute, read=read, write=write, data=data)\n",
    "env.process(app.run(cluster, placement=placement, use_bb=use_bb))\n",
    "env.run()\n",
    "print(f\"application duration = {app.get_fitness()}\")\n",
    "fig = display_run(data, cluster, width=800, height=900)\n",
    "fig.show()"
   ]
  },
  {
   "cell_type": "markdown",
   "metadata": {},
   "source": [
    "- eviction occurs\n",
    "- buffer saturation should be avoided:\n",
    "  - only newly copied data to lower tier diminishes the amount of dirty data\n",
    "  - we can only evict clean data\n",
    "  - in terms of simulations, it shorten the time interval and the loop become extremly slow (~inf)\n",
    "- the focus is not on studying what happens in saturation mode, but to size relevantly the BB"
   ]
  },
  {
   "cell_type": "markdown",
   "metadata": {},
   "source": [
    "Optimizing BB Size (flavor)"
   ]
  },
  {
   "cell_type": "code",
   "execution_count": 11,
   "metadata": {},
   "outputs": [
    {
     "name": "stdout",
     "output_type": "stream",
     "text": [
      "Full BBO param array = [1 1 0 0 0 1 1 0 1 1 1 0 0 1]\n",
      "    | app#L7 : tier placement: [1 1] | use_bb = [True, True]\n",
      "    | app#P7 : tier placement: [0 0 0] | use_bb = [True, False, False]\n",
      "    | app#F1 : tier placement: [0 0] | use_bb = [False, False]\n",
      "    | runtime = 605.0 |  BB_size = 9.0 GB\n",
      "Full BBO param array = [0 1 0 1 0 0 0 0 0 1 1 1 1 1]\n",
      "    | app#O9 : tier placement: [0 1] | use_bb = [False, True]\n",
      "    | app#N4 : tier placement: [0 1 0] | use_bb = [True, True, True]\n",
      "    | app#S5 : tier placement: [1 0] | use_bb = [True, True]\n",
      "    | runtime = 203.50432737379037 |  BB_size = 34.0 GB\n",
      "Full BBO param array = [0 0 0 0 0 0 0 0 0 0 0 0 0 0]\n",
      "    | app#S2 : tier placement: [0 0] | use_bb = [False, False]\n",
      "    | app#L5 : tier placement: [0 0 0] | use_bb = [False, False, False]\n",
      "    | app#P8 : tier placement: [0 0] | use_bb = [False, False]\n",
      "    | runtime = 977.5 |  BB_size = 0B\n",
      "-----------------\n",
      "Total number of iterations : 1\n",
      "0.35807108879089355 seconds spent for finding solution\n",
      "-----------------\n",
      "------ Optimization loop summary ------\n",
      "Number of iterations: 3\n",
      "Elapsed time: 0.35807108879089355\n",
      "Best parameters: [0 1 0 1 0 0 0 0 0 1 1 1 1 1]\n",
      "Best fitness value: 203.50432737379037\n",
      "Percentage of explored space: 0.018310546875\n",
      "Percentage of static moves: 0.0\n",
      "Cost of global exploration: 773.9956726262096\n",
      "Mean fitness gain per iteration: 186.25\n",
      "--- Heuristic specific summary ---\n",
      "Final RMSE: -2.081249517695438\n",
      "None\n",
      "Fitness history : [605.         203.50432737 977.5       ]\n"
     ]
    }
   ],
   "source": [
    "import simpy\n",
    "from loguru import logger\n",
    "import time\n",
    "import numpy as np\n",
    "import pandas as pd\n",
    "import time, os\n",
    "from itertools import chain\n",
    "from cluster_simulator.cluster import Cluster, Tier, EphemeralTier, bandwidth_share_model, compute_share_model, get_tier, convert_size\n",
    "from cluster_simulator.phase import DelayPhase, ComputePhase, IOPhase\n",
    "from cluster_simulator.application import Application\n",
    "from cluster_simulator.analytics import display_run\n",
    "# imports for surrogate models\n",
    "from sklearn.gaussian_process import GaussianProcessRegressor\n",
    "from bbo.optimizer import BBOptimizer\n",
    "# from bbo.optimizer import timeit\n",
    "from bbo.heuristics.surrogate_models.next_parameter_strategies import expected_improvement\n",
    "\n",
    "# imports for genetic algorithms\n",
    "from bbo.heuristics.genetic_algorithm.selections import tournament_pick\n",
    "from bbo.heuristics.genetic_algorithm.crossover import double_point_crossover\n",
    "from bbo.heuristics.genetic_algorithm.mutations import mutate_chromosome_to_neighbor\n",
    "from loguru import logger\n",
    "from cluster_simulator.ephemeral_placement import ClusterBlackBox\n",
    "logger.remove()\n",
    "cbb = ClusterBlackBox()\n",
    "PARAMETER_SPACE = cbb.parameter_space\n",
    "# combinations are self.n_tiers ** sum(self.ios) + 2**sum(self.ios)\n",
    "NBR_ITERATION = 1  # cbb.n_tiers ** sum(cbb.ios)\n",
    "\n",
    "np.random.seed(5)\n",
    "bbopt = BBOptimizer(black_box=cbb,\n",
    "                    heuristic=\"surrogate_model\",\n",
    "                    max_iteration=NBR_ITERATION,\n",
    "                    initial_sample_size=2,\n",
    "                    parameter_space=PARAMETER_SPACE,\n",
    "                    next_parameter_strategy=expected_improvement,\n",
    "                    regression_model=GaussianProcessRegressor)\n",
    "start_time = time.time()\n",
    "bbopt.optimize()\n",
    "print(\"-----------------\")\n",
    "print(f\"Total number of iterations : {NBR_ITERATION}\")\n",
    "print(f\"{(time.time() - start_time)} seconds spent for finding solution\")\n",
    "print(\"-----------------\")\n",
    "bbopt.summarize()\n",
    "print(f\"Fitness history : {bbopt.history['fitness']}\")\n",
    "#cbb.save_experiment(filename = \"flavor_optim\", save=True)"
   ]
  },
  {
   "cell_type": "code",
   "execution_count": null,
   "metadata": {},
   "outputs": [],
   "source": [
    "import numpy as np\n",
    "import pandas as pd\n",
    "import os\n",
    "!pip3 install pickle5\n",
    "import pickle5 as pickle5\n",
    "\n",
    "pathfile = os.path.join(os.getcwd(), \"flavor_optim\")\n",
    "df = pd.read_pickle(pathfile)\n",
    "df.head(2)\n",
    "#list(df.columns)"
   ]
  },
  {
   "cell_type": "markdown",
   "metadata": {},
   "source": [
    "Plotting Workflow duration Vs BB Size : efficient frontier\n"
   ]
  },
  {
   "cell_type": "code",
   "execution_count": 4,
   "metadata": {},
   "outputs": [
    {
     "data": {
      "application/vnd.plotly.v1+json": {
       "config": {
        "plotlyServerURL": "https://plot.ly"
       },
       "data": [
        {
         "line": {
          "color": "#636EFA"
         },
         "mode": "markers",
         "text": [
          "trial_index=0",
          "trial_index=1",
          "trial_index=2",
          "trial_index=3",
          "trial_index=4",
          "trial_index=5",
          "trial_index=6",
          "trial_index=7",
          "trial_index=8",
          "trial_index=9",
          "trial_index=10",
          "trial_index=11",
          "trial_index=12",
          "trial_index=13",
          "trial_index=14",
          "trial_index=15",
          "trial_index=16",
          "trial_index=17",
          "trial_index=18",
          "trial_index=19",
          "trial_index=20",
          "trial_index=21",
          "trial_index=22",
          "trial_index=23",
          "trial_index=24",
          "trial_index=25",
          "trial_index=26",
          "trial_index=27",
          "trial_index=28",
          "trial_index=29",
          "trial_index=30",
          "trial_index=31",
          "trial_index=32",
          "trial_index=33",
          "trial_index=34",
          "trial_index=35",
          "trial_index=36",
          "trial_index=37",
          "trial_index=38",
          "trial_index=39",
          "trial_index=40",
          "trial_index=41",
          "trial_index=42",
          "trial_index=43",
          "trial_index=44",
          "trial_index=45",
          "trial_index=46",
          "trial_index=47",
          "trial_index=48",
          "trial_index=49",
          "trial_index=50",
          "trial_index=51",
          "trial_index=52",
          "trial_index=53",
          "trial_index=54",
          "trial_index=55",
          "trial_index=56",
          "trial_index=57",
          "trial_index=58",
          "trial_index=59",
          "trial_index=60",
          "trial_index=61",
          "trial_index=62",
          "trial_index=63",
          "trial_index=64",
          "trial_index=65",
          "trial_index=66",
          "trial_index=67",
          "trial_index=68",
          "trial_index=69",
          "trial_index=70",
          "trial_index=71",
          "trial_index=72",
          "trial_index=73",
          "trial_index=74",
          "trial_index=75",
          "trial_index=76",
          "trial_index=77",
          "trial_index=78",
          "trial_index=79",
          "trial_index=80",
          "trial_index=81",
          "trial_index=82",
          "trial_index=83",
          "trial_index=84",
          "trial_index=85",
          "trial_index=86",
          "trial_index=87",
          "trial_index=88",
          "trial_index=89",
          "trial_index=90",
          "trial_index=91",
          "trial_index=92",
          "trial_index=93",
          "trial_index=94",
          "trial_index=95",
          "trial_index=96",
          "trial_index=97",
          "trial_index=98",
          "trial_index=99",
          "trial_index=100",
          "trial_index=101",
          "trial_index=102",
          "trial_index=103",
          "trial_index=104",
          "trial_index=105",
          "trial_index=106",
          "trial_index=107",
          "trial_index=108",
          "trial_index=109",
          "trial_index=110",
          "trial_index=111",
          "trial_index=112",
          "trial_index=113",
          "trial_index=114",
          "trial_index=115",
          "trial_index=116",
          "trial_index=117",
          "trial_index=118",
          "trial_index=119",
          "trial_index=120",
          "trial_index=121",
          "trial_index=122",
          "trial_index=123",
          "trial_index=124",
          "trial_index=125",
          "trial_index=126",
          "trial_index=127",
          "trial_index=128",
          "trial_index=129"
         ],
         "type": "scatter",
         "x": [
          15000000000,
          20000000000,
          34000000000,
          22000000000,
          9000000000,
          35000000000,
          18000000000,
          21000000000,
          15000000000,
          17000000000,
          17000000000.000002,
          0,
          21000000000,
          26000000000,
          6000000000,
          17000000000,
          23000000000,
          3000000000,
          12000000000,
          18000000000,
          22000000000,
          20000000000,
          9000000000,
          25000000000,
          13999999999.999998,
          14000000000,
          22000000000,
          12000000000,
          34000000000,
          0,
          22000000000,
          1000000000,
          10000000000,
          10000000000,
          20000000000,
          22000000000,
          32000000000.000004,
          7999999999.999999,
          18000000000,
          13999999999.999998,
          26000000000,
          26000000000,
          18000000000,
          26000000000,
          17000000000.000002,
          3000000000,
          10000000000,
          13999999999.999996,
          18000000000,
          17000000000,
          0,
          18000000000,
          7999999999.999999,
          0,
          17000000000,
          21000000000,
          34000000000,
          23000000000,
          4000000000,
          35000000000,
          32000000000.000004,
          12000000000,
          13999999999.999996,
          23000000000,
          17000000000,
          1000000000,
          13000000000,
          5000000000,
          8000000000,
          21000000000,
          20000000000,
          25000000000,
          32000000000.000004,
          23000000000,
          13000000000,
          5000000000,
          26000000000,
          31000000000,
          17000000000,
          0,
          26000000000,
          26000000000,
          26000000000,
          26000000000,
          26000000000,
          26000000000,
          26000000000,
          26000000000,
          26000000000,
          26000000000,
          26000000000,
          26000000000,
          26000000000,
          26000000000,
          26000000000,
          26000000000,
          26000000000,
          26000000000,
          26000000000,
          26000000000,
          26000000000,
          26000000000,
          26000000000,
          26000000000,
          26000000000,
          26000000000,
          26000000000,
          26000000000,
          26000000000,
          26000000000,
          26000000000,
          26000000000,
          26000000000,
          26000000000,
          26000000000,
          26000000000,
          26000000000,
          26000000000,
          26000000000,
          26000000000,
          26000000000,
          26000000000,
          26000000000,
          26000000000,
          26000000000,
          26000000000,
          26000000000,
          26000000000,
          26000000000,
          26000000000
         ],
         "y": [
          293.80952380952385,
          206.62493924629848,
          203.50432737379037,
          251.7643319463708,
          290,
          193.6296187631139,
          205.34288796424718,
          258.5088374408763,
          597.2376032812925,
          251.8238557558946,
          492.9035638714037,
          617.5,
          362.5712151925744,
          245.59929822065746,
          652.5,
          612.3679718339913,
          252.40535758739642,
          395.4945054945055,
          303.33333333333337,
          369.74536790070766,
          247.00955463091387,
          244.3172469386062,
          605,
          241.8447194660787,
          496.4382327489124,
          325.4899267399268,
          251.7643319463708,
          269.9267399267399,
          203.50432737379037,
          398.2142857142858,
          247.8825705039297,
          363.33333333333337,
          318.042071197411,
          486.2271062271062,
          206.62493924629848,
          281.3349514563107,
          193.7832604288915,
          309.1025641025641,
          369.74536790070766,
          346.9087034863734,
          245.59929822065746,
          228.83495145631068,
          483.02197802197804,
          177.11271737970768,
          237.2476498690091,
          916.2087912087911,
          308.09523809523813,
          493.15806631340615,
          483.02197802197804,
          428.8349514563107,
          482.0238095238096,
          483.02197802197804,
          309.1025641025641,
          460,
          612.3679718339913,
          206.62493924629848,
          209.2020534751117,
          256.5857605177994,
          728.3333333333334,
          193.6296187631139,
          193.7832604288915,
          308.09523809523813,
          493.15806631340615,
          276.3349514563107,
          360.9778085991678,
          762.5,
          640.4029304029303,
          617.5,
          617.5,
          362.5712151925744,
          366.234218855578,
          249.93995756131682,
          193.7832604288915,
          256.5857605177994,
          335.13549557238883,
          393.5119047619048,
          177.11271737970768,
          213.43404815249477,
          426.45399907535835,
          572.5,
          177.11271737970768,
          177.11271737970768,
          177.11271737970768,
          177.11271737970768,
          177.11271737970768,
          177.11271737970768,
          177.11271737970768,
          177.11271737970768,
          177.11271737970768,
          177.11271737970768,
          177.11271737970768,
          177.11271737970768,
          177.11271737970768,
          177.11271737970768,
          177.11271737970768,
          177.11271737970768,
          177.11271737970768,
          177.11271737970768,
          177.11271737970768,
          177.11271737970768,
          177.11271737970768,
          177.11271737970768,
          177.11271737970768,
          177.11271737970768,
          177.11271737970768,
          177.11271737970768,
          177.11271737970768,
          177.11271737970768,
          177.11271737970768,
          177.11271737970768,
          177.11271737970768,
          177.11271737970768,
          177.11271737970768,
          177.11271737970768,
          177.11271737970768,
          177.11271737970768,
          177.11271737970768,
          177.11271737970768,
          177.11271737970768,
          177.11271737970768,
          177.11271737970768,
          177.11271737970768,
          177.11271737970768,
          177.11271737970768,
          177.11271737970768,
          177.11271737970768,
          177.11271737970768,
          177.11271737970768,
          177.11271737970768,
          177.11271737970768
         ]
        }
       ],
       "layout": {
        "template": {
         "data": {
          "bar": [
           {
            "error_x": {
             "color": "#2a3f5f"
            },
            "error_y": {
             "color": "#2a3f5f"
            },
            "marker": {
             "line": {
              "color": "#E5ECF6",
              "width": 0.5
             }
            },
            "type": "bar"
           }
          ],
          "barpolar": [
           {
            "marker": {
             "line": {
              "color": "#E5ECF6",
              "width": 0.5
             }
            },
            "type": "barpolar"
           }
          ],
          "carpet": [
           {
            "aaxis": {
             "endlinecolor": "#2a3f5f",
             "gridcolor": "white",
             "linecolor": "white",
             "minorgridcolor": "white",
             "startlinecolor": "#2a3f5f"
            },
            "baxis": {
             "endlinecolor": "#2a3f5f",
             "gridcolor": "white",
             "linecolor": "white",
             "minorgridcolor": "white",
             "startlinecolor": "#2a3f5f"
            },
            "type": "carpet"
           }
          ],
          "choropleth": [
           {
            "colorbar": {
             "outlinewidth": 0,
             "ticks": ""
            },
            "type": "choropleth"
           }
          ],
          "contour": [
           {
            "colorbar": {
             "outlinewidth": 0,
             "ticks": ""
            },
            "colorscale": [
             [
              0,
              "#0d0887"
             ],
             [
              0.1111111111111111,
              "#46039f"
             ],
             [
              0.2222222222222222,
              "#7201a8"
             ],
             [
              0.3333333333333333,
              "#9c179e"
             ],
             [
              0.4444444444444444,
              "#bd3786"
             ],
             [
              0.5555555555555556,
              "#d8576b"
             ],
             [
              0.6666666666666666,
              "#ed7953"
             ],
             [
              0.7777777777777778,
              "#fb9f3a"
             ],
             [
              0.8888888888888888,
              "#fdca26"
             ],
             [
              1,
              "#f0f921"
             ]
            ],
            "type": "contour"
           }
          ],
          "contourcarpet": [
           {
            "colorbar": {
             "outlinewidth": 0,
             "ticks": ""
            },
            "type": "contourcarpet"
           }
          ],
          "heatmap": [
           {
            "colorbar": {
             "outlinewidth": 0,
             "ticks": ""
            },
            "colorscale": [
             [
              0,
              "#0d0887"
             ],
             [
              0.1111111111111111,
              "#46039f"
             ],
             [
              0.2222222222222222,
              "#7201a8"
             ],
             [
              0.3333333333333333,
              "#9c179e"
             ],
             [
              0.4444444444444444,
              "#bd3786"
             ],
             [
              0.5555555555555556,
              "#d8576b"
             ],
             [
              0.6666666666666666,
              "#ed7953"
             ],
             [
              0.7777777777777778,
              "#fb9f3a"
             ],
             [
              0.8888888888888888,
              "#fdca26"
             ],
             [
              1,
              "#f0f921"
             ]
            ],
            "type": "heatmap"
           }
          ],
          "heatmapgl": [
           {
            "colorbar": {
             "outlinewidth": 0,
             "ticks": ""
            },
            "colorscale": [
             [
              0,
              "#0d0887"
             ],
             [
              0.1111111111111111,
              "#46039f"
             ],
             [
              0.2222222222222222,
              "#7201a8"
             ],
             [
              0.3333333333333333,
              "#9c179e"
             ],
             [
              0.4444444444444444,
              "#bd3786"
             ],
             [
              0.5555555555555556,
              "#d8576b"
             ],
             [
              0.6666666666666666,
              "#ed7953"
             ],
             [
              0.7777777777777778,
              "#fb9f3a"
             ],
             [
              0.8888888888888888,
              "#fdca26"
             ],
             [
              1,
              "#f0f921"
             ]
            ],
            "type": "heatmapgl"
           }
          ],
          "histogram": [
           {
            "marker": {
             "colorbar": {
              "outlinewidth": 0,
              "ticks": ""
             }
            },
            "type": "histogram"
           }
          ],
          "histogram2d": [
           {
            "colorbar": {
             "outlinewidth": 0,
             "ticks": ""
            },
            "colorscale": [
             [
              0,
              "#0d0887"
             ],
             [
              0.1111111111111111,
              "#46039f"
             ],
             [
              0.2222222222222222,
              "#7201a8"
             ],
             [
              0.3333333333333333,
              "#9c179e"
             ],
             [
              0.4444444444444444,
              "#bd3786"
             ],
             [
              0.5555555555555556,
              "#d8576b"
             ],
             [
              0.6666666666666666,
              "#ed7953"
             ],
             [
              0.7777777777777778,
              "#fb9f3a"
             ],
             [
              0.8888888888888888,
              "#fdca26"
             ],
             [
              1,
              "#f0f921"
             ]
            ],
            "type": "histogram2d"
           }
          ],
          "histogram2dcontour": [
           {
            "colorbar": {
             "outlinewidth": 0,
             "ticks": ""
            },
            "colorscale": [
             [
              0,
              "#0d0887"
             ],
             [
              0.1111111111111111,
              "#46039f"
             ],
             [
              0.2222222222222222,
              "#7201a8"
             ],
             [
              0.3333333333333333,
              "#9c179e"
             ],
             [
              0.4444444444444444,
              "#bd3786"
             ],
             [
              0.5555555555555556,
              "#d8576b"
             ],
             [
              0.6666666666666666,
              "#ed7953"
             ],
             [
              0.7777777777777778,
              "#fb9f3a"
             ],
             [
              0.8888888888888888,
              "#fdca26"
             ],
             [
              1,
              "#f0f921"
             ]
            ],
            "type": "histogram2dcontour"
           }
          ],
          "mesh3d": [
           {
            "colorbar": {
             "outlinewidth": 0,
             "ticks": ""
            },
            "type": "mesh3d"
           }
          ],
          "parcoords": [
           {
            "line": {
             "colorbar": {
              "outlinewidth": 0,
              "ticks": ""
             }
            },
            "type": "parcoords"
           }
          ],
          "pie": [
           {
            "automargin": true,
            "type": "pie"
           }
          ],
          "scatter": [
           {
            "marker": {
             "colorbar": {
              "outlinewidth": 0,
              "ticks": ""
             }
            },
            "type": "scatter"
           }
          ],
          "scatter3d": [
           {
            "line": {
             "colorbar": {
              "outlinewidth": 0,
              "ticks": ""
             }
            },
            "marker": {
             "colorbar": {
              "outlinewidth": 0,
              "ticks": ""
             }
            },
            "type": "scatter3d"
           }
          ],
          "scattercarpet": [
           {
            "marker": {
             "colorbar": {
              "outlinewidth": 0,
              "ticks": ""
             }
            },
            "type": "scattercarpet"
           }
          ],
          "scattergeo": [
           {
            "marker": {
             "colorbar": {
              "outlinewidth": 0,
              "ticks": ""
             }
            },
            "type": "scattergeo"
           }
          ],
          "scattergl": [
           {
            "marker": {
             "colorbar": {
              "outlinewidth": 0,
              "ticks": ""
             }
            },
            "type": "scattergl"
           }
          ],
          "scattermapbox": [
           {
            "marker": {
             "colorbar": {
              "outlinewidth": 0,
              "ticks": ""
             }
            },
            "type": "scattermapbox"
           }
          ],
          "scatterpolar": [
           {
            "marker": {
             "colorbar": {
              "outlinewidth": 0,
              "ticks": ""
             }
            },
            "type": "scatterpolar"
           }
          ],
          "scatterpolargl": [
           {
            "marker": {
             "colorbar": {
              "outlinewidth": 0,
              "ticks": ""
             }
            },
            "type": "scatterpolargl"
           }
          ],
          "scatterternary": [
           {
            "marker": {
             "colorbar": {
              "outlinewidth": 0,
              "ticks": ""
             }
            },
            "type": "scatterternary"
           }
          ],
          "surface": [
           {
            "colorbar": {
             "outlinewidth": 0,
             "ticks": ""
            },
            "colorscale": [
             [
              0,
              "#0d0887"
             ],
             [
              0.1111111111111111,
              "#46039f"
             ],
             [
              0.2222222222222222,
              "#7201a8"
             ],
             [
              0.3333333333333333,
              "#9c179e"
             ],
             [
              0.4444444444444444,
              "#bd3786"
             ],
             [
              0.5555555555555556,
              "#d8576b"
             ],
             [
              0.6666666666666666,
              "#ed7953"
             ],
             [
              0.7777777777777778,
              "#fb9f3a"
             ],
             [
              0.8888888888888888,
              "#fdca26"
             ],
             [
              1,
              "#f0f921"
             ]
            ],
            "type": "surface"
           }
          ],
          "table": [
           {
            "cells": {
             "fill": {
              "color": "#EBF0F8"
             },
             "line": {
              "color": "white"
             }
            },
            "header": {
             "fill": {
              "color": "#C8D4E3"
             },
             "line": {
              "color": "white"
             }
            },
            "type": "table"
           }
          ]
         },
         "layout": {
          "annotationdefaults": {
           "arrowcolor": "#2a3f5f",
           "arrowhead": 0,
           "arrowwidth": 1
          },
          "coloraxis": {
           "colorbar": {
            "outlinewidth": 0,
            "ticks": ""
           }
          },
          "colorscale": {
           "diverging": [
            [
             0,
             "#8e0152"
            ],
            [
             0.1,
             "#c51b7d"
            ],
            [
             0.2,
             "#de77ae"
            ],
            [
             0.3,
             "#f1b6da"
            ],
            [
             0.4,
             "#fde0ef"
            ],
            [
             0.5,
             "#f7f7f7"
            ],
            [
             0.6,
             "#e6f5d0"
            ],
            [
             0.7,
             "#b8e186"
            ],
            [
             0.8,
             "#7fbc41"
            ],
            [
             0.9,
             "#4d9221"
            ],
            [
             1,
             "#276419"
            ]
           ],
           "sequential": [
            [
             0,
             "#0d0887"
            ],
            [
             0.1111111111111111,
             "#46039f"
            ],
            [
             0.2222222222222222,
             "#7201a8"
            ],
            [
             0.3333333333333333,
             "#9c179e"
            ],
            [
             0.4444444444444444,
             "#bd3786"
            ],
            [
             0.5555555555555556,
             "#d8576b"
            ],
            [
             0.6666666666666666,
             "#ed7953"
            ],
            [
             0.7777777777777778,
             "#fb9f3a"
            ],
            [
             0.8888888888888888,
             "#fdca26"
            ],
            [
             1,
             "#f0f921"
            ]
           ],
           "sequentialminus": [
            [
             0,
             "#0d0887"
            ],
            [
             0.1111111111111111,
             "#46039f"
            ],
            [
             0.2222222222222222,
             "#7201a8"
            ],
            [
             0.3333333333333333,
             "#9c179e"
            ],
            [
             0.4444444444444444,
             "#bd3786"
            ],
            [
             0.5555555555555556,
             "#d8576b"
            ],
            [
             0.6666666666666666,
             "#ed7953"
            ],
            [
             0.7777777777777778,
             "#fb9f3a"
            ],
            [
             0.8888888888888888,
             "#fdca26"
            ],
            [
             1,
             "#f0f921"
            ]
           ]
          },
          "colorway": [
           "#636efa",
           "#EF553B",
           "#00cc96",
           "#ab63fa",
           "#FFA15A",
           "#19d3f3",
           "#FF6692",
           "#B6E880",
           "#FF97FF",
           "#FECB52"
          ],
          "font": {
           "color": "#2a3f5f"
          },
          "geo": {
           "bgcolor": "white",
           "lakecolor": "white",
           "landcolor": "#E5ECF6",
           "showlakes": true,
           "showland": true,
           "subunitcolor": "white"
          },
          "hoverlabel": {
           "align": "left"
          },
          "hovermode": "closest",
          "mapbox": {
           "style": "light"
          },
          "paper_bgcolor": "white",
          "plot_bgcolor": "#E5ECF6",
          "polar": {
           "angularaxis": {
            "gridcolor": "white",
            "linecolor": "white",
            "ticks": ""
           },
           "bgcolor": "#E5ECF6",
           "radialaxis": {
            "gridcolor": "white",
            "linecolor": "white",
            "ticks": ""
           }
          },
          "scene": {
           "xaxis": {
            "backgroundcolor": "#E5ECF6",
            "gridcolor": "white",
            "gridwidth": 2,
            "linecolor": "white",
            "showbackground": true,
            "ticks": "",
            "zerolinecolor": "white"
           },
           "yaxis": {
            "backgroundcolor": "#E5ECF6",
            "gridcolor": "white",
            "gridwidth": 2,
            "linecolor": "white",
            "showbackground": true,
            "ticks": "",
            "zerolinecolor": "white"
           },
           "zaxis": {
            "backgroundcolor": "#E5ECF6",
            "gridcolor": "white",
            "gridwidth": 2,
            "linecolor": "white",
            "showbackground": true,
            "ticks": "",
            "zerolinecolor": "white"
           }
          },
          "shapedefaults": {
           "line": {
            "color": "#2a3f5f"
           }
          },
          "ternary": {
           "aaxis": {
            "gridcolor": "white",
            "linecolor": "white",
            "ticks": ""
           },
           "baxis": {
            "gridcolor": "white",
            "linecolor": "white",
            "ticks": ""
           },
           "bgcolor": "#E5ECF6",
           "caxis": {
            "gridcolor": "white",
            "linecolor": "white",
            "ticks": ""
           }
          },
          "title": {
           "x": 0.05
          },
          "xaxis": {
           "automargin": true,
           "gridcolor": "white",
           "linecolor": "white",
           "ticks": "",
           "title": {
            "standoff": 15
           },
           "zerolinecolor": "white",
           "zerolinewidth": 2
          },
          "yaxis": {
           "automargin": true,
           "gridcolor": "white",
           "linecolor": "white",
           "ticks": "",
           "title": {
            "standoff": 15
           },
           "zerolinecolor": "white",
           "zerolinewidth": 2
          }
         }
        },
        "xaxis": {
         "title": {
          "text": "Size of BB in bytes (B = 1e9 = GB)"
         }
        },
        "yaxis": {
         "title": {
          "text": "Workflow duration in seconds"
         }
        }
       }
      }
     },
     "metadata": {},
     "output_type": "display_data"
    }
   ],
   "source": [
    "import plotly.express as px\n",
    "import plotly.graph_objects as go\n",
    "colors = px.colors.qualitative.Plotly\n",
    "fig = go.Figure()\n",
    "fig.add_traces(go.Scatter(x=df['BB_size'], y = df['Fitness'], \n",
    "                          text = [\"trial_index=\" + str(i) for i in list(df.index)],\n",
    "                          mode = 'markers', line=dict(color=colors[0])))\n",
    "fig.update_xaxes(title_text='Size of BB in bytes (B = 1e9 = GB)')\n",
    "fig.update_yaxes(title_text='Workflow duration in seconds')\n",
    "fig.show()"
   ]
  },
  {
   "cell_type": "markdown",
   "metadata": {},
   "source": [
    "- each point is a placement configuration:\n",
    "  - for each dataset:\n",
    "    - the tier where it should be placed\n",
    "    - the use or not of the BB to prefetch/buffer "
   ]
  },
  {
   "cell_type": "markdown",
   "metadata": {},
   "source": [
    "Show some samples"
   ]
  },
  {
   "cell_type": "code",
   "execution_count": 13,
   "metadata": {},
   "outputs": [
    {
     "name": "stdout",
     "output_type": "stream",
     "text": [
      "Displaying result for placement parameter = [1. 1. 0. 1. 1. 0. 1. 1. 0. 0. 0. 0. 0. 1.]\n",
      "    | app#1 : tier placement: [1. 1.] | use_bb = [False, False]\n",
      "    | app#2 : tier placement: [0. 1. 1.] | use_bb = [False, False, False]\n",
      "    | app#3 : tier placement: [1. 1.] | use_bb = [False, False]\n",
      "    | runtime = 398.2142857142858 |  BB_size = 0B\n"
     ]
    },
    {
     "data": {
      "application/vnd.plotly.v1+json": {
       "config": {
        "plotlyServerURL": "https://plot.ly"
       },
       "data": [
        {
         "line": {
          "shape": "linear"
         },
         "name": "app#D2",
         "text": [
          "READ|to/from:SSD|volume=1.0 GB",
          "READ|to/from:SSD|volume=1.0 GB",
          "COMPUTE|volume=0B",
          "COMPUTE|volume=0B",
          "WRITE|to/from:SSD|volume=214.29 MB",
          "WRITE|to/from:SSD|volume=214.29 MB",
          "WRITE|to/from:SSD|volume=214.29 MB",
          "WRITE|to/from:SSD|volume=214.29 MB",
          "WRITE|to/from:SSD|volume=470.24 MB",
          "WRITE|to/from:SSD|volume=470.24 MB",
          "WRITE|to/from:SSD|volume=59.52 MB",
          "WRITE|to/from:SSD|volume=59.52 MB",
          "WRITE|to/from:SSD|volume=970.24 MB",
          "WRITE|to/from:SSD|volume=970.24 MB",
          "WRITE|to/from:SSD|volume=700.4 MB",
          "WRITE|to/from:SSD|volume=700.4 MB",
          "WRITE|to/from:SSD|volume=1.35 GB",
          "WRITE|to/from:SSD|volume=1.35 GB",
          "WRITE|to/from:SSD|volume=19.84 MB",
          "WRITE|to/from:SSD|volume=19.84 MB",
          "WRITE|to/from:SSD|volume=473.7 EB",
          "WRITE|to/from:SSD|volume=473.7 EB",
          "WRITE|to/from:SSD|volume=1.0 GB",
          "WRITE|to/from:SSD|volume=1.0 GB"
         ],
         "textposition": "top center",
         "type": "scatter",
         "x": [
          0,
          9.523809523809524,
          9.523809523809524,
          19.523809523809526,
          19.523809523809526,
          23.80952380952381,
          23.80952380952381,
          28.09523809523809,
          28.09523809523809,
          37.50000000000001,
          37.50000000000001,
          38.09523809523809,
          38.09523809523809,
          57.50000000000001,
          57.50000000000001,
          78.51190476190476,
          78.51190476190476,
          118.92857142857144,
          118.92857142857144,
          119.52380952380952,
          119.52380952380952,
          119.52380952380953,
          119.52380952380953,
          149.64285714285717
         ],
         "xaxis": "x",
         "y": [
          105,
          105,
          0,
          0,
          50,
          50,
          50,
          50,
          50,
          50,
          100,
          100,
          50,
          50,
          33.33333333333333,
          33.33333333333333,
          33.33333333333333,
          33.33333333333333,
          33.33333333333333,
          33.33333333333333,
          33.33333333333333,
          33.33333333333333,
          33.33333333333333,
          33.33333333333333
         ],
         "yaxis": "y"
        },
        {
         "line": {
          "dash": "dot",
          "shape": "linear"
         },
         "name": "D2 mvt",
         "text": [],
         "textposition": "top center",
         "type": "scatter",
         "x": [],
         "xaxis": "x",
         "y": [],
         "yaxis": "y"
        },
        {
         "line": {
          "shape": "linear"
         },
         "name": "app#W2",
         "text": [
          "READ|to/from:SSD|volume=1.0 GB",
          "READ|to/from:SSD|volume=1.0 GB",
          "READ|to/from:SSD|volume=2.1 GB",
          "READ|to/from:SSD|volume=2.1 GB",
          "READ|to/from:SSD|volume=450.0 MB",
          "READ|to/from:SSD|volume=450.0 MB",
          "READ|to/from:SSD|volume=450.0 MB",
          "READ|to/from:SSD|volume=450.0 MB",
          "READ|to/from:SSD|volume=119.21 EB",
          "READ|to/from:SSD|volume=119.21 EB",
          "COMPUTE|volume=0B",
          "COMPUTE|volume=0B",
          "WRITE|to/from:SSD|volume=970.24 MB",
          "WRITE|to/from:SSD|volume=970.24 MB",
          "WRITE|to/from:SSD|volume=700.4 MB",
          "WRITE|to/from:SSD|volume=700.4 MB",
          "WRITE|to/from:SSD|volume=1.35 GB",
          "WRITE|to/from:SSD|volume=1.35 GB",
          "WRITE|to/from:SSD|volume=19.84 MB",
          "WRITE|to/from:SSD|volume=19.84 MB",
          "WRITE|to/from:SSD|volume=473.7 EB",
          "WRITE|to/from:SSD|volume=473.7 EB",
          "WRITE|to/from:SSD|volume=1.0 GB",
          "WRITE|to/from:SSD|volume=1.0 GB",
          "WRITE|to/from:SSD|volume=1.93 GB",
          "WRITE|to/from:SSD|volume=1.93 GB",
          "WRITE|to/from:SSD|volume=1.0 GB",
          "WRITE|to/from:SSD|volume=1.0 GB",
          "WRITE|to/from:SSD|volume=14.88 MB",
          "WRITE|to/from:SSD|volume=14.88 MB",
          "WRITE|to/from:SSD|volume=14.88 MB",
          "WRITE|to/from:SSD|volume=14.88 MB",
          "WRITE|to/from:SSD|volume=558.79 EB",
          "WRITE|to/from:SSD|volume=558.79 EB"
         ],
         "textposition": "top center",
         "type": "scatter",
         "x": [
          0,
          9.523809523809524,
          9.523809523809524,
          19.523809523809526,
          19.523809523809526,
          23.80952380952381,
          23.80952380952381,
          28.09523809523809,
          28.09523809523809,
          28.09523809523809,
          28.09523809523809,
          38.09523809523809,
          38.09523809523809,
          57.50000000000001,
          57.50000000000001,
          78.51190476190476,
          78.51190476190476,
          118.92857142857144,
          118.92857142857144,
          119.52380952380952,
          119.52380952380952,
          119.52380952380953,
          119.52380952380953,
          149.64285714285717,
          149.64285714285717,
          188.21428571428572,
          188.21428571428572,
          198.21428571428572,
          198.21428571428572,
          198.51190476190476,
          198.51190476190476,
          198.8095238095238,
          198.8095238095238,
          198.8095238095238
         ],
         "xaxis": "x2",
         "y": [
          105,
          105,
          210,
          210,
          105,
          105,
          105,
          105,
          105,
          105,
          0,
          0,
          50,
          50,
          33.33333333333333,
          33.33333333333333,
          33.33333333333333,
          33.33333333333333,
          33.33333333333333,
          33.33333333333333,
          33.33333333333333,
          33.33333333333333,
          33.33333333333333,
          33.33333333333333,
          50,
          50,
          100,
          100,
          50,
          50,
          50,
          50,
          50,
          50
         ],
         "yaxis": "y2"
        },
        {
         "line": {
          "dash": "dot",
          "shape": "linear"
         },
         "name": "W2 mvt",
         "text": [],
         "textposition": "top center",
         "type": "scatter",
         "x": [],
         "xaxis": "x2",
         "y": [],
         "yaxis": "y2"
        },
        {
         "line": {
          "shape": "linear"
         },
         "name": "app#X9",
         "text": [
          "READ|to/from:HDD|volume=761.9 MB",
          "READ|to/from:HDD|volume=761.9 MB",
          "READ|to/from:HDD|volume=800.0 MB",
          "READ|to/from:HDD|volume=800.0 MB",
          "READ|to/from:HDD|volume=342.86 MB",
          "READ|to/from:HDD|volume=342.86 MB",
          "READ|to/from:HDD|volume=342.86 MB",
          "READ|to/from:HDD|volume=342.86 MB",
          "READ|to/from:HDD|volume=752.38 MB",
          "READ|to/from:HDD|volume=752.38 MB",
          "COMPUTE|volume=0B",
          "COMPUTE|volume=0B",
          "WRITE|to/from:SSD|volume=700.4 MB",
          "WRITE|to/from:SSD|volume=700.4 MB",
          "WRITE|to/from:SSD|volume=1.35 GB",
          "WRITE|to/from:SSD|volume=1.35 GB",
          "WRITE|to/from:SSD|volume=19.84 MB",
          "WRITE|to/from:SSD|volume=19.84 MB",
          "WRITE|to/from:SSD|volume=473.7 EB",
          "WRITE|to/from:SSD|volume=473.7 EB",
          "WRITE|to/from:SSD|volume=1.0 GB",
          "WRITE|to/from:SSD|volume=1.0 GB",
          "WRITE|to/from:SSD|volume=1.93 GB",
          "WRITE|to/from:SSD|volume=1.93 GB",
          "COMPUTE|volume=0B",
          "COMPUTE|volume=0B",
          "WRITE|to/from:SSD|volume=14.88 MB",
          "WRITE|to/from:SSD|volume=14.88 MB",
          "WRITE|to/from:SSD|volume=14.88 MB",
          "WRITE|to/from:SSD|volume=14.88 MB",
          "WRITE|to/from:SSD|volume=9.97 GB",
          "WRITE|to/from:SSD|volume=9.97 GB"
         ],
         "textposition": "top center",
         "type": "scatter",
         "x": [
          0,
          9.523809523809524,
          9.523809523809524,
          19.523809523809526,
          19.523809523809526,
          23.80952380952381,
          23.80952380952381,
          28.09523809523809,
          28.09523809523809,
          37.50000000000001,
          37.50000000000001,
          57.50000000000001,
          57.50000000000001,
          78.51190476190476,
          78.51190476190476,
          118.92857142857144,
          118.92857142857144,
          119.52380952380952,
          119.52380952380952,
          119.52380952380953,
          119.52380952380953,
          149.64285714285717,
          149.64285714285717,
          188.21428571428572,
          188.21428571428572,
          198.21428571428572,
          198.21428571428572,
          198.51190476190476,
          198.51190476190476,
          198.8095238095238,
          198.8095238095238,
          398.2142857142858
         ],
         "xaxis": "x3",
         "y": [
          80,
          80,
          80,
          80,
          80,
          80,
          80,
          80,
          80,
          80,
          0,
          0,
          33.33333333333333,
          33.33333333333333,
          33.33333333333333,
          33.33333333333333,
          33.33333333333333,
          33.33333333333333,
          33.33333333333333,
          33.33333333333333,
          33.33333333333333,
          33.33333333333333,
          50,
          50,
          0,
          0,
          50,
          50,
          50,
          50,
          50,
          50
         ],
         "yaxis": "y3"
        },
        {
         "line": {
          "dash": "dot",
          "shape": "linear"
         },
         "name": "X9 mvt",
         "text": [],
         "textposition": "top center",
         "type": "scatter",
         "x": [],
         "xaxis": "x3",
         "y": [],
         "yaxis": "y3"
        },
        {
         "line": {
          "shape": "linear"
         },
         "name": "BB",
         "showlegend": false,
         "text": [
          "D2|Read|SSD | +volume=1.0 GB",
          "W2|Read|SSD | +volume=1.0 GB",
          "X9|Read|HDD | +volume=761.9 MB",
          "D2|Compute | +volume=0B",
          "W2|Read|SSD | +volume=2.1 GB",
          "X9|Read|HDD | +volume=800.0 MB",
          "W2|Read|SSD | +volume=450.0 MB",
          "X9|Read|HDD | +volume=342.86 MB",
          "D2|Write|SSD | +volume=214.29 MB",
          "W2|Read|SSD | +volume=450.0 MB",
          "X9|Read|HDD | +volume=342.86 MB",
          "D2|Write|SSD | +volume=214.29 MB",
          "W2|Read|SSD | +volume=119.21 EB",
          "X9|Read|HDD | +volume=752.38 MB",
          "D2|Write|SSD | +volume=470.24 MB",
          "W2|Compute | +volume=0B",
          "D2|Write|SSD | +volume=59.52 MB",
          "X9|Compute | +volume=0B",
          "D2|Write|SSD | +volume=970.24 MB",
          "W2|Write|SSD | +volume=970.24 MB",
          "D2|Write|SSD | +volume=700.4 MB",
          "X9|Write|SSD | +volume=700.4 MB",
          "W2|Write|SSD | +volume=700.4 MB",
          "D2|Write|SSD | +volume=1.35 GB",
          "X9|Write|SSD | +volume=1.35 GB",
          "W2|Write|SSD | +volume=1.35 GB",
          "D2|Write|SSD | +volume=19.84 MB",
          "X9|Write|SSD | +volume=19.84 MB",
          "W2|Write|SSD | +volume=19.84 MB",
          "D2|Write|SSD | +volume=473.7 EB",
          "X9|Write|SSD | +volume=473.7 EB",
          "W2|Write|SSD | +volume=473.7 EB",
          "D2|Write|SSD | +volume=1.0 GB",
          "X9|Write|SSD | +volume=1.0 GB",
          "W2|Write|SSD | +volume=1.0 GB",
          "X9|Write|SSD | +volume=1.93 GB",
          "W2|Write|SSD | +volume=1.93 GB",
          "X9|Compute | +volume=0B",
          "W2|Write|SSD | +volume=1.0 GB",
          "W2|Write|SSD | +volume=14.88 MB",
          "X9|Write|SSD | +volume=14.88 MB",
          "W2|Write|SSD | +volume=14.88 MB",
          "X9|Write|SSD | +volume=14.88 MB",
          "W2|Write|SSD | +volume=558.79 EB",
          "X9|Write|SSD | +volume=9.97 GB"
         ],
         "textposition": "top center",
         "type": "scatter",
         "x": [
          0,
          9.523809523809524,
          19.523809523809526,
          23.80952380952381,
          28.09523809523809,
          37.50000000000001,
          38.09523809523809,
          57.50000000000001,
          78.51190476190476,
          118.92857142857144,
          119.52380952380952,
          119.52380952380953,
          149.64285714285717,
          188.21428571428572,
          198.21428571428572,
          198.51190476190476,
          198.8095238095238,
          398.2142857142858
         ],
         "xaxis": "x4",
         "y": [
          0,
          0,
          0,
          0,
          0,
          0,
          0,
          0,
          0,
          0,
          0,
          0,
          0,
          0,
          0,
          0,
          0,
          0
         ],
         "yaxis": "y4"
        },
        {
         "line": {
          "shape": "linear"
         },
         "name": "HDD",
         "showlegend": false,
         "text": [
          "D2|Read|SSD | +volume=1.0 GB",
          "W2|Read|SSD | +volume=1.0 GB",
          "X9|Read|HDD | +volume=761.9 MB",
          "D2|Compute | +volume=0B",
          "W2|Read|SSD | +volume=2.1 GB",
          "X9|Read|HDD | +volume=800.0 MB",
          "W2|Read|SSD | +volume=450.0 MB",
          "X9|Read|HDD | +volume=342.86 MB",
          "D2|Write|SSD | +volume=214.29 MB",
          "W2|Read|SSD | +volume=450.0 MB",
          "X9|Read|HDD | +volume=342.86 MB",
          "D2|Write|SSD | +volume=214.29 MB",
          "W2|Read|SSD | +volume=119.21 EB",
          "X9|Read|HDD | +volume=752.38 MB",
          "D2|Write|SSD | +volume=470.24 MB",
          "W2|Compute | +volume=0B",
          "D2|Write|SSD | +volume=59.52 MB",
          "X9|Compute | +volume=0B",
          "D2|Write|SSD | +volume=970.24 MB",
          "W2|Write|SSD | +volume=970.24 MB",
          "D2|Write|SSD | +volume=700.4 MB",
          "X9|Write|SSD | +volume=700.4 MB",
          "W2|Write|SSD | +volume=700.4 MB",
          "D2|Write|SSD | +volume=1.35 GB",
          "X9|Write|SSD | +volume=1.35 GB",
          "W2|Write|SSD | +volume=1.35 GB",
          "D2|Write|SSD | +volume=19.84 MB",
          "X9|Write|SSD | +volume=19.84 MB",
          "W2|Write|SSD | +volume=19.84 MB",
          "D2|Write|SSD | +volume=473.7 EB",
          "X9|Write|SSD | +volume=473.7 EB",
          "W2|Write|SSD | +volume=473.7 EB",
          "D2|Write|SSD | +volume=1.0 GB",
          "X9|Write|SSD | +volume=1.0 GB",
          "W2|Write|SSD | +volume=1.0 GB",
          "X9|Write|SSD | +volume=1.93 GB",
          "W2|Write|SSD | +volume=1.93 GB",
          "X9|Compute | +volume=0B",
          "W2|Write|SSD | +volume=1.0 GB",
          "W2|Write|SSD | +volume=14.88 MB",
          "X9|Write|SSD | +volume=14.88 MB",
          "W2|Write|SSD | +volume=14.88 MB",
          "X9|Write|SSD | +volume=14.88 MB",
          "W2|Write|SSD | +volume=558.79 EB",
          "X9|Write|SSD | +volume=9.97 GB"
         ],
         "textposition": "top center",
         "type": "scatter",
         "x": [
          0,
          9.523809523809524,
          19.523809523809526,
          23.80952380952381,
          28.09523809523809,
          37.50000000000001,
          38.09523809523809,
          57.50000000000001,
          78.51190476190476,
          118.92857142857144,
          119.52380952380952,
          119.52380952380953,
          149.64285714285717,
          188.21428571428572,
          198.21428571428572,
          198.51190476190476,
          198.8095238095238,
          398.2142857142858
         ],
         "xaxis": "x5",
         "y": [
          0,
          3000000000,
          3000000000,
          3000000000,
          3000000000,
          3000000000,
          3000000000,
          3000000000,
          3000000000,
          3000000000,
          3000000000,
          3000000000,
          3000000000,
          3000000000,
          3000000000,
          3000000000,
          3000000000,
          3000000000
         ],
         "yaxis": "y5"
        },
        {
         "line": {
          "shape": "linear"
         },
         "name": "SSD",
         "showlegend": false,
         "text": [
          "D2|Read|SSD | +volume=1.0 GB",
          "W2|Read|SSD | +volume=1.0 GB",
          "X9|Read|HDD | +volume=761.9 MB",
          "D2|Compute | +volume=0B",
          "W2|Read|SSD | +volume=2.1 GB",
          "X9|Read|HDD | +volume=800.0 MB",
          "W2|Read|SSD | +volume=450.0 MB",
          "X9|Read|HDD | +volume=342.86 MB",
          "D2|Write|SSD | +volume=214.29 MB",
          "W2|Read|SSD | +volume=450.0 MB",
          "X9|Read|HDD | +volume=342.86 MB",
          "D2|Write|SSD | +volume=214.29 MB",
          "W2|Read|SSD | +volume=119.21 EB",
          "X9|Read|HDD | +volume=752.38 MB",
          "D2|Write|SSD | +volume=470.24 MB",
          "W2|Compute | +volume=0B",
          "D2|Write|SSD | +volume=59.52 MB",
          "X9|Compute | +volume=0B",
          "D2|Write|SSD | +volume=970.24 MB",
          "W2|Write|SSD | +volume=970.24 MB",
          "D2|Write|SSD | +volume=700.4 MB",
          "X9|Write|SSD | +volume=700.4 MB",
          "W2|Write|SSD | +volume=700.4 MB",
          "D2|Write|SSD | +volume=1.35 GB",
          "X9|Write|SSD | +volume=1.35 GB",
          "W2|Write|SSD | +volume=1.35 GB",
          "D2|Write|SSD | +volume=19.84 MB",
          "X9|Write|SSD | +volume=19.84 MB",
          "W2|Write|SSD | +volume=19.84 MB",
          "D2|Write|SSD | +volume=473.7 EB",
          "X9|Write|SSD | +volume=473.7 EB",
          "W2|Write|SSD | +volume=473.7 EB",
          "D2|Write|SSD | +volume=1.0 GB",
          "X9|Write|SSD | +volume=1.0 GB",
          "W2|Write|SSD | +volume=1.0 GB",
          "X9|Write|SSD | +volume=1.93 GB",
          "W2|Write|SSD | +volume=1.93 GB",
          "X9|Compute | +volume=0B",
          "W2|Write|SSD | +volume=1.0 GB",
          "W2|Write|SSD | +volume=14.88 MB",
          "X9|Write|SSD | +volume=14.88 MB",
          "W2|Write|SSD | +volume=14.88 MB",
          "X9|Write|SSD | +volume=14.88 MB",
          "W2|Write|SSD | +volume=558.79 EB",
          "X9|Write|SSD | +volume=9.97 GB"
         ],
         "textposition": "top center",
         "type": "scatter",
         "x": [
          0,
          9.523809523809524,
          19.523809523809526,
          23.80952380952381,
          28.09523809523809,
          37.50000000000001,
          38.09523809523809,
          57.50000000000001,
          78.51190476190476,
          118.92857142857144,
          119.52380952380952,
          119.52380952380953,
          149.64285714285717,
          188.21428571428572,
          198.21428571428572,
          198.51190476190476,
          198.8095238095238,
          398.2142857142858
         ],
         "xaxis": "x6",
         "y": [
          0,
          4000000000,
          4000000000,
          4214285714.285714,
          4428571428.571429,
          4898809523.809525,
          4958333333.333333,
          6898809523.8095255,
          9000000000,
          13041666666.66667,
          13101190476.190474,
          13101190476.190474,
          16113095238.095238,
          19970238095.238094,
          20970238095.238094,
          20999999999.999996,
          21029761904.761898,
          30999999999.999996
         ],
         "yaxis": "y6"
        },
        {
         "line": {
          "shape": "hv"
         },
         "showlegend": false,
         "type": "scatter",
         "x": [
          0,
          9.523809523809524,
          19.523809523809526,
          23.80952380952381,
          28.09523809523809,
          37.50000000000001,
          38.09523809523809,
          57.50000000000001,
          78.51190476190476,
          118.92857142857144,
          119.52380952380952,
          119.52380952380953,
          149.64285714285717,
          188.21428571428572,
          198.21428571428572,
          198.51190476190476,
          198.8095238095238,
          398.2142857142858
         ],
         "xaxis": "x7",
         "y": [
          3,
          3,
          3,
          3,
          3,
          3,
          3,
          3,
          3,
          3,
          3,
          3,
          2,
          2,
          2,
          2,
          1,
          0
         ],
         "yaxis": "y7"
        },
        {
         "line": {
          "color": "red",
          "dash": "dot",
          "shape": "hv",
          "width": 3
         },
         "showlegend": false,
         "text": [
          "Maximum available cores in cluster=10",
          "Maximum available cores in cluster=10"
         ],
         "type": "scatter",
         "x": [
          0,
          398.2142857142858
         ],
         "xaxis": "x7",
         "y": [
          10,
          10
         ],
         "yaxis": "y7"
        }
       ],
       "layout": {
        "annotations": [
         {
          "font": {
           "size": 16
          },
          "showarrow": false,
          "text": "D2",
          "x": 0.5,
          "xanchor": "center",
          "xref": "paper",
          "y": 0.9999999999999999,
          "yanchor": "bottom",
          "yref": "paper"
         },
         {
          "font": {
           "size": 16
          },
          "showarrow": false,
          "text": "W2",
          "x": 0.5,
          "xanchor": "center",
          "xref": "paper",
          "y": 0.8469387755102039,
          "yanchor": "bottom",
          "yref": "paper"
         },
         {
          "font": {
           "size": 16
          },
          "showarrow": false,
          "text": "X9",
          "x": 0.5,
          "xanchor": "center",
          "xref": "paper",
          "y": 0.6938775510204082,
          "yanchor": "bottom",
          "yref": "paper"
         },
         {
          "font": {
           "size": 16
          },
          "showarrow": false,
          "text": "BB (50.0 GB)",
          "x": 0.5,
          "xanchor": "center",
          "xref": "paper",
          "y": 0.5408163265306122,
          "yanchor": "bottom",
          "yref": "paper"
         },
         {
          "font": {
           "size": 16
          },
          "showarrow": false,
          "text": "HDD (1.0 TB)",
          "x": 0.5,
          "xanchor": "center",
          "xref": "paper",
          "y": 0.3877551020408163,
          "yanchor": "bottom",
          "yref": "paper"
         },
         {
          "font": {
           "size": 16
          },
          "showarrow": false,
          "text": "SSD (200.0 GB)",
          "x": 0.5,
          "xanchor": "center",
          "xref": "paper",
          "y": 0.2346938775510204,
          "yanchor": "bottom",
          "yref": "paper"
         },
         {
          "font": {
           "size": 16
          },
          "showarrow": false,
          "text": "CPU Cores",
          "x": 0.5,
          "xanchor": "center",
          "xref": "paper",
          "y": 0.08163265306122448,
          "yanchor": "bottom",
          "yref": "paper"
         }
        ],
        "height": 900,
        "template": {
         "data": {
          "bar": [
           {
            "error_x": {
             "color": "#2a3f5f"
            },
            "error_y": {
             "color": "#2a3f5f"
            },
            "marker": {
             "line": {
              "color": "#E5ECF6",
              "width": 0.5
             }
            },
            "type": "bar"
           }
          ],
          "barpolar": [
           {
            "marker": {
             "line": {
              "color": "#E5ECF6",
              "width": 0.5
             }
            },
            "type": "barpolar"
           }
          ],
          "carpet": [
           {
            "aaxis": {
             "endlinecolor": "#2a3f5f",
             "gridcolor": "white",
             "linecolor": "white",
             "minorgridcolor": "white",
             "startlinecolor": "#2a3f5f"
            },
            "baxis": {
             "endlinecolor": "#2a3f5f",
             "gridcolor": "white",
             "linecolor": "white",
             "minorgridcolor": "white",
             "startlinecolor": "#2a3f5f"
            },
            "type": "carpet"
           }
          ],
          "choropleth": [
           {
            "colorbar": {
             "outlinewidth": 0,
             "ticks": ""
            },
            "type": "choropleth"
           }
          ],
          "contour": [
           {
            "colorbar": {
             "outlinewidth": 0,
             "ticks": ""
            },
            "colorscale": [
             [
              0,
              "#0d0887"
             ],
             [
              0.1111111111111111,
              "#46039f"
             ],
             [
              0.2222222222222222,
              "#7201a8"
             ],
             [
              0.3333333333333333,
              "#9c179e"
             ],
             [
              0.4444444444444444,
              "#bd3786"
             ],
             [
              0.5555555555555556,
              "#d8576b"
             ],
             [
              0.6666666666666666,
              "#ed7953"
             ],
             [
              0.7777777777777778,
              "#fb9f3a"
             ],
             [
              0.8888888888888888,
              "#fdca26"
             ],
             [
              1,
              "#f0f921"
             ]
            ],
            "type": "contour"
           }
          ],
          "contourcarpet": [
           {
            "colorbar": {
             "outlinewidth": 0,
             "ticks": ""
            },
            "type": "contourcarpet"
           }
          ],
          "heatmap": [
           {
            "colorbar": {
             "outlinewidth": 0,
             "ticks": ""
            },
            "colorscale": [
             [
              0,
              "#0d0887"
             ],
             [
              0.1111111111111111,
              "#46039f"
             ],
             [
              0.2222222222222222,
              "#7201a8"
             ],
             [
              0.3333333333333333,
              "#9c179e"
             ],
             [
              0.4444444444444444,
              "#bd3786"
             ],
             [
              0.5555555555555556,
              "#d8576b"
             ],
             [
              0.6666666666666666,
              "#ed7953"
             ],
             [
              0.7777777777777778,
              "#fb9f3a"
             ],
             [
              0.8888888888888888,
              "#fdca26"
             ],
             [
              1,
              "#f0f921"
             ]
            ],
            "type": "heatmap"
           }
          ],
          "heatmapgl": [
           {
            "colorbar": {
             "outlinewidth": 0,
             "ticks": ""
            },
            "colorscale": [
             [
              0,
              "#0d0887"
             ],
             [
              0.1111111111111111,
              "#46039f"
             ],
             [
              0.2222222222222222,
              "#7201a8"
             ],
             [
              0.3333333333333333,
              "#9c179e"
             ],
             [
              0.4444444444444444,
              "#bd3786"
             ],
             [
              0.5555555555555556,
              "#d8576b"
             ],
             [
              0.6666666666666666,
              "#ed7953"
             ],
             [
              0.7777777777777778,
              "#fb9f3a"
             ],
             [
              0.8888888888888888,
              "#fdca26"
             ],
             [
              1,
              "#f0f921"
             ]
            ],
            "type": "heatmapgl"
           }
          ],
          "histogram": [
           {
            "marker": {
             "colorbar": {
              "outlinewidth": 0,
              "ticks": ""
             }
            },
            "type": "histogram"
           }
          ],
          "histogram2d": [
           {
            "colorbar": {
             "outlinewidth": 0,
             "ticks": ""
            },
            "colorscale": [
             [
              0,
              "#0d0887"
             ],
             [
              0.1111111111111111,
              "#46039f"
             ],
             [
              0.2222222222222222,
              "#7201a8"
             ],
             [
              0.3333333333333333,
              "#9c179e"
             ],
             [
              0.4444444444444444,
              "#bd3786"
             ],
             [
              0.5555555555555556,
              "#d8576b"
             ],
             [
              0.6666666666666666,
              "#ed7953"
             ],
             [
              0.7777777777777778,
              "#fb9f3a"
             ],
             [
              0.8888888888888888,
              "#fdca26"
             ],
             [
              1,
              "#f0f921"
             ]
            ],
            "type": "histogram2d"
           }
          ],
          "histogram2dcontour": [
           {
            "colorbar": {
             "outlinewidth": 0,
             "ticks": ""
            },
            "colorscale": [
             [
              0,
              "#0d0887"
             ],
             [
              0.1111111111111111,
              "#46039f"
             ],
             [
              0.2222222222222222,
              "#7201a8"
             ],
             [
              0.3333333333333333,
              "#9c179e"
             ],
             [
              0.4444444444444444,
              "#bd3786"
             ],
             [
              0.5555555555555556,
              "#d8576b"
             ],
             [
              0.6666666666666666,
              "#ed7953"
             ],
             [
              0.7777777777777778,
              "#fb9f3a"
             ],
             [
              0.8888888888888888,
              "#fdca26"
             ],
             [
              1,
              "#f0f921"
             ]
            ],
            "type": "histogram2dcontour"
           }
          ],
          "mesh3d": [
           {
            "colorbar": {
             "outlinewidth": 0,
             "ticks": ""
            },
            "type": "mesh3d"
           }
          ],
          "parcoords": [
           {
            "line": {
             "colorbar": {
              "outlinewidth": 0,
              "ticks": ""
             }
            },
            "type": "parcoords"
           }
          ],
          "pie": [
           {
            "automargin": true,
            "type": "pie"
           }
          ],
          "scatter": [
           {
            "marker": {
             "colorbar": {
              "outlinewidth": 0,
              "ticks": ""
             }
            },
            "type": "scatter"
           }
          ],
          "scatter3d": [
           {
            "line": {
             "colorbar": {
              "outlinewidth": 0,
              "ticks": ""
             }
            },
            "marker": {
             "colorbar": {
              "outlinewidth": 0,
              "ticks": ""
             }
            },
            "type": "scatter3d"
           }
          ],
          "scattercarpet": [
           {
            "marker": {
             "colorbar": {
              "outlinewidth": 0,
              "ticks": ""
             }
            },
            "type": "scattercarpet"
           }
          ],
          "scattergeo": [
           {
            "marker": {
             "colorbar": {
              "outlinewidth": 0,
              "ticks": ""
             }
            },
            "type": "scattergeo"
           }
          ],
          "scattergl": [
           {
            "marker": {
             "colorbar": {
              "outlinewidth": 0,
              "ticks": ""
             }
            },
            "type": "scattergl"
           }
          ],
          "scattermapbox": [
           {
            "marker": {
             "colorbar": {
              "outlinewidth": 0,
              "ticks": ""
             }
            },
            "type": "scattermapbox"
           }
          ],
          "scatterpolar": [
           {
            "marker": {
             "colorbar": {
              "outlinewidth": 0,
              "ticks": ""
             }
            },
            "type": "scatterpolar"
           }
          ],
          "scatterpolargl": [
           {
            "marker": {
             "colorbar": {
              "outlinewidth": 0,
              "ticks": ""
             }
            },
            "type": "scatterpolargl"
           }
          ],
          "scatterternary": [
           {
            "marker": {
             "colorbar": {
              "outlinewidth": 0,
              "ticks": ""
             }
            },
            "type": "scatterternary"
           }
          ],
          "surface": [
           {
            "colorbar": {
             "outlinewidth": 0,
             "ticks": ""
            },
            "colorscale": [
             [
              0,
              "#0d0887"
             ],
             [
              0.1111111111111111,
              "#46039f"
             ],
             [
              0.2222222222222222,
              "#7201a8"
             ],
             [
              0.3333333333333333,
              "#9c179e"
             ],
             [
              0.4444444444444444,
              "#bd3786"
             ],
             [
              0.5555555555555556,
              "#d8576b"
             ],
             [
              0.6666666666666666,
              "#ed7953"
             ],
             [
              0.7777777777777778,
              "#fb9f3a"
             ],
             [
              0.8888888888888888,
              "#fdca26"
             ],
             [
              1,
              "#f0f921"
             ]
            ],
            "type": "surface"
           }
          ],
          "table": [
           {
            "cells": {
             "fill": {
              "color": "#EBF0F8"
             },
             "line": {
              "color": "white"
             }
            },
            "header": {
             "fill": {
              "color": "#C8D4E3"
             },
             "line": {
              "color": "white"
             }
            },
            "type": "table"
           }
          ]
         },
         "layout": {
          "annotationdefaults": {
           "arrowcolor": "#2a3f5f",
           "arrowhead": 0,
           "arrowwidth": 1
          },
          "coloraxis": {
           "colorbar": {
            "outlinewidth": 0,
            "ticks": ""
           }
          },
          "colorscale": {
           "diverging": [
            [
             0,
             "#8e0152"
            ],
            [
             0.1,
             "#c51b7d"
            ],
            [
             0.2,
             "#de77ae"
            ],
            [
             0.3,
             "#f1b6da"
            ],
            [
             0.4,
             "#fde0ef"
            ],
            [
             0.5,
             "#f7f7f7"
            ],
            [
             0.6,
             "#e6f5d0"
            ],
            [
             0.7,
             "#b8e186"
            ],
            [
             0.8,
             "#7fbc41"
            ],
            [
             0.9,
             "#4d9221"
            ],
            [
             1,
             "#276419"
            ]
           ],
           "sequential": [
            [
             0,
             "#0d0887"
            ],
            [
             0.1111111111111111,
             "#46039f"
            ],
            [
             0.2222222222222222,
             "#7201a8"
            ],
            [
             0.3333333333333333,
             "#9c179e"
            ],
            [
             0.4444444444444444,
             "#bd3786"
            ],
            [
             0.5555555555555556,
             "#d8576b"
            ],
            [
             0.6666666666666666,
             "#ed7953"
            ],
            [
             0.7777777777777778,
             "#fb9f3a"
            ],
            [
             0.8888888888888888,
             "#fdca26"
            ],
            [
             1,
             "#f0f921"
            ]
           ],
           "sequentialminus": [
            [
             0,
             "#0d0887"
            ],
            [
             0.1111111111111111,
             "#46039f"
            ],
            [
             0.2222222222222222,
             "#7201a8"
            ],
            [
             0.3333333333333333,
             "#9c179e"
            ],
            [
             0.4444444444444444,
             "#bd3786"
            ],
            [
             0.5555555555555556,
             "#d8576b"
            ],
            [
             0.6666666666666666,
             "#ed7953"
            ],
            [
             0.7777777777777778,
             "#fb9f3a"
            ],
            [
             0.8888888888888888,
             "#fdca26"
            ],
            [
             1,
             "#f0f921"
            ]
           ]
          },
          "colorway": [
           "#636efa",
           "#EF553B",
           "#00cc96",
           "#ab63fa",
           "#FFA15A",
           "#19d3f3",
           "#FF6692",
           "#B6E880",
           "#FF97FF",
           "#FECB52"
          ],
          "font": {
           "color": "#2a3f5f"
          },
          "geo": {
           "bgcolor": "white",
           "lakecolor": "white",
           "landcolor": "#E5ECF6",
           "showlakes": true,
           "showland": true,
           "subunitcolor": "white"
          },
          "hoverlabel": {
           "align": "left"
          },
          "hovermode": "closest",
          "mapbox": {
           "style": "light"
          },
          "paper_bgcolor": "white",
          "plot_bgcolor": "#E5ECF6",
          "polar": {
           "angularaxis": {
            "gridcolor": "white",
            "linecolor": "white",
            "ticks": ""
           },
           "bgcolor": "#E5ECF6",
           "radialaxis": {
            "gridcolor": "white",
            "linecolor": "white",
            "ticks": ""
           }
          },
          "scene": {
           "xaxis": {
            "backgroundcolor": "#E5ECF6",
            "gridcolor": "white",
            "gridwidth": 2,
            "linecolor": "white",
            "showbackground": true,
            "ticks": "",
            "zerolinecolor": "white"
           },
           "yaxis": {
            "backgroundcolor": "#E5ECF6",
            "gridcolor": "white",
            "gridwidth": 2,
            "linecolor": "white",
            "showbackground": true,
            "ticks": "",
            "zerolinecolor": "white"
           },
           "zaxis": {
            "backgroundcolor": "#E5ECF6",
            "gridcolor": "white",
            "gridwidth": 2,
            "linecolor": "white",
            "showbackground": true,
            "ticks": "",
            "zerolinecolor": "white"
           }
          },
          "shapedefaults": {
           "line": {
            "color": "#2a3f5f"
           }
          },
          "ternary": {
           "aaxis": {
            "gridcolor": "white",
            "linecolor": "white",
            "ticks": ""
           },
           "baxis": {
            "gridcolor": "white",
            "linecolor": "white",
            "ticks": ""
           },
           "bgcolor": "#E5ECF6",
           "caxis": {
            "gridcolor": "white",
            "linecolor": "white",
            "ticks": ""
           }
          },
          "title": {
           "x": 0.05
          },
          "xaxis": {
           "automargin": true,
           "gridcolor": "white",
           "linecolor": "white",
           "ticks": "",
           "title": {
            "standoff": 15
           },
           "zerolinecolor": "white",
           "zerolinewidth": 2
          },
          "yaxis": {
           "automargin": true,
           "gridcolor": "white",
           "linecolor": "white",
           "ticks": "",
           "title": {
            "standoff": 15
           },
           "zerolinecolor": "white",
           "zerolinewidth": 2
          }
         }
        },
        "title": {
         "text": "State of the Cluster"
        },
        "width": 800,
        "xaxis": {
         "anchor": "y",
         "domain": [
          0,
          1
         ],
         "matches": "x7",
         "showticklabels": false,
         "title": {
          "text": "time in s"
         }
        },
        "xaxis2": {
         "anchor": "y2",
         "domain": [
          0,
          1
         ],
         "matches": "x7",
         "showticklabels": false,
         "title": {
          "text": "time in s"
         }
        },
        "xaxis3": {
         "anchor": "y3",
         "domain": [
          0,
          1
         ],
         "matches": "x7",
         "showticklabels": false,
         "title": {
          "text": "time in s"
         }
        },
        "xaxis4": {
         "anchor": "y4",
         "domain": [
          0,
          1
         ],
         "matches": "x7",
         "showticklabels": false,
         "title": {
          "text": "time in s"
         }
        },
        "xaxis5": {
         "anchor": "y5",
         "domain": [
          0,
          1
         ],
         "matches": "x7",
         "showticklabels": false,
         "title": {
          "text": "time in s"
         }
        },
        "xaxis6": {
         "anchor": "y6",
         "domain": [
          0,
          1
         ],
         "matches": "x7",
         "showticklabels": false,
         "title": {
          "text": "time in s"
         }
        },
        "xaxis7": {
         "anchor": "y7",
         "domain": [
          0,
          1
         ],
         "title": {
          "text": "time in s"
         }
        },
        "yaxis": {
         "anchor": "x",
         "domain": [
          0.9183673469387754,
          0.9999999999999999
         ],
         "title": {
          "text": "dataflow in MB/s"
         }
        },
        "yaxis2": {
         "anchor": "x2",
         "domain": [
          0.7653061224489794,
          0.8469387755102039
         ],
         "title": {
          "text": "dataflow in MB/s"
         }
        },
        "yaxis3": {
         "anchor": "x3",
         "domain": [
          0.6122448979591837,
          0.6938775510204082
         ],
         "title": {
          "text": "dataflow in MB/s"
         }
        },
        "yaxis4": {
         "anchor": "x4",
         "domain": [
          0.4591836734693877,
          0.5408163265306122
         ],
         "title": {
          "text": "BB usage in Bytes"
         }
        },
        "yaxis5": {
         "anchor": "x5",
         "domain": [
          0.30612244897959184,
          0.3877551020408163
         ],
         "title": {
          "text": "HDD usage in Bytes"
         }
        },
        "yaxis6": {
         "anchor": "x6",
         "domain": [
          0.15306122448979592,
          0.2346938775510204
         ],
         "title": {
          "text": "SSD usage in Bytes"
         }
        },
        "yaxis7": {
         "anchor": "x7",
         "domain": [
          0,
          0.08163265306122448
         ],
         "title": {
          "text": "CPU usage"
         }
        }
       }
      }
     },
     "metadata": {},
     "output_type": "display_data"
    }
   ],
   "source": [
    "# indicate the number of trial\n",
    "cbb.display_placement(df.loc[29][\"Param\"])"
   ]
  },
  {
   "cell_type": "markdown",
   "metadata": {},
   "source": [
    "Efficient frontier / Pareto frontier"
   ]
  },
  {
   "cell_type": "code",
   "execution_count": 15,
   "metadata": {},
   "outputs": [
    {
     "data": {
      "application/vnd.plotly.v1+json": {
       "config": {
        "plotlyServerURL": "https://plot.ly"
       },
       "data": [
        {
         "line": {
          "color": "#636EFA"
         },
         "mode": "markers",
         "text": [
          "trial_index=0",
          "trial_index=1",
          "trial_index=2",
          "trial_index=3",
          "trial_index=4",
          "trial_index=5",
          "trial_index=6",
          "trial_index=7",
          "trial_index=8",
          "trial_index=9",
          "trial_index=10",
          "trial_index=11",
          "trial_index=12",
          "trial_index=13",
          "trial_index=14",
          "trial_index=15",
          "trial_index=16",
          "trial_index=17",
          "trial_index=18",
          "trial_index=19",
          "trial_index=20",
          "trial_index=21",
          "trial_index=22",
          "trial_index=23",
          "trial_index=24",
          "trial_index=25",
          "trial_index=26",
          "trial_index=27",
          "trial_index=28",
          "trial_index=29",
          "trial_index=30",
          "trial_index=31",
          "trial_index=32",
          "trial_index=33",
          "trial_index=34",
          "trial_index=35",
          "trial_index=36",
          "trial_index=37",
          "trial_index=38",
          "trial_index=39",
          "trial_index=40",
          "trial_index=41",
          "trial_index=42",
          "trial_index=43",
          "trial_index=44",
          "trial_index=45",
          "trial_index=46",
          "trial_index=47",
          "trial_index=48",
          "trial_index=49",
          "trial_index=50",
          "trial_index=51",
          "trial_index=52",
          "trial_index=53",
          "trial_index=54",
          "trial_index=55",
          "trial_index=56",
          "trial_index=57",
          "trial_index=58",
          "trial_index=59",
          "trial_index=60",
          "trial_index=61",
          "trial_index=62",
          "trial_index=63",
          "trial_index=64",
          "trial_index=65",
          "trial_index=66",
          "trial_index=67",
          "trial_index=68",
          "trial_index=69",
          "trial_index=70",
          "trial_index=71",
          "trial_index=72",
          "trial_index=73",
          "trial_index=74",
          "trial_index=75",
          "trial_index=76",
          "trial_index=77",
          "trial_index=78",
          "trial_index=79",
          "trial_index=80",
          "trial_index=81",
          "trial_index=82",
          "trial_index=83",
          "trial_index=84",
          "trial_index=85",
          "trial_index=86",
          "trial_index=87",
          "trial_index=88",
          "trial_index=89",
          "trial_index=90",
          "trial_index=91",
          "trial_index=92",
          "trial_index=93",
          "trial_index=94",
          "trial_index=95",
          "trial_index=96",
          "trial_index=97",
          "trial_index=98",
          "trial_index=99",
          "trial_index=100",
          "trial_index=101",
          "trial_index=102",
          "trial_index=103",
          "trial_index=104",
          "trial_index=105",
          "trial_index=106",
          "trial_index=107",
          "trial_index=108",
          "trial_index=109",
          "trial_index=110",
          "trial_index=111",
          "trial_index=112",
          "trial_index=113",
          "trial_index=114",
          "trial_index=115",
          "trial_index=116",
          "trial_index=117",
          "trial_index=118",
          "trial_index=119",
          "trial_index=120",
          "trial_index=121",
          "trial_index=122",
          "trial_index=123",
          "trial_index=124",
          "trial_index=125",
          "trial_index=126",
          "trial_index=127",
          "trial_index=128",
          "trial_index=129"
         ],
         "type": "scatter",
         "x": [
          15000000000,
          20000000000,
          34000000000,
          22000000000,
          9000000000,
          35000000000,
          18000000000,
          21000000000,
          15000000000,
          17000000000,
          17000000000.000002,
          0,
          21000000000,
          26000000000,
          6000000000,
          17000000000,
          23000000000,
          3000000000,
          12000000000,
          18000000000,
          22000000000,
          20000000000,
          9000000000,
          25000000000,
          13999999999.999998,
          14000000000,
          22000000000,
          12000000000,
          34000000000,
          0,
          22000000000,
          1000000000,
          10000000000,
          10000000000,
          20000000000,
          22000000000,
          32000000000.000004,
          7999999999.999999,
          18000000000,
          13999999999.999998,
          26000000000,
          26000000000,
          18000000000,
          26000000000,
          17000000000.000002,
          3000000000,
          10000000000,
          13999999999.999996,
          18000000000,
          17000000000,
          0,
          18000000000,
          7999999999.999999,
          0,
          17000000000,
          21000000000,
          34000000000,
          23000000000,
          4000000000,
          35000000000,
          32000000000.000004,
          12000000000,
          13999999999.999996,
          23000000000,
          17000000000,
          1000000000,
          13000000000,
          5000000000,
          8000000000,
          21000000000,
          20000000000,
          25000000000,
          32000000000.000004,
          23000000000,
          13000000000,
          5000000000,
          26000000000,
          31000000000,
          17000000000,
          0,
          26000000000,
          26000000000,
          26000000000,
          26000000000,
          26000000000,
          26000000000,
          26000000000,
          26000000000,
          26000000000,
          26000000000,
          26000000000,
          26000000000,
          26000000000,
          26000000000,
          26000000000,
          26000000000,
          26000000000,
          26000000000,
          26000000000,
          26000000000,
          26000000000,
          26000000000,
          26000000000,
          26000000000,
          26000000000,
          26000000000,
          26000000000,
          26000000000,
          26000000000,
          26000000000,
          26000000000,
          26000000000,
          26000000000,
          26000000000,
          26000000000,
          26000000000,
          26000000000,
          26000000000,
          26000000000,
          26000000000,
          26000000000,
          26000000000,
          26000000000,
          26000000000,
          26000000000,
          26000000000,
          26000000000,
          26000000000,
          26000000000,
          26000000000
         ],
         "y": [
          293.80952380952385,
          206.62493924629848,
          203.50432737379037,
          251.7643319463708,
          290,
          193.6296187631139,
          205.34288796424718,
          258.5088374408763,
          597.2376032812925,
          251.8238557558946,
          492.9035638714037,
          617.5,
          362.5712151925744,
          245.59929822065746,
          652.5,
          612.3679718339913,
          252.40535758739642,
          395.4945054945055,
          303.33333333333337,
          369.74536790070766,
          247.00955463091387,
          244.3172469386062,
          605,
          241.8447194660787,
          496.4382327489124,
          325.4899267399268,
          251.7643319463708,
          269.9267399267399,
          203.50432737379037,
          398.2142857142858,
          247.8825705039297,
          363.33333333333337,
          318.042071197411,
          486.2271062271062,
          206.62493924629848,
          281.3349514563107,
          193.7832604288915,
          309.1025641025641,
          369.74536790070766,
          346.9087034863734,
          245.59929822065746,
          228.83495145631068,
          483.02197802197804,
          177.11271737970768,
          237.2476498690091,
          916.2087912087911,
          308.09523809523813,
          493.15806631340615,
          483.02197802197804,
          428.8349514563107,
          482.0238095238096,
          483.02197802197804,
          309.1025641025641,
          460,
          612.3679718339913,
          206.62493924629848,
          209.2020534751117,
          256.5857605177994,
          728.3333333333334,
          193.6296187631139,
          193.7832604288915,
          308.09523809523813,
          493.15806631340615,
          276.3349514563107,
          360.9778085991678,
          762.5,
          640.4029304029303,
          617.5,
          617.5,
          362.5712151925744,
          366.234218855578,
          249.93995756131682,
          193.7832604288915,
          256.5857605177994,
          335.13549557238883,
          393.5119047619048,
          177.11271737970768,
          213.43404815249477,
          426.45399907535835,
          572.5,
          177.11271737970768,
          177.11271737970768,
          177.11271737970768,
          177.11271737970768,
          177.11271737970768,
          177.11271737970768,
          177.11271737970768,
          177.11271737970768,
          177.11271737970768,
          177.11271737970768,
          177.11271737970768,
          177.11271737970768,
          177.11271737970768,
          177.11271737970768,
          177.11271737970768,
          177.11271737970768,
          177.11271737970768,
          177.11271737970768,
          177.11271737970768,
          177.11271737970768,
          177.11271737970768,
          177.11271737970768,
          177.11271737970768,
          177.11271737970768,
          177.11271737970768,
          177.11271737970768,
          177.11271737970768,
          177.11271737970768,
          177.11271737970768,
          177.11271737970768,
          177.11271737970768,
          177.11271737970768,
          177.11271737970768,
          177.11271737970768,
          177.11271737970768,
          177.11271737970768,
          177.11271737970768,
          177.11271737970768,
          177.11271737970768,
          177.11271737970768,
          177.11271737970768,
          177.11271737970768,
          177.11271737970768,
          177.11271737970768,
          177.11271737970768,
          177.11271737970768,
          177.11271737970768,
          177.11271737970768,
          177.11271737970768,
          177.11271737970768
         ]
        },
        {
         "type": "scatter",
         "x": [
          0,
          1000000000,
          18000000000,
          26000000000
         ],
         "y": [
          398.2142857142858,
          363.33333333333337,
          205.34288796424718,
          177.11271737970768
         ]
        }
       ],
       "layout": {
        "template": {
         "data": {
          "bar": [
           {
            "error_x": {
             "color": "#2a3f5f"
            },
            "error_y": {
             "color": "#2a3f5f"
            },
            "marker": {
             "line": {
              "color": "#E5ECF6",
              "width": 0.5
             }
            },
            "type": "bar"
           }
          ],
          "barpolar": [
           {
            "marker": {
             "line": {
              "color": "#E5ECF6",
              "width": 0.5
             }
            },
            "type": "barpolar"
           }
          ],
          "carpet": [
           {
            "aaxis": {
             "endlinecolor": "#2a3f5f",
             "gridcolor": "white",
             "linecolor": "white",
             "minorgridcolor": "white",
             "startlinecolor": "#2a3f5f"
            },
            "baxis": {
             "endlinecolor": "#2a3f5f",
             "gridcolor": "white",
             "linecolor": "white",
             "minorgridcolor": "white",
             "startlinecolor": "#2a3f5f"
            },
            "type": "carpet"
           }
          ],
          "choropleth": [
           {
            "colorbar": {
             "outlinewidth": 0,
             "ticks": ""
            },
            "type": "choropleth"
           }
          ],
          "contour": [
           {
            "colorbar": {
             "outlinewidth": 0,
             "ticks": ""
            },
            "colorscale": [
             [
              0,
              "#0d0887"
             ],
             [
              0.1111111111111111,
              "#46039f"
             ],
             [
              0.2222222222222222,
              "#7201a8"
             ],
             [
              0.3333333333333333,
              "#9c179e"
             ],
             [
              0.4444444444444444,
              "#bd3786"
             ],
             [
              0.5555555555555556,
              "#d8576b"
             ],
             [
              0.6666666666666666,
              "#ed7953"
             ],
             [
              0.7777777777777778,
              "#fb9f3a"
             ],
             [
              0.8888888888888888,
              "#fdca26"
             ],
             [
              1,
              "#f0f921"
             ]
            ],
            "type": "contour"
           }
          ],
          "contourcarpet": [
           {
            "colorbar": {
             "outlinewidth": 0,
             "ticks": ""
            },
            "type": "contourcarpet"
           }
          ],
          "heatmap": [
           {
            "colorbar": {
             "outlinewidth": 0,
             "ticks": ""
            },
            "colorscale": [
             [
              0,
              "#0d0887"
             ],
             [
              0.1111111111111111,
              "#46039f"
             ],
             [
              0.2222222222222222,
              "#7201a8"
             ],
             [
              0.3333333333333333,
              "#9c179e"
             ],
             [
              0.4444444444444444,
              "#bd3786"
             ],
             [
              0.5555555555555556,
              "#d8576b"
             ],
             [
              0.6666666666666666,
              "#ed7953"
             ],
             [
              0.7777777777777778,
              "#fb9f3a"
             ],
             [
              0.8888888888888888,
              "#fdca26"
             ],
             [
              1,
              "#f0f921"
             ]
            ],
            "type": "heatmap"
           }
          ],
          "heatmapgl": [
           {
            "colorbar": {
             "outlinewidth": 0,
             "ticks": ""
            },
            "colorscale": [
             [
              0,
              "#0d0887"
             ],
             [
              0.1111111111111111,
              "#46039f"
             ],
             [
              0.2222222222222222,
              "#7201a8"
             ],
             [
              0.3333333333333333,
              "#9c179e"
             ],
             [
              0.4444444444444444,
              "#bd3786"
             ],
             [
              0.5555555555555556,
              "#d8576b"
             ],
             [
              0.6666666666666666,
              "#ed7953"
             ],
             [
              0.7777777777777778,
              "#fb9f3a"
             ],
             [
              0.8888888888888888,
              "#fdca26"
             ],
             [
              1,
              "#f0f921"
             ]
            ],
            "type": "heatmapgl"
           }
          ],
          "histogram": [
           {
            "marker": {
             "colorbar": {
              "outlinewidth": 0,
              "ticks": ""
             }
            },
            "type": "histogram"
           }
          ],
          "histogram2d": [
           {
            "colorbar": {
             "outlinewidth": 0,
             "ticks": ""
            },
            "colorscale": [
             [
              0,
              "#0d0887"
             ],
             [
              0.1111111111111111,
              "#46039f"
             ],
             [
              0.2222222222222222,
              "#7201a8"
             ],
             [
              0.3333333333333333,
              "#9c179e"
             ],
             [
              0.4444444444444444,
              "#bd3786"
             ],
             [
              0.5555555555555556,
              "#d8576b"
             ],
             [
              0.6666666666666666,
              "#ed7953"
             ],
             [
              0.7777777777777778,
              "#fb9f3a"
             ],
             [
              0.8888888888888888,
              "#fdca26"
             ],
             [
              1,
              "#f0f921"
             ]
            ],
            "type": "histogram2d"
           }
          ],
          "histogram2dcontour": [
           {
            "colorbar": {
             "outlinewidth": 0,
             "ticks": ""
            },
            "colorscale": [
             [
              0,
              "#0d0887"
             ],
             [
              0.1111111111111111,
              "#46039f"
             ],
             [
              0.2222222222222222,
              "#7201a8"
             ],
             [
              0.3333333333333333,
              "#9c179e"
             ],
             [
              0.4444444444444444,
              "#bd3786"
             ],
             [
              0.5555555555555556,
              "#d8576b"
             ],
             [
              0.6666666666666666,
              "#ed7953"
             ],
             [
              0.7777777777777778,
              "#fb9f3a"
             ],
             [
              0.8888888888888888,
              "#fdca26"
             ],
             [
              1,
              "#f0f921"
             ]
            ],
            "type": "histogram2dcontour"
           }
          ],
          "mesh3d": [
           {
            "colorbar": {
             "outlinewidth": 0,
             "ticks": ""
            },
            "type": "mesh3d"
           }
          ],
          "parcoords": [
           {
            "line": {
             "colorbar": {
              "outlinewidth": 0,
              "ticks": ""
             }
            },
            "type": "parcoords"
           }
          ],
          "pie": [
           {
            "automargin": true,
            "type": "pie"
           }
          ],
          "scatter": [
           {
            "marker": {
             "colorbar": {
              "outlinewidth": 0,
              "ticks": ""
             }
            },
            "type": "scatter"
           }
          ],
          "scatter3d": [
           {
            "line": {
             "colorbar": {
              "outlinewidth": 0,
              "ticks": ""
             }
            },
            "marker": {
             "colorbar": {
              "outlinewidth": 0,
              "ticks": ""
             }
            },
            "type": "scatter3d"
           }
          ],
          "scattercarpet": [
           {
            "marker": {
             "colorbar": {
              "outlinewidth": 0,
              "ticks": ""
             }
            },
            "type": "scattercarpet"
           }
          ],
          "scattergeo": [
           {
            "marker": {
             "colorbar": {
              "outlinewidth": 0,
              "ticks": ""
             }
            },
            "type": "scattergeo"
           }
          ],
          "scattergl": [
           {
            "marker": {
             "colorbar": {
              "outlinewidth": 0,
              "ticks": ""
             }
            },
            "type": "scattergl"
           }
          ],
          "scattermapbox": [
           {
            "marker": {
             "colorbar": {
              "outlinewidth": 0,
              "ticks": ""
             }
            },
            "type": "scattermapbox"
           }
          ],
          "scatterpolar": [
           {
            "marker": {
             "colorbar": {
              "outlinewidth": 0,
              "ticks": ""
             }
            },
            "type": "scatterpolar"
           }
          ],
          "scatterpolargl": [
           {
            "marker": {
             "colorbar": {
              "outlinewidth": 0,
              "ticks": ""
             }
            },
            "type": "scatterpolargl"
           }
          ],
          "scatterternary": [
           {
            "marker": {
             "colorbar": {
              "outlinewidth": 0,
              "ticks": ""
             }
            },
            "type": "scatterternary"
           }
          ],
          "surface": [
           {
            "colorbar": {
             "outlinewidth": 0,
             "ticks": ""
            },
            "colorscale": [
             [
              0,
              "#0d0887"
             ],
             [
              0.1111111111111111,
              "#46039f"
             ],
             [
              0.2222222222222222,
              "#7201a8"
             ],
             [
              0.3333333333333333,
              "#9c179e"
             ],
             [
              0.4444444444444444,
              "#bd3786"
             ],
             [
              0.5555555555555556,
              "#d8576b"
             ],
             [
              0.6666666666666666,
              "#ed7953"
             ],
             [
              0.7777777777777778,
              "#fb9f3a"
             ],
             [
              0.8888888888888888,
              "#fdca26"
             ],
             [
              1,
              "#f0f921"
             ]
            ],
            "type": "surface"
           }
          ],
          "table": [
           {
            "cells": {
             "fill": {
              "color": "#EBF0F8"
             },
             "line": {
              "color": "white"
             }
            },
            "header": {
             "fill": {
              "color": "#C8D4E3"
             },
             "line": {
              "color": "white"
             }
            },
            "type": "table"
           }
          ]
         },
         "layout": {
          "annotationdefaults": {
           "arrowcolor": "#2a3f5f",
           "arrowhead": 0,
           "arrowwidth": 1
          },
          "coloraxis": {
           "colorbar": {
            "outlinewidth": 0,
            "ticks": ""
           }
          },
          "colorscale": {
           "diverging": [
            [
             0,
             "#8e0152"
            ],
            [
             0.1,
             "#c51b7d"
            ],
            [
             0.2,
             "#de77ae"
            ],
            [
             0.3,
             "#f1b6da"
            ],
            [
             0.4,
             "#fde0ef"
            ],
            [
             0.5,
             "#f7f7f7"
            ],
            [
             0.6,
             "#e6f5d0"
            ],
            [
             0.7,
             "#b8e186"
            ],
            [
             0.8,
             "#7fbc41"
            ],
            [
             0.9,
             "#4d9221"
            ],
            [
             1,
             "#276419"
            ]
           ],
           "sequential": [
            [
             0,
             "#0d0887"
            ],
            [
             0.1111111111111111,
             "#46039f"
            ],
            [
             0.2222222222222222,
             "#7201a8"
            ],
            [
             0.3333333333333333,
             "#9c179e"
            ],
            [
             0.4444444444444444,
             "#bd3786"
            ],
            [
             0.5555555555555556,
             "#d8576b"
            ],
            [
             0.6666666666666666,
             "#ed7953"
            ],
            [
             0.7777777777777778,
             "#fb9f3a"
            ],
            [
             0.8888888888888888,
             "#fdca26"
            ],
            [
             1,
             "#f0f921"
            ]
           ],
           "sequentialminus": [
            [
             0,
             "#0d0887"
            ],
            [
             0.1111111111111111,
             "#46039f"
            ],
            [
             0.2222222222222222,
             "#7201a8"
            ],
            [
             0.3333333333333333,
             "#9c179e"
            ],
            [
             0.4444444444444444,
             "#bd3786"
            ],
            [
             0.5555555555555556,
             "#d8576b"
            ],
            [
             0.6666666666666666,
             "#ed7953"
            ],
            [
             0.7777777777777778,
             "#fb9f3a"
            ],
            [
             0.8888888888888888,
             "#fdca26"
            ],
            [
             1,
             "#f0f921"
            ]
           ]
          },
          "colorway": [
           "#636efa",
           "#EF553B",
           "#00cc96",
           "#ab63fa",
           "#FFA15A",
           "#19d3f3",
           "#FF6692",
           "#B6E880",
           "#FF97FF",
           "#FECB52"
          ],
          "font": {
           "color": "#2a3f5f"
          },
          "geo": {
           "bgcolor": "white",
           "lakecolor": "white",
           "landcolor": "#E5ECF6",
           "showlakes": true,
           "showland": true,
           "subunitcolor": "white"
          },
          "hoverlabel": {
           "align": "left"
          },
          "hovermode": "closest",
          "mapbox": {
           "style": "light"
          },
          "paper_bgcolor": "white",
          "plot_bgcolor": "#E5ECF6",
          "polar": {
           "angularaxis": {
            "gridcolor": "white",
            "linecolor": "white",
            "ticks": ""
           },
           "bgcolor": "#E5ECF6",
           "radialaxis": {
            "gridcolor": "white",
            "linecolor": "white",
            "ticks": ""
           }
          },
          "scene": {
           "xaxis": {
            "backgroundcolor": "#E5ECF6",
            "gridcolor": "white",
            "gridwidth": 2,
            "linecolor": "white",
            "showbackground": true,
            "ticks": "",
            "zerolinecolor": "white"
           },
           "yaxis": {
            "backgroundcolor": "#E5ECF6",
            "gridcolor": "white",
            "gridwidth": 2,
            "linecolor": "white",
            "showbackground": true,
            "ticks": "",
            "zerolinecolor": "white"
           },
           "zaxis": {
            "backgroundcolor": "#E5ECF6",
            "gridcolor": "white",
            "gridwidth": 2,
            "linecolor": "white",
            "showbackground": true,
            "ticks": "",
            "zerolinecolor": "white"
           }
          },
          "shapedefaults": {
           "line": {
            "color": "#2a3f5f"
           }
          },
          "ternary": {
           "aaxis": {
            "gridcolor": "white",
            "linecolor": "white",
            "ticks": ""
           },
           "baxis": {
            "gridcolor": "white",
            "linecolor": "white",
            "ticks": ""
           },
           "bgcolor": "#E5ECF6",
           "caxis": {
            "gridcolor": "white",
            "linecolor": "white",
            "ticks": ""
           }
          },
          "title": {
           "x": 0.05
          },
          "xaxis": {
           "automargin": true,
           "gridcolor": "white",
           "linecolor": "white",
           "ticks": "",
           "title": {
            "standoff": 15
           },
           "zerolinecolor": "white",
           "zerolinewidth": 2
          },
          "yaxis": {
           "automargin": true,
           "gridcolor": "white",
           "linecolor": "white",
           "ticks": "",
           "title": {
            "standoff": 15
           },
           "zerolinecolor": "white",
           "zerolinewidth": 2
          }
         }
        },
        "xaxis": {
         "title": {
          "text": "Size of BB in bytes (B = 1e9 = GB)"
         }
        },
        "yaxis": {
         "title": {
          "text": "Workflow duration in seconds"
         }
        }
       }
      }
     },
     "metadata": {},
     "output_type": "display_data"
    }
   ],
   "source": [
    "from cluster_simulator.utils import convex_hull\n",
    "points = []\n",
    "for (xi, yi) in zip(df['BB_size'].tolist(), (df['Fitness']).tolist()):\n",
    "    points.append((xi,yi))\n",
    "lower = convex_hull(points)\n",
    "fig.add_traces(go.Scatter(x=np.array([low[0] for low in lower]),\n",
    "                            y=np.array([low[1] for low in lower])))\n",
    "fig.show()"
   ]
  },
  {
   "cell_type": "markdown",
   "metadata": {},
   "source": [
    "Recommandation are elements from efficient/pareto frontier"
   ]
  },
  {
   "cell_type": "code",
   "execution_count": 21,
   "metadata": {},
   "outputs": [
    {
     "data": {
      "text/html": [
       "<div>\n",
       "<style scoped>\n",
       "    .dataframe tbody tr th:only-of-type {\n",
       "        vertical-align: middle;\n",
       "    }\n",
       "\n",
       "    .dataframe tbody tr th {\n",
       "        vertical-align: top;\n",
       "    }\n",
       "\n",
       "    .dataframe thead th {\n",
       "        text-align: right;\n",
       "    }\n",
       "</style>\n",
       "<table border=\"1\" class=\"dataframe\">\n",
       "  <thead>\n",
       "    <tr style=\"text-align: right;\">\n",
       "      <th></th>\n",
       "      <th>App#X6 tier place</th>\n",
       "      <th>App#X6 use bb</th>\n",
       "      <th>App#W4 tier place</th>\n",
       "      <th>App#W4 use bb</th>\n",
       "      <th>App#Q7 tier place</th>\n",
       "      <th>App#Q7 use bb</th>\n",
       "      <th>Fitness</th>\n",
       "      <th>BB_size</th>\n",
       "    </tr>\n",
       "  </thead>\n",
       "  <tbody>\n",
       "    <tr>\n",
       "      <th>29</th>\n",
       "      <td>[1.0, 1.0]</td>\n",
       "      <td>[False, False]</td>\n",
       "      <td>[0.0, 1.0, 1.0]</td>\n",
       "      <td>[False, False, False]</td>\n",
       "      <td>[1.0, 1.0]</td>\n",
       "      <td>[False, False]</td>\n",
       "      <td>398.214286</td>\n",
       "      <td>0.000000e+00</td>\n",
       "    </tr>\n",
       "    <tr>\n",
       "      <th>31</th>\n",
       "      <td>[0.0, 0.0]</td>\n",
       "      <td>[True, False]</td>\n",
       "      <td>[1.0, 1.0, 1.0]</td>\n",
       "      <td>[False, False, False]</td>\n",
       "      <td>[1.0, 1.0]</td>\n",
       "      <td>[False, False]</td>\n",
       "      <td>363.333333</td>\n",
       "      <td>1.000000e+09</td>\n",
       "    </tr>\n",
       "    <tr>\n",
       "      <th>4</th>\n",
       "      <td>[0.0, 0.0]</td>\n",
       "      <td>[True, True]</td>\n",
       "      <td>[0.0, 0.0, 1.0]</td>\n",
       "      <td>[True, False, False]</td>\n",
       "      <td>[0.0, 1.0]</td>\n",
       "      <td>[False, False]</td>\n",
       "      <td>290.000000</td>\n",
       "      <td>9.000000e+09</td>\n",
       "    </tr>\n",
       "    <tr>\n",
       "      <th>6</th>\n",
       "      <td>[1.0, 0.0]</td>\n",
       "      <td>[True, False]</td>\n",
       "      <td>[1.0, 1.0, 1.0]</td>\n",
       "      <td>[False, False, True]</td>\n",
       "      <td>[1.0, 1.0]</td>\n",
       "      <td>[False, True]</td>\n",
       "      <td>205.342888</td>\n",
       "      <td>1.800000e+10</td>\n",
       "    </tr>\n",
       "    <tr>\n",
       "      <th>129</th>\n",
       "      <td>[1, 0]</td>\n",
       "      <td>[False, False]</td>\n",
       "      <td>[1, 1, 1]</td>\n",
       "      <td>[False, True, True]</td>\n",
       "      <td>[1, 1]</td>\n",
       "      <td>[True, True]</td>\n",
       "      <td>177.112717</td>\n",
       "      <td>2.600000e+10</td>\n",
       "    </tr>\n",
       "  </tbody>\n",
       "</table>\n",
       "</div>"
      ],
      "text/plain": [
       "    App#X6 tier place   App#X6 use bb App#W4 tier place  \\\n",
       "29         [1.0, 1.0]  [False, False]   [0.0, 1.0, 1.0]   \n",
       "31         [0.0, 0.0]   [True, False]   [1.0, 1.0, 1.0]   \n",
       "4          [0.0, 0.0]    [True, True]   [0.0, 0.0, 1.0]   \n",
       "6          [1.0, 0.0]   [True, False]   [1.0, 1.0, 1.0]   \n",
       "129            [1, 0]  [False, False]         [1, 1, 1]   \n",
       "\n",
       "             App#W4 use bb App#Q7 tier place   App#Q7 use bb     Fitness  \\\n",
       "29   [False, False, False]        [1.0, 1.0]  [False, False]  398.214286   \n",
       "31   [False, False, False]        [1.0, 1.0]  [False, False]  363.333333   \n",
       "4     [True, False, False]        [0.0, 1.0]  [False, False]  290.000000   \n",
       "6     [False, False, True]        [1.0, 1.0]   [False, True]  205.342888   \n",
       "129    [False, True, True]            [1, 1]    [True, True]  177.112717   \n",
       "\n",
       "          BB_size  \n",
       "29   0.000000e+00  \n",
       "31   1.000000e+09  \n",
       "4    9.000000e+09  \n",
       "6    1.800000e+10  \n",
       "129  2.600000e+10  "
      ]
     },
     "execution_count": 21,
     "metadata": {},
     "output_type": "execute_result"
    }
   ],
   "source": [
    "rec_trials = [29, 31, 4, 6, 129]\n",
    "df.loc[rec_trials][df.columns[1:]]"
   ]
  },
  {
   "cell_type": "markdown",
   "metadata": {},
   "source": [
    "Display individual points (placement recommandation)"
   ]
  },
  {
   "cell_type": "code",
   "execution_count": 22,
   "metadata": {},
   "outputs": [
    {
     "name": "stdout",
     "output_type": "stream",
     "text": [
      "Displaying result for placement parameter = [0. 1. 0. 0. 1. 0. 0. 0. 0. 0. 0. 1. 1. 1.]\n",
      "    | app#1 : tier placement: [0. 1.] | use_bb = [False, False]\n",
      "    | app#2 : tier placement: [0. 0. 1.] | use_bb = [False, True, True]\n",
      "    | app#3 : tier placement: [0. 1.] | use_bb = [True, True]\n",
      "    | runtime = 186.957928802589 |  BB_size = 26.0 GB\n"
     ]
    },
    {
     "data": {
      "application/vnd.plotly.v1+json": {
       "config": {
        "plotlyServerURL": "https://plot.ly"
       },
       "data": [
        {
         "line": {
          "shape": "linear"
         },
         "name": "app#B9",
         "text": [
          "READ|to/from:HDD|volume=761.9 MB",
          "READ|to/from:HDD|volume=761.9 MB",
          "READ|to/from:HDD|volume=205.13 MB",
          "READ|to/from:HDD|volume=205.13 MB",
          "READ|to/from:HDD|volume=32.97 MB",
          "READ|to/from:HDD|volume=32.97 MB",
          "COMPUTE|volume=0B",
          "COMPUTE|volume=0B",
          "WRITE|to/from:SSD|volume=750.0 MB",
          "WRITE|to/from:SSD|volume=750.0 MB",
          "WRITE|to/from:SSD|volume=568.01 MB",
          "WRITE|to/from:SSD|volume=568.01 MB",
          "WRITE|to/from:SSD|volume=431.99 MB",
          "WRITE|to/from:SSD|volume=431.99 MB",
          "WRITE|to/from:SSD|volume=166.67 MB",
          "WRITE|to/from:SSD|volume=166.67 MB",
          "WRITE|to/from:SSD|volume=804.21 MB",
          "WRITE|to/from:SSD|volume=804.21 MB",
          "WRITE|to/from:SSD|volume=333.33 MB",
          "WRITE|to/from:SSD|volume=333.33 MB",
          "WRITE|to/from:SSD|volume=646.84 MB",
          "WRITE|to/from:SSD|volume=646.84 MB",
          "WRITE|to/from:SSD|volume=812.5 MB",
          "WRITE|to/from:SSD|volume=812.5 MB",
          "WRITE|to/from:SSD|volume=146.29 MB",
          "WRITE|to/from:SSD|volume=146.29 MB",
          "WRITE|to/from:SSD|volume=336.11 MB",
          "WRITE|to/from:SSD|volume=336.11 MB",
          "WRITE|to/from:SSD|volume=710.54 EB",
          "WRITE|to/from:SSD|volume=710.54 EB",
          "WRITE|to/from:SSD|volume=4.05 MB",
          "WRITE|to/from:SSD|volume=4.05 MB"
         ],
         "textposition": "top center",
         "type": "scatter",
         "x": [
          0,
          19.047619047619047,
          19.047619047619047,
          24.175824175824175,
          24.175824175824175,
          25,
          25,
          35,
          35,
          50,
          50,
          61.360290195241646,
          61.360290195241646,
          70,
          70,
          75,
          75,
          99.12621359223301,
          99.12621359223301,
          109.12621359223301,
          109.12621359223301,
          135,
          135,
          167.5,
          167.5,
          173.35164835164835,
          173.35164835164835,
          186.79611650485435,
          186.79611650485435,
          186.79611650485438,
          186.79611650485438,
          186.957928802589
         ],
         "xaxis": "x",
         "y": [
          40,
          40,
          40,
          40,
          40,
          40,
          0,
          0,
          50,
          50,
          50,
          50,
          50,
          50,
          33.33333333333333,
          33.33333333333333,
          33.33333333333333,
          33.33333333333333,
          33.33333333333333,
          33.33333333333333,
          25,
          25,
          25,
          25,
          25,
          25,
          25,
          25,
          25,
          25,
          25,
          25
         ],
         "yaxis": "y"
        },
        {
         "line": {
          "dash": "dot",
          "shape": "linear"
         },
         "name": "B9 mvt",
         "text": [],
         "textposition": "top center",
         "type": "scatter",
         "x": [],
         "xaxis": "x",
         "y": [],
         "yaxis": "y"
        },
        {
         "line": {
          "shape": "linear"
         },
         "name": "app#H7",
         "text": [
          "READ|to/from:BB|volume=4.0 GB",
          "READ|to/from:BB|volume=4.0 GB",
          "COMPUTE|volume=0B",
          "COMPUTE|volume=0B",
          "WRITE|to/from:BB|volume=212.23 MB",
          "WRITE|to/from:BB|volume=212.23 MB",
          "WRITE|to/from:BB|volume=3.86 GB",
          "WRITE|to/from:BB|volume=3.86 GB",
          "WRITE|to/from:BB|volume=2.93 GB",
          "WRITE|to/from:BB|volume=2.93 GB"
         ],
         "textposition": "top center",
         "type": "scatter",
         "x": [
          19.047619047619047,
          24.175824175824175,
          24.175824175824175,
          34.175824175824175,
          34.175824175824175,
          35,
          35,
          50,
          50,
          61.360290195241646
         ],
         "xaxis": "x2",
         "y": [
          780,
          780,
          0,
          0,
          257.5,
          257.5,
          257.5,
          257.5,
          257.5,
          257.5
         ],
         "yaxis": "y2"
        },
        {
         "line": {
          "dash": "dot",
          "shape": "linear"
         },
         "name": "H7 mvt",
         "text": [
          "MOVEMENT|in:BB|from:SSD|volume=4.0 GB",
          "MOVEMENT|in:BB|volume=4.0 GB",
          "MOVEMENT|in:SSD|from:BB|volume=82.42 MB",
          "MOVEMENT|in:SSD|volume=82.42 MB",
          "MOVEMENT|in:SSD|from:BB|volume=750.0 MB",
          "MOVEMENT|in:SSD|volume=750.0 MB",
          "MOVEMENT|in:SSD|from:BB|volume=568.01 MB",
          "MOVEMENT|in:SSD|volume=568.01 MB",
          "MOVEMENT|in:SSD|from:BB|volume=431.99 MB",
          "MOVEMENT|in:SSD|volume=431.99 MB",
          "MOVEMENT|in:SSD|from:BB|volume=166.67 MB",
          "MOVEMENT|in:SSD|volume=166.67 MB",
          "MOVEMENT|in:SSD|from:BB|volume=804.21 MB",
          "MOVEMENT|in:SSD|volume=804.21 MB",
          "MOVEMENT|in:SSD|from:BB|volume=333.33 MB",
          "MOVEMENT|in:SSD|volume=333.33 MB",
          "MOVEMENT|in:SSD|from:BB|volume=646.84 MB",
          "MOVEMENT|in:SSD|volume=646.84 MB",
          "MOVEMENT|in:SSD|from:BB|volume=812.5 MB",
          "MOVEMENT|in:SSD|volume=812.5 MB",
          "MOVEMENT|in:SSD|from:BB|volume=146.29 MB",
          "MOVEMENT|in:SSD|volume=146.29 MB",
          "MOVEMENT|in:SSD|from:BB|volume=336.11 MB",
          "MOVEMENT|in:SSD|volume=336.11 MB",
          "MOVEMENT|in:SSD|from:BB|volume=710.54 EB",
          "MOVEMENT|in:SSD|volume=710.54 EB",
          "MOVEMENT|in:SSD|from:BB|volume=4.05 MB",
          "MOVEMENT|in:SSD|volume=4.05 MB",
          "MOVEMENT|in:SSD|from:BB|volume=1.75 GB",
          "MOVEMENT|in:SSD|volume=1.75 GB",
          "MOVEMENT|in:SSD|from:BB|volume=167.58 MB",
          "MOVEMENT|in:SSD|volume=167.58 MB"
         ],
         "textposition": "top center",
         "type": "scatter",
         "x": [
          0,
          19.047619047619047,
          34.175824175824175,
          35,
          35,
          50,
          50,
          61.360290195241646,
          61.360290195241646,
          70,
          70,
          75,
          75,
          99.12621359223301,
          99.12621359223301,
          109.12621359223301,
          109.12621359223301,
          135,
          135,
          167.5,
          167.5,
          173.35164835164835,
          173.35164835164835,
          186.79611650485435,
          186.79611650485435,
          186.79611650485438,
          186.79611650485438,
          186.957928802589,
          186.957928802589,
          239.45792880258898,
          239.45792880258898,
          242.80957715423733
         ],
         "xaxis": "x2",
         "y": [
          210,
          210,
          100,
          100,
          50,
          50,
          50,
          50,
          50,
          50,
          33.33333333333333,
          33.33333333333333,
          33.33333333333333,
          33.33333333333333,
          33.33333333333333,
          33.33333333333333,
          25,
          25,
          25,
          25,
          25,
          25,
          25,
          25,
          25,
          25,
          25,
          25,
          33.33333333333333,
          33.33333333333333,
          50,
          50
         ],
         "yaxis": "y2"
        },
        {
         "line": {
          "shape": "linear"
         },
         "name": "app#P7",
         "text": [
          "READ|to/from:HDD|volume=761.9 MB",
          "READ|to/from:HDD|volume=761.9 MB",
          "READ|to/from:HDD|volume=205.13 MB",
          "READ|to/from:HDD|volume=205.13 MB",
          "READ|to/from:HDD|volume=32.97 MB",
          "READ|to/from:HDD|volume=32.97 MB",
          "READ|to/from:HDD|volume=734.07 MB",
          "READ|to/from:HDD|volume=734.07 MB",
          "READ|to/from:HDD|volume=65.93 MB",
          "READ|to/from:HDD|volume=65.93 MB",
          "READ|to/from:HDD|volume=1.2 GB",
          "READ|to/from:HDD|volume=1.2 GB",
          "COMPUTE|volume=0B",
          "COMPUTE|volume=0B",
          "WRITE|to/from:BB|volume=858.33 MB",
          "WRITE|to/from:BB|volume=858.33 MB",
          "WRITE|to/from:BB|volume=4.14 GB",
          "WRITE|to/from:BB|volume=4.14 GB",
          "COMPUTE|volume=0B",
          "COMPUTE|volume=0B",
          "WRITE|to/from:BB|volume=3.33 GB",
          "WRITE|to/from:BB|volume=3.33 GB",
          "WRITE|to/from:BB|volume=4.18 GB",
          "WRITE|to/from:BB|volume=4.18 GB",
          "WRITE|to/from:BB|volume=753.4 MB",
          "WRITE|to/from:BB|volume=753.4 MB",
          "WRITE|to/from:BB|volume=1.73 GB",
          "WRITE|to/from:BB|volume=1.73 GB",
          "WRITE|to/from:BB|volume=2.15 ZB",
          "WRITE|to/from:BB|volume=2.15 ZB"
         ],
         "textposition": "top center",
         "type": "scatter",
         "x": [
          0,
          19.047619047619047,
          19.047619047619047,
          24.175824175824175,
          24.175824175824175,
          25,
          25,
          34.175824175824175,
          34.175824175824175,
          35,
          35,
          50,
          50,
          70,
          70,
          75,
          75,
          99.12621359223301,
          99.12621359223301,
          109.12621359223301,
          109.12621359223301,
          135,
          135,
          167.5,
          167.5,
          173.35164835164835,
          173.35164835164835,
          186.79611650485435,
          186.79611650485435,
          186.79611650485438
         ],
         "xaxis": "x3",
         "y": [
          40,
          40,
          40,
          40,
          40,
          40,
          80,
          80,
          80,
          80,
          80,
          80,
          0,
          0,
          171.66666666666666,
          171.66666666666666,
          171.66666666666666,
          171.66666666666666,
          0,
          0,
          128.75,
          128.75,
          128.75,
          128.75,
          128.75,
          128.75,
          128.75,
          128.75,
          128.75,
          128.75
         ],
         "yaxis": "y3"
        },
        {
         "line": {
          "dash": "dot",
          "shape": "linear"
         },
         "name": "P7 mvt",
         "text": [
          "MOVEMENT|in:SSD|from:BB|volume=166.67 MB",
          "MOVEMENT|in:SSD|volume=166.67 MB",
          "MOVEMENT|in:SSD|from:BB|volume=804.21 MB",
          "MOVEMENT|in:SSD|volume=804.21 MB",
          "MOVEMENT|in:SSD|from:BB|volume=333.33 MB",
          "MOVEMENT|in:SSD|volume=333.33 MB",
          "MOVEMENT|in:SSD|from:BB|volume=646.84 MB",
          "MOVEMENT|in:SSD|volume=646.84 MB",
          "MOVEMENT|in:SSD|from:BB|volume=646.84 MB",
          "MOVEMENT|in:SSD|volume=646.84 MB",
          "MOVEMENT|in:SSD|from:BB|volume=812.5 MB",
          "MOVEMENT|in:SSD|volume=812.5 MB",
          "MOVEMENT|in:SSD|from:BB|volume=812.5 MB",
          "MOVEMENT|in:SSD|volume=812.5 MB",
          "MOVEMENT|in:SSD|from:BB|volume=146.29 MB",
          "MOVEMENT|in:SSD|volume=146.29 MB",
          "MOVEMENT|in:SSD|from:BB|volume=146.29 MB",
          "MOVEMENT|in:SSD|volume=146.29 MB",
          "MOVEMENT|in:SSD|from:BB|volume=336.11 MB",
          "MOVEMENT|in:SSD|volume=336.11 MB",
          "MOVEMENT|in:SSD|from:BB|volume=336.11 MB",
          "MOVEMENT|in:SSD|volume=336.11 MB",
          "MOVEMENT|in:SSD|from:BB|volume=710.54 EB",
          "MOVEMENT|in:SSD|volume=710.54 EB",
          "MOVEMENT|in:SSD|from:BB|volume=710.54 EB",
          "MOVEMENT|in:SSD|volume=710.54 EB",
          "MOVEMENT|in:SSD|from:BB|volume=4.05 MB",
          "MOVEMENT|in:SSD|volume=4.05 MB",
          "MOVEMENT|in:SSD|from:BB|volume=4.05 MB",
          "MOVEMENT|in:SSD|volume=4.05 MB",
          "MOVEMENT|in:SSD|from:BB|volume=1.75 GB",
          "MOVEMENT|in:SSD|volume=1.75 GB",
          "MOVEMENT|in:SSD|from:BB|volume=1.75 GB",
          "MOVEMENT|in:SSD|volume=1.75 GB",
          "MOVEMENT|in:SSD|from:BB|volume=167.58 MB",
          "MOVEMENT|in:SSD|volume=167.58 MB",
          "MOVEMENT|in:SSD|from:BB|volume=167.58 MB",
          "MOVEMENT|in:SSD|volume=167.58 MB",
          "MOVEMENT|in:SSD|from:BB|volume=1.25 GB",
          "MOVEMENT|in:SSD|volume=1.25 GB",
          "MOVEMENT|in:SSD|from:BB|volume=670.33 MB",
          "MOVEMENT|in:SSD|volume=670.33 MB",
          "MOVEMENT|in:SSD|from:BB|volume=4.05 GB",
          "MOVEMENT|in:SSD|volume=4.05 GB"
         ],
         "textposition": "top center",
         "type": "scatter",
         "x": [
          70,
          75,
          75,
          99.12621359223301,
          99.12621359223301,
          109.12621359223301,
          109.12621359223301,
          135,
          109.12621359223301,
          135,
          135,
          167.5,
          135,
          167.5,
          167.5,
          173.35164835164835,
          167.5,
          173.35164835164835,
          173.35164835164835,
          186.79611650485435,
          173.35164835164835,
          186.79611650485435,
          186.79611650485435,
          186.79611650485438,
          186.79611650485435,
          186.79611650485438,
          186.79611650485438,
          186.957928802589,
          186.79611650485438,
          186.957928802589,
          186.957928802589,
          239.45792880258898,
          186.957928802589,
          239.45792880258898,
          239.45792880258898,
          242.80957715423733,
          242.80957715423733,
          244.4854013300615,
          244.4854013300615,
          256.957928802589,
          256.957928802589,
          263.6612255058857,
          263.6612255058857,
          304.1758241758242
         ],
         "xaxis": "x3",
         "y": [
          33.33333333333333,
          33.33333333333333,
          33.33333333333333,
          33.33333333333333,
          33.33333333333333,
          33.33333333333333,
          25,
          25,
          25,
          25,
          25,
          25,
          25,
          25,
          25,
          25,
          25,
          25,
          25,
          25,
          25,
          25,
          25,
          25,
          25,
          25,
          25,
          25,
          25,
          25,
          33.33333333333333,
          33.33333333333333,
          33.33333333333333,
          33.33333333333333,
          50,
          50,
          100,
          100,
          100,
          100,
          100,
          100,
          100,
          100
         ],
         "yaxis": "y3"
        },
        {
         "line": {
          "shape": "linear"
         },
         "name": "BB",
         "showlegend": false,
         "text": [
          "H7|Movement|BB | +volume=4.0 GB",
          "B9|Read|HDD | +volume=761.9 MB",
          "P7|Read|HDD | +volume=761.9 MB",
          "H7|Read|BB | +volume=4.0 GB",
          "P7|Read|HDD | +volume=205.13 MB",
          "B9|Read|HDD | +volume=205.13 MB",
          "B9|Read|HDD | +volume=32.97 MB",
          "P7|Read|HDD | +volume=32.97 MB",
          "H7|Compute | +volume=0B",
          "P7|Read|HDD | +volume=734.07 MB",
          "B9|Compute | +volume=0B",
          "H7|Write|BB | +volume=212.23 MB",
          "P7|Read|HDD | +volume=65.93 MB",
          "H7|Movement|SSD | +volume=82.42 MB",
          "P7|Read|HDD | +volume=1.2 GB",
          "H7|Movement|SSD | +volume=750.0 MB",
          "B9|Write|SSD | +volume=750.0 MB",
          "H7|Write|BB | +volume=3.86 GB",
          "H7|Write|BB | +volume=2.93 GB",
          "B9|Write|SSD | +volume=568.01 MB",
          "H7|Movement|SSD | +volume=568.01 MB",
          "P7|Compute | +volume=0B",
          "B9|Write|SSD | +volume=431.99 MB",
          "H7|Movement|SSD | +volume=431.99 MB",
          "P7|Movement|SSD | +volume=166.67 MB",
          "P7|Write|BB | +volume=858.33 MB",
          "H7|Movement|SSD | +volume=166.67 MB",
          "B9|Write|SSD | +volume=166.67 MB",
          "P7|Write|BB | +volume=4.14 GB",
          "H7|Movement|SSD | +volume=804.21 MB",
          "P7|Movement|SSD | +volume=804.21 MB",
          "B9|Write|SSD | +volume=804.21 MB",
          "P7|Compute | +volume=0B",
          "B9|Write|SSD | +volume=333.33 MB",
          "H7|Movement|SSD | +volume=333.33 MB",
          "P7|Movement|SSD | +volume=333.33 MB",
          "P7|Movement|SSD | +volume=646.84 MB",
          "P7|Movement|SSD | +volume=646.84 MB",
          "B9|Write|SSD | +volume=646.84 MB",
          "P7|Write|BB | +volume=3.33 GB",
          "H7|Movement|SSD | +volume=646.84 MB",
          "H7|Movement|SSD | +volume=812.5 MB",
          "P7|Movement|SSD | +volume=812.5 MB",
          "B9|Write|SSD | +volume=812.5 MB",
          "P7|Write|BB | +volume=4.18 GB",
          "P7|Movement|SSD | +volume=812.5 MB",
          "P7|Movement|SSD | +volume=146.29 MB",
          "H7|Movement|SSD | +volume=146.29 MB",
          "B9|Write|SSD | +volume=146.29 MB",
          "P7|Write|BB | +volume=753.4 MB",
          "P7|Movement|SSD | +volume=146.29 MB",
          "P7|Movement|SSD | +volume=336.11 MB",
          "P7|Movement|SSD | +volume=336.11 MB",
          "B9|Write|SSD | +volume=336.11 MB",
          "P7|Write|BB | +volume=1.73 GB",
          "H7|Movement|SSD | +volume=336.11 MB",
          "P7|Write|BB | +volume=2.15 ZB",
          "H7|Movement|SSD | +volume=710.54 EB",
          "P7|Movement|SSD | +volume=710.54 EB",
          "B9|Write|SSD | +volume=710.54 EB",
          "P7|Movement|SSD | +volume=710.54 EB",
          "B9|Write|SSD | +volume=4.05 MB",
          "H7|Movement|SSD | +volume=4.05 MB",
          "P7|Movement|SSD | +volume=4.05 MB",
          "P7|Movement|SSD | +volume=4.05 MB",
          "P7|Movement|SSD | +volume=1.75 GB",
          "H7|Movement|SSD | +volume=1.75 GB",
          "P7|Movement|SSD | +volume=1.75 GB",
          "H7|Movement|SSD | +volume=167.58 MB",
          "P7|Movement|SSD | +volume=167.58 MB",
          "P7|Movement|SSD | +volume=167.58 MB",
          "P7|Movement|SSD | +volume=1.25 GB",
          "P7|Movement|SSD | +volume=670.33 MB",
          "P7|Movement|SSD | +volume=4.05 GB"
         ],
         "textposition": "top center",
         "type": "scatter",
         "x": [
          0,
          19.047619047619047,
          24.175824175824175,
          25,
          34.175824175824175,
          35,
          50,
          61.360290195241646,
          70,
          75,
          99.12621359223301,
          109.12621359223301,
          135,
          167.5,
          173.35164835164835,
          186.79611650485435,
          186.79611650485438,
          186.957928802589,
          239.45792880258898,
          242.80957715423733,
          244.4854013300615,
          256.957928802589,
          263.6612255058857,
          304.1758241758242
         ],
         "xaxis": "x4",
         "y": [
          0,
          4000000000,
          4000000000,
          4000000000,
          4000000000,
          4212225274.7252746,
          8074725274.725275,
          11000000000,
          11000000000,
          11858333333.333336,
          16000000000.000002,
          16000000000.000002,
          19331250000,
          23515625000,
          24269024725.274727,
          26000000000,
          26000000000.000004,
          26000000000.000004,
          26000000000.000004,
          26000000000.000004,
          26000000000.000004,
          26000000000.000004,
          26000000000.000004,
          26000000000.000004
         ],
         "yaxis": "y4"
        },
        {
         "line": {
          "shape": "linear"
         },
         "name": "HDD",
         "showlegend": false,
         "text": [
          "H7|Movement|BB | +volume=4.0 GB",
          "B9|Read|HDD | +volume=761.9 MB",
          "P7|Read|HDD | +volume=761.9 MB",
          "H7|Read|BB | +volume=4.0 GB",
          "P7|Read|HDD | +volume=205.13 MB",
          "B9|Read|HDD | +volume=205.13 MB",
          "B9|Read|HDD | +volume=32.97 MB",
          "P7|Read|HDD | +volume=32.97 MB",
          "H7|Compute | +volume=0B",
          "P7|Read|HDD | +volume=734.07 MB",
          "B9|Compute | +volume=0B",
          "H7|Write|BB | +volume=212.23 MB",
          "P7|Read|HDD | +volume=65.93 MB",
          "H7|Movement|SSD | +volume=82.42 MB",
          "P7|Read|HDD | +volume=1.2 GB",
          "H7|Movement|SSD | +volume=750.0 MB",
          "B9|Write|SSD | +volume=750.0 MB",
          "H7|Write|BB | +volume=3.86 GB",
          "H7|Write|BB | +volume=2.93 GB",
          "B9|Write|SSD | +volume=568.01 MB",
          "H7|Movement|SSD | +volume=568.01 MB",
          "P7|Compute | +volume=0B",
          "B9|Write|SSD | +volume=431.99 MB",
          "H7|Movement|SSD | +volume=431.99 MB",
          "P7|Movement|SSD | +volume=166.67 MB",
          "P7|Write|BB | +volume=858.33 MB",
          "H7|Movement|SSD | +volume=166.67 MB",
          "B9|Write|SSD | +volume=166.67 MB",
          "P7|Write|BB | +volume=4.14 GB",
          "H7|Movement|SSD | +volume=804.21 MB",
          "P7|Movement|SSD | +volume=804.21 MB",
          "B9|Write|SSD | +volume=804.21 MB",
          "P7|Compute | +volume=0B",
          "B9|Write|SSD | +volume=333.33 MB",
          "H7|Movement|SSD | +volume=333.33 MB",
          "P7|Movement|SSD | +volume=333.33 MB",
          "P7|Movement|SSD | +volume=646.84 MB",
          "P7|Movement|SSD | +volume=646.84 MB",
          "B9|Write|SSD | +volume=646.84 MB",
          "P7|Write|BB | +volume=3.33 GB",
          "H7|Movement|SSD | +volume=646.84 MB",
          "H7|Movement|SSD | +volume=812.5 MB",
          "P7|Movement|SSD | +volume=812.5 MB",
          "B9|Write|SSD | +volume=812.5 MB",
          "P7|Write|BB | +volume=4.18 GB",
          "P7|Movement|SSD | +volume=812.5 MB",
          "P7|Movement|SSD | +volume=146.29 MB",
          "H7|Movement|SSD | +volume=146.29 MB",
          "B9|Write|SSD | +volume=146.29 MB",
          "P7|Write|BB | +volume=753.4 MB",
          "P7|Movement|SSD | +volume=146.29 MB",
          "P7|Movement|SSD | +volume=336.11 MB",
          "P7|Movement|SSD | +volume=336.11 MB",
          "B9|Write|SSD | +volume=336.11 MB",
          "P7|Write|BB | +volume=1.73 GB",
          "H7|Movement|SSD | +volume=336.11 MB",
          "P7|Write|BB | +volume=2.15 ZB",
          "H7|Movement|SSD | +volume=710.54 EB",
          "P7|Movement|SSD | +volume=710.54 EB",
          "B9|Write|SSD | +volume=710.54 EB",
          "P7|Movement|SSD | +volume=710.54 EB",
          "B9|Write|SSD | +volume=4.05 MB",
          "H7|Movement|SSD | +volume=4.05 MB",
          "P7|Movement|SSD | +volume=4.05 MB",
          "P7|Movement|SSD | +volume=4.05 MB",
          "P7|Movement|SSD | +volume=1.75 GB",
          "H7|Movement|SSD | +volume=1.75 GB",
          "P7|Movement|SSD | +volume=1.75 GB",
          "H7|Movement|SSD | +volume=167.58 MB",
          "P7|Movement|SSD | +volume=167.58 MB",
          "P7|Movement|SSD | +volume=167.58 MB",
          "P7|Movement|SSD | +volume=1.25 GB",
          "P7|Movement|SSD | +volume=670.33 MB",
          "P7|Movement|SSD | +volume=4.05 GB"
         ],
         "textposition": "top center",
         "type": "scatter",
         "x": [
          0,
          19.047619047619047,
          24.175824175824175,
          25,
          34.175824175824175,
          35,
          50,
          61.360290195241646,
          70,
          75,
          99.12621359223301,
          109.12621359223301,
          135,
          167.5,
          173.35164835164835,
          186.79611650485435,
          186.79611650485438,
          186.957928802589,
          239.45792880258898,
          242.80957715423733,
          244.4854013300615,
          256.957928802589,
          263.6612255058857,
          304.1758241758242
         ],
         "xaxis": "x5",
         "y": [
          0,
          3000000000,
          3000000000,
          3000000000,
          3000000000,
          3000000000,
          3000000000,
          3000000000,
          3000000000,
          3000000000,
          3000000000,
          3000000000,
          3000000000,
          3000000000,
          3000000000,
          3000000000,
          3000000000,
          3000000000,
          3000000000,
          3000000000,
          3000000000,
          3000000000,
          3000000000,
          3000000000
         ],
         "yaxis": "y5"
        },
        {
         "line": {
          "shape": "linear"
         },
         "name": "SSD",
         "showlegend": false,
         "text": [
          "H7|Movement|BB | +volume=4.0 GB",
          "B9|Read|HDD | +volume=761.9 MB",
          "P7|Read|HDD | +volume=761.9 MB",
          "H7|Read|BB | +volume=4.0 GB",
          "P7|Read|HDD | +volume=205.13 MB",
          "B9|Read|HDD | +volume=205.13 MB",
          "B9|Read|HDD | +volume=32.97 MB",
          "P7|Read|HDD | +volume=32.97 MB",
          "H7|Compute | +volume=0B",
          "P7|Read|HDD | +volume=734.07 MB",
          "B9|Compute | +volume=0B",
          "H7|Write|BB | +volume=212.23 MB",
          "P7|Read|HDD | +volume=65.93 MB",
          "H7|Movement|SSD | +volume=82.42 MB",
          "P7|Read|HDD | +volume=1.2 GB",
          "H7|Movement|SSD | +volume=750.0 MB",
          "B9|Write|SSD | +volume=750.0 MB",
          "H7|Write|BB | +volume=3.86 GB",
          "H7|Write|BB | +volume=2.93 GB",
          "B9|Write|SSD | +volume=568.01 MB",
          "H7|Movement|SSD | +volume=568.01 MB",
          "P7|Compute | +volume=0B",
          "B9|Write|SSD | +volume=431.99 MB",
          "H7|Movement|SSD | +volume=431.99 MB",
          "P7|Movement|SSD | +volume=166.67 MB",
          "P7|Write|BB | +volume=858.33 MB",
          "H7|Movement|SSD | +volume=166.67 MB",
          "B9|Write|SSD | +volume=166.67 MB",
          "P7|Write|BB | +volume=4.14 GB",
          "H7|Movement|SSD | +volume=804.21 MB",
          "P7|Movement|SSD | +volume=804.21 MB",
          "B9|Write|SSD | +volume=804.21 MB",
          "P7|Compute | +volume=0B",
          "B9|Write|SSD | +volume=333.33 MB",
          "H7|Movement|SSD | +volume=333.33 MB",
          "P7|Movement|SSD | +volume=333.33 MB",
          "P7|Movement|SSD | +volume=646.84 MB",
          "P7|Movement|SSD | +volume=646.84 MB",
          "B9|Write|SSD | +volume=646.84 MB",
          "P7|Write|BB | +volume=3.33 GB",
          "H7|Movement|SSD | +volume=646.84 MB",
          "H7|Movement|SSD | +volume=812.5 MB",
          "P7|Movement|SSD | +volume=812.5 MB",
          "B9|Write|SSD | +volume=812.5 MB",
          "P7|Write|BB | +volume=4.18 GB",
          "P7|Movement|SSD | +volume=812.5 MB",
          "P7|Movement|SSD | +volume=146.29 MB",
          "H7|Movement|SSD | +volume=146.29 MB",
          "B9|Write|SSD | +volume=146.29 MB",
          "P7|Write|BB | +volume=753.4 MB",
          "P7|Movement|SSD | +volume=146.29 MB",
          "P7|Movement|SSD | +volume=336.11 MB",
          "P7|Movement|SSD | +volume=336.11 MB",
          "B9|Write|SSD | +volume=336.11 MB",
          "P7|Write|BB | +volume=1.73 GB",
          "H7|Movement|SSD | +volume=336.11 MB",
          "P7|Write|BB | +volume=2.15 ZB",
          "H7|Movement|SSD | +volume=710.54 EB",
          "P7|Movement|SSD | +volume=710.54 EB",
          "B9|Write|SSD | +volume=710.54 EB",
          "P7|Movement|SSD | +volume=710.54 EB",
          "B9|Write|SSD | +volume=4.05 MB",
          "H7|Movement|SSD | +volume=4.05 MB",
          "P7|Movement|SSD | +volume=4.05 MB",
          "P7|Movement|SSD | +volume=4.05 MB",
          "P7|Movement|SSD | +volume=1.75 GB",
          "H7|Movement|SSD | +volume=1.75 GB",
          "P7|Movement|SSD | +volume=1.75 GB",
          "H7|Movement|SSD | +volume=167.58 MB",
          "P7|Movement|SSD | +volume=167.58 MB",
          "P7|Movement|SSD | +volume=167.58 MB",
          "P7|Movement|SSD | +volume=1.25 GB",
          "P7|Movement|SSD | +volume=670.33 MB",
          "P7|Movement|SSD | +volume=4.05 GB"
         ],
         "textposition": "top center",
         "type": "scatter",
         "x": [
          0,
          19.047619047619047,
          24.175824175824175,
          25,
          34.175824175824175,
          35,
          50,
          61.360290195241646,
          70,
          75,
          99.12621359223301,
          109.12621359223301,
          135,
          167.5,
          173.35164835164835,
          186.79611650485435,
          186.79611650485438,
          186.957928802589,
          239.45792880258898,
          242.80957715423733,
          244.4854013300615,
          256.957928802589,
          263.6612255058857,
          304.1758241758242
         ],
         "xaxis": "x6",
         "y": [
          0,
          4000000000,
          4000000000,
          4000000000,
          4000000000,
          4082417582.417583,
          5582417582.417582,
          6718446601.941747,
          7582417582.417583,
          8082417582.417583,
          10495038941.640884,
          11495038941.640886,
          14082417582.417583,
          17332417582.41758,
          17917582417.58242,
          19262029232.903023,
          19262029232.903023,
          19278210462.67649,
          24528210462.67649,
          24863375297.841324,
          25030957715.42374,
          26278210462.67649,
          26948540133.006157,
          31000000000.00001
         ],
         "yaxis": "y6"
        },
        {
         "line": {
          "shape": "hv"
         },
         "showlegend": false,
         "type": "scatter",
         "x": [
          0,
          19.047619047619047,
          24.175824175824175,
          25,
          34.175824175824175,
          35,
          50,
          61.360290195241646,
          70,
          75,
          99.12621359223301,
          109.12621359223301,
          135,
          167.5,
          173.35164835164835,
          186.79611650485435,
          186.79611650485438,
          186.957928802589,
          239.45792880258898,
          242.80957715423733,
          244.4854013300615,
          256.957928802589,
          263.6612255058857,
          304.1758241758242
         ],
         "xaxis": "x7",
         "y": [
          3,
          3,
          3,
          3,
          4,
          4,
          4,
          3,
          4,
          4,
          4,
          5,
          5,
          5,
          5,
          5,
          4,
          3,
          2,
          1,
          1,
          1,
          1,
          0
         ],
         "yaxis": "y7"
        },
        {
         "line": {
          "color": "red",
          "dash": "dot",
          "shape": "hv",
          "width": 3
         },
         "showlegend": false,
         "text": [
          "Maximum available cores in cluster=10",
          "Maximum available cores in cluster=10"
         ],
         "type": "scatter",
         "x": [
          0,
          304.1758241758242
         ],
         "xaxis": "x7",
         "y": [
          10,
          10
         ],
         "yaxis": "y7"
        }
       ],
       "layout": {
        "annotations": [
         {
          "font": {
           "size": 16
          },
          "showarrow": false,
          "text": "B9",
          "x": 0.5,
          "xanchor": "center",
          "xref": "paper",
          "y": 0.9999999999999999,
          "yanchor": "bottom",
          "yref": "paper"
         },
         {
          "font": {
           "size": 16
          },
          "showarrow": false,
          "text": "H7",
          "x": 0.5,
          "xanchor": "center",
          "xref": "paper",
          "y": 0.8469387755102039,
          "yanchor": "bottom",
          "yref": "paper"
         },
         {
          "font": {
           "size": 16
          },
          "showarrow": false,
          "text": "P7",
          "x": 0.5,
          "xanchor": "center",
          "xref": "paper",
          "y": 0.6938775510204082,
          "yanchor": "bottom",
          "yref": "paper"
         },
         {
          "font": {
           "size": 16
          },
          "showarrow": false,
          "text": "BB (50.0 GB)",
          "x": 0.5,
          "xanchor": "center",
          "xref": "paper",
          "y": 0.5408163265306122,
          "yanchor": "bottom",
          "yref": "paper"
         },
         {
          "font": {
           "size": 16
          },
          "showarrow": false,
          "text": "HDD (1.0 TB)",
          "x": 0.5,
          "xanchor": "center",
          "xref": "paper",
          "y": 0.3877551020408163,
          "yanchor": "bottom",
          "yref": "paper"
         },
         {
          "font": {
           "size": 16
          },
          "showarrow": false,
          "text": "SSD (200.0 GB)",
          "x": 0.5,
          "xanchor": "center",
          "xref": "paper",
          "y": 0.2346938775510204,
          "yanchor": "bottom",
          "yref": "paper"
         },
         {
          "font": {
           "size": 16
          },
          "showarrow": false,
          "text": "CPU Cores",
          "x": 0.5,
          "xanchor": "center",
          "xref": "paper",
          "y": 0.08163265306122448,
          "yanchor": "bottom",
          "yref": "paper"
         }
        ],
        "height": 900,
        "template": {
         "data": {
          "bar": [
           {
            "error_x": {
             "color": "#2a3f5f"
            },
            "error_y": {
             "color": "#2a3f5f"
            },
            "marker": {
             "line": {
              "color": "#E5ECF6",
              "width": 0.5
             }
            },
            "type": "bar"
           }
          ],
          "barpolar": [
           {
            "marker": {
             "line": {
              "color": "#E5ECF6",
              "width": 0.5
             }
            },
            "type": "barpolar"
           }
          ],
          "carpet": [
           {
            "aaxis": {
             "endlinecolor": "#2a3f5f",
             "gridcolor": "white",
             "linecolor": "white",
             "minorgridcolor": "white",
             "startlinecolor": "#2a3f5f"
            },
            "baxis": {
             "endlinecolor": "#2a3f5f",
             "gridcolor": "white",
             "linecolor": "white",
             "minorgridcolor": "white",
             "startlinecolor": "#2a3f5f"
            },
            "type": "carpet"
           }
          ],
          "choropleth": [
           {
            "colorbar": {
             "outlinewidth": 0,
             "ticks": ""
            },
            "type": "choropleth"
           }
          ],
          "contour": [
           {
            "colorbar": {
             "outlinewidth": 0,
             "ticks": ""
            },
            "colorscale": [
             [
              0,
              "#0d0887"
             ],
             [
              0.1111111111111111,
              "#46039f"
             ],
             [
              0.2222222222222222,
              "#7201a8"
             ],
             [
              0.3333333333333333,
              "#9c179e"
             ],
             [
              0.4444444444444444,
              "#bd3786"
             ],
             [
              0.5555555555555556,
              "#d8576b"
             ],
             [
              0.6666666666666666,
              "#ed7953"
             ],
             [
              0.7777777777777778,
              "#fb9f3a"
             ],
             [
              0.8888888888888888,
              "#fdca26"
             ],
             [
              1,
              "#f0f921"
             ]
            ],
            "type": "contour"
           }
          ],
          "contourcarpet": [
           {
            "colorbar": {
             "outlinewidth": 0,
             "ticks": ""
            },
            "type": "contourcarpet"
           }
          ],
          "heatmap": [
           {
            "colorbar": {
             "outlinewidth": 0,
             "ticks": ""
            },
            "colorscale": [
             [
              0,
              "#0d0887"
             ],
             [
              0.1111111111111111,
              "#46039f"
             ],
             [
              0.2222222222222222,
              "#7201a8"
             ],
             [
              0.3333333333333333,
              "#9c179e"
             ],
             [
              0.4444444444444444,
              "#bd3786"
             ],
             [
              0.5555555555555556,
              "#d8576b"
             ],
             [
              0.6666666666666666,
              "#ed7953"
             ],
             [
              0.7777777777777778,
              "#fb9f3a"
             ],
             [
              0.8888888888888888,
              "#fdca26"
             ],
             [
              1,
              "#f0f921"
             ]
            ],
            "type": "heatmap"
           }
          ],
          "heatmapgl": [
           {
            "colorbar": {
             "outlinewidth": 0,
             "ticks": ""
            },
            "colorscale": [
             [
              0,
              "#0d0887"
             ],
             [
              0.1111111111111111,
              "#46039f"
             ],
             [
              0.2222222222222222,
              "#7201a8"
             ],
             [
              0.3333333333333333,
              "#9c179e"
             ],
             [
              0.4444444444444444,
              "#bd3786"
             ],
             [
              0.5555555555555556,
              "#d8576b"
             ],
             [
              0.6666666666666666,
              "#ed7953"
             ],
             [
              0.7777777777777778,
              "#fb9f3a"
             ],
             [
              0.8888888888888888,
              "#fdca26"
             ],
             [
              1,
              "#f0f921"
             ]
            ],
            "type": "heatmapgl"
           }
          ],
          "histogram": [
           {
            "marker": {
             "colorbar": {
              "outlinewidth": 0,
              "ticks": ""
             }
            },
            "type": "histogram"
           }
          ],
          "histogram2d": [
           {
            "colorbar": {
             "outlinewidth": 0,
             "ticks": ""
            },
            "colorscale": [
             [
              0,
              "#0d0887"
             ],
             [
              0.1111111111111111,
              "#46039f"
             ],
             [
              0.2222222222222222,
              "#7201a8"
             ],
             [
              0.3333333333333333,
              "#9c179e"
             ],
             [
              0.4444444444444444,
              "#bd3786"
             ],
             [
              0.5555555555555556,
              "#d8576b"
             ],
             [
              0.6666666666666666,
              "#ed7953"
             ],
             [
              0.7777777777777778,
              "#fb9f3a"
             ],
             [
              0.8888888888888888,
              "#fdca26"
             ],
             [
              1,
              "#f0f921"
             ]
            ],
            "type": "histogram2d"
           }
          ],
          "histogram2dcontour": [
           {
            "colorbar": {
             "outlinewidth": 0,
             "ticks": ""
            },
            "colorscale": [
             [
              0,
              "#0d0887"
             ],
             [
              0.1111111111111111,
              "#46039f"
             ],
             [
              0.2222222222222222,
              "#7201a8"
             ],
             [
              0.3333333333333333,
              "#9c179e"
             ],
             [
              0.4444444444444444,
              "#bd3786"
             ],
             [
              0.5555555555555556,
              "#d8576b"
             ],
             [
              0.6666666666666666,
              "#ed7953"
             ],
             [
              0.7777777777777778,
              "#fb9f3a"
             ],
             [
              0.8888888888888888,
              "#fdca26"
             ],
             [
              1,
              "#f0f921"
             ]
            ],
            "type": "histogram2dcontour"
           }
          ],
          "mesh3d": [
           {
            "colorbar": {
             "outlinewidth": 0,
             "ticks": ""
            },
            "type": "mesh3d"
           }
          ],
          "parcoords": [
           {
            "line": {
             "colorbar": {
              "outlinewidth": 0,
              "ticks": ""
             }
            },
            "type": "parcoords"
           }
          ],
          "pie": [
           {
            "automargin": true,
            "type": "pie"
           }
          ],
          "scatter": [
           {
            "marker": {
             "colorbar": {
              "outlinewidth": 0,
              "ticks": ""
             }
            },
            "type": "scatter"
           }
          ],
          "scatter3d": [
           {
            "line": {
             "colorbar": {
              "outlinewidth": 0,
              "ticks": ""
             }
            },
            "marker": {
             "colorbar": {
              "outlinewidth": 0,
              "ticks": ""
             }
            },
            "type": "scatter3d"
           }
          ],
          "scattercarpet": [
           {
            "marker": {
             "colorbar": {
              "outlinewidth": 0,
              "ticks": ""
             }
            },
            "type": "scattercarpet"
           }
          ],
          "scattergeo": [
           {
            "marker": {
             "colorbar": {
              "outlinewidth": 0,
              "ticks": ""
             }
            },
            "type": "scattergeo"
           }
          ],
          "scattergl": [
           {
            "marker": {
             "colorbar": {
              "outlinewidth": 0,
              "ticks": ""
             }
            },
            "type": "scattergl"
           }
          ],
          "scattermapbox": [
           {
            "marker": {
             "colorbar": {
              "outlinewidth": 0,
              "ticks": ""
             }
            },
            "type": "scattermapbox"
           }
          ],
          "scatterpolar": [
           {
            "marker": {
             "colorbar": {
              "outlinewidth": 0,
              "ticks": ""
             }
            },
            "type": "scatterpolar"
           }
          ],
          "scatterpolargl": [
           {
            "marker": {
             "colorbar": {
              "outlinewidth": 0,
              "ticks": ""
             }
            },
            "type": "scatterpolargl"
           }
          ],
          "scatterternary": [
           {
            "marker": {
             "colorbar": {
              "outlinewidth": 0,
              "ticks": ""
             }
            },
            "type": "scatterternary"
           }
          ],
          "surface": [
           {
            "colorbar": {
             "outlinewidth": 0,
             "ticks": ""
            },
            "colorscale": [
             [
              0,
              "#0d0887"
             ],
             [
              0.1111111111111111,
              "#46039f"
             ],
             [
              0.2222222222222222,
              "#7201a8"
             ],
             [
              0.3333333333333333,
              "#9c179e"
             ],
             [
              0.4444444444444444,
              "#bd3786"
             ],
             [
              0.5555555555555556,
              "#d8576b"
             ],
             [
              0.6666666666666666,
              "#ed7953"
             ],
             [
              0.7777777777777778,
              "#fb9f3a"
             ],
             [
              0.8888888888888888,
              "#fdca26"
             ],
             [
              1,
              "#f0f921"
             ]
            ],
            "type": "surface"
           }
          ],
          "table": [
           {
            "cells": {
             "fill": {
              "color": "#EBF0F8"
             },
             "line": {
              "color": "white"
             }
            },
            "header": {
             "fill": {
              "color": "#C8D4E3"
             },
             "line": {
              "color": "white"
             }
            },
            "type": "table"
           }
          ]
         },
         "layout": {
          "annotationdefaults": {
           "arrowcolor": "#2a3f5f",
           "arrowhead": 0,
           "arrowwidth": 1
          },
          "coloraxis": {
           "colorbar": {
            "outlinewidth": 0,
            "ticks": ""
           }
          },
          "colorscale": {
           "diverging": [
            [
             0,
             "#8e0152"
            ],
            [
             0.1,
             "#c51b7d"
            ],
            [
             0.2,
             "#de77ae"
            ],
            [
             0.3,
             "#f1b6da"
            ],
            [
             0.4,
             "#fde0ef"
            ],
            [
             0.5,
             "#f7f7f7"
            ],
            [
             0.6,
             "#e6f5d0"
            ],
            [
             0.7,
             "#b8e186"
            ],
            [
             0.8,
             "#7fbc41"
            ],
            [
             0.9,
             "#4d9221"
            ],
            [
             1,
             "#276419"
            ]
           ],
           "sequential": [
            [
             0,
             "#0d0887"
            ],
            [
             0.1111111111111111,
             "#46039f"
            ],
            [
             0.2222222222222222,
             "#7201a8"
            ],
            [
             0.3333333333333333,
             "#9c179e"
            ],
            [
             0.4444444444444444,
             "#bd3786"
            ],
            [
             0.5555555555555556,
             "#d8576b"
            ],
            [
             0.6666666666666666,
             "#ed7953"
            ],
            [
             0.7777777777777778,
             "#fb9f3a"
            ],
            [
             0.8888888888888888,
             "#fdca26"
            ],
            [
             1,
             "#f0f921"
            ]
           ],
           "sequentialminus": [
            [
             0,
             "#0d0887"
            ],
            [
             0.1111111111111111,
             "#46039f"
            ],
            [
             0.2222222222222222,
             "#7201a8"
            ],
            [
             0.3333333333333333,
             "#9c179e"
            ],
            [
             0.4444444444444444,
             "#bd3786"
            ],
            [
             0.5555555555555556,
             "#d8576b"
            ],
            [
             0.6666666666666666,
             "#ed7953"
            ],
            [
             0.7777777777777778,
             "#fb9f3a"
            ],
            [
             0.8888888888888888,
             "#fdca26"
            ],
            [
             1,
             "#f0f921"
            ]
           ]
          },
          "colorway": [
           "#636efa",
           "#EF553B",
           "#00cc96",
           "#ab63fa",
           "#FFA15A",
           "#19d3f3",
           "#FF6692",
           "#B6E880",
           "#FF97FF",
           "#FECB52"
          ],
          "font": {
           "color": "#2a3f5f"
          },
          "geo": {
           "bgcolor": "white",
           "lakecolor": "white",
           "landcolor": "#E5ECF6",
           "showlakes": true,
           "showland": true,
           "subunitcolor": "white"
          },
          "hoverlabel": {
           "align": "left"
          },
          "hovermode": "closest",
          "mapbox": {
           "style": "light"
          },
          "paper_bgcolor": "white",
          "plot_bgcolor": "#E5ECF6",
          "polar": {
           "angularaxis": {
            "gridcolor": "white",
            "linecolor": "white",
            "ticks": ""
           },
           "bgcolor": "#E5ECF6",
           "radialaxis": {
            "gridcolor": "white",
            "linecolor": "white",
            "ticks": ""
           }
          },
          "scene": {
           "xaxis": {
            "backgroundcolor": "#E5ECF6",
            "gridcolor": "white",
            "gridwidth": 2,
            "linecolor": "white",
            "showbackground": true,
            "ticks": "",
            "zerolinecolor": "white"
           },
           "yaxis": {
            "backgroundcolor": "#E5ECF6",
            "gridcolor": "white",
            "gridwidth": 2,
            "linecolor": "white",
            "showbackground": true,
            "ticks": "",
            "zerolinecolor": "white"
           },
           "zaxis": {
            "backgroundcolor": "#E5ECF6",
            "gridcolor": "white",
            "gridwidth": 2,
            "linecolor": "white",
            "showbackground": true,
            "ticks": "",
            "zerolinecolor": "white"
           }
          },
          "shapedefaults": {
           "line": {
            "color": "#2a3f5f"
           }
          },
          "ternary": {
           "aaxis": {
            "gridcolor": "white",
            "linecolor": "white",
            "ticks": ""
           },
           "baxis": {
            "gridcolor": "white",
            "linecolor": "white",
            "ticks": ""
           },
           "bgcolor": "#E5ECF6",
           "caxis": {
            "gridcolor": "white",
            "linecolor": "white",
            "ticks": ""
           }
          },
          "title": {
           "x": 0.05
          },
          "xaxis": {
           "automargin": true,
           "gridcolor": "white",
           "linecolor": "white",
           "ticks": "",
           "title": {
            "standoff": 15
           },
           "zerolinecolor": "white",
           "zerolinewidth": 2
          },
          "yaxis": {
           "automargin": true,
           "gridcolor": "white",
           "linecolor": "white",
           "ticks": "",
           "title": {
            "standoff": 15
           },
           "zerolinecolor": "white",
           "zerolinewidth": 2
          }
         }
        },
        "title": {
         "text": "State of the Cluster"
        },
        "width": 800,
        "xaxis": {
         "anchor": "y",
         "domain": [
          0,
          1
         ],
         "matches": "x7",
         "showticklabels": false,
         "title": {
          "text": "time in s"
         }
        },
        "xaxis2": {
         "anchor": "y2",
         "domain": [
          0,
          1
         ],
         "matches": "x7",
         "showticklabels": false,
         "title": {
          "text": "time in s"
         }
        },
        "xaxis3": {
         "anchor": "y3",
         "domain": [
          0,
          1
         ],
         "matches": "x7",
         "showticklabels": false,
         "title": {
          "text": "time in s"
         }
        },
        "xaxis4": {
         "anchor": "y4",
         "domain": [
          0,
          1
         ],
         "matches": "x7",
         "showticklabels": false,
         "title": {
          "text": "time in s"
         }
        },
        "xaxis5": {
         "anchor": "y5",
         "domain": [
          0,
          1
         ],
         "matches": "x7",
         "showticklabels": false,
         "title": {
          "text": "time in s"
         }
        },
        "xaxis6": {
         "anchor": "y6",
         "domain": [
          0,
          1
         ],
         "matches": "x7",
         "showticklabels": false,
         "title": {
          "text": "time in s"
         }
        },
        "xaxis7": {
         "anchor": "y7",
         "domain": [
          0,
          1
         ],
         "title": {
          "text": "time in s"
         }
        },
        "yaxis": {
         "anchor": "x",
         "domain": [
          0.9183673469387754,
          0.9999999999999999
         ],
         "title": {
          "text": "dataflow in MB/s"
         }
        },
        "yaxis2": {
         "anchor": "x2",
         "domain": [
          0.7653061224489794,
          0.8469387755102039
         ],
         "title": {
          "text": "dataflow in MB/s"
         }
        },
        "yaxis3": {
         "anchor": "x3",
         "domain": [
          0.6122448979591837,
          0.6938775510204082
         ],
         "title": {
          "text": "dataflow in MB/s"
         }
        },
        "yaxis4": {
         "anchor": "x4",
         "domain": [
          0.4591836734693877,
          0.5408163265306122
         ],
         "title": {
          "text": "BB usage in Bytes"
         }
        },
        "yaxis5": {
         "anchor": "x5",
         "domain": [
          0.30612244897959184,
          0.3877551020408163
         ],
         "title": {
          "text": "HDD usage in Bytes"
         }
        },
        "yaxis6": {
         "anchor": "x6",
         "domain": [
          0.15306122448979592,
          0.2346938775510204
         ],
         "title": {
          "text": "SSD usage in Bytes"
         }
        },
        "yaxis7": {
         "anchor": "x7",
         "domain": [
          0,
          0.08163265306122448
         ],
         "title": {
          "text": "CPU usage"
         }
        }
       }
      }
     },
     "metadata": {},
     "output_type": "display_data"
    }
   ],
   "source": [
    "fig1 = cbb.display_placement(placement=bbopt.best_parameters_in_grid)\n",
    "fig1.show()"
   ]
  }
 ],
 "metadata": {
  "kernelspec": {
   "display_name": "Python 3",
   "language": "python",
   "name": "python3"
  },
  "language_info": {
   "codemirror_mode": {
    "name": "ipython",
    "version": 3
   },
   "file_extension": ".py",
   "mimetype": "text/x-python",
   "name": "python",
   "nbconvert_exporter": "python",
   "pygments_lexer": "ipython3",
   "version": "3.8.13"
  },
  "varInspector": {
   "cols": {
    "lenName": 16,
    "lenType": 16,
    "lenVar": 40
   },
   "kernels_config": {
    "python": {
     "delete_cmd_postfix": "",
     "delete_cmd_prefix": "del ",
     "library": "var_list.py",
     "varRefreshCmd": "print(var_dic_list())"
    },
    "r": {
     "delete_cmd_postfix": ") ",
     "delete_cmd_prefix": "rm(",
     "library": "var_list.r",
     "varRefreshCmd": "cat(var_dic_list()) "
    }
   },
   "types_to_exclude": [
    "module",
    "function",
    "builtin_function_or_method",
    "instance",
    "_Feature"
   ],
   "window_display": false
  },
  "vscode": {
   "interpreter": {
    "hash": "c87beb4c7de1fcbf6155f8da331fc04a584374d4c389d75c2ece6a4f03553c96"
   }
  }
 },
 "nbformat": 4,
 "nbformat_minor": 4
}
