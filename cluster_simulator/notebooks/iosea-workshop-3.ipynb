{
 "cells": [
  {
   "cell_type": "code",
   "execution_count": 1,
   "metadata": {},
   "outputs": [],
   "source": [
    "import sys\n",
    "sys.path.append(\"../\") # go to parent dir\n",
    "# imports\n",
    "import simpy\n",
    "from loguru import logger\n",
    "import time\n",
    "import numpy as np\n",
    "import pandas as pd\n",
    "from cluster_simulator.utils import convex_hull\n",
    "from cluster_simulator.cluster import Cluster, Tier, EphemeralTier, bandwidth_share_model, compute_share_model, get_tier, convert_size\n",
    "from cluster_simulator.phase import DelayPhase, ComputePhase, IOPhase\n",
    "from cluster_simulator.application import Application\n",
    "from cluster_simulator.analytics import display_run\n",
    "from cluster_simulator.ephemeral_placement import ClusterBlackBox\n",
    "from cluster_simulator.placement_optimizer import PlacementOptimizer\n"
   ]
  },
  {
   "cell_type": "markdown",
   "metadata": {},
   "source": [
    "### 6.3 Exemples de Contraintes en Code\n",
    "\n",
    "L'un des aspects les plus importants de notre implémentation est la manière dont nous avons formalisé les contraintes du problème d'ordonnancement. Utilisant la bibliothèque `PuLP`, nous avons pu traduire les contraintes mathématiques en expressions de code compréhensibles et efficaces.\n",
    "\n",
    "Par exemple, pour s'assurer qu'une phase ne commence qu'après la fin de la phase précédente dans la même tâche, nous utilisons la contrainte suivante :\n",
    "\n",
    "```python\n",
    "if i > 0:\n",
    "    prob += x[job, i] >= y[job, i - 1], f\"StartAfterPrev_{job}_{i}\"\n",
    "```\n",
    "\n",
    "Cette expression utilise des variables de décision \\( x \\) et \\( y \\) qui représentent respectivement le temps de début et de fin de chaque phase pour chaque tâche.\n",
    "\n",
    "Un autre exemple de contrainte est celui qui calcule la durée d'une phase en fonction de la somme des volumes de lecture et d'écriture et de la bande passante du tier de stockage choisi :\n",
    "\n",
    "```python\n",
    "total_volume = phase['read_volume'] + phase['write_volume']\n",
    "bandwidth = tier0_model(phase) if z[job, i, 0] == 1 else tier1_model(phase)\n",
    "prob += y[job, i] == x[job, i] + total_volume / bandwidth, f\"EndTime_{job}_{i}\"\n",
    "```\n",
    "\n",
    "Nous avons également ajouté des contraintes pour gérer la sélection des tiers de stockage et pour s'assurer que la bande passante globale n'excède pas les limites des tiers respectifs.\n",
    "\n",
    "Ces exemples illustrent comment notre implémentation en Python, appuyée par la bibliothèque `PuLP`, permet de formaliser un ensemble complexe de contraintes de manière claire et efficace. Ce formalisme facilite non seulement la résolution du problème, mais aussi l'expérimentation avec différentes configurations et objectifs d'optimisation.\n",
    "\n",
    "\n",
    "\n",
    "\n",
    "\n",
    "Bien sûr, voici un récapitulatif des différents types de contraintes que nous avons abordés dans les exemples de code précédents :\n",
    "\n",
    "1. **Contraintes de séquencement entre les phases d'un même job** : Ces contraintes garantissent que chaque phase d'un job commence après la fin de la phase précédente.\n",
    "\n",
    "    ```python\n",
    "    prob += x[job, i] >= y[job, i - 1], f\"StartAfterPrev_{job}_{i}\"\n",
    "    ```\n",
    "\n",
    "2. **Contraintes de durée de phase** : Ces contraintes sont utilisées pour calculer le temps nécessaire pour exécuter une phase en fonction de son volume total de données (lecture + écriture) et de la bande passante du tier utilisé.\n",
    "\n",
    "    ```python\n",
    "    total_volume = phase['read_volume'] + phase['write_volume']\n",
    "    bandwidth = tier0_model(phase) if z[job, i, 0] == 1 else tier1_model(phase)\n",
    "    prob += y[job, i] == x[job, i] + total_volume / bandwidth, f\"EndTime_{job}_{i}\"\n",
    "    ```\n",
    "\n",
    "3. **Contraintes de choix de tier** : Ces contraintes garantissent qu'un seul tier est utilisé pour chaque phase.\n",
    "\n",
    "    ```python\n",
    "    prob += z[job, i, 0] + z[job, i, 1] == 1, f\"SingleTier_{job}_{i}\"\n",
    "    ```\n",
    "\n",
    "4. **Contraintes d'exécution en parallèle ou en séquence** : Dans le cas où les jobs doivent être exécutés en séquence, une contrainte supplémentaire serait ajoutée pour garantir que le job suivant ne commence qu'après la fin du job précédent.\n",
    "\n",
    "    ```python\n",
    "    if sequential:\n",
    "        prob += x['job2', 0] >= y['job1', len(job1_phase_features) - 1], \"Sequential_Jobs\"\n",
    "    ```\n",
    "\n",
    "Ces contraintes forment la base de notre modèle d'ordonnancement et d'allocation des ressources, permettant une flexibilité dans la prise en compte des différentes dimensions du problème, telles que les volumes de données, les choix de tiers de stockage, et les exigences de séquencement des tâches.\n",
    "\n",
    "La contrainte sur le partage de la bande passante lorsque deux ou plusieurs phases utilisent le même tier peut être cruciale pour assurer un fonctionnement optimal du système. Cette contrainte garantit que la somme des bandes passantes allouées aux différentes phases n'excède pas la capacité maximale du tier concerné. \n",
    "\n",
    "Supposons que la capacité maximale de bande passante pour les tiers 0 et 1 soit respectivement \\(BW_{\\text{max, tier0}}\\) et \\(BW_{\\text{max, tier1}}\\).\n",
    "\n",
    "La variable de décision \\(w_{(i, j, k)}(t)\\) représente la bande passante attribuée à la phase \\(j\\) de la tâche \\(i\\) lorsqu'elle utilise le tier \\(k\\) au temps \\(t\\). La contrainte de partage de la bande passante peut alors être exprimée comme suit :\n",
    "\n",
    "\\[\n",
    "\\sum_{i,j} w_{(i, j, k)}(t) \\leq BW_{\\text{max, tier}_k}, \\quad \\forall t, k\n",
    "\\]\n",
    "\n",
    "Dans le code Python utilisant PuLP, cela pourrait être implémenté comme :\n",
    "\n",
    "```python\n",
    "# Bandwidth capacity constraints\n",
    "for t in time_range:\n",
    "    for k in [0, 1]:  # For each tier\n",
    "        prob += lpSum(w[i, j, k, t] for i, phase_list in phases.items() for j in range(len(phase_list))) <= max_bandwidth[k], f\"MaxBandwidth_Tier{k}_Time{t}\"\n",
    "```\n",
    "\n",
    "Ici, `max_bandwidth` serait un dictionnaire contenant les capacités maximales de bande passante pour chaque tier, et `time_range` serait la plage de temps sur laquelle s'étend le problème.\n",
    "\n",
    "Vous avez tout à fait raison. La capacité maximale de la bande passante, représentée par `max_bandwidth[k]`, peut être déterminée en utilisant un modèle de régression qui prend en compte les caractéristiques de chaque phase. Ce modèle de régression pourrait être basé sur différents facteurs, tels que le volume de lecture/écriture, le nombre de nœuds, le type de modèle d'E/S, etc.\n",
    "\n",
    "Dans ce cas, la contrainte de bande passante maximale peut être dynamiquement mise à jour en fonction des caractéristiques de la phase. Par exemple :\n",
    "\n",
    "```python\n",
    "# Bandwidth capacity constraints\n",
    "for t in time_range:\n",
    "    for k in [0, 1]:  # For each tier\n",
    "        # Using the regression model to get the maximum bandwidth for the tier based on phase features\n",
    "        max_bandwidth_k = tier_model[k](phase_features)\n",
    "        \n",
    "        prob += lpSum(w[i, j, k, t] for i, phase_list in phases.items() for j in range(len(phase_list))) <= max_bandwidth_k, f\"MaxBandwidth_Tier{k}_Time{t}\"\n",
    "```\n",
    "\n",
    "Ici, `tier_model[k]` représente le modèle de régression pour le tier \\( k \\), et `phase_features` serait un ensemble de caractéristiques pertinentes pour la phase considérée. Ce modèle serait utilisé pour prédire la bande passante maximale possible pour un tier donné en fonction des caractéristiques de la phase en cours d'exécution.\n",
    "\n",
    "\n",
    "\n",
    "\n",
    "\n",
    "You're absolutely correct; I apologize for the oversight. If the `max_bandwidth` for each tier is dynamically determined using a regression model based on the phase features, the constraint should be formulated within the loop where each phase is accessed. Here is how you might do it:\n",
    "\n",
    "```python\n",
    "# Bandwidth capacity constraints\n",
    "for t in time_range:\n",
    "    for k in [0, 1]:  # For each tier\n",
    "        # Summation of bandwidth used by all phases at time t for tier k should not exceed the max bandwidth\n",
    "        prob += lpSum(\n",
    "            w[i, j, k, t] for i, phase_list in phases.items() for j, phase in enumerate(phase_list)\n",
    "        ) <= tier_model[k](phase), f\"MaxBandwidth_Tier{k}_Time{t}\"\n",
    "```\n",
    "```python\n",
    "# Contraintes sur la capacité de la bande passante\n",
    "for t in time_range:\n",
    "    for k in [0, 1]:  # Pour chaque niveau de stockage (tier)\n",
    "        # La somme de la bande passante utilisée par toutes les phases au temps t pour le niveau k \n",
    "        # ne doit pas dépasser la bande passante maximale pour ce niveau.\n",
    "        # La fonction tier_model[k](phase) évalue la bande passante maximale pour le niveau k \n",
    "        # en fonction des caractéristiques de la phase en cours.\n",
    "        prob += lpSum(\n",
    "            w[i, j, k, t] for i, phase_list in phases.items() for j, phase in enumerate(phase_list)\n",
    "        ) <= tier_model[k](phase), f\"MaxBandwidth_Tier{k}_Time{t}\"\n",
    "\n",
    "\n",
    "\n",
    "\n",
    "```\n",
    "\n",
    "La contrainte assure que la bande passante totale consommée par toutes les phases à tout moment \\( t \\) ne dépasse pas la bande passante maximale pour le niveau de stockage \\( k \\). Cette bande passante maximale est déterminée de manière dynamique en utilisant le modèle de régression `tier_model[k](phase)` sur les caractéristiques de la phase en cours.\n",
    "\n",
    "\n",
    "Cette approche vous permet de tenir compte des variations potentielles de la bande passante en fonction de divers facteurs, rendant ainsi votre modèle plus adaptatif et robuste.\n",
    "\n",
    "Notez que cette approche nécessite de discrétiser le temps en plusieurs pas de temps, ce qui peut augmenter considérablement la taille du problème. Le choix de la taille du pas de temps dépendra donc d'un compromis entre précision et complexité de calcul.\n",
    "\n",
    "\n",
    "\n",
    "\n",
    "Absolument, il est plus logique de diviser par \\( n_k(t) \\) uniquement si \\( n_k(t) > 0 \\). Vous pouvez le faire en ajoutant une condition dans votre contrainte. Voici comment cela pourrait être fait :\n",
    "\n",
    "```python\n",
    "# Contraintes sur le partage de la capacité de la bande passante\n",
    "for t in time_range:\n",
    "    for k in [0, 1]:  # Pour chaque niveau de stockage (tier)\n",
    "        # Calcul du nombre de phases utilisant le tier k au temps t\n",
    "        n_k_t = lpSum(u[i, j, k, t] for i, phase_list in phases.items() for j, phase in enumerate(phase_list))\n",
    "\n",
    "        # La somme de la bande passante utilisée par toutes les phases au temps t pour le niveau k\n",
    "        # ne doit pas dépasser la bande passante maximale pour ce niveau.\n",
    "        max_bandwidth_k = tier_model[k](phase)\n",
    "        prob += lpSum(\n",
    "            w[i, j, k, t] for i, phase_list in phases.items() for j, phase in enumerate(phase_list)\n",
    "        ) <= max_bandwidth_k, f\"MaxBandwidth_Tier{k}_Time{t}\"\n",
    "\n",
    "        # Si n_k_t > 0, alors on divise la bande passante maximale par n_k_t\n",
    "        prob += lpSum(\n",
    "            w[i, j, k, t] for i, phase_list in phases.items() for j, phase in enumerate(phase_list)\n",
    "        ) <= max_bandwidth_k / (n_k_t + (n_k_t == 0)), f\"SharedBandwidth_Tier{k}_Time{t}\"\n",
    "```\n",
    "\n",
    "\n",
    "Dans le contexte des systèmes HPC (High-Performance Computing), l'ordonnancement et l'allocation des ressources sont des problématiques cruciales. Ces défis sont particulièrement importants lorsque l'on considère des workflows complexes, composés de multiples tâches avec des dépendances et des contraintes diverses, telles que la bande passante, les volumes de lecture et d'écriture, et les différents niveaux de stockage (tiers). La Programmation Linéaire Mixte en Nombres Entiers (MILP) offre une méthode mathématique rigoureuse pour modéliser et résoudre ces types de problèmes. \n",
    "\n",
    "L'approche MILP est justifiée par sa capacité à gérer un grand nombre de contraintes linéaires et non-linéaires, tout en fournissant des solutions optimales ou quasi-optimales. Contrairement aux méthodes heuristiques, qui ne garantissent pas toujours une solution optimale, MILP assure que la solution obtenue est la meilleure possible selon la fonction objectif, sous réserve des contraintes définies. De plus, des outils logiciels tels que PuLP permettent une implémentation assez simple et directe des modèles MILP, tout en offrant des temps de résolution rapides pour des problèmes de taille modérée. \n",
    "\n",
    "En somme, l'approche MILP est particulièrement bien adaptée pour les environnements HPC où la précision, l'efficacité et la capacité à gérer des contraintes multiples sont essentielles. Elle permet une modélisation fine des différentes facettes du problème et offre une méthode robuste et fiable pour trouver des solutions optimales, ce qui en fait un choix judicieux pour notre système de recommandation destiné à optimiser la gestion des ressources dans les applications HPC.\n",
    "\n",
    "Je voudrais maintenant compléter le rapport avec une partie dédiée à l'analyse bayésienne. Fondamentalement, le résultat de recommandation premier est obtenu avec la résolution du problème MILP. Il permet d'obtenir un choix initial de tiers de stockage pour chaque phase de chaque job. L'analyse Bayésienne de mettre bout à bout un simulateur d'execution à qui on fournit un vecteur d'affectation de tiers à des phases et il nous retourne une timeline de l'exécution du workflow, et par conséquence sa durée qu'on cherche à optimiser. l'idée est d'utiliser la solution PuLP en réponse lorsque l'utilisateur invoque le système de recommendation. Puis de laisser la recherche bayésienne perturber légèrement le vecteur d'attribution des tiers aux phases des tâches pour explorer les solutions voisines, concurrentes, et ainsi établir un comparatif et pouvoir qualifier l'optimalité de la solution trouvé par PuLP. Après, la recherche bayésienne utilisant BBO (black box optimizer) ou Optuna risque d'itérer à plusieurs reprises sur des solutions de placements, qu'il injecte dans le simulateur d'exécution pour évaluer la performance (temps d'exécution du workflow), risque de prendre un peu plus de temps. En sortie, des graphiques et des analytiques comparatives sur la qualité de la solution trouvée sont prévues. \n",
    "propose moi en complément au rapport, une organisation et quelques paragraphe pour exprimer ces idée. Tu peux poser des question pour obtenir des précisions et procéder par parties.\n",
    "\n"
   ]
  },
  {
   "cell_type": "markdown",
   "metadata": {},
   "source": []
  },
  {
   "cell_type": "markdown",
   "metadata": {},
   "source": [
    "Setting the Cluster:\n",
    "- with one tier level (HDD)\n",
    "- with an ephemeral tier:\n",
    " "
   ]
  },
  {
   "cell_type": "code",
   "execution_count": 5,
   "metadata": {},
   "outputs": [],
   "source": [
    "# sim env an data\n",
    "env = simpy.Environment()\n",
    "data = simpy.Store(env)\n",
    "# tier perfs\n",
    "nvram_bandwidth = {'read':  {'seq': 800, 'rand': 800},\n",
    "                        'write': {'seq': 400, 'rand': 400}}\n",
    "ssd_bandwidth = {'read':  {'seq': 200, 'rand': 200},\n",
    "                    'write': {'seq': 100, 'rand': 100}}\n",
    "hdd_bandwidth = {'read':  {'seq': 80, 'rand': 80},\n",
    "                    'write': {'seq': 40, 'rand': 40}}\n",
    "\n",
    "# registering Tiers\n",
    "hdd_tier = Tier(env, 'HDD', bandwidth=hdd_bandwidth, capacity=1e12)\n",
    "ssd_tier = Tier(env, 'SSD', bandwidth=ssd_bandwidth, capacity=200e9)\n",
    "nvram_tier = Tier(env, 'NVRAM', bandwidth=nvram_bandwidth,\n",
    "                        capacity=10e9)\n",
    "# registering Ephemeral Tier\n",
    "bb = EphemeralTier(env, name=\"BB\", persistent_tier=hdd_tier,\n",
    "                        bandwidth=nvram_bandwidth, capacity=10e9)\n",
    "\n",
    "# Define the cluster with 1 persistent and 1 ephemeral\n",
    "cluster = Cluster(env, tiers=[hdd_tier, ssd_tier], ephemeral_tier=bb)\n",
    "\n",
    "# define app\n",
    "read = [1e9, 0]\n",
    "compute = [0,  10]\n",
    "write = [0, 5e9]\n",
    "app1 = Application(env, compute=compute, read=read, write=write, data=data)\n",
    "\n",
    "# placement\n",
    "placement = [0, 0]\n",
    "use_bb = [False, False]"
   ]
  },
  {
   "cell_type": "code",
   "execution_count": 6,
   "metadata": {},
   "outputs": [
    {
     "name": "stdout",
     "output_type": "stream",
     "text": [
      "application duration = 257.5\n"
     ]
    },
    {
     "data": {
      "application/vnd.plotly.v1+json": {
       "config": {
        "plotlyServerURL": "https://plot.ly"
       },
       "data": [
        {
         "line": {
          "shape": "linear"
         },
         "name": "app#D3",
         "text": [
          "WRITE|to/from:HDD|volume=1.5 GB",
          "WRITE|to/from:HDD|volume=1.5 GB",
          "COMPUTE|volume=0B",
          "COMPUTE|volume=0B",
          "WRITE|to/from:SSD|volume=5.0 GB",
          "WRITE|to/from:SSD|volume=5.0 GB"
         ],
         "textposition": "top center",
         "type": "scatter",
         "x": [
          0,
          37.5,
          37.5,
          207.5,
          207.5,
          257.5
         ],
         "xaxis": "x",
         "y": [
          40,
          40,
          0,
          0,
          100,
          100
         ],
         "yaxis": "y"
        },
        {
         "line": {
          "dash": "dot",
          "shape": "linear"
         },
         "name": "D3 mvt",
         "text": [],
         "textposition": "top center",
         "type": "scatter",
         "x": [],
         "xaxis": "x",
         "y": [],
         "yaxis": "y"
        },
        {
         "line": {
          "shape": "linear"
         },
         "name": "BB",
         "showlegend": false,
         "text": [
          "D3|Write|HDD | +volume=1.5 GB",
          "D3|Compute | +volume=0B",
          "D3|Write|SSD | +volume=5.0 GB"
         ],
         "textposition": "top center",
         "type": "scatter",
         "x": [
          0,
          37.5,
          207.5,
          257.5
         ],
         "xaxis": "x2",
         "y": [
          0,
          0,
          0,
          0
         ],
         "yaxis": "y2"
        },
        {
         "line": {
          "shape": "linear"
         },
         "name": "HDD",
         "showlegend": false,
         "text": [
          "D3|Write|HDD | +volume=1.5 GB",
          "D3|Compute | +volume=0B",
          "D3|Write|SSD | +volume=5.0 GB"
         ],
         "textposition": "top center",
         "type": "scatter",
         "x": [
          0,
          37.5,
          207.5,
          257.5
         ],
         "xaxis": "x3",
         "y": [
          0,
          1500000000,
          1500000000,
          1500000000
         ],
         "yaxis": "y3"
        },
        {
         "line": {
          "shape": "linear"
         },
         "name": "SSD",
         "showlegend": false,
         "text": [
          "D3|Write|HDD | +volume=1.5 GB",
          "D3|Compute | +volume=0B",
          "D3|Write|SSD | +volume=5.0 GB"
         ],
         "textposition": "top center",
         "type": "scatter",
         "x": [
          0,
          37.5,
          207.5,
          257.5
         ],
         "xaxis": "x4",
         "y": [
          0,
          0,
          0,
          4999999999.999999
         ],
         "yaxis": "y4"
        },
        {
         "line": {
          "shape": "hv"
         },
         "showlegend": false,
         "type": "scatter",
         "x": [
          0,
          37.5,
          207.5,
          257.5
         ],
         "xaxis": "x5",
         "y": [
          1,
          1,
          1,
          0
         ],
         "yaxis": "y5"
        },
        {
         "line": {
          "color": "red",
          "dash": "dot",
          "shape": "hv",
          "width": 3
         },
         "showlegend": false,
         "text": [
          "Maximum available cores in cluster=2",
          "Maximum available cores in cluster=2"
         ],
         "type": "scatter",
         "x": [
          0,
          257.5
         ],
         "xaxis": "x5",
         "y": [
          2,
          2
         ],
         "yaxis": "y5"
        }
       ],
       "layout": {
        "annotations": [
         {
          "font": {
           "size": 16
          },
          "showarrow": false,
          "text": "D3",
          "x": 0.5,
          "xanchor": "center",
          "xref": "paper",
          "y": 1,
          "yanchor": "bottom",
          "yref": "paper"
         },
         {
          "font": {
           "size": 16
          },
          "showarrow": false,
          "text": "BB (10.0 GB)",
          "x": 0.5,
          "xanchor": "center",
          "xref": "paper",
          "y": 0.78,
          "yanchor": "bottom",
          "yref": "paper"
         },
         {
          "font": {
           "size": 16
          },
          "showarrow": false,
          "text": "HDD (1.0 TB)",
          "x": 0.5,
          "xanchor": "center",
          "xref": "paper",
          "y": 0.56,
          "yanchor": "bottom",
          "yref": "paper"
         },
         {
          "font": {
           "size": 16
          },
          "showarrow": false,
          "text": "SSD (200.0 GB)",
          "x": 0.5,
          "xanchor": "center",
          "xref": "paper",
          "y": 0.33999999999999997,
          "yanchor": "bottom",
          "yref": "paper"
         },
         {
          "font": {
           "size": 16
          },
          "showarrow": false,
          "text": "CPU Cores",
          "x": 0.5,
          "xanchor": "center",
          "xref": "paper",
          "y": 0.12,
          "yanchor": "bottom",
          "yref": "paper"
         }
        ],
        "height": 900,
        "template": {
         "data": {
          "bar": [
           {
            "error_x": {
             "color": "#2a3f5f"
            },
            "error_y": {
             "color": "#2a3f5f"
            },
            "marker": {
             "line": {
              "color": "#E5ECF6",
              "width": 0.5
             }
            },
            "type": "bar"
           }
          ],
          "barpolar": [
           {
            "marker": {
             "line": {
              "color": "#E5ECF6",
              "width": 0.5
             }
            },
            "type": "barpolar"
           }
          ],
          "carpet": [
           {
            "aaxis": {
             "endlinecolor": "#2a3f5f",
             "gridcolor": "white",
             "linecolor": "white",
             "minorgridcolor": "white",
             "startlinecolor": "#2a3f5f"
            },
            "baxis": {
             "endlinecolor": "#2a3f5f",
             "gridcolor": "white",
             "linecolor": "white",
             "minorgridcolor": "white",
             "startlinecolor": "#2a3f5f"
            },
            "type": "carpet"
           }
          ],
          "choropleth": [
           {
            "colorbar": {
             "outlinewidth": 0,
             "ticks": ""
            },
            "type": "choropleth"
           }
          ],
          "contour": [
           {
            "colorbar": {
             "outlinewidth": 0,
             "ticks": ""
            },
            "colorscale": [
             [
              0,
              "#0d0887"
             ],
             [
              0.1111111111111111,
              "#46039f"
             ],
             [
              0.2222222222222222,
              "#7201a8"
             ],
             [
              0.3333333333333333,
              "#9c179e"
             ],
             [
              0.4444444444444444,
              "#bd3786"
             ],
             [
              0.5555555555555556,
              "#d8576b"
             ],
             [
              0.6666666666666666,
              "#ed7953"
             ],
             [
              0.7777777777777778,
              "#fb9f3a"
             ],
             [
              0.8888888888888888,
              "#fdca26"
             ],
             [
              1,
              "#f0f921"
             ]
            ],
            "type": "contour"
           }
          ],
          "contourcarpet": [
           {
            "colorbar": {
             "outlinewidth": 0,
             "ticks": ""
            },
            "type": "contourcarpet"
           }
          ],
          "heatmap": [
           {
            "colorbar": {
             "outlinewidth": 0,
             "ticks": ""
            },
            "colorscale": [
             [
              0,
              "#0d0887"
             ],
             [
              0.1111111111111111,
              "#46039f"
             ],
             [
              0.2222222222222222,
              "#7201a8"
             ],
             [
              0.3333333333333333,
              "#9c179e"
             ],
             [
              0.4444444444444444,
              "#bd3786"
             ],
             [
              0.5555555555555556,
              "#d8576b"
             ],
             [
              0.6666666666666666,
              "#ed7953"
             ],
             [
              0.7777777777777778,
              "#fb9f3a"
             ],
             [
              0.8888888888888888,
              "#fdca26"
             ],
             [
              1,
              "#f0f921"
             ]
            ],
            "type": "heatmap"
           }
          ],
          "heatmapgl": [
           {
            "colorbar": {
             "outlinewidth": 0,
             "ticks": ""
            },
            "colorscale": [
             [
              0,
              "#0d0887"
             ],
             [
              0.1111111111111111,
              "#46039f"
             ],
             [
              0.2222222222222222,
              "#7201a8"
             ],
             [
              0.3333333333333333,
              "#9c179e"
             ],
             [
              0.4444444444444444,
              "#bd3786"
             ],
             [
              0.5555555555555556,
              "#d8576b"
             ],
             [
              0.6666666666666666,
              "#ed7953"
             ],
             [
              0.7777777777777778,
              "#fb9f3a"
             ],
             [
              0.8888888888888888,
              "#fdca26"
             ],
             [
              1,
              "#f0f921"
             ]
            ],
            "type": "heatmapgl"
           }
          ],
          "histogram": [
           {
            "marker": {
             "colorbar": {
              "outlinewidth": 0,
              "ticks": ""
             }
            },
            "type": "histogram"
           }
          ],
          "histogram2d": [
           {
            "colorbar": {
             "outlinewidth": 0,
             "ticks": ""
            },
            "colorscale": [
             [
              0,
              "#0d0887"
             ],
             [
              0.1111111111111111,
              "#46039f"
             ],
             [
              0.2222222222222222,
              "#7201a8"
             ],
             [
              0.3333333333333333,
              "#9c179e"
             ],
             [
              0.4444444444444444,
              "#bd3786"
             ],
             [
              0.5555555555555556,
              "#d8576b"
             ],
             [
              0.6666666666666666,
              "#ed7953"
             ],
             [
              0.7777777777777778,
              "#fb9f3a"
             ],
             [
              0.8888888888888888,
              "#fdca26"
             ],
             [
              1,
              "#f0f921"
             ]
            ],
            "type": "histogram2d"
           }
          ],
          "histogram2dcontour": [
           {
            "colorbar": {
             "outlinewidth": 0,
             "ticks": ""
            },
            "colorscale": [
             [
              0,
              "#0d0887"
             ],
             [
              0.1111111111111111,
              "#46039f"
             ],
             [
              0.2222222222222222,
              "#7201a8"
             ],
             [
              0.3333333333333333,
              "#9c179e"
             ],
             [
              0.4444444444444444,
              "#bd3786"
             ],
             [
              0.5555555555555556,
              "#d8576b"
             ],
             [
              0.6666666666666666,
              "#ed7953"
             ],
             [
              0.7777777777777778,
              "#fb9f3a"
             ],
             [
              0.8888888888888888,
              "#fdca26"
             ],
             [
              1,
              "#f0f921"
             ]
            ],
            "type": "histogram2dcontour"
           }
          ],
          "mesh3d": [
           {
            "colorbar": {
             "outlinewidth": 0,
             "ticks": ""
            },
            "type": "mesh3d"
           }
          ],
          "parcoords": [
           {
            "line": {
             "colorbar": {
              "outlinewidth": 0,
              "ticks": ""
             }
            },
            "type": "parcoords"
           }
          ],
          "pie": [
           {
            "automargin": true,
            "type": "pie"
           }
          ],
          "scatter": [
           {
            "marker": {
             "colorbar": {
              "outlinewidth": 0,
              "ticks": ""
             }
            },
            "type": "scatter"
           }
          ],
          "scatter3d": [
           {
            "line": {
             "colorbar": {
              "outlinewidth": 0,
              "ticks": ""
             }
            },
            "marker": {
             "colorbar": {
              "outlinewidth": 0,
              "ticks": ""
             }
            },
            "type": "scatter3d"
           }
          ],
          "scattercarpet": [
           {
            "marker": {
             "colorbar": {
              "outlinewidth": 0,
              "ticks": ""
             }
            },
            "type": "scattercarpet"
           }
          ],
          "scattergeo": [
           {
            "marker": {
             "colorbar": {
              "outlinewidth": 0,
              "ticks": ""
             }
            },
            "type": "scattergeo"
           }
          ],
          "scattergl": [
           {
            "marker": {
             "colorbar": {
              "outlinewidth": 0,
              "ticks": ""
             }
            },
            "type": "scattergl"
           }
          ],
          "scattermapbox": [
           {
            "marker": {
             "colorbar": {
              "outlinewidth": 0,
              "ticks": ""
             }
            },
            "type": "scattermapbox"
           }
          ],
          "scatterpolar": [
           {
            "marker": {
             "colorbar": {
              "outlinewidth": 0,
              "ticks": ""
             }
            },
            "type": "scatterpolar"
           }
          ],
          "scatterpolargl": [
           {
            "marker": {
             "colorbar": {
              "outlinewidth": 0,
              "ticks": ""
             }
            },
            "type": "scatterpolargl"
           }
          ],
          "scatterternary": [
           {
            "marker": {
             "colorbar": {
              "outlinewidth": 0,
              "ticks": ""
             }
            },
            "type": "scatterternary"
           }
          ],
          "surface": [
           {
            "colorbar": {
             "outlinewidth": 0,
             "ticks": ""
            },
            "colorscale": [
             [
              0,
              "#0d0887"
             ],
             [
              0.1111111111111111,
              "#46039f"
             ],
             [
              0.2222222222222222,
              "#7201a8"
             ],
             [
              0.3333333333333333,
              "#9c179e"
             ],
             [
              0.4444444444444444,
              "#bd3786"
             ],
             [
              0.5555555555555556,
              "#d8576b"
             ],
             [
              0.6666666666666666,
              "#ed7953"
             ],
             [
              0.7777777777777778,
              "#fb9f3a"
             ],
             [
              0.8888888888888888,
              "#fdca26"
             ],
             [
              1,
              "#f0f921"
             ]
            ],
            "type": "surface"
           }
          ],
          "table": [
           {
            "cells": {
             "fill": {
              "color": "#EBF0F8"
             },
             "line": {
              "color": "white"
             }
            },
            "header": {
             "fill": {
              "color": "#C8D4E3"
             },
             "line": {
              "color": "white"
             }
            },
            "type": "table"
           }
          ]
         },
         "layout": {
          "annotationdefaults": {
           "arrowcolor": "#2a3f5f",
           "arrowhead": 0,
           "arrowwidth": 1
          },
          "coloraxis": {
           "colorbar": {
            "outlinewidth": 0,
            "ticks": ""
           }
          },
          "colorscale": {
           "diverging": [
            [
             0,
             "#8e0152"
            ],
            [
             0.1,
             "#c51b7d"
            ],
            [
             0.2,
             "#de77ae"
            ],
            [
             0.3,
             "#f1b6da"
            ],
            [
             0.4,
             "#fde0ef"
            ],
            [
             0.5,
             "#f7f7f7"
            ],
            [
             0.6,
             "#e6f5d0"
            ],
            [
             0.7,
             "#b8e186"
            ],
            [
             0.8,
             "#7fbc41"
            ],
            [
             0.9,
             "#4d9221"
            ],
            [
             1,
             "#276419"
            ]
           ],
           "sequential": [
            [
             0,
             "#0d0887"
            ],
            [
             0.1111111111111111,
             "#46039f"
            ],
            [
             0.2222222222222222,
             "#7201a8"
            ],
            [
             0.3333333333333333,
             "#9c179e"
            ],
            [
             0.4444444444444444,
             "#bd3786"
            ],
            [
             0.5555555555555556,
             "#d8576b"
            ],
            [
             0.6666666666666666,
             "#ed7953"
            ],
            [
             0.7777777777777778,
             "#fb9f3a"
            ],
            [
             0.8888888888888888,
             "#fdca26"
            ],
            [
             1,
             "#f0f921"
            ]
           ],
           "sequentialminus": [
            [
             0,
             "#0d0887"
            ],
            [
             0.1111111111111111,
             "#46039f"
            ],
            [
             0.2222222222222222,
             "#7201a8"
            ],
            [
             0.3333333333333333,
             "#9c179e"
            ],
            [
             0.4444444444444444,
             "#bd3786"
            ],
            [
             0.5555555555555556,
             "#d8576b"
            ],
            [
             0.6666666666666666,
             "#ed7953"
            ],
            [
             0.7777777777777778,
             "#fb9f3a"
            ],
            [
             0.8888888888888888,
             "#fdca26"
            ],
            [
             1,
             "#f0f921"
            ]
           ]
          },
          "colorway": [
           "#636efa",
           "#EF553B",
           "#00cc96",
           "#ab63fa",
           "#FFA15A",
           "#19d3f3",
           "#FF6692",
           "#B6E880",
           "#FF97FF",
           "#FECB52"
          ],
          "font": {
           "color": "#2a3f5f"
          },
          "geo": {
           "bgcolor": "white",
           "lakecolor": "white",
           "landcolor": "#E5ECF6",
           "showlakes": true,
           "showland": true,
           "subunitcolor": "white"
          },
          "hoverlabel": {
           "align": "left"
          },
          "hovermode": "closest",
          "mapbox": {
           "style": "light"
          },
          "paper_bgcolor": "white",
          "plot_bgcolor": "#E5ECF6",
          "polar": {
           "angularaxis": {
            "gridcolor": "white",
            "linecolor": "white",
            "ticks": ""
           },
           "bgcolor": "#E5ECF6",
           "radialaxis": {
            "gridcolor": "white",
            "linecolor": "white",
            "ticks": ""
           }
          },
          "scene": {
           "xaxis": {
            "backgroundcolor": "#E5ECF6",
            "gridcolor": "white",
            "gridwidth": 2,
            "linecolor": "white",
            "showbackground": true,
            "ticks": "",
            "zerolinecolor": "white"
           },
           "yaxis": {
            "backgroundcolor": "#E5ECF6",
            "gridcolor": "white",
            "gridwidth": 2,
            "linecolor": "white",
            "showbackground": true,
            "ticks": "",
            "zerolinecolor": "white"
           },
           "zaxis": {
            "backgroundcolor": "#E5ECF6",
            "gridcolor": "white",
            "gridwidth": 2,
            "linecolor": "white",
            "showbackground": true,
            "ticks": "",
            "zerolinecolor": "white"
           }
          },
          "shapedefaults": {
           "line": {
            "color": "#2a3f5f"
           }
          },
          "ternary": {
           "aaxis": {
            "gridcolor": "white",
            "linecolor": "white",
            "ticks": ""
           },
           "baxis": {
            "gridcolor": "white",
            "linecolor": "white",
            "ticks": ""
           },
           "bgcolor": "#E5ECF6",
           "caxis": {
            "gridcolor": "white",
            "linecolor": "white",
            "ticks": ""
           }
          },
          "title": {
           "x": 0.05
          },
          "xaxis": {
           "automargin": true,
           "gridcolor": "white",
           "linecolor": "white",
           "ticks": "",
           "title": {
            "standoff": 15
           },
           "zerolinecolor": "white",
           "zerolinewidth": 2
          },
          "yaxis": {
           "automargin": true,
           "gridcolor": "white",
           "linecolor": "white",
           "ticks": "",
           "title": {
            "standoff": 15
           },
           "zerolinecolor": "white",
           "zerolinewidth": 2
          }
         }
        },
        "title": {
         "text": "State of the Cluster"
        },
        "width": 800,
        "xaxis": {
         "anchor": "y",
         "domain": [
          0,
          1
         ],
         "matches": "x5",
         "showticklabels": false,
         "title": {
          "text": "time in s"
         }
        },
        "xaxis2": {
         "anchor": "y2",
         "domain": [
          0,
          1
         ],
         "matches": "x5",
         "showticklabels": false,
         "title": {
          "text": "time in s"
         }
        },
        "xaxis3": {
         "anchor": "y3",
         "domain": [
          0,
          1
         ],
         "matches": "x5",
         "showticklabels": false,
         "title": {
          "text": "time in s"
         }
        },
        "xaxis4": {
         "anchor": "y4",
         "domain": [
          0,
          1
         ],
         "matches": "x5",
         "showticklabels": false,
         "title": {
          "text": "time in s"
         }
        },
        "xaxis5": {
         "anchor": "y5",
         "domain": [
          0,
          1
         ],
         "title": {
          "text": "time in s"
         }
        },
        "yaxis": {
         "anchor": "x",
         "domain": [
          0.88,
          1
         ],
         "title": {
          "text": "dataflow in MB/s"
         }
        },
        "yaxis2": {
         "anchor": "x2",
         "domain": [
          0.66,
          0.78
         ],
         "title": {
          "text": "BB usage in Bytes"
         }
        },
        "yaxis3": {
         "anchor": "x3",
         "domain": [
          0.44,
          0.56
         ],
         "title": {
          "text": "HDD usage in Bytes"
         }
        },
        "yaxis4": {
         "anchor": "x4",
         "domain": [
          0.22,
          0.33999999999999997
         ],
         "title": {
          "text": "SSD usage in Bytes"
         }
        },
        "yaxis5": {
         "anchor": "x5",
         "domain": [
          0,
          0.12
         ],
         "title": {
          "text": "CPU usage"
         }
        }
       }
      }
     },
     "metadata": {},
     "output_type": "display_data"
    }
   ],
   "source": [
    "# logger\n",
    "# sim env an data\n",
    "data = simpy.Store(env)\n",
    "logger.remove()\n",
    "# Simple app: read 1GB -> compute 10s -> write 5GB\n",
    "compute = [5790,  5960]\n",
    "read = [0, 0]\n",
    "write = [1.5e9, 5e9]\n",
    "placement = [0, 1]\n",
    "use_bb = [False, False]\n",
    "app = Application(env, compute=compute, read=read, write=write, data=data)\n",
    "env.process(app.run(cluster, placement=placement, use_bb=use_bb))\n",
    "env.run()\n",
    "print(f\"application duration = {app.get_fitness()}\")\n",
    "fig = display_run(data, cluster, width=800, height=900)\n",
    "fig.show()"
   ]
  },
  {
   "cell_type": "markdown",
   "metadata": {},
   "source": [
    "Behavior for no SBB app"
   ]
  },
  {
   "cell_type": "code",
   "execution_count": null,
   "metadata": {},
   "outputs": [],
   "source": [
    "p1 = PlacementOptimizer(env, data, cluster, [app1])\n",
    "fig = p1.display_placement(placement + [0, 0])\n",
    "fig.show()"
   ]
  },
  {
   "cell_type": "markdown",
   "metadata": {},
   "source": [
    "Selective SBB per dataset"
   ]
  },
  {
   "cell_type": "code",
   "execution_count": null,
   "metadata": {},
   "outputs": [],
   "source": [
    "p1 = PlacementOptimizer(env, data, cluster, [app1])\n",
    "fig = p1.display_placement(placement + [0, 1])\n",
    "fig.show()"
   ]
  },
  {
   "cell_type": "markdown",
   "metadata": {},
   "source": [
    "What about prefetch ? (buffering read datasets)"
   ]
  },
  {
   "cell_type": "code",
   "execution_count": null,
   "metadata": {},
   "outputs": [],
   "source": [
    "# logger\n",
    "# sim env an data\n",
    "data = simpy.Store(env)\n",
    "logger.remove()\n",
    "# Simple app: read 1GB -> compute 10s -> write 5GB\n",
    "compute = [0,  10]\n",
    "read = [1e9, 0]\n",
    "write = [0, 5e9]\n",
    "placement = [0, 0]\n",
    "use_bb = [True, False]\n",
    "app = Application(env, compute=compute, read=read, write=write, data=data)\n",
    "env.process(app.run(cluster, placement=placement, use_bb=use_bb))\n",
    "env.run()\n",
    "print(f\"application duration = {app.get_fitness()}\")\n",
    "fig = display_run(data, cluster, width=800, height=900)\n",
    "fig.show()"
   ]
  },
  {
   "cell_type": "markdown",
   "metadata": {},
   "source": [
    "Burst Buffer Saturation\n",
    " - will choose bb_size < 5GB (max used size)\n",
    " "
   ]
  },
  {
   "cell_type": "code",
   "execution_count": null,
   "metadata": {},
   "outputs": [],
   "source": [
    "# registering Ephemeral Tier\n",
    "bb = EphemeralTier(env, name=\"BB\", persistent_tier=hdd_tier,\n",
    "                        bandwidth=nvram_bandwidth, capacity=4.5e9)\n",
    "\n",
    "# Define the cluster with 1 persistent and 1 ephemeral\n",
    "cluster = Cluster(env, tiers=[hdd_tier], ephemeral_tier=bb)\n",
    "# logger\n",
    "# sim env an data\n",
    "data = simpy.Store(env)\n",
    "logger.remove()\n",
    "# Simple app: read 1GB -> compute 10s -> write 5GB\n",
    "compute = [0,  10]\n",
    "read = [1e9, 0]\n",
    "write = [0, 5e9]\n",
    "placement = [0, 0]\n",
    "use_bb = [False, True] # enabling ephemeral tier for second dataset\n",
    "app = Application(env, compute=compute, read=read, write=write, data=data)\n",
    "env.process(app.run(cluster, placement=placement, use_bb=use_bb))\n",
    "env.run()\n",
    "print(f\"application duration = {app.get_fitness()}\")\n",
    "fig = display_run(data, cluster, width=800, height=900)\n",
    "fig.show()"
   ]
  },
  {
   "cell_type": "markdown",
   "metadata": {},
   "source": [
    "- eviction occurs\n",
    "- buffer saturation should be avoided:\n",
    "  - only newly copied data to lower tier diminishes the amount of dirty data\n",
    "  - we can only evict clean data\n",
    "  - in terms of simulations, it shorten the time interval and the loop become extremly slow (~inf)\n",
    "- the focus is not on studying what happens in saturation mode, but to size relevantly the BB"
   ]
  },
  {
   "cell_type": "markdown",
   "metadata": {},
   "source": [
    "Optimizing BB Size (flavor)"
   ]
  },
  {
   "cell_type": "code",
   "execution_count": null,
   "metadata": {},
   "outputs": [],
   "source": [
    "import simpy\n",
    "from loguru import logger\n",
    "import time\n",
    "import numpy as np\n",
    "import pandas as pd\n",
    "import time, os\n",
    "from itertools import chain\n",
    "from cluster_simulator.cluster import Cluster, Tier, EphemeralTier, bandwidth_share_model, compute_share_model, get_tier, convert_size\n",
    "from cluster_simulator.phase import DelayPhase, ComputePhase, IOPhase\n",
    "from cluster_simulator.application import Application\n",
    "from cluster_simulator.analytics import display_run\n",
    "# imports for surrogate models\n",
    "from sklearn.gaussian_process import GaussianProcessRegressor\n",
    "from bbo.optimizer import BBOptimizer\n",
    "# from bbo.optimizer import timeit\n",
    "from bbo.heuristics.surrogate_models.next_parameter_strategies import expected_improvement\n",
    "\n",
    "# imports for genetic algorithms\n",
    "from bbo.heuristics.genetic_algorithm.selections import tournament_pick\n",
    "from bbo.heuristics.genetic_algorithm.crossover import double_point_crossover\n",
    "from bbo.heuristics.genetic_algorithm.mutations import mutate_chromosome_to_neighbor\n",
    "from loguru import logger\n",
    "from cluster_simulator.ephemeral_placement import ClusterBlackBox\n",
    "logger.remove()\n",
    "cbb = ClusterBlackBox()\n",
    "PARAMETER_SPACE = cbb.parameter_space\n",
    "# combinations are self.n_tiers ** sum(self.ios) + 2**sum(self.ios)\n",
    "NBR_ITERATION = 1  # cbb.n_tiers ** sum(cbb.ios)\n",
    "\n",
    "np.random.seed(5)\n",
    "bbopt = BBOptimizer(black_box=cbb,\n",
    "                    heuristic=\"surrogate_model\",\n",
    "                    max_iteration=NBR_ITERATION,\n",
    "                    initial_sample_size=2,\n",
    "                    parameter_space=PARAMETER_SPACE,\n",
    "                    next_parameter_strategy=expected_improvement,\n",
    "                    regression_model=GaussianProcessRegressor)\n",
    "start_time = time.time()\n",
    "bbopt.optimize()\n",
    "print(\"-----------------\")\n",
    "print(f\"Total number of iterations : {NBR_ITERATION}\")\n",
    "print(f\"{(time.time() - start_time)} seconds spent for finding solution\")\n",
    "print(\"-----------------\")\n",
    "bbopt.summarize()\n",
    "print(f\"Fitness history : {bbopt.history['fitness']}\")\n",
    "#cbb.save_experiment(filename = \"flavor_optim\", save=True)"
   ]
  },
  {
   "cell_type": "code",
   "execution_count": null,
   "metadata": {},
   "outputs": [],
   "source": [
    "import numpy as np\n",
    "import pandas as pd\n",
    "import os\n",
    "!pip3 install pickle5\n",
    "import pickle5 as pickle5\n",
    "\n",
    "pathfile = os.path.join(os.getcwd(), \"flavor_optim\")\n",
    "df = pd.read_pickle(pathfile)\n",
    "df.head(2)\n",
    "#list(df.columns)"
   ]
  },
  {
   "cell_type": "markdown",
   "metadata": {},
   "source": [
    "Plotting Workflow duration Vs BB Size : efficient frontier\n"
   ]
  },
  {
   "cell_type": "code",
   "execution_count": null,
   "metadata": {},
   "outputs": [],
   "source": [
    "import plotly.express as px\n",
    "import plotly.graph_objects as go\n",
    "colors = px.colors.qualitative.Plotly\n",
    "fig = go.Figure()\n",
    "fig.add_traces(go.Scatter(x=df['BB_size'], y = df['Fitness'], \n",
    "                          text = [\"trial_index=\" + str(i) for i in list(df.index)],\n",
    "                          mode = 'markers', line=dict(color=colors[0])))\n",
    "fig.update_xaxes(title_text='Size of BB in bytes (B = 1e9 = GB)')\n",
    "fig.update_yaxes(title_text='Workflow duration in seconds')\n",
    "fig.show()"
   ]
  },
  {
   "cell_type": "markdown",
   "metadata": {},
   "source": [
    "- each point is a placement configuration:\n",
    "  - for each dataset:\n",
    "    - the tier where it should be placed\n",
    "    - the use or not of the BB to prefetch/buffer "
   ]
  },
  {
   "cell_type": "markdown",
   "metadata": {},
   "source": [
    "Show some samples"
   ]
  },
  {
   "cell_type": "code",
   "execution_count": null,
   "metadata": {},
   "outputs": [],
   "source": [
    "# indicate the number of trial\n",
    "cbb.display_placement(df.loc[29][\"Param\"])"
   ]
  },
  {
   "cell_type": "markdown",
   "metadata": {},
   "source": [
    "Efficient frontier / Pareto frontier"
   ]
  },
  {
   "cell_type": "code",
   "execution_count": null,
   "metadata": {},
   "outputs": [],
   "source": [
    "from cluster_simulator.utils import convex_hull\n",
    "points = []\n",
    "for (xi, yi) in zip(df['BB_size'].tolist(), (df['Fitness']).tolist()):\n",
    "    points.append((xi,yi))\n",
    "lower = convex_hull(points)\n",
    "fig.add_traces(go.Scatter(x=np.array([low[0] for low in lower]),\n",
    "                            y=np.array([low[1] for low in lower])))\n",
    "fig.show()"
   ]
  },
  {
   "cell_type": "markdown",
   "metadata": {},
   "source": [
    "Recommandation are elements from efficient/pareto frontier"
   ]
  },
  {
   "cell_type": "code",
   "execution_count": null,
   "metadata": {},
   "outputs": [],
   "source": [
    "rec_trials = [29, 31, 4, 6, 129]\n",
    "df.loc[rec_trials][df.columns[1:]]"
   ]
  },
  {
   "cell_type": "markdown",
   "metadata": {},
   "source": [
    "Display individual points (placement recommandation)"
   ]
  },
  {
   "cell_type": "code",
   "execution_count": null,
   "metadata": {},
   "outputs": [],
   "source": [
    "fig1 = cbb.display_placement(placement=bbopt.best_parameters_in_grid)\n",
    "fig1.show()"
   ]
  }
 ],
 "metadata": {
  "kernelspec": {
   "display_name": "Python 3",
   "language": "python",
   "name": "python3"
  },
  "language_info": {
   "codemirror_mode": {
    "name": "ipython",
    "version": 3
   },
   "file_extension": ".py",
   "mimetype": "text/x-python",
   "name": "python",
   "nbconvert_exporter": "python",
   "pygments_lexer": "ipython3",
   "version": "3.8.13"
  },
  "varInspector": {
   "cols": {
    "lenName": 16,
    "lenType": 16,
    "lenVar": 40
   },
   "kernels_config": {
    "python": {
     "delete_cmd_postfix": "",
     "delete_cmd_prefix": "del ",
     "library": "var_list.py",
     "varRefreshCmd": "print(var_dic_list())"
    },
    "r": {
     "delete_cmd_postfix": ") ",
     "delete_cmd_prefix": "rm(",
     "library": "var_list.r",
     "varRefreshCmd": "cat(var_dic_list()) "
    }
   },
   "types_to_exclude": [
    "module",
    "function",
    "builtin_function_or_method",
    "instance",
    "_Feature"
   ],
   "window_display": false
  },
  "vscode": {
   "interpreter": {
    "hash": "c87beb4c7de1fcbf6155f8da331fc04a584374d4c389d75c2ece6a4f03553c96"
   }
  }
 },
 "nbformat": 4,
 "nbformat_minor": 4
}
