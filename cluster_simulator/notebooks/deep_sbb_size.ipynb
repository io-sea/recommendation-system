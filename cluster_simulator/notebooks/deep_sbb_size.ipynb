{
 "cells": [
  {
   "cell_type": "code",
   "execution_count": 3,
   "metadata": {},
   "outputs": [
    {
     "data": {
      "text/plain": [
       "2"
      ]
     },
     "execution_count": 3,
     "metadata": {},
     "output_type": "execute_result"
    }
   ],
   "source": [
    "# imports\n",
    "import simpy\n",
    "from loguru import logger\n",
    "import time\n",
    "import numpy as np\n",
    "import pandas as pd\n",
    "import time, os\n",
    "from itertools import chain\n",
    "from cluster_simulator.cluster import Cluster, Tier, EphemeralTier, bandwidth_share_model, compute_share_model, get_tier, convert_size\n",
    "from cluster_simulator.phase import DelayPhase, ComputePhase, IOPhase\n",
    "from cluster_simulator.application import Application\n",
    "from cluster_simulator.workflow import Workflow\n",
    "from cluster_simulator.analytics import display_run\n",
    "\n",
    "# imports for surrogate models\n",
    "from sklearn.gaussian_process import GaussianProcessRegressor\n",
    "import optuna\n",
    "\n",
    "from workflow_optimizer.workflow_decomposer import WorkflowDecomposer\n",
    "from workflow_optimizer.job_dependency_analyzer_nx import JobDependencyAnalyzerNX as JobDependencyAnalyzer\n",
    "\n",
    "from loguru import logger\n",
    "import json, sqlite3\n",
    "\n",
    "# Remove default handlers\n",
    "logger.remove()\n",
    "\n",
    "# Add handler for level INFO and above\n",
    "logger.add(lambda msg: print(msg, end=''), level=\"WARNING\")"
   ]
  },
  {
   "cell_type": "code",
   "execution_count": 3,
   "metadata": {},
   "outputs": [
    {
     "ename": "AttributeError",
     "evalue": "'list' object has no attribute 'keys'",
     "output_type": "error",
     "traceback": [
      "\u001b[0;31m---------------------------------------------------------------------------\u001b[0m",
      "\u001b[0;31mAttributeError\u001b[0m                            Traceback (most recent call last)",
      "Input \u001b[0;32mIn [3]\u001b[0m, in \u001b[0;36m<cell line: 25>\u001b[0;34m()\u001b[0m\n\u001b[1;32m     20\u001b[0m         \u001b[38;5;28;01mwith\u001b[39;00m \u001b[38;5;28mopen\u001b[39m(output_path, \u001b[38;5;124m'\u001b[39m\u001b[38;5;124mw\u001b[39m\u001b[38;5;124m'\u001b[39m) \u001b[38;5;28;01mas\u001b[39;00m file:\n\u001b[1;32m     21\u001b[0m             json\u001b[38;5;241m.\u001b[39mdump(transformed_data, file, indent\u001b[38;5;241m=\u001b[39m\u001b[38;5;241m2\u001b[39m)\n\u001b[0;32m---> 25\u001b[0m \u001b[43mtransform_json_file_to_array_dynamically\u001b[49m\u001b[43m(\u001b[49m\u001b[43minput_path\u001b[49m\u001b[43m,\u001b[49m\u001b[43m \u001b[49m\u001b[43moutput_path\u001b[49m\u001b[43m)\u001b[49m\n",
      "Input \u001b[0;32mIn [3]\u001b[0m, in \u001b[0;36mtransform_json_file_to_array_dynamically\u001b[0;34m(input_path, output_path)\u001b[0m\n\u001b[1;32m     13\u001b[0m \u001b[38;5;66;03m# Dynamically transform each JSON object into an array\u001b[39;00m\n\u001b[1;32m     14\u001b[0m \u001b[38;5;66;03m# Assumes all objects have the same structure\u001b[39;00m\n\u001b[1;32m     15\u001b[0m \u001b[38;5;28;01mif\u001b[39;00m original_data:\n\u001b[0;32m---> 16\u001b[0m     keys \u001b[38;5;241m=\u001b[39m \u001b[38;5;28mlist\u001b[39m(\u001b[43moriginal_data\u001b[49m\u001b[43m[\u001b[49m\u001b[38;5;241;43m0\u001b[39;49m\u001b[43m]\u001b[49m\u001b[38;5;241;43m.\u001b[39;49m\u001b[43mkeys\u001b[49m())  \u001b[38;5;66;03m# Extract keys from the first object\u001b[39;00m\n\u001b[1;32m     17\u001b[0m     transformed_data \u001b[38;5;241m=\u001b[39m [[entry[key] \u001b[38;5;28;01mfor\u001b[39;00m key \u001b[38;5;129;01min\u001b[39;00m keys] \u001b[38;5;28;01mfor\u001b[39;00m entry \u001b[38;5;129;01min\u001b[39;00m original_data]\n\u001b[1;32m     19\u001b[0m     \u001b[38;5;66;03m# Save the transformed data to a new file\u001b[39;00m\n",
      "\u001b[0;31mAttributeError\u001b[0m: 'list' object has no attribute 'keys'"
     ]
    }
   ],
   "source": [
    "# Preparing json files for old format\n",
    "import json\n",
    "\n",
    "input_path = \"/home_nfs/mimounis/iosea-wp3-recommandation-system/dataset_generation/dataset_deep/LQCD-BC/480592/volume.json\"\n",
    "\n",
    "output_path = \"/home_nfs/mimounis/iosea-wp3-recommandation-system/dataset_generation/dataset_deep/LQCD-BC/480592/volume.json\"\n",
    "\n",
    "def transform_json_file_to_array_dynamically(input_path, output_path):\n",
    "    # Load the original JSON data\n",
    "    with open(input_path, 'r') as file:\n",
    "        original_data = json.load(file)\n",
    "    \n",
    "    # Dynamically transform each JSON object into an array\n",
    "    # Assumes all objects have the same structure\n",
    "    if original_data:\n",
    "        keys = list(original_data[0].keys())  # Extract keys from the first object\n",
    "        transformed_data = [[entry[key] for key in keys] for entry in original_data]\n",
    "\n",
    "        # Save the transformed data to a new file\n",
    "        with open(output_path, 'w') as file:\n",
    "            json.dump(transformed_data, file, indent=2)\n",
    "\n",
    "\n",
    "\n",
    "transform_json_file_to_array_dynamically(input_path, output_path)\n"
   ]
  },
  {
   "cell_type": "code",
   "execution_count": null,
   "metadata": {},
   "outputs": [],
   "source": [
    "OUTPUT_FOLDER=\"/home_nfs/mimounis/iosea-wp3-recommandation-system/workflow_optimizer/tests/data/decomposed_data\"\n",
    "WORKFLOW_FOLDER = \"/home_nfs/mimounis/iosea-wp3-recommandation-system/dataset_generation/dataset_deep/LQCD-BC\"\n",
    "CLUSTER_CONFIG = \"/home_nfs/mimounis/iosea-wp3-recommandation-system/workflow_optimizer/tests/data/cluster/config.yaml\"\n",
    "\n",
    "class WorkflowClusterOpt:\n",
    "    experiment_data = []\n",
    "    def __init__(self, \n",
    "                 workflow_folder=WORKFLOW_FOLDER, \n",
    "                 cluster_config=CLUSTER_CONFIG,\n",
    "                 output_folder=OUTPUT_FOLDER):\n",
    "        self.env = simpy.Environment()\n",
    "        self.data = simpy.Store(self.env)\n",
    "        \n",
    "        wf_decomposer = WorkflowDecomposer(\n",
    "            v0_threshold=0.01,\n",
    "            workflow_name='ECMWF-649c3c40cc9340246f87cb58')\n",
    "        decomposition_output = output_folder + wf_decomposer.workflow_name\n",
    "        decomposed_data = wf_decomposer.decompose_workflow(\n",
    "            output=decomposition_output)\n",
    "        analyzer = JobDependencyAnalyzer(workflow_folder=WORKFLOW_FOLDER)\n",
    "        analyzer.analyze_dependencies()\n",
    "        dependencies_file = \"/home_nfs/mimounis/iosea-wp3-recommandation-system/workflow_optimizer/tests/data/decomposed_data/ECMWF-649c3c40cc9340246f87cb58/dependencies.json\"\n",
    "        \n",
    "        analyzer.dump_edges_to_json(file_path=dependencies_file)        \n",
    "\n",
    "\n",
    "        # Function to parse JSON file\n",
    "        def parse_json(file_path):\n",
    "            with open(file_path, 'r') as file:\n",
    "                return json.load(file)\n",
    "\n",
    "        # feed jobs representations into Application instances\n",
    "        self.jobs = {}\n",
    "        for filename in os.listdir(decomposition_output):\n",
    "            if 'representation' in filename:\n",
    "                job_id = filename.split('_')[0]\n",
    "                representation_data = parse_json(\n",
    "                    os.path.join(decomposition_output, filename))\n",
    "\n",
    "                # Assuming that 'Application' class takes these parameters\n",
    "                self.jobs[job_id] = Application(\n",
    "                    self.env, name=job_id, \n",
    "                    compute=representation_data[\"events\"],\n",
    "                    read=representation_data[\"read_volumes\"],\n",
    "                    write=representation_data[\"write_volumes\"],\n",
    "                    data=self.data)\n",
    "                \n",
    "        # Manage singleton jobs (with 1 point in IOI)\n",
    "        self.dependencies = []\n",
    "        dependency_job_names = set()\n",
    "        for dep in parse_json(dependencies_file):\n",
    "            job_from = dep[0]\n",
    "            job_to = dep[1]\n",
    "            dependency_job_names.add(job_from)  # Add the first job name\n",
    "            dependency_job_names.add(job_to)  # Add the second job name\n",
    "            dependency_type = dep[2]\n",
    "            self.dependencies.append((job_from, job_to, dependency_type))\n",
    "\n",
    "        missing_jobs = dependency_job_names - set(self.jobs.keys())\n",
    "\n",
    "        # Fill missing jobs with a neutral/null Application instance\n",
    "        for job_name in missing_jobs:\n",
    "            self.jobs[job_name] = Application(self.env, name=job_name, \n",
    "                                        compute=[0], read=[0], write=[0],\n",
    "                                        data=self.data)\n",
    "            \n",
    "        # Define cluster object\n",
    "        self.cluster = Cluster(self.env, cluster_config)\n",
    "        \n",
    "        self.n_jobs = len(list(self.jobs.keys()))\n",
    "        self.n_tiers = len(self.cluster.tiers)\n",
    "        \n",
    "        self.workflow = Workflow(self.env, self.jobs, self.dependencies, \n",
    "                                 self.cluster)\n",
    "        \n",
    "    def get_wf(self):\n",
    "        return self.workflow\n",
    "        \n",
    "workflow = WorkflowClusterOpt().get_wf() "
   ]
  },
  {
   "cell_type": "code",
   "execution_count": 4,
   "metadata": {},
   "outputs": [],
   "source": [
    "OUTPUT_FOLDER=\"/home_nfs/mimounis/iosea-wp3-recommandation-system/workflow_optimizer/tests/data/decomposed_data\"\n",
    "\n",
    "wf_decomposer = WorkflowDecomposer(\n",
    "            v0_threshold=0.01,\n",
    "            workflow_name='LQCD-BC')\n",
    "decomposition_output = OUTPUT_FOLDER + wf_decomposer.workflow_name\n",
    "decomposed_data = wf_decomposer.decompose_workflow(\n",
    "            output=decomposition_output)"
   ]
  },
  {
   "cell_type": "code",
   "execution_count": 5,
   "metadata": {},
   "outputs": [],
   "source": [
    "job_representation = {\"node_count\": 1, \"events\": [0, 1, 28, 36, 62, 71, 78, 103, 129, 151, 155], \"read_volumes\": [0, 1208019997, 0, 0, 0, 0, 10856064778, 9485727084, 9664100288, 9664099190, 0], \"read_bw\": [0, 402673332.3333333, 0, 0, 0, 0, 1550866396.857143, 1897145416.8, 1610683381.3333333, 1932819838.0, 0], \"write_volumes\": [0, 0, 4831873362, 4831874585, 4525959168, 4831972604, 0, 0, 0, 0, 0], \"write_bw\": [0, 0, 483187336.2, 483187458.5, 502884352.0, 483197260.4, 0, 0, 0, 0, 0], \"read_pattern\": [\"Uncl\", \"Seq\", \"Uncl\", \"Uncl\", \"Uncl\", \"Uncl\", \"Seq\", \"Seq\", \"Seq\", \"Seq\", \"Uncl\"], \"write_pattern\": [\"Uncl\", \"Uncl\", \"Seq\", \"Seq\", \"Seq\", \"Seq\", \"Uncl\", \"Uncl\", \"Uncl\", \"Uncl\", \"Uncl\"], \"read_operations\": [0, 4619, 0, 0, 0, 0, 41718, 36479, 37166, 37166, 0], \"write_operations\": [0, 0, 18569, 18571, 17384, 18591, 0, 0, 0, 0, 0]}"
   ]
  },
  {
   "cell_type": "code",
   "execution_count": 6,
   "metadata": {},
   "outputs": [
    {
     "name": "stdout",
     "output_type": "stream",
     "text": [
      "Job size: 59.9 GB\n"
     ]
    }
   ],
   "source": [
    "import sys\n",
    "sys.path.append(\"../\") # go to parent dir\n",
    "# imports\n",
    "import simpy\n",
    "from loguru import logger\n",
    "import time\n",
    "import numpy as np\n",
    "import pandas as pd\n",
    "from cluster_simulator.utils import convex_hull\n",
    "from cluster_simulator.cluster import Cluster, Tier, EphemeralTier, bandwidth_share_model, compute_share_model, get_tier, convert_size\n",
    "from cluster_simulator.phase import DelayPhase, ComputePhase, IOPhase\n",
    "from cluster_simulator.application import Application\n",
    "from cluster_simulator.analytics import display_run\n",
    "#from cluster_simulator.ephemeral_placement import ClusterBlackBox\n",
    "from cluster_simulator.analytics import *\n",
    "import time\n",
    "\n",
    "job_size = sum(job_representation[\"read_volumes\"]) + sum(job_representation[\"write_volumes\"])\n",
    "print(f\"Job size: {convert_size(job_size)}\")"
   ]
  },
  {
   "cell_type": "markdown",
   "metadata": {},
   "source": [
    "With SBB target on /p/project\n",
    "\n",
    "WFID:\t\t\t\t\t\t\tBC slurm ID\t\tSBB flavor\tdatanodes\n",
    "sbb-bm-2024-03-06-084038-ID0-2024-03-06_08:40:43\t480592\t \t\thigh\t\t4\n",
    "sbb-bm-2024-03-06-093054-ID0-2024-03-06_09:31:00\t480614\t\t\thigh\t\t3\n",
    "sbb-bm-2024-03-06-095844-ID0-2024-03-06_09:58:49\t480625\t\t\thigh\t\t2\n",
    "sbb-bm-2024-03-06-110246-ID0-2024-03-06_11:02:52\t480651\t\t\thigh\t\t1\n",
    "\n",
    "sbb-bm-2024-03-06-113426-ID0-2024-03-06_11:34:35\t480670\t\t\tmedium\t\t4\n",
    "sbb-bm-2024-03-06-120544-ID0-2024-03-06_12:05:49\t480692\t\t\tmedium\t\t3\n",
    "sbb-bm-2024-03-06-132332-ID0-2024-03-06_13:23:36\t480699\t\t\tmedium\t\t2\n",
    "sbb-bm-2024-03-06-135038-ID0-2024-03-06_13:50:43\t480713\t\t\tmedium\t\t1\n",
    "\n",
    "sbb-bm-2024-03-06-141616-ID0-2024-03-06_14:16:20\t480727\t\t\tsmall\t\t4\n",
    "sbb-bm-2024-03-06-150010-ID0-2024-03-06_15:00:15\t480738\t\t\tsmall\t\t3\n",
    "sbb-bm-2024-03-06-153056-ID0-2024-03-06_15:31:01\t480748\t\t\tsmall\t\t2\n",
    "sbb-bm-2024-03-06-162148-ID0-2024-03-06_16:21:52\t480762\t\t\tsmall\t\t1\n",
    "\n",
    "\n",
    "With SBB target on /afsm\n",
    "sbb-bm-2024-03-04-150720-ID0-2024-03-04_15:07:24\t479908\t\t\thigh\t\t4\n",
    "sbb-bm-2024-03-04-153706-ID0-2024-03-04_15:37:12\t479915\t\t\thigh\t\t3\n",
    "sbb-bm-2024-03-04-171728-ID0-2024-03-04_17:17:34\t479960\t\t\thigh\t\t2\n",
    "sbb-bm-2024-03-04-180008-ID0-2024-03-04_18:00:13\t479979\t\t\thigh\t\t1\n",
    "\n",
    "sbb-bm-2024-03-04-222031-ID0-2024-03-04_22:20:37\t480070\t\t\tmedium\t\t4\n",
    "sbb-bm-2024-03-05-095201-ID0-2024-03-05_09:52:07\t480091\t\t\tmedium\t\t3\n",
    "sbb-bm-2024-03-05-130255-ID0-2024-03-05_13:03:01\t480202\t\t\tmedium\t\t2\n",
    "sbb-bm-2024-03-05-134236-ID0-2024-03-05_13:42:40\t480216\t\t\tmedium\t\t1\n",
    "\n",
    "sbb-bm-2024-03-05-142207-ID0-2024-03-05_14:22:14\t480269\t\t\tsmall\t\t4\n",
    "sbb-bm-2024-03-05-145536-ID0-2024-03-05_14:55:41\t480317\t\t\tsmall\t\t3\n",
    "sbb-bm-2024-03-05-153547-ID0-2024-03-05_15:35:51\t480350\t\t\tsmall\t\t2\n",
    "sbb-bm-2024-03-05-160519-ID0-2024-03-05_16:05:25\t480371\t\t\tsmall\t\t1\n"
   ]
  },
  {
   "cell_type": "code",
   "execution_count": 8,
   "metadata": {},
   "outputs": [
    {
     "name": "stdout",
     "output_type": "stream",
     "text": [
      "tier: p_project\n",
      "sbb_size: 5000000000.0\n",
      "use_sbb: [False, False, False, False, False, False, False, False, False, False, False]\n",
      "placement: [0, 0, 0, 0, 0, 0, 0, 0, 0, 0, 0]\n",
      "application duration = 1128.728842538\n",
      "sbb_size: 10000000000.0\n",
      "use_sbb: [True, False, False, False, False, False, False, False, False, False, False]\n",
      "placement: [1, 0, 0, 0, 0, 0, 0, 0, 0, 0, 0]\n",
      "application duration = 1126.9168125424999\n",
      "sbb_size: 20000000000.0\n",
      "use_sbb: [True, True, True, False, False, False, False, False, False, False, False]\n",
      "placement: [1, 1, 1, 0, 0, 0, 0, 0, 0, 0, 0]\n",
      "application duration = 1063.037800689449\n",
      "sbb_size: 30000000000.0\n",
      "use_sbb: [True, True, True, True, True, False, False, False, False, False, False]\n",
      "placement: [1, 1, 1, 1, 1, 0, 0, 0, 0, 0, 0]\n",
      "application duration = 1001.1802855863982\n",
      "sbb_size: 40000000000.0\n",
      "use_sbb: [True, True, True, True, True, True, False, False, False, False, False]\n",
      "placement: [1, 1, 1, 1, 1, 1, 0, 0, 0, 0, 0]\n",
      "application duration = 984.8961884193982\n",
      "sbb_size: 50000000000.0\n",
      "use_sbb: [True, True, True, True, True, True, True, False, False, False, False]\n",
      "placement: [1, 1, 1, 1, 1, 1, 1, 0, 0, 0, 0]\n",
      "application duration = 970.6675977933983\n",
      "sbb_size: 60000000000.0\n",
      "use_sbb: [True, True, True, True, True, True, True, True, False, False, False]\n",
      "placement: [1, 1, 1, 1, 1, 1, 1, 1, 0, 0, 0]\n",
      "application duration = 956.1714473613984\n",
      "sbb_size: 70000000000.0\n",
      "use_sbb: [True, True, True, True, True, True, True, True, True, True, True]\n",
      "placement: [1, 1, 1, 1, 1, 1, 1, 1, 1, 1, 1]\n",
      "application duration = 941.6752985763983\n"
     ]
    }
   ],
   "source": [
    "sbb_p_project_bw = {'read':  {'seq': 400, 'rand': 400},\n",
    "                        'write': {'seq': 295, 'rand': 295}}\n",
    "\n",
    "p_project_bw = {'read':  {'seq': 250, 'rand': 250},\n",
    "                    'write': {'seq': 100, 'rand': 100}}\n",
    "\n",
    "sbb_afsm_bw = {'read':  {'seq': 400, 'rand': 400},\n",
    "                        'write': {'seq': 96, 'rand': 96}}\n",
    "\n",
    "afsm_bw = {'read':  {'seq': 300, 'rand': 300},\n",
    "                        'write': {'seq': 95, 'rand': 95}}\n",
    "\n",
    "tiers = {\"afsm\": [afsm_bw, sbb_afsm_bw],\n",
    "         \"p_project\": [p_project_bw, sbb_p_project_bw]}\n",
    "\n",
    "repr_length = len(job_representation[\"events\"])\n",
    "\n",
    "tier = \"p_project\"\n",
    "\n",
    "print(f\"tier: {tier}\")\n",
    "for sbb_size in [5e9, 10e9, 20e9, 30e9, 40e9, 50e9, 60e9, 70e9]:\n",
    "#for sbb_size in [10e9, 100e9]:\n",
    "    print(f\"sbb_size: {sbb_size}\")\n",
    "    t_start = time.time()\n",
    "    # sim env an data\n",
    "    env = simpy.Environment()\n",
    "    data = simpy.Store(env)\n",
    "    \n",
    "\n",
    "    # registering Tiers\n",
    "    hdd_tier = Tier(env, tier + \"_tier\", max_bandwidth=tiers[tier][0], capacity=1e12)\n",
    "    hdd_tier_destage = Tier(env, tier + \"_tier\", max_bandwidth=tiers[tier][0], capacity=1e12)\n",
    "    sbb_tier = Tier(env, tier + \"_tier\", max_bandwidth=tiers[tier][1], capacity=1e12)\n",
    "    \n",
    "    bb = EphemeralTier(env, name='SBB_over_' + tier + \"_tier\", \n",
    "                       persistent_tier=hdd_tier_destage,\n",
    "                       max_bandwidth=tiers[tier][1], \n",
    "                       capacity=sbb_size)\n",
    "\n",
    "    # Define the cluster with 1 persistent and 1 ephemeral\n",
    "    # cluster = Cluster(env, compute_nodes=3, cores_per_node=2, tiers=[hdd_tier, ssd_tier], ephemeral_tier=bb)\n",
    "    cluster = Cluster(env, compute_nodes=2, cores_per_node=5,\n",
    "                      tiers=[hdd_tier, sbb_tier],\n",
    "                      ephemeral_tier=bb)\n",
    "\n",
    "    volumes = [job_representation[\"read_volumes\"][i] + \n",
    "            job_representation[\"write_volumes\"][i] for i in range(repr_length)]\n",
    "\n",
    "    use_sbb = [value <= sbb_size -10e9 for value in np.cumsum(volumes).tolist()]\n",
    "\n",
    "    print(f\"use_sbb: {use_sbb}\")\n",
    "\n",
    "    # Normalizing events to sampling period of 5s\n",
    "    __SAMPLING_PERIOD__ = 5\n",
    "    compute = [job_representation[\"events\"][i]*__SAMPLING_PERIOD__ for i in range(repr_length)]\n",
    "    #compute = [job_representation[\"events\"][i]*__SAMPLING_PERIOD__ - j for i, j in zip(range(repr_length), np.cumsum([int(value)*__SAMPLING_PERIOD__ for value in use_sbb]))]\n",
    "\n",
    "    app1 = Application(env, compute=compute,\n",
    "                            read=job_representation[\"read_volumes\"],\n",
    "                            write=job_representation[\"write_volumes\"],\n",
    "                            data=data)\n",
    "\n",
    "                            \n",
    "    repr_length = len(job_representation[\"events\"])\n",
    "    # logger\n",
    "    #env = simpy.Environment()\n",
    "    logger.remove()\n",
    "    t_start = time.time()\n",
    "    # simulate the app execution\n",
    "    t_start = time.time()\n",
    "    #app1 = Application(env, compute=[0,  10], read=[1e9, 0], write=[0, 5e9], data=data)\n",
    "    #app2 = Application(env, compute=[0, 5], read=[0, 2e9], write=[7e9, 0], data=data)\n",
    "    #env.process(app1.run(cluster, placement=[0]*repr_length, use_bb=use_sbb))\n",
    "    placement = [int(value) for value in use_sbb]\n",
    "    print(f\"placement: {placement}\")\n",
    "    env.process(app1.run(cluster, placement=[int(value) for value in use_sbb], use_bb=[0]*repr_length))\n",
    "    #env.process(app1.run(cluster, placement=[int(value) for value in use_sbb], use_bb=use_sbb))\n",
    "\n",
    "    env.run()\n",
    "\n",
    "    print(f\"application duration = {app1.get_fitness()}\")\n",
    "    # print(f\"total simulation duration is about {time.time()-t_start}\")\n",
    "    # fig = display_run(data, cluster, width=800, height=900)\n",
    "    # fig.show()"
   ]
  },
  {
   "cell_type": "code",
   "execution_count": 9,
   "metadata": {},
   "outputs": [
    {
     "name": "stdout",
     "output_type": "stream",
     "text": [
      "sbb_size: 20000000000.0\n"
     ]
    },
    {
     "ename": "NameError",
     "evalue": "name 'sbb_p_project' is not defined",
     "output_type": "error",
     "traceback": [
      "\u001b[0;31m---------------------------------------------------------------------------\u001b[0m",
      "\u001b[0;31mNameError\u001b[0m                                 Traceback (most recent call last)",
      "Input \u001b[0;32mIn [9]\u001b[0m, in \u001b[0;36m<cell line: 31>\u001b[0;34m()\u001b[0m\n\u001b[1;32m     28\u001b[0m sbb_size \u001b[38;5;241m=\u001b[39m \u001b[38;5;241m20e9\u001b[39m\n\u001b[1;32m     29\u001b[0m \u001b[38;5;28mprint\u001b[39m(\u001b[38;5;124mf\u001b[39m\u001b[38;5;124m\"\u001b[39m\u001b[38;5;124msbb_size: \u001b[39m\u001b[38;5;132;01m{\u001b[39;00msbb_size\u001b[38;5;132;01m}\u001b[39;00m\u001b[38;5;124m\"\u001b[39m)\n\u001b[1;32m     31\u001b[0m bb \u001b[38;5;241m=\u001b[39m EphemeralTier(env, name\u001b[38;5;241m=\u001b[39m\u001b[38;5;124m\"\u001b[39m\u001b[38;5;124mBB\u001b[39m\u001b[38;5;124m\"\u001b[39m, persistent_tier\u001b[38;5;241m=\u001b[39mhdd_tier,\n\u001b[0;32m---> 32\u001b[0m                    max_bandwidth\u001b[38;5;241m=\u001b[39m\u001b[43msbb_p_project\u001b[49m, \n\u001b[1;32m     33\u001b[0m                    capacity\u001b[38;5;241m=\u001b[39msbb_size)\n\u001b[1;32m     35\u001b[0m \u001b[38;5;66;03m# Define the cluster with 1 persistent and 1 ephemeral\u001b[39;00m\n\u001b[1;32m     36\u001b[0m \u001b[38;5;66;03m# cluster = Cluster(env, compute_nodes=3, cores_per_node=2, tiers=[hdd_tier, ssd_tier], ephemeral_tier=bb)\u001b[39;00m\n\u001b[1;32m     37\u001b[0m cluster \u001b[38;5;241m=\u001b[39m Cluster(env, compute_nodes\u001b[38;5;241m=\u001b[39m\u001b[38;5;241m2\u001b[39m, cores_per_node\u001b[38;5;241m=\u001b[39m\u001b[38;5;241m5\u001b[39m,\n\u001b[1;32m     38\u001b[0m                   tiers\u001b[38;5;241m=\u001b[39m[hdd_tier, ssd_tier],\n\u001b[1;32m     39\u001b[0m                   ephemeral_tier\u001b[38;5;241m=\u001b[39mbb)\n",
      "\u001b[0;31mNameError\u001b[0m: name 'sbb_p_project' is not defined"
     ]
    }
   ],
   "source": [
    "t_start = time.time()\n",
    "# sim env an data\n",
    "env = simpy.Environment()\n",
    "data = simpy.Store(env)\n",
    "# tier perfs\n",
    "\n",
    "sbb_p_project_bw = {'read':  {'seq': 400, 'rand': 400},\n",
    "                        'write': {'seq': 95, 'rand': 95}}\n",
    "\n",
    "p_project_bw = {'read':  {'seq': 250, 'rand': 250},\n",
    "                    'write': {'seq': 100, 'rand': 100}}\n",
    "\n",
    "sbb_afsm_bw = {'read':  {'seq': 400, 'rand': 400},\n",
    "                        'write': {'seq': 96, 'rand': 96}}\n",
    "\n",
    "afsm_bw = {'read':  {'seq': 300, 'rand': 300},\n",
    "                        'write': {'seq': 95, 'rand': 95}}\n",
    "\n",
    "# registering Tiers\n",
    "hdd_tier = Tier(env, '/p/project/ tier', max_bandwidth=p_project_bw, capacity=1e12)\n",
    "#hdd2_tier = Tier(env, 'HDD', max_bandwidth=hdd_bandwidth, capacity=1e12)\n",
    "#ssd_tier = Tier(env, 'SSD', max_bandwidth=ssd_bandwidth, capacity=200e9)\n",
    "sbb_p_project_tier = Tier(env, 'NVRAM', max_bandwidth=sbb_p_project_bw,\n",
    "                          capacity=10e9)\n",
    "# registering Ephemeral Tier\n",
    "# bb = EphemeralTier(env, name=\"BB\", persistent_tier=hdd_tier,\n",
    "#                         bandwidth=nvram_bandwidth, capacity=10e9)\n",
    "sbb_size = 20e9\n",
    "print(f\"sbb_size: {sbb_size}\")\n",
    "\n",
    "bb = EphemeralTier(env, name=\"BB\", persistent_tier=hdd_tier,\n",
    "                   max_bandwidth=sbb_p_project, \n",
    "                   capacity=sbb_size)\n",
    "\n",
    "# Define the cluster with 1 persistent and 1 ephemeral\n",
    "# cluster = Cluster(env, compute_nodes=3, cores_per_node=2, tiers=[hdd_tier, ssd_tier], ephemeral_tier=bb)\n",
    "cluster = Cluster(env, compute_nodes=2, cores_per_node=5,\n",
    "                  tiers=[hdd_tier, ssd_tier],\n",
    "                  ephemeral_tier=bb)\n",
    "\n",
    "volumes = [job_representation[\"read_volumes\"][i] + \n",
    "           job_representation[\"write_volumes\"][i] for i in range(repr_length)]\n",
    "\n",
    "use_sbb = [value <= sbb_size for value in np.cumsum(volumes).tolist()]\n",
    "\n",
    "print(f\"use_sbb: {use_sbb}\")\n",
    "\n",
    "# Normalizing events to sampling period of 5s\n",
    "__SAMPLING_PERIOD__ = 5\n",
    "compute = [job_representation[\"events\"][i]*__SAMPLING_PERIOD__ for i in range(repr_length)]\n",
    "\n",
    "app1 = Application(env, name = \"480592\",\n",
    "                        compute=compute,\n",
    "                        read=job_representation[\"read_volumes\"],\n",
    "                        write=job_representation[\"write_volumes\"],\n",
    "                        data=data)\n",
    "\n",
    "                        \n",
    "repr_length = len(job_representation[\"events\"])\n",
    "# logger\n",
    "#env = simpy.Environment()\n",
    "logger.remove()\n",
    "t_start = time.time()\n",
    "# simulate the app execution\n",
    "t_start = time.time()\n",
    "#app1 = Application(env, compute=[0,  10], read=[1e9, 0], write=[0, 5e9], data=data)\n",
    "#app2 = Application(env, compute=[0, 5], read=[0, 2e9], write=[7e9, 0], data=data)\n",
    "env.process(app1.run(cluster, placement=[0]*repr_length, use_bb=use_sbb))\n",
    "\n",
    "env.run()\n",
    "\n",
    "print(f\"application duration = {app1.get_fitness()}\")\n",
    "\n",
    "print(f\"total simulation duration is about {time.time()-t_start}\")\n",
    "fig = display_run(data, cluster, width=800, height=900)\n",
    "fig.show()"
   ]
  },
  {
   "cell_type": "code",
   "execution_count": 11,
   "metadata": {},
   "outputs": [
    {
     "data": {
      "image/png": "[encoded data removed]",
      "text/plain": [
       "<Figure size 720x432 with 1 Axes>"
      ]
     },
     "metadata": {
      "needs_background": "light"
     },
     "output_type": "display_data"
    }
   ],
   "source": [
    "import pandas as pd\n",
    "import matplotlib.pyplot as plt\n",
    "from io import StringIO\n",
    "\n",
    "# Define the CSV data as strings\n",
    "csv_data = \"\"\"\n",
    "Flavor,Step BC Runtime (s)\n",
    "50,1100\n",
    "50,1083\n",
    "50,1076\n",
    "50,1078\n",
    "10,1170\n",
    "10,1175\n",
    "10,1178\n",
    "10,1182\n",
    "5,1201\n",
    "5,1204\n",
    "5,1206\n",
    "5,1220\n",
    "\"\"\"\n",
    "# tier: p_project\n",
    "# sbb_size: 10000000000.0\n",
    "# use_sbb: [True, False, False, False, False, False, False, False, False, False, False]\n",
    "# placement: [1, 0, 0, 0, 0, 0, 0, 0, 0, 0, 0]\n",
    "# application duration = 1126.9168125424999\n",
    "# sbb_size: 20000000000.0\n",
    "# use_sbb: [True, True, True, False, False, False, False, False, False, False, False]\n",
    "# placement: [1, 1, 1, 0, 0, 0, 0, 0, 0, 0, 0]\n",
    "# application duration = 1063.037800689449\n",
    "# sbb_size: 30000000000.0\n",
    "# use_sbb: [True, True, True, True, True, False, False, False, False, False, False]\n",
    "# placement: [1, 1, 1, 1, 1, 0, 0, 0, 0, 0, 0]\n",
    "# application duration = 1001.1802855863982\n",
    "# sbb_size: 40000000000.0\n",
    "# use_sbb: [True, True, True, True, True, True, False, False, False, False, False]\n",
    "# placement: [1, 1, 1, 1, 1, 1, 0, 0, 0, 0, 0]\n",
    "# application duration = 984.8961884193982\n",
    "# sbb_size: 50000000000.0\n",
    "# use_sbb: [True, True, True, True, True, True, True, False, False, False, False]\n",
    "# placement: [1, 1, 1, 1, 1, 1, 1, 0, 0, 0, 0]\n",
    "# application duration = 970.6675977933983\n",
    "# sbb_size: 60000000000.0\n",
    "# use_sbb: [True, True, True, True, True, True, True, True, False, False, False]\n",
    "# placement: [1, 1, 1, 1, 1, 1, 1, 1, 0, 0, 0]\n",
    "# application duration = 956.1714473613984\n",
    "# sbb_size: 70000000000.0\n",
    "# use_sbb: [True, True, True, True, True, True, True, True, True, True, True]\n",
    "# placement: [1, 1, 1, 1, 1, 1, 1, 1, 1, 1, 1]\n",
    "# application duration = 941.6752985763983\n",
    "csv_data_2 = \"\"\"\n",
    "Flavor,Simulation Runtime (s)\n",
    "5, 1128.8\n",
    "10, 1126\n",
    "20, 1063\n",
    "30, 1101\n",
    "40, 984\n",
    "50, 970\n",
    "\"\"\"\n",
    "\n",
    "# Convert CSV data to DataFrames\n",
    "data_1 = pd.read_csv(StringIO(csv_data), skipinitialspace=True)\n",
    "data_2 = pd.read_csv(StringIO(csv_data_2), skipinitialspace=True)\n",
    "\n",
    "# Plotting\n",
    "plt.figure(figsize=(10, 6))\n",
    "\n",
    "# Plotting the first dataset\n",
    "plt.scatter(data_1['Flavor'], data_1['Step BC Runtime (s)'], color='blue', label='Step BC Runtime')\n",
    "\n",
    "# Plotting the second dataset\n",
    "plt.scatter(data_2['Flavor'], data_2['Simulation Runtime (s)'], color='red', label='Simulated BC Runtime')\n",
    "\n",
    "plt.title('Comparison of Step BC Runtime and Simulation Runtime by Flavor')\n",
    "plt.xlabel('Flavor (GB)')\n",
    "plt.ylabel('Runtime (s)')\n",
    "plt.legend()\n",
    "plt.grid(True)\n",
    "\n",
    "plt.show()\n"
   ]
  },
  {
   "cell_type": "code",
   "execution_count": 16,
   "metadata": {},
   "outputs": [
    {
     "data": {
      "application/vnd.plotly.v1+json": {
       "config": {
        "plotlyServerURL": "https://plot.ly"
       },
       "data": [
        {
         "marker": {
          "color": "blue"
         },
         "mode": "markers",
         "name": "Measured BC Runtime",
         "type": "scatter",
         "x": [
          50,
          50,
          50,
          50,
          10,
          10,
          10,
          10,
          5,
          5,
          5,
          5
         ],
         "y": [
          1100,
          1083,
          1076,
          1078,
          1170,
          1175,
          1178,
          1182,
          1201,
          1204,
          1206,
          1220
         ]
        },
        {
         "marker": {
          "color": "red"
         },
         "mode": "markers",
         "name": "(RecSys) Simulation Runtime",
         "type": "scatter",
         "x": [
          5,
          10,
          20,
          30,
          40,
          50
         ],
         "y": [
          1128.8,
          1126,
          1063,
          1101,
          984,
          970
         ]
        }
       ],
       "layout": {
        "legend": {
         "title": {
          "text": "Data for /p/project tier"
         }
        },
        "template": {
         "data": {
          "bar": [
           {
            "error_x": {
             "color": "#2a3f5f"
            },
            "error_y": {
             "color": "#2a3f5f"
            },
            "marker": {
             "line": {
              "color": "#E5ECF6",
              "width": 0.5
             },
             "pattern": {
              "fillmode": "overlay",
              "size": 10,
              "solidity": 0.2
             }
            },
            "type": "bar"
           }
          ],
          "barpolar": [
           {
            "marker": {
             "line": {
              "color": "#E5ECF6",
              "width": 0.5
             },
             "pattern": {
              "fillmode": "overlay",
              "size": 10,
              "solidity": 0.2
             }
            },
            "type": "barpolar"
           }
          ],
          "carpet": [
           {
            "aaxis": {
             "endlinecolor": "#2a3f5f",
             "gridcolor": "white",
             "linecolor": "white",
             "minorgridcolor": "white",
             "startlinecolor": "#2a3f5f"
            },
            "baxis": {
             "endlinecolor": "#2a3f5f",
             "gridcolor": "white",
             "linecolor": "white",
             "minorgridcolor": "white",
             "startlinecolor": "#2a3f5f"
            },
            "type": "carpet"
           }
          ],
          "choropleth": [
           {
            "colorbar": {
             "outlinewidth": 0,
             "ticks": ""
            },
            "type": "choropleth"
           }
          ],
          "contour": [
           {
            "colorbar": {
             "outlinewidth": 0,
             "ticks": ""
            },
            "colorscale": [
             [
              0,
              "#0d0887"
             ],
             [
              0.1111111111111111,
              "#46039f"
             ],
             [
              0.2222222222222222,
              "#7201a8"
             ],
             [
              0.3333333333333333,
              "#9c179e"
             ],
             [
              0.4444444444444444,
              "#bd3786"
             ],
             [
              0.5555555555555556,
              "#d8576b"
             ],
             [
              0.6666666666666666,
              "#ed7953"
             ],
             [
              0.7777777777777778,
              "#fb9f3a"
             ],
             [
              0.8888888888888888,
              "#fdca26"
             ],
             [
              1,
              "#f0f921"
             ]
            ],
            "type": "contour"
           }
          ],
          "contourcarpet": [
           {
            "colorbar": {
             "outlinewidth": 0,
             "ticks": ""
            },
            "type": "contourcarpet"
           }
          ],
          "heatmap": [
           {
            "colorbar": {
             "outlinewidth": 0,
             "ticks": ""
            },
            "colorscale": [
             [
              0,
              "#0d0887"
             ],
             [
              0.1111111111111111,
              "#46039f"
             ],
             [
              0.2222222222222222,
              "#7201a8"
             ],
             [
              0.3333333333333333,
              "#9c179e"
             ],
             [
              0.4444444444444444,
              "#bd3786"
             ],
             [
              0.5555555555555556,
              "#d8576b"
             ],
             [
              0.6666666666666666,
              "#ed7953"
             ],
             [
              0.7777777777777778,
              "#fb9f3a"
             ],
             [
              0.8888888888888888,
              "#fdca26"
             ],
             [
              1,
              "#f0f921"
             ]
            ],
            "type": "heatmap"
           }
          ],
          "heatmapgl": [
           {
            "colorbar": {
             "outlinewidth": 0,
             "ticks": ""
            },
            "colorscale": [
             [
              0,
              "#0d0887"
             ],
             [
              0.1111111111111111,
              "#46039f"
             ],
             [
              0.2222222222222222,
              "#7201a8"
             ],
             [
              0.3333333333333333,
              "#9c179e"
             ],
             [
              0.4444444444444444,
              "#bd3786"
             ],
             [
              0.5555555555555556,
              "#d8576b"
             ],
             [
              0.6666666666666666,
              "#ed7953"
             ],
             [
              0.7777777777777778,
              "#fb9f3a"
             ],
             [
              0.8888888888888888,
              "#fdca26"
             ],
             [
              1,
              "#f0f921"
             ]
            ],
            "type": "heatmapgl"
           }
          ],
          "histogram": [
           {
            "marker": {
             "pattern": {
              "fillmode": "overlay",
              "size": 10,
              "solidity": 0.2
             }
            },
            "type": "histogram"
           }
          ],
          "histogram2d": [
           {
            "colorbar": {
             "outlinewidth": 0,
             "ticks": ""
            },
            "colorscale": [
             [
              0,
              "#0d0887"
             ],
             [
              0.1111111111111111,
              "#46039f"
             ],
             [
              0.2222222222222222,
              "#7201a8"
             ],
             [
              0.3333333333333333,
              "#9c179e"
             ],
             [
              0.4444444444444444,
              "#bd3786"
             ],
             [
              0.5555555555555556,
              "#d8576b"
             ],
             [
              0.6666666666666666,
              "#ed7953"
             ],
             [
              0.7777777777777778,
              "#fb9f3a"
             ],
             [
              0.8888888888888888,
              "#fdca26"
             ],
             [
              1,
              "#f0f921"
             ]
            ],
            "type": "histogram2d"
           }
          ],
          "histogram2dcontour": [
           {
            "colorbar": {
             "outlinewidth": 0,
             "ticks": ""
            },
            "colorscale": [
             [
              0,
              "#0d0887"
             ],
             [
              0.1111111111111111,
              "#46039f"
             ],
             [
              0.2222222222222222,
              "#7201a8"
             ],
             [
              0.3333333333333333,
              "#9c179e"
             ],
             [
              0.4444444444444444,
              "#bd3786"
             ],
             [
              0.5555555555555556,
              "#d8576b"
             ],
             [
              0.6666666666666666,
              "#ed7953"
             ],
             [
              0.7777777777777778,
              "#fb9f3a"
             ],
             [
              0.8888888888888888,
              "#fdca26"
             ],
             [
              1,
              "#f0f921"
             ]
            ],
            "type": "histogram2dcontour"
           }
          ],
          "mesh3d": [
           {
            "colorbar": {
             "outlinewidth": 0,
             "ticks": ""
            },
            "type": "mesh3d"
           }
          ],
          "parcoords": [
           {
            "line": {
             "colorbar": {
              "outlinewidth": 0,
              "ticks": ""
             }
            },
            "type": "parcoords"
           }
          ],
          "pie": [
           {
            "automargin": true,
            "type": "pie"
           }
          ],
          "scatter": [
           {
            "fillpattern": {
             "fillmode": "overlay",
             "size": 10,
             "solidity": 0.2
            },
            "type": "scatter"
           }
          ],
          "scatter3d": [
           {
            "line": {
             "colorbar": {
              "outlinewidth": 0,
              "ticks": ""
             }
            },
            "marker": {
             "colorbar": {
              "outlinewidth": 0,
              "ticks": ""
             }
            },
            "type": "scatter3d"
           }
          ],
          "scattercarpet": [
           {
            "marker": {
             "colorbar": {
              "outlinewidth": 0,
              "ticks": ""
             }
            },
            "type": "scattercarpet"
           }
          ],
          "scattergeo": [
           {
            "marker": {
             "colorbar": {
              "outlinewidth": 0,
              "ticks": ""
             }
            },
            "type": "scattergeo"
           }
          ],
          "scattergl": [
           {
            "marker": {
             "colorbar": {
              "outlinewidth": 0,
              "ticks": ""
             }
            },
            "type": "scattergl"
           }
          ],
          "scattermapbox": [
           {
            "marker": {
             "colorbar": {
              "outlinewidth": 0,
              "ticks": ""
             }
            },
            "type": "scattermapbox"
           }
          ],
          "scatterpolar": [
           {
            "marker": {
             "colorbar": {
              "outlinewidth": 0,
              "ticks": ""
             }
            },
            "type": "scatterpolar"
           }
          ],
          "scatterpolargl": [
           {
            "marker": {
             "colorbar": {
              "outlinewidth": 0,
              "ticks": ""
             }
            },
            "type": "scatterpolargl"
           }
          ],
          "scatterternary": [
           {
            "marker": {
             "colorbar": {
              "outlinewidth": 0,
              "ticks": ""
             }
            },
            "type": "scatterternary"
           }
          ],
          "surface": [
           {
            "colorbar": {
             "outlinewidth": 0,
             "ticks": ""
            },
            "colorscale": [
             [
              0,
              "#0d0887"
             ],
             [
              0.1111111111111111,
              "#46039f"
             ],
             [
              0.2222222222222222,
              "#7201a8"
             ],
             [
              0.3333333333333333,
              "#9c179e"
             ],
             [
              0.4444444444444444,
              "#bd3786"
             ],
             [
              0.5555555555555556,
              "#d8576b"
             ],
             [
              0.6666666666666666,
              "#ed7953"
             ],
             [
              0.7777777777777778,
              "#fb9f3a"
             ],
             [
              0.8888888888888888,
              "#fdca26"
             ],
             [
              1,
              "#f0f921"
             ]
            ],
            "type": "surface"
           }
          ],
          "table": [
           {
            "cells": {
             "fill": {
              "color": "#EBF0F8"
             },
             "line": {
              "color": "white"
             }
            },
            "header": {
             "fill": {
              "color": "#C8D4E3"
             },
             "line": {
              "color": "white"
             }
            },
            "type": "table"
           }
          ]
         },
         "layout": {
          "annotationdefaults": {
           "arrowcolor": "#2a3f5f",
           "arrowhead": 0,
           "arrowwidth": 1
          },
          "autotypenumbers": "strict",
          "coloraxis": {
           "colorbar": {
            "outlinewidth": 0,
            "ticks": ""
           }
          },
          "colorscale": {
           "diverging": [
            [
             0,
             "#8e0152"
            ],
            [
             0.1,
             "#c51b7d"
            ],
            [
             0.2,
             "#de77ae"
            ],
            [
             0.3,
             "#f1b6da"
            ],
            [
             0.4,
             "#fde0ef"
            ],
            [
             0.5,
             "#f7f7f7"
            ],
            [
             0.6,
             "#e6f5d0"
            ],
            [
             0.7,
             "#b8e186"
            ],
            [
             0.8,
             "#7fbc41"
            ],
            [
             0.9,
             "#4d9221"
            ],
            [
             1,
             "#276419"
            ]
           ],
           "sequential": [
            [
             0,
             "#0d0887"
            ],
            [
             0.1111111111111111,
             "#46039f"
            ],
            [
             0.2222222222222222,
             "#7201a8"
            ],
            [
             0.3333333333333333,
             "#9c179e"
            ],
            [
             0.4444444444444444,
             "#bd3786"
            ],
            [
             0.5555555555555556,
             "#d8576b"
            ],
            [
             0.6666666666666666,
             "#ed7953"
            ],
            [
             0.7777777777777778,
             "#fb9f3a"
            ],
            [
             0.8888888888888888,
             "#fdca26"
            ],
            [
             1,
             "#f0f921"
            ]
           ],
           "sequentialminus": [
            [
             0,
             "#0d0887"
            ],
            [
             0.1111111111111111,
             "#46039f"
            ],
            [
             0.2222222222222222,
             "#7201a8"
            ],
            [
             0.3333333333333333,
             "#9c179e"
            ],
            [
             0.4444444444444444,
             "#bd3786"
            ],
            [
             0.5555555555555556,
             "#d8576b"
            ],
            [
             0.6666666666666666,
             "#ed7953"
            ],
            [
             0.7777777777777778,
             "#fb9f3a"
            ],
            [
             0.8888888888888888,
             "#fdca26"
            ],
            [
             1,
             "#f0f921"
            ]
           ]
          },
          "colorway": [
           "#636efa",
           "#EF553B",
           "#00cc96",
           "#ab63fa",
           "#FFA15A",
           "#19d3f3",
           "#FF6692",
           "#B6E880",
           "#FF97FF",
           "#FECB52"
          ],
          "font": {
           "color": "#2a3f5f"
          },
          "geo": {
           "bgcolor": "white",
           "lakecolor": "white",
           "landcolor": "#E5ECF6",
           "showlakes": true,
           "showland": true,
           "subunitcolor": "white"
          },
          "hoverlabel": {
           "align": "left"
          },
          "hovermode": "closest",
          "mapbox": {
           "style": "light"
          },
          "paper_bgcolor": "white",
          "plot_bgcolor": "#E5ECF6",
          "polar": {
           "angularaxis": {
            "gridcolor": "white",
            "linecolor": "white",
            "ticks": ""
           },
           "bgcolor": "#E5ECF6",
           "radialaxis": {
            "gridcolor": "white",
            "linecolor": "white",
            "ticks": ""
           }
          },
          "scene": {
           "xaxis": {
            "backgroundcolor": "#E5ECF6",
            "gridcolor": "white",
            "gridwidth": 2,
            "linecolor": "white",
            "showbackground": true,
            "ticks": "",
            "zerolinecolor": "white"
           },
           "yaxis": {
            "backgroundcolor": "#E5ECF6",
            "gridcolor": "white",
            "gridwidth": 2,
            "linecolor": "white",
            "showbackground": true,
            "ticks": "",
            "zerolinecolor": "white"
           },
           "zaxis": {
            "backgroundcolor": "#E5ECF6",
            "gridcolor": "white",
            "gridwidth": 2,
            "linecolor": "white",
            "showbackground": true,
            "ticks": "",
            "zerolinecolor": "white"
           }
          },
          "shapedefaults": {
           "line": {
            "color": "#2a3f5f"
           }
          },
          "ternary": {
           "aaxis": {
            "gridcolor": "white",
            "linecolor": "white",
            "ticks": ""
           },
           "baxis": {
            "gridcolor": "white",
            "linecolor": "white",
            "ticks": ""
           },
           "bgcolor": "#E5ECF6",
           "caxis": {
            "gridcolor": "white",
            "linecolor": "white",
            "ticks": ""
           }
          },
          "title": {
           "x": 0.05
          },
          "xaxis": {
           "automargin": true,
           "gridcolor": "white",
           "linecolor": "white",
           "ticks": "",
           "title": {
            "standoff": 15
           },
           "zerolinecolor": "white",
           "zerolinewidth": 2
          },
          "yaxis": {
           "automargin": true,
           "gridcolor": "white",
           "linecolor": "white",
           "ticks": "",
           "title": {
            "standoff": 15
           },
           "zerolinecolor": "white",
           "zerolinewidth": 2
          }
         }
        },
        "title": {
         "text": "Comparison of Step BC (from LQCD) Runtime and Simulation Runtime by Flavor"
        },
        "xaxis": {
         "title": {
          "text": "Flavor (GB)"
         }
        },
        "yaxis": {
         "range": [
          600,
          1300
         ],
         "title": {
          "text": "Runtime (s)"
         }
        }
       }
      },
      "text/html": [
       "<div>                            <div id=\"019c72a2-24d5-4460-8078-2edfded485a7\" class=\"plotly-graph-div\" style=\"height:525px; width:100%;\"></div>            <script type=\"text/javascript\">                require([\"plotly\"], function(Plotly) {                    window.PLOTLYENV=window.PLOTLYENV || {};                                    if (document.getElementById(\"019c72a2-24d5-4460-8078-2edfded485a7\")) {                    Plotly.newPlot(                        \"019c72a2-24d5-4460-8078-2edfded485a7\",                        [{\"marker\":{\"color\":\"blue\"},\"mode\":\"markers\",\"name\":\"Measured BC Runtime\",\"x\":[50,50,50,50,10,10,10,10,5,5,5,5],\"y\":[1100.0,1083.0,1076.0,1078.0,1170.0,1175.0,1178.0,1182.0,1201.0,1204.0,1206.0,1220.0],\"type\":\"scatter\"},{\"marker\":{\"color\":\"red\"},\"mode\":\"markers\",\"name\":\"(RecSys) Simulation Runtime\",\"x\":[5,10,20,30,40,50],\"y\":[1128.8,1126.0,1063.0,1101.0,984.0,970.0],\"type\":\"scatter\"}],                        {\"template\":{\"data\":{\"histogram2dcontour\":[{\"type\":\"histogram2dcontour\",\"colorbar\":{\"outlinewidth\":0,\"ticks\":\"\"},\"colorscale\":[[0.0,\"#0d0887\"],[0.1111111111111111,\"#46039f\"],[0.2222222222222222,\"#7201a8\"],[0.3333333333333333,\"#9c179e\"],[0.4444444444444444,\"#bd3786\"],[0.5555555555555556,\"#d8576b\"],[0.6666666666666666,\"#ed7953\"],[0.7777777777777778,\"#fb9f3a\"],[0.8888888888888888,\"#fdca26\"],[1.0,\"#f0f921\"]]}],\"choropleth\":[{\"type\":\"choropleth\",\"colorbar\":{\"outlinewidth\":0,\"ticks\":\"\"}}],\"histogram2d\":[{\"type\":\"histogram2d\",\"colorbar\":{\"outlinewidth\":0,\"ticks\":\"\"},\"colorscale\":[[0.0,\"#0d0887\"],[0.1111111111111111,\"#46039f\"],[0.2222222222222222,\"#7201a8\"],[0.3333333333333333,\"#9c179e\"],[0.4444444444444444,\"#bd3786\"],[0.5555555555555556,\"#d8576b\"],[0.6666666666666666,\"#ed7953\"],[0.7777777777777778,\"#fb9f3a\"],[0.8888888888888888,\"#fdca26\"],[1.0,\"#f0f921\"]]}],\"heatmap\":[{\"type\":\"heatmap\",\"colorbar\":{\"outlinewidth\":0,\"ticks\":\"\"},\"colorscale\":[[0.0,\"#0d0887\"],[0.1111111111111111,\"#46039f\"],[0.2222222222222222,\"#7201a8\"],[0.3333333333333333,\"#9c179e\"],[0.4444444444444444,\"#bd3786\"],[0.5555555555555556,\"#d8576b\"],[0.6666666666666666,\"#ed7953\"],[0.7777777777777778,\"#fb9f3a\"],[0.8888888888888888,\"#fdca26\"],[1.0,\"#f0f921\"]]}],\"heatmapgl\":[{\"type\":\"heatmapgl\",\"colorbar\":{\"outlinewidth\":0,\"ticks\":\"\"},\"colorscale\":[[0.0,\"#0d0887\"],[0.1111111111111111,\"#46039f\"],[0.2222222222222222,\"#7201a8\"],[0.3333333333333333,\"#9c179e\"],[0.4444444444444444,\"#bd3786\"],[0.5555555555555556,\"#d8576b\"],[0.6666666666666666,\"#ed7953\"],[0.7777777777777778,\"#fb9f3a\"],[0.8888888888888888,\"#fdca26\"],[1.0,\"#f0f921\"]]}],\"contourcarpet\":[{\"type\":\"contourcarpet\",\"colorbar\":{\"outlinewidth\":0,\"ticks\":\"\"}}],\"contour\":[{\"type\":\"contour\",\"colorbar\":{\"outlinewidth\":0,\"ticks\":\"\"},\"colorscale\":[[0.0,\"#0d0887\"],[0.1111111111111111,\"#46039f\"],[0.2222222222222222,\"#7201a8\"],[0.3333333333333333,\"#9c179e\"],[0.4444444444444444,\"#bd3786\"],[0.5555555555555556,\"#d8576b\"],[0.6666666666666666,\"#ed7953\"],[0.7777777777777778,\"#fb9f3a\"],[0.8888888888888888,\"#fdca26\"],[1.0,\"#f0f921\"]]}],\"surface\":[{\"type\":\"surface\",\"colorbar\":{\"outlinewidth\":0,\"ticks\":\"\"},\"colorscale\":[[0.0,\"#0d0887\"],[0.1111111111111111,\"#46039f\"],[0.2222222222222222,\"#7201a8\"],[0.3333333333333333,\"#9c179e\"],[0.4444444444444444,\"#bd3786\"],[0.5555555555555556,\"#d8576b\"],[0.6666666666666666,\"#ed7953\"],[0.7777777777777778,\"#fb9f3a\"],[0.8888888888888888,\"#fdca26\"],[1.0,\"#f0f921\"]]}],\"mesh3d\":[{\"type\":\"mesh3d\",\"colorbar\":{\"outlinewidth\":0,\"ticks\":\"\"}}],\"scatter\":[{\"fillpattern\":{\"fillmode\":\"overlay\",\"size\":10,\"solidity\":0.2},\"type\":\"scatter\"}],\"parcoords\":[{\"type\":\"parcoords\",\"line\":{\"colorbar\":{\"outlinewidth\":0,\"ticks\":\"\"}}}],\"scatterpolargl\":[{\"type\":\"scatterpolargl\",\"marker\":{\"colorbar\":{\"outlinewidth\":0,\"ticks\":\"\"}}}],\"bar\":[{\"error_x\":{\"color\":\"#2a3f5f\"},\"error_y\":{\"color\":\"#2a3f5f\"},\"marker\":{\"line\":{\"color\":\"#E5ECF6\",\"width\":0.5},\"pattern\":{\"fillmode\":\"overlay\",\"size\":10,\"solidity\":0.2}},\"type\":\"bar\"}],\"scattergeo\":[{\"type\":\"scattergeo\",\"marker\":{\"colorbar\":{\"outlinewidth\":0,\"ticks\":\"\"}}}],\"scatterpolar\":[{\"type\":\"scatterpolar\",\"marker\":{\"colorbar\":{\"outlinewidth\":0,\"ticks\":\"\"}}}],\"histogram\":[{\"marker\":{\"pattern\":{\"fillmode\":\"overlay\",\"size\":10,\"solidity\":0.2}},\"type\":\"histogram\"}],\"scattergl\":[{\"type\":\"scattergl\",\"marker\":{\"colorbar\":{\"outlinewidth\":0,\"ticks\":\"\"}}}],\"scatter3d\":[{\"type\":\"scatter3d\",\"line\":{\"colorbar\":{\"outlinewidth\":0,\"ticks\":\"\"}},\"marker\":{\"colorbar\":{\"outlinewidth\":0,\"ticks\":\"\"}}}],\"scattermapbox\":[{\"type\":\"scattermapbox\",\"marker\":{\"colorbar\":{\"outlinewidth\":0,\"ticks\":\"\"}}}],\"scatterternary\":[{\"type\":\"scatterternary\",\"marker\":{\"colorbar\":{\"outlinewidth\":0,\"ticks\":\"\"}}}],\"scattercarpet\":[{\"type\":\"scattercarpet\",\"marker\":{\"colorbar\":{\"outlinewidth\":0,\"ticks\":\"\"}}}],\"carpet\":[{\"aaxis\":{\"endlinecolor\":\"#2a3f5f\",\"gridcolor\":\"white\",\"linecolor\":\"white\",\"minorgridcolor\":\"white\",\"startlinecolor\":\"#2a3f5f\"},\"baxis\":{\"endlinecolor\":\"#2a3f5f\",\"gridcolor\":\"white\",\"linecolor\":\"white\",\"minorgridcolor\":\"white\",\"startlinecolor\":\"#2a3f5f\"},\"type\":\"carpet\"}],\"table\":[{\"cells\":{\"fill\":{\"color\":\"#EBF0F8\"},\"line\":{\"color\":\"white\"}},\"header\":{\"fill\":{\"color\":\"#C8D4E3\"},\"line\":{\"color\":\"white\"}},\"type\":\"table\"}],\"barpolar\":[{\"marker\":{\"line\":{\"color\":\"#E5ECF6\",\"width\":0.5},\"pattern\":{\"fillmode\":\"overlay\",\"size\":10,\"solidity\":0.2}},\"type\":\"barpolar\"}],\"pie\":[{\"automargin\":true,\"type\":\"pie\"}]},\"layout\":{\"autotypenumbers\":\"strict\",\"colorway\":[\"#636efa\",\"#EF553B\",\"#00cc96\",\"#ab63fa\",\"#FFA15A\",\"#19d3f3\",\"#FF6692\",\"#B6E880\",\"#FF97FF\",\"#FECB52\"],\"font\":{\"color\":\"#2a3f5f\"},\"hovermode\":\"closest\",\"hoverlabel\":{\"align\":\"left\"},\"paper_bgcolor\":\"white\",\"plot_bgcolor\":\"#E5ECF6\",\"polar\":{\"bgcolor\":\"#E5ECF6\",\"angularaxis\":{\"gridcolor\":\"white\",\"linecolor\":\"white\",\"ticks\":\"\"},\"radialaxis\":{\"gridcolor\":\"white\",\"linecolor\":\"white\",\"ticks\":\"\"}},\"ternary\":{\"bgcolor\":\"#E5ECF6\",\"aaxis\":{\"gridcolor\":\"white\",\"linecolor\":\"white\",\"ticks\":\"\"},\"baxis\":{\"gridcolor\":\"white\",\"linecolor\":\"white\",\"ticks\":\"\"},\"caxis\":{\"gridcolor\":\"white\",\"linecolor\":\"white\",\"ticks\":\"\"}},\"coloraxis\":{\"colorbar\":{\"outlinewidth\":0,\"ticks\":\"\"}},\"colorscale\":{\"sequential\":[[0.0,\"#0d0887\"],[0.1111111111111111,\"#46039f\"],[0.2222222222222222,\"#7201a8\"],[0.3333333333333333,\"#9c179e\"],[0.4444444444444444,\"#bd3786\"],[0.5555555555555556,\"#d8576b\"],[0.6666666666666666,\"#ed7953\"],[0.7777777777777778,\"#fb9f3a\"],[0.8888888888888888,\"#fdca26\"],[1.0,\"#f0f921\"]],\"sequentialminus\":[[0.0,\"#0d0887\"],[0.1111111111111111,\"#46039f\"],[0.2222222222222222,\"#7201a8\"],[0.3333333333333333,\"#9c179e\"],[0.4444444444444444,\"#bd3786\"],[0.5555555555555556,\"#d8576b\"],[0.6666666666666666,\"#ed7953\"],[0.7777777777777778,\"#fb9f3a\"],[0.8888888888888888,\"#fdca26\"],[1.0,\"#f0f921\"]],\"diverging\":[[0,\"#8e0152\"],[0.1,\"#c51b7d\"],[0.2,\"#de77ae\"],[0.3,\"#f1b6da\"],[0.4,\"#fde0ef\"],[0.5,\"#f7f7f7\"],[0.6,\"#e6f5d0\"],[0.7,\"#b8e186\"],[0.8,\"#7fbc41\"],[0.9,\"#4d9221\"],[1,\"#276419\"]]},\"xaxis\":{\"gridcolor\":\"white\",\"linecolor\":\"white\",\"ticks\":\"\",\"title\":{\"standoff\":15},\"zerolinecolor\":\"white\",\"automargin\":true,\"zerolinewidth\":2},\"yaxis\":{\"gridcolor\":\"white\",\"linecolor\":\"white\",\"ticks\":\"\",\"title\":{\"standoff\":15},\"zerolinecolor\":\"white\",\"automargin\":true,\"zerolinewidth\":2},\"scene\":{\"xaxis\":{\"backgroundcolor\":\"#E5ECF6\",\"gridcolor\":\"white\",\"linecolor\":\"white\",\"showbackground\":true,\"ticks\":\"\",\"zerolinecolor\":\"white\",\"gridwidth\":2},\"yaxis\":{\"backgroundcolor\":\"#E5ECF6\",\"gridcolor\":\"white\",\"linecolor\":\"white\",\"showbackground\":true,\"ticks\":\"\",\"zerolinecolor\":\"white\",\"gridwidth\":2},\"zaxis\":{\"backgroundcolor\":\"#E5ECF6\",\"gridcolor\":\"white\",\"linecolor\":\"white\",\"showbackground\":true,\"ticks\":\"\",\"zerolinecolor\":\"white\",\"gridwidth\":2}},\"shapedefaults\":{\"line\":{\"color\":\"#2a3f5f\"}},\"annotationdefaults\":{\"arrowcolor\":\"#2a3f5f\",\"arrowhead\":0,\"arrowwidth\":1},\"geo\":{\"bgcolor\":\"white\",\"landcolor\":\"#E5ECF6\",\"subunitcolor\":\"white\",\"showland\":true,\"showlakes\":true,\"lakecolor\":\"white\"},\"title\":{\"x\":0.05},\"mapbox\":{\"style\":\"light\"}}},\"yaxis\":{\"title\":{\"text\":\"Runtime (s)\"},\"range\":[600.0,1300.0]},\"title\":{\"text\":\"Comparison of Step BC (from LQCD) Runtime and Simulation Runtime by Flavor\"},\"xaxis\":{\"title\":{\"text\":\"Flavor (GB)\"}},\"legend\":{\"title\":{\"text\":\"Data for /p/project tier\"}}},                        {\"responsive\": true}                    ).then(function(){\n",
       "                            \n",
       "var gd = document.getElementById('019c72a2-24d5-4460-8078-2edfded485a7');\n",
       "var x = new MutationObserver(function (mutations, observer) {{\n",
       "        var display = window.getComputedStyle(gd).display;\n",
       "        if (!display || display === 'none') {{\n",
       "            console.log([gd, 'removed!']);\n",
       "            Plotly.purge(gd);\n",
       "            observer.disconnect();\n",
       "        }}\n",
       "}});\n",
       "\n",
       "// Listen for the removal of the full notebook cells\n",
       "var notebookContainer = gd.closest('#notebook-container');\n",
       "if (notebookContainer) {{\n",
       "    x.observe(notebookContainer, {childList: true});\n",
       "}}\n",
       "\n",
       "// Listen for the clearing of the current output cell\n",
       "var outputEl = gd.closest('.output');\n",
       "if (outputEl) {{\n",
       "    x.observe(outputEl, {childList: true});\n",
       "}}\n",
       "\n",
       "                        })                };                });            </script>        </div>"
      ]
     },
     "metadata": {},
     "output_type": "display_data"
    }
   ],
   "source": [
    "import plotly.graph_objects as go\n",
    "\n",
    "# Update the second dataset with the new values\n",
    "csv_data = \"\"\"\n",
    "Flavor,Step BC Runtime (s)\n",
    "50,1100\n",
    "50,1083\n",
    "50,1076\n",
    "50,1078\n",
    "10,1170\n",
    "10,1175\n",
    "10,1178\n",
    "10,1182\n",
    "5,1201\n",
    "5,1204\n",
    "5,1206\n",
    "5,1220\n",
    "\"\"\"\n",
    "\n",
    "csv_data_2 = \"\"\"\n",
    "Flavor,Simulation Runtime (s)\n",
    "5, 1128.8\n",
    "10, 1126\n",
    "20, 1063\n",
    "30, 1101\n",
    "40, 984\n",
    "50, 970\n",
    "\"\"\"\n",
    "\n",
    "# Re-convert the updated CSV data for the simulation runtime to ensure it's in the correct format\n",
    "#0,1267 \n",
    "#0, 1128.8\n",
    "data_1 = pd.read_csv(StringIO(csv_data), skipinitialspace=True)\n",
    "data_2_updated = pd.read_csv(StringIO(csv_data_2), skipinitialspace=True)\n",
    "\n",
    "# Creating the Plotly figure\n",
    "fig = go.Figure()\n",
    "\n",
    "ref_value = 1 # 1 or 970\n",
    "# Adding the Step BC Runtime scatter plot\n",
    "fig.add_trace(go.Scatter(x=data_1['Flavor'], y=data_1['Step BC Runtime (s)']/ref_value,\n",
    "                         mode='markers', name='Measured BC Runtime',\n",
    "                         marker=dict(color='blue')))\n",
    "\n",
    "# Adding the Simulation Runtime scatter plot with updated values\n",
    "fig.add_trace(go.Scatter(x=data_2_updated['Flavor'], \n",
    "                         y=data_2_updated['Simulation Runtime (s)']/ref_value,\n",
    "                         mode='markers', name='(RecSys) Simulation Runtime',\n",
    "                         marker=dict(color='red')))\n",
    "\n",
    "# Updating layout with titles, labels, and setting y-axis range\n",
    "fig.update_layout(title='Comparison of Step BC (from LQCD) Runtime and Simulation Runtime by Flavor',\n",
    "                  xaxis_title='Flavor (GB)',\n",
    "                  yaxis_title='Runtime (s)',\n",
    "                  yaxis=dict(range=[600/ref_value, 1300/ref_value]),  # Setting the span of y-axis\n",
    "                  legend_title=\"Data for /p/project tier\",\n",
    "                  )\n",
    "\n",
    "fig.show()\n"
   ]
  },
  {
   "cell_type": "code",
   "execution_count": 13,
   "metadata": {},
   "outputs": [
    {
     "name": "stdout",
     "output_type": "stream",
     "text": [
      "tier: p_project\n",
      "sbb_size: 0\n",
      "use_sbb: [False, False, False, False, False, False, False, False, False, False, False]\n",
      "placement: [0, 0, 0, 0, 0, 0, 0, 0, 0, 0, 0]\n",
      "application duration = 1128.728842538\n",
      "sbb_size: 5000000000.0\n",
      "use_sbb: [False, False, False, False, False, False, False, False, False, False, False]\n",
      "placement: [0, 0, 0, 0, 0, 0, 0, 0, 0, 0, 0]\n",
      "application duration = 1128.728842538\n",
      "sbb_size: 10000000000.0\n",
      "use_sbb: [True, False, False, False, False, False, False, False, False, False, False]\n",
      "placement: [1, 0, 0, 0, 0, 0, 0, 0, 0, 0, 0]\n",
      "application duration = 1126.9168125424999\n",
      "sbb_size: 20000000000.0\n",
      "use_sbb: [True, True, True, False, False, False, False, False, False, False, False]\n",
      "placement: [1, 1, 1, 0, 0, 0, 0, 0, 0, 0, 0]\n",
      "application duration = 1063.037800689449\n",
      "sbb_size: 30000000000.0\n",
      "use_sbb: [True, True, True, True, True, False, False, False, False, False, False]\n",
      "placement: [1, 1, 1, 1, 1, 0, 0, 0, 0, 0, 0]\n",
      "application duration = 1001.1802855863982\n",
      "sbb_size: 40000000000.0\n",
      "use_sbb: [True, True, True, True, True, True, False, False, False, False, False]\n",
      "placement: [1, 1, 1, 1, 1, 1, 0, 0, 0, 0, 0]\n",
      "application duration = 984.8961884193982\n",
      "sbb_size: 50000000000.0\n",
      "use_sbb: [True, True, True, True, True, True, True, False, False, False, False]\n",
      "placement: [1, 1, 1, 1, 1, 1, 1, 0, 0, 0, 0]\n",
      "application duration = 970.6675977933983\n",
      "sbb_size: 60000000000.0\n",
      "use_sbb: [True, True, True, True, True, True, True, True, False, False, False]\n",
      "placement: [1, 1, 1, 1, 1, 1, 1, 1, 0, 0, 0]\n",
      "application duration = 956.1714473613984\n",
      "sbb_size: 70000000000.0\n",
      "use_sbb: [True, True, True, True, True, True, True, True, True, True, True]\n",
      "placement: [1, 1, 1, 1, 1, 1, 1, 1, 1, 1, 1]\n",
      "application duration = 941.6752985763983\n"
     ]
    }
   ],
   "source": [
    "job_representation = {\"node_count\": 1, \"events\": [0, 1, 28, 36, 62, 71, 78, 103, 129, 151, 155], \"read_volumes\": [0, 1208019997, 0, 0, 0, 0, 10856064778, 9485727084, 9664100288, 9664099190, 0], \"read_bw\": [0, 402673332.3333333, 0, 0, 0, 0, 1550866396.857143, 1897145416.8, 1610683381.3333333, 1932819838.0, 0], \"write_volumes\": [0, 0, 4831873362, 4831874585, 4525959168, 4831972604, 0, 0, 0, 0, 0], \"write_bw\": [0, 0, 483187336.2, 483187458.5, 502884352.0, 483197260.4, 0, 0, 0, 0, 0], \"read_pattern\": [\"Uncl\", \"Seq\", \"Uncl\", \"Uncl\", \"Uncl\", \"Uncl\", \"Seq\", \"Seq\", \"Seq\", \"Seq\", \"Uncl\"], \"write_pattern\": [\"Uncl\", \"Uncl\", \"Seq\", \"Seq\", \"Seq\", \"Seq\", \"Uncl\", \"Uncl\", \"Uncl\", \"Uncl\", \"Uncl\"], \"read_operations\": [0, 4619, 0, 0, 0, 0, 41718, 36479, 37166, 37166, 0], \"write_operations\": [0, 0, 18569, 18571, 17384, 18591, 0, 0, 0, 0, 0]}\n",
    "\n",
    "repr_length = len(job_representation[\"events\"])\n",
    "\n",
    "sbb_p_project_bw = {'read':  {'seq': 400, 'rand': 400},\n",
    "                        'write': {'seq': 295, 'rand': 295}}\n",
    "\n",
    "p_project_bw = {'read':  {'seq': 250, 'rand': 250},\n",
    "                    'write': {'seq': 100, 'rand': 100}}\n",
    "\n",
    "sbb_afsm_bw = {'read':  {'seq': 450, 'rand': 450},\n",
    "                        'write': {'seq': 96, 'rand': 96}}\n",
    "\n",
    "afsm_bw = {'read':  {'seq': 300, 'rand': 300},\n",
    "                        'write': {'seq': 95, 'rand': 95}}\n",
    "\n",
    "tiers = {\"afsm\": [afsm_bw, sbb_afsm_bw],\n",
    "         \"p_project\": [p_project_bw, sbb_p_project_bw]}\n",
    "\n",
    "\n",
    "tier = \"p_project\"\n",
    "\n",
    "print(f\"tier: {tier}\")\n",
    "for sbb_size in [0, 5e9, 10e9, 20e9, 30e9, 40e9, 50e9, 60e9, 70e9]:\n",
    "#for sbb_size in [10e9, 100e9]:\n",
    "    print(f\"sbb_size: {sbb_size}\")\n",
    "    t_start = time.time()\n",
    "    # sim env an data\n",
    "    env = simpy.Environment()\n",
    "    data = simpy.Store(env)\n",
    "    \n",
    "\n",
    "    # registering Tiers\n",
    "    hdd_tier = Tier(env, tier + \"_tier\", max_bandwidth=tiers[tier][0], capacity=1e12)\n",
    "    hdd_tier_destage = Tier(env, tier + \"_tier\", max_bandwidth=tiers[tier][0], capacity=1e12)\n",
    "    sbb_tier = Tier(env, tier + \"_tier\", max_bandwidth=tiers[tier][1], capacity=1e12)\n",
    "    \n",
    "    # bb = EphemeralTier(env, name='SBB_over_' + tier + \"_tier\", \n",
    "    #                    persistent_tier=hdd_tier_destage,\n",
    "    #                    max_bandwidth=tiers[tier][1], \n",
    "    #                    capacity=sbb_size)\n",
    "\n",
    "    # Define the cluster with 1 persistent and 1 ephemeral\n",
    "    # cluster = Cluster(env, compute_nodes=3, cores_per_node=2, tiers=[hdd_tier, ssd_tier], ephemeral_tier=bb)\n",
    "    cluster = Cluster(env, compute_nodes=2, cores_per_node=5,\n",
    "                      tiers=[hdd_tier, sbb_tier],)\n",
    "                      #ephemeral_tier=bb)\n",
    "\n",
    "    volumes = [job_representation[\"read_volumes\"][i] + \n",
    "            job_representation[\"write_volumes\"][i] for i in range(repr_length)]\n",
    "\n",
    "    use_sbb = [value <= sbb_size -10e9 for value in np.cumsum(volumes).tolist()]\n",
    "\n",
    "    print(f\"use_sbb: {use_sbb}\")\n",
    "\n",
    "    # Normalizing events to sampling period of 5s\n",
    "    __SAMPLING_PERIOD__ = 5\n",
    "    compute = [job_representation[\"events\"][i]*__SAMPLING_PERIOD__ for i in range(repr_length)]\n",
    "    #compute = [job_representation[\"events\"][i]*__SAMPLING_PERIOD__ - j for i, j in zip(range(repr_length), np.cumsum([int(value)*__SAMPLING_PERIOD__ for value in use_sbb]))]\n",
    "\n",
    "    app1 = Application(env, compute=compute,\n",
    "                            read=job_representation[\"read_volumes\"],\n",
    "                            write=job_representation[\"write_volumes\"],\n",
    "                            data=data)\n",
    "\n",
    "                            \n",
    "    \n",
    "    # logger\n",
    "    #env = simpy.Environment()\n",
    "    logger.remove()\n",
    "    t_start = time.time()\n",
    "    # simulate the app execution\n",
    "    t_start = time.time()\n",
    "    #app1 = Application(env, compute=[0,  10], read=[1e9, 0], write=[0, 5e9], data=data)\n",
    "    #app2 = Application(env, compute=[0, 5], read=[0, 2e9], write=[7e9, 0], data=data)\n",
    "    #env.process(app1.run(cluster, placement=[0]*repr_length, use_bb=use_sbb))\n",
    "    placement = [int(value) for value in use_sbb]\n",
    "    print(f\"placement: {placement}\")\n",
    "    env.process(app1.run(cluster, placement=[int(value) for value in use_sbb], use_bb=[0]*repr_length))\n",
    "    #env.process(app1.run(cluster, placement=[int(value) for value in use_sbb], use_bb=use_sbb))\n",
    "\n",
    "    env.run()\n",
    "\n",
    "    print(f\"application duration = {app1.get_fitness()}\")\n",
    "    # print(f\"total simulation duration is about {time.time()-t_start}\")\n",
    "    # fig = display_run(data, cluster, width=800, height=900)\n",
    "    # fig.show()"
   ]
  },
  {
   "cell_type": "markdown",
   "metadata": {},
   "source": [
    "### AFSM"
   ]
  },
  {
   "cell_type": "code",
   "execution_count": 17,
   "metadata": {},
   "outputs": [
    {
     "data": {
      "application/vnd.plotly.v1+json": {
       "config": {
        "plotlyServerURL": "https://plot.ly"
       },
       "data": [
        {
         "marker": {
          "color": "blue"
         },
         "mode": "markers",
         "name": "Measured BC Runtime",
         "type": "scatter",
         "x": [
          50,
          50,
          50,
          50,
          10,
          10,
          10,
          10,
          5,
          5,
          5,
          5
         ],
         "y": [
          1.000925925925926,
          1,
          1.0018518518518518,
          1.0055555555555555,
          1,
          1.0018518518518518,
          1.000925925925926,
          1.0092592592592593,
          1.012962962962963,
          1.0185185185185186,
          1.0212962962962964,
          1.0222222222222221
         ]
        },
        {
         "marker": {
          "color": "red"
         },
         "mode": "markers",
         "name": "(RecSys) Simulation Runtime",
         "type": "scatter",
         "x": [
          5,
          10,
          20,
          30,
          40,
          50
         ],
         "y": [
          1.0291557827392788,
          1.0282236685440627,
          1.0272425375390473,
          1.0262924551222992,
          1.017915861929398,
          1.010596628068287
         ]
        }
       ],
       "layout": {
        "legend": {
         "title": {
          "text": "Data for /afsm tier"
         }
        },
        "template": {
         "data": {
          "bar": [
           {
            "error_x": {
             "color": "#2a3f5f"
            },
            "error_y": {
             "color": "#2a3f5f"
            },
            "marker": {
             "line": {
              "color": "#E5ECF6",
              "width": 0.5
             },
             "pattern": {
              "fillmode": "overlay",
              "size": 10,
              "solidity": 0.2
             }
            },
            "type": "bar"
           }
          ],
          "barpolar": [
           {
            "marker": {
             "line": {
              "color": "#E5ECF6",
              "width": 0.5
             },
             "pattern": {
              "fillmode": "overlay",
              "size": 10,
              "solidity": 0.2
             }
            },
            "type": "barpolar"
           }
          ],
          "carpet": [
           {
            "aaxis": {
             "endlinecolor": "#2a3f5f",
             "gridcolor": "white",
             "linecolor": "white",
             "minorgridcolor": "white",
             "startlinecolor": "#2a3f5f"
            },
            "baxis": {
             "endlinecolor": "#2a3f5f",
             "gridcolor": "white",
             "linecolor": "white",
             "minorgridcolor": "white",
             "startlinecolor": "#2a3f5f"
            },
            "type": "carpet"
           }
          ],
          "choropleth": [
           {
            "colorbar": {
             "outlinewidth": 0,
             "ticks": ""
            },
            "type": "choropleth"
           }
          ],
          "contour": [
           {
            "colorbar": {
             "outlinewidth": 0,
             "ticks": ""
            },
            "colorscale": [
             [
              0,
              "#0d0887"
             ],
             [
              0.1111111111111111,
              "#46039f"
             ],
             [
              0.2222222222222222,
              "#7201a8"
             ],
             [
              0.3333333333333333,
              "#9c179e"
             ],
             [
              0.4444444444444444,
              "#bd3786"
             ],
             [
              0.5555555555555556,
              "#d8576b"
             ],
             [
              0.6666666666666666,
              "#ed7953"
             ],
             [
              0.7777777777777778,
              "#fb9f3a"
             ],
             [
              0.8888888888888888,
              "#fdca26"
             ],
             [
              1,
              "#f0f921"
             ]
            ],
            "type": "contour"
           }
          ],
          "contourcarpet": [
           {
            "colorbar": {
             "outlinewidth": 0,
             "ticks": ""
            },
            "type": "contourcarpet"
           }
          ],
          "heatmap": [
           {
            "colorbar": {
             "outlinewidth": 0,
             "ticks": ""
            },
            "colorscale": [
             [
              0,
              "#0d0887"
             ],
             [
              0.1111111111111111,
              "#46039f"
             ],
             [
              0.2222222222222222,
              "#7201a8"
             ],
             [
              0.3333333333333333,
              "#9c179e"
             ],
             [
              0.4444444444444444,
              "#bd3786"
             ],
             [
              0.5555555555555556,
              "#d8576b"
             ],
             [
              0.6666666666666666,
              "#ed7953"
             ],
             [
              0.7777777777777778,
              "#fb9f3a"
             ],
             [
              0.8888888888888888,
              "#fdca26"
             ],
             [
              1,
              "#f0f921"
             ]
            ],
            "type": "heatmap"
           }
          ],
          "heatmapgl": [
           {
            "colorbar": {
             "outlinewidth": 0,
             "ticks": ""
            },
            "colorscale": [
             [
              0,
              "#0d0887"
             ],
             [
              0.1111111111111111,
              "#46039f"
             ],
             [
              0.2222222222222222,
              "#7201a8"
             ],
             [
              0.3333333333333333,
              "#9c179e"
             ],
             [
              0.4444444444444444,
              "#bd3786"
             ],
             [
              0.5555555555555556,
              "#d8576b"
             ],
             [
              0.6666666666666666,
              "#ed7953"
             ],
             [
              0.7777777777777778,
              "#fb9f3a"
             ],
             [
              0.8888888888888888,
              "#fdca26"
             ],
             [
              1,
              "#f0f921"
             ]
            ],
            "type": "heatmapgl"
           }
          ],
          "histogram": [
           {
            "marker": {
             "pattern": {
              "fillmode": "overlay",
              "size": 10,
              "solidity": 0.2
             }
            },
            "type": "histogram"
           }
          ],
          "histogram2d": [
           {
            "colorbar": {
             "outlinewidth": 0,
             "ticks": ""
            },
            "colorscale": [
             [
              0,
              "#0d0887"
             ],
             [
              0.1111111111111111,
              "#46039f"
             ],
             [
              0.2222222222222222,
              "#7201a8"
             ],
             [
              0.3333333333333333,
              "#9c179e"
             ],
             [
              0.4444444444444444,
              "#bd3786"
             ],
             [
              0.5555555555555556,
              "#d8576b"
             ],
             [
              0.6666666666666666,
              "#ed7953"
             ],
             [
              0.7777777777777778,
              "#fb9f3a"
             ],
             [
              0.8888888888888888,
              "#fdca26"
             ],
             [
              1,
              "#f0f921"
             ]
            ],
            "type": "histogram2d"
           }
          ],
          "histogram2dcontour": [
           {
            "colorbar": {
             "outlinewidth": 0,
             "ticks": ""
            },
            "colorscale": [
             [
              0,
              "#0d0887"
             ],
             [
              0.1111111111111111,
              "#46039f"
             ],
             [
              0.2222222222222222,
              "#7201a8"
             ],
             [
              0.3333333333333333,
              "#9c179e"
             ],
             [
              0.4444444444444444,
              "#bd3786"
             ],
             [
              0.5555555555555556,
              "#d8576b"
             ],
             [
              0.6666666666666666,
              "#ed7953"
             ],
             [
              0.7777777777777778,
              "#fb9f3a"
             ],
             [
              0.8888888888888888,
              "#fdca26"
             ],
             [
              1,
              "#f0f921"
             ]
            ],
            "type": "histogram2dcontour"
           }
          ],
          "mesh3d": [
           {
            "colorbar": {
             "outlinewidth": 0,
             "ticks": ""
            },
            "type": "mesh3d"
           }
          ],
          "parcoords": [
           {
            "line": {
             "colorbar": {
              "outlinewidth": 0,
              "ticks": ""
             }
            },
            "type": "parcoords"
           }
          ],
          "pie": [
           {
            "automargin": true,
            "type": "pie"
           }
          ],
          "scatter": [
           {
            "fillpattern": {
             "fillmode": "overlay",
             "size": 10,
             "solidity": 0.2
            },
            "type": "scatter"
           }
          ],
          "scatter3d": [
           {
            "line": {
             "colorbar": {
              "outlinewidth": 0,
              "ticks": ""
             }
            },
            "marker": {
             "colorbar": {
              "outlinewidth": 0,
              "ticks": ""
             }
            },
            "type": "scatter3d"
           }
          ],
          "scattercarpet": [
           {
            "marker": {
             "colorbar": {
              "outlinewidth": 0,
              "ticks": ""
             }
            },
            "type": "scattercarpet"
           }
          ],
          "scattergeo": [
           {
            "marker": {
             "colorbar": {
              "outlinewidth": 0,
              "ticks": ""
             }
            },
            "type": "scattergeo"
           }
          ],
          "scattergl": [
           {
            "marker": {
             "colorbar": {
              "outlinewidth": 0,
              "ticks": ""
             }
            },
            "type": "scattergl"
           }
          ],
          "scattermapbox": [
           {
            "marker": {
             "colorbar": {
              "outlinewidth": 0,
              "ticks": ""
             }
            },
            "type": "scattermapbox"
           }
          ],
          "scatterpolar": [
           {
            "marker": {
             "colorbar": {
              "outlinewidth": 0,
              "ticks": ""
             }
            },
            "type": "scatterpolar"
           }
          ],
          "scatterpolargl": [
           {
            "marker": {
             "colorbar": {
              "outlinewidth": 0,
              "ticks": ""
             }
            },
            "type": "scatterpolargl"
           }
          ],
          "scatterternary": [
           {
            "marker": {
             "colorbar": {
              "outlinewidth": 0,
              "ticks": ""
             }
            },
            "type": "scatterternary"
           }
          ],
          "surface": [
           {
            "colorbar": {
             "outlinewidth": 0,
             "ticks": ""
            },
            "colorscale": [
             [
              0,
              "#0d0887"
             ],
             [
              0.1111111111111111,
              "#46039f"
             ],
             [
              0.2222222222222222,
              "#7201a8"
             ],
             [
              0.3333333333333333,
              "#9c179e"
             ],
             [
              0.4444444444444444,
              "#bd3786"
             ],
             [
              0.5555555555555556,
              "#d8576b"
             ],
             [
              0.6666666666666666,
              "#ed7953"
             ],
             [
              0.7777777777777778,
              "#fb9f3a"
             ],
             [
              0.8888888888888888,
              "#fdca26"
             ],
             [
              1,
              "#f0f921"
             ]
            ],
            "type": "surface"
           }
          ],
          "table": [
           {
            "cells": {
             "fill": {
              "color": "#EBF0F8"
             },
             "line": {
              "color": "white"
             }
            },
            "header": {
             "fill": {
              "color": "#C8D4E3"
             },
             "line": {
              "color": "white"
             }
            },
            "type": "table"
           }
          ]
         },
         "layout": {
          "annotationdefaults": {
           "arrowcolor": "#2a3f5f",
           "arrowhead": 0,
           "arrowwidth": 1
          },
          "autotypenumbers": "strict",
          "coloraxis": {
           "colorbar": {
            "outlinewidth": 0,
            "ticks": ""
           }
          },
          "colorscale": {
           "diverging": [
            [
             0,
             "#8e0152"
            ],
            [
             0.1,
             "#c51b7d"
            ],
            [
             0.2,
             "#de77ae"
            ],
            [
             0.3,
             "#f1b6da"
            ],
            [
             0.4,
             "#fde0ef"
            ],
            [
             0.5,
             "#f7f7f7"
            ],
            [
             0.6,
             "#e6f5d0"
            ],
            [
             0.7,
             "#b8e186"
            ],
            [
             0.8,
             "#7fbc41"
            ],
            [
             0.9,
             "#4d9221"
            ],
            [
             1,
             "#276419"
            ]
           ],
           "sequential": [
            [
             0,
             "#0d0887"
            ],
            [
             0.1111111111111111,
             "#46039f"
            ],
            [
             0.2222222222222222,
             "#7201a8"
            ],
            [
             0.3333333333333333,
             "#9c179e"
            ],
            [
             0.4444444444444444,
             "#bd3786"
            ],
            [
             0.5555555555555556,
             "#d8576b"
            ],
            [
             0.6666666666666666,
             "#ed7953"
            ],
            [
             0.7777777777777778,
             "#fb9f3a"
            ],
            [
             0.8888888888888888,
             "#fdca26"
            ],
            [
             1,
             "#f0f921"
            ]
           ],
           "sequentialminus": [
            [
             0,
             "#0d0887"
            ],
            [
             0.1111111111111111,
             "#46039f"
            ],
            [
             0.2222222222222222,
             "#7201a8"
            ],
            [
             0.3333333333333333,
             "#9c179e"
            ],
            [
             0.4444444444444444,
             "#bd3786"
            ],
            [
             0.5555555555555556,
             "#d8576b"
            ],
            [
             0.6666666666666666,
             "#ed7953"
            ],
            [
             0.7777777777777778,
             "#fb9f3a"
            ],
            [
             0.8888888888888888,
             "#fdca26"
            ],
            [
             1,
             "#f0f921"
            ]
           ]
          },
          "colorway": [
           "#636efa",
           "#EF553B",
           "#00cc96",
           "#ab63fa",
           "#FFA15A",
           "#19d3f3",
           "#FF6692",
           "#B6E880",
           "#FF97FF",
           "#FECB52"
          ],
          "font": {
           "color": "#2a3f5f"
          },
          "geo": {
           "bgcolor": "white",
           "lakecolor": "white",
           "landcolor": "#E5ECF6",
           "showlakes": true,
           "showland": true,
           "subunitcolor": "white"
          },
          "hoverlabel": {
           "align": "left"
          },
          "hovermode": "closest",
          "mapbox": {
           "style": "light"
          },
          "paper_bgcolor": "white",
          "plot_bgcolor": "#E5ECF6",
          "polar": {
           "angularaxis": {
            "gridcolor": "white",
            "linecolor": "white",
            "ticks": ""
           },
           "bgcolor": "#E5ECF6",
           "radialaxis": {
            "gridcolor": "white",
            "linecolor": "white",
            "ticks": ""
           }
          },
          "scene": {
           "xaxis": {
            "backgroundcolor": "#E5ECF6",
            "gridcolor": "white",
            "gridwidth": 2,
            "linecolor": "white",
            "showbackground": true,
            "ticks": "",
            "zerolinecolor": "white"
           },
           "yaxis": {
            "backgroundcolor": "#E5ECF6",
            "gridcolor": "white",
            "gridwidth": 2,
            "linecolor": "white",
            "showbackground": true,
            "ticks": "",
            "zerolinecolor": "white"
           },
           "zaxis": {
            "backgroundcolor": "#E5ECF6",
            "gridcolor": "white",
            "gridwidth": 2,
            "linecolor": "white",
            "showbackground": true,
            "ticks": "",
            "zerolinecolor": "white"
           }
          },
          "shapedefaults": {
           "line": {
            "color": "#2a3f5f"
           }
          },
          "ternary": {
           "aaxis": {
            "gridcolor": "white",
            "linecolor": "white",
            "ticks": ""
           },
           "baxis": {
            "gridcolor": "white",
            "linecolor": "white",
            "ticks": ""
           },
           "bgcolor": "#E5ECF6",
           "caxis": {
            "gridcolor": "white",
            "linecolor": "white",
            "ticks": ""
           }
          },
          "title": {
           "x": 0.05
          },
          "xaxis": {
           "automargin": true,
           "gridcolor": "white",
           "linecolor": "white",
           "ticks": "",
           "title": {
            "standoff": 15
           },
           "zerolinecolor": "white",
           "zerolinewidth": 2
          },
          "yaxis": {
           "automargin": true,
           "gridcolor": "white",
           "linecolor": "white",
           "ticks": "",
           "title": {
            "standoff": 15
           },
           "zerolinecolor": "white",
           "zerolinewidth": 2
          }
         }
        },
        "title": {
         "text": "Comparison of Step BC (from LQCD) Runtime and Simulation Runtime by Flavor"
        },
        "xaxis": {
         "title": {
          "text": "Flavor (GB)"
         }
        },
        "yaxis": {
         "range": [
          0.8981481481481481,
          1.0648148148148149
         ],
         "title": {
          "text": "Runtime (s)"
         }
        }
       }
      },
      "text/html": [
       "<div>                            <div id=\"41aeb473-9e40-4094-8fb3-ecf5e05c17da\" class=\"plotly-graph-div\" style=\"height:525px; width:100%;\"></div>            <script type=\"text/javascript\">                require([\"plotly\"], function(Plotly) {                    window.PLOTLYENV=window.PLOTLYENV || {};                                    if (document.getElementById(\"41aeb473-9e40-4094-8fb3-ecf5e05c17da\")) {                    Plotly.newPlot(                        \"41aeb473-9e40-4094-8fb3-ecf5e05c17da\",                        [{\"marker\":{\"color\":\"blue\"},\"mode\":\"markers\",\"name\":\"Measured BC Runtime\",\"x\":[50,50,50,50,10,10,10,10,5,5,5,5],\"y\":[1.000925925925926,1.0,1.0018518518518518,1.0055555555555555,1.0,1.0018518518518518,1.000925925925926,1.0092592592592593,1.012962962962963,1.0185185185185186,1.0212962962962964,1.0222222222222221],\"type\":\"scatter\"},{\"marker\":{\"color\":\"red\"},\"mode\":\"markers\",\"name\":\"(RecSys) Simulation Runtime\",\"x\":[5,10,20,30,40,50],\"y\":[1.0291557827392788,1.0282236685440627,1.0272425375390473,1.0262924551222992,1.017915861929398,1.010596628068287],\"type\":\"scatter\"}],                        {\"template\":{\"data\":{\"histogram2dcontour\":[{\"type\":\"histogram2dcontour\",\"colorbar\":{\"outlinewidth\":0,\"ticks\":\"\"},\"colorscale\":[[0.0,\"#0d0887\"],[0.1111111111111111,\"#46039f\"],[0.2222222222222222,\"#7201a8\"],[0.3333333333333333,\"#9c179e\"],[0.4444444444444444,\"#bd3786\"],[0.5555555555555556,\"#d8576b\"],[0.6666666666666666,\"#ed7953\"],[0.7777777777777778,\"#fb9f3a\"],[0.8888888888888888,\"#fdca26\"],[1.0,\"#f0f921\"]]}],\"choropleth\":[{\"type\":\"choropleth\",\"colorbar\":{\"outlinewidth\":0,\"ticks\":\"\"}}],\"histogram2d\":[{\"type\":\"histogram2d\",\"colorbar\":{\"outlinewidth\":0,\"ticks\":\"\"},\"colorscale\":[[0.0,\"#0d0887\"],[0.1111111111111111,\"#46039f\"],[0.2222222222222222,\"#7201a8\"],[0.3333333333333333,\"#9c179e\"],[0.4444444444444444,\"#bd3786\"],[0.5555555555555556,\"#d8576b\"],[0.6666666666666666,\"#ed7953\"],[0.7777777777777778,\"#fb9f3a\"],[0.8888888888888888,\"#fdca26\"],[1.0,\"#f0f921\"]]}],\"heatmap\":[{\"type\":\"heatmap\",\"colorbar\":{\"outlinewidth\":0,\"ticks\":\"\"},\"colorscale\":[[0.0,\"#0d0887\"],[0.1111111111111111,\"#46039f\"],[0.2222222222222222,\"#7201a8\"],[0.3333333333333333,\"#9c179e\"],[0.4444444444444444,\"#bd3786\"],[0.5555555555555556,\"#d8576b\"],[0.6666666666666666,\"#ed7953\"],[0.7777777777777778,\"#fb9f3a\"],[0.8888888888888888,\"#fdca26\"],[1.0,\"#f0f921\"]]}],\"heatmapgl\":[{\"type\":\"heatmapgl\",\"colorbar\":{\"outlinewidth\":0,\"ticks\":\"\"},\"colorscale\":[[0.0,\"#0d0887\"],[0.1111111111111111,\"#46039f\"],[0.2222222222222222,\"#7201a8\"],[0.3333333333333333,\"#9c179e\"],[0.4444444444444444,\"#bd3786\"],[0.5555555555555556,\"#d8576b\"],[0.6666666666666666,\"#ed7953\"],[0.7777777777777778,\"#fb9f3a\"],[0.8888888888888888,\"#fdca26\"],[1.0,\"#f0f921\"]]}],\"contourcarpet\":[{\"type\":\"contourcarpet\",\"colorbar\":{\"outlinewidth\":0,\"ticks\":\"\"}}],\"contour\":[{\"type\":\"contour\",\"colorbar\":{\"outlinewidth\":0,\"ticks\":\"\"},\"colorscale\":[[0.0,\"#0d0887\"],[0.1111111111111111,\"#46039f\"],[0.2222222222222222,\"#7201a8\"],[0.3333333333333333,\"#9c179e\"],[0.4444444444444444,\"#bd3786\"],[0.5555555555555556,\"#d8576b\"],[0.6666666666666666,\"#ed7953\"],[0.7777777777777778,\"#fb9f3a\"],[0.8888888888888888,\"#fdca26\"],[1.0,\"#f0f921\"]]}],\"surface\":[{\"type\":\"surface\",\"colorbar\":{\"outlinewidth\":0,\"ticks\":\"\"},\"colorscale\":[[0.0,\"#0d0887\"],[0.1111111111111111,\"#46039f\"],[0.2222222222222222,\"#7201a8\"],[0.3333333333333333,\"#9c179e\"],[0.4444444444444444,\"#bd3786\"],[0.5555555555555556,\"#d8576b\"],[0.6666666666666666,\"#ed7953\"],[0.7777777777777778,\"#fb9f3a\"],[0.8888888888888888,\"#fdca26\"],[1.0,\"#f0f921\"]]}],\"mesh3d\":[{\"type\":\"mesh3d\",\"colorbar\":{\"outlinewidth\":0,\"ticks\":\"\"}}],\"scatter\":[{\"fillpattern\":{\"fillmode\":\"overlay\",\"size\":10,\"solidity\":0.2},\"type\":\"scatter\"}],\"parcoords\":[{\"type\":\"parcoords\",\"line\":{\"colorbar\":{\"outlinewidth\":0,\"ticks\":\"\"}}}],\"scatterpolargl\":[{\"type\":\"scatterpolargl\",\"marker\":{\"colorbar\":{\"outlinewidth\":0,\"ticks\":\"\"}}}],\"bar\":[{\"error_x\":{\"color\":\"#2a3f5f\"},\"error_y\":{\"color\":\"#2a3f5f\"},\"marker\":{\"line\":{\"color\":\"#E5ECF6\",\"width\":0.5},\"pattern\":{\"fillmode\":\"overlay\",\"size\":10,\"solidity\":0.2}},\"type\":\"bar\"}],\"scattergeo\":[{\"type\":\"scattergeo\",\"marker\":{\"colorbar\":{\"outlinewidth\":0,\"ticks\":\"\"}}}],\"scatterpolar\":[{\"type\":\"scatterpolar\",\"marker\":{\"colorbar\":{\"outlinewidth\":0,\"ticks\":\"\"}}}],\"histogram\":[{\"marker\":{\"pattern\":{\"fillmode\":\"overlay\",\"size\":10,\"solidity\":0.2}},\"type\":\"histogram\"}],\"scattergl\":[{\"type\":\"scattergl\",\"marker\":{\"colorbar\":{\"outlinewidth\":0,\"ticks\":\"\"}}}],\"scatter3d\":[{\"type\":\"scatter3d\",\"line\":{\"colorbar\":{\"outlinewidth\":0,\"ticks\":\"\"}},\"marker\":{\"colorbar\":{\"outlinewidth\":0,\"ticks\":\"\"}}}],\"scattermapbox\":[{\"type\":\"scattermapbox\",\"marker\":{\"colorbar\":{\"outlinewidth\":0,\"ticks\":\"\"}}}],\"scatterternary\":[{\"type\":\"scatterternary\",\"marker\":{\"colorbar\":{\"outlinewidth\":0,\"ticks\":\"\"}}}],\"scattercarpet\":[{\"type\":\"scattercarpet\",\"marker\":{\"colorbar\":{\"outlinewidth\":0,\"ticks\":\"\"}}}],\"carpet\":[{\"aaxis\":{\"endlinecolor\":\"#2a3f5f\",\"gridcolor\":\"white\",\"linecolor\":\"white\",\"minorgridcolor\":\"white\",\"startlinecolor\":\"#2a3f5f\"},\"baxis\":{\"endlinecolor\":\"#2a3f5f\",\"gridcolor\":\"white\",\"linecolor\":\"white\",\"minorgridcolor\":\"white\",\"startlinecolor\":\"#2a3f5f\"},\"type\":\"carpet\"}],\"table\":[{\"cells\":{\"fill\":{\"color\":\"#EBF0F8\"},\"line\":{\"color\":\"white\"}},\"header\":{\"fill\":{\"color\":\"#C8D4E3\"},\"line\":{\"color\":\"white\"}},\"type\":\"table\"}],\"barpolar\":[{\"marker\":{\"line\":{\"color\":\"#E5ECF6\",\"width\":0.5},\"pattern\":{\"fillmode\":\"overlay\",\"size\":10,\"solidity\":0.2}},\"type\":\"barpolar\"}],\"pie\":[{\"automargin\":true,\"type\":\"pie\"}]},\"layout\":{\"autotypenumbers\":\"strict\",\"colorway\":[\"#636efa\",\"#EF553B\",\"#00cc96\",\"#ab63fa\",\"#FFA15A\",\"#19d3f3\",\"#FF6692\",\"#B6E880\",\"#FF97FF\",\"#FECB52\"],\"font\":{\"color\":\"#2a3f5f\"},\"hovermode\":\"closest\",\"hoverlabel\":{\"align\":\"left\"},\"paper_bgcolor\":\"white\",\"plot_bgcolor\":\"#E5ECF6\",\"polar\":{\"bgcolor\":\"#E5ECF6\",\"angularaxis\":{\"gridcolor\":\"white\",\"linecolor\":\"white\",\"ticks\":\"\"},\"radialaxis\":{\"gridcolor\":\"white\",\"linecolor\":\"white\",\"ticks\":\"\"}},\"ternary\":{\"bgcolor\":\"#E5ECF6\",\"aaxis\":{\"gridcolor\":\"white\",\"linecolor\":\"white\",\"ticks\":\"\"},\"baxis\":{\"gridcolor\":\"white\",\"linecolor\":\"white\",\"ticks\":\"\"},\"caxis\":{\"gridcolor\":\"white\",\"linecolor\":\"white\",\"ticks\":\"\"}},\"coloraxis\":{\"colorbar\":{\"outlinewidth\":0,\"ticks\":\"\"}},\"colorscale\":{\"sequential\":[[0.0,\"#0d0887\"],[0.1111111111111111,\"#46039f\"],[0.2222222222222222,\"#7201a8\"],[0.3333333333333333,\"#9c179e\"],[0.4444444444444444,\"#bd3786\"],[0.5555555555555556,\"#d8576b\"],[0.6666666666666666,\"#ed7953\"],[0.7777777777777778,\"#fb9f3a\"],[0.8888888888888888,\"#fdca26\"],[1.0,\"#f0f921\"]],\"sequentialminus\":[[0.0,\"#0d0887\"],[0.1111111111111111,\"#46039f\"],[0.2222222222222222,\"#7201a8\"],[0.3333333333333333,\"#9c179e\"],[0.4444444444444444,\"#bd3786\"],[0.5555555555555556,\"#d8576b\"],[0.6666666666666666,\"#ed7953\"],[0.7777777777777778,\"#fb9f3a\"],[0.8888888888888888,\"#fdca26\"],[1.0,\"#f0f921\"]],\"diverging\":[[0,\"#8e0152\"],[0.1,\"#c51b7d\"],[0.2,\"#de77ae\"],[0.3,\"#f1b6da\"],[0.4,\"#fde0ef\"],[0.5,\"#f7f7f7\"],[0.6,\"#e6f5d0\"],[0.7,\"#b8e186\"],[0.8,\"#7fbc41\"],[0.9,\"#4d9221\"],[1,\"#276419\"]]},\"xaxis\":{\"gridcolor\":\"white\",\"linecolor\":\"white\",\"ticks\":\"\",\"title\":{\"standoff\":15},\"zerolinecolor\":\"white\",\"automargin\":true,\"zerolinewidth\":2},\"yaxis\":{\"gridcolor\":\"white\",\"linecolor\":\"white\",\"ticks\":\"\",\"title\":{\"standoff\":15},\"zerolinecolor\":\"white\",\"automargin\":true,\"zerolinewidth\":2},\"scene\":{\"xaxis\":{\"backgroundcolor\":\"#E5ECF6\",\"gridcolor\":\"white\",\"linecolor\":\"white\",\"showbackground\":true,\"ticks\":\"\",\"zerolinecolor\":\"white\",\"gridwidth\":2},\"yaxis\":{\"backgroundcolor\":\"#E5ECF6\",\"gridcolor\":\"white\",\"linecolor\":\"white\",\"showbackground\":true,\"ticks\":\"\",\"zerolinecolor\":\"white\",\"gridwidth\":2},\"zaxis\":{\"backgroundcolor\":\"#E5ECF6\",\"gridcolor\":\"white\",\"linecolor\":\"white\",\"showbackground\":true,\"ticks\":\"\",\"zerolinecolor\":\"white\",\"gridwidth\":2}},\"shapedefaults\":{\"line\":{\"color\":\"#2a3f5f\"}},\"annotationdefaults\":{\"arrowcolor\":\"#2a3f5f\",\"arrowhead\":0,\"arrowwidth\":1},\"geo\":{\"bgcolor\":\"white\",\"landcolor\":\"#E5ECF6\",\"subunitcolor\":\"white\",\"showland\":true,\"showlakes\":true,\"lakecolor\":\"white\"},\"title\":{\"x\":0.05},\"mapbox\":{\"style\":\"light\"}}},\"yaxis\":{\"title\":{\"text\":\"Runtime (s)\"},\"range\":[0.8981481481481481,1.0648148148148149]},\"title\":{\"text\":\"Comparison of Step BC (from LQCD) Runtime and Simulation Runtime by Flavor\"},\"xaxis\":{\"title\":{\"text\":\"Flavor (GB)\"}},\"legend\":{\"title\":{\"text\":\"Data for /afsm tier\"}}},                        {\"responsive\": true}                    ).then(function(){\n",
       "                            \n",
       "var gd = document.getElementById('41aeb473-9e40-4094-8fb3-ecf5e05c17da');\n",
       "var x = new MutationObserver(function (mutations, observer) {{\n",
       "        var display = window.getComputedStyle(gd).display;\n",
       "        if (!display || display === 'none') {{\n",
       "            console.log([gd, 'removed!']);\n",
       "            Plotly.purge(gd);\n",
       "            observer.disconnect();\n",
       "        }}\n",
       "}});\n",
       "\n",
       "// Listen for the removal of the full notebook cells\n",
       "var notebookContainer = gd.closest('#notebook-container');\n",
       "if (notebookContainer) {{\n",
       "    x.observe(notebookContainer, {childList: true});\n",
       "}}\n",
       "\n",
       "// Listen for the clearing of the current output cell\n",
       "var outputEl = gd.closest('.output');\n",
       "if (outputEl) {{\n",
       "    x.observe(outputEl, {childList: true});\n",
       "}}\n",
       "\n",
       "                        })                };                });            </script>        </div>"
      ]
     },
     "metadata": {},
     "output_type": "display_data"
    }
   ],
   "source": [
    "import plotly.graph_objects as go\n",
    "\n",
    "csv_data = \"\"\"\n",
    "Flavor,Step BC Runtime (s)\n",
    "50,1081\n",
    "50,1080\n",
    "50,1082\n",
    "50,1086\n",
    "10,1080\n",
    "10,1082\n",
    "10,1081\n",
    "10,1090\n",
    "5,1094\n",
    "5,1100\n",
    "5,1103\n",
    "5,1104\n",
    "\"\"\"\n",
    "\n",
    "# Update the second dataset with the new values\n",
    "csv_data_2_updated = \"\"\"\n",
    "Flavor,Simulation Runtime (s)\n",
    "5, 1111.488245358421\n",
    "10, 1110.4815620275876\n",
    "20, 1109.4219405421711\n",
    "30, 1108.395851532083\n",
    "40, 1099.34913088375\n",
    "50, 1091.44435831375\n",
    "\"\"\"\n",
    "\n",
    "# Re-convert the updated CSV data for the simulation runtime to ensure it's in the correct format\n",
    "data_1 = pd.read_csv(StringIO(csv_data), skipinitialspace=True)\n",
    "data_2_updated = pd.read_csv(StringIO(csv_data_2_updated), skipinitialspace=True)\n",
    "\n",
    "# Creating the Plotly figure\n",
    "fig = go.Figure()\n",
    "\n",
    "ref_value = 1080 #1 or 1080\n",
    "# Adding the Step BC Runtime scatter plot\n",
    "fig.add_trace(go.Scatter(x=data_1['Flavor'], y=data_1['Step BC Runtime (s)']/ref_value,\n",
    "                         mode='markers', name='Measured BC Runtime',\n",
    "                         marker=dict(color='blue')))\n",
    "\n",
    "# Adding the Simulation Runtime scatter plot with updated values\n",
    "fig.add_trace(go.Scatter(x=data_2_updated['Flavor'], \n",
    "                         y=data_2_updated['Simulation Runtime (s)']/ref_value,\n",
    "                         mode='markers', name='(RecSys) Simulation Runtime',\n",
    "                         marker=dict(color='red')))\n",
    "\n",
    "# Updating layout with titles, labels, and setting y-axis range\n",
    "fig.update_layout(title='Comparison of Step BC (from LQCD) Runtime and Simulation Runtime by Flavor',\n",
    "                  xaxis_title='Flavor (GB)',\n",
    "                  yaxis_title='Runtime (s)',   \n",
    "                  yaxis=dict(range=[970/ref_value, 1150/ref_value]),  # Setting the span of y-axis\n",
    "                  legend_title=\"Data for /afsm tier\")\n",
    "\n",
    "fig.show()\n"
   ]
  }
 ],
 "metadata": {
  "kernelspec": {
   "display_name": "iosea-venv-310",
   "language": "python",
   "name": "python3"
  },
  "language_info": {
   "codemirror_mode": {
    "name": "ipython",
    "version": 3
   },
   "file_extension": ".py",
   "mimetype": "text/x-python",
   "name": "python",
   "nbconvert_exporter": "python",
   "pygments_lexer": "ipython3",
   "version": "3.10.4"
  }
 },
 "nbformat": 4,
 "nbformat_minor": 2
}
